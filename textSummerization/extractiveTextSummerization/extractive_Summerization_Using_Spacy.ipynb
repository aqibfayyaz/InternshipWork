{
 "cells": [
  {
   "cell_type": "markdown",
   "id": "sought-sheffield",
   "metadata": {},
   "source": [
    "import spacy\n",
    "from spacy.lang.en.stop_words import STOP_WORDS\n",
    "from string import punctuation"
   ]
  },
  {
   "cell_type": "code",
   "execution_count": 1,
   "id": "private-arbitration",
   "metadata": {},
   "outputs": [],
   "source": [
    "import spacy\n",
    "from spacy.lang.en.stop_words import STOP_WORDS \n",
    "from string import punctuation"
   ]
  },
  {
   "cell_type": "code",
   "execution_count": 2,
   "id": "permanent-arena",
   "metadata": {},
   "outputs": [],
   "source": [
    "text = \"\"\"\n",
    "There are broadly two types of extractive summarization tasks depending on what the summarization program focuses on. The first is generic summarization, which focuses on obtaining a generic summary or abstract of the collection (whether documents, or sets of images, or videos, news stories etc.). The second is query relevant summarization, sometimes called query-based summarization, which summarizes objects specific to a query. Summarization systems are able to create both query relevant text summaries and generic machine-generated summaries depending on what the user needs.\n",
    "An example of a summarization problem is document summarization, which attempts to automatically produce an abstract from a given document. Sometimes one might be interested in generating a summary from a single source document, while others can use multiple source documents (for example, a cluster of articles on the same topic). This problem is called multi-document summarization. A related application is summarizing news articles. Imagine a system, which automatically pulls together news articles on a given topic (from the web), and concisely represents the latest news as a summary.\n",
    "Image collection summarization is another application example of automatic summarization. It consists in selecting a representative set of images from a larger set of images.[3] A summary in this context is useful to show the most representative images of results in an image collection exploration system. Video summarization is a related domain, where the system automatically creates a trailer of a long video. This also has applications in consumer or personal videos, where one might want to skip the boring or repetitive actions. Similarly, in surveillance videos, one would want to extract important and suspicious activity, while ignoring all the boring and redundant frames captured.\n",
    "\"\"\""
   ]
  },
  {
   "cell_type": "code",
   "execution_count": 3,
   "id": "medical-domain",
   "metadata": {},
   "outputs": [
    {
     "data": {
      "text/plain": [
       "['due',\n",
       " 'else',\n",
       " 'forty',\n",
       " 'name',\n",
       " 'we',\n",
       " 'within',\n",
       " 'and',\n",
       " 'behind',\n",
       " 'five',\n",
       " 'namely',\n",
       " 'third',\n",
       " 'without',\n",
       " 'ten',\n",
       " 'empty',\n",
       " 'if',\n",
       " 'two',\n",
       " 'doing',\n",
       " \"'d\",\n",
       " 'no',\n",
       " 'made',\n",
       " 'however',\n",
       " 'throughout',\n",
       " 'but',\n",
       " 'had',\n",
       " 'call',\n",
       " 'all',\n",
       " 'other',\n",
       " 'up',\n",
       " 'keep',\n",
       " 'most',\n",
       " 'thru',\n",
       " 'further',\n",
       " 'could',\n",
       " 'that',\n",
       " 'when',\n",
       " 'hers',\n",
       " 'should',\n",
       " 'into',\n",
       " 'yourself',\n",
       " 'anyhow',\n",
       " 'is',\n",
       " 'my',\n",
       " 'get',\n",
       " '‘m',\n",
       " 'there',\n",
       " 'himself',\n",
       " 'among',\n",
       " 'been',\n",
       " 'anyway',\n",
       " 'has',\n",
       " 'somewhere',\n",
       " 'even',\n",
       " 'wherein',\n",
       " 'besides',\n",
       " 'quite',\n",
       " 'because',\n",
       " 'how',\n",
       " 'hereupon',\n",
       " 'being',\n",
       " 'above',\n",
       " 'elsewhere',\n",
       " 'unless',\n",
       " 'whenever',\n",
       " '’m',\n",
       " 'this',\n",
       " 'regarding',\n",
       " 'first',\n",
       " '’re',\n",
       " 'them',\n",
       " 'though',\n",
       " 'last',\n",
       " 'seeming',\n",
       " 'almost',\n",
       " 'he',\n",
       " 'using',\n",
       " 'only',\n",
       " 'via',\n",
       " 'him',\n",
       " 'herein',\n",
       " 'whereas',\n",
       " 'one',\n",
       " 'or',\n",
       " 'take',\n",
       " 'after',\n",
       " 'move',\n",
       " 'more',\n",
       " 'any',\n",
       " 'those',\n",
       " '‘s',\n",
       " '’d',\n",
       " 'am',\n",
       " 'many',\n",
       " 'their',\n",
       " 'at',\n",
       " 'once',\n",
       " 'really',\n",
       " 'hence',\n",
       " 'through',\n",
       " 'side',\n",
       " 'neither',\n",
       " 'another',\n",
       " 'whole',\n",
       " 'just',\n",
       " 'every',\n",
       " 'eleven',\n",
       " 'i',\n",
       " 'by',\n",
       " 'seemed',\n",
       " 'between',\n",
       " 'ca',\n",
       " 'out',\n",
       " 'while',\n",
       " 'along',\n",
       " 'therein',\n",
       " 'fifteen',\n",
       " 'itself',\n",
       " 'same',\n",
       " 'until',\n",
       " 'whence',\n",
       " 'yourselves',\n",
       " 'they',\n",
       " 'put',\n",
       " 'to',\n",
       " 'both',\n",
       " 'will',\n",
       " 'ourselves',\n",
       " 'thence',\n",
       " 'anywhere',\n",
       " 'former',\n",
       " 'everyone',\n",
       " 'his',\n",
       " \"'s\",\n",
       " \"'ve\",\n",
       " 'whereupon',\n",
       " 'noone',\n",
       " 'several',\n",
       " 'others',\n",
       " 'towards',\n",
       " 'too',\n",
       " 're',\n",
       " 'formerly',\n",
       " 'nine',\n",
       " 'please',\n",
       " 'few',\n",
       " 'were',\n",
       " 'back',\n",
       " 'may',\n",
       " 'part',\n",
       " 'nevertheless',\n",
       " 'during',\n",
       " '’ll',\n",
       " 'some',\n",
       " 'alone',\n",
       " 'becoming',\n",
       " 'as',\n",
       " 'which',\n",
       " 'somehow',\n",
       " 'such',\n",
       " 'well',\n",
       " 'eight',\n",
       " 'its',\n",
       " 'where',\n",
       " 'whereafter',\n",
       " 'wherever',\n",
       " 'hundred',\n",
       " 'otherwise',\n",
       " 'four',\n",
       " 'something',\n",
       " 'nothing',\n",
       " 'whither',\n",
       " 'be',\n",
       " 'together',\n",
       " 'bottom',\n",
       " 'ours',\n",
       " 'thereby',\n",
       " 'beside',\n",
       " 'since',\n",
       " 'down',\n",
       " 'latter',\n",
       " 'done',\n",
       " 'always',\n",
       " 'already',\n",
       " 'from',\n",
       " '‘d',\n",
       " 'never',\n",
       " 'thereupon',\n",
       " 'top',\n",
       " 'everything',\n",
       " 'becomes',\n",
       " 'serious',\n",
       " 'front',\n",
       " 'do',\n",
       " 'full',\n",
       " 'each',\n",
       " '’s',\n",
       " 'hereby',\n",
       " '‘ve',\n",
       " 'fifty',\n",
       " 'hereafter',\n",
       " 'are',\n",
       " 'see',\n",
       " 'say',\n",
       " 'seem',\n",
       " 'then',\n",
       " 'sometime',\n",
       " 'what',\n",
       " 'everywhere',\n",
       " 'mostly',\n",
       " 'although',\n",
       " 'become',\n",
       " \"'ll\",\n",
       " 'against',\n",
       " 'own',\n",
       " 'three',\n",
       " 'became',\n",
       " \"'m\",\n",
       " 'twelve',\n",
       " 'myself',\n",
       " 'anyone',\n",
       " 'cannot',\n",
       " 'toward',\n",
       " 'was',\n",
       " 'less',\n",
       " 'before',\n",
       " 'next',\n",
       " 'again',\n",
       " 'whereby',\n",
       " 'amongst',\n",
       " 'over',\n",
       " 'n‘t',\n",
       " 'sixty',\n",
       " 'onto',\n",
       " \"n't\",\n",
       " 'an',\n",
       " 'indeed',\n",
       " 'none',\n",
       " 'thereafter',\n",
       " 'yours',\n",
       " 'would',\n",
       " 'used',\n",
       " 'very',\n",
       " 'across',\n",
       " 'must',\n",
       " 'least',\n",
       " 'n’t',\n",
       " 'for',\n",
       " 'herself',\n",
       " 'make',\n",
       " 'beforehand',\n",
       " 'here',\n",
       " 'us',\n",
       " 'either',\n",
       " 'nor',\n",
       " 'have',\n",
       " 'per',\n",
       " 'around',\n",
       " 'in',\n",
       " 'thus',\n",
       " 'whose',\n",
       " 'than',\n",
       " 'ever',\n",
       " 'afterwards',\n",
       " 'on',\n",
       " 'she',\n",
       " 'also',\n",
       " 'about',\n",
       " '‘ll',\n",
       " '‘re',\n",
       " 'now',\n",
       " 'show',\n",
       " 'give',\n",
       " '’ve',\n",
       " 'it',\n",
       " 'whatever',\n",
       " 'themselves',\n",
       " 'nobody',\n",
       " 'seems',\n",
       " 'so',\n",
       " 'you',\n",
       " 'except',\n",
       " 'much',\n",
       " 'below',\n",
       " 'whoever',\n",
       " 'her',\n",
       " 'these',\n",
       " 'of',\n",
       " 'our',\n",
       " 'often',\n",
       " 'perhaps',\n",
       " 'whether',\n",
       " 'why',\n",
       " 'nowhere',\n",
       " 'anything',\n",
       " 'beyond',\n",
       " 'might',\n",
       " 'the',\n",
       " 'amount',\n",
       " 'meanwhile',\n",
       " 'latterly',\n",
       " 'six',\n",
       " 'under',\n",
       " 'does',\n",
       " 'therefore',\n",
       " 'upon',\n",
       " 'did',\n",
       " 'can',\n",
       " 'someone',\n",
       " 'go',\n",
       " 'various',\n",
       " 'who',\n",
       " 'your',\n",
       " 'rather',\n",
       " 'twenty',\n",
       " \"'re\",\n",
       " 'not',\n",
       " 'a',\n",
       " 'mine',\n",
       " 'yet',\n",
       " 'enough',\n",
       " 'off',\n",
       " 'whom',\n",
       " 'me',\n",
       " 'sometimes',\n",
       " 'moreover',\n",
       " 'with',\n",
       " 'still']"
      ]
     },
     "execution_count": 3,
     "metadata": {},
     "output_type": "execute_result"
    }
   ],
   "source": [
    "stopwords = list(STOP_WORDS)\n",
    "stopwords"
   ]
  },
  {
   "cell_type": "code",
   "execution_count": 4,
   "id": "african-alcohol",
   "metadata": {},
   "outputs": [],
   "source": [
    "nlp = spacy.load('en_core_web_sm')"
   ]
  },
  {
   "cell_type": "code",
   "execution_count": 5,
   "id": "spectacular-interpretation",
   "metadata": {},
   "outputs": [
    {
     "data": {
      "text/plain": [
       "\n",
       "There are broadly two types of extractive summarization tasks depending on what the summarization program focuses on. The first is generic summarization, which focuses on obtaining a generic summary or abstract of the collection (whether documents, or sets of images, or videos, news stories etc.). The second is query relevant summarization, sometimes called query-based summarization, which summarizes objects specific to a query. Summarization systems are able to create both query relevant text summaries and generic machine-generated summaries depending on what the user needs.\n",
       "An example of a summarization problem is document summarization, which attempts to automatically produce an abstract from a given document. Sometimes one might be interested in generating a summary from a single source document, while others can use multiple source documents (for example, a cluster of articles on the same topic). This problem is called multi-document summarization. A related application is summarizing news articles. Imagine a system, which automatically pulls together news articles on a given topic (from the web), and concisely represents the latest news as a summary.\n",
       "Image collection summarization is another application example of automatic summarization. It consists in selecting a representative set of images from a larger set of images.[3] A summary in this context is useful to show the most representative images of results in an image collection exploration system. Video summarization is a related domain, where the system automatically creates a trailer of a long video. This also has applications in consumer or personal videos, where one might want to skip the boring or repetitive actions. Similarly, in surveillance videos, one would want to extract important and suspicious activity, while ignoring all the boring and redundant frames captured."
      ]
     },
     "execution_count": 5,
     "metadata": {},
     "output_type": "execute_result"
    }
   ],
   "source": [
    "doc = nlp(text)\n",
    "doc"
   ]
  },
  {
   "cell_type": "code",
   "execution_count": 6,
   "id": "dense-punishment",
   "metadata": {},
   "outputs": [
    {
     "data": {
      "text/plain": [
       "list"
      ]
     },
     "execution_count": 6,
     "metadata": {},
     "output_type": "execute_result"
    }
   ],
   "source": [
    "'''tokens = [token.text for token in doc]\n",
    "print(tokens)'''\n",
    "\n",
    "tokens = [token.text for token in doc]\n",
    "tokens\n",
    "type(tokens)"
   ]
  },
  {
   "cell_type": "code",
   "execution_count": 7,
   "id": "subtle-indie",
   "metadata": {},
   "outputs": [
    {
     "name": "stdout",
     "output_type": "stream",
     "text": [
      "\n",
      "\n",
      "There\n",
      "are\n",
      "broadly\n",
      "two\n",
      "types\n",
      "of\n",
      "extractive\n",
      "summarization\n",
      "tasks\n",
      "depending\n",
      "on\n",
      "what\n",
      "the\n",
      "summarization\n",
      "program\n",
      "focuses\n",
      "on\n",
      ".\n",
      "The\n",
      "first\n",
      "is\n",
      "generic\n",
      "summarization\n",
      ",\n",
      "which\n",
      "focuses\n",
      "on\n",
      "obtaining\n",
      "a\n",
      "generic\n",
      "summary\n",
      "or\n",
      "abstract\n",
      "of\n",
      "the\n",
      "collection\n",
      "(\n",
      "whether\n",
      "documents\n",
      ",\n",
      "or\n",
      "sets\n",
      "of\n",
      "images\n",
      ",\n",
      "or\n",
      "videos\n",
      ",\n",
      "news\n",
      "stories\n",
      "etc\n",
      ".\n",
      ")\n",
      ".\n",
      "The\n",
      "second\n",
      "is\n",
      "query\n",
      "relevant\n",
      "summarization\n",
      ",\n",
      "sometimes\n",
      "called\n",
      "query\n",
      "-\n",
      "based\n",
      "summarization\n",
      ",\n",
      "which\n",
      "summarizes\n",
      "objects\n",
      "specific\n",
      "to\n",
      "a\n",
      "query\n",
      ".\n",
      "Summarization\n",
      "systems\n",
      "are\n",
      "able\n",
      "to\n",
      "create\n",
      "both\n",
      "query\n",
      "relevant\n",
      "text\n",
      "summaries\n",
      "and\n",
      "generic\n",
      "machine\n",
      "-\n",
      "generated\n",
      "summaries\n",
      "depending\n",
      "on\n",
      "what\n",
      "the\n",
      "user\n",
      "needs\n",
      ".\n",
      "\n",
      "\n",
      "An\n",
      "example\n",
      "of\n",
      "a\n",
      "summarization\n",
      "problem\n",
      "is\n",
      "document\n",
      "summarization\n",
      ",\n",
      "which\n",
      "attempts\n",
      "to\n",
      "automatically\n",
      "produce\n",
      "an\n",
      "abstract\n",
      "from\n",
      "a\n",
      "given\n",
      "document\n",
      ".\n",
      "Sometimes\n",
      "one\n",
      "might\n",
      "be\n",
      "interested\n",
      "in\n",
      "generating\n",
      "a\n",
      "summary\n",
      "from\n",
      "a\n",
      "single\n",
      "source\n",
      "document\n",
      ",\n",
      "while\n",
      "others\n",
      "can\n",
      "use\n",
      "multiple\n",
      "source\n",
      "documents\n",
      "(\n",
      "for\n",
      "example\n",
      ",\n",
      "a\n",
      "cluster\n",
      "of\n",
      "articles\n",
      "on\n",
      "the\n",
      "same\n",
      "topic\n",
      ")\n",
      ".\n",
      "This\n",
      "problem\n",
      "is\n",
      "called\n",
      "multi\n",
      "-\n",
      "document\n",
      "summarization\n",
      ".\n",
      "A\n",
      "related\n",
      "application\n",
      "is\n",
      "summarizing\n",
      "news\n",
      "articles\n",
      ".\n",
      "Imagine\n",
      "a\n",
      "system\n",
      ",\n",
      "which\n",
      "automatically\n",
      "pulls\n",
      "together\n",
      "news\n",
      "articles\n",
      "on\n",
      "a\n",
      "given\n",
      "topic\n",
      "(\n",
      "from\n",
      "the\n",
      "web\n",
      ")\n",
      ",\n",
      "and\n",
      "concisely\n",
      "represents\n",
      "the\n",
      "latest\n",
      "news\n",
      "as\n",
      "a\n",
      "summary\n",
      ".\n",
      "\n",
      "\n",
      "Image\n",
      "collection\n",
      "summarization\n",
      "is\n",
      "another\n",
      "application\n",
      "example\n",
      "of\n",
      "automatic\n",
      "summarization\n",
      ".\n",
      "It\n",
      "consists\n",
      "in\n",
      "selecting\n",
      "a\n",
      "representative\n",
      "set\n",
      "of\n",
      "images\n",
      "from\n",
      "a\n",
      "larger\n",
      "set\n",
      "of\n",
      "images.[3\n",
      "]\n",
      "A\n",
      "summary\n",
      "in\n",
      "this\n",
      "context\n",
      "is\n",
      "useful\n",
      "to\n",
      "show\n",
      "the\n",
      "most\n",
      "representative\n",
      "images\n",
      "of\n",
      "results\n",
      "in\n",
      "an\n",
      "image\n",
      "collection\n",
      "exploration\n",
      "system\n",
      ".\n",
      "Video\n",
      "summarization\n",
      "is\n",
      "a\n",
      "related\n",
      "domain\n",
      ",\n",
      "where\n",
      "the\n",
      "system\n",
      "automatically\n",
      "creates\n",
      "a\n",
      "trailer\n",
      "of\n",
      "a\n",
      "long\n",
      "video\n",
      ".\n",
      "This\n",
      "also\n",
      "has\n",
      "applications\n",
      "in\n",
      "consumer\n",
      "or\n",
      "personal\n",
      "videos\n",
      ",\n",
      "where\n",
      "one\n",
      "might\n",
      "want\n",
      "to\n",
      "skip\n",
      "the\n",
      "boring\n",
      "or\n",
      "repetitive\n",
      "actions\n",
      ".\n",
      "Similarly\n",
      ",\n",
      "in\n",
      "surveillance\n",
      "videos\n",
      ",\n",
      "one\n",
      "would\n",
      "want\n",
      "to\n",
      "extract\n",
      "important\n",
      "and\n",
      "suspicious\n",
      "activity\n",
      ",\n",
      "while\n",
      "ignoring\n",
      "all\n",
      "the\n",
      "boring\n",
      "and\n",
      "redundant\n",
      "frames\n",
      "captured\n",
      ".\n",
      "\n",
      "\n"
     ]
    }
   ],
   "source": [
    "for token in doc:\n",
    "    print(token.text)\n"
   ]
  },
  {
   "cell_type": "code",
   "execution_count": 8,
   "id": "magnetic-advisory",
   "metadata": {},
   "outputs": [
    {
     "name": "stdout",
     "output_type": "stream",
     "text": [
      "<class 'spacy.tokens.token.Token'>\n",
      "<class 'str'>\n"
     ]
    }
   ],
   "source": [
    "print(type(token))\n",
    "print(type(token.text))"
   ]
  },
  {
   "cell_type": "code",
   "execution_count": 9,
   "id": "traditional-state",
   "metadata": {},
   "outputs": [
    {
     "data": {
      "text/plain": [
       "'!\"#$%&\\'()*+,-./:;<=>?@[\\\\]^_`{|}~\\n'"
      ]
     },
     "execution_count": 9,
     "metadata": {},
     "output_type": "execute_result"
    }
   ],
   "source": [
    "punctuation = punctuation + '\\n'\n",
    "punctuation"
   ]
  },
  {
   "cell_type": "code",
   "execution_count": 10,
   "id": "collect-worship",
   "metadata": {},
   "outputs": [
    {
     "name": "stdout",
     "output_type": "stream",
     "text": [
      "{'broadly': 1, 'types': 1, 'extractive': 1, 'summarization': 11, 'tasks': 1, 'depending': 2, 'program': 1, 'focuses': 2, 'generic': 3, 'obtaining': 1, 'summary': 4, 'abstract': 2, 'collection': 3, 'documents': 2, 'sets': 1, 'images': 3, 'videos': 3, 'news': 4, 'stories': 1, 'etc': 1, 'second': 1, 'query': 4, 'relevant': 2, 'called': 2, 'based': 1, 'summarizes': 1, 'objects': 1, 'specific': 1, 'Summarization': 1, 'systems': 1, 'able': 1, 'create': 1, 'text': 1, 'summaries': 2, 'machine': 1, 'generated': 1, 'user': 1, 'needs': 1, 'example': 3, 'problem': 2, 'document': 4, 'attempts': 1, 'automatically': 3, 'produce': 1, 'given': 2, 'interested': 1, 'generating': 1, 'single': 1, 'source': 2, 'use': 1, 'multiple': 1, 'cluster': 1, 'articles': 3, 'topic': 2, 'multi': 1, 'related': 2, 'application': 2, 'summarizing': 1, 'Imagine': 1, 'system': 3, 'pulls': 1, 'web': 1, 'concisely': 1, 'represents': 1, 'latest': 1, 'Image': 1, 'automatic': 1, 'consists': 1, 'selecting': 1, 'representative': 2, 'set': 2, 'larger': 1, 'images.[3': 1, 'context': 1, 'useful': 1, 'results': 1, 'image': 1, 'exploration': 1, 'Video': 1, 'domain': 1, 'creates': 1, 'trailer': 1, 'long': 1, 'video': 1, 'applications': 1, 'consumer': 1, 'personal': 1, 'want': 2, 'skip': 1, 'boring': 2, 'repetitive': 1, 'actions': 1, 'Similarly': 1, 'surveillance': 1, 'extract': 1, 'important': 1, 'suspicious': 1, 'activity': 1, 'ignoring': 1, 'redundant': 1, 'frames': 1, 'captured': 1}\n"
     ]
    }
   ],
   "source": [
    "word_frequencies = {}\n",
    "for word in doc:\n",
    "    if word.text.lower() not in stopwords:\n",
    "        if word.text.lower() not in punctuation:\n",
    "            if word.text not in word_frequencies.keys():\n",
    "                word_frequencies[word.text] = 1\n",
    "            else:\n",
    "                word_frequencies[word.text] += 1\n",
    "                \n",
    "print(word_frequencies)"
   ]
  },
  {
   "cell_type": "code",
   "execution_count": 11,
   "id": "secondary-confidentiality",
   "metadata": {},
   "outputs": [
    {
     "name": "stdout",
     "output_type": "stream",
     "text": [
      "11\n"
     ]
    },
    {
     "data": {
      "text/plain": [
       "11"
      ]
     },
     "execution_count": 11,
     "metadata": {},
     "output_type": "execute_result"
    }
   ],
   "source": [
    "bigger =0\n",
    "bigword = ''\n",
    "for word,number in word_frequencies.items():\n",
    "    if bigger < number:\n",
    "        bigger = number\n",
    "        bigword = word\n",
    "\n",
    "print(word_frequencies[bigword])\n",
    "\n",
    "#suggested method\n",
    "max_frequency = max(word_frequencies.values())\n",
    "max_frequency"
   ]
  },
  {
   "cell_type": "code",
   "execution_count": 12,
   "id": "demographic-regard",
   "metadata": {},
   "outputs": [
    {
     "name": "stdout",
     "output_type": "stream",
     "text": [
      "{'broadly': 0.09090909090909091, 'types': 0.09090909090909091, 'extractive': 0.09090909090909091, 'summarization': 1.0, 'tasks': 0.09090909090909091, 'depending': 0.18181818181818182, 'program': 0.09090909090909091, 'focuses': 0.18181818181818182, 'generic': 0.2727272727272727, 'obtaining': 0.09090909090909091, 'summary': 0.36363636363636365, 'abstract': 0.18181818181818182, 'collection': 0.2727272727272727, 'documents': 0.18181818181818182, 'sets': 0.09090909090909091, 'images': 0.2727272727272727, 'videos': 0.2727272727272727, 'news': 0.36363636363636365, 'stories': 0.09090909090909091, 'etc': 0.09090909090909091, 'second': 0.09090909090909091, 'query': 0.36363636363636365, 'relevant': 0.18181818181818182, 'called': 0.18181818181818182, 'based': 0.09090909090909091, 'summarizes': 0.09090909090909091, 'objects': 0.09090909090909091, 'specific': 0.09090909090909091, 'Summarization': 0.09090909090909091, 'systems': 0.09090909090909091, 'able': 0.09090909090909091, 'create': 0.09090909090909091, 'text': 0.09090909090909091, 'summaries': 0.18181818181818182, 'machine': 0.09090909090909091, 'generated': 0.09090909090909091, 'user': 0.09090909090909091, 'needs': 0.09090909090909091, 'example': 0.2727272727272727, 'problem': 0.18181818181818182, 'document': 0.36363636363636365, 'attempts': 0.09090909090909091, 'automatically': 0.2727272727272727, 'produce': 0.09090909090909091, 'given': 0.18181818181818182, 'interested': 0.09090909090909091, 'generating': 0.09090909090909091, 'single': 0.09090909090909091, 'source': 0.18181818181818182, 'use': 0.09090909090909091, 'multiple': 0.09090909090909091, 'cluster': 0.09090909090909091, 'articles': 0.2727272727272727, 'topic': 0.18181818181818182, 'multi': 0.09090909090909091, 'related': 0.18181818181818182, 'application': 0.18181818181818182, 'summarizing': 0.09090909090909091, 'Imagine': 0.09090909090909091, 'system': 0.2727272727272727, 'pulls': 0.09090909090909091, 'web': 0.09090909090909091, 'concisely': 0.09090909090909091, 'represents': 0.09090909090909091, 'latest': 0.09090909090909091, 'Image': 0.09090909090909091, 'automatic': 0.09090909090909091, 'consists': 0.09090909090909091, 'selecting': 0.09090909090909091, 'representative': 0.18181818181818182, 'set': 0.18181818181818182, 'larger': 0.09090909090909091, 'images.[3': 0.09090909090909091, 'context': 0.09090909090909091, 'useful': 0.09090909090909091, 'results': 0.09090909090909091, 'image': 0.09090909090909091, 'exploration': 0.09090909090909091, 'Video': 0.09090909090909091, 'domain': 0.09090909090909091, 'creates': 0.09090909090909091, 'trailer': 0.09090909090909091, 'long': 0.09090909090909091, 'video': 0.09090909090909091, 'applications': 0.09090909090909091, 'consumer': 0.09090909090909091, 'personal': 0.09090909090909091, 'want': 0.18181818181818182, 'skip': 0.09090909090909091, 'boring': 0.18181818181818182, 'repetitive': 0.09090909090909091, 'actions': 0.09090909090909091, 'Similarly': 0.09090909090909091, 'surveillance': 0.09090909090909091, 'extract': 0.09090909090909091, 'important': 0.09090909090909091, 'suspicious': 0.09090909090909091, 'activity': 0.09090909090909091, 'ignoring': 0.09090909090909091, 'redundant': 0.09090909090909091, 'frames': 0.09090909090909091, 'captured': 0.09090909090909091}\n"
     ]
    }
   ],
   "source": [
    "for word in word_frequencies.keys():\n",
    "    word_frequencies[word] = word_frequencies[word]/max_frequency\n",
    "\n",
    "print(word_frequencies)\n"
   ]
  },
  {
   "cell_type": "code",
   "execution_count": 13,
   "id": "offshore-politics",
   "metadata": {},
   "outputs": [
    {
     "name": "stdout",
     "output_type": "stream",
     "text": [
      "[\n",
      ", There are broadly two types of extractive summarization tasks depending on what the summarization program focuses on., The first is generic summarization, which focuses on obtaining a generic summary or abstract of the collection (whether documents, or sets of images, or videos, news stories etc.)., The second is query relevant summarization, sometimes called query-based summarization, which summarizes objects specific to a query., Summarization systems are able to create both query relevant text summaries and generic machine-generated summaries depending on what the user needs., \n",
      ", An example of a summarization problem is document summarization, which attempts to automatically produce an abstract from a given document., Sometimes one might be interested in generating a summary from a single source document, while others can use multiple source documents (for example, a cluster of articles on the same topic)., This problem is called multi-document summarization., A related application is summarizing news articles., Imagine a system, which automatically pulls together news articles on a given topic (from the web), and concisely represents the latest news as a summary., \n",
      ", Image collection summarization is another application example of automatic summarization., It consists in selecting a representative set of images from a larger set of images.[3], A summary in this context is useful to show the most representative images of results in an image collection exploration system., Video summarization is a related domain, where the system automatically creates a trailer of a long video., This also has applications in consumer or personal videos, where one might want to skip the boring or repetitive actions., Similarly, in surveillance videos, one would want to extract important and suspicious activity, while ignoring all the boring and redundant frames captured.\n",
      "]\n"
     ]
    }
   ],
   "source": [
    "sentence_tokens = [sent for sent in doc.sents]\n",
    "print(sentence_tokens)"
   ]
  },
  {
   "cell_type": "code",
   "execution_count": 14,
   "id": "bored-fountain",
   "metadata": {},
   "outputs": [
    {
     "data": {
      "text/plain": [
       "{There are broadly two types of extractive summarization tasks depending on what the summarization program focuses on.: 2.818181818181818,\n",
       " The first is generic summarization, which focuses on obtaining a generic summary or abstract of the collection (whether documents, or sets of images, or videos, news stories etc.).: 3.9999999999999987,\n",
       " The second is query relevant summarization, sometimes called query-based summarization, which summarizes objects specific to a query.: 3.909090909090909,\n",
       " Summarization systems are able to create both query relevant text summaries and generic machine-generated summaries depending on what the user needs.: 3.09090909090909,\n",
       " An example of a summarization problem is document summarization, which attempts to automatically produce an abstract from a given document.: 3.9999999999999996,\n",
       " Sometimes one might be interested in generating a summary from a single source document, while others can use multiple source documents (for example, a cluster of articles on the same topic).: 2.545454545454545,\n",
       " This problem is called multi-document summarization.: 1.8181818181818183,\n",
       " A related application is summarizing news articles.: 1.0909090909090908,\n",
       " Imagine a system, which automatically pulls together news articles on a given topic (from the web), and concisely represents the latest news as a summary.: 2.727272727272727,\n",
       " Image collection summarization is another application example of automatic summarization.: 2.909090909090909,\n",
       " It consists in selecting a representative set of images from a larger set of images.[3]: 1.1818181818181817,\n",
       " A summary in this context is useful to show the most representative images of results in an image collection exploration system.: 1.818181818181818,\n",
       " Video summarization is a related domain, where the system automatically creates a trailer of a long video.: 2.2727272727272725,\n",
       " This also has applications in consumer or personal videos, where one might want to skip the boring or repetitive actions.: 1.1818181818181817,\n",
       " Similarly, in surveillance videos, one would want to extract important and suspicious activity, while ignoring all the boring and redundant frames captured.: 1.4545454545454544}"
      ]
     },
     "execution_count": 14,
     "metadata": {},
     "output_type": "execute_result"
    }
   ],
   "source": [
    "sentence_scores = {}\n",
    "for sent in sentence_tokens:\n",
    "    for word in sent:\n",
    "        if word.text.lower() in word_frequencies.keys():\n",
    "            if sent not in sentence_scores.keys():\n",
    "                sentence_scores[sent] = word_frequencies[word.text.lower()]\n",
    "            else:\n",
    "                sentence_scores[sent] += word_frequencies[word.text.lower()]\n",
    "                \n",
    "sentence_scores"
   ]
  },
  {
   "cell_type": "code",
   "execution_count": 15,
   "id": "reserved-executive",
   "metadata": {},
   "outputs": [],
   "source": [
    "from heapq import nlargest"
   ]
  },
  {
   "cell_type": "code",
   "execution_count": 16,
   "id": "utility-maine",
   "metadata": {},
   "outputs": [
    {
     "data": {
      "text/plain": [
       "5"
      ]
     },
     "execution_count": 16,
     "metadata": {},
     "output_type": "execute_result"
    }
   ],
   "source": [
    "select_length = int(len(sentence_tokens)*0.3)\n",
    "select_length"
   ]
  },
  {
   "cell_type": "code",
   "execution_count": 17,
   "id": "studied-building",
   "metadata": {},
   "outputs": [
    {
     "data": {
      "text/plain": [
       "[An example of a summarization problem is document summarization, which attempts to automatically produce an abstract from a given document.,\n",
       " The first is generic summarization, which focuses on obtaining a generic summary or abstract of the collection (whether documents, or sets of images, or videos, news stories etc.).,\n",
       " The second is query relevant summarization, sometimes called query-based summarization, which summarizes objects specific to a query.,\n",
       " Summarization systems are able to create both query relevant text summaries and generic machine-generated summaries depending on what the user needs.,\n",
       " Image collection summarization is another application example of automatic summarization.]"
      ]
     },
     "execution_count": 17,
     "metadata": {},
     "output_type": "execute_result"
    }
   ],
   "source": [
    "summary = nlargest(select_length, sentence_scores, key = sentence_scores.get)\n",
    "summary\n"
   ]
  },
  {
   "cell_type": "code",
   "execution_count": 18,
   "id": "personal-orlando",
   "metadata": {},
   "outputs": [],
   "source": [
    "final_summary = [word.text for word in summary]\n",
    "summary = ' '.join(final_summary)"
   ]
  },
  {
   "cell_type": "code",
   "execution_count": 19,
   "id": "sustainable-cooler",
   "metadata": {},
   "outputs": [
    {
     "name": "stdout",
     "output_type": "stream",
     "text": [
      "\n",
      "There are broadly two types of extractive summarization tasks depending on what the summarization program focuses on. The first is generic summarization, which focuses on obtaining a generic summary or abstract of the collection (whether documents, or sets of images, or videos, news stories etc.). The second is query relevant summarization, sometimes called query-based summarization, which summarizes objects specific to a query. Summarization systems are able to create both query relevant text summaries and generic machine-generated summaries depending on what the user needs.\n",
      "An example of a summarization problem is document summarization, which attempts to automatically produce an abstract from a given document. Sometimes one might be interested in generating a summary from a single source document, while others can use multiple source documents (for example, a cluster of articles on the same topic). This problem is called multi-document summarization. A related application is summarizing news articles. Imagine a system, which automatically pulls together news articles on a given topic (from the web), and concisely represents the latest news as a summary.\n",
      "Image collection summarization is another application example of automatic summarization. It consists in selecting a representative set of images from a larger set of images.[3] A summary in this context is useful to show the most representative images of results in an image collection exploration system. Video summarization is a related domain, where the system automatically creates a trailer of a long video. This also has applications in consumer or personal videos, where one might want to skip the boring or repetitive actions. Similarly, in surveillance videos, one would want to extract important and suspicious activity, while ignoring all the boring and redundant frames captured.\n",
      "\n"
     ]
    }
   ],
   "source": [
    "print(text)"
   ]
  },
  {
   "cell_type": "code",
   "execution_count": 20,
   "id": "helpful-nylon",
   "metadata": {},
   "outputs": [
    {
     "name": "stdout",
     "output_type": "stream",
     "text": [
      "An example of a summarization problem is document summarization, which attempts to automatically produce an abstract from a given document. The first is generic summarization, which focuses on obtaining a generic summary or abstract of the collection (whether documents, or sets of images, or videos, news stories etc.). The second is query relevant summarization, sometimes called query-based summarization, which summarizes objects specific to a query. Summarization systems are able to create both query relevant text summaries and generic machine-generated summaries depending on what the user needs. Image collection summarization is another application example of automatic summarization.\n"
     ]
    }
   ],
   "source": [
    "print(summary)"
   ]
  },
  {
   "cell_type": "code",
   "execution_count": 29,
   "id": "lyric-prize",
   "metadata": {},
   "outputs": [
    {
     "name": "stdout",
     "output_type": "stream",
     "text": [
      "[2, 4]\n"
     ]
    }
   ],
   "source": []
  },
  {
   "cell_type": "code",
   "execution_count": 40,
   "id": "impressed-stupid",
   "metadata": {},
   "outputs": [
    {
     "data": {
      "text/plain": [
       "{2: 4, 4: 16, 5: 25}"
      ]
     },
     "execution_count": 40,
     "metadata": {},
     "output_type": "execute_result"
    }
   ],
   "source": []
  },
  {
   "cell_type": "code",
   "execution_count": 41,
   "id": "ranking-header",
   "metadata": {},
   "outputs": [
    {
     "data": {
      "text/plain": [
       "{'a', 'g', 'i', 'm', 'n', 'o', 'p', 'r'}"
      ]
     },
     "execution_count": 41,
     "metadata": {},
     "output_type": "execute_result"
    }
   ],
   "source": []
  },
  {
   "cell_type": "code",
   "execution_count": null,
   "id": "solar-programmer",
   "metadata": {},
   "outputs": [],
   "source": []
  }
 ],
 "metadata": {
  "kernelspec": {
   "display_name": "Python 3",
   "language": "python",
   "name": "python3"
  },
  "language_info": {
   "codemirror_mode": {
    "name": "ipython",
    "version": 3
   },
   "file_extension": ".py",
   "mimetype": "text/x-python",
   "name": "python",
   "nbconvert_exporter": "python",
   "pygments_lexer": "ipython3",
   "version": "3.8.5"
  }
 },
 "nbformat": 4,
 "nbformat_minor": 5
}
