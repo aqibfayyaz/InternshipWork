{
 "cells": [
  {
   "cell_type": "code",
   "execution_count": 1,
   "id": "municipal-guatemala",
   "metadata": {},
   "outputs": [
    {
     "ename": "RuntimeError",
     "evalue": "module compiled against API version 0xe but this version of numpy is 0xd",
     "output_type": "error",
     "traceback": [
      "\u001b[0;31m---------------------------------------------------------------------------\u001b[0m",
      "\u001b[0;31mRuntimeError\u001b[0m                              Traceback (most recent call last)",
      "\u001b[0;31mRuntimeError\u001b[0m: module compiled against API version 0xe but this version of numpy is 0xd"
     ]
    }
   ],
   "source": [
    "from pycaret.nlp import *"
   ]
  },
  {
   "cell_type": "code",
   "execution_count": 2,
   "id": "liked-pulse",
   "metadata": {},
   "outputs": [],
   "source": [
    "from nltk.corpus import stopwords\n",
    "stopWords = stopwords.words('english')"
   ]
  },
  {
   "cell_type": "code",
   "execution_count": 3,
   "id": "institutional-proposition",
   "metadata": {},
   "outputs": [
    {
     "data": {
      "text/html": [
       "<div>\n",
       "<style scoped>\n",
       "    .dataframe tbody tr th:only-of-type {\n",
       "        vertical-align: middle;\n",
       "    }\n",
       "\n",
       "    .dataframe tbody tr th {\n",
       "        vertical-align: top;\n",
       "    }\n",
       "\n",
       "    .dataframe thead th {\n",
       "        text-align: right;\n",
       "    }\n",
       "</style>\n",
       "<table border=\"1\" class=\"dataframe\">\n",
       "  <thead>\n",
       "    <tr style=\"text-align: right;\">\n",
       "      <th></th>\n",
       "      <th>summerizedAnswers</th>\n",
       "    </tr>\n",
       "  </thead>\n",
       "  <tbody>\n",
       "    <tr>\n",
       "      <th>0</th>\n",
       "      <td>If you feel that you are worthless, then maybe...</td>\n",
       "    </tr>\n",
       "    <tr>\n",
       "      <th>1</th>\n",
       "      <td>What can I do to improve my feelings of worthl...</td>\n",
       "    </tr>\n",
       "  </tbody>\n",
       "</table>\n",
       "</div>"
      ],
      "text/plain": [
       "                                   summerizedAnswers\n",
       "0  If you feel that you are worthless, then maybe...\n",
       "1  What can I do to improve my feelings of worthl..."
      ]
     },
     "execution_count": 3,
     "metadata": {},
     "output_type": "execute_result"
    }
   ],
   "source": [
    "import pandas as pd\n",
    "\n",
    "\n",
    "# load the data into a dataframe\n",
    "data = pd.read_csv('google pegasus-xsum counsel answers answers.csv')\n",
    "data.head(2)\n"
   ]
  },
  {
   "cell_type": "code",
   "execution_count": 4,
   "id": "divine-debate",
   "metadata": {},
   "outputs": [
    {
     "data": {
      "text/plain": [
       "0           If feel worthless, maybe need change life.\n",
       "1               What I improve feelings worthlessness?\n",
       "2                                   find purpose life?\n",
       "3    Depression self esteem two common mental healt...\n",
       "4                                                help?\n",
       "Name: summerizedAnswers, dtype: object"
      ]
     },
     "execution_count": 4,
     "metadata": {},
     "output_type": "execute_result"
    }
   ],
   "source": [
    "data['sumans_without_stopwords'] = data['summerizedAnswers'].apply(lambda x: ' '.join([word for word in x.split() if word not in (stopWords)]))\n",
    "data['summerizedAnswers'] = data['sumans_without_stopwords']\n",
    "data['summerizedAnswers'].head()"
   ]
  },
  {
   "cell_type": "code",
   "execution_count": 5,
   "id": "arctic-design",
   "metadata": {},
   "outputs": [
    {
     "data": {
      "text/html": [
       "<div>\n",
       "<style scoped>\n",
       "    .dataframe tbody tr th:only-of-type {\n",
       "        vertical-align: middle;\n",
       "    }\n",
       "\n",
       "    .dataframe tbody tr th {\n",
       "        vertical-align: top;\n",
       "    }\n",
       "\n",
       "    .dataframe thead th {\n",
       "        text-align: right;\n",
       "    }\n",
       "</style>\n",
       "<table border=\"1\" class=\"dataframe\">\n",
       "  <thead>\n",
       "    <tr style=\"text-align: right;\">\n",
       "      <th></th>\n",
       "      <th>summerizedAnswers</th>\n",
       "      <th>sumans_without_stopwords</th>\n",
       "    </tr>\n",
       "  </thead>\n",
       "  <tbody>\n",
       "    <tr>\n",
       "      <th>0</th>\n",
       "      <td>If feel worthless, maybe need change life.</td>\n",
       "      <td>If feel worthless, maybe need change life.</td>\n",
       "    </tr>\n",
       "    <tr>\n",
       "      <th>1</th>\n",
       "      <td>What I improve feelings worthlessness?</td>\n",
       "      <td>What I improve feelings worthlessness?</td>\n",
       "    </tr>\n",
       "  </tbody>\n",
       "</table>\n",
       "</div>"
      ],
      "text/plain": [
       "                            summerizedAnswers  \\\n",
       "0  If feel worthless, maybe need change life.   \n",
       "1      What I improve feelings worthlessness?   \n",
       "\n",
       "                     sumans_without_stopwords  \n",
       "0  If feel worthless, maybe need change life.  \n",
       "1      What I improve feelings worthlessness?  "
      ]
     },
     "execution_count": 5,
     "metadata": {},
     "output_type": "execute_result"
    }
   ],
   "source": [
    "data.head(2)"
   ]
  },
  {
   "cell_type": "code",
   "execution_count": 6,
   "id": "polish-disabled",
   "metadata": {},
   "outputs": [
    {
     "data": {
      "text/html": [
       "<style  type=\"text/css\" >\n",
       "</style><table id=\"T_19942_\" ><thead>    <tr>        <th class=\"col_heading level0 col0\" >Description</th>        <th class=\"col_heading level0 col1\" >Value</th>    </tr></thead><tbody>\n",
       "                <tr>\n",
       "                                <td id=\"T_19942_row0_col0\" class=\"data row0 col0\" >session_id</td>\n",
       "                        <td id=\"T_19942_row0_col1\" class=\"data row0 col1\" >123</td>\n",
       "            </tr>\n",
       "            <tr>\n",
       "                                <td id=\"T_19942_row1_col0\" class=\"data row1 col0\" >Documents</td>\n",
       "                        <td id=\"T_19942_row1_col1\" class=\"data row1 col1\" >2129</td>\n",
       "            </tr>\n",
       "            <tr>\n",
       "                                <td id=\"T_19942_row2_col0\" class=\"data row2 col0\" >Vocab Size</td>\n",
       "                        <td id=\"T_19942_row2_col1\" class=\"data row2 col1\" >1418</td>\n",
       "            </tr>\n",
       "            <tr>\n",
       "                                <td id=\"T_19942_row3_col0\" class=\"data row3 col0\" >Custom Stopwords</td>\n",
       "                        <td id=\"T_19942_row3_col1\" class=\"data row3 col1\" >True</td>\n",
       "            </tr>\n",
       "    </tbody></table>"
      ],
      "text/plain": [
       "<pandas.io.formats.style.Styler at 0x7f583c2d57f0>"
      ]
     },
     "metadata": {},
     "output_type": "display_data"
    }
   ],
   "source": [
    "exp_nlp102 = setup(data = data, target = 'summerizedAnswers', session_id = 123,\n",
    "                   custom_stopwords = ['would', 'want', 'usd', 'many', 'also', 'make', \n",
    "                                       'find','see', 'say', 'often', 'much', 'go', 'come',\n",
    "                                       'thought', 'even','learn','happen','much','let','know','thing','need','take'\n",
    "                                      , 'get','try','ask','maybe','keep','end','way','suggest','likely','area','part',\n",
    "                                      'consider','right','able','could','tell','seem','use','sometimes','think','look','self','lot','new','well','give',\n",
    "                                      'start'],\n",
    "                   log_experiment = True, experiment_name = 'summerizedAnswers')"
   ]
  },
  {
   "cell_type": "code",
   "execution_count": 7,
   "id": "right-measurement",
   "metadata": {},
   "outputs": [],
   "source": [
    "\n",
    "lda = create_model('lda',num_topics=200)\n"
   ]
  },
  {
   "cell_type": "code",
   "execution_count": 8,
   "id": "mature-paper",
   "metadata": {},
   "outputs": [],
   "source": [
    "# to find the best suited number of topic for our case using intrinsic evalution\n",
    "#tuned_unsupervised = tune_model(model = 'lda', multi_core = True)"
   ]
  },
  {
   "cell_type": "code",
   "execution_count": 9,
   "id": "alone-software",
   "metadata": {},
   "outputs": [],
   "source": [
    "# using extrinsic evaluation using classifier\n",
    "#tuned_classification = tune_model(model = 'lda', multi_core = True, supervised_target = 'sumans_without_stopwords')"
   ]
  },
  {
   "cell_type": "code",
   "execution_count": 10,
   "id": "appreciated-command",
   "metadata": {},
   "outputs": [
    {
     "data": {
      "text/html": [
       "        <script type=\"text/javascript\">\n",
       "        window.PlotlyConfig = {MathJaxConfig: 'local'};\n",
       "        if (window.MathJax) {MathJax.Hub.Config({SVG: {font: \"STIX-Web\"}});}\n",
       "        if (typeof require !== 'undefined') {\n",
       "        require.undef(\"plotly\");\n",
       "        requirejs.config({\n",
       "            paths: {\n",
       "                'plotly': ['https://cdn.plot.ly/plotly-latest.min']\n",
       "            }\n",
       "        });\n",
       "        require(['plotly'], function(Plotly) {\n",
       "            window._Plotly = Plotly;\n",
       "        });\n",
       "        }\n",
       "        </script>\n",
       "        "
      ]
     },
     "metadata": {},
     "output_type": "display_data"
    },
    {
     "data": {
      "application/vnd.plotly.v1+json": {
       "config": {
        "plotlyServerURL": "https://plot.ly"
       },
       "data": [
        {
         "alignmentgroup": "True",
         "customdata": [
          [
           "issue, heal, hesitate, violent, mad, partly, moody, rage, journalist, shutdown"
          ],
          [
           "ever, family, wonder, member, autism, suppress, partly, shutdown, piss, hesitate"
          ],
          [
           "feel, may, life, away, crisis, recommend, suicidal, clinic, partly, outburst"
          ],
          [
           "depression, possible, anxiety, struggle, important, disorder, panic, soon, moody, rage"
          ],
          [
           "help, seek, hesitate, violent, mad, partly, moody, rage, temper, shutdown"
          ]
         ],
         "hovertemplate": "Topic=%{x}<br>Documents=%{y}<br>Keyword=%{customdata[0]}<extra></extra>",
         "legendgroup": "",
         "marker": {
          "color": "#636efa"
         },
         "name": "",
         "offsetgroup": "",
         "orientation": "v",
         "showlegend": false,
         "textposition": "auto",
         "type": "bar",
         "x": [
          "Topic 31",
          "Topic 68",
          "Topic 72",
          "Topic 134",
          "Topic 164"
         ],
         "xaxis": "x",
         "y": [
          16,
          49,
          1615,
          326,
          123
         ],
         "yaxis": "y"
        }
       ],
       "layout": {
        "barmode": "relative",
        "legend": {
         "tracegroupgap": 0
        },
        "template": {
         "data": {
          "bar": [
           {
            "error_x": {
             "color": "#2a3f5f"
            },
            "error_y": {
             "color": "#2a3f5f"
            },
            "marker": {
             "line": {
              "color": "#E5ECF6",
              "width": 0.5
             }
            },
            "type": "bar"
           }
          ],
          "barpolar": [
           {
            "marker": {
             "line": {
              "color": "#E5ECF6",
              "width": 0.5
             }
            },
            "type": "barpolar"
           }
          ],
          "carpet": [
           {
            "aaxis": {
             "endlinecolor": "#2a3f5f",
             "gridcolor": "white",
             "linecolor": "white",
             "minorgridcolor": "white",
             "startlinecolor": "#2a3f5f"
            },
            "baxis": {
             "endlinecolor": "#2a3f5f",
             "gridcolor": "white",
             "linecolor": "white",
             "minorgridcolor": "white",
             "startlinecolor": "#2a3f5f"
            },
            "type": "carpet"
           }
          ],
          "choropleth": [
           {
            "colorbar": {
             "outlinewidth": 0,
             "ticks": ""
            },
            "type": "choropleth"
           }
          ],
          "contour": [
           {
            "colorbar": {
             "outlinewidth": 0,
             "ticks": ""
            },
            "colorscale": [
             [
              0,
              "#0d0887"
             ],
             [
              0.1111111111111111,
              "#46039f"
             ],
             [
              0.2222222222222222,
              "#7201a8"
             ],
             [
              0.3333333333333333,
              "#9c179e"
             ],
             [
              0.4444444444444444,
              "#bd3786"
             ],
             [
              0.5555555555555556,
              "#d8576b"
             ],
             [
              0.6666666666666666,
              "#ed7953"
             ],
             [
              0.7777777777777778,
              "#fb9f3a"
             ],
             [
              0.8888888888888888,
              "#fdca26"
             ],
             [
              1,
              "#f0f921"
             ]
            ],
            "type": "contour"
           }
          ],
          "contourcarpet": [
           {
            "colorbar": {
             "outlinewidth": 0,
             "ticks": ""
            },
            "type": "contourcarpet"
           }
          ],
          "heatmap": [
           {
            "colorbar": {
             "outlinewidth": 0,
             "ticks": ""
            },
            "colorscale": [
             [
              0,
              "#0d0887"
             ],
             [
              0.1111111111111111,
              "#46039f"
             ],
             [
              0.2222222222222222,
              "#7201a8"
             ],
             [
              0.3333333333333333,
              "#9c179e"
             ],
             [
              0.4444444444444444,
              "#bd3786"
             ],
             [
              0.5555555555555556,
              "#d8576b"
             ],
             [
              0.6666666666666666,
              "#ed7953"
             ],
             [
              0.7777777777777778,
              "#fb9f3a"
             ],
             [
              0.8888888888888888,
              "#fdca26"
             ],
             [
              1,
              "#f0f921"
             ]
            ],
            "type": "heatmap"
           }
          ],
          "heatmapgl": [
           {
            "colorbar": {
             "outlinewidth": 0,
             "ticks": ""
            },
            "colorscale": [
             [
              0,
              "#0d0887"
             ],
             [
              0.1111111111111111,
              "#46039f"
             ],
             [
              0.2222222222222222,
              "#7201a8"
             ],
             [
              0.3333333333333333,
              "#9c179e"
             ],
             [
              0.4444444444444444,
              "#bd3786"
             ],
             [
              0.5555555555555556,
              "#d8576b"
             ],
             [
              0.6666666666666666,
              "#ed7953"
             ],
             [
              0.7777777777777778,
              "#fb9f3a"
             ],
             [
              0.8888888888888888,
              "#fdca26"
             ],
             [
              1,
              "#f0f921"
             ]
            ],
            "type": "heatmapgl"
           }
          ],
          "histogram": [
           {
            "marker": {
             "colorbar": {
              "outlinewidth": 0,
              "ticks": ""
             }
            },
            "type": "histogram"
           }
          ],
          "histogram2d": [
           {
            "colorbar": {
             "outlinewidth": 0,
             "ticks": ""
            },
            "colorscale": [
             [
              0,
              "#0d0887"
             ],
             [
              0.1111111111111111,
              "#46039f"
             ],
             [
              0.2222222222222222,
              "#7201a8"
             ],
             [
              0.3333333333333333,
              "#9c179e"
             ],
             [
              0.4444444444444444,
              "#bd3786"
             ],
             [
              0.5555555555555556,
              "#d8576b"
             ],
             [
              0.6666666666666666,
              "#ed7953"
             ],
             [
              0.7777777777777778,
              "#fb9f3a"
             ],
             [
              0.8888888888888888,
              "#fdca26"
             ],
             [
              1,
              "#f0f921"
             ]
            ],
            "type": "histogram2d"
           }
          ],
          "histogram2dcontour": [
           {
            "colorbar": {
             "outlinewidth": 0,
             "ticks": ""
            },
            "colorscale": [
             [
              0,
              "#0d0887"
             ],
             [
              0.1111111111111111,
              "#46039f"
             ],
             [
              0.2222222222222222,
              "#7201a8"
             ],
             [
              0.3333333333333333,
              "#9c179e"
             ],
             [
              0.4444444444444444,
              "#bd3786"
             ],
             [
              0.5555555555555556,
              "#d8576b"
             ],
             [
              0.6666666666666666,
              "#ed7953"
             ],
             [
              0.7777777777777778,
              "#fb9f3a"
             ],
             [
              0.8888888888888888,
              "#fdca26"
             ],
             [
              1,
              "#f0f921"
             ]
            ],
            "type": "histogram2dcontour"
           }
          ],
          "mesh3d": [
           {
            "colorbar": {
             "outlinewidth": 0,
             "ticks": ""
            },
            "type": "mesh3d"
           }
          ],
          "parcoords": [
           {
            "line": {
             "colorbar": {
              "outlinewidth": 0,
              "ticks": ""
             }
            },
            "type": "parcoords"
           }
          ],
          "pie": [
           {
            "automargin": true,
            "type": "pie"
           }
          ],
          "scatter": [
           {
            "marker": {
             "colorbar": {
              "outlinewidth": 0,
              "ticks": ""
             }
            },
            "type": "scatter"
           }
          ],
          "scatter3d": [
           {
            "line": {
             "colorbar": {
              "outlinewidth": 0,
              "ticks": ""
             }
            },
            "marker": {
             "colorbar": {
              "outlinewidth": 0,
              "ticks": ""
             }
            },
            "type": "scatter3d"
           }
          ],
          "scattercarpet": [
           {
            "marker": {
             "colorbar": {
              "outlinewidth": 0,
              "ticks": ""
             }
            },
            "type": "scattercarpet"
           }
          ],
          "scattergeo": [
           {
            "marker": {
             "colorbar": {
              "outlinewidth": 0,
              "ticks": ""
             }
            },
            "type": "scattergeo"
           }
          ],
          "scattergl": [
           {
            "marker": {
             "colorbar": {
              "outlinewidth": 0,
              "ticks": ""
             }
            },
            "type": "scattergl"
           }
          ],
          "scattermapbox": [
           {
            "marker": {
             "colorbar": {
              "outlinewidth": 0,
              "ticks": ""
             }
            },
            "type": "scattermapbox"
           }
          ],
          "scatterpolar": [
           {
            "marker": {
             "colorbar": {
              "outlinewidth": 0,
              "ticks": ""
             }
            },
            "type": "scatterpolar"
           }
          ],
          "scatterpolargl": [
           {
            "marker": {
             "colorbar": {
              "outlinewidth": 0,
              "ticks": ""
             }
            },
            "type": "scatterpolargl"
           }
          ],
          "scatterternary": [
           {
            "marker": {
             "colorbar": {
              "outlinewidth": 0,
              "ticks": ""
             }
            },
            "type": "scatterternary"
           }
          ],
          "surface": [
           {
            "colorbar": {
             "outlinewidth": 0,
             "ticks": ""
            },
            "colorscale": [
             [
              0,
              "#0d0887"
             ],
             [
              0.1111111111111111,
              "#46039f"
             ],
             [
              0.2222222222222222,
              "#7201a8"
             ],
             [
              0.3333333333333333,
              "#9c179e"
             ],
             [
              0.4444444444444444,
              "#bd3786"
             ],
             [
              0.5555555555555556,
              "#d8576b"
             ],
             [
              0.6666666666666666,
              "#ed7953"
             ],
             [
              0.7777777777777778,
              "#fb9f3a"
             ],
             [
              0.8888888888888888,
              "#fdca26"
             ],
             [
              1,
              "#f0f921"
             ]
            ],
            "type": "surface"
           }
          ],
          "table": [
           {
            "cells": {
             "fill": {
              "color": "#EBF0F8"
             },
             "line": {
              "color": "white"
             }
            },
            "header": {
             "fill": {
              "color": "#C8D4E3"
             },
             "line": {
              "color": "white"
             }
            },
            "type": "table"
           }
          ]
         },
         "layout": {
          "annotationdefaults": {
           "arrowcolor": "#2a3f5f",
           "arrowhead": 0,
           "arrowwidth": 1
          },
          "autotypenumbers": "strict",
          "coloraxis": {
           "colorbar": {
            "outlinewidth": 0,
            "ticks": ""
           }
          },
          "colorscale": {
           "diverging": [
            [
             0,
             "#8e0152"
            ],
            [
             0.1,
             "#c51b7d"
            ],
            [
             0.2,
             "#de77ae"
            ],
            [
             0.3,
             "#f1b6da"
            ],
            [
             0.4,
             "#fde0ef"
            ],
            [
             0.5,
             "#f7f7f7"
            ],
            [
             0.6,
             "#e6f5d0"
            ],
            [
             0.7,
             "#b8e186"
            ],
            [
             0.8,
             "#7fbc41"
            ],
            [
             0.9,
             "#4d9221"
            ],
            [
             1,
             "#276419"
            ]
           ],
           "sequential": [
            [
             0,
             "#0d0887"
            ],
            [
             0.1111111111111111,
             "#46039f"
            ],
            [
             0.2222222222222222,
             "#7201a8"
            ],
            [
             0.3333333333333333,
             "#9c179e"
            ],
            [
             0.4444444444444444,
             "#bd3786"
            ],
            [
             0.5555555555555556,
             "#d8576b"
            ],
            [
             0.6666666666666666,
             "#ed7953"
            ],
            [
             0.7777777777777778,
             "#fb9f3a"
            ],
            [
             0.8888888888888888,
             "#fdca26"
            ],
            [
             1,
             "#f0f921"
            ]
           ],
           "sequentialminus": [
            [
             0,
             "#0d0887"
            ],
            [
             0.1111111111111111,
             "#46039f"
            ],
            [
             0.2222222222222222,
             "#7201a8"
            ],
            [
             0.3333333333333333,
             "#9c179e"
            ],
            [
             0.4444444444444444,
             "#bd3786"
            ],
            [
             0.5555555555555556,
             "#d8576b"
            ],
            [
             0.6666666666666666,
             "#ed7953"
            ],
            [
             0.7777777777777778,
             "#fb9f3a"
            ],
            [
             0.8888888888888888,
             "#fdca26"
            ],
            [
             1,
             "#f0f921"
            ]
           ]
          },
          "colorway": [
           "#636efa",
           "#EF553B",
           "#00cc96",
           "#ab63fa",
           "#FFA15A",
           "#19d3f3",
           "#FF6692",
           "#B6E880",
           "#FF97FF",
           "#FECB52"
          ],
          "font": {
           "color": "#2a3f5f"
          },
          "geo": {
           "bgcolor": "white",
           "lakecolor": "white",
           "landcolor": "#E5ECF6",
           "showlakes": true,
           "showland": true,
           "subunitcolor": "white"
          },
          "hoverlabel": {
           "align": "left"
          },
          "hovermode": "closest",
          "mapbox": {
           "style": "light"
          },
          "paper_bgcolor": "white",
          "plot_bgcolor": "#E5ECF6",
          "polar": {
           "angularaxis": {
            "gridcolor": "white",
            "linecolor": "white",
            "ticks": ""
           },
           "bgcolor": "#E5ECF6",
           "radialaxis": {
            "gridcolor": "white",
            "linecolor": "white",
            "ticks": ""
           }
          },
          "scene": {
           "xaxis": {
            "backgroundcolor": "#E5ECF6",
            "gridcolor": "white",
            "gridwidth": 2,
            "linecolor": "white",
            "showbackground": true,
            "ticks": "",
            "zerolinecolor": "white"
           },
           "yaxis": {
            "backgroundcolor": "#E5ECF6",
            "gridcolor": "white",
            "gridwidth": 2,
            "linecolor": "white",
            "showbackground": true,
            "ticks": "",
            "zerolinecolor": "white"
           },
           "zaxis": {
            "backgroundcolor": "#E5ECF6",
            "gridcolor": "white",
            "gridwidth": 2,
            "linecolor": "white",
            "showbackground": true,
            "ticks": "",
            "zerolinecolor": "white"
           }
          },
          "shapedefaults": {
           "line": {
            "color": "#2a3f5f"
           }
          },
          "ternary": {
           "aaxis": {
            "gridcolor": "white",
            "linecolor": "white",
            "ticks": ""
           },
           "baxis": {
            "gridcolor": "white",
            "linecolor": "white",
            "ticks": ""
           },
           "bgcolor": "#E5ECF6",
           "caxis": {
            "gridcolor": "white",
            "linecolor": "white",
            "ticks": ""
           }
          },
          "title": {
           "x": 0.05
          },
          "xaxis": {
           "automargin": true,
           "gridcolor": "white",
           "linecolor": "white",
           "ticks": "",
           "title": {
            "standoff": 15
           },
           "zerolinecolor": "white",
           "zerolinewidth": 2
          },
          "yaxis": {
           "automargin": true,
           "gridcolor": "white",
           "linecolor": "white",
           "ticks": "",
           "title": {
            "standoff": 15
           },
           "zerolinecolor": "white",
           "zerolinewidth": 2
          }
         }
        },
        "title": {
         "text": "Document Distribution by Topics"
        },
        "xaxis": {
         "anchor": "y",
         "domain": [
          0,
          1
         ],
         "title": {
          "text": "Topic"
         }
        },
        "yaxis": {
         "anchor": "x",
         "domain": [
          0,
          1
         ],
         "title": {
          "text": "Documents"
         }
        }
       }
      },
      "text/html": [
       "<div>                            <div id=\"7501702c-cf00-4b88-abf7-35ed05ee369f\" class=\"plotly-graph-div\" style=\"height:525px; width:100%;\"></div>            <script type=\"text/javascript\">                require([\"plotly\"], function(Plotly) {                    window.PLOTLYENV=window.PLOTLYENV || {};                                    if (document.getElementById(\"7501702c-cf00-4b88-abf7-35ed05ee369f\")) {                    Plotly.newPlot(                        \"7501702c-cf00-4b88-abf7-35ed05ee369f\",                        [{\"alignmentgroup\": \"True\", \"customdata\": [[\"issue, heal, hesitate, violent, mad, partly, moody, rage, journalist, shutdown\"], [\"ever, family, wonder, member, autism, suppress, partly, shutdown, piss, hesitate\"], [\"feel, may, life, away, crisis, recommend, suicidal, clinic, partly, outburst\"], [\"depression, possible, anxiety, struggle, important, disorder, panic, soon, moody, rage\"], [\"help, seek, hesitate, violent, mad, partly, moody, rage, temper, shutdown\"]], \"hovertemplate\": \"Topic=%{x}<br>Documents=%{y}<br>Keyword=%{customdata[0]}<extra></extra>\", \"legendgroup\": \"\", \"marker\": {\"color\": \"#636efa\"}, \"name\": \"\", \"offsetgroup\": \"\", \"orientation\": \"v\", \"showlegend\": false, \"textposition\": \"auto\", \"type\": \"bar\", \"x\": [\"Topic 31\", \"Topic 68\", \"Topic 72\", \"Topic 134\", \"Topic 164\"], \"xaxis\": \"x\", \"y\": [16, 49, 1615, 326, 123], \"yaxis\": \"y\"}],                        {\"barmode\": \"relative\", \"legend\": {\"tracegroupgap\": 0}, \"template\": {\"data\": {\"bar\": [{\"error_x\": {\"color\": \"#2a3f5f\"}, \"error_y\": {\"color\": \"#2a3f5f\"}, \"marker\": {\"line\": {\"color\": \"#E5ECF6\", \"width\": 0.5}}, \"type\": \"bar\"}], \"barpolar\": [{\"marker\": {\"line\": {\"color\": \"#E5ECF6\", \"width\": 0.5}}, \"type\": \"barpolar\"}], \"carpet\": [{\"aaxis\": {\"endlinecolor\": \"#2a3f5f\", \"gridcolor\": \"white\", \"linecolor\": \"white\", \"minorgridcolor\": \"white\", \"startlinecolor\": \"#2a3f5f\"}, \"baxis\": {\"endlinecolor\": \"#2a3f5f\", \"gridcolor\": \"white\", \"linecolor\": \"white\", \"minorgridcolor\": \"white\", \"startlinecolor\": \"#2a3f5f\"}, \"type\": \"carpet\"}], \"choropleth\": [{\"colorbar\": {\"outlinewidth\": 0, \"ticks\": \"\"}, \"type\": \"choropleth\"}], \"contour\": [{\"colorbar\": {\"outlinewidth\": 0, \"ticks\": \"\"}, \"colorscale\": [[0.0, \"#0d0887\"], [0.1111111111111111, \"#46039f\"], [0.2222222222222222, \"#7201a8\"], [0.3333333333333333, \"#9c179e\"], [0.4444444444444444, \"#bd3786\"], [0.5555555555555556, \"#d8576b\"], [0.6666666666666666, \"#ed7953\"], [0.7777777777777778, \"#fb9f3a\"], [0.8888888888888888, \"#fdca26\"], [1.0, \"#f0f921\"]], \"type\": \"contour\"}], \"contourcarpet\": [{\"colorbar\": {\"outlinewidth\": 0, \"ticks\": \"\"}, \"type\": \"contourcarpet\"}], \"heatmap\": [{\"colorbar\": {\"outlinewidth\": 0, \"ticks\": \"\"}, \"colorscale\": [[0.0, \"#0d0887\"], [0.1111111111111111, \"#46039f\"], [0.2222222222222222, \"#7201a8\"], [0.3333333333333333, \"#9c179e\"], [0.4444444444444444, \"#bd3786\"], [0.5555555555555556, \"#d8576b\"], [0.6666666666666666, \"#ed7953\"], [0.7777777777777778, \"#fb9f3a\"], [0.8888888888888888, \"#fdca26\"], [1.0, \"#f0f921\"]], \"type\": \"heatmap\"}], \"heatmapgl\": [{\"colorbar\": {\"outlinewidth\": 0, \"ticks\": \"\"}, \"colorscale\": [[0.0, \"#0d0887\"], [0.1111111111111111, \"#46039f\"], [0.2222222222222222, \"#7201a8\"], [0.3333333333333333, \"#9c179e\"], [0.4444444444444444, \"#bd3786\"], [0.5555555555555556, \"#d8576b\"], [0.6666666666666666, \"#ed7953\"], [0.7777777777777778, \"#fb9f3a\"], [0.8888888888888888, \"#fdca26\"], [1.0, \"#f0f921\"]], \"type\": \"heatmapgl\"}], \"histogram\": [{\"marker\": {\"colorbar\": {\"outlinewidth\": 0, \"ticks\": \"\"}}, \"type\": \"histogram\"}], \"histogram2d\": [{\"colorbar\": {\"outlinewidth\": 0, \"ticks\": \"\"}, \"colorscale\": [[0.0, \"#0d0887\"], [0.1111111111111111, \"#46039f\"], [0.2222222222222222, \"#7201a8\"], [0.3333333333333333, \"#9c179e\"], [0.4444444444444444, \"#bd3786\"], [0.5555555555555556, \"#d8576b\"], [0.6666666666666666, \"#ed7953\"], [0.7777777777777778, \"#fb9f3a\"], [0.8888888888888888, \"#fdca26\"], [1.0, \"#f0f921\"]], \"type\": \"histogram2d\"}], \"histogram2dcontour\": [{\"colorbar\": {\"outlinewidth\": 0, \"ticks\": \"\"}, \"colorscale\": [[0.0, \"#0d0887\"], [0.1111111111111111, \"#46039f\"], [0.2222222222222222, \"#7201a8\"], [0.3333333333333333, \"#9c179e\"], [0.4444444444444444, \"#bd3786\"], [0.5555555555555556, \"#d8576b\"], [0.6666666666666666, \"#ed7953\"], [0.7777777777777778, \"#fb9f3a\"], [0.8888888888888888, \"#fdca26\"], [1.0, \"#f0f921\"]], \"type\": \"histogram2dcontour\"}], \"mesh3d\": [{\"colorbar\": {\"outlinewidth\": 0, \"ticks\": \"\"}, \"type\": \"mesh3d\"}], \"parcoords\": [{\"line\": {\"colorbar\": {\"outlinewidth\": 0, \"ticks\": \"\"}}, \"type\": \"parcoords\"}], \"pie\": [{\"automargin\": true, \"type\": \"pie\"}], \"scatter\": [{\"marker\": {\"colorbar\": {\"outlinewidth\": 0, \"ticks\": \"\"}}, \"type\": \"scatter\"}], \"scatter3d\": [{\"line\": {\"colorbar\": {\"outlinewidth\": 0, \"ticks\": \"\"}}, \"marker\": {\"colorbar\": {\"outlinewidth\": 0, \"ticks\": \"\"}}, \"type\": \"scatter3d\"}], \"scattercarpet\": [{\"marker\": {\"colorbar\": {\"outlinewidth\": 0, \"ticks\": \"\"}}, \"type\": \"scattercarpet\"}], \"scattergeo\": [{\"marker\": {\"colorbar\": {\"outlinewidth\": 0, \"ticks\": \"\"}}, \"type\": \"scattergeo\"}], \"scattergl\": [{\"marker\": {\"colorbar\": {\"outlinewidth\": 0, \"ticks\": \"\"}}, \"type\": \"scattergl\"}], \"scattermapbox\": [{\"marker\": {\"colorbar\": {\"outlinewidth\": 0, \"ticks\": \"\"}}, \"type\": \"scattermapbox\"}], \"scatterpolar\": [{\"marker\": {\"colorbar\": {\"outlinewidth\": 0, \"ticks\": \"\"}}, \"type\": \"scatterpolar\"}], \"scatterpolargl\": [{\"marker\": {\"colorbar\": {\"outlinewidth\": 0, \"ticks\": \"\"}}, \"type\": \"scatterpolargl\"}], \"scatterternary\": [{\"marker\": {\"colorbar\": {\"outlinewidth\": 0, \"ticks\": \"\"}}, \"type\": \"scatterternary\"}], \"surface\": [{\"colorbar\": {\"outlinewidth\": 0, \"ticks\": \"\"}, \"colorscale\": [[0.0, \"#0d0887\"], [0.1111111111111111, \"#46039f\"], [0.2222222222222222, \"#7201a8\"], [0.3333333333333333, \"#9c179e\"], [0.4444444444444444, \"#bd3786\"], [0.5555555555555556, \"#d8576b\"], [0.6666666666666666, \"#ed7953\"], [0.7777777777777778, \"#fb9f3a\"], [0.8888888888888888, \"#fdca26\"], [1.0, \"#f0f921\"]], \"type\": \"surface\"}], \"table\": [{\"cells\": {\"fill\": {\"color\": \"#EBF0F8\"}, \"line\": {\"color\": \"white\"}}, \"header\": {\"fill\": {\"color\": \"#C8D4E3\"}, \"line\": {\"color\": \"white\"}}, \"type\": \"table\"}]}, \"layout\": {\"annotationdefaults\": {\"arrowcolor\": \"#2a3f5f\", \"arrowhead\": 0, \"arrowwidth\": 1}, \"autotypenumbers\": \"strict\", \"coloraxis\": {\"colorbar\": {\"outlinewidth\": 0, \"ticks\": \"\"}}, \"colorscale\": {\"diverging\": [[0, \"#8e0152\"], [0.1, \"#c51b7d\"], [0.2, \"#de77ae\"], [0.3, \"#f1b6da\"], [0.4, \"#fde0ef\"], [0.5, \"#f7f7f7\"], [0.6, \"#e6f5d0\"], [0.7, \"#b8e186\"], [0.8, \"#7fbc41\"], [0.9, \"#4d9221\"], [1, \"#276419\"]], \"sequential\": [[0.0, \"#0d0887\"], [0.1111111111111111, \"#46039f\"], [0.2222222222222222, \"#7201a8\"], [0.3333333333333333, \"#9c179e\"], [0.4444444444444444, \"#bd3786\"], [0.5555555555555556, \"#d8576b\"], [0.6666666666666666, \"#ed7953\"], [0.7777777777777778, \"#fb9f3a\"], [0.8888888888888888, \"#fdca26\"], [1.0, \"#f0f921\"]], \"sequentialminus\": [[0.0, \"#0d0887\"], [0.1111111111111111, \"#46039f\"], [0.2222222222222222, \"#7201a8\"], [0.3333333333333333, \"#9c179e\"], [0.4444444444444444, \"#bd3786\"], [0.5555555555555556, \"#d8576b\"], [0.6666666666666666, \"#ed7953\"], [0.7777777777777778, \"#fb9f3a\"], [0.8888888888888888, \"#fdca26\"], [1.0, \"#f0f921\"]]}, \"colorway\": [\"#636efa\", \"#EF553B\", \"#00cc96\", \"#ab63fa\", \"#FFA15A\", \"#19d3f3\", \"#FF6692\", \"#B6E880\", \"#FF97FF\", \"#FECB52\"], \"font\": {\"color\": \"#2a3f5f\"}, \"geo\": {\"bgcolor\": \"white\", \"lakecolor\": \"white\", \"landcolor\": \"#E5ECF6\", \"showlakes\": true, \"showland\": true, \"subunitcolor\": \"white\"}, \"hoverlabel\": {\"align\": \"left\"}, \"hovermode\": \"closest\", \"mapbox\": {\"style\": \"light\"}, \"paper_bgcolor\": \"white\", \"plot_bgcolor\": \"#E5ECF6\", \"polar\": {\"angularaxis\": {\"gridcolor\": \"white\", \"linecolor\": \"white\", \"ticks\": \"\"}, \"bgcolor\": \"#E5ECF6\", \"radialaxis\": {\"gridcolor\": \"white\", \"linecolor\": \"white\", \"ticks\": \"\"}}, \"scene\": {\"xaxis\": {\"backgroundcolor\": \"#E5ECF6\", \"gridcolor\": \"white\", \"gridwidth\": 2, \"linecolor\": \"white\", \"showbackground\": true, \"ticks\": \"\", \"zerolinecolor\": \"white\"}, \"yaxis\": {\"backgroundcolor\": \"#E5ECF6\", \"gridcolor\": \"white\", \"gridwidth\": 2, \"linecolor\": \"white\", \"showbackground\": true, \"ticks\": \"\", \"zerolinecolor\": \"white\"}, \"zaxis\": {\"backgroundcolor\": \"#E5ECF6\", \"gridcolor\": \"white\", \"gridwidth\": 2, \"linecolor\": \"white\", \"showbackground\": true, \"ticks\": \"\", \"zerolinecolor\": \"white\"}}, \"shapedefaults\": {\"line\": {\"color\": \"#2a3f5f\"}}, \"ternary\": {\"aaxis\": {\"gridcolor\": \"white\", \"linecolor\": \"white\", \"ticks\": \"\"}, \"baxis\": {\"gridcolor\": \"white\", \"linecolor\": \"white\", \"ticks\": \"\"}, \"bgcolor\": \"#E5ECF6\", \"caxis\": {\"gridcolor\": \"white\", \"linecolor\": \"white\", \"ticks\": \"\"}}, \"title\": {\"x\": 0.05}, \"xaxis\": {\"automargin\": true, \"gridcolor\": \"white\", \"linecolor\": \"white\", \"ticks\": \"\", \"title\": {\"standoff\": 15}, \"zerolinecolor\": \"white\", \"zerolinewidth\": 2}, \"yaxis\": {\"automargin\": true, \"gridcolor\": \"white\", \"linecolor\": \"white\", \"ticks\": \"\", \"title\": {\"standoff\": 15}, \"zerolinecolor\": \"white\", \"zerolinewidth\": 2}}}, \"title\": {\"text\": \"Document Distribution by Topics\"}, \"xaxis\": {\"anchor\": \"y\", \"domain\": [0.0, 1.0], \"title\": {\"text\": \"Topic\"}}, \"yaxis\": {\"anchor\": \"x\", \"domain\": [0.0, 1.0], \"title\": {\"text\": \"Documents\"}}},                        {\"responsive\": true}                    ).then(function(){\n",
       "                            \n",
       "var gd = document.getElementById('7501702c-cf00-4b88-abf7-35ed05ee369f');\n",
       "var x = new MutationObserver(function (mutations, observer) {{\n",
       "        var display = window.getComputedStyle(gd).display;\n",
       "        if (!display || display === 'none') {{\n",
       "            console.log([gd, 'removed!']);\n",
       "            Plotly.purge(gd);\n",
       "            observer.disconnect();\n",
       "        }}\n",
       "}});\n",
       "\n",
       "// Listen for the removal of the full notebook cells\n",
       "var notebookContainer = gd.closest('#notebook-container');\n",
       "if (notebookContainer) {{\n",
       "    x.observe(notebookContainer, {childList: true});\n",
       "}}\n",
       "\n",
       "// Listen for the clearing of the current output cell\n",
       "var outputEl = gd.closest('.output');\n",
       "if (outputEl) {{\n",
       "    x.observe(outputEl, {childList: true});\n",
       "}}\n",
       "\n",
       "                        })                };                });            </script>        </div>"
      ]
     },
     "metadata": {},
     "output_type": "display_data"
    }
   ],
   "source": [
    "\n",
    "plot_model(lda, plot = 'topic_distribution')"
   ]
  },
  {
   "cell_type": "code",
   "execution_count": 11,
   "id": "searching-proportion",
   "metadata": {},
   "outputs": [
    {
     "data": {
      "text/html": [
       "        <script type=\"text/javascript\">\n",
       "        window.PlotlyConfig = {MathJaxConfig: 'local'};\n",
       "        if (window.MathJax) {MathJax.Hub.Config({SVG: {font: \"STIX-Web\"}});}\n",
       "        if (typeof require !== 'undefined') {\n",
       "        require.undef(\"plotly\");\n",
       "        requirejs.config({\n",
       "            paths: {\n",
       "                'plotly': ['https://cdn.plot.ly/plotly-latest.min']\n",
       "            }\n",
       "        });\n",
       "        require(['plotly'], function(Plotly) {\n",
       "            window._Plotly = Plotly;\n",
       "        });\n",
       "        }\n",
       "        </script>\n",
       "        "
      ]
     },
     "metadata": {},
     "output_type": "display_data"
    },
    {
     "data": {
      "application/vnd.plotly.v1+json": {
       "config": {
        "linkText": "Export to plot.ly",
        "plotlyServerURL": "https://plot.ly",
        "showLink": true
       },
       "data": [
        {
         "marker": {
          "color": "rgba(255, 153, 51, 0.6)",
          "line": {
           "color": "rgba(255, 153, 51, 1.0)",
           "width": 1
          }
         },
         "name": "count",
         "orientation": "v",
         "text": "",
         "type": "bar",
         "x": [
          "good",
          "feel",
          "help",
          "time",
          "relationship",
          "may",
          "anxiety",
          "deal",
          "possible",
          "depression",
          "therapy",
          "life",
          "therapist",
          "boyfriend",
          "stop",
          "struggle",
          "husband",
          "friend",
          "talk",
          "people",
          "partner",
          "experience",
          "issue",
          "cry",
          "mother",
          "child",
          "work",
          "normal",
          "daughter",
          "problem",
          "ever",
          "difficult",
          "love",
          "seek",
          "sex",
          "important",
          "family",
          "tip",
          "hard",
          "marriage",
          "parent",
          "feeling",
          "first",
          "idea",
          "change",
          "long",
          "girlfriend",
          "common",
          "break",
          "move",
          "abuse",
          "fear",
          "man",
          "write",
          "client",
          "disorder",
          "person",
          "heal",
          "nervous",
          "sexual",
          "situation",
          "improve",
          "alone",
          "true",
          "trust",
          "treatment",
          "care",
          "professional",
          "cheat",
          "session",
          "spend",
          "school",
          "wife",
          "anger",
          "stress",
          "social",
          "loss",
          "question",
          "abusive",
          "place",
          "wonder",
          "leave",
          "trauma",
          "enough",
          "year",
          "woman",
          "cause",
          "together",
          "difference",
          "live",
          "suffer",
          "wrong",
          "follow",
          "past",
          "listen",
          "understand",
          "back",
          "job",
          "angry",
          "support"
         ],
         "y": [
          286,
          223,
          211,
          189,
          173,
          152,
          123,
          122,
          121,
          116,
          108,
          108,
          101,
          100,
          97,
          92,
          86,
          75,
          72,
          71,
          69,
          66,
          65,
          62,
          58,
          56,
          56,
          55,
          54,
          52,
          51,
          49,
          47,
          44,
          44,
          42,
          40,
          39,
          37,
          37,
          36,
          32,
          32,
          30,
          30,
          29,
          29,
          28,
          27,
          26,
          26,
          26,
          25,
          25,
          25,
          25,
          25,
          24,
          24,
          23,
          23,
          23,
          23,
          22,
          22,
          21,
          21,
          21,
          21,
          21,
          20,
          20,
          20,
          20,
          19,
          19,
          18,
          18,
          17,
          17,
          17,
          17,
          17,
          17,
          16,
          16,
          16,
          16,
          16,
          16,
          16,
          15,
          15,
          15,
          14,
          14,
          14,
          14,
          14,
          14
         ]
        }
       ],
       "layout": {
        "legend": {
         "bgcolor": "#F5F6F9",
         "font": {
          "color": "#4D5663"
         }
        },
        "paper_bgcolor": "#F5F6F9",
        "plot_bgcolor": "#F5F6F9",
        "template": {
         "data": {
          "bar": [
           {
            "error_x": {
             "color": "#2a3f5f"
            },
            "error_y": {
             "color": "#2a3f5f"
            },
            "marker": {
             "line": {
              "color": "#E5ECF6",
              "width": 0.5
             }
            },
            "type": "bar"
           }
          ],
          "barpolar": [
           {
            "marker": {
             "line": {
              "color": "#E5ECF6",
              "width": 0.5
             }
            },
            "type": "barpolar"
           }
          ],
          "carpet": [
           {
            "aaxis": {
             "endlinecolor": "#2a3f5f",
             "gridcolor": "white",
             "linecolor": "white",
             "minorgridcolor": "white",
             "startlinecolor": "#2a3f5f"
            },
            "baxis": {
             "endlinecolor": "#2a3f5f",
             "gridcolor": "white",
             "linecolor": "white",
             "minorgridcolor": "white",
             "startlinecolor": "#2a3f5f"
            },
            "type": "carpet"
           }
          ],
          "choropleth": [
           {
            "colorbar": {
             "outlinewidth": 0,
             "ticks": ""
            },
            "type": "choropleth"
           }
          ],
          "contour": [
           {
            "colorbar": {
             "outlinewidth": 0,
             "ticks": ""
            },
            "colorscale": [
             [
              0,
              "#0d0887"
             ],
             [
              0.1111111111111111,
              "#46039f"
             ],
             [
              0.2222222222222222,
              "#7201a8"
             ],
             [
              0.3333333333333333,
              "#9c179e"
             ],
             [
              0.4444444444444444,
              "#bd3786"
             ],
             [
              0.5555555555555556,
              "#d8576b"
             ],
             [
              0.6666666666666666,
              "#ed7953"
             ],
             [
              0.7777777777777778,
              "#fb9f3a"
             ],
             [
              0.8888888888888888,
              "#fdca26"
             ],
             [
              1,
              "#f0f921"
             ]
            ],
            "type": "contour"
           }
          ],
          "contourcarpet": [
           {
            "colorbar": {
             "outlinewidth": 0,
             "ticks": ""
            },
            "type": "contourcarpet"
           }
          ],
          "heatmap": [
           {
            "colorbar": {
             "outlinewidth": 0,
             "ticks": ""
            },
            "colorscale": [
             [
              0,
              "#0d0887"
             ],
             [
              0.1111111111111111,
              "#46039f"
             ],
             [
              0.2222222222222222,
              "#7201a8"
             ],
             [
              0.3333333333333333,
              "#9c179e"
             ],
             [
              0.4444444444444444,
              "#bd3786"
             ],
             [
              0.5555555555555556,
              "#d8576b"
             ],
             [
              0.6666666666666666,
              "#ed7953"
             ],
             [
              0.7777777777777778,
              "#fb9f3a"
             ],
             [
              0.8888888888888888,
              "#fdca26"
             ],
             [
              1,
              "#f0f921"
             ]
            ],
            "type": "heatmap"
           }
          ],
          "heatmapgl": [
           {
            "colorbar": {
             "outlinewidth": 0,
             "ticks": ""
            },
            "colorscale": [
             [
              0,
              "#0d0887"
             ],
             [
              0.1111111111111111,
              "#46039f"
             ],
             [
              0.2222222222222222,
              "#7201a8"
             ],
             [
              0.3333333333333333,
              "#9c179e"
             ],
             [
              0.4444444444444444,
              "#bd3786"
             ],
             [
              0.5555555555555556,
              "#d8576b"
             ],
             [
              0.6666666666666666,
              "#ed7953"
             ],
             [
              0.7777777777777778,
              "#fb9f3a"
             ],
             [
              0.8888888888888888,
              "#fdca26"
             ],
             [
              1,
              "#f0f921"
             ]
            ],
            "type": "heatmapgl"
           }
          ],
          "histogram": [
           {
            "marker": {
             "colorbar": {
              "outlinewidth": 0,
              "ticks": ""
             }
            },
            "type": "histogram"
           }
          ],
          "histogram2d": [
           {
            "colorbar": {
             "outlinewidth": 0,
             "ticks": ""
            },
            "colorscale": [
             [
              0,
              "#0d0887"
             ],
             [
              0.1111111111111111,
              "#46039f"
             ],
             [
              0.2222222222222222,
              "#7201a8"
             ],
             [
              0.3333333333333333,
              "#9c179e"
             ],
             [
              0.4444444444444444,
              "#bd3786"
             ],
             [
              0.5555555555555556,
              "#d8576b"
             ],
             [
              0.6666666666666666,
              "#ed7953"
             ],
             [
              0.7777777777777778,
              "#fb9f3a"
             ],
             [
              0.8888888888888888,
              "#fdca26"
             ],
             [
              1,
              "#f0f921"
             ]
            ],
            "type": "histogram2d"
           }
          ],
          "histogram2dcontour": [
           {
            "colorbar": {
             "outlinewidth": 0,
             "ticks": ""
            },
            "colorscale": [
             [
              0,
              "#0d0887"
             ],
             [
              0.1111111111111111,
              "#46039f"
             ],
             [
              0.2222222222222222,
              "#7201a8"
             ],
             [
              0.3333333333333333,
              "#9c179e"
             ],
             [
              0.4444444444444444,
              "#bd3786"
             ],
             [
              0.5555555555555556,
              "#d8576b"
             ],
             [
              0.6666666666666666,
              "#ed7953"
             ],
             [
              0.7777777777777778,
              "#fb9f3a"
             ],
             [
              0.8888888888888888,
              "#fdca26"
             ],
             [
              1,
              "#f0f921"
             ]
            ],
            "type": "histogram2dcontour"
           }
          ],
          "mesh3d": [
           {
            "colorbar": {
             "outlinewidth": 0,
             "ticks": ""
            },
            "type": "mesh3d"
           }
          ],
          "parcoords": [
           {
            "line": {
             "colorbar": {
              "outlinewidth": 0,
              "ticks": ""
             }
            },
            "type": "parcoords"
           }
          ],
          "pie": [
           {
            "automargin": true,
            "type": "pie"
           }
          ],
          "scatter": [
           {
            "marker": {
             "colorbar": {
              "outlinewidth": 0,
              "ticks": ""
             }
            },
            "type": "scatter"
           }
          ],
          "scatter3d": [
           {
            "line": {
             "colorbar": {
              "outlinewidth": 0,
              "ticks": ""
             }
            },
            "marker": {
             "colorbar": {
              "outlinewidth": 0,
              "ticks": ""
             }
            },
            "type": "scatter3d"
           }
          ],
          "scattercarpet": [
           {
            "marker": {
             "colorbar": {
              "outlinewidth": 0,
              "ticks": ""
             }
            },
            "type": "scattercarpet"
           }
          ],
          "scattergeo": [
           {
            "marker": {
             "colorbar": {
              "outlinewidth": 0,
              "ticks": ""
             }
            },
            "type": "scattergeo"
           }
          ],
          "scattergl": [
           {
            "marker": {
             "colorbar": {
              "outlinewidth": 0,
              "ticks": ""
             }
            },
            "type": "scattergl"
           }
          ],
          "scattermapbox": [
           {
            "marker": {
             "colorbar": {
              "outlinewidth": 0,
              "ticks": ""
             }
            },
            "type": "scattermapbox"
           }
          ],
          "scatterpolar": [
           {
            "marker": {
             "colorbar": {
              "outlinewidth": 0,
              "ticks": ""
             }
            },
            "type": "scatterpolar"
           }
          ],
          "scatterpolargl": [
           {
            "marker": {
             "colorbar": {
              "outlinewidth": 0,
              "ticks": ""
             }
            },
            "type": "scatterpolargl"
           }
          ],
          "scatterternary": [
           {
            "marker": {
             "colorbar": {
              "outlinewidth": 0,
              "ticks": ""
             }
            },
            "type": "scatterternary"
           }
          ],
          "surface": [
           {
            "colorbar": {
             "outlinewidth": 0,
             "ticks": ""
            },
            "colorscale": [
             [
              0,
              "#0d0887"
             ],
             [
              0.1111111111111111,
              "#46039f"
             ],
             [
              0.2222222222222222,
              "#7201a8"
             ],
             [
              0.3333333333333333,
              "#9c179e"
             ],
             [
              0.4444444444444444,
              "#bd3786"
             ],
             [
              0.5555555555555556,
              "#d8576b"
             ],
             [
              0.6666666666666666,
              "#ed7953"
             ],
             [
              0.7777777777777778,
              "#fb9f3a"
             ],
             [
              0.8888888888888888,
              "#fdca26"
             ],
             [
              1,
              "#f0f921"
             ]
            ],
            "type": "surface"
           }
          ],
          "table": [
           {
            "cells": {
             "fill": {
              "color": "#EBF0F8"
             },
             "line": {
              "color": "white"
             }
            },
            "header": {
             "fill": {
              "color": "#C8D4E3"
             },
             "line": {
              "color": "white"
             }
            },
            "type": "table"
           }
          ]
         },
         "layout": {
          "annotationdefaults": {
           "arrowcolor": "#2a3f5f",
           "arrowhead": 0,
           "arrowwidth": 1
          },
          "autotypenumbers": "strict",
          "coloraxis": {
           "colorbar": {
            "outlinewidth": 0,
            "ticks": ""
           }
          },
          "colorscale": {
           "diverging": [
            [
             0,
             "#8e0152"
            ],
            [
             0.1,
             "#c51b7d"
            ],
            [
             0.2,
             "#de77ae"
            ],
            [
             0.3,
             "#f1b6da"
            ],
            [
             0.4,
             "#fde0ef"
            ],
            [
             0.5,
             "#f7f7f7"
            ],
            [
             0.6,
             "#e6f5d0"
            ],
            [
             0.7,
             "#b8e186"
            ],
            [
             0.8,
             "#7fbc41"
            ],
            [
             0.9,
             "#4d9221"
            ],
            [
             1,
             "#276419"
            ]
           ],
           "sequential": [
            [
             0,
             "#0d0887"
            ],
            [
             0.1111111111111111,
             "#46039f"
            ],
            [
             0.2222222222222222,
             "#7201a8"
            ],
            [
             0.3333333333333333,
             "#9c179e"
            ],
            [
             0.4444444444444444,
             "#bd3786"
            ],
            [
             0.5555555555555556,
             "#d8576b"
            ],
            [
             0.6666666666666666,
             "#ed7953"
            ],
            [
             0.7777777777777778,
             "#fb9f3a"
            ],
            [
             0.8888888888888888,
             "#fdca26"
            ],
            [
             1,
             "#f0f921"
            ]
           ],
           "sequentialminus": [
            [
             0,
             "#0d0887"
            ],
            [
             0.1111111111111111,
             "#46039f"
            ],
            [
             0.2222222222222222,
             "#7201a8"
            ],
            [
             0.3333333333333333,
             "#9c179e"
            ],
            [
             0.4444444444444444,
             "#bd3786"
            ],
            [
             0.5555555555555556,
             "#d8576b"
            ],
            [
             0.6666666666666666,
             "#ed7953"
            ],
            [
             0.7777777777777778,
             "#fb9f3a"
            ],
            [
             0.8888888888888888,
             "#fdca26"
            ],
            [
             1,
             "#f0f921"
            ]
           ]
          },
          "colorway": [
           "#636efa",
           "#EF553B",
           "#00cc96",
           "#ab63fa",
           "#FFA15A",
           "#19d3f3",
           "#FF6692",
           "#B6E880",
           "#FF97FF",
           "#FECB52"
          ],
          "font": {
           "color": "#2a3f5f"
          },
          "geo": {
           "bgcolor": "white",
           "lakecolor": "white",
           "landcolor": "#E5ECF6",
           "showlakes": true,
           "showland": true,
           "subunitcolor": "white"
          },
          "hoverlabel": {
           "align": "left"
          },
          "hovermode": "closest",
          "mapbox": {
           "style": "light"
          },
          "paper_bgcolor": "white",
          "plot_bgcolor": "#E5ECF6",
          "polar": {
           "angularaxis": {
            "gridcolor": "white",
            "linecolor": "white",
            "ticks": ""
           },
           "bgcolor": "#E5ECF6",
           "radialaxis": {
            "gridcolor": "white",
            "linecolor": "white",
            "ticks": ""
           }
          },
          "scene": {
           "xaxis": {
            "backgroundcolor": "#E5ECF6",
            "gridcolor": "white",
            "gridwidth": 2,
            "linecolor": "white",
            "showbackground": true,
            "ticks": "",
            "zerolinecolor": "white"
           },
           "yaxis": {
            "backgroundcolor": "#E5ECF6",
            "gridcolor": "white",
            "gridwidth": 2,
            "linecolor": "white",
            "showbackground": true,
            "ticks": "",
            "zerolinecolor": "white"
           },
           "zaxis": {
            "backgroundcolor": "#E5ECF6",
            "gridcolor": "white",
            "gridwidth": 2,
            "linecolor": "white",
            "showbackground": true,
            "ticks": "",
            "zerolinecolor": "white"
           }
          },
          "shapedefaults": {
           "line": {
            "color": "#2a3f5f"
           }
          },
          "ternary": {
           "aaxis": {
            "gridcolor": "white",
            "linecolor": "white",
            "ticks": ""
           },
           "baxis": {
            "gridcolor": "white",
            "linecolor": "white",
            "ticks": ""
           },
           "bgcolor": "#E5ECF6",
           "caxis": {
            "gridcolor": "white",
            "linecolor": "white",
            "ticks": ""
           }
          },
          "title": {
           "x": 0.05
          },
          "xaxis": {
           "automargin": true,
           "gridcolor": "white",
           "linecolor": "white",
           "ticks": "",
           "title": {
            "standoff": 15
           },
           "zerolinecolor": "white",
           "zerolinewidth": 2
          },
          "yaxis": {
           "automargin": true,
           "gridcolor": "white",
           "linecolor": "white",
           "ticks": "",
           "title": {
            "standoff": 15
           },
           "zerolinecolor": "white",
           "zerolinewidth": 2
          }
         }
        },
        "title": {
         "font": {
          "color": "#4D5663"
         },
         "text": "Top 100 words after removing stop words"
        },
        "xaxis": {
         "gridcolor": "#E1E5ED",
         "linecolor": "black",
         "showgrid": true,
         "tickfont": {
          "color": "#4D5663"
         },
         "title": {
          "font": {
           "color": "#4D5663"
          },
          "text": ""
         },
         "zerolinecolor": "#E1E5ED"
        },
        "yaxis": {
         "gridcolor": "#E1E5ED",
         "linecolor": "black",
         "showgrid": true,
         "tickfont": {
          "color": "#4D5663"
         },
         "title": {
          "font": {
           "color": "#4D5663"
          },
          "text": "Count"
         },
         "zerolinecolor": "#E1E5ED"
        }
       }
      },
      "text/html": [
       "<div>                            <div id=\"2a0b87ee-5305-49ab-88dd-182b4b9b6ee1\" class=\"plotly-graph-div\" style=\"height:525px; width:100%;\"></div>            <script type=\"text/javascript\">                require([\"plotly\"], function(Plotly) {                    window.PLOTLYENV=window.PLOTLYENV || {};\n",
       "                    window.PLOTLYENV.BASE_URL='https://plot.ly';                                    if (document.getElementById(\"2a0b87ee-5305-49ab-88dd-182b4b9b6ee1\")) {                    Plotly.newPlot(                        \"2a0b87ee-5305-49ab-88dd-182b4b9b6ee1\",                        [{\"marker\": {\"color\": \"rgba(255, 153, 51, 0.6)\", \"line\": {\"color\": \"rgba(255, 153, 51, 1.0)\", \"width\": 1}}, \"name\": \"count\", \"orientation\": \"v\", \"text\": \"\", \"type\": \"bar\", \"x\": [\"good\", \"feel\", \"help\", \"time\", \"relationship\", \"may\", \"anxiety\", \"deal\", \"possible\", \"depression\", \"therapy\", \"life\", \"therapist\", \"boyfriend\", \"stop\", \"struggle\", \"husband\", \"friend\", \"talk\", \"people\", \"partner\", \"experience\", \"issue\", \"cry\", \"mother\", \"child\", \"work\", \"normal\", \"daughter\", \"problem\", \"ever\", \"difficult\", \"love\", \"seek\", \"sex\", \"important\", \"family\", \"tip\", \"hard\", \"marriage\", \"parent\", \"feeling\", \"first\", \"idea\", \"change\", \"long\", \"girlfriend\", \"common\", \"break\", \"move\", \"abuse\", \"fear\", \"man\", \"write\", \"client\", \"disorder\", \"person\", \"heal\", \"nervous\", \"sexual\", \"situation\", \"improve\", \"alone\", \"true\", \"trust\", \"treatment\", \"care\", \"professional\", \"cheat\", \"session\", \"spend\", \"school\", \"wife\", \"anger\", \"stress\", \"social\", \"loss\", \"question\", \"abusive\", \"place\", \"wonder\", \"leave\", \"trauma\", \"enough\", \"year\", \"woman\", \"cause\", \"together\", \"difference\", \"live\", \"suffer\", \"wrong\", \"follow\", \"past\", \"listen\", \"understand\", \"back\", \"job\", \"angry\", \"support\"], \"y\": [286, 223, 211, 189, 173, 152, 123, 122, 121, 116, 108, 108, 101, 100, 97, 92, 86, 75, 72, 71, 69, 66, 65, 62, 58, 56, 56, 55, 54, 52, 51, 49, 47, 44, 44, 42, 40, 39, 37, 37, 36, 32, 32, 30, 30, 29, 29, 28, 27, 26, 26, 26, 25, 25, 25, 25, 25, 24, 24, 23, 23, 23, 23, 22, 22, 21, 21, 21, 21, 21, 20, 20, 20, 20, 19, 19, 18, 18, 17, 17, 17, 17, 17, 17, 16, 16, 16, 16, 16, 16, 16, 15, 15, 15, 14, 14, 14, 14, 14, 14]}],                        {\"legend\": {\"bgcolor\": \"#F5F6F9\", \"font\": {\"color\": \"#4D5663\"}}, \"paper_bgcolor\": \"#F5F6F9\", \"plot_bgcolor\": \"#F5F6F9\", \"template\": {\"data\": {\"bar\": [{\"error_x\": {\"color\": \"#2a3f5f\"}, \"error_y\": {\"color\": \"#2a3f5f\"}, \"marker\": {\"line\": {\"color\": \"#E5ECF6\", \"width\": 0.5}}, \"type\": \"bar\"}], \"barpolar\": [{\"marker\": {\"line\": {\"color\": \"#E5ECF6\", \"width\": 0.5}}, \"type\": \"barpolar\"}], \"carpet\": [{\"aaxis\": {\"endlinecolor\": \"#2a3f5f\", \"gridcolor\": \"white\", \"linecolor\": \"white\", \"minorgridcolor\": \"white\", \"startlinecolor\": \"#2a3f5f\"}, \"baxis\": {\"endlinecolor\": \"#2a3f5f\", \"gridcolor\": \"white\", \"linecolor\": \"white\", \"minorgridcolor\": \"white\", \"startlinecolor\": \"#2a3f5f\"}, \"type\": \"carpet\"}], \"choropleth\": [{\"colorbar\": {\"outlinewidth\": 0, \"ticks\": \"\"}, \"type\": \"choropleth\"}], \"contour\": [{\"colorbar\": {\"outlinewidth\": 0, \"ticks\": \"\"}, \"colorscale\": [[0.0, \"#0d0887\"], [0.1111111111111111, \"#46039f\"], [0.2222222222222222, \"#7201a8\"], [0.3333333333333333, \"#9c179e\"], [0.4444444444444444, \"#bd3786\"], [0.5555555555555556, \"#d8576b\"], [0.6666666666666666, \"#ed7953\"], [0.7777777777777778, \"#fb9f3a\"], [0.8888888888888888, \"#fdca26\"], [1.0, \"#f0f921\"]], \"type\": \"contour\"}], \"contourcarpet\": [{\"colorbar\": {\"outlinewidth\": 0, \"ticks\": \"\"}, \"type\": \"contourcarpet\"}], \"heatmap\": [{\"colorbar\": {\"outlinewidth\": 0, \"ticks\": \"\"}, \"colorscale\": [[0.0, \"#0d0887\"], [0.1111111111111111, \"#46039f\"], [0.2222222222222222, \"#7201a8\"], [0.3333333333333333, \"#9c179e\"], [0.4444444444444444, \"#bd3786\"], [0.5555555555555556, \"#d8576b\"], [0.6666666666666666, \"#ed7953\"], [0.7777777777777778, \"#fb9f3a\"], [0.8888888888888888, \"#fdca26\"], [1.0, \"#f0f921\"]], \"type\": \"heatmap\"}], \"heatmapgl\": [{\"colorbar\": {\"outlinewidth\": 0, \"ticks\": \"\"}, \"colorscale\": [[0.0, \"#0d0887\"], [0.1111111111111111, \"#46039f\"], [0.2222222222222222, \"#7201a8\"], [0.3333333333333333, \"#9c179e\"], [0.4444444444444444, \"#bd3786\"], [0.5555555555555556, \"#d8576b\"], [0.6666666666666666, \"#ed7953\"], [0.7777777777777778, \"#fb9f3a\"], [0.8888888888888888, \"#fdca26\"], [1.0, \"#f0f921\"]], \"type\": \"heatmapgl\"}], \"histogram\": [{\"marker\": {\"colorbar\": {\"outlinewidth\": 0, \"ticks\": \"\"}}, \"type\": \"histogram\"}], \"histogram2d\": [{\"colorbar\": {\"outlinewidth\": 0, \"ticks\": \"\"}, \"colorscale\": [[0.0, \"#0d0887\"], [0.1111111111111111, \"#46039f\"], [0.2222222222222222, \"#7201a8\"], [0.3333333333333333, \"#9c179e\"], [0.4444444444444444, \"#bd3786\"], [0.5555555555555556, \"#d8576b\"], [0.6666666666666666, \"#ed7953\"], [0.7777777777777778, \"#fb9f3a\"], [0.8888888888888888, \"#fdca26\"], [1.0, \"#f0f921\"]], \"type\": \"histogram2d\"}], \"histogram2dcontour\": [{\"colorbar\": {\"outlinewidth\": 0, \"ticks\": \"\"}, \"colorscale\": [[0.0, \"#0d0887\"], [0.1111111111111111, \"#46039f\"], [0.2222222222222222, \"#7201a8\"], [0.3333333333333333, \"#9c179e\"], [0.4444444444444444, \"#bd3786\"], [0.5555555555555556, \"#d8576b\"], [0.6666666666666666, \"#ed7953\"], [0.7777777777777778, \"#fb9f3a\"], [0.8888888888888888, \"#fdca26\"], [1.0, \"#f0f921\"]], \"type\": \"histogram2dcontour\"}], \"mesh3d\": [{\"colorbar\": {\"outlinewidth\": 0, \"ticks\": \"\"}, \"type\": \"mesh3d\"}], \"parcoords\": [{\"line\": {\"colorbar\": {\"outlinewidth\": 0, \"ticks\": \"\"}}, \"type\": \"parcoords\"}], \"pie\": [{\"automargin\": true, \"type\": \"pie\"}], \"scatter\": [{\"marker\": {\"colorbar\": {\"outlinewidth\": 0, \"ticks\": \"\"}}, \"type\": \"scatter\"}], \"scatter3d\": [{\"line\": {\"colorbar\": {\"outlinewidth\": 0, \"ticks\": \"\"}}, \"marker\": {\"colorbar\": {\"outlinewidth\": 0, \"ticks\": \"\"}}, \"type\": \"scatter3d\"}], \"scattercarpet\": [{\"marker\": {\"colorbar\": {\"outlinewidth\": 0, \"ticks\": \"\"}}, \"type\": \"scattercarpet\"}], \"scattergeo\": [{\"marker\": {\"colorbar\": {\"outlinewidth\": 0, \"ticks\": \"\"}}, \"type\": \"scattergeo\"}], \"scattergl\": [{\"marker\": {\"colorbar\": {\"outlinewidth\": 0, \"ticks\": \"\"}}, \"type\": \"scattergl\"}], \"scattermapbox\": [{\"marker\": {\"colorbar\": {\"outlinewidth\": 0, \"ticks\": \"\"}}, \"type\": \"scattermapbox\"}], \"scatterpolar\": [{\"marker\": {\"colorbar\": {\"outlinewidth\": 0, \"ticks\": \"\"}}, \"type\": \"scatterpolar\"}], \"scatterpolargl\": [{\"marker\": {\"colorbar\": {\"outlinewidth\": 0, \"ticks\": \"\"}}, \"type\": \"scatterpolargl\"}], \"scatterternary\": [{\"marker\": {\"colorbar\": {\"outlinewidth\": 0, \"ticks\": \"\"}}, \"type\": \"scatterternary\"}], \"surface\": [{\"colorbar\": {\"outlinewidth\": 0, \"ticks\": \"\"}, \"colorscale\": [[0.0, \"#0d0887\"], [0.1111111111111111, \"#46039f\"], [0.2222222222222222, \"#7201a8\"], [0.3333333333333333, \"#9c179e\"], [0.4444444444444444, \"#bd3786\"], [0.5555555555555556, \"#d8576b\"], [0.6666666666666666, \"#ed7953\"], [0.7777777777777778, \"#fb9f3a\"], [0.8888888888888888, \"#fdca26\"], [1.0, \"#f0f921\"]], \"type\": \"surface\"}], \"table\": [{\"cells\": {\"fill\": {\"color\": \"#EBF0F8\"}, \"line\": {\"color\": \"white\"}}, \"header\": {\"fill\": {\"color\": \"#C8D4E3\"}, \"line\": {\"color\": \"white\"}}, \"type\": \"table\"}]}, \"layout\": {\"annotationdefaults\": {\"arrowcolor\": \"#2a3f5f\", \"arrowhead\": 0, \"arrowwidth\": 1}, \"autotypenumbers\": \"strict\", \"coloraxis\": {\"colorbar\": {\"outlinewidth\": 0, \"ticks\": \"\"}}, \"colorscale\": {\"diverging\": [[0, \"#8e0152\"], [0.1, \"#c51b7d\"], [0.2, \"#de77ae\"], [0.3, \"#f1b6da\"], [0.4, \"#fde0ef\"], [0.5, \"#f7f7f7\"], [0.6, \"#e6f5d0\"], [0.7, \"#b8e186\"], [0.8, \"#7fbc41\"], [0.9, \"#4d9221\"], [1, \"#276419\"]], \"sequential\": [[0.0, \"#0d0887\"], [0.1111111111111111, \"#46039f\"], [0.2222222222222222, \"#7201a8\"], [0.3333333333333333, \"#9c179e\"], [0.4444444444444444, \"#bd3786\"], [0.5555555555555556, \"#d8576b\"], [0.6666666666666666, \"#ed7953\"], [0.7777777777777778, \"#fb9f3a\"], [0.8888888888888888, \"#fdca26\"], [1.0, \"#f0f921\"]], \"sequentialminus\": [[0.0, \"#0d0887\"], [0.1111111111111111, \"#46039f\"], [0.2222222222222222, \"#7201a8\"], [0.3333333333333333, \"#9c179e\"], [0.4444444444444444, \"#bd3786\"], [0.5555555555555556, \"#d8576b\"], [0.6666666666666666, \"#ed7953\"], [0.7777777777777778, \"#fb9f3a\"], [0.8888888888888888, \"#fdca26\"], [1.0, \"#f0f921\"]]}, \"colorway\": [\"#636efa\", \"#EF553B\", \"#00cc96\", \"#ab63fa\", \"#FFA15A\", \"#19d3f3\", \"#FF6692\", \"#B6E880\", \"#FF97FF\", \"#FECB52\"], \"font\": {\"color\": \"#2a3f5f\"}, \"geo\": {\"bgcolor\": \"white\", \"lakecolor\": \"white\", \"landcolor\": \"#E5ECF6\", \"showlakes\": true, \"showland\": true, \"subunitcolor\": \"white\"}, \"hoverlabel\": {\"align\": \"left\"}, \"hovermode\": \"closest\", \"mapbox\": {\"style\": \"light\"}, \"paper_bgcolor\": \"white\", \"plot_bgcolor\": \"#E5ECF6\", \"polar\": {\"angularaxis\": {\"gridcolor\": \"white\", \"linecolor\": \"white\", \"ticks\": \"\"}, \"bgcolor\": \"#E5ECF6\", \"radialaxis\": {\"gridcolor\": \"white\", \"linecolor\": \"white\", \"ticks\": \"\"}}, \"scene\": {\"xaxis\": {\"backgroundcolor\": \"#E5ECF6\", \"gridcolor\": \"white\", \"gridwidth\": 2, \"linecolor\": \"white\", \"showbackground\": true, \"ticks\": \"\", \"zerolinecolor\": \"white\"}, \"yaxis\": {\"backgroundcolor\": \"#E5ECF6\", \"gridcolor\": \"white\", \"gridwidth\": 2, \"linecolor\": \"white\", \"showbackground\": true, \"ticks\": \"\", \"zerolinecolor\": \"white\"}, \"zaxis\": {\"backgroundcolor\": \"#E5ECF6\", \"gridcolor\": \"white\", \"gridwidth\": 2, \"linecolor\": \"white\", \"showbackground\": true, \"ticks\": \"\", \"zerolinecolor\": \"white\"}}, \"shapedefaults\": {\"line\": {\"color\": \"#2a3f5f\"}}, \"ternary\": {\"aaxis\": {\"gridcolor\": \"white\", \"linecolor\": \"white\", \"ticks\": \"\"}, \"baxis\": {\"gridcolor\": \"white\", \"linecolor\": \"white\", \"ticks\": \"\"}, \"bgcolor\": \"#E5ECF6\", \"caxis\": {\"gridcolor\": \"white\", \"linecolor\": \"white\", \"ticks\": \"\"}}, \"title\": {\"x\": 0.05}, \"xaxis\": {\"automargin\": true, \"gridcolor\": \"white\", \"linecolor\": \"white\", \"ticks\": \"\", \"title\": {\"standoff\": 15}, \"zerolinecolor\": \"white\", \"zerolinewidth\": 2}, \"yaxis\": {\"automargin\": true, \"gridcolor\": \"white\", \"linecolor\": \"white\", \"ticks\": \"\", \"title\": {\"standoff\": 15}, \"zerolinecolor\": \"white\", \"zerolinewidth\": 2}}}, \"title\": {\"font\": {\"color\": \"#4D5663\"}, \"text\": \"Top 100 words after removing stop words\"}, \"xaxis\": {\"gridcolor\": \"#E1E5ED\", \"linecolor\": \"black\", \"showgrid\": true, \"tickfont\": {\"color\": \"#4D5663\"}, \"title\": {\"font\": {\"color\": \"#4D5663\"}, \"text\": \"\"}, \"zerolinecolor\": \"#E1E5ED\"}, \"yaxis\": {\"gridcolor\": \"#E1E5ED\", \"linecolor\": \"black\", \"showgrid\": true, \"tickfont\": {\"color\": \"#4D5663\"}, \"title\": {\"font\": {\"color\": \"#4D5663\"}, \"text\": \"Count\"}, \"zerolinecolor\": \"#E1E5ED\"}},                        {\"showLink\": true, \"linkText\": \"Export to plot.ly\", \"plotlyServerURL\": \"https://plot.ly\", \"responsive\": true}                    ).then(function(){\n",
       "                            \n",
       "var gd = document.getElementById('2a0b87ee-5305-49ab-88dd-182b4b9b6ee1');\n",
       "var x = new MutationObserver(function (mutations, observer) {{\n",
       "        var display = window.getComputedStyle(gd).display;\n",
       "        if (!display || display === 'none') {{\n",
       "            console.log([gd, 'removed!']);\n",
       "            Plotly.purge(gd);\n",
       "            observer.disconnect();\n",
       "        }}\n",
       "}});\n",
       "\n",
       "// Listen for the removal of the full notebook cells\n",
       "var notebookContainer = gd.closest('#notebook-container');\n",
       "if (notebookContainer) {{\n",
       "    x.observe(notebookContainer, {childList: true});\n",
       "}}\n",
       "\n",
       "// Listen for the clearing of the current output cell\n",
       "var outputEl = gd.closest('.output');\n",
       "if (outputEl) {{\n",
       "    x.observe(outputEl, {childList: true});\n",
       "}}\n",
       "\n",
       "                        })                };                });            </script>        </div>"
      ]
     },
     "metadata": {},
     "output_type": "display_data"
    }
   ],
   "source": [
    "plot_model()"
   ]
  },
  {
   "cell_type": "code",
   "execution_count": 16,
   "id": "synthetic-grill",
   "metadata": {},
   "outputs": [
    {
     "ename": "NameError",
     "evalue": "name 'get_model_plot' is not defined",
     "output_type": "error",
     "traceback": [
      "\u001b[0;31m---------------------------------------------------------------------------\u001b[0m",
      "\u001b[0;31mNameError\u001b[0m                                 Traceback (most recent call last)",
      "\u001b[0;32m<ipython-input-16-fe947a526676>\u001b[0m in \u001b[0;36m<module>\u001b[0;34m\u001b[0m\n\u001b[0;32m----> 1\u001b[0;31m \u001b[0mmplot\u001b[0m \u001b[0;34m=\u001b[0m \u001b[0mget_model_plot\u001b[0m\u001b[0;34m(\u001b[0m\u001b[0;34m)\u001b[0m\u001b[0;34m\u001b[0m\u001b[0;34m\u001b[0m\u001b[0m\n\u001b[0m\u001b[1;32m      2\u001b[0m \u001b[0mprint\u001b[0m\u001b[0;34m(\u001b[0m\u001b[0mmplot\u001b[0m\u001b[0;34m)\u001b[0m\u001b[0;34m\u001b[0m\u001b[0;34m\u001b[0m\u001b[0m\n",
      "\u001b[0;31mNameError\u001b[0m: name 'get_model_plot' is not defined"
     ]
    }
   ],
   "source": [
    " mplot = get_model_plot()\n",
    "print(mplot)"
   ]
  },
  {
   "cell_type": "code",
   "execution_count": 12,
   "id": "black-fusion",
   "metadata": {},
   "outputs": [
    {
     "data": {
      "text/html": [
       "        <script type=\"text/javascript\">\n",
       "        window.PlotlyConfig = {MathJaxConfig: 'local'};\n",
       "        if (window.MathJax) {MathJax.Hub.Config({SVG: {font: \"STIX-Web\"}});}\n",
       "        if (typeof require !== 'undefined') {\n",
       "        require.undef(\"plotly\");\n",
       "        requirejs.config({\n",
       "            paths: {\n",
       "                'plotly': ['https://cdn.plot.ly/plotly-latest.min']\n",
       "            }\n",
       "        });\n",
       "        require(['plotly'], function(Plotly) {\n",
       "            window._Plotly = Plotly;\n",
       "        });\n",
       "        }\n",
       "        </script>\n",
       "        "
      ]
     },
     "metadata": {},
     "output_type": "display_data"
    },
    {
     "data": {
      "application/vnd.plotly.v1+json": {
       "config": {
        "linkText": "Export to plot.ly",
        "plotlyServerURL": "https://plot.ly",
        "showLink": true
       },
       "data": [
        {
         "marker": {
          "color": "rgba(255, 153, 51, 0.6)",
          "line": {
           "color": "rgba(255, 153, 51, 1.0)",
           "width": 1
          }
         },
         "name": "count",
         "orientation": "v",
         "text": "",
         "type": "bar",
         "x": [
          "good deal",
          "may time",
          "struggle depression",
          "depression anxiety",
          "cry therapy",
          "seek help",
          "tip help",
          "good idea",
          "time seek",
          "hard time",
          "heal issue",
          "friend friend",
          "issue heal",
          "life may",
          "good help",
          "spend time",
          "nervous therapy",
          "good enough",
          "feel nervous",
          "anxiety depression",
          "deal anxiety",
          "feel good",
          "family member",
          "normal cry",
          "good talk",
          "ever feel",
          "anxiety may",
          "help therapist",
          "deal depression",
          "experience may",
          "ever wonder",
          "good relationship",
          "normal feel",
          "good therapist",
          "good time",
          "abusive relationship",
          "feel boyfriend",
          "change life",
          "stop boyfriend",
          "may good",
          "first time",
          "break boyfriend",
          "help feel",
          "post_traumatic_stress disorder",
          "always good",
          "social anxiety",
          "ever situation",
          "talk therapist",
          "thank_take time",
          "therapeutic relationship",
          "therapist help",
          "therapy session",
          "time talk",
          "long time",
          "stop feel",
          "long distance",
          "sex life",
          "relationship boyfriend",
          "professional help",
          "possible daughter",
          "common problem",
          "good break",
          "deal loss",
          "help people",
          "feel anxious",
          "help depression",
          "help deal",
          "inrdeals_inrdeals_inrdeals_inrdeals inrdeals_inrdeals_inrdeals_inrdeals",
          "time therapist",
          "enough feel",
          "distance relationship",
          "autism_spectrum_disorder autism_spectrum_disorder",
          "experience follow",
          "good stop",
          "healthy relationship",
          "sex drive",
          "time write",
          "feel little",
          "good friend",
          "struggle anxiety",
          "problem relationship",
          "may talk",
          "cry normal",
          "anxiety issue",
          "feel sad",
          "time friend",
          "anxiety therapist",
          "difficult time",
          "stop husband",
          "soon possible",
          "issue may",
          "seek professional",
          "bipolar disorder",
          "help along",
          "reduce anxiety",
          "people experience",
          "depression tip",
          "important remember",
          "depression may",
          "hear voice"
         ],
         "y": [
          58,
          54,
          41,
          39,
          36,
          35,
          30,
          28,
          25,
          24,
          20,
          20,
          16,
          14,
          14,
          14,
          14,
          13,
          13,
          12,
          12,
          12,
          11,
          11,
          11,
          11,
          11,
          11,
          10,
          10,
          10,
          10,
          10,
          9,
          9,
          9,
          9,
          8,
          8,
          8,
          8,
          8,
          8,
          8,
          8,
          8,
          8,
          8,
          8,
          8,
          8,
          8,
          8,
          8,
          7,
          7,
          7,
          7,
          7,
          7,
          7,
          7,
          7,
          7,
          7,
          7,
          7,
          6,
          6,
          6,
          6,
          6,
          6,
          6,
          6,
          6,
          6,
          6,
          6,
          6,
          6,
          6,
          6,
          6,
          6,
          5,
          5,
          5,
          5,
          5,
          5,
          5,
          5,
          5,
          5,
          5,
          5,
          5,
          5,
          5
         ]
        }
       ],
       "layout": {
        "legend": {
         "bgcolor": "#F5F6F9",
         "font": {
          "color": "#4D5663"
         }
        },
        "paper_bgcolor": "#F5F6F9",
        "plot_bgcolor": "#F5F6F9",
        "template": {
         "data": {
          "bar": [
           {
            "error_x": {
             "color": "#2a3f5f"
            },
            "error_y": {
             "color": "#2a3f5f"
            },
            "marker": {
             "line": {
              "color": "#E5ECF6",
              "width": 0.5
             }
            },
            "type": "bar"
           }
          ],
          "barpolar": [
           {
            "marker": {
             "line": {
              "color": "#E5ECF6",
              "width": 0.5
             }
            },
            "type": "barpolar"
           }
          ],
          "carpet": [
           {
            "aaxis": {
             "endlinecolor": "#2a3f5f",
             "gridcolor": "white",
             "linecolor": "white",
             "minorgridcolor": "white",
             "startlinecolor": "#2a3f5f"
            },
            "baxis": {
             "endlinecolor": "#2a3f5f",
             "gridcolor": "white",
             "linecolor": "white",
             "minorgridcolor": "white",
             "startlinecolor": "#2a3f5f"
            },
            "type": "carpet"
           }
          ],
          "choropleth": [
           {
            "colorbar": {
             "outlinewidth": 0,
             "ticks": ""
            },
            "type": "choropleth"
           }
          ],
          "contour": [
           {
            "colorbar": {
             "outlinewidth": 0,
             "ticks": ""
            },
            "colorscale": [
             [
              0,
              "#0d0887"
             ],
             [
              0.1111111111111111,
              "#46039f"
             ],
             [
              0.2222222222222222,
              "#7201a8"
             ],
             [
              0.3333333333333333,
              "#9c179e"
             ],
             [
              0.4444444444444444,
              "#bd3786"
             ],
             [
              0.5555555555555556,
              "#d8576b"
             ],
             [
              0.6666666666666666,
              "#ed7953"
             ],
             [
              0.7777777777777778,
              "#fb9f3a"
             ],
             [
              0.8888888888888888,
              "#fdca26"
             ],
             [
              1,
              "#f0f921"
             ]
            ],
            "type": "contour"
           }
          ],
          "contourcarpet": [
           {
            "colorbar": {
             "outlinewidth": 0,
             "ticks": ""
            },
            "type": "contourcarpet"
           }
          ],
          "heatmap": [
           {
            "colorbar": {
             "outlinewidth": 0,
             "ticks": ""
            },
            "colorscale": [
             [
              0,
              "#0d0887"
             ],
             [
              0.1111111111111111,
              "#46039f"
             ],
             [
              0.2222222222222222,
              "#7201a8"
             ],
             [
              0.3333333333333333,
              "#9c179e"
             ],
             [
              0.4444444444444444,
              "#bd3786"
             ],
             [
              0.5555555555555556,
              "#d8576b"
             ],
             [
              0.6666666666666666,
              "#ed7953"
             ],
             [
              0.7777777777777778,
              "#fb9f3a"
             ],
             [
              0.8888888888888888,
              "#fdca26"
             ],
             [
              1,
              "#f0f921"
             ]
            ],
            "type": "heatmap"
           }
          ],
          "heatmapgl": [
           {
            "colorbar": {
             "outlinewidth": 0,
             "ticks": ""
            },
            "colorscale": [
             [
              0,
              "#0d0887"
             ],
             [
              0.1111111111111111,
              "#46039f"
             ],
             [
              0.2222222222222222,
              "#7201a8"
             ],
             [
              0.3333333333333333,
              "#9c179e"
             ],
             [
              0.4444444444444444,
              "#bd3786"
             ],
             [
              0.5555555555555556,
              "#d8576b"
             ],
             [
              0.6666666666666666,
              "#ed7953"
             ],
             [
              0.7777777777777778,
              "#fb9f3a"
             ],
             [
              0.8888888888888888,
              "#fdca26"
             ],
             [
              1,
              "#f0f921"
             ]
            ],
            "type": "heatmapgl"
           }
          ],
          "histogram": [
           {
            "marker": {
             "colorbar": {
              "outlinewidth": 0,
              "ticks": ""
             }
            },
            "type": "histogram"
           }
          ],
          "histogram2d": [
           {
            "colorbar": {
             "outlinewidth": 0,
             "ticks": ""
            },
            "colorscale": [
             [
              0,
              "#0d0887"
             ],
             [
              0.1111111111111111,
              "#46039f"
             ],
             [
              0.2222222222222222,
              "#7201a8"
             ],
             [
              0.3333333333333333,
              "#9c179e"
             ],
             [
              0.4444444444444444,
              "#bd3786"
             ],
             [
              0.5555555555555556,
              "#d8576b"
             ],
             [
              0.6666666666666666,
              "#ed7953"
             ],
             [
              0.7777777777777778,
              "#fb9f3a"
             ],
             [
              0.8888888888888888,
              "#fdca26"
             ],
             [
              1,
              "#f0f921"
             ]
            ],
            "type": "histogram2d"
           }
          ],
          "histogram2dcontour": [
           {
            "colorbar": {
             "outlinewidth": 0,
             "ticks": ""
            },
            "colorscale": [
             [
              0,
              "#0d0887"
             ],
             [
              0.1111111111111111,
              "#46039f"
             ],
             [
              0.2222222222222222,
              "#7201a8"
             ],
             [
              0.3333333333333333,
              "#9c179e"
             ],
             [
              0.4444444444444444,
              "#bd3786"
             ],
             [
              0.5555555555555556,
              "#d8576b"
             ],
             [
              0.6666666666666666,
              "#ed7953"
             ],
             [
              0.7777777777777778,
              "#fb9f3a"
             ],
             [
              0.8888888888888888,
              "#fdca26"
             ],
             [
              1,
              "#f0f921"
             ]
            ],
            "type": "histogram2dcontour"
           }
          ],
          "mesh3d": [
           {
            "colorbar": {
             "outlinewidth": 0,
             "ticks": ""
            },
            "type": "mesh3d"
           }
          ],
          "parcoords": [
           {
            "line": {
             "colorbar": {
              "outlinewidth": 0,
              "ticks": ""
             }
            },
            "type": "parcoords"
           }
          ],
          "pie": [
           {
            "automargin": true,
            "type": "pie"
           }
          ],
          "scatter": [
           {
            "marker": {
             "colorbar": {
              "outlinewidth": 0,
              "ticks": ""
             }
            },
            "type": "scatter"
           }
          ],
          "scatter3d": [
           {
            "line": {
             "colorbar": {
              "outlinewidth": 0,
              "ticks": ""
             }
            },
            "marker": {
             "colorbar": {
              "outlinewidth": 0,
              "ticks": ""
             }
            },
            "type": "scatter3d"
           }
          ],
          "scattercarpet": [
           {
            "marker": {
             "colorbar": {
              "outlinewidth": 0,
              "ticks": ""
             }
            },
            "type": "scattercarpet"
           }
          ],
          "scattergeo": [
           {
            "marker": {
             "colorbar": {
              "outlinewidth": 0,
              "ticks": ""
             }
            },
            "type": "scattergeo"
           }
          ],
          "scattergl": [
           {
            "marker": {
             "colorbar": {
              "outlinewidth": 0,
              "ticks": ""
             }
            },
            "type": "scattergl"
           }
          ],
          "scattermapbox": [
           {
            "marker": {
             "colorbar": {
              "outlinewidth": 0,
              "ticks": ""
             }
            },
            "type": "scattermapbox"
           }
          ],
          "scatterpolar": [
           {
            "marker": {
             "colorbar": {
              "outlinewidth": 0,
              "ticks": ""
             }
            },
            "type": "scatterpolar"
           }
          ],
          "scatterpolargl": [
           {
            "marker": {
             "colorbar": {
              "outlinewidth": 0,
              "ticks": ""
             }
            },
            "type": "scatterpolargl"
           }
          ],
          "scatterternary": [
           {
            "marker": {
             "colorbar": {
              "outlinewidth": 0,
              "ticks": ""
             }
            },
            "type": "scatterternary"
           }
          ],
          "surface": [
           {
            "colorbar": {
             "outlinewidth": 0,
             "ticks": ""
            },
            "colorscale": [
             [
              0,
              "#0d0887"
             ],
             [
              0.1111111111111111,
              "#46039f"
             ],
             [
              0.2222222222222222,
              "#7201a8"
             ],
             [
              0.3333333333333333,
              "#9c179e"
             ],
             [
              0.4444444444444444,
              "#bd3786"
             ],
             [
              0.5555555555555556,
              "#d8576b"
             ],
             [
              0.6666666666666666,
              "#ed7953"
             ],
             [
              0.7777777777777778,
              "#fb9f3a"
             ],
             [
              0.8888888888888888,
              "#fdca26"
             ],
             [
              1,
              "#f0f921"
             ]
            ],
            "type": "surface"
           }
          ],
          "table": [
           {
            "cells": {
             "fill": {
              "color": "#EBF0F8"
             },
             "line": {
              "color": "white"
             }
            },
            "header": {
             "fill": {
              "color": "#C8D4E3"
             },
             "line": {
              "color": "white"
             }
            },
            "type": "table"
           }
          ]
         },
         "layout": {
          "annotationdefaults": {
           "arrowcolor": "#2a3f5f",
           "arrowhead": 0,
           "arrowwidth": 1
          },
          "autotypenumbers": "strict",
          "coloraxis": {
           "colorbar": {
            "outlinewidth": 0,
            "ticks": ""
           }
          },
          "colorscale": {
           "diverging": [
            [
             0,
             "#8e0152"
            ],
            [
             0.1,
             "#c51b7d"
            ],
            [
             0.2,
             "#de77ae"
            ],
            [
             0.3,
             "#f1b6da"
            ],
            [
             0.4,
             "#fde0ef"
            ],
            [
             0.5,
             "#f7f7f7"
            ],
            [
             0.6,
             "#e6f5d0"
            ],
            [
             0.7,
             "#b8e186"
            ],
            [
             0.8,
             "#7fbc41"
            ],
            [
             0.9,
             "#4d9221"
            ],
            [
             1,
             "#276419"
            ]
           ],
           "sequential": [
            [
             0,
             "#0d0887"
            ],
            [
             0.1111111111111111,
             "#46039f"
            ],
            [
             0.2222222222222222,
             "#7201a8"
            ],
            [
             0.3333333333333333,
             "#9c179e"
            ],
            [
             0.4444444444444444,
             "#bd3786"
            ],
            [
             0.5555555555555556,
             "#d8576b"
            ],
            [
             0.6666666666666666,
             "#ed7953"
            ],
            [
             0.7777777777777778,
             "#fb9f3a"
            ],
            [
             0.8888888888888888,
             "#fdca26"
            ],
            [
             1,
             "#f0f921"
            ]
           ],
           "sequentialminus": [
            [
             0,
             "#0d0887"
            ],
            [
             0.1111111111111111,
             "#46039f"
            ],
            [
             0.2222222222222222,
             "#7201a8"
            ],
            [
             0.3333333333333333,
             "#9c179e"
            ],
            [
             0.4444444444444444,
             "#bd3786"
            ],
            [
             0.5555555555555556,
             "#d8576b"
            ],
            [
             0.6666666666666666,
             "#ed7953"
            ],
            [
             0.7777777777777778,
             "#fb9f3a"
            ],
            [
             0.8888888888888888,
             "#fdca26"
            ],
            [
             1,
             "#f0f921"
            ]
           ]
          },
          "colorway": [
           "#636efa",
           "#EF553B",
           "#00cc96",
           "#ab63fa",
           "#FFA15A",
           "#19d3f3",
           "#FF6692",
           "#B6E880",
           "#FF97FF",
           "#FECB52"
          ],
          "font": {
           "color": "#2a3f5f"
          },
          "geo": {
           "bgcolor": "white",
           "lakecolor": "white",
           "landcolor": "#E5ECF6",
           "showlakes": true,
           "showland": true,
           "subunitcolor": "white"
          },
          "hoverlabel": {
           "align": "left"
          },
          "hovermode": "closest",
          "mapbox": {
           "style": "light"
          },
          "paper_bgcolor": "white",
          "plot_bgcolor": "#E5ECF6",
          "polar": {
           "angularaxis": {
            "gridcolor": "white",
            "linecolor": "white",
            "ticks": ""
           },
           "bgcolor": "#E5ECF6",
           "radialaxis": {
            "gridcolor": "white",
            "linecolor": "white",
            "ticks": ""
           }
          },
          "scene": {
           "xaxis": {
            "backgroundcolor": "#E5ECF6",
            "gridcolor": "white",
            "gridwidth": 2,
            "linecolor": "white",
            "showbackground": true,
            "ticks": "",
            "zerolinecolor": "white"
           },
           "yaxis": {
            "backgroundcolor": "#E5ECF6",
            "gridcolor": "white",
            "gridwidth": 2,
            "linecolor": "white",
            "showbackground": true,
            "ticks": "",
            "zerolinecolor": "white"
           },
           "zaxis": {
            "backgroundcolor": "#E5ECF6",
            "gridcolor": "white",
            "gridwidth": 2,
            "linecolor": "white",
            "showbackground": true,
            "ticks": "",
            "zerolinecolor": "white"
           }
          },
          "shapedefaults": {
           "line": {
            "color": "#2a3f5f"
           }
          },
          "ternary": {
           "aaxis": {
            "gridcolor": "white",
            "linecolor": "white",
            "ticks": ""
           },
           "baxis": {
            "gridcolor": "white",
            "linecolor": "white",
            "ticks": ""
           },
           "bgcolor": "#E5ECF6",
           "caxis": {
            "gridcolor": "white",
            "linecolor": "white",
            "ticks": ""
           }
          },
          "title": {
           "x": 0.05
          },
          "xaxis": {
           "automargin": true,
           "gridcolor": "white",
           "linecolor": "white",
           "ticks": "",
           "title": {
            "standoff": 15
           },
           "zerolinecolor": "white",
           "zerolinewidth": 2
          },
          "yaxis": {
           "automargin": true,
           "gridcolor": "white",
           "linecolor": "white",
           "ticks": "",
           "title": {
            "standoff": 15
           },
           "zerolinecolor": "white",
           "zerolinewidth": 2
          }
         }
        },
        "title": {
         "font": {
          "color": "#4D5663"
         },
         "text": "Top 100 bigrams after removing stop words"
        },
        "xaxis": {
         "gridcolor": "#E1E5ED",
         "linecolor": "black",
         "showgrid": true,
         "tickfont": {
          "color": "#4D5663"
         },
         "title": {
          "font": {
           "color": "#4D5663"
          },
          "text": ""
         },
         "zerolinecolor": "#E1E5ED"
        },
        "yaxis": {
         "gridcolor": "#E1E5ED",
         "linecolor": "black",
         "showgrid": true,
         "tickfont": {
          "color": "#4D5663"
         },
         "title": {
          "font": {
           "color": "#4D5663"
          },
          "text": "Count"
         },
         "zerolinecolor": "#E1E5ED"
        }
       }
      },
      "text/html": [
       "<div>                            <div id=\"472421d7-caee-4007-b93a-abe82f915b01\" class=\"plotly-graph-div\" style=\"height:525px; width:100%;\"></div>            <script type=\"text/javascript\">                require([\"plotly\"], function(Plotly) {                    window.PLOTLYENV=window.PLOTLYENV || {};\n",
       "                    window.PLOTLYENV.BASE_URL='https://plot.ly';                                    if (document.getElementById(\"472421d7-caee-4007-b93a-abe82f915b01\")) {                    Plotly.newPlot(                        \"472421d7-caee-4007-b93a-abe82f915b01\",                        [{\"marker\": {\"color\": \"rgba(255, 153, 51, 0.6)\", \"line\": {\"color\": \"rgba(255, 153, 51, 1.0)\", \"width\": 1}}, \"name\": \"count\", \"orientation\": \"v\", \"text\": \"\", \"type\": \"bar\", \"x\": [\"good deal\", \"may time\", \"struggle depression\", \"depression anxiety\", \"cry therapy\", \"seek help\", \"tip help\", \"good idea\", \"time seek\", \"hard time\", \"heal issue\", \"friend friend\", \"issue heal\", \"life may\", \"good help\", \"spend time\", \"nervous therapy\", \"good enough\", \"feel nervous\", \"anxiety depression\", \"deal anxiety\", \"feel good\", \"family member\", \"normal cry\", \"good talk\", \"ever feel\", \"anxiety may\", \"help therapist\", \"deal depression\", \"experience may\", \"ever wonder\", \"good relationship\", \"normal feel\", \"good therapist\", \"good time\", \"abusive relationship\", \"feel boyfriend\", \"change life\", \"stop boyfriend\", \"may good\", \"first time\", \"break boyfriend\", \"help feel\", \"post_traumatic_stress disorder\", \"always good\", \"social anxiety\", \"ever situation\", \"talk therapist\", \"thank_take time\", \"therapeutic relationship\", \"therapist help\", \"therapy session\", \"time talk\", \"long time\", \"stop feel\", \"long distance\", \"sex life\", \"relationship boyfriend\", \"professional help\", \"possible daughter\", \"common problem\", \"good break\", \"deal loss\", \"help people\", \"feel anxious\", \"help depression\", \"help deal\", \"inrdeals_inrdeals_inrdeals_inrdeals inrdeals_inrdeals_inrdeals_inrdeals\", \"time therapist\", \"enough feel\", \"distance relationship\", \"autism_spectrum_disorder autism_spectrum_disorder\", \"experience follow\", \"good stop\", \"healthy relationship\", \"sex drive\", \"time write\", \"feel little\", \"good friend\", \"struggle anxiety\", \"problem relationship\", \"may talk\", \"cry normal\", \"anxiety issue\", \"feel sad\", \"time friend\", \"anxiety therapist\", \"difficult time\", \"stop husband\", \"soon possible\", \"issue may\", \"seek professional\", \"bipolar disorder\", \"help along\", \"reduce anxiety\", \"people experience\", \"depression tip\", \"important remember\", \"depression may\", \"hear voice\"], \"y\": [58, 54, 41, 39, 36, 35, 30, 28, 25, 24, 20, 20, 16, 14, 14, 14, 14, 13, 13, 12, 12, 12, 11, 11, 11, 11, 11, 11, 10, 10, 10, 10, 10, 9, 9, 9, 9, 8, 8, 8, 8, 8, 8, 8, 8, 8, 8, 8, 8, 8, 8, 8, 8, 8, 7, 7, 7, 7, 7, 7, 7, 7, 7, 7, 7, 7, 7, 6, 6, 6, 6, 6, 6, 6, 6, 6, 6, 6, 6, 6, 6, 6, 6, 6, 6, 5, 5, 5, 5, 5, 5, 5, 5, 5, 5, 5, 5, 5, 5, 5]}],                        {\"legend\": {\"bgcolor\": \"#F5F6F9\", \"font\": {\"color\": \"#4D5663\"}}, \"paper_bgcolor\": \"#F5F6F9\", \"plot_bgcolor\": \"#F5F6F9\", \"template\": {\"data\": {\"bar\": [{\"error_x\": {\"color\": \"#2a3f5f\"}, \"error_y\": {\"color\": \"#2a3f5f\"}, \"marker\": {\"line\": {\"color\": \"#E5ECF6\", \"width\": 0.5}}, \"type\": \"bar\"}], \"barpolar\": [{\"marker\": {\"line\": {\"color\": \"#E5ECF6\", \"width\": 0.5}}, \"type\": \"barpolar\"}], \"carpet\": [{\"aaxis\": {\"endlinecolor\": \"#2a3f5f\", \"gridcolor\": \"white\", \"linecolor\": \"white\", \"minorgridcolor\": \"white\", \"startlinecolor\": \"#2a3f5f\"}, \"baxis\": {\"endlinecolor\": \"#2a3f5f\", \"gridcolor\": \"white\", \"linecolor\": \"white\", \"minorgridcolor\": \"white\", \"startlinecolor\": \"#2a3f5f\"}, \"type\": \"carpet\"}], \"choropleth\": [{\"colorbar\": {\"outlinewidth\": 0, \"ticks\": \"\"}, \"type\": \"choropleth\"}], \"contour\": [{\"colorbar\": {\"outlinewidth\": 0, \"ticks\": \"\"}, \"colorscale\": [[0.0, \"#0d0887\"], [0.1111111111111111, \"#46039f\"], [0.2222222222222222, \"#7201a8\"], [0.3333333333333333, \"#9c179e\"], [0.4444444444444444, \"#bd3786\"], [0.5555555555555556, \"#d8576b\"], [0.6666666666666666, \"#ed7953\"], [0.7777777777777778, \"#fb9f3a\"], [0.8888888888888888, \"#fdca26\"], [1.0, \"#f0f921\"]], \"type\": \"contour\"}], \"contourcarpet\": [{\"colorbar\": {\"outlinewidth\": 0, \"ticks\": \"\"}, \"type\": \"contourcarpet\"}], \"heatmap\": [{\"colorbar\": {\"outlinewidth\": 0, \"ticks\": \"\"}, \"colorscale\": [[0.0, \"#0d0887\"], [0.1111111111111111, \"#46039f\"], [0.2222222222222222, \"#7201a8\"], [0.3333333333333333, \"#9c179e\"], [0.4444444444444444, \"#bd3786\"], [0.5555555555555556, \"#d8576b\"], [0.6666666666666666, \"#ed7953\"], [0.7777777777777778, \"#fb9f3a\"], [0.8888888888888888, \"#fdca26\"], [1.0, \"#f0f921\"]], \"type\": \"heatmap\"}], \"heatmapgl\": [{\"colorbar\": {\"outlinewidth\": 0, \"ticks\": \"\"}, \"colorscale\": [[0.0, \"#0d0887\"], [0.1111111111111111, \"#46039f\"], [0.2222222222222222, \"#7201a8\"], [0.3333333333333333, \"#9c179e\"], [0.4444444444444444, \"#bd3786\"], [0.5555555555555556, \"#d8576b\"], [0.6666666666666666, \"#ed7953\"], [0.7777777777777778, \"#fb9f3a\"], [0.8888888888888888, \"#fdca26\"], [1.0, \"#f0f921\"]], \"type\": \"heatmapgl\"}], \"histogram\": [{\"marker\": {\"colorbar\": {\"outlinewidth\": 0, \"ticks\": \"\"}}, \"type\": \"histogram\"}], \"histogram2d\": [{\"colorbar\": {\"outlinewidth\": 0, \"ticks\": \"\"}, \"colorscale\": [[0.0, \"#0d0887\"], [0.1111111111111111, \"#46039f\"], [0.2222222222222222, \"#7201a8\"], [0.3333333333333333, \"#9c179e\"], [0.4444444444444444, \"#bd3786\"], [0.5555555555555556, \"#d8576b\"], [0.6666666666666666, \"#ed7953\"], [0.7777777777777778, \"#fb9f3a\"], [0.8888888888888888, \"#fdca26\"], [1.0, \"#f0f921\"]], \"type\": \"histogram2d\"}], \"histogram2dcontour\": [{\"colorbar\": {\"outlinewidth\": 0, \"ticks\": \"\"}, \"colorscale\": [[0.0, \"#0d0887\"], [0.1111111111111111, \"#46039f\"], [0.2222222222222222, \"#7201a8\"], [0.3333333333333333, \"#9c179e\"], [0.4444444444444444, \"#bd3786\"], [0.5555555555555556, \"#d8576b\"], [0.6666666666666666, \"#ed7953\"], [0.7777777777777778, \"#fb9f3a\"], [0.8888888888888888, \"#fdca26\"], [1.0, \"#f0f921\"]], \"type\": \"histogram2dcontour\"}], \"mesh3d\": [{\"colorbar\": {\"outlinewidth\": 0, \"ticks\": \"\"}, \"type\": \"mesh3d\"}], \"parcoords\": [{\"line\": {\"colorbar\": {\"outlinewidth\": 0, \"ticks\": \"\"}}, \"type\": \"parcoords\"}], \"pie\": [{\"automargin\": true, \"type\": \"pie\"}], \"scatter\": [{\"marker\": {\"colorbar\": {\"outlinewidth\": 0, \"ticks\": \"\"}}, \"type\": \"scatter\"}], \"scatter3d\": [{\"line\": {\"colorbar\": {\"outlinewidth\": 0, \"ticks\": \"\"}}, \"marker\": {\"colorbar\": {\"outlinewidth\": 0, \"ticks\": \"\"}}, \"type\": \"scatter3d\"}], \"scattercarpet\": [{\"marker\": {\"colorbar\": {\"outlinewidth\": 0, \"ticks\": \"\"}}, \"type\": \"scattercarpet\"}], \"scattergeo\": [{\"marker\": {\"colorbar\": {\"outlinewidth\": 0, \"ticks\": \"\"}}, \"type\": \"scattergeo\"}], \"scattergl\": [{\"marker\": {\"colorbar\": {\"outlinewidth\": 0, \"ticks\": \"\"}}, \"type\": \"scattergl\"}], \"scattermapbox\": [{\"marker\": {\"colorbar\": {\"outlinewidth\": 0, \"ticks\": \"\"}}, \"type\": \"scattermapbox\"}], \"scatterpolar\": [{\"marker\": {\"colorbar\": {\"outlinewidth\": 0, \"ticks\": \"\"}}, \"type\": \"scatterpolar\"}], \"scatterpolargl\": [{\"marker\": {\"colorbar\": {\"outlinewidth\": 0, \"ticks\": \"\"}}, \"type\": \"scatterpolargl\"}], \"scatterternary\": [{\"marker\": {\"colorbar\": {\"outlinewidth\": 0, \"ticks\": \"\"}}, \"type\": \"scatterternary\"}], \"surface\": [{\"colorbar\": {\"outlinewidth\": 0, \"ticks\": \"\"}, \"colorscale\": [[0.0, \"#0d0887\"], [0.1111111111111111, \"#46039f\"], [0.2222222222222222, \"#7201a8\"], [0.3333333333333333, \"#9c179e\"], [0.4444444444444444, \"#bd3786\"], [0.5555555555555556, \"#d8576b\"], [0.6666666666666666, \"#ed7953\"], [0.7777777777777778, \"#fb9f3a\"], [0.8888888888888888, \"#fdca26\"], [1.0, \"#f0f921\"]], \"type\": \"surface\"}], \"table\": [{\"cells\": {\"fill\": {\"color\": \"#EBF0F8\"}, \"line\": {\"color\": \"white\"}}, \"header\": {\"fill\": {\"color\": \"#C8D4E3\"}, \"line\": {\"color\": \"white\"}}, \"type\": \"table\"}]}, \"layout\": {\"annotationdefaults\": {\"arrowcolor\": \"#2a3f5f\", \"arrowhead\": 0, \"arrowwidth\": 1}, \"autotypenumbers\": \"strict\", \"coloraxis\": {\"colorbar\": {\"outlinewidth\": 0, \"ticks\": \"\"}}, \"colorscale\": {\"diverging\": [[0, \"#8e0152\"], [0.1, \"#c51b7d\"], [0.2, \"#de77ae\"], [0.3, \"#f1b6da\"], [0.4, \"#fde0ef\"], [0.5, \"#f7f7f7\"], [0.6, \"#e6f5d0\"], [0.7, \"#b8e186\"], [0.8, \"#7fbc41\"], [0.9, \"#4d9221\"], [1, \"#276419\"]], \"sequential\": [[0.0, \"#0d0887\"], [0.1111111111111111, \"#46039f\"], [0.2222222222222222, \"#7201a8\"], [0.3333333333333333, \"#9c179e\"], [0.4444444444444444, \"#bd3786\"], [0.5555555555555556, \"#d8576b\"], [0.6666666666666666, \"#ed7953\"], [0.7777777777777778, \"#fb9f3a\"], [0.8888888888888888, \"#fdca26\"], [1.0, \"#f0f921\"]], \"sequentialminus\": [[0.0, \"#0d0887\"], [0.1111111111111111, \"#46039f\"], [0.2222222222222222, \"#7201a8\"], [0.3333333333333333, \"#9c179e\"], [0.4444444444444444, \"#bd3786\"], [0.5555555555555556, \"#d8576b\"], [0.6666666666666666, \"#ed7953\"], [0.7777777777777778, \"#fb9f3a\"], [0.8888888888888888, \"#fdca26\"], [1.0, \"#f0f921\"]]}, \"colorway\": [\"#636efa\", \"#EF553B\", \"#00cc96\", \"#ab63fa\", \"#FFA15A\", \"#19d3f3\", \"#FF6692\", \"#B6E880\", \"#FF97FF\", \"#FECB52\"], \"font\": {\"color\": \"#2a3f5f\"}, \"geo\": {\"bgcolor\": \"white\", \"lakecolor\": \"white\", \"landcolor\": \"#E5ECF6\", \"showlakes\": true, \"showland\": true, \"subunitcolor\": \"white\"}, \"hoverlabel\": {\"align\": \"left\"}, \"hovermode\": \"closest\", \"mapbox\": {\"style\": \"light\"}, \"paper_bgcolor\": \"white\", \"plot_bgcolor\": \"#E5ECF6\", \"polar\": {\"angularaxis\": {\"gridcolor\": \"white\", \"linecolor\": \"white\", \"ticks\": \"\"}, \"bgcolor\": \"#E5ECF6\", \"radialaxis\": {\"gridcolor\": \"white\", \"linecolor\": \"white\", \"ticks\": \"\"}}, \"scene\": {\"xaxis\": {\"backgroundcolor\": \"#E5ECF6\", \"gridcolor\": \"white\", \"gridwidth\": 2, \"linecolor\": \"white\", \"showbackground\": true, \"ticks\": \"\", \"zerolinecolor\": \"white\"}, \"yaxis\": {\"backgroundcolor\": \"#E5ECF6\", \"gridcolor\": \"white\", \"gridwidth\": 2, \"linecolor\": \"white\", \"showbackground\": true, \"ticks\": \"\", \"zerolinecolor\": \"white\"}, \"zaxis\": {\"backgroundcolor\": \"#E5ECF6\", \"gridcolor\": \"white\", \"gridwidth\": 2, \"linecolor\": \"white\", \"showbackground\": true, \"ticks\": \"\", \"zerolinecolor\": \"white\"}}, \"shapedefaults\": {\"line\": {\"color\": \"#2a3f5f\"}}, \"ternary\": {\"aaxis\": {\"gridcolor\": \"white\", \"linecolor\": \"white\", \"ticks\": \"\"}, \"baxis\": {\"gridcolor\": \"white\", \"linecolor\": \"white\", \"ticks\": \"\"}, \"bgcolor\": \"#E5ECF6\", \"caxis\": {\"gridcolor\": \"white\", \"linecolor\": \"white\", \"ticks\": \"\"}}, \"title\": {\"x\": 0.05}, \"xaxis\": {\"automargin\": true, \"gridcolor\": \"white\", \"linecolor\": \"white\", \"ticks\": \"\", \"title\": {\"standoff\": 15}, \"zerolinecolor\": \"white\", \"zerolinewidth\": 2}, \"yaxis\": {\"automargin\": true, \"gridcolor\": \"white\", \"linecolor\": \"white\", \"ticks\": \"\", \"title\": {\"standoff\": 15}, \"zerolinecolor\": \"white\", \"zerolinewidth\": 2}}}, \"title\": {\"font\": {\"color\": \"#4D5663\"}, \"text\": \"Top 100 bigrams after removing stop words\"}, \"xaxis\": {\"gridcolor\": \"#E1E5ED\", \"linecolor\": \"black\", \"showgrid\": true, \"tickfont\": {\"color\": \"#4D5663\"}, \"title\": {\"font\": {\"color\": \"#4D5663\"}, \"text\": \"\"}, \"zerolinecolor\": \"#E1E5ED\"}, \"yaxis\": {\"gridcolor\": \"#E1E5ED\", \"linecolor\": \"black\", \"showgrid\": true, \"tickfont\": {\"color\": \"#4D5663\"}, \"title\": {\"font\": {\"color\": \"#4D5663\"}, \"text\": \"Count\"}, \"zerolinecolor\": \"#E1E5ED\"}},                        {\"showLink\": true, \"linkText\": \"Export to plot.ly\", \"plotlyServerURL\": \"https://plot.ly\", \"responsive\": true}                    ).then(function(){\n",
       "                            \n",
       "var gd = document.getElementById('472421d7-caee-4007-b93a-abe82f915b01');\n",
       "var x = new MutationObserver(function (mutations, observer) {{\n",
       "        var display = window.getComputedStyle(gd).display;\n",
       "        if (!display || display === 'none') {{\n",
       "            console.log([gd, 'removed!']);\n",
       "            Plotly.purge(gd);\n",
       "            observer.disconnect();\n",
       "        }}\n",
       "}});\n",
       "\n",
       "// Listen for the removal of the full notebook cells\n",
       "var notebookContainer = gd.closest('#notebook-container');\n",
       "if (notebookContainer) {{\n",
       "    x.observe(notebookContainer, {childList: true});\n",
       "}}\n",
       "\n",
       "// Listen for the clearing of the current output cell\n",
       "var outputEl = gd.closest('.output');\n",
       "if (outputEl) {{\n",
       "    x.observe(outputEl, {childList: true});\n",
       "}}\n",
       "\n",
       "                        })                };                });            </script>        </div>"
      ]
     },
     "metadata": {},
     "output_type": "display_data"
    }
   ],
   "source": [
    "plot_model(plot = 'bigram')"
   ]
  },
  {
   "cell_type": "code",
   "execution_count": 13,
   "id": "corrected-borough",
   "metadata": {},
   "outputs": [],
   "source": [
    "#plot_model(lda, plot = 'frequency', topic_num = 'Topic 4')"
   ]
  },
  {
   "cell_type": "code",
   "execution_count": 14,
   "id": "joined-relaxation",
   "metadata": {},
   "outputs": [
    {
     "data": {
      "text/html": [
       "        <script type=\"text/javascript\">\n",
       "        window.PlotlyConfig = {MathJaxConfig: 'local'};\n",
       "        if (window.MathJax) {MathJax.Hub.Config({SVG: {font: \"STIX-Web\"}});}\n",
       "        if (typeof require !== 'undefined') {\n",
       "        require.undef(\"plotly\");\n",
       "        requirejs.config({\n",
       "            paths: {\n",
       "                'plotly': ['https://cdn.plot.ly/plotly-latest.min']\n",
       "            }\n",
       "        });\n",
       "        require(['plotly'], function(Plotly) {\n",
       "            window._Plotly = Plotly;\n",
       "        });\n",
       "        }\n",
       "        </script>\n",
       "        "
      ]
     },
     "metadata": {},
     "output_type": "display_data"
    },
    {
     "data": {
      "application/vnd.plotly.v1+json": {
       "config": {
        "plotlyServerURL": "https://plot.ly"
       },
       "data": [
        {
         "hovertemplate": "Dominant_Topic=Topic 134<br>0=%{x}<br>1=%{y}<br>2=%{z}<extra></extra>",
         "legendgroup": "Topic 134",
         "marker": {
          "color": "#636efa",
          "opacity": 0.7,
          "symbol": "circle"
         },
         "mode": "markers",
         "name": "Topic 134",
         "scene": "scene",
         "showlegend": true,
         "type": "scatter3d",
         "x": [
          58.740211486816406,
          48.39299392700195,
          4.504017353057861,
          -4.16184139251709,
          50.715946197509766,
          16.788612365722656,
          59.020042419433594,
          35.437721252441406,
          27.34693717956543,
          9.118555068969727,
          42.052040100097656,
          47.08623504638672,
          -6.817824363708496,
          7.233149528503418,
          -3.564262628555298,
          30.692659378051758,
          29.957698822021484,
          14.691394805908203,
          45.64924621582031,
          4.63698148727417,
          49.390716552734375,
          37.98676681518555,
          37.56534957885742,
          -4.1613030433654785,
          56.997005462646484,
          44.13926696777344,
          38.52398681640625,
          34.07369613647461,
          -12.305727005004883,
          41.75566482543945,
          36.74095916748047,
          18.023208618164062,
          27.04094123840332,
          -2.4877994060516357,
          2.8527708053588867,
          63.23402404785156,
          30.336170196533203,
          25.52077865600586,
          71.20447540283203,
          57.653167724609375,
          24.602802276611328,
          51.08921813964844,
          -5.739830493927002,
          47.90955352783203,
          -0.11472918093204498,
          37.97373962402344,
          23.047025680541992,
          -8.547489166259766,
          59.990562438964844,
          18.57053565979004,
          55.74141311645508,
          70.03362274169922,
          2.3222267627716064,
          26.31923484802246,
          1.0899600982666016,
          -10.194133758544922,
          -9.280684471130371,
          4.223960876464844,
          -11.402116775512695,
          32.18745803833008,
          5.12680721282959,
          11.300262451171875,
          3.500713586807251,
          15.185614585876465,
          26.197975158691406,
          63.484745025634766,
          46.327152252197266,
          43.5767707824707,
          54.228694915771484,
          57.258575439453125,
          19.717119216918945,
          25.494159698486328,
          15.361395835876465,
          -7.155478000640869,
          38.470638275146484,
          27.34709358215332,
          22.16503143310547,
          30.689184188842773,
          54.21320724487305,
          40.31117630004883,
          13.70094108581543,
          3.0212221145629883,
          -10.41380500793457,
          -13.762612342834473,
          57.258575439453125,
          -13.412175178527832,
          10.323726654052734,
          31.42608642578125,
          27.34709358215332,
          33.9415397644043,
          66.81974792480469,
          57.258575439453125,
          48.07337951660156,
          28.792367935180664,
          13.532630920410156,
          -5.0297417640686035,
          7.433720111846924,
          32.39375305175781,
          24.98919105529785,
          62.56707000732422,
          63.00035095214844,
          36.42425537109375,
          43.67816162109375,
          63.0554084777832,
          57.258575439453125,
          13.532630920410156,
          70.30133819580078,
          1.6000393629074097,
          -5.372066974639893,
          33.24898910522461,
          36.81669235229492,
          -2.3577358722686768,
          2.3015904426574707,
          13.270455360412598,
          50.70269775390625,
          56.35686492919922,
          27.567649841308594,
          30.226144790649414,
          40.488380432128906,
          44.043556213378906,
          45.216896057128906,
          -1.7668956518173218,
          37.09820556640625,
          44.178001403808594,
          10.188800811767578,
          27.987592697143555,
          16.903573989868164,
          -12.061637878417969,
          -5.819308757781982,
          47.1224479675293,
          25.972070693969727,
          15.138045310974121,
          67.06471252441406,
          -12.119074821472168,
          50.41295623779297,
          56.014774322509766,
          19.630634307861328,
          13.532630920410156,
          30.545473098754883,
          57.29452133178711,
          8.270803451538086,
          39.46599197387695,
          48.198280334472656,
          55.25754165649414,
          25.096834182739258,
          4.320646286010742,
          1.2708618640899658,
          30.05775260925293,
          39.476600646972656,
          38.21628189086914,
          27.2020263671875,
          5.494859218597412,
          45.61346435546875,
          39.202186584472656,
          61.206912994384766,
          42.818721771240234,
          56.4735107421875,
          62.241783142089844,
          71.33283996582031,
          58.335235595703125,
          7.285671710968018,
          70.94296264648438,
          -2.1785695552825928,
          0.7649440169334412,
          26.197975158691406,
          23.29547882080078,
          55.567970275878906,
          17.298250198364258,
          57.258575439453125,
          27.34709358215332,
          23.495403289794922,
          36.64229202270508,
          29.090486526489258,
          11.174565315246582,
          21.003719329833984,
          6.217804431915283,
          26.197975158691406,
          -4.044364929199219,
          35.331417083740234,
          40.20001220703125,
          46.31692886352539,
          42.159088134765625,
          -0.6441335082054138,
          25.75920867919922,
          18.65224838256836,
          33.282623291015625,
          36.23480987548828,
          0.5663883090019226,
          63.064697265625,
          32.195594787597656,
          56.087745666503906,
          42.68406295776367,
          21.21104621887207,
          45.930572509765625,
          41.950897216796875,
          20.714752197265625,
          31.663854598999023,
          52.945533752441406,
          68.12535095214844,
          23.127439498901367,
          -3.587006092071533,
          21.69727897644043,
          34.27117156982422,
          0.12767790257930756,
          13.532630920410156,
          44.77747344970703,
          67.88005065917969,
          45.08364486694336,
          23.495403289794922,
          9.131175994873047,
          48.72068786621094,
          28.332956314086914,
          -3.615323305130005,
          1.9093303680419922,
          27.34709358215332,
          2.3675177097320557,
          7.942341327667236,
          -5.010162353515625,
          -17.818824768066406,
          0.9086339473724365,
          57.258575439453125,
          50.715946197509766,
          31.011167526245117,
          26.272634506225586,
          68.63497924804688,
          39.472537994384766,
          5.612277030944824,
          54.747032165527344,
          63.39232635498047,
          70.52864074707031,
          63.93891143798828,
          12.42057991027832,
          33.6910285949707,
          37.82600402832031,
          33.70977020263672,
          48.42180252075195,
          44.178001403808594,
          -9.605006217956543,
          -10.527782440185547,
          63.69784927368164,
          23.050575256347656,
          57.258575439453125,
          39.3680305480957,
          0.674812376499176,
          1.9093303680419922,
          -5.342455863952637,
          20.551403045654297,
          42.98627853393555,
          18.58719825744629,
          -7.007311820983887,
          22.166500091552734,
          23.515676498413086,
          26.843463897705078,
          60.87969970703125,
          40.89863586425781,
          9.509238243103027,
          9.969892501831055,
          26.076858520507812,
          -3.962134838104248,
          22.429521560668945,
          35.20700454711914,
          21.781932830810547,
          34.9640007019043,
          28.783859252929688,
          43.303165435791016,
          50.715946197509766,
          9.569214820861816,
          2.1293370723724365,
          20.37000274658203,
          15.84481430053711,
          19.62796401977539,
          26.197975158691406,
          48.1528434753418,
          63.95780563354492,
          57.258575439453125,
          46.488983154296875,
          31.19291877746582,
          19.022586822509766,
          37.16178512573242,
          5.908344268798828,
          32.10478210449219,
          8.44843864440918,
          18.57921028137207,
          18.655981063842773,
          22.697288513183594,
          59.33005905151367,
          -2.200054883956909,
          29.902536392211914,
          66.40424346923828,
          27.34709358215332,
          28.299774169921875,
          -9.26811695098877,
          28.750303268432617,
          -7.208807945251465,
          57.258575439453125,
          15.228554725646973,
          9.982872009277344,
          27.34709358215332,
          21.61124038696289,
          57.258575439453125,
          39.390594482421875,
          27.34709358215332,
          18.913284301757812,
          53.89833450317383,
          22.30800437927246,
          18.44609832763672,
          -4.175697326660156,
          -16.042917251586914,
          35.99360656738281,
          52.52431869506836,
          52.82447814941406,
          39.688907623291016,
          -2.9340879917144775,
          29.48463249206543,
          27.534887313842773,
          4.751423358917236,
          66.53245544433594,
          52.03480529785156,
          46.719879150390625,
          4.033844470977783,
          47.64704132080078,
          12.094887733459473,
          49.354732513427734,
          32.967552185058594,
          13.532630920410156,
          28.24224853515625
         ],
         "y": [
          10.28974723815918,
          14.005059242248535,
          -19.903902053833008,
          -4.428554058074951,
          9.451644897460938,
          -12.73688793182373,
          -5.157461643218994,
          5.6360273361206055,
          35.897335052490234,
          32.30775451660156,
          31.40394401550293,
          6.965849876403809,
          -10.441452980041504,
          -10.53531551361084,
          -4.329815864562988,
          -1.4467127323150635,
          18.2913875579834,
          -1.4739625453948975,
          12.353277206420898,
          -7.090423583984375,
          15.496326446533203,
          23.598005294799805,
          -1.0705788135528564,
          -12.999821662902832,
          -5.4927215576171875,
          16.53323745727539,
          19.536352157592773,
          -13.807494163513184,
          -14.142424583435059,
          21.795751571655273,
          10.269550323486328,
          31.574934005737305,
          47.105621337890625,
          -11.118499755859375,
          -16.125368118286133,
          11.379108428955078,
          27.791973114013672,
          0.3496148884296417,
          3.3710405826568604,
          10.149850845336914,
          -8.509592056274414,
          3.697152853012085,
          -10.036298751831055,
          7.5749101638793945,
          3.9916396141052246,
          44.67667007446289,
          11.098322868347168,
          -11.45095157623291,
          3.9178338050842285,
          2.1406772136688232,
          26.68229866027832,
          26.839998245239258,
          -27.54185676574707,
          -9.395689964294434,
          -11.917055130004883,
          -18.09752655029297,
          -5.106717109680176,
          -19.374061584472656,
          -3.789280891418457,
          -9.633805274963379,
          -18.77266502380371,
          18.41290855407715,
          0.18585330247879028,
          -21.58981704711914,
          21.797950744628906,
          19.7490234375,
          -0.8747619390487671,
          -1.8842260837554932,
          14.634056091308594,
          31.135753631591797,
          -16.39311981201172,
          -14.582762718200684,
          -16.415225982666016,
          -24.91765785217285,
          11.928001403808594,
          40.42979431152344,
          -6.796036720275879,
          -6.199895858764648,
          16.486316680908203,
          32.90140151977539,
          28.374954223632812,
          -6.063395023345947,
          -9.709993362426758,
          -18.250520706176758,
          31.135753631591797,
          -11.542637825012207,
          -2.2741971015930176,
          13.29589557647705,
          40.42979431152344,
          48.126731872558594,
          -0.525155782699585,
          31.135753631591797,
          1.1638795137405396,
          -19.358623504638672,
          42.558433532714844,
          -9.114445686340332,
          3.3898026943206787,
          11.711775779724121,
          -13.718789100646973,
          28.637142181396484,
          18.583951950073242,
          12.530351638793945,
          1.314690113067627,
          28.326732635498047,
          31.135753631591797,
          42.558433532714844,
          31.43483543395996,
          -9.44210433959961,
          -20.548585891723633,
          -9.361381530761719,
          24.653915405273438,
          -19.83378028869629,
          -12.641949653625488,
          12.000543594360352,
          34.52973556518555,
          18.920604705810547,
          -16.254962921142578,
          25.051334381103516,
          9.823122024536133,
          15.654228210449219,
          41.55369186401367,
          -19.870750427246094,
          34.804622650146484,
          -10.915465354919434,
          -11.15063762664795,
          2.9068892002105713,
          42.028953552246094,
          -18.917787551879883,
          -16.52947998046875,
          43.57157516479492,
          40.426822662353516,
          20.87189292907715,
          35.047325134277344,
          -0.47273746132850647,
          2.2503225803375244,
          31.309829711914062,
          25.99432945251465,
          42.558433532714844,
          17.059656143188477,
          1.9206433296203613,
          -25.8822021484375,
          15.144888877868652,
          24.986011505126953,
          10.378117561340332,
          -17.29559898376465,
          -17.944286346435547,
          -14.601052284240723,
          -25.848424911499023,
          8.771571159362793,
          11.901676177978516,
          0.19051571190357208,
          31.155426025390625,
          4.583255767822266,
          18.67983055114746,
          17.43598747253418,
          33.05684280395508,
          21.46139907836914,
          1.8709009885787964,
          13.054410934448242,
          34.96126937866211,
          -5.349671363830566,
          21.43132781982422,
          -28.597375869750977,
          -21.622589111328125,
          21.797950744628906,
          -8.39021110534668,
          -2.927417516708374,
          10.345602989196777,
          31.135753631591797,
          40.42979431152344,
          0.23732271790504456,
          6.020694732666016,
          -26.164642333984375,
          22.66853904724121,
          18.925939559936523,
          -24.096033096313477,
          21.797950744628906,
          -0.6590916514396667,
          37.544960021972656,
          1.230839490890503,
          21.87578773498535,
          -5.814087390899658,
          -24.57749366760254,
          8.34465217590332,
          33.48955535888672,
          27.564342498779297,
          -27.41567611694336,
          -30.357088088989258,
          36.652809143066406,
          -3.848233938217163,
          16.83247947692871,
          6.939553737640381,
          16.730398178100586,
          26.499074935913086,
          3.2716736793518066,
          21.131629943847656,
          6.111152172088623,
          -2.2313315868377686,
          13.062999725341797,
          25.515615463256836,
          3.3624420166015625,
          -0.3764050602912903,
          -0.8374906182289124,
          -16.96439552307129,
          42.558433532714844,
          54.022884368896484,
          -0.9993115663528442,
          14.25340747833252,
          0.23732271790504456,
          -22.389379501342773,
          5.323461055755615,
          23.86201286315918,
          -17.469945907592773,
          19.22684669494629,
          40.42979431152344,
          -6.3872528076171875,
          -25.416175842285156,
          -16.196426391601562,
          -8.165493965148926,
          -10.596719741821289,
          31.135753631591797,
          9.451644897460938,
          37.01398849487305,
          -18.100418090820312,
          8.02191162109375,
          13.783313751220703,
          -15.175531387329102,
          3.206094264984131,
          29.56085968017578,
          16.71169662475586,
          16.325294494628906,
          -19.98464012145996,
          33.22037887573242,
          -7.472144603729248,
          -16.476364135742188,
          10.5189208984375,
          -10.915465354919434,
          -16.5026798248291,
          -2.5694727897644043,
          9.42599868774414,
          -22.561599731445312,
          31.135753631591797,
          22.35185432434082,
          -3.73724627494812,
          19.22684669494629,
          -32.37776184082031,
          32.370933532714844,
          14.970812797546387,
          25.046979904174805,
          -17.546125411987305,
          13.117104530334473,
          33.19481658935547,
          8.871500968933105,
          1.9023854732513428,
          31.12862777709961,
          28.498443603515625,
          17.062280654907227,
          -22.866552352905273,
          -24.161745071411133,
          14.255507469177246,
          48.705543518066406,
          -3.4892454147338867,
          -21.04717445373535,
          6.7512593269348145,
          31.01480484008789,
          9.451644897460938,
          -3.611051321029663,
          -1.8550134897232056,
          -20.660921096801758,
          -7.9402360916137695,
          -22.176105499267578,
          21.797950744628906,
          -4.041595935821533,
          19.587846755981445,
          31.135753631591797,
          20.65540313720703,
          15.007648468017578,
          -26.661964416503906,
          24.82124900817871,
          -25.215438842773438,
          -10.817689895629883,
          -11.03569221496582,
          -10.618265151977539,
          -12.028119087219238,
          -0.4242475628852844,
          13.098834037780762,
          -3.5864498615264893,
          -8.10099983215332,
          -5.797456741333008,
          40.42979431152344,
          30.341848373413086,
          -24.996850967407227,
          20.171302795410156,
          -25.498979568481445,
          31.135753631591797,
          8.684538841247559,
          -17.812719345092773,
          40.42979431152344,
          -6.012960433959961,
          31.135753631591797,
          4.545956611633301,
          40.42979431152344,
          -16.30808448791504,
          2.8984649181365967,
          -20.41899299621582,
          3.5239651203155518,
          -11.020748138427734,
          -10.458236694335938,
          -20.538301467895508,
          17.748676300048828,
          25.496034622192383,
          41.39040756225586,
          1.2009780406951904,
          -21.182964324951172,
          27.253297805786133,
          -1.9506316184997559,
          8.942525863647461,
          2.519235372543335,
          9.288361549377441,
          -31.292709350585938,
          38.526527404785156,
          10.737272262573242,
          -5.293933391571045,
          16.11194610595703,
          42.558433532714844,
          42.68111038208008
         ],
         "z": [
          16.171918869018555,
          -24.28619384765625,
          38.61957931518555,
          -49.466373443603516,
          -67.15339660644531,
          10.330951690673828,
          22.221824645996094,
          -35.71628189086914,
          -49.55632400512695,
          -49.08025360107422,
          -45.06290054321289,
          24.05813217163086,
          24.77442741394043,
          -57.074546813964844,
          -75.49242401123047,
          2.259044885635376,
          -52.42036819458008,
          11.201850891113281,
          -47.05283737182617,
          -26.732667922973633,
          29.73715591430664,
          -29.478410720825195,
          -16.218276977539062,
          -35.81587600708008,
          31.563404083251953,
          -57.25177001953125,
          -48.51487731933594,
          13.439178466796875,
          -40.83415222167969,
          -67.24705505371094,
          -53.51416778564453,
          -55.17938995361328,
          -47.98204040527344,
          15.423304557800293,
          -41.67232131958008,
          -9.810131072998047,
          -24.171676635742188,
          -33.10683059692383,
          28.33702850341797,
          34.39463424682617,
          0.7456626892089844,
          -43.68827438354492,
          -57.08907699584961,
          33.777015686035156,
          -25.787567138671875,
          -50.29018020629883,
          -28.27046775817871,
          -75.53121948242188,
          21.830307006835938,
          -42.246986389160156,
          -11.652878761291504,
          -12.614250183105469,
          42.643653869628906,
          -9.78307056427002,
          -77.7585678100586,
          -57.544822692871094,
          -40.21946716308594,
          -50.06071090698242,
          -71.16276550292969,
          -28.56481170654297,
          4.357512474060059,
          -35.72896957397461,
          -31.453916549682617,
          -12.673114776611328,
          -13.255999565124512,
          -6.474010467529297,
          31.55047035217285,
          -36.06818389892578,
          -40.62666702270508,
          -41.9935302734375,
          -21.14015007019043,
          6.614368438720703,
          -31.061840057373047,
          36.66728591918945,
          3.574209690093994,
          -63.69670867919922,
          8.905858993530273,
          16.272449493408203,
          -52.160240173339844,
          -23.634618759155273,
          -28.993453979492188,
          -69.6324691772461,
          -49.55610656738281,
          -48.90098571777344,
          -41.9935302734375,
          -67.86892700195312,
          -29.264305114746094,
          -75.57500457763672,
          -63.69670867919922,
          -38.28095245361328,
          36.79808044433594,
          -41.9935302734375,
          51.19111633300781,
          -36.0777702331543,
          -34.696834564208984,
          -67.42488098144531,
          -24.657283782958984,
          -44.89801788330078,
          15.034646987915039,
          -16.779396057128906,
          -14.889324188232422,
          -3.3707997798919678,
          16.5894775390625,
          -8.22510814666748,
          -41.9935302734375,
          -34.696834564208984,
          -5.097902774810791,
          23.03321075439453,
          -42.79146194458008,
          -0.9681312441825867,
          -39.17817687988281,
          -78.27300262451172,
          31.013851165771484,
          -56.25767135620117,
          -28.352930068969727,
          -30.30817413330078,
          -2.216031074523926,
          -67.8216552734375,
          29.23992347717285,
          22.544513702392578,
          -40.90145492553711,
          13.396276473999023,
          -53.882591247558594,
          -59.156673431396484,
          24.184412002563477,
          -47.32825469970703,
          -50.4867057800293,
          24.762344360351562,
          31.41648292541504,
          -22.00384521484375,
          -39.537635803222656,
          -45.59386444091797,
          -12.614703178405762,
          -47.780799865722656,
          7.905801296234131,
          -4.3037519454956055,
          -37.46678161621094,
          -34.696834564208984,
          -24.48152732849121,
          37.56434631347656,
          25.99386978149414,
          -39.30213165283203,
          -24.227800369262695,
          24.516572952270508,
          25.77312469482422,
          23.033649444580078,
          -68.9327392578125,
          -39.97361755371094,
          19.208724975585938,
          -18.859970092773438,
          10.86706829071045,
          -61.60858154296875,
          -54.50102615356445,
          0.12728384137153625,
          30.423139572143555,
          -63.092010498046875,
          -1.994879961013794,
          29.88081932067871,
          27.97301483154297,
          -12.11637020111084,
          15.66620922088623,
          -2.939117908477783,
          13.307536125183105,
          29.625350952148438,
          -13.255999565124512,
          -52.20869827270508,
          -54.778099060058594,
          -18.916601181030273,
          -41.9935302734375,
          -63.69670867919922,
          -66.0277099609375,
          -63.56850814819336,
          -31.954002380371094,
          -55.19930648803711,
          -55.683170318603516,
          15.851177215576172,
          -13.255999565124512,
          -67.37496948242188,
          -42.052001953125,
          25.349275588989258,
          -43.502315521240234,
          -46.385433197021484,
          21.406932830810547,
          -38.73131561279297,
          -43.88385009765625,
          -48.3077507019043,
          -35.171722412109375,
          29.48719024658203,
          -5.011694431304932,
          -40.856563568115234,
          -9.645256042480469,
          -2.0986616611480713,
          -37.27755355834961,
          -52.84638214111328,
          -26.904115676879883,
          -26.758825302124023,
          -26.006290435791016,
          54.4565315246582,
          -2.5378894805908203,
          -48.10824966430664,
          -52.87482452392578,
          3.0918943881988525,
          -54.469749450683594,
          -58.08082962036133,
          -34.696834564208984,
          -44.30950164794922,
          20.783405303955078,
          1.7454774379730225,
          -66.0277099609375,
          -1.601231336593628,
          -15.89057731628418,
          -32.98727035522461,
          22.27825164794922,
          -46.042449951171875,
          -63.69670867919922,
          -41.492740631103516,
          36.401893615722656,
          -50.33433151245117,
          -45.9937744140625,
          -51.03725814819336,
          -41.9935302734375,
          -67.15339660644531,
          -19.808937072753906,
          -26.08502197265625,
          19.314929962158203,
          -29.187923431396484,
          15.265124320983887,
          -28.67443084716797,
          0.0329185388982296,
          -10.530905723571777,
          21.28124237060547,
          20.60670280456543,
          -32.551429748535156,
          7.084242343902588,
          4.662962436676025,
          15.534398078918457,
          -59.156673431396484,
          15.851949691772461,
          -56.66120147705078,
          27.16878890991211,
          27.876293182373047,
          -41.9935302734375,
          -18.997699737548828,
          -57.550716400146484,
          -46.042449951171875,
          21.860692977905273,
          -21.509183883666992,
          -5.219254970550537,
          -64.51997375488281,
          -69.12586212158203,
          -47.22604751586914,
          -31.39797019958496,
          -56.27427673339844,
          13.997483253479004,
          -10.96508502960205,
          -39.22514343261719,
          -24.91061019897461,
          3.2490592002868652,
          -52.54749298095703,
          -65.18948364257812,
          -20.402267456054688,
          -7.478454113006592,
          -31.048564910888672,
          -13.366537094116211,
          -34.87009811401367,
          -67.15339660644531,
          -21.370140075683594,
          -20.92318344116211,
          10.238982200622559,
          2.5597431659698486,
          -23.105751037597656,
          -13.255999565124512,
          23.008968353271484,
          2.213810682296753,
          -41.9935302734375,
          -33.817108154296875,
          -34.248497009277344,
          -12.334967613220215,
          -57.781532287597656,
          5.04481840133667,
          -23.318008422851562,
          -47.459571838378906,
          -7.885776519775391,
          -29.7072696685791,
          -21.699983596801758,
          -2.076342821121216,
          -27.29241180419922,
          7.86716365814209,
          28.54191017150879,
          -63.69670867919922,
          -40.49246597290039,
          17.981325149536133,
          -42.485862731933594,
          27.295351028442383,
          -41.9935302734375,
          -34.19596862792969,
          29.970993041992188,
          -63.69670867919922,
          17.340686798095703,
          -41.9935302734375,
          -44.79320526123047,
          -63.69670867919922,
          1.5797183513641357,
          27.533710479736328,
          -12.886883735656738,
          -52.982418060302734,
          -44.022315979003906,
          -55.953582763671875,
          -38.96348190307617,
          20.11615562438965,
          -60.41422653198242,
          -31.37741470336914,
          -43.00654220581055,
          11.873847961425781,
          -57.3312873840332,
          -49.42060852050781,
          35.8532829284668,
          18.06843376159668,
          -35.31431198120117,
          20.731029510498047,
          -53.303462982177734,
          -44.64900207519531,
          49.64695358276367,
          -62.12431335449219,
          -34.696834564208984,
          -29.134754180908203
         ]
        },
        {
         "hovertemplate": "Dominant_Topic=Topic 164<br>0=%{x}<br>1=%{y}<br>2=%{z}<extra></extra>",
         "legendgroup": "Topic 164",
         "marker": {
          "color": "#EF553B",
          "opacity": 0.7,
          "symbol": "circle"
         },
         "mode": "markers",
         "name": "Topic 164",
         "scene": "scene",
         "showlegend": true,
         "type": "scatter3d",
         "x": [
          -27.708864212036133,
          -37.812313079833984,
          6.514233112335205,
          4.255621910095215,
          -3.3378055095672607,
          -10.851500511169434,
          -23.486400604248047,
          -31.925731658935547,
          -39.19320297241211,
          -37.13315963745117,
          20.469575881958008,
          -32.44337463378906,
          -36.00416946411133,
          -12.239387512207031,
          -21.970111846923828,
          25.115116119384766,
          -19.93792724609375,
          -8.334178924560547,
          -32.89785385131836,
          -32.46662521362305,
          -45.796207427978516,
          -11.358468055725098,
          -30.651058197021484,
          -23.226350784301758,
          -20.787504196166992,
          -11.654553413391113,
          -14.397783279418945,
          6.95888614654541,
          -10.930181503295898,
          -13.613639831542969,
          -7.456486701965332,
          11.82764720916748,
          -2.966006278991699,
          -21.204809188842773,
          -29.705732345581055,
          -16.91803550720215,
          -13.263959884643555,
          -22.32120704650879,
          -7.994179725646973,
          -15.149691581726074,
          -26.880638122558594,
          -11.354458808898926,
          -20.470109939575195,
          -8.021036148071289,
          -31.216283798217773,
          -24.97270393371582,
          -21.749820709228516,
          11.159690856933594,
          3.343888521194458,
          -38.22553253173828,
          -35.381507873535156,
          -17.99573516845703,
          -3.987961769104004,
          -24.694074630737305,
          -38.174198150634766,
          -28.580787658691406,
          -4.28762149810791,
          -2.7949399948120117,
          -37.838897705078125,
          -30.929899215698242,
          -7.077310562133789,
          -8.233882904052734,
          -45.863868713378906,
          -15.964128494262695,
          -4.845143795013428,
          -15.023473739624023,
          -16.740249633789062,
          -28.991350173950195,
          -32.86885070800781,
          -37.68024826049805,
          0.7665703296661377,
          -39.82978820800781,
          -31.723987579345703,
          -10.782241821289062,
          -34.46467208862305,
          -1.725310206413269,
          -15.452364921569824,
          -22.4495906829834,
          5.614718437194824,
          -38.75310134887695,
          -17.937406539916992,
          -8.10860824584961,
          -17.473052978515625,
          1.7136844396591187,
          -34.126461029052734,
          0.08840849995613098,
          -39.18009567260742,
          11.159690856933594,
          -13.308382987976074,
          -7.300136089324951,
          4.875402450561523,
          -16.805557250976562,
          6.073836803436279,
          9.686370849609375,
          -8.042570114135742,
          -30.537368774414062,
          -12.6495943069458,
          -42.471343994140625,
          -27.667055130004883,
          -21.236217498779297,
          -16.392549514770508,
          -17.30325698852539,
          14.360391616821289,
          -3.2078211307525635,
          -1.2060091495513916,
          -4.739619255065918,
          -7.022848606109619,
          -9.187427520751953,
          -16.802383422851562,
          -33.4078369140625,
          -39.84865188598633,
          -10.539234161376953,
          -36.599266052246094,
          -7.618639945983887,
          -17.553438186645508,
          -13.630847930908203,
          25.499176025390625,
          -33.74598693847656,
          -44.05234146118164,
          -24.89707374572754,
          -31.62845230102539,
          2.296682119369507,
          -3.790112257003784
         ],
         "y": [
          -62.0826301574707,
          -27.59335708618164,
          -56.44704055786133,
          -60.14293670654297,
          -67.01690673828125,
          -58.97236633300781,
          -36.440216064453125,
          -22.808809280395508,
          -66.22570037841797,
          -25.07002830505371,
          -33.00121307373047,
          -27.370521545410156,
          -34.89387130737305,
          -45.017677307128906,
          -54.215919494628906,
          -28.668516159057617,
          -70.43850708007812,
          -43.35293197631836,
          -45.12625503540039,
          -26.892244338989258,
          -71.95824432373047,
          -64.67847442626953,
          -34.71106719970703,
          -65.52397918701172,
          -62.026065826416016,
          -55.199642181396484,
          -50.701995849609375,
          -29.434831619262695,
          -40.64453125,
          -29.27677345275879,
          -62.80572509765625,
          -34.42082977294922,
          -59.30512237548828,
          -30.316293716430664,
          -80.08964538574219,
          -49.22650146484375,
          -65.26683807373047,
          -58.25054168701172,
          -23.270387649536133,
          -50.66831970214844,
          -47.18927764892578,
          -31.198558807373047,
          -31.038217544555664,
          -48.289878845214844,
          -71.39988708496094,
          -46.64204788208008,
          -54.41743469238281,
          -33.64094543457031,
          -46.45687484741211,
          -71.72132110595703,
          -68.99559020996094,
          -27.656530380249023,
          -49.4887580871582,
          -47.02495574951172,
          -75.1155776977539,
          -55.137908935546875,
          -29.772640228271484,
          -61.79115676879883,
          -32.78759765625,
          -19.200393676757812,
          -48.11042785644531,
          -73.83055877685547,
          -78.93592834472656,
          -32.777034759521484,
          -38.661163330078125,
          -69.33622741699219,
          -36.06072998046875,
          -38.53020477294922,
          -52.9339714050293,
          -83.31869506835938,
          -41.98624801635742,
          -77.53286743164062,
          -56.49409484863281,
          -29.513078689575195,
          -45.02146530151367,
          -70.87881469726562,
          -41.7899055480957,
          -45.486358642578125,
          -39.59722137451172,
          -20.731008529663086,
          -38.14369201660156,
          -55.17833709716797,
          -39.94490432739258,
          -52.113609313964844,
          -79.07344055175781,
          -40.87615203857422,
          -23.27186393737793,
          -33.64094543457031,
          -33.27187728881836,
          -33.586708068847656,
          -49.50589370727539,
          -44.578834533691406,
          -33.41563034057617,
          -35.715118408203125,
          -37.160213470458984,
          -29.338233947753906,
          -56.8194580078125,
          -79.99017333984375,
          -23.345396041870117,
          -59.386993408203125,
          -23.71993064880371,
          -37.969879150390625,
          -28.20602035522461,
          -36.10384750366211,
          -56.18920135498047,
          -53.40355682373047,
          -43.337989807128906,
          -36.55450439453125,
          -60.871253967285156,
          -29.385292053222656,
          -28.69127655029297,
          -22.7987060546875,
          -28.117219924926758,
          -36.14369201660156,
          -52.027854919433594,
          -70.79582214355469,
          -32.40199279785156,
          -17.496042251586914,
          -70.4542007446289,
          -38.32035827636719,
          -76.3813705444336,
          -68.03482055664062,
          -28.232507705688477
         ],
         "z": [
          -39.73551559448242,
          -18.89699363708496,
          -33.73075866699219,
          -44.64464569091797,
          -26.71788215637207,
          -24.210201263427734,
          -28.8321533203125,
          -58.0280876159668,
          -28.477924346923828,
          -38.39555740356445,
          34.61056137084961,
          -13.38659381866455,
          -20.53085708618164,
          -33.43836975097656,
          -36.68976974487305,
          35.82293701171875,
          -37.63493347167969,
          -42.289451599121094,
          -30.71761703491211,
          -46.280208587646484,
          -30.518030166625977,
          -33.77069091796875,
          -15.05963134765625,
          -48.875850677490234,
          -30.827823638916016,
          -34.10910415649414,
          -41.64125061035156,
          -35.501670837402344,
          -9.34462833404541,
          -1.2809967994689941,
          -43.379878997802734,
          -32.76139450073242,
          -35.44321823120117,
          -37.493011474609375,
          -27.09942054748535,
          -57.876731872558594,
          -55.7681770324707,
          -57.43853759765625,
          -6.105879306793213,
          -17.747802734375,
          -54.16132736206055,
          -9.337030410766602,
          -7.17287540435791,
          -50.94993209838867,
          -28.835805892944336,
          -22.431955337524414,
          -47.63864517211914,
          -40.33934783935547,
          -29.1466007232666,
          -35.07648849487305,
          -21.33488655090332,
          -15.030779838562012,
          -34.80756759643555,
          -42.42169189453125,
          -26.793216705322266,
          -28.46828842163086,
          -3.2145743370056152,
          -53.03931427001953,
          -13.284527778625488,
          -44.89748001098633,
          -24.505062103271484,
          -36.42021560668945,
          -24.64544677734375,
          -46.40662384033203,
          -29.240205764770508,
          -24.89132308959961,
          -13.779566764831543,
          -37.98292922973633,
          -38.103946685791016,
          -25.29253387451172,
          -48.67160415649414,
          -18.5356502532959,
          -48.80339431762695,
          -19.025259017944336,
          -45.456214904785156,
          -46.769290924072266,
          -24.971418380737305,
          -32.94977569580078,
          -18.439613342285156,
          -46.90180969238281,
          -56.84204864501953,
          -59.8364372253418,
          -39.38845443725586,
          -52.67737579345703,
          -33.95427322387695,
          -38.03623962402344,
          -54.508968353271484,
          -40.33934783935547,
          -31.412744522094727,
          -39.58121109008789,
          -41.875205993652344,
          -48.56569290161133,
          -20.219379425048828,
          -15.338645935058594,
          -50.707611083984375,
          -20.588726043701172,
          -49.884132385253906,
          -32.649932861328125,
          -51.31356430053711,
          -20.53788948059082,
          -7.468219757080078,
          -4.330298900604248,
          -36.280094146728516,
          -8.555571556091309,
          -25.7763614654541,
          -43.599586486816406,
          -59.720027923583984,
          -1.8229939937591553,
          -41.532203674316406,
          -53.70985794067383,
          -48.555599212646484,
          -14.121439933776855,
          -32.51832962036133,
          -15.719589233398438,
          -27.72311782836914,
          -46.438663482666016,
          30.48906707763672,
          -52.255496978759766,
          -22.01397132873535,
          -47.91628646850586,
          -20.113258361816406,
          -36.332183837890625,
          -12.633529663085938
         ]
        },
        {
         "hovertemplate": "Dominant_Topic=Topic 31<br>0=%{x}<br>1=%{y}<br>2=%{z}<extra></extra>",
         "legendgroup": "Topic 31",
         "marker": {
          "color": "#00cc96",
          "opacity": 0.7,
          "symbol": "circle"
         },
         "mode": "markers",
         "name": "Topic 31",
         "scene": "scene",
         "showlegend": true,
         "type": "scatter3d",
         "x": [
          23.42970085144043,
          26.85913848876953,
          43.881038665771484,
          32.35086441040039,
          37.93601989746094,
          31.387897491455078,
          33.384883880615234,
          35.21798324584961,
          28.934703826904297,
          26.06808090209961,
          25.505517959594727,
          20.658523559570312,
          42.11776351928711,
          28.91057586669922,
          34.34550094604492,
          21.283544540405273
         ],
         "y": [
          -41.62605667114258,
          -49.82703399658203,
          -38.81635665893555,
          -45.492958068847656,
          -43.897945404052734,
          -37.72857666015625,
          -51.41325759887695,
          -46.987266540527344,
          -41.34560775756836,
          -50.51979446411133,
          -36.676856994628906,
          -48.16829299926758,
          -33.34082794189453,
          -44.35783386230469,
          -38.22023391723633,
          -42.65216827392578
         ],
         "z": [
          -41.23605728149414,
          -29.442352294921875,
          -47.53348922729492,
          -43.946712493896484,
          -37.37373352050781,
          -40.48538589477539,
          -36.76882553100586,
          -29.31753158569336,
          -26.23173713684082,
          -41.67547607421875,
          -33.88225173950195,
          -35.791648864746094,
          -46.67721176147461,
          -35.31086349487305,
          -31.97911834716797,
          -29.623043060302734
         ]
        },
        {
         "hovertemplate": "Dominant_Topic=Topic 68<br>0=%{x}<br>1=%{y}<br>2=%{z}<extra></extra>",
         "legendgroup": "Topic 68",
         "marker": {
          "color": "#ab63fa",
          "opacity": 0.7,
          "symbol": "circle"
         },
         "mode": "markers",
         "name": "Topic 68",
         "scene": "scene",
         "showlegend": true,
         "type": "scatter3d",
         "x": [
          19.44245147705078,
          23.72393226623535,
          18.98162841796875,
          30.46405601501465,
          38.38515853881836,
          16.163965225219727,
          39.07777404785156,
          32.75685119628906,
          30.957735061645508,
          20.184568405151367,
          32.40555191040039,
          28.8271427154541,
          35.72471618652344,
          18.04778289794922,
          27.450016021728516,
          27.462482452392578,
          34.83521270751953,
          6.536985397338867,
          35.281463623046875,
          27.76980972290039,
          24.934194564819336,
          27.355070114135742,
          36.71053695678711,
          32.39647674560547,
          44.66234588623047,
          15.796468734741211,
          35.97456741333008,
          10.494101524353027,
          13.774516105651855,
          17.180950164794922,
          22.84095001220703,
          33.008785247802734,
          23.2901554107666,
          22.454387664794922,
          27.38299560546875,
          22.195632934570312,
          16.309293746948242,
          16.603864669799805,
          13.745339393615723,
          18.812095642089844,
          24.173786163330078,
          19.543607711791992,
          14.08021068572998,
          27.027755737304688,
          10.37705135345459,
          32.51803970336914,
          25.457406997680664,
          32.5972785949707,
          31.656042098999023
         ],
         "y": [
          -41.36836242675781,
          -18.907814025878906,
          -28.67989158630371,
          -14.102887153625488,
          -9.575287818908691,
          -33.69965362548828,
          -15.994422912597656,
          -16.65713882446289,
          -23.21720314025879,
          -5.436384677886963,
          -42.55565643310547,
          -8.214262962341309,
          -7.280930995941162,
          -13.068720817565918,
          -3.766679286956787,
          -38.046913146972656,
          1.5023380517959595,
          -31.183624267578125,
          -0.8040237426757812,
          4.889732360839844,
          -12.732392311096191,
          -15.623478889465332,
          -12.296432495117188,
          -4.434685707092285,
          -3.032435417175293,
          -17.232990264892578,
          -37.9252815246582,
          -39.43784713745117,
          -38.338382720947266,
          -37.15937042236328,
          -29.49006462097168,
          -19.993417739868164,
          -6.684043884277344,
          -36.066017150878906,
          -10.031274795532227,
          -10.576522827148438,
          -29.84309959411621,
          -13.694066047668457,
          -7.758860111236572,
          -4.37920618057251,
          -18.596843719482422,
          0.18609300255775452,
          -25.677431106567383,
          0.35056301951408386,
          -31.39350128173828,
          -6.6472930908203125,
          1.435146450996399,
          -34.370121002197266,
          -31.01669692993164
         ],
         "z": [
          61.03339385986328,
          46.14995193481445,
          67.97142028808594,
          51.256587982177734,
          45.036617279052734,
          60.903629302978516,
          51.98440933227539,
          42.536170959472656,
          49.74518966674805,
          42.7489013671875,
          61.588069915771484,
          45.65389633178711,
          53.76842498779297,
          60.38603591918945,
          52.57722091674805,
          67.70236206054688,
          56.30825424194336,
          56.88896942138672,
          46.73448944091797,
          50.87580871582031,
          38.831417083740234,
          65.05284118652344,
          61.424537658691406,
          63.36442947387695,
          60.540306091308594,
          52.073760986328125,
          67.71245574951172,
          62.550750732421875,
          54.30088424682617,
          68.48357391357422,
          60.3968391418457,
          58.47597122192383,
          65.76617431640625,
          54.85728454589844,
          58.12677001953125,
          50.830936431884766,
          53.49464797973633,
          43.42692947387695,
          50.99555587768555,
          57.776981353759766,
          55.84751510620117,
          49.874671936035156,
          61.10711669921875,
          42.33378601074219,
          66.5981216430664,
          37.73025894165039,
          59.934539794921875,
          60.99195098876953,
          68.365478515625
         ]
        },
        {
         "hovertemplate": "Dominant_Topic=Topic 72<br>0=%{x}<br>1=%{y}<br>2=%{z}<extra></extra>",
         "legendgroup": "Topic 72",
         "marker": {
          "color": "#FFA15A",
          "opacity": 0.7,
          "symbol": "circle"
         },
         "mode": "markers",
         "name": "Topic 72",
         "scene": "scene",
         "showlegend": true,
         "type": "scatter3d",
         "x": [
          87.1551513671875,
          -30.355270385742188,
          43.57211685180664,
          25.8441219329834,
          51.331356048583984,
          -45.44807815551758,
          -69.50740051269531,
          -4.0992655754089355,
          55.15502166748047,
          26.427024841308594,
          1.1336928606033325,
          -25.27688217163086,
          -14.323843955993652,
          -43.0374755859375,
          55.98377990722656,
          -33.151390075683594,
          -58.17496871948242,
          48.83774185180664,
          -64.9921875,
          -31.13985252380371,
          6.069870471954346,
          -48.31196594238281,
          -23.862035751342773,
          53.392234802246094,
          -71.5229263305664,
          -4.836198329925537,
          -59.28901290893555,
          -43.14674377441406,
          -42.38906478881836,
          22.162582397460938,
          18.280193328857422,
          -28.744277954101562,
          -41.97657775878906,
          -61.12441635131836,
          -32.377872467041016,
          -64.0879135131836,
          -29.171676635742188,
          -78.74524688720703,
          56.83013916015625,
          -17.881690979003906,
          -60.81364822387695,
          -79.56505584716797,
          -24.508350372314453,
          -14.435924530029297,
          -3.037276029586792,
          -47.098609924316406,
          -3.8313968181610107,
          17.985897064208984,
          -24.633041381835938,
          45.1970329284668,
          25.964099884033203,
          -31.05367660522461,
          -2.8452634811401367,
          -14.180715560913086,
          15.648929595947266,
          86.2579116821289,
          -14.623970985412598,
          -20.846446990966797,
          -74.93812561035156,
          74.79297637939453,
          -8.882478713989258,
          -81.07582092285156,
          -27.035362243652344,
          -29.1138916015625,
          -1.3236393928527832,
          -70.11000061035156,
          -20.34119987487793,
          -48.644718170166016,
          20.265296936035156,
          -64.3179931640625,
          -30.20380973815918,
          59.15098190307617,
          -18.153060913085938,
          7.0836381912231445,
          -5.118490695953369,
          -52.576175689697266,
          -26.527347564697266,
          -33.55570983886719,
          0.3089134693145752,
          21.005489349365234,
          -12.511049270629883,
          5.231130123138428,
          15.223654747009277,
          44.58546447753906,
          11.905750274658203,
          18.82232666015625,
          6.916707515716553,
          -65.34171295166016,
          77.94340515136719,
          -1.873517394065857,
          -19.701086044311523,
          -23.744365692138672,
          -24.842369079589844,
          -84.07281494140625,
          -20.912443161010742,
          27.599687576293945,
          -41.6814079284668,
          -57.00189208984375,
          -8.181229591369629,
          27.49239730834961,
          -26.16326904296875,
          68.67729187011719,
          78.63191223144531,
          -73.6837158203125,
          -18.693679809570312,
          -10.71520709991455,
          48.89954376220703,
          -3.2187013626098633,
          72.864501953125,
          -3.055690288543701,
          8.102157592773438,
          -24.138479232788086,
          -71.21709442138672,
          18.827329635620117,
          20.919450759887695,
          45.59125518798828,
          -3.2737748622894287,
          -26.543466567993164,
          -57.06576919555664,
          46.70259094238281,
          77.7672119140625,
          -45.93833923339844,
          -52.746524810791016,
          70.27487182617188,
          -45.71764373779297,
          15.593902587890625,
          -96.69912719726562,
          25.079891204833984,
          -44.6649055480957,
          40.55046844482422,
          0.491886168718338,
          -12.999733924865723,
          87.13219451904297,
          -62.48241424560547,
          -48.841548919677734,
          -96.32035827636719,
          50.36977005004883,
          22.366764068603516,
          -8.842818260192871,
          -61.92249298095703,
          -7.477137088775635,
          32.293540954589844,
          76.0791015625,
          -70.56633758544922,
          -35.95708084106445,
          -75.13066101074219,
          20.21459197998047,
          -17.874576568603516,
          -41.01173782348633,
          -55.39430236816406,
          30.06890296936035,
          -56.3883171081543,
          -63.00104904174805,
          -26.916603088378906,
          4.702282428741455,
          -31.77594566345215,
          12.599085807800293,
          -84.80492401123047,
          -108.67536926269531,
          2.0045058727264404,
          21.93726921081543,
          -76.3841323852539,
          13.876346588134766,
          14.6753568649292,
          -39.602909088134766,
          -60.424095153808594,
          -52.508724212646484,
          12.157186508178711,
          0.5009487271308899,
          17.109146118164062,
          2.6112020015716553,
          63.624881744384766,
          -41.2205924987793,
          -51.15319061279297,
          -34.276588439941406,
          -43.27366638183594,
          -66.08808898925781,
          -37.972415924072266,
          -11.989523887634277,
          -50.28327941894531,
          -11.471077919006348,
          89.88863372802734,
          -61.43967056274414,
          -26.968244552612305,
          -32.46583557128906,
          24.789121627807617,
          -0.08180462568998337,
          -77.55894470214844,
          -41.05504608154297,
          -35.2467041015625,
          20.941028594970703,
          -77.88593292236328,
          -64.08097076416016,
          -11.686287879943848,
          36.597503662109375,
          -1.409682273864746,
          -85.0085678100586,
          -1.417077898979187,
          -88.41201782226562,
          -2.7548630237579346,
          1.2000226974487305,
          -51.338680267333984,
          -58.95234680175781,
          6.43212890625,
          -4.8955583572387695,
          33.59158706665039,
          -27.322111129760742,
          -49.088043212890625,
          19.452991485595703,
          -0.3399394750595093,
          -53.4301872253418,
          75.5123291015625,
          -57.0484504699707,
          19.376800537109375,
          0.6696929335594177,
          -63.17283630371094,
          25.820293426513672,
          3.558607339859009,
          -35.18986892700195,
          19.209136962890625,
          -11.612829208374023,
          -49.009666442871094,
          14.783918380737305,
          27.430267333984375,
          -36.546627044677734,
          8.736496925354004,
          -25.480602264404297,
          -49.36301803588867,
          -67.50407409667969,
          -31.147642135620117,
          -80.13707733154297,
          -12.6897554397583,
          -83.05582427978516,
          -68.39086151123047,
          -45.85114669799805,
          38.92332458496094,
          -47.25788116455078,
          22.729990005493164,
          -69.90025329589844,
          -21.083829879760742,
          -32.870479583740234,
          -42.677452087402344,
          -25.187976837158203,
          -2.3850433826446533,
          -12.328886032104492,
          -30.14620590209961,
          7.7522358894348145,
          -41.08445739746094,
          -55.1126823425293,
          -49.1303825378418,
          -36.73033142089844,
          -84.18730163574219,
          -72.72484588623047,
          -49.664215087890625,
          -45.44819641113281,
          -10.29305362701416,
          23.64409828186035,
          -40.011966705322266,
          -65.93125915527344,
          -56.05821990966797,
          -71.99906158447266,
          65.54840087890625,
          66.47016906738281,
          -88.46261596679688,
          79.44844055175781,
          69.21967315673828,
          -34.02935791015625,
          -22.794370651245117,
          -28.584712982177734,
          -13.055577278137207,
          -36.205509185791016,
          -44.82795715332031,
          68.30504608154297,
          82.47196197509766,
          34.24855041503906,
          10.648159980773926,
          0.8940933346748352,
          -29.657934188842773,
          -24.637174606323242,
          -28.66694450378418,
          48.45915985107422,
          -63.163333892822266,
          -61.7109260559082,
          -48.93522262573242,
          2.3857712745666504,
          -17.62250518798828,
          -43.68376541137695,
          -42.395477294921875,
          60.883087158203125,
          -30.663314819335938,
          -50.37701416015625,
          11.932323455810547,
          20.764522552490234,
          -48.963722229003906,
          22.11392593383789,
          -11.717146873474121,
          -29.98490333557129,
          -8.25689697265625,
          -2.0226428508758545,
          43.450321197509766,
          56.46112823486328,
          17.41686248779297,
          2.859935998916626,
          -16.1844425201416,
          -24.33445930480957,
          -51.72782897949219,
          14.88670825958252,
          -33.992061614990234,
          -11.052326202392578,
          -11.078326225280762,
          1.2356531620025635,
          -19.516944885253906,
          51.456260681152344,
          -19.31616973876953,
          9.985847473144531,
          -27.363439559936523,
          5.029491424560547,
          -2.817317008972168,
          10.92759895324707,
          7.847910404205322,
          -104.82328033447266,
          81.55284118652344,
          -28.281208038330078,
          6.915680408477783,
          17.110502243041992,
          -4.724795341491699,
          55.98377990722656,
          -70.82717895507812,
          13.71790885925293,
          8.662467956542969,
          -10.651800155639648,
          -18.726228713989258,
          -18.16178321838379,
          76.09207153320312,
          4.197972297668457,
          -36.75200271606445,
          -20.859432220458984,
          -50.08354568481445,
          -86.31000518798828,
          -12.604713439941406,
          -54.158599853515625,
          -17.39442253112793,
          -8.444583892822266,
          16.38719367980957,
          -54.0452995300293,
          2.5420007705688477,
          -41.32538604736328,
          55.98377990722656,
          -31.25463104248047,
          -25.00847816467285,
          42.49821853637695,
          -87.2315902709961,
          -60.13740539550781,
          81.9767837524414,
          67.4210205078125,
          -23.92171859741211,
          51.62451934814453,
          -22.556007385253906,
          43.7365608215332,
          -16.04854393005371,
          33.622982025146484,
          -30.59709358215332,
          35.76625442504883,
          -58.91874694824219,
          -100.84198760986328,
          69.65885162353516,
          -5.254195690155029,
          3.058528423309326,
          -40.290870666503906,
          3.9026458263397217,
          5.976121425628662,
          -41.67097091674805,
          -42.29774475097656,
          32.210350036621094,
          -34.109676361083984,
          -20.007408142089844,
          89.94415283203125,
          -74.3090591430664,
          62.414276123046875,
          -37.918338775634766,
          2.153081178665161,
          83.43283081054688,
          67.3271713256836,
          20.04542350769043,
          -7.8705620765686035,
          -26.119691848754883,
          -36.04890823364258,
          55.98377990722656,
          -82.54735565185547,
          74.82698822021484,
          28.61030387878418,
          -7.870257377624512,
          20.65346336364746,
          -44.62690734863281,
          -58.146812438964844,
          -21.070323944091797,
          -80.98151397705078,
          -19.752731323242188,
          -17.929149627685547,
          -38.619144439697266,
          -52.44364929199219,
          -38.354888916015625,
          -21.718416213989258,
          -65.67581176757812,
          -92.31597137451172,
          76.56554412841797,
          -47.0127067565918,
          66.90260314941406,
          51.58820724487305,
          69.06755065917969,
          21.07420539855957,
          -19.942758560180664,
          9.667558670043945,
          -47.68122482299805,
          -9.020600318908691,
          -54.747314453125,
          -57.81248474121094,
          97.61001586914062,
          51.53056335449219,
          -34.600826263427734,
          -58.963294982910156,
          -15.728108406066895,
          -64.55999755859375,
          -46.118778228759766,
          -27.863758087158203,
          25.023414611816406,
          -74.99767303466797,
          81.9767837524414,
          51.56407928466797,
          59.05094528198242,
          12.55756950378418,
          52.57432174682617,
          53.978668212890625,
          -5.425016403198242,
          -34.809932708740234,
          -33.672115325927734,
          -61.571449279785156,
          67.35646057128906,
          -60.34843444824219,
          -7.482539653778076,
          20.35956573486328,
          13.650306701660156,
          3.3104002475738525,
          32.910579681396484,
          -5.77717924118042,
          -14.310690879821777,
          27.66548728942871,
          97.17133331298828,
          20.438199996948242,
          39.111480712890625,
          -45.8946533203125,
          -51.097190856933594,
          -9.32030200958252,
          -11.813536643981934,
          47.37662887573242,
          -35.894832611083984,
          -22.26898956298828,
          -23.140295028686523,
          -67.87228393554688,
          -25.88276481628418,
          62.074710845947266,
          -47.82673263549805,
          11.677495956420898,
          -10.260514259338379,
          32.75004196166992,
          47.235755920410156,
          -32.6098747253418,
          -94.8187255859375,
          -54.399532318115234,
          29.258668899536133,
          -70.37999725341797,
          -58.21440505981445,
          11.380269050598145,
          -26.230623245239258,
          -78.33763122558594,
          26.957033157348633,
          34.120452880859375,
          -7.7114787101745605,
          -52.274837493896484,
          -19.482830047607422,
          44.46125030517578,
          -47.475563049316406,
          1.5663917064666748,
          -34.38917541503906,
          44.89810562133789,
          -34.65543746948242,
          9.118821144104004,
          46.405052185058594,
          1.1291306018829346,
          -41.26894760131836,
          -64.42696380615234,
          26.11691665649414,
          -82.38941955566406,
          4.620998859405518,
          -45.17918014526367,
          21.8680362701416,
          69.93496704101562,
          -42.23158645629883,
          -44.21031188964844,
          -35.9939079284668,
          -22.47533416748047,
          2.2689719200134277,
          38.127220153808594,
          -49.553218841552734,
          -55.20561599731445,
          0.41364535689353943,
          27.882173538208008,
          -36.00762176513672,
          26.130800247192383,
          -60.75263595581055,
          -2.2239198684692383,
          -20.46590805053711,
          -73.09405517578125,
          2.5223240852355957,
          7.445318222045898,
          12.591194152832031,
          -63.39205551147461,
          32.17475128173828,
          -81.68889617919922,
          33.271568298339844,
          13.620686531066895,
          66.83688354492188,
          -64.15872192382812,
          -88.48351287841797,
          28.786409378051758,
          -33.398277282714844,
          -76.62743377685547,
          20.784381866455078,
          57.70127487182617,
          49.15459442138672,
          -49.73267364501953,
          53.76204299926758,
          -53.47111129760742,
          6.7290358543396,
          -17.89510726928711,
          23.646596908569336,
          11.571839332580566,
          -28.2279052734375,
          15.55183219909668,
          62.895545959472656,
          -88.91483306884766,
          6.1762847900390625,
          52.48805618286133,
          -75.11177825927734,
          -90.89437866210938,
          26.059904098510742,
          6.114978790283203,
          19.679588317871094,
          -76.00993347167969,
          -61.693031311035156,
          47.18727493286133,
          -30.834131240844727,
          16.89680290222168,
          23.824695587158203,
          68.64064025878906,
          -17.864383697509766,
          -38.82697677612305,
          87.25365447998047,
          -16.470441818237305,
          26.056116104125977,
          42.2523078918457,
          -66.3512191772461,
          69.43519592285156,
          16.75776481628418,
          -71.4757080078125,
          -44.3306884765625,
          8.481236457824707,
          -78.08930969238281,
          51.93146896362305,
          86.71674346923828,
          -81.79240417480469,
          44.598018646240234,
          5.398524761199951,
          -32.947818756103516,
          -72.23114776611328,
          -67.54302978515625,
          -101.38253021240234,
          -30.051294326782227,
          -19.402484893798828,
          -88.1417465209961,
          -14.81286334991455,
          -35.71807861328125,
          -63.91797637939453,
          13.027314186096191,
          -1.216731309890747,
          -41.41628646850586,
          -25.4121150970459,
          -29.59095573425293,
          -79.98200988769531,
          -58.086246490478516,
          -76.38539123535156,
          4.38873291015625,
          -65.29004669189453,
          30.323760986328125,
          39.25986862182617,
          -70.4845962524414,
          36.394622802734375,
          -26.61605453491211,
          71.50447845458984,
          70.2348861694336,
          -52.039669036865234,
          61.74839782714844,
          -57.36233901977539,
          -36.65693283081055,
          -58.19470977783203,
          -65.43312072753906,
          61.91941452026367,
          -21.790325164794922,
          73.24433135986328,
          65.34095764160156,
          -15.222100257873535,
          -9.658053398132324,
          79.21934509277344,
          -1.0654581785202026,
          -63.37888717651367,
          7.048402309417725,
          -15.211832046508789,
          -34.994956970214844,
          -66.76797485351562,
          -62.77018356323242,
          24.765361785888672,
          49.732704162597656,
          42.49000930786133,
          -26.607528686523438,
          -29.628005981445312,
          53.550987243652344,
          -72.58802795410156,
          1.25983464717865,
          12.621793746948242,
          8.19263744354248,
          -33.1848258972168,
          -69.63451385498047,
          -21.21871566772461,
          -46.138885498046875,
          33.00631332397461,
          -22.124160766601562,
          46.40669250488281,
          -25.73301124572754,
          79.1307373046875,
          -57.22142028808594,
          45.497581481933594,
          -2.8946471214294434,
          83.40375518798828,
          -12.989547729492188,
          -14.931510925292969,
          -73.10831451416016,
          1.2069036960601807,
          -34.955894470214844,
          -45.566864013671875,
          69.9890365600586,
          -28.983531951904297,
          -34.96632766723633,
          -9.660720825195312,
          -26.345502853393555,
          -9.518277168273926,
          -58.05532455444336,
          47.235755920410156,
          53.74359130859375,
          -6.427673816680908,
          8.6709623336792,
          -63.76045608520508,
          -52.52029037475586,
          -29.480432510375977,
          -44.65684509277344,
          12.898382186889648,
          37.46601867675781,
          -31.956592559814453,
          -11.78466796875,
          67.94538116455078,
          -56.74163055419922,
          -35.997352600097656,
          -30.55308723449707,
          4.3119025230407715,
          -86.91683959960938,
          -89.99848175048828,
          -85.59016418457031,
          -73.19982147216797,
          -39.79334259033203,
          -22.12009620666504,
          37.72161102294922,
          -59.83647537231445,
          -83.50166320800781,
          -52.22006607055664,
          -72.31829071044922,
          -50.542057037353516,
          -45.37163162231445,
          -80.04853057861328,
          71.49938201904297,
          50.696861267089844,
          34.265037536621094,
          -40.630794525146484,
          56.384437561035156,
          9.267156600952148,
          14.096251487731934,
          -17.50260353088379,
          -54.4630241394043,
          31.921674728393555,
          24.10834503173828,
          -93.8404541015625,
          -55.60755920410156,
          -4.233395099639893,
          -66.79460906982422,
          -13.816282272338867,
          18.032941818237305,
          -51.80896759033203,
          -77.05048370361328,
          -26.849834442138672,
          -90.67640686035156,
          8.744307518005371,
          -72.72947692871094,
          17.074792861938477,
          15.955960273742676,
          -63.24879837036133,
          7.75038480758667,
          -54.16373825073242,
          78.9025650024414,
          66.65697479248047,
          -12.690937995910645,
          79.7836685180664,
          -58.77421951293945,
          -15.91418743133545,
          132.09930419921875,
          4.861246585845947,
          40.57402801513672,
          -39.567989349365234,
          -23.362741470336914,
          -52.144187927246094,
          -39.69227600097656,
          66.495361328125,
          -2.794956684112549,
          -20.167612075805664,
          -53.93472671508789,
          50.904727935791016,
          1.3349387645721436,
          23.4921875,
          25.947660446166992,
          50.99803161621094,
          -32.421573638916016,
          9.964481353759766,
          -102.9336166381836,
          -53.38405227661133,
          2.481003761291504,
          -26.11094093322754,
          -3.2626523971557617,
          -30.754213333129883,
          50.3299560546875,
          -30.373779296875,
          81.15374755859375,
          36.81258773803711,
          -38.11610412597656,
          -63.63690948486328,
          -89.21868133544922,
          11.82082462310791,
          -17.57854652404785,
          58.94318771362305,
          -66.12747192382812,
          -49.444908142089844,
          8.592037200927734,
          -4.55037260055542,
          80.64279174804688,
          15.198033332824707,
          -22.904767990112305,
          51.91071319580078,
          -25.343791961669922,
          -73.37887573242188,
          -77.41831970214844,
          23.18436622619629,
          -3.187739610671997,
          -0.3130183517932892,
          16.610334396362305,
          -25.158180236816406,
          -9.369071960449219,
          25.915267944335938,
          -28.40282440185547,
          63.174354553222656,
          -20.460365295410156,
          -21.176015853881836,
          18.32655143737793,
          1.2524775266647339,
          -91.667236328125,
          5.446512222290039,
          17.460063934326172,
          -68.7938461303711,
          -0.16659879684448242,
          22.818992614746094,
          -26.900577545166016,
          65.93245697021484,
          8.880314826965332,
          11.989623069763184,
          -7.732326984405518,
          -40.806583404541016,
          -39.86497116088867,
          -19.105518341064453,
          -33.53561019897461,
          8.181187629699707,
          -38.635223388671875,
          -15.645124435424805,
          -22.264341354370117,
          15.10523509979248,
          -0.0814959779381752,
          21.79198455810547,
          -33.10976791381836,
          -14.31795883178711,
          -58.26805114746094,
          -99.83890533447266,
          -17.79444694519043,
          1.9228941202163696,
          8.935153007507324,
          -26.083528518676758,
          51.456966400146484,
          75.84876251220703,
          44.75361633300781,
          -39.86042785644531,
          -93.89996337890625,
          36.754966735839844,
          49.84418869018555,
          17.30852699279785,
          17.518774032592773,
          20.2120418548584,
          92.5591812133789,
          0.25468558073043823,
          -15.074424743652344,
          -31.9893856048584,
          -64.84648132324219,
          -42.4289665222168,
          -46.55427932739258,
          13.377185821533203,
          -10.220582962036133,
          -37.71236801147461,
          39.80036926269531,
          -12.276713371276855,
          48.310760498046875,
          -65.27362823486328,
          -41.05142593383789,
          80.64279174804688,
          17.91802978515625,
          80.73844909667969,
          -39.93864822387695,
          -10.157255172729492,
          -72.59457397460938,
          -17.10011100769043,
          -33.41920852661133,
          52.089107513427734,
          -44.40886306762695,
          -42.36846160888672,
          65.17951202392578,
          82.08638000488281,
          -74.53672790527344,
          1.2348501682281494,
          -17.91828727722168,
          -61.72269821166992,
          3.9528846740722656,
          24.975616455078125,
          7.537206172943115,
          -92.2522964477539,
          -28.08547019958496,
          -59.79085159301758,
          -62.42805099487305,
          -73.65029907226562,
          -48.22696304321289,
          43.488155364990234,
          17.903554916381836,
          28.925691604614258,
          37.78034591674805,
          -39.856300354003906,
          -0.8120325803756714,
          -70.21305084228516,
          -15.024978637695312,
          -5.832988262176514,
          -9.967619895935059,
          -28.882783889770508,
          39.82722473144531,
          -64.01921081542969,
          -49.891353607177734,
          -7.2147603034973145,
          -44.34132766723633,
          -0.04766895994544029,
          -10.783312797546387,
          45.71028518676758,
          14.704841613769531,
          32.40607452392578,
          29.424785614013672,
          15.035847663879395,
          -7.420393943786621,
          -20.673385620117188,
          -33.48288345336914,
          11.476419448852539,
          -4.2302021980285645,
          88.55448150634766,
          -2.28918719291687,
          1.4176031351089478,
          -21.81304168701172,
          -29.765655517578125,
          -57.17015838623047,
          -54.19565963745117,
          -11.015355110168457,
          71.72000122070312,
          25.944881439208984,
          -14.243399620056152,
          -10.740570068359375,
          40.78596496582031,
          -47.73218536376953,
          -57.92698669433594,
          -15.289383888244629,
          76.36298370361328,
          31.643898010253906,
          87.36380767822266,
          81.00084686279297,
          77.04815673828125,
          -0.8504864573478699,
          79.28641510009766,
          0.6393712759017944,
          -27.13639259338379,
          28.737268447875977,
          -92.66768646240234,
          81.46166229248047,
          -42.568580627441406,
          8.53943920135498,
          29.186382293701172,
          -71.54931640625,
          -52.63123321533203,
          -21.78603744506836,
          -17.559141159057617,
          -42.5718994140625,
          -30.00181770324707,
          -53.37406921386719,
          -8.35923957824707,
          0.05517679452896118,
          -11.030435562133789,
          -35.490238189697266,
          24.839290618896484,
          14.316243171691895,
          54.40296173095703,
          -48.363651275634766,
          4.223600387573242,
          -56.35675048828125,
          -39.77630615234375,
          39.366275787353516,
          -76.22040557861328,
          -7.0395612716674805,
          74.44210052490234,
          -53.68425750732422,
          -14.063567161560059,
          -48.88313674926758,
          91.39830780029297,
          -37.8472785949707,
          -39.94782257080078,
          -10.87312126159668,
          -39.90994644165039,
          1.132691502571106,
          30.158496856689453,
          10.613048553466797,
          0.5631107091903687,
          -31.809913635253906,
          -39.80330276489258,
          -38.206504821777344,
          -56.35129928588867,
          48.20606231689453,
          1.2628822326660156,
          -37.89858627319336,
          -29.014976501464844,
          33.52067184448242,
          54.859981536865234,
          -57.59726333618164,
          6.619434356689453,
          -6.051493167877197,
          -57.98630142211914,
          11.517539024353027,
          -58.37771987915039,
          -41.86817169189453,
          44.26057815551758,
          59.662235260009766,
          25.57653045654297,
          49.006900787353516,
          -41.21921157836914,
          56.144981384277344,
          -29.402587890625,
          -23.15094757080078,
          -15.536934852600098,
          26.894527435302734,
          34.94426345825195,
          61.553993225097656,
          -10.754645347595215,
          27.1971378326416,
          -1.9587621688842773,
          42.49213790893555,
          -37.93354415893555,
          49.16334915161133,
          -59.872581481933594,
          -45.581298828125,
          33.689849853515625,
          2.6551058292388916,
          -15.142333984375,
          -37.026466369628906,
          3.84891676902771,
          -59.13198471069336,
          79.67982482910156,
          43.79530334472656,
          -49.54032897949219,
          12.164361000061035,
          -13.160364151000977,
          23.978788375854492,
          1.4384808540344238,
          -17.751502990722656,
          -81.37699890136719,
          10.083925247192383,
          49.822017669677734,
          9.709991455078125,
          33.78049087524414,
          -36.474456787109375,
          -6.544895648956299,
          40.962337493896484,
          -6.7929840087890625,
          25.715404510498047,
          14.913399696350098,
          -18.867408752441406,
          50.25385665893555,
          -24.902599334716797,
          70.77950286865234,
          -63.01481246948242,
          16.412078857421875,
          -12.466229438781738,
          -9.691106796264648,
          2.2160661220550537,
          -23.91842269897461,
          20.236316680908203,
          -25.149169921875,
          -11.062704086303711,
          -12.333521842956543,
          -30.612083435058594,
          -29.453798294067383,
          -20.955158233642578,
          39.547916412353516,
          -3.9299933910369873,
          -34.1417121887207,
          18.99366569519043,
          16.39344596862793,
          -8.270833969116211,
          58.700294494628906,
          0.5716232061386108,
          28.61362075805664,
          21.759843826293945,
          46.153892517089844,
          15.975659370422363,
          -18.579116821289062,
          -85.73170471191406,
          -98.18941497802734,
          3.737126350402832,
          32.597557067871094,
          -0.7718587517738342,
          17.749279022216797,
          44.40224838256836,
          1.1246861219406128,
          -47.90263748168945,
          32.54712677001953,
          35.10413360595703,
          54.46678161621094,
          -21.108572006225586,
          -19.888050079345703,
          45.335411071777344,
          61.3631477355957,
          13.467954635620117,
          83.02235412597656,
          -11.035944938659668,
          -43.57041931152344,
          -12.279373168945312,
          -6.712078094482422,
          -18.870025634765625,
          -30.897207260131836,
          -48.83826446533203,
          -9.700562477111816,
          -50.54657745361328,
          40.75736618041992,
          -101.57755279541016,
          -7.037472248077393,
          -10.098620414733887,
          -79.5821533203125,
          42.20418930053711,
          -55.8787956237793,
          10.2137451171875,
          41.989009857177734,
          8.13355827331543,
          -6.136533737182617,
          70.60894775390625,
          52.63289260864258,
          66.3652572631836,
          -45.10223388671875,
          83.11415100097656,
          -42.67641830444336,
          -33.91756057739258,
          69.60050201416016,
          41.6601448059082,
          -36.06382751464844,
          5.259908676147461,
          79.82268524169922,
          54.21387481689453,
          -24.012683868408203,
          -23.25250244140625,
          55.36042785644531,
          64.02481842041016,
          77.89222717285156,
          21.256671905517578,
          16.351303100585938,
          15.805743217468262,
          7.153648376464844,
          2.7112183570861816,
          58.434654235839844,
          61.1807975769043,
          28.40959358215332,
          27.838998794555664,
          -58.107330322265625,
          14.929337501525879,
          -39.75362777709961,
          -14.05551528930664,
          -16.074115753173828,
          35.58057403564453,
          -13.172818183898926,
          78.11466979980469,
          2.2127444744110107,
          89.99533081054688,
          50.17542266845703,
          32.76266098022461,
          -73.63673400878906,
          -10.0022611618042,
          30.4859676361084,
          69.5087661743164,
          70.95848846435547,
          46.59895324707031,
          -35.12892532348633,
          16.687519073486328,
          -1.979412317276001,
          -43.33256149291992,
          -32.536964416503906,
          -28.18124771118164,
          -32.25143814086914,
          -46.54889678955078,
          -62.02810287475586,
          57.14725875854492,
          -66.56683349609375,
          7.879826068878174,
          -57.7010383605957,
          -43.37728500366211,
          19.549816131591797,
          -33.06040954589844,
          19.794824600219727,
          -63.957279205322266,
          -17.568477630615234,
          -42.41775894165039,
          -20.236927032470703,
          12.53612995147705,
          41.58649826049805,
          -7.22403621673584,
          -12.839737892150879,
          -26.98448944091797,
          -17.827865600585938,
          -31.828737258911133,
          -1.8252389430999756,
          -35.28760528564453,
          -17.6180477142334,
          -37.794403076171875,
          84.37505340576172,
          76.89151763916016,
          -97.3711929321289,
          -1.6102638244628906,
          -67.72880554199219,
          -82.06427764892578,
          -21.38005256652832,
          -60.70072937011719,
          -23.704486846923828,
          -31.140958786010742,
          -52.14418029785156,
          -30.5682430267334,
          39.394012451171875,
          14.159356117248535,
          49.82240676879883,
          25.91278839111328,
          -65.03062438964844,
          49.17343521118164,
          -48.55946731567383,
          -3.556593418121338,
          -58.80498123168945,
          -47.06599426269531,
          2.315325975418091,
          35.054813385009766,
          -16.06045150756836,
          34.789405822753906,
          49.63460922241211,
          -5.89336633682251,
          18.24833869934082,
          67.01321411132812,
          32.750831604003906,
          54.123680114746094,
          86.4706802368164,
          29.976768493652344,
          42.66621017456055,
          59.67866897583008,
          -99.09548950195312,
          -73.55946350097656,
          24.128538131713867,
          -29.023313522338867,
          -73.95563507080078,
          -15.34228801727295,
          81.86520385742188,
          -46.82955551147461,
          -73.97615814208984,
          54.15170669555664,
          76.75126647949219,
          -30.745651245117188,
          43.41073989868164,
          -48.85410690307617,
          42.21167755126953,
          82.35306549072266,
          -12.77274227142334,
          -34.81702423095703,
          -6.465847969055176,
          67.08197784423828,
          -29.401254653930664,
          -48.83542251586914,
          -30.75764274597168,
          -25.139490127563477,
          20.159650802612305,
          -47.73950958251953,
          -30.509014129638672,
          30.5577335357666,
          -51.517269134521484,
          -63.46661376953125,
          36.913578033447266,
          53.93923568725586,
          -86.27315521240234,
          40.99336624145508,
          -47.079715728759766,
          8.364330291748047,
          7.787545204162598,
          8.870530128479004,
          -51.623748779296875,
          -67.92118072509766,
          -46.72444152832031,
          36.58876419067383,
          -10.555095672607422,
          -49.558162689208984,
          -21.04463768005371,
          8.391006469726562,
          -11.330846786499023,
          27.888694763183594,
          -43.285797119140625,
          29.465978622436523,
          42.29716491699219,
          -70.84173583984375,
          4.80150032043457,
          5.9828782081604,
          28.07560920715332,
          -12.598188400268555,
          67.43970489501953,
          -3.1160385608673096,
          74.76793670654297,
          16.672086715698242,
          44.99898147583008,
          -0.04240497946739197,
          19.576786041259766,
          68.20327758789062,
          67.62158203125,
          85.13399505615234,
          25.601863861083984,
          -57.587345123291016,
          -27.705078125,
          19.236473083496094,
          44.12064743041992,
          4.904818534851074,
          -19.66024398803711,
          29.308696746826172,
          39.62256622314453,
          35.613121032714844,
          -26.10645294189453,
          -11.638957023620605,
          -39.22477722167969,
          51.831233978271484,
          -48.685890197753906,
          -3.730693817138672,
          -14.097221374511719,
          1.4025628566741943,
          -58.13445281982422,
          -78.49400329589844,
          -6.749190330505371,
          -20.27396011352539,
          53.861595153808594,
          0.5943004488945007,
          85.57244873046875,
          -51.8006591796875,
          -53.22682189941406,
          13.506815910339355,
          10.346623420715332,
          -1.574501872062683,
          -47.756317138671875,
          -70.79379272460938,
          -7.662572383880615,
          -79.54093933105469,
          -85.01579284667969,
          -97.6214370727539,
          -71.44990539550781,
          -40.42375183105469,
          7.159409523010254,
          36.61203384399414,
          -44.37560272216797,
          -39.71708679199219,
          19.39683723449707,
          -36.877071380615234,
          -30.089080810546875,
          -32.61149597167969,
          14.126787185668945,
          -14.498187065124512,
          66.15607452392578,
          -46.532508850097656,
          23.14574432373047,
          -72.95316314697266,
          64.32386779785156,
          9.618295669555664,
          -62.31698989868164,
          -44.82557678222656,
          21.68266487121582,
          -88.83006286621094,
          -17.865598678588867,
          -26.67508888244629,
          33.09357833862305,
          -86.79833984375,
          -26.171342849731445,
          -58.30128860473633,
          50.97834014892578,
          14.95750904083252,
          -99.19132995605469,
          54.73794174194336,
          8.70003890991211,
          19.83515739440918,
          44.2603759765625,
          40.082637786865234,
          -59.95989227294922,
          41.687278747558594,
          -86.17942810058594,
          -98.36587524414062,
          75.35453033447266,
          -21.476377487182617,
          60.92277145385742,
          3.2541990280151367,
          -0.43425253033638,
          -17.67174530029297,
          -3.1520166397094727,
          -59.26536178588867,
          31.982423782348633,
          62.799922943115234,
          -39.703887939453125,
          15.50245475769043,
          -19.935991287231445,
          -56.2264289855957,
          -50.81386184692383,
          -40.108821868896484,
          -71.62893676757812,
          41.7540283203125,
          -15.772845268249512,
          16.845003128051758,
          54.03765869140625,
          -68.75934600830078,
          26.383272171020508,
          46.914913177490234,
          -45.19832992553711,
          -34.231224060058594,
          29.465675354003906,
          -15.410972595214844,
          -52.41847229003906,
          -24.23684310913086,
          -77.26056671142578,
          29.096925735473633,
          -81.34949493408203,
          -38.65208053588867,
          43.27534103393555,
          -40.784873962402344,
          22.087942123413086,
          5.043904781341553,
          -57.588539123535156,
          57.06822967529297,
          -15.682517051696777,
          53.63686752319336,
          41.15792465209961,
          7.620651721954346,
          -43.05188751220703,
          -44.47539138793945,
          -75.57243347167969,
          -87.74109649658203,
          11.196270942687988,
          43.805694580078125,
          -7.064159393310547,
          72.74911499023438,
          -37.70276641845703,
          71.76673126220703,
          -83.33824920654297,
          -0.536838173866272,
          -74.6297378540039,
          40.24732208251953,
          1.5285049676895142,
          66.37504577636719,
          86.12141418457031,
          -8.710208892822266,
          -7.7962541580200195,
          -26.784231185913086,
          -44.029197692871094,
          28.208026885986328,
          50.24201583862305,
          32.210872650146484,
          -49.99720001220703,
          -24.74017333984375,
          2.245770215988159,
          56.83366394042969,
          57.067771911621094,
          -32.99037551879883,
          56.01255798339844,
          -28.669652938842773,
          -20.050853729248047,
          11.552884101867676,
          -5.189407825469971,
          -20.914478302001953,
          -7.420580863952637,
          -26.221773147583008,
          65.7112808227539,
          88.83329010009766,
          -73.58019256591797,
          -26.33095932006836,
          -1.1816937923431396,
          70.72298431396484,
          -25.173803329467773,
          -36.89408493041992,
          -63.75859451293945,
          89.70003509521484,
          -48.8782958984375,
          -76.84722137451172,
          -7.331343650817871,
          36.1771240234375,
          59.98463821411133,
          26.349529266357422,
          -18.820844650268555,
          -11.621514320373535,
          59.92042541503906,
          24.536794662475586,
          31.10225486755371,
          48.36899948120117,
          17.252086639404297,
          68.18671417236328,
          -23.14179801940918,
          77.1174087524414,
          56.678688049316406,
          53.83259963989258,
          -99.44910430908203,
          -83.15494537353516,
          -58.5904426574707,
          -91.49833679199219,
          -5.099641799926758,
          -3.1628546714782715,
          -10.056957244873047,
          -9.208953857421875,
          -42.789695739746094,
          6.324683666229248,
          -71.03402709960938,
          -51.263343811035156,
          -62.21953201293945,
          -39.74125671386719,
          27.921348571777344,
          -43.5272102355957,
          -94.7002944946289,
          58.082618713378906,
          37.97967529296875,
          24.87760353088379,
          43.95899200439453,
          16.5172176361084,
          -20.56673812866211,
          -27.77955436706543,
          0.05123751983046532,
          -5.359597682952881,
          85.54730987548828,
          11.362074851989746,
          -50.73086166381836,
          87.2759780883789,
          -58.27564239501953,
          -40.90361022949219,
          7.171731948852539,
          -59.68754196166992,
          37.25409698486328,
          -21.76450538635254,
          -5.898426532745361,
          76.7968521118164,
          38.706199645996094,
          -37.20045852661133,
          -87.9645004272461,
          -59.71598815917969,
          65.37619018554688,
          -28.09986114501953,
          53.320491790771484,
          -87.43669128417969,
          -20.534637451171875,
          -6.140833854675293,
          -12.719049453735352,
          8.185585975646973,
          -43.768489837646484,
          -18.927705764770508,
          -29.5316162109375,
          68.9702377319336,
          43.76097869873047,
          5.983102321624756,
          -16.49003028869629,
          -3.915072202682495,
          48.69422912597656,
          9.861648559570312,
          -10.153255462646484,
          -5.035494327545166,
          -34.941837310791016,
          -35.12409973144531,
          -47.48050308227539,
          -30.072601318359375,
          -13.498614311218262,
          247.3385009765625,
          61.62416076660156,
          -8.788583755493164,
          -20.794404983520508,
          48.11944580078125,
          -15.27136516571045,
          50.65684509277344,
          -17.20676612854004,
          -15.673240661621094,
          -27.49331283569336,
          -34.38087844848633,
          53.8848991394043,
          43.02223587036133,
          58.81949996948242,
          -11.585880279541016,
          -21.201828002929688,
          -3.3226661682128906,
          75.09454345703125,
          4.516607761383057,
          -19.966663360595703,
          -4.6352458000183105,
          14.6959810256958,
          12.43885612487793,
          6.254608631134033,
          -0.6473196148872375,
          -29.79767608642578,
          38.84588623046875,
          -15.030983924865723,
          26.883943557739258,
          -25.337072372436523,
          70.88762664794922,
          15.899148941040039,
          76.30638122558594,
          -20.31296730041504,
          -36.40102767944336,
          -44.59810256958008,
          84.7174072265625,
          -29.31973648071289,
          -26.84861183166504,
          27.85698127746582,
          -18.933349609375,
          -35.81937789916992,
          11.122779846191406,
          -9.85120964050293,
          -30.024335861206055,
          4.743579864501953,
          -28.14505386352539,
          56.44916915893555,
          6.548891544342041,
          13.317778587341309,
          -20.771635055541992,
          -49.100555419921875,
          -41.264217376708984,
          36.63972854614258,
          -15.899524688720703,
          -32.80024337768555,
          -52.53409957885742,
          35.76496124267578,
          -24.55195426940918,
          42.58711624145508,
          -12.283645629882812,
          13.983481407165527,
          -21.319644927978516,
          -29.598159790039062,
          -45.06327438354492,
          -26.681663513183594,
          -62.64506530761719,
          -29.006072998046875,
          -3.601860523223877,
          55.565433502197266,
          44.621185302734375,
          -44.04520034790039,
          -41.61555099487305,
          -25.575410842895508,
          -16.594385147094727,
          -35.44385528564453,
          -31.70917320251465,
          -25.30776596069336,
          -67.67176055908203,
          -87.27545166015625,
          -9.711700439453125,
          -30.174657821655273,
          7.6563944816589355,
          -33.053958892822266,
          -10.825577735900879,
          -8.527119636535645,
          -12.758925437927246,
          -9.6384859085083,
          62.35045623779297,
          -4.1133646965026855,
          57.31172180175781,
          -13.11515998840332,
          64.88636779785156,
          19.93307113647461,
          -29.713205337524414,
          -21.69316864013672,
          -16.583650588989258,
          52.21903991699219,
          32.412837982177734,
          -11.877802848815918
         ],
         "y": [
          23.415573120117188,
          88.44876098632812,
          70.47434997558594,
          77.46929168701172,
          -26.366859436035156,
          -23.837839126586914,
          67.31346130371094,
          44.413326263427734,
          61.60676574707031,
          -65.42655181884766,
          22.21364402770996,
          12.86607551574707,
          57.71688461303711,
          -25.26343536376953,
          -50.568824768066406,
          76.4506607055664,
          -23.879419326782227,
          32.24083709716797,
          35.4419059753418,
          41.95569610595703,
          78.3306884765625,
          7.670233249664307,
          12.974618911743164,
          29.75151252746582,
          33.8130989074707,
          63.58018493652344,
          56.19590377807617,
          43.232322692871094,
          -5.6808342933654785,
          23.625837326049805,
          29.880123138427734,
          15.143614768981934,
          -48.019386291503906,
          -46.36796188354492,
          -58.061859130859375,
          15.502106666564941,
          46.12556838989258,
          15.952797889709473,
          48.653526306152344,
          0.5910356640815735,
          58.090476989746094,
          -18.12033462524414,
          87.57349395751953,
          -16.296363830566406,
          95.27143859863281,
          -3.830014944076538,
          -55.48869705200195,
          73.85919189453125,
          20.431262969970703,
          46.122066497802734,
          52.52971267700195,
          -90.91696166992188,
          -70.34664916992188,
          57.33717346191406,
          -35.7835807800293,
          -32.80974197387695,
          -2.8356690406799316,
          70.1083755493164,
          47.905338287353516,
          -33.363525390625,
          -69.48909759521484,
          -18.272201538085938,
          -6.2010908126831055,
          -18.045146942138672,
          59.98871994018555,
          0.061007194221019745,
          78.9453353881836,
          -13.289560317993164,
          24.225553512573242,
          -43.32030487060547,
          97.54961395263672,
          -41.13374328613281,
          37.16769027709961,
          5.627233982086182,
          -5.382106781005859,
          -29.951053619384766,
          -4.7399420738220215,
          -15.070964813232422,
          -2.3971750736236572,
          35.00383758544922,
          55.586700439453125,
          7.156383991241455,
          -73.83633422851562,
          -64.06787872314453,
          98.0074462890625,
          -82.79890441894531,
          61.966064453125,
          -32.57778549194336,
          7.043920993804932,
          -50.959983825683594,
          88.82183837890625,
          86.43270874023438,
          -62.73158645629883,
          31.53823471069336,
          24.90584373474121,
          -68.3082275390625,
          34.34660720825195,
          -22.541091918945312,
          -8.312417984008789,
          39.296730041503906,
          -0.4992743134498596,
          64.00762176513672,
          -44.869327545166016,
          18.0642032623291,
          -27.937530517578125,
          81.3837890625,
          -15.5888090133667,
          44.31229782104492,
          29.850521087646484,
          49.106712341308594,
          93.33595275878906,
          72.5760726928711,
          12.286094665527344,
          60.26279067993164,
          -79.28929138183594,
          12.993535041809082,
          17.767078399658203,
          102.60307312011719,
          63.16824722290039,
          38.76023483276367,
          45.81825256347656,
          -63.00727081298828,
          -5.627276420593262,
          13.059172630310059,
          32.59184265136719,
          49.8549919128418,
          2.0047314167022705,
          -59.41141891479492,
          88.13372039794922,
          -21.323265075683594,
          -28.74254035949707,
          62.369815826416016,
          20.044546127319336,
          44.51640319824219,
          4.638665676116943,
          19.533916473388672,
          47.36183547973633,
          -62.68869400024414,
          79.56138610839844,
          -19.708389282226562,
          26.822498321533203,
          67.18107604980469,
          46.51095962524414,
          -25.014745712280273,
          10.923352241516113,
          20.61115264892578,
          -35.592506408691406,
          33.22701644897461,
          34.16844177246094,
          -47.784332275390625,
          -61.206851959228516,
          62.814537048339844,
          -41.477054595947266,
          -69.47460174560547,
          -52.91873550415039,
          9.870650291442871,
          -55.474510192871094,
          30.342613220214844,
          8.145238876342773,
          70.24608612060547,
          -58.386478424072266,
          28.395431518554688,
          -43.46258544921875,
          4.575934410095215,
          45.51383590698242,
          -58.30051040649414,
          -82.90808868408203,
          3.3851544857025146,
          -49.826812744140625,
          -53.5782585144043,
          44.96757888793945,
          -20.50737190246582,
          -37.9959716796875,
          64.98595428466797,
          36.596622467041016,
          -15.667546272277832,
          10.398663520812988,
          43.7442512512207,
          15.55426025390625,
          2.20949649810791,
          57.052955627441406,
          -24.10734748840332,
          19.152469635009766,
          -32.29441833496094,
          -31.68973159790039,
          13.49152946472168,
          -85.91819763183594,
          -21.798954010009766,
          -14.624249458312988,
          -2.6198720932006836,
          -50.97821044921875,
          54.63124084472656,
          -3.432270050048828,
          -39.14189529418945,
          -70.49857330322266,
          -1.3549710512161255,
          47.34139633178711,
          16.45599365234375,
          -8.33895206451416,
          55.65105438232422,
          38.749359130859375,
          -18.13575553894043,
          -31.07107162475586,
          -4.094335079193115,
          61.75677490234375,
          39.10921096801758,
          7.848516941070557,
          72.71929168701172,
          -33.26960754394531,
          -36.23470687866211,
          15.329634666442871,
          32.68046188354492,
          34.90058517456055,
          85.60816192626953,
          -20.102924346923828,
          -8.516613006591797,
          16.84164047241211,
          0.954662561416626,
          -8.471582412719727,
          -72.22057342529297,
          47.78711700439453,
          -48.23234176635742,
          25.907522201538086,
          -68.16181945800781,
          -55.0777587890625,
          34.35649490356445,
          -1.4123961925506592,
          -28.76348876953125,
          73.1324234008789,
          75.53274536132812,
          23.401615142822266,
          46.05531311035156,
          2.272162914276123,
          44.788719177246094,
          36.84626770019531,
          -30.57947540283203,
          16.79888916015625,
          45.67877197265625,
          -13.083072662353516,
          82.09896087646484,
          3.1351583003997803,
          -74.47325897216797,
          63.24430465698242,
          66.87873840332031,
          0.4745771884918213,
          15.365934371948242,
          -42.018245697021484,
          73.74048614501953,
          -22.1214656829834,
          -8.715950965881348,
          48.934749603271484,
          -17.612470626831055,
          -61.347084045410156,
          -32.5667724609375,
          4.1732635498046875,
          31.54637908935547,
          -36.15633773803711,
          -7.00386381149292,
          -11.512272834777832,
          34.12479782104492,
          -22.018640518188477,
          53.958900451660156,
          -27.22284698486328,
          -3.9787299633026123,
          -26.422222137451172,
          17.002845764160156,
          -4.766383647918701,
          -14.352659225463867,
          -65.80606842041016,
          18.252578735351562,
          41.48347854614258,
          -63.97053527832031,
          -47.199119567871094,
          3.439697265625,
          36.81403732299805,
          -47.79804992675781,
          9.121725082397461,
          -17.324735641479492,
          -23.658159255981445,
          -37.20050811767578,
          -45.37125778198242,
          23.27881622314453,
          28.376585006713867,
          10.944180488586426,
          64.39275360107422,
          -34.73202896118164,
          -7.372909069061279,
          -22.602659225463867,
          -39.800743103027344,
          53.17152404785156,
          -87.23906707763672,
          43.34931564331055,
          -43.74697494506836,
          -18.35456657409668,
          37.16301727294922,
          -13.64045238494873,
          -14.724854469299316,
          74.28282165527344,
          14.65489387512207,
          -34.49885559082031,
          -20.094676971435547,
          37.52472686767578,
          -14.666004180908203,
          -1.7755236625671387,
          -14.540334701538086,
          13.327255249023438,
          56.538700103759766,
          78.32901000976562,
          9.186779022216797,
          58.14120864868164,
          -5.277835369110107,
          -53.893985748291016,
          -36.76997756958008,
          -4.48024320602417,
          -43.39872360229492,
          -6.053201198577881,
          9.892107963562012,
          27.92206382751465,
          -81.15750885009766,
          5.824588298797607,
          25.172500610351562,
          -39.169578552246094,
          75.23591613769531,
          36.85152816772461,
          -14.136899948120117,
          5.848302364349365,
          -50.568824768066406,
          -9.239691734313965,
          13.992987632751465,
          28.500865936279297,
          -4.913574695587158,
          3.6280970573425293,
          -9.204010009765625,
          44.075721740722656,
          12.639505386352539,
          52.52511215209961,
          -41.50755310058594,
          38.600563049316406,
          -18.38929557800293,
          -57.49033737182617,
          88.11632537841797,
          -89.51020050048828,
          7.0050859451293945,
          11.801705360412598,
          23.47202491760254,
          27.096099853515625,
          -29.442222595214844,
          -50.568824768066406,
          38.02684783935547,
          92.60548400878906,
          -38.09054183959961,
          -18.746068954467773,
          30.136600494384766,
          -48.53022384643555,
          46.85635757446289,
          -0.8204300403594971,
          49.507293701171875,
          -17.679767608642578,
          -55.20642852783203,
          -45.32205581665039,
          -54.477806091308594,
          43.3071403503418,
          -29.844106674194336,
          -1.19558584690094,
          13.613640785217285,
          3.295135498046875,
          89.6996841430664,
          -42.214271545410156,
          55.749839782714844,
          36.837345123291016,
          68.38516235351562,
          -1.137911319732666,
          26.231170654296875,
          0.9464934468269348,
          -4.008506774902344,
          74.66748046875,
          8.521028518676758,
          37.681888580322266,
          -34.77495574951172,
          -20.828628540039062,
          53.813777923583984,
          -40.9630126953125,
          68.0633316040039,
          -42.523536682128906,
          38.0489501953125,
          -1.2473881244659424,
          -61.890846252441406,
          -50.568824768066406,
          1.262332558631897,
          -51.99619674682617,
          46.37746047973633,
          -62.87364196777344,
          62.10008239746094,
          79.64348602294922,
          27.998703002929688,
          33.38669204711914,
          10.629977226257324,
          -87.46308898925781,
          26.027944564819336,
          63.078670501708984,
          47.2108268737793,
          -69.79354858398438,
          37.33091354370117,
          18.933059692382812,
          32.80352783203125,
          -42.553131103515625,
          37.77237319946289,
          20.925886154174805,
          37.588653564453125,
          -41.023223876953125,
          97.09725952148438,
          -45.73125076293945,
          -32.915592193603516,
          48.30210494995117,
          26.57956886291504,
          -53.138038635253906,
          -6.70335054397583,
          14.021245002746582,
          -31.939739227294922,
          86.96476745605469,
          84.92188262939453,
          96.15814971923828,
          67.58045959472656,
          15.383530616760254,
          27.736845016479492,
          40.254249572753906,
          22.02771759033203,
          -48.53022384643555,
          -29.910667419433594,
          -49.75528335571289,
          -87.56883239746094,
          17.522085189819336,
          -2.4880032539367676,
          -41.044456481933594,
          -48.724605560302734,
          -46.30588150024414,
          9.953838348388672,
          -40.02146911621094,
          80.63957977294922,
          -6.087481498718262,
          14.384115219116211,
          1.371692180633545,
          68.8266372680664,
          65.43910217285156,
          27.591299057006836,
          -0.7867717146873474,
          15.094170570373535,
          -1.9493048191070557,
          90.66808319091797,
          76.96719360351562,
          -9.97739315032959,
          -34.09947967529297,
          -3.1151394844055176,
          -13.036259651184082,
          -78.34037780761719,
          23.463380813598633,
          45.291534423828125,
          7.201968669891357,
          57.382904052734375,
          9.611771583557129,
          -18.139663696289062,
          -46.75779342651367,
          97.19786834716797,
          12.089611053466797,
          52.30162048339844,
          -21.010822296142578,
          35.70494079589844,
          -16.068790435791016,
          8.806746482849121,
          -59.0814094543457,
          29.614574432373047,
          68.53492736816406,
          -70.83828735351562,
          42.79193878173828,
          -5.119239807128906,
          76.09298706054688,
          -71.84587860107422,
          81.19711303710938,
          60.27021026611328,
          1.554132342338562,
          60.16455078125,
          31.596126556396484,
          -22.170673370361328,
          -22.892065048217773,
          70.53262329101562,
          -56.23542404174805,
          30.6796817779541,
          -69.13060760498047,
          -74.60828399658203,
          16.55624008178711,
          -20.25111198425293,
          63.627742767333984,
          56.28693389892578,
          -50.3407096862793,
          22.09813690185547,
          28.750539779663086,
          -17.55864906311035,
          92.4989242553711,
          -56.59797668457031,
          77.96044921875,
          57.28505325317383,
          52.878623962402344,
          -62.55358123779297,
          52.86726760864258,
          2.285249948501587,
          29.07357406616211,
          -17.994731903076172,
          39.38008499145508,
          21.401531219482422,
          40.712371826171875,
          39.276824951171875,
          18.72447967529297,
          79.1727066040039,
          68.85694885253906,
          -51.881813049316406,
          44.08456039428711,
          44.29457473754883,
          -76.12031555175781,
          9.949183464050293,
          51.42961502075195,
          28.104150772094727,
          76.03231048583984,
          64.54542541503906,
          49.52638626098633,
          -63.369483947753906,
          18.042644500732422,
          -32.352752685546875,
          41.0103874206543,
          78.33159637451172,
          71.99530029296875,
          -51.81001663208008,
          -69.7158432006836,
          53.641639709472656,
          29.906206130981445,
          100.80807495117188,
          -43.948299407958984,
          104.80550384521484,
          -41.993186950683594,
          -75.54351043701172,
          39.16086959838867,
          -39.86127471923828,
          -16.29008674621582,
          -47.45040512084961,
          -43.895015716552734,
          23.30852699279785,
          -24.72928237915039,
          58.511146545410156,
          -57.81146240234375,
          15.847769737243652,
          15.958974838256836,
          -31.77159881591797,
          -40.67642593383789,
          -52.30439758300781,
          95.63687133789062,
          -35.198204040527344,
          -62.114871978759766,
          20.14988899230957,
          33.295867919921875,
          67.71754455566406,
          -49.04207992553711,
          -39.00306701660156,
          -72.56764221191406,
          7.0122151374816895,
          -72.87190246582031,
          -62.649009704589844,
          1.2969080209732056,
          -65.09967803955078,
          -34.81822204589844,
          -31.018753051757812,
          2.1930809020996094,
          61.437591552734375,
          -64.1387710571289,
          -28.799396514892578,
          52.69155502319336,
          -9.245294570922852,
          54.50879669189453,
          8.14023494720459,
          21.946651458740234,
          40.02445602416992,
          -34.21577453613281,
          63.686859130859375,
          54.125701904296875,
          9.505108833312988,
          58.76386642456055,
          52.545936584472656,
          38.122501373291016,
          15.799519538879395,
          24.798940658569336,
          -62.92135238647461,
          17.62934684753418,
          -51.33494567871094,
          -67.54312896728516,
          -45.462276458740234,
          98.04743194580078,
          85.98246002197266,
          -50.03842544555664,
          -16.853099822998047,
          29.043115615844727,
          26.19402313232422,
          -9.069598197937012,
          23.251766204833984,
          -50.58372116088867,
          -71.94481658935547,
          15.482190132141113,
          24.688079833984375,
          -6.178858280181885,
          22.767913818359375,
          -56.9278678894043,
          -28.17375946044922,
          -48.41884994506836,
          82.33625030517578,
          39.81435775756836,
          12.623821258544922,
          50.123619079589844,
          54.071231842041016,
          66.6646728515625,
          10.709238052368164,
          -92.02876281738281,
          27.406232833862305,
          -31.037994384765625,
          64.94364166259766,
          -46.1710090637207,
          45.87807846069336,
          37.538021087646484,
          -2.318624973297119,
          23.580184936523438,
          -20.287473678588867,
          57.2786750793457,
          69.6469955444336,
          18.10349464416504,
          55.67594528198242,
          33.839569091796875,
          -47.136348724365234,
          -69.14391326904297,
          78.302978515625,
          11.774779319763184,
          -18.55861473083496,
          24.142711639404297,
          61.58402633666992,
          -38.99256134033203,
          37.10608673095703,
          68.6031494140625,
          19.576751708984375,
          -54.53342819213867,
          56.223785400390625,
          74.11920928955078,
          15.269102096557617,
          -44.38478469848633,
          -34.320411682128906,
          -52.80012130737305,
          -4.034590244293213,
          34.390174865722656,
          13.449213027954102,
          -11.068771362304688,
          46.52946853637695,
          16.08066749572754,
          -21.010822296142578,
          63.80458068847656,
          12.608574867248535,
          32.552547454833984,
          19.346920013427734,
          42.106353759765625,
          -78.80317687988281,
          88.50846099853516,
          -46.54636001586914,
          -67.35892486572266,
          64.1955337524414,
          70.46702575683594,
          -41.30730056762695,
          -29.102346420288086,
          14.907094955444336,
          66.16510772705078,
          47.585689544677734,
          -57.44012451171875,
          39.163963317871094,
          2.671755790710449,
          -34.4056510925293,
          -80.78633117675781,
          -21.831584930419922,
          -79.95777130126953,
          42.33513259887695,
          37.35873031616211,
          39.123558044433594,
          24.70043182373047,
          -66.5059814453125,
          -0.6554723978042603,
          -37.58748245239258,
          13.828375816345215,
          -37.15476989746094,
          -53.069854736328125,
          4.5562591552734375,
          -40.280517578125,
          45.210540771484375,
          38.583290100097656,
          45.628746032714844,
          47.37507247924805,
          -32.105224609375,
          58.93018341064453,
          0.06397728621959686,
          68.61285400390625,
          33.49002456665039,
          -60.63254165649414,
          23.1812744140625,
          54.31779479980469,
          -49.19697952270508,
          -26.822704315185547,
          30.319799423217773,
          47.4639778137207,
          45.63035202026367,
          -46.12790298461914,
          49.00313186645508,
          79.11079406738281,
          51.545257568359375,
          -75.90177917480469,
          70.8648681640625,
          32.43986129760742,
          -27.67852210998535,
          -46.70008087158203,
          -24.38994789123535,
          -9.33926010131836,
          28.27786636352539,
          26.389667510986328,
          25.423704147338867,
          -63.8449592590332,
          23.44934844970703,
          13.910913467407227,
          -31.73332977294922,
          2.1096818447113037,
          -3.2282774448394775,
          -12.200090408325195,
          37.769081115722656,
          -1.5370001792907715,
          -62.4915885925293,
          82.53823852539062,
          -21.66927719116211,
          56.45876693725586,
          -17.123201370239258,
          23.662429809570312,
          34.30251693725586,
          -23.924739837646484,
          13.434768676757812,
          -3.0585639476776123,
          58.95094680786133,
          3.852691411972046,
          23.192188262939453,
          -21.233659744262695,
          32.162872314453125,
          -32.62881851196289,
          28.18935203552246,
          64.69104766845703,
          -32.51824188232422,
          -4.990666389465332,
          16.83405876159668,
          5.659006118774414,
          -40.25040817260742,
          1.1442617177963257,
          -40.789756774902344,
          42.61997985839844,
          35.94584274291992,
          -2.8411567211151123,
          -37.76321792602539,
          -21.039379119873047,
          62.428466796875,
          81.81295776367188,
          6.5197038650512695,
          42.142112731933594,
          -46.03501892089844,
          -62.80158615112305,
          33.891883850097656,
          -79.16026306152344,
          43.4841194152832,
          29.039030075073242,
          15.011045455932617,
          -8.782089233398438,
          44.404048919677734,
          17.845691680908203,
          48.905189514160156,
          18.922378540039062,
          -49.694557189941406,
          16.365055084228516,
          -42.782752990722656,
          -26.575092315673828,
          12.70913314819336,
          -66.28223419189453,
          -34.488468170166016,
          -50.678218841552734,
          52.521202087402344,
          -34.07182312011719,
          85.62806701660156,
          -55.5081672668457,
          82.00897979736328,
          12.56057071685791,
          9.74950122833252,
          -0.34275978803634644,
          10.833403587341309,
          25.037561416625977,
          15.146724700927734,
          9.548147201538086,
          -39.22016143798828,
          9.199443817138672,
          84.74852752685547,
          -47.70216751098633,
          67.87857055664062,
          -26.848539352416992,
          23.858938217163086,
          18.94036865234375,
          18.1354923248291,
          -71.45362091064453,
          73.31561279296875,
          -39.01082992553711,
          -37.2994270324707,
          -64.86189270019531,
          20.51711082458496,
          -42.33773422241211,
          23.4597110748291,
          -24.405134201049805,
          2.3607707023620605,
          -0.8401657342910767,
          41.26825714111328,
          23.362655639648438,
          10.649568557739258,
          -32.89921188354492,
          45.12131881713867,
          -31.073974609375,
          -44.09364318847656,
          -44.14308547973633,
          15.538330078125,
          -0.6884675621986389,
          -12.051080703735352,
          10.32070255279541,
          -94.19495391845703,
          -75.77439880371094,
          59.08563232421875,
          6.981363773345947,
          -2.8411567211151123,
          84.26251983642578,
          -21.334508895874023,
          67.67760467529297,
          40.130489349365234,
          -8.538360595703125,
          54.82879638671875,
          99.70597076416016,
          50.149818420410156,
          27.556928634643555,
          56.32965087890625,
          -18.128801345825195,
          -30.954557418823242,
          16.256145477294922,
          -64.35523986816406,
          42.250545501708984,
          34.5175666809082,
          39.432308197021484,
          -77.4559097290039,
          104.58134460449219,
          -33.737159729003906,
          -32.3690185546875,
          -15.594429016113281,
          -58.198097229003906,
          -51.467098236083984,
          45.13957977294922,
          -73.46577453613281,
          64.72561645507812,
          71.87284851074219,
          25.39102554321289,
          41.06249237060547,
          23.84453010559082,
          -75.76322937011719,
          89.486083984375,
          52.16498565673828,
          20.32884407043457,
          66.02090454101562,
          15.448936462402344,
          -16.546127319335938,
          -14.966524124145508,
          8.883195877075195,
          66.59719848632812,
          91.69265747070312,
          35.561710357666016,
          49.96356964111328,
          -78.87049102783203,
          -47.216190338134766,
          84.85344696044922,
          24.459257125854492,
          -45.63050079345703,
          -42.39518356323242,
          84.6394271850586,
          -11.083216667175293,
          13.16232967376709,
          -29.386720657348633,
          51.143836975097656,
          -14.52458381652832,
          6.815097332000732,
          49.589202880859375,
          -65.60969543457031,
          23.283512115478516,
          23.58267593383789,
          -13.028726577758789,
          -38.7650260925293,
          46.29322814941406,
          44.27018356323242,
          -79.32707214355469,
          -30.48165512084961,
          -44.111427307128906,
          -88.28685760498047,
          8.92029857635498,
          -67.57180786132812,
          -9.352517127990723,
          6.152613639831543,
          -16.4439640045166,
          -17.40966796875,
          -19.6546573638916,
          3.1975510120391846,
          13.695855140686035,
          32.5311279296875,
          3.5539867877960205,
          60.36974334716797,
          98.18940734863281,
          48.39788055419922,
          -74.5796127319336,
          7.062431812286377,
          37.156978607177734,
          29.02075958251953,
          72.71797180175781,
          94.56849670410156,
          -27.346311569213867,
          83.13682556152344,
          51.8563232421875,
          45.94657516479492,
          11.557469367980957,
          26.1871280670166,
          59.397396087646484,
          -29.493362426757812,
          -28.72049903869629,
          -51.62582778930664,
          -87.15853118896484,
          19.794660568237305,
          -35.899314880371094,
          35.93043518066406,
          69.56946563720703,
          89.88972473144531,
          0.64349764585495,
          49.19865417480469,
          82.57472229003906,
          -15.223541259765625,
          47.8063850402832,
          -18.043180465698242,
          -60.048179626464844,
          22.30561065673828,
          56.18596267700195,
          -59.29437255859375,
          17.496021270751953,
          -38.50707244873047,
          -70.17942810058594,
          -46.64897155761719,
          64.4018325805664,
          -54.801029205322266,
          12.872756004333496,
          -27.08976173400879,
          38.44036102294922,
          10.528667449951172,
          42.668827056884766,
          -22.0484619140625,
          -72.58334350585938,
          4.436332702636719,
          55.206077575683594,
          -14.618021011352539,
          -17.33737564086914,
          81.55193328857422,
          -2.997661590576172,
          -2.4544310569763184,
          -31.533428192138672,
          -29.939666748046875,
          -57.59273910522461,
          -23.43328857421875,
          -47.825660705566406,
          -28.909969329833984,
          -55.54969787597656,
          -7.842904567718506,
          -11.059103965759277,
          -37.733604431152344,
          -23.55455780029297,
          -29.42460823059082,
          105.18959045410156,
          9.421902656555176,
          38.80091094970703,
          -68.94727325439453,
          -13.216374397277832,
          -55.703338623046875,
          20.911954879760742,
          38.098167419433594,
          62.489715576171875,
          -82.4591293334961,
          17.41206169128418,
          -13.323616981506348,
          72.57536315917969,
          36.67800521850586,
          16.529218673706055,
          -55.14815139770508,
          -15.65264892578125,
          85.80254364013672,
          -20.296987533569336,
          -39.20195007324219,
          -55.55562973022461,
          74.71356964111328,
          25.95844841003418,
          51.29880905151367,
          71.1886978149414,
          -79.88121032714844,
          81.25407409667969,
          75.06708526611328,
          77.2184829711914,
          -28.332294464111328,
          66.79917907714844,
          -46.19844436645508,
          -48.07257080078125,
          -74.74563598632812,
          -12.686942100524902,
          67.08422088623047,
          -42.241539001464844,
          32.7401237487793,
          -57.83804702758789,
          -60.7381477355957,
          75.79886627197266,
          14.382155418395996,
          54.846405029296875,
          -65.7669906616211,
          65.37787628173828,
          11.531490325927734,
          -11.548432350158691,
          -56.599090576171875,
          -12.811575889587402,
          35.566871643066406,
          -58.32893753051758,
          -86.10620880126953,
          36.90969467163086,
          -31.388957977294922,
          -40.98639678955078,
          46.050514221191406,
          36.36557388305664,
          -68.22171783447266,
          43.97536087036133,
          52.889564514160156,
          -69.8761978149414,
          -70.863525390625,
          32.8429069519043,
          27.998960494995117,
          -17.31060791015625,
          46.102210998535156,
          -62.94834518432617,
          27.453453063964844,
          -43.52458572387695,
          -15.440040588378906,
          86.04473876953125,
          -9.456738471984863,
          -31.41238784790039,
          -31.63109588623047,
          56.37957000732422,
          7.684040069580078,
          -48.74742126464844,
          -25.14801788330078,
          -28.74346160888672,
          29.607702255249023,
          47.28122329711914,
          60.23706817626953,
          -11.952184677124023,
          22.7673397064209,
          105.06292724609375,
          -9.241552352905273,
          -75.6978530883789,
          25.21584701538086,
          70.51692199707031,
          57.10686492919922,
          -75.99564361572266,
          -24.059385299682617,
          -66.19931030273438,
          -76.41669464111328,
          38.79765701293945,
          -71.8698959350586,
          26.854507446289062,
          -84.7338638305664,
          -29.20711326599121,
          9.184768676757812,
          72.66073608398438,
          -24.84650421142578,
          -25.542909622192383,
          -33.44959259033203,
          57.09309005737305,
          2.8176074028015137,
          25.231054306030273,
          -63.23589324951172,
          -24.304121017456055,
          59.562355041503906,
          5.068452835083008,
          -54.38393783569336,
          -8.374220848083496,
          -16.221908569335938,
          -54.24212646484375,
          -26.084505081176758,
          -17.33479118347168,
          -26.848430633544922,
          -2.046374559402466,
          -51.90672302246094,
          7.7661919593811035,
          58.2384147644043,
          36.777374267578125,
          -70.6290054321289,
          -5.623440742492676,
          -23.39478874206543,
          -52.30183410644531,
          26.75438690185547,
          -4.944179058074951,
          64.49554443359375,
          -42.09078598022461,
          -68.67103576660156,
          5.6742072105407715,
          -68.7020263671875,
          -47.37486267089844,
          -5.187605381011963,
          13.117465019226074,
          1.0797511339187622,
          15.644368171691895,
          -43.72495651245117,
          3.808274984359741,
          51.54840087890625,
          -51.62788772583008,
          -5.314367294311523,
          -27.018999099731445,
          -9.270215034484863,
          -53.920291900634766,
          -49.27266311645508,
          56.75930404663086,
          27.498950958251953,
          17.83515167236328,
          23.662803649902344,
          63.754634857177734,
          3.5102014541625977,
          42.19514465332031,
          -36.800113677978516,
          2.8556501865386963,
          59.486839294433594,
          -13.604365348815918,
          -55.4412956237793,
          67.63809967041016,
          11.472082138061523,
          -21.9802303314209,
          -71.88716888427734,
          -58.789791107177734,
          45.27620315551758,
          52.726749420166016,
          52.0677604675293,
          -41.28770065307617,
          -54.95610809326172,
          -55.29473114013672,
          -48.42771911621094,
          -48.20628356933594,
          4.310153961181641,
          15.126195907592773,
          -55.84731674194336,
          41.43624496459961,
          27.86751365661621,
          -5.853010654449463,
          2.4166040420532227,
          -9.189873695373535,
          -76.51187133789062,
          0.13658267259597778,
          2.4155449867248535,
          -16.191425323486328,
          6.208770275115967,
          23.982521057128906,
          -55.69672393798828,
          -34.80840301513672,
          -73.79999542236328,
          41.41838836669922,
          -64.33556365966797,
          -40.0716552734375,
          33.77036666870117,
          -50.427833557128906,
          29.31178092956543,
          -51.690982818603516,
          52.78426742553711,
          -58.26274108886719,
          -43.58845901489258,
          -89.94258880615234,
          31.819684982299805,
          -62.536949157714844,
          -1.642623782157898,
          -28.3140869140625,
          -25.259376525878906,
          4.971940517425537,
          -25.968061447143555,
          -17.61420249938965,
          8.134376525878906,
          -14.836255073547363,
          -8.296417236328125,
          -172.55426025390625,
          -24.429380416870117,
          36.81824493408203,
          -30.779735565185547,
          71.4557113647461,
          85.02171325683594,
          -9.58427906036377,
          49.07823944091797,
          -20.852428436279297,
          60.01993179321289,
          63.12018585205078,
          -7.090472221374512,
          -16.056058883666992,
          38.215301513671875,
          55.657981872558594,
          6.253795623779297,
          59.154666900634766,
          -15.303632736206055,
          9.97713851928711,
          8.61125373840332,
          -57.11477279663086,
          38.230560302734375,
          52.774505615234375,
          -2.386420965194702,
          18.384429931640625,
          32.517845153808594,
          23.392642974853516,
          22.010358810424805,
          -28.258588790893555,
          17.799983978271484,
          74.6254653930664,
          -34.58259201049805,
          45.82522964477539,
          -15.616874694824219,
          13.151721000671387,
          72.3816909790039,
          55.155269622802734,
          -71.91020965576172,
          -62.57931900024414,
          81.14022827148438,
          -56.88672637939453,
          27.87223243713379,
          33.39033889770508,
          -58.19181442260742,
          41.4483757019043,
          75.38484191894531,
          9.656671524047852,
          -54.60689163208008,
          -39.599952697753906,
          -51.565757751464844,
          2.700690507888794,
          -28.877302169799805,
          -33.297149658203125,
          47.55479431152344,
          26.364383697509766,
          -41.6066780090332,
          94.46180725097656,
          94.38044738769531,
          6.027815818786621,
          -29.330041885375977,
          -14.994853973388672,
          -49.31203079223633,
          -55.4448356628418,
          -12.389187812805176,
          11.692017555236816,
          -9.675406455993652,
          6.423148155212402,
          7.363131999969482,
          24.76793670654297,
          8.597454071044922,
          -63.4362907409668,
          -10.345276832580566,
          25.072616577148438,
          -80.1052474975586,
          27.39666748046875,
          63.84817123413086,
          -73.00110626220703,
          76.8998794555664,
          3.9343974590301514,
          -30.099428176879883,
          -51.85072326660156,
          -70.23489379882812,
          -60.72893524169922,
          29.00421714782715,
          13.41036319732666,
          -63.80608367919922,
          -17.785097122192383,
          -49.187137603759766,
          20.689455032348633,
          2.5777297019958496,
          -63.97786331176758,
          98.13362884521484,
          4.557943820953369,
          50.591609954833984,
          -0.30652308464050293,
          -78.10230255126953,
          24.554168701171875,
          81.91256713867188,
          26.198408126831055,
          2.023674249649048,
          -38.53246307373047,
          7.838132858276367,
          13.585963249206543,
          37.93099594116211,
          -5.466988563537598,
          -0.8760555982589722,
          77.1214828491211,
          52.806636810302734,
          67.55992889404297,
          9.798064231872559,
          49.41433334350586,
          -3.6492843627929688,
          -3.6067187786102295,
          5.265413761138916,
          -37.93351364135742,
          44.12001419067383,
          -36.168914794921875,
          75.80342864990234,
          75.41228485107422,
          31.506128311157227,
          -13.682762145996094,
          70.31737518310547,
          -19.885400772094727,
          64.42097473144531,
          -79.276611328125,
          -28.114086151123047,
          -8.667105674743652,
          -45.81985855102539,
          65.7259521484375,
          -45.77884292602539,
          63.68418502807617,
          3.196302890777588,
          -72.41551971435547,
          68.19232177734375,
          6.326159477233887,
          -14.272994041442871,
          -40.97099304199219,
          52.481361389160156,
          85.81097412109375,
          60.73310852050781,
          77.05980682373047,
          60.88893127441406,
          17.407690048217773,
          -9.605819702148438,
          47.106719970703125,
          52.05439758300781,
          -32.27252960205078,
          83.5623550415039,
          86.6821060180664,
          -80.05497741699219,
          5.178137302398682,
          -23.25296401977539,
          85.61006164550781,
          64.76473236083984,
          14.35141658782959,
          13.218789100646973,
          30.792861938476562,
          -75.03524780273438,
          33.00541305541992,
          45.71862030029297,
          42.93831253051758,
          72.65766906738281,
          62.44779586791992,
          -45.03849411010742,
          48.00326919555664,
          8.662352561950684,
          52.253021240234375,
          86.46177673339844,
          9.672605514526367,
          -56.386375427246094,
          51.52393341064453,
          -27.82318878173828,
          11.436919212341309,
          48.51294708251953,
          42.53972625732422,
          37.90108871459961,
          -5.233990669250488,
          44.04471206665039,
          4.443861484527588,
          28.086774826049805,
          -71.44134521484375,
          -64.37600708007812,
          2.545258045196533,
          -31.733903884887695,
          1.443521499633789,
          -63.63145446777344,
          -49.37413024902344,
          -3.2848808765411377,
          -26.25494956970215,
          22.03631591796875,
          -35.81026077270508,
          62.57917404174805,
          20.05222511291504,
          -70.84459686279297,
          32.86103057861328,
          31.602041244506836,
          -26.65052604675293,
          -15.640664100646973,
          0.991581916809082,
          43.99903106689453,
          55.78154373168945,
          -39.575321197509766,
          -62.233577728271484,
          50.25262451171875,
          10.300853729248047,
          4.172186374664307,
          33.37199783325195,
          32.748294830322266,
          -9.630104064941406,
          -63.805389404296875,
          -36.07592010498047,
          64.83196258544922,
          48.90534591674805,
          -75.64205932617188,
          53.82455062866211,
          79.30628967285156,
          -36.292625427246094,
          69.06950378417969,
          65.67562866210938,
          32.47352981567383,
          -45.12617874145508,
          70.53717041015625,
          -49.276893615722656,
          96.57077026367188,
          -46.16676330566406,
          -42.36176681518555,
          -3.70576810836792,
          -0.4813785254955292,
          -21.509143829345703,
          -58.68202590942383,
          15.559974670410156,
          -1.8702826499938965,
          50.45979690551758,
          53.61241149902344,
          -11.45654010772705,
          34.54365539550781,
          41.22692108154297,
          -7.326663494110107,
          101.42860412597656,
          93.20039367675781,
          55.411556243896484,
          -42.672088623046875,
          -36.81574630737305,
          55.66064453125,
          -27.630109786987305,
          -48.42988586425781,
          -41.81946563720703,
          -34.676639556884766,
          80.9585189819336,
          62.42425537109375,
          43.529232025146484,
          6.125540256500244,
          72.11971282958984,
          -23.069250106811523,
          -2.6583518981933594,
          -18.35685157775879,
          -1.6636111736297607,
          20.091659545898438,
          31.66265106201172,
          67.7388687133789,
          73.47203826904297,
          9.982151985168457,
          15.1756010055542,
          30.064983367919922,
          -47.350372314453125,
          29.396839141845703,
          -40.298118591308594,
          -18.310014724731445,
          73.86243438720703,
          15.225398063659668,
          -27.711885452270508,
          -39.23736572265625,
          -4.93782377243042,
          4.478145122528076,
          92.64836883544922,
          69.32329559326172,
          62.209537506103516,
          -34.19901657104492,
          52.76740646362305,
          38.2324104309082,
          -35.53300476074219,
          58.49538040161133,
          26.474658966064453,
          39.42832565307617,
          -36.922340393066406,
          7.615461349487305,
          69.81063842773438,
          91.91669464111328,
          49.45547866821289,
          -54.26856231689453,
          -95.82923126220703,
          -32.248016357421875,
          57.34013748168945,
          53.23958969116211,
          42.35875701904297,
          -2.554988145828247,
          -31.39532470703125,
          31.07282257080078,
          84.42445373535156,
          -23.331165313720703,
          50.76401138305664,
          -60.19088363647461,
          -14.827016830444336,
          57.64767837524414,
          -56.94175338745117,
          -60.989227294921875,
          52.06764221191406,
          -1.8179377317428589,
          32.94600296020508,
          8.058399200439453,
          38.954925537109375,
          27.251062393188477,
          -62.081729888916016,
          -61.83027648925781,
          13.919105529785156,
          24.188217163085938,
          32.37250518798828,
          8.4187593460083,
          17.02988052368164,
          4.653774738311768,
          24.111974716186523,
          -124.69073486328125,
          -9.956253051757812,
          33.772216796875,
          20.005847930908203,
          -76.84225463867188,
          14.086308479309082,
          -67.01263427734375,
          34.13853454589844,
          3.5656144618988037,
          24.12898063659668,
          -47.30264663696289,
          -10.953782081604004,
          37.65333557128906,
          -17.687713623046875,
          32.262550354003906,
          22.92269515991211,
          21.268341064453125,
          -8.25722599029541,
          79.87483215332031,
          -72.38062286376953,
          -4.589376926422119,
          -28.011083602905273,
          -44.645206451416016,
          19.88070297241211,
          22.721681594848633,
          14.913905143737793,
          20.342313766479492,
          58.852264404296875,
          -27.659605026245117,
          20.717256546020508,
          -22.779109954833984,
          -8.567145347595215,
          -32.2702751159668,
          42.88385772705078,
          26.360498428344727,
          15.763113021850586,
          11.48265552520752,
          35.17369842529297,
          12.921269416809082,
          -36.9918327331543,
          26.236427307128906,
          33.258602142333984,
          -50.11716842651367,
          6.917229652404785,
          25.911510467529297,
          21.03528594970703,
          -16.877527236938477,
          -20.8348331451416,
          -0.8970154523849487,
          38.13616943359375,
          -22.443634033203125,
          -22.684356689453125,
          -30.164827346801758,
          -62.215572357177734,
          -6.13785982131958,
          -15.096884727478027,
          -8.419647216796875,
          -65.9599838256836,
          5.380134582519531,
          -24.67523193359375,
          -32.6944694519043,
          16.50223731994629,
          -17.710933685302734,
          -4.410151958465576,
          -62.34746551513672,
          58.076210021972656,
          45.31041717529297,
          63.068939208984375,
          22.336990356445312,
          50.36793518066406,
          -61.373268127441406,
          -37.89662170410156,
          5.308396816253662,
          27.297178268432617,
          28.358922958374023,
          25.3164005279541,
          -66.43875122070312,
          34.58403015136719,
          -10.218988418579102,
          -96.48058319091797,
          21.6948184967041,
          15.883743286132812,
          -83.37077331542969,
          -8.398261070251465,
          35.20487976074219,
          38.65090560913086,
          24.266891479492188,
          30.50839614868164,
          -113.23714447021484,
          40.510955810546875,
          56.190452575683594,
          22.380592346191406,
          -9.055655479431152,
          32.82617950439453,
          8.48180103302002,
          16.14161491394043,
          31.021820068359375,
          -59.97163009643555,
          27.87190055847168,
          -88.05307006835938
         ],
         "z": [
          36.71652603149414,
          -4.822420120239258,
          16.700565338134766,
          -12.142766952514648,
          -33.65342712402344,
          70.12267303466797,
          -32.12306594848633,
          1.8016139268875122,
          11.250840187072754,
          -40.008480072021484,
          -72.61858367919922,
          -64.79258728027344,
          -76.7701416015625,
          -71.1999740600586,
          -31.214527130126953,
          3.110616683959961,
          8.083991050720215,
          -80.85050201416016,
          30.76889991760254,
          37.99089813232422,
          15.622437477111816,
          51.83938980102539,
          79.2872314453125,
          42.36042785644531,
          -4.674391269683838,
          26.906063079833984,
          -28.45537567138672,
          32.240108489990234,
          21.455184936523438,
          82.55626678466797,
          53.14755630493164,
          -26.26727867126465,
          -13.576537132263184,
          -41.10429382324219,
          56.148624420166016,
          48.49099349975586,
          -16.66094207763672,
          -6.593086242675781,
          46.2095947265625,
          76.22919464111328,
          20.616073608398438,
          -5.538906574249268,
          -34.289058685302734,
          3.407728433609009,
          -31.396385192871094,
          44.91019821166992,
          -10.59926986694336,
          66.7158432006836,
          43.11951446533203,
          -9.162114143371582,
          6.65478515625,
          17.784849166870117,
          -6.597960472106934,
          87.68502807617188,
          4.715038776397705,
          -24.12879753112793,
          -18.505199432373047,
          -3.098562002182007,
          -3.803771734237671,
          -11.210245132446289,
          -0.045630428940057755,
          -31.93109130859375,
          -36.271484375,
          -4.592217445373535,
          -62.31085205078125,
          6.458925724029541,
          45.57497024536133,
          -60.46726989746094,
          9.713834762573242,
          -6.289422512054443,
          34.56120681762695,
          -9.293798446655273,
          -70.03180694580078,
          16.26427459716797,
          -11.616806983947754,
          17.231447219848633,
          -23.505796432495117,
          13.125689506530762,
          6.042242527008057,
          -5.5902934074401855,
          71.4849624633789,
          -11.966376304626465,
          62.22748565673828,
          11.52402400970459,
          -39.985469818115234,
          -6.136597633361816,
          51.266666412353516,
          -17.847061157226562,
          -51.71579360961914,
          84.71247863769531,
          -17.208419799804688,
          8.688952445983887,
          23.8200626373291,
          -26.069686889648438,
          51.04521560668945,
          23.741212844848633,
          -7.9401631355285645,
          81.7364501953125,
          102.28216552734375,
          48.19808578491211,
          -70.10682678222656,
          -25.061315536499023,
          -12.03907299041748,
          19.515127182006836,
          97.6996841430664,
          -38.5369873046875,
          83.54570007324219,
          -31.04736328125,
          12.566980361938477,
          64.4632568359375,
          -21.084457397460938,
          30.976884841918945,
          -19.29521369934082,
          -47.22093200683594,
          -13.039628028869629,
          -86.53083038330078,
          35.35538864135742,
          -13.070075035095215,
          -5.162943363189697,
          2.5784735679626465,
          -39.187103271484375,
          -59.29490661621094,
          16.450586318969727,
          -46.89231491088867,
          -19.61273193359375,
          14.454198837280273,
          1.4973706007003784,
          -34.90592575073242,
          2.82195782661438,
          -7.870090007781982,
          77.72135925292969,
          -12.334796905517578,
          1.6606860160827637,
          51.04899597167969,
          36.77413558959961,
          13.482093811035156,
          32.40494155883789,
          -28.02408790588379,
          -55.57594299316406,
          -10.963054656982422,
          -20.212717056274414,
          49.33467483520508,
          2.3303775787353516,
          -1.171034812927246,
          -36.57832336425781,
          -64.56450653076172,
          13.284286499023438,
          -37.24169921875,
          24.737110137939453,
          -59.968196868896484,
          -28.601667404174805,
          35.589908599853516,
          25.5556583404541,
          65.53887176513672,
          68.57303619384766,
          -16.444068908691406,
          13.47530746459961,
          -8.63121509552002,
          8.140426635742188,
          3.1311731338500977,
          71.78571319580078,
          33.46577453613281,
          84.23837280273438,
          -98.27523803710938,
          8.074620246887207,
          48.29818344116211,
          -5.024933815002441,
          87.3224105834961,
          -3.667816400527954,
          5.954990386962891,
          -59.346824645996094,
          -20.421873092651367,
          74.90522766113281,
          -36.889896392822266,
          -16.44267463684082,
          -19.555421829223633,
          -37.99271011352539,
          -27.640573501586914,
          87.83026123046875,
          2.1802737712860107,
          -30.576274871826172,
          -14.057002067565918,
          65.16698455810547,
          70.34782409667969,
          9.762073516845703,
          2.500368356704712,
          -24.581911087036133,
          36.46688461303711,
          -4.079310894012451,
          -44.632015228271484,
          13.850141525268555,
          -38.317481994628906,
          31.885419845581055,
          42.178401947021484,
          19.498043060302734,
          83.69781494140625,
          -16.759416580200195,
          -32.061866760253906,
          -5.999958515167236,
          -39.840972900390625,
          20.607717514038086,
          20.333059310913086,
          -2.943959951400757,
          -6.036197662353516,
          -2.9820549488067627,
          -3.657654285430908,
          19.508275985717773,
          42.98545455932617,
          -64.89588928222656,
          92.08899688720703,
          41.20732498168945,
          -57.08180618286133,
          41.51495361328125,
          14.074810028076172,
          -24.026714324951172,
          -17.313556671142578,
          -91.98014831542969,
          61.64007568359375,
          -13.609358787536621,
          -9.593307495117188,
          -52.06560516357422,
          -0.42258983850479126,
          20.088274002075195,
          -32.04256057739258,
          74.25442504882812,
          -91.76612854003906,
          38.270912170410156,
          36.34327697753906,
          33.94295883178711,
          -11.236493110656738,
          5.41851282119751,
          51.08651351928711,
          60.531227111816406,
          10.764894485473633,
          13.418214797973633,
          40.150054931640625,
          60.70115661621094,
          -9.684423446655273,
          56.30338668823242,
          64.373779296875,
          -28.937593460083008,
          14.881584167480469,
          10.87055492401123,
          -50.032264709472656,
          17.12460708618164,
          -45.3170051574707,
          -73.73837280273438,
          26.947582244873047,
          -21.264942169189453,
          -11.365880966186523,
          58.62815856933594,
          55.02968978881836,
          -37.635414123535156,
          -27.447601318359375,
          -39.081634521484375,
          98.74080657958984,
          -72.10958862304688,
          -31.72283172607422,
          70.93079376220703,
          -76.984375,
          -42.74941635131836,
          29.89271354675293,
          -35.558128356933594,
          -31.697893142700195,
          -18.05600929260254,
          66.06262969970703,
          15.862943649291992,
          11.755159378051758,
          14.25439453125,
          58.996681213378906,
          -41.378623962402344,
          -0.2532491385936737,
          -23.183412551879883,
          -41.89915084838867,
          61.53032684326172,
          7.380074977874756,
          -82.02932739257812,
          75.70171356201172,
          5.390223503112793,
          -86.86526489257812,
          -19.439512252807617,
          37.08901596069336,
          21.428525924682617,
          21.424955368041992,
          65.27149200439453,
          10.25998592376709,
          8.594610214233398,
          9.78403377532959,
          0.9470873475074768,
          6.210689544677734,
          17.937870025634766,
          -18.347261428833008,
          20.102828979492188,
          -33.00440216064453,
          93.17030334472656,
          -23.44939422607422,
          -70.0730209350586,
          58.660091400146484,
          22.962459564208984,
          46.56547164916992,
          -44.42323303222656,
          41.88557815551758,
          -12.67153263092041,
          -30.340255737304688,
          -16.38141632080078,
          -6.164173126220703,
          -63.5080451965332,
          39.87419891357422,
          -25.755264282226562,
          45.52640914916992,
          50.799800872802734,
          39.37895965576172,
          -0.7779695987701416,
          47.566322326660156,
          -64.7470703125,
          24.061437606811523,
          36.94957733154297,
          3.8254666328430176,
          4.73888635635376,
          1.4581382274627686,
          -1.407175064086914,
          19.530765533447266,
          16.790802001953125,
          38.196571350097656,
          -89.6318359375,
          41.90235900878906,
          -31.214527130126953,
          -54.23013687133789,
          45.001983642578125,
          10.968195915222168,
          0.0018272213637828827,
          3.914121150970459,
          65.85433959960938,
          44.37478256225586,
          9.707646369934082,
          72.49906921386719,
          23.322980880737305,
          -46.929988861083984,
          10.169283866882324,
          63.32149124145508,
          -17.964324951171875,
          -17.386348724365234,
          -14.96527099609375,
          11.090615272521973,
          29.931896209716797,
          -5.716686248779297,
          0.1554393321275711,
          -31.214527130126953,
          67.19447326660156,
          49.97969055175781,
          12.695028305053711,
          -48.71718215942383,
          -14.117912292480469,
          -25.873672485351562,
          -25.165109634399414,
          13.91319751739502,
          17.94403648376465,
          47.54313278198242,
          33.79033660888672,
          37.12306213378906,
          31.582183837890625,
          27.103731155395508,
          88.9323959350586,
          7.1147966384887695,
          29.57460594177246,
          -48.80510711669922,
          -12.339259147644043,
          9.399045944213867,
          15.860631942749023,
          1.142965316772461,
          81.36453247070312,
          -19.78638458251953,
          -30.685894012451172,
          -91.95572662353516,
          -4.27850341796875,
          -29.271833419799805,
          -10.086947441101074,
          -17.841005325317383,
          -46.35993957519531,
          35.35084915161133,
          -75.4201889038086,
          -2.023937940597534,
          20.6898193359375,
          -66.32854461669922,
          -81.63079071044922,
          -12.797324180603027,
          0.1990964263677597,
          -31.214527130126953,
          -0.8126754760742188,
          -1.1773273944854736,
          18.76926040649414,
          -7.170268535614014,
          57.499847412109375,
          -9.73047924041748,
          -2.235466957092285,
          -89.92007446289062,
          -44.04407501220703,
          40.210777282714844,
          72.52112579345703,
          52.968994140625,
          9.111233711242676,
          -8.159013748168945,
          -18.69228744506836,
          -4.738365650177002,
          4.622737884521484,
          7.060272693634033,
          1.4307758808135986,
          -71.1468505859375,
          63.315101623535156,
          -34.32594680786133,
          3.127715826034546,
          58.95515823364258,
          -76.13883972167969,
          -35.20505905151367,
          -62.9617919921875,
          18.290956497192383,
          52.528770446777344,
          13.778040885925293,
          45.32598114013672,
          -46.749427795410156,
          15.841032028198242,
          -0.9346243739128113,
          9.738937377929688,
          32.61489486694336,
          60.217002868652344,
          6.126357555389404,
          -32.37132263183594,
          -25.873672485351562,
          73.6185302734375,
          -15.794961929321289,
          1.8207236528396606,
          82.92314910888672,
          77.14105224609375,
          72.16453552246094,
          20.00861358642578,
          -1.5664184093475342,
          -66.75056457519531,
          15.549033164978027,
          -32.04335021972656,
          71.95211029052734,
          20.91288948059082,
          31.146831512451172,
          -13.764395713806152,
          -20.272289276123047,
          83.29729461669922,
          89.52210235595703,
          44.1947021484375,
          3.383143424987793,
          -9.486715316772461,
          -8.813323020935059,
          77.9649658203125,
          -41.49950408935547,
          51.650733947753906,
          42.555538177490234,
          21.674955368041992,
          -88.99356079101562,
          73.66507720947266,
          -36.56637191772461,
          -14.304610252380371,
          -94.97663879394531,
          -0.747416615486145,
          -31.72153663635254,
          24.257226943969727,
          69.68412780761719,
          -5.0510077476501465,
          15.922093391418457,
          -69.12911224365234,
          34.77947235107422,
          -26.277833938598633,
          24.1915340423584,
          50.76578140258789,
          -19.60453224182129,
          21.47381591796875,
          51.274261474609375,
          -42.395626068115234,
          38.358863830566406,
          34.76826858520508,
          -23.21354103088379,
          10.121997833251953,
          59.535606384277344,
          58.430171966552734,
          35.1805534362793,
          98.58550262451172,
          57.84779357910156,
          2.080888509750366,
          -72.67979431152344,
          78.48973083496094,
          -10.727840423583984,
          37.81913375854492,
          -5.562798023223877,
          42.65366744995117,
          -7.841070652008057,
          33.406837463378906,
          13.113823890686035,
          45.957096099853516,
          68.3434066772461,
          -29.501611709594727,
          -31.121320724487305,
          -14.438040733337402,
          56.30842208862305,
          -4.308444023132324,
          -14.278816223144531,
          36.8222770690918,
          -50.03387451171875,
          -16.52072525024414,
          -29.193275451660156,
          -65.80416870117188,
          -55.90617752075195,
          56.506439208984375,
          -0.43539801239967346,
          57.146095275878906,
          -32.11894607543945,
          5.00009298324585,
          40.18101501464844,
          21.274784088134766,
          78.3051986694336,
          -13.593620300292969,
          26.394641876220703,
          9.999871253967285,
          54.437164306640625,
          0.03660329431295395,
          -11.022199630737305,
          -50.49482727050781,
          15.16823959350586,
          33.13720703125,
          67.25430297851562,
          -27.62680435180664,
          25.545188903808594,
          10.012414932250977,
          47.955684661865234,
          62.571800231933594,
          -16.417884826660156,
          -15.702492713928223,
          48.7912712097168,
          -28.361722946166992,
          -57.80508804321289,
          -11.64444637298584,
          86.57927703857422,
          -3.1459717750549316,
          36.31794738769531,
          13.937993049621582,
          77.5606918334961,
          2.9569039344787598,
          16.415328979492188,
          37.87896728515625,
          -58.5429801940918,
          -2.926840305328369,
          -68.83229064941406,
          34.860748291015625,
          23.704036712646484,
          38.378971099853516,
          23.560617446899414,
          21.532611846923828,
          36.85124206542969,
          5.713204860687256,
          37.26913070678711,
          80.36660766601562,
          -8.360583305358887,
          20.085670471191406,
          -66.3748550415039,
          38.237335205078125,
          24.263004302978516,
          -30.492904663085938,
          38.909793853759766,
          12.421821594238281,
          -7.26973295211792,
          28.184410095214844,
          -11.046987533569336,
          8.02400016784668,
          -49.21744918823242,
          -20.600547790527344,
          29.501253128051758,
          -93.46498107910156,
          44.46783447265625,
          42.33250045776367,
          33.21268844604492,
          -12.368042945861816,
          31.12758445739746,
          35.99794006347656,
          40.17949676513672,
          34.45915603637695,
          -37.62727355957031,
          34.853755950927734,
          -13.858094215393066,
          51.349090576171875,
          43.20213317871094,
          55.77824401855469,
          -22.7137393951416,
          -17.501855850219727,
          -81.39923095703125,
          44.193668365478516,
          -3.14064359664917,
          58.718658447265625,
          15.609865188598633,
          42.200496673583984,
          -17.61046600341797,
          -90.31719207763672,
          95.18313598632812,
          41.9767951965332,
          -52.230812072753906,
          -23.230777740478516,
          -4.169110298156738,
          9.134520530700684,
          51.61849594116211,
          -63.46588134765625,
          -38.85246658325195,
          52.98711395263672,
          30.547225952148438,
          15.144312858581543,
          6.750881195068359,
          -2.7028563022613525,
          40.114349365234375,
          -30.06749153137207,
          26.05329704284668,
          2.771172523498535,
          -24.97634506225586,
          -59.0311164855957,
          -2.27480411529541,
          -51.40388107299805,
          -33.21236801147461,
          -73.78252410888672,
          -8.003945350646973,
          46.0237922668457,
          -32.06303787231445,
          70.59825897216797,
          67.7519760131836,
          -18.975753784179688,
          36.42563247680664,
          -4.607387542724609,
          29.619325637817383,
          -22.288503646850586,
          -38.69832229614258,
          -74.9427719116211,
          58.696903228759766,
          -27.251014709472656,
          66.88699340820312,
          1.385267734527588,
          -71.77967834472656,
          -9.788724899291992,
          7.308994770050049,
          81.14794158935547,
          -34.89562225341797,
          19.177169799804688,
          30.5893497467041,
          22.891366958618164,
          -14.331844329833984,
          -5.7947096824646,
          60.9964485168457,
          59.24232864379883,
          -12.560808181762695,
          -83.95282745361328,
          53.327152252197266,
          -71.24043273925781,
          -99.13742065429688,
          -65.33563232421875,
          -15.376708984375,
          15.922093391418457,
          -53.02171325683594,
          49.31805419921875,
          26.223222732543945,
          -26.06833839416504,
          -23.576536178588867,
          4.598363399505615,
          44.38410568237305,
          15.63536262512207,
          -8.963727951049805,
          22.681896209716797,
          74.55913543701172,
          -14.10655403137207,
          49.597625732421875,
          24.473308563232422,
          -66.71192932128906,
          93.11116790771484,
          7.744298458099365,
          32.54549026489258,
          -16.00115966796875,
          32.94150924682617,
          33.76335525512695,
          63.34345626831055,
          19.1208438873291,
          -34.867279052734375,
          46.51984405517578,
          -10.01052188873291,
          -15.830663681030273,
          27.05862808227539,
          -53.296226501464844,
          -44.129451751708984,
          -36.537200927734375,
          32.780235290527344,
          18.916637420654297,
          81.32959747314453,
          11.373283386230469,
          28.73041343688965,
          5.213508605957031,
          -24.61064338684082,
          36.25151443481445,
          -7.684981822967529,
          18.46982192993164,
          -47.294410705566406,
          56.17545700073242,
          -39.342159271240234,
          -5.935748100280762,
          -79.4869613647461,
          -2.015502452850342,
          36.34667205810547,
          -60.01834487915039,
          -11.928101539611816,
          -1.618571162223816,
          -7.2390947341918945,
          -31.948734283447266,
          -82.146240234375,
          28.04829216003418,
          -43.43380355834961,
          28.80848503112793,
          21.128759384155273,
          -28.00144386291504,
          28.38606071472168,
          24.454898834228516,
          -7.479573726654053,
          22.781333923339844,
          -11.962592124938965,
          -9.426194190979004,
          36.5795783996582,
          -15.85915756225586,
          9.051435470581055,
          -0.2628905177116394,
          -58.80635452270508,
          3.478414297103882,
          -41.99022674560547,
          -1.1440740823745728,
          -8.114441871643066,
          -33.33371353149414,
          35.6171875,
          68.59623718261719,
          -73.74393463134766,
          41.757835388183594,
          60.41588592529297,
          -34.88527297973633,
          -10.595005989074707,
          6.591001510620117,
          76.7437744140625,
          -91.75821685791016,
          32.70136642456055,
          -3.760457754135132,
          -56.73102951049805,
          36.43525695800781,
          28.461244583129883,
          39.366455078125,
          23.187889099121094,
          37.58701705932617,
          -49.3369255065918,
          45.2530403137207,
          74.4795150756836,
          103.06597900390625,
          50.45909118652344,
          -27.12529945373535,
          25.545162200927734,
          50.696189880371094,
          182.46946716308594,
          -34.752803802490234,
          -70.84779357910156,
          -81.59849548339844,
          27.56513023376465,
          -60.88591003417969,
          25.595678329467773,
          -51.352256774902344,
          -74.7125015258789,
          1.086793065071106,
          11.861811637878418,
          32.53866958618164,
          2.334359884262085,
          63.32978057861328,
          68.71829986572266,
          55.56602096557617,
          11.102463722229004,
          29.888874053955078,
          28.957321166992188,
          97.6473617553711,
          52.82160568237305,
          -2.109145164489746,
          18.410654067993164,
          87.62640380859375,
          8.827609062194824,
          74.91146087646484,
          -56.471458435058594,
          34.600990295410156,
          -9.607965469360352,
          -65.44052124023438,
          40.246177673339844,
          41.6694221496582,
          15.148276329040527,
          4.953861236572266,
          13.269074440002441,
          29.353885650634766,
          24.246841430664062,
          31.85481071472168,
          39.67342758178711,
          34.20209503173828,
          -58.7723503112793,
          76.25209045410156,
          53.08737564086914,
          -10.198439598083496,
          -42.60381317138672,
          28.658340454101562,
          -21.596643447875977,
          -7.57207727432251,
          46.00162124633789,
          34.73877716064453,
          -48.43146896362305,
          52.07313919067383,
          -20.99449348449707,
          20.700578689575195,
          -17.73360252380371,
          -5.105995178222656,
          89.3591079711914,
          -11.748767852783203,
          102.4394760131836,
          -81.09208679199219,
          63.110774993896484,
          -19.973003387451172,
          104.2165756225586,
          82.36367797851562,
          87.1045913696289,
          15.762937545776367,
          -5.25287389755249,
          48.6420783996582,
          -83.18270111083984,
          28.863618850708008,
          65.79058837890625,
          71.20323181152344,
          24.084985733032227,
          -4.284610271453857,
          48.908992767333984,
          67.94015502929688,
          -34.752803802490234,
          -37.02285385131836,
          -28.13092803955078,
          11.997785568237305,
          -16.791330337524414,
          -7.918270587921143,
          -42.24433135986328,
          8.035995483398438,
          -29.91275405883789,
          -57.9176025390625,
          3.1126856803894043,
          12.693582534790039,
          8.184487342834473,
          58.108455657958984,
          57.02907943725586,
          62.12851333618164,
          69.22783660888672,
          -73.13713073730469,
          -6.584681034088135,
          7.6990580558776855,
          -31.867382049560547,
          -70.77481079101562,
          -0.20449641346931458,
          31.406295776367188,
          28.32267189025879,
          53.0286750793457,
          13.799001693725586,
          6.534248352050781,
          18.68079376220703,
          71.69965362548828,
          -82.6845703125,
          56.47276306152344,
          -1.2531574964523315,
          35.228458404541016,
          -7.094647407531738,
          26.605634689331055,
          76.4023666381836,
          42.8477668762207,
          -30.492563247680664,
          4.4386725425720215,
          -98.54450988769531,
          -15.933452606201172,
          11.81048583984375,
          -27.39474868774414,
          70.7182846069336,
          23.522300720214844,
          82.94517517089844,
          25.937347412109375,
          32.475555419921875,
          -84.68433380126953,
          43.79542541503906,
          -21.45094871520996,
          94.53744506835938,
          3.9289677143096924,
          -2.1356189250946045,
          -90.5559310913086,
          -102.71904754638672,
          -23.011747360229492,
          -5.829174518585205,
          -45.11627960205078,
          -47.780548095703125,
          -30.017122268676758,
          -19.462987899780273,
          -80.25321197509766,
          -8.115111351013184,
          26.278745651245117,
          30.624526977539062,
          -85.60469055175781,
          -22.392274856567383,
          8.215608596801758,
          -43.130489349365234,
          56.33362579345703,
          37.813377380371094,
          7.039702892303467,
          29.283546447753906,
          52.08623123168945,
          51.81779861450195,
          27.984413146972656,
          92.44833374023438,
          -86.41165161132812,
          15.600180625915527,
          13.000643730163574,
          -10.037216186523438,
          3.5658392906188965,
          15.810127258300781,
          -2.0387067794799805,
          24.417003631591797,
          33.46098327636719,
          8.49842357635498,
          22.60283088684082,
          43.50029373168945,
          31.05344009399414,
          -19.628767013549805,
          41.232757568359375,
          -5.370519638061523,
          43.11048126220703,
          -32.025760650634766,
          -59.02135467529297,
          37.55192565917969,
          -8.284560203552246,
          5.846103191375732,
          -36.318668365478516,
          37.637046813964844,
          36.105167388916016,
          20.836488723754883,
          53.533355712890625,
          -41.56964111328125,
          68.02896118164062,
          20.047422409057617,
          57.491878509521484,
          -1.9064327478408813,
          -88.59954833984375,
          -7.405077934265137,
          46.353912353515625,
          -10.133207321166992,
          -4.223992347717285,
          32.00719451904297,
          11.300422668457031,
          4.229412078857422,
          43.72010803222656,
          -45.6839714050293,
          25.924867630004883,
          3.672192096710205,
          52.48884582519531,
          -19.729799270629883,
          36.71236801147461,
          12.174066543579102,
          -72.23826599121094,
          -8.514809608459473,
          25.071718215942383,
          -49.769222259521484,
          86.69490814208984,
          -46.03339385986328,
          3.981046676635742,
          -60.598575592041016,
          56.99028015136719,
          -6.498358726501465,
          44.90602493286133,
          -9.120243072509766,
          -23.372264862060547,
          3.202965497970581,
          -17.895395278930664,
          27.352828979492188,
          -0.5623195767402649,
          -9.536009788513184,
          -64.34598541259766,
          -63.24261474609375,
          13.043848991394043,
          9.007055282592773,
          86.14063262939453,
          30.962074279785156,
          -2.550668239593506,
          48.680667877197266,
          25.32327651977539,
          11.60296630859375,
          77.74588775634766,
          -49.45283889770508,
          33.39311599731445,
          -19.416784286499023,
          96.02266693115234,
          27.244834899902344,
          11.885520935058594,
          -39.79610061645508,
          16.71915626525879,
          42.11635971069336,
          -58.68701171875,
          74.68172454833984,
          4.823167324066162,
          3.6129744052886963,
          -15.486268043518066,
          -47.11842727661133,
          61.881534576416016,
          -20.227012634277344,
          38.29243087768555,
          8.058036804199219,
          -36.52801513671875,
          8.999021530151367,
          -17.654869079589844,
          -22.424394607543945,
          -10.257824897766113,
          -71.6749038696289,
          21.48198699951172,
          -26.132503509521484,
          61.325443267822266,
          -3.637619733810425,
          -26.17103385925293,
          54.893096923828125,
          1.1451730728149414,
          31.13241958618164,
          89.5615463256836,
          56.08930969238281,
          -35.021263122558594,
          45.409854888916016,
          -36.241111755371094,
          -92.27872467041016,
          18.47087860107422,
          38.23520278930664,
          25.16355323791504,
          25.44272232055664,
          51.588069915771484,
          2.86487078666687,
          -77.99056243896484,
          -79.10256958007812,
          15.893964767456055,
          21.85007667541504,
          31.38096809387207,
          35.8032341003418,
          -20.07221221923828,
          -20.131256103515625,
          29.160728454589844,
          15.683629035949707,
          20.581069946289062,
          -33.96870803833008,
          13.227117538452148,
          -35.83808517456055,
          28.753618240356445,
          9.97334098815918,
          -16.303152084350586,
          -1.5159931182861328,
          -43.25808334350586,
          -59.97758483886719,
          -69.19871520996094,
          -17.296798706054688,
          48.22211456298828,
          29.01251220703125,
          43.35912322998047,
          1.782941222190857,
          -77.25090789794922,
          -19.991336822509766,
          58.51800537109375,
          31.463163375854492,
          8.155516624450684,
          -11.792160987854004,
          32.93270492553711,
          48.68390655517578,
          -10.50681209564209,
          45.780426025390625,
          -66.53585052490234,
          -8.0433931350708,
          -11.093476295471191,
          8.480097770690918,
          64.50697326660156,
          7.080190181732178,
          25.7921085357666,
          51.38268280029297,
          29.3255558013916,
          3.5475013256073,
          -69.59051513671875,
          -7.248586654663086,
          5.3961567878723145,
          -1.7198103666305542,
          -5.729004859924316,
          -25.179588317871094,
          55.72688293457031,
          -74.3733139038086,
          25.309606552124023,
          -4.577795505523682,
          -28.252044677734375,
          15.25440788269043,
          -10.259406089782715,
          1.1201883554458618,
          -6.7054314613342285,
          12.940276145935059,
          18.248512268066406,
          -17.015602111816406,
          35.405189514160156,
          -49.17403793334961,
          -10.28268051147461,
          -7.079232215881348,
          73.21145629882812,
          65.31989288330078,
          23.03069305419922,
          -4.775759696960449,
          -9.990474700927734,
          -13.36587142944336,
          0.9858284592628479,
          -5.0206804275512695,
          32.433109283447266,
          -62.443992614746094,
          51.37883758544922,
          -83.58814239501953,
          10.194123268127441,
          45.26483917236328,
          -12.312169075012207,
          63.10604476928711,
          -38.30939483642578,
          51.5104866027832,
          -62.148231506347656,
          43.814266204833984,
          34.83489990234375,
          48.85535430908203,
          -3.999495506286621,
          -24.040687561035156,
          -6.509133338928223,
          2.651179313659668,
          -61.48677444458008,
          16.752473831176758,
          68.47505950927734,
          2.723940372467041,
          22.31794548034668,
          0.030843006446957588,
          13.009050369262695,
          -56.382625579833984,
          39.1207160949707,
          57.170310974121094,
          10.486103057861328,
          33.81436538696289,
          -1.0006247758865356,
          -21.162109375,
          -78.0700454711914,
          -64.66747283935547,
          -19.29619026184082,
          80.17648315429688,
          -15.842419624328613,
          -15.019031524658203,
          40.215171813964844,
          -0.9239957928657532,
          -2.553215503692627,
          21.364221572875977,
          24.509553909301758,
          17.013410568237305,
          58.36997985839844,
          -58.62544631958008,
          -13.381129264831543,
          10.136285781860352,
          0.506811261177063,
          -43.46569061279297,
          -26.89716911315918,
          -18.610122680664062,
          28.559200286865234,
          18.012088775634766,
          -60.25503158569336,
          87.45436096191406,
          -6.150261402130127,
          -40.0692253112793,
          -5.088064193725586,
          -13.171795845031738,
          -62.90735626220703,
          24.68354606628418,
          35.5803337097168,
          41.90673065185547,
          16.493654251098633,
          7.442349910736084,
          28.7156982421875,
          -46.57362747192383,
          5.748673439025879,
          -27.602746963500977,
          -75.60982513427734,
          11.844594955444336,
          8.417349815368652,
          26.650970458984375,
          78.89532470703125,
          30.227947235107422,
          63.9588508605957,
          74.0304183959961,
          64.40037536621094,
          80.0811996459961,
          66.28733825683594,
          -6.598322868347168,
          94.28126525878906,
          68.75399780273438,
          29.33537483215332,
          18.965351104736328,
          53.11441421508789,
          -38.74302673339844,
          26.527070999145508,
          27.570310592651367,
          2.1607553958892822,
          2.6969385147094727,
          26.633270263671875,
          -1.5834399461746216,
          -15.162452697753906,
          11.608233451843262,
          -6.106110572814941,
          3.151820182800293,
          -75.00112915039062,
          40.30191421508789,
          -18.10886573791504,
          22.711078643798828,
          -56.22675323486328,
          7.606159687042236,
          58.778236389160156,
          20.24234390258789,
          28.480276107788086,
          14.638486862182617,
          -0.6496071815490723,
          42.28226852416992,
          0.46485307812690735,
          28.65109634399414,
          14.028788566589355,
          6.385159015655518,
          -70.66584014892578,
          9.138284683227539,
          56.109004974365234,
          24.30970573425293,
          32.01575469970703,
          44.31842041015625,
          43.33770751953125,
          3.0968263149261475,
          -10.973865509033203,
          -0.3437674939632416,
          5.861618995666504,
          57.9747200012207,
          10.027612686157227,
          85.64990234375,
          -50.82368087768555,
          -12.241828918457031,
          -1.5956512689590454,
          32.77992248535156,
          -5.7595977783203125,
          -90.66239166259766,
          -76.35062408447266,
          31.2116756439209,
          -26.716894149780273,
          -18.20696449279785,
          39.91482925415039,
          -26.205657958984375,
          -47.36565017700195,
          -39.657196044921875,
          46.41286849975586,
          -8.766706466674805,
          41.4652099609375,
          61.30984878540039,
          63.99154281616211,
          34.26321029663086,
          50.27223587036133,
          53.10084533691406,
          39.517181396484375,
          23.927045822143555,
          14.053079605102539,
          32.61117935180664,
          81.00111389160156,
          11.880849838256836,
          22.17249870300293,
          -21.282455444335938,
          30.529937744140625,
          -15.85965347290039,
          60.75027084350586,
          -3.2637627124786377,
          -89.28075408935547,
          -6.191190719604492,
          17.965892791748047,
          -8.012472152709961,
          40.27488327026367,
          -47.0724983215332,
          -11.72669792175293,
          -75.8731918334961,
          -2.711392879486084,
          -10.901579856872559,
          26.115190505981445,
          25.609447479248047,
          40.54302215576172,
          -30.14414405822754,
          -3.5103085041046143,
          66.78889465332031,
          -10.177698135375977,
          61.73833465576172,
          41.561954498291016,
          90.6527328491211,
          -13.677009582519531,
          58.53407669067383,
          -29.6029052734375,
          47.69038772583008,
          -13.783509254455566,
          -70.87345886230469,
          -66.06875610351562,
          54.11241149902344,
          29.011796951293945,
          -2.744476795196533,
          -23.449954986572266,
          51.397560119628906,
          39.98885726928711,
          85.87060546875,
          45.913150787353516,
          19.108009338378906,
          -36.85266876220703,
          -25.179786682128906,
          -26.17645835876465,
          1.4647233486175537,
          17.46177864074707,
          -10.58254337310791,
          -41.004573822021484,
          -60.736942291259766,
          66.68389129638672,
          0.4270569384098053,
          -0.7502329349517822,
          20.675750732421875,
          16.0644588470459,
          73.99347686767578,
          -20.74949836730957,
          -35.83211135864258,
          44.20542526245117,
          29.170291900634766,
          18.59986114501953,
          -28.790369033813477,
          -74.03204345703125,
          2.0999755859375,
          29.06280517578125,
          21.723817825317383,
          -64.86062622070312,
          -6.1399664878845215,
          -10.673784255981445,
          -18.368562698364258,
          12.064168930053711,
          20.607698440551758,
          12.751352310180664,
          30.125654220581055,
          -45.043331146240234,
          26.279247283935547,
          -5.252783298492432,
          16.894561767578125,
          62.14644241333008,
          -45.63230514526367,
          41.70765686035156,
          15.499975204467773,
          58.659915924072266,
          -56.2865104675293,
          40.449832916259766,
          -34.84431838989258,
          -3.563495635986328,
          40.45148849487305,
          -40.44777297973633,
          -58.546424865722656,
          1.123368263244629,
          -67.65330505371094,
          -52.29391860961914,
          85.10497283935547,
          -22.842679977416992,
          -14.332891464233398,
          34.81950759887695,
          68.27105712890625,
          52.5643196105957,
          -55.0492057800293,
          -62.436920166015625,
          24.463302612304688,
          77.52228546142578,
          16.623313903808594,
          19.41571807861328,
          90.89229583740234,
          -44.050048828125,
          -2.112414836883545,
          38.05388259887695,
          -45.95822525024414,
          -7.817126750946045,
          -7.007681369781494,
          -9.51513957977295,
          25.041095733642578,
          72.52836608886719,
          48.00929641723633,
          23.608070373535156,
          4.680641174316406,
          3.8427257537841797,
          -11.041378021240234,
          36.211971282958984,
          50.02334976196289,
          26.944509506225586,
          85.84809112548828,
          0.9574105739593506,
          32.612586975097656,
          -45.686546325683594,
          15.478470802307129,
          -13.7311429977417,
          9.47492504119873,
          -54.040252685546875,
          -37.157718658447266,
          7.216183185577393,
          -51.10079574584961,
          42.73796081542969,
          -76.65869140625,
          15.039918899536133,
          -13.588761329650879,
          5.573757171630859,
          21.34980583190918,
          23.73809051513672,
          -25.594621658325195,
          30.378023147583008,
          -32.397884368896484,
          -24.337505340576172,
          -6.041533470153809,
          -46.38994216918945,
          72.821044921875,
          -56.761199951171875,
          3.6840012073516846,
          19.234975814819336,
          37.448211669921875,
          31.638145446777344,
          -14.93370246887207,
          21.655885696411133,
          12.39022445678711,
          41.03273010253906,
          -19.326435089111328,
          -33.544979095458984,
          -30.873443603515625,
          -56.85337448120117,
          13.60666561126709,
          10.803831100463867,
          -64.348876953125,
          -23.371129989624023,
          25.73977279663086,
          -9.61530876159668,
          59.438621520996094,
          13.464505195617676,
          36.91844177246094,
          11.70878791809082,
          -26.675504684448242,
          6.094787120819092,
          -71.8578109741211,
          -24.6513729095459,
          -22.78238868713379,
          3.7825279235839844,
          -47.91630935668945,
          -35.29570007324219,
          -35.174896240234375,
          44.355262756347656,
          28.703571319580078,
          24.229005813598633,
          83.91614532470703,
          -35.434051513671875,
          -11.311976432800293,
          14.59746265411377,
          -70.52490234375,
          32.24605178833008,
          -64.56119537353516,
          93.82719421386719,
          -55.22011184692383,
          6.761846542358398,
          42.70966339111328,
          21.419891357421875,
          -58.1670036315918,
          -46.25584411621094,
          20.70867156982422,
          -20.127761840820312,
          -77.7953109741211,
          25.827754974365234,
          6.058348655700684,
          44.71531677246094,
          -23.377241134643555,
          54.63978958129883,
          78.5020523071289,
          72.71957397460938,
          -12.249313354492188,
          -32.87177658081055,
          17.154247283935547,
          28.968412399291992,
          70.65081024169922,
          96.55177307128906,
          -73.7676773071289,
          -0.2841491997241974,
          -80.88493347167969,
          22.239032745361328,
          -8.053084373474121,
          -32.20176696777344,
          16.632707595825195,
          31.204622268676758,
          -35.38789749145508,
          -83.15196990966797,
          -15.71694564819336,
          79.88024139404297,
          -4.983189105987549,
          -18.062990188598633,
          41.8639030456543,
          -75.50218963623047,
          55.769039154052734,
          23.683605194091797,
          7.537392616271973,
          17.17879295349121,
          -77.38179779052734,
          68.89350128173828,
          51.37736892700195,
          51.724849700927734,
          0.5571975708007812,
          19.971092224121094,
          -16.12386131286621,
          -6.9033918380737305,
          13.669174194335938,
          169.72715759277344,
          -25.099609375,
          -4.17091703414917,
          10.590757369995117,
          6.700366020202637,
          35.21642303466797,
          73.69481658935547,
          -23.476802825927734,
          -1.0123244524002075,
          11.845393180847168,
          -13.834532737731934,
          4.491483688354492,
          -2.493483304977417,
          46.94874954223633,
          37.67264175415039,
          -3.0872962474823,
          30.37656021118164,
          3.8596444129943848,
          14.8052396774292,
          -31.304943084716797,
          30.35181427001953,
          3.455976724624634,
          12.240674018859863,
          -41.218048095703125,
          -28.900869369506836,
          32.70243835449219,
          38.75442123413086,
          -70.16372680664062,
          24.90780258178711,
          17.88443374633789,
          71.60607147216797,
          36.90949249267578,
          57.2929573059082,
          2.6222031116485596,
          -67.33445739746094,
          -13.956304550170898,
          -14.179126739501953,
          -39.879371643066406,
          -0.9970626831054688,
          19.076404571533203,
          18.091733932495117,
          -29.66533660888672,
          -46.42851638793945,
          18.90154457092285,
          8.60476016998291,
          37.50973129272461,
          23.229427337646484,
          11.365083694458008,
          -19.685871124267578,
          55.95610427856445,
          6.685785293579102,
          3.4750494956970215,
          25.350147247314453,
          7.471386432647705,
          40.66762161254883,
          16.427204132080078,
          34.88672637939453,
          -8.01232624053955,
          22.51371192932129,
          18.282379150390625,
          9.101982116699219,
          -26.125057220458984,
          -24.02446937561035,
          27.51995086669922,
          -48.92246627807617,
          34.54854202270508,
          -71.56182861328125,
          0.19810549914836884,
          -30.319292068481445,
          -57.24689865112305,
          44.32905960083008,
          -50.04349136352539,
          22.897085189819336,
          -12.70421314239502,
          -91.14718627929688,
          0.5680956244468689,
          -7.542324066162109,
          12.010153770446777,
          26.900127410888672,
          14.371514320373535,
          -2.85670804977417,
          -8.82315444946289,
          -9.182507514953613,
          8.198630332946777,
          4.775666236877441,
          -49.75104522705078,
          -0.6908103227615356,
          -7.28114128112793,
          -1.4589749574661255,
          4.249588966369629,
          21.296600341796875,
          8.568655967712402,
          -40.666446685791016,
          12.995434761047363,
          15.666799545288086,
          -7.050595760345459,
          -36.50088119506836,
          17.57416343688965,
          5.6279754638671875,
          31.777847290039062,
          28.408428192138672,
          20.50852394104004,
          6.434133529663086,
          16.491817474365234,
          43.75690460205078,
          -48.20064163208008
         ]
        }
       ],
       "layout": {
        "height": 800,
        "legend": {
         "title": {
          "text": "Dominant_Topic"
         },
         "tracegroupgap": 0
        },
        "scene": {
         "domain": {
          "x": [
           0,
           1
          ],
          "y": [
           0,
           1
          ]
         },
         "xaxis": {
          "title": {
           "text": "0"
          }
         },
         "yaxis": {
          "title": {
           "text": "1"
          }
         },
         "zaxis": {
          "title": {
           "text": "2"
          }
         }
        },
        "template": {
         "data": {
          "bar": [
           {
            "error_x": {
             "color": "#2a3f5f"
            },
            "error_y": {
             "color": "#2a3f5f"
            },
            "marker": {
             "line": {
              "color": "#E5ECF6",
              "width": 0.5
             }
            },
            "type": "bar"
           }
          ],
          "barpolar": [
           {
            "marker": {
             "line": {
              "color": "#E5ECF6",
              "width": 0.5
             }
            },
            "type": "barpolar"
           }
          ],
          "carpet": [
           {
            "aaxis": {
             "endlinecolor": "#2a3f5f",
             "gridcolor": "white",
             "linecolor": "white",
             "minorgridcolor": "white",
             "startlinecolor": "#2a3f5f"
            },
            "baxis": {
             "endlinecolor": "#2a3f5f",
             "gridcolor": "white",
             "linecolor": "white",
             "minorgridcolor": "white",
             "startlinecolor": "#2a3f5f"
            },
            "type": "carpet"
           }
          ],
          "choropleth": [
           {
            "colorbar": {
             "outlinewidth": 0,
             "ticks": ""
            },
            "type": "choropleth"
           }
          ],
          "contour": [
           {
            "colorbar": {
             "outlinewidth": 0,
             "ticks": ""
            },
            "colorscale": [
             [
              0,
              "#0d0887"
             ],
             [
              0.1111111111111111,
              "#46039f"
             ],
             [
              0.2222222222222222,
              "#7201a8"
             ],
             [
              0.3333333333333333,
              "#9c179e"
             ],
             [
              0.4444444444444444,
              "#bd3786"
             ],
             [
              0.5555555555555556,
              "#d8576b"
             ],
             [
              0.6666666666666666,
              "#ed7953"
             ],
             [
              0.7777777777777778,
              "#fb9f3a"
             ],
             [
              0.8888888888888888,
              "#fdca26"
             ],
             [
              1,
              "#f0f921"
             ]
            ],
            "type": "contour"
           }
          ],
          "contourcarpet": [
           {
            "colorbar": {
             "outlinewidth": 0,
             "ticks": ""
            },
            "type": "contourcarpet"
           }
          ],
          "heatmap": [
           {
            "colorbar": {
             "outlinewidth": 0,
             "ticks": ""
            },
            "colorscale": [
             [
              0,
              "#0d0887"
             ],
             [
              0.1111111111111111,
              "#46039f"
             ],
             [
              0.2222222222222222,
              "#7201a8"
             ],
             [
              0.3333333333333333,
              "#9c179e"
             ],
             [
              0.4444444444444444,
              "#bd3786"
             ],
             [
              0.5555555555555556,
              "#d8576b"
             ],
             [
              0.6666666666666666,
              "#ed7953"
             ],
             [
              0.7777777777777778,
              "#fb9f3a"
             ],
             [
              0.8888888888888888,
              "#fdca26"
             ],
             [
              1,
              "#f0f921"
             ]
            ],
            "type": "heatmap"
           }
          ],
          "heatmapgl": [
           {
            "colorbar": {
             "outlinewidth": 0,
             "ticks": ""
            },
            "colorscale": [
             [
              0,
              "#0d0887"
             ],
             [
              0.1111111111111111,
              "#46039f"
             ],
             [
              0.2222222222222222,
              "#7201a8"
             ],
             [
              0.3333333333333333,
              "#9c179e"
             ],
             [
              0.4444444444444444,
              "#bd3786"
             ],
             [
              0.5555555555555556,
              "#d8576b"
             ],
             [
              0.6666666666666666,
              "#ed7953"
             ],
             [
              0.7777777777777778,
              "#fb9f3a"
             ],
             [
              0.8888888888888888,
              "#fdca26"
             ],
             [
              1,
              "#f0f921"
             ]
            ],
            "type": "heatmapgl"
           }
          ],
          "histogram": [
           {
            "marker": {
             "colorbar": {
              "outlinewidth": 0,
              "ticks": ""
             }
            },
            "type": "histogram"
           }
          ],
          "histogram2d": [
           {
            "colorbar": {
             "outlinewidth": 0,
             "ticks": ""
            },
            "colorscale": [
             [
              0,
              "#0d0887"
             ],
             [
              0.1111111111111111,
              "#46039f"
             ],
             [
              0.2222222222222222,
              "#7201a8"
             ],
             [
              0.3333333333333333,
              "#9c179e"
             ],
             [
              0.4444444444444444,
              "#bd3786"
             ],
             [
              0.5555555555555556,
              "#d8576b"
             ],
             [
              0.6666666666666666,
              "#ed7953"
             ],
             [
              0.7777777777777778,
              "#fb9f3a"
             ],
             [
              0.8888888888888888,
              "#fdca26"
             ],
             [
              1,
              "#f0f921"
             ]
            ],
            "type": "histogram2d"
           }
          ],
          "histogram2dcontour": [
           {
            "colorbar": {
             "outlinewidth": 0,
             "ticks": ""
            },
            "colorscale": [
             [
              0,
              "#0d0887"
             ],
             [
              0.1111111111111111,
              "#46039f"
             ],
             [
              0.2222222222222222,
              "#7201a8"
             ],
             [
              0.3333333333333333,
              "#9c179e"
             ],
             [
              0.4444444444444444,
              "#bd3786"
             ],
             [
              0.5555555555555556,
              "#d8576b"
             ],
             [
              0.6666666666666666,
              "#ed7953"
             ],
             [
              0.7777777777777778,
              "#fb9f3a"
             ],
             [
              0.8888888888888888,
              "#fdca26"
             ],
             [
              1,
              "#f0f921"
             ]
            ],
            "type": "histogram2dcontour"
           }
          ],
          "mesh3d": [
           {
            "colorbar": {
             "outlinewidth": 0,
             "ticks": ""
            },
            "type": "mesh3d"
           }
          ],
          "parcoords": [
           {
            "line": {
             "colorbar": {
              "outlinewidth": 0,
              "ticks": ""
             }
            },
            "type": "parcoords"
           }
          ],
          "pie": [
           {
            "automargin": true,
            "type": "pie"
           }
          ],
          "scatter": [
           {
            "marker": {
             "colorbar": {
              "outlinewidth": 0,
              "ticks": ""
             }
            },
            "type": "scatter"
           }
          ],
          "scatter3d": [
           {
            "line": {
             "colorbar": {
              "outlinewidth": 0,
              "ticks": ""
             }
            },
            "marker": {
             "colorbar": {
              "outlinewidth": 0,
              "ticks": ""
             }
            },
            "type": "scatter3d"
           }
          ],
          "scattercarpet": [
           {
            "marker": {
             "colorbar": {
              "outlinewidth": 0,
              "ticks": ""
             }
            },
            "type": "scattercarpet"
           }
          ],
          "scattergeo": [
           {
            "marker": {
             "colorbar": {
              "outlinewidth": 0,
              "ticks": ""
             }
            },
            "type": "scattergeo"
           }
          ],
          "scattergl": [
           {
            "marker": {
             "colorbar": {
              "outlinewidth": 0,
              "ticks": ""
             }
            },
            "type": "scattergl"
           }
          ],
          "scattermapbox": [
           {
            "marker": {
             "colorbar": {
              "outlinewidth": 0,
              "ticks": ""
             }
            },
            "type": "scattermapbox"
           }
          ],
          "scatterpolar": [
           {
            "marker": {
             "colorbar": {
              "outlinewidth": 0,
              "ticks": ""
             }
            },
            "type": "scatterpolar"
           }
          ],
          "scatterpolargl": [
           {
            "marker": {
             "colorbar": {
              "outlinewidth": 0,
              "ticks": ""
             }
            },
            "type": "scatterpolargl"
           }
          ],
          "scatterternary": [
           {
            "marker": {
             "colorbar": {
              "outlinewidth": 0,
              "ticks": ""
             }
            },
            "type": "scatterternary"
           }
          ],
          "surface": [
           {
            "colorbar": {
             "outlinewidth": 0,
             "ticks": ""
            },
            "colorscale": [
             [
              0,
              "#0d0887"
             ],
             [
              0.1111111111111111,
              "#46039f"
             ],
             [
              0.2222222222222222,
              "#7201a8"
             ],
             [
              0.3333333333333333,
              "#9c179e"
             ],
             [
              0.4444444444444444,
              "#bd3786"
             ],
             [
              0.5555555555555556,
              "#d8576b"
             ],
             [
              0.6666666666666666,
              "#ed7953"
             ],
             [
              0.7777777777777778,
              "#fb9f3a"
             ],
             [
              0.8888888888888888,
              "#fdca26"
             ],
             [
              1,
              "#f0f921"
             ]
            ],
            "type": "surface"
           }
          ],
          "table": [
           {
            "cells": {
             "fill": {
              "color": "#EBF0F8"
             },
             "line": {
              "color": "white"
             }
            },
            "header": {
             "fill": {
              "color": "#C8D4E3"
             },
             "line": {
              "color": "white"
             }
            },
            "type": "table"
           }
          ]
         },
         "layout": {
          "annotationdefaults": {
           "arrowcolor": "#2a3f5f",
           "arrowhead": 0,
           "arrowwidth": 1
          },
          "autotypenumbers": "strict",
          "coloraxis": {
           "colorbar": {
            "outlinewidth": 0,
            "ticks": ""
           }
          },
          "colorscale": {
           "diverging": [
            [
             0,
             "#8e0152"
            ],
            [
             0.1,
             "#c51b7d"
            ],
            [
             0.2,
             "#de77ae"
            ],
            [
             0.3,
             "#f1b6da"
            ],
            [
             0.4,
             "#fde0ef"
            ],
            [
             0.5,
             "#f7f7f7"
            ],
            [
             0.6,
             "#e6f5d0"
            ],
            [
             0.7,
             "#b8e186"
            ],
            [
             0.8,
             "#7fbc41"
            ],
            [
             0.9,
             "#4d9221"
            ],
            [
             1,
             "#276419"
            ]
           ],
           "sequential": [
            [
             0,
             "#0d0887"
            ],
            [
             0.1111111111111111,
             "#46039f"
            ],
            [
             0.2222222222222222,
             "#7201a8"
            ],
            [
             0.3333333333333333,
             "#9c179e"
            ],
            [
             0.4444444444444444,
             "#bd3786"
            ],
            [
             0.5555555555555556,
             "#d8576b"
            ],
            [
             0.6666666666666666,
             "#ed7953"
            ],
            [
             0.7777777777777778,
             "#fb9f3a"
            ],
            [
             0.8888888888888888,
             "#fdca26"
            ],
            [
             1,
             "#f0f921"
            ]
           ],
           "sequentialminus": [
            [
             0,
             "#0d0887"
            ],
            [
             0.1111111111111111,
             "#46039f"
            ],
            [
             0.2222222222222222,
             "#7201a8"
            ],
            [
             0.3333333333333333,
             "#9c179e"
            ],
            [
             0.4444444444444444,
             "#bd3786"
            ],
            [
             0.5555555555555556,
             "#d8576b"
            ],
            [
             0.6666666666666666,
             "#ed7953"
            ],
            [
             0.7777777777777778,
             "#fb9f3a"
            ],
            [
             0.8888888888888888,
             "#fdca26"
            ],
            [
             1,
             "#f0f921"
            ]
           ]
          },
          "colorway": [
           "#636efa",
           "#EF553B",
           "#00cc96",
           "#ab63fa",
           "#FFA15A",
           "#19d3f3",
           "#FF6692",
           "#B6E880",
           "#FF97FF",
           "#FECB52"
          ],
          "font": {
           "color": "#2a3f5f"
          },
          "geo": {
           "bgcolor": "white",
           "lakecolor": "white",
           "landcolor": "#E5ECF6",
           "showlakes": true,
           "showland": true,
           "subunitcolor": "white"
          },
          "hoverlabel": {
           "align": "left"
          },
          "hovermode": "closest",
          "mapbox": {
           "style": "light"
          },
          "paper_bgcolor": "white",
          "plot_bgcolor": "#E5ECF6",
          "polar": {
           "angularaxis": {
            "gridcolor": "white",
            "linecolor": "white",
            "ticks": ""
           },
           "bgcolor": "#E5ECF6",
           "radialaxis": {
            "gridcolor": "white",
            "linecolor": "white",
            "ticks": ""
           }
          },
          "scene": {
           "xaxis": {
            "backgroundcolor": "#E5ECF6",
            "gridcolor": "white",
            "gridwidth": 2,
            "linecolor": "white",
            "showbackground": true,
            "ticks": "",
            "zerolinecolor": "white"
           },
           "yaxis": {
            "backgroundcolor": "#E5ECF6",
            "gridcolor": "white",
            "gridwidth": 2,
            "linecolor": "white",
            "showbackground": true,
            "ticks": "",
            "zerolinecolor": "white"
           },
           "zaxis": {
            "backgroundcolor": "#E5ECF6",
            "gridcolor": "white",
            "gridwidth": 2,
            "linecolor": "white",
            "showbackground": true,
            "ticks": "",
            "zerolinecolor": "white"
           }
          },
          "shapedefaults": {
           "line": {
            "color": "#2a3f5f"
           }
          },
          "ternary": {
           "aaxis": {
            "gridcolor": "white",
            "linecolor": "white",
            "ticks": ""
           },
           "baxis": {
            "gridcolor": "white",
            "linecolor": "white",
            "ticks": ""
           },
           "bgcolor": "#E5ECF6",
           "caxis": {
            "gridcolor": "white",
            "linecolor": "white",
            "ticks": ""
           }
          },
          "title": {
           "x": 0.05
          },
          "xaxis": {
           "automargin": true,
           "gridcolor": "white",
           "linecolor": "white",
           "ticks": "",
           "title": {
            "standoff": 15
           },
           "zerolinecolor": "white",
           "zerolinewidth": 2
          },
          "yaxis": {
           "automargin": true,
           "gridcolor": "white",
           "linecolor": "white",
           "ticks": "",
           "title": {
            "standoff": 15
           },
           "zerolinecolor": "white",
           "zerolinewidth": 2
          }
         }
        },
        "title": {
         "text": "3d TSNE Plot for Topic Model"
        },
        "width": 900
       }
      },
      "text/html": [
       "<div>                            <div id=\"8bae629d-cae7-4666-9b89-7554876e2c1d\" class=\"plotly-graph-div\" style=\"height:800px; width:900px;\"></div>            <script type=\"text/javascript\">                require([\"plotly\"], function(Plotly) {                    window.PLOTLYENV=window.PLOTLYENV || {};                                    if (document.getElementById(\"8bae629d-cae7-4666-9b89-7554876e2c1d\")) {                    Plotly.newPlot(                        \"8bae629d-cae7-4666-9b89-7554876e2c1d\",                        [{\"hovertemplate\": \"Dominant_Topic=Topic 134<br>0=%{x}<br>1=%{y}<br>2=%{z}<extra></extra>\", \"legendgroup\": \"Topic 134\", \"marker\": {\"color\": \"#636efa\", \"opacity\": 0.7, \"symbol\": \"circle\"}, \"mode\": \"markers\", \"name\": \"Topic 134\", \"scene\": \"scene\", \"showlegend\": true, \"type\": \"scatter3d\", \"x\": [58.740211486816406, 48.39299392700195, 4.504017353057861, -4.16184139251709, 50.715946197509766, 16.788612365722656, 59.020042419433594, 35.437721252441406, 27.34693717956543, 9.118555068969727, 42.052040100097656, 47.08623504638672, -6.817824363708496, 7.233149528503418, -3.564262628555298, 30.692659378051758, 29.957698822021484, 14.691394805908203, 45.64924621582031, 4.63698148727417, 49.390716552734375, 37.98676681518555, 37.56534957885742, -4.1613030433654785, 56.997005462646484, 44.13926696777344, 38.52398681640625, 34.07369613647461, -12.305727005004883, 41.75566482543945, 36.74095916748047, 18.023208618164062, 27.04094123840332, -2.4877994060516357, 2.8527708053588867, 63.23402404785156, 30.336170196533203, 25.52077865600586, 71.20447540283203, 57.653167724609375, 24.602802276611328, 51.08921813964844, -5.739830493927002, 47.90955352783203, -0.11472918093204498, 37.97373962402344, 23.047025680541992, -8.547489166259766, 59.990562438964844, 18.57053565979004, 55.74141311645508, 70.03362274169922, 2.3222267627716064, 26.31923484802246, 1.0899600982666016, -10.194133758544922, -9.280684471130371, 4.223960876464844, -11.402116775512695, 32.18745803833008, 5.12680721282959, 11.300262451171875, 3.500713586807251, 15.185614585876465, 26.197975158691406, 63.484745025634766, 46.327152252197266, 43.5767707824707, 54.228694915771484, 57.258575439453125, 19.717119216918945, 25.494159698486328, 15.361395835876465, -7.155478000640869, 38.470638275146484, 27.34709358215332, 22.16503143310547, 30.689184188842773, 54.21320724487305, 40.31117630004883, 13.70094108581543, 3.0212221145629883, -10.41380500793457, -13.762612342834473, 57.258575439453125, -13.412175178527832, 10.323726654052734, 31.42608642578125, 27.34709358215332, 33.9415397644043, 66.81974792480469, 57.258575439453125, 48.07337951660156, 28.792367935180664, 13.532630920410156, -5.0297417640686035, 7.433720111846924, 32.39375305175781, 24.98919105529785, 62.56707000732422, 63.00035095214844, 36.42425537109375, 43.67816162109375, 63.0554084777832, 57.258575439453125, 13.532630920410156, 70.30133819580078, 1.6000393629074097, -5.372066974639893, 33.24898910522461, 36.81669235229492, -2.3577358722686768, 2.3015904426574707, 13.270455360412598, 50.70269775390625, 56.35686492919922, 27.567649841308594, 30.226144790649414, 40.488380432128906, 44.043556213378906, 45.216896057128906, -1.7668956518173218, 37.09820556640625, 44.178001403808594, 10.188800811767578, 27.987592697143555, 16.903573989868164, -12.061637878417969, -5.819308757781982, 47.1224479675293, 25.972070693969727, 15.138045310974121, 67.06471252441406, -12.119074821472168, 50.41295623779297, 56.014774322509766, 19.630634307861328, 13.532630920410156, 30.545473098754883, 57.29452133178711, 8.270803451538086, 39.46599197387695, 48.198280334472656, 55.25754165649414, 25.096834182739258, 4.320646286010742, 1.2708618640899658, 30.05775260925293, 39.476600646972656, 38.21628189086914, 27.2020263671875, 5.494859218597412, 45.61346435546875, 39.202186584472656, 61.206912994384766, 42.818721771240234, 56.4735107421875, 62.241783142089844, 71.33283996582031, 58.335235595703125, 7.285671710968018, 70.94296264648438, -2.1785695552825928, 0.7649440169334412, 26.197975158691406, 23.29547882080078, 55.567970275878906, 17.298250198364258, 57.258575439453125, 27.34709358215332, 23.495403289794922, 36.64229202270508, 29.090486526489258, 11.174565315246582, 21.003719329833984, 6.217804431915283, 26.197975158691406, -4.044364929199219, 35.331417083740234, 40.20001220703125, 46.31692886352539, 42.159088134765625, -0.6441335082054138, 25.75920867919922, 18.65224838256836, 33.282623291015625, 36.23480987548828, 0.5663883090019226, 63.064697265625, 32.195594787597656, 56.087745666503906, 42.68406295776367, 21.21104621887207, 45.930572509765625, 41.950897216796875, 20.714752197265625, 31.663854598999023, 52.945533752441406, 68.12535095214844, 23.127439498901367, -3.587006092071533, 21.69727897644043, 34.27117156982422, 0.12767790257930756, 13.532630920410156, 44.77747344970703, 67.88005065917969, 45.08364486694336, 23.495403289794922, 9.131175994873047, 48.72068786621094, 28.332956314086914, -3.615323305130005, 1.9093303680419922, 27.34709358215332, 2.3675177097320557, 7.942341327667236, -5.010162353515625, -17.818824768066406, 0.9086339473724365, 57.258575439453125, 50.715946197509766, 31.011167526245117, 26.272634506225586, 68.63497924804688, 39.472537994384766, 5.612277030944824, 54.747032165527344, 63.39232635498047, 70.52864074707031, 63.93891143798828, 12.42057991027832, 33.6910285949707, 37.82600402832031, 33.70977020263672, 48.42180252075195, 44.178001403808594, -9.605006217956543, -10.527782440185547, 63.69784927368164, 23.050575256347656, 57.258575439453125, 39.3680305480957, 0.674812376499176, 1.9093303680419922, -5.342455863952637, 20.551403045654297, 42.98627853393555, 18.58719825744629, -7.007311820983887, 22.166500091552734, 23.515676498413086, 26.843463897705078, 60.87969970703125, 40.89863586425781, 9.509238243103027, 9.969892501831055, 26.076858520507812, -3.962134838104248, 22.429521560668945, 35.20700454711914, 21.781932830810547, 34.9640007019043, 28.783859252929688, 43.303165435791016, 50.715946197509766, 9.569214820861816, 2.1293370723724365, 20.37000274658203, 15.84481430053711, 19.62796401977539, 26.197975158691406, 48.1528434753418, 63.95780563354492, 57.258575439453125, 46.488983154296875, 31.19291877746582, 19.022586822509766, 37.16178512573242, 5.908344268798828, 32.10478210449219, 8.44843864440918, 18.57921028137207, 18.655981063842773, 22.697288513183594, 59.33005905151367, -2.200054883956909, 29.902536392211914, 66.40424346923828, 27.34709358215332, 28.299774169921875, -9.26811695098877, 28.750303268432617, -7.208807945251465, 57.258575439453125, 15.228554725646973, 9.982872009277344, 27.34709358215332, 21.61124038696289, 57.258575439453125, 39.390594482421875, 27.34709358215332, 18.913284301757812, 53.89833450317383, 22.30800437927246, 18.44609832763672, -4.175697326660156, -16.042917251586914, 35.99360656738281, 52.52431869506836, 52.82447814941406, 39.688907623291016, -2.9340879917144775, 29.48463249206543, 27.534887313842773, 4.751423358917236, 66.53245544433594, 52.03480529785156, 46.719879150390625, 4.033844470977783, 47.64704132080078, 12.094887733459473, 49.354732513427734, 32.967552185058594, 13.532630920410156, 28.24224853515625], \"y\": [10.28974723815918, 14.005059242248535, -19.903902053833008, -4.428554058074951, 9.451644897460938, -12.73688793182373, -5.157461643218994, 5.6360273361206055, 35.897335052490234, 32.30775451660156, 31.40394401550293, 6.965849876403809, -10.441452980041504, -10.53531551361084, -4.329815864562988, -1.4467127323150635, 18.2913875579834, -1.4739625453948975, 12.353277206420898, -7.090423583984375, 15.496326446533203, 23.598005294799805, -1.0705788135528564, -12.999821662902832, -5.4927215576171875, 16.53323745727539, 19.536352157592773, -13.807494163513184, -14.142424583435059, 21.795751571655273, 10.269550323486328, 31.574934005737305, 47.105621337890625, -11.118499755859375, -16.125368118286133, 11.379108428955078, 27.791973114013672, 0.3496148884296417, 3.3710405826568604, 10.149850845336914, -8.509592056274414, 3.697152853012085, -10.036298751831055, 7.5749101638793945, 3.9916396141052246, 44.67667007446289, 11.098322868347168, -11.45095157623291, 3.9178338050842285, 2.1406772136688232, 26.68229866027832, 26.839998245239258, -27.54185676574707, -9.395689964294434, -11.917055130004883, -18.09752655029297, -5.106717109680176, -19.374061584472656, -3.789280891418457, -9.633805274963379, -18.77266502380371, 18.41290855407715, 0.18585330247879028, -21.58981704711914, 21.797950744628906, 19.7490234375, -0.8747619390487671, -1.8842260837554932, 14.634056091308594, 31.135753631591797, -16.39311981201172, -14.582762718200684, -16.415225982666016, -24.91765785217285, 11.928001403808594, 40.42979431152344, -6.796036720275879, -6.199895858764648, 16.486316680908203, 32.90140151977539, 28.374954223632812, -6.063395023345947, -9.709993362426758, -18.250520706176758, 31.135753631591797, -11.542637825012207, -2.2741971015930176, 13.29589557647705, 40.42979431152344, 48.126731872558594, -0.525155782699585, 31.135753631591797, 1.1638795137405396, -19.358623504638672, 42.558433532714844, -9.114445686340332, 3.3898026943206787, 11.711775779724121, -13.718789100646973, 28.637142181396484, 18.583951950073242, 12.530351638793945, 1.314690113067627, 28.326732635498047, 31.135753631591797, 42.558433532714844, 31.43483543395996, -9.44210433959961, -20.548585891723633, -9.361381530761719, 24.653915405273438, -19.83378028869629, -12.641949653625488, 12.000543594360352, 34.52973556518555, 18.920604705810547, -16.254962921142578, 25.051334381103516, 9.823122024536133, 15.654228210449219, 41.55369186401367, -19.870750427246094, 34.804622650146484, -10.915465354919434, -11.15063762664795, 2.9068892002105713, 42.028953552246094, -18.917787551879883, -16.52947998046875, 43.57157516479492, 40.426822662353516, 20.87189292907715, 35.047325134277344, -0.47273746132850647, 2.2503225803375244, 31.309829711914062, 25.99432945251465, 42.558433532714844, 17.059656143188477, 1.9206433296203613, -25.8822021484375, 15.144888877868652, 24.986011505126953, 10.378117561340332, -17.29559898376465, -17.944286346435547, -14.601052284240723, -25.848424911499023, 8.771571159362793, 11.901676177978516, 0.19051571190357208, 31.155426025390625, 4.583255767822266, 18.67983055114746, 17.43598747253418, 33.05684280395508, 21.46139907836914, 1.8709009885787964, 13.054410934448242, 34.96126937866211, -5.349671363830566, 21.43132781982422, -28.597375869750977, -21.622589111328125, 21.797950744628906, -8.39021110534668, -2.927417516708374, 10.345602989196777, 31.135753631591797, 40.42979431152344, 0.23732271790504456, 6.020694732666016, -26.164642333984375, 22.66853904724121, 18.925939559936523, -24.096033096313477, 21.797950744628906, -0.6590916514396667, 37.544960021972656, 1.230839490890503, 21.87578773498535, -5.814087390899658, -24.57749366760254, 8.34465217590332, 33.48955535888672, 27.564342498779297, -27.41567611694336, -30.357088088989258, 36.652809143066406, -3.848233938217163, 16.83247947692871, 6.939553737640381, 16.730398178100586, 26.499074935913086, 3.2716736793518066, 21.131629943847656, 6.111152172088623, -2.2313315868377686, 13.062999725341797, 25.515615463256836, 3.3624420166015625, -0.3764050602912903, -0.8374906182289124, -16.96439552307129, 42.558433532714844, 54.022884368896484, -0.9993115663528442, 14.25340747833252, 0.23732271790504456, -22.389379501342773, 5.323461055755615, 23.86201286315918, -17.469945907592773, 19.22684669494629, 40.42979431152344, -6.3872528076171875, -25.416175842285156, -16.196426391601562, -8.165493965148926, -10.596719741821289, 31.135753631591797, 9.451644897460938, 37.01398849487305, -18.100418090820312, 8.02191162109375, 13.783313751220703, -15.175531387329102, 3.206094264984131, 29.56085968017578, 16.71169662475586, 16.325294494628906, -19.98464012145996, 33.22037887573242, -7.472144603729248, -16.476364135742188, 10.5189208984375, -10.915465354919434, -16.5026798248291, -2.5694727897644043, 9.42599868774414, -22.561599731445312, 31.135753631591797, 22.35185432434082, -3.73724627494812, 19.22684669494629, -32.37776184082031, 32.370933532714844, 14.970812797546387, 25.046979904174805, -17.546125411987305, 13.117104530334473, 33.19481658935547, 8.871500968933105, 1.9023854732513428, 31.12862777709961, 28.498443603515625, 17.062280654907227, -22.866552352905273, -24.161745071411133, 14.255507469177246, 48.705543518066406, -3.4892454147338867, -21.04717445373535, 6.7512593269348145, 31.01480484008789, 9.451644897460938, -3.611051321029663, -1.8550134897232056, -20.660921096801758, -7.9402360916137695, -22.176105499267578, 21.797950744628906, -4.041595935821533, 19.587846755981445, 31.135753631591797, 20.65540313720703, 15.007648468017578, -26.661964416503906, 24.82124900817871, -25.215438842773438, -10.817689895629883, -11.03569221496582, -10.618265151977539, -12.028119087219238, -0.4242475628852844, 13.098834037780762, -3.5864498615264893, -8.10099983215332, -5.797456741333008, 40.42979431152344, 30.341848373413086, -24.996850967407227, 20.171302795410156, -25.498979568481445, 31.135753631591797, 8.684538841247559, -17.812719345092773, 40.42979431152344, -6.012960433959961, 31.135753631591797, 4.545956611633301, 40.42979431152344, -16.30808448791504, 2.8984649181365967, -20.41899299621582, 3.5239651203155518, -11.020748138427734, -10.458236694335938, -20.538301467895508, 17.748676300048828, 25.496034622192383, 41.39040756225586, 1.2009780406951904, -21.182964324951172, 27.253297805786133, -1.9506316184997559, 8.942525863647461, 2.519235372543335, 9.288361549377441, -31.292709350585938, 38.526527404785156, 10.737272262573242, -5.293933391571045, 16.11194610595703, 42.558433532714844, 42.68111038208008], \"z\": [16.171918869018555, -24.28619384765625, 38.61957931518555, -49.466373443603516, -67.15339660644531, 10.330951690673828, 22.221824645996094, -35.71628189086914, -49.55632400512695, -49.08025360107422, -45.06290054321289, 24.05813217163086, 24.77442741394043, -57.074546813964844, -75.49242401123047, 2.259044885635376, -52.42036819458008, 11.201850891113281, -47.05283737182617, -26.732667922973633, 29.73715591430664, -29.478410720825195, -16.218276977539062, -35.81587600708008, 31.563404083251953, -57.25177001953125, -48.51487731933594, 13.439178466796875, -40.83415222167969, -67.24705505371094, -53.51416778564453, -55.17938995361328, -47.98204040527344, 15.423304557800293, -41.67232131958008, -9.810131072998047, -24.171676635742188, -33.10683059692383, 28.33702850341797, 34.39463424682617, 0.7456626892089844, -43.68827438354492, -57.08907699584961, 33.777015686035156, -25.787567138671875, -50.29018020629883, -28.27046775817871, -75.53121948242188, 21.830307006835938, -42.246986389160156, -11.652878761291504, -12.614250183105469, 42.643653869628906, -9.78307056427002, -77.7585678100586, -57.544822692871094, -40.21946716308594, -50.06071090698242, -71.16276550292969, -28.56481170654297, 4.357512474060059, -35.72896957397461, -31.453916549682617, -12.673114776611328, -13.255999565124512, -6.474010467529297, 31.55047035217285, -36.06818389892578, -40.62666702270508, -41.9935302734375, -21.14015007019043, 6.614368438720703, -31.061840057373047, 36.66728591918945, 3.574209690093994, -63.69670867919922, 8.905858993530273, 16.272449493408203, -52.160240173339844, -23.634618759155273, -28.993453979492188, -69.6324691772461, -49.55610656738281, -48.90098571777344, -41.9935302734375, -67.86892700195312, -29.264305114746094, -75.57500457763672, -63.69670867919922, -38.28095245361328, 36.79808044433594, -41.9935302734375, 51.19111633300781, -36.0777702331543, -34.696834564208984, -67.42488098144531, -24.657283782958984, -44.89801788330078, 15.034646987915039, -16.779396057128906, -14.889324188232422, -3.3707997798919678, 16.5894775390625, -8.22510814666748, -41.9935302734375, -34.696834564208984, -5.097902774810791, 23.03321075439453, -42.79146194458008, -0.9681312441825867, -39.17817687988281, -78.27300262451172, 31.013851165771484, -56.25767135620117, -28.352930068969727, -30.30817413330078, -2.216031074523926, -67.8216552734375, 29.23992347717285, 22.544513702392578, -40.90145492553711, 13.396276473999023, -53.882591247558594, -59.156673431396484, 24.184412002563477, -47.32825469970703, -50.4867057800293, 24.762344360351562, 31.41648292541504, -22.00384521484375, -39.537635803222656, -45.59386444091797, -12.614703178405762, -47.780799865722656, 7.905801296234131, -4.3037519454956055, -37.46678161621094, -34.696834564208984, -24.48152732849121, 37.56434631347656, 25.99386978149414, -39.30213165283203, -24.227800369262695, 24.516572952270508, 25.77312469482422, 23.033649444580078, -68.9327392578125, -39.97361755371094, 19.208724975585938, -18.859970092773438, 10.86706829071045, -61.60858154296875, -54.50102615356445, 0.12728384137153625, 30.423139572143555, -63.092010498046875, -1.994879961013794, 29.88081932067871, 27.97301483154297, -12.11637020111084, 15.66620922088623, -2.939117908477783, 13.307536125183105, 29.625350952148438, -13.255999565124512, -52.20869827270508, -54.778099060058594, -18.916601181030273, -41.9935302734375, -63.69670867919922, -66.0277099609375, -63.56850814819336, -31.954002380371094, -55.19930648803711, -55.683170318603516, 15.851177215576172, -13.255999565124512, -67.37496948242188, -42.052001953125, 25.349275588989258, -43.502315521240234, -46.385433197021484, 21.406932830810547, -38.73131561279297, -43.88385009765625, -48.3077507019043, -35.171722412109375, 29.48719024658203, -5.011694431304932, -40.856563568115234, -9.645256042480469, -2.0986616611480713, -37.27755355834961, -52.84638214111328, -26.904115676879883, -26.758825302124023, -26.006290435791016, 54.4565315246582, -2.5378894805908203, -48.10824966430664, -52.87482452392578, 3.0918943881988525, -54.469749450683594, -58.08082962036133, -34.696834564208984, -44.30950164794922, 20.783405303955078, 1.7454774379730225, -66.0277099609375, -1.601231336593628, -15.89057731628418, -32.98727035522461, 22.27825164794922, -46.042449951171875, -63.69670867919922, -41.492740631103516, 36.401893615722656, -50.33433151245117, -45.9937744140625, -51.03725814819336, -41.9935302734375, -67.15339660644531, -19.808937072753906, -26.08502197265625, 19.314929962158203, -29.187923431396484, 15.265124320983887, -28.67443084716797, 0.0329185388982296, -10.530905723571777, 21.28124237060547, 20.60670280456543, -32.551429748535156, 7.084242343902588, 4.662962436676025, 15.534398078918457, -59.156673431396484, 15.851949691772461, -56.66120147705078, 27.16878890991211, 27.876293182373047, -41.9935302734375, -18.997699737548828, -57.550716400146484, -46.042449951171875, 21.860692977905273, -21.509183883666992, -5.219254970550537, -64.51997375488281, -69.12586212158203, -47.22604751586914, -31.39797019958496, -56.27427673339844, 13.997483253479004, -10.96508502960205, -39.22514343261719, -24.91061019897461, 3.2490592002868652, -52.54749298095703, -65.18948364257812, -20.402267456054688, -7.478454113006592, -31.048564910888672, -13.366537094116211, -34.87009811401367, -67.15339660644531, -21.370140075683594, -20.92318344116211, 10.238982200622559, 2.5597431659698486, -23.105751037597656, -13.255999565124512, 23.008968353271484, 2.213810682296753, -41.9935302734375, -33.817108154296875, -34.248497009277344, -12.334967613220215, -57.781532287597656, 5.04481840133667, -23.318008422851562, -47.459571838378906, -7.885776519775391, -29.7072696685791, -21.699983596801758, -2.076342821121216, -27.29241180419922, 7.86716365814209, 28.54191017150879, -63.69670867919922, -40.49246597290039, 17.981325149536133, -42.485862731933594, 27.295351028442383, -41.9935302734375, -34.19596862792969, 29.970993041992188, -63.69670867919922, 17.340686798095703, -41.9935302734375, -44.79320526123047, -63.69670867919922, 1.5797183513641357, 27.533710479736328, -12.886883735656738, -52.982418060302734, -44.022315979003906, -55.953582763671875, -38.96348190307617, 20.11615562438965, -60.41422653198242, -31.37741470336914, -43.00654220581055, 11.873847961425781, -57.3312873840332, -49.42060852050781, 35.8532829284668, 18.06843376159668, -35.31431198120117, 20.731029510498047, -53.303462982177734, -44.64900207519531, 49.64695358276367, -62.12431335449219, -34.696834564208984, -29.134754180908203]}, {\"hovertemplate\": \"Dominant_Topic=Topic 164<br>0=%{x}<br>1=%{y}<br>2=%{z}<extra></extra>\", \"legendgroup\": \"Topic 164\", \"marker\": {\"color\": \"#EF553B\", \"opacity\": 0.7, \"symbol\": \"circle\"}, \"mode\": \"markers\", \"name\": \"Topic 164\", \"scene\": \"scene\", \"showlegend\": true, \"type\": \"scatter3d\", \"x\": [-27.708864212036133, -37.812313079833984, 6.514233112335205, 4.255621910095215, -3.3378055095672607, -10.851500511169434, -23.486400604248047, -31.925731658935547, -39.19320297241211, -37.13315963745117, 20.469575881958008, -32.44337463378906, -36.00416946411133, -12.239387512207031, -21.970111846923828, 25.115116119384766, -19.93792724609375, -8.334178924560547, -32.89785385131836, -32.46662521362305, -45.796207427978516, -11.358468055725098, -30.651058197021484, -23.226350784301758, -20.787504196166992, -11.654553413391113, -14.397783279418945, 6.95888614654541, -10.930181503295898, -13.613639831542969, -7.456486701965332, 11.82764720916748, -2.966006278991699, -21.204809188842773, -29.705732345581055, -16.91803550720215, -13.263959884643555, -22.32120704650879, -7.994179725646973, -15.149691581726074, -26.880638122558594, -11.354458808898926, -20.470109939575195, -8.021036148071289, -31.216283798217773, -24.97270393371582, -21.749820709228516, 11.159690856933594, 3.343888521194458, -38.22553253173828, -35.381507873535156, -17.99573516845703, -3.987961769104004, -24.694074630737305, -38.174198150634766, -28.580787658691406, -4.28762149810791, -2.7949399948120117, -37.838897705078125, -30.929899215698242, -7.077310562133789, -8.233882904052734, -45.863868713378906, -15.964128494262695, -4.845143795013428, -15.023473739624023, -16.740249633789062, -28.991350173950195, -32.86885070800781, -37.68024826049805, 0.7665703296661377, -39.82978820800781, -31.723987579345703, -10.782241821289062, -34.46467208862305, -1.725310206413269, -15.452364921569824, -22.4495906829834, 5.614718437194824, -38.75310134887695, -17.937406539916992, -8.10860824584961, -17.473052978515625, 1.7136844396591187, -34.126461029052734, 0.08840849995613098, -39.18009567260742, 11.159690856933594, -13.308382987976074, -7.300136089324951, 4.875402450561523, -16.805557250976562, 6.073836803436279, 9.686370849609375, -8.042570114135742, -30.537368774414062, -12.6495943069458, -42.471343994140625, -27.667055130004883, -21.236217498779297, -16.392549514770508, -17.30325698852539, 14.360391616821289, -3.2078211307525635, -1.2060091495513916, -4.739619255065918, -7.022848606109619, -9.187427520751953, -16.802383422851562, -33.4078369140625, -39.84865188598633, -10.539234161376953, -36.599266052246094, -7.618639945983887, -17.553438186645508, -13.630847930908203, 25.499176025390625, -33.74598693847656, -44.05234146118164, -24.89707374572754, -31.62845230102539, 2.296682119369507, -3.790112257003784], \"y\": [-62.0826301574707, -27.59335708618164, -56.44704055786133, -60.14293670654297, -67.01690673828125, -58.97236633300781, -36.440216064453125, -22.808809280395508, -66.22570037841797, -25.07002830505371, -33.00121307373047, -27.370521545410156, -34.89387130737305, -45.017677307128906, -54.215919494628906, -28.668516159057617, -70.43850708007812, -43.35293197631836, -45.12625503540039, -26.892244338989258, -71.95824432373047, -64.67847442626953, -34.71106719970703, -65.52397918701172, -62.026065826416016, -55.199642181396484, -50.701995849609375, -29.434831619262695, -40.64453125, -29.27677345275879, -62.80572509765625, -34.42082977294922, -59.30512237548828, -30.316293716430664, -80.08964538574219, -49.22650146484375, -65.26683807373047, -58.25054168701172, -23.270387649536133, -50.66831970214844, -47.18927764892578, -31.198558807373047, -31.038217544555664, -48.289878845214844, -71.39988708496094, -46.64204788208008, -54.41743469238281, -33.64094543457031, -46.45687484741211, -71.72132110595703, -68.99559020996094, -27.656530380249023, -49.4887580871582, -47.02495574951172, -75.1155776977539, -55.137908935546875, -29.772640228271484, -61.79115676879883, -32.78759765625, -19.200393676757812, -48.11042785644531, -73.83055877685547, -78.93592834472656, -32.777034759521484, -38.661163330078125, -69.33622741699219, -36.06072998046875, -38.53020477294922, -52.9339714050293, -83.31869506835938, -41.98624801635742, -77.53286743164062, -56.49409484863281, -29.513078689575195, -45.02146530151367, -70.87881469726562, -41.7899055480957, -45.486358642578125, -39.59722137451172, -20.731008529663086, -38.14369201660156, -55.17833709716797, -39.94490432739258, -52.113609313964844, -79.07344055175781, -40.87615203857422, -23.27186393737793, -33.64094543457031, -33.27187728881836, -33.586708068847656, -49.50589370727539, -44.578834533691406, -33.41563034057617, -35.715118408203125, -37.160213470458984, -29.338233947753906, -56.8194580078125, -79.99017333984375, -23.345396041870117, -59.386993408203125, -23.71993064880371, -37.969879150390625, -28.20602035522461, -36.10384750366211, -56.18920135498047, -53.40355682373047, -43.337989807128906, -36.55450439453125, -60.871253967285156, -29.385292053222656, -28.69127655029297, -22.7987060546875, -28.117219924926758, -36.14369201660156, -52.027854919433594, -70.79582214355469, -32.40199279785156, -17.496042251586914, -70.4542007446289, -38.32035827636719, -76.3813705444336, -68.03482055664062, -28.232507705688477], \"z\": [-39.73551559448242, -18.89699363708496, -33.73075866699219, -44.64464569091797, -26.71788215637207, -24.210201263427734, -28.8321533203125, -58.0280876159668, -28.477924346923828, -38.39555740356445, 34.61056137084961, -13.38659381866455, -20.53085708618164, -33.43836975097656, -36.68976974487305, 35.82293701171875, -37.63493347167969, -42.289451599121094, -30.71761703491211, -46.280208587646484, -30.518030166625977, -33.77069091796875, -15.05963134765625, -48.875850677490234, -30.827823638916016, -34.10910415649414, -41.64125061035156, -35.501670837402344, -9.34462833404541, -1.2809967994689941, -43.379878997802734, -32.76139450073242, -35.44321823120117, -37.493011474609375, -27.09942054748535, -57.876731872558594, -55.7681770324707, -57.43853759765625, -6.105879306793213, -17.747802734375, -54.16132736206055, -9.337030410766602, -7.17287540435791, -50.94993209838867, -28.835805892944336, -22.431955337524414, -47.63864517211914, -40.33934783935547, -29.1466007232666, -35.07648849487305, -21.33488655090332, -15.030779838562012, -34.80756759643555, -42.42169189453125, -26.793216705322266, -28.46828842163086, -3.2145743370056152, -53.03931427001953, -13.284527778625488, -44.89748001098633, -24.505062103271484, -36.42021560668945, -24.64544677734375, -46.40662384033203, -29.240205764770508, -24.89132308959961, -13.779566764831543, -37.98292922973633, -38.103946685791016, -25.29253387451172, -48.67160415649414, -18.5356502532959, -48.80339431762695, -19.025259017944336, -45.456214904785156, -46.769290924072266, -24.971418380737305, -32.94977569580078, -18.439613342285156, -46.90180969238281, -56.84204864501953, -59.8364372253418, -39.38845443725586, -52.67737579345703, -33.95427322387695, -38.03623962402344, -54.508968353271484, -40.33934783935547, -31.412744522094727, -39.58121109008789, -41.875205993652344, -48.56569290161133, -20.219379425048828, -15.338645935058594, -50.707611083984375, -20.588726043701172, -49.884132385253906, -32.649932861328125, -51.31356430053711, -20.53788948059082, -7.468219757080078, -4.330298900604248, -36.280094146728516, -8.555571556091309, -25.7763614654541, -43.599586486816406, -59.720027923583984, -1.8229939937591553, -41.532203674316406, -53.70985794067383, -48.555599212646484, -14.121439933776855, -32.51832962036133, -15.719589233398438, -27.72311782836914, -46.438663482666016, 30.48906707763672, -52.255496978759766, -22.01397132873535, -47.91628646850586, -20.113258361816406, -36.332183837890625, -12.633529663085938]}, {\"hovertemplate\": \"Dominant_Topic=Topic 31<br>0=%{x}<br>1=%{y}<br>2=%{z}<extra></extra>\", \"legendgroup\": \"Topic 31\", \"marker\": {\"color\": \"#00cc96\", \"opacity\": 0.7, \"symbol\": \"circle\"}, \"mode\": \"markers\", \"name\": \"Topic 31\", \"scene\": \"scene\", \"showlegend\": true, \"type\": \"scatter3d\", \"x\": [23.42970085144043, 26.85913848876953, 43.881038665771484, 32.35086441040039, 37.93601989746094, 31.387897491455078, 33.384883880615234, 35.21798324584961, 28.934703826904297, 26.06808090209961, 25.505517959594727, 20.658523559570312, 42.11776351928711, 28.91057586669922, 34.34550094604492, 21.283544540405273], \"y\": [-41.62605667114258, -49.82703399658203, -38.81635665893555, -45.492958068847656, -43.897945404052734, -37.72857666015625, -51.41325759887695, -46.987266540527344, -41.34560775756836, -50.51979446411133, -36.676856994628906, -48.16829299926758, -33.34082794189453, -44.35783386230469, -38.22023391723633, -42.65216827392578], \"z\": [-41.23605728149414, -29.442352294921875, -47.53348922729492, -43.946712493896484, -37.37373352050781, -40.48538589477539, -36.76882553100586, -29.31753158569336, -26.23173713684082, -41.67547607421875, -33.88225173950195, -35.791648864746094, -46.67721176147461, -35.31086349487305, -31.97911834716797, -29.623043060302734]}, {\"hovertemplate\": \"Dominant_Topic=Topic 68<br>0=%{x}<br>1=%{y}<br>2=%{z}<extra></extra>\", \"legendgroup\": \"Topic 68\", \"marker\": {\"color\": \"#ab63fa\", \"opacity\": 0.7, \"symbol\": \"circle\"}, \"mode\": \"markers\", \"name\": \"Topic 68\", \"scene\": \"scene\", \"showlegend\": true, \"type\": \"scatter3d\", \"x\": [19.44245147705078, 23.72393226623535, 18.98162841796875, 30.46405601501465, 38.38515853881836, 16.163965225219727, 39.07777404785156, 32.75685119628906, 30.957735061645508, 20.184568405151367, 32.40555191040039, 28.8271427154541, 35.72471618652344, 18.04778289794922, 27.450016021728516, 27.462482452392578, 34.83521270751953, 6.536985397338867, 35.281463623046875, 27.76980972290039, 24.934194564819336, 27.355070114135742, 36.71053695678711, 32.39647674560547, 44.66234588623047, 15.796468734741211, 35.97456741333008, 10.494101524353027, 13.774516105651855, 17.180950164794922, 22.84095001220703, 33.008785247802734, 23.2901554107666, 22.454387664794922, 27.38299560546875, 22.195632934570312, 16.309293746948242, 16.603864669799805, 13.745339393615723, 18.812095642089844, 24.173786163330078, 19.543607711791992, 14.08021068572998, 27.027755737304688, 10.37705135345459, 32.51803970336914, 25.457406997680664, 32.5972785949707, 31.656042098999023], \"y\": [-41.36836242675781, -18.907814025878906, -28.67989158630371, -14.102887153625488, -9.575287818908691, -33.69965362548828, -15.994422912597656, -16.65713882446289, -23.21720314025879, -5.436384677886963, -42.55565643310547, -8.214262962341309, -7.280930995941162, -13.068720817565918, -3.766679286956787, -38.046913146972656, 1.5023380517959595, -31.183624267578125, -0.8040237426757812, 4.889732360839844, -12.732392311096191, -15.623478889465332, -12.296432495117188, -4.434685707092285, -3.032435417175293, -17.232990264892578, -37.9252815246582, -39.43784713745117, -38.338382720947266, -37.15937042236328, -29.49006462097168, -19.993417739868164, -6.684043884277344, -36.066017150878906, -10.031274795532227, -10.576522827148438, -29.84309959411621, -13.694066047668457, -7.758860111236572, -4.37920618057251, -18.596843719482422, 0.18609300255775452, -25.677431106567383, 0.35056301951408386, -31.39350128173828, -6.6472930908203125, 1.435146450996399, -34.370121002197266, -31.01669692993164], \"z\": [61.03339385986328, 46.14995193481445, 67.97142028808594, 51.256587982177734, 45.036617279052734, 60.903629302978516, 51.98440933227539, 42.536170959472656, 49.74518966674805, 42.7489013671875, 61.588069915771484, 45.65389633178711, 53.76842498779297, 60.38603591918945, 52.57722091674805, 67.70236206054688, 56.30825424194336, 56.88896942138672, 46.73448944091797, 50.87580871582031, 38.831417083740234, 65.05284118652344, 61.424537658691406, 63.36442947387695, 60.540306091308594, 52.073760986328125, 67.71245574951172, 62.550750732421875, 54.30088424682617, 68.48357391357422, 60.3968391418457, 58.47597122192383, 65.76617431640625, 54.85728454589844, 58.12677001953125, 50.830936431884766, 53.49464797973633, 43.42692947387695, 50.99555587768555, 57.776981353759766, 55.84751510620117, 49.874671936035156, 61.10711669921875, 42.33378601074219, 66.5981216430664, 37.73025894165039, 59.934539794921875, 60.99195098876953, 68.365478515625]}, {\"hovertemplate\": \"Dominant_Topic=Topic 72<br>0=%{x}<br>1=%{y}<br>2=%{z}<extra></extra>\", \"legendgroup\": \"Topic 72\", \"marker\": {\"color\": \"#FFA15A\", \"opacity\": 0.7, \"symbol\": \"circle\"}, \"mode\": \"markers\", \"name\": \"Topic 72\", \"scene\": \"scene\", \"showlegend\": true, \"type\": \"scatter3d\", \"x\": [87.1551513671875, -30.355270385742188, 43.57211685180664, 25.8441219329834, 51.331356048583984, -45.44807815551758, -69.50740051269531, -4.0992655754089355, 55.15502166748047, 26.427024841308594, 1.1336928606033325, -25.27688217163086, -14.323843955993652, -43.0374755859375, 55.98377990722656, -33.151390075683594, -58.17496871948242, 48.83774185180664, -64.9921875, -31.13985252380371, 6.069870471954346, -48.31196594238281, -23.862035751342773, 53.392234802246094, -71.5229263305664, -4.836198329925537, -59.28901290893555, -43.14674377441406, -42.38906478881836, 22.162582397460938, 18.280193328857422, -28.744277954101562, -41.97657775878906, -61.12441635131836, -32.377872467041016, -64.0879135131836, -29.171676635742188, -78.74524688720703, 56.83013916015625, -17.881690979003906, -60.81364822387695, -79.56505584716797, -24.508350372314453, -14.435924530029297, -3.037276029586792, -47.098609924316406, -3.8313968181610107, 17.985897064208984, -24.633041381835938, 45.1970329284668, 25.964099884033203, -31.05367660522461, -2.8452634811401367, -14.180715560913086, 15.648929595947266, 86.2579116821289, -14.623970985412598, -20.846446990966797, -74.93812561035156, 74.79297637939453, -8.882478713989258, -81.07582092285156, -27.035362243652344, -29.1138916015625, -1.3236393928527832, -70.11000061035156, -20.34119987487793, -48.644718170166016, 20.265296936035156, -64.3179931640625, -30.20380973815918, 59.15098190307617, -18.153060913085938, 7.0836381912231445, -5.118490695953369, -52.576175689697266, -26.527347564697266, -33.55570983886719, 0.3089134693145752, 21.005489349365234, -12.511049270629883, 5.231130123138428, 15.223654747009277, 44.58546447753906, 11.905750274658203, 18.82232666015625, 6.916707515716553, -65.34171295166016, 77.94340515136719, -1.873517394065857, -19.701086044311523, -23.744365692138672, -24.842369079589844, -84.07281494140625, -20.912443161010742, 27.599687576293945, -41.6814079284668, -57.00189208984375, -8.181229591369629, 27.49239730834961, -26.16326904296875, 68.67729187011719, 78.63191223144531, -73.6837158203125, -18.693679809570312, -10.71520709991455, 48.89954376220703, -3.2187013626098633, 72.864501953125, -3.055690288543701, 8.102157592773438, -24.138479232788086, -71.21709442138672, 18.827329635620117, 20.919450759887695, 45.59125518798828, -3.2737748622894287, -26.543466567993164, -57.06576919555664, 46.70259094238281, 77.7672119140625, -45.93833923339844, -52.746524810791016, 70.27487182617188, -45.71764373779297, 15.593902587890625, -96.69912719726562, 25.079891204833984, -44.6649055480957, 40.55046844482422, 0.491886168718338, -12.999733924865723, 87.13219451904297, -62.48241424560547, -48.841548919677734, -96.32035827636719, 50.36977005004883, 22.366764068603516, -8.842818260192871, -61.92249298095703, -7.477137088775635, 32.293540954589844, 76.0791015625, -70.56633758544922, -35.95708084106445, -75.13066101074219, 20.21459197998047, -17.874576568603516, -41.01173782348633, -55.39430236816406, 30.06890296936035, -56.3883171081543, -63.00104904174805, -26.916603088378906, 4.702282428741455, -31.77594566345215, 12.599085807800293, -84.80492401123047, -108.67536926269531, 2.0045058727264404, 21.93726921081543, -76.3841323852539, 13.876346588134766, 14.6753568649292, -39.602909088134766, -60.424095153808594, -52.508724212646484, 12.157186508178711, 0.5009487271308899, 17.109146118164062, 2.6112020015716553, 63.624881744384766, -41.2205924987793, -51.15319061279297, -34.276588439941406, -43.27366638183594, -66.08808898925781, -37.972415924072266, -11.989523887634277, -50.28327941894531, -11.471077919006348, 89.88863372802734, -61.43967056274414, -26.968244552612305, -32.46583557128906, 24.789121627807617, -0.08180462568998337, -77.55894470214844, -41.05504608154297, -35.2467041015625, 20.941028594970703, -77.88593292236328, -64.08097076416016, -11.686287879943848, 36.597503662109375, -1.409682273864746, -85.0085678100586, -1.417077898979187, -88.41201782226562, -2.7548630237579346, 1.2000226974487305, -51.338680267333984, -58.95234680175781, 6.43212890625, -4.8955583572387695, 33.59158706665039, -27.322111129760742, -49.088043212890625, 19.452991485595703, -0.3399394750595093, -53.4301872253418, 75.5123291015625, -57.0484504699707, 19.376800537109375, 0.6696929335594177, -63.17283630371094, 25.820293426513672, 3.558607339859009, -35.18986892700195, 19.209136962890625, -11.612829208374023, -49.009666442871094, 14.783918380737305, 27.430267333984375, -36.546627044677734, 8.736496925354004, -25.480602264404297, -49.36301803588867, -67.50407409667969, -31.147642135620117, -80.13707733154297, -12.6897554397583, -83.05582427978516, -68.39086151123047, -45.85114669799805, 38.92332458496094, -47.25788116455078, 22.729990005493164, -69.90025329589844, -21.083829879760742, -32.870479583740234, -42.677452087402344, -25.187976837158203, -2.3850433826446533, -12.328886032104492, -30.14620590209961, 7.7522358894348145, -41.08445739746094, -55.1126823425293, -49.1303825378418, -36.73033142089844, -84.18730163574219, -72.72484588623047, -49.664215087890625, -45.44819641113281, -10.29305362701416, 23.64409828186035, -40.011966705322266, -65.93125915527344, -56.05821990966797, -71.99906158447266, 65.54840087890625, 66.47016906738281, -88.46261596679688, 79.44844055175781, 69.21967315673828, -34.02935791015625, -22.794370651245117, -28.584712982177734, -13.055577278137207, -36.205509185791016, -44.82795715332031, 68.30504608154297, 82.47196197509766, 34.24855041503906, 10.648159980773926, 0.8940933346748352, -29.657934188842773, -24.637174606323242, -28.66694450378418, 48.45915985107422, -63.163333892822266, -61.7109260559082, -48.93522262573242, 2.3857712745666504, -17.62250518798828, -43.68376541137695, -42.395477294921875, 60.883087158203125, -30.663314819335938, -50.37701416015625, 11.932323455810547, 20.764522552490234, -48.963722229003906, 22.11392593383789, -11.717146873474121, -29.98490333557129, -8.25689697265625, -2.0226428508758545, 43.450321197509766, 56.46112823486328, 17.41686248779297, 2.859935998916626, -16.1844425201416, -24.33445930480957, -51.72782897949219, 14.88670825958252, -33.992061614990234, -11.052326202392578, -11.078326225280762, 1.2356531620025635, -19.516944885253906, 51.456260681152344, -19.31616973876953, 9.985847473144531, -27.363439559936523, 5.029491424560547, -2.817317008972168, 10.92759895324707, 7.847910404205322, -104.82328033447266, 81.55284118652344, -28.281208038330078, 6.915680408477783, 17.110502243041992, -4.724795341491699, 55.98377990722656, -70.82717895507812, 13.71790885925293, 8.662467956542969, -10.651800155639648, -18.726228713989258, -18.16178321838379, 76.09207153320312, 4.197972297668457, -36.75200271606445, -20.859432220458984, -50.08354568481445, -86.31000518798828, -12.604713439941406, -54.158599853515625, -17.39442253112793, -8.444583892822266, 16.38719367980957, -54.0452995300293, 2.5420007705688477, -41.32538604736328, 55.98377990722656, -31.25463104248047, -25.00847816467285, 42.49821853637695, -87.2315902709961, -60.13740539550781, 81.9767837524414, 67.4210205078125, -23.92171859741211, 51.62451934814453, -22.556007385253906, 43.7365608215332, -16.04854393005371, 33.622982025146484, -30.59709358215332, 35.76625442504883, -58.91874694824219, -100.84198760986328, 69.65885162353516, -5.254195690155029, 3.058528423309326, -40.290870666503906, 3.9026458263397217, 5.976121425628662, -41.67097091674805, -42.29774475097656, 32.210350036621094, -34.109676361083984, -20.007408142089844, 89.94415283203125, -74.3090591430664, 62.414276123046875, -37.918338775634766, 2.153081178665161, 83.43283081054688, 67.3271713256836, 20.04542350769043, -7.8705620765686035, -26.119691848754883, -36.04890823364258, 55.98377990722656, -82.54735565185547, 74.82698822021484, 28.61030387878418, -7.870257377624512, 20.65346336364746, -44.62690734863281, -58.146812438964844, -21.070323944091797, -80.98151397705078, -19.752731323242188, -17.929149627685547, -38.619144439697266, -52.44364929199219, -38.354888916015625, -21.718416213989258, -65.67581176757812, -92.31597137451172, 76.56554412841797, -47.0127067565918, 66.90260314941406, 51.58820724487305, 69.06755065917969, 21.07420539855957, -19.942758560180664, 9.667558670043945, -47.68122482299805, -9.020600318908691, -54.747314453125, -57.81248474121094, 97.61001586914062, 51.53056335449219, -34.600826263427734, -58.963294982910156, -15.728108406066895, -64.55999755859375, -46.118778228759766, -27.863758087158203, 25.023414611816406, -74.99767303466797, 81.9767837524414, 51.56407928466797, 59.05094528198242, 12.55756950378418, 52.57432174682617, 53.978668212890625, -5.425016403198242, -34.809932708740234, -33.672115325927734, -61.571449279785156, 67.35646057128906, -60.34843444824219, -7.482539653778076, 20.35956573486328, 13.650306701660156, 3.3104002475738525, 32.910579681396484, -5.77717924118042, -14.310690879821777, 27.66548728942871, 97.17133331298828, 20.438199996948242, 39.111480712890625, -45.8946533203125, -51.097190856933594, -9.32030200958252, -11.813536643981934, 47.37662887573242, -35.894832611083984, -22.26898956298828, -23.140295028686523, -67.87228393554688, -25.88276481628418, 62.074710845947266, -47.82673263549805, 11.677495956420898, -10.260514259338379, 32.75004196166992, 47.235755920410156, -32.6098747253418, -94.8187255859375, -54.399532318115234, 29.258668899536133, -70.37999725341797, -58.21440505981445, 11.380269050598145, -26.230623245239258, -78.33763122558594, 26.957033157348633, 34.120452880859375, -7.7114787101745605, -52.274837493896484, -19.482830047607422, 44.46125030517578, -47.475563049316406, 1.5663917064666748, -34.38917541503906, 44.89810562133789, -34.65543746948242, 9.118821144104004, 46.405052185058594, 1.1291306018829346, -41.26894760131836, -64.42696380615234, 26.11691665649414, -82.38941955566406, 4.620998859405518, -45.17918014526367, 21.8680362701416, 69.93496704101562, -42.23158645629883, -44.21031188964844, -35.9939079284668, -22.47533416748047, 2.2689719200134277, 38.127220153808594, -49.553218841552734, -55.20561599731445, 0.41364535689353943, 27.882173538208008, -36.00762176513672, 26.130800247192383, -60.75263595581055, -2.2239198684692383, -20.46590805053711, -73.09405517578125, 2.5223240852355957, 7.445318222045898, 12.591194152832031, -63.39205551147461, 32.17475128173828, -81.68889617919922, 33.271568298339844, 13.620686531066895, 66.83688354492188, -64.15872192382812, -88.48351287841797, 28.786409378051758, -33.398277282714844, -76.62743377685547, 20.784381866455078, 57.70127487182617, 49.15459442138672, -49.73267364501953, 53.76204299926758, -53.47111129760742, 6.7290358543396, -17.89510726928711, 23.646596908569336, 11.571839332580566, -28.2279052734375, 15.55183219909668, 62.895545959472656, -88.91483306884766, 6.1762847900390625, 52.48805618286133, -75.11177825927734, -90.89437866210938, 26.059904098510742, 6.114978790283203, 19.679588317871094, -76.00993347167969, -61.693031311035156, 47.18727493286133, -30.834131240844727, 16.89680290222168, 23.824695587158203, 68.64064025878906, -17.864383697509766, -38.82697677612305, 87.25365447998047, -16.470441818237305, 26.056116104125977, 42.2523078918457, -66.3512191772461, 69.43519592285156, 16.75776481628418, -71.4757080078125, -44.3306884765625, 8.481236457824707, -78.08930969238281, 51.93146896362305, 86.71674346923828, -81.79240417480469, 44.598018646240234, 5.398524761199951, -32.947818756103516, -72.23114776611328, -67.54302978515625, -101.38253021240234, -30.051294326782227, -19.402484893798828, -88.1417465209961, -14.81286334991455, -35.71807861328125, -63.91797637939453, 13.027314186096191, -1.216731309890747, -41.41628646850586, -25.4121150970459, -29.59095573425293, -79.98200988769531, -58.086246490478516, -76.38539123535156, 4.38873291015625, -65.29004669189453, 30.323760986328125, 39.25986862182617, -70.4845962524414, 36.394622802734375, -26.61605453491211, 71.50447845458984, 70.2348861694336, -52.039669036865234, 61.74839782714844, -57.36233901977539, -36.65693283081055, -58.19470977783203, -65.43312072753906, 61.91941452026367, -21.790325164794922, 73.24433135986328, 65.34095764160156, -15.222100257873535, -9.658053398132324, 79.21934509277344, -1.0654581785202026, -63.37888717651367, 7.048402309417725, -15.211832046508789, -34.994956970214844, -66.76797485351562, -62.77018356323242, 24.765361785888672, 49.732704162597656, 42.49000930786133, -26.607528686523438, -29.628005981445312, 53.550987243652344, -72.58802795410156, 1.25983464717865, 12.621793746948242, 8.19263744354248, -33.1848258972168, -69.63451385498047, -21.21871566772461, -46.138885498046875, 33.00631332397461, -22.124160766601562, 46.40669250488281, -25.73301124572754, 79.1307373046875, -57.22142028808594, 45.497581481933594, -2.8946471214294434, 83.40375518798828, -12.989547729492188, -14.931510925292969, -73.10831451416016, 1.2069036960601807, -34.955894470214844, -45.566864013671875, 69.9890365600586, -28.983531951904297, -34.96632766723633, -9.660720825195312, -26.345502853393555, -9.518277168273926, -58.05532455444336, 47.235755920410156, 53.74359130859375, -6.427673816680908, 8.6709623336792, -63.76045608520508, -52.52029037475586, -29.480432510375977, -44.65684509277344, 12.898382186889648, 37.46601867675781, -31.956592559814453, -11.78466796875, 67.94538116455078, -56.74163055419922, -35.997352600097656, -30.55308723449707, 4.3119025230407715, -86.91683959960938, -89.99848175048828, -85.59016418457031, -73.19982147216797, -39.79334259033203, -22.12009620666504, 37.72161102294922, -59.83647537231445, -83.50166320800781, -52.22006607055664, -72.31829071044922, -50.542057037353516, -45.37163162231445, -80.04853057861328, 71.49938201904297, 50.696861267089844, 34.265037536621094, -40.630794525146484, 56.384437561035156, 9.267156600952148, 14.096251487731934, -17.50260353088379, -54.4630241394043, 31.921674728393555, 24.10834503173828, -93.8404541015625, -55.60755920410156, -4.233395099639893, -66.79460906982422, -13.816282272338867, 18.032941818237305, -51.80896759033203, -77.05048370361328, -26.849834442138672, -90.67640686035156, 8.744307518005371, -72.72947692871094, 17.074792861938477, 15.955960273742676, -63.24879837036133, 7.75038480758667, -54.16373825073242, 78.9025650024414, 66.65697479248047, -12.690937995910645, 79.7836685180664, -58.77421951293945, -15.91418743133545, 132.09930419921875, 4.861246585845947, 40.57402801513672, -39.567989349365234, -23.362741470336914, -52.144187927246094, -39.69227600097656, 66.495361328125, -2.794956684112549, -20.167612075805664, -53.93472671508789, 50.904727935791016, 1.3349387645721436, 23.4921875, 25.947660446166992, 50.99803161621094, -32.421573638916016, 9.964481353759766, -102.9336166381836, -53.38405227661133, 2.481003761291504, -26.11094093322754, -3.2626523971557617, -30.754213333129883, 50.3299560546875, -30.373779296875, 81.15374755859375, 36.81258773803711, -38.11610412597656, -63.63690948486328, -89.21868133544922, 11.82082462310791, -17.57854652404785, 58.94318771362305, -66.12747192382812, -49.444908142089844, 8.592037200927734, -4.55037260055542, 80.64279174804688, 15.198033332824707, -22.904767990112305, 51.91071319580078, -25.343791961669922, -73.37887573242188, -77.41831970214844, 23.18436622619629, -3.187739610671997, -0.3130183517932892, 16.610334396362305, -25.158180236816406, -9.369071960449219, 25.915267944335938, -28.40282440185547, 63.174354553222656, -20.460365295410156, -21.176015853881836, 18.32655143737793, 1.2524775266647339, -91.667236328125, 5.446512222290039, 17.460063934326172, -68.7938461303711, -0.16659879684448242, 22.818992614746094, -26.900577545166016, 65.93245697021484, 8.880314826965332, 11.989623069763184, -7.732326984405518, -40.806583404541016, -39.86497116088867, -19.105518341064453, -33.53561019897461, 8.181187629699707, -38.635223388671875, -15.645124435424805, -22.264341354370117, 15.10523509979248, -0.0814959779381752, 21.79198455810547, -33.10976791381836, -14.31795883178711, -58.26805114746094, -99.83890533447266, -17.79444694519043, 1.9228941202163696, 8.935153007507324, -26.083528518676758, 51.456966400146484, 75.84876251220703, 44.75361633300781, -39.86042785644531, -93.89996337890625, 36.754966735839844, 49.84418869018555, 17.30852699279785, 17.518774032592773, 20.2120418548584, 92.5591812133789, 0.25468558073043823, -15.074424743652344, -31.9893856048584, -64.84648132324219, -42.4289665222168, -46.55427932739258, 13.377185821533203, -10.220582962036133, -37.71236801147461, 39.80036926269531, -12.276713371276855, 48.310760498046875, -65.27362823486328, -41.05142593383789, 80.64279174804688, 17.91802978515625, 80.73844909667969, -39.93864822387695, -10.157255172729492, -72.59457397460938, -17.10011100769043, -33.41920852661133, 52.089107513427734, -44.40886306762695, -42.36846160888672, 65.17951202392578, 82.08638000488281, -74.53672790527344, 1.2348501682281494, -17.91828727722168, -61.72269821166992, 3.9528846740722656, 24.975616455078125, 7.537206172943115, -92.2522964477539, -28.08547019958496, -59.79085159301758, -62.42805099487305, -73.65029907226562, -48.22696304321289, 43.488155364990234, 17.903554916381836, 28.925691604614258, 37.78034591674805, -39.856300354003906, -0.8120325803756714, -70.21305084228516, -15.024978637695312, -5.832988262176514, -9.967619895935059, -28.882783889770508, 39.82722473144531, -64.01921081542969, -49.891353607177734, -7.2147603034973145, -44.34132766723633, -0.04766895994544029, -10.783312797546387, 45.71028518676758, 14.704841613769531, 32.40607452392578, 29.424785614013672, 15.035847663879395, -7.420393943786621, -20.673385620117188, -33.48288345336914, 11.476419448852539, -4.2302021980285645, 88.55448150634766, -2.28918719291687, 1.4176031351089478, -21.81304168701172, -29.765655517578125, -57.17015838623047, -54.19565963745117, -11.015355110168457, 71.72000122070312, 25.944881439208984, -14.243399620056152, -10.740570068359375, 40.78596496582031, -47.73218536376953, -57.92698669433594, -15.289383888244629, 76.36298370361328, 31.643898010253906, 87.36380767822266, 81.00084686279297, 77.04815673828125, -0.8504864573478699, 79.28641510009766, 0.6393712759017944, -27.13639259338379, 28.737268447875977, -92.66768646240234, 81.46166229248047, -42.568580627441406, 8.53943920135498, 29.186382293701172, -71.54931640625, -52.63123321533203, -21.78603744506836, -17.559141159057617, -42.5718994140625, -30.00181770324707, -53.37406921386719, -8.35923957824707, 0.05517679452896118, -11.030435562133789, -35.490238189697266, 24.839290618896484, 14.316243171691895, 54.40296173095703, -48.363651275634766, 4.223600387573242, -56.35675048828125, -39.77630615234375, 39.366275787353516, -76.22040557861328, -7.0395612716674805, 74.44210052490234, -53.68425750732422, -14.063567161560059, -48.88313674926758, 91.39830780029297, -37.8472785949707, -39.94782257080078, -10.87312126159668, -39.90994644165039, 1.132691502571106, 30.158496856689453, 10.613048553466797, 0.5631107091903687, -31.809913635253906, -39.80330276489258, -38.206504821777344, -56.35129928588867, 48.20606231689453, 1.2628822326660156, -37.89858627319336, -29.014976501464844, 33.52067184448242, 54.859981536865234, -57.59726333618164, 6.619434356689453, -6.051493167877197, -57.98630142211914, 11.517539024353027, -58.37771987915039, -41.86817169189453, 44.26057815551758, 59.662235260009766, 25.57653045654297, 49.006900787353516, -41.21921157836914, 56.144981384277344, -29.402587890625, -23.15094757080078, -15.536934852600098, 26.894527435302734, 34.94426345825195, 61.553993225097656, -10.754645347595215, 27.1971378326416, -1.9587621688842773, 42.49213790893555, -37.93354415893555, 49.16334915161133, -59.872581481933594, -45.581298828125, 33.689849853515625, 2.6551058292388916, -15.142333984375, -37.026466369628906, 3.84891676902771, -59.13198471069336, 79.67982482910156, 43.79530334472656, -49.54032897949219, 12.164361000061035, -13.160364151000977, 23.978788375854492, 1.4384808540344238, -17.751502990722656, -81.37699890136719, 10.083925247192383, 49.822017669677734, 9.709991455078125, 33.78049087524414, -36.474456787109375, -6.544895648956299, 40.962337493896484, -6.7929840087890625, 25.715404510498047, 14.913399696350098, -18.867408752441406, 50.25385665893555, -24.902599334716797, 70.77950286865234, -63.01481246948242, 16.412078857421875, -12.466229438781738, -9.691106796264648, 2.2160661220550537, -23.91842269897461, 20.236316680908203, -25.149169921875, -11.062704086303711, -12.333521842956543, -30.612083435058594, -29.453798294067383, -20.955158233642578, 39.547916412353516, -3.9299933910369873, -34.1417121887207, 18.99366569519043, 16.39344596862793, -8.270833969116211, 58.700294494628906, 0.5716232061386108, 28.61362075805664, 21.759843826293945, 46.153892517089844, 15.975659370422363, -18.579116821289062, -85.73170471191406, -98.18941497802734, 3.737126350402832, 32.597557067871094, -0.7718587517738342, 17.749279022216797, 44.40224838256836, 1.1246861219406128, -47.90263748168945, 32.54712677001953, 35.10413360595703, 54.46678161621094, -21.108572006225586, -19.888050079345703, 45.335411071777344, 61.3631477355957, 13.467954635620117, 83.02235412597656, -11.035944938659668, -43.57041931152344, -12.279373168945312, -6.712078094482422, -18.870025634765625, -30.897207260131836, -48.83826446533203, -9.700562477111816, -50.54657745361328, 40.75736618041992, -101.57755279541016, -7.037472248077393, -10.098620414733887, -79.5821533203125, 42.20418930053711, -55.8787956237793, 10.2137451171875, 41.989009857177734, 8.13355827331543, -6.136533737182617, 70.60894775390625, 52.63289260864258, 66.3652572631836, -45.10223388671875, 83.11415100097656, -42.67641830444336, -33.91756057739258, 69.60050201416016, 41.6601448059082, -36.06382751464844, 5.259908676147461, 79.82268524169922, 54.21387481689453, -24.012683868408203, -23.25250244140625, 55.36042785644531, 64.02481842041016, 77.89222717285156, 21.256671905517578, 16.351303100585938, 15.805743217468262, 7.153648376464844, 2.7112183570861816, 58.434654235839844, 61.1807975769043, 28.40959358215332, 27.838998794555664, -58.107330322265625, 14.929337501525879, -39.75362777709961, -14.05551528930664, -16.074115753173828, 35.58057403564453, -13.172818183898926, 78.11466979980469, 2.2127444744110107, 89.99533081054688, 50.17542266845703, 32.76266098022461, -73.63673400878906, -10.0022611618042, 30.4859676361084, 69.5087661743164, 70.95848846435547, 46.59895324707031, -35.12892532348633, 16.687519073486328, -1.979412317276001, -43.33256149291992, -32.536964416503906, -28.18124771118164, -32.25143814086914, -46.54889678955078, -62.02810287475586, 57.14725875854492, -66.56683349609375, 7.879826068878174, -57.7010383605957, -43.37728500366211, 19.549816131591797, -33.06040954589844, 19.794824600219727, -63.957279205322266, -17.568477630615234, -42.41775894165039, -20.236927032470703, 12.53612995147705, 41.58649826049805, -7.22403621673584, -12.839737892150879, -26.98448944091797, -17.827865600585938, -31.828737258911133, -1.8252389430999756, -35.28760528564453, -17.6180477142334, -37.794403076171875, 84.37505340576172, 76.89151763916016, -97.3711929321289, -1.6102638244628906, -67.72880554199219, -82.06427764892578, -21.38005256652832, -60.70072937011719, -23.704486846923828, -31.140958786010742, -52.14418029785156, -30.5682430267334, 39.394012451171875, 14.159356117248535, 49.82240676879883, 25.91278839111328, -65.03062438964844, 49.17343521118164, -48.55946731567383, -3.556593418121338, -58.80498123168945, -47.06599426269531, 2.315325975418091, 35.054813385009766, -16.06045150756836, 34.789405822753906, 49.63460922241211, -5.89336633682251, 18.24833869934082, 67.01321411132812, 32.750831604003906, 54.123680114746094, 86.4706802368164, 29.976768493652344, 42.66621017456055, 59.67866897583008, -99.09548950195312, -73.55946350097656, 24.128538131713867, -29.023313522338867, -73.95563507080078, -15.34228801727295, 81.86520385742188, -46.82955551147461, -73.97615814208984, 54.15170669555664, 76.75126647949219, -30.745651245117188, 43.41073989868164, -48.85410690307617, 42.21167755126953, 82.35306549072266, -12.77274227142334, -34.81702423095703, -6.465847969055176, 67.08197784423828, -29.401254653930664, -48.83542251586914, -30.75764274597168, -25.139490127563477, 20.159650802612305, -47.73950958251953, -30.509014129638672, 30.5577335357666, -51.517269134521484, -63.46661376953125, 36.913578033447266, 53.93923568725586, -86.27315521240234, 40.99336624145508, -47.079715728759766, 8.364330291748047, 7.787545204162598, 8.870530128479004, -51.623748779296875, -67.92118072509766, -46.72444152832031, 36.58876419067383, -10.555095672607422, -49.558162689208984, -21.04463768005371, 8.391006469726562, -11.330846786499023, 27.888694763183594, -43.285797119140625, 29.465978622436523, 42.29716491699219, -70.84173583984375, 4.80150032043457, 5.9828782081604, 28.07560920715332, -12.598188400268555, 67.43970489501953, -3.1160385608673096, 74.76793670654297, 16.672086715698242, 44.99898147583008, -0.04240497946739197, 19.576786041259766, 68.20327758789062, 67.62158203125, 85.13399505615234, 25.601863861083984, -57.587345123291016, -27.705078125, 19.236473083496094, 44.12064743041992, 4.904818534851074, -19.66024398803711, 29.308696746826172, 39.62256622314453, 35.613121032714844, -26.10645294189453, -11.638957023620605, -39.22477722167969, 51.831233978271484, -48.685890197753906, -3.730693817138672, -14.097221374511719, 1.4025628566741943, -58.13445281982422, -78.49400329589844, -6.749190330505371, -20.27396011352539, 53.861595153808594, 0.5943004488945007, 85.57244873046875, -51.8006591796875, -53.22682189941406, 13.506815910339355, 10.346623420715332, -1.574501872062683, -47.756317138671875, -70.79379272460938, -7.662572383880615, -79.54093933105469, -85.01579284667969, -97.6214370727539, -71.44990539550781, -40.42375183105469, 7.159409523010254, 36.61203384399414, -44.37560272216797, -39.71708679199219, 19.39683723449707, -36.877071380615234, -30.089080810546875, -32.61149597167969, 14.126787185668945, -14.498187065124512, 66.15607452392578, -46.532508850097656, 23.14574432373047, -72.95316314697266, 64.32386779785156, 9.618295669555664, -62.31698989868164, -44.82557678222656, 21.68266487121582, -88.83006286621094, -17.865598678588867, -26.67508888244629, 33.09357833862305, -86.79833984375, -26.171342849731445, -58.30128860473633, 50.97834014892578, 14.95750904083252, -99.19132995605469, 54.73794174194336, 8.70003890991211, 19.83515739440918, 44.2603759765625, 40.082637786865234, -59.95989227294922, 41.687278747558594, -86.17942810058594, -98.36587524414062, 75.35453033447266, -21.476377487182617, 60.92277145385742, 3.2541990280151367, -0.43425253033638, -17.67174530029297, -3.1520166397094727, -59.26536178588867, 31.982423782348633, 62.799922943115234, -39.703887939453125, 15.50245475769043, -19.935991287231445, -56.2264289855957, -50.81386184692383, -40.108821868896484, -71.62893676757812, 41.7540283203125, -15.772845268249512, 16.845003128051758, 54.03765869140625, -68.75934600830078, 26.383272171020508, 46.914913177490234, -45.19832992553711, -34.231224060058594, 29.465675354003906, -15.410972595214844, -52.41847229003906, -24.23684310913086, -77.26056671142578, 29.096925735473633, -81.34949493408203, -38.65208053588867, 43.27534103393555, -40.784873962402344, 22.087942123413086, 5.043904781341553, -57.588539123535156, 57.06822967529297, -15.682517051696777, 53.63686752319336, 41.15792465209961, 7.620651721954346, -43.05188751220703, -44.47539138793945, -75.57243347167969, -87.74109649658203, 11.196270942687988, 43.805694580078125, -7.064159393310547, 72.74911499023438, -37.70276641845703, 71.76673126220703, -83.33824920654297, -0.536838173866272, -74.6297378540039, 40.24732208251953, 1.5285049676895142, 66.37504577636719, 86.12141418457031, -8.710208892822266, -7.7962541580200195, -26.784231185913086, -44.029197692871094, 28.208026885986328, 50.24201583862305, 32.210872650146484, -49.99720001220703, -24.74017333984375, 2.245770215988159, 56.83366394042969, 57.067771911621094, -32.99037551879883, 56.01255798339844, -28.669652938842773, -20.050853729248047, 11.552884101867676, -5.189407825469971, -20.914478302001953, -7.420580863952637, -26.221773147583008, 65.7112808227539, 88.83329010009766, -73.58019256591797, -26.33095932006836, -1.1816937923431396, 70.72298431396484, -25.173803329467773, -36.89408493041992, -63.75859451293945, 89.70003509521484, -48.8782958984375, -76.84722137451172, -7.331343650817871, 36.1771240234375, 59.98463821411133, 26.349529266357422, -18.820844650268555, -11.621514320373535, 59.92042541503906, 24.536794662475586, 31.10225486755371, 48.36899948120117, 17.252086639404297, 68.18671417236328, -23.14179801940918, 77.1174087524414, 56.678688049316406, 53.83259963989258, -99.44910430908203, -83.15494537353516, -58.5904426574707, -91.49833679199219, -5.099641799926758, -3.1628546714782715, -10.056957244873047, -9.208953857421875, -42.789695739746094, 6.324683666229248, -71.03402709960938, -51.263343811035156, -62.21953201293945, -39.74125671386719, 27.921348571777344, -43.5272102355957, -94.7002944946289, 58.082618713378906, 37.97967529296875, 24.87760353088379, 43.95899200439453, 16.5172176361084, -20.56673812866211, -27.77955436706543, 0.05123751983046532, -5.359597682952881, 85.54730987548828, 11.362074851989746, -50.73086166381836, 87.2759780883789, -58.27564239501953, -40.90361022949219, 7.171731948852539, -59.68754196166992, 37.25409698486328, -21.76450538635254, -5.898426532745361, 76.7968521118164, 38.706199645996094, -37.20045852661133, -87.9645004272461, -59.71598815917969, 65.37619018554688, -28.09986114501953, 53.320491790771484, -87.43669128417969, -20.534637451171875, -6.140833854675293, -12.719049453735352, 8.185585975646973, -43.768489837646484, -18.927705764770508, -29.5316162109375, 68.9702377319336, 43.76097869873047, 5.983102321624756, -16.49003028869629, -3.915072202682495, 48.69422912597656, 9.861648559570312, -10.153255462646484, -5.035494327545166, -34.941837310791016, -35.12409973144531, -47.48050308227539, -30.072601318359375, -13.498614311218262, 247.3385009765625, 61.62416076660156, -8.788583755493164, -20.794404983520508, 48.11944580078125, -15.27136516571045, 50.65684509277344, -17.20676612854004, -15.673240661621094, -27.49331283569336, -34.38087844848633, 53.8848991394043, 43.02223587036133, 58.81949996948242, -11.585880279541016, -21.201828002929688, -3.3226661682128906, 75.09454345703125, 4.516607761383057, -19.966663360595703, -4.6352458000183105, 14.6959810256958, 12.43885612487793, 6.254608631134033, -0.6473196148872375, -29.79767608642578, 38.84588623046875, -15.030983924865723, 26.883943557739258, -25.337072372436523, 70.88762664794922, 15.899148941040039, 76.30638122558594, -20.31296730041504, -36.40102767944336, -44.59810256958008, 84.7174072265625, -29.31973648071289, -26.84861183166504, 27.85698127746582, -18.933349609375, -35.81937789916992, 11.122779846191406, -9.85120964050293, -30.024335861206055, 4.743579864501953, -28.14505386352539, 56.44916915893555, 6.548891544342041, 13.317778587341309, -20.771635055541992, -49.100555419921875, -41.264217376708984, 36.63972854614258, -15.899524688720703, -32.80024337768555, -52.53409957885742, 35.76496124267578, -24.55195426940918, 42.58711624145508, -12.283645629882812, 13.983481407165527, -21.319644927978516, -29.598159790039062, -45.06327438354492, -26.681663513183594, -62.64506530761719, -29.006072998046875, -3.601860523223877, 55.565433502197266, 44.621185302734375, -44.04520034790039, -41.61555099487305, -25.575410842895508, -16.594385147094727, -35.44385528564453, -31.70917320251465, -25.30776596069336, -67.67176055908203, -87.27545166015625, -9.711700439453125, -30.174657821655273, 7.6563944816589355, -33.053958892822266, -10.825577735900879, -8.527119636535645, -12.758925437927246, -9.6384859085083, 62.35045623779297, -4.1133646965026855, 57.31172180175781, -13.11515998840332, 64.88636779785156, 19.93307113647461, -29.713205337524414, -21.69316864013672, -16.583650588989258, 52.21903991699219, 32.412837982177734, -11.877802848815918], \"y\": [23.415573120117188, 88.44876098632812, 70.47434997558594, 77.46929168701172, -26.366859436035156, -23.837839126586914, 67.31346130371094, 44.413326263427734, 61.60676574707031, -65.42655181884766, 22.21364402770996, 12.86607551574707, 57.71688461303711, -25.26343536376953, -50.568824768066406, 76.4506607055664, -23.879419326782227, 32.24083709716797, 35.4419059753418, 41.95569610595703, 78.3306884765625, 7.670233249664307, 12.974618911743164, 29.75151252746582, 33.8130989074707, 63.58018493652344, 56.19590377807617, 43.232322692871094, -5.6808342933654785, 23.625837326049805, 29.880123138427734, 15.143614768981934, -48.019386291503906, -46.36796188354492, -58.061859130859375, 15.502106666564941, 46.12556838989258, 15.952797889709473, 48.653526306152344, 0.5910356640815735, 58.090476989746094, -18.12033462524414, 87.57349395751953, -16.296363830566406, 95.27143859863281, -3.830014944076538, -55.48869705200195, 73.85919189453125, 20.431262969970703, 46.122066497802734, 52.52971267700195, -90.91696166992188, -70.34664916992188, 57.33717346191406, -35.7835807800293, -32.80974197387695, -2.8356690406799316, 70.1083755493164, 47.905338287353516, -33.363525390625, -69.48909759521484, -18.272201538085938, -6.2010908126831055, -18.045146942138672, 59.98871994018555, 0.061007194221019745, 78.9453353881836, -13.289560317993164, 24.225553512573242, -43.32030487060547, 97.54961395263672, -41.13374328613281, 37.16769027709961, 5.627233982086182, -5.382106781005859, -29.951053619384766, -4.7399420738220215, -15.070964813232422, -2.3971750736236572, 35.00383758544922, 55.586700439453125, 7.156383991241455, -73.83633422851562, -64.06787872314453, 98.0074462890625, -82.79890441894531, 61.966064453125, -32.57778549194336, 7.043920993804932, -50.959983825683594, 88.82183837890625, 86.43270874023438, -62.73158645629883, 31.53823471069336, 24.90584373474121, -68.3082275390625, 34.34660720825195, -22.541091918945312, -8.312417984008789, 39.296730041503906, -0.4992743134498596, 64.00762176513672, -44.869327545166016, 18.0642032623291, -27.937530517578125, 81.3837890625, -15.5888090133667, 44.31229782104492, 29.850521087646484, 49.106712341308594, 93.33595275878906, 72.5760726928711, 12.286094665527344, 60.26279067993164, -79.28929138183594, 12.993535041809082, 17.767078399658203, 102.60307312011719, 63.16824722290039, 38.76023483276367, 45.81825256347656, -63.00727081298828, -5.627276420593262, 13.059172630310059, 32.59184265136719, 49.8549919128418, 2.0047314167022705, -59.41141891479492, 88.13372039794922, -21.323265075683594, -28.74254035949707, 62.369815826416016, 20.044546127319336, 44.51640319824219, 4.638665676116943, 19.533916473388672, 47.36183547973633, -62.68869400024414, 79.56138610839844, -19.708389282226562, 26.822498321533203, 67.18107604980469, 46.51095962524414, -25.014745712280273, 10.923352241516113, 20.61115264892578, -35.592506408691406, 33.22701644897461, 34.16844177246094, -47.784332275390625, -61.206851959228516, 62.814537048339844, -41.477054595947266, -69.47460174560547, -52.91873550415039, 9.870650291442871, -55.474510192871094, 30.342613220214844, 8.145238876342773, 70.24608612060547, -58.386478424072266, 28.395431518554688, -43.46258544921875, 4.575934410095215, 45.51383590698242, -58.30051040649414, -82.90808868408203, 3.3851544857025146, -49.826812744140625, -53.5782585144043, 44.96757888793945, -20.50737190246582, -37.9959716796875, 64.98595428466797, 36.596622467041016, -15.667546272277832, 10.398663520812988, 43.7442512512207, 15.55426025390625, 2.20949649810791, 57.052955627441406, -24.10734748840332, 19.152469635009766, -32.29441833496094, -31.68973159790039, 13.49152946472168, -85.91819763183594, -21.798954010009766, -14.624249458312988, -2.6198720932006836, -50.97821044921875, 54.63124084472656, -3.432270050048828, -39.14189529418945, -70.49857330322266, -1.3549710512161255, 47.34139633178711, 16.45599365234375, -8.33895206451416, 55.65105438232422, 38.749359130859375, -18.13575553894043, -31.07107162475586, -4.094335079193115, 61.75677490234375, 39.10921096801758, 7.848516941070557, 72.71929168701172, -33.26960754394531, -36.23470687866211, 15.329634666442871, 32.68046188354492, 34.90058517456055, 85.60816192626953, -20.102924346923828, -8.516613006591797, 16.84164047241211, 0.954662561416626, -8.471582412719727, -72.22057342529297, 47.78711700439453, -48.23234176635742, 25.907522201538086, -68.16181945800781, -55.0777587890625, 34.35649490356445, -1.4123961925506592, -28.76348876953125, 73.1324234008789, 75.53274536132812, 23.401615142822266, 46.05531311035156, 2.272162914276123, 44.788719177246094, 36.84626770019531, -30.57947540283203, 16.79888916015625, 45.67877197265625, -13.083072662353516, 82.09896087646484, 3.1351583003997803, -74.47325897216797, 63.24430465698242, 66.87873840332031, 0.4745771884918213, 15.365934371948242, -42.018245697021484, 73.74048614501953, -22.1214656829834, -8.715950965881348, 48.934749603271484, -17.612470626831055, -61.347084045410156, -32.5667724609375, 4.1732635498046875, 31.54637908935547, -36.15633773803711, -7.00386381149292, -11.512272834777832, 34.12479782104492, -22.018640518188477, 53.958900451660156, -27.22284698486328, -3.9787299633026123, -26.422222137451172, 17.002845764160156, -4.766383647918701, -14.352659225463867, -65.80606842041016, 18.252578735351562, 41.48347854614258, -63.97053527832031, -47.199119567871094, 3.439697265625, 36.81403732299805, -47.79804992675781, 9.121725082397461, -17.324735641479492, -23.658159255981445, -37.20050811767578, -45.37125778198242, 23.27881622314453, 28.376585006713867, 10.944180488586426, 64.39275360107422, -34.73202896118164, -7.372909069061279, -22.602659225463867, -39.800743103027344, 53.17152404785156, -87.23906707763672, 43.34931564331055, -43.74697494506836, -18.35456657409668, 37.16301727294922, -13.64045238494873, -14.724854469299316, 74.28282165527344, 14.65489387512207, -34.49885559082031, -20.094676971435547, 37.52472686767578, -14.666004180908203, -1.7755236625671387, -14.540334701538086, 13.327255249023438, 56.538700103759766, 78.32901000976562, 9.186779022216797, 58.14120864868164, -5.277835369110107, -53.893985748291016, -36.76997756958008, -4.48024320602417, -43.39872360229492, -6.053201198577881, 9.892107963562012, 27.92206382751465, -81.15750885009766, 5.824588298797607, 25.172500610351562, -39.169578552246094, 75.23591613769531, 36.85152816772461, -14.136899948120117, 5.848302364349365, -50.568824768066406, -9.239691734313965, 13.992987632751465, 28.500865936279297, -4.913574695587158, 3.6280970573425293, -9.204010009765625, 44.075721740722656, 12.639505386352539, 52.52511215209961, -41.50755310058594, 38.600563049316406, -18.38929557800293, -57.49033737182617, 88.11632537841797, -89.51020050048828, 7.0050859451293945, 11.801705360412598, 23.47202491760254, 27.096099853515625, -29.442222595214844, -50.568824768066406, 38.02684783935547, 92.60548400878906, -38.09054183959961, -18.746068954467773, 30.136600494384766, -48.53022384643555, 46.85635757446289, -0.8204300403594971, 49.507293701171875, -17.679767608642578, -55.20642852783203, -45.32205581665039, -54.477806091308594, 43.3071403503418, -29.844106674194336, -1.19558584690094, 13.613640785217285, 3.295135498046875, 89.6996841430664, -42.214271545410156, 55.749839782714844, 36.837345123291016, 68.38516235351562, -1.137911319732666, 26.231170654296875, 0.9464934468269348, -4.008506774902344, 74.66748046875, 8.521028518676758, 37.681888580322266, -34.77495574951172, -20.828628540039062, 53.813777923583984, -40.9630126953125, 68.0633316040039, -42.523536682128906, 38.0489501953125, -1.2473881244659424, -61.890846252441406, -50.568824768066406, 1.262332558631897, -51.99619674682617, 46.37746047973633, -62.87364196777344, 62.10008239746094, 79.64348602294922, 27.998703002929688, 33.38669204711914, 10.629977226257324, -87.46308898925781, 26.027944564819336, 63.078670501708984, 47.2108268737793, -69.79354858398438, 37.33091354370117, 18.933059692382812, 32.80352783203125, -42.553131103515625, 37.77237319946289, 20.925886154174805, 37.588653564453125, -41.023223876953125, 97.09725952148438, -45.73125076293945, -32.915592193603516, 48.30210494995117, 26.57956886291504, -53.138038635253906, -6.70335054397583, 14.021245002746582, -31.939739227294922, 86.96476745605469, 84.92188262939453, 96.15814971923828, 67.58045959472656, 15.383530616760254, 27.736845016479492, 40.254249572753906, 22.02771759033203, -48.53022384643555, -29.910667419433594, -49.75528335571289, -87.56883239746094, 17.522085189819336, -2.4880032539367676, -41.044456481933594, -48.724605560302734, -46.30588150024414, 9.953838348388672, -40.02146911621094, 80.63957977294922, -6.087481498718262, 14.384115219116211, 1.371692180633545, 68.8266372680664, 65.43910217285156, 27.591299057006836, -0.7867717146873474, 15.094170570373535, -1.9493048191070557, 90.66808319091797, 76.96719360351562, -9.97739315032959, -34.09947967529297, -3.1151394844055176, -13.036259651184082, -78.34037780761719, 23.463380813598633, 45.291534423828125, 7.201968669891357, 57.382904052734375, 9.611771583557129, -18.139663696289062, -46.75779342651367, 97.19786834716797, 12.089611053466797, 52.30162048339844, -21.010822296142578, 35.70494079589844, -16.068790435791016, 8.806746482849121, -59.0814094543457, 29.614574432373047, 68.53492736816406, -70.83828735351562, 42.79193878173828, -5.119239807128906, 76.09298706054688, -71.84587860107422, 81.19711303710938, 60.27021026611328, 1.554132342338562, 60.16455078125, 31.596126556396484, -22.170673370361328, -22.892065048217773, 70.53262329101562, -56.23542404174805, 30.6796817779541, -69.13060760498047, -74.60828399658203, 16.55624008178711, -20.25111198425293, 63.627742767333984, 56.28693389892578, -50.3407096862793, 22.09813690185547, 28.750539779663086, -17.55864906311035, 92.4989242553711, -56.59797668457031, 77.96044921875, 57.28505325317383, 52.878623962402344, -62.55358123779297, 52.86726760864258, 2.285249948501587, 29.07357406616211, -17.994731903076172, 39.38008499145508, 21.401531219482422, 40.712371826171875, 39.276824951171875, 18.72447967529297, 79.1727066040039, 68.85694885253906, -51.881813049316406, 44.08456039428711, 44.29457473754883, -76.12031555175781, 9.949183464050293, 51.42961502075195, 28.104150772094727, 76.03231048583984, 64.54542541503906, 49.52638626098633, -63.369483947753906, 18.042644500732422, -32.352752685546875, 41.0103874206543, 78.33159637451172, 71.99530029296875, -51.81001663208008, -69.7158432006836, 53.641639709472656, 29.906206130981445, 100.80807495117188, -43.948299407958984, 104.80550384521484, -41.993186950683594, -75.54351043701172, 39.16086959838867, -39.86127471923828, -16.29008674621582, -47.45040512084961, -43.895015716552734, 23.30852699279785, -24.72928237915039, 58.511146545410156, -57.81146240234375, 15.847769737243652, 15.958974838256836, -31.77159881591797, -40.67642593383789, -52.30439758300781, 95.63687133789062, -35.198204040527344, -62.114871978759766, 20.14988899230957, 33.295867919921875, 67.71754455566406, -49.04207992553711, -39.00306701660156, -72.56764221191406, 7.0122151374816895, -72.87190246582031, -62.649009704589844, 1.2969080209732056, -65.09967803955078, -34.81822204589844, -31.018753051757812, 2.1930809020996094, 61.437591552734375, -64.1387710571289, -28.799396514892578, 52.69155502319336, -9.245294570922852, 54.50879669189453, 8.14023494720459, 21.946651458740234, 40.02445602416992, -34.21577453613281, 63.686859130859375, 54.125701904296875, 9.505108833312988, 58.76386642456055, 52.545936584472656, 38.122501373291016, 15.799519538879395, 24.798940658569336, -62.92135238647461, 17.62934684753418, -51.33494567871094, -67.54312896728516, -45.462276458740234, 98.04743194580078, 85.98246002197266, -50.03842544555664, -16.853099822998047, 29.043115615844727, 26.19402313232422, -9.069598197937012, 23.251766204833984, -50.58372116088867, -71.94481658935547, 15.482190132141113, 24.688079833984375, -6.178858280181885, 22.767913818359375, -56.9278678894043, -28.17375946044922, -48.41884994506836, 82.33625030517578, 39.81435775756836, 12.623821258544922, 50.123619079589844, 54.071231842041016, 66.6646728515625, 10.709238052368164, -92.02876281738281, 27.406232833862305, -31.037994384765625, 64.94364166259766, -46.1710090637207, 45.87807846069336, 37.538021087646484, -2.318624973297119, 23.580184936523438, -20.287473678588867, 57.2786750793457, 69.6469955444336, 18.10349464416504, 55.67594528198242, 33.839569091796875, -47.136348724365234, -69.14391326904297, 78.302978515625, 11.774779319763184, -18.55861473083496, 24.142711639404297, 61.58402633666992, -38.99256134033203, 37.10608673095703, 68.6031494140625, 19.576751708984375, -54.53342819213867, 56.223785400390625, 74.11920928955078, 15.269102096557617, -44.38478469848633, -34.320411682128906, -52.80012130737305, -4.034590244293213, 34.390174865722656, 13.449213027954102, -11.068771362304688, 46.52946853637695, 16.08066749572754, -21.010822296142578, 63.80458068847656, 12.608574867248535, 32.552547454833984, 19.346920013427734, 42.106353759765625, -78.80317687988281, 88.50846099853516, -46.54636001586914, -67.35892486572266, 64.1955337524414, 70.46702575683594, -41.30730056762695, -29.102346420288086, 14.907094955444336, 66.16510772705078, 47.585689544677734, -57.44012451171875, 39.163963317871094, 2.671755790710449, -34.4056510925293, -80.78633117675781, -21.831584930419922, -79.95777130126953, 42.33513259887695, 37.35873031616211, 39.123558044433594, 24.70043182373047, -66.5059814453125, -0.6554723978042603, -37.58748245239258, 13.828375816345215, -37.15476989746094, -53.069854736328125, 4.5562591552734375, -40.280517578125, 45.210540771484375, 38.583290100097656, 45.628746032714844, 47.37507247924805, -32.105224609375, 58.93018341064453, 0.06397728621959686, 68.61285400390625, 33.49002456665039, -60.63254165649414, 23.1812744140625, 54.31779479980469, -49.19697952270508, -26.822704315185547, 30.319799423217773, 47.4639778137207, 45.63035202026367, -46.12790298461914, 49.00313186645508, 79.11079406738281, 51.545257568359375, -75.90177917480469, 70.8648681640625, 32.43986129760742, -27.67852210998535, -46.70008087158203, -24.38994789123535, -9.33926010131836, 28.27786636352539, 26.389667510986328, 25.423704147338867, -63.8449592590332, 23.44934844970703, 13.910913467407227, -31.73332977294922, 2.1096818447113037, -3.2282774448394775, -12.200090408325195, 37.769081115722656, -1.5370001792907715, -62.4915885925293, 82.53823852539062, -21.66927719116211, 56.45876693725586, -17.123201370239258, 23.662429809570312, 34.30251693725586, -23.924739837646484, 13.434768676757812, -3.0585639476776123, 58.95094680786133, 3.852691411972046, 23.192188262939453, -21.233659744262695, 32.162872314453125, -32.62881851196289, 28.18935203552246, 64.69104766845703, -32.51824188232422, -4.990666389465332, 16.83405876159668, 5.659006118774414, -40.25040817260742, 1.1442617177963257, -40.789756774902344, 42.61997985839844, 35.94584274291992, -2.8411567211151123, -37.76321792602539, -21.039379119873047, 62.428466796875, 81.81295776367188, 6.5197038650512695, 42.142112731933594, -46.03501892089844, -62.80158615112305, 33.891883850097656, -79.16026306152344, 43.4841194152832, 29.039030075073242, 15.011045455932617, -8.782089233398438, 44.404048919677734, 17.845691680908203, 48.905189514160156, 18.922378540039062, -49.694557189941406, 16.365055084228516, -42.782752990722656, -26.575092315673828, 12.70913314819336, -66.28223419189453, -34.488468170166016, -50.678218841552734, 52.521202087402344, -34.07182312011719, 85.62806701660156, -55.5081672668457, 82.00897979736328, 12.56057071685791, 9.74950122833252, -0.34275978803634644, 10.833403587341309, 25.037561416625977, 15.146724700927734, 9.548147201538086, -39.22016143798828, 9.199443817138672, 84.74852752685547, -47.70216751098633, 67.87857055664062, -26.848539352416992, 23.858938217163086, 18.94036865234375, 18.1354923248291, -71.45362091064453, 73.31561279296875, -39.01082992553711, -37.2994270324707, -64.86189270019531, 20.51711082458496, -42.33773422241211, 23.4597110748291, -24.405134201049805, 2.3607707023620605, -0.8401657342910767, 41.26825714111328, 23.362655639648438, 10.649568557739258, -32.89921188354492, 45.12131881713867, -31.073974609375, -44.09364318847656, -44.14308547973633, 15.538330078125, -0.6884675621986389, -12.051080703735352, 10.32070255279541, -94.19495391845703, -75.77439880371094, 59.08563232421875, 6.981363773345947, -2.8411567211151123, 84.26251983642578, -21.334508895874023, 67.67760467529297, 40.130489349365234, -8.538360595703125, 54.82879638671875, 99.70597076416016, 50.149818420410156, 27.556928634643555, 56.32965087890625, -18.128801345825195, -30.954557418823242, 16.256145477294922, -64.35523986816406, 42.250545501708984, 34.5175666809082, 39.432308197021484, -77.4559097290039, 104.58134460449219, -33.737159729003906, -32.3690185546875, -15.594429016113281, -58.198097229003906, -51.467098236083984, 45.13957977294922, -73.46577453613281, 64.72561645507812, 71.87284851074219, 25.39102554321289, 41.06249237060547, 23.84453010559082, -75.76322937011719, 89.486083984375, 52.16498565673828, 20.32884407043457, 66.02090454101562, 15.448936462402344, -16.546127319335938, -14.966524124145508, 8.883195877075195, 66.59719848632812, 91.69265747070312, 35.561710357666016, 49.96356964111328, -78.87049102783203, -47.216190338134766, 84.85344696044922, 24.459257125854492, -45.63050079345703, -42.39518356323242, 84.6394271850586, -11.083216667175293, 13.16232967376709, -29.386720657348633, 51.143836975097656, -14.52458381652832, 6.815097332000732, 49.589202880859375, -65.60969543457031, 23.283512115478516, 23.58267593383789, -13.028726577758789, -38.7650260925293, 46.29322814941406, 44.27018356323242, -79.32707214355469, -30.48165512084961, -44.111427307128906, -88.28685760498047, 8.92029857635498, -67.57180786132812, -9.352517127990723, 6.152613639831543, -16.4439640045166, -17.40966796875, -19.6546573638916, 3.1975510120391846, 13.695855140686035, 32.5311279296875, 3.5539867877960205, 60.36974334716797, 98.18940734863281, 48.39788055419922, -74.5796127319336, 7.062431812286377, 37.156978607177734, 29.02075958251953, 72.71797180175781, 94.56849670410156, -27.346311569213867, 83.13682556152344, 51.8563232421875, 45.94657516479492, 11.557469367980957, 26.1871280670166, 59.397396087646484, -29.493362426757812, -28.72049903869629, -51.62582778930664, -87.15853118896484, 19.794660568237305, -35.899314880371094, 35.93043518066406, 69.56946563720703, 89.88972473144531, 0.64349764585495, 49.19865417480469, 82.57472229003906, -15.223541259765625, 47.8063850402832, -18.043180465698242, -60.048179626464844, 22.30561065673828, 56.18596267700195, -59.29437255859375, 17.496021270751953, -38.50707244873047, -70.17942810058594, -46.64897155761719, 64.4018325805664, -54.801029205322266, 12.872756004333496, -27.08976173400879, 38.44036102294922, 10.528667449951172, 42.668827056884766, -22.0484619140625, -72.58334350585938, 4.436332702636719, 55.206077575683594, -14.618021011352539, -17.33737564086914, 81.55193328857422, -2.997661590576172, -2.4544310569763184, -31.533428192138672, -29.939666748046875, -57.59273910522461, -23.43328857421875, -47.825660705566406, -28.909969329833984, -55.54969787597656, -7.842904567718506, -11.059103965759277, -37.733604431152344, -23.55455780029297, -29.42460823059082, 105.18959045410156, 9.421902656555176, 38.80091094970703, -68.94727325439453, -13.216374397277832, -55.703338623046875, 20.911954879760742, 38.098167419433594, 62.489715576171875, -82.4591293334961, 17.41206169128418, -13.323616981506348, 72.57536315917969, 36.67800521850586, 16.529218673706055, -55.14815139770508, -15.65264892578125, 85.80254364013672, -20.296987533569336, -39.20195007324219, -55.55562973022461, 74.71356964111328, 25.95844841003418, 51.29880905151367, 71.1886978149414, -79.88121032714844, 81.25407409667969, 75.06708526611328, 77.2184829711914, -28.332294464111328, 66.79917907714844, -46.19844436645508, -48.07257080078125, -74.74563598632812, -12.686942100524902, 67.08422088623047, -42.241539001464844, 32.7401237487793, -57.83804702758789, -60.7381477355957, 75.79886627197266, 14.382155418395996, 54.846405029296875, -65.7669906616211, 65.37787628173828, 11.531490325927734, -11.548432350158691, -56.599090576171875, -12.811575889587402, 35.566871643066406, -58.32893753051758, -86.10620880126953, 36.90969467163086, -31.388957977294922, -40.98639678955078, 46.050514221191406, 36.36557388305664, -68.22171783447266, 43.97536087036133, 52.889564514160156, -69.8761978149414, -70.863525390625, 32.8429069519043, 27.998960494995117, -17.31060791015625, 46.102210998535156, -62.94834518432617, 27.453453063964844, -43.52458572387695, -15.440040588378906, 86.04473876953125, -9.456738471984863, -31.41238784790039, -31.63109588623047, 56.37957000732422, 7.684040069580078, -48.74742126464844, -25.14801788330078, -28.74346160888672, 29.607702255249023, 47.28122329711914, 60.23706817626953, -11.952184677124023, 22.7673397064209, 105.06292724609375, -9.241552352905273, -75.6978530883789, 25.21584701538086, 70.51692199707031, 57.10686492919922, -75.99564361572266, -24.059385299682617, -66.19931030273438, -76.41669464111328, 38.79765701293945, -71.8698959350586, 26.854507446289062, -84.7338638305664, -29.20711326599121, 9.184768676757812, 72.66073608398438, -24.84650421142578, -25.542909622192383, -33.44959259033203, 57.09309005737305, 2.8176074028015137, 25.231054306030273, -63.23589324951172, -24.304121017456055, 59.562355041503906, 5.068452835083008, -54.38393783569336, -8.374220848083496, -16.221908569335938, -54.24212646484375, -26.084505081176758, -17.33479118347168, -26.848430633544922, -2.046374559402466, -51.90672302246094, 7.7661919593811035, 58.2384147644043, 36.777374267578125, -70.6290054321289, -5.623440742492676, -23.39478874206543, -52.30183410644531, 26.75438690185547, -4.944179058074951, 64.49554443359375, -42.09078598022461, -68.67103576660156, 5.6742072105407715, -68.7020263671875, -47.37486267089844, -5.187605381011963, 13.117465019226074, 1.0797511339187622, 15.644368171691895, -43.72495651245117, 3.808274984359741, 51.54840087890625, -51.62788772583008, -5.314367294311523, -27.018999099731445, -9.270215034484863, -53.920291900634766, -49.27266311645508, 56.75930404663086, 27.498950958251953, 17.83515167236328, 23.662803649902344, 63.754634857177734, 3.5102014541625977, 42.19514465332031, -36.800113677978516, 2.8556501865386963, 59.486839294433594, -13.604365348815918, -55.4412956237793, 67.63809967041016, 11.472082138061523, -21.9802303314209, -71.88716888427734, -58.789791107177734, 45.27620315551758, 52.726749420166016, 52.0677604675293, -41.28770065307617, -54.95610809326172, -55.29473114013672, -48.42771911621094, -48.20628356933594, 4.310153961181641, 15.126195907592773, -55.84731674194336, 41.43624496459961, 27.86751365661621, -5.853010654449463, 2.4166040420532227, -9.189873695373535, -76.51187133789062, 0.13658267259597778, 2.4155449867248535, -16.191425323486328, 6.208770275115967, 23.982521057128906, -55.69672393798828, -34.80840301513672, -73.79999542236328, 41.41838836669922, -64.33556365966797, -40.0716552734375, 33.77036666870117, -50.427833557128906, 29.31178092956543, -51.690982818603516, 52.78426742553711, -58.26274108886719, -43.58845901489258, -89.94258880615234, 31.819684982299805, -62.536949157714844, -1.642623782157898, -28.3140869140625, -25.259376525878906, 4.971940517425537, -25.968061447143555, -17.61420249938965, 8.134376525878906, -14.836255073547363, -8.296417236328125, -172.55426025390625, -24.429380416870117, 36.81824493408203, -30.779735565185547, 71.4557113647461, 85.02171325683594, -9.58427906036377, 49.07823944091797, -20.852428436279297, 60.01993179321289, 63.12018585205078, -7.090472221374512, -16.056058883666992, 38.215301513671875, 55.657981872558594, 6.253795623779297, 59.154666900634766, -15.303632736206055, 9.97713851928711, 8.61125373840332, -57.11477279663086, 38.230560302734375, 52.774505615234375, -2.386420965194702, 18.384429931640625, 32.517845153808594, 23.392642974853516, 22.010358810424805, -28.258588790893555, 17.799983978271484, 74.6254653930664, -34.58259201049805, 45.82522964477539, -15.616874694824219, 13.151721000671387, 72.3816909790039, 55.155269622802734, -71.91020965576172, -62.57931900024414, 81.14022827148438, -56.88672637939453, 27.87223243713379, 33.39033889770508, -58.19181442260742, 41.4483757019043, 75.38484191894531, 9.656671524047852, -54.60689163208008, -39.599952697753906, -51.565757751464844, 2.700690507888794, -28.877302169799805, -33.297149658203125, 47.55479431152344, 26.364383697509766, -41.6066780090332, 94.46180725097656, 94.38044738769531, 6.027815818786621, -29.330041885375977, -14.994853973388672, -49.31203079223633, -55.4448356628418, -12.389187812805176, 11.692017555236816, -9.675406455993652, 6.423148155212402, 7.363131999969482, 24.76793670654297, 8.597454071044922, -63.4362907409668, -10.345276832580566, 25.072616577148438, -80.1052474975586, 27.39666748046875, 63.84817123413086, -73.00110626220703, 76.8998794555664, 3.9343974590301514, -30.099428176879883, -51.85072326660156, -70.23489379882812, -60.72893524169922, 29.00421714782715, 13.41036319732666, -63.80608367919922, -17.785097122192383, -49.187137603759766, 20.689455032348633, 2.5777297019958496, -63.97786331176758, 98.13362884521484, 4.557943820953369, 50.591609954833984, -0.30652308464050293, -78.10230255126953, 24.554168701171875, 81.91256713867188, 26.198408126831055, 2.023674249649048, -38.53246307373047, 7.838132858276367, 13.585963249206543, 37.93099594116211, -5.466988563537598, -0.8760555982589722, 77.1214828491211, 52.806636810302734, 67.55992889404297, 9.798064231872559, 49.41433334350586, -3.6492843627929688, -3.6067187786102295, 5.265413761138916, -37.93351364135742, 44.12001419067383, -36.168914794921875, 75.80342864990234, 75.41228485107422, 31.506128311157227, -13.682762145996094, 70.31737518310547, -19.885400772094727, 64.42097473144531, -79.276611328125, -28.114086151123047, -8.667105674743652, -45.81985855102539, 65.7259521484375, -45.77884292602539, 63.68418502807617, 3.196302890777588, -72.41551971435547, 68.19232177734375, 6.326159477233887, -14.272994041442871, -40.97099304199219, 52.481361389160156, 85.81097412109375, 60.73310852050781, 77.05980682373047, 60.88893127441406, 17.407690048217773, -9.605819702148438, 47.106719970703125, 52.05439758300781, -32.27252960205078, 83.5623550415039, 86.6821060180664, -80.05497741699219, 5.178137302398682, -23.25296401977539, 85.61006164550781, 64.76473236083984, 14.35141658782959, 13.218789100646973, 30.792861938476562, -75.03524780273438, 33.00541305541992, 45.71862030029297, 42.93831253051758, 72.65766906738281, 62.44779586791992, -45.03849411010742, 48.00326919555664, 8.662352561950684, 52.253021240234375, 86.46177673339844, 9.672605514526367, -56.386375427246094, 51.52393341064453, -27.82318878173828, 11.436919212341309, 48.51294708251953, 42.53972625732422, 37.90108871459961, -5.233990669250488, 44.04471206665039, 4.443861484527588, 28.086774826049805, -71.44134521484375, -64.37600708007812, 2.545258045196533, -31.733903884887695, 1.443521499633789, -63.63145446777344, -49.37413024902344, -3.2848808765411377, -26.25494956970215, 22.03631591796875, -35.81026077270508, 62.57917404174805, 20.05222511291504, -70.84459686279297, 32.86103057861328, 31.602041244506836, -26.65052604675293, -15.640664100646973, 0.991581916809082, 43.99903106689453, 55.78154373168945, -39.575321197509766, -62.233577728271484, 50.25262451171875, 10.300853729248047, 4.172186374664307, 33.37199783325195, 32.748294830322266, -9.630104064941406, -63.805389404296875, -36.07592010498047, 64.83196258544922, 48.90534591674805, -75.64205932617188, 53.82455062866211, 79.30628967285156, -36.292625427246094, 69.06950378417969, 65.67562866210938, 32.47352981567383, -45.12617874145508, 70.53717041015625, -49.276893615722656, 96.57077026367188, -46.16676330566406, -42.36176681518555, -3.70576810836792, -0.4813785254955292, -21.509143829345703, -58.68202590942383, 15.559974670410156, -1.8702826499938965, 50.45979690551758, 53.61241149902344, -11.45654010772705, 34.54365539550781, 41.22692108154297, -7.326663494110107, 101.42860412597656, 93.20039367675781, 55.411556243896484, -42.672088623046875, -36.81574630737305, 55.66064453125, -27.630109786987305, -48.42988586425781, -41.81946563720703, -34.676639556884766, 80.9585189819336, 62.42425537109375, 43.529232025146484, 6.125540256500244, 72.11971282958984, -23.069250106811523, -2.6583518981933594, -18.35685157775879, -1.6636111736297607, 20.091659545898438, 31.66265106201172, 67.7388687133789, 73.47203826904297, 9.982151985168457, 15.1756010055542, 30.064983367919922, -47.350372314453125, 29.396839141845703, -40.298118591308594, -18.310014724731445, 73.86243438720703, 15.225398063659668, -27.711885452270508, -39.23736572265625, -4.93782377243042, 4.478145122528076, 92.64836883544922, 69.32329559326172, 62.209537506103516, -34.19901657104492, 52.76740646362305, 38.2324104309082, -35.53300476074219, 58.49538040161133, 26.474658966064453, 39.42832565307617, -36.922340393066406, 7.615461349487305, 69.81063842773438, 91.91669464111328, 49.45547866821289, -54.26856231689453, -95.82923126220703, -32.248016357421875, 57.34013748168945, 53.23958969116211, 42.35875701904297, -2.554988145828247, -31.39532470703125, 31.07282257080078, 84.42445373535156, -23.331165313720703, 50.76401138305664, -60.19088363647461, -14.827016830444336, 57.64767837524414, -56.94175338745117, -60.989227294921875, 52.06764221191406, -1.8179377317428589, 32.94600296020508, 8.058399200439453, 38.954925537109375, 27.251062393188477, -62.081729888916016, -61.83027648925781, 13.919105529785156, 24.188217163085938, 32.37250518798828, 8.4187593460083, 17.02988052368164, 4.653774738311768, 24.111974716186523, -124.69073486328125, -9.956253051757812, 33.772216796875, 20.005847930908203, -76.84225463867188, 14.086308479309082, -67.01263427734375, 34.13853454589844, 3.5656144618988037, 24.12898063659668, -47.30264663696289, -10.953782081604004, 37.65333557128906, -17.687713623046875, 32.262550354003906, 22.92269515991211, 21.268341064453125, -8.25722599029541, 79.87483215332031, -72.38062286376953, -4.589376926422119, -28.011083602905273, -44.645206451416016, 19.88070297241211, 22.721681594848633, 14.913905143737793, 20.342313766479492, 58.852264404296875, -27.659605026245117, 20.717256546020508, -22.779109954833984, -8.567145347595215, -32.2702751159668, 42.88385772705078, 26.360498428344727, 15.763113021850586, 11.48265552520752, 35.17369842529297, 12.921269416809082, -36.9918327331543, 26.236427307128906, 33.258602142333984, -50.11716842651367, 6.917229652404785, 25.911510467529297, 21.03528594970703, -16.877527236938477, -20.8348331451416, -0.8970154523849487, 38.13616943359375, -22.443634033203125, -22.684356689453125, -30.164827346801758, -62.215572357177734, -6.13785982131958, -15.096884727478027, -8.419647216796875, -65.9599838256836, 5.380134582519531, -24.67523193359375, -32.6944694519043, 16.50223731994629, -17.710933685302734, -4.410151958465576, -62.34746551513672, 58.076210021972656, 45.31041717529297, 63.068939208984375, 22.336990356445312, 50.36793518066406, -61.373268127441406, -37.89662170410156, 5.308396816253662, 27.297178268432617, 28.358922958374023, 25.3164005279541, -66.43875122070312, 34.58403015136719, -10.218988418579102, -96.48058319091797, 21.6948184967041, 15.883743286132812, -83.37077331542969, -8.398261070251465, 35.20487976074219, 38.65090560913086, 24.266891479492188, 30.50839614868164, -113.23714447021484, 40.510955810546875, 56.190452575683594, 22.380592346191406, -9.055655479431152, 32.82617950439453, 8.48180103302002, 16.14161491394043, 31.021820068359375, -59.97163009643555, 27.87190055847168, -88.05307006835938], \"z\": [36.71652603149414, -4.822420120239258, 16.700565338134766, -12.142766952514648, -33.65342712402344, 70.12267303466797, -32.12306594848633, 1.8016139268875122, 11.250840187072754, -40.008480072021484, -72.61858367919922, -64.79258728027344, -76.7701416015625, -71.1999740600586, -31.214527130126953, 3.110616683959961, 8.083991050720215, -80.85050201416016, 30.76889991760254, 37.99089813232422, 15.622437477111816, 51.83938980102539, 79.2872314453125, 42.36042785644531, -4.674391269683838, 26.906063079833984, -28.45537567138672, 32.240108489990234, 21.455184936523438, 82.55626678466797, 53.14755630493164, -26.26727867126465, -13.576537132263184, -41.10429382324219, 56.148624420166016, 48.49099349975586, -16.66094207763672, -6.593086242675781, 46.2095947265625, 76.22919464111328, 20.616073608398438, -5.538906574249268, -34.289058685302734, 3.407728433609009, -31.396385192871094, 44.91019821166992, -10.59926986694336, 66.7158432006836, 43.11951446533203, -9.162114143371582, 6.65478515625, 17.784849166870117, -6.597960472106934, 87.68502807617188, 4.715038776397705, -24.12879753112793, -18.505199432373047, -3.098562002182007, -3.803771734237671, -11.210245132446289, -0.045630428940057755, -31.93109130859375, -36.271484375, -4.592217445373535, -62.31085205078125, 6.458925724029541, 45.57497024536133, -60.46726989746094, 9.713834762573242, -6.289422512054443, 34.56120681762695, -9.293798446655273, -70.03180694580078, 16.26427459716797, -11.616806983947754, 17.231447219848633, -23.505796432495117, 13.125689506530762, 6.042242527008057, -5.5902934074401855, 71.4849624633789, -11.966376304626465, 62.22748565673828, 11.52402400970459, -39.985469818115234, -6.136597633361816, 51.266666412353516, -17.847061157226562, -51.71579360961914, 84.71247863769531, -17.208419799804688, 8.688952445983887, 23.8200626373291, -26.069686889648438, 51.04521560668945, 23.741212844848633, -7.9401631355285645, 81.7364501953125, 102.28216552734375, 48.19808578491211, -70.10682678222656, -25.061315536499023, -12.03907299041748, 19.515127182006836, 97.6996841430664, -38.5369873046875, 83.54570007324219, -31.04736328125, 12.566980361938477, 64.4632568359375, -21.084457397460938, 30.976884841918945, -19.29521369934082, -47.22093200683594, -13.039628028869629, -86.53083038330078, 35.35538864135742, -13.070075035095215, -5.162943363189697, 2.5784735679626465, -39.187103271484375, -59.29490661621094, 16.450586318969727, -46.89231491088867, -19.61273193359375, 14.454198837280273, 1.4973706007003784, -34.90592575073242, 2.82195782661438, -7.870090007781982, 77.72135925292969, -12.334796905517578, 1.6606860160827637, 51.04899597167969, 36.77413558959961, 13.482093811035156, 32.40494155883789, -28.02408790588379, -55.57594299316406, -10.963054656982422, -20.212717056274414, 49.33467483520508, 2.3303775787353516, -1.171034812927246, -36.57832336425781, -64.56450653076172, 13.284286499023438, -37.24169921875, 24.737110137939453, -59.968196868896484, -28.601667404174805, 35.589908599853516, 25.5556583404541, 65.53887176513672, 68.57303619384766, -16.444068908691406, 13.47530746459961, -8.63121509552002, 8.140426635742188, 3.1311731338500977, 71.78571319580078, 33.46577453613281, 84.23837280273438, -98.27523803710938, 8.074620246887207, 48.29818344116211, -5.024933815002441, 87.3224105834961, -3.667816400527954, 5.954990386962891, -59.346824645996094, -20.421873092651367, 74.90522766113281, -36.889896392822266, -16.44267463684082, -19.555421829223633, -37.99271011352539, -27.640573501586914, 87.83026123046875, 2.1802737712860107, -30.576274871826172, -14.057002067565918, 65.16698455810547, 70.34782409667969, 9.762073516845703, 2.500368356704712, -24.581911087036133, 36.46688461303711, -4.079310894012451, -44.632015228271484, 13.850141525268555, -38.317481994628906, 31.885419845581055, 42.178401947021484, 19.498043060302734, 83.69781494140625, -16.759416580200195, -32.061866760253906, -5.999958515167236, -39.840972900390625, 20.607717514038086, 20.333059310913086, -2.943959951400757, -6.036197662353516, -2.9820549488067627, -3.657654285430908, 19.508275985717773, 42.98545455932617, -64.89588928222656, 92.08899688720703, 41.20732498168945, -57.08180618286133, 41.51495361328125, 14.074810028076172, -24.026714324951172, -17.313556671142578, -91.98014831542969, 61.64007568359375, -13.609358787536621, -9.593307495117188, -52.06560516357422, -0.42258983850479126, 20.088274002075195, -32.04256057739258, 74.25442504882812, -91.76612854003906, 38.270912170410156, 36.34327697753906, 33.94295883178711, -11.236493110656738, 5.41851282119751, 51.08651351928711, 60.531227111816406, 10.764894485473633, 13.418214797973633, 40.150054931640625, 60.70115661621094, -9.684423446655273, 56.30338668823242, 64.373779296875, -28.937593460083008, 14.881584167480469, 10.87055492401123, -50.032264709472656, 17.12460708618164, -45.3170051574707, -73.73837280273438, 26.947582244873047, -21.264942169189453, -11.365880966186523, 58.62815856933594, 55.02968978881836, -37.635414123535156, -27.447601318359375, -39.081634521484375, 98.74080657958984, -72.10958862304688, -31.72283172607422, 70.93079376220703, -76.984375, -42.74941635131836, 29.89271354675293, -35.558128356933594, -31.697893142700195, -18.05600929260254, 66.06262969970703, 15.862943649291992, 11.755159378051758, 14.25439453125, 58.996681213378906, -41.378623962402344, -0.2532491385936737, -23.183412551879883, -41.89915084838867, 61.53032684326172, 7.380074977874756, -82.02932739257812, 75.70171356201172, 5.390223503112793, -86.86526489257812, -19.439512252807617, 37.08901596069336, 21.428525924682617, 21.424955368041992, 65.27149200439453, 10.25998592376709, 8.594610214233398, 9.78403377532959, 0.9470873475074768, 6.210689544677734, 17.937870025634766, -18.347261428833008, 20.102828979492188, -33.00440216064453, 93.17030334472656, -23.44939422607422, -70.0730209350586, 58.660091400146484, 22.962459564208984, 46.56547164916992, -44.42323303222656, 41.88557815551758, -12.67153263092041, -30.340255737304688, -16.38141632080078, -6.164173126220703, -63.5080451965332, 39.87419891357422, -25.755264282226562, 45.52640914916992, 50.799800872802734, 39.37895965576172, -0.7779695987701416, 47.566322326660156, -64.7470703125, 24.061437606811523, 36.94957733154297, 3.8254666328430176, 4.73888635635376, 1.4581382274627686, -1.407175064086914, 19.530765533447266, 16.790802001953125, 38.196571350097656, -89.6318359375, 41.90235900878906, -31.214527130126953, -54.23013687133789, 45.001983642578125, 10.968195915222168, 0.0018272213637828827, 3.914121150970459, 65.85433959960938, 44.37478256225586, 9.707646369934082, 72.49906921386719, 23.322980880737305, -46.929988861083984, 10.169283866882324, 63.32149124145508, -17.964324951171875, -17.386348724365234, -14.96527099609375, 11.090615272521973, 29.931896209716797, -5.716686248779297, 0.1554393321275711, -31.214527130126953, 67.19447326660156, 49.97969055175781, 12.695028305053711, -48.71718215942383, -14.117912292480469, -25.873672485351562, -25.165109634399414, 13.91319751739502, 17.94403648376465, 47.54313278198242, 33.79033660888672, 37.12306213378906, 31.582183837890625, 27.103731155395508, 88.9323959350586, 7.1147966384887695, 29.57460594177246, -48.80510711669922, -12.339259147644043, 9.399045944213867, 15.860631942749023, 1.142965316772461, 81.36453247070312, -19.78638458251953, -30.685894012451172, -91.95572662353516, -4.27850341796875, -29.271833419799805, -10.086947441101074, -17.841005325317383, -46.35993957519531, 35.35084915161133, -75.4201889038086, -2.023937940597534, 20.6898193359375, -66.32854461669922, -81.63079071044922, -12.797324180603027, 0.1990964263677597, -31.214527130126953, -0.8126754760742188, -1.1773273944854736, 18.76926040649414, -7.170268535614014, 57.499847412109375, -9.73047924041748, -2.235466957092285, -89.92007446289062, -44.04407501220703, 40.210777282714844, 72.52112579345703, 52.968994140625, 9.111233711242676, -8.159013748168945, -18.69228744506836, -4.738365650177002, 4.622737884521484, 7.060272693634033, 1.4307758808135986, -71.1468505859375, 63.315101623535156, -34.32594680786133, 3.127715826034546, 58.95515823364258, -76.13883972167969, -35.20505905151367, -62.9617919921875, 18.290956497192383, 52.528770446777344, 13.778040885925293, 45.32598114013672, -46.749427795410156, 15.841032028198242, -0.9346243739128113, 9.738937377929688, 32.61489486694336, 60.217002868652344, 6.126357555389404, -32.37132263183594, -25.873672485351562, 73.6185302734375, -15.794961929321289, 1.8207236528396606, 82.92314910888672, 77.14105224609375, 72.16453552246094, 20.00861358642578, -1.5664184093475342, -66.75056457519531, 15.549033164978027, -32.04335021972656, 71.95211029052734, 20.91288948059082, 31.146831512451172, -13.764395713806152, -20.272289276123047, 83.29729461669922, 89.52210235595703, 44.1947021484375, 3.383143424987793, -9.486715316772461, -8.813323020935059, 77.9649658203125, -41.49950408935547, 51.650733947753906, 42.555538177490234, 21.674955368041992, -88.99356079101562, 73.66507720947266, -36.56637191772461, -14.304610252380371, -94.97663879394531, -0.747416615486145, -31.72153663635254, 24.257226943969727, 69.68412780761719, -5.0510077476501465, 15.922093391418457, -69.12911224365234, 34.77947235107422, -26.277833938598633, 24.1915340423584, 50.76578140258789, -19.60453224182129, 21.47381591796875, 51.274261474609375, -42.395626068115234, 38.358863830566406, 34.76826858520508, -23.21354103088379, 10.121997833251953, 59.535606384277344, 58.430171966552734, 35.1805534362793, 98.58550262451172, 57.84779357910156, 2.080888509750366, -72.67979431152344, 78.48973083496094, -10.727840423583984, 37.81913375854492, -5.562798023223877, 42.65366744995117, -7.841070652008057, 33.406837463378906, 13.113823890686035, 45.957096099853516, 68.3434066772461, -29.501611709594727, -31.121320724487305, -14.438040733337402, 56.30842208862305, -4.308444023132324, -14.278816223144531, 36.8222770690918, -50.03387451171875, -16.52072525024414, -29.193275451660156, -65.80416870117188, -55.90617752075195, 56.506439208984375, -0.43539801239967346, 57.146095275878906, -32.11894607543945, 5.00009298324585, 40.18101501464844, 21.274784088134766, 78.3051986694336, -13.593620300292969, 26.394641876220703, 9.999871253967285, 54.437164306640625, 0.03660329431295395, -11.022199630737305, -50.49482727050781, 15.16823959350586, 33.13720703125, 67.25430297851562, -27.62680435180664, 25.545188903808594, 10.012414932250977, 47.955684661865234, 62.571800231933594, -16.417884826660156, -15.702492713928223, 48.7912712097168, -28.361722946166992, -57.80508804321289, -11.64444637298584, 86.57927703857422, -3.1459717750549316, 36.31794738769531, 13.937993049621582, 77.5606918334961, 2.9569039344787598, 16.415328979492188, 37.87896728515625, -58.5429801940918, -2.926840305328369, -68.83229064941406, 34.860748291015625, 23.704036712646484, 38.378971099853516, 23.560617446899414, 21.532611846923828, 36.85124206542969, 5.713204860687256, 37.26913070678711, 80.36660766601562, -8.360583305358887, 20.085670471191406, -66.3748550415039, 38.237335205078125, 24.263004302978516, -30.492904663085938, 38.909793853759766, 12.421821594238281, -7.26973295211792, 28.184410095214844, -11.046987533569336, 8.02400016784668, -49.21744918823242, -20.600547790527344, 29.501253128051758, -93.46498107910156, 44.46783447265625, 42.33250045776367, 33.21268844604492, -12.368042945861816, 31.12758445739746, 35.99794006347656, 40.17949676513672, 34.45915603637695, -37.62727355957031, 34.853755950927734, -13.858094215393066, 51.349090576171875, 43.20213317871094, 55.77824401855469, -22.7137393951416, -17.501855850219727, -81.39923095703125, 44.193668365478516, -3.14064359664917, 58.718658447265625, 15.609865188598633, 42.200496673583984, -17.61046600341797, -90.31719207763672, 95.18313598632812, 41.9767951965332, -52.230812072753906, -23.230777740478516, -4.169110298156738, 9.134520530700684, 51.61849594116211, -63.46588134765625, -38.85246658325195, 52.98711395263672, 30.547225952148438, 15.144312858581543, 6.750881195068359, -2.7028563022613525, 40.114349365234375, -30.06749153137207, 26.05329704284668, 2.771172523498535, -24.97634506225586, -59.0311164855957, -2.27480411529541, -51.40388107299805, -33.21236801147461, -73.78252410888672, -8.003945350646973, 46.0237922668457, -32.06303787231445, 70.59825897216797, 67.7519760131836, -18.975753784179688, 36.42563247680664, -4.607387542724609, 29.619325637817383, -22.288503646850586, -38.69832229614258, -74.9427719116211, 58.696903228759766, -27.251014709472656, 66.88699340820312, 1.385267734527588, -71.77967834472656, -9.788724899291992, 7.308994770050049, 81.14794158935547, -34.89562225341797, 19.177169799804688, 30.5893497467041, 22.891366958618164, -14.331844329833984, -5.7947096824646, 60.9964485168457, 59.24232864379883, -12.560808181762695, -83.95282745361328, 53.327152252197266, -71.24043273925781, -99.13742065429688, -65.33563232421875, -15.376708984375, 15.922093391418457, -53.02171325683594, 49.31805419921875, 26.223222732543945, -26.06833839416504, -23.576536178588867, 4.598363399505615, 44.38410568237305, 15.63536262512207, -8.963727951049805, 22.681896209716797, 74.55913543701172, -14.10655403137207, 49.597625732421875, 24.473308563232422, -66.71192932128906, 93.11116790771484, 7.744298458099365, 32.54549026489258, -16.00115966796875, 32.94150924682617, 33.76335525512695, 63.34345626831055, 19.1208438873291, -34.867279052734375, 46.51984405517578, -10.01052188873291, -15.830663681030273, 27.05862808227539, -53.296226501464844, -44.129451751708984, -36.537200927734375, 32.780235290527344, 18.916637420654297, 81.32959747314453, 11.373283386230469, 28.73041343688965, 5.213508605957031, -24.61064338684082, 36.25151443481445, -7.684981822967529, 18.46982192993164, -47.294410705566406, 56.17545700073242, -39.342159271240234, -5.935748100280762, -79.4869613647461, -2.015502452850342, 36.34667205810547, -60.01834487915039, -11.928101539611816, -1.618571162223816, -7.2390947341918945, -31.948734283447266, -82.146240234375, 28.04829216003418, -43.43380355834961, 28.80848503112793, 21.128759384155273, -28.00144386291504, 28.38606071472168, 24.454898834228516, -7.479573726654053, 22.781333923339844, -11.962592124938965, -9.426194190979004, 36.5795783996582, -15.85915756225586, 9.051435470581055, -0.2628905177116394, -58.80635452270508, 3.478414297103882, -41.99022674560547, -1.1440740823745728, -8.114441871643066, -33.33371353149414, 35.6171875, 68.59623718261719, -73.74393463134766, 41.757835388183594, 60.41588592529297, -34.88527297973633, -10.595005989074707, 6.591001510620117, 76.7437744140625, -91.75821685791016, 32.70136642456055, -3.760457754135132, -56.73102951049805, 36.43525695800781, 28.461244583129883, 39.366455078125, 23.187889099121094, 37.58701705932617, -49.3369255065918, 45.2530403137207, 74.4795150756836, 103.06597900390625, 50.45909118652344, -27.12529945373535, 25.545162200927734, 50.696189880371094, 182.46946716308594, -34.752803802490234, -70.84779357910156, -81.59849548339844, 27.56513023376465, -60.88591003417969, 25.595678329467773, -51.352256774902344, -74.7125015258789, 1.086793065071106, 11.861811637878418, 32.53866958618164, 2.334359884262085, 63.32978057861328, 68.71829986572266, 55.56602096557617, 11.102463722229004, 29.888874053955078, 28.957321166992188, 97.6473617553711, 52.82160568237305, -2.109145164489746, 18.410654067993164, 87.62640380859375, 8.827609062194824, 74.91146087646484, -56.471458435058594, 34.600990295410156, -9.607965469360352, -65.44052124023438, 40.246177673339844, 41.6694221496582, 15.148276329040527, 4.953861236572266, 13.269074440002441, 29.353885650634766, 24.246841430664062, 31.85481071472168, 39.67342758178711, 34.20209503173828, -58.7723503112793, 76.25209045410156, 53.08737564086914, -10.198439598083496, -42.60381317138672, 28.658340454101562, -21.596643447875977, -7.57207727432251, 46.00162124633789, 34.73877716064453, -48.43146896362305, 52.07313919067383, -20.99449348449707, 20.700578689575195, -17.73360252380371, -5.105995178222656, 89.3591079711914, -11.748767852783203, 102.4394760131836, -81.09208679199219, 63.110774993896484, -19.973003387451172, 104.2165756225586, 82.36367797851562, 87.1045913696289, 15.762937545776367, -5.25287389755249, 48.6420783996582, -83.18270111083984, 28.863618850708008, 65.79058837890625, 71.20323181152344, 24.084985733032227, -4.284610271453857, 48.908992767333984, 67.94015502929688, -34.752803802490234, -37.02285385131836, -28.13092803955078, 11.997785568237305, -16.791330337524414, -7.918270587921143, -42.24433135986328, 8.035995483398438, -29.91275405883789, -57.9176025390625, 3.1126856803894043, 12.693582534790039, 8.184487342834473, 58.108455657958984, 57.02907943725586, 62.12851333618164, 69.22783660888672, -73.13713073730469, -6.584681034088135, 7.6990580558776855, -31.867382049560547, -70.77481079101562, -0.20449641346931458, 31.406295776367188, 28.32267189025879, 53.0286750793457, 13.799001693725586, 6.534248352050781, 18.68079376220703, 71.69965362548828, -82.6845703125, 56.47276306152344, -1.2531574964523315, 35.228458404541016, -7.094647407531738, 26.605634689331055, 76.4023666381836, 42.8477668762207, -30.492563247680664, 4.4386725425720215, -98.54450988769531, -15.933452606201172, 11.81048583984375, -27.39474868774414, 70.7182846069336, 23.522300720214844, 82.94517517089844, 25.937347412109375, 32.475555419921875, -84.68433380126953, 43.79542541503906, -21.45094871520996, 94.53744506835938, 3.9289677143096924, -2.1356189250946045, -90.5559310913086, -102.71904754638672, -23.011747360229492, -5.829174518585205, -45.11627960205078, -47.780548095703125, -30.017122268676758, -19.462987899780273, -80.25321197509766, -8.115111351013184, 26.278745651245117, 30.624526977539062, -85.60469055175781, -22.392274856567383, 8.215608596801758, -43.130489349365234, 56.33362579345703, 37.813377380371094, 7.039702892303467, 29.283546447753906, 52.08623123168945, 51.81779861450195, 27.984413146972656, 92.44833374023438, -86.41165161132812, 15.600180625915527, 13.000643730163574, -10.037216186523438, 3.5658392906188965, 15.810127258300781, -2.0387067794799805, 24.417003631591797, 33.46098327636719, 8.49842357635498, 22.60283088684082, 43.50029373168945, 31.05344009399414, -19.628767013549805, 41.232757568359375, -5.370519638061523, 43.11048126220703, -32.025760650634766, -59.02135467529297, 37.55192565917969, -8.284560203552246, 5.846103191375732, -36.318668365478516, 37.637046813964844, 36.105167388916016, 20.836488723754883, 53.533355712890625, -41.56964111328125, 68.02896118164062, 20.047422409057617, 57.491878509521484, -1.9064327478408813, -88.59954833984375, -7.405077934265137, 46.353912353515625, -10.133207321166992, -4.223992347717285, 32.00719451904297, 11.300422668457031, 4.229412078857422, 43.72010803222656, -45.6839714050293, 25.924867630004883, 3.672192096710205, 52.48884582519531, -19.729799270629883, 36.71236801147461, 12.174066543579102, -72.23826599121094, -8.514809608459473, 25.071718215942383, -49.769222259521484, 86.69490814208984, -46.03339385986328, 3.981046676635742, -60.598575592041016, 56.99028015136719, -6.498358726501465, 44.90602493286133, -9.120243072509766, -23.372264862060547, 3.202965497970581, -17.895395278930664, 27.352828979492188, -0.5623195767402649, -9.536009788513184, -64.34598541259766, -63.24261474609375, 13.043848991394043, 9.007055282592773, 86.14063262939453, 30.962074279785156, -2.550668239593506, 48.680667877197266, 25.32327651977539, 11.60296630859375, 77.74588775634766, -49.45283889770508, 33.39311599731445, -19.416784286499023, 96.02266693115234, 27.244834899902344, 11.885520935058594, -39.79610061645508, 16.71915626525879, 42.11635971069336, -58.68701171875, 74.68172454833984, 4.823167324066162, 3.6129744052886963, -15.486268043518066, -47.11842727661133, 61.881534576416016, -20.227012634277344, 38.29243087768555, 8.058036804199219, -36.52801513671875, 8.999021530151367, -17.654869079589844, -22.424394607543945, -10.257824897766113, -71.6749038696289, 21.48198699951172, -26.132503509521484, 61.325443267822266, -3.637619733810425, -26.17103385925293, 54.893096923828125, 1.1451730728149414, 31.13241958618164, 89.5615463256836, 56.08930969238281, -35.021263122558594, 45.409854888916016, -36.241111755371094, -92.27872467041016, 18.47087860107422, 38.23520278930664, 25.16355323791504, 25.44272232055664, 51.588069915771484, 2.86487078666687, -77.99056243896484, -79.10256958007812, 15.893964767456055, 21.85007667541504, 31.38096809387207, 35.8032341003418, -20.07221221923828, -20.131256103515625, 29.160728454589844, 15.683629035949707, 20.581069946289062, -33.96870803833008, 13.227117538452148, -35.83808517456055, 28.753618240356445, 9.97334098815918, -16.303152084350586, -1.5159931182861328, -43.25808334350586, -59.97758483886719, -69.19871520996094, -17.296798706054688, 48.22211456298828, 29.01251220703125, 43.35912322998047, 1.782941222190857, -77.25090789794922, -19.991336822509766, 58.51800537109375, 31.463163375854492, 8.155516624450684, -11.792160987854004, 32.93270492553711, 48.68390655517578, -10.50681209564209, 45.780426025390625, -66.53585052490234, -8.0433931350708, -11.093476295471191, 8.480097770690918, 64.50697326660156, 7.080190181732178, 25.7921085357666, 51.38268280029297, 29.3255558013916, 3.5475013256073, -69.59051513671875, -7.248586654663086, 5.3961567878723145, -1.7198103666305542, -5.729004859924316, -25.179588317871094, 55.72688293457031, -74.3733139038086, 25.309606552124023, -4.577795505523682, -28.252044677734375, 15.25440788269043, -10.259406089782715, 1.1201883554458618, -6.7054314613342285, 12.940276145935059, 18.248512268066406, -17.015602111816406, 35.405189514160156, -49.17403793334961, -10.28268051147461, -7.079232215881348, 73.21145629882812, 65.31989288330078, 23.03069305419922, -4.775759696960449, -9.990474700927734, -13.36587142944336, 0.9858284592628479, -5.0206804275512695, 32.433109283447266, -62.443992614746094, 51.37883758544922, -83.58814239501953, 10.194123268127441, 45.26483917236328, -12.312169075012207, 63.10604476928711, -38.30939483642578, 51.5104866027832, -62.148231506347656, 43.814266204833984, 34.83489990234375, 48.85535430908203, -3.999495506286621, -24.040687561035156, -6.509133338928223, 2.651179313659668, -61.48677444458008, 16.752473831176758, 68.47505950927734, 2.723940372467041, 22.31794548034668, 0.030843006446957588, 13.009050369262695, -56.382625579833984, 39.1207160949707, 57.170310974121094, 10.486103057861328, 33.81436538696289, -1.0006247758865356, -21.162109375, -78.0700454711914, -64.66747283935547, -19.29619026184082, 80.17648315429688, -15.842419624328613, -15.019031524658203, 40.215171813964844, -0.9239957928657532, -2.553215503692627, 21.364221572875977, 24.509553909301758, 17.013410568237305, 58.36997985839844, -58.62544631958008, -13.381129264831543, 10.136285781860352, 0.506811261177063, -43.46569061279297, -26.89716911315918, -18.610122680664062, 28.559200286865234, 18.012088775634766, -60.25503158569336, 87.45436096191406, -6.150261402130127, -40.0692253112793, -5.088064193725586, -13.171795845031738, -62.90735626220703, 24.68354606628418, 35.5803337097168, 41.90673065185547, 16.493654251098633, 7.442349910736084, 28.7156982421875, -46.57362747192383, 5.748673439025879, -27.602746963500977, -75.60982513427734, 11.844594955444336, 8.417349815368652, 26.650970458984375, 78.89532470703125, 30.227947235107422, 63.9588508605957, 74.0304183959961, 64.40037536621094, 80.0811996459961, 66.28733825683594, -6.598322868347168, 94.28126525878906, 68.75399780273438, 29.33537483215332, 18.965351104736328, 53.11441421508789, -38.74302673339844, 26.527070999145508, 27.570310592651367, 2.1607553958892822, 2.6969385147094727, 26.633270263671875, -1.5834399461746216, -15.162452697753906, 11.608233451843262, -6.106110572814941, 3.151820182800293, -75.00112915039062, 40.30191421508789, -18.10886573791504, 22.711078643798828, -56.22675323486328, 7.606159687042236, 58.778236389160156, 20.24234390258789, 28.480276107788086, 14.638486862182617, -0.6496071815490723, 42.28226852416992, 0.46485307812690735, 28.65109634399414, 14.028788566589355, 6.385159015655518, -70.66584014892578, 9.138284683227539, 56.109004974365234, 24.30970573425293, 32.01575469970703, 44.31842041015625, 43.33770751953125, 3.0968263149261475, -10.973865509033203, -0.3437674939632416, 5.861618995666504, 57.9747200012207, 10.027612686157227, 85.64990234375, -50.82368087768555, -12.241828918457031, -1.5956512689590454, 32.77992248535156, -5.7595977783203125, -90.66239166259766, -76.35062408447266, 31.2116756439209, -26.716894149780273, -18.20696449279785, 39.91482925415039, -26.205657958984375, -47.36565017700195, -39.657196044921875, 46.41286849975586, -8.766706466674805, 41.4652099609375, 61.30984878540039, 63.99154281616211, 34.26321029663086, 50.27223587036133, 53.10084533691406, 39.517181396484375, 23.927045822143555, 14.053079605102539, 32.61117935180664, 81.00111389160156, 11.880849838256836, 22.17249870300293, -21.282455444335938, 30.529937744140625, -15.85965347290039, 60.75027084350586, -3.2637627124786377, -89.28075408935547, -6.191190719604492, 17.965892791748047, -8.012472152709961, 40.27488327026367, -47.0724983215332, -11.72669792175293, -75.8731918334961, -2.711392879486084, -10.901579856872559, 26.115190505981445, 25.609447479248047, 40.54302215576172, -30.14414405822754, -3.5103085041046143, 66.78889465332031, -10.177698135375977, 61.73833465576172, 41.561954498291016, 90.6527328491211, -13.677009582519531, 58.53407669067383, -29.6029052734375, 47.69038772583008, -13.783509254455566, -70.87345886230469, -66.06875610351562, 54.11241149902344, 29.011796951293945, -2.744476795196533, -23.449954986572266, 51.397560119628906, 39.98885726928711, 85.87060546875, 45.913150787353516, 19.108009338378906, -36.85266876220703, -25.179786682128906, -26.17645835876465, 1.4647233486175537, 17.46177864074707, -10.58254337310791, -41.004573822021484, -60.736942291259766, 66.68389129638672, 0.4270569384098053, -0.7502329349517822, 20.675750732421875, 16.0644588470459, 73.99347686767578, -20.74949836730957, -35.83211135864258, 44.20542526245117, 29.170291900634766, 18.59986114501953, -28.790369033813477, -74.03204345703125, 2.0999755859375, 29.06280517578125, 21.723817825317383, -64.86062622070312, -6.1399664878845215, -10.673784255981445, -18.368562698364258, 12.064168930053711, 20.607698440551758, 12.751352310180664, 30.125654220581055, -45.043331146240234, 26.279247283935547, -5.252783298492432, 16.894561767578125, 62.14644241333008, -45.63230514526367, 41.70765686035156, 15.499975204467773, 58.659915924072266, -56.2865104675293, 40.449832916259766, -34.84431838989258, -3.563495635986328, 40.45148849487305, -40.44777297973633, -58.546424865722656, 1.123368263244629, -67.65330505371094, -52.29391860961914, 85.10497283935547, -22.842679977416992, -14.332891464233398, 34.81950759887695, 68.27105712890625, 52.5643196105957, -55.0492057800293, -62.436920166015625, 24.463302612304688, 77.52228546142578, 16.623313903808594, 19.41571807861328, 90.89229583740234, -44.050048828125, -2.112414836883545, 38.05388259887695, -45.95822525024414, -7.817126750946045, -7.007681369781494, -9.51513957977295, 25.041095733642578, 72.52836608886719, 48.00929641723633, 23.608070373535156, 4.680641174316406, 3.8427257537841797, -11.041378021240234, 36.211971282958984, 50.02334976196289, 26.944509506225586, 85.84809112548828, 0.9574105739593506, 32.612586975097656, -45.686546325683594, 15.478470802307129, -13.7311429977417, 9.47492504119873, -54.040252685546875, -37.157718658447266, 7.216183185577393, -51.10079574584961, 42.73796081542969, -76.65869140625, 15.039918899536133, -13.588761329650879, 5.573757171630859, 21.34980583190918, 23.73809051513672, -25.594621658325195, 30.378023147583008, -32.397884368896484, -24.337505340576172, -6.041533470153809, -46.38994216918945, 72.821044921875, -56.761199951171875, 3.6840012073516846, 19.234975814819336, 37.448211669921875, 31.638145446777344, -14.93370246887207, 21.655885696411133, 12.39022445678711, 41.03273010253906, -19.326435089111328, -33.544979095458984, -30.873443603515625, -56.85337448120117, 13.60666561126709, 10.803831100463867, -64.348876953125, -23.371129989624023, 25.73977279663086, -9.61530876159668, 59.438621520996094, 13.464505195617676, 36.91844177246094, 11.70878791809082, -26.675504684448242, 6.094787120819092, -71.8578109741211, -24.6513729095459, -22.78238868713379, 3.7825279235839844, -47.91630935668945, -35.29570007324219, -35.174896240234375, 44.355262756347656, 28.703571319580078, 24.229005813598633, 83.91614532470703, -35.434051513671875, -11.311976432800293, 14.59746265411377, -70.52490234375, 32.24605178833008, -64.56119537353516, 93.82719421386719, -55.22011184692383, 6.761846542358398, 42.70966339111328, 21.419891357421875, -58.1670036315918, -46.25584411621094, 20.70867156982422, -20.127761840820312, -77.7953109741211, 25.827754974365234, 6.058348655700684, 44.71531677246094, -23.377241134643555, 54.63978958129883, 78.5020523071289, 72.71957397460938, -12.249313354492188, -32.87177658081055, 17.154247283935547, 28.968412399291992, 70.65081024169922, 96.55177307128906, -73.7676773071289, -0.2841491997241974, -80.88493347167969, 22.239032745361328, -8.053084373474121, -32.20176696777344, 16.632707595825195, 31.204622268676758, -35.38789749145508, -83.15196990966797, -15.71694564819336, 79.88024139404297, -4.983189105987549, -18.062990188598633, 41.8639030456543, -75.50218963623047, 55.769039154052734, 23.683605194091797, 7.537392616271973, 17.17879295349121, -77.38179779052734, 68.89350128173828, 51.37736892700195, 51.724849700927734, 0.5571975708007812, 19.971092224121094, -16.12386131286621, -6.9033918380737305, 13.669174194335938, 169.72715759277344, -25.099609375, -4.17091703414917, 10.590757369995117, 6.700366020202637, 35.21642303466797, 73.69481658935547, -23.476802825927734, -1.0123244524002075, 11.845393180847168, -13.834532737731934, 4.491483688354492, -2.493483304977417, 46.94874954223633, 37.67264175415039, -3.0872962474823, 30.37656021118164, 3.8596444129943848, 14.8052396774292, -31.304943084716797, 30.35181427001953, 3.455976724624634, 12.240674018859863, -41.218048095703125, -28.900869369506836, 32.70243835449219, 38.75442123413086, -70.16372680664062, 24.90780258178711, 17.88443374633789, 71.60607147216797, 36.90949249267578, 57.2929573059082, 2.6222031116485596, -67.33445739746094, -13.956304550170898, -14.179126739501953, -39.879371643066406, -0.9970626831054688, 19.076404571533203, 18.091733932495117, -29.66533660888672, -46.42851638793945, 18.90154457092285, 8.60476016998291, 37.50973129272461, 23.229427337646484, 11.365083694458008, -19.685871124267578, 55.95610427856445, 6.685785293579102, 3.4750494956970215, 25.350147247314453, 7.471386432647705, 40.66762161254883, 16.427204132080078, 34.88672637939453, -8.01232624053955, 22.51371192932129, 18.282379150390625, 9.101982116699219, -26.125057220458984, -24.02446937561035, 27.51995086669922, -48.92246627807617, 34.54854202270508, -71.56182861328125, 0.19810549914836884, -30.319292068481445, -57.24689865112305, 44.32905960083008, -50.04349136352539, 22.897085189819336, -12.70421314239502, -91.14718627929688, 0.5680956244468689, -7.542324066162109, 12.010153770446777, 26.900127410888672, 14.371514320373535, -2.85670804977417, -8.82315444946289, -9.182507514953613, 8.198630332946777, 4.775666236877441, -49.75104522705078, -0.6908103227615356, -7.28114128112793, -1.4589749574661255, 4.249588966369629, 21.296600341796875, 8.568655967712402, -40.666446685791016, 12.995434761047363, 15.666799545288086, -7.050595760345459, -36.50088119506836, 17.57416343688965, 5.6279754638671875, 31.777847290039062, 28.408428192138672, 20.50852394104004, 6.434133529663086, 16.491817474365234, 43.75690460205078, -48.20064163208008]}],                        {\"height\": 800, \"legend\": {\"title\": {\"text\": \"Dominant_Topic\"}, \"tracegroupgap\": 0}, \"scene\": {\"domain\": {\"x\": [0.0, 1.0], \"y\": [0.0, 1.0]}, \"xaxis\": {\"title\": {\"text\": \"0\"}}, \"yaxis\": {\"title\": {\"text\": \"1\"}}, \"zaxis\": {\"title\": {\"text\": \"2\"}}}, \"template\": {\"data\": {\"bar\": [{\"error_x\": {\"color\": \"#2a3f5f\"}, \"error_y\": {\"color\": \"#2a3f5f\"}, \"marker\": {\"line\": {\"color\": \"#E5ECF6\", \"width\": 0.5}}, \"type\": \"bar\"}], \"barpolar\": [{\"marker\": {\"line\": {\"color\": \"#E5ECF6\", \"width\": 0.5}}, \"type\": \"barpolar\"}], \"carpet\": [{\"aaxis\": {\"endlinecolor\": \"#2a3f5f\", \"gridcolor\": \"white\", \"linecolor\": \"white\", \"minorgridcolor\": \"white\", \"startlinecolor\": \"#2a3f5f\"}, \"baxis\": {\"endlinecolor\": \"#2a3f5f\", \"gridcolor\": \"white\", \"linecolor\": \"white\", \"minorgridcolor\": \"white\", \"startlinecolor\": \"#2a3f5f\"}, \"type\": \"carpet\"}], \"choropleth\": [{\"colorbar\": {\"outlinewidth\": 0, \"ticks\": \"\"}, \"type\": \"choropleth\"}], \"contour\": [{\"colorbar\": {\"outlinewidth\": 0, \"ticks\": \"\"}, \"colorscale\": [[0.0, \"#0d0887\"], [0.1111111111111111, \"#46039f\"], [0.2222222222222222, \"#7201a8\"], [0.3333333333333333, \"#9c179e\"], [0.4444444444444444, \"#bd3786\"], [0.5555555555555556, \"#d8576b\"], [0.6666666666666666, \"#ed7953\"], [0.7777777777777778, \"#fb9f3a\"], [0.8888888888888888, \"#fdca26\"], [1.0, \"#f0f921\"]], \"type\": \"contour\"}], \"contourcarpet\": [{\"colorbar\": {\"outlinewidth\": 0, \"ticks\": \"\"}, \"type\": \"contourcarpet\"}], \"heatmap\": [{\"colorbar\": {\"outlinewidth\": 0, \"ticks\": \"\"}, \"colorscale\": [[0.0, \"#0d0887\"], [0.1111111111111111, \"#46039f\"], [0.2222222222222222, \"#7201a8\"], [0.3333333333333333, \"#9c179e\"], [0.4444444444444444, \"#bd3786\"], [0.5555555555555556, \"#d8576b\"], [0.6666666666666666, \"#ed7953\"], [0.7777777777777778, \"#fb9f3a\"], [0.8888888888888888, \"#fdca26\"], [1.0, \"#f0f921\"]], \"type\": \"heatmap\"}], \"heatmapgl\": [{\"colorbar\": {\"outlinewidth\": 0, \"ticks\": \"\"}, \"colorscale\": [[0.0, \"#0d0887\"], [0.1111111111111111, \"#46039f\"], [0.2222222222222222, \"#7201a8\"], [0.3333333333333333, \"#9c179e\"], [0.4444444444444444, \"#bd3786\"], [0.5555555555555556, \"#d8576b\"], [0.6666666666666666, \"#ed7953\"], [0.7777777777777778, \"#fb9f3a\"], [0.8888888888888888, \"#fdca26\"], [1.0, \"#f0f921\"]], \"type\": \"heatmapgl\"}], \"histogram\": [{\"marker\": {\"colorbar\": {\"outlinewidth\": 0, \"ticks\": \"\"}}, \"type\": \"histogram\"}], \"histogram2d\": [{\"colorbar\": {\"outlinewidth\": 0, \"ticks\": \"\"}, \"colorscale\": [[0.0, \"#0d0887\"], [0.1111111111111111, \"#46039f\"], [0.2222222222222222, \"#7201a8\"], [0.3333333333333333, \"#9c179e\"], [0.4444444444444444, \"#bd3786\"], [0.5555555555555556, \"#d8576b\"], [0.6666666666666666, \"#ed7953\"], [0.7777777777777778, \"#fb9f3a\"], [0.8888888888888888, \"#fdca26\"], [1.0, \"#f0f921\"]], \"type\": \"histogram2d\"}], \"histogram2dcontour\": [{\"colorbar\": {\"outlinewidth\": 0, \"ticks\": \"\"}, \"colorscale\": [[0.0, \"#0d0887\"], [0.1111111111111111, \"#46039f\"], [0.2222222222222222, \"#7201a8\"], [0.3333333333333333, \"#9c179e\"], [0.4444444444444444, \"#bd3786\"], [0.5555555555555556, \"#d8576b\"], [0.6666666666666666, \"#ed7953\"], [0.7777777777777778, \"#fb9f3a\"], [0.8888888888888888, \"#fdca26\"], [1.0, \"#f0f921\"]], \"type\": \"histogram2dcontour\"}], \"mesh3d\": [{\"colorbar\": {\"outlinewidth\": 0, \"ticks\": \"\"}, \"type\": \"mesh3d\"}], \"parcoords\": [{\"line\": {\"colorbar\": {\"outlinewidth\": 0, \"ticks\": \"\"}}, \"type\": \"parcoords\"}], \"pie\": [{\"automargin\": true, \"type\": \"pie\"}], \"scatter\": [{\"marker\": {\"colorbar\": {\"outlinewidth\": 0, \"ticks\": \"\"}}, \"type\": \"scatter\"}], \"scatter3d\": [{\"line\": {\"colorbar\": {\"outlinewidth\": 0, \"ticks\": \"\"}}, \"marker\": {\"colorbar\": {\"outlinewidth\": 0, \"ticks\": \"\"}}, \"type\": \"scatter3d\"}], \"scattercarpet\": [{\"marker\": {\"colorbar\": {\"outlinewidth\": 0, \"ticks\": \"\"}}, \"type\": \"scattercarpet\"}], \"scattergeo\": [{\"marker\": {\"colorbar\": {\"outlinewidth\": 0, \"ticks\": \"\"}}, \"type\": \"scattergeo\"}], \"scattergl\": [{\"marker\": {\"colorbar\": {\"outlinewidth\": 0, \"ticks\": \"\"}}, \"type\": \"scattergl\"}], \"scattermapbox\": [{\"marker\": {\"colorbar\": {\"outlinewidth\": 0, \"ticks\": \"\"}}, \"type\": \"scattermapbox\"}], \"scatterpolar\": [{\"marker\": {\"colorbar\": {\"outlinewidth\": 0, \"ticks\": \"\"}}, \"type\": \"scatterpolar\"}], \"scatterpolargl\": [{\"marker\": {\"colorbar\": {\"outlinewidth\": 0, \"ticks\": \"\"}}, \"type\": \"scatterpolargl\"}], \"scatterternary\": [{\"marker\": {\"colorbar\": {\"outlinewidth\": 0, \"ticks\": \"\"}}, \"type\": \"scatterternary\"}], \"surface\": [{\"colorbar\": {\"outlinewidth\": 0, \"ticks\": \"\"}, \"colorscale\": [[0.0, \"#0d0887\"], [0.1111111111111111, \"#46039f\"], [0.2222222222222222, \"#7201a8\"], [0.3333333333333333, \"#9c179e\"], [0.4444444444444444, \"#bd3786\"], [0.5555555555555556, \"#d8576b\"], [0.6666666666666666, \"#ed7953\"], [0.7777777777777778, \"#fb9f3a\"], [0.8888888888888888, \"#fdca26\"], [1.0, \"#f0f921\"]], \"type\": \"surface\"}], \"table\": [{\"cells\": {\"fill\": {\"color\": \"#EBF0F8\"}, \"line\": {\"color\": \"white\"}}, \"header\": {\"fill\": {\"color\": \"#C8D4E3\"}, \"line\": {\"color\": \"white\"}}, \"type\": \"table\"}]}, \"layout\": {\"annotationdefaults\": {\"arrowcolor\": \"#2a3f5f\", \"arrowhead\": 0, \"arrowwidth\": 1}, \"autotypenumbers\": \"strict\", \"coloraxis\": {\"colorbar\": {\"outlinewidth\": 0, \"ticks\": \"\"}}, \"colorscale\": {\"diverging\": [[0, \"#8e0152\"], [0.1, \"#c51b7d\"], [0.2, \"#de77ae\"], [0.3, \"#f1b6da\"], [0.4, \"#fde0ef\"], [0.5, \"#f7f7f7\"], [0.6, \"#e6f5d0\"], [0.7, \"#b8e186\"], [0.8, \"#7fbc41\"], [0.9, \"#4d9221\"], [1, \"#276419\"]], \"sequential\": [[0.0, \"#0d0887\"], [0.1111111111111111, \"#46039f\"], [0.2222222222222222, \"#7201a8\"], [0.3333333333333333, \"#9c179e\"], [0.4444444444444444, \"#bd3786\"], [0.5555555555555556, \"#d8576b\"], [0.6666666666666666, \"#ed7953\"], [0.7777777777777778, \"#fb9f3a\"], [0.8888888888888888, \"#fdca26\"], [1.0, \"#f0f921\"]], \"sequentialminus\": [[0.0, \"#0d0887\"], [0.1111111111111111, \"#46039f\"], [0.2222222222222222, \"#7201a8\"], [0.3333333333333333, \"#9c179e\"], [0.4444444444444444, \"#bd3786\"], [0.5555555555555556, \"#d8576b\"], [0.6666666666666666, \"#ed7953\"], [0.7777777777777778, \"#fb9f3a\"], [0.8888888888888888, \"#fdca26\"], [1.0, \"#f0f921\"]]}, \"colorway\": [\"#636efa\", \"#EF553B\", \"#00cc96\", \"#ab63fa\", \"#FFA15A\", \"#19d3f3\", \"#FF6692\", \"#B6E880\", \"#FF97FF\", \"#FECB52\"], \"font\": {\"color\": \"#2a3f5f\"}, \"geo\": {\"bgcolor\": \"white\", \"lakecolor\": \"white\", \"landcolor\": \"#E5ECF6\", \"showlakes\": true, \"showland\": true, \"subunitcolor\": \"white\"}, \"hoverlabel\": {\"align\": \"left\"}, \"hovermode\": \"closest\", \"mapbox\": {\"style\": \"light\"}, \"paper_bgcolor\": \"white\", \"plot_bgcolor\": \"#E5ECF6\", \"polar\": {\"angularaxis\": {\"gridcolor\": \"white\", \"linecolor\": \"white\", \"ticks\": \"\"}, \"bgcolor\": \"#E5ECF6\", \"radialaxis\": {\"gridcolor\": \"white\", \"linecolor\": \"white\", \"ticks\": \"\"}}, \"scene\": {\"xaxis\": {\"backgroundcolor\": \"#E5ECF6\", \"gridcolor\": \"white\", \"gridwidth\": 2, \"linecolor\": \"white\", \"showbackground\": true, \"ticks\": \"\", \"zerolinecolor\": \"white\"}, \"yaxis\": {\"backgroundcolor\": \"#E5ECF6\", \"gridcolor\": \"white\", \"gridwidth\": 2, \"linecolor\": \"white\", \"showbackground\": true, \"ticks\": \"\", \"zerolinecolor\": \"white\"}, \"zaxis\": {\"backgroundcolor\": \"#E5ECF6\", \"gridcolor\": \"white\", \"gridwidth\": 2, \"linecolor\": \"white\", \"showbackground\": true, \"ticks\": \"\", \"zerolinecolor\": \"white\"}}, \"shapedefaults\": {\"line\": {\"color\": \"#2a3f5f\"}}, \"ternary\": {\"aaxis\": {\"gridcolor\": \"white\", \"linecolor\": \"white\", \"ticks\": \"\"}, \"baxis\": {\"gridcolor\": \"white\", \"linecolor\": \"white\", \"ticks\": \"\"}, \"bgcolor\": \"#E5ECF6\", \"caxis\": {\"gridcolor\": \"white\", \"linecolor\": \"white\", \"ticks\": \"\"}}, \"title\": {\"x\": 0.05}, \"xaxis\": {\"automargin\": true, \"gridcolor\": \"white\", \"linecolor\": \"white\", \"ticks\": \"\", \"title\": {\"standoff\": 15}, \"zerolinecolor\": \"white\", \"zerolinewidth\": 2}, \"yaxis\": {\"automargin\": true, \"gridcolor\": \"white\", \"linecolor\": \"white\", \"ticks\": \"\", \"title\": {\"standoff\": 15}, \"zerolinecolor\": \"white\", \"zerolinewidth\": 2}}}, \"title\": {\"text\": \"3d TSNE Plot for Topic Model\"}, \"width\": 900},                        {\"responsive\": true}                    ).then(function(){\n",
       "                            \n",
       "var gd = document.getElementById('8bae629d-cae7-4666-9b89-7554876e2c1d');\n",
       "var x = new MutationObserver(function (mutations, observer) {{\n",
       "        var display = window.getComputedStyle(gd).display;\n",
       "        if (!display || display === 'none') {{\n",
       "            console.log([gd, 'removed!']);\n",
       "            Plotly.purge(gd);\n",
       "            observer.disconnect();\n",
       "        }}\n",
       "}});\n",
       "\n",
       "// Listen for the removal of the full notebook cells\n",
       "var notebookContainer = gd.closest('#notebook-container');\n",
       "if (notebookContainer) {{\n",
       "    x.observe(notebookContainer, {childList: true});\n",
       "}}\n",
       "\n",
       "// Listen for the clearing of the current output cell\n",
       "var outputEl = gd.closest('.output');\n",
       "if (outputEl) {{\n",
       "    x.observe(outputEl, {childList: true});\n",
       "}}\n",
       "\n",
       "                        })                };                });            </script>        </div>"
      ]
     },
     "metadata": {},
     "output_type": "display_data"
    }
   ],
   "source": [
    "\n",
    "plot_model(lda, plot = 'tsne')"
   ]
  },
  {
   "cell_type": "code",
   "execution_count": 15,
   "id": "wrapped-muscle",
   "metadata": {},
   "outputs": [
    {
     "data": {
      "text/html": [
       "        <script type=\"text/javascript\">\n",
       "        window.PlotlyConfig = {MathJaxConfig: 'local'};\n",
       "        if (window.MathJax) {MathJax.Hub.Config({SVG: {font: \"STIX-Web\"}});}\n",
       "        if (typeof require !== 'undefined') {\n",
       "        require.undef(\"plotly\");\n",
       "        requirejs.config({\n",
       "            paths: {\n",
       "                'plotly': ['https://cdn.plot.ly/plotly-latest.min']\n",
       "            }\n",
       "        });\n",
       "        require(['plotly'], function(Plotly) {\n",
       "            window._Plotly = Plotly;\n",
       "        });\n",
       "        }\n",
       "        </script>\n",
       "        "
      ]
     },
     "metadata": {},
     "output_type": "display_data"
    },
    {
     "data": {
      "image/png": "[encoded data removed]",
      "text/plain": [
       "<Figure size 720x432 with 1 Axes>"
      ]
     },
     "metadata": {},
     "output_type": "display_data"
    }
   ],
   "source": [
    "plot_model(lda, plot = 'umap')"
   ]
  },
  {
   "cell_type": "code",
   "execution_count": null,
   "id": "british-entertainment",
   "metadata": {},
   "outputs": [],
   "source": []
  }
 ],
 "metadata": {
  "kernelspec": {
   "display_name": "Python 3",
   "language": "python",
   "name": "python3"
  },
  "language_info": {
   "codemirror_mode": {
    "name": "ipython",
    "version": 3
   },
   "file_extension": ".py",
   "mimetype": "text/x-python",
   "name": "python",
   "nbconvert_exporter": "python",
   "pygments_lexer": "ipython3",
   "version": "3.8.5"
  }
 },
 "nbformat": 4,
 "nbformat_minor": 5
}
