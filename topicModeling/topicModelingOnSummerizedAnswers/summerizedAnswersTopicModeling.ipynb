{
 "cells": [
  {
   "cell_type": "code",
   "execution_count": 1,
   "id": "municipal-guatemala",
   "metadata": {},
   "outputs": [],
   "source": [
    "from pycaret.nlp import *"
   ]
  },
  {
   "cell_type": "code",
   "execution_count": 2,
   "id": "liked-pulse",
   "metadata": {},
   "outputs": [],
   "source": [
    "from nltk.corpus import stopwords\n",
    "stopWords = stopwords.words('english')"
   ]
  },
  {
   "cell_type": "code",
   "execution_count": 3,
   "id": "institutional-proposition",
   "metadata": {},
   "outputs": [
    {
     "data": {
      "text/html": [
       "<div>\n",
       "<style scoped>\n",
       "    .dataframe tbody tr th:only-of-type {\n",
       "        vertical-align: middle;\n",
       "    }\n",
       "\n",
       "    .dataframe tbody tr th {\n",
       "        vertical-align: top;\n",
       "    }\n",
       "\n",
       "    .dataframe thead th {\n",
       "        text-align: right;\n",
       "    }\n",
       "</style>\n",
       "<table border=\"1\" class=\"dataframe\">\n",
       "  <thead>\n",
       "    <tr style=\"text-align: right;\">\n",
       "      <th></th>\n",
       "      <th>summerizedAnswers</th>\n",
       "    </tr>\n",
       "  </thead>\n",
       "  <tbody>\n",
       "    <tr>\n",
       "      <th>0</th>\n",
       "      <td>If you feel that you are worthless, then maybe...</td>\n",
       "    </tr>\n",
       "    <tr>\n",
       "      <th>1</th>\n",
       "      <td>What can I do to improve my feelings of worthl...</td>\n",
       "    </tr>\n",
       "  </tbody>\n",
       "</table>\n",
       "</div>"
      ],
      "text/plain": [
       "                                   summerizedAnswers\n",
       "0  If you feel that you are worthless, then maybe...\n",
       "1  What can I do to improve my feelings of worthl..."
      ]
     },
     "execution_count": 3,
     "metadata": {},
     "output_type": "execute_result"
    }
   ],
   "source": [
    "import pandas as pd\n",
    "\n",
    "\n",
    "# load the data into a dataframe\n",
    "data = pd.read_csv('google pegasus-xsum counsel answers answers.csv')\n",
    "data.head(2)\n"
   ]
  },
  {
   "cell_type": "code",
   "execution_count": 4,
   "id": "divine-debate",
   "metadata": {},
   "outputs": [
    {
     "data": {
      "text/plain": [
       "0           If feel worthless, maybe need change life.\n",
       "1               What I improve feelings worthlessness?\n",
       "2                                   find purpose life?\n",
       "3    Depression self esteem two common mental healt...\n",
       "4                                                help?\n",
       "Name: summerizedAnswers, dtype: object"
      ]
     },
     "execution_count": 4,
     "metadata": {},
     "output_type": "execute_result"
    }
   ],
   "source": [
    "data['sumans_without_stopwords'] = data['summerizedAnswers'].apply(lambda x: ' '.join([word for word in x.split() if word not in (stopWords)]))\n",
    "data['summerizedAnswers'] = data['sumans_without_stopwords']\n",
    "data['summerizedAnswers'].head()"
   ]
  },
  {
   "cell_type": "code",
   "execution_count": 5,
   "id": "arctic-design",
   "metadata": {},
   "outputs": [
    {
     "data": {
      "text/html": [
       "<div>\n",
       "<style scoped>\n",
       "    .dataframe tbody tr th:only-of-type {\n",
       "        vertical-align: middle;\n",
       "    }\n",
       "\n",
       "    .dataframe tbody tr th {\n",
       "        vertical-align: top;\n",
       "    }\n",
       "\n",
       "    .dataframe thead th {\n",
       "        text-align: right;\n",
       "    }\n",
       "</style>\n",
       "<table border=\"1\" class=\"dataframe\">\n",
       "  <thead>\n",
       "    <tr style=\"text-align: right;\">\n",
       "      <th></th>\n",
       "      <th>summerizedAnswers</th>\n",
       "      <th>sumans_without_stopwords</th>\n",
       "    </tr>\n",
       "  </thead>\n",
       "  <tbody>\n",
       "    <tr>\n",
       "      <th>0</th>\n",
       "      <td>If feel worthless, maybe need change life.</td>\n",
       "      <td>If feel worthless, maybe need change life.</td>\n",
       "    </tr>\n",
       "    <tr>\n",
       "      <th>1</th>\n",
       "      <td>What I improve feelings worthlessness?</td>\n",
       "      <td>What I improve feelings worthlessness?</td>\n",
       "    </tr>\n",
       "  </tbody>\n",
       "</table>\n",
       "</div>"
      ],
      "text/plain": [
       "                            summerizedAnswers  \\\n",
       "0  If feel worthless, maybe need change life.   \n",
       "1      What I improve feelings worthlessness?   \n",
       "\n",
       "                     sumans_without_stopwords  \n",
       "0  If feel worthless, maybe need change life.  \n",
       "1      What I improve feelings worthlessness?  "
      ]
     },
     "execution_count": 5,
     "metadata": {},
     "output_type": "execute_result"
    }
   ],
   "source": [
    "data.head(2)"
   ]
  },
  {
   "cell_type": "code",
   "execution_count": 6,
   "id": "polish-disabled",
   "metadata": {},
   "outputs": [
    {
     "data": {
      "text/html": [
       "<style  type=\"text/css\" >\n",
       "</style><table id=\"T_456ff_\" ><thead>    <tr>        <th class=\"col_heading level0 col0\" >Description</th>        <th class=\"col_heading level0 col1\" >Value</th>    </tr></thead><tbody>\n",
       "                <tr>\n",
       "                                <td id=\"T_456ff_row0_col0\" class=\"data row0 col0\" >session_id</td>\n",
       "                        <td id=\"T_456ff_row0_col1\" class=\"data row0 col1\" >123</td>\n",
       "            </tr>\n",
       "            <tr>\n",
       "                                <td id=\"T_456ff_row1_col0\" class=\"data row1 col0\" >Documents</td>\n",
       "                        <td id=\"T_456ff_row1_col1\" class=\"data row1 col1\" >2129</td>\n",
       "            </tr>\n",
       "            <tr>\n",
       "                                <td id=\"T_456ff_row2_col0\" class=\"data row2 col0\" >Vocab Size</td>\n",
       "                        <td id=\"T_456ff_row2_col1\" class=\"data row2 col1\" >1418</td>\n",
       "            </tr>\n",
       "            <tr>\n",
       "                                <td id=\"T_456ff_row3_col0\" class=\"data row3 col0\" >Custom Stopwords</td>\n",
       "                        <td id=\"T_456ff_row3_col1\" class=\"data row3 col1\" >True</td>\n",
       "            </tr>\n",
       "    </tbody></table>"
      ],
      "text/plain": [
       "<pandas.io.formats.style.Styler at 0x7f1223948a60>"
      ]
     },
     "metadata": {},
     "output_type": "display_data"
    }
   ],
   "source": [
    "exp_nlp102 = setup(data = data, target = 'summerizedAnswers', session_id = 123,\n",
    "                   custom_stopwords = ['would', 'want', 'usd', 'many', 'also', 'make', \n",
    "                                       'find','see', 'say', 'often', 'much', 'go', 'come',\n",
    "                                       'thought', 'even','learn','happen','much','let','know','thing','need','take'\n",
    "                                      , 'get','try','ask','maybe','keep','end','way','suggest','likely','area','part',\n",
    "                                      'consider','right','able','could','tell','seem','use','sometimes','think','look','self','lot','new','well','give',\n",
    "                                      'start'],\n",
    "                   log_experiment = True, experiment_name = 'summerizedAnswers')"
   ]
  },
  {
   "cell_type": "code",
   "execution_count": 7,
   "id": "right-measurement",
   "metadata": {},
   "outputs": [],
   "source": [
    "\n",
    "lda = create_model('lda',num_topics=16)\n"
   ]
  },
  {
   "cell_type": "code",
   "execution_count": 8,
   "id": "mature-paper",
   "metadata": {},
   "outputs": [],
   "source": [
    "# to find the best suited number of topic for our case using intrinsic evalution\n",
    "#tuned_unsupervised = tune_model(model = 'lda', multi_core = True)"
   ]
  },
  {
   "cell_type": "code",
   "execution_count": 9,
   "id": "alone-software",
   "metadata": {},
   "outputs": [],
   "source": [
    "# using extrinsic evaluation using classifier\n",
    "#tuned_classification = tune_model(model = 'lda', multi_core = True, supervised_target = 'sumans_without_stopwords')"
   ]
  },
  {
   "cell_type": "code",
   "execution_count": 10,
   "id": "appreciated-command",
   "metadata": {},
   "outputs": [
    {
     "data": {
      "text/html": [
       "        <script type=\"text/javascript\">\n",
       "        window.PlotlyConfig = {MathJaxConfig: 'local'};\n",
       "        if (window.MathJax) {MathJax.Hub.Config({SVG: {font: \"STIX-Web\"}});}\n",
       "        if (typeof require !== 'undefined') {\n",
       "        require.undef(\"plotly\");\n",
       "        requirejs.config({\n",
       "            paths: {\n",
       "                'plotly': ['https://cdn.plot.ly/plotly-latest.min']\n",
       "            }\n",
       "        });\n",
       "        require(['plotly'], function(Plotly) {\n",
       "            window._Plotly = Plotly;\n",
       "        });\n",
       "        }\n",
       "        </script>\n",
       "        "
      ]
     },
     "metadata": {},
     "output_type": "display_data"
    },
    {
     "data": {
      "application/vnd.plotly.v1+json": {
       "config": {
        "plotlyServerURL": "https://plot.ly"
       },
       "data": [
        {
         "alignmentgroup": "True",
         "customdata": [
          [
           "life, idea, ever, seek, enough, may, impact, trouble, hypnosis, meditation"
          ],
          [
           "difficult, partner, long, man, situation, cheat, concern, number, address, kind"
          ],
          [
           "form, harm, addiction, mood, cycle, swing, suicide, food, personal, growth"
          ],
          [
           "time, talk, friend, may, husband, love, hard, spend, fear, symptom"
          ],
          [
           "possible, trust, trauma, daughter, stress, school, treat, overcome, bully, daily"
          ],
          [
           "client, first, treatment, fit, important, improve, health, alone, loss, control"
          ],
          [
           "therapy, depression, anxiety, struggle, session, may, sex, bring, type, afraid"
          ],
          [
           "issue, stop, heal, feeling, blame, away, crisis, young, effect, hospital"
          ],
          [
           "help, live, year, woman, social, doctor, stressful, powerful, tool, disposal"
          ],
          [
           "cry, feel, normal, professional, nervous, marriage, write, psychotherapy, response, place"
          ],
          [
           "problem, always, pain, common, back, day, cause, rough, world, panic_attack"
          ],
          [
           "experience, difference, change, sexual, abuse, begin, willing, great, moment, increase"
          ],
          [
           "good, work, deal, people, listen, child, advice, care, parent, true"
          ],
          [
           "family, wonder, disorder, autism_spectrum_disorder, follow, wife, past, member, diagnosis, post_traumatic_stress"
          ],
          [
           "therapist, relationship, boyfriend, person, mother, girlfriend, break, move, healthy, leave"
          ],
          [
           "tip, contact, along, illness, mental, share, ease, meet, habit, smoke"
          ]
         ],
         "hovertemplate": "Topic=%{x}<br>Documents=%{y}<br>Keyword=%{customdata[0]}<extra></extra>",
         "legendgroup": "",
         "marker": {
          "color": "#636efa"
         },
         "name": "",
         "offsetgroup": "",
         "orientation": "v",
         "showlegend": false,
         "textposition": "auto",
         "type": "bar",
         "x": [
          "Topic 0",
          "Topic 1",
          "Topic 2",
          "Topic 3",
          "Topic 4",
          "Topic 5",
          "Topic 6",
          "Topic 7",
          "Topic 8",
          "Topic 9",
          "Topic 10",
          "Topic 11",
          "Topic 12",
          "Topic 13",
          "Topic 14",
          "Topic 15"
         ],
         "xaxis": "x",
         "y": [
          69,
          56,
          12,
          280,
          76,
          59,
          220,
          46,
          69,
          154,
          32,
          34,
          670,
          32,
          314,
          6
         ],
         "yaxis": "y"
        }
       ],
       "layout": {
        "barmode": "relative",
        "legend": {
         "tracegroupgap": 0
        },
        "template": {
         "data": {
          "bar": [
           {
            "error_x": {
             "color": "#2a3f5f"
            },
            "error_y": {
             "color": "#2a3f5f"
            },
            "marker": {
             "line": {
              "color": "#E5ECF6",
              "width": 0.5
             }
            },
            "type": "bar"
           }
          ],
          "barpolar": [
           {
            "marker": {
             "line": {
              "color": "#E5ECF6",
              "width": 0.5
             }
            },
            "type": "barpolar"
           }
          ],
          "carpet": [
           {
            "aaxis": {
             "endlinecolor": "#2a3f5f",
             "gridcolor": "white",
             "linecolor": "white",
             "minorgridcolor": "white",
             "startlinecolor": "#2a3f5f"
            },
            "baxis": {
             "endlinecolor": "#2a3f5f",
             "gridcolor": "white",
             "linecolor": "white",
             "minorgridcolor": "white",
             "startlinecolor": "#2a3f5f"
            },
            "type": "carpet"
           }
          ],
          "choropleth": [
           {
            "colorbar": {
             "outlinewidth": 0,
             "ticks": ""
            },
            "type": "choropleth"
           }
          ],
          "contour": [
           {
            "colorbar": {
             "outlinewidth": 0,
             "ticks": ""
            },
            "colorscale": [
             [
              0,
              "#0d0887"
             ],
             [
              0.1111111111111111,
              "#46039f"
             ],
             [
              0.2222222222222222,
              "#7201a8"
             ],
             [
              0.3333333333333333,
              "#9c179e"
             ],
             [
              0.4444444444444444,
              "#bd3786"
             ],
             [
              0.5555555555555556,
              "#d8576b"
             ],
             [
              0.6666666666666666,
              "#ed7953"
             ],
             [
              0.7777777777777778,
              "#fb9f3a"
             ],
             [
              0.8888888888888888,
              "#fdca26"
             ],
             [
              1,
              "#f0f921"
             ]
            ],
            "type": "contour"
           }
          ],
          "contourcarpet": [
           {
            "colorbar": {
             "outlinewidth": 0,
             "ticks": ""
            },
            "type": "contourcarpet"
           }
          ],
          "heatmap": [
           {
            "colorbar": {
             "outlinewidth": 0,
             "ticks": ""
            },
            "colorscale": [
             [
              0,
              "#0d0887"
             ],
             [
              0.1111111111111111,
              "#46039f"
             ],
             [
              0.2222222222222222,
              "#7201a8"
             ],
             [
              0.3333333333333333,
              "#9c179e"
             ],
             [
              0.4444444444444444,
              "#bd3786"
             ],
             [
              0.5555555555555556,
              "#d8576b"
             ],
             [
              0.6666666666666666,
              "#ed7953"
             ],
             [
              0.7777777777777778,
              "#fb9f3a"
             ],
             [
              0.8888888888888888,
              "#fdca26"
             ],
             [
              1,
              "#f0f921"
             ]
            ],
            "type": "heatmap"
           }
          ],
          "heatmapgl": [
           {
            "colorbar": {
             "outlinewidth": 0,
             "ticks": ""
            },
            "colorscale": [
             [
              0,
              "#0d0887"
             ],
             [
              0.1111111111111111,
              "#46039f"
             ],
             [
              0.2222222222222222,
              "#7201a8"
             ],
             [
              0.3333333333333333,
              "#9c179e"
             ],
             [
              0.4444444444444444,
              "#bd3786"
             ],
             [
              0.5555555555555556,
              "#d8576b"
             ],
             [
              0.6666666666666666,
              "#ed7953"
             ],
             [
              0.7777777777777778,
              "#fb9f3a"
             ],
             [
              0.8888888888888888,
              "#fdca26"
             ],
             [
              1,
              "#f0f921"
             ]
            ],
            "type": "heatmapgl"
           }
          ],
          "histogram": [
           {
            "marker": {
             "colorbar": {
              "outlinewidth": 0,
              "ticks": ""
             }
            },
            "type": "histogram"
           }
          ],
          "histogram2d": [
           {
            "colorbar": {
             "outlinewidth": 0,
             "ticks": ""
            },
            "colorscale": [
             [
              0,
              "#0d0887"
             ],
             [
              0.1111111111111111,
              "#46039f"
             ],
             [
              0.2222222222222222,
              "#7201a8"
             ],
             [
              0.3333333333333333,
              "#9c179e"
             ],
             [
              0.4444444444444444,
              "#bd3786"
             ],
             [
              0.5555555555555556,
              "#d8576b"
             ],
             [
              0.6666666666666666,
              "#ed7953"
             ],
             [
              0.7777777777777778,
              "#fb9f3a"
             ],
             [
              0.8888888888888888,
              "#fdca26"
             ],
             [
              1,
              "#f0f921"
             ]
            ],
            "type": "histogram2d"
           }
          ],
          "histogram2dcontour": [
           {
            "colorbar": {
             "outlinewidth": 0,
             "ticks": ""
            },
            "colorscale": [
             [
              0,
              "#0d0887"
             ],
             [
              0.1111111111111111,
              "#46039f"
             ],
             [
              0.2222222222222222,
              "#7201a8"
             ],
             [
              0.3333333333333333,
              "#9c179e"
             ],
             [
              0.4444444444444444,
              "#bd3786"
             ],
             [
              0.5555555555555556,
              "#d8576b"
             ],
             [
              0.6666666666666666,
              "#ed7953"
             ],
             [
              0.7777777777777778,
              "#fb9f3a"
             ],
             [
              0.8888888888888888,
              "#fdca26"
             ],
             [
              1,
              "#f0f921"
             ]
            ],
            "type": "histogram2dcontour"
           }
          ],
          "mesh3d": [
           {
            "colorbar": {
             "outlinewidth": 0,
             "ticks": ""
            },
            "type": "mesh3d"
           }
          ],
          "parcoords": [
           {
            "line": {
             "colorbar": {
              "outlinewidth": 0,
              "ticks": ""
             }
            },
            "type": "parcoords"
           }
          ],
          "pie": [
           {
            "automargin": true,
            "type": "pie"
           }
          ],
          "scatter": [
           {
            "marker": {
             "colorbar": {
              "outlinewidth": 0,
              "ticks": ""
             }
            },
            "type": "scatter"
           }
          ],
          "scatter3d": [
           {
            "line": {
             "colorbar": {
              "outlinewidth": 0,
              "ticks": ""
             }
            },
            "marker": {
             "colorbar": {
              "outlinewidth": 0,
              "ticks": ""
             }
            },
            "type": "scatter3d"
           }
          ],
          "scattercarpet": [
           {
            "marker": {
             "colorbar": {
              "outlinewidth": 0,
              "ticks": ""
             }
            },
            "type": "scattercarpet"
           }
          ],
          "scattergeo": [
           {
            "marker": {
             "colorbar": {
              "outlinewidth": 0,
              "ticks": ""
             }
            },
            "type": "scattergeo"
           }
          ],
          "scattergl": [
           {
            "marker": {
             "colorbar": {
              "outlinewidth": 0,
              "ticks": ""
             }
            },
            "type": "scattergl"
           }
          ],
          "scattermapbox": [
           {
            "marker": {
             "colorbar": {
              "outlinewidth": 0,
              "ticks": ""
             }
            },
            "type": "scattermapbox"
           }
          ],
          "scatterpolar": [
           {
            "marker": {
             "colorbar": {
              "outlinewidth": 0,
              "ticks": ""
             }
            },
            "type": "scatterpolar"
           }
          ],
          "scatterpolargl": [
           {
            "marker": {
             "colorbar": {
              "outlinewidth": 0,
              "ticks": ""
             }
            },
            "type": "scatterpolargl"
           }
          ],
          "scatterternary": [
           {
            "marker": {
             "colorbar": {
              "outlinewidth": 0,
              "ticks": ""
             }
            },
            "type": "scatterternary"
           }
          ],
          "surface": [
           {
            "colorbar": {
             "outlinewidth": 0,
             "ticks": ""
            },
            "colorscale": [
             [
              0,
              "#0d0887"
             ],
             [
              0.1111111111111111,
              "#46039f"
             ],
             [
              0.2222222222222222,
              "#7201a8"
             ],
             [
              0.3333333333333333,
              "#9c179e"
             ],
             [
              0.4444444444444444,
              "#bd3786"
             ],
             [
              0.5555555555555556,
              "#d8576b"
             ],
             [
              0.6666666666666666,
              "#ed7953"
             ],
             [
              0.7777777777777778,
              "#fb9f3a"
             ],
             [
              0.8888888888888888,
              "#fdca26"
             ],
             [
              1,
              "#f0f921"
             ]
            ],
            "type": "surface"
           }
          ],
          "table": [
           {
            "cells": {
             "fill": {
              "color": "#EBF0F8"
             },
             "line": {
              "color": "white"
             }
            },
            "header": {
             "fill": {
              "color": "#C8D4E3"
             },
             "line": {
              "color": "white"
             }
            },
            "type": "table"
           }
          ]
         },
         "layout": {
          "annotationdefaults": {
           "arrowcolor": "#2a3f5f",
           "arrowhead": 0,
           "arrowwidth": 1
          },
          "autotypenumbers": "strict",
          "coloraxis": {
           "colorbar": {
            "outlinewidth": 0,
            "ticks": ""
           }
          },
          "colorscale": {
           "diverging": [
            [
             0,
             "#8e0152"
            ],
            [
             0.1,
             "#c51b7d"
            ],
            [
             0.2,
             "#de77ae"
            ],
            [
             0.3,
             "#f1b6da"
            ],
            [
             0.4,
             "#fde0ef"
            ],
            [
             0.5,
             "#f7f7f7"
            ],
            [
             0.6,
             "#e6f5d0"
            ],
            [
             0.7,
             "#b8e186"
            ],
            [
             0.8,
             "#7fbc41"
            ],
            [
             0.9,
             "#4d9221"
            ],
            [
             1,
             "#276419"
            ]
           ],
           "sequential": [
            [
             0,
             "#0d0887"
            ],
            [
             0.1111111111111111,
             "#46039f"
            ],
            [
             0.2222222222222222,
             "#7201a8"
            ],
            [
             0.3333333333333333,
             "#9c179e"
            ],
            [
             0.4444444444444444,
             "#bd3786"
            ],
            [
             0.5555555555555556,
             "#d8576b"
            ],
            [
             0.6666666666666666,
             "#ed7953"
            ],
            [
             0.7777777777777778,
             "#fb9f3a"
            ],
            [
             0.8888888888888888,
             "#fdca26"
            ],
            [
             1,
             "#f0f921"
            ]
           ],
           "sequentialminus": [
            [
             0,
             "#0d0887"
            ],
            [
             0.1111111111111111,
             "#46039f"
            ],
            [
             0.2222222222222222,
             "#7201a8"
            ],
            [
             0.3333333333333333,
             "#9c179e"
            ],
            [
             0.4444444444444444,
             "#bd3786"
            ],
            [
             0.5555555555555556,
             "#d8576b"
            ],
            [
             0.6666666666666666,
             "#ed7953"
            ],
            [
             0.7777777777777778,
             "#fb9f3a"
            ],
            [
             0.8888888888888888,
             "#fdca26"
            ],
            [
             1,
             "#f0f921"
            ]
           ]
          },
          "colorway": [
           "#636efa",
           "#EF553B",
           "#00cc96",
           "#ab63fa",
           "#FFA15A",
           "#19d3f3",
           "#FF6692",
           "#B6E880",
           "#FF97FF",
           "#FECB52"
          ],
          "font": {
           "color": "#2a3f5f"
          },
          "geo": {
           "bgcolor": "white",
           "lakecolor": "white",
           "landcolor": "#E5ECF6",
           "showlakes": true,
           "showland": true,
           "subunitcolor": "white"
          },
          "hoverlabel": {
           "align": "left"
          },
          "hovermode": "closest",
          "mapbox": {
           "style": "light"
          },
          "paper_bgcolor": "white",
          "plot_bgcolor": "#E5ECF6",
          "polar": {
           "angularaxis": {
            "gridcolor": "white",
            "linecolor": "white",
            "ticks": ""
           },
           "bgcolor": "#E5ECF6",
           "radialaxis": {
            "gridcolor": "white",
            "linecolor": "white",
            "ticks": ""
           }
          },
          "scene": {
           "xaxis": {
            "backgroundcolor": "#E5ECF6",
            "gridcolor": "white",
            "gridwidth": 2,
            "linecolor": "white",
            "showbackground": true,
            "ticks": "",
            "zerolinecolor": "white"
           },
           "yaxis": {
            "backgroundcolor": "#E5ECF6",
            "gridcolor": "white",
            "gridwidth": 2,
            "linecolor": "white",
            "showbackground": true,
            "ticks": "",
            "zerolinecolor": "white"
           },
           "zaxis": {
            "backgroundcolor": "#E5ECF6",
            "gridcolor": "white",
            "gridwidth": 2,
            "linecolor": "white",
            "showbackground": true,
            "ticks": "",
            "zerolinecolor": "white"
           }
          },
          "shapedefaults": {
           "line": {
            "color": "#2a3f5f"
           }
          },
          "ternary": {
           "aaxis": {
            "gridcolor": "white",
            "linecolor": "white",
            "ticks": ""
           },
           "baxis": {
            "gridcolor": "white",
            "linecolor": "white",
            "ticks": ""
           },
           "bgcolor": "#E5ECF6",
           "caxis": {
            "gridcolor": "white",
            "linecolor": "white",
            "ticks": ""
           }
          },
          "title": {
           "x": 0.05
          },
          "xaxis": {
           "automargin": true,
           "gridcolor": "white",
           "linecolor": "white",
           "ticks": "",
           "title": {
            "standoff": 15
           },
           "zerolinecolor": "white",
           "zerolinewidth": 2
          },
          "yaxis": {
           "automargin": true,
           "gridcolor": "white",
           "linecolor": "white",
           "ticks": "",
           "title": {
            "standoff": 15
           },
           "zerolinecolor": "white",
           "zerolinewidth": 2
          }
         }
        },
        "title": {
         "text": "Document Distribution by Topics"
        },
        "xaxis": {
         "anchor": "y",
         "domain": [
          0,
          1
         ],
         "title": {
          "text": "Topic"
         }
        },
        "yaxis": {
         "anchor": "x",
         "domain": [
          0,
          1
         ],
         "title": {
          "text": "Documents"
         }
        }
       }
      },
      "text/html": [
       "<div>                            <div id=\"e4c1a0ed-81c4-4ce1-91ef-557a0bcf339b\" class=\"plotly-graph-div\" style=\"height:525px; width:100%;\"></div>            <script type=\"text/javascript\">                require([\"plotly\"], function(Plotly) {                    window.PLOTLYENV=window.PLOTLYENV || {};                                    if (document.getElementById(\"e4c1a0ed-81c4-4ce1-91ef-557a0bcf339b\")) {                    Plotly.newPlot(                        \"e4c1a0ed-81c4-4ce1-91ef-557a0bcf339b\",                        [{\"alignmentgroup\": \"True\", \"customdata\": [[\"life, idea, ever, seek, enough, may, impact, trouble, hypnosis, meditation\"], [\"difficult, partner, long, man, situation, cheat, concern, number, address, kind\"], [\"form, harm, addiction, mood, cycle, swing, suicide, food, personal, growth\"], [\"time, talk, friend, may, husband, love, hard, spend, fear, symptom\"], [\"possible, trust, trauma, daughter, stress, school, treat, overcome, bully, daily\"], [\"client, first, treatment, fit, important, improve, health, alone, loss, control\"], [\"therapy, depression, anxiety, struggle, session, may, sex, bring, type, afraid\"], [\"issue, stop, heal, feeling, blame, away, crisis, young, effect, hospital\"], [\"help, live, year, woman, social, doctor, stressful, powerful, tool, disposal\"], [\"cry, feel, normal, professional, nervous, marriage, write, psychotherapy, response, place\"], [\"problem, always, pain, common, back, day, cause, rough, world, panic_attack\"], [\"experience, difference, change, sexual, abuse, begin, willing, great, moment, increase\"], [\"good, work, deal, people, listen, child, advice, care, parent, true\"], [\"family, wonder, disorder, autism_spectrum_disorder, follow, wife, past, member, diagnosis, post_traumatic_stress\"], [\"therapist, relationship, boyfriend, person, mother, girlfriend, break, move, healthy, leave\"], [\"tip, contact, along, illness, mental, share, ease, meet, habit, smoke\"]], \"hovertemplate\": \"Topic=%{x}<br>Documents=%{y}<br>Keyword=%{customdata[0]}<extra></extra>\", \"legendgroup\": \"\", \"marker\": {\"color\": \"#636efa\"}, \"name\": \"\", \"offsetgroup\": \"\", \"orientation\": \"v\", \"showlegend\": false, \"textposition\": \"auto\", \"type\": \"bar\", \"x\": [\"Topic 0\", \"Topic 1\", \"Topic 2\", \"Topic 3\", \"Topic 4\", \"Topic 5\", \"Topic 6\", \"Topic 7\", \"Topic 8\", \"Topic 9\", \"Topic 10\", \"Topic 11\", \"Topic 12\", \"Topic 13\", \"Topic 14\", \"Topic 15\"], \"xaxis\": \"x\", \"y\": [69, 56, 12, 280, 76, 59, 220, 46, 69, 154, 32, 34, 670, 32, 314, 6], \"yaxis\": \"y\"}],                        {\"barmode\": \"relative\", \"legend\": {\"tracegroupgap\": 0}, \"template\": {\"data\": {\"bar\": [{\"error_x\": {\"color\": \"#2a3f5f\"}, \"error_y\": {\"color\": \"#2a3f5f\"}, \"marker\": {\"line\": {\"color\": \"#E5ECF6\", \"width\": 0.5}}, \"type\": \"bar\"}], \"barpolar\": [{\"marker\": {\"line\": {\"color\": \"#E5ECF6\", \"width\": 0.5}}, \"type\": \"barpolar\"}], \"carpet\": [{\"aaxis\": {\"endlinecolor\": \"#2a3f5f\", \"gridcolor\": \"white\", \"linecolor\": \"white\", \"minorgridcolor\": \"white\", \"startlinecolor\": \"#2a3f5f\"}, \"baxis\": {\"endlinecolor\": \"#2a3f5f\", \"gridcolor\": \"white\", \"linecolor\": \"white\", \"minorgridcolor\": \"white\", \"startlinecolor\": \"#2a3f5f\"}, \"type\": \"carpet\"}], \"choropleth\": [{\"colorbar\": {\"outlinewidth\": 0, \"ticks\": \"\"}, \"type\": \"choropleth\"}], \"contour\": [{\"colorbar\": {\"outlinewidth\": 0, \"ticks\": \"\"}, \"colorscale\": [[0.0, \"#0d0887\"], [0.1111111111111111, \"#46039f\"], [0.2222222222222222, \"#7201a8\"], [0.3333333333333333, \"#9c179e\"], [0.4444444444444444, \"#bd3786\"], [0.5555555555555556, \"#d8576b\"], [0.6666666666666666, \"#ed7953\"], [0.7777777777777778, \"#fb9f3a\"], [0.8888888888888888, \"#fdca26\"], [1.0, \"#f0f921\"]], \"type\": \"contour\"}], \"contourcarpet\": [{\"colorbar\": {\"outlinewidth\": 0, \"ticks\": \"\"}, \"type\": \"contourcarpet\"}], \"heatmap\": [{\"colorbar\": {\"outlinewidth\": 0, \"ticks\": \"\"}, \"colorscale\": [[0.0, \"#0d0887\"], [0.1111111111111111, \"#46039f\"], [0.2222222222222222, \"#7201a8\"], [0.3333333333333333, \"#9c179e\"], [0.4444444444444444, \"#bd3786\"], [0.5555555555555556, \"#d8576b\"], [0.6666666666666666, \"#ed7953\"], [0.7777777777777778, \"#fb9f3a\"], [0.8888888888888888, \"#fdca26\"], [1.0, \"#f0f921\"]], \"type\": \"heatmap\"}], \"heatmapgl\": [{\"colorbar\": {\"outlinewidth\": 0, \"ticks\": \"\"}, \"colorscale\": [[0.0, \"#0d0887\"], [0.1111111111111111, \"#46039f\"], [0.2222222222222222, \"#7201a8\"], [0.3333333333333333, \"#9c179e\"], [0.4444444444444444, \"#bd3786\"], [0.5555555555555556, \"#d8576b\"], [0.6666666666666666, \"#ed7953\"], [0.7777777777777778, \"#fb9f3a\"], [0.8888888888888888, \"#fdca26\"], [1.0, \"#f0f921\"]], \"type\": \"heatmapgl\"}], \"histogram\": [{\"marker\": {\"colorbar\": {\"outlinewidth\": 0, \"ticks\": \"\"}}, \"type\": \"histogram\"}], \"histogram2d\": [{\"colorbar\": {\"outlinewidth\": 0, \"ticks\": \"\"}, \"colorscale\": [[0.0, \"#0d0887\"], [0.1111111111111111, \"#46039f\"], [0.2222222222222222, \"#7201a8\"], [0.3333333333333333, \"#9c179e\"], [0.4444444444444444, \"#bd3786\"], [0.5555555555555556, \"#d8576b\"], [0.6666666666666666, \"#ed7953\"], [0.7777777777777778, \"#fb9f3a\"], [0.8888888888888888, \"#fdca26\"], [1.0, \"#f0f921\"]], \"type\": \"histogram2d\"}], \"histogram2dcontour\": [{\"colorbar\": {\"outlinewidth\": 0, \"ticks\": \"\"}, \"colorscale\": [[0.0, \"#0d0887\"], [0.1111111111111111, \"#46039f\"], [0.2222222222222222, \"#7201a8\"], [0.3333333333333333, \"#9c179e\"], [0.4444444444444444, \"#bd3786\"], [0.5555555555555556, \"#d8576b\"], [0.6666666666666666, \"#ed7953\"], [0.7777777777777778, \"#fb9f3a\"], [0.8888888888888888, \"#fdca26\"], [1.0, \"#f0f921\"]], \"type\": \"histogram2dcontour\"}], \"mesh3d\": [{\"colorbar\": {\"outlinewidth\": 0, \"ticks\": \"\"}, \"type\": \"mesh3d\"}], \"parcoords\": [{\"line\": {\"colorbar\": {\"outlinewidth\": 0, \"ticks\": \"\"}}, \"type\": \"parcoords\"}], \"pie\": [{\"automargin\": true, \"type\": \"pie\"}], \"scatter\": [{\"marker\": {\"colorbar\": {\"outlinewidth\": 0, \"ticks\": \"\"}}, \"type\": \"scatter\"}], \"scatter3d\": [{\"line\": {\"colorbar\": {\"outlinewidth\": 0, \"ticks\": \"\"}}, \"marker\": {\"colorbar\": {\"outlinewidth\": 0, \"ticks\": \"\"}}, \"type\": \"scatter3d\"}], \"scattercarpet\": [{\"marker\": {\"colorbar\": {\"outlinewidth\": 0, \"ticks\": \"\"}}, \"type\": \"scattercarpet\"}], \"scattergeo\": [{\"marker\": {\"colorbar\": {\"outlinewidth\": 0, \"ticks\": \"\"}}, \"type\": \"scattergeo\"}], \"scattergl\": [{\"marker\": {\"colorbar\": {\"outlinewidth\": 0, \"ticks\": \"\"}}, \"type\": \"scattergl\"}], \"scattermapbox\": [{\"marker\": {\"colorbar\": {\"outlinewidth\": 0, \"ticks\": \"\"}}, \"type\": \"scattermapbox\"}], \"scatterpolar\": [{\"marker\": {\"colorbar\": {\"outlinewidth\": 0, \"ticks\": \"\"}}, \"type\": \"scatterpolar\"}], \"scatterpolargl\": [{\"marker\": {\"colorbar\": {\"outlinewidth\": 0, \"ticks\": \"\"}}, \"type\": \"scatterpolargl\"}], \"scatterternary\": [{\"marker\": {\"colorbar\": {\"outlinewidth\": 0, \"ticks\": \"\"}}, \"type\": \"scatterternary\"}], \"surface\": [{\"colorbar\": {\"outlinewidth\": 0, \"ticks\": \"\"}, \"colorscale\": [[0.0, \"#0d0887\"], [0.1111111111111111, \"#46039f\"], [0.2222222222222222, \"#7201a8\"], [0.3333333333333333, \"#9c179e\"], [0.4444444444444444, \"#bd3786\"], [0.5555555555555556, \"#d8576b\"], [0.6666666666666666, \"#ed7953\"], [0.7777777777777778, \"#fb9f3a\"], [0.8888888888888888, \"#fdca26\"], [1.0, \"#f0f921\"]], \"type\": \"surface\"}], \"table\": [{\"cells\": {\"fill\": {\"color\": \"#EBF0F8\"}, \"line\": {\"color\": \"white\"}}, \"header\": {\"fill\": {\"color\": \"#C8D4E3\"}, \"line\": {\"color\": \"white\"}}, \"type\": \"table\"}]}, \"layout\": {\"annotationdefaults\": {\"arrowcolor\": \"#2a3f5f\", \"arrowhead\": 0, \"arrowwidth\": 1}, \"autotypenumbers\": \"strict\", \"coloraxis\": {\"colorbar\": {\"outlinewidth\": 0, \"ticks\": \"\"}}, \"colorscale\": {\"diverging\": [[0, \"#8e0152\"], [0.1, \"#c51b7d\"], [0.2, \"#de77ae\"], [0.3, \"#f1b6da\"], [0.4, \"#fde0ef\"], [0.5, \"#f7f7f7\"], [0.6, \"#e6f5d0\"], [0.7, \"#b8e186\"], [0.8, \"#7fbc41\"], [0.9, \"#4d9221\"], [1, \"#276419\"]], \"sequential\": [[0.0, \"#0d0887\"], [0.1111111111111111, \"#46039f\"], [0.2222222222222222, \"#7201a8\"], [0.3333333333333333, \"#9c179e\"], [0.4444444444444444, \"#bd3786\"], [0.5555555555555556, \"#d8576b\"], [0.6666666666666666, \"#ed7953\"], [0.7777777777777778, \"#fb9f3a\"], [0.8888888888888888, \"#fdca26\"], [1.0, \"#f0f921\"]], \"sequentialminus\": [[0.0, \"#0d0887\"], [0.1111111111111111, \"#46039f\"], [0.2222222222222222, \"#7201a8\"], [0.3333333333333333, \"#9c179e\"], [0.4444444444444444, \"#bd3786\"], [0.5555555555555556, \"#d8576b\"], [0.6666666666666666, \"#ed7953\"], [0.7777777777777778, \"#fb9f3a\"], [0.8888888888888888, \"#fdca26\"], [1.0, \"#f0f921\"]]}, \"colorway\": [\"#636efa\", \"#EF553B\", \"#00cc96\", \"#ab63fa\", \"#FFA15A\", \"#19d3f3\", \"#FF6692\", \"#B6E880\", \"#FF97FF\", \"#FECB52\"], \"font\": {\"color\": \"#2a3f5f\"}, \"geo\": {\"bgcolor\": \"white\", \"lakecolor\": \"white\", \"landcolor\": \"#E5ECF6\", \"showlakes\": true, \"showland\": true, \"subunitcolor\": \"white\"}, \"hoverlabel\": {\"align\": \"left\"}, \"hovermode\": \"closest\", \"mapbox\": {\"style\": \"light\"}, \"paper_bgcolor\": \"white\", \"plot_bgcolor\": \"#E5ECF6\", \"polar\": {\"angularaxis\": {\"gridcolor\": \"white\", \"linecolor\": \"white\", \"ticks\": \"\"}, \"bgcolor\": \"#E5ECF6\", \"radialaxis\": {\"gridcolor\": \"white\", \"linecolor\": \"white\", \"ticks\": \"\"}}, \"scene\": {\"xaxis\": {\"backgroundcolor\": \"#E5ECF6\", \"gridcolor\": \"white\", \"gridwidth\": 2, \"linecolor\": \"white\", \"showbackground\": true, \"ticks\": \"\", \"zerolinecolor\": \"white\"}, \"yaxis\": {\"backgroundcolor\": \"#E5ECF6\", \"gridcolor\": \"white\", \"gridwidth\": 2, \"linecolor\": \"white\", \"showbackground\": true, \"ticks\": \"\", \"zerolinecolor\": \"white\"}, \"zaxis\": {\"backgroundcolor\": \"#E5ECF6\", \"gridcolor\": \"white\", \"gridwidth\": 2, \"linecolor\": \"white\", \"showbackground\": true, \"ticks\": \"\", \"zerolinecolor\": \"white\"}}, \"shapedefaults\": {\"line\": {\"color\": \"#2a3f5f\"}}, \"ternary\": {\"aaxis\": {\"gridcolor\": \"white\", \"linecolor\": \"white\", \"ticks\": \"\"}, \"baxis\": {\"gridcolor\": \"white\", \"linecolor\": \"white\", \"ticks\": \"\"}, \"bgcolor\": \"#E5ECF6\", \"caxis\": {\"gridcolor\": \"white\", \"linecolor\": \"white\", \"ticks\": \"\"}}, \"title\": {\"x\": 0.05}, \"xaxis\": {\"automargin\": true, \"gridcolor\": \"white\", \"linecolor\": \"white\", \"ticks\": \"\", \"title\": {\"standoff\": 15}, \"zerolinecolor\": \"white\", \"zerolinewidth\": 2}, \"yaxis\": {\"automargin\": true, \"gridcolor\": \"white\", \"linecolor\": \"white\", \"ticks\": \"\", \"title\": {\"standoff\": 15}, \"zerolinecolor\": \"white\", \"zerolinewidth\": 2}}}, \"title\": {\"text\": \"Document Distribution by Topics\"}, \"xaxis\": {\"anchor\": \"y\", \"domain\": [0.0, 1.0], \"title\": {\"text\": \"Topic\"}}, \"yaxis\": {\"anchor\": \"x\", \"domain\": [0.0, 1.0], \"title\": {\"text\": \"Documents\"}}},                        {\"responsive\": true}                    ).then(function(){\n",
       "                            \n",
       "var gd = document.getElementById('e4c1a0ed-81c4-4ce1-91ef-557a0bcf339b');\n",
       "var x = new MutationObserver(function (mutations, observer) {{\n",
       "        var display = window.getComputedStyle(gd).display;\n",
       "        if (!display || display === 'none') {{\n",
       "            console.log([gd, 'removed!']);\n",
       "            Plotly.purge(gd);\n",
       "            observer.disconnect();\n",
       "        }}\n",
       "}});\n",
       "\n",
       "// Listen for the removal of the full notebook cells\n",
       "var notebookContainer = gd.closest('#notebook-container');\n",
       "if (notebookContainer) {{\n",
       "    x.observe(notebookContainer, {childList: true});\n",
       "}}\n",
       "\n",
       "// Listen for the clearing of the current output cell\n",
       "var outputEl = gd.closest('.output');\n",
       "if (outputEl) {{\n",
       "    x.observe(outputEl, {childList: true});\n",
       "}}\n",
       "\n",
       "                        })                };                });            </script>        </div>"
      ]
     },
     "metadata": {},
     "output_type": "display_data"
    }
   ],
   "source": [
    "\n",
    "plot_model(lda, plot = 'topic_distribution')"
   ]
  },
  {
   "cell_type": "code",
   "execution_count": 11,
   "id": "searching-proportion",
   "metadata": {},
   "outputs": [
    {
     "data": {
      "text/html": [
       "        <script type=\"text/javascript\">\n",
       "        window.PlotlyConfig = {MathJaxConfig: 'local'};\n",
       "        if (window.MathJax) {MathJax.Hub.Config({SVG: {font: \"STIX-Web\"}});}\n",
       "        if (typeof require !== 'undefined') {\n",
       "        require.undef(\"plotly\");\n",
       "        requirejs.config({\n",
       "            paths: {\n",
       "                'plotly': ['https://cdn.plot.ly/plotly-latest.min']\n",
       "            }\n",
       "        });\n",
       "        require(['plotly'], function(Plotly) {\n",
       "            window._Plotly = Plotly;\n",
       "        });\n",
       "        }\n",
       "        </script>\n",
       "        "
      ]
     },
     "metadata": {},
     "output_type": "display_data"
    },
    {
     "data": {
      "application/vnd.plotly.v1+json": {
       "config": {
        "linkText": "Export to plot.ly",
        "plotlyServerURL": "https://plot.ly",
        "showLink": true
       },
       "data": [
        {
         "marker": {
          "color": "rgba(255, 153, 51, 0.6)",
          "line": {
           "color": "rgba(255, 153, 51, 1.0)",
           "width": 1
          }
         },
         "name": "count",
         "orientation": "v",
         "text": "",
         "type": "bar",
         "x": [
          "good",
          "feel",
          "help",
          "time",
          "relationship",
          "may",
          "anxiety",
          "deal",
          "possible",
          "depression",
          "therapy",
          "life",
          "therapist",
          "boyfriend",
          "stop",
          "struggle",
          "husband",
          "friend",
          "talk",
          "people",
          "partner",
          "experience",
          "issue",
          "cry",
          "mother",
          "child",
          "work",
          "normal",
          "daughter",
          "problem",
          "ever",
          "difficult",
          "love",
          "seek",
          "sex",
          "important",
          "family",
          "tip",
          "hard",
          "marriage",
          "parent",
          "feeling",
          "first",
          "idea",
          "change",
          "long",
          "girlfriend",
          "common",
          "break",
          "move",
          "abuse",
          "fear",
          "man",
          "write",
          "client",
          "disorder",
          "person",
          "heal",
          "nervous",
          "sexual",
          "situation",
          "improve",
          "alone",
          "true",
          "trust",
          "treatment",
          "care",
          "professional",
          "cheat",
          "session",
          "spend",
          "school",
          "wife",
          "anger",
          "stress",
          "social",
          "loss",
          "question",
          "abusive",
          "place",
          "wonder",
          "leave",
          "trauma",
          "enough",
          "year",
          "woman",
          "cause",
          "together",
          "difference",
          "live",
          "suffer",
          "wrong",
          "follow",
          "past",
          "listen",
          "understand",
          "back",
          "job",
          "angry",
          "support"
         ],
         "y": [
          286,
          223,
          211,
          189,
          173,
          152,
          123,
          122,
          121,
          116,
          108,
          108,
          101,
          100,
          97,
          92,
          86,
          75,
          72,
          71,
          69,
          66,
          65,
          62,
          58,
          56,
          56,
          55,
          54,
          52,
          51,
          49,
          47,
          44,
          44,
          42,
          40,
          39,
          37,
          37,
          36,
          32,
          32,
          30,
          30,
          29,
          29,
          28,
          27,
          26,
          26,
          26,
          25,
          25,
          25,
          25,
          25,
          24,
          24,
          23,
          23,
          23,
          23,
          22,
          22,
          21,
          21,
          21,
          21,
          21,
          20,
          20,
          20,
          20,
          19,
          19,
          18,
          18,
          17,
          17,
          17,
          17,
          17,
          17,
          16,
          16,
          16,
          16,
          16,
          16,
          16,
          15,
          15,
          15,
          14,
          14,
          14,
          14,
          14,
          14
         ]
        }
       ],
       "layout": {
        "legend": {
         "bgcolor": "#F5F6F9",
         "font": {
          "color": "#4D5663"
         }
        },
        "paper_bgcolor": "#F5F6F9",
        "plot_bgcolor": "#F5F6F9",
        "template": {
         "data": {
          "bar": [
           {
            "error_x": {
             "color": "#2a3f5f"
            },
            "error_y": {
             "color": "#2a3f5f"
            },
            "marker": {
             "line": {
              "color": "#E5ECF6",
              "width": 0.5
             }
            },
            "type": "bar"
           }
          ],
          "barpolar": [
           {
            "marker": {
             "line": {
              "color": "#E5ECF6",
              "width": 0.5
             }
            },
            "type": "barpolar"
           }
          ],
          "carpet": [
           {
            "aaxis": {
             "endlinecolor": "#2a3f5f",
             "gridcolor": "white",
             "linecolor": "white",
             "minorgridcolor": "white",
             "startlinecolor": "#2a3f5f"
            },
            "baxis": {
             "endlinecolor": "#2a3f5f",
             "gridcolor": "white",
             "linecolor": "white",
             "minorgridcolor": "white",
             "startlinecolor": "#2a3f5f"
            },
            "type": "carpet"
           }
          ],
          "choropleth": [
           {
            "colorbar": {
             "outlinewidth": 0,
             "ticks": ""
            },
            "type": "choropleth"
           }
          ],
          "contour": [
           {
            "colorbar": {
             "outlinewidth": 0,
             "ticks": ""
            },
            "colorscale": [
             [
              0,
              "#0d0887"
             ],
             [
              0.1111111111111111,
              "#46039f"
             ],
             [
              0.2222222222222222,
              "#7201a8"
             ],
             [
              0.3333333333333333,
              "#9c179e"
             ],
             [
              0.4444444444444444,
              "#bd3786"
             ],
             [
              0.5555555555555556,
              "#d8576b"
             ],
             [
              0.6666666666666666,
              "#ed7953"
             ],
             [
              0.7777777777777778,
              "#fb9f3a"
             ],
             [
              0.8888888888888888,
              "#fdca26"
             ],
             [
              1,
              "#f0f921"
             ]
            ],
            "type": "contour"
           }
          ],
          "contourcarpet": [
           {
            "colorbar": {
             "outlinewidth": 0,
             "ticks": ""
            },
            "type": "contourcarpet"
           }
          ],
          "heatmap": [
           {
            "colorbar": {
             "outlinewidth": 0,
             "ticks": ""
            },
            "colorscale": [
             [
              0,
              "#0d0887"
             ],
             [
              0.1111111111111111,
              "#46039f"
             ],
             [
              0.2222222222222222,
              "#7201a8"
             ],
             [
              0.3333333333333333,
              "#9c179e"
             ],
             [
              0.4444444444444444,
              "#bd3786"
             ],
             [
              0.5555555555555556,
              "#d8576b"
             ],
             [
              0.6666666666666666,
              "#ed7953"
             ],
             [
              0.7777777777777778,
              "#fb9f3a"
             ],
             [
              0.8888888888888888,
              "#fdca26"
             ],
             [
              1,
              "#f0f921"
             ]
            ],
            "type": "heatmap"
           }
          ],
          "heatmapgl": [
           {
            "colorbar": {
             "outlinewidth": 0,
             "ticks": ""
            },
            "colorscale": [
             [
              0,
              "#0d0887"
             ],
             [
              0.1111111111111111,
              "#46039f"
             ],
             [
              0.2222222222222222,
              "#7201a8"
             ],
             [
              0.3333333333333333,
              "#9c179e"
             ],
             [
              0.4444444444444444,
              "#bd3786"
             ],
             [
              0.5555555555555556,
              "#d8576b"
             ],
             [
              0.6666666666666666,
              "#ed7953"
             ],
             [
              0.7777777777777778,
              "#fb9f3a"
             ],
             [
              0.8888888888888888,
              "#fdca26"
             ],
             [
              1,
              "#f0f921"
             ]
            ],
            "type": "heatmapgl"
           }
          ],
          "histogram": [
           {
            "marker": {
             "colorbar": {
              "outlinewidth": 0,
              "ticks": ""
             }
            },
            "type": "histogram"
           }
          ],
          "histogram2d": [
           {
            "colorbar": {
             "outlinewidth": 0,
             "ticks": ""
            },
            "colorscale": [
             [
              0,
              "#0d0887"
             ],
             [
              0.1111111111111111,
              "#46039f"
             ],
             [
              0.2222222222222222,
              "#7201a8"
             ],
             [
              0.3333333333333333,
              "#9c179e"
             ],
             [
              0.4444444444444444,
              "#bd3786"
             ],
             [
              0.5555555555555556,
              "#d8576b"
             ],
             [
              0.6666666666666666,
              "#ed7953"
             ],
             [
              0.7777777777777778,
              "#fb9f3a"
             ],
             [
              0.8888888888888888,
              "#fdca26"
             ],
             [
              1,
              "#f0f921"
             ]
            ],
            "type": "histogram2d"
           }
          ],
          "histogram2dcontour": [
           {
            "colorbar": {
             "outlinewidth": 0,
             "ticks": ""
            },
            "colorscale": [
             [
              0,
              "#0d0887"
             ],
             [
              0.1111111111111111,
              "#46039f"
             ],
             [
              0.2222222222222222,
              "#7201a8"
             ],
             [
              0.3333333333333333,
              "#9c179e"
             ],
             [
              0.4444444444444444,
              "#bd3786"
             ],
             [
              0.5555555555555556,
              "#d8576b"
             ],
             [
              0.6666666666666666,
              "#ed7953"
             ],
             [
              0.7777777777777778,
              "#fb9f3a"
             ],
             [
              0.8888888888888888,
              "#fdca26"
             ],
             [
              1,
              "#f0f921"
             ]
            ],
            "type": "histogram2dcontour"
           }
          ],
          "mesh3d": [
           {
            "colorbar": {
             "outlinewidth": 0,
             "ticks": ""
            },
            "type": "mesh3d"
           }
          ],
          "parcoords": [
           {
            "line": {
             "colorbar": {
              "outlinewidth": 0,
              "ticks": ""
             }
            },
            "type": "parcoords"
           }
          ],
          "pie": [
           {
            "automargin": true,
            "type": "pie"
           }
          ],
          "scatter": [
           {
            "marker": {
             "colorbar": {
              "outlinewidth": 0,
              "ticks": ""
             }
            },
            "type": "scatter"
           }
          ],
          "scatter3d": [
           {
            "line": {
             "colorbar": {
              "outlinewidth": 0,
              "ticks": ""
             }
            },
            "marker": {
             "colorbar": {
              "outlinewidth": 0,
              "ticks": ""
             }
            },
            "type": "scatter3d"
           }
          ],
          "scattercarpet": [
           {
            "marker": {
             "colorbar": {
              "outlinewidth": 0,
              "ticks": ""
             }
            },
            "type": "scattercarpet"
           }
          ],
          "scattergeo": [
           {
            "marker": {
             "colorbar": {
              "outlinewidth": 0,
              "ticks": ""
             }
            },
            "type": "scattergeo"
           }
          ],
          "scattergl": [
           {
            "marker": {
             "colorbar": {
              "outlinewidth": 0,
              "ticks": ""
             }
            },
            "type": "scattergl"
           }
          ],
          "scattermapbox": [
           {
            "marker": {
             "colorbar": {
              "outlinewidth": 0,
              "ticks": ""
             }
            },
            "type": "scattermapbox"
           }
          ],
          "scatterpolar": [
           {
            "marker": {
             "colorbar": {
              "outlinewidth": 0,
              "ticks": ""
             }
            },
            "type": "scatterpolar"
           }
          ],
          "scatterpolargl": [
           {
            "marker": {
             "colorbar": {
              "outlinewidth": 0,
              "ticks": ""
             }
            },
            "type": "scatterpolargl"
           }
          ],
          "scatterternary": [
           {
            "marker": {
             "colorbar": {
              "outlinewidth": 0,
              "ticks": ""
             }
            },
            "type": "scatterternary"
           }
          ],
          "surface": [
           {
            "colorbar": {
             "outlinewidth": 0,
             "ticks": ""
            },
            "colorscale": [
             [
              0,
              "#0d0887"
             ],
             [
              0.1111111111111111,
              "#46039f"
             ],
             [
              0.2222222222222222,
              "#7201a8"
             ],
             [
              0.3333333333333333,
              "#9c179e"
             ],
             [
              0.4444444444444444,
              "#bd3786"
             ],
             [
              0.5555555555555556,
              "#d8576b"
             ],
             [
              0.6666666666666666,
              "#ed7953"
             ],
             [
              0.7777777777777778,
              "#fb9f3a"
             ],
             [
              0.8888888888888888,
              "#fdca26"
             ],
             [
              1,
              "#f0f921"
             ]
            ],
            "type": "surface"
           }
          ],
          "table": [
           {
            "cells": {
             "fill": {
              "color": "#EBF0F8"
             },
             "line": {
              "color": "white"
             }
            },
            "header": {
             "fill": {
              "color": "#C8D4E3"
             },
             "line": {
              "color": "white"
             }
            },
            "type": "table"
           }
          ]
         },
         "layout": {
          "annotationdefaults": {
           "arrowcolor": "#2a3f5f",
           "arrowhead": 0,
           "arrowwidth": 1
          },
          "autotypenumbers": "strict",
          "coloraxis": {
           "colorbar": {
            "outlinewidth": 0,
            "ticks": ""
           }
          },
          "colorscale": {
           "diverging": [
            [
             0,
             "#8e0152"
            ],
            [
             0.1,
             "#c51b7d"
            ],
            [
             0.2,
             "#de77ae"
            ],
            [
             0.3,
             "#f1b6da"
            ],
            [
             0.4,
             "#fde0ef"
            ],
            [
             0.5,
             "#f7f7f7"
            ],
            [
             0.6,
             "#e6f5d0"
            ],
            [
             0.7,
             "#b8e186"
            ],
            [
             0.8,
             "#7fbc41"
            ],
            [
             0.9,
             "#4d9221"
            ],
            [
             1,
             "#276419"
            ]
           ],
           "sequential": [
            [
             0,
             "#0d0887"
            ],
            [
             0.1111111111111111,
             "#46039f"
            ],
            [
             0.2222222222222222,
             "#7201a8"
            ],
            [
             0.3333333333333333,
             "#9c179e"
            ],
            [
             0.4444444444444444,
             "#bd3786"
            ],
            [
             0.5555555555555556,
             "#d8576b"
            ],
            [
             0.6666666666666666,
             "#ed7953"
            ],
            [
             0.7777777777777778,
             "#fb9f3a"
            ],
            [
             0.8888888888888888,
             "#fdca26"
            ],
            [
             1,
             "#f0f921"
            ]
           ],
           "sequentialminus": [
            [
             0,
             "#0d0887"
            ],
            [
             0.1111111111111111,
             "#46039f"
            ],
            [
             0.2222222222222222,
             "#7201a8"
            ],
            [
             0.3333333333333333,
             "#9c179e"
            ],
            [
             0.4444444444444444,
             "#bd3786"
            ],
            [
             0.5555555555555556,
             "#d8576b"
            ],
            [
             0.6666666666666666,
             "#ed7953"
            ],
            [
             0.7777777777777778,
             "#fb9f3a"
            ],
            [
             0.8888888888888888,
             "#fdca26"
            ],
            [
             1,
             "#f0f921"
            ]
           ]
          },
          "colorway": [
           "#636efa",
           "#EF553B",
           "#00cc96",
           "#ab63fa",
           "#FFA15A",
           "#19d3f3",
           "#FF6692",
           "#B6E880",
           "#FF97FF",
           "#FECB52"
          ],
          "font": {
           "color": "#2a3f5f"
          },
          "geo": {
           "bgcolor": "white",
           "lakecolor": "white",
           "landcolor": "#E5ECF6",
           "showlakes": true,
           "showland": true,
           "subunitcolor": "white"
          },
          "hoverlabel": {
           "align": "left"
          },
          "hovermode": "closest",
          "mapbox": {
           "style": "light"
          },
          "paper_bgcolor": "white",
          "plot_bgcolor": "#E5ECF6",
          "polar": {
           "angularaxis": {
            "gridcolor": "white",
            "linecolor": "white",
            "ticks": ""
           },
           "bgcolor": "#E5ECF6",
           "radialaxis": {
            "gridcolor": "white",
            "linecolor": "white",
            "ticks": ""
           }
          },
          "scene": {
           "xaxis": {
            "backgroundcolor": "#E5ECF6",
            "gridcolor": "white",
            "gridwidth": 2,
            "linecolor": "white",
            "showbackground": true,
            "ticks": "",
            "zerolinecolor": "white"
           },
           "yaxis": {
            "backgroundcolor": "#E5ECF6",
            "gridcolor": "white",
            "gridwidth": 2,
            "linecolor": "white",
            "showbackground": true,
            "ticks": "",
            "zerolinecolor": "white"
           },
           "zaxis": {
            "backgroundcolor": "#E5ECF6",
            "gridcolor": "white",
            "gridwidth": 2,
            "linecolor": "white",
            "showbackground": true,
            "ticks": "",
            "zerolinecolor": "white"
           }
          },
          "shapedefaults": {
           "line": {
            "color": "#2a3f5f"
           }
          },
          "ternary": {
           "aaxis": {
            "gridcolor": "white",
            "linecolor": "white",
            "ticks": ""
           },
           "baxis": {
            "gridcolor": "white",
            "linecolor": "white",
            "ticks": ""
           },
           "bgcolor": "#E5ECF6",
           "caxis": {
            "gridcolor": "white",
            "linecolor": "white",
            "ticks": ""
           }
          },
          "title": {
           "x": 0.05
          },
          "xaxis": {
           "automargin": true,
           "gridcolor": "white",
           "linecolor": "white",
           "ticks": "",
           "title": {
            "standoff": 15
           },
           "zerolinecolor": "white",
           "zerolinewidth": 2
          },
          "yaxis": {
           "automargin": true,
           "gridcolor": "white",
           "linecolor": "white",
           "ticks": "",
           "title": {
            "standoff": 15
           },
           "zerolinecolor": "white",
           "zerolinewidth": 2
          }
         }
        },
        "title": {
         "font": {
          "color": "#4D5663"
         },
         "text": "Top 100 words after removing stop words"
        },
        "xaxis": {
         "gridcolor": "#E1E5ED",
         "linecolor": "black",
         "showgrid": true,
         "tickfont": {
          "color": "#4D5663"
         },
         "title": {
          "font": {
           "color": "#4D5663"
          },
          "text": ""
         },
         "zerolinecolor": "#E1E5ED"
        },
        "yaxis": {
         "gridcolor": "#E1E5ED",
         "linecolor": "black",
         "showgrid": true,
         "tickfont": {
          "color": "#4D5663"
         },
         "title": {
          "font": {
           "color": "#4D5663"
          },
          "text": "Count"
         },
         "zerolinecolor": "#E1E5ED"
        }
       }
      },
      "text/html": [
       "<div>                            <div id=\"bbdd3ec6-44b0-4794-8334-9c8e2d3e4a59\" class=\"plotly-graph-div\" style=\"height:525px; width:100%;\"></div>            <script type=\"text/javascript\">                require([\"plotly\"], function(Plotly) {                    window.PLOTLYENV=window.PLOTLYENV || {};\n",
       "                    window.PLOTLYENV.BASE_URL='https://plot.ly';                                    if (document.getElementById(\"bbdd3ec6-44b0-4794-8334-9c8e2d3e4a59\")) {                    Plotly.newPlot(                        \"bbdd3ec6-44b0-4794-8334-9c8e2d3e4a59\",                        [{\"marker\": {\"color\": \"rgba(255, 153, 51, 0.6)\", \"line\": {\"color\": \"rgba(255, 153, 51, 1.0)\", \"width\": 1}}, \"name\": \"count\", \"orientation\": \"v\", \"text\": \"\", \"type\": \"bar\", \"x\": [\"good\", \"feel\", \"help\", \"time\", \"relationship\", \"may\", \"anxiety\", \"deal\", \"possible\", \"depression\", \"therapy\", \"life\", \"therapist\", \"boyfriend\", \"stop\", \"struggle\", \"husband\", \"friend\", \"talk\", \"people\", \"partner\", \"experience\", \"issue\", \"cry\", \"mother\", \"child\", \"work\", \"normal\", \"daughter\", \"problem\", \"ever\", \"difficult\", \"love\", \"seek\", \"sex\", \"important\", \"family\", \"tip\", \"hard\", \"marriage\", \"parent\", \"feeling\", \"first\", \"idea\", \"change\", \"long\", \"girlfriend\", \"common\", \"break\", \"move\", \"abuse\", \"fear\", \"man\", \"write\", \"client\", \"disorder\", \"person\", \"heal\", \"nervous\", \"sexual\", \"situation\", \"improve\", \"alone\", \"true\", \"trust\", \"treatment\", \"care\", \"professional\", \"cheat\", \"session\", \"spend\", \"school\", \"wife\", \"anger\", \"stress\", \"social\", \"loss\", \"question\", \"abusive\", \"place\", \"wonder\", \"leave\", \"trauma\", \"enough\", \"year\", \"woman\", \"cause\", \"together\", \"difference\", \"live\", \"suffer\", \"wrong\", \"follow\", \"past\", \"listen\", \"understand\", \"back\", \"job\", \"angry\", \"support\"], \"y\": [286, 223, 211, 189, 173, 152, 123, 122, 121, 116, 108, 108, 101, 100, 97, 92, 86, 75, 72, 71, 69, 66, 65, 62, 58, 56, 56, 55, 54, 52, 51, 49, 47, 44, 44, 42, 40, 39, 37, 37, 36, 32, 32, 30, 30, 29, 29, 28, 27, 26, 26, 26, 25, 25, 25, 25, 25, 24, 24, 23, 23, 23, 23, 22, 22, 21, 21, 21, 21, 21, 20, 20, 20, 20, 19, 19, 18, 18, 17, 17, 17, 17, 17, 17, 16, 16, 16, 16, 16, 16, 16, 15, 15, 15, 14, 14, 14, 14, 14, 14]}],                        {\"legend\": {\"bgcolor\": \"#F5F6F9\", \"font\": {\"color\": \"#4D5663\"}}, \"paper_bgcolor\": \"#F5F6F9\", \"plot_bgcolor\": \"#F5F6F9\", \"template\": {\"data\": {\"bar\": [{\"error_x\": {\"color\": \"#2a3f5f\"}, \"error_y\": {\"color\": \"#2a3f5f\"}, \"marker\": {\"line\": {\"color\": \"#E5ECF6\", \"width\": 0.5}}, \"type\": \"bar\"}], \"barpolar\": [{\"marker\": {\"line\": {\"color\": \"#E5ECF6\", \"width\": 0.5}}, \"type\": \"barpolar\"}], \"carpet\": [{\"aaxis\": {\"endlinecolor\": \"#2a3f5f\", \"gridcolor\": \"white\", \"linecolor\": \"white\", \"minorgridcolor\": \"white\", \"startlinecolor\": \"#2a3f5f\"}, \"baxis\": {\"endlinecolor\": \"#2a3f5f\", \"gridcolor\": \"white\", \"linecolor\": \"white\", \"minorgridcolor\": \"white\", \"startlinecolor\": \"#2a3f5f\"}, \"type\": \"carpet\"}], \"choropleth\": [{\"colorbar\": {\"outlinewidth\": 0, \"ticks\": \"\"}, \"type\": \"choropleth\"}], \"contour\": [{\"colorbar\": {\"outlinewidth\": 0, \"ticks\": \"\"}, \"colorscale\": [[0.0, \"#0d0887\"], [0.1111111111111111, \"#46039f\"], [0.2222222222222222, \"#7201a8\"], [0.3333333333333333, \"#9c179e\"], [0.4444444444444444, \"#bd3786\"], [0.5555555555555556, \"#d8576b\"], [0.6666666666666666, \"#ed7953\"], [0.7777777777777778, \"#fb9f3a\"], [0.8888888888888888, \"#fdca26\"], [1.0, \"#f0f921\"]], \"type\": \"contour\"}], \"contourcarpet\": [{\"colorbar\": {\"outlinewidth\": 0, \"ticks\": \"\"}, \"type\": \"contourcarpet\"}], \"heatmap\": [{\"colorbar\": {\"outlinewidth\": 0, \"ticks\": \"\"}, \"colorscale\": [[0.0, \"#0d0887\"], [0.1111111111111111, \"#46039f\"], [0.2222222222222222, \"#7201a8\"], [0.3333333333333333, \"#9c179e\"], [0.4444444444444444, \"#bd3786\"], [0.5555555555555556, \"#d8576b\"], [0.6666666666666666, \"#ed7953\"], [0.7777777777777778, \"#fb9f3a\"], [0.8888888888888888, \"#fdca26\"], [1.0, \"#f0f921\"]], \"type\": \"heatmap\"}], \"heatmapgl\": [{\"colorbar\": {\"outlinewidth\": 0, \"ticks\": \"\"}, \"colorscale\": [[0.0, \"#0d0887\"], [0.1111111111111111, \"#46039f\"], [0.2222222222222222, \"#7201a8\"], [0.3333333333333333, \"#9c179e\"], [0.4444444444444444, \"#bd3786\"], [0.5555555555555556, \"#d8576b\"], [0.6666666666666666, \"#ed7953\"], [0.7777777777777778, \"#fb9f3a\"], [0.8888888888888888, \"#fdca26\"], [1.0, \"#f0f921\"]], \"type\": \"heatmapgl\"}], \"histogram\": [{\"marker\": {\"colorbar\": {\"outlinewidth\": 0, \"ticks\": \"\"}}, \"type\": \"histogram\"}], \"histogram2d\": [{\"colorbar\": {\"outlinewidth\": 0, \"ticks\": \"\"}, \"colorscale\": [[0.0, \"#0d0887\"], [0.1111111111111111, \"#46039f\"], [0.2222222222222222, \"#7201a8\"], [0.3333333333333333, \"#9c179e\"], [0.4444444444444444, \"#bd3786\"], [0.5555555555555556, \"#d8576b\"], [0.6666666666666666, \"#ed7953\"], [0.7777777777777778, \"#fb9f3a\"], [0.8888888888888888, \"#fdca26\"], [1.0, \"#f0f921\"]], \"type\": \"histogram2d\"}], \"histogram2dcontour\": [{\"colorbar\": {\"outlinewidth\": 0, \"ticks\": \"\"}, \"colorscale\": [[0.0, \"#0d0887\"], [0.1111111111111111, \"#46039f\"], [0.2222222222222222, \"#7201a8\"], [0.3333333333333333, \"#9c179e\"], [0.4444444444444444, \"#bd3786\"], [0.5555555555555556, \"#d8576b\"], [0.6666666666666666, \"#ed7953\"], [0.7777777777777778, \"#fb9f3a\"], [0.8888888888888888, \"#fdca26\"], [1.0, \"#f0f921\"]], \"type\": \"histogram2dcontour\"}], \"mesh3d\": [{\"colorbar\": {\"outlinewidth\": 0, \"ticks\": \"\"}, \"type\": \"mesh3d\"}], \"parcoords\": [{\"line\": {\"colorbar\": {\"outlinewidth\": 0, \"ticks\": \"\"}}, \"type\": \"parcoords\"}], \"pie\": [{\"automargin\": true, \"type\": \"pie\"}], \"scatter\": [{\"marker\": {\"colorbar\": {\"outlinewidth\": 0, \"ticks\": \"\"}}, \"type\": \"scatter\"}], \"scatter3d\": [{\"line\": {\"colorbar\": {\"outlinewidth\": 0, \"ticks\": \"\"}}, \"marker\": {\"colorbar\": {\"outlinewidth\": 0, \"ticks\": \"\"}}, \"type\": \"scatter3d\"}], \"scattercarpet\": [{\"marker\": {\"colorbar\": {\"outlinewidth\": 0, \"ticks\": \"\"}}, \"type\": \"scattercarpet\"}], \"scattergeo\": [{\"marker\": {\"colorbar\": {\"outlinewidth\": 0, \"ticks\": \"\"}}, \"type\": \"scattergeo\"}], \"scattergl\": [{\"marker\": {\"colorbar\": {\"outlinewidth\": 0, \"ticks\": \"\"}}, \"type\": \"scattergl\"}], \"scattermapbox\": [{\"marker\": {\"colorbar\": {\"outlinewidth\": 0, \"ticks\": \"\"}}, \"type\": \"scattermapbox\"}], \"scatterpolar\": [{\"marker\": {\"colorbar\": {\"outlinewidth\": 0, \"ticks\": \"\"}}, \"type\": \"scatterpolar\"}], \"scatterpolargl\": [{\"marker\": {\"colorbar\": {\"outlinewidth\": 0, \"ticks\": \"\"}}, \"type\": \"scatterpolargl\"}], \"scatterternary\": [{\"marker\": {\"colorbar\": {\"outlinewidth\": 0, \"ticks\": \"\"}}, \"type\": \"scatterternary\"}], \"surface\": [{\"colorbar\": {\"outlinewidth\": 0, \"ticks\": \"\"}, \"colorscale\": [[0.0, \"#0d0887\"], [0.1111111111111111, \"#46039f\"], [0.2222222222222222, \"#7201a8\"], [0.3333333333333333, \"#9c179e\"], [0.4444444444444444, \"#bd3786\"], [0.5555555555555556, \"#d8576b\"], [0.6666666666666666, \"#ed7953\"], [0.7777777777777778, \"#fb9f3a\"], [0.8888888888888888, \"#fdca26\"], [1.0, \"#f0f921\"]], \"type\": \"surface\"}], \"table\": [{\"cells\": {\"fill\": {\"color\": \"#EBF0F8\"}, \"line\": {\"color\": \"white\"}}, \"header\": {\"fill\": {\"color\": \"#C8D4E3\"}, \"line\": {\"color\": \"white\"}}, \"type\": \"table\"}]}, \"layout\": {\"annotationdefaults\": {\"arrowcolor\": \"#2a3f5f\", \"arrowhead\": 0, \"arrowwidth\": 1}, \"autotypenumbers\": \"strict\", \"coloraxis\": {\"colorbar\": {\"outlinewidth\": 0, \"ticks\": \"\"}}, \"colorscale\": {\"diverging\": [[0, \"#8e0152\"], [0.1, \"#c51b7d\"], [0.2, \"#de77ae\"], [0.3, \"#f1b6da\"], [0.4, \"#fde0ef\"], [0.5, \"#f7f7f7\"], [0.6, \"#e6f5d0\"], [0.7, \"#b8e186\"], [0.8, \"#7fbc41\"], [0.9, \"#4d9221\"], [1, \"#276419\"]], \"sequential\": [[0.0, \"#0d0887\"], [0.1111111111111111, \"#46039f\"], [0.2222222222222222, \"#7201a8\"], [0.3333333333333333, \"#9c179e\"], [0.4444444444444444, \"#bd3786\"], [0.5555555555555556, \"#d8576b\"], [0.6666666666666666, \"#ed7953\"], [0.7777777777777778, \"#fb9f3a\"], [0.8888888888888888, \"#fdca26\"], [1.0, \"#f0f921\"]], \"sequentialminus\": [[0.0, \"#0d0887\"], [0.1111111111111111, \"#46039f\"], [0.2222222222222222, \"#7201a8\"], [0.3333333333333333, \"#9c179e\"], [0.4444444444444444, \"#bd3786\"], [0.5555555555555556, \"#d8576b\"], [0.6666666666666666, \"#ed7953\"], [0.7777777777777778, \"#fb9f3a\"], [0.8888888888888888, \"#fdca26\"], [1.0, \"#f0f921\"]]}, \"colorway\": [\"#636efa\", \"#EF553B\", \"#00cc96\", \"#ab63fa\", \"#FFA15A\", \"#19d3f3\", \"#FF6692\", \"#B6E880\", \"#FF97FF\", \"#FECB52\"], \"font\": {\"color\": \"#2a3f5f\"}, \"geo\": {\"bgcolor\": \"white\", \"lakecolor\": \"white\", \"landcolor\": \"#E5ECF6\", \"showlakes\": true, \"showland\": true, \"subunitcolor\": \"white\"}, \"hoverlabel\": {\"align\": \"left\"}, \"hovermode\": \"closest\", \"mapbox\": {\"style\": \"light\"}, \"paper_bgcolor\": \"white\", \"plot_bgcolor\": \"#E5ECF6\", \"polar\": {\"angularaxis\": {\"gridcolor\": \"white\", \"linecolor\": \"white\", \"ticks\": \"\"}, \"bgcolor\": \"#E5ECF6\", \"radialaxis\": {\"gridcolor\": \"white\", \"linecolor\": \"white\", \"ticks\": \"\"}}, \"scene\": {\"xaxis\": {\"backgroundcolor\": \"#E5ECF6\", \"gridcolor\": \"white\", \"gridwidth\": 2, \"linecolor\": \"white\", \"showbackground\": true, \"ticks\": \"\", \"zerolinecolor\": \"white\"}, \"yaxis\": {\"backgroundcolor\": \"#E5ECF6\", \"gridcolor\": \"white\", \"gridwidth\": 2, \"linecolor\": \"white\", \"showbackground\": true, \"ticks\": \"\", \"zerolinecolor\": \"white\"}, \"zaxis\": {\"backgroundcolor\": \"#E5ECF6\", \"gridcolor\": \"white\", \"gridwidth\": 2, \"linecolor\": \"white\", \"showbackground\": true, \"ticks\": \"\", \"zerolinecolor\": \"white\"}}, \"shapedefaults\": {\"line\": {\"color\": \"#2a3f5f\"}}, \"ternary\": {\"aaxis\": {\"gridcolor\": \"white\", \"linecolor\": \"white\", \"ticks\": \"\"}, \"baxis\": {\"gridcolor\": \"white\", \"linecolor\": \"white\", \"ticks\": \"\"}, \"bgcolor\": \"#E5ECF6\", \"caxis\": {\"gridcolor\": \"white\", \"linecolor\": \"white\", \"ticks\": \"\"}}, \"title\": {\"x\": 0.05}, \"xaxis\": {\"automargin\": true, \"gridcolor\": \"white\", \"linecolor\": \"white\", \"ticks\": \"\", \"title\": {\"standoff\": 15}, \"zerolinecolor\": \"white\", \"zerolinewidth\": 2}, \"yaxis\": {\"automargin\": true, \"gridcolor\": \"white\", \"linecolor\": \"white\", \"ticks\": \"\", \"title\": {\"standoff\": 15}, \"zerolinecolor\": \"white\", \"zerolinewidth\": 2}}}, \"title\": {\"font\": {\"color\": \"#4D5663\"}, \"text\": \"Top 100 words after removing stop words\"}, \"xaxis\": {\"gridcolor\": \"#E1E5ED\", \"linecolor\": \"black\", \"showgrid\": true, \"tickfont\": {\"color\": \"#4D5663\"}, \"title\": {\"font\": {\"color\": \"#4D5663\"}, \"text\": \"\"}, \"zerolinecolor\": \"#E1E5ED\"}, \"yaxis\": {\"gridcolor\": \"#E1E5ED\", \"linecolor\": \"black\", \"showgrid\": true, \"tickfont\": {\"color\": \"#4D5663\"}, \"title\": {\"font\": {\"color\": \"#4D5663\"}, \"text\": \"Count\"}, \"zerolinecolor\": \"#E1E5ED\"}},                        {\"showLink\": true, \"linkText\": \"Export to plot.ly\", \"plotlyServerURL\": \"https://plot.ly\", \"responsive\": true}                    ).then(function(){\n",
       "                            \n",
       "var gd = document.getElementById('bbdd3ec6-44b0-4794-8334-9c8e2d3e4a59');\n",
       "var x = new MutationObserver(function (mutations, observer) {{\n",
       "        var display = window.getComputedStyle(gd).display;\n",
       "        if (!display || display === 'none') {{\n",
       "            console.log([gd, 'removed!']);\n",
       "            Plotly.purge(gd);\n",
       "            observer.disconnect();\n",
       "        }}\n",
       "}});\n",
       "\n",
       "// Listen for the removal of the full notebook cells\n",
       "var notebookContainer = gd.closest('#notebook-container');\n",
       "if (notebookContainer) {{\n",
       "    x.observe(notebookContainer, {childList: true});\n",
       "}}\n",
       "\n",
       "// Listen for the clearing of the current output cell\n",
       "var outputEl = gd.closest('.output');\n",
       "if (outputEl) {{\n",
       "    x.observe(outputEl, {childList: true});\n",
       "}}\n",
       "\n",
       "                        })                };                });            </script>        </div>"
      ]
     },
     "metadata": {},
     "output_type": "display_data"
    }
   ],
   "source": [
    "plot_model()"
   ]
  },
  {
   "cell_type": "code",
   "execution_count": 12,
   "id": "black-fusion",
   "metadata": {},
   "outputs": [
    {
     "data": {
      "text/html": [
       "        <script type=\"text/javascript\">\n",
       "        window.PlotlyConfig = {MathJaxConfig: 'local'};\n",
       "        if (window.MathJax) {MathJax.Hub.Config({SVG: {font: \"STIX-Web\"}});}\n",
       "        if (typeof require !== 'undefined') {\n",
       "        require.undef(\"plotly\");\n",
       "        requirejs.config({\n",
       "            paths: {\n",
       "                'plotly': ['https://cdn.plot.ly/plotly-latest.min']\n",
       "            }\n",
       "        });\n",
       "        require(['plotly'], function(Plotly) {\n",
       "            window._Plotly = Plotly;\n",
       "        });\n",
       "        }\n",
       "        </script>\n",
       "        "
      ]
     },
     "metadata": {},
     "output_type": "display_data"
    },
    {
     "data": {
      "application/vnd.plotly.v1+json": {
       "config": {
        "linkText": "Export to plot.ly",
        "plotlyServerURL": "https://plot.ly",
        "showLink": true
       },
       "data": [
        {
         "marker": {
          "color": "rgba(255, 153, 51, 0.6)",
          "line": {
           "color": "rgba(255, 153, 51, 1.0)",
           "width": 1
          }
         },
         "name": "count",
         "orientation": "v",
         "text": "",
         "type": "bar",
         "x": [
          "good deal",
          "may time",
          "struggle depression",
          "depression anxiety",
          "cry therapy",
          "seek help",
          "tip help",
          "good idea",
          "time seek",
          "hard time",
          "heal issue",
          "friend friend",
          "issue heal",
          "life may",
          "good help",
          "spend time",
          "nervous therapy",
          "good enough",
          "feel nervous",
          "anxiety depression",
          "deal anxiety",
          "feel good",
          "family member",
          "normal cry",
          "good talk",
          "ever feel",
          "anxiety may",
          "help therapist",
          "deal depression",
          "experience may",
          "ever wonder",
          "good relationship",
          "normal feel",
          "good therapist",
          "good time",
          "abusive relationship",
          "feel boyfriend",
          "change life",
          "stop boyfriend",
          "may good",
          "first time",
          "break boyfriend",
          "help feel",
          "post_traumatic_stress disorder",
          "always good",
          "social anxiety",
          "ever situation",
          "talk therapist",
          "thank_take time",
          "therapeutic relationship",
          "therapist help",
          "therapy session",
          "time talk",
          "long time",
          "stop feel",
          "long distance",
          "sex life",
          "relationship boyfriend",
          "professional help",
          "possible daughter",
          "common problem",
          "good break",
          "deal loss",
          "help people",
          "feel anxious",
          "help depression",
          "help deal",
          "inrdeals_inrdeals_inrdeals_inrdeals inrdeals_inrdeals_inrdeals_inrdeals",
          "time therapist",
          "enough feel",
          "distance relationship",
          "autism_spectrum_disorder autism_spectrum_disorder",
          "experience follow",
          "good stop",
          "healthy relationship",
          "sex drive",
          "time write",
          "feel little",
          "good friend",
          "struggle anxiety",
          "problem relationship",
          "may talk",
          "cry normal",
          "anxiety issue",
          "feel sad",
          "time friend",
          "anxiety therapist",
          "difficult time",
          "stop husband",
          "soon possible",
          "issue may",
          "seek professional",
          "bipolar disorder",
          "help along",
          "reduce anxiety",
          "people experience",
          "depression tip",
          "important remember",
          "depression may",
          "hear voice"
         ],
         "y": [
          58,
          54,
          41,
          39,
          36,
          35,
          30,
          28,
          25,
          24,
          20,
          20,
          16,
          14,
          14,
          14,
          14,
          13,
          13,
          12,
          12,
          12,
          11,
          11,
          11,
          11,
          11,
          11,
          10,
          10,
          10,
          10,
          10,
          9,
          9,
          9,
          9,
          8,
          8,
          8,
          8,
          8,
          8,
          8,
          8,
          8,
          8,
          8,
          8,
          8,
          8,
          8,
          8,
          8,
          7,
          7,
          7,
          7,
          7,
          7,
          7,
          7,
          7,
          7,
          7,
          7,
          7,
          6,
          6,
          6,
          6,
          6,
          6,
          6,
          6,
          6,
          6,
          6,
          6,
          6,
          6,
          6,
          6,
          6,
          6,
          5,
          5,
          5,
          5,
          5,
          5,
          5,
          5,
          5,
          5,
          5,
          5,
          5,
          5,
          5
         ]
        }
       ],
       "layout": {
        "legend": {
         "bgcolor": "#F5F6F9",
         "font": {
          "color": "#4D5663"
         }
        },
        "paper_bgcolor": "#F5F6F9",
        "plot_bgcolor": "#F5F6F9",
        "template": {
         "data": {
          "bar": [
           {
            "error_x": {
             "color": "#2a3f5f"
            },
            "error_y": {
             "color": "#2a3f5f"
            },
            "marker": {
             "line": {
              "color": "#E5ECF6",
              "width": 0.5
             }
            },
            "type": "bar"
           }
          ],
          "barpolar": [
           {
            "marker": {
             "line": {
              "color": "#E5ECF6",
              "width": 0.5
             }
            },
            "type": "barpolar"
           }
          ],
          "carpet": [
           {
            "aaxis": {
             "endlinecolor": "#2a3f5f",
             "gridcolor": "white",
             "linecolor": "white",
             "minorgridcolor": "white",
             "startlinecolor": "#2a3f5f"
            },
            "baxis": {
             "endlinecolor": "#2a3f5f",
             "gridcolor": "white",
             "linecolor": "white",
             "minorgridcolor": "white",
             "startlinecolor": "#2a3f5f"
            },
            "type": "carpet"
           }
          ],
          "choropleth": [
           {
            "colorbar": {
             "outlinewidth": 0,
             "ticks": ""
            },
            "type": "choropleth"
           }
          ],
          "contour": [
           {
            "colorbar": {
             "outlinewidth": 0,
             "ticks": ""
            },
            "colorscale": [
             [
              0,
              "#0d0887"
             ],
             [
              0.1111111111111111,
              "#46039f"
             ],
             [
              0.2222222222222222,
              "#7201a8"
             ],
             [
              0.3333333333333333,
              "#9c179e"
             ],
             [
              0.4444444444444444,
              "#bd3786"
             ],
             [
              0.5555555555555556,
              "#d8576b"
             ],
             [
              0.6666666666666666,
              "#ed7953"
             ],
             [
              0.7777777777777778,
              "#fb9f3a"
             ],
             [
              0.8888888888888888,
              "#fdca26"
             ],
             [
              1,
              "#f0f921"
             ]
            ],
            "type": "contour"
           }
          ],
          "contourcarpet": [
           {
            "colorbar": {
             "outlinewidth": 0,
             "ticks": ""
            },
            "type": "contourcarpet"
           }
          ],
          "heatmap": [
           {
            "colorbar": {
             "outlinewidth": 0,
             "ticks": ""
            },
            "colorscale": [
             [
              0,
              "#0d0887"
             ],
             [
              0.1111111111111111,
              "#46039f"
             ],
             [
              0.2222222222222222,
              "#7201a8"
             ],
             [
              0.3333333333333333,
              "#9c179e"
             ],
             [
              0.4444444444444444,
              "#bd3786"
             ],
             [
              0.5555555555555556,
              "#d8576b"
             ],
             [
              0.6666666666666666,
              "#ed7953"
             ],
             [
              0.7777777777777778,
              "#fb9f3a"
             ],
             [
              0.8888888888888888,
              "#fdca26"
             ],
             [
              1,
              "#f0f921"
             ]
            ],
            "type": "heatmap"
           }
          ],
          "heatmapgl": [
           {
            "colorbar": {
             "outlinewidth": 0,
             "ticks": ""
            },
            "colorscale": [
             [
              0,
              "#0d0887"
             ],
             [
              0.1111111111111111,
              "#46039f"
             ],
             [
              0.2222222222222222,
              "#7201a8"
             ],
             [
              0.3333333333333333,
              "#9c179e"
             ],
             [
              0.4444444444444444,
              "#bd3786"
             ],
             [
              0.5555555555555556,
              "#d8576b"
             ],
             [
              0.6666666666666666,
              "#ed7953"
             ],
             [
              0.7777777777777778,
              "#fb9f3a"
             ],
             [
              0.8888888888888888,
              "#fdca26"
             ],
             [
              1,
              "#f0f921"
             ]
            ],
            "type": "heatmapgl"
           }
          ],
          "histogram": [
           {
            "marker": {
             "colorbar": {
              "outlinewidth": 0,
              "ticks": ""
             }
            },
            "type": "histogram"
           }
          ],
          "histogram2d": [
           {
            "colorbar": {
             "outlinewidth": 0,
             "ticks": ""
            },
            "colorscale": [
             [
              0,
              "#0d0887"
             ],
             [
              0.1111111111111111,
              "#46039f"
             ],
             [
              0.2222222222222222,
              "#7201a8"
             ],
             [
              0.3333333333333333,
              "#9c179e"
             ],
             [
              0.4444444444444444,
              "#bd3786"
             ],
             [
              0.5555555555555556,
              "#d8576b"
             ],
             [
              0.6666666666666666,
              "#ed7953"
             ],
             [
              0.7777777777777778,
              "#fb9f3a"
             ],
             [
              0.8888888888888888,
              "#fdca26"
             ],
             [
              1,
              "#f0f921"
             ]
            ],
            "type": "histogram2d"
           }
          ],
          "histogram2dcontour": [
           {
            "colorbar": {
             "outlinewidth": 0,
             "ticks": ""
            },
            "colorscale": [
             [
              0,
              "#0d0887"
             ],
             [
              0.1111111111111111,
              "#46039f"
             ],
             [
              0.2222222222222222,
              "#7201a8"
             ],
             [
              0.3333333333333333,
              "#9c179e"
             ],
             [
              0.4444444444444444,
              "#bd3786"
             ],
             [
              0.5555555555555556,
              "#d8576b"
             ],
             [
              0.6666666666666666,
              "#ed7953"
             ],
             [
              0.7777777777777778,
              "#fb9f3a"
             ],
             [
              0.8888888888888888,
              "#fdca26"
             ],
             [
              1,
              "#f0f921"
             ]
            ],
            "type": "histogram2dcontour"
           }
          ],
          "mesh3d": [
           {
            "colorbar": {
             "outlinewidth": 0,
             "ticks": ""
            },
            "type": "mesh3d"
           }
          ],
          "parcoords": [
           {
            "line": {
             "colorbar": {
              "outlinewidth": 0,
              "ticks": ""
             }
            },
            "type": "parcoords"
           }
          ],
          "pie": [
           {
            "automargin": true,
            "type": "pie"
           }
          ],
          "scatter": [
           {
            "marker": {
             "colorbar": {
              "outlinewidth": 0,
              "ticks": ""
             }
            },
            "type": "scatter"
           }
          ],
          "scatter3d": [
           {
            "line": {
             "colorbar": {
              "outlinewidth": 0,
              "ticks": ""
             }
            },
            "marker": {
             "colorbar": {
              "outlinewidth": 0,
              "ticks": ""
             }
            },
            "type": "scatter3d"
           }
          ],
          "scattercarpet": [
           {
            "marker": {
             "colorbar": {
              "outlinewidth": 0,
              "ticks": ""
             }
            },
            "type": "scattercarpet"
           }
          ],
          "scattergeo": [
           {
            "marker": {
             "colorbar": {
              "outlinewidth": 0,
              "ticks": ""
             }
            },
            "type": "scattergeo"
           }
          ],
          "scattergl": [
           {
            "marker": {
             "colorbar": {
              "outlinewidth": 0,
              "ticks": ""
             }
            },
            "type": "scattergl"
           }
          ],
          "scattermapbox": [
           {
            "marker": {
             "colorbar": {
              "outlinewidth": 0,
              "ticks": ""
             }
            },
            "type": "scattermapbox"
           }
          ],
          "scatterpolar": [
           {
            "marker": {
             "colorbar": {
              "outlinewidth": 0,
              "ticks": ""
             }
            },
            "type": "scatterpolar"
           }
          ],
          "scatterpolargl": [
           {
            "marker": {
             "colorbar": {
              "outlinewidth": 0,
              "ticks": ""
             }
            },
            "type": "scatterpolargl"
           }
          ],
          "scatterternary": [
           {
            "marker": {
             "colorbar": {
              "outlinewidth": 0,
              "ticks": ""
             }
            },
            "type": "scatterternary"
           }
          ],
          "surface": [
           {
            "colorbar": {
             "outlinewidth": 0,
             "ticks": ""
            },
            "colorscale": [
             [
              0,
              "#0d0887"
             ],
             [
              0.1111111111111111,
              "#46039f"
             ],
             [
              0.2222222222222222,
              "#7201a8"
             ],
             [
              0.3333333333333333,
              "#9c179e"
             ],
             [
              0.4444444444444444,
              "#bd3786"
             ],
             [
              0.5555555555555556,
              "#d8576b"
             ],
             [
              0.6666666666666666,
              "#ed7953"
             ],
             [
              0.7777777777777778,
              "#fb9f3a"
             ],
             [
              0.8888888888888888,
              "#fdca26"
             ],
             [
              1,
              "#f0f921"
             ]
            ],
            "type": "surface"
           }
          ],
          "table": [
           {
            "cells": {
             "fill": {
              "color": "#EBF0F8"
             },
             "line": {
              "color": "white"
             }
            },
            "header": {
             "fill": {
              "color": "#C8D4E3"
             },
             "line": {
              "color": "white"
             }
            },
            "type": "table"
           }
          ]
         },
         "layout": {
          "annotationdefaults": {
           "arrowcolor": "#2a3f5f",
           "arrowhead": 0,
           "arrowwidth": 1
          },
          "autotypenumbers": "strict",
          "coloraxis": {
           "colorbar": {
            "outlinewidth": 0,
            "ticks": ""
           }
          },
          "colorscale": {
           "diverging": [
            [
             0,
             "#8e0152"
            ],
            [
             0.1,
             "#c51b7d"
            ],
            [
             0.2,
             "#de77ae"
            ],
            [
             0.3,
             "#f1b6da"
            ],
            [
             0.4,
             "#fde0ef"
            ],
            [
             0.5,
             "#f7f7f7"
            ],
            [
             0.6,
             "#e6f5d0"
            ],
            [
             0.7,
             "#b8e186"
            ],
            [
             0.8,
             "#7fbc41"
            ],
            [
             0.9,
             "#4d9221"
            ],
            [
             1,
             "#276419"
            ]
           ],
           "sequential": [
            [
             0,
             "#0d0887"
            ],
            [
             0.1111111111111111,
             "#46039f"
            ],
            [
             0.2222222222222222,
             "#7201a8"
            ],
            [
             0.3333333333333333,
             "#9c179e"
            ],
            [
             0.4444444444444444,
             "#bd3786"
            ],
            [
             0.5555555555555556,
             "#d8576b"
            ],
            [
             0.6666666666666666,
             "#ed7953"
            ],
            [
             0.7777777777777778,
             "#fb9f3a"
            ],
            [
             0.8888888888888888,
             "#fdca26"
            ],
            [
             1,
             "#f0f921"
            ]
           ],
           "sequentialminus": [
            [
             0,
             "#0d0887"
            ],
            [
             0.1111111111111111,
             "#46039f"
            ],
            [
             0.2222222222222222,
             "#7201a8"
            ],
            [
             0.3333333333333333,
             "#9c179e"
            ],
            [
             0.4444444444444444,
             "#bd3786"
            ],
            [
             0.5555555555555556,
             "#d8576b"
            ],
            [
             0.6666666666666666,
             "#ed7953"
            ],
            [
             0.7777777777777778,
             "#fb9f3a"
            ],
            [
             0.8888888888888888,
             "#fdca26"
            ],
            [
             1,
             "#f0f921"
            ]
           ]
          },
          "colorway": [
           "#636efa",
           "#EF553B",
           "#00cc96",
           "#ab63fa",
           "#FFA15A",
           "#19d3f3",
           "#FF6692",
           "#B6E880",
           "#FF97FF",
           "#FECB52"
          ],
          "font": {
           "color": "#2a3f5f"
          },
          "geo": {
           "bgcolor": "white",
           "lakecolor": "white",
           "landcolor": "#E5ECF6",
           "showlakes": true,
           "showland": true,
           "subunitcolor": "white"
          },
          "hoverlabel": {
           "align": "left"
          },
          "hovermode": "closest",
          "mapbox": {
           "style": "light"
          },
          "paper_bgcolor": "white",
          "plot_bgcolor": "#E5ECF6",
          "polar": {
           "angularaxis": {
            "gridcolor": "white",
            "linecolor": "white",
            "ticks": ""
           },
           "bgcolor": "#E5ECF6",
           "radialaxis": {
            "gridcolor": "white",
            "linecolor": "white",
            "ticks": ""
           }
          },
          "scene": {
           "xaxis": {
            "backgroundcolor": "#E5ECF6",
            "gridcolor": "white",
            "gridwidth": 2,
            "linecolor": "white",
            "showbackground": true,
            "ticks": "",
            "zerolinecolor": "white"
           },
           "yaxis": {
            "backgroundcolor": "#E5ECF6",
            "gridcolor": "white",
            "gridwidth": 2,
            "linecolor": "white",
            "showbackground": true,
            "ticks": "",
            "zerolinecolor": "white"
           },
           "zaxis": {
            "backgroundcolor": "#E5ECF6",
            "gridcolor": "white",
            "gridwidth": 2,
            "linecolor": "white",
            "showbackground": true,
            "ticks": "",
            "zerolinecolor": "white"
           }
          },
          "shapedefaults": {
           "line": {
            "color": "#2a3f5f"
           }
          },
          "ternary": {
           "aaxis": {
            "gridcolor": "white",
            "linecolor": "white",
            "ticks": ""
           },
           "baxis": {
            "gridcolor": "white",
            "linecolor": "white",
            "ticks": ""
           },
           "bgcolor": "#E5ECF6",
           "caxis": {
            "gridcolor": "white",
            "linecolor": "white",
            "ticks": ""
           }
          },
          "title": {
           "x": 0.05
          },
          "xaxis": {
           "automargin": true,
           "gridcolor": "white",
           "linecolor": "white",
           "ticks": "",
           "title": {
            "standoff": 15
           },
           "zerolinecolor": "white",
           "zerolinewidth": 2
          },
          "yaxis": {
           "automargin": true,
           "gridcolor": "white",
           "linecolor": "white",
           "ticks": "",
           "title": {
            "standoff": 15
           },
           "zerolinecolor": "white",
           "zerolinewidth": 2
          }
         }
        },
        "title": {
         "font": {
          "color": "#4D5663"
         },
         "text": "Top 100 bigrams after removing stop words"
        },
        "xaxis": {
         "gridcolor": "#E1E5ED",
         "linecolor": "black",
         "showgrid": true,
         "tickfont": {
          "color": "#4D5663"
         },
         "title": {
          "font": {
           "color": "#4D5663"
          },
          "text": ""
         },
         "zerolinecolor": "#E1E5ED"
        },
        "yaxis": {
         "gridcolor": "#E1E5ED",
         "linecolor": "black",
         "showgrid": true,
         "tickfont": {
          "color": "#4D5663"
         },
         "title": {
          "font": {
           "color": "#4D5663"
          },
          "text": "Count"
         },
         "zerolinecolor": "#E1E5ED"
        }
       }
      },
      "text/html": [
       "<div>                            <div id=\"9cf826db-0983-420b-b82d-f2c4ec86ab8d\" class=\"plotly-graph-div\" style=\"height:525px; width:100%;\"></div>            <script type=\"text/javascript\">                require([\"plotly\"], function(Plotly) {                    window.PLOTLYENV=window.PLOTLYENV || {};\n",
       "                    window.PLOTLYENV.BASE_URL='https://plot.ly';                                    if (document.getElementById(\"9cf826db-0983-420b-b82d-f2c4ec86ab8d\")) {                    Plotly.newPlot(                        \"9cf826db-0983-420b-b82d-f2c4ec86ab8d\",                        [{\"marker\": {\"color\": \"rgba(255, 153, 51, 0.6)\", \"line\": {\"color\": \"rgba(255, 153, 51, 1.0)\", \"width\": 1}}, \"name\": \"count\", \"orientation\": \"v\", \"text\": \"\", \"type\": \"bar\", \"x\": [\"good deal\", \"may time\", \"struggle depression\", \"depression anxiety\", \"cry therapy\", \"seek help\", \"tip help\", \"good idea\", \"time seek\", \"hard time\", \"heal issue\", \"friend friend\", \"issue heal\", \"life may\", \"good help\", \"spend time\", \"nervous therapy\", \"good enough\", \"feel nervous\", \"anxiety depression\", \"deal anxiety\", \"feel good\", \"family member\", \"normal cry\", \"good talk\", \"ever feel\", \"anxiety may\", \"help therapist\", \"deal depression\", \"experience may\", \"ever wonder\", \"good relationship\", \"normal feel\", \"good therapist\", \"good time\", \"abusive relationship\", \"feel boyfriend\", \"change life\", \"stop boyfriend\", \"may good\", \"first time\", \"break boyfriend\", \"help feel\", \"post_traumatic_stress disorder\", \"always good\", \"social anxiety\", \"ever situation\", \"talk therapist\", \"thank_take time\", \"therapeutic relationship\", \"therapist help\", \"therapy session\", \"time talk\", \"long time\", \"stop feel\", \"long distance\", \"sex life\", \"relationship boyfriend\", \"professional help\", \"possible daughter\", \"common problem\", \"good break\", \"deal loss\", \"help people\", \"feel anxious\", \"help depression\", \"help deal\", \"inrdeals_inrdeals_inrdeals_inrdeals inrdeals_inrdeals_inrdeals_inrdeals\", \"time therapist\", \"enough feel\", \"distance relationship\", \"autism_spectrum_disorder autism_spectrum_disorder\", \"experience follow\", \"good stop\", \"healthy relationship\", \"sex drive\", \"time write\", \"feel little\", \"good friend\", \"struggle anxiety\", \"problem relationship\", \"may talk\", \"cry normal\", \"anxiety issue\", \"feel sad\", \"time friend\", \"anxiety therapist\", \"difficult time\", \"stop husband\", \"soon possible\", \"issue may\", \"seek professional\", \"bipolar disorder\", \"help along\", \"reduce anxiety\", \"people experience\", \"depression tip\", \"important remember\", \"depression may\", \"hear voice\"], \"y\": [58, 54, 41, 39, 36, 35, 30, 28, 25, 24, 20, 20, 16, 14, 14, 14, 14, 13, 13, 12, 12, 12, 11, 11, 11, 11, 11, 11, 10, 10, 10, 10, 10, 9, 9, 9, 9, 8, 8, 8, 8, 8, 8, 8, 8, 8, 8, 8, 8, 8, 8, 8, 8, 8, 7, 7, 7, 7, 7, 7, 7, 7, 7, 7, 7, 7, 7, 6, 6, 6, 6, 6, 6, 6, 6, 6, 6, 6, 6, 6, 6, 6, 6, 6, 6, 5, 5, 5, 5, 5, 5, 5, 5, 5, 5, 5, 5, 5, 5, 5]}],                        {\"legend\": {\"bgcolor\": \"#F5F6F9\", \"font\": {\"color\": \"#4D5663\"}}, \"paper_bgcolor\": \"#F5F6F9\", \"plot_bgcolor\": \"#F5F6F9\", \"template\": {\"data\": {\"bar\": [{\"error_x\": {\"color\": \"#2a3f5f\"}, \"error_y\": {\"color\": \"#2a3f5f\"}, \"marker\": {\"line\": {\"color\": \"#E5ECF6\", \"width\": 0.5}}, \"type\": \"bar\"}], \"barpolar\": [{\"marker\": {\"line\": {\"color\": \"#E5ECF6\", \"width\": 0.5}}, \"type\": \"barpolar\"}], \"carpet\": [{\"aaxis\": {\"endlinecolor\": \"#2a3f5f\", \"gridcolor\": \"white\", \"linecolor\": \"white\", \"minorgridcolor\": \"white\", \"startlinecolor\": \"#2a3f5f\"}, \"baxis\": {\"endlinecolor\": \"#2a3f5f\", \"gridcolor\": \"white\", \"linecolor\": \"white\", \"minorgridcolor\": \"white\", \"startlinecolor\": \"#2a3f5f\"}, \"type\": \"carpet\"}], \"choropleth\": [{\"colorbar\": {\"outlinewidth\": 0, \"ticks\": \"\"}, \"type\": \"choropleth\"}], \"contour\": [{\"colorbar\": {\"outlinewidth\": 0, \"ticks\": \"\"}, \"colorscale\": [[0.0, \"#0d0887\"], [0.1111111111111111, \"#46039f\"], [0.2222222222222222, \"#7201a8\"], [0.3333333333333333, \"#9c179e\"], [0.4444444444444444, \"#bd3786\"], [0.5555555555555556, \"#d8576b\"], [0.6666666666666666, \"#ed7953\"], [0.7777777777777778, \"#fb9f3a\"], [0.8888888888888888, \"#fdca26\"], [1.0, \"#f0f921\"]], \"type\": \"contour\"}], \"contourcarpet\": [{\"colorbar\": {\"outlinewidth\": 0, \"ticks\": \"\"}, \"type\": \"contourcarpet\"}], \"heatmap\": [{\"colorbar\": {\"outlinewidth\": 0, \"ticks\": \"\"}, \"colorscale\": [[0.0, \"#0d0887\"], [0.1111111111111111, \"#46039f\"], [0.2222222222222222, \"#7201a8\"], [0.3333333333333333, \"#9c179e\"], [0.4444444444444444, \"#bd3786\"], [0.5555555555555556, \"#d8576b\"], [0.6666666666666666, \"#ed7953\"], [0.7777777777777778, \"#fb9f3a\"], [0.8888888888888888, \"#fdca26\"], [1.0, \"#f0f921\"]], \"type\": \"heatmap\"}], \"heatmapgl\": [{\"colorbar\": {\"outlinewidth\": 0, \"ticks\": \"\"}, \"colorscale\": [[0.0, \"#0d0887\"], [0.1111111111111111, \"#46039f\"], [0.2222222222222222, \"#7201a8\"], [0.3333333333333333, \"#9c179e\"], [0.4444444444444444, \"#bd3786\"], [0.5555555555555556, \"#d8576b\"], [0.6666666666666666, \"#ed7953\"], [0.7777777777777778, \"#fb9f3a\"], [0.8888888888888888, \"#fdca26\"], [1.0, \"#f0f921\"]], \"type\": \"heatmapgl\"}], \"histogram\": [{\"marker\": {\"colorbar\": {\"outlinewidth\": 0, \"ticks\": \"\"}}, \"type\": \"histogram\"}], \"histogram2d\": [{\"colorbar\": {\"outlinewidth\": 0, \"ticks\": \"\"}, \"colorscale\": [[0.0, \"#0d0887\"], [0.1111111111111111, \"#46039f\"], [0.2222222222222222, \"#7201a8\"], [0.3333333333333333, \"#9c179e\"], [0.4444444444444444, \"#bd3786\"], [0.5555555555555556, \"#d8576b\"], [0.6666666666666666, \"#ed7953\"], [0.7777777777777778, \"#fb9f3a\"], [0.8888888888888888, \"#fdca26\"], [1.0, \"#f0f921\"]], \"type\": \"histogram2d\"}], \"histogram2dcontour\": [{\"colorbar\": {\"outlinewidth\": 0, \"ticks\": \"\"}, \"colorscale\": [[0.0, \"#0d0887\"], [0.1111111111111111, \"#46039f\"], [0.2222222222222222, \"#7201a8\"], [0.3333333333333333, \"#9c179e\"], [0.4444444444444444, \"#bd3786\"], [0.5555555555555556, \"#d8576b\"], [0.6666666666666666, \"#ed7953\"], [0.7777777777777778, \"#fb9f3a\"], [0.8888888888888888, \"#fdca26\"], [1.0, \"#f0f921\"]], \"type\": \"histogram2dcontour\"}], \"mesh3d\": [{\"colorbar\": {\"outlinewidth\": 0, \"ticks\": \"\"}, \"type\": \"mesh3d\"}], \"parcoords\": [{\"line\": {\"colorbar\": {\"outlinewidth\": 0, \"ticks\": \"\"}}, \"type\": \"parcoords\"}], \"pie\": [{\"automargin\": true, \"type\": \"pie\"}], \"scatter\": [{\"marker\": {\"colorbar\": {\"outlinewidth\": 0, \"ticks\": \"\"}}, \"type\": \"scatter\"}], \"scatter3d\": [{\"line\": {\"colorbar\": {\"outlinewidth\": 0, \"ticks\": \"\"}}, \"marker\": {\"colorbar\": {\"outlinewidth\": 0, \"ticks\": \"\"}}, \"type\": \"scatter3d\"}], \"scattercarpet\": [{\"marker\": {\"colorbar\": {\"outlinewidth\": 0, \"ticks\": \"\"}}, \"type\": \"scattercarpet\"}], \"scattergeo\": [{\"marker\": {\"colorbar\": {\"outlinewidth\": 0, \"ticks\": \"\"}}, \"type\": \"scattergeo\"}], \"scattergl\": [{\"marker\": {\"colorbar\": {\"outlinewidth\": 0, \"ticks\": \"\"}}, \"type\": \"scattergl\"}], \"scattermapbox\": [{\"marker\": {\"colorbar\": {\"outlinewidth\": 0, \"ticks\": \"\"}}, \"type\": \"scattermapbox\"}], \"scatterpolar\": [{\"marker\": {\"colorbar\": {\"outlinewidth\": 0, \"ticks\": \"\"}}, \"type\": \"scatterpolar\"}], \"scatterpolargl\": [{\"marker\": {\"colorbar\": {\"outlinewidth\": 0, \"ticks\": \"\"}}, \"type\": \"scatterpolargl\"}], \"scatterternary\": [{\"marker\": {\"colorbar\": {\"outlinewidth\": 0, \"ticks\": \"\"}}, \"type\": \"scatterternary\"}], \"surface\": [{\"colorbar\": {\"outlinewidth\": 0, \"ticks\": \"\"}, \"colorscale\": [[0.0, \"#0d0887\"], [0.1111111111111111, \"#46039f\"], [0.2222222222222222, \"#7201a8\"], [0.3333333333333333, \"#9c179e\"], [0.4444444444444444, \"#bd3786\"], [0.5555555555555556, \"#d8576b\"], [0.6666666666666666, \"#ed7953\"], [0.7777777777777778, \"#fb9f3a\"], [0.8888888888888888, \"#fdca26\"], [1.0, \"#f0f921\"]], \"type\": \"surface\"}], \"table\": [{\"cells\": {\"fill\": {\"color\": \"#EBF0F8\"}, \"line\": {\"color\": \"white\"}}, \"header\": {\"fill\": {\"color\": \"#C8D4E3\"}, \"line\": {\"color\": \"white\"}}, \"type\": \"table\"}]}, \"layout\": {\"annotationdefaults\": {\"arrowcolor\": \"#2a3f5f\", \"arrowhead\": 0, \"arrowwidth\": 1}, \"autotypenumbers\": \"strict\", \"coloraxis\": {\"colorbar\": {\"outlinewidth\": 0, \"ticks\": \"\"}}, \"colorscale\": {\"diverging\": [[0, \"#8e0152\"], [0.1, \"#c51b7d\"], [0.2, \"#de77ae\"], [0.3, \"#f1b6da\"], [0.4, \"#fde0ef\"], [0.5, \"#f7f7f7\"], [0.6, \"#e6f5d0\"], [0.7, \"#b8e186\"], [0.8, \"#7fbc41\"], [0.9, \"#4d9221\"], [1, \"#276419\"]], \"sequential\": [[0.0, \"#0d0887\"], [0.1111111111111111, \"#46039f\"], [0.2222222222222222, \"#7201a8\"], [0.3333333333333333, \"#9c179e\"], [0.4444444444444444, \"#bd3786\"], [0.5555555555555556, \"#d8576b\"], [0.6666666666666666, \"#ed7953\"], [0.7777777777777778, \"#fb9f3a\"], [0.8888888888888888, \"#fdca26\"], [1.0, \"#f0f921\"]], \"sequentialminus\": [[0.0, \"#0d0887\"], [0.1111111111111111, \"#46039f\"], [0.2222222222222222, \"#7201a8\"], [0.3333333333333333, \"#9c179e\"], [0.4444444444444444, \"#bd3786\"], [0.5555555555555556, \"#d8576b\"], [0.6666666666666666, \"#ed7953\"], [0.7777777777777778, \"#fb9f3a\"], [0.8888888888888888, \"#fdca26\"], [1.0, \"#f0f921\"]]}, \"colorway\": [\"#636efa\", \"#EF553B\", \"#00cc96\", \"#ab63fa\", \"#FFA15A\", \"#19d3f3\", \"#FF6692\", \"#B6E880\", \"#FF97FF\", \"#FECB52\"], \"font\": {\"color\": \"#2a3f5f\"}, \"geo\": {\"bgcolor\": \"white\", \"lakecolor\": \"white\", \"landcolor\": \"#E5ECF6\", \"showlakes\": true, \"showland\": true, \"subunitcolor\": \"white\"}, \"hoverlabel\": {\"align\": \"left\"}, \"hovermode\": \"closest\", \"mapbox\": {\"style\": \"light\"}, \"paper_bgcolor\": \"white\", \"plot_bgcolor\": \"#E5ECF6\", \"polar\": {\"angularaxis\": {\"gridcolor\": \"white\", \"linecolor\": \"white\", \"ticks\": \"\"}, \"bgcolor\": \"#E5ECF6\", \"radialaxis\": {\"gridcolor\": \"white\", \"linecolor\": \"white\", \"ticks\": \"\"}}, \"scene\": {\"xaxis\": {\"backgroundcolor\": \"#E5ECF6\", \"gridcolor\": \"white\", \"gridwidth\": 2, \"linecolor\": \"white\", \"showbackground\": true, \"ticks\": \"\", \"zerolinecolor\": \"white\"}, \"yaxis\": {\"backgroundcolor\": \"#E5ECF6\", \"gridcolor\": \"white\", \"gridwidth\": 2, \"linecolor\": \"white\", \"showbackground\": true, \"ticks\": \"\", \"zerolinecolor\": \"white\"}, \"zaxis\": {\"backgroundcolor\": \"#E5ECF6\", \"gridcolor\": \"white\", \"gridwidth\": 2, \"linecolor\": \"white\", \"showbackground\": true, \"ticks\": \"\", \"zerolinecolor\": \"white\"}}, \"shapedefaults\": {\"line\": {\"color\": \"#2a3f5f\"}}, \"ternary\": {\"aaxis\": {\"gridcolor\": \"white\", \"linecolor\": \"white\", \"ticks\": \"\"}, \"baxis\": {\"gridcolor\": \"white\", \"linecolor\": \"white\", \"ticks\": \"\"}, \"bgcolor\": \"#E5ECF6\", \"caxis\": {\"gridcolor\": \"white\", \"linecolor\": \"white\", \"ticks\": \"\"}}, \"title\": {\"x\": 0.05}, \"xaxis\": {\"automargin\": true, \"gridcolor\": \"white\", \"linecolor\": \"white\", \"ticks\": \"\", \"title\": {\"standoff\": 15}, \"zerolinecolor\": \"white\", \"zerolinewidth\": 2}, \"yaxis\": {\"automargin\": true, \"gridcolor\": \"white\", \"linecolor\": \"white\", \"ticks\": \"\", \"title\": {\"standoff\": 15}, \"zerolinecolor\": \"white\", \"zerolinewidth\": 2}}}, \"title\": {\"font\": {\"color\": \"#4D5663\"}, \"text\": \"Top 100 bigrams after removing stop words\"}, \"xaxis\": {\"gridcolor\": \"#E1E5ED\", \"linecolor\": \"black\", \"showgrid\": true, \"tickfont\": {\"color\": \"#4D5663\"}, \"title\": {\"font\": {\"color\": \"#4D5663\"}, \"text\": \"\"}, \"zerolinecolor\": \"#E1E5ED\"}, \"yaxis\": {\"gridcolor\": \"#E1E5ED\", \"linecolor\": \"black\", \"showgrid\": true, \"tickfont\": {\"color\": \"#4D5663\"}, \"title\": {\"font\": {\"color\": \"#4D5663\"}, \"text\": \"Count\"}, \"zerolinecolor\": \"#E1E5ED\"}},                        {\"showLink\": true, \"linkText\": \"Export to plot.ly\", \"plotlyServerURL\": \"https://plot.ly\", \"responsive\": true}                    ).then(function(){\n",
       "                            \n",
       "var gd = document.getElementById('9cf826db-0983-420b-b82d-f2c4ec86ab8d');\n",
       "var x = new MutationObserver(function (mutations, observer) {{\n",
       "        var display = window.getComputedStyle(gd).display;\n",
       "        if (!display || display === 'none') {{\n",
       "            console.log([gd, 'removed!']);\n",
       "            Plotly.purge(gd);\n",
       "            observer.disconnect();\n",
       "        }}\n",
       "}});\n",
       "\n",
       "// Listen for the removal of the full notebook cells\n",
       "var notebookContainer = gd.closest('#notebook-container');\n",
       "if (notebookContainer) {{\n",
       "    x.observe(notebookContainer, {childList: true});\n",
       "}}\n",
       "\n",
       "// Listen for the clearing of the current output cell\n",
       "var outputEl = gd.closest('.output');\n",
       "if (outputEl) {{\n",
       "    x.observe(outputEl, {childList: true});\n",
       "}}\n",
       "\n",
       "                        })                };                });            </script>        </div>"
      ]
     },
     "metadata": {},
     "output_type": "display_data"
    }
   ],
   "source": [
    "plot_model(plot = 'bigram')"
   ]
  },
  {
   "cell_type": "code",
   "execution_count": 13,
   "id": "corrected-borough",
   "metadata": {},
   "outputs": [],
   "source": [
    "#plot_model(lda, plot = 'frequency', topic_num = 'Topic 4')"
   ]
  },
  {
   "cell_type": "code",
   "execution_count": 14,
   "id": "joined-relaxation",
   "metadata": {},
   "outputs": [
    {
     "data": {
      "text/html": [
       "        <script type=\"text/javascript\">\n",
       "        window.PlotlyConfig = {MathJaxConfig: 'local'};\n",
       "        if (window.MathJax) {MathJax.Hub.Config({SVG: {font: \"STIX-Web\"}});}\n",
       "        if (typeof require !== 'undefined') {\n",
       "        require.undef(\"plotly\");\n",
       "        requirejs.config({\n",
       "            paths: {\n",
       "                'plotly': ['https://cdn.plot.ly/plotly-latest.min']\n",
       "            }\n",
       "        });\n",
       "        require(['plotly'], function(Plotly) {\n",
       "            window._Plotly = Plotly;\n",
       "        });\n",
       "        }\n",
       "        </script>\n",
       "        "
      ]
     },
     "metadata": {},
     "output_type": "display_data"
    },
    {
     "data": {
      "application/vnd.plotly.v1+json": {
       "config": {
        "plotlyServerURL": "https://plot.ly"
       },
       "data": [
        {
         "hovertemplate": "Dominant_Topic=Topic 0<br>0=%{x}<br>1=%{y}<br>2=%{z}<extra></extra>",
         "legendgroup": "Topic 0",
         "marker": {
          "color": "#636efa",
          "opacity": 0.7,
          "symbol": "circle"
         },
         "mode": "markers",
         "name": "Topic 0",
         "scene": "scene",
         "showlegend": true,
         "type": "scatter3d",
         "x": [
          1.0580193996429443,
          0.9098295569419861,
          3.4550561904907227,
          5.377739906311035,
          -0.2101183533668518,
          2.427532434463501,
          3.241140842437744,
          0.9547169804573059,
          1.0779813528060913,
          1.5349774360656738,
          0.9360617399215698,
          1.5886629819869995,
          3.4076101779937744,
          0.9649884700775146,
          1.3173483610153198,
          1.3628411293029785,
          1.1118872165679932,
          -1.2214277982711792,
          0.28083983063697815,
          1.6937156915664673,
          4.176900863647461,
          -0.4911951720714569,
          -0.8699113726615906,
          1.0333524942398071,
          0.05649186298251152,
          0.8807942867279053,
          1.0984835624694824,
          1.6069073677062988,
          3.937528610229492,
          4.959471702575684,
          -2.939169406890869,
          0.9360556602478027,
          -0.20883908867835999,
          0.7769414186477661,
          0.879672646522522,
          0.8807727694511414,
          1.159394383430481,
          1.6937077045440674,
          -0.06387607753276825,
          1.519400954246521,
          1.4358478784561157,
          1.510221004486084,
          3.2799806594848633,
          -1.3071339130401611,
          -0.20883898437023163,
          0.4222809672355652,
          1.7103132009506226,
          -4.110510349273682,
          3.9500811100006104,
          -7.075294017791748,
          -0.20881672203540802,
          -0.49279648065567017,
          6.499817848205566,
          -7.075284481048584,
          3.937704086303711,
          -0.4900237023830414,
          0.42095842957496643,
          3.07647967338562,
          1.453977108001709,
          0.5298656821250916,
          6.52942419052124,
          5.819243907928467,
          3.937528610229492,
          0.8796682953834534,
          -0.2092069387435913,
          0.39963874220848083,
          0.05649181455373764,
          -0.35631293058395386,
          -1.2450007200241089
         ],
         "y": [
          -5.356180191040039,
          -4.896671295166016,
          -4.070879936218262,
          -1.6256258487701416,
          -2.3667590618133545,
          -4.7758708000183105,
          -5.969960689544678,
          -4.6850996017456055,
          -6.043230056762695,
          -3.1816742420196533,
          -6.195733070373535,
          -6.417948246002197,
          -6.691090106964111,
          -4.686860084533691,
          -4.831137180328369,
          -4.609440803527832,
          -5.159852027893066,
          -6.256989479064941,
          -1.755311369895935,
          9.20701789855957,
          -3.9140679836273193,
          -5.706254482269287,
          -5.83707332611084,
          -5.027651309967041,
          -6.65785551071167,
          -0.01853473111987114,
          -5.367346286773682,
          -5.284743785858154,
          1.1089972257614136,
          -6.309415817260742,
          6.8882060050964355,
          -6.1957197189331055,
          -2.3668689727783203,
          -1.5148357152938843,
          -0.018960703164339066,
          -0.018575258553028107,
          -5.475827217102051,
          9.207012176513672,
          -4.268653869628906,
          -5.27166223526001,
          -3.5100109577178955,
          -5.086847305297852,
          -6.461111545562744,
          0.6689488291740417,
          -2.3668689727783203,
          8.953195571899414,
          -7.017222881317139,
          3.784510374069214,
          -6.796125411987305,
          4.944146156311035,
          -2.366898536682129,
          -5.7075300216674805,
          -8.132262229919434,
          4.944124698638916,
          1.1089673042297363,
          -5.705837726593018,
          -6.566407203674316,
          -6.781459808349609,
          -4.747747421264648,
          -2.0235695838928223,
          -5.762368679046631,
          -5.3652448654174805,
          1.1089972257614136,
          -0.018995875492691994,
          -2.366652250289917,
          -6.619200706481934,
          -6.657855987548828,
          -4.497312068939209,
          0.6917240619659424
         ],
         "z": [
          -2.4483838081359863,
          -2.504493474960327,
          -2.659421682357788,
          -5.851387977600098,
          1.7003368139266968,
          -1.929930567741394,
          -4.12095832824707,
          -2.354836940765381,
          -8.398477554321289,
          -2.572606086730957,
          -8.346320152282715,
          -2.5708327293395996,
          0.7212197780609131,
          -1.946363091468811,
          -1.7081480026245117,
          -2.0108909606933594,
          -2.6345064640045166,
          -0.5748006701469421,
          0.2473672777414322,
          -4.120291709899902,
          -5.0653815269470215,
          -2.030209541320801,
          -2.0941145420074463,
          -1.6943892240524292,
          -3.2090065479278564,
          -1.217047095298767,
          -1.8268519639968872,
          -2.254699230194092,
          7.607369899749756,
          -0.31920844316482544,
          7.809857368469238,
          -8.346303939819336,
          1.698697566986084,
          2.8932836055755615,
          -1.216508150100708,
          -1.2170192003250122,
          -1.994756817817688,
          -4.120311260223389,
          -3.928215503692627,
          -1.8442710638046265,
          -8.724258422851562,
          -2.5486817359924316,
          2.2364628314971924,
          -2.3116486072540283,
          1.698697566986084,
          -4.86393928527832,
          -0.846528172492981,
          -4.0033040046691895,
          0.34669673442840576,
          8.84650993347168,
          1.6986833810806274,
          -2.0304245948791504,
          -2.3900911808013916,
          8.846525192260742,
          7.607560157775879,
          -2.030195474624634,
          -7.952733993530273,
          -3.74432373046875,
          -2.457101345062256,
          0.19319747388362885,
          -1.6020214557647705,
          -3.295593023300171,
          7.607370376586914,
          -1.2164959907531738,
          1.6991008520126343,
          -7.800666332244873,
          -3.2090065479278564,
          -1.8223398923873901,
          -2.3528084754943848
         ]
        },
        {
         "hovertemplate": "Dominant_Topic=Topic 1<br>0=%{x}<br>1=%{y}<br>2=%{z}<extra></extra>",
         "legendgroup": "Topic 1",
         "marker": {
          "color": "#EF553B",
          "opacity": 0.7,
          "symbol": "circle"
         },
         "mode": "markers",
         "name": "Topic 1",
         "scene": "scene",
         "showlegend": true,
         "type": "scatter3d",
         "x": [
          3.1852738857269287,
          4.607177257537842,
          5.438612461090088,
          3.944091558456421,
          3.9393672943115234,
          4.89872407913208,
          -0.9189642667770386,
          3.4284727573394775,
          3.206787109375,
          3.3207314014434814,
          3.1756486892700195,
          -0.19784463942050934,
          2.61812686920166,
          3.2972917556762695,
          0.22206877171993256,
          3.3133513927459717,
          3.269381523132324,
          4.55443811416626,
          2.168156862258911,
          -0.19821470975875854,
          3.3884389400482178,
          -0.8515356183052063,
          6.233586311340332,
          3.685776710510254,
          4.060497760772705,
          4.0110321044921875,
          3.9977431297302246,
          4.598248481750488,
          -0.19821418821811676,
          3.678675651550293,
          4.090259552001953,
          4.461047172546387,
          4.057090759277344,
          -0.9189919233322144,
          2.614495277404785,
          6.233535289764404,
          4.652100086212158,
          6.233591556549072,
          2.8849940299987793,
          4.709976673126221,
          5.438612461090088,
          2.858854055404663,
          3.5512773990631104,
          4.609033107757568,
          4.472185134887695,
          3.835414171218872,
          3.7018191814422607,
          1.9574337005615234,
          2.6181862354278564,
          3.8417809009552,
          4.335192680358887,
          3.412869930267334,
          5.3212361335754395,
          3.013552665710449,
          2.964266538619995,
          3.2826218605041504
         ],
         "y": [
          13.28498363494873,
          11.6828031539917,
          13.182334899902344,
          11.265843391418457,
          11.857669830322266,
          9.456992149353027,
          4.447564125061035,
          10.96292781829834,
          11.912731170654297,
          11.52680778503418,
          11.433572769165039,
          8.878886222839355,
          10.963043212890625,
          13.509323120117188,
          11.816682815551758,
          10.615001678466797,
          8.922677993774414,
          10.863629341125488,
          9.542733192443848,
          8.878777503967285,
          12.113584518432617,
          11.473433494567871,
          9.401825904846191,
          13.509415626525879,
          10.718369483947754,
          10.630188941955566,
          10.427881240844727,
          13.31737995147705,
          8.878785133361816,
          12.07735824584961,
          11.082195281982422,
          11.597879409790039,
          12.085135459899902,
          4.4471917152404785,
          12.13833236694336,
          9.401840209960938,
          13.415496826171875,
          9.401812553405762,
          11.489184379577637,
          9.588306427001953,
          13.182334899902344,
          11.101522445678711,
          10.940783500671387,
          11.105812072753906,
          11.264275550842285,
          11.555779457092285,
          13.94748306274414,
          13.018556594848633,
          10.963155746459961,
          11.994664192199707,
          11.868224143981934,
          10.570106506347656,
          12.984481811523438,
          10.910116195678711,
          11.758502006530762,
          9.233673095703125
         ],
         "z": [
          -3.769263505935669,
          -5.943149566650391,
          -7.098139762878418,
          -5.0888895988464355,
          -5.271421432495117,
          -8.111456871032715,
          -6.255303382873535,
          -6.70244836807251,
          -5.631308078765869,
          -5.147910118103027,
          -6.647552490234375,
          -5.472290992736816,
          -8.826709747314453,
          -2.8208770751953125,
          -0.4559224843978882,
          -6.345489025115967,
          -3.9471888542175293,
          -5.739070892333984,
          -3.79001784324646,
          -5.471984386444092,
          -6.326700210571289,
          0.05897270515561104,
          -8.153606414794922,
          -5.594876289367676,
          -6.382931232452393,
          -5.445889472961426,
          -6.048630714416504,
          -3.7195658683776855,
          -5.471983909606934,
          -5.675928115844727,
          -6.760124683380127,
          -6.532043933868408,
          -6.18094539642334,
          -6.255465507507324,
          -8.521269798278809,
          -8.153648376464844,
          -3.5114800930023193,
          -8.153608322143555,
          -5.579301357269287,
          -7.5462446212768555,
          -7.098140239715576,
          -6.198976039886475,
          -5.239421844482422,
          -6.227524280548096,
          -5.350315570831299,
          -6.885287761688232,
          -5.628198623657227,
          -6.287852764129639,
          -8.826635360717773,
          -6.638921737670898,
          -5.686140060424805,
          -5.7896904945373535,
          -4.197699069976807,
          -5.67249059677124,
          -6.27362060546875,
          -9.379009246826172
         ]
        },
        {
         "hovertemplate": "Dominant_Topic=Topic 10<br>0=%{x}<br>1=%{y}<br>2=%{z}<extra></extra>",
         "legendgroup": "Topic 10",
         "marker": {
          "color": "#00cc96",
          "opacity": 0.7,
          "symbol": "circle"
         },
         "mode": "markers",
         "name": "Topic 10",
         "scene": "scene",
         "showlegend": true,
         "type": "scatter3d",
         "x": [
          -1.0889216661453247,
          -0.7966775894165039,
          -0.42862504720687866,
          -1.1420211791992188,
          -3.509136915206909,
          -0.7905348539352417,
          0.04159000143408775,
          -0.42862504720687866,
          -0.9353391528129578,
          -0.4922751784324646,
          -0.7928524613380432,
          0.8988322615623474,
          -0.15162912011146545,
          -0.9353391528129578,
          0.23266449570655823,
          -0.8066763281822205,
          0.045199595391750336,
          0.23227515816688538,
          -1.7100038528442383,
          -0.7887977957725525,
          -1.7100039720535278,
          -0.5536807179450989,
          0.29234251379966736,
          0.03372805565595627,
          -0.5095458030700684,
          -3.509136915206909,
          -0.4026491343975067,
          -0.7899346351623535,
          -0.0999007299542427,
          -0.7887970805168152,
          -0.05489204078912735,
          1.0588581562042236
         ],
         "y": [
          -7.454742908477783,
          -7.867640972137451,
          -7.253659248352051,
          -9.020545959472656,
          -6.6942033767700195,
          -8.713120460510254,
          -7.785083293914795,
          -7.253659248352051,
          -9.601232528686523,
          -6.136268138885498,
          -7.446895122528076,
          -9.26165771484375,
          -7.469377040863037,
          -9.601232528686523,
          -9.478046417236328,
          -7.585328102111816,
          -7.827303886413574,
          -9.478073120117188,
          -9.093505859375,
          -8.711660385131836,
          -9.093505859375,
          -8.070561408996582,
          -7.961001396179199,
          -7.8739705085754395,
          -7.627318382263184,
          -6.6942033767700195,
          -8.103689193725586,
          -8.711316108703613,
          -7.283780097961426,
          -8.71165943145752,
          -7.624203205108643,
          -6.9533233642578125
         ],
         "z": [
          -13.906842231750488,
          -12.324482917785645,
          -12.636343002319336,
          -14.670086860656738,
          -11.444392204284668,
          -13.769193649291992,
          -12.602713584899902,
          -12.636343002319336,
          -10.360161781311035,
          -11.096653938293457,
          -12.25509262084961,
          -12.316381454467773,
          -12.762580871582031,
          -10.360161781311035,
          -12.892014503479004,
          -12.520659446716309,
          -12.55536937713623,
          -12.892535209655762,
          -13.842316627502441,
          -13.765460968017578,
          -13.842316627502441,
          -12.204784393310547,
          -13.9921293258667,
          -12.123686790466309,
          -11.900686264038086,
          -11.444398880004883,
          -12.200051307678223,
          -13.766687393188477,
          -12.192070960998535,
          -13.765459060668945,
          -11.972488403320312,
          -12.799116134643555
         ]
        },
        {
         "hovertemplate": "Dominant_Topic=Topic 11<br>0=%{x}<br>1=%{y}<br>2=%{z}<extra></extra>",
         "legendgroup": "Topic 11",
         "marker": {
          "color": "#ab63fa",
          "opacity": 0.7,
          "symbol": "circle"
         },
         "mode": "markers",
         "name": "Topic 11",
         "scene": "scene",
         "showlegend": true,
         "type": "scatter3d",
         "x": [
          -2.90871000289917,
          -2.9419634342193604,
          -3.8319380283355713,
          -2.9643189907073975,
          -2.699124813079834,
          -2.932260274887085,
          -2.6105425357818604,
          -2.9567549228668213,
          -4.366703033447266,
          -3.8319380283355713,
          -1.6755107641220093,
          -3.722750425338745,
          -3.117912530899048,
          -3.8319382667541504,
          -4.5161662101745605,
          -0.5135518312454224,
          -3.4791176319122314,
          -3.800995111465454,
          -3.8319380283355713,
          -4.5161662101745605,
          -2.3713765144348145,
          -4.444385051727295,
          -3.8319382667541504,
          -2.0185792446136475,
          -3.83152437210083,
          -2.770280361175537,
          -1.1600837707519531,
          -2.325988292694092,
          -3.1921072006225586,
          -2.567035675048828,
          -3.8010120391845703,
          -3.8319382667541504,
          -2.679460048675537,
          -2.3930745124816895
         ],
         "y": [
          -0.2516055405139923,
          0.27112284302711487,
          2.542776584625244,
          -0.44882917404174805,
          -1.362007975578308,
          -0.20037853717803955,
          -0.441387414932251,
          0.4468905031681061,
          -0.3455999493598938,
          2.542776346206665,
          1.3354452848434448,
          1.7348196506500244,
          0.32900434732437134,
          2.542776584625244,
          0.6022251844406128,
          -5.864184379577637,
          -3.042602300643921,
          3.0896999835968018,
          2.542776346206665,
          0.6022252440452576,
          0.04389766603708267,
          0.46183454990386963,
          2.542776584625244,
          1.6301409006118774,
          2.5421979427337646,
          0.2958592474460602,
          -1.0556821823120117,
          -0.17974750697612762,
          -0.16944262385368347,
          0.0662180632352829,
          3.0897159576416016,
          2.542776584625244,
          0.11937366425991058,
          0.14064830541610718
         ],
         "z": [
          4.312694072723389,
          3.5588951110839844,
          0.939113438129425,
          3.92813777923584,
          5.493542671203613,
          3.5070135593414307,
          3.7859044075012207,
          4.006226062774658,
          3.3651773929595947,
          0.9391137957572937,
          4.302691459655762,
          1.8492155075073242,
          3.8071115016937256,
          0.9391132593154907,
          5.211073398590088,
          -10.302311897277832,
          3.5144498348236084,
          5.448818206787109,
          0.9391137957572937,
          5.211073875427246,
          4.174971580505371,
          5.13660192489624,
          0.9391132593154907,
          3.8436710834503174,
          0.9388907551765442,
          4.319522857666016,
          5.174080848693848,
          3.966491460800171,
          4.025389671325684,
          3.4826109409332275,
          5.448818683624268,
          0.9391132593154907,
          4.400092124938965,
          3.661006450653076
         ]
        },
        {
         "hovertemplate": "Dominant_Topic=Topic 12<br>0=%{x}<br>1=%{y}<br>2=%{z}<extra></extra>",
         "legendgroup": "Topic 12",
         "marker": {
          "color": "#FFA15A",
          "opacity": 0.7,
          "symbol": "circle"
         },
         "mode": "markers",
         "name": "Topic 12",
         "scene": "scene",
         "showlegend": true,
         "type": "scatter3d",
         "x": [
          2.5046639442443848,
          0.14427153766155243,
          -6.34921932220459,
          -14.238336563110352,
          -4.138019561767578,
          3.764207124710083,
          5.534197807312012,
          -3.1857945919036865,
          3.067023277282715,
          0.7407935857772827,
          0.6588847041130066,
          -5.428513050079346,
          5.630138397216797,
          2.9554991722106934,
          9.779777526855469,
          2.2517762184143066,
          -7.8189167976379395,
          -4.338111400604248,
          -5.968427658081055,
          3.1360366344451904,
          -6.099628925323486,
          13.485990524291992,
          2.717588424682617,
          -7.193953037261963,
          -11.650494575500488,
          2.219536066055298,
          -7.4875922203063965,
          -7.685532569885254,
          3.066053628921509,
          -4.805922508239746,
          -8.377296447753906,
          1.562264323234558,
          1.1124632358551025,
          1.7235113382339478,
          -2.4328842163085938,
          3.675877094268799,
          2.4486374855041504,
          3.3374006748199463,
          3.3401410579681396,
          1.5519795417785645,
          -5.355567455291748,
          -1.1859289407730103,
          3.4465768337249756,
          -4.089042663574219,
          -3.1415317058563232,
          -4.848080158233643,
          -13.476506233215332,
          -2.83353328704834,
          -7.291138172149658,
          -8.2597017288208,
          -6.114083766937256,
          -0.8081573843955994,
          -12.336376190185547,
          9.063725471496582,
          -7.066704273223877,
          3.181684970855713,
          -5.026150226593018,
          1.2227286100387573,
          -7.450684547424316,
          14.69404411315918,
          -12.648324966430664,
          -12.305418968200684,
          -10.660422325134277,
          1.05838143825531,
          4.887903213500977,
          -13.476412773132324,
          -0.8838150501251221,
          -6.853180408477783,
          -2.915972948074341,
          -0.14731891453266144,
          -2.4865989685058594,
          0.4991621673107147,
          3.2329304218292236,
          -2.4870619773864746,
          1.01626455783844,
          11.070430755615234,
          -4.261347770690918,
          -11.978883743286133,
          2.3560919761657715,
          -6.298276901245117,
          -5.256958961486816,
          -9.421075820922852,
          -6.6518354415893555,
          -3.2965621948242188,
          -5.497944355010986,
          -14.238686561584473,
          -14.238368034362793,
          -0.9542112946510315,
          5.276578426361084,
          -5.984405517578125,
          1.7134135961532593,
          -5.1436076164245605,
          6.381920337677002,
          10.509159088134766,
          -4.338064670562744,
          8.707911491394043,
          3.446552038192749,
          -3.073296546936035,
          2.83732008934021,
          3.1471376419067383,
          -10.347039222717285,
          -10.865262031555176,
          4.438704967498779,
          -6.282331943511963,
          -8.614398002624512,
          -8.12318229675293,
          7.003896713256836,
          -6.390164375305176,
          -4.306245803833008,
          -10.68005084991455,
          -6.3628458976745605,
          3.0732452869415283,
          2.0914034843444824,
          -12.588915824890137,
          8.673408508300781,
          10.212417602539062,
          -10.29541301727295,
          -6.986541748046875,
          2.35823655128479,
          2.7639265060424805,
          1.2450613975524902,
          -4.8189802169799805,
          -0.9538666009902954,
          6.185047149658203,
          10.751052856445312,
          10.896424293518066,
          13.397844314575195,
          -9.772028923034668,
          -6.301339149475098,
          2.3539905548095703,
          11.025968551635742,
          1.4072062969207764,
          10.308406829833984,
          14.694074630737305,
          2.201669931411743,
          -4.0894694328308105,
          -13.476472854614258,
          3.700516700744629,
          -1.1459150314331055,
          2.7690274715423584,
          9.108126640319824,
          -4.011801242828369,
          0.505957841873169,
          14.694032669067383,
          10.48299503326416,
          3.066596269607544,
          12.828369140625,
          -10.302178382873535,
          2.053501844406128,
          5.739109039306641,
          -0.7036831378936768,
          -2.8652985095977783,
          0.9198985695838928,
          -4.089084625244141,
          2.3539798259735107,
          2.4488744735717773,
          -4.089023590087891,
          11.250625610351562,
          -5.458141326904297,
          2.2794179916381836,
          -6.968394756317139,
          -4.338118076324463,
          -6.493837356567383,
          -4.947673320770264,
          -3.1415112018585205,
          2.1830625534057617,
          1.530056118965149,
          -0.42736732959747314,
          1.8418362140655518,
          7.495417594909668,
          4.745628356933594,
          -5.5740251541137695,
          -9.148365020751953,
          -0.427350789308548,
          -3.59053111076355,
          -0.9875569343566895,
          -5.917283058166504,
          -4.089021682739258,
          -6.662424087524414,
          9.734307289123535,
          -7.20422887802124,
          4.127091407775879,
          -14.843403816223145,
          0.8103780746459961,
          -6.21457052230835,
          -5.958771705627441,
          3.1737163066864014,
          -0.3923235535621643,
          5.854727745056152,
          6.3818840980529785,
          8.51109790802002,
          -6.148014068603516,
          10.865564346313477,
          -12.588815689086914,
          4.905240535736084,
          3.270583152770996,
          11.026505470275879,
          6.7230329513549805,
          2.2517292499542236,
          -1.466636300086975,
          -10.400995254516602,
          3.0657806396484375,
          1.2876675128936768,
          4.4900336265563965,
          4.224662780761719,
          -7.027657508850098,
          8.510735511779785,
          8.688620567321777,
          -1.4946742057800293,
          -6.986617565155029,
          -3.442338228225708,
          9.912331581115723,
          -4.995162010192871,
          2.449465274810791,
          -4.219816207885742,
          -9.281881332397461,
          2.866847038269043,
          2.0783605575561523,
          -6.990075588226318,
          9.38011646270752,
          -8.328365325927734,
          -5.888123512268066,
          4.9400315284729,
          -0.353289395570755,
          -0.9542402029037476,
          4.914206027984619,
          2.306109666824341,
          -11.843574523925781,
          1.6202470064163208,
          -8.464320182800293,
          -6.270862102508545,
          -3.005789279937744,
          4.92625617980957,
          -6.986541748046875,
          2.0563347339630127,
          -8.229581832885742,
          -5.923873424530029,
          -9.600831985473633,
          6.013355731964111,
          11.482390403747559,
          8.688612937927246,
          -6.283360958099365,
          2.8487305641174316,
          8.47693157196045,
          0.8516812324523926,
          6.052613258361816,
          -4.2200212478637695,
          -4.674261093139648,
          -5.420356750488281,
          -1.1504911184310913,
          -7.687606334686279,
          -10.144699096679688,
          -5.958902359008789,
          -5.685446262359619,
          -4.95313024520874,
          -8.768372535705566,
          -0.3532852530479431,
          3.194462776184082,
          -11.891618728637695,
          0.0056229280307888985,
          -8.532552719116211,
          1.0638303756713867,
          -9.706646919250488,
          10.366948127746582,
          8.785934448242188,
          9.890534400939941,
          -11.796412467956543,
          2.699873208999634,
          3.5173745155334473,
          2.9108455181121826,
          2.705416202545166,
          -10.177785873413086,
          11.241497039794922,
          -8.439064025878906,
          0.06772109866142273,
          -0.5300372838973999,
          2.3546864986419678,
          3.5483884811401367,
          -0.9542372226715088,
          -0.3532872796058655,
          -0.9694554209709167,
          11.078619956970215,
          -6.714444637298584,
          -5.230937957763672,
          -10.9295654296875,
          6.435922145843506,
          -1.6866848468780518,
          -9.819524765014648,
          -10.449505805969238,
          10.176911354064941,
          2.3539323806762695,
          10.4262113571167,
          -6.402121067047119,
          7.891881942749023,
          3.833481788635254,
          5.445136070251465,
          6.184216022491455,
          -7.992575168609619,
          5.516820907592773,
          5.51682186126709,
          7.889444351196289,
          -5.1082940101623535,
          -0.353287935256958,
          1.6568931341171265,
          2.5548183917999268,
          2.9033286571502686,
          -10.544410705566406,
          6.052613258361816,
          2.8823153972625732,
          3.183894634246826,
          3.1506948471069336,
          3.0657975673675537,
          -6.606020450592041,
          7.094001293182373,
          2.28052020072937,
          2.4490456581115723,
          -4.121792793273926,
          2.8119287490844727,
          3.0491349697113037,
          -14.245635032653809,
          -6.504946708679199,
          3.5285303592681885,
          1.9922943115234375,
          -7.674310684204102,
          -6.696993827819824,
          -4.423829555511475,
          -9.712617874145508,
          -8.096284866333008,
          -5.732490062713623,
          -10.665056228637695,
          -6.37239408493042,
          -9.818329811096191,
          -7.318778991699219,
          -6.986692905426025,
          1.600722074508667,
          2.7355611324310303,
          -8.263298034667969,
          -7.280663967132568,
          -8.605859756469727,
          -6.660144329071045,
          -5.795621871948242,
          8.839800834655762,
          -5.602033615112305,
          -4.4287333488464355,
          -6.465873718261719,
          6.958189487457275,
          -11.307332992553711,
          -12.305418968200684,
          4.052176475524902,
          -7.594228267669678,
          2.9298861026763916,
          -0.7490205764770508,
          -12.305418968200684,
          -6.777278423309326,
          -5.936455726623535,
          -0.952463686466217,
          -14.238308906555176,
          -0.7964906096458435,
          -6.662424564361572,
          -7.8824262619018555,
          -1.436626672744751,
          5.63645076751709,
          2.650214195251465,
          3.489199161529541,
          -1.829466700553894,
          5.975715160369873,
          -13.440875053405762,
          -10.998191833496094,
          -5.804999351501465,
          9.653724670410156,
          -9.559622764587402,
          -2.855720043182373,
          2.2517783641815186,
          3.315453290939331,
          -12.227044105529785,
          -12.777591705322266,
          -1.533271074295044,
          2.9108619689941406,
          3.3293135166168213,
          -6.0024027824401855,
          0.2907012403011322,
          -6.986377716064453,
          1.7942092418670654,
          9.902113914489746,
          -1.1952509880065918,
          6.853498935699463,
          -6.551140308380127,
          2.2614128589630127,
          -11.79708194732666,
          8.688615798950195,
          2.8387837409973145,
          1.361892819404602,
          -10.609125137329102,
          -5.248589515686035,
          -13.792680740356445,
          1.4700440168380737,
          -1.722447395324707,
          -5.739231586456299,
          -13.477280616760254,
          -4.306206703186035,
          -5.941391944885254,
          -12.60938835144043,
          0.7047415375709534,
          8.81081485748291,
          2.5018343925476074,
          -7.361372947692871,
          -8.156021118164062,
          2.4649806022644043,
          7.690190315246582,
          -2.1816394329071045,
          -8.268199920654297,
          3.717839002609253,
          5.86429500579834,
          5.2961201667785645,
          -12.631258010864258,
          -4.670510292053223,
          -2.229006290435791,
          -0.6413437724113464,
          10.827823638916016,
          -9.818398475646973,
          5.641461372375488,
          -12.561751365661621,
          -4.089087963104248,
          1.3152650594711304,
          6.9581756591796875,
          -8.023177146911621,
          -12.227044105529785,
          -10.114672660827637,
          9.380244255065918,
          -3.151453971862793,
          3.4465808868408203,
          9.216133117675781,
          -9.058134078979492,
          -6.667166233062744,
          -13.792464256286621,
          1.2088263034820557,
          1.488413691520691,
          -2.4809117317199707,
          0.7602053284645081,
          -6.662424564361572,
          6.7236409187316895,
          -0.5036143660545349,
          -9.495218276977539,
          -2.682983636856079,
          -12.1305513381958,
          4.189614295959473,
          1.5448697805404663,
          -4.858810901641846,
          1.667438268661499,
          -4.089504241943359,
          3.4467170238494873,
          -14.227335929870605,
          -0.7963811755180359,
          -3.5300567150115967,
          -11.3338041305542,
          5.679781913757324,
          -3.4957687854766846,
          3.548403024673462,
          -3.138925313949585,
          -7.652470111846924,
          -6.958227634429932,
          -6.6441850662231445,
          4.835755348205566,
          10.308295249938965,
          2.4858360290527344,
          -7.281282424926758,
          -12.389642715454102,
          1.257611632347107,
          4.195988655090332,
          -0.7490324974060059,
          -6.873185157775879,
          3.4011788368225098,
          -6.937992572784424,
          12.27292537689209,
          -8.77375602722168,
          -12.377278327941895,
          3.492673873901367,
          11.07043743133545,
          -14.778776168823242,
          1.7159321308135986,
          -14.923683166503906,
          -1.2499399185180664,
          -3.7191920280456543,
          10.951526641845703,
          2.4939608573913574,
          -8.029088020324707,
          -2.682983875274658,
          5.641389846801758,
          6.381829738616943,
          1.7739042043685913,
          -0.46382850408554077,
          -6.662424564361572,
          -2.480898857116699,
          2.6917388439178467,
          9.862417221069336,
          -9.911432266235352,
          -7.716613292694092,
          2.449223756790161,
          10.683454513549805,
          1.0117368698120117,
          -0.4273936152458191,
          2.723520278930664,
          2.0120768547058105,
          -8.39841365814209,
          5.64146089553833,
          4.287174701690674,
          -12.334698677062988,
          -9.495246887207031,
          3.0681827068328857,
          -12.631505966186523,
          -8.933416366577148,
          6.381834030151367,
          3.115297794342041,
          -13.476639747619629,
          -11.648515701293945,
          3.683124542236328,
          9.834824562072754,
          5.899779796600342,
          6.573581218719482,
          3.5577616691589355,
          -5.1307148933410645,
          5.596972465515137,
          -4.330520153045654,
          5.818785190582275,
          7.165657997131348,
          -5.401122570037842,
          -0.7466696500778198,
          6.381833553314209,
          -6.667861461639404,
          -4.135081768035889,
          3.1087491512298584,
          3.683133602142334,
          -6.1928253173828125,
          5.596975326538086,
          7.690425395965576,
          10.32990837097168,
          5.26303243637085,
          -7.017927169799805,
          2.5785865783691406,
          10.042634963989258,
          -7.003482341766357,
          -5.823660850524902,
          4.60062313079834,
          -2.2184388637542725,
          2.6051456928253174,
          6.255290985107422,
          -4.3062520027160645,
          5.884087085723877,
          -12.775863647460938,
          -12.627055168151855,
          -12.635818481445312,
          -2.9927971363067627,
          -3.1857945919036865,
          0.30542734265327454,
          -9.615966796875,
          -9.495223999023438,
          9.898192405700684,
          2.741006374359131,
          3.232945680618286,
          8.135025024414062,
          2.444767951965332,
          0.6062373518943787,
          -5.361121654510498,
          6.396418571472168,
          0.7965471148490906,
          -0.3532841205596924,
          2.0113773345947266,
          -5.99138879776001,
          -4.0114827156066895,
          -5.27386999130249,
          3.1106626987457275,
          4.189207553863525,
          -6.324496269226074,
          -3.112306833267212,
          -9.267372131347656,
          2.097088098526001,
          -9.495201110839844,
          -7.399546146392822,
          8.688589096069336,
          -13.47642707824707,
          -9.464632987976074,
          4.284420967102051,
          8.810897827148438,
          9.632813453674316,
          1.0303322076797485,
          -14.227377891540527,
          9.80735969543457,
          -11.69450569152832,
          -9.899466514587402,
          4.60062313079834,
          8.688596725463867,
          -13.792464256286621,
          1.1391525268554688,
          -6.491464614868164,
          -0.7963811755180359,
          -3.5300567150115967,
          1.2025322914123535,
          3.066932201385498,
          2.1298670768737793,
          -3.141578435897827,
          -7.450671672821045,
          6.756503582000732,
          -6.968707084655762,
          -6.0064239501953125,
          -13.476632118225098,
          7.6716694831848145,
          5.739105224609375,
          1.894523024559021,
          9.91872787475586,
          2.0211732387542725,
          -11.307329177856445,
          -5.925685405731201,
          -10.07500171661377,
          9.710195541381836,
          1.6477077007293701,
          -6.863226413726807,
          -4.362219333648682,
          4.887903213500977,
          -0.039555810391902924,
          -10.771629333496094,
          1.081426739692688,
          -0.6815531253814697,
          3.0086495876312256,
          3.5713601112365723,
          0.675486147403717,
          -12.245420455932617,
          8.83236026763916,
          -4.582151889801025,
          -6.866061687469482,
          -8.243961334228516,
          3.781482219696045,
          -4.336803913116455,
          10.257282257080078,
          -0.7494806051254272,
          -6.663025856018066,
          -12.467683792114258,
          2.423508644104004,
          -7.230226993560791,
          2.8048477172851562,
          9.283846855163574,
          5.987712383270264,
          3.346526622772217,
          -12.774956703186035,
          3.967392921447754,
          6.5743794441223145,
          -10.294697761535645,
          0.7001868486404419,
          4.6937150955200195,
          2.8381741046905518,
          11.07040786743164,
          11.070394515991211,
          2.5760409832000732,
          11.276947975158691,
          -11.508864402770996,
          0.3298604190349579,
          10.442292213439941,
          -9.022283554077148,
          3.679720640182495,
          -5.369950771331787,
          2.8117401599884033,
          -12.779582023620605,
          3.6547491550445557,
          12.857046127319336,
          -2.7509806156158447,
          -4.338110446929932,
          -4.318990707397461,
          1.2010999917984009,
          -0.27173447608947754,
          4.778482913970947,
          8.328412055969238
         ],
         "y": [
          -20.91327667236328,
          -3.3415822982788086,
          15.83580493927002,
          0.5630683302879333,
          -0.8454923033714294,
          -17.95280647277832,
          -18.724393844604492,
          -9.618287086486816,
          -3.992757797241211,
          -18.539913177490234,
          2.3599839210510254,
          16.32392120361328,
          -20.66604232788086,
          0.19971705973148346,
          -16.607500076293945,
          7.717230319976807,
          -12.18259048461914,
          -1.2302610874176025,
          -14.859179496765137,
          -9.963190078735352,
          15.310531616210938,
          3.21242356300354,
          -16.946598052978516,
          -12.707715034484863,
          7.06642484664917,
          -19.146926879882812,
          13.030081748962402,
          -13.767257690429688,
          -3.9918580055236816,
          15.809867858886719,
          -13.256930351257324,
          -2.554129123687744,
          2.4303338527679443,
          2.499504804611206,
          1.1129637956619263,
          -19.07081413269043,
          8.109819412231445,
          -7.688769817352295,
          -16.570762634277344,
          2.2418313026428223,
          16.685754776000977,
          3.4667739868164062,
          3.664303779602051,
          5.048043251037598,
          13.718433380126953,
          -12.495195388793945,
          7.957434177398682,
          2.5754175186157227,
          -16.521947860717773,
          -15.942179679870605,
          4.428728103637695,
          7.9547038078308105,
          1.4352096319198608,
          -17.05855941772461,
          -14.514643669128418,
          -9.685283660888672,
          -15.634852409362793,
          2.83766508102417,
          13.055139541625977,
          2.7475593090057373,
          -0.0413753017783165,
          0.15468740463256836,
          2.2291135787963867,
          2.5678298473358154,
          -22.193119049072266,
          7.957464694976807,
          3.4859914779663086,
          16.48487663269043,
          0.9567362070083618,
          1.0584509372711182,
          3.125422954559326,
          -19.423864364624023,
          -11.795433044433594,
          3.125345468521118,
          1.9552756547927856,
          3.08754563331604,
          13.618642807006836,
          0.7415611743927002,
          -19.68402671813965,
          -13.754426002502441,
          16.621999740600586,
          -13.048249244689941,
          16.989473342895508,
          2.943096876144409,
          -14.4663667678833,
          0.563366711139679,
          0.5632596015930176,
          14.840526580810547,
          -17.803504943847656,
          16.374265670776367,
          2.5104057788848877,
          -14.829057693481445,
          1.1575684547424316,
          -0.16140682995319366,
          -1.2302435636520386,
          -17.059370040893555,
          3.6642773151397705,
          2.424222230911255,
          -10.367424964904785,
          1.3366507291793823,
          1.7031675577163696,
          2.7339885234832764,
          -17.359355926513672,
          16.706323623657227,
          1.533051609992981,
          1.5711400508880615,
          -16.29013442993164,
          -13.314043998718262,
          5.403378486633301,
          2.680170774459839,
          16.98918914794922,
          -21.049232482910156,
          7.571291923522949,
          8.50058650970459,
          0.3902597427368164,
          -1.179248332977295,
          -1.1730656623840332,
          4.565402507781982,
          0.7678101062774658,
          -18.174514770507812,
          -21.030242919921875,
          13.122305870056152,
          -1.4427958726882935,
          -16.85888671875,
          -0.30931973457336426,
          -0.845190703868866,
          3.5945136547088623,
          2.487539052963257,
          -11.87998104095459,
          -22.448974609375,
          2.2149486541748047,
          -3.5021283626556396,
          -5.169630527496338,
          2.7474985122680664,
          -17.73390769958496,
          5.048174858093262,
          7.9574432373046875,
          3.967862606048584,
          3.164201498031616,
          -9.69234848022461,
          -16.305347442626953,
          3.044006586074829,
          -20.03044319152832,
          2.7476253509521484,
          -1.0301295518875122,
          -3.992244243621826,
          -0.13799698650836945,
          1.9846348762512207,
          -17.25162696838379,
          -5.4911789894104,
          3.533304452896118,
          2.315918207168579,
          -20.2623233795166,
          5.0480570793151855,
          -22.448938369750977,
          8.109646797180176,
          5.047985076904297,
          -1.1000983715057373,
          -15.605588912963867,
          -18.467178344726562,
          -13.596441268920898,
          -1.230278491973877,
          16.532602310180664,
          15.949556350708008,
          13.718480110168457,
          -18.073171615600586,
          -19.228740692138672,
          -2.425826072692871,
          -18.171110153198242,
          -16.897573471069336,
          -17.779878616333008,
          15.431138038635254,
          -12.116605758666992,
          -2.4258625507354736,
          -6.614063262939453,
          0.8762944936752319,
          15.815350532531738,
          5.047985553741455,
          5.393195152282715,
          -16.767480850219727,
          -12.095327377319336,
          -17.905019760131836,
          6.465436935424805,
          1.864638328552246,
          16.198110580444336,
          -13.28084659576416,
          -10.291672706604004,
          0.9131965637207031,
          -0.5067743062973022,
          1.1575665473937988,
          -2.894176721572876,
          16.48372459411621,
          -1.0761414766311646,
          8.50042724609375,
          -18.932968139648438,
          -9.784975051879883,
          -0.11718881875276566,
          0.8157224655151367,
          7.717050552368164,
          2.408159017562866,
          1.732842206954956,
          -3.991563558578491,
          -18.864595413208008,
          -18.322612762451172,
          -17.517784118652344,
          -10.965978622436523,
          -2.8941948413848877,
          0.387624055147171,
          3.5838685035705566,
          4.565423011779785,
          2.1994552612304688,
          -17.067502975463867,
          -11.97908878326416,
          8.110211372375488,
          13.478243827819824,
          -13.83908462524414,
          -22.43169403076172,
          -20.9117431640625,
          -15.321308135986328,
          -16.720577239990234,
          -11.441232681274414,
          -11.42846965789795,
          -18.515573501586914,
          -3.5306057929992676,
          14.840535163879395,
          -17.42902946472168,
          -22.394689559936523,
          -3.4811906814575195,
          -19.46478843688965,
          -13.831965446472168,
          -15.269034385681152,
          3.2565534114837646,
          -18.0895938873291,
          4.5654168128967285,
          -3.1697070598602295,
          -14.447258949279785,
          -12.971781730651855,
          13.179320335388184,
          -16.921709060668945,
          -0.04981032758951187,
          0.3876282274723053,
          -14.416938781738281,
          1.321143627166748,
          -16.585067749023438,
          -3.3937745094299316,
          -20.714595794677734,
          13.478421211242676,
          16.476245880126953,
          15.370781898498535,
          3.498957395553589,
          -14.732019424438477,
          2.639665365219116,
          18.675704956054688,
          15.813450813293457,
          -2.584294557571411,
          -13.252188682556152,
          -3.5305144786834717,
          0.13948388397693634,
          1.0602790117263794,
          -4.269564628601074,
          -14.452075004577637,
          -19.735536575317383,
          2.6233108043670654,
          -0.6590570211410522,
          -4.2348527908325195,
          -0.5745849013328552,
          1.5332781076431274,
          -16.925785064697266,
          -18.832094192504883,
          8.707033157348633,
          1.4301185607910156,
          2.321051597595215,
          -0.6709573268890381,
          1.8740490674972534,
          3.035703420639038,
          -5.217705249786377,
          -19.68238067626953,
          3.8263328075408936,
          14.840533256530762,
          -3.530611038208008,
          -1.4239262342453003,
          -0.1822504997253418,
          -16.091041564941406,
          15.165146827697754,
          2.6176280975341797,
          -17.188175201416016,
          3.1602087020874023,
          2.2333006858825684,
          4.2292890548706055,
          -5.5181193351745605,
          -22.44890594482422,
          -1.5302469730377197,
          14.930914878845215,
          0.7181476950645447,
          -10.529413223266602,
          1.6819723844528198,
          -16.85695457458496,
          -12.018972396850586,
          -2.3118603229522705,
          -2.3118197917938232,
          0.15517522394657135,
          15.11365795135498,
          -3.530529499053955,
          -7.744035243988037,
          1.0464779138565063,
          -9.678790092468262,
          -14.217763900756836,
          -20.714595794677734,
          -17.356124877929688,
          -10.192060470581055,
          0.7651742100715637,
          -3.9915781021118164,
          15.16818904876709,
          -16.699188232421875,
          -18.467172622680664,
          8.109916687011719,
          3.062394380569458,
          -19.3748722076416,
          0.4119473695755005,
          1.0597423315048218,
          -14.627902030944824,
          -12.9135103225708,
          -17.073030471801758,
          -12.947243690490723,
          16.050031661987305,
          -13.65786075592041,
          -13.177315711975098,
          -13.501738548278809,
          16.123973846435547,
          1.995269536972046,
          15.238141059875488,
          12.152801513671875,
          -14.579489707946777,
          4.565272331237793,
          2.103407382965088,
          -9.604212760925293,
          -14.654199600219727,
          -14.146838188171387,
          -13.560535430908203,
          -15.316649436950684,
          -15.8572359085083,
          -16.604429244995117,
          -13.88050365447998,
          15.909951210021973,
          -15.296475410461426,
          1.3645918369293213,
          -10.756192207336426,
          0.15468740463256836,
          -18.42597770690918,
          -15.364680290222168,
          1.629587173461914,
          1.0144606828689575,
          0.15468740463256836,
          15.810237884521484,
          -12.77663516998291,
          2.431525707244873,
          0.5631715059280396,
          -10.609234809875488,
          5.393194675445557,
          -15.733177185058594,
          2.7202320098876953,
          -18.44846534729004,
          -9.99623966217041,
          -12.771430015563965,
          3.467987298965454,
          -19.772789001464844,
          9.133600234985352,
          0.14487449824810028,
          14.686592102050781,
          -17.508529663085938,
          -14.384095191955566,
          3.370081663131714,
          7.717136383056641,
          1.1788899898529053,
          -0.32889512181282043,
          -0.5644659399986267,
          2.721379280090332,
          8.707060813903809,
          -19.615339279174805,
          -14.201729774475098,
          -19.943044662475586,
          4.565472602844238,
          -18.53206443786621,
          -16.72048568725586,
          2.9616494178771973,
          -16.33152198791504,
          16.483808517456055,
          -16.915054321289062,
          1.533560037612915,
          0.3876273036003113,
          -20.89828109741211,
          -17.83409881591797,
          2.9847347736358643,
          -14.412562370300293,
          -1.0673749446868896,
          -18.534536361694336,
          3.3931760787963867,
          14.828032493591309,
          7.95708703994751,
          5.403362274169922,
          14.807271003723145,
          -0.8054492473602295,
          -0.5040103793144226,
          -3.805673837661743,
          0.5451675653457642,
          -13.861769676208496,
          -12.727272987365723,
          -16.773550033569336,
          0.36986657977104187,
          -2.281419038772583,
          -14.695727348327637,
          3.793761968612671,
          -19.554519653320312,
          -19.16860580444336,
          -0.8395734429359436,
          -14.815320014953613,
          -2.3531956672668457,
          3.1413674354553223,
          2.848881483078003,
          12.152711868286133,
          -3.628354549407959,
          -0.25239798426628113,
          5.048068523406982,
          -18.596038818359375,
          1.3645919561386108,
          -12.658723831176758,
          -0.32889512181282043,
          2.969792366027832,
          -15.808060646057129,
          13.697868347167969,
          3.6643052101135254,
          -16.54926109313965,
          -12.483013153076172,
          17.135820388793945,
          -1.067298173904419,
          -18.887460708618164,
          -19.70460319519043,
          5.948233604431152,
          -18.876014709472656,
          5.393194675445557,
          0.815838098526001,
          2.7480180263519287,
          13.037875175476074,
          1.069956660270691,
          -0.1556047797203064,
          -19.038368225097656,
          -19.14066505432129,
          -13.60977554321289,
          -19.33977508544922,
          5.04820442199707,
          3.6639654636383057,
          6.448147296905518,
          -10.609468460083008,
          -10.256704330444336,
          1.5770373344421387,
          -3.6797192096710205,
          -10.231537818908691,
          3.8263111114501953,
          -7.9907917976379395,
          -13.421158790588379,
          -13.024274826049805,
          -12.5790376663208,
          -17.6773738861084,
          -5.169671535491943,
          -9.970574378967285,
          -13.5918550491333,
          -0.2844747304916382,
          -19.323041915893555,
          -18.959354400634766,
          1.0144965648651123,
          -12.361087799072266,
          0.5786381363868713,
          -16.384624481201172,
          -7.130361080169678,
          -12.091352462768555,
          0.5560343861579895,
          -18.642684936523438,
          3.087509870529175,
          7.035563945770264,
          -16.98125457763672,
          6.2308783531188965,
          2.4436464309692383,
          -6.12787389755249,
          -1.3541045188903809,
          3.982701063156128,
          -11.430524826049805,
          1.0699563026428223,
          -3.6283931732177734,
          1.1575833559036255,
          -18.24258041381836,
          2.3210933208465576,
          5.393194675445557,
          5.9481587409973145,
          -21.177610397338867,
          -0.2212684452533722,
          2.915165662765503,
          -15.723674774169922,
          8.109904289245605,
          -1.4364982843399048,
          -19.80200958251953,
          -2.425100564956665,
          -20.974040985107422,
          -20.424306869506836,
          -16.166378021240234,
          -3.6283538341522217,
          6.669589519500732,
          7.4472832679748535,
          13.037859916687012,
          -3.994037628173828,
          -0.8397380709648132,
          -15.250200271606445,
          1.157581090927124,
          -21.20252799987793,
          7.957394599914551,
          7.064781188964844,
          3.981320381164551,
          -16.681926727294922,
          1.6754686832427979,
          -16.084482192993164,
          3.807556390762329,
          -12.366948127746582,
          -20.72045135498047,
          16.537155151367188,
          -17.997344970703125,
          -16.189180374145508,
          15.607854843139648,
          1.0137771368026733,
          1.1575812101364136,
          15.43588638305664,
          15.817365646362305,
          -21.199270248413086,
          3.9813144207000732,
          -12.454730033874512,
          -20.720401763916016,
          0.3698579668998718,
          -0.003528113942593336,
          -18.260324478149414,
          -12.624055862426758,
          -4.62714958190918,
          -1.3007886409759521,
          -11.331737518310547,
          -11.964996337890625,
          -18.74027442932129,
          -2.2516579627990723,
          -10.070838928222656,
          -16.36483383178711,
          5.403073310852051,
          -16.807058334350586,
          -0.5635782480239868,
          -0.8360432386398315,
          0.018658019602298737,
          2.782517433166504,
          -9.618303298950195,
          -19.793821334838867,
          -14.152129173278809,
          13.03787899017334,
          -0.32086390256881714,
          -17.142662048339844,
          -11.795482635498047,
          -18.309572219848633,
          0.9459109902381897,
          -18.992311477661133,
          -3.8321456909179688,
          -16.64178466796875,
          -0.6368319988250732,
          -3.530518054962158,
          -17.31648063659668,
          -11.299530029296875,
          3.0440175533294678,
          -13.149141311645508,
          -21.198591232299805,
          -18.536863327026367,
          -13.859591484069824,
          1.8635822534561157,
          -15.363546371459961,
          -16.800662994384766,
          13.03789234161377,
          -14.751745223999023,
          0.38764262199401855,
          7.957458972930908,
          -0.9605551362037659,
          -17.943830490112305,
          -3.805711269378662,
          -16.492538452148438,
          -18.764793395996094,
          6.448319435119629,
          -1.1474337577819824,
          -3.343656063079834,
          1.8531527519226074,
          -18.74027442932129,
          0.38764405250549316,
          -1.0672986507415771,
          1.9615341424942017,
          16.876998901367188,
          -10.609468460083008,
          -10.256723403930664,
          -20.11724090576172,
          -3.9926631450653076,
          -18.110074996948242,
          13.718422889709473,
          13.055131912231445,
          -16.97161293029785,
          16.940170288085938,
          -16.26609992980957,
          7.95737886428833,
          -17.022769927978516,
          -5.491106033325195,
          -22.210756301879883,
          -16.787527084350586,
          -4.665266036987305,
          -10.756176948547363,
          17.74289894104004,
          1.9285202026367188,
          -0.8855226635932922,
          -18.435470581054688,
          16.6733341217041,
          -14.401058197021484,
          -22.193119049072266,
          3.094933271408081,
          2.4077606201171875,
          2.863255500793457,
          -10.925254821777344,
          0.099826879799366,
          3.8641324043273926,
          -18.20504379272461,
          7.481100559234619,
          -16.703378677368164,
          16.52461814880371,
          16.793785095214844,
          1.4675233364105225,
          -19.585607528686523,
          2.8064515590667725,
          -0.59150230884552,
          1.0145533084869385,
          -13.92686939239502,
          1.4075769186019897,
          -17.77728271484375,
          -11.346687316894531,
          -10.361625671386719,
          -16.84710693359375,
          -16.447975158691406,
          -19.74358558654785,
          -0.562097430229187,
          -17.535795211791992,
          -17.108612060546875,
          2.8064939975738525,
          -6.987380027770996,
          -20.539287567138672,
          -18.63381004333496,
          3.0873868465423584,
          3.0874507427215576,
          -21.62933921813965,
          -0.7026594281196594,
          7.155022621154785,
          -19.268341064453125,
          0.10872505605220795,
          -15.070802688598633,
          -5.912477016448975,
          -13.373818397521973,
          -19.375911712646484,
          -0.5668121576309204,
          -18.255203247070312,
          3.524057388305664,
          3.0285065174102783,
          -1.2302980422973633,
          -13.102916717529297,
          1.7814468145370483,
          2.587202548980713,
          -20.120742797851562,
          -17.970243453979492
         ],
         "z": [
          -7.254005432128906,
          -13.395883560180664,
          -4.916487216949463,
          -3.065243721008301,
          -10.73001480102539,
          -8.857236862182617,
          -8.248661994934082,
          -7.457871437072754,
          -5.791351795196533,
          4.1866960525512695,
          -12.717307090759277,
          -3.229203462600708,
          -5.680201530456543,
          -14.36535358428955,
          3.3137569427490234,
          -11.399210929870605,
          -8.176019668579102,
          -10.439486503601074,
          -6.420851707458496,
          8.065762519836426,
          -4.9602460861206055,
          0.9448131918907166,
          4.385131359100342,
          -3.4519643783569336,
          -0.6714552044868469,
          3.8475723266601562,
          -7.109475612640381,
          -6.340602874755859,
          -5.791151523590088,
          -3.7112457752227783,
          -3.579022169113159,
          -7.990520000457764,
          -13.572195053100586,
          -13.143166542053223,
          -10.716424942016602,
          -8.638489723205566,
          -9.675936698913574,
          6.570985794067383,
          5.288824081420898,
          -13.439659118652344,
          -3.7391717433929443,
          -14.2549409866333,
          -7.691013813018799,
          -9.898612022399902,
          -6.815349102020264,
          -6.962441444396973,
          -2.453141450881958,
          -14.730494499206543,
          -6.325717926025391,
          -6.726541042327881,
          -5.6993842124938965,
          -6.61408805847168,
          -14.354129791259766,
          4.3615498542785645,
          -5.89756965637207,
          8.52829360961914,
          -5.739371299743652,
          -13.27281379699707,
          -6.987468242645264,
          -2.698507785797119,
          -9.631954193115234,
          -9.491523742675781,
          -14.450265884399414,
          -12.505414962768555,
          -6.76511287689209,
          -2.453261137008667,
          -13.370490074157715,
          -8.596294403076172,
          -9.633488655090332,
          -9.454178810119629,
          -8.35057258605957,
          5.661229610443115,
          6.364106178283691,
          -8.35090160369873,
          -13.4150390625,
          -8.079233169555664,
          2.1261682510375977,
          -11.138822555541992,
          -7.4581685066223145,
          -5.703543663024902,
          -4.079687118530273,
          -6.905004978179932,
          -8.257674217224121,
          -14.3529052734375,
          -5.5344696044921875,
          -3.0650928020477295,
          -3.0652756690979004,
          -2.9440081119537354,
          -8.784839630126953,
          -4.41096305847168,
          -12.673089981079102,
          -4.326756000518799,
          -5.476105213165283,
          -9.578824996948242,
          -10.439519882202148,
          4.058515548706055,
          -7.691112041473389,
          -14.011983871459961,
          8.39102554321289,
          -13.164704322814941,
          -13.704710006713867,
          -14.112348556518555,
          -8.456353187561035,
          -8.583028793334961,
          -12.981402397155762,
          -13.304743766784668,
          4.101377964019775,
          -7.55013370513916,
          -11.556243896484375,
          -14.428984642028809,
          -8.43749713897705,
          -6.3111701011657715,
          -11.925042152404785,
          3.5019571781158447,
          -11.71916389465332,
          -8.430495262145996,
          -4.937262535095215,
          -5.350672721862793,
          -12.529630661010742,
          5.411678791046143,
          -7.523282527923584,
          -3.025155544281006,
          -14.02894401550293,
          4.264439105987549,
          -8.321097373962402,
          -9.650771141052246,
          -1.304520606994629,
          -13.54224681854248,
          -4.174429893493652,
          -9.080055236816406,
          -8.298205375671387,
          -8.810248374938965,
          -5.9499921798706055,
          -2.69854998588562,
          6.511008262634277,
          -9.898595809936523,
          -2.45318603515625,
          -5.791719913482666,
          -13.132891654968262,
          8.101927757263184,
          3.9282569885253906,
          15.984886169433594,
          5.5112199783325195,
          -2.698505401611328,
          -9.772443771362305,
          -5.79164981842041,
          -5.570740222930908,
          -14.512758255004883,
          7.3863630294799805,
          -3.9644501209259033,
          -13.764763832092285,
          -14.375709533691406,
          5.398104667663574,
          -9.898703575134277,
          -9.080007553100586,
          -9.676375389099121,
          -9.89871883392334,
          -8.937483787536621,
          -7.26149845123291,
          6.7366790771484375,
          -4.296318054199219,
          -10.439535140991211,
          -8.33946418762207,
          -3.390133857727051,
          -6.8153533935546875,
          -9.962011337280273,
          6.523102760314941,
          -13.026167869567871,
          7.051070213317871,
          5.197484016418457,
          -8.170099258422852,
          -3.223236560821533,
          -6.003300666809082,
          -13.02614974975586,
          -11.30334186553955,
          -7.94758415222168,
          -3.226271152496338,
          -9.898730278015137,
          -4.875402927398682,
          2.1538636684417725,
          -5.946042060852051,
          -9.426597595214844,
          -4.453923225402832,
          -12.885138511657715,
          -3.4665563106536865,
          -4.784799098968506,
          9.368765830993652,
          -9.058943748474121,
          -5.463138103485107,
          -5.476043701171875,
          -11.590841293334961,
          -3.8719167709350586,
          -8.354068756103516,
          3.5013487339019775,
          -7.33185338973999,
          8.340522766113281,
          -8.808914184570312,
          -7.112955570220947,
          -11.39924430847168,
          -13.837010383605957,
          -14.136503219604492,
          -5.791031360626221,
          6.464828014373779,
          -9.565933227539062,
          -9.163811683654785,
          -6.180710315704346,
          -11.59086799621582,
          -11.704390525817871,
          -13.94583797454834,
          -5.350677967071533,
          -8.780001640319824,
          3.1376514434814453,
          -5.841588973999023,
          -9.676729202270508,
          2.0549070835113525,
          -4.329872131347656,
          -6.9909749031066895,
          -6.669797897338867,
          -6.610329627990723,
          1.577422857284546,
          -5.508100509643555,
          -6.596405982971191,
          -9.355807304382324,
          -11.854281425476074,
          -2.9440109729766846,
          -8.871829986572266,
          -7.185736656188965,
          -7.281966209411621,
          5.228795051574707,
          -6.99991512298584,
          -8.341106414794922,
          -13.960264205932617,
          -8.404114723205566,
          -5.350681304931641,
          -5.7020792961120605,
          -5.20820426940918,
          -3.5985453128814697,
          -3.588155508041382,
          4.490135669708252,
          -10.354755401611328,
          -11.704400062561035,
          -4.750593185424805,
          -13.27798843383789,
          4.196176052093506,
          -10.017899513244629,
          -8.327788352966309,
          2.0550119876861572,
          -5.088848114013672,
          -4.936191558837891,
          -7.350135803222656,
          -7.1111249923706055,
          -14.561796188354492,
          -1.0118234157562256,
          -4.068356513977051,
          -10.117645263671875,
          -8.032219886779785,
          -11.854301452636719,
          -13.73956298828125,
          -12.02993106842041,
          8.690995216369629,
          -8.160295486450195,
          6.124072551727295,
          -14.079392433166504,
          -8.194574356079102,
          -10.661931991577148,
          -8.516219139099121,
          -14.095624923706055,
          5.344706058502197,
          -7.6239705085754395,
          -10.183114051818848,
          -12.332815170288086,
          -13.195146560668945,
          -8.543764114379883,
          -13.913829803466797,
          -13.725680351257324,
          -10.734560012817383,
          -7.45963191986084,
          -5.771310329437256,
          -2.944018840789795,
          -11.854191780090332,
          -14.041186332702637,
          -9.19513988494873,
          -7.435968399047852,
          -3.6270651817321777,
          -13.712019920349121,
          5.01320743560791,
          -13.361103057861328,
          -14.371621131896973,
          -14.14659595489502,
          -6.4278340339660645,
          -9.079992294311523,
          -9.103943824768066,
          -4.388038635253906,
          11.006918907165527,
          9.00096607208252,
          -3.9275102615356445,
          5.145898342132568,
          -4.177639961242676,
          -5.837498664855957,
          -5.83743953704834,
          11.760164260864258,
          -4.125463008880615,
          -11.854275703430176,
          -0.727699339389801,
          -12.26950740814209,
          8.706436157226562,
          -8.390202522277832,
          -8.327788352966309,
          2.530585765838623,
          8.229827880859375,
          -12.469229698181152,
          -5.791018962860107,
          -3.81955623626709,
          4.121760845184326,
          6.736450672149658,
          -9.676342010498047,
          15.977141380310059,
          -7.950543403625488,
          -12.788156509399414,
          -3.5879316329956055,
          -7.455279350280762,
          5.6856489181518555,
          3.291898012161255,
          -7.291869163513184,
          -4.358312129974365,
          -6.941226005554199,
          -5.56294584274292,
          -4.661941051483154,
          -4.728662967681885,
          -13.534832000732422,
          -3.362111806869507,
          -1.9556647539138794,
          -4.694129467010498,
          -5.350824356079102,
          -12.563544273376465,
          8.547440528869629,
          -3.792494058609009,
          -3.278864622116089,
          -5.770369052886963,
          -3.8056795597076416,
          -4.680999755859375,
          4.408729076385498,
          -6.868277549743652,
          -5.054315567016602,
          -5.429581165313721,
          -12.942646980285645,
          -6.829106330871582,
          -9.491523742675781,
          -7.875850677490234,
          -5.5764384269714355,
          -12.69191837310791,
          -8.5747652053833,
          -9.491523742675781,
          -3.759044885635376,
          -6.6085920333862305,
          -14.105653762817383,
          -3.0653011798858643,
          7.6485371589660645,
          -4.875402927398682,
          -7.8520894050598145,
          -14.285883903503418,
          -6.78374719619751,
          8.064785957336426,
          5.77020788192749,
          -7.796995639801025,
          -6.853468894958496,
          -2.481243133544922,
          -10.112549781799316,
          -4.109798431396484,
          3.9343044757843018,
          -5.390014171600342,
          -14.457938194274902,
          -11.399123191833496,
          -12.672627449035645,
          -9.60253620147705,
          -6.952801704406738,
          -13.316076278686523,
          -10.183061599731445,
          -7.3870134353637695,
          -3.5267646312713623,
          4.41979455947876,
          -5.350369453430176,
          6.117802143096924,
          3.386138677597046,
          -14.449666976928711,
          4.913875579833984,
          -8.754457473754883,
          3.1932194232940674,
          -14.095830917358398,
          -11.70439624786377,
          -6.283995151519775,
          4.320964813232422,
          -13.664318084716797,
          -7.9586100578308105,
          -7.788600921630859,
          4.008747577667236,
          -13.75851058959961,
          -4.619484901428223,
          -2.4520633220672607,
          -11.556173324584961,
          -3.6124703884124756,
          -7.068702697753906,
          -8.126542091369629,
          -10.79753303527832,
          -12.888240814208984,
          -7.630335330963135,
          -6.399977207183838,
          3.690088987350464,
          11.518217086791992,
          -11.564997673034668,
          -6.2304158210754395,
          -5.787045955657959,
          -7.1168928146362305,
          -7.006936073303223,
          -7.0091729164123535,
          -6.73323917388916,
          -11.491864204406738,
          -14.22606086730957,
          -8.735726356506348,
          -1.9555584192276,
          -4.730804920196533,
          -9.724031448364258,
          -9.898728370666504,
          3.6720316410064697,
          -12.942646980285645,
          -5.346091270446777,
          -9.60253620147705,
          -14.174821853637695,
          2.617835521697998,
          -7.012683868408203,
          -7.690998554229736,
          4.2252302169799805,
          -4.6620564460754395,
          -8.651707649230957,
          -7.788403034210205,
          5.093743801116943,
          4.963361740112305,
          -11.463299751281738,
          4.427006721496582,
          -4.875402927398682,
          -7.1101531982421875,
          -13.040084838867188,
          -3.1733925342559814,
          -10.097077369689941,
          -9.455022811889648,
          -8.36037826538086,
          4.917477607727051,
          -4.384503364562988,
          6.210625648498535,
          -9.898516654968262,
          -7.691511154174805,
          -4.063617706298828,
          7.648308277130127,
          -0.868118166923523,
          -11.854228973388672,
          -4.698617935180664,
          -0.823613703250885,
          -5.771309852600098,
          -0.6581462025642395,
          -8.734216690063477,
          -6.185913562774658,
          -8.475737571716309,
          -9.43228530883789,
          -5.950056076049805,
          8.503811836242676,
          -5.379870891571045,
          -9.795516967773438,
          4.403783798217773,
          -7.972996234893799,
          -8.57486343383789,
          -7.010384559631348,
          -13.283428192138672,
          -5.04901647567749,
          4.060980796813965,
          -7.367054462432861,
          -11.093003273010254,
          -8.76687240600586,
          -8.079252243041992,
          -3.9217917919158936,
          3.41171932220459,
          -4.709872245788574,
          -13.423240661621094,
          -11.78190803527832,
          -9.392192840576172,
          -7.4789886474609375,
          -6.764213562011719,
          -10.097077369689941,
          -4.730831146240234,
          -5.476036548614502,
          4.393087387084961,
          -13.471370697021484,
          -4.875402927398682,
          -11.463323593139648,
          -6.266643524169922,
          -8.866978645324707,
          -13.676636695861816,
          -4.252003192901611,
          -9.676599502563477,
          -8.695600509643555,
          4.608457565307617,
          -13.026951789855957,
          -6.272502422332764,
          -7.426639556884766,
          -5.436456680297852,
          -4.730805397033691,
          -4.753065586090088,
          -4.375927448272705,
          -3.1733577251434326,
          -5.790724754333496,
          -7.008680820465088,
          -4.688518047332764,
          -5.476021766662598,
          -6.722084045410156,
          -2.4529781341552734,
          -0.6703208088874817,
          -5.7916741371154785,
          3.445612907409668,
          -5.947758674621582,
          4.679134368896484,
          -5.772384166717529,
          -4.6569318771362305,
          -5.639976501464844,
          -4.6290507316589355,
          4.649673938751221,
          4.532810688018799,
          -4.316802978515625,
          -8.578756332397461,
          -5.476021766662598,
          -4.4444050788879395,
          -4.502790451049805,
          -6.737693786621094,
          -5.791676044464111,
          -5.549926280975342,
          -5.6397905349731445,
          11.518200874328613,
          -8.617215156555176,
          -9.166290283203125,
          -4.824087142944336,
          -8.173004150390625,
          -9.403400421142578,
          -7.54085636138916,
          -7.730813503265381,
          -8.685675621032715,
          -11.54334545135498,
          8.683157920837402,
          4.384543418884277,
          -11.555973052978516,
          4.84766960144043,
          -6.957026481628418,
          -7.018394947052002,
          -9.610405921936035,
          -13.750572204589844,
          -7.457871437072754,
          5.031959056854248,
          -6.62011194229126,
          -3.1734068393707275,
          -9.340205192565918,
          2.8154163360595703,
          6.364169120788574,
          4.584651947021484,
          -13.131333351135254,
          5.295717239379883,
          -9.882765769958496,
          5.29214334487915,
          -8.0849027633667,
          -11.854251861572266,
          3.8449594974517822,
          -5.303678035736084,
          15.985030174255371,
          -8.054854393005371,
          -6.733117580413818,
          -9.42103385925293,
          -8.683736801147461,
          -9.452943801879883,
          -6.05888557434082,
          3.920517921447754,
          -3.1734023094177246,
          -8.587650299072266,
          -11.70443058013916,
          -2.453242301940918,
          -4.394189357757568,
          -7.956788539886475,
          -10.797539710998535,
          2.184246301651001,
          5.173445224761963,
          -4.063902854919434,
          -8.763873100280762,
          -7.659177303314209,
          -14.0369291305542,
          -8.685675621032715,
          -11.704412460327148,
          -7.788403034210205,
          -12.518835067749023,
          -8.880438804626465,
          7.648307800292969,
          -0.8681085109710693,
          5.147677898406982,
          -5.791395664215088,
          -9.954742431640625,
          -6.815310001373291,
          -6.987465858459473,
          4.469446659088135,
          -8.503358840942383,
          -6.219003677368164,
          -2.452972650527954,
          5.370296001434326,
          -3.9645888805389404,
          -7.61595344543457,
          2.708383560180664,
          -8.300368309020996,
          -6.829105377197266,
          -4.9775519371032715,
          -13.443073272705078,
          -9.29738712310791,
          -9.904863357543945,
          -8.291019439697266,
          -5.485361099243164,
          -6.76511287689209,
          -13.226545333862305,
          -13.371637344360352,
          -12.869559288024902,
          7.3442254066467285,
          -14.00834846496582,
          -5.766780853271484,
          4.805465221405029,
          -4.4204607009887695,
          4.4322733879089355,
          -3.7154626846313477,
          -8.845648765563965,
          -4.0896315574646,
          4.4366278648376465,
          -9.533862113952637,
          -9.77235221862793,
          -8.574115753173828,
          -6.702427387237549,
          -14.407124519348145,
          5.686686992645264,
          -4.877891540527344,
          8.418440818786621,
          1.3558803796768188,
          4.870414733886719,
          -7.274108409881592,
          -6.959471702575684,
          -8.622629165649414,
          4.8337907791137695,
          -13.301725387573242,
          3.374549150466919,
          -9.287859916687012,
          5.568355083465576,
          -8.079339981079102,
          -8.079345703125,
          -6.590609073638916,
          -9.289016723632812,
          -0.6489631533622742,
          5.227931976318359,
          -9.200464248657227,
          -7.2708563804626465,
          -4.3631086349487305,
          -5.843123435974121,
          -7.947224140167236,
          -6.950986385345459,
          -8.109236717224121,
          -0.5382719039916992,
          -14.769966125488281,
          -10.439506530761719,
          -5.639240741729736,
          -13.147299766540527,
          -13.971379280090332,
          -9.362014770507812,
          4.409219741821289
         ]
        },
        {
         "hovertemplate": "Dominant_Topic=Topic 13<br>0=%{x}<br>1=%{y}<br>2=%{z}<extra></extra>",
         "legendgroup": "Topic 13",
         "marker": {
          "color": "#19d3f3",
          "opacity": 0.7,
          "symbol": "circle"
         },
         "mode": "markers",
         "name": "Topic 13",
         "scene": "scene",
         "showlegend": true,
         "type": "scatter3d",
         "x": [
          -5.433572292327881,
          -5.917670249938965,
          -5.3916425704956055,
          -4.8315300941467285,
          -4.310916900634766,
          -5.7321248054504395,
          -8.264077186584473,
          -6.207363128662109,
          -4.856749534606934,
          -5.440077781677246,
          -4.92645788192749,
          -5.675966262817383,
          -5.727855205535889,
          -5.871559143066406,
          -6.273012638092041,
          -6.063344955444336,
          -4.83152961730957,
          -5.681698322296143,
          -5.9246392250061035,
          -5.079339981079102,
          -6.197009563446045,
          -5.840857028961182,
          -4.6970295906066895,
          -6.889659404754639,
          -6.063344478607178,
          -5.079339981079102,
          -6.288598537445068,
          -6.433366298675537,
          -5.519754886627197,
          -6.2736496925354,
          -6.273556709289551,
          -6.866788864135742
         ],
         "y": [
          3.1923680305480957,
          3.5497887134552,
          3.2457432746887207,
          6.036003112792969,
          1.7441442012786865,
          3.0644607543945312,
          2.3405730724334717,
          2.7173237800598145,
          4.131648063659668,
          2.7935426235198975,
          2.3518354892730713,
          3.4633734226226807,
          2.677030563354492,
          2.8403666019439697,
          4.614694118499756,
          5.251993179321289,
          6.036003589630127,
          4.615431308746338,
          2.5405571460723877,
          4.680034160614014,
          3.215972661972046,
          3.1074271202087402,
          3.372711420059204,
          4.376389026641846,
          5.251992702484131,
          4.6800336837768555,
          3.399209976196289,
          3.074026584625244,
          0.9185110330581665,
          2.8636789321899414,
          4.61434268951416,
          3.2747128009796143
         ],
         "z": [
          -1.9472934007644653,
          -2.2666714191436768,
          -2.267284870147705,
          -1.6278475522994995,
          -3.011275053024292,
          -2.6688079833984375,
          -0.5964019298553467,
          -1.8914577960968018,
          -3.98330020904541,
          -2.2383499145507812,
          0.021895049139857292,
          -2.397494077682495,
          -1.8468208312988281,
          -2.649705410003662,
          -3.9740407466888428,
          -1.0601693391799927,
          -1.62784743309021,
          -1.4078733921051025,
          -2.2543866634368896,
          -0.5829879641532898,
          -1.7678309679031372,
          -1.673905372619629,
          0.14553424715995789,
          -3.015981674194336,
          -1.0601693391799927,
          -0.582987904548645,
          -2.098433256149292,
          -2.2078182697296143,
          -3.1537461280822754,
          -2.4677486419677734,
          -3.9746806621551514,
          -3.761162281036377
         ]
        },
        {
         "hovertemplate": "Dominant_Topic=Topic 14<br>0=%{x}<br>1=%{y}<br>2=%{z}<extra></extra>",
         "legendgroup": "Topic 14",
         "marker": {
          "color": "#FF6692",
          "opacity": 0.7,
          "symbol": "circle"
         },
         "mode": "markers",
         "name": "Topic 14",
         "scene": "scene",
         "showlegend": true,
         "type": "scatter3d",
         "x": [
          4.501955032348633,
          3.099203109741211,
          2.248037099838257,
          -1.4470828771591187,
          2.738887310028076,
          1.2499738931655884,
          2.7110350131988525,
          -2.3047091960906982,
          1.7544655799865723,
          4.153396129608154,
          4.02745246887207,
          3.661953926086426,
          7.533506870269775,
          8.16629409790039,
          15.604085922241211,
          9.311854362487793,
          2.958766460418701,
          3.528735876083374,
          9.311579704284668,
          5.812519073486328,
          18.618820190429688,
          -0.5410764813423157,
          -0.05045400559902191,
          6.989108562469482,
          -2.015281915664673,
          18.367034912109375,
          3.231281042098999,
          -0.5907117128372192,
          18.415929794311523,
          5.869897365570068,
          -0.17717237770557404,
          -1.447098970413208,
          1.8208445310592651,
          -1.4469035863876343,
          -2.910306930541992,
          8.482294082641602,
          4.027442932128906,
          -16.898712158203125,
          -0.7311429381370544,
          5.812065124511719,
          -7.134071350097656,
          4.440696716308594,
          2.808603525161743,
          4.644977569580078,
          7.948239326477051,
          6.388143062591553,
          2.628326416015625,
          -1.1096397638320923,
          6.365303039550781,
          -1.7529127597808838,
          -1.8744590282440186,
          6.858802795410156,
          5.924882411956787,
          3.4397339820861816,
          -1.5340619087219238,
          7.608068466186523,
          14.569029808044434,
          8.078201293945312,
          5.319269180297852,
          0.2289573848247528,
          19.7873592376709,
          1.7875772714614868,
          -0.5909777283668518,
          0.17945131659507751,
          6.1761369705200195,
          18.63539695739746,
          -1.1353944540023804,
          -1.134813904762268,
          -0.9816552400588989,
          -5.863402843475342,
          -0.7311468720436096,
          5.917609214782715,
          7.494639873504639,
          3.271563768386841,
          -2.574335813522339,
          6.1736531257629395,
          1.9705684185028076,
          3.606247901916504,
          5.824228763580322,
          19.4732666015625,
          4.558182239532471,
          15.622297286987305,
          4.881617546081543,
          -1.3104944229125977,
          4.051780700683594,
          3.332728147506714,
          8.4829740524292,
          6.364882469177246,
          1.1669117212295532,
          3.9997048377990723,
          15.090229034423828,
          8.48215389251709,
          4.881494998931885,
          0.31200897693634033,
          2.151331901550293,
          17.917625427246094,
          -2.9103076457977295,
          6.311991214752197,
          -0.5096626281738281,
          8.056661605834961,
          19.47317123413086,
          -3.954726219177246,
          -0.2453271746635437,
          19.473249435424805,
          -2.7813875675201416,
          -1.1354012489318848,
          17.48124885559082,
          2.79274845123291,
          6.279426097869873,
          -1.6054704189300537,
          5.831807613372803,
          3.246441602706909,
          -2.273381233215332,
          -1.943939208984375,
          18.025732040405273,
          0.5629947185516357,
          3.563610315322876,
          6.814919471740723,
          3.9465534687042236,
          3.549783706665039,
          -0.2540264129638672,
          18.358022689819336,
          0.5630016326904297,
          -17.49686050415039,
          -1.1103137731552124,
          3.213667154312134,
          1.1840935945510864,
          0.2095567286014557,
          3.7146639823913574,
          18.275531768798828,
          1.533279299736023,
          3.0397796630859375,
          1.8624566793441772,
          4.540998935699463,
          0.007361437194049358,
          15.62310791015625,
          7.6069464683532715,
          1.8210217952728271,
          2.3789310455322266,
          3.3012616634368896,
          -1.135380744934082,
          5.593844890594482,
          -2.5318098068237305,
          -2.4843590259552,
          18.67076301574707,
          4.026163578033447,
          3.399885892868042,
          3.8944389820098877,
          0.2432008981704712,
          -2.415728807449341,
          -0.254410982131958,
          19.03132438659668,
          -2.625063896179199,
          18.645919799804688,
          1.4139305353164673,
          5.323203086853027,
          0.12116964161396027,
          3.9258737564086914,
          -0.5721397995948792,
          -0.7310934066772461,
          -1.6043977737426758,
          2.9352405071258545,
          7.595041751861572,
          8.3745698928833,
          4.895781517028809,
          6.287148475646973,
          5.116796493530273,
          5.710899829864502,
          -1.2635586261749268,
          -2.197577714920044,
          17.965478897094727,
          18.598329544067383,
          15.604068756103516,
          16.541400909423828,
          8.477481842041016,
          -1.1103136539459229,
          4.886897563934326,
          4.191970348358154,
          17.13356590270996,
          3.514927387237549,
          2.1131746768951416,
          -5.922924995422363,
          -0.15304367244243622,
          -2.2581357955932617,
          7.691660404205322,
          -0.25548437237739563,
          -1.4471083879470825,
          4.21889066696167,
          -1.3789132833480835,
          -2.9102962017059326,
          17.906570434570312,
          -16.49285125732422,
          4.026176452636719,
          8.318829536437988,
          5.3291707038879395,
          -2.287860631942749,
          18.392580032348633,
          7.2594099044799805,
          3.31400990486145,
          7.7559027671813965,
          17.54998779296875,
          2.572253942489624,
          -2.0507404804229736,
          7.6175408363342285,
          -1.7870324850082397,
          3.0455687046051025,
          8.481169700622559,
          3.020864248275757,
          7.923140525817871,
          4.190654754638672,
          4.43882417678833,
          20.44738006591797,
          5.99989652633667,
          3.4598493576049805,
          -1.246232032775879,
          -0.4603126347064972,
          7.56080436706543,
          1.9654685258865356,
          5.319525718688965,
          3.6317849159240723,
          3.1459336280822754,
          -0.19062790274620056,
          18.54883575439453,
          -0.25555285811424255,
          18.168535232543945,
          18.640274047851562,
          4.7744460105896,
          1.640061616897583,
          4.64153528213501,
          5.897417068481445,
          4.068607807159424,
          4.141850471496582,
          3.03981614112854,
          -1.2049893140792847,
          4.0517802238464355,
          16.977075576782227,
          5.833274841308594,
          1.8210240602493286,
          2.6730668544769287,
          1.364471435546875,
          5.139074325561523,
          9.3114652633667,
          4.0310893058776855,
          17.91986083984375,
          2.046604633331299,
          6.393227577209473,
          -0.05434684827923775,
          -1.7870323657989502,
          0.5629680752754211,
          2.7665491104125977,
          7.621034145355225,
          -2.0719001293182373,
          16.778362274169922,
          3.0049808025360107,
          4.046458721160889,
          -6.2734856605529785,
          2.6293816566467285,
          8.627366065979004,
          7.886605262756348,
          3.8760664463043213,
          5.55197811126709,
          -2.3457164764404297,
          0.47538232803344727,
          6.372375011444092,
          4.412261009216309,
          5.606997966766357,
          3.2313103675842285,
          7.625585079193115,
          2.2238383293151855,
          8.372222900390625,
          2.677366256713867,
          5.580050945281982,
          3.621056318283081,
          2.685360908508301,
          6.013556957244873,
          2.2493274211883545,
          1.2389516830444336,
          7.86952543258667,
          -2.6871418952941895,
          20.59076499938965,
          -2.561887741088867,
          4.499349117279053,
          4.192154884338379,
          3.0008835792541504,
          -16.8986759185791,
          -1.604329228401184,
          6.238683223724365,
          -2.692131757736206,
          -0.11294753104448318,
          -2.3529326915740967,
          -2.6939377784729004,
          3.1477982997894287,
          5.319522857666016,
          0.19422154128551483,
          -1.3918107748031616,
          8.321897506713867,
          4.516312122344971,
          9.311711311340332,
          7.822890758514404,
          -1.8381428718566895,
          0.425615131855011,
          -0.5908479690551758,
          4.140726089477539,
          -2.549816131591797,
          1.708213210105896,
          4.77520227432251,
          1.820778250694275,
          1.7345283031463623,
          1.5905969142913818,
          1.8491334915161133,
          -1.8033583164215088,
          5.812328338623047,
          5.947742462158203,
          7.676113605499268
         ],
         "y": [
          9.294700622558594,
          14.036574363708496,
          21.609914779663086,
          15.468170166015625,
          14.570916175842285,
          20.165014266967773,
          14.345715522766113,
          3.984978437423706,
          20.04335594177246,
          5.673543930053711,
          5.253042221069336,
          14.208392143249512,
          11.240768432617188,
          18.622316360473633,
          4.936357021331787,
          6.201295852661133,
          14.391190528869629,
          14.420007705688477,
          6.201234340667725,
          12.334692001342773,
          2.6115334033966064,
          2.604661464691162,
          12.844526290893555,
          19.18657875061035,
          13.5028657913208,
          4.380670070648193,
          16.61934471130371,
          4.712342739105225,
          4.875551700592041,
          19.10654640197754,
          1.9787009954452515,
          15.468155860900879,
          3.900209665298462,
          15.468143463134766,
          14.004179000854492,
          12.738205909729004,
          5.253110885620117,
          1.0358116626739502,
          16.994873046875,
          12.334131240844727,
          3.6857569217681885,
          6.528992652893066,
          14.763689994812012,
          17.372745513916016,
          11.255231857299805,
          7.559746742248535,
          1.7623697519302368,
          0.3898078203201294,
          7.322432518005371,
          13.394550323486328,
          13.403765678405762,
          6.099077224731445,
          18.690845489501953,
          17.232118606567383,
          14.661439895629883,
          14.350894927978516,
          3.018383502960205,
          11.207204818725586,
          10.927725791931152,
          14.749163627624512,
          2.5463922023773193,
          19.493179321289062,
          4.712463855743408,
          1.973077416419983,
          7.333532333374023,
          2.914396047592163,
          20.185548782348633,
          20.18570327758789,
          16.204971313476562,
          0.26295387744903564,
          16.994873046875,
          8.408058166503906,
          11.311461448669434,
          16.97074317932129,
          3.705294370651245,
          7.331693172454834,
          21.734542846679688,
          13.97646713256836,
          7.275648593902588,
          -0.18263733386993408,
          14.455227851867676,
          1.6561334133148193,
          8.820219039916992,
          9.974126815795898,
          14.927788734436035,
          15.180542945861816,
          12.738636016845703,
          7.323028564453125,
          19.539323806762695,
          17.60116958618164,
          4.245687961578369,
          12.738264083862305,
          8.820801734924316,
          14.761544227600098,
          19.937837600708008,
          2.7956812381744385,
          14.004254341125488,
          13.122635841369629,
          2.8238112926483154,
          11.120558738708496,
          -0.1826181709766388,
          15.150932312011719,
          2.0412278175354004,
          -0.18262535333633423,
          19.883304595947266,
          20.18561553955078,
          4.0196533203125,
          13.809429168701172,
          7.72392463684082,
          0.7719476222991943,
          7.503103733062744,
          14.036825180053711,
          13.218643188476562,
          13.202881813049316,
          2.17283296585083,
          17.980003356933594,
          17.01941680908203,
          18.84819793701172,
          14.715744972229004,
          16.6962947845459,
          12.206100463867188,
          2.124870538711548,
          17.980030059814453,
          1.47396981716156,
          0.39182373881340027,
          13.846880912780762,
          19.81944465637207,
          2.1806986331939697,
          17.717182159423828,
          3.060452461242676,
          20.246623992919922,
          17.46677589416504,
          14.448976516723633,
          16.838560104370117,
          2.52846622467041,
          1.6573365926742554,
          14.35076904296875,
          3.9001073837280273,
          1.3742384910583496,
          14.672670364379883,
          20.185546875,
          12.797478675842285,
          20.23006248474121,
          20.20693588256836,
          5.396658420562744,
          13.75918197631836,
          13.470799446105957,
          15.088677406311035,
          2.257861614227295,
          19.657001495361328,
          12.206351280212402,
          1.7475485801696777,
          19.72624969482422,
          2.6238150596618652,
          19.90813636779785,
          18.578216552734375,
          2.8166375160217285,
          16.35870933532715,
          2.1997270584106445,
          16.994922637939453,
          0.772756814956665,
          14.11999225616455,
          18.309371948242188,
          17.759403228759766,
          17.455825805664062,
          7.553974628448486,
          18.808568954467773,
          19.278928756713867,
          16.8974609375,
          13.489012718200684,
          2.5942916870117188,
          2.214627742767334,
          4.936273097991943,
          2.075662612915039,
          12.727348327636719,
          0.39182382822036743,
          17.08812713623047,
          3.879185199737549,
          4.346095085144043,
          15.232745170593262,
          19.924171447753906,
          18.713851928710938,
          2.9433491230010986,
          13.506858825683594,
          -7.730069637298584,
          12.205963134765625,
          15.468160629272461,
          16.475534439086914,
          14.32065200805664,
          14.004229545593262,
          2.8768208026885986,
          1.5169034004211426,
          13.759215354919434,
          18.33002471923828,
          18.959070205688477,
          13.551517486572266,
          2.585805654525757,
          19.101865768432617,
          13.58320140838623,
          11.124998092651367,
          4.323686599731445,
          2.9787094593048096,
          13.490103721618652,
          11.486230850219727,
          -0.39367780089378357,
          15.284102439880371,
          18.139690399169922,
          13.710251808166504,
          18.951122283935547,
          3.879321575164795,
          16.740459442138672,
          0.7968299388885498,
          13.183117866516113,
          13.447742462158203,
          10.041075706481934,
          2.494448661804199,
          8.168539047241211,
          21.213897705078125,
          10.927216529846191,
          16.535036087036133,
          14.086880683898926,
          2.581148624420166,
          2.9470860958099365,
          12.205620765686035,
          2.373075485229492,
          2.889511823654175,
          16.839719772338867,
          19.98226547241211,
          16.73707389831543,
          18.355783462524414,
          17.231225967407227,
          17.665069580078125,
          17.4666690826416,
          14.37602710723877,
          14.92780876159668,
          4.83290433883667,
          7.501330852508545,
          3.900110960006714,
          14.18768310546875,
          19.427379608154297,
          10.622671127319336,
          6.201336860656738,
          14.426268577575684,
          2.3917160034179688,
          19.369813919067383,
          18.84633445739746,
          17.446760177612305,
          -0.3936777710914612,
          17.979961395263672,
          15.073770523071289,
          11.150864601135254,
          13.08576488494873,
          4.499562740325928,
          14.270251274108887,
          17.933778762817383,
          -5.439484119415283,
          1.7607780694961548,
          18.289722442626953,
          11.091492652893066,
          14.733543395996094,
          18.25470542907715,
          19.814661026000977,
          2.583376407623291,
          18.90360450744629,
          16.933595657348633,
          18.968488693237305,
          16.61931610107422,
          18.479049682617188,
          20.099634170532227,
          17.75893783569336,
          13.962286949157715,
          8.725604057312012,
          17.225494384765625,
          13.780240058898926,
          7.101383209228516,
          19.625661849975586,
          20.228252410888672,
          18.86515235900879,
          15.388607025146484,
          1.1270337104797363,
          3.718834638595581,
          16.451200485229492,
          3.8792309761047363,
          14.304097175598145,
          1.0357820987701416,
          0.7727808952331543,
          19.251543045043945,
          20.073223114013672,
          11.826589584350586,
          19.98540496826172,
          20.03820037841797,
          14.732887268066406,
          10.927217483520508,
          2.9955949783325195,
          14.918274879455566,
          14.638739585876465,
          17.848146438598633,
          6.201277256011963,
          11.474516868591309,
          2.098618268966675,
          2.670238494873047,
          4.7124152183532715,
          17.08205795288086,
          19.64847755432129,
          1.3109948635101318,
          18.068803787231445,
          3.9002082347869873,
          19.452486038208008,
          19.246089935302734,
          20.236865997314453,
          13.44718074798584,
          12.334476470947266,
          18.399681091308594,
          -7.281400203704834
         ],
         "z": [
          13.266230583190918,
          9.173904418945312,
          1.3164047002792358,
          4.036200523376465,
          9.049243927001953,
          1.8421143293380737,
          9.605984687805176,
          2.2136127948760986,
          1.5309828519821167,
          13.678657531738281,
          13.715545654296875,
          9.940549850463867,
          1.5909878015518188,
          5.050023555755615,
          2.3214783668518066,
          10.12154769897461,
          -0.9567821025848389,
          8.79265308380127,
          10.122076988220215,
          6.987287521362305,
          0.21902413666248322,
          15.962591171264648,
          0.6058462858200073,
          5.077761173248291,
          3.840585231781006,
          1.5453747510910034,
          0.4263807535171509,
          15.686906814575195,
          1.7683571577072144,
          6.199516773223877,
          16.5307559967041,
          4.0362019538879395,
          18.678333282470703,
          4.03619384765625,
          1.5106748342514038,
          2.4111735820770264,
          13.715542793273926,
          5.794187068939209,
          9.595730781555176,
          6.98729133605957,
          5.008170127868652,
          13.529561996459961,
          9.96663761138916,
          8.0520601272583,
          1.1397507190704346,
          11.924232482910156,
          17.41665267944336,
          14.336283683776855,
          11.871870994567871,
          4.029280662536621,
          3.8623578548431396,
          12.276365280151367,
          6.34574556350708,
          7.69401741027832,
          7.263577461242676,
          7.484518051147461,
          2.1021499633789062,
          1.3175100088119507,
          -0.6829742193222046,
          6.8493123054504395,
          0.3753219544887543,
          2.543675422668457,
          15.686996459960938,
          16.178903579711914,
          12.44091510772705,
          0.7459286451339722,
          0.14394579827785492,
          0.1443348079919815,
          3.84989070892334,
          -3.2351582050323486,
          9.59572982788086,
          11.321739196777344,
          1.502211093902588,
          1.4597601890563965,
          1.621509313583374,
          12.440592765808105,
          1.7551016807556152,
          9.324503898620605,
          12.138307571411133,
          2.2889161109924316,
          -1.886247992515564,
          2.5023398399353027,
          13.053394317626953,
          6.868191719055176,
          4.516818523406982,
          9.242715835571289,
          2.4119529724121094,
          11.871261596679688,
          1.894661784172058,
          8.090307235717773,
          2.1825807094573975,
          2.4112071990966797,
          13.05351734161377,
          6.8358917236328125,
          2.4449543952941895,
          0.25940778851509094,
          1.510582447052002,
          6.862501621246338,
          16.31893539428711,
          1.4738364219665527,
          2.2889530658721924,
          2.988342761993408,
          15.93271255493164,
          2.2889297008514404,
          -1.0042181015014648,
          0.14392593502998352,
          2.4658114910125732,
          -1.1437666416168213,
          12.10544204711914,
          18.311100006103516,
          12.012919425964355,
          -0.7700752019882202,
          4.006338596343994,
          4.32617712020874,
          0.6247071027755737,
          9.536598205566406,
          7.147638320922852,
          4.675335884094238,
          9.941577911376953,
          7.315512180328369,
          0.4896184802055359,
          0.7248543500900269,
          9.53659725189209,
          6.35822868347168,
          14.338329315185547,
          -0.982479989528656,
          2.417586326599121,
          16.657377243041992,
          7.2448530197143555,
          0.36788567900657654,
          2.4538636207580566,
          0.7635712623596191,
          -1.658170223236084,
          -0.1472676694393158,
          16.84638023376465,
          2.501723289489746,
          7.484527111053467,
          18.677383422851562,
          16.95253562927246,
          10.216029167175293,
          0.14394907653331757,
          5.810736656188965,
          -0.8724225163459778,
          -0.930013120174408,
          1.8239043951034546,
          3.9866418838500977,
          1.9288716316223145,
          9.57530403137207,
          15.811052322387695,
          -0.9025102853775024,
          0.4898516833782196,
          -0.33707690238952637,
          -0.609940230846405,
          0.9292209148406982,
          1.5317190885543823,
          5.517786502838135,
          15.82380485534668,
          7.574238300323486,
          16.287485122680664,
          9.595742225646973,
          18.310110092163086,
          -1.2432531118392944,
          4.523000717163086,
          4.899467468261719,
          7.300305366516113,
          12.380940437316895,
          5.9603447914123535,
          5.70196008682251,
          10.103913307189941,
          4.351200580596924,
          0.8958358764648438,
          0.5877333879470825,
          2.3214633464813232,
          1.4652316570281982,
          2.404022455215454,
          14.338329315185547,
          7.675492763519287,
          13.414226531982422,
          -1.0961748361587524,
          9.927468299865723,
          1.6419552564620972,
          -0.9822248220443726,
          16.59671974182129,
          4.286777973175049,
          -0.8629062175750732,
          0.48946478962898254,
          4.036201477050781,
          7.164687156677246,
          6.31885290145874,
          1.5106027126312256,
          0.6272433996200562,
          5.465429306030273,
          3.986673355102539,
          4.4117302894592285,
          6.287876129150391,
          4.075687408447266,
          1.0544615983963013,
          4.616626262664795,
          1.1941858530044556,
          1.6917787790298462,
          2.0579981803894043,
          18.372289657592773,
          0.9968402981758118,
          1.295656442642212,
          13.237977027893066,
          9.735735893249512,
          5.188201427459717,
          -0.823842465877533,
          4.825813293457031,
          13.41521167755127,
          8.1277437210083,
          3.1367506980895996,
          5.995253086090088,
          2.3783116340637207,
          6.78748083114624,
          16.695289611816406,
          12.45819091796875,
          1.616754174232483,
          -0.6826781630516052,
          8.085149765014648,
          9.866230010986328,
          15.700692176818848,
          0.30478769540786743,
          0.4891737699508667,
          0.11862608045339584,
          -1.013898253440857,
          7.2115912437438965,
          3.8305366039276123,
          -0.25244590640068054,
          6.16385555267334,
          6.7745561599731445,
          6.8845720291137695,
          0.7636112570762634,
          6.089244365692139,
          4.516825199127197,
          -1.7489979267120361,
          12.006754875183105,
          18.677387237548828,
          -0.7064257264137268,
          2.3915505409240723,
          -0.817242443561554,
          10.121784210205078,
          9.3681001663208,
          0.25111743807792664,
          2.2470760345458984,
          4.85502290725708,
          9.420683860778809,
          13.237975120544434,
          9.536529541015625,
          9.31594467163086,
          1.1643493175506592,
          4.057704448699951,
          2.0879275798797607,
          -0.6739544868469238,
          7.5441741943359375,
          -8.277938842773438,
          17.416574478149414,
          4.770389080047607,
          1.6532948017120361,
          9.08059024810791,
          5.788503170013428,
          -1.0347007513046265,
          16.04833221435547,
          5.785869598388672,
          6.863324165344238,
          5.327023029327393,
          0.4264002740383148,
          4.333555221557617,
          2.115687608718872,
          4.9035139083862305,
          -0.6774177551269531,
          12.87173080444336,
          8.033163070678711,
          -0.969227135181427,
          12.094025611877441,
          1.8807770013809204,
          2.1764702796936035,
          4.405519485473633,
          3.9118871688842773,
          3.2526471614837646,
          1.8903067111968994,
          7.768029689788818,
          13.414121627807617,
          -1.1353516578674316,
          5.794106960296631,
          18.310026168823242,
          5.378729820251465,
          -0.6002990007400513,
          1.1522479057312012,
          -1.0599273443222046,
          -0.5832206606864929,
          8.820944786071777,
          -0.6826786994934082,
          16.30759048461914,
          7.674596786499023,
          7.502010822296143,
          7.711244106292725,
          10.121973037719727,
          1.1979254484176636,
          3.699058771133423,
          16.49269676208496,
          15.686944007873535,
          8.305182456970215,
          -0.6974688768386841,
          16.457866668701172,
          6.816554069519043,
          18.678503036499023,
          1.5739814043045044,
          1.9305795431137085,
          2.4480252265930176,
          4.263578414916992,
          6.9870991706848145,
          5.491497993469238,
          -0.6099401116371155
         ]
        },
        {
         "hovertemplate": "Dominant_Topic=Topic 15<br>0=%{x}<br>1=%{y}<br>2=%{z}<extra></extra>",
         "legendgroup": "Topic 15",
         "marker": {
          "color": "#B6E880",
          "opacity": 0.7,
          "symbol": "circle"
         },
         "mode": "markers",
         "name": "Topic 15",
         "scene": "scene",
         "showlegend": true,
         "type": "scatter3d",
         "x": [
          -18.161460876464844,
          -17.818954467773438,
          -18.161481857299805,
          -17.842878341674805,
          -17.791072845458984,
          -18.135435104370117
         ],
         "y": [
          3.131859302520752,
          3.37054443359375,
          3.1318752765655518,
          2.1840248107910156,
          3.2088623046875,
          3.2659146785736084
         ],
         "z": [
          7.795856952667236,
          6.770822048187256,
          7.795808792114258,
          6.927251815795898,
          6.791962146759033,
          7.6454291343688965
         ]
        },
        {
         "hovertemplate": "Dominant_Topic=Topic 2<br>0=%{x}<br>1=%{y}<br>2=%{z}<extra></extra>",
         "legendgroup": "Topic 2",
         "marker": {
          "color": "#FF97FF",
          "opacity": 0.7,
          "symbol": "circle"
         },
         "mode": "markers",
         "name": "Topic 2",
         "scene": "scene",
         "showlegend": true,
         "type": "scatter3d",
         "x": [
          -5.736841678619385,
          -5.7393622398376465,
          -6.609223365783691,
          -5.347609043121338,
          -6.411750793457031,
          -5.736615180969238,
          -5.7366623878479,
          -6.609222888946533,
          -5.736459732055664,
          -4.894956588745117,
          -5.812310218811035,
          -5.736691474914551
         ],
         "y": [
          -5.484735012054443,
          -5.487670421600342,
          -5.752476692199707,
          -6.4105682373046875,
          -5.4886698722839355,
          -5.485090732574463,
          -5.485050678253174,
          -5.752476692199707,
          -5.485239505767822,
          -5.164100170135498,
          -4.647773742675781,
          -5.485024929046631
         ],
         "z": [
          -9.1683349609375,
          -9.180882453918457,
          -10.522008895874023,
          -9.075716018676758,
          -10.406007766723633,
          -9.169618606567383,
          -9.169456481933594,
          -10.522008895874023,
          -9.170232772827148,
          -9.489139556884766,
          -9.779777526855469,
          -9.169356346130371
         ]
        },
        {
         "hovertemplate": "Dominant_Topic=Topic 3<br>0=%{x}<br>1=%{y}<br>2=%{z}<extra></extra>",
         "legendgroup": "Topic 3",
         "marker": {
          "color": "#FECB52",
          "opacity": 0.7,
          "symbol": "circle"
         },
         "mode": "markers",
         "name": "Topic 3",
         "scene": "scene",
         "showlegend": true,
         "type": "scatter3d",
         "x": [
          17.749792098999023,
          11.273956298828125,
          18.77300453186035,
          4.314991474151611,
          7.874260902404785,
          17.96753692626953,
          14.52375316619873,
          7.046182632446289,
          -8.531657218933105,
          11.517232894897461,
          14.299739837646484,
          11.42101001739502,
          14.001224517822266,
          17.10701560974121,
          7.440940856933594,
          11.283333778381348,
          6.3459343910217285,
          11.957172393798828,
          17.97628402709961,
          14.117141723632812,
          13.651973724365234,
          18.979061126708984,
          10.765375137329102,
          10.357950210571289,
          10.82728385925293,
          14.4663724899292,
          18.149383544921875,
          14.392369270324707,
          15.52193832397461,
          7.87394905090332,
          10.765324592590332,
          14.85114860534668,
          13.683530807495117,
          12.75745677947998,
          13.597270011901855,
          12.36506462097168,
          18.145374298095703,
          11.380960464477539,
          11.272594451904297,
          6.074461460113525,
          13.88448429107666,
          14.133174896240234,
          11.567572593688965,
          11.624814987182617,
          8.979303359985352,
          11.279438972473145,
          8.337586402893066,
          11.957161903381348,
          11.15330696105957,
          7.1522111892700195,
          12.887465476989746,
          13.88455867767334,
          9.347332954406738,
          13.311966896057129,
          16.688724517822266,
          8.559799194335938,
          8.558976173400879,
          13.871478080749512,
          11.029779434204102,
          17.979650497436523,
          11.153502464294434,
          13.518982887268066,
          9.11989974975586,
          18.29523468017578,
          10.999945640563965,
          18.093914031982422,
          8.349568367004395,
          19.0311222076416,
          13.74673843383789,
          18.83698272705078,
          7.877023220062256,
          11.238636016845703,
          11.259498596191406,
          7.8733978271484375,
          18.952896118164062,
          13.819360733032227,
          11.600464820861816,
          12.879415512084961,
          11.153504371643066,
          8.84988021850586,
          11.201476097106934,
          15.79134750366211,
          14.275272369384766,
          8.978811264038086,
          19.924823760986328,
          12.887831687927246,
          12.221173286437988,
          14.375195503234863,
          11.504423141479492,
          13.197653770446777,
          7.191213130950928,
          11.545010566711426,
          11.231390953063965,
          13.674112319946289,
          -2.1393771171569824,
          10.846513748168945,
          11.897017478942871,
          14.299579620361328,
          18.66610336303711,
          -8.802712440490723,
          17.952627182006836,
          8.980255126953125,
          13.133354187011719,
          14.46633529663086,
          17.817197799682617,
          11.960445404052734,
          8.979569435119629,
          8.34813117980957,
          14.313130378723145,
          7.032688140869141,
          15.590118408203125,
          9.010817527770996,
          12.541558265686035,
          11.247824668884277,
          -10.296897888183594,
          19.240100860595703,
          14.2749605178833,
          11.23868179321289,
          7.873997688293457,
          6.583005905151367,
          13.584419250488281,
          19.360469818115234,
          11.08746337890625,
          11.653454780578613,
          12.1100435256958,
          9.820505142211914,
          11.449957847595215,
          7.395543575286865,
          7.932075023651123,
          14.305110931396484,
          4.3150763511657715,
          13.435105323791504,
          13.31476879119873,
          6.479271411895752,
          8.29327392578125,
          9.886054992675781,
          14.299697875976562,
          8.979500770568848,
          7.0880961418151855,
          15.557392120361328,
          13.978199005126953,
          7.757465362548828,
          12.561427116394043,
          6.345926284790039,
          11.869695663452148,
          13.271292686462402,
          11.29418659210205,
          8.917196273803711,
          16.968183517456055,
          11.95627498626709,
          11.714816093444824,
          18.16375160217285,
          11.273911476135254,
          18.695690155029297,
          7.327570915222168,
          14.506662368774414,
          18.772905349731445,
          11.153603553771973,
          7.238452911376953,
          9.146011352539062,
          11.540668487548828,
          18.174955368041992,
          10.737100601196289,
          13.069360733032227,
          18.09393882751465,
          10.74008560180664,
          11.346306800842285,
          15.242372512817383,
          7.873508453369141,
          18.687231063842773,
          11.357476234436035,
          5.322997093200684,
          7.193918704986572,
          10.688044548034668,
          4.470842361450195,
          8.403681755065918,
          6.345931529998779,
          9.90445613861084,
          10.87307071685791,
          8.979397773742676,
          11.239012718200684,
          12.84182071685791,
          -8.520622253417969,
          8.846386909484863,
          11.279438972473145,
          6.620365142822266,
          7.408480167388916,
          12.152042388916016,
          15.242463111877441,
          18.094684600830078,
          11.419280052185059,
          15.563416481018066,
          19.75275993347168,
          11.421114921569824,
          11.421025276184082,
          8.255705833435059,
          11.203629493713379,
          9.398744583129883,
          13.884377479553223,
          12.968175888061523,
          9.34736156463623,
          9.726607322692871,
          6.176321506500244,
          11.080000877380371,
          11.273871421813965,
          17.966524124145508,
          17.968252182006836,
          4.315175533294678,
          13.287006378173828,
          17.852874755859375,
          17.965091705322266,
          4.315075397491455,
          14.262114524841309,
          8.688286781311035,
          17.717294692993164,
          11.280479431152344,
          7.046170234680176,
          11.15369987487793,
          11.428474426269531,
          11.153627395629883,
          13.435332298278809,
          11.152369499206543,
          8.98054313659668,
          11.034477233886719,
          8.917462348937988,
          5.126229286193848,
          7.87333345413208,
          6.8335371017456055,
          11.83824348449707,
          12.641962051391602,
          17.96753692626953,
          17.963726043701172,
          12.491278648376465,
          -8.802777290344238,
          15.52207088470459,
          19.173553466796875,
          8.256162643432617,
          9.416488647460938,
          8.406463623046875,
          11.152826309204102,
          13.593024253845215,
          7.534435272216797,
          11.420917510986328,
          7.111349105834961,
          16.193180084228516,
          11.176551818847656,
          17.96648406982422,
          11.3638916015625,
          14.033185958862305,
          13.3985595703125,
          -8.531656265258789,
          17.764312744140625,
          13.596237182617188,
          18.295095443725586,
          11.476655960083008,
          11.94902229309082,
          19.25493621826172,
          8.255335807800293,
          11.420859336853027,
          5.3981451988220215,
          16.632165908813477,
          5.3981451988220215,
          14.703117370605469,
          19.040294647216797,
          12.753623962402344,
          15.590119361877441,
          10.648186683654785,
          7.873414993286133,
          11.033814430236816,
          13.294635772705078,
          -8.802647590637207,
          14.649951934814453,
          19.36749839782715,
          23.740751266479492,
          14.261621475219727,
          18.78784942626953,
          8.197015762329102,
          12.806702613830566,
          14.26170539855957,
          -7.822133541107178
         ],
         "y": [
          -2.0123138427734375,
          -5.910981178283691,
          -3.9915032386779785,
          -6.610215187072754,
          1.3141785860061646,
          -0.3664940595626831,
          -4.565392971038818,
          -8.399864196777344,
          -8.836503028869629,
          -6.192525386810303,
          -2.3649423122406006,
          4.924776554107666,
          -4.6916093826293945,
          -1.9885536432266235,
          -3.7242493629455566,
          -1.5107464790344238,
          -9.515165328979492,
          -6.5223388671875,
          -0.3558230698108673,
          -3.152434825897217,
          -0.3422575891017914,
          -2.0979480743408203,
          2.0837254524230957,
          -4.918143272399902,
          4.093597412109375,
          1.0951640605926514,
          -2.0671801567077637,
          -3.365783452987671,
          -2.093660354614258,
          1.3138294219970703,
          2.083652973175049,
          -2.1236705780029297,
          -3.2786788940429688,
          -2.9412336349487305,
          -4.0860276222229,
          4.483366012573242,
          -1.6861528158187866,
          -2.188551664352417,
          4.469020843505859,
          -4.617945671081543,
          0.34360578656196594,
          -0.011865607462823391,
          -1.4313461780548096,
          -1.4965734481811523,
          -5.270345687866211,
          -4.633969783782959,
          -2.660902500152588,
          -6.522356986999512,
          3.7164409160614014,
          -3.8615105152130127,
          4.725155353546143,
          0.34360527992248535,
          -2.002331495285034,
          -2.220463752746582,
          -2.5237770080566406,
          -2.6063613891601562,
          -2.6060233116149902,
          0.3766038417816162,
          4.6443047523498535,
          -1.9889925718307495,
          3.716090679168701,
          -5.59600305557251,
          1.8605527877807617,
          -0.788116455078125,
          -3.1375017166137695,
          0.736589252948761,
          -3.041038990020752,
          -1.2020701169967651,
          -4.042815208435059,
          -1.9210975170135498,
          1.3073784112930298,
          -4.3900346755981445,
          -5.932092189788818,
          1.3144609928131104,
          -1.0827938318252563,
          -5.431503772735596,
          -2.270657539367676,
          -2.6556296348571777,
          3.71621036529541,
          4.677937030792236,
          4.86257791519165,
          -3.5558009147644043,
          -1.3584330081939697,
          -5.270382404327393,
          -1.8990732431411743,
          4.725086212158203,
          -1.2732837200164795,
          -4.171902656555176,
          2.1296682357788086,
          -2.6559324264526367,
          -6.571942329406738,
          2.898505449295044,
          -4.886879920959473,
          -3.663113594055176,
          2.820955276489258,
          4.34740686416626,
          -2.0847463607788086,
          -2.365013837814331,
          -1.7644777297973633,
          -9.975624084472656,
          -2.162306070327759,
          -5.270275115966797,
          -1.5219943523406982,
          1.095241665840149,
          -1.5396226644515991,
          1.1654301881790161,
          -5.270121097564697,
          -0.46573472023010254,
          -4.11038064956665,
          -6.144129276275635,
          0.21743449568748474,
          2.226127862930298,
          3.452188730239868,
          -4.8842668533325195,
          0.8293697834014893,
          -2.044210433959961,
          -1.3588556051254272,
          -4.390162467956543,
          1.314207673072815,
          -3.4785799980163574,
          -2.4884626865386963,
          -1.6357669830322266,
          4.070735454559326,
          -5.394207000732422,
          -1.1076104640960693,
          -3.7624316215515137,
          2.9088940620422363,
          -5.900916576385498,
          -2.55987286567688,
          -5.107112407684326,
          -6.609930038452148,
          -5.35487174987793,
          -3.403656005859375,
          -9.467849731445312,
          -3.9299206733703613,
          4.098845958709717,
          -2.3649067878723145,
          -5.27030611038208,
          -5.754124164581299,
          -1.065368890762329,
          -2.9139316082000732,
          -2.6653237342834473,
          -2.6325056552886963,
          -9.515409469604492,
          -1.200575828552246,
          -2.348808765411377,
          4.173371315002441,
          -6.3847784996032715,
          4.836568355560303,
          4.085172653198242,
          -6.1321587562561035,
          -1.7223159074783325,
          -5.91098165512085,
          -1.41390061378479,
          -8.47573471069336,
          -3.7853541374206543,
          -3.9915740489959717,
          3.716003179550171,
          0.24974408745765686,
          4.386026859283447,
          2.1555137634277344,
          0.49749186635017395,
          4.640857219696045,
          -1.8929426670074463,
          0.7365956902503967,
          4.852494716644287,
          -4.617303848266602,
          -3.844682455062866,
          1.3124066591262817,
          -0.4848349690437317,
          2.8911309242248535,
          -10.053271293640137,
          1.029101014137268,
          -6.261850833892822,
          -6.502098083496094,
          -7.6346330642700195,
          -9.515166282653809,
          -4.991360664367676,
          4.317158222198486,
          -5.270326614379883,
          -4.390280723571777,
          5.209834575653076,
          -10.487264633178711,
          1.7317768335342407,
          -4.633969783782959,
          -3.4581501483917236,
          -5.875121116638184,
          -1.6924521923065186,
          -3.8447134494781494,
          0.7347028255462646,
          -1.8677788972854614,
          -0.5829706788063049,
          -0.8953022956848145,
          4.92514705657959,
          4.924867153167725,
          -6.016841888427734,
          4.919337272644043,
          4.201758861541748,
          0.3436213731765747,
          -2.4376630783081055,
          -2.0023324489593506,
          -6.254083633422852,
          -4.606200218200684,
          5.794984340667725,
          -5.910979270935059,
          -0.36527496576309204,
          -0.36945581436157227,
          -6.609938621520996,
          -2.1806931495666504,
          -1.5220800638198853,
          -0.3165254294872284,
          -6.609930515289307,
          -1.3512636423110962,
          -2.8925845623016357,
          -1.6744366884231567,
          -4.6332106590271,
          -8.399787902832031,
          3.7159223556518555,
          -2.3169057369232178,
          3.716093063354492,
          -5.354876518249512,
          3.7169888019561768,
          -5.27004337310791,
          -4.601337432861328,
          -6.384703636169434,
          -6.540081977844238,
          1.3126072883605957,
          -10.146368980407715,
          -4.963736057281494,
          -2.1574385166168213,
          -0.3664926588535309,
          -0.31983640789985657,
          -1.84406316280365,
          -9.97557544708252,
          -2.0936853885650635,
          -1.3678289651870728,
          3.387937545776367,
          4.087255001068115,
          -7.630058765411377,
          3.716594934463501,
          -0.4908393919467926,
          -3.733705759048462,
          4.924689292907715,
          -6.3586907386779785,
          -3.1601037979125977,
          -4.632205009460449,
          -0.36541271209716797,
          4.662424087524414,
          -3.4537734985351562,
          -0.3870389461517334,
          -8.836471557617188,
          -2.0372135639190674,
          3.1068427562713623,
          -0.7880175709724426,
          2.8101091384887695,
          1.3559012413024902,
          -1.3716856241226196,
          -6.0169291496276855,
          4.924689292907715,
          -10.106038093566895,
          -0.25774675607681274,
          -10.106054306030273,
          0.95862877368927,
          -0.9903934597969055,
          -2.9144957065582275,
          0.2172880321741104,
          4.588251113891602,
          1.3144328594207764,
          -4.610648155212402,
          -3.7331745624542236,
          -9.975701332092285,
          -3.403883218765259,
          -1.8732197284698486,
          8.050929069519043,
          -1.3512951135635376,
          -1.2524477243423462,
          -2.502053737640381,
          -1.8176262378692627,
          -1.3512085676193237,
          -9.837152481079102
         ],
         "z": [
          -6.094544887542725,
          -3.931262254714966,
          -6.154173851013184,
          0.8739696741104126,
          -2.451936960220337,
          -1.381251573562622,
          0.0025566176045686007,
          -2.276293992996216,
          -4.3893656730651855,
          -4.816107273101807,
          -6.197649002075195,
          -5.556282043457031,
          0.649589478969574,
          -2.127540111541748,
          4.112585544586182,
          -1.3913500308990479,
          -2.6055424213409424,
          4.0852742195129395,
          -1.3805876970291138,
          0.255652517080307,
          -4.430569648742676,
          -7.184289932250977,
          1.083086371421814,
          -5.522744655609131,
          8.37573528289795,
          -2.9418609142303467,
          -5.7446489334106445,
          -0.28509214520454407,
          -6.389764308929443,
          -2.4522321224212646,
          1.0831259489059448,
          3.903682231903076,
          0.4349592626094818,
          -0.9841512441635132,
          -0.3174758553504944,
          8.599648475646973,
          -5.675593852996826,
          -1.0424202680587769,
          7.918801784515381,
          5.197025299072266,
          4.130677223205566,
          4.785360813140869,
          -1.701885461807251,
          -0.6847788691520691,
          6.5405168533325195,
          5.995631217956543,
          -3.0458824634552,
          4.085228443145752,
          1.047576904296875,
          4.324409008026123,
          -5.329746723175049,
          4.130688667297363,
          1.5126641988754272,
          -1.084368109703064,
          -2.310155153274536,
          1.9826064109802246,
          1.98301362991333,
          4.1378397941589355,
          8.72871208190918,
          -5.635333061218262,
          1.047239065170288,
          -0.14321810007095337,
          0.6202594637870789,
          -2.663120746612549,
          5.811101913452148,
          -3.8491268157958984,
          -3.359985828399658,
          -6.925588130950928,
          0.5670693516731262,
          -7.361110210418701,
          -2.4558184146881104,
          -0.15203391015529633,
          -3.954463481903076,
          -2.4521288871765137,
          0.5257152915000916,
          0.13155120611190796,
          -1.7455538511276245,
          -1.2647972106933594,
          1.0471925735473633,
          -3.775815486907959,
          8.5053071975708,
          -3.1266584396362305,
          3.741354465484619,
          6.540584564208984,
          -8.106158256530762,
          -5.329844951629639,
          -1.6766284704208374,
          0.6042641997337341,
          6.026158809661865,
          -1.2245317697525024,
          0.21024534106254578,
          -5.638789176940918,
          5.8543782234191895,
          -0.6725397706031799,
          0.015590502880513668,
          7.904268264770508,
          -1.9778282642364502,
          -6.197576522827148,
          -7.374139308929443,
          2.747105598449707,
          -5.926633834838867,
          6.541193008422852,
          3.0801074504852295,
          -2.9418954849243164,
          -5.946853160858154,
          4.860601902008057,
          6.540431499481201,
          -2.655836582183838,
          -0.34839358925819397,
          -2.3404922485351562,
          2.521484613418579,
          0.554064929485321,
          -0.5300988554954529,
          5.856942653656006,
          -1.261889100074768,
          -6.969343185424805,
          3.7407004833221436,
          -0.15198162198066711,
          -2.452061653137207,
          -4.3065314292907715,
          -0.6730831861495972,
          -6.7028679847717285,
          8.376607894897461,
          -3.158142328262329,
          -1.219353199005127,
          1.837388515472412,
          -6.671640396118164,
          -2.3971612453460693,
          1.145399808883667,
          0.28394412994384766,
          0.8738434910774231,
          -3.5452442169189453,
          0.23852448165416718,
          -2.5537502765655518,
          -3.3527982234954834,
          0.5636112689971924,
          -6.197400093078613,
          6.540473937988281,
          -1.3885447978973389,
          2.334306478500366,
          -0.18526680767536163,
          1.3405792713165283,
          -0.42609459161758423,
          -2.6056203842163086,
          -0.8809835910797119,
          4.865654945373535,
          8.176410675048828,
          4.074775218963623,
          -1.7892659902572632,
          9.275322914123535,
          4.192498207092285,
          -5.668682098388672,
          -3.9312613010406494,
          -7.320651531219482,
          -2.2481703758239746,
          0.26470401883125305,
          -6.154166221618652,
          1.0469087362289429,
          -1.3503443002700806,
          -3.808056354522705,
          6.032886505126953,
          -4.051136493682861,
          7.978644371032715,
          -0.7772536873817444,
          -3.8491811752319336,
          8.218381881713867,
          5.67861795425415,
          -3.593492031097412,
          -2.453935384750366,
          2.7724671363830566,
          -7.269545078277588,
          -1.2088028192520142,
          -5.1055006980896,
          3.762354612350464,
          2.501601219177246,
          6.560491561889648,
          -2.6055421829223633,
          7.185250759124756,
          8.675572395324707,
          6.540521621704102,
          -0.15183882415294647,
          -5.006887912750244,
          2.325777530670166,
          -2.7638509273529053,
          5.995631217956543,
          -4.36097526550293,
          -0.9811770915985107,
          -1.9739890098571777,
          -3.593395948410034,
          -3.8503122329711914,
          -0.7613482475280762,
          2.4411911964416504,
          -7.5877485275268555,
          -5.556307315826416,
          -5.556299209594727,
          -2.652705430984497,
          8.347777366638184,
          -3.8135597705841064,
          4.130611896514893,
          -0.15529325604438782,
          1.5127365589141846,
          3.9680845737457275,
          5.135790824890137,
          6.928622245788574,
          -3.9313323497772217,
          -1.3728286027908325,
          -1.3663374185562134,
          0.8739082217216492,
          -0.352934867143631,
          -5.914721965789795,
          -1.3036348819732666,
          0.8738430142402649,
          3.7425923347473145,
          -3.439531087875366,
          -6.069590091705322,
          5.994876861572266,
          -2.2763044834136963,
          1.0463308095932007,
          -1.4104257822036743,
          1.0464808940887451,
          -3.5452518463134766,
          1.0522464513778687,
          6.541090965270996,
          5.724889278411865,
          4.074782371520996,
          2.09623384475708,
          -2.4538443088531494,
          -2.99422287940979,
          -2.4122753143310547,
          -0.39269110560417175,
          -1.3812512159347534,
          -1.3021975755691528,
          -1.235517978668213,
          2.747176170349121,
          -6.389784812927246,
          -1.897590160369873,
          0.5620774626731873,
          7.954211711883545,
          6.558876037597656,
          1.0494632720947266,
          -4.8284831047058105,
          4.154088973999023,
          -5.556269645690918,
          0.2896471917629242,
          -2.7571537494659424,
          5.6298017501831055,
          -1.3728138208389282,
          8.056740760803223,
          -0.7024686932563782,
          -4.964646816253662,
          -4.3893351554870605,
          -6.083819389343262,
          1.5395081043243408,
          -2.6625168323516846,
          6.69791316986084,
          5.073958873748779,
          -6.752114772796631,
          -2.6525862216949463,
          -5.556265354156494,
          -1.447069764137268,
          -0.7634276747703552,
          -1.4470703601837158,
          3.5519485473632812,
          0.8292461633682251,
          -0.6409742832183838,
          2.521440029144287,
          8.535750389099121,
          -2.4521379470825195,
          5.721027374267578,
          -0.06805889308452606,
          2.7470109462738037,
          -4.6651387214660645,
          -6.831437110900879,
          -18.867382049560547,
          3.7423534393310547,
          -7.17804479598999,
          1.4268375635147095,
          2.7630951404571533,
          3.7424957752227783,
          4.282998561859131
         ]
        },
        {
         "hovertemplate": "Dominant_Topic=Topic 4<br>0=%{x}<br>1=%{y}<br>2=%{z}<extra></extra>",
         "legendgroup": "Topic 4",
         "marker": {
          "color": "#636efa",
          "opacity": 0.7,
          "symbol": "circle"
         },
         "mode": "markers",
         "name": "Topic 4",
         "scene": "scene",
         "showlegend": true,
         "type": "scatter3d",
         "x": [
          -6.758047580718994,
          -8.620959281921387,
          -5.95767879486084,
          -7.8268632888793945,
          -8.86577033996582,
          -8.709735870361328,
          -7.093299388885498,
          -8.167835235595703,
          -10.10015869140625,
          -6.734690189361572,
          -7.566317081451416,
          -4.142210006713867,
          -7.414534568786621,
          -10.100228309631348,
          -6.686363220214844,
          -8.760955810546875,
          -7.171896457672119,
          -6.744097709655762,
          -4.679972171783447,
          -7.66602087020874,
          -6.460601806640625,
          -8.706002235412598,
          -7.081903457641602,
          -7.7701191902160645,
          -7.87136697769165,
          -7.751131534576416,
          -1.9728115797042847,
          -9.259688377380371,
          -6.809699535369873,
          -7.1596760749816895,
          -7.951305866241455,
          -7.1104559898376465,
          -10.050300598144531,
          -1.9729570150375366,
          -1.9725950956344604,
          -10.405006408691406,
          -8.71036434173584,
          -6.686307430267334,
          -8.88963508605957,
          -9.580236434936523,
          -10.404860496520996,
          -6.583023548126221,
          -7.2479071617126465,
          -1.9721980094909668,
          -8.620274543762207,
          -8.273526191711426,
          -8.888635635375977,
          -1.9728151559829712,
          -7.729160785675049,
          -4.142210483551025,
          -8.621565818786621,
          -6.190474033355713,
          -6.714163303375244,
          -7.2691216468811035,
          -7.574338912963867,
          -6.767366886138916,
          -5.95716667175293,
          -6.402005195617676,
          -8.273526191711426,
          8.33673095703125,
          10.855478286743164,
          -9.580239295959473,
          -6.540686130523682,
          -4.330987930297852,
          -9.037343978881836,
          -9.579622268676758,
          -5.957662105560303,
          -1.9729000329971313,
          -6.868724822998047,
          -6.686344623565674,
          -7.918309688568115,
          -8.33631420135498,
          -9.580148696899414,
          -7.169748783111572,
          -7.609938144683838,
          -4.33093786239624
         ],
         "y": [
          8.163583755493164,
          11.911835670471191,
          4.568929672241211,
          8.06690502166748,
          6.605950832366943,
          11.810763359069824,
          9.04332160949707,
          8.390863418579102,
          11.181344985961914,
          8.596813201904297,
          7.697451114654541,
          6.478848934173584,
          7.71241569519043,
          11.181010246276855,
          7.139004707336426,
          13.720755577087402,
          8.337896347045898,
          8.042133331298828,
          13.017322540283203,
          8.358138084411621,
          8.188214302062988,
          11.808283805847168,
          9.260963439941406,
          8.167854309082031,
          8.91290283203125,
          8.788084030151367,
          8.561020851135254,
          11.947916030883789,
          9.000252723693848,
          7.594699859619141,
          8.73939323425293,
          7.915322303771973,
          8.626740455627441,
          8.56103801727295,
          8.560970306396484,
          10.543108940124512,
          11.811026573181152,
          7.139139652252197,
          11.686407089233398,
          12.638504981994629,
          10.543441772460938,
          9.007616996765137,
          8.632465362548828,
          8.560677528381348,
          11.914544105529785,
          13.093818664550781,
          11.685613632202148,
          8.561033248901367,
          9.278884887695312,
          6.478806495666504,
          11.91273021697998,
          5.1703290939331055,
          9.308707237243652,
          8.525287628173828,
          9.046895980834961,
          7.78772497177124,
          4.568722724914551,
          8.651617050170898,
          13.093818664550781,
          3.796081066131592,
          4.642429351806641,
          12.638497352600098,
          8.668050765991211,
          4.827198028564453,
          6.365145683288574,
          12.639518737792969,
          4.569252967834473,
          8.561033248901367,
          7.395503997802734,
          7.139251708984375,
          7.569881916046143,
          8.166051864624023,
          12.638653755187988,
          9.627004623413086,
          9.149412155151367,
          4.82715368270874
         ],
         "z": [
          7.009206771850586,
          7.917866230010986,
          5.172290802001953,
          6.104511737823486,
          5.478736400604248,
          7.542651653289795,
          7.055124282836914,
          6.408214092254639,
          6.763571739196777,
          7.08886194229126,
          6.250979900360107,
          6.424736022949219,
          7.286390781402588,
          6.7633957862854,
          1.9987848997116089,
          7.168510913848877,
          5.050541400909424,
          5.772512912750244,
          2.3758673667907715,
          5.370293617248535,
          6.116635322570801,
          7.542618274688721,
          6.369298458099365,
          7.434366226196289,
          6.731462001800537,
          5.487031936645508,
          8.00498104095459,
          8.854235649108887,
          4.8778157234191895,
          6.484477996826172,
          7.319127559661865,
          5.634912014007568,
          4.628634929656982,
          8.00501823425293,
          8.004923820495605,
          6.346131801605225,
          7.542438507080078,
          1.9988902807235718,
          7.840210914611816,
          7.693909645080566,
          6.3463335037231445,
          6.15421199798584,
          7.6136393547058105,
          8.004826545715332,
          7.918227672576904,
          7.145771503448486,
          7.840140342712402,
          8.004968643188477,
          5.5197625160217285,
          6.424737930297852,
          7.91914176940918,
          5.197423458099365,
          5.6553449630737305,
          6.277677059173584,
          6.348427772521973,
          6.701506614685059,
          5.17130708694458,
          6.347067356109619,
          7.145771503448486,
          0.832606852054596,
          1.7203309535980225,
          7.693881034851074,
          5.337177753448486,
          5.812138557434082,
          5.389557361602783,
          7.698102951049805,
          5.172322750091553,
          8.005001068115234,
          8.416926383972168,
          1.9989172220230103,
          6.946526527404785,
          6.950675964355469,
          7.69452428817749,
          5.326597690582275,
          4.640400409698486,
          5.811933994293213
         ]
        },
        {
         "hovertemplate": "Dominant_Topic=Topic 5<br>0=%{x}<br>1=%{y}<br>2=%{z}<extra></extra>",
         "legendgroup": "Topic 5",
         "marker": {
          "color": "#EF553B",
          "opacity": 0.7,
          "symbol": "circle"
         },
         "mode": "markers",
         "name": "Topic 5",
         "scene": "scene",
         "showlegend": true,
         "type": "scatter3d",
         "x": [
          3.318093776702881,
          1.4835532903671265,
          -2.887125253677368,
          2.4581549167633057,
          2.948936939239502,
          6.534479141235352,
          2.3797008991241455,
          5.249013900756836,
          4.466763019561768,
          4.018024444580078,
          5.6293864250183105,
          3.7762291431427,
          6.537762641906738,
          2.534715175628662,
          1.7249847650527954,
          3.9939422607421875,
          4.172018527984619,
          4.00972843170166,
          2.745609760284424,
          3.6622140407562256,
          6.9274492263793945,
          4.005956649780273,
          4.189908504486084,
          7.451606273651123,
          4.1899094581604,
          6.772066116333008,
          2.9489386081695557,
          3.8790476322174072,
          2.8945159912109375,
          5.447138786315918,
          3.426893711090088,
          5.2490129470825195,
          4.529331684112549,
          2.4371416568756104,
          2.7690343856811523,
          2.1404008865356445,
          -2.888911485671997,
          4.466808795928955,
          3.4242560863494873,
          3.8052003383636475,
          3.546316623687744,
          2.1404011249542236,
          6.537344455718994,
          2.4269039630889893,
          6.534976959228516,
          2.3797011375427246,
          6.534092903137207,
          4.466756820678711,
          -2.8889105319976807,
          -2.889317750930786,
          5.249077320098877,
          3.318093776702881,
          4.466124534606934,
          6.532857894897461,
          6.536494731903076,
          1.7337883710861206,
          2.5959951877593994,
          4.189927101135254,
          3.7307498455047607
         ],
         "y": [
          4.1802897453308105,
          0.9663136601448059,
          1.6129801273345947,
          4.99332332611084,
          5.3605475425720215,
          4.75818395614624,
          3.3720850944519043,
          2.024354934692383,
          7.699966907501221,
          3.5228967666625977,
          4.602115631103516,
          3.6251227855682373,
          4.7575812339782715,
          4.985637664794922,
          1.2396475076675415,
          2.028181791305542,
          6.82737922668457,
          3.6732378005981445,
          2.6249146461486816,
          3.5603504180908203,
          3.486593008041382,
          3.673668146133423,
          3.6645500659942627,
          9.885711669921875,
          3.6645572185516357,
          3.3954968452453613,
          5.360524654388428,
          3.1546716690063477,
          5.226857662200928,
          2.103743076324463,
          3.3173036575317383,
          2.024354934692383,
          6.594574928283691,
          5.077218532562256,
          5.367147445678711,
          5.856120586395264,
          1.452071189880371,
          7.699978828430176,
          3.329685926437378,
          3.431084632873535,
          3.207240581512451,
          5.8561201095581055,
          4.7576003074646,
          5.258697032928467,
          4.758063793182373,
          3.3720850944519043,
          4.758249759674072,
          7.699975967407227,
          1.4525490999221802,
          1.4525824785232544,
          2.0242371559143066,
          4.1802897453308105,
          7.699791431427002,
          4.757872581481934,
          4.757843971252441,
          6.295283794403076,
          5.266829967498779,
          3.664536952972412,
          3.4152419567108154
         ],
         "z": [
          -3.906022310256958,
          -1.2574915885925293,
          -2.2722506523132324,
          -0.9711752533912659,
          -0.9449821710586548,
          1.108705997467041,
          -3.5108642578125,
          -3.335688352584839,
          -3.379059076309204,
          -1.3829011917114258,
          0.3769048750400543,
          -1.8524140119552612,
          1.1102123260498047,
          -0.8676681518554688,
          -1.158437967300415,
          -0.3587506115436554,
          -2.5844602584838867,
          -1.6446869373321533,
          0.0863397866487503,
          -1.8659206628799438,
          0.06906487792730331,
          -1.645521879196167,
          4.769740581512451,
          1.1530524492263794,
          4.769746780395508,
          0.009229266084730625,
          -0.9449352025985718,
          -1.6477619409561157,
          -0.7818521857261658,
          -2.483196258544922,
          -1.5601214170455933,
          -3.335688591003418,
          -2.494223117828369,
          -1.1621620655059814,
          -1.2660771608352661,
          -0.6956614255905151,
          -2.477820634841919,
          -3.379180431365967,
          -1.5793460607528687,
          -1.2517415285110474,
          -1.685827374458313,
          -0.6956616640090942,
          1.1104388236999512,
          0.057702310383319855,
          1.1087671518325806,
          -3.510864019393921,
          1.108359456062317,
          -3.379075527191162,
          -2.476235866546631,
          -2.47617769241333,
          -3.3359363079071045,
          -3.906022310256958,
          -3.3794639110565186,
          1.1084316968917847,
          1.1097627878189087,
          -0.5396566987037659,
          -1.3062628507614136,
          4.769704818725586,
          -1.2513188123703003
         ]
        },
        {
         "hovertemplate": "Dominant_Topic=Topic 6<br>0=%{x}<br>1=%{y}<br>2=%{z}<extra></extra>",
         "legendgroup": "Topic 6",
         "marker": {
          "color": "#00cc96",
          "opacity": 0.7,
          "symbol": "circle"
         },
         "mode": "markers",
         "name": "Topic 6",
         "scene": "scene",
         "showlegend": true,
         "type": "scatter3d",
         "x": [
          -14.687725067138672,
          -8.17602825164795,
          -4.9718523025512695,
          -10.35609245300293,
          -2.489623546600342,
          -12.2401704788208,
          -8.290555000305176,
          -14.05083179473877,
          -9.576107025146484,
          -13.734515190124512,
          -14.988018035888672,
          -10.601644515991211,
          -10.816686630249023,
          -15.0131254196167,
          -12.96638298034668,
          -12.004021644592285,
          -15.025307655334473,
          -10.407502174377441,
          -10.694762229919434,
          -9.713293075561523,
          -12.966383934020996,
          -10.613563537597656,
          -8.29063892364502,
          -14.717402458190918,
          -6.989043712615967,
          -10.463253021240234,
          -12.968034744262695,
          -14.331878662109375,
          -9.874646186828613,
          -8.290637016296387,
          -1.5910513401031494,
          -2.9029970169067383,
          -2.4896249771118164,
          -14.381762504577637,
          -4.560153961181641,
          -4.935225963592529,
          -4.552877902984619,
          -1.8347212076187134,
          -10.372518539428711,
          -14.208297729492188,
          -7.151158809661865,
          -10.022324562072754,
          -14.45615005493164,
          -1.8347210884094238,
          -1.643724799156189,
          -9.062119483947754,
          -7.151158809661865,
          -5.941269397735596,
          -10.227977752685547,
          -9.636704444885254,
          -10.768790245056152,
          -10.884275436401367,
          -12.217095375061035,
          -14.724161148071289,
          -13.7659330368042,
          -11.939812660217285,
          -7.825691223144531,
          -11.71346378326416,
          -9.286822319030762,
          -7.850054740905762,
          -9.542415618896484,
          -13.790526390075684,
          -6.680556297302246,
          -14.468453407287598,
          -8.48201847076416,
          -14.632495880126953,
          -15.213013648986816,
          -4.720272064208984,
          -14.050631523132324,
          -9.192657470703125,
          -11.051039695739746,
          -14.381762504577637,
          -7.70681619644165,
          -5.9414591789245605,
          -10.462888717651367,
          -14.381762504577637,
          -14.724162101745605,
          -13.411604881286621,
          -14.173932075500488,
          -9.062134742736816,
          -11.615955352783203,
          -8.788009643554688,
          -5.075570106506348,
          -4.805822372436523,
          -5.721982479095459,
          -9.899639129638672,
          -4.146735668182373,
          -5.11013126373291,
          -10.114217758178711,
          -5.721982479095459,
          -10.932530403137207,
          -4.410069942474365,
          -6.263667106628418,
          -8.13864803314209,
          -4.278787612915039,
          -5.800053596496582,
          -5.094857215881348,
          -5.2570390701293945,
          -4.402598857879639,
          -13.790443420410156,
          -14.458860397338867,
          -9.779690742492676,
          -8.69206714630127,
          -13.529217720031738,
          -10.022326469421387,
          -8.027776718139648,
          -12.24011516571045,
          -8.299779891967773,
          -10.1179838180542,
          -10.913973808288574,
          -10.480788230895996,
          -14.380735397338867,
          -14.208296775817871,
          -15.137935638427734,
          -8.69214916229248,
          -12.968033790588379,
          -9.344036102294922,
          -14.007349967956543,
          -14.050631523132324,
          -12.44285774230957,
          -15.137920379638672,
          -12.217291831970215,
          -14.372502326965332,
          -7.854379177093506,
          -9.54257869720459,
          -11.939701080322266,
          -14.352705001831055,
          -12.966602325439453,
          -10.883284568786621,
          -9.169414520263672,
          -9.874820709228516,
          -10.227977752685547,
          -15.152787208557129,
          -8.17602825164795,
          -10.591448783874512,
          -14.988018989562988,
          -14.050859451293945,
          -9.771086692810059,
          -10.392912864685059,
          -14.17379379272461,
          -9.389669418334961,
          -0.6939939856529236,
          -5.83369255065918,
          -9.10362434387207,
          -10.875349044799805,
          5.946142673492432,
          -8.290695190429688,
          -10.350360870361328,
          -10.591196060180664,
          -8.673887252807617,
          -14.468467712402344,
          -5.833695411682129,
          -10.393296241760254,
          -14.45898151397705,
          -9.874902725219727,
          -9.474788665771484,
          0.929307758808136,
          -10.071588516235352,
          -12.215694427490234,
          -15.019347190856934,
          -8.219770431518555,
          -14.174529075622559,
          -2.2916338443756104,
          -14.224235534667969,
          -9.574296951293945,
          -14.758586883544922,
          -10.341514587402344,
          -10.171412467956543,
          -1.0910085439682007,
          -7.551988124847412,
          -8.176051139831543,
          -12.903246879577637,
          -11.030013084411621,
          -10.225883483886719,
          -2.927446126937866,
          -5.023895740509033,
          -5.1325201988220215,
          -10.441864013671875,
          -9.176202774047852,
          -9.002326011657715,
          -0.14525862038135529,
          -14.381869316101074,
          -10.118058204650879,
          -9.874746322631836,
          -9.984519958496094,
          -9.700278282165527,
          -15.213010787963867,
          -9.153645515441895,
          -14.17408275604248,
          -9.771751403808594,
          -5.981764793395996,
          -9.153679847717285,
          -8.067169189453125,
          -4.218041896820068,
          -5.0238938331604,
          -12.427490234375,
          -6.685929298400879,
          -12.222404479980469,
          -0.3631415069103241,
          -10.097182273864746,
          -10.370156288146973,
          -7.819735050201416,
          -9.359868049621582,
          -9.557392120361328,
          -14.050786018371582,
          -11.738985061645508,
          0.7206054925918579,
          -2.9029970169067383,
          -4.545688152313232,
          -14.685858726501465,
          -1.5910435914993286,
          -16.301027297973633,
          -3.340559244155884,
          -7.720330238342285,
          -14.208287239074707,
          -3.66951322555542,
          -2.869469165802002,
          -9.874646186828613,
          -4.155362606048584,
          -10.875423431396484
         ],
         "y": [
          -7.084561824798584,
          -0.5842786431312561,
          -8.41549015045166,
          -4.011320114135742,
          -6.888909816741943,
          -3.736821413040161,
          -3.633838653564453,
          -2.185163736343384,
          -4.14536190032959,
          -6.003371715545654,
          -6.847209930419922,
          -8.30688190460205,
          -5.253046035766602,
          -3.0052506923675537,
          -6.661217212677002,
          -1.9642024040222168,
          -4.290398597717285,
          0.09739132970571518,
          1.7455092668533325,
          0.755943238735199,
          -6.661218166351318,
          -8.400245666503906,
          -3.6339304447174072,
          -1.0609036684036255,
          -8.211766242980957,
          -4.203562259674072,
          -6.661777496337891,
          -6.0814290046691895,
          2.1599373817443848,
          -3.6338350772857666,
          -6.804953098297119,
          -4.275650501251221,
          -6.888911247253418,
          -6.10552453994751,
          -9.35682487487793,
          -8.206382751464844,
          -8.26622486114502,
          -4.444637775421143,
          -4.906864643096924,
          -0.7117785215377808,
          -4.153993129730225,
          -4.587202548980713,
          -3.3730952739715576,
          -4.444637775421143,
          -6.805502414703369,
          -2.1088602542877197,
          -4.153993129730225,
          -4.0387139320373535,
          -1.830690622329712,
          4.381977558135986,
          -5.690811634063721,
          -8.9271879196167,
          -1.3486149311065674,
          -4.892836570739746,
          -7.466397762298584,
          -3.1313319206237793,
          -1.8757644891738892,
          -7.145909786224365,
          -4.783150672912598,
          -3.9192585945129395,
          -7.740817070007324,
          -4.001548767089844,
          -8.293152809143066,
          -1.941362977027893,
          -9.757965087890625,
          -7.12930965423584,
          -1.7544395923614502,
          -8.799901962280273,
          -2.1852595806121826,
          -5.326127529144287,
          -4.683502197265625,
          -6.10552453994751,
          2.55989146232605,
          -4.038723945617676,
          -1.250646710395813,
          -6.10552453994751,
          -4.892833232879639,
          -0.6767488121986389,
          -0.4953543245792389,
          -2.1088550090789795,
          -2.3565611839294434,
          -3.2096049785614014,
          -8.774731636047363,
          -9.377768516540527,
          -9.915153503417969,
          -4.5550537109375,
          -8.578523635864258,
          -9.252494812011719,
          -5.597635746002197,
          -9.915153503417969,
          -4.547877311706543,
          -8.280426979064941,
          -6.146937370300293,
          -4.029541015625,
          -8.750951766967773,
          -3.9751222133636475,
          -8.440190315246582,
          -9.040802955627441,
          -9.147071838378906,
          -4.001561164855957,
          -1.708201289176941,
          -4.5659499168396,
          -4.0201239585876465,
          -5.779446125030518,
          -4.587202548980713,
          -3.9345037937164307,
          -3.7368221282958984,
          -3.614248037338257,
          0.7170354127883911,
          -4.709978103637695,
          -1.2631078958511353,
          -2.8526148796081543,
          -0.7117809653282166,
          -2.8576791286468506,
          -4.020279407501221,
          -6.661777973175049,
          -4.764278888702393,
          -0.5673978328704834,
          -2.185227870941162,
          -1.2335139513015747,
          -2.8576791286468506,
          -1.3484548330307007,
          -5.478041172027588,
          -0.3994874954223633,
          -7.740703582763672,
          -3.1312687397003174,
          -2.8071300983428955,
          -6.661288738250732,
          -8.927610397338867,
          -8.735419273376465,
          2.160031795501709,
          -1.830690622329712,
          -3.535275459289551,
          -0.5842787027359009,
          -5.433265209197998,
          -6.847209930419922,
          -2.1851236820220947,
          -5.799623489379883,
          -4.45637321472168,
          -0.49541014432907104,
          -0.9946581125259399,
          -0.5712994337081909,
          -1.7270402908325195,
          -5.268618106842041,
          1.6775786876678467,
          -9.928303718566895,
          -3.6339681148529053,
          0.06500251591205597,
          2.3678948879241943,
          -1.604117512702942,
          -1.9413208961486816,
          -1.727040410041809,
          -0.41739386320114136,
          -1.7081116437911987,
          2.1602182388305664,
          -5.815029621124268,
          -1.5767878293991089,
          -9.249594688415527,
          -6.6220855712890625,
          -7.176586627960205,
          -2.5803780555725098,
          -0.49498072266578674,
          -7.240483283996582,
          -1.778233528137207,
          4.324132919311523,
          -0.7378301024436951,
          -5.1003336906433105,
          -4.962522029876709,
          -0.5848239660263062,
          3.283162832260132,
          -0.5842316150665283,
          -7.65275239944458,
          -5.3677077293396,
          -9.226805686950684,
          -7.6301045417785645,
          -3.617908477783203,
          -8.907938957214355,
          -5.85042142868042,
          -4.478799343109131,
          -1.3875864744186401,
          3.4370594024658203,
          -6.105461120605469,
          0.7167567610740662,
          2.159858226776123,
          -5.0257463455200195,
          -4.121885776519775,
          -1.7544806003570557,
          -1.2219910621643066,
          -0.49531835317611694,
          -5.373263359069824,
          -6.177732944488525,
          -1.2221688032150269,
          3.242213010787964,
          -9.984471321105957,
          -3.617908000946045,
          -1.8859457969665527,
          -8.291327476501465,
          -6.621676921844482,
          3.233656167984009,
          -5.939350128173828,
          -4.091174602508545,
          3.1285786628723145,
          -1.8170758485794067,
          -5.308929443359375,
          -2.1850852966308594,
          -7.1421685218811035,
          -6.9351115226745605,
          -4.275650501251221,
          -8.7346773147583,
          -7.084290504455566,
          -6.804945945739746,
          2.002077341079712,
          -7.257616996765137,
          -1.7575737237930298,
          -0.7120407223701477,
          -7.575585842132568,
          -6.869579792022705,
          2.1599316596984863,
          -9.04836654663086,
          1.6774529218673706
         ],
         "z": [
          4.886353015899658,
          -1.545157790184021,
          6.3147358894348145,
          1.5875940322875977,
          0.5119310617446899,
          -6.461013317108154,
          6.380307674407959,
          2.305938959121704,
          1.9666523933410645,
          5.2346110343933105,
          4.092161178588867,
          1.2895005941390991,
          0.9337687492370605,
          1.048444390296936,
          3.891380786895752,
          3.3183202743530273,
          -0.2066752016544342,
          7.203197002410889,
          5.990947246551514,
          -0.4191860556602478,
          3.8913815021514893,
          1.3526179790496826,
          6.380326271057129,
          -2.515969753265381,
          6.566385746002197,
          1.0408815145492554,
          3.8922722339630127,
          1.998273491859436,
          6.632848262786865,
          6.380239009857178,
          3.256182909011841,
          4.630307674407959,
          0.5119310617446899,
          2.77640438079834,
          6.558748722076416,
          6.672754287719727,
          7.083664894104004,
          3.503645896911621,
          0.6533032059669495,
          -2.349957227706909,
          -0.1343773454427719,
          5.5901923179626465,
          4.130537986755371,
          3.503647804260254,
          3.1041157245635986,
          2.1215929985046387,
          -0.13437741994857788,
          2.761958122253418,
          5.645874977111816,
          5.021855354309082,
          1.3480541706085205,
          3.2395682334899902,
          8.209038734436035,
          0.053669579327106476,
          4.809484004974365,
          3.496619939804077,
          6.5558037757873535,
          5.485141277313232,
          2.303178071975708,
          -1.2219314575195312,
          3.2263545989990234,
          2.631180763244629,
          6.569255352020264,
          -6.7088799476623535,
          3.7463648319244385,
          5.15974760055542,
          0.5251893401145935,
          6.12565803527832,
          2.3061258792877197,
          2.120316982269287,
          1.6659184694290161,
          2.77640438079834,
          8.657376289367676,
          2.761854648590088,
          -4.969297409057617,
          2.776404619216919,
          0.05366953834891319,
          -2.159480571746826,
          0.6495130062103271,
          2.1215806007385254,
          3.742252826690674,
          4.191474914550781,
          7.236306667327881,
          6.964975357055664,
          8.556560516357422,
          0.7566266655921936,
          6.935547351837158,
          6.534526348114014,
          0.7899669408798218,
          8.556560516357422,
          1.184545636177063,
          6.509372711181641,
          7.893975734710693,
          -1.2346110343933105,
          6.319182395935059,
          2.80759596824646,
          7.077586650848389,
          6.8956122398376465,
          7.1551408767700195,
          2.6312108039855957,
          -7.122385501861572,
          2.5414979457855225,
          5.172091007232666,
          5.279316425323486,
          5.590192794799805,
          -1.158385992050171,
          -6.461012363433838,
          4.781094551086426,
          -0.6193916201591492,
          2.1931991577148438,
          6.705771446228027,
          2.9822983741760254,
          -2.3499553203582764,
          0.5856345891952515,
          5.172277927398682,
          3.8922722339630127,
          1.1128941774368286,
          -2.37654972076416,
          2.3060972690582275,
          8.443658828735352,
          0.5856339931488037,
          8.209129333496094,
          0.5172556042671204,
          -1.51607346534729,
          3.2264199256896973,
          3.4965808391571045,
          2.9396772384643555,
          3.8914947509765625,
          3.239107370376587,
          2.899904489517212,
          6.632949352264404,
          5.645877838134766,
          0.11800181120634079,
          -1.545157790184021,
          2.3571810722351074,
          4.092161655426025,
          2.305938720703125,
          2.1343040466308594,
          2.504739761352539,
          0.649437665939331,
          -4.296350479125977,
          -0.8431228995323181,
          -1.4509265422821045,
          1.5131372213363647,
          5.863985061645508,
          -3.573489189147949,
          6.380194664001465,
          -0.4447999894618988,
          6.56065034866333,
          -1.109704613685608,
          -6.7090229988098145,
          -1.450926423072815,
          6.9840850830078125,
          -7.122588634490967,
          6.633028984069824,
          1.4719030857086182,
          2.982372522354126,
          2.9407172203063965,
          3.5278940200805664,
          5.050976276397705,
          -1.1986910104751587,
          0.6497761011123657,
          4.131167888641357,
          3.410311460494995,
          4.841170310974121,
          1.3048473596572876,
          2.6695730686187744,
          1.5324922800064087,
          -0.7417213916778564,
          8.456422805786133,
          -1.5451463460922241,
          3.5200295448303223,
          1.7700700759887695,
          2.4013473987579346,
          4.864349365234375,
          3.0771632194519043,
          6.300356864929199,
          1.9806269407272339,
          1.658011555671692,
          2.685594320297241,
          7.973213195800781,
          2.7763125896453857,
          -0.6193366050720215,
          6.632907390594482,
          1.7483742237091064,
          1.2632397413253784,
          0.5251885652542114,
          3.5958094596862793,
          0.649608850479126,
          2.599419116973877,
          8.305744171142578,
          3.5956292152404785,
          8.404276847839355,
          5.316763401031494,
          3.0771634578704834,
          8.105204582214355,
          6.569762706756592,
          3.5313615798950195,
          7.84295654296875,
          1.378039002418518,
          2.038841962814331,
          8.457905769348145,
          3.5986850261688232,
          0.8639768362045288,
          2.3058626651763916,
          5.479483127593994,
          3.3584980964660645,
          4.630307674407959,
          7.348236560821533,
          4.885787010192871,
          3.256145715713501,
          5.270063400268555,
          0.32488498091697693,
          6.63036584854126,
          -2.3497533798217773,
          0.07129737734794617,
          0.6456628441810608,
          6.632844924926758,
          6.693905353546143,
          5.863921165466309
         ]
        },
        {
         "hovertemplate": "Dominant_Topic=Topic 7<br>0=%{x}<br>1=%{y}<br>2=%{z}<extra></extra>",
         "legendgroup": "Topic 7",
         "marker": {
          "color": "#ab63fa",
          "opacity": 0.7,
          "symbol": "circle"
         },
         "mode": "markers",
         "name": "Topic 7",
         "scene": "scene",
         "showlegend": true,
         "type": "scatter3d",
         "x": [
          5.696619510650635,
          2.1232450008392334,
          2.8482539653778076,
          0.4057302474975586,
          3.556023359298706,
          3.029438018798828,
          3.266706943511963,
          4.5194292068481445,
          0.8700977563858032,
          2.6399261951446533,
          -8.074780464172363,
          3.2499871253967285,
          1.9829614162445068,
          4.133195400238037,
          3.856304168701172,
          3.817211151123047,
          5.73561954498291,
          4.195672512054443,
          4.867849349975586,
          4.197249889373779,
          3.7092766761779785,
          0.7596632242202759,
          4.133234977722168,
          2.7446250915527344,
          4.133162021636963,
          3.6139442920684814,
          1.1427100896835327,
          3.1902644634246826,
          4.332890033721924,
          2.8347060680389404,
          3.8673348426818848,
          0.22466380894184113,
          3.5153586864471436,
          4.331360816955566,
          0.7596632242202759,
          3.007671594619751,
          3.6222376823425293,
          3.7039127349853516,
          4.1765594482421875,
          2.9726221561431885,
          5.73561954498291,
          2.707824945449829,
          3.25960373878479,
          4.111100673675537,
          3.3292031288146973,
          4.261082172393799
         ],
         "y": [
          6.996232986450195,
          6.33871603012085,
          4.290992736816406,
          4.425261974334717,
          4.872246265411377,
          4.806341648101807,
          3.9429574012756348,
          4.954978942871094,
          4.8725504875183105,
          4.8686089515686035,
          1.6041897535324097,
          4.384444236755371,
          6.323902606964111,
          6.952773571014404,
          4.824256420135498,
          4.018504619598389,
          7.350940227508545,
          5.4946818351745605,
          7.229171276092529,
          4.12991189956665,
          4.090227127075195,
          4.621816158294678,
          6.952885150909424,
          4.8944573402404785,
          6.9527459144592285,
          4.7049431800842285,
          -0.1772230565547943,
          4.9608235359191895,
          4.973609924316406,
          4.301967144012451,
          5.700559139251709,
          3.7371790409088135,
          5.66616153717041,
          4.340085029602051,
          4.621816158294678,
          5.458395004272461,
          5.330623149871826,
          5.338537216186523,
          4.29506254196167,
          5.38911771774292,
          7.350939750671387,
          5.467597007751465,
          5.831357002258301,
          4.533791542053223,
          4.178961753845215,
          5.177955150604248
         ],
         "z": [
          10.806015968322754,
          6.201741695404053,
          8.27291488647461,
          8.683574676513672,
          8.011311531066895,
          8.789138793945312,
          7.940163612365723,
          7.9708943367004395,
          9.089150428771973,
          7.5945963859558105,
          -3.9845783710479736,
          7.2023162841796875,
          6.142261028289795,
          6.683137893676758,
          7.103999137878418,
          8.252598762512207,
          6.438861846923828,
          7.938351154327393,
          6.504300594329834,
          5.275885581970215,
          7.491649627685547,
          8.755416870117188,
          6.683091640472412,
          8.262228012084961,
          6.683154106140137,
          8.939860343933105,
          3.748032331466675,
          7.065548419952393,
          7.441609859466553,
          7.575729846954346,
          8.404869079589844,
          8.130593299865723,
          7.723503112792969,
          8.204483032226562,
          8.755416870117188,
          8.651070594787598,
          8.855693817138672,
          7.300508975982666,
          7.570984840393066,
          7.4790544509887695,
          6.438861846923828,
          7.967133045196533,
          8.194022178649902,
          8.71328353881836,
          8.649489402770996,
          8.554039001464844
         ]
        },
        {
         "hovertemplate": "Dominant_Topic=Topic 8<br>0=%{x}<br>1=%{y}<br>2=%{z}<extra></extra>",
         "legendgroup": "Topic 8",
         "marker": {
          "color": "#FFA15A",
          "opacity": 0.7,
          "symbol": "circle"
         },
         "mode": "markers",
         "name": "Topic 8",
         "scene": "scene",
         "showlegend": true,
         "type": "scatter3d",
         "x": [
          -11.499871253967285,
          3.2609429359436035,
          -16.23749542236328,
          -15.153515815734863,
          -18.28995132446289,
          -15.617913246154785,
          -14.971020698547363,
          -15.953461647033691,
          -11.281301498413086,
          0.7219741940498352,
          -16.458951950073242,
          -11.804994583129883,
          -18.045490264892578,
          -11.33626651763916,
          -18.38918113708496,
          -15.997298240661621,
          -15.113492012023926,
          -16.76814842224121,
          -16.374671936035156,
          -17.151111602783203,
          -1.010088324546814,
          -15.784614562988281,
          -15.242159843444824,
          -11.805144309997559,
          -15.257577896118164,
          -15.942893981933594,
          -15.610645294189453,
          -17.307483673095703,
          -12.804574012756348,
          -16.5336971282959,
          -16.0944881439209,
          -11.804994583129883,
          -10.126075744628906,
          -14.919748306274414,
          -10.482857704162598,
          -15.774809837341309,
          -16.661653518676758,
          -16.626863479614258,
          -14.879361152648926,
          -17.14769172668457,
          0.7219841480255127,
          -15.448678016662598,
          -15.325942039489746,
          -11.499907493591309,
          -11.12433910369873,
          -17.21636390686035,
          -16.49947738647461,
          -12.762627601623535,
          -16.215694427490234,
          -15.242010116577148,
          -15.62568187713623,
          -15.242010116577148,
          -16.19133949279785,
          1.1457598209381104,
          -15.167519569396973,
          -15.256211280822754,
          -15.895267486572266,
          -16.216310501098633,
          -16.180824279785156,
          -17.414051055908203,
          -17.413875579833984,
          -14.916641235351562,
          -15.156872749328613,
          -16.125492095947266,
          -15.458259582519531,
          -15.099526405334473,
          -15.259735107421875,
          -15.039130210876465,
          -16.574417114257812
         ],
         "y": [
          8.814373016357422,
          -6.637777328491211,
          3.8042120933532715,
          5.224387168884277,
          5.427016258239746,
          5.209813594818115,
          7.518786907196045,
          4.976476669311523,
          4.467245578765869,
          8.077737808227539,
          4.214951515197754,
          5.508954048156738,
          5.2395830154418945,
          4.648063659667969,
          5.477567195892334,
          5.257124423980713,
          3.9696459770202637,
          4.424900531768799,
          2.4957189559936523,
          7.162254333496094,
          8.392391204833984,
          3.8097727298736572,
          6.483040809631348,
          5.508976459503174,
          6.518288612365723,
          4.689143657684326,
          5.462372779846191,
          5.428375244140625,
          5.376953601837158,
          4.104228496551514,
          7.066830158233643,
          5.508954048156738,
          1.8360967636108398,
          4.417581558227539,
          8.641255378723145,
          4.569344997406006,
          5.080681800842285,
          7.205770969390869,
          4.511051654815674,
          7.168022632598877,
          8.077669143676758,
          4.880164623260498,
          4.736763954162598,
          8.814294815063477,
          4.346873760223389,
          7.109776973724365,
          4.7475433349609375,
          8.440810203552246,
          5.400223731994629,
          0.756342887878418,
          3.7267961502075195,
          0.756342887878418,
          5.210919380187988,
          -2.691847562789917,
          4.225606441497803,
          6.514893531799316,
          4.117406845092773,
          6.999274253845215,
          7.013591766357422,
          3.031888484954834,
          3.03177547454834,
          5.08903169631958,
          4.435871601104736,
          4.2427144050598145,
          4.222962856292725,
          7.447900772094727,
          4.117607593536377,
          4.986525058746338,
          4.875309467315674
         ],
         "z": [
          5.3111467361450195,
          -3.890258312225342,
          0.9618600606918335,
          0.5200420022010803,
          2.240243434906006,
          1.2496747970581055,
          -1.1622211933135986,
          2.000540256500244,
          2.265148401260376,
          9.718320846557617,
          0.4467605650424957,
          0.7872713208198547,
          2.869751453399658,
          2.0103418827056885,
          2.0742738246917725,
          0.29359185695648193,
          1.1825937032699585,
          0.9845702052116394,
          5.302591323852539,
          0.834786057472229,
          8.855070114135742,
          1.515424132347107,
          1.6915220022201538,
          0.7872342467308044,
          1.7096718549728394,
          0.08290436118841171,
          0.606090247631073,
          -0.7501668930053711,
          0.7463617324829102,
          1.4295769929885864,
          2.1207122802734375,
          0.7872713208198547,
          -0.45728370547294617,
          1.497017502784729,
          4.672948360443115,
          1.0431424379348755,
          1.1033306121826172,
          1.846717357635498,
          0.7519474625587463,
          0.8390732407569885,
          9.718331336975098,
          1.9772093296051025,
          0.16985107958316803,
          5.311098575592041,
          2.475111246109009,
          0.7020652890205383,
          1.7292121648788452,
          3.434537172317505,
          0.8787224888801575,
          1.0307999849319458,
          0.8552311658859253,
          1.0307999849319458,
          1.5009864568710327,
          1.8271512985229492,
          4.598021507263184,
          1.7079062461853027,
          0.2961277961730957,
          2.1912496089935303,
          2.1786856651306152,
          6.090677738189697,
          6.090316295623779,
          1.0197181701660156,
          4.185085773468018,
          1.9109011888504028,
          1.8793851137161255,
          -1.035617709159851,
          0.42883872985839844,
          1.566309928894043,
          0.5214215517044067
         ]
        },
        {
         "hovertemplate": "Dominant_Topic=Topic 9<br>0=%{x}<br>1=%{y}<br>2=%{z}<extra></extra>",
         "legendgroup": "Topic 9",
         "marker": {
          "color": "#19d3f3",
          "opacity": 0.7,
          "symbol": "circle"
         },
         "mode": "markers",
         "name": "Topic 9",
         "scene": "scene",
         "showlegend": true,
         "type": "scatter3d",
         "x": [
          3.845590591430664,
          2.141521453857422,
          4.381840229034424,
          -0.7701923847198486,
          -4.570713520050049,
          -4.122988700866699,
          -11.418033599853516,
          -5.984921455383301,
          2.4744884967803955,
          3.7274763584136963,
          4.91296911239624,
          4.689787864685059,
          -5.9882965087890625,
          -12.01202392578125,
          1.3093599081039429,
          2.687211513519287,
          -1.342455506324768,
          0.07329462468624115,
          7.547156810760498,
          -5.5325727462768555,
          7.138208866119385,
          1.5629647970199585,
          5.315830707550049,
          4.642290115356445,
          4.276642799377441,
          3.900118589401245,
          3.9001147747039795,
          4.790278434753418,
          3.6954398155212402,
          -5.439915657043457,
          4.384529113769531,
          -5.091331958770752,
          7.0243072509765625,
          1.309446096420288,
          1.5631614923477173,
          -5.247719764709473,
          4.276940822601318,
          5.070417881011963,
          5.595166206359863,
          -5.0720601081848145,
          -3.2428030967712402,
          -4.589740753173828,
          2.787851572036743,
          1.5604360103607178,
          -4.730464935302734,
          -4.122988700866699,
          -11.418212890625,
          3.0562727451324463,
          -1.8520512580871582,
          2.787510395050049,
          4.696303367614746,
          4.453027248382568,
          -11.418243408203125,
          8.249853134155273,
          4.874078273773193,
          2.4631693363189697,
          2.46329927444458,
          4.41245174407959,
          1.5626029968261719,
          3.0350899696350098,
          4.7700676918029785,
          0.11794556677341461,
          3.7808663845062256,
          3.4223270416259766,
          5.287473201751709,
          4.855838775634766,
          5.255915641784668,
          -11.508016586303711,
          4.874078273773193,
          8.249853134155273,
          4.500794410705566,
          4.608530521392822,
          4.347835063934326,
          4.991410255432129,
          -4.604580879211426,
          -5.257298946380615,
          7.024306774139404,
          -5.439934253692627,
          -5.757467269897461,
          5.5420308113098145,
          -5.757467269897461,
          -5.592400074005127,
          7.138209819793701,
          -3.242816925048828,
          4.967658042907715,
          -1.8517463207244873,
          4.881551742553711,
          3.5445947647094727,
          -1.92629873752594,
          -4.685048580169678,
          -4.043921947479248,
          7.547155857086182,
          5.0700812339782715,
          1.3093600273132324,
          2.4745020866394043,
          2.921288013458252,
          4.837447643280029,
          3.4134371280670166,
          -12.012073516845703,
          4.097103595733643,
          -12.068405151367188,
          -1.330930233001709,
          1.5631614923477173,
          5.022731304168701,
          3.900113582611084,
          4.642301559448242,
          0.9522735476493835,
          -1.307252049446106,
          4.260228157043457,
          7.0199198722839355,
          1.5624771118164062,
          4.163890838623047,
          5.529128074645996,
          -2.1366336345672607,
          4.734927177429199,
          3.0939981937408447,
          5.373041152954102,
          0.11791861057281494,
          5.37235164642334,
          0.6029151678085327,
          -11.418318748474121,
          4.749626159667969,
          4.879527568817139,
          4.200054168701172,
          -4.217728137969971,
          -4.2577595710754395,
          -4.6977033615112305,
          3.6712043285369873,
          3.8685035705566406,
          2.7183022499084473,
          -1.330930233001709,
          -4.122988700866699,
          -0.7701964378356934,
          3.8291776180267334,
          -4.731639385223389,
          0.7818741202354431,
          -4.980171203613281,
          8.249510765075684,
          4.785212516784668,
          -1.6665717363357544,
          4.450981140136719,
          -1.852446436882019,
          -0.7702160477638245,
          3.087414503097534,
          2.814070463180542,
          -5.441527843475342,
          -4.970491886138916,
          -5.360601902008057,
          0.9922230243682861,
          -0.7702187895774841,
          -1.2272695302963257,
          -4.456326007843018,
          3.9001243114471436,
          -1.1533503532409668
         ],
         "y": [
          -5.5163140296936035,
          -7.213891506195068,
          -5.428399562835693,
          -2.6256814002990723,
          -9.323188781738281,
          -9.267033576965332,
          7.318463325500488,
          -10.436651229858398,
          -6.598006248474121,
          -4.80172061920166,
          0.5934984087944031,
          -5.801499843597412,
          -10.453505516052246,
          7.701174736022949,
          -4.8915910720825195,
          -5.358259201049805,
          -1.920331597328186,
          -3.314295530319214,
          -4.795539379119873,
          -9.546893119812012,
          -7.267810821533203,
          -7.893112659454346,
          -5.659901142120361,
          0.6604490876197815,
          -8.266539573669434,
          -5.736346244812012,
          -5.736358165740967,
          0.7394378185272217,
          -5.825483798980713,
          -6.3601531982421875,
          -4.693758487701416,
          -9.251664161682129,
          -5.792633056640625,
          -4.891154766082764,
          -7.892969131469727,
          -10.281417846679688,
          -8.266828536987305,
          0.6788787245750427,
          -5.367271423339844,
          -9.530511856079102,
          -9.720300674438477,
          -9.882881164550781,
          -5.335224151611328,
          -7.8947038650512695,
          -10.408602714538574,
          -9.267033576965332,
          7.318454742431641,
          -5.629348278045654,
          -2.250293254852295,
          -4.962217807769775,
          -6.712255954742432,
          -5.355335712432861,
          7.318477630615234,
          -5.271805286407471,
          -0.7539082169532776,
          -7.0356855392456055,
          -7.035945415496826,
          -4.798759937286377,
          -7.893120288848877,
          -6.491795539855957,
          0.8521378040313721,
          -2.7627129554748535,
          -5.446836471557617,
          -6.011297225952148,
          -5.762604236602783,
          0.5923330783843994,
          -4.970566749572754,
          7.173040390014648,
          -0.7539079785346985,
          -5.27180290222168,
          -4.636332035064697,
          -5.163791656494141,
          -5.470871448516846,
          0.764745831489563,
          -9.39713191986084,
          -10.08486557006836,
          -5.792633056640625,
          -6.360154151916504,
          -10.648180961608887,
          -4.963860511779785,
          -10.648180961608887,
          -9.761664390563965,
          -7.267800807952881,
          -9.720279693603516,
          -4.833703994750977,
          -2.250528573989868,
          0.8256843686103821,
          -5.091484069824219,
          -1.0845963954925537,
          -8.896575927734375,
          -10.150616645812988,
          -4.795539379119873,
          -4.5148725509643555,
          -4.8915910720825195,
          -6.5980119705200195,
          0.8243391513824463,
          -5.3308892250061035,
          -4.805698871612549,
          7.70125150680542,
          -4.557210922241211,
          7.673220157623291,
          -10.075017929077148,
          -7.892969131469727,
          0.814580500125885,
          -5.736344814300537,
          0.6604014039039612,
          -8.297834396362305,
          -2.4232723712921143,
          -4.967400074005127,
          -5.801048278808594,
          -7.893211364746094,
          -5.569554805755615,
          -5.192723751068115,
          -1.1086268424987793,
          -6.402813911437988,
          -4.7468061447143555,
          -5.825964450836182,
          -2.762690544128418,
          -4.6185526847839355,
          -2.9526524543762207,
          7.318455696105957,
          0.6302860975265503,
          -5.635852336883545,
          -5.117150783538818,
          -10.110897064208984,
          -9.795459747314453,
          -8.818028450012207,
          -5.0786542892456055,
          -5.265579700469971,
          0.8745682835578918,
          -10.075018882751465,
          -9.267033576965332,
          -2.6256752014160156,
          -4.60749626159668,
          -10.477514266967773,
          -4.337256908416748,
          -8.766444206237793,
          -5.271912097930908,
          -4.479132175445557,
          -1.5042604207992554,
          -4.71471643447876,
          -2.250049591064453,
          -2.6256461143493652,
          -5.96751594543457,
          -5.739243984222412,
          -9.137048721313477,
          -9.83147144317627,
          -9.157690048217773,
          -3.094806432723999,
          -2.625645875930786,
          -1.5871167182922363,
          -10.209080696105957,
          -5.73633337020874,
          -3.7077105045318604
         ],
         "z": [
          12.544010162353516,
          0.11004197597503662,
          12.22762680053711,
          9.400836944580078,
          12.430079460144043,
          11.695181846618652,
          9.495755195617676,
          10.45693588256836,
          3.1197736263275146,
          12.727288246154785,
          11.52665901184082,
          14.400871276855469,
          10.469228744506836,
          7.441720485687256,
          15.17072582244873,
          11.52002239227295,
          11.158978462219238,
          14.109637260437012,
          10.037908554077148,
          11.613539695739746,
          12.936310768127441,
          14.209245681762695,
          14.080615043640137,
          9.293065071105957,
          13.045086860656738,
          5.690464496612549,
          5.690473556518555,
          11.843003273010254,
          10.97812557220459,
          9.481657981872559,
          14.065006256103516,
          11.094449996948242,
          9.897032737731934,
          15.170677185058594,
          14.209223747253418,
          11.803384780883789,
          13.044885635375977,
          11.624161720275879,
          14.886088371276855,
          12.570878028869629,
          13.089834213256836,
          12.455406188964844,
          10.806970596313477,
          14.20956802368164,
          12.165568351745605,
          11.695181846618652,
          9.49597454071045,
          10.619457244873047,
          6.252692699432373,
          11.352156639099121,
          15.609272003173828,
          14.904744148254395,
          9.4959135055542,
          8.690818786621094,
          12.392290115356445,
          0.617334246635437,
          0.61724853515625,
          12.157754898071289,
          14.209334373474121,
          2.7190091609954834,
          11.703113555908203,
          13.191267967224121,
          10.809646606445312,
          11.183370590209961,
          15.503628730773926,
          11.532532691955566,
          13.826128005981445,
          10.039931297302246,
          12.392290115356445,
          8.69081974029541,
          14.745399475097656,
          12.574984550476074,
          14.269274711608887,
          11.830988883972168,
          10.924552917480469,
          12.326092720031738,
          9.897032737731934,
          9.481657028198242,
          10.41629695892334,
          14.829142570495605,
          10.41629695892334,
          11.987196922302246,
          12.936308860778809,
          13.090228080749512,
          15.107831001281738,
          6.252976417541504,
          11.834599494934082,
          12.476594924926758,
          12.46571159362793,
          12.222246170043945,
          11.609596252441406,
          10.037909507751465,
          14.642162322998047,
          15.170724868774414,
          3.119713068008423,
          11.09586238861084,
          15.4668607711792,
          10.904078483581543,
          7.441604137420654,
          12.332469940185547,
          7.37363338470459,
          9.072981834411621,
          14.209223747253418,
          11.578163146972656,
          5.69045877456665,
          9.292967796325684,
          14.246294975280762,
          7.921154975891113,
          11.968480110168457,
          9.841005325317383,
          14.20934772491455,
          12.38110065460205,
          13.975565910339355,
          12.4439115524292,
          15.735919952392578,
          11.111541748046875,
          14.713279724121094,
          13.191285133361816,
          14.195480346679688,
          12.843965530395508,
          9.495972633361816,
          11.604530334472656,
          13.97053050994873,
          14.508841514587402,
          12.083992958068848,
          11.018473625183105,
          11.285104751586914,
          10.786417007446289,
          12.864051818847656,
          11.05821704864502,
          9.072981834411621,
          11.695181846618652,
          9.400833129882812,
          12.476214408874512,
          11.60396671295166,
          14.925826072692871,
          11.796502113342285,
          8.69153881072998,
          13.971789360046387,
          11.742329597473145,
          12.861800193786621,
          6.252849102020264,
          9.400724411010742,
          11.39957332611084,
          11.504437446594238,
          11.512308120727539,
          11.331145286560059,
          12.204944610595703,
          12.439696311950684,
          9.400723457336426,
          5.715319633483887,
          11.206772804260254,
          5.690455913543701,
          3.0556533336639404
         ]
        }
       ],
       "layout": {
        "height": 800,
        "legend": {
         "title": {
          "text": "Dominant_Topic"
         },
         "tracegroupgap": 0
        },
        "scene": {
         "domain": {
          "x": [
           0,
           1
          ],
          "y": [
           0,
           1
          ]
         },
         "xaxis": {
          "title": {
           "text": "0"
          }
         },
         "yaxis": {
          "title": {
           "text": "1"
          }
         },
         "zaxis": {
          "title": {
           "text": "2"
          }
         }
        },
        "template": {
         "data": {
          "bar": [
           {
            "error_x": {
             "color": "#2a3f5f"
            },
            "error_y": {
             "color": "#2a3f5f"
            },
            "marker": {
             "line": {
              "color": "#E5ECF6",
              "width": 0.5
             }
            },
            "type": "bar"
           }
          ],
          "barpolar": [
           {
            "marker": {
             "line": {
              "color": "#E5ECF6",
              "width": 0.5
             }
            },
            "type": "barpolar"
           }
          ],
          "carpet": [
           {
            "aaxis": {
             "endlinecolor": "#2a3f5f",
             "gridcolor": "white",
             "linecolor": "white",
             "minorgridcolor": "white",
             "startlinecolor": "#2a3f5f"
            },
            "baxis": {
             "endlinecolor": "#2a3f5f",
             "gridcolor": "white",
             "linecolor": "white",
             "minorgridcolor": "white",
             "startlinecolor": "#2a3f5f"
            },
            "type": "carpet"
           }
          ],
          "choropleth": [
           {
            "colorbar": {
             "outlinewidth": 0,
             "ticks": ""
            },
            "type": "choropleth"
           }
          ],
          "contour": [
           {
            "colorbar": {
             "outlinewidth": 0,
             "ticks": ""
            },
            "colorscale": [
             [
              0,
              "#0d0887"
             ],
             [
              0.1111111111111111,
              "#46039f"
             ],
             [
              0.2222222222222222,
              "#7201a8"
             ],
             [
              0.3333333333333333,
              "#9c179e"
             ],
             [
              0.4444444444444444,
              "#bd3786"
             ],
             [
              0.5555555555555556,
              "#d8576b"
             ],
             [
              0.6666666666666666,
              "#ed7953"
             ],
             [
              0.7777777777777778,
              "#fb9f3a"
             ],
             [
              0.8888888888888888,
              "#fdca26"
             ],
             [
              1,
              "#f0f921"
             ]
            ],
            "type": "contour"
           }
          ],
          "contourcarpet": [
           {
            "colorbar": {
             "outlinewidth": 0,
             "ticks": ""
            },
            "type": "contourcarpet"
           }
          ],
          "heatmap": [
           {
            "colorbar": {
             "outlinewidth": 0,
             "ticks": ""
            },
            "colorscale": [
             [
              0,
              "#0d0887"
             ],
             [
              0.1111111111111111,
              "#46039f"
             ],
             [
              0.2222222222222222,
              "#7201a8"
             ],
             [
              0.3333333333333333,
              "#9c179e"
             ],
             [
              0.4444444444444444,
              "#bd3786"
             ],
             [
              0.5555555555555556,
              "#d8576b"
             ],
             [
              0.6666666666666666,
              "#ed7953"
             ],
             [
              0.7777777777777778,
              "#fb9f3a"
             ],
             [
              0.8888888888888888,
              "#fdca26"
             ],
             [
              1,
              "#f0f921"
             ]
            ],
            "type": "heatmap"
           }
          ],
          "heatmapgl": [
           {
            "colorbar": {
             "outlinewidth": 0,
             "ticks": ""
            },
            "colorscale": [
             [
              0,
              "#0d0887"
             ],
             [
              0.1111111111111111,
              "#46039f"
             ],
             [
              0.2222222222222222,
              "#7201a8"
             ],
             [
              0.3333333333333333,
              "#9c179e"
             ],
             [
              0.4444444444444444,
              "#bd3786"
             ],
             [
              0.5555555555555556,
              "#d8576b"
             ],
             [
              0.6666666666666666,
              "#ed7953"
             ],
             [
              0.7777777777777778,
              "#fb9f3a"
             ],
             [
              0.8888888888888888,
              "#fdca26"
             ],
             [
              1,
              "#f0f921"
             ]
            ],
            "type": "heatmapgl"
           }
          ],
          "histogram": [
           {
            "marker": {
             "colorbar": {
              "outlinewidth": 0,
              "ticks": ""
             }
            },
            "type": "histogram"
           }
          ],
          "histogram2d": [
           {
            "colorbar": {
             "outlinewidth": 0,
             "ticks": ""
            },
            "colorscale": [
             [
              0,
              "#0d0887"
             ],
             [
              0.1111111111111111,
              "#46039f"
             ],
             [
              0.2222222222222222,
              "#7201a8"
             ],
             [
              0.3333333333333333,
              "#9c179e"
             ],
             [
              0.4444444444444444,
              "#bd3786"
             ],
             [
              0.5555555555555556,
              "#d8576b"
             ],
             [
              0.6666666666666666,
              "#ed7953"
             ],
             [
              0.7777777777777778,
              "#fb9f3a"
             ],
             [
              0.8888888888888888,
              "#fdca26"
             ],
             [
              1,
              "#f0f921"
             ]
            ],
            "type": "histogram2d"
           }
          ],
          "histogram2dcontour": [
           {
            "colorbar": {
             "outlinewidth": 0,
             "ticks": ""
            },
            "colorscale": [
             [
              0,
              "#0d0887"
             ],
             [
              0.1111111111111111,
              "#46039f"
             ],
             [
              0.2222222222222222,
              "#7201a8"
             ],
             [
              0.3333333333333333,
              "#9c179e"
             ],
             [
              0.4444444444444444,
              "#bd3786"
             ],
             [
              0.5555555555555556,
              "#d8576b"
             ],
             [
              0.6666666666666666,
              "#ed7953"
             ],
             [
              0.7777777777777778,
              "#fb9f3a"
             ],
             [
              0.8888888888888888,
              "#fdca26"
             ],
             [
              1,
              "#f0f921"
             ]
            ],
            "type": "histogram2dcontour"
           }
          ],
          "mesh3d": [
           {
            "colorbar": {
             "outlinewidth": 0,
             "ticks": ""
            },
            "type": "mesh3d"
           }
          ],
          "parcoords": [
           {
            "line": {
             "colorbar": {
              "outlinewidth": 0,
              "ticks": ""
             }
            },
            "type": "parcoords"
           }
          ],
          "pie": [
           {
            "automargin": true,
            "type": "pie"
           }
          ],
          "scatter": [
           {
            "marker": {
             "colorbar": {
              "outlinewidth": 0,
              "ticks": ""
             }
            },
            "type": "scatter"
           }
          ],
          "scatter3d": [
           {
            "line": {
             "colorbar": {
              "outlinewidth": 0,
              "ticks": ""
             }
            },
            "marker": {
             "colorbar": {
              "outlinewidth": 0,
              "ticks": ""
             }
            },
            "type": "scatter3d"
           }
          ],
          "scattercarpet": [
           {
            "marker": {
             "colorbar": {
              "outlinewidth": 0,
              "ticks": ""
             }
            },
            "type": "scattercarpet"
           }
          ],
          "scattergeo": [
           {
            "marker": {
             "colorbar": {
              "outlinewidth": 0,
              "ticks": ""
             }
            },
            "type": "scattergeo"
           }
          ],
          "scattergl": [
           {
            "marker": {
             "colorbar": {
              "outlinewidth": 0,
              "ticks": ""
             }
            },
            "type": "scattergl"
           }
          ],
          "scattermapbox": [
           {
            "marker": {
             "colorbar": {
              "outlinewidth": 0,
              "ticks": ""
             }
            },
            "type": "scattermapbox"
           }
          ],
          "scatterpolar": [
           {
            "marker": {
             "colorbar": {
              "outlinewidth": 0,
              "ticks": ""
             }
            },
            "type": "scatterpolar"
           }
          ],
          "scatterpolargl": [
           {
            "marker": {
             "colorbar": {
              "outlinewidth": 0,
              "ticks": ""
             }
            },
            "type": "scatterpolargl"
           }
          ],
          "scatterternary": [
           {
            "marker": {
             "colorbar": {
              "outlinewidth": 0,
              "ticks": ""
             }
            },
            "type": "scatterternary"
           }
          ],
          "surface": [
           {
            "colorbar": {
             "outlinewidth": 0,
             "ticks": ""
            },
            "colorscale": [
             [
              0,
              "#0d0887"
             ],
             [
              0.1111111111111111,
              "#46039f"
             ],
             [
              0.2222222222222222,
              "#7201a8"
             ],
             [
              0.3333333333333333,
              "#9c179e"
             ],
             [
              0.4444444444444444,
              "#bd3786"
             ],
             [
              0.5555555555555556,
              "#d8576b"
             ],
             [
              0.6666666666666666,
              "#ed7953"
             ],
             [
              0.7777777777777778,
              "#fb9f3a"
             ],
             [
              0.8888888888888888,
              "#fdca26"
             ],
             [
              1,
              "#f0f921"
             ]
            ],
            "type": "surface"
           }
          ],
          "table": [
           {
            "cells": {
             "fill": {
              "color": "#EBF0F8"
             },
             "line": {
              "color": "white"
             }
            },
            "header": {
             "fill": {
              "color": "#C8D4E3"
             },
             "line": {
              "color": "white"
             }
            },
            "type": "table"
           }
          ]
         },
         "layout": {
          "annotationdefaults": {
           "arrowcolor": "#2a3f5f",
           "arrowhead": 0,
           "arrowwidth": 1
          },
          "autotypenumbers": "strict",
          "coloraxis": {
           "colorbar": {
            "outlinewidth": 0,
            "ticks": ""
           }
          },
          "colorscale": {
           "diverging": [
            [
             0,
             "#8e0152"
            ],
            [
             0.1,
             "#c51b7d"
            ],
            [
             0.2,
             "#de77ae"
            ],
            [
             0.3,
             "#f1b6da"
            ],
            [
             0.4,
             "#fde0ef"
            ],
            [
             0.5,
             "#f7f7f7"
            ],
            [
             0.6,
             "#e6f5d0"
            ],
            [
             0.7,
             "#b8e186"
            ],
            [
             0.8,
             "#7fbc41"
            ],
            [
             0.9,
             "#4d9221"
            ],
            [
             1,
             "#276419"
            ]
           ],
           "sequential": [
            [
             0,
             "#0d0887"
            ],
            [
             0.1111111111111111,
             "#46039f"
            ],
            [
             0.2222222222222222,
             "#7201a8"
            ],
            [
             0.3333333333333333,
             "#9c179e"
            ],
            [
             0.4444444444444444,
             "#bd3786"
            ],
            [
             0.5555555555555556,
             "#d8576b"
            ],
            [
             0.6666666666666666,
             "#ed7953"
            ],
            [
             0.7777777777777778,
             "#fb9f3a"
            ],
            [
             0.8888888888888888,
             "#fdca26"
            ],
            [
             1,
             "#f0f921"
            ]
           ],
           "sequentialminus": [
            [
             0,
             "#0d0887"
            ],
            [
             0.1111111111111111,
             "#46039f"
            ],
            [
             0.2222222222222222,
             "#7201a8"
            ],
            [
             0.3333333333333333,
             "#9c179e"
            ],
            [
             0.4444444444444444,
             "#bd3786"
            ],
            [
             0.5555555555555556,
             "#d8576b"
            ],
            [
             0.6666666666666666,
             "#ed7953"
            ],
            [
             0.7777777777777778,
             "#fb9f3a"
            ],
            [
             0.8888888888888888,
             "#fdca26"
            ],
            [
             1,
             "#f0f921"
            ]
           ]
          },
          "colorway": [
           "#636efa",
           "#EF553B",
           "#00cc96",
           "#ab63fa",
           "#FFA15A",
           "#19d3f3",
           "#FF6692",
           "#B6E880",
           "#FF97FF",
           "#FECB52"
          ],
          "font": {
           "color": "#2a3f5f"
          },
          "geo": {
           "bgcolor": "white",
           "lakecolor": "white",
           "landcolor": "#E5ECF6",
           "showlakes": true,
           "showland": true,
           "subunitcolor": "white"
          },
          "hoverlabel": {
           "align": "left"
          },
          "hovermode": "closest",
          "mapbox": {
           "style": "light"
          },
          "paper_bgcolor": "white",
          "plot_bgcolor": "#E5ECF6",
          "polar": {
           "angularaxis": {
            "gridcolor": "white",
            "linecolor": "white",
            "ticks": ""
           },
           "bgcolor": "#E5ECF6",
           "radialaxis": {
            "gridcolor": "white",
            "linecolor": "white",
            "ticks": ""
           }
          },
          "scene": {
           "xaxis": {
            "backgroundcolor": "#E5ECF6",
            "gridcolor": "white",
            "gridwidth": 2,
            "linecolor": "white",
            "showbackground": true,
            "ticks": "",
            "zerolinecolor": "white"
           },
           "yaxis": {
            "backgroundcolor": "#E5ECF6",
            "gridcolor": "white",
            "gridwidth": 2,
            "linecolor": "white",
            "showbackground": true,
            "ticks": "",
            "zerolinecolor": "white"
           },
           "zaxis": {
            "backgroundcolor": "#E5ECF6",
            "gridcolor": "white",
            "gridwidth": 2,
            "linecolor": "white",
            "showbackground": true,
            "ticks": "",
            "zerolinecolor": "white"
           }
          },
          "shapedefaults": {
           "line": {
            "color": "#2a3f5f"
           }
          },
          "ternary": {
           "aaxis": {
            "gridcolor": "white",
            "linecolor": "white",
            "ticks": ""
           },
           "baxis": {
            "gridcolor": "white",
            "linecolor": "white",
            "ticks": ""
           },
           "bgcolor": "#E5ECF6",
           "caxis": {
            "gridcolor": "white",
            "linecolor": "white",
            "ticks": ""
           }
          },
          "title": {
           "x": 0.05
          },
          "xaxis": {
           "automargin": true,
           "gridcolor": "white",
           "linecolor": "white",
           "ticks": "",
           "title": {
            "standoff": 15
           },
           "zerolinecolor": "white",
           "zerolinewidth": 2
          },
          "yaxis": {
           "automargin": true,
           "gridcolor": "white",
           "linecolor": "white",
           "ticks": "",
           "title": {
            "standoff": 15
           },
           "zerolinecolor": "white",
           "zerolinewidth": 2
          }
         }
        },
        "title": {
         "text": "3d TSNE Plot for Topic Model"
        },
        "width": 900
       }
      },
      "text/html": [
       "<div>                            <div id=\"98a18786-5865-4c18-9a73-f54a2abdd927\" class=\"plotly-graph-div\" style=\"height:800px; width:900px;\"></div>            <script type=\"text/javascript\">                require([\"plotly\"], function(Plotly) {                    window.PLOTLYENV=window.PLOTLYENV || {};                                    if (document.getElementById(\"98a18786-5865-4c18-9a73-f54a2abdd927\")) {                    Plotly.newPlot(                        \"98a18786-5865-4c18-9a73-f54a2abdd927\",                        [{\"hovertemplate\": \"Dominant_Topic=Topic 0<br>0=%{x}<br>1=%{y}<br>2=%{z}<extra></extra>\", \"legendgroup\": \"Topic 0\", \"marker\": {\"color\": \"#636efa\", \"opacity\": 0.7, \"symbol\": \"circle\"}, \"mode\": \"markers\", \"name\": \"Topic 0\", \"scene\": \"scene\", \"showlegend\": true, \"type\": \"scatter3d\", \"x\": [1.0580193996429443, 0.9098295569419861, 3.4550561904907227, 5.377739906311035, -0.2101183533668518, 2.427532434463501, 3.241140842437744, 0.9547169804573059, 1.0779813528060913, 1.5349774360656738, 0.9360617399215698, 1.5886629819869995, 3.4076101779937744, 0.9649884700775146, 1.3173483610153198, 1.3628411293029785, 1.1118872165679932, -1.2214277982711792, 0.28083983063697815, 1.6937156915664673, 4.176900863647461, -0.4911951720714569, -0.8699113726615906, 1.0333524942398071, 0.05649186298251152, 0.8807942867279053, 1.0984835624694824, 1.6069073677062988, 3.937528610229492, 4.959471702575684, -2.939169406890869, 0.9360556602478027, -0.20883908867835999, 0.7769414186477661, 0.879672646522522, 0.8807727694511414, 1.159394383430481, 1.6937077045440674, -0.06387607753276825, 1.519400954246521, 1.4358478784561157, 1.510221004486084, 3.2799806594848633, -1.3071339130401611, -0.20883898437023163, 0.4222809672355652, 1.7103132009506226, -4.110510349273682, 3.9500811100006104, -7.075294017791748, -0.20881672203540802, -0.49279648065567017, 6.499817848205566, -7.075284481048584, 3.937704086303711, -0.4900237023830414, 0.42095842957496643, 3.07647967338562, 1.453977108001709, 0.5298656821250916, 6.52942419052124, 5.819243907928467, 3.937528610229492, 0.8796682953834534, -0.2092069387435913, 0.39963874220848083, 0.05649181455373764, -0.35631293058395386, -1.2450007200241089], \"y\": [-5.356180191040039, -4.896671295166016, -4.070879936218262, -1.6256258487701416, -2.3667590618133545, -4.7758708000183105, -5.969960689544678, -4.6850996017456055, -6.043230056762695, -3.1816742420196533, -6.195733070373535, -6.417948246002197, -6.691090106964111, -4.686860084533691, -4.831137180328369, -4.609440803527832, -5.159852027893066, -6.256989479064941, -1.755311369895935, 9.20701789855957, -3.9140679836273193, -5.706254482269287, -5.83707332611084, -5.027651309967041, -6.65785551071167, -0.01853473111987114, -5.367346286773682, -5.284743785858154, 1.1089972257614136, -6.309415817260742, 6.8882060050964355, -6.1957197189331055, -2.3668689727783203, -1.5148357152938843, -0.018960703164339066, -0.018575258553028107, -5.475827217102051, 9.207012176513672, -4.268653869628906, -5.27166223526001, -3.5100109577178955, -5.086847305297852, -6.461111545562744, 0.6689488291740417, -2.3668689727783203, 8.953195571899414, -7.017222881317139, 3.784510374069214, -6.796125411987305, 4.944146156311035, -2.366898536682129, -5.7075300216674805, -8.132262229919434, 4.944124698638916, 1.1089673042297363, -5.705837726593018, -6.566407203674316, -6.781459808349609, -4.747747421264648, -2.0235695838928223, -5.762368679046631, -5.3652448654174805, 1.1089972257614136, -0.018995875492691994, -2.366652250289917, -6.619200706481934, -6.657855987548828, -4.497312068939209, 0.6917240619659424], \"z\": [-2.4483838081359863, -2.504493474960327, -2.659421682357788, -5.851387977600098, 1.7003368139266968, -1.929930567741394, -4.12095832824707, -2.354836940765381, -8.398477554321289, -2.572606086730957, -8.346320152282715, -2.5708327293395996, 0.7212197780609131, -1.946363091468811, -1.7081480026245117, -2.0108909606933594, -2.6345064640045166, -0.5748006701469421, 0.2473672777414322, -4.120291709899902, -5.0653815269470215, -2.030209541320801, -2.0941145420074463, -1.6943892240524292, -3.2090065479278564, -1.217047095298767, -1.8268519639968872, -2.254699230194092, 7.607369899749756, -0.31920844316482544, 7.809857368469238, -8.346303939819336, 1.698697566986084, 2.8932836055755615, -1.216508150100708, -1.2170192003250122, -1.994756817817688, -4.120311260223389, -3.928215503692627, -1.8442710638046265, -8.724258422851562, -2.5486817359924316, 2.2364628314971924, -2.3116486072540283, 1.698697566986084, -4.86393928527832, -0.846528172492981, -4.0033040046691895, 0.34669673442840576, 8.84650993347168, 1.6986833810806274, -2.0304245948791504, -2.3900911808013916, 8.846525192260742, 7.607560157775879, -2.030195474624634, -7.952733993530273, -3.74432373046875, -2.457101345062256, 0.19319747388362885, -1.6020214557647705, -3.295593023300171, 7.607370376586914, -1.2164959907531738, 1.6991008520126343, -7.800666332244873, -3.2090065479278564, -1.8223398923873901, -2.3528084754943848]}, {\"hovertemplate\": \"Dominant_Topic=Topic 1<br>0=%{x}<br>1=%{y}<br>2=%{z}<extra></extra>\", \"legendgroup\": \"Topic 1\", \"marker\": {\"color\": \"#EF553B\", \"opacity\": 0.7, \"symbol\": \"circle\"}, \"mode\": \"markers\", \"name\": \"Topic 1\", \"scene\": \"scene\", \"showlegend\": true, \"type\": \"scatter3d\", \"x\": [3.1852738857269287, 4.607177257537842, 5.438612461090088, 3.944091558456421, 3.9393672943115234, 4.89872407913208, -0.9189642667770386, 3.4284727573394775, 3.206787109375, 3.3207314014434814, 3.1756486892700195, -0.19784463942050934, 2.61812686920166, 3.2972917556762695, 0.22206877171993256, 3.3133513927459717, 3.269381523132324, 4.55443811416626, 2.168156862258911, -0.19821470975875854, 3.3884389400482178, -0.8515356183052063, 6.233586311340332, 3.685776710510254, 4.060497760772705, 4.0110321044921875, 3.9977431297302246, 4.598248481750488, -0.19821418821811676, 3.678675651550293, 4.090259552001953, 4.461047172546387, 4.057090759277344, -0.9189919233322144, 2.614495277404785, 6.233535289764404, 4.652100086212158, 6.233591556549072, 2.8849940299987793, 4.709976673126221, 5.438612461090088, 2.858854055404663, 3.5512773990631104, 4.609033107757568, 4.472185134887695, 3.835414171218872, 3.7018191814422607, 1.9574337005615234, 2.6181862354278564, 3.8417809009552, 4.335192680358887, 3.412869930267334, 5.3212361335754395, 3.013552665710449, 2.964266538619995, 3.2826218605041504], \"y\": [13.28498363494873, 11.6828031539917, 13.182334899902344, 11.265843391418457, 11.857669830322266, 9.456992149353027, 4.447564125061035, 10.96292781829834, 11.912731170654297, 11.52680778503418, 11.433572769165039, 8.878886222839355, 10.963043212890625, 13.509323120117188, 11.816682815551758, 10.615001678466797, 8.922677993774414, 10.863629341125488, 9.542733192443848, 8.878777503967285, 12.113584518432617, 11.473433494567871, 9.401825904846191, 13.509415626525879, 10.718369483947754, 10.630188941955566, 10.427881240844727, 13.31737995147705, 8.878785133361816, 12.07735824584961, 11.082195281982422, 11.597879409790039, 12.085135459899902, 4.4471917152404785, 12.13833236694336, 9.401840209960938, 13.415496826171875, 9.401812553405762, 11.489184379577637, 9.588306427001953, 13.182334899902344, 11.101522445678711, 10.940783500671387, 11.105812072753906, 11.264275550842285, 11.555779457092285, 13.94748306274414, 13.018556594848633, 10.963155746459961, 11.994664192199707, 11.868224143981934, 10.570106506347656, 12.984481811523438, 10.910116195678711, 11.758502006530762, 9.233673095703125], \"z\": [-3.769263505935669, -5.943149566650391, -7.098139762878418, -5.0888895988464355, -5.271421432495117, -8.111456871032715, -6.255303382873535, -6.70244836807251, -5.631308078765869, -5.147910118103027, -6.647552490234375, -5.472290992736816, -8.826709747314453, -2.8208770751953125, -0.4559224843978882, -6.345489025115967, -3.9471888542175293, -5.739070892333984, -3.79001784324646, -5.471984386444092, -6.326700210571289, 0.05897270515561104, -8.153606414794922, -5.594876289367676, -6.382931232452393, -5.445889472961426, -6.048630714416504, -3.7195658683776855, -5.471983909606934, -5.675928115844727, -6.760124683380127, -6.532043933868408, -6.18094539642334, -6.255465507507324, -8.521269798278809, -8.153648376464844, -3.5114800930023193, -8.153608322143555, -5.579301357269287, -7.5462446212768555, -7.098140239715576, -6.198976039886475, -5.239421844482422, -6.227524280548096, -5.350315570831299, -6.885287761688232, -5.628198623657227, -6.287852764129639, -8.826635360717773, -6.638921737670898, -5.686140060424805, -5.7896904945373535, -4.197699069976807, -5.67249059677124, -6.27362060546875, -9.379009246826172]}, {\"hovertemplate\": \"Dominant_Topic=Topic 10<br>0=%{x}<br>1=%{y}<br>2=%{z}<extra></extra>\", \"legendgroup\": \"Topic 10\", \"marker\": {\"color\": \"#00cc96\", \"opacity\": 0.7, \"symbol\": \"circle\"}, \"mode\": \"markers\", \"name\": \"Topic 10\", \"scene\": \"scene\", \"showlegend\": true, \"type\": \"scatter3d\", \"x\": [-1.0889216661453247, -0.7966775894165039, -0.42862504720687866, -1.1420211791992188, -3.509136915206909, -0.7905348539352417, 0.04159000143408775, -0.42862504720687866, -0.9353391528129578, -0.4922751784324646, -0.7928524613380432, 0.8988322615623474, -0.15162912011146545, -0.9353391528129578, 0.23266449570655823, -0.8066763281822205, 0.045199595391750336, 0.23227515816688538, -1.7100038528442383, -0.7887977957725525, -1.7100039720535278, -0.5536807179450989, 0.29234251379966736, 0.03372805565595627, -0.5095458030700684, -3.509136915206909, -0.4026491343975067, -0.7899346351623535, -0.0999007299542427, -0.7887970805168152, -0.05489204078912735, 1.0588581562042236], \"y\": [-7.454742908477783, -7.867640972137451, -7.253659248352051, -9.020545959472656, -6.6942033767700195, -8.713120460510254, -7.785083293914795, -7.253659248352051, -9.601232528686523, -6.136268138885498, -7.446895122528076, -9.26165771484375, -7.469377040863037, -9.601232528686523, -9.478046417236328, -7.585328102111816, -7.827303886413574, -9.478073120117188, -9.093505859375, -8.711660385131836, -9.093505859375, -8.070561408996582, -7.961001396179199, -7.8739705085754395, -7.627318382263184, -6.6942033767700195, -8.103689193725586, -8.711316108703613, -7.283780097961426, -8.71165943145752, -7.624203205108643, -6.9533233642578125], \"z\": [-13.906842231750488, -12.324482917785645, -12.636343002319336, -14.670086860656738, -11.444392204284668, -13.769193649291992, -12.602713584899902, -12.636343002319336, -10.360161781311035, -11.096653938293457, -12.25509262084961, -12.316381454467773, -12.762580871582031, -10.360161781311035, -12.892014503479004, -12.520659446716309, -12.55536937713623, -12.892535209655762, -13.842316627502441, -13.765460968017578, -13.842316627502441, -12.204784393310547, -13.9921293258667, -12.123686790466309, -11.900686264038086, -11.444398880004883, -12.200051307678223, -13.766687393188477, -12.192070960998535, -13.765459060668945, -11.972488403320312, -12.799116134643555]}, {\"hovertemplate\": \"Dominant_Topic=Topic 11<br>0=%{x}<br>1=%{y}<br>2=%{z}<extra></extra>\", \"legendgroup\": \"Topic 11\", \"marker\": {\"color\": \"#ab63fa\", \"opacity\": 0.7, \"symbol\": \"circle\"}, \"mode\": \"markers\", \"name\": \"Topic 11\", \"scene\": \"scene\", \"showlegend\": true, \"type\": \"scatter3d\", \"x\": [-2.90871000289917, -2.9419634342193604, -3.8319380283355713, -2.9643189907073975, -2.699124813079834, -2.932260274887085, -2.6105425357818604, -2.9567549228668213, -4.366703033447266, -3.8319380283355713, -1.6755107641220093, -3.722750425338745, -3.117912530899048, -3.8319382667541504, -4.5161662101745605, -0.5135518312454224, -3.4791176319122314, -3.800995111465454, -3.8319380283355713, -4.5161662101745605, -2.3713765144348145, -4.444385051727295, -3.8319382667541504, -2.0185792446136475, -3.83152437210083, -2.770280361175537, -1.1600837707519531, -2.325988292694092, -3.1921072006225586, -2.567035675048828, -3.8010120391845703, -3.8319382667541504, -2.679460048675537, -2.3930745124816895], \"y\": [-0.2516055405139923, 0.27112284302711487, 2.542776584625244, -0.44882917404174805, -1.362007975578308, -0.20037853717803955, -0.441387414932251, 0.4468905031681061, -0.3455999493598938, 2.542776346206665, 1.3354452848434448, 1.7348196506500244, 0.32900434732437134, 2.542776584625244, 0.6022251844406128, -5.864184379577637, -3.042602300643921, 3.0896999835968018, 2.542776346206665, 0.6022252440452576, 0.04389766603708267, 0.46183454990386963, 2.542776584625244, 1.6301409006118774, 2.5421979427337646, 0.2958592474460602, -1.0556821823120117, -0.17974750697612762, -0.16944262385368347, 0.0662180632352829, 3.0897159576416016, 2.542776584625244, 0.11937366425991058, 0.14064830541610718], \"z\": [4.312694072723389, 3.5588951110839844, 0.939113438129425, 3.92813777923584, 5.493542671203613, 3.5070135593414307, 3.7859044075012207, 4.006226062774658, 3.3651773929595947, 0.9391137957572937, 4.302691459655762, 1.8492155075073242, 3.8071115016937256, 0.9391132593154907, 5.211073398590088, -10.302311897277832, 3.5144498348236084, 5.448818206787109, 0.9391137957572937, 5.211073875427246, 4.174971580505371, 5.13660192489624, 0.9391132593154907, 3.8436710834503174, 0.9388907551765442, 4.319522857666016, 5.174080848693848, 3.966491460800171, 4.025389671325684, 3.4826109409332275, 5.448818683624268, 0.9391132593154907, 4.400092124938965, 3.661006450653076]}, {\"hovertemplate\": \"Dominant_Topic=Topic 12<br>0=%{x}<br>1=%{y}<br>2=%{z}<extra></extra>\", \"legendgroup\": \"Topic 12\", \"marker\": {\"color\": \"#FFA15A\", \"opacity\": 0.7, \"symbol\": \"circle\"}, \"mode\": \"markers\", \"name\": \"Topic 12\", \"scene\": \"scene\", \"showlegend\": true, \"type\": \"scatter3d\", \"x\": [2.5046639442443848, 0.14427153766155243, -6.34921932220459, -14.238336563110352, -4.138019561767578, 3.764207124710083, 5.534197807312012, -3.1857945919036865, 3.067023277282715, 0.7407935857772827, 0.6588847041130066, -5.428513050079346, 5.630138397216797, 2.9554991722106934, 9.779777526855469, 2.2517762184143066, -7.8189167976379395, -4.338111400604248, -5.968427658081055, 3.1360366344451904, -6.099628925323486, 13.485990524291992, 2.717588424682617, -7.193953037261963, -11.650494575500488, 2.219536066055298, -7.4875922203063965, -7.685532569885254, 3.066053628921509, -4.805922508239746, -8.377296447753906, 1.562264323234558, 1.1124632358551025, 1.7235113382339478, -2.4328842163085938, 3.675877094268799, 2.4486374855041504, 3.3374006748199463, 3.3401410579681396, 1.5519795417785645, -5.355567455291748, -1.1859289407730103, 3.4465768337249756, -4.089042663574219, -3.1415317058563232, -4.848080158233643, -13.476506233215332, -2.83353328704834, -7.291138172149658, -8.2597017288208, -6.114083766937256, -0.8081573843955994, -12.336376190185547, 9.063725471496582, -7.066704273223877, 3.181684970855713, -5.026150226593018, 1.2227286100387573, -7.450684547424316, 14.69404411315918, -12.648324966430664, -12.305418968200684, -10.660422325134277, 1.05838143825531, 4.887903213500977, -13.476412773132324, -0.8838150501251221, -6.853180408477783, -2.915972948074341, -0.14731891453266144, -2.4865989685058594, 0.4991621673107147, 3.2329304218292236, -2.4870619773864746, 1.01626455783844, 11.070430755615234, -4.261347770690918, -11.978883743286133, 2.3560919761657715, -6.298276901245117, -5.256958961486816, -9.421075820922852, -6.6518354415893555, -3.2965621948242188, -5.497944355010986, -14.238686561584473, -14.238368034362793, -0.9542112946510315, 5.276578426361084, -5.984405517578125, 1.7134135961532593, -5.1436076164245605, 6.381920337677002, 10.509159088134766, -4.338064670562744, 8.707911491394043, 3.446552038192749, -3.073296546936035, 2.83732008934021, 3.1471376419067383, -10.347039222717285, -10.865262031555176, 4.438704967498779, -6.282331943511963, -8.614398002624512, -8.12318229675293, 7.003896713256836, -6.390164375305176, -4.306245803833008, -10.68005084991455, -6.3628458976745605, 3.0732452869415283, 2.0914034843444824, -12.588915824890137, 8.673408508300781, 10.212417602539062, -10.29541301727295, -6.986541748046875, 2.35823655128479, 2.7639265060424805, 1.2450613975524902, -4.8189802169799805, -0.9538666009902954, 6.185047149658203, 10.751052856445312, 10.896424293518066, 13.397844314575195, -9.772028923034668, -6.301339149475098, 2.3539905548095703, 11.025968551635742, 1.4072062969207764, 10.308406829833984, 14.694074630737305, 2.201669931411743, -4.0894694328308105, -13.476472854614258, 3.700516700744629, -1.1459150314331055, 2.7690274715423584, 9.108126640319824, -4.011801242828369, 0.505957841873169, 14.694032669067383, 10.48299503326416, 3.066596269607544, 12.828369140625, -10.302178382873535, 2.053501844406128, 5.739109039306641, -0.7036831378936768, -2.8652985095977783, 0.9198985695838928, -4.089084625244141, 2.3539798259735107, 2.4488744735717773, -4.089023590087891, 11.250625610351562, -5.458141326904297, 2.2794179916381836, -6.968394756317139, -4.338118076324463, -6.493837356567383, -4.947673320770264, -3.1415112018585205, 2.1830625534057617, 1.530056118965149, -0.42736732959747314, 1.8418362140655518, 7.495417594909668, 4.745628356933594, -5.5740251541137695, -9.148365020751953, -0.427350789308548, -3.59053111076355, -0.9875569343566895, -5.917283058166504, -4.089021682739258, -6.662424087524414, 9.734307289123535, -7.20422887802124, 4.127091407775879, -14.843403816223145, 0.8103780746459961, -6.21457052230835, -5.958771705627441, 3.1737163066864014, -0.3923235535621643, 5.854727745056152, 6.3818840980529785, 8.51109790802002, -6.148014068603516, 10.865564346313477, -12.588815689086914, 4.905240535736084, 3.270583152770996, 11.026505470275879, 6.7230329513549805, 2.2517292499542236, -1.466636300086975, -10.400995254516602, 3.0657806396484375, 1.2876675128936768, 4.4900336265563965, 4.224662780761719, -7.027657508850098, 8.510735511779785, 8.688620567321777, -1.4946742057800293, -6.986617565155029, -3.442338228225708, 9.912331581115723, -4.995162010192871, 2.449465274810791, -4.219816207885742, -9.281881332397461, 2.866847038269043, 2.0783605575561523, -6.990075588226318, 9.38011646270752, -8.328365325927734, -5.888123512268066, 4.9400315284729, -0.353289395570755, -0.9542402029037476, 4.914206027984619, 2.306109666824341, -11.843574523925781, 1.6202470064163208, -8.464320182800293, -6.270862102508545, -3.005789279937744, 4.92625617980957, -6.986541748046875, 2.0563347339630127, -8.229581832885742, -5.923873424530029, -9.600831985473633, 6.013355731964111, 11.482390403747559, 8.688612937927246, -6.283360958099365, 2.8487305641174316, 8.47693157196045, 0.8516812324523926, 6.052613258361816, -4.2200212478637695, -4.674261093139648, -5.420356750488281, -1.1504911184310913, -7.687606334686279, -10.144699096679688, -5.958902359008789, -5.685446262359619, -4.95313024520874, -8.768372535705566, -0.3532852530479431, 3.194462776184082, -11.891618728637695, 0.0056229280307888985, -8.532552719116211, 1.0638303756713867, -9.706646919250488, 10.366948127746582, 8.785934448242188, 9.890534400939941, -11.796412467956543, 2.699873208999634, 3.5173745155334473, 2.9108455181121826, 2.705416202545166, -10.177785873413086, 11.241497039794922, -8.439064025878906, 0.06772109866142273, -0.5300372838973999, 2.3546864986419678, 3.5483884811401367, -0.9542372226715088, -0.3532872796058655, -0.9694554209709167, 11.078619956970215, -6.714444637298584, -5.230937957763672, -10.9295654296875, 6.435922145843506, -1.6866848468780518, -9.819524765014648, -10.449505805969238, 10.176911354064941, 2.3539323806762695, 10.4262113571167, -6.402121067047119, 7.891881942749023, 3.833481788635254, 5.445136070251465, 6.184216022491455, -7.992575168609619, 5.516820907592773, 5.51682186126709, 7.889444351196289, -5.1082940101623535, -0.353287935256958, 1.6568931341171265, 2.5548183917999268, 2.9033286571502686, -10.544410705566406, 6.052613258361816, 2.8823153972625732, 3.183894634246826, 3.1506948471069336, 3.0657975673675537, -6.606020450592041, 7.094001293182373, 2.28052020072937, 2.4490456581115723, -4.121792793273926, 2.8119287490844727, 3.0491349697113037, -14.245635032653809, -6.504946708679199, 3.5285303592681885, 1.9922943115234375, -7.674310684204102, -6.696993827819824, -4.423829555511475, -9.712617874145508, -8.096284866333008, -5.732490062713623, -10.665056228637695, -6.37239408493042, -9.818329811096191, -7.318778991699219, -6.986692905426025, 1.600722074508667, 2.7355611324310303, -8.263298034667969, -7.280663967132568, -8.605859756469727, -6.660144329071045, -5.795621871948242, 8.839800834655762, -5.602033615112305, -4.4287333488464355, -6.465873718261719, 6.958189487457275, -11.307332992553711, -12.305418968200684, 4.052176475524902, -7.594228267669678, 2.9298861026763916, -0.7490205764770508, -12.305418968200684, -6.777278423309326, -5.936455726623535, -0.952463686466217, -14.238308906555176, -0.7964906096458435, -6.662424564361572, -7.8824262619018555, -1.436626672744751, 5.63645076751709, 2.650214195251465, 3.489199161529541, -1.829466700553894, 5.975715160369873, -13.440875053405762, -10.998191833496094, -5.804999351501465, 9.653724670410156, -9.559622764587402, -2.855720043182373, 2.2517783641815186, 3.315453290939331, -12.227044105529785, -12.777591705322266, -1.533271074295044, 2.9108619689941406, 3.3293135166168213, -6.0024027824401855, 0.2907012403011322, -6.986377716064453, 1.7942092418670654, 9.902113914489746, -1.1952509880065918, 6.853498935699463, -6.551140308380127, 2.2614128589630127, -11.79708194732666, 8.688615798950195, 2.8387837409973145, 1.361892819404602, -10.609125137329102, -5.248589515686035, -13.792680740356445, 1.4700440168380737, -1.722447395324707, -5.739231586456299, -13.477280616760254, -4.306206703186035, -5.941391944885254, -12.60938835144043, 0.7047415375709534, 8.81081485748291, 2.5018343925476074, -7.361372947692871, -8.156021118164062, 2.4649806022644043, 7.690190315246582, -2.1816394329071045, -8.268199920654297, 3.717839002609253, 5.86429500579834, 5.2961201667785645, -12.631258010864258, -4.670510292053223, -2.229006290435791, -0.6413437724113464, 10.827823638916016, -9.818398475646973, 5.641461372375488, -12.561751365661621, -4.089087963104248, 1.3152650594711304, 6.9581756591796875, -8.023177146911621, -12.227044105529785, -10.114672660827637, 9.380244255065918, -3.151453971862793, 3.4465808868408203, 9.216133117675781, -9.058134078979492, -6.667166233062744, -13.792464256286621, 1.2088263034820557, 1.488413691520691, -2.4809117317199707, 0.7602053284645081, -6.662424564361572, 6.7236409187316895, -0.5036143660545349, -9.495218276977539, -2.682983636856079, -12.1305513381958, 4.189614295959473, 1.5448697805404663, -4.858810901641846, 1.667438268661499, -4.089504241943359, 3.4467170238494873, -14.227335929870605, -0.7963811755180359, -3.5300567150115967, -11.3338041305542, 5.679781913757324, -3.4957687854766846, 3.548403024673462, -3.138925313949585, -7.652470111846924, -6.958227634429932, -6.6441850662231445, 4.835755348205566, 10.308295249938965, 2.4858360290527344, -7.281282424926758, -12.389642715454102, 1.257611632347107, 4.195988655090332, -0.7490324974060059, -6.873185157775879, 3.4011788368225098, -6.937992572784424, 12.27292537689209, -8.77375602722168, -12.377278327941895, 3.492673873901367, 11.07043743133545, -14.778776168823242, 1.7159321308135986, -14.923683166503906, -1.2499399185180664, -3.7191920280456543, 10.951526641845703, 2.4939608573913574, -8.029088020324707, -2.682983875274658, 5.641389846801758, 6.381829738616943, 1.7739042043685913, -0.46382850408554077, -6.662424564361572, -2.480898857116699, 2.6917388439178467, 9.862417221069336, -9.911432266235352, -7.716613292694092, 2.449223756790161, 10.683454513549805, 1.0117368698120117, -0.4273936152458191, 2.723520278930664, 2.0120768547058105, -8.39841365814209, 5.64146089553833, 4.287174701690674, -12.334698677062988, -9.495246887207031, 3.0681827068328857, -12.631505966186523, -8.933416366577148, 6.381834030151367, 3.115297794342041, -13.476639747619629, -11.648515701293945, 3.683124542236328, 9.834824562072754, 5.899779796600342, 6.573581218719482, 3.5577616691589355, -5.1307148933410645, 5.596972465515137, -4.330520153045654, 5.818785190582275, 7.165657997131348, -5.401122570037842, -0.7466696500778198, 6.381833553314209, -6.667861461639404, -4.135081768035889, 3.1087491512298584, 3.683133602142334, -6.1928253173828125, 5.596975326538086, 7.690425395965576, 10.32990837097168, 5.26303243637085, -7.017927169799805, 2.5785865783691406, 10.042634963989258, -7.003482341766357, -5.823660850524902, 4.60062313079834, -2.2184388637542725, 2.6051456928253174, 6.255290985107422, -4.3062520027160645, 5.884087085723877, -12.775863647460938, -12.627055168151855, -12.635818481445312, -2.9927971363067627, -3.1857945919036865, 0.30542734265327454, -9.615966796875, -9.495223999023438, 9.898192405700684, 2.741006374359131, 3.232945680618286, 8.135025024414062, 2.444767951965332, 0.6062373518943787, -5.361121654510498, 6.396418571472168, 0.7965471148490906, -0.3532841205596924, 2.0113773345947266, -5.99138879776001, -4.0114827156066895, -5.27386999130249, 3.1106626987457275, 4.189207553863525, -6.324496269226074, -3.112306833267212, -9.267372131347656, 2.097088098526001, -9.495201110839844, -7.399546146392822, 8.688589096069336, -13.47642707824707, -9.464632987976074, 4.284420967102051, 8.810897827148438, 9.632813453674316, 1.0303322076797485, -14.227377891540527, 9.80735969543457, -11.69450569152832, -9.899466514587402, 4.60062313079834, 8.688596725463867, -13.792464256286621, 1.1391525268554688, -6.491464614868164, -0.7963811755180359, -3.5300567150115967, 1.2025322914123535, 3.066932201385498, 2.1298670768737793, -3.141578435897827, -7.450671672821045, 6.756503582000732, -6.968707084655762, -6.0064239501953125, -13.476632118225098, 7.6716694831848145, 5.739105224609375, 1.894523024559021, 9.91872787475586, 2.0211732387542725, -11.307329177856445, -5.925685405731201, -10.07500171661377, 9.710195541381836, 1.6477077007293701, -6.863226413726807, -4.362219333648682, 4.887903213500977, -0.039555810391902924, -10.771629333496094, 1.081426739692688, -0.6815531253814697, 3.0086495876312256, 3.5713601112365723, 0.675486147403717, -12.245420455932617, 8.83236026763916, -4.582151889801025, -6.866061687469482, -8.243961334228516, 3.781482219696045, -4.336803913116455, 10.257282257080078, -0.7494806051254272, -6.663025856018066, -12.467683792114258, 2.423508644104004, -7.230226993560791, 2.8048477172851562, 9.283846855163574, 5.987712383270264, 3.346526622772217, -12.774956703186035, 3.967392921447754, 6.5743794441223145, -10.294697761535645, 0.7001868486404419, 4.6937150955200195, 2.8381741046905518, 11.07040786743164, 11.070394515991211, 2.5760409832000732, 11.276947975158691, -11.508864402770996, 0.3298604190349579, 10.442292213439941, -9.022283554077148, 3.679720640182495, -5.369950771331787, 2.8117401599884033, -12.779582023620605, 3.6547491550445557, 12.857046127319336, -2.7509806156158447, -4.338110446929932, -4.318990707397461, 1.2010999917984009, -0.27173447608947754, 4.778482913970947, 8.328412055969238], \"y\": [-20.91327667236328, -3.3415822982788086, 15.83580493927002, 0.5630683302879333, -0.8454923033714294, -17.95280647277832, -18.724393844604492, -9.618287086486816, -3.992757797241211, -18.539913177490234, 2.3599839210510254, 16.32392120361328, -20.66604232788086, 0.19971705973148346, -16.607500076293945, 7.717230319976807, -12.18259048461914, -1.2302610874176025, -14.859179496765137, -9.963190078735352, 15.310531616210938, 3.21242356300354, -16.946598052978516, -12.707715034484863, 7.06642484664917, -19.146926879882812, 13.030081748962402, -13.767257690429688, -3.9918580055236816, 15.809867858886719, -13.256930351257324, -2.554129123687744, 2.4303338527679443, 2.499504804611206, 1.1129637956619263, -19.07081413269043, 8.109819412231445, -7.688769817352295, -16.570762634277344, 2.2418313026428223, 16.685754776000977, 3.4667739868164062, 3.664303779602051, 5.048043251037598, 13.718433380126953, -12.495195388793945, 7.957434177398682, 2.5754175186157227, -16.521947860717773, -15.942179679870605, 4.428728103637695, 7.9547038078308105, 1.4352096319198608, -17.05855941772461, -14.514643669128418, -9.685283660888672, -15.634852409362793, 2.83766508102417, 13.055139541625977, 2.7475593090057373, -0.0413753017783165, 0.15468740463256836, 2.2291135787963867, 2.5678298473358154, -22.193119049072266, 7.957464694976807, 3.4859914779663086, 16.48487663269043, 0.9567362070083618, 1.0584509372711182, 3.125422954559326, -19.423864364624023, -11.795433044433594, 3.125345468521118, 1.9552756547927856, 3.08754563331604, 13.618642807006836, 0.7415611743927002, -19.68402671813965, -13.754426002502441, 16.621999740600586, -13.048249244689941, 16.989473342895508, 2.943096876144409, -14.4663667678833, 0.563366711139679, 0.5632596015930176, 14.840526580810547, -17.803504943847656, 16.374265670776367, 2.5104057788848877, -14.829057693481445, 1.1575684547424316, -0.16140682995319366, -1.2302435636520386, -17.059370040893555, 3.6642773151397705, 2.424222230911255, -10.367424964904785, 1.3366507291793823, 1.7031675577163696, 2.7339885234832764, -17.359355926513672, 16.706323623657227, 1.533051609992981, 1.5711400508880615, -16.29013442993164, -13.314043998718262, 5.403378486633301, 2.680170774459839, 16.98918914794922, -21.049232482910156, 7.571291923522949, 8.50058650970459, 0.3902597427368164, -1.179248332977295, -1.1730656623840332, 4.565402507781982, 0.7678101062774658, -18.174514770507812, -21.030242919921875, 13.122305870056152, -1.4427958726882935, -16.85888671875, -0.30931973457336426, -0.845190703868866, 3.5945136547088623, 2.487539052963257, -11.87998104095459, -22.448974609375, 2.2149486541748047, -3.5021283626556396, -5.169630527496338, 2.7474985122680664, -17.73390769958496, 5.048174858093262, 7.9574432373046875, 3.967862606048584, 3.164201498031616, -9.69234848022461, -16.305347442626953, 3.044006586074829, -20.03044319152832, 2.7476253509521484, -1.0301295518875122, -3.992244243621826, -0.13799698650836945, 1.9846348762512207, -17.25162696838379, -5.4911789894104, 3.533304452896118, 2.315918207168579, -20.2623233795166, 5.0480570793151855, -22.448938369750977, 8.109646797180176, 5.047985076904297, -1.1000983715057373, -15.605588912963867, -18.467178344726562, -13.596441268920898, -1.230278491973877, 16.532602310180664, 15.949556350708008, 13.718480110168457, -18.073171615600586, -19.228740692138672, -2.425826072692871, -18.171110153198242, -16.897573471069336, -17.779878616333008, 15.431138038635254, -12.116605758666992, -2.4258625507354736, -6.614063262939453, 0.8762944936752319, 15.815350532531738, 5.047985553741455, 5.393195152282715, -16.767480850219727, -12.095327377319336, -17.905019760131836, 6.465436935424805, 1.864638328552246, 16.198110580444336, -13.28084659576416, -10.291672706604004, 0.9131965637207031, -0.5067743062973022, 1.1575665473937988, -2.894176721572876, 16.48372459411621, -1.0761414766311646, 8.50042724609375, -18.932968139648438, -9.784975051879883, -0.11718881875276566, 0.8157224655151367, 7.717050552368164, 2.408159017562866, 1.732842206954956, -3.991563558578491, -18.864595413208008, -18.322612762451172, -17.517784118652344, -10.965978622436523, -2.8941948413848877, 0.387624055147171, 3.5838685035705566, 4.565423011779785, 2.1994552612304688, -17.067502975463867, -11.97908878326416, 8.110211372375488, 13.478243827819824, -13.83908462524414, -22.43169403076172, -20.9117431640625, -15.321308135986328, -16.720577239990234, -11.441232681274414, -11.42846965789795, -18.515573501586914, -3.5306057929992676, 14.840535163879395, -17.42902946472168, -22.394689559936523, -3.4811906814575195, -19.46478843688965, -13.831965446472168, -15.269034385681152, 3.2565534114837646, -18.0895938873291, 4.5654168128967285, -3.1697070598602295, -14.447258949279785, -12.971781730651855, 13.179320335388184, -16.921709060668945, -0.04981032758951187, 0.3876282274723053, -14.416938781738281, 1.321143627166748, -16.585067749023438, -3.3937745094299316, -20.714595794677734, 13.478421211242676, 16.476245880126953, 15.370781898498535, 3.498957395553589, -14.732019424438477, 2.639665365219116, 18.675704956054688, 15.813450813293457, -2.584294557571411, -13.252188682556152, -3.5305144786834717, 0.13948388397693634, 1.0602790117263794, -4.269564628601074, -14.452075004577637, -19.735536575317383, 2.6233108043670654, -0.6590570211410522, -4.2348527908325195, -0.5745849013328552, 1.5332781076431274, -16.925785064697266, -18.832094192504883, 8.707033157348633, 1.4301185607910156, 2.321051597595215, -0.6709573268890381, 1.8740490674972534, 3.035703420639038, -5.217705249786377, -19.68238067626953, 3.8263328075408936, 14.840533256530762, -3.530611038208008, -1.4239262342453003, -0.1822504997253418, -16.091041564941406, 15.165146827697754, 2.6176280975341797, -17.188175201416016, 3.1602087020874023, 2.2333006858825684, 4.2292890548706055, -5.5181193351745605, -22.44890594482422, -1.5302469730377197, 14.930914878845215, 0.7181476950645447, -10.529413223266602, 1.6819723844528198, -16.85695457458496, -12.018972396850586, -2.3118603229522705, -2.3118197917938232, 0.15517522394657135, 15.11365795135498, -3.530529499053955, -7.744035243988037, 1.0464779138565063, -9.678790092468262, -14.217763900756836, -20.714595794677734, -17.356124877929688, -10.192060470581055, 0.7651742100715637, -3.9915781021118164, 15.16818904876709, -16.699188232421875, -18.467172622680664, 8.109916687011719, 3.062394380569458, -19.3748722076416, 0.4119473695755005, 1.0597423315048218, -14.627902030944824, -12.9135103225708, -17.073030471801758, -12.947243690490723, 16.050031661987305, -13.65786075592041, -13.177315711975098, -13.501738548278809, 16.123973846435547, 1.995269536972046, 15.238141059875488, 12.152801513671875, -14.579489707946777, 4.565272331237793, 2.103407382965088, -9.604212760925293, -14.654199600219727, -14.146838188171387, -13.560535430908203, -15.316649436950684, -15.8572359085083, -16.604429244995117, -13.88050365447998, 15.909951210021973, -15.296475410461426, 1.3645918369293213, -10.756192207336426, 0.15468740463256836, -18.42597770690918, -15.364680290222168, 1.629587173461914, 1.0144606828689575, 0.15468740463256836, 15.810237884521484, -12.77663516998291, 2.431525707244873, 0.5631715059280396, -10.609234809875488, 5.393194675445557, -15.733177185058594, 2.7202320098876953, -18.44846534729004, -9.99623966217041, -12.771430015563965, 3.467987298965454, -19.772789001464844, 9.133600234985352, 0.14487449824810028, 14.686592102050781, -17.508529663085938, -14.384095191955566, 3.370081663131714, 7.717136383056641, 1.1788899898529053, -0.32889512181282043, -0.5644659399986267, 2.721379280090332, 8.707060813903809, -19.615339279174805, -14.201729774475098, -19.943044662475586, 4.565472602844238, -18.53206443786621, -16.72048568725586, 2.9616494178771973, -16.33152198791504, 16.483808517456055, -16.915054321289062, 1.533560037612915, 0.3876273036003113, -20.89828109741211, -17.83409881591797, 2.9847347736358643, -14.412562370300293, -1.0673749446868896, -18.534536361694336, 3.3931760787963867, 14.828032493591309, 7.95708703994751, 5.403362274169922, 14.807271003723145, -0.8054492473602295, -0.5040103793144226, -3.805673837661743, 0.5451675653457642, -13.861769676208496, -12.727272987365723, -16.773550033569336, 0.36986657977104187, -2.281419038772583, -14.695727348327637, 3.793761968612671, -19.554519653320312, -19.16860580444336, -0.8395734429359436, -14.815320014953613, -2.3531956672668457, 3.1413674354553223, 2.848881483078003, 12.152711868286133, -3.628354549407959, -0.25239798426628113, 5.048068523406982, -18.596038818359375, 1.3645919561386108, -12.658723831176758, -0.32889512181282043, 2.969792366027832, -15.808060646057129, 13.697868347167969, 3.6643052101135254, -16.54926109313965, -12.483013153076172, 17.135820388793945, -1.067298173904419, -18.887460708618164, -19.70460319519043, 5.948233604431152, -18.876014709472656, 5.393194675445557, 0.815838098526001, 2.7480180263519287, 13.037875175476074, 1.069956660270691, -0.1556047797203064, -19.038368225097656, -19.14066505432129, -13.60977554321289, -19.33977508544922, 5.04820442199707, 3.6639654636383057, 6.448147296905518, -10.609468460083008, -10.256704330444336, 1.5770373344421387, -3.6797192096710205, -10.231537818908691, 3.8263111114501953, -7.9907917976379395, -13.421158790588379, -13.024274826049805, -12.5790376663208, -17.6773738861084, -5.169671535491943, -9.970574378967285, -13.5918550491333, -0.2844747304916382, -19.323041915893555, -18.959354400634766, 1.0144965648651123, -12.361087799072266, 0.5786381363868713, -16.384624481201172, -7.130361080169678, -12.091352462768555, 0.5560343861579895, -18.642684936523438, 3.087509870529175, 7.035563945770264, -16.98125457763672, 6.2308783531188965, 2.4436464309692383, -6.12787389755249, -1.3541045188903809, 3.982701063156128, -11.430524826049805, 1.0699563026428223, -3.6283931732177734, 1.1575833559036255, -18.24258041381836, 2.3210933208465576, 5.393194675445557, 5.9481587409973145, -21.177610397338867, -0.2212684452533722, 2.915165662765503, -15.723674774169922, 8.109904289245605, -1.4364982843399048, -19.80200958251953, -2.425100564956665, -20.974040985107422, -20.424306869506836, -16.166378021240234, -3.6283538341522217, 6.669589519500732, 7.4472832679748535, 13.037859916687012, -3.994037628173828, -0.8397380709648132, -15.250200271606445, 1.157581090927124, -21.20252799987793, 7.957394599914551, 7.064781188964844, 3.981320381164551, -16.681926727294922, 1.6754686832427979, -16.084482192993164, 3.807556390762329, -12.366948127746582, -20.72045135498047, 16.537155151367188, -17.997344970703125, -16.189180374145508, 15.607854843139648, 1.0137771368026733, 1.1575812101364136, 15.43588638305664, 15.817365646362305, -21.199270248413086, 3.9813144207000732, -12.454730033874512, -20.720401763916016, 0.3698579668998718, -0.003528113942593336, -18.260324478149414, -12.624055862426758, -4.62714958190918, -1.3007886409759521, -11.331737518310547, -11.964996337890625, -18.74027442932129, -2.2516579627990723, -10.070838928222656, -16.36483383178711, 5.403073310852051, -16.807058334350586, -0.5635782480239868, -0.8360432386398315, 0.018658019602298737, 2.782517433166504, -9.618303298950195, -19.793821334838867, -14.152129173278809, 13.03787899017334, -0.32086390256881714, -17.142662048339844, -11.795482635498047, -18.309572219848633, 0.9459109902381897, -18.992311477661133, -3.8321456909179688, -16.64178466796875, -0.6368319988250732, -3.530518054962158, -17.31648063659668, -11.299530029296875, 3.0440175533294678, -13.149141311645508, -21.198591232299805, -18.536863327026367, -13.859591484069824, 1.8635822534561157, -15.363546371459961, -16.800662994384766, 13.03789234161377, -14.751745223999023, 0.38764262199401855, 7.957458972930908, -0.9605551362037659, -17.943830490112305, -3.805711269378662, -16.492538452148438, -18.764793395996094, 6.448319435119629, -1.1474337577819824, -3.343656063079834, 1.8531527519226074, -18.74027442932129, 0.38764405250549316, -1.0672986507415771, 1.9615341424942017, 16.876998901367188, -10.609468460083008, -10.256723403930664, -20.11724090576172, -3.9926631450653076, -18.110074996948242, 13.718422889709473, 13.055131912231445, -16.97161293029785, 16.940170288085938, -16.26609992980957, 7.95737886428833, -17.022769927978516, -5.491106033325195, -22.210756301879883, -16.787527084350586, -4.665266036987305, -10.756176948547363, 17.74289894104004, 1.9285202026367188, -0.8855226635932922, -18.435470581054688, 16.6733341217041, -14.401058197021484, -22.193119049072266, 3.094933271408081, 2.4077606201171875, 2.863255500793457, -10.925254821777344, 0.099826879799366, 3.8641324043273926, -18.20504379272461, 7.481100559234619, -16.703378677368164, 16.52461814880371, 16.793785095214844, 1.4675233364105225, -19.585607528686523, 2.8064515590667725, -0.59150230884552, 1.0145533084869385, -13.92686939239502, 1.4075769186019897, -17.77728271484375, -11.346687316894531, -10.361625671386719, -16.84710693359375, -16.447975158691406, -19.74358558654785, -0.562097430229187, -17.535795211791992, -17.108612060546875, 2.8064939975738525, -6.987380027770996, -20.539287567138672, -18.63381004333496, 3.0873868465423584, 3.0874507427215576, -21.62933921813965, -0.7026594281196594, 7.155022621154785, -19.268341064453125, 0.10872505605220795, -15.070802688598633, -5.912477016448975, -13.373818397521973, -19.375911712646484, -0.5668121576309204, -18.255203247070312, 3.524057388305664, 3.0285065174102783, -1.2302980422973633, -13.102916717529297, 1.7814468145370483, 2.587202548980713, -20.120742797851562, -17.970243453979492], \"z\": [-7.254005432128906, -13.395883560180664, -4.916487216949463, -3.065243721008301, -10.73001480102539, -8.857236862182617, -8.248661994934082, -7.457871437072754, -5.791351795196533, 4.1866960525512695, -12.717307090759277, -3.229203462600708, -5.680201530456543, -14.36535358428955, 3.3137569427490234, -11.399210929870605, -8.176019668579102, -10.439486503601074, -6.420851707458496, 8.065762519836426, -4.9602460861206055, 0.9448131918907166, 4.385131359100342, -3.4519643783569336, -0.6714552044868469, 3.8475723266601562, -7.109475612640381, -6.340602874755859, -5.791151523590088, -3.7112457752227783, -3.579022169113159, -7.990520000457764, -13.572195053100586, -13.143166542053223, -10.716424942016602, -8.638489723205566, -9.675936698913574, 6.570985794067383, 5.288824081420898, -13.439659118652344, -3.7391717433929443, -14.2549409866333, -7.691013813018799, -9.898612022399902, -6.815349102020264, -6.962441444396973, -2.453141450881958, -14.730494499206543, -6.325717926025391, -6.726541042327881, -5.6993842124938965, -6.61408805847168, -14.354129791259766, 4.3615498542785645, -5.89756965637207, 8.52829360961914, -5.739371299743652, -13.27281379699707, -6.987468242645264, -2.698507785797119, -9.631954193115234, -9.491523742675781, -14.450265884399414, -12.505414962768555, -6.76511287689209, -2.453261137008667, -13.370490074157715, -8.596294403076172, -9.633488655090332, -9.454178810119629, -8.35057258605957, 5.661229610443115, 6.364106178283691, -8.35090160369873, -13.4150390625, -8.079233169555664, 2.1261682510375977, -11.138822555541992, -7.4581685066223145, -5.703543663024902, -4.079687118530273, -6.905004978179932, -8.257674217224121, -14.3529052734375, -5.5344696044921875, -3.0650928020477295, -3.0652756690979004, -2.9440081119537354, -8.784839630126953, -4.41096305847168, -12.673089981079102, -4.326756000518799, -5.476105213165283, -9.578824996948242, -10.439519882202148, 4.058515548706055, -7.691112041473389, -14.011983871459961, 8.39102554321289, -13.164704322814941, -13.704710006713867, -14.112348556518555, -8.456353187561035, -8.583028793334961, -12.981402397155762, -13.304743766784668, 4.101377964019775, -7.55013370513916, -11.556243896484375, -14.428984642028809, -8.43749713897705, -6.3111701011657715, -11.925042152404785, 3.5019571781158447, -11.71916389465332, -8.430495262145996, -4.937262535095215, -5.350672721862793, -12.529630661010742, 5.411678791046143, -7.523282527923584, -3.025155544281006, -14.02894401550293, 4.264439105987549, -8.321097373962402, -9.650771141052246, -1.304520606994629, -13.54224681854248, -4.174429893493652, -9.080055236816406, -8.298205375671387, -8.810248374938965, -5.9499921798706055, -2.69854998588562, 6.511008262634277, -9.898595809936523, -2.45318603515625, -5.791719913482666, -13.132891654968262, 8.101927757263184, 3.9282569885253906, 15.984886169433594, 5.5112199783325195, -2.698505401611328, -9.772443771362305, -5.79164981842041, -5.570740222930908, -14.512758255004883, 7.3863630294799805, -3.9644501209259033, -13.764763832092285, -14.375709533691406, 5.398104667663574, -9.898703575134277, -9.080007553100586, -9.676375389099121, -9.89871883392334, -8.937483787536621, -7.26149845123291, 6.7366790771484375, -4.296318054199219, -10.439535140991211, -8.33946418762207, -3.390133857727051, -6.8153533935546875, -9.962011337280273, 6.523102760314941, -13.026167869567871, 7.051070213317871, 5.197484016418457, -8.170099258422852, -3.223236560821533, -6.003300666809082, -13.02614974975586, -11.30334186553955, -7.94758415222168, -3.226271152496338, -9.898730278015137, -4.875402927398682, 2.1538636684417725, -5.946042060852051, -9.426597595214844, -4.453923225402832, -12.885138511657715, -3.4665563106536865, -4.784799098968506, 9.368765830993652, -9.058943748474121, -5.463138103485107, -5.476043701171875, -11.590841293334961, -3.8719167709350586, -8.354068756103516, 3.5013487339019775, -7.33185338973999, 8.340522766113281, -8.808914184570312, -7.112955570220947, -11.39924430847168, -13.837010383605957, -14.136503219604492, -5.791031360626221, 6.464828014373779, -9.565933227539062, -9.163811683654785, -6.180710315704346, -11.59086799621582, -11.704390525817871, -13.94583797454834, -5.350677967071533, -8.780001640319824, 3.1376514434814453, -5.841588973999023, -9.676729202270508, 2.0549070835113525, -4.329872131347656, -6.9909749031066895, -6.669797897338867, -6.610329627990723, 1.577422857284546, -5.508100509643555, -6.596405982971191, -9.355807304382324, -11.854281425476074, -2.9440109729766846, -8.871829986572266, -7.185736656188965, -7.281966209411621, 5.228795051574707, -6.99991512298584, -8.341106414794922, -13.960264205932617, -8.404114723205566, -5.350681304931641, -5.7020792961120605, -5.20820426940918, -3.5985453128814697, -3.588155508041382, 4.490135669708252, -10.354755401611328, -11.704400062561035, -4.750593185424805, -13.27798843383789, 4.196176052093506, -10.017899513244629, -8.327788352966309, 2.0550119876861572, -5.088848114013672, -4.936191558837891, -7.350135803222656, -7.1111249923706055, -14.561796188354492, -1.0118234157562256, -4.068356513977051, -10.117645263671875, -8.032219886779785, -11.854301452636719, -13.73956298828125, -12.02993106842041, 8.690995216369629, -8.160295486450195, 6.124072551727295, -14.079392433166504, -8.194574356079102, -10.661931991577148, -8.516219139099121, -14.095624923706055, 5.344706058502197, -7.6239705085754395, -10.183114051818848, -12.332815170288086, -13.195146560668945, -8.543764114379883, -13.913829803466797, -13.725680351257324, -10.734560012817383, -7.45963191986084, -5.771310329437256, -2.944018840789795, -11.854191780090332, -14.041186332702637, -9.19513988494873, -7.435968399047852, -3.6270651817321777, -13.712019920349121, 5.01320743560791, -13.361103057861328, -14.371621131896973, -14.14659595489502, -6.4278340339660645, -9.079992294311523, -9.103943824768066, -4.388038635253906, 11.006918907165527, 9.00096607208252, -3.9275102615356445, 5.145898342132568, -4.177639961242676, -5.837498664855957, -5.83743953704834, 11.760164260864258, -4.125463008880615, -11.854275703430176, -0.727699339389801, -12.26950740814209, 8.706436157226562, -8.390202522277832, -8.327788352966309, 2.530585765838623, 8.229827880859375, -12.469229698181152, -5.791018962860107, -3.81955623626709, 4.121760845184326, 6.736450672149658, -9.676342010498047, 15.977141380310059, -7.950543403625488, -12.788156509399414, -3.5879316329956055, -7.455279350280762, 5.6856489181518555, 3.291898012161255, -7.291869163513184, -4.358312129974365, -6.941226005554199, -5.56294584274292, -4.661941051483154, -4.728662967681885, -13.534832000732422, -3.362111806869507, -1.9556647539138794, -4.694129467010498, -5.350824356079102, -12.563544273376465, 8.547440528869629, -3.792494058609009, -3.278864622116089, -5.770369052886963, -3.8056795597076416, -4.680999755859375, 4.408729076385498, -6.868277549743652, -5.054315567016602, -5.429581165313721, -12.942646980285645, -6.829106330871582, -9.491523742675781, -7.875850677490234, -5.5764384269714355, -12.69191837310791, -8.5747652053833, -9.491523742675781, -3.759044885635376, -6.6085920333862305, -14.105653762817383, -3.0653011798858643, 7.6485371589660645, -4.875402927398682, -7.8520894050598145, -14.285883903503418, -6.78374719619751, 8.064785957336426, 5.77020788192749, -7.796995639801025, -6.853468894958496, -2.481243133544922, -10.112549781799316, -4.109798431396484, 3.9343044757843018, -5.390014171600342, -14.457938194274902, -11.399123191833496, -12.672627449035645, -9.60253620147705, -6.952801704406738, -13.316076278686523, -10.183061599731445, -7.3870134353637695, -3.5267646312713623, 4.41979455947876, -5.350369453430176, 6.117802143096924, 3.386138677597046, -14.449666976928711, 4.913875579833984, -8.754457473754883, 3.1932194232940674, -14.095830917358398, -11.70439624786377, -6.283995151519775, 4.320964813232422, -13.664318084716797, -7.9586100578308105, -7.788600921630859, 4.008747577667236, -13.75851058959961, -4.619484901428223, -2.4520633220672607, -11.556173324584961, -3.6124703884124756, -7.068702697753906, -8.126542091369629, -10.79753303527832, -12.888240814208984, -7.630335330963135, -6.399977207183838, 3.690088987350464, 11.518217086791992, -11.564997673034668, -6.2304158210754395, -5.787045955657959, -7.1168928146362305, -7.006936073303223, -7.0091729164123535, -6.73323917388916, -11.491864204406738, -14.22606086730957, -8.735726356506348, -1.9555584192276, -4.730804920196533, -9.724031448364258, -9.898728370666504, 3.6720316410064697, -12.942646980285645, -5.346091270446777, -9.60253620147705, -14.174821853637695, 2.617835521697998, -7.012683868408203, -7.690998554229736, 4.2252302169799805, -4.6620564460754395, -8.651707649230957, -7.788403034210205, 5.093743801116943, 4.963361740112305, -11.463299751281738, 4.427006721496582, -4.875402927398682, -7.1101531982421875, -13.040084838867188, -3.1733925342559814, -10.097077369689941, -9.455022811889648, -8.36037826538086, 4.917477607727051, -4.384503364562988, 6.210625648498535, -9.898516654968262, -7.691511154174805, -4.063617706298828, 7.648308277130127, -0.868118166923523, -11.854228973388672, -4.698617935180664, -0.823613703250885, -5.771309852600098, -0.6581462025642395, -8.734216690063477, -6.185913562774658, -8.475737571716309, -9.43228530883789, -5.950056076049805, 8.503811836242676, -5.379870891571045, -9.795516967773438, 4.403783798217773, -7.972996234893799, -8.57486343383789, -7.010384559631348, -13.283428192138672, -5.04901647567749, 4.060980796813965, -7.367054462432861, -11.093003273010254, -8.76687240600586, -8.079252243041992, -3.9217917919158936, 3.41171932220459, -4.709872245788574, -13.423240661621094, -11.78190803527832, -9.392192840576172, -7.4789886474609375, -6.764213562011719, -10.097077369689941, -4.730831146240234, -5.476036548614502, 4.393087387084961, -13.471370697021484, -4.875402927398682, -11.463323593139648, -6.266643524169922, -8.866978645324707, -13.676636695861816, -4.252003192901611, -9.676599502563477, -8.695600509643555, 4.608457565307617, -13.026951789855957, -6.272502422332764, -7.426639556884766, -5.436456680297852, -4.730805397033691, -4.753065586090088, -4.375927448272705, -3.1733577251434326, -5.790724754333496, -7.008680820465088, -4.688518047332764, -5.476021766662598, -6.722084045410156, -2.4529781341552734, -0.6703208088874817, -5.7916741371154785, 3.445612907409668, -5.947758674621582, 4.679134368896484, -5.772384166717529, -4.6569318771362305, -5.639976501464844, -4.6290507316589355, 4.649673938751221, 4.532810688018799, -4.316802978515625, -8.578756332397461, -5.476021766662598, -4.4444050788879395, -4.502790451049805, -6.737693786621094, -5.791676044464111, -5.549926280975342, -5.6397905349731445, 11.518200874328613, -8.617215156555176, -9.166290283203125, -4.824087142944336, -8.173004150390625, -9.403400421142578, -7.54085636138916, -7.730813503265381, -8.685675621032715, -11.54334545135498, 8.683157920837402, 4.384543418884277, -11.555973052978516, 4.84766960144043, -6.957026481628418, -7.018394947052002, -9.610405921936035, -13.750572204589844, -7.457871437072754, 5.031959056854248, -6.62011194229126, -3.1734068393707275, -9.340205192565918, 2.8154163360595703, 6.364169120788574, 4.584651947021484, -13.131333351135254, 5.295717239379883, -9.882765769958496, 5.29214334487915, -8.0849027633667, -11.854251861572266, 3.8449594974517822, -5.303678035736084, 15.985030174255371, -8.054854393005371, -6.733117580413818, -9.42103385925293, -8.683736801147461, -9.452943801879883, -6.05888557434082, 3.920517921447754, -3.1734023094177246, -8.587650299072266, -11.70443058013916, -2.453242301940918, -4.394189357757568, -7.956788539886475, -10.797539710998535, 2.184246301651001, 5.173445224761963, -4.063902854919434, -8.763873100280762, -7.659177303314209, -14.0369291305542, -8.685675621032715, -11.704412460327148, -7.788403034210205, -12.518835067749023, -8.880438804626465, 7.648307800292969, -0.8681085109710693, 5.147677898406982, -5.791395664215088, -9.954742431640625, -6.815310001373291, -6.987465858459473, 4.469446659088135, -8.503358840942383, -6.219003677368164, -2.452972650527954, 5.370296001434326, -3.9645888805389404, -7.61595344543457, 2.708383560180664, -8.300368309020996, -6.829105377197266, -4.9775519371032715, -13.443073272705078, -9.29738712310791, -9.904863357543945, -8.291019439697266, -5.485361099243164, -6.76511287689209, -13.226545333862305, -13.371637344360352, -12.869559288024902, 7.3442254066467285, -14.00834846496582, -5.766780853271484, 4.805465221405029, -4.4204607009887695, 4.4322733879089355, -3.7154626846313477, -8.845648765563965, -4.0896315574646, 4.4366278648376465, -9.533862113952637, -9.77235221862793, -8.574115753173828, -6.702427387237549, -14.407124519348145, 5.686686992645264, -4.877891540527344, 8.418440818786621, 1.3558803796768188, 4.870414733886719, -7.274108409881592, -6.959471702575684, -8.622629165649414, 4.8337907791137695, -13.301725387573242, 3.374549150466919, -9.287859916687012, 5.568355083465576, -8.079339981079102, -8.079345703125, -6.590609073638916, -9.289016723632812, -0.6489631533622742, 5.227931976318359, -9.200464248657227, -7.2708563804626465, -4.3631086349487305, -5.843123435974121, -7.947224140167236, -6.950986385345459, -8.109236717224121, -0.5382719039916992, -14.769966125488281, -10.439506530761719, -5.639240741729736, -13.147299766540527, -13.971379280090332, -9.362014770507812, 4.409219741821289]}, {\"hovertemplate\": \"Dominant_Topic=Topic 13<br>0=%{x}<br>1=%{y}<br>2=%{z}<extra></extra>\", \"legendgroup\": \"Topic 13\", \"marker\": {\"color\": \"#19d3f3\", \"opacity\": 0.7, \"symbol\": \"circle\"}, \"mode\": \"markers\", \"name\": \"Topic 13\", \"scene\": \"scene\", \"showlegend\": true, \"type\": \"scatter3d\", \"x\": [-5.433572292327881, -5.917670249938965, -5.3916425704956055, -4.8315300941467285, -4.310916900634766, -5.7321248054504395, -8.264077186584473, -6.207363128662109, -4.856749534606934, -5.440077781677246, -4.92645788192749, -5.675966262817383, -5.727855205535889, -5.871559143066406, -6.273012638092041, -6.063344955444336, -4.83152961730957, -5.681698322296143, -5.9246392250061035, -5.079339981079102, -6.197009563446045, -5.840857028961182, -4.6970295906066895, -6.889659404754639, -6.063344478607178, -5.079339981079102, -6.288598537445068, -6.433366298675537, -5.519754886627197, -6.2736496925354, -6.273556709289551, -6.866788864135742], \"y\": [3.1923680305480957, 3.5497887134552, 3.2457432746887207, 6.036003112792969, 1.7441442012786865, 3.0644607543945312, 2.3405730724334717, 2.7173237800598145, 4.131648063659668, 2.7935426235198975, 2.3518354892730713, 3.4633734226226807, 2.677030563354492, 2.8403666019439697, 4.614694118499756, 5.251993179321289, 6.036003589630127, 4.615431308746338, 2.5405571460723877, 4.680034160614014, 3.215972661972046, 3.1074271202087402, 3.372711420059204, 4.376389026641846, 5.251992702484131, 4.6800336837768555, 3.399209976196289, 3.074026584625244, 0.9185110330581665, 2.8636789321899414, 4.61434268951416, 3.2747128009796143], \"z\": [-1.9472934007644653, -2.2666714191436768, -2.267284870147705, -1.6278475522994995, -3.011275053024292, -2.6688079833984375, -0.5964019298553467, -1.8914577960968018, -3.98330020904541, -2.2383499145507812, 0.021895049139857292, -2.397494077682495, -1.8468208312988281, -2.649705410003662, -3.9740407466888428, -1.0601693391799927, -1.62784743309021, -1.4078733921051025, -2.2543866634368896, -0.5829879641532898, -1.7678309679031372, -1.673905372619629, 0.14553424715995789, -3.015981674194336, -1.0601693391799927, -0.582987904548645, -2.098433256149292, -2.2078182697296143, -3.1537461280822754, -2.4677486419677734, -3.9746806621551514, -3.761162281036377]}, {\"hovertemplate\": \"Dominant_Topic=Topic 14<br>0=%{x}<br>1=%{y}<br>2=%{z}<extra></extra>\", \"legendgroup\": \"Topic 14\", \"marker\": {\"color\": \"#FF6692\", \"opacity\": 0.7, \"symbol\": \"circle\"}, \"mode\": \"markers\", \"name\": \"Topic 14\", \"scene\": \"scene\", \"showlegend\": true, \"type\": \"scatter3d\", \"x\": [4.501955032348633, 3.099203109741211, 2.248037099838257, -1.4470828771591187, 2.738887310028076, 1.2499738931655884, 2.7110350131988525, -2.3047091960906982, 1.7544655799865723, 4.153396129608154, 4.02745246887207, 3.661953926086426, 7.533506870269775, 8.16629409790039, 15.604085922241211, 9.311854362487793, 2.958766460418701, 3.528735876083374, 9.311579704284668, 5.812519073486328, 18.618820190429688, -0.5410764813423157, -0.05045400559902191, 6.989108562469482, -2.015281915664673, 18.367034912109375, 3.231281042098999, -0.5907117128372192, 18.415929794311523, 5.869897365570068, -0.17717237770557404, -1.447098970413208, 1.8208445310592651, -1.4469035863876343, -2.910306930541992, 8.482294082641602, 4.027442932128906, -16.898712158203125, -0.7311429381370544, 5.812065124511719, -7.134071350097656, 4.440696716308594, 2.808603525161743, 4.644977569580078, 7.948239326477051, 6.388143062591553, 2.628326416015625, -1.1096397638320923, 6.365303039550781, -1.7529127597808838, -1.8744590282440186, 6.858802795410156, 5.924882411956787, 3.4397339820861816, -1.5340619087219238, 7.608068466186523, 14.569029808044434, 8.078201293945312, 5.319269180297852, 0.2289573848247528, 19.7873592376709, 1.7875772714614868, -0.5909777283668518, 0.17945131659507751, 6.1761369705200195, 18.63539695739746, -1.1353944540023804, -1.134813904762268, -0.9816552400588989, -5.863402843475342, -0.7311468720436096, 5.917609214782715, 7.494639873504639, 3.271563768386841, -2.574335813522339, 6.1736531257629395, 1.9705684185028076, 3.606247901916504, 5.824228763580322, 19.4732666015625, 4.558182239532471, 15.622297286987305, 4.881617546081543, -1.3104944229125977, 4.051780700683594, 3.332728147506714, 8.4829740524292, 6.364882469177246, 1.1669117212295532, 3.9997048377990723, 15.090229034423828, 8.48215389251709, 4.881494998931885, 0.31200897693634033, 2.151331901550293, 17.917625427246094, -2.9103076457977295, 6.311991214752197, -0.5096626281738281, 8.056661605834961, 19.47317123413086, -3.954726219177246, -0.2453271746635437, 19.473249435424805, -2.7813875675201416, -1.1354012489318848, 17.48124885559082, 2.79274845123291, 6.279426097869873, -1.6054704189300537, 5.831807613372803, 3.246441602706909, -2.273381233215332, -1.943939208984375, 18.025732040405273, 0.5629947185516357, 3.563610315322876, 6.814919471740723, 3.9465534687042236, 3.549783706665039, -0.2540264129638672, 18.358022689819336, 0.5630016326904297, -17.49686050415039, -1.1103137731552124, 3.213667154312134, 1.1840935945510864, 0.2095567286014557, 3.7146639823913574, 18.275531768798828, 1.533279299736023, 3.0397796630859375, 1.8624566793441772, 4.540998935699463, 0.007361437194049358, 15.62310791015625, 7.6069464683532715, 1.8210217952728271, 2.3789310455322266, 3.3012616634368896, -1.135380744934082, 5.593844890594482, -2.5318098068237305, -2.4843590259552, 18.67076301574707, 4.026163578033447, 3.399885892868042, 3.8944389820098877, 0.2432008981704712, -2.415728807449341, -0.254410982131958, 19.03132438659668, -2.625063896179199, 18.645919799804688, 1.4139305353164673, 5.323203086853027, 0.12116964161396027, 3.9258737564086914, -0.5721397995948792, -0.7310934066772461, -1.6043977737426758, 2.9352405071258545, 7.595041751861572, 8.3745698928833, 4.895781517028809, 6.287148475646973, 5.116796493530273, 5.710899829864502, -1.2635586261749268, -2.197577714920044, 17.965478897094727, 18.598329544067383, 15.604068756103516, 16.541400909423828, 8.477481842041016, -1.1103136539459229, 4.886897563934326, 4.191970348358154, 17.13356590270996, 3.514927387237549, 2.1131746768951416, -5.922924995422363, -0.15304367244243622, -2.2581357955932617, 7.691660404205322, -0.25548437237739563, -1.4471083879470825, 4.21889066696167, -1.3789132833480835, -2.9102962017059326, 17.906570434570312, -16.49285125732422, 4.026176452636719, 8.318829536437988, 5.3291707038879395, -2.287860631942749, 18.392580032348633, 7.2594099044799805, 3.31400990486145, 7.7559027671813965, 17.54998779296875, 2.572253942489624, -2.0507404804229736, 7.6175408363342285, -1.7870324850082397, 3.0455687046051025, 8.481169700622559, 3.020864248275757, 7.923140525817871, 4.190654754638672, 4.43882417678833, 20.44738006591797, 5.99989652633667, 3.4598493576049805, -1.246232032775879, -0.4603126347064972, 7.56080436706543, 1.9654685258865356, 5.319525718688965, 3.6317849159240723, 3.1459336280822754, -0.19062790274620056, 18.54883575439453, -0.25555285811424255, 18.168535232543945, 18.640274047851562, 4.7744460105896, 1.640061616897583, 4.64153528213501, 5.897417068481445, 4.068607807159424, 4.141850471496582, 3.03981614112854, -1.2049893140792847, 4.0517802238464355, 16.977075576782227, 5.833274841308594, 1.8210240602493286, 2.6730668544769287, 1.364471435546875, 5.139074325561523, 9.3114652633667, 4.0310893058776855, 17.91986083984375, 2.046604633331299, 6.393227577209473, -0.05434684827923775, -1.7870323657989502, 0.5629680752754211, 2.7665491104125977, 7.621034145355225, -2.0719001293182373, 16.778362274169922, 3.0049808025360107, 4.046458721160889, -6.2734856605529785, 2.6293816566467285, 8.627366065979004, 7.886605262756348, 3.8760664463043213, 5.55197811126709, -2.3457164764404297, 0.47538232803344727, 6.372375011444092, 4.412261009216309, 5.606997966766357, 3.2313103675842285, 7.625585079193115, 2.2238383293151855, 8.372222900390625, 2.677366256713867, 5.580050945281982, 3.621056318283081, 2.685360908508301, 6.013556957244873, 2.2493274211883545, 1.2389516830444336, 7.86952543258667, -2.6871418952941895, 20.59076499938965, -2.561887741088867, 4.499349117279053, 4.192154884338379, 3.0008835792541504, -16.8986759185791, -1.604329228401184, 6.238683223724365, -2.692131757736206, -0.11294753104448318, -2.3529326915740967, -2.6939377784729004, 3.1477982997894287, 5.319522857666016, 0.19422154128551483, -1.3918107748031616, 8.321897506713867, 4.516312122344971, 9.311711311340332, 7.822890758514404, -1.8381428718566895, 0.425615131855011, -0.5908479690551758, 4.140726089477539, -2.549816131591797, 1.708213210105896, 4.77520227432251, 1.820778250694275, 1.7345283031463623, 1.5905969142913818, 1.8491334915161133, -1.8033583164215088, 5.812328338623047, 5.947742462158203, 7.676113605499268], \"y\": [9.294700622558594, 14.036574363708496, 21.609914779663086, 15.468170166015625, 14.570916175842285, 20.165014266967773, 14.345715522766113, 3.984978437423706, 20.04335594177246, 5.673543930053711, 5.253042221069336, 14.208392143249512, 11.240768432617188, 18.622316360473633, 4.936357021331787, 6.201295852661133, 14.391190528869629, 14.420007705688477, 6.201234340667725, 12.334692001342773, 2.6115334033966064, 2.604661464691162, 12.844526290893555, 19.18657875061035, 13.5028657913208, 4.380670070648193, 16.61934471130371, 4.712342739105225, 4.875551700592041, 19.10654640197754, 1.9787009954452515, 15.468155860900879, 3.900209665298462, 15.468143463134766, 14.004179000854492, 12.738205909729004, 5.253110885620117, 1.0358116626739502, 16.994873046875, 12.334131240844727, 3.6857569217681885, 6.528992652893066, 14.763689994812012, 17.372745513916016, 11.255231857299805, 7.559746742248535, 1.7623697519302368, 0.3898078203201294, 7.322432518005371, 13.394550323486328, 13.403765678405762, 6.099077224731445, 18.690845489501953, 17.232118606567383, 14.661439895629883, 14.350894927978516, 3.018383502960205, 11.207204818725586, 10.927725791931152, 14.749163627624512, 2.5463922023773193, 19.493179321289062, 4.712463855743408, 1.973077416419983, 7.333532333374023, 2.914396047592163, 20.185548782348633, 20.18570327758789, 16.204971313476562, 0.26295387744903564, 16.994873046875, 8.408058166503906, 11.311461448669434, 16.97074317932129, 3.705294370651245, 7.331693172454834, 21.734542846679688, 13.97646713256836, 7.275648593902588, -0.18263733386993408, 14.455227851867676, 1.6561334133148193, 8.820219039916992, 9.974126815795898, 14.927788734436035, 15.180542945861816, 12.738636016845703, 7.323028564453125, 19.539323806762695, 17.60116958618164, 4.245687961578369, 12.738264083862305, 8.820801734924316, 14.761544227600098, 19.937837600708008, 2.7956812381744385, 14.004254341125488, 13.122635841369629, 2.8238112926483154, 11.120558738708496, -0.1826181709766388, 15.150932312011719, 2.0412278175354004, -0.18262535333633423, 19.883304595947266, 20.18561553955078, 4.0196533203125, 13.809429168701172, 7.72392463684082, 0.7719476222991943, 7.503103733062744, 14.036825180053711, 13.218643188476562, 13.202881813049316, 2.17283296585083, 17.980003356933594, 17.01941680908203, 18.84819793701172, 14.715744972229004, 16.6962947845459, 12.206100463867188, 2.124870538711548, 17.980030059814453, 1.47396981716156, 0.39182373881340027, 13.846880912780762, 19.81944465637207, 2.1806986331939697, 17.717182159423828, 3.060452461242676, 20.246623992919922, 17.46677589416504, 14.448976516723633, 16.838560104370117, 2.52846622467041, 1.6573365926742554, 14.35076904296875, 3.9001073837280273, 1.3742384910583496, 14.672670364379883, 20.185546875, 12.797478675842285, 20.23006248474121, 20.20693588256836, 5.396658420562744, 13.75918197631836, 13.470799446105957, 15.088677406311035, 2.257861614227295, 19.657001495361328, 12.206351280212402, 1.7475485801696777, 19.72624969482422, 2.6238150596618652, 19.90813636779785, 18.578216552734375, 2.8166375160217285, 16.35870933532715, 2.1997270584106445, 16.994922637939453, 0.772756814956665, 14.11999225616455, 18.309371948242188, 17.759403228759766, 17.455825805664062, 7.553974628448486, 18.808568954467773, 19.278928756713867, 16.8974609375, 13.489012718200684, 2.5942916870117188, 2.214627742767334, 4.936273097991943, 2.075662612915039, 12.727348327636719, 0.39182382822036743, 17.08812713623047, 3.879185199737549, 4.346095085144043, 15.232745170593262, 19.924171447753906, 18.713851928710938, 2.9433491230010986, 13.506858825683594, -7.730069637298584, 12.205963134765625, 15.468160629272461, 16.475534439086914, 14.32065200805664, 14.004229545593262, 2.8768208026885986, 1.5169034004211426, 13.759215354919434, 18.33002471923828, 18.959070205688477, 13.551517486572266, 2.585805654525757, 19.101865768432617, 13.58320140838623, 11.124998092651367, 4.323686599731445, 2.9787094593048096, 13.490103721618652, 11.486230850219727, -0.39367780089378357, 15.284102439880371, 18.139690399169922, 13.710251808166504, 18.951122283935547, 3.879321575164795, 16.740459442138672, 0.7968299388885498, 13.183117866516113, 13.447742462158203, 10.041075706481934, 2.494448661804199, 8.168539047241211, 21.213897705078125, 10.927216529846191, 16.535036087036133, 14.086880683898926, 2.581148624420166, 2.9470860958099365, 12.205620765686035, 2.373075485229492, 2.889511823654175, 16.839719772338867, 19.98226547241211, 16.73707389831543, 18.355783462524414, 17.231225967407227, 17.665069580078125, 17.4666690826416, 14.37602710723877, 14.92780876159668, 4.83290433883667, 7.501330852508545, 3.900110960006714, 14.18768310546875, 19.427379608154297, 10.622671127319336, 6.201336860656738, 14.426268577575684, 2.3917160034179688, 19.369813919067383, 18.84633445739746, 17.446760177612305, -0.3936777710914612, 17.979961395263672, 15.073770523071289, 11.150864601135254, 13.08576488494873, 4.499562740325928, 14.270251274108887, 17.933778762817383, -5.439484119415283, 1.7607780694961548, 18.289722442626953, 11.091492652893066, 14.733543395996094, 18.25470542907715, 19.814661026000977, 2.583376407623291, 18.90360450744629, 16.933595657348633, 18.968488693237305, 16.61931610107422, 18.479049682617188, 20.099634170532227, 17.75893783569336, 13.962286949157715, 8.725604057312012, 17.225494384765625, 13.780240058898926, 7.101383209228516, 19.625661849975586, 20.228252410888672, 18.86515235900879, 15.388607025146484, 1.1270337104797363, 3.718834638595581, 16.451200485229492, 3.8792309761047363, 14.304097175598145, 1.0357820987701416, 0.7727808952331543, 19.251543045043945, 20.073223114013672, 11.826589584350586, 19.98540496826172, 20.03820037841797, 14.732887268066406, 10.927217483520508, 2.9955949783325195, 14.918274879455566, 14.638739585876465, 17.848146438598633, 6.201277256011963, 11.474516868591309, 2.098618268966675, 2.670238494873047, 4.7124152183532715, 17.08205795288086, 19.64847755432129, 1.3109948635101318, 18.068803787231445, 3.9002082347869873, 19.452486038208008, 19.246089935302734, 20.236865997314453, 13.44718074798584, 12.334476470947266, 18.399681091308594, -7.281400203704834], \"z\": [13.266230583190918, 9.173904418945312, 1.3164047002792358, 4.036200523376465, 9.049243927001953, 1.8421143293380737, 9.605984687805176, 2.2136127948760986, 1.5309828519821167, 13.678657531738281, 13.715545654296875, 9.940549850463867, 1.5909878015518188, 5.050023555755615, 2.3214783668518066, 10.12154769897461, -0.9567821025848389, 8.79265308380127, 10.122076988220215, 6.987287521362305, 0.21902413666248322, 15.962591171264648, 0.6058462858200073, 5.077761173248291, 3.840585231781006, 1.5453747510910034, 0.4263807535171509, 15.686906814575195, 1.7683571577072144, 6.199516773223877, 16.5307559967041, 4.0362019538879395, 18.678333282470703, 4.03619384765625, 1.5106748342514038, 2.4111735820770264, 13.715542793273926, 5.794187068939209, 9.595730781555176, 6.98729133605957, 5.008170127868652, 13.529561996459961, 9.96663761138916, 8.0520601272583, 1.1397507190704346, 11.924232482910156, 17.41665267944336, 14.336283683776855, 11.871870994567871, 4.029280662536621, 3.8623578548431396, 12.276365280151367, 6.34574556350708, 7.69401741027832, 7.263577461242676, 7.484518051147461, 2.1021499633789062, 1.3175100088119507, -0.6829742193222046, 6.8493123054504395, 0.3753219544887543, 2.543675422668457, 15.686996459960938, 16.178903579711914, 12.44091510772705, 0.7459286451339722, 0.14394579827785492, 0.1443348079919815, 3.84989070892334, -3.2351582050323486, 9.59572982788086, 11.321739196777344, 1.502211093902588, 1.4597601890563965, 1.621509313583374, 12.440592765808105, 1.7551016807556152, 9.324503898620605, 12.138307571411133, 2.2889161109924316, -1.886247992515564, 2.5023398399353027, 13.053394317626953, 6.868191719055176, 4.516818523406982, 9.242715835571289, 2.4119529724121094, 11.871261596679688, 1.894661784172058, 8.090307235717773, 2.1825807094573975, 2.4112071990966797, 13.05351734161377, 6.8358917236328125, 2.4449543952941895, 0.25940778851509094, 1.510582447052002, 6.862501621246338, 16.31893539428711, 1.4738364219665527, 2.2889530658721924, 2.988342761993408, 15.93271255493164, 2.2889297008514404, -1.0042181015014648, 0.14392593502998352, 2.4658114910125732, -1.1437666416168213, 12.10544204711914, 18.311100006103516, 12.012919425964355, -0.7700752019882202, 4.006338596343994, 4.32617712020874, 0.6247071027755737, 9.536598205566406, 7.147638320922852, 4.675335884094238, 9.941577911376953, 7.315512180328369, 0.4896184802055359, 0.7248543500900269, 9.53659725189209, 6.35822868347168, 14.338329315185547, -0.982479989528656, 2.417586326599121, 16.657377243041992, 7.2448530197143555, 0.36788567900657654, 2.4538636207580566, 0.7635712623596191, -1.658170223236084, -0.1472676694393158, 16.84638023376465, 2.501723289489746, 7.484527111053467, 18.677383422851562, 16.95253562927246, 10.216029167175293, 0.14394907653331757, 5.810736656188965, -0.8724225163459778, -0.930013120174408, 1.8239043951034546, 3.9866418838500977, 1.9288716316223145, 9.57530403137207, 15.811052322387695, -0.9025102853775024, 0.4898516833782196, -0.33707690238952637, -0.609940230846405, 0.9292209148406982, 1.5317190885543823, 5.517786502838135, 15.82380485534668, 7.574238300323486, 16.287485122680664, 9.595742225646973, 18.310110092163086, -1.2432531118392944, 4.523000717163086, 4.899467468261719, 7.300305366516113, 12.380940437316895, 5.9603447914123535, 5.70196008682251, 10.103913307189941, 4.351200580596924, 0.8958358764648438, 0.5877333879470825, 2.3214633464813232, 1.4652316570281982, 2.404022455215454, 14.338329315185547, 7.675492763519287, 13.414226531982422, -1.0961748361587524, 9.927468299865723, 1.6419552564620972, -0.9822248220443726, 16.59671974182129, 4.286777973175049, -0.8629062175750732, 0.48946478962898254, 4.036201477050781, 7.164687156677246, 6.31885290145874, 1.5106027126312256, 0.6272433996200562, 5.465429306030273, 3.986673355102539, 4.4117302894592285, 6.287876129150391, 4.075687408447266, 1.0544615983963013, 4.616626262664795, 1.1941858530044556, 1.6917787790298462, 2.0579981803894043, 18.372289657592773, 0.9968402981758118, 1.295656442642212, 13.237977027893066, 9.735735893249512, 5.188201427459717, -0.823842465877533, 4.825813293457031, 13.41521167755127, 8.1277437210083, 3.1367506980895996, 5.995253086090088, 2.3783116340637207, 6.78748083114624, 16.695289611816406, 12.45819091796875, 1.616754174232483, -0.6826781630516052, 8.085149765014648, 9.866230010986328, 15.700692176818848, 0.30478769540786743, 0.4891737699508667, 0.11862608045339584, -1.013898253440857, 7.2115912437438965, 3.8305366039276123, -0.25244590640068054, 6.16385555267334, 6.7745561599731445, 6.8845720291137695, 0.7636112570762634, 6.089244365692139, 4.516825199127197, -1.7489979267120361, 12.006754875183105, 18.677387237548828, -0.7064257264137268, 2.3915505409240723, -0.817242443561554, 10.121784210205078, 9.3681001663208, 0.25111743807792664, 2.2470760345458984, 4.85502290725708, 9.420683860778809, 13.237975120544434, 9.536529541015625, 9.31594467163086, 1.1643493175506592, 4.057704448699951, 2.0879275798797607, -0.6739544868469238, 7.5441741943359375, -8.277938842773438, 17.416574478149414, 4.770389080047607, 1.6532948017120361, 9.08059024810791, 5.788503170013428, -1.0347007513046265, 16.04833221435547, 5.785869598388672, 6.863324165344238, 5.327023029327393, 0.4264002740383148, 4.333555221557617, 2.115687608718872, 4.9035139083862305, -0.6774177551269531, 12.87173080444336, 8.033163070678711, -0.969227135181427, 12.094025611877441, 1.8807770013809204, 2.1764702796936035, 4.405519485473633, 3.9118871688842773, 3.2526471614837646, 1.8903067111968994, 7.768029689788818, 13.414121627807617, -1.1353516578674316, 5.794106960296631, 18.310026168823242, 5.378729820251465, -0.6002990007400513, 1.1522479057312012, -1.0599273443222046, -0.5832206606864929, 8.820944786071777, -0.6826786994934082, 16.30759048461914, 7.674596786499023, 7.502010822296143, 7.711244106292725, 10.121973037719727, 1.1979254484176636, 3.699058771133423, 16.49269676208496, 15.686944007873535, 8.305182456970215, -0.6974688768386841, 16.457866668701172, 6.816554069519043, 18.678503036499023, 1.5739814043045044, 1.9305795431137085, 2.4480252265930176, 4.263578414916992, 6.9870991706848145, 5.491497993469238, -0.6099401116371155]}, {\"hovertemplate\": \"Dominant_Topic=Topic 15<br>0=%{x}<br>1=%{y}<br>2=%{z}<extra></extra>\", \"legendgroup\": \"Topic 15\", \"marker\": {\"color\": \"#B6E880\", \"opacity\": 0.7, \"symbol\": \"circle\"}, \"mode\": \"markers\", \"name\": \"Topic 15\", \"scene\": \"scene\", \"showlegend\": true, \"type\": \"scatter3d\", \"x\": [-18.161460876464844, -17.818954467773438, -18.161481857299805, -17.842878341674805, -17.791072845458984, -18.135435104370117], \"y\": [3.131859302520752, 3.37054443359375, 3.1318752765655518, 2.1840248107910156, 3.2088623046875, 3.2659146785736084], \"z\": [7.795856952667236, 6.770822048187256, 7.795808792114258, 6.927251815795898, 6.791962146759033, 7.6454291343688965]}, {\"hovertemplate\": \"Dominant_Topic=Topic 2<br>0=%{x}<br>1=%{y}<br>2=%{z}<extra></extra>\", \"legendgroup\": \"Topic 2\", \"marker\": {\"color\": \"#FF97FF\", \"opacity\": 0.7, \"symbol\": \"circle\"}, \"mode\": \"markers\", \"name\": \"Topic 2\", \"scene\": \"scene\", \"showlegend\": true, \"type\": \"scatter3d\", \"x\": [-5.736841678619385, -5.7393622398376465, -6.609223365783691, -5.347609043121338, -6.411750793457031, -5.736615180969238, -5.7366623878479, -6.609222888946533, -5.736459732055664, -4.894956588745117, -5.812310218811035, -5.736691474914551], \"y\": [-5.484735012054443, -5.487670421600342, -5.752476692199707, -6.4105682373046875, -5.4886698722839355, -5.485090732574463, -5.485050678253174, -5.752476692199707, -5.485239505767822, -5.164100170135498, -4.647773742675781, -5.485024929046631], \"z\": [-9.1683349609375, -9.180882453918457, -10.522008895874023, -9.075716018676758, -10.406007766723633, -9.169618606567383, -9.169456481933594, -10.522008895874023, -9.170232772827148, -9.489139556884766, -9.779777526855469, -9.169356346130371]}, {\"hovertemplate\": \"Dominant_Topic=Topic 3<br>0=%{x}<br>1=%{y}<br>2=%{z}<extra></extra>\", \"legendgroup\": \"Topic 3\", \"marker\": {\"color\": \"#FECB52\", \"opacity\": 0.7, \"symbol\": \"circle\"}, \"mode\": \"markers\", \"name\": \"Topic 3\", \"scene\": \"scene\", \"showlegend\": true, \"type\": \"scatter3d\", \"x\": [17.749792098999023, 11.273956298828125, 18.77300453186035, 4.314991474151611, 7.874260902404785, 17.96753692626953, 14.52375316619873, 7.046182632446289, -8.531657218933105, 11.517232894897461, 14.299739837646484, 11.42101001739502, 14.001224517822266, 17.10701560974121, 7.440940856933594, 11.283333778381348, 6.3459343910217285, 11.957172393798828, 17.97628402709961, 14.117141723632812, 13.651973724365234, 18.979061126708984, 10.765375137329102, 10.357950210571289, 10.82728385925293, 14.4663724899292, 18.149383544921875, 14.392369270324707, 15.52193832397461, 7.87394905090332, 10.765324592590332, 14.85114860534668, 13.683530807495117, 12.75745677947998, 13.597270011901855, 12.36506462097168, 18.145374298095703, 11.380960464477539, 11.272594451904297, 6.074461460113525, 13.88448429107666, 14.133174896240234, 11.567572593688965, 11.624814987182617, 8.979303359985352, 11.279438972473145, 8.337586402893066, 11.957161903381348, 11.15330696105957, 7.1522111892700195, 12.887465476989746, 13.88455867767334, 9.347332954406738, 13.311966896057129, 16.688724517822266, 8.559799194335938, 8.558976173400879, 13.871478080749512, 11.029779434204102, 17.979650497436523, 11.153502464294434, 13.518982887268066, 9.11989974975586, 18.29523468017578, 10.999945640563965, 18.093914031982422, 8.349568367004395, 19.0311222076416, 13.74673843383789, 18.83698272705078, 7.877023220062256, 11.238636016845703, 11.259498596191406, 7.8733978271484375, 18.952896118164062, 13.819360733032227, 11.600464820861816, 12.879415512084961, 11.153504371643066, 8.84988021850586, 11.201476097106934, 15.79134750366211, 14.275272369384766, 8.978811264038086, 19.924823760986328, 12.887831687927246, 12.221173286437988, 14.375195503234863, 11.504423141479492, 13.197653770446777, 7.191213130950928, 11.545010566711426, 11.231390953063965, 13.674112319946289, -2.1393771171569824, 10.846513748168945, 11.897017478942871, 14.299579620361328, 18.66610336303711, -8.802712440490723, 17.952627182006836, 8.980255126953125, 13.133354187011719, 14.46633529663086, 17.817197799682617, 11.960445404052734, 8.979569435119629, 8.34813117980957, 14.313130378723145, 7.032688140869141, 15.590118408203125, 9.010817527770996, 12.541558265686035, 11.247824668884277, -10.296897888183594, 19.240100860595703, 14.2749605178833, 11.23868179321289, 7.873997688293457, 6.583005905151367, 13.584419250488281, 19.360469818115234, 11.08746337890625, 11.653454780578613, 12.1100435256958, 9.820505142211914, 11.449957847595215, 7.395543575286865, 7.932075023651123, 14.305110931396484, 4.3150763511657715, 13.435105323791504, 13.31476879119873, 6.479271411895752, 8.29327392578125, 9.886054992675781, 14.299697875976562, 8.979500770568848, 7.0880961418151855, 15.557392120361328, 13.978199005126953, 7.757465362548828, 12.561427116394043, 6.345926284790039, 11.869695663452148, 13.271292686462402, 11.29418659210205, 8.917196273803711, 16.968183517456055, 11.95627498626709, 11.714816093444824, 18.16375160217285, 11.273911476135254, 18.695690155029297, 7.327570915222168, 14.506662368774414, 18.772905349731445, 11.153603553771973, 7.238452911376953, 9.146011352539062, 11.540668487548828, 18.174955368041992, 10.737100601196289, 13.069360733032227, 18.09393882751465, 10.74008560180664, 11.346306800842285, 15.242372512817383, 7.873508453369141, 18.687231063842773, 11.357476234436035, 5.322997093200684, 7.193918704986572, 10.688044548034668, 4.470842361450195, 8.403681755065918, 6.345931529998779, 9.90445613861084, 10.87307071685791, 8.979397773742676, 11.239012718200684, 12.84182071685791, -8.520622253417969, 8.846386909484863, 11.279438972473145, 6.620365142822266, 7.408480167388916, 12.152042388916016, 15.242463111877441, 18.094684600830078, 11.419280052185059, 15.563416481018066, 19.75275993347168, 11.421114921569824, 11.421025276184082, 8.255705833435059, 11.203629493713379, 9.398744583129883, 13.884377479553223, 12.968175888061523, 9.34736156463623, 9.726607322692871, 6.176321506500244, 11.080000877380371, 11.273871421813965, 17.966524124145508, 17.968252182006836, 4.315175533294678, 13.287006378173828, 17.852874755859375, 17.965091705322266, 4.315075397491455, 14.262114524841309, 8.688286781311035, 17.717294692993164, 11.280479431152344, 7.046170234680176, 11.15369987487793, 11.428474426269531, 11.153627395629883, 13.435332298278809, 11.152369499206543, 8.98054313659668, 11.034477233886719, 8.917462348937988, 5.126229286193848, 7.87333345413208, 6.8335371017456055, 11.83824348449707, 12.641962051391602, 17.96753692626953, 17.963726043701172, 12.491278648376465, -8.802777290344238, 15.52207088470459, 19.173553466796875, 8.256162643432617, 9.416488647460938, 8.406463623046875, 11.152826309204102, 13.593024253845215, 7.534435272216797, 11.420917510986328, 7.111349105834961, 16.193180084228516, 11.176551818847656, 17.96648406982422, 11.3638916015625, 14.033185958862305, 13.3985595703125, -8.531656265258789, 17.764312744140625, 13.596237182617188, 18.295095443725586, 11.476655960083008, 11.94902229309082, 19.25493621826172, 8.255335807800293, 11.420859336853027, 5.3981451988220215, 16.632165908813477, 5.3981451988220215, 14.703117370605469, 19.040294647216797, 12.753623962402344, 15.590119361877441, 10.648186683654785, 7.873414993286133, 11.033814430236816, 13.294635772705078, -8.802647590637207, 14.649951934814453, 19.36749839782715, 23.740751266479492, 14.261621475219727, 18.78784942626953, 8.197015762329102, 12.806702613830566, 14.26170539855957, -7.822133541107178], \"y\": [-2.0123138427734375, -5.910981178283691, -3.9915032386779785, -6.610215187072754, 1.3141785860061646, -0.3664940595626831, -4.565392971038818, -8.399864196777344, -8.836503028869629, -6.192525386810303, -2.3649423122406006, 4.924776554107666, -4.6916093826293945, -1.9885536432266235, -3.7242493629455566, -1.5107464790344238, -9.515165328979492, -6.5223388671875, -0.3558230698108673, -3.152434825897217, -0.3422575891017914, -2.0979480743408203, 2.0837254524230957, -4.918143272399902, 4.093597412109375, 1.0951640605926514, -2.0671801567077637, -3.365783452987671, -2.093660354614258, 1.3138294219970703, 2.083652973175049, -2.1236705780029297, -3.2786788940429688, -2.9412336349487305, -4.0860276222229, 4.483366012573242, -1.6861528158187866, -2.188551664352417, 4.469020843505859, -4.617945671081543, 0.34360578656196594, -0.011865607462823391, -1.4313461780548096, -1.4965734481811523, -5.270345687866211, -4.633969783782959, -2.660902500152588, -6.522356986999512, 3.7164409160614014, -3.8615105152130127, 4.725155353546143, 0.34360527992248535, -2.002331495285034, -2.220463752746582, -2.5237770080566406, -2.6063613891601562, -2.6060233116149902, 0.3766038417816162, 4.6443047523498535, -1.9889925718307495, 3.716090679168701, -5.59600305557251, 1.8605527877807617, -0.788116455078125, -3.1375017166137695, 0.736589252948761, -3.041038990020752, -1.2020701169967651, -4.042815208435059, -1.9210975170135498, 1.3073784112930298, -4.3900346755981445, -5.932092189788818, 1.3144609928131104, -1.0827938318252563, -5.431503772735596, -2.270657539367676, -2.6556296348571777, 3.71621036529541, 4.677937030792236, 4.86257791519165, -3.5558009147644043, -1.3584330081939697, -5.270382404327393, -1.8990732431411743, 4.725086212158203, -1.2732837200164795, -4.171902656555176, 2.1296682357788086, -2.6559324264526367, -6.571942329406738, 2.898505449295044, -4.886879920959473, -3.663113594055176, 2.820955276489258, 4.34740686416626, -2.0847463607788086, -2.365013837814331, -1.7644777297973633, -9.975624084472656, -2.162306070327759, -5.270275115966797, -1.5219943523406982, 1.095241665840149, -1.5396226644515991, 1.1654301881790161, -5.270121097564697, -0.46573472023010254, -4.11038064956665, -6.144129276275635, 0.21743449568748474, 2.226127862930298, 3.452188730239868, -4.8842668533325195, 0.8293697834014893, -2.044210433959961, -1.3588556051254272, -4.390162467956543, 1.314207673072815, -3.4785799980163574, -2.4884626865386963, -1.6357669830322266, 4.070735454559326, -5.394207000732422, -1.1076104640960693, -3.7624316215515137, 2.9088940620422363, -5.900916576385498, -2.55987286567688, -5.107112407684326, -6.609930038452148, -5.35487174987793, -3.403656005859375, -9.467849731445312, -3.9299206733703613, 4.098845958709717, -2.3649067878723145, -5.27030611038208, -5.754124164581299, -1.065368890762329, -2.9139316082000732, -2.6653237342834473, -2.6325056552886963, -9.515409469604492, -1.200575828552246, -2.348808765411377, 4.173371315002441, -6.3847784996032715, 4.836568355560303, 4.085172653198242, -6.1321587562561035, -1.7223159074783325, -5.91098165512085, -1.41390061378479, -8.47573471069336, -3.7853541374206543, -3.9915740489959717, 3.716003179550171, 0.24974408745765686, 4.386026859283447, 2.1555137634277344, 0.49749186635017395, 4.640857219696045, -1.8929426670074463, 0.7365956902503967, 4.852494716644287, -4.617303848266602, -3.844682455062866, 1.3124066591262817, -0.4848349690437317, 2.8911309242248535, -10.053271293640137, 1.029101014137268, -6.261850833892822, -6.502098083496094, -7.6346330642700195, -9.515166282653809, -4.991360664367676, 4.317158222198486, -5.270326614379883, -4.390280723571777, 5.209834575653076, -10.487264633178711, 1.7317768335342407, -4.633969783782959, -3.4581501483917236, -5.875121116638184, -1.6924521923065186, -3.8447134494781494, 0.7347028255462646, -1.8677788972854614, -0.5829706788063049, -0.8953022956848145, 4.92514705657959, 4.924867153167725, -6.016841888427734, 4.919337272644043, 4.201758861541748, 0.3436213731765747, -2.4376630783081055, -2.0023324489593506, -6.254083633422852, -4.606200218200684, 5.794984340667725, -5.910979270935059, -0.36527496576309204, -0.36945581436157227, -6.609938621520996, -2.1806931495666504, -1.5220800638198853, -0.3165254294872284, -6.609930515289307, -1.3512636423110962, -2.8925845623016357, -1.6744366884231567, -4.6332106590271, -8.399787902832031, 3.7159223556518555, -2.3169057369232178, 3.716093063354492, -5.354876518249512, 3.7169888019561768, -5.27004337310791, -4.601337432861328, -6.384703636169434, -6.540081977844238, 1.3126072883605957, -10.146368980407715, -4.963736057281494, -2.1574385166168213, -0.3664926588535309, -0.31983640789985657, -1.84406316280365, -9.97557544708252, -2.0936853885650635, -1.3678289651870728, 3.387937545776367, 4.087255001068115, -7.630058765411377, 3.716594934463501, -0.4908393919467926, -3.733705759048462, 4.924689292907715, -6.3586907386779785, -3.1601037979125977, -4.632205009460449, -0.36541271209716797, 4.662424087524414, -3.4537734985351562, -0.3870389461517334, -8.836471557617188, -2.0372135639190674, 3.1068427562713623, -0.7880175709724426, 2.8101091384887695, 1.3559012413024902, -1.3716856241226196, -6.0169291496276855, 4.924689292907715, -10.106038093566895, -0.25774675607681274, -10.106054306030273, 0.95862877368927, -0.9903934597969055, -2.9144957065582275, 0.2172880321741104, 4.588251113891602, 1.3144328594207764, -4.610648155212402, -3.7331745624542236, -9.975701332092285, -3.403883218765259, -1.8732197284698486, 8.050929069519043, -1.3512951135635376, -1.2524477243423462, -2.502053737640381, -1.8176262378692627, -1.3512085676193237, -9.837152481079102], \"z\": [-6.094544887542725, -3.931262254714966, -6.154173851013184, 0.8739696741104126, -2.451936960220337, -1.381251573562622, 0.0025566176045686007, -2.276293992996216, -4.3893656730651855, -4.816107273101807, -6.197649002075195, -5.556282043457031, 0.649589478969574, -2.127540111541748, 4.112585544586182, -1.3913500308990479, -2.6055424213409424, 4.0852742195129395, -1.3805876970291138, 0.255652517080307, -4.430569648742676, -7.184289932250977, 1.083086371421814, -5.522744655609131, 8.37573528289795, -2.9418609142303467, -5.7446489334106445, -0.28509214520454407, -6.389764308929443, -2.4522321224212646, 1.0831259489059448, 3.903682231903076, 0.4349592626094818, -0.9841512441635132, -0.3174758553504944, 8.599648475646973, -5.675593852996826, -1.0424202680587769, 7.918801784515381, 5.197025299072266, 4.130677223205566, 4.785360813140869, -1.701885461807251, -0.6847788691520691, 6.5405168533325195, 5.995631217956543, -3.0458824634552, 4.085228443145752, 1.047576904296875, 4.324409008026123, -5.329746723175049, 4.130688667297363, 1.5126641988754272, -1.084368109703064, -2.310155153274536, 1.9826064109802246, 1.98301362991333, 4.1378397941589355, 8.72871208190918, -5.635333061218262, 1.047239065170288, -0.14321810007095337, 0.6202594637870789, -2.663120746612549, 5.811101913452148, -3.8491268157958984, -3.359985828399658, -6.925588130950928, 0.5670693516731262, -7.361110210418701, -2.4558184146881104, -0.15203391015529633, -3.954463481903076, -2.4521288871765137, 0.5257152915000916, 0.13155120611190796, -1.7455538511276245, -1.2647972106933594, 1.0471925735473633, -3.775815486907959, 8.5053071975708, -3.1266584396362305, 3.741354465484619, 6.540584564208984, -8.106158256530762, -5.329844951629639, -1.6766284704208374, 0.6042641997337341, 6.026158809661865, -1.2245317697525024, 0.21024534106254578, -5.638789176940918, 5.8543782234191895, -0.6725397706031799, 0.015590502880513668, 7.904268264770508, -1.9778282642364502, -6.197576522827148, -7.374139308929443, 2.747105598449707, -5.926633834838867, 6.541193008422852, 3.0801074504852295, -2.9418954849243164, -5.946853160858154, 4.860601902008057, 6.540431499481201, -2.655836582183838, -0.34839358925819397, -2.3404922485351562, 2.521484613418579, 0.554064929485321, -0.5300988554954529, 5.856942653656006, -1.261889100074768, -6.969343185424805, 3.7407004833221436, -0.15198162198066711, -2.452061653137207, -4.3065314292907715, -0.6730831861495972, -6.7028679847717285, 8.376607894897461, -3.158142328262329, -1.219353199005127, 1.837388515472412, -6.671640396118164, -2.3971612453460693, 1.145399808883667, 0.28394412994384766, 0.8738434910774231, -3.5452442169189453, 0.23852448165416718, -2.5537502765655518, -3.3527982234954834, 0.5636112689971924, -6.197400093078613, 6.540473937988281, -1.3885447978973389, 2.334306478500366, -0.18526680767536163, 1.3405792713165283, -0.42609459161758423, -2.6056203842163086, -0.8809835910797119, 4.865654945373535, 8.176410675048828, 4.074775218963623, -1.7892659902572632, 9.275322914123535, 4.192498207092285, -5.668682098388672, -3.9312613010406494, -7.320651531219482, -2.2481703758239746, 0.26470401883125305, -6.154166221618652, 1.0469087362289429, -1.3503443002700806, -3.808056354522705, 6.032886505126953, -4.051136493682861, 7.978644371032715, -0.7772536873817444, -3.8491811752319336, 8.218381881713867, 5.67861795425415, -3.593492031097412, -2.453935384750366, 2.7724671363830566, -7.269545078277588, -1.2088028192520142, -5.1055006980896, 3.762354612350464, 2.501601219177246, 6.560491561889648, -2.6055421829223633, 7.185250759124756, 8.675572395324707, 6.540521621704102, -0.15183882415294647, -5.006887912750244, 2.325777530670166, -2.7638509273529053, 5.995631217956543, -4.36097526550293, -0.9811770915985107, -1.9739890098571777, -3.593395948410034, -3.8503122329711914, -0.7613482475280762, 2.4411911964416504, -7.5877485275268555, -5.556307315826416, -5.556299209594727, -2.652705430984497, 8.347777366638184, -3.8135597705841064, 4.130611896514893, -0.15529325604438782, 1.5127365589141846, 3.9680845737457275, 5.135790824890137, 6.928622245788574, -3.9313323497772217, -1.3728286027908325, -1.3663374185562134, 0.8739082217216492, -0.352934867143631, -5.914721965789795, -1.3036348819732666, 0.8738430142402649, 3.7425923347473145, -3.439531087875366, -6.069590091705322, 5.994876861572266, -2.2763044834136963, 1.0463308095932007, -1.4104257822036743, 1.0464808940887451, -3.5452518463134766, 1.0522464513778687, 6.541090965270996, 5.724889278411865, 4.074782371520996, 2.09623384475708, -2.4538443088531494, -2.99422287940979, -2.4122753143310547, -0.39269110560417175, -1.3812512159347534, -1.3021975755691528, -1.235517978668213, 2.747176170349121, -6.389784812927246, -1.897590160369873, 0.5620774626731873, 7.954211711883545, 6.558876037597656, 1.0494632720947266, -4.8284831047058105, 4.154088973999023, -5.556269645690918, 0.2896471917629242, -2.7571537494659424, 5.6298017501831055, -1.3728138208389282, 8.056740760803223, -0.7024686932563782, -4.964646816253662, -4.3893351554870605, -6.083819389343262, 1.5395081043243408, -2.6625168323516846, 6.69791316986084, 5.073958873748779, -6.752114772796631, -2.6525862216949463, -5.556265354156494, -1.447069764137268, -0.7634276747703552, -1.4470703601837158, 3.5519485473632812, 0.8292461633682251, -0.6409742832183838, 2.521440029144287, 8.535750389099121, -2.4521379470825195, 5.721027374267578, -0.06805889308452606, 2.7470109462738037, -4.6651387214660645, -6.831437110900879, -18.867382049560547, 3.7423534393310547, -7.17804479598999, 1.4268375635147095, 2.7630951404571533, 3.7424957752227783, 4.282998561859131]}, {\"hovertemplate\": \"Dominant_Topic=Topic 4<br>0=%{x}<br>1=%{y}<br>2=%{z}<extra></extra>\", \"legendgroup\": \"Topic 4\", \"marker\": {\"color\": \"#636efa\", \"opacity\": 0.7, \"symbol\": \"circle\"}, \"mode\": \"markers\", \"name\": \"Topic 4\", \"scene\": \"scene\", \"showlegend\": true, \"type\": \"scatter3d\", \"x\": [-6.758047580718994, -8.620959281921387, -5.95767879486084, -7.8268632888793945, -8.86577033996582, -8.709735870361328, -7.093299388885498, -8.167835235595703, -10.10015869140625, -6.734690189361572, -7.566317081451416, -4.142210006713867, -7.414534568786621, -10.100228309631348, -6.686363220214844, -8.760955810546875, -7.171896457672119, -6.744097709655762, -4.679972171783447, -7.66602087020874, -6.460601806640625, -8.706002235412598, -7.081903457641602, -7.7701191902160645, -7.87136697769165, -7.751131534576416, -1.9728115797042847, -9.259688377380371, -6.809699535369873, -7.1596760749816895, -7.951305866241455, -7.1104559898376465, -10.050300598144531, -1.9729570150375366, -1.9725950956344604, -10.405006408691406, -8.71036434173584, -6.686307430267334, -8.88963508605957, -9.580236434936523, -10.404860496520996, -6.583023548126221, -7.2479071617126465, -1.9721980094909668, -8.620274543762207, -8.273526191711426, -8.888635635375977, -1.9728151559829712, -7.729160785675049, -4.142210483551025, -8.621565818786621, -6.190474033355713, -6.714163303375244, -7.2691216468811035, -7.574338912963867, -6.767366886138916, -5.95716667175293, -6.402005195617676, -8.273526191711426, 8.33673095703125, 10.855478286743164, -9.580239295959473, -6.540686130523682, -4.330987930297852, -9.037343978881836, -9.579622268676758, -5.957662105560303, -1.9729000329971313, -6.868724822998047, -6.686344623565674, -7.918309688568115, -8.33631420135498, -9.580148696899414, -7.169748783111572, -7.609938144683838, -4.33093786239624], \"y\": [8.163583755493164, 11.911835670471191, 4.568929672241211, 8.06690502166748, 6.605950832366943, 11.810763359069824, 9.04332160949707, 8.390863418579102, 11.181344985961914, 8.596813201904297, 7.697451114654541, 6.478848934173584, 7.71241569519043, 11.181010246276855, 7.139004707336426, 13.720755577087402, 8.337896347045898, 8.042133331298828, 13.017322540283203, 8.358138084411621, 8.188214302062988, 11.808283805847168, 9.260963439941406, 8.167854309082031, 8.91290283203125, 8.788084030151367, 8.561020851135254, 11.947916030883789, 9.000252723693848, 7.594699859619141, 8.73939323425293, 7.915322303771973, 8.626740455627441, 8.56103801727295, 8.560970306396484, 10.543108940124512, 11.811026573181152, 7.139139652252197, 11.686407089233398, 12.638504981994629, 10.543441772460938, 9.007616996765137, 8.632465362548828, 8.560677528381348, 11.914544105529785, 13.093818664550781, 11.685613632202148, 8.561033248901367, 9.278884887695312, 6.478806495666504, 11.91273021697998, 5.1703290939331055, 9.308707237243652, 8.525287628173828, 9.046895980834961, 7.78772497177124, 4.568722724914551, 8.651617050170898, 13.093818664550781, 3.796081066131592, 4.642429351806641, 12.638497352600098, 8.668050765991211, 4.827198028564453, 6.365145683288574, 12.639518737792969, 4.569252967834473, 8.561033248901367, 7.395503997802734, 7.139251708984375, 7.569881916046143, 8.166051864624023, 12.638653755187988, 9.627004623413086, 9.149412155151367, 4.82715368270874], \"z\": [7.009206771850586, 7.917866230010986, 5.172290802001953, 6.104511737823486, 5.478736400604248, 7.542651653289795, 7.055124282836914, 6.408214092254639, 6.763571739196777, 7.08886194229126, 6.250979900360107, 6.424736022949219, 7.286390781402588, 6.7633957862854, 1.9987848997116089, 7.168510913848877, 5.050541400909424, 5.772512912750244, 2.3758673667907715, 5.370293617248535, 6.116635322570801, 7.542618274688721, 6.369298458099365, 7.434366226196289, 6.731462001800537, 5.487031936645508, 8.00498104095459, 8.854235649108887, 4.8778157234191895, 6.484477996826172, 7.319127559661865, 5.634912014007568, 4.628634929656982, 8.00501823425293, 8.004923820495605, 6.346131801605225, 7.542438507080078, 1.9988902807235718, 7.840210914611816, 7.693909645080566, 6.3463335037231445, 6.15421199798584, 7.6136393547058105, 8.004826545715332, 7.918227672576904, 7.145771503448486, 7.840140342712402, 8.004968643188477, 5.5197625160217285, 6.424737930297852, 7.91914176940918, 5.197423458099365, 5.6553449630737305, 6.277677059173584, 6.348427772521973, 6.701506614685059, 5.17130708694458, 6.347067356109619, 7.145771503448486, 0.832606852054596, 1.7203309535980225, 7.693881034851074, 5.337177753448486, 5.812138557434082, 5.389557361602783, 7.698102951049805, 5.172322750091553, 8.005001068115234, 8.416926383972168, 1.9989172220230103, 6.946526527404785, 6.950675964355469, 7.69452428817749, 5.326597690582275, 4.640400409698486, 5.811933994293213]}, {\"hovertemplate\": \"Dominant_Topic=Topic 5<br>0=%{x}<br>1=%{y}<br>2=%{z}<extra></extra>\", \"legendgroup\": \"Topic 5\", \"marker\": {\"color\": \"#EF553B\", \"opacity\": 0.7, \"symbol\": \"circle\"}, \"mode\": \"markers\", \"name\": \"Topic 5\", \"scene\": \"scene\", \"showlegend\": true, \"type\": \"scatter3d\", \"x\": [3.318093776702881, 1.4835532903671265, -2.887125253677368, 2.4581549167633057, 2.948936939239502, 6.534479141235352, 2.3797008991241455, 5.249013900756836, 4.466763019561768, 4.018024444580078, 5.6293864250183105, 3.7762291431427, 6.537762641906738, 2.534715175628662, 1.7249847650527954, 3.9939422607421875, 4.172018527984619, 4.00972843170166, 2.745609760284424, 3.6622140407562256, 6.9274492263793945, 4.005956649780273, 4.189908504486084, 7.451606273651123, 4.1899094581604, 6.772066116333008, 2.9489386081695557, 3.8790476322174072, 2.8945159912109375, 5.447138786315918, 3.426893711090088, 5.2490129470825195, 4.529331684112549, 2.4371416568756104, 2.7690343856811523, 2.1404008865356445, -2.888911485671997, 4.466808795928955, 3.4242560863494873, 3.8052003383636475, 3.546316623687744, 2.1404011249542236, 6.537344455718994, 2.4269039630889893, 6.534976959228516, 2.3797011375427246, 6.534092903137207, 4.466756820678711, -2.8889105319976807, -2.889317750930786, 5.249077320098877, 3.318093776702881, 4.466124534606934, 6.532857894897461, 6.536494731903076, 1.7337883710861206, 2.5959951877593994, 4.189927101135254, 3.7307498455047607], \"y\": [4.1802897453308105, 0.9663136601448059, 1.6129801273345947, 4.99332332611084, 5.3605475425720215, 4.75818395614624, 3.3720850944519043, 2.024354934692383, 7.699966907501221, 3.5228967666625977, 4.602115631103516, 3.6251227855682373, 4.7575812339782715, 4.985637664794922, 1.2396475076675415, 2.028181791305542, 6.82737922668457, 3.6732378005981445, 2.6249146461486816, 3.5603504180908203, 3.486593008041382, 3.673668146133423, 3.6645500659942627, 9.885711669921875, 3.6645572185516357, 3.3954968452453613, 5.360524654388428, 3.1546716690063477, 5.226857662200928, 2.103743076324463, 3.3173036575317383, 2.024354934692383, 6.594574928283691, 5.077218532562256, 5.367147445678711, 5.856120586395264, 1.452071189880371, 7.699978828430176, 3.329685926437378, 3.431084632873535, 3.207240581512451, 5.8561201095581055, 4.7576003074646, 5.258697032928467, 4.758063793182373, 3.3720850944519043, 4.758249759674072, 7.699975967407227, 1.4525490999221802, 1.4525824785232544, 2.0242371559143066, 4.1802897453308105, 7.699791431427002, 4.757872581481934, 4.757843971252441, 6.295283794403076, 5.266829967498779, 3.664536952972412, 3.4152419567108154], \"z\": [-3.906022310256958, -1.2574915885925293, -2.2722506523132324, -0.9711752533912659, -0.9449821710586548, 1.108705997467041, -3.5108642578125, -3.335688352584839, -3.379059076309204, -1.3829011917114258, 0.3769048750400543, -1.8524140119552612, 1.1102123260498047, -0.8676681518554688, -1.158437967300415, -0.3587506115436554, -2.5844602584838867, -1.6446869373321533, 0.0863397866487503, -1.8659206628799438, 0.06906487792730331, -1.645521879196167, 4.769740581512451, 1.1530524492263794, 4.769746780395508, 0.009229266084730625, -0.9449352025985718, -1.6477619409561157, -0.7818521857261658, -2.483196258544922, -1.5601214170455933, -3.335688591003418, -2.494223117828369, -1.1621620655059814, -1.2660771608352661, -0.6956614255905151, -2.477820634841919, -3.379180431365967, -1.5793460607528687, -1.2517415285110474, -1.685827374458313, -0.6956616640090942, 1.1104388236999512, 0.057702310383319855, 1.1087671518325806, -3.510864019393921, 1.108359456062317, -3.379075527191162, -2.476235866546631, -2.47617769241333, -3.3359363079071045, -3.906022310256958, -3.3794639110565186, 1.1084316968917847, 1.1097627878189087, -0.5396566987037659, -1.3062628507614136, 4.769704818725586, -1.2513188123703003]}, {\"hovertemplate\": \"Dominant_Topic=Topic 6<br>0=%{x}<br>1=%{y}<br>2=%{z}<extra></extra>\", \"legendgroup\": \"Topic 6\", \"marker\": {\"color\": \"#00cc96\", \"opacity\": 0.7, \"symbol\": \"circle\"}, \"mode\": \"markers\", \"name\": \"Topic 6\", \"scene\": \"scene\", \"showlegend\": true, \"type\": \"scatter3d\", \"x\": [-14.687725067138672, -8.17602825164795, -4.9718523025512695, -10.35609245300293, -2.489623546600342, -12.2401704788208, -8.290555000305176, -14.05083179473877, -9.576107025146484, -13.734515190124512, -14.988018035888672, -10.601644515991211, -10.816686630249023, -15.0131254196167, -12.96638298034668, -12.004021644592285, -15.025307655334473, -10.407502174377441, -10.694762229919434, -9.713293075561523, -12.966383934020996, -10.613563537597656, -8.29063892364502, -14.717402458190918, -6.989043712615967, -10.463253021240234, -12.968034744262695, -14.331878662109375, -9.874646186828613, -8.290637016296387, -1.5910513401031494, -2.9029970169067383, -2.4896249771118164, -14.381762504577637, -4.560153961181641, -4.935225963592529, -4.552877902984619, -1.8347212076187134, -10.372518539428711, -14.208297729492188, -7.151158809661865, -10.022324562072754, -14.45615005493164, -1.8347210884094238, -1.643724799156189, -9.062119483947754, -7.151158809661865, -5.941269397735596, -10.227977752685547, -9.636704444885254, -10.768790245056152, -10.884275436401367, -12.217095375061035, -14.724161148071289, -13.7659330368042, -11.939812660217285, -7.825691223144531, -11.71346378326416, -9.286822319030762, -7.850054740905762, -9.542415618896484, -13.790526390075684, -6.680556297302246, -14.468453407287598, -8.48201847076416, -14.632495880126953, -15.213013648986816, -4.720272064208984, -14.050631523132324, -9.192657470703125, -11.051039695739746, -14.381762504577637, -7.70681619644165, -5.9414591789245605, -10.462888717651367, -14.381762504577637, -14.724162101745605, -13.411604881286621, -14.173932075500488, -9.062134742736816, -11.615955352783203, -8.788009643554688, -5.075570106506348, -4.805822372436523, -5.721982479095459, -9.899639129638672, -4.146735668182373, -5.11013126373291, -10.114217758178711, -5.721982479095459, -10.932530403137207, -4.410069942474365, -6.263667106628418, -8.13864803314209, -4.278787612915039, -5.800053596496582, -5.094857215881348, -5.2570390701293945, -4.402598857879639, -13.790443420410156, -14.458860397338867, -9.779690742492676, -8.69206714630127, -13.529217720031738, -10.022326469421387, -8.027776718139648, -12.24011516571045, -8.299779891967773, -10.1179838180542, -10.913973808288574, -10.480788230895996, -14.380735397338867, -14.208296775817871, -15.137935638427734, -8.69214916229248, -12.968033790588379, -9.344036102294922, -14.007349967956543, -14.050631523132324, -12.44285774230957, -15.137920379638672, -12.217291831970215, -14.372502326965332, -7.854379177093506, -9.54257869720459, -11.939701080322266, -14.352705001831055, -12.966602325439453, -10.883284568786621, -9.169414520263672, -9.874820709228516, -10.227977752685547, -15.152787208557129, -8.17602825164795, -10.591448783874512, -14.988018989562988, -14.050859451293945, -9.771086692810059, -10.392912864685059, -14.17379379272461, -9.389669418334961, -0.6939939856529236, -5.83369255065918, -9.10362434387207, -10.875349044799805, 5.946142673492432, -8.290695190429688, -10.350360870361328, -10.591196060180664, -8.673887252807617, -14.468467712402344, -5.833695411682129, -10.393296241760254, -14.45898151397705, -9.874902725219727, -9.474788665771484, 0.929307758808136, -10.071588516235352, -12.215694427490234, -15.019347190856934, -8.219770431518555, -14.174529075622559, -2.2916338443756104, -14.224235534667969, -9.574296951293945, -14.758586883544922, -10.341514587402344, -10.171412467956543, -1.0910085439682007, -7.551988124847412, -8.176051139831543, -12.903246879577637, -11.030013084411621, -10.225883483886719, -2.927446126937866, -5.023895740509033, -5.1325201988220215, -10.441864013671875, -9.176202774047852, -9.002326011657715, -0.14525862038135529, -14.381869316101074, -10.118058204650879, -9.874746322631836, -9.984519958496094, -9.700278282165527, -15.213010787963867, -9.153645515441895, -14.17408275604248, -9.771751403808594, -5.981764793395996, -9.153679847717285, -8.067169189453125, -4.218041896820068, -5.0238938331604, -12.427490234375, -6.685929298400879, -12.222404479980469, -0.3631415069103241, -10.097182273864746, -10.370156288146973, -7.819735050201416, -9.359868049621582, -9.557392120361328, -14.050786018371582, -11.738985061645508, 0.7206054925918579, -2.9029970169067383, -4.545688152313232, -14.685858726501465, -1.5910435914993286, -16.301027297973633, -3.340559244155884, -7.720330238342285, -14.208287239074707, -3.66951322555542, -2.869469165802002, -9.874646186828613, -4.155362606048584, -10.875423431396484], \"y\": [-7.084561824798584, -0.5842786431312561, -8.41549015045166, -4.011320114135742, -6.888909816741943, -3.736821413040161, -3.633838653564453, -2.185163736343384, -4.14536190032959, -6.003371715545654, -6.847209930419922, -8.30688190460205, -5.253046035766602, -3.0052506923675537, -6.661217212677002, -1.9642024040222168, -4.290398597717285, 0.09739132970571518, 1.7455092668533325, 0.755943238735199, -6.661218166351318, -8.400245666503906, -3.6339304447174072, -1.0609036684036255, -8.211766242980957, -4.203562259674072, -6.661777496337891, -6.0814290046691895, 2.1599373817443848, -3.6338350772857666, -6.804953098297119, -4.275650501251221, -6.888911247253418, -6.10552453994751, -9.35682487487793, -8.206382751464844, -8.26622486114502, -4.444637775421143, -4.906864643096924, -0.7117785215377808, -4.153993129730225, -4.587202548980713, -3.3730952739715576, -4.444637775421143, -6.805502414703369, -2.1088602542877197, -4.153993129730225, -4.0387139320373535, -1.830690622329712, 4.381977558135986, -5.690811634063721, -8.9271879196167, -1.3486149311065674, -4.892836570739746, -7.466397762298584, -3.1313319206237793, -1.8757644891738892, -7.145909786224365, -4.783150672912598, -3.9192585945129395, -7.740817070007324, -4.001548767089844, -8.293152809143066, -1.941362977027893, -9.757965087890625, -7.12930965423584, -1.7544395923614502, -8.799901962280273, -2.1852595806121826, -5.326127529144287, -4.683502197265625, -6.10552453994751, 2.55989146232605, -4.038723945617676, -1.250646710395813, -6.10552453994751, -4.892833232879639, -0.6767488121986389, -0.4953543245792389, -2.1088550090789795, -2.3565611839294434, -3.2096049785614014, -8.774731636047363, -9.377768516540527, -9.915153503417969, -4.5550537109375, -8.578523635864258, -9.252494812011719, -5.597635746002197, -9.915153503417969, -4.547877311706543, -8.280426979064941, -6.146937370300293, -4.029541015625, -8.750951766967773, -3.9751222133636475, -8.440190315246582, -9.040802955627441, -9.147071838378906, -4.001561164855957, -1.708201289176941, -4.5659499168396, -4.0201239585876465, -5.779446125030518, -4.587202548980713, -3.9345037937164307, -3.7368221282958984, -3.614248037338257, 0.7170354127883911, -4.709978103637695, -1.2631078958511353, -2.8526148796081543, -0.7117809653282166, -2.8576791286468506, -4.020279407501221, -6.661777973175049, -4.764278888702393, -0.5673978328704834, -2.185227870941162, -1.2335139513015747, -2.8576791286468506, -1.3484548330307007, -5.478041172027588, -0.3994874954223633, -7.740703582763672, -3.1312687397003174, -2.8071300983428955, -6.661288738250732, -8.927610397338867, -8.735419273376465, 2.160031795501709, -1.830690622329712, -3.535275459289551, -0.5842787027359009, -5.433265209197998, -6.847209930419922, -2.1851236820220947, -5.799623489379883, -4.45637321472168, -0.49541014432907104, -0.9946581125259399, -0.5712994337081909, -1.7270402908325195, -5.268618106842041, 1.6775786876678467, -9.928303718566895, -3.6339681148529053, 0.06500251591205597, 2.3678948879241943, -1.604117512702942, -1.9413208961486816, -1.727040410041809, -0.41739386320114136, -1.7081116437911987, 2.1602182388305664, -5.815029621124268, -1.5767878293991089, -9.249594688415527, -6.6220855712890625, -7.176586627960205, -2.5803780555725098, -0.49498072266578674, -7.240483283996582, -1.778233528137207, 4.324132919311523, -0.7378301024436951, -5.1003336906433105, -4.962522029876709, -0.5848239660263062, 3.283162832260132, -0.5842316150665283, -7.65275239944458, -5.3677077293396, -9.226805686950684, -7.6301045417785645, -3.617908477783203, -8.907938957214355, -5.85042142868042, -4.478799343109131, -1.3875864744186401, 3.4370594024658203, -6.105461120605469, 0.7167567610740662, 2.159858226776123, -5.0257463455200195, -4.121885776519775, -1.7544806003570557, -1.2219910621643066, -0.49531835317611694, -5.373263359069824, -6.177732944488525, -1.2221688032150269, 3.242213010787964, -9.984471321105957, -3.617908000946045, -1.8859457969665527, -8.291327476501465, -6.621676921844482, 3.233656167984009, -5.939350128173828, -4.091174602508545, 3.1285786628723145, -1.8170758485794067, -5.308929443359375, -2.1850852966308594, -7.1421685218811035, -6.9351115226745605, -4.275650501251221, -8.7346773147583, -7.084290504455566, -6.804945945739746, 2.002077341079712, -7.257616996765137, -1.7575737237930298, -0.7120407223701477, -7.575585842132568, -6.869579792022705, 2.1599316596984863, -9.04836654663086, 1.6774529218673706], \"z\": [4.886353015899658, -1.545157790184021, 6.3147358894348145, 1.5875940322875977, 0.5119310617446899, -6.461013317108154, 6.380307674407959, 2.305938959121704, 1.9666523933410645, 5.2346110343933105, 4.092161178588867, 1.2895005941390991, 0.9337687492370605, 1.048444390296936, 3.891380786895752, 3.3183202743530273, -0.2066752016544342, 7.203197002410889, 5.990947246551514, -0.4191860556602478, 3.8913815021514893, 1.3526179790496826, 6.380326271057129, -2.515969753265381, 6.566385746002197, 1.0408815145492554, 3.8922722339630127, 1.998273491859436, 6.632848262786865, 6.380239009857178, 3.256182909011841, 4.630307674407959, 0.5119310617446899, 2.77640438079834, 6.558748722076416, 6.672754287719727, 7.083664894104004, 3.503645896911621, 0.6533032059669495, -2.349957227706909, -0.1343773454427719, 5.5901923179626465, 4.130537986755371, 3.503647804260254, 3.1041157245635986, 2.1215929985046387, -0.13437741994857788, 2.761958122253418, 5.645874977111816, 5.021855354309082, 1.3480541706085205, 3.2395682334899902, 8.209038734436035, 0.053669579327106476, 4.809484004974365, 3.496619939804077, 6.5558037757873535, 5.485141277313232, 2.303178071975708, -1.2219314575195312, 3.2263545989990234, 2.631180763244629, 6.569255352020264, -6.7088799476623535, 3.7463648319244385, 5.15974760055542, 0.5251893401145935, 6.12565803527832, 2.3061258792877197, 2.120316982269287, 1.6659184694290161, 2.77640438079834, 8.657376289367676, 2.761854648590088, -4.969297409057617, 2.776404619216919, 0.05366953834891319, -2.159480571746826, 0.6495130062103271, 2.1215806007385254, 3.742252826690674, 4.191474914550781, 7.236306667327881, 6.964975357055664, 8.556560516357422, 0.7566266655921936, 6.935547351837158, 6.534526348114014, 0.7899669408798218, 8.556560516357422, 1.184545636177063, 6.509372711181641, 7.893975734710693, -1.2346110343933105, 6.319182395935059, 2.80759596824646, 7.077586650848389, 6.8956122398376465, 7.1551408767700195, 2.6312108039855957, -7.122385501861572, 2.5414979457855225, 5.172091007232666, 5.279316425323486, 5.590192794799805, -1.158385992050171, -6.461012363433838, 4.781094551086426, -0.6193916201591492, 2.1931991577148438, 6.705771446228027, 2.9822983741760254, -2.3499553203582764, 0.5856345891952515, 5.172277927398682, 3.8922722339630127, 1.1128941774368286, -2.37654972076416, 2.3060972690582275, 8.443658828735352, 0.5856339931488037, 8.209129333496094, 0.5172556042671204, -1.51607346534729, 3.2264199256896973, 3.4965808391571045, 2.9396772384643555, 3.8914947509765625, 3.239107370376587, 2.899904489517212, 6.632949352264404, 5.645877838134766, 0.11800181120634079, -1.545157790184021, 2.3571810722351074, 4.092161655426025, 2.305938720703125, 2.1343040466308594, 2.504739761352539, 0.649437665939331, -4.296350479125977, -0.8431228995323181, -1.4509265422821045, 1.5131372213363647, 5.863985061645508, -3.573489189147949, 6.380194664001465, -0.4447999894618988, 6.56065034866333, -1.109704613685608, -6.7090229988098145, -1.450926423072815, 6.9840850830078125, -7.122588634490967, 6.633028984069824, 1.4719030857086182, 2.982372522354126, 2.9407172203063965, 3.5278940200805664, 5.050976276397705, -1.1986910104751587, 0.6497761011123657, 4.131167888641357, 3.410311460494995, 4.841170310974121, 1.3048473596572876, 2.6695730686187744, 1.5324922800064087, -0.7417213916778564, 8.456422805786133, -1.5451463460922241, 3.5200295448303223, 1.7700700759887695, 2.4013473987579346, 4.864349365234375, 3.0771632194519043, 6.300356864929199, 1.9806269407272339, 1.658011555671692, 2.685594320297241, 7.973213195800781, 2.7763125896453857, -0.6193366050720215, 6.632907390594482, 1.7483742237091064, 1.2632397413253784, 0.5251885652542114, 3.5958094596862793, 0.649608850479126, 2.599419116973877, 8.305744171142578, 3.5956292152404785, 8.404276847839355, 5.316763401031494, 3.0771634578704834, 8.105204582214355, 6.569762706756592, 3.5313615798950195, 7.84295654296875, 1.378039002418518, 2.038841962814331, 8.457905769348145, 3.5986850261688232, 0.8639768362045288, 2.3058626651763916, 5.479483127593994, 3.3584980964660645, 4.630307674407959, 7.348236560821533, 4.885787010192871, 3.256145715713501, 5.270063400268555, 0.32488498091697693, 6.63036584854126, -2.3497533798217773, 0.07129737734794617, 0.6456628441810608, 6.632844924926758, 6.693905353546143, 5.863921165466309]}, {\"hovertemplate\": \"Dominant_Topic=Topic 7<br>0=%{x}<br>1=%{y}<br>2=%{z}<extra></extra>\", \"legendgroup\": \"Topic 7\", \"marker\": {\"color\": \"#ab63fa\", \"opacity\": 0.7, \"symbol\": \"circle\"}, \"mode\": \"markers\", \"name\": \"Topic 7\", \"scene\": \"scene\", \"showlegend\": true, \"type\": \"scatter3d\", \"x\": [5.696619510650635, 2.1232450008392334, 2.8482539653778076, 0.4057302474975586, 3.556023359298706, 3.029438018798828, 3.266706943511963, 4.5194292068481445, 0.8700977563858032, 2.6399261951446533, -8.074780464172363, 3.2499871253967285, 1.9829614162445068, 4.133195400238037, 3.856304168701172, 3.817211151123047, 5.73561954498291, 4.195672512054443, 4.867849349975586, 4.197249889373779, 3.7092766761779785, 0.7596632242202759, 4.133234977722168, 2.7446250915527344, 4.133162021636963, 3.6139442920684814, 1.1427100896835327, 3.1902644634246826, 4.332890033721924, 2.8347060680389404, 3.8673348426818848, 0.22466380894184113, 3.5153586864471436, 4.331360816955566, 0.7596632242202759, 3.007671594619751, 3.6222376823425293, 3.7039127349853516, 4.1765594482421875, 2.9726221561431885, 5.73561954498291, 2.707824945449829, 3.25960373878479, 4.111100673675537, 3.3292031288146973, 4.261082172393799], \"y\": [6.996232986450195, 6.33871603012085, 4.290992736816406, 4.425261974334717, 4.872246265411377, 4.806341648101807, 3.9429574012756348, 4.954978942871094, 4.8725504875183105, 4.8686089515686035, 1.6041897535324097, 4.384444236755371, 6.323902606964111, 6.952773571014404, 4.824256420135498, 4.018504619598389, 7.350940227508545, 5.4946818351745605, 7.229171276092529, 4.12991189956665, 4.090227127075195, 4.621816158294678, 6.952885150909424, 4.8944573402404785, 6.9527459144592285, 4.7049431800842285, -0.1772230565547943, 4.9608235359191895, 4.973609924316406, 4.301967144012451, 5.700559139251709, 3.7371790409088135, 5.66616153717041, 4.340085029602051, 4.621816158294678, 5.458395004272461, 5.330623149871826, 5.338537216186523, 4.29506254196167, 5.38911771774292, 7.350939750671387, 5.467597007751465, 5.831357002258301, 4.533791542053223, 4.178961753845215, 5.177955150604248], \"z\": [10.806015968322754, 6.201741695404053, 8.27291488647461, 8.683574676513672, 8.011311531066895, 8.789138793945312, 7.940163612365723, 7.9708943367004395, 9.089150428771973, 7.5945963859558105, -3.9845783710479736, 7.2023162841796875, 6.142261028289795, 6.683137893676758, 7.103999137878418, 8.252598762512207, 6.438861846923828, 7.938351154327393, 6.504300594329834, 5.275885581970215, 7.491649627685547, 8.755416870117188, 6.683091640472412, 8.262228012084961, 6.683154106140137, 8.939860343933105, 3.748032331466675, 7.065548419952393, 7.441609859466553, 7.575729846954346, 8.404869079589844, 8.130593299865723, 7.723503112792969, 8.204483032226562, 8.755416870117188, 8.651070594787598, 8.855693817138672, 7.300508975982666, 7.570984840393066, 7.4790544509887695, 6.438861846923828, 7.967133045196533, 8.194022178649902, 8.71328353881836, 8.649489402770996, 8.554039001464844]}, {\"hovertemplate\": \"Dominant_Topic=Topic 8<br>0=%{x}<br>1=%{y}<br>2=%{z}<extra></extra>\", \"legendgroup\": \"Topic 8\", \"marker\": {\"color\": \"#FFA15A\", \"opacity\": 0.7, \"symbol\": \"circle\"}, \"mode\": \"markers\", \"name\": \"Topic 8\", \"scene\": \"scene\", \"showlegend\": true, \"type\": \"scatter3d\", \"x\": [-11.499871253967285, 3.2609429359436035, -16.23749542236328, -15.153515815734863, -18.28995132446289, -15.617913246154785, -14.971020698547363, -15.953461647033691, -11.281301498413086, 0.7219741940498352, -16.458951950073242, -11.804994583129883, -18.045490264892578, -11.33626651763916, -18.38918113708496, -15.997298240661621, -15.113492012023926, -16.76814842224121, -16.374671936035156, -17.151111602783203, -1.010088324546814, -15.784614562988281, -15.242159843444824, -11.805144309997559, -15.257577896118164, -15.942893981933594, -15.610645294189453, -17.307483673095703, -12.804574012756348, -16.5336971282959, -16.0944881439209, -11.804994583129883, -10.126075744628906, -14.919748306274414, -10.482857704162598, -15.774809837341309, -16.661653518676758, -16.626863479614258, -14.879361152648926, -17.14769172668457, 0.7219841480255127, -15.448678016662598, -15.325942039489746, -11.499907493591309, -11.12433910369873, -17.21636390686035, -16.49947738647461, -12.762627601623535, -16.215694427490234, -15.242010116577148, -15.62568187713623, -15.242010116577148, -16.19133949279785, 1.1457598209381104, -15.167519569396973, -15.256211280822754, -15.895267486572266, -16.216310501098633, -16.180824279785156, -17.414051055908203, -17.413875579833984, -14.916641235351562, -15.156872749328613, -16.125492095947266, -15.458259582519531, -15.099526405334473, -15.259735107421875, -15.039130210876465, -16.574417114257812], \"y\": [8.814373016357422, -6.637777328491211, 3.8042120933532715, 5.224387168884277, 5.427016258239746, 5.209813594818115, 7.518786907196045, 4.976476669311523, 4.467245578765869, 8.077737808227539, 4.214951515197754, 5.508954048156738, 5.2395830154418945, 4.648063659667969, 5.477567195892334, 5.257124423980713, 3.9696459770202637, 4.424900531768799, 2.4957189559936523, 7.162254333496094, 8.392391204833984, 3.8097727298736572, 6.483040809631348, 5.508976459503174, 6.518288612365723, 4.689143657684326, 5.462372779846191, 5.428375244140625, 5.376953601837158, 4.104228496551514, 7.066830158233643, 5.508954048156738, 1.8360967636108398, 4.417581558227539, 8.641255378723145, 4.569344997406006, 5.080681800842285, 7.205770969390869, 4.511051654815674, 7.168022632598877, 8.077669143676758, 4.880164623260498, 4.736763954162598, 8.814294815063477, 4.346873760223389, 7.109776973724365, 4.7475433349609375, 8.440810203552246, 5.400223731994629, 0.756342887878418, 3.7267961502075195, 0.756342887878418, 5.210919380187988, -2.691847562789917, 4.225606441497803, 6.514893531799316, 4.117406845092773, 6.999274253845215, 7.013591766357422, 3.031888484954834, 3.03177547454834, 5.08903169631958, 4.435871601104736, 4.2427144050598145, 4.222962856292725, 7.447900772094727, 4.117607593536377, 4.986525058746338, 4.875309467315674], \"z\": [5.3111467361450195, -3.890258312225342, 0.9618600606918335, 0.5200420022010803, 2.240243434906006, 1.2496747970581055, -1.1622211933135986, 2.000540256500244, 2.265148401260376, 9.718320846557617, 0.4467605650424957, 0.7872713208198547, 2.869751453399658, 2.0103418827056885, 2.0742738246917725, 0.29359185695648193, 1.1825937032699585, 0.9845702052116394, 5.302591323852539, 0.834786057472229, 8.855070114135742, 1.515424132347107, 1.6915220022201538, 0.7872342467308044, 1.7096718549728394, 0.08290436118841171, 0.606090247631073, -0.7501668930053711, 0.7463617324829102, 1.4295769929885864, 2.1207122802734375, 0.7872713208198547, -0.45728370547294617, 1.497017502784729, 4.672948360443115, 1.0431424379348755, 1.1033306121826172, 1.846717357635498, 0.7519474625587463, 0.8390732407569885, 9.718331336975098, 1.9772093296051025, 0.16985107958316803, 5.311098575592041, 2.475111246109009, 0.7020652890205383, 1.7292121648788452, 3.434537172317505, 0.8787224888801575, 1.0307999849319458, 0.8552311658859253, 1.0307999849319458, 1.5009864568710327, 1.8271512985229492, 4.598021507263184, 1.7079062461853027, 0.2961277961730957, 2.1912496089935303, 2.1786856651306152, 6.090677738189697, 6.090316295623779, 1.0197181701660156, 4.185085773468018, 1.9109011888504028, 1.8793851137161255, -1.035617709159851, 0.42883872985839844, 1.566309928894043, 0.5214215517044067]}, {\"hovertemplate\": \"Dominant_Topic=Topic 9<br>0=%{x}<br>1=%{y}<br>2=%{z}<extra></extra>\", \"legendgroup\": \"Topic 9\", \"marker\": {\"color\": \"#19d3f3\", \"opacity\": 0.7, \"symbol\": \"circle\"}, \"mode\": \"markers\", \"name\": \"Topic 9\", \"scene\": \"scene\", \"showlegend\": true, \"type\": \"scatter3d\", \"x\": [3.845590591430664, 2.141521453857422, 4.381840229034424, -0.7701923847198486, -4.570713520050049, -4.122988700866699, -11.418033599853516, -5.984921455383301, 2.4744884967803955, 3.7274763584136963, 4.91296911239624, 4.689787864685059, -5.9882965087890625, -12.01202392578125, 1.3093599081039429, 2.687211513519287, -1.342455506324768, 0.07329462468624115, 7.547156810760498, -5.5325727462768555, 7.138208866119385, 1.5629647970199585, 5.315830707550049, 4.642290115356445, 4.276642799377441, 3.900118589401245, 3.9001147747039795, 4.790278434753418, 3.6954398155212402, -5.439915657043457, 4.384529113769531, -5.091331958770752, 7.0243072509765625, 1.309446096420288, 1.5631614923477173, -5.247719764709473, 4.276940822601318, 5.070417881011963, 5.595166206359863, -5.0720601081848145, -3.2428030967712402, -4.589740753173828, 2.787851572036743, 1.5604360103607178, -4.730464935302734, -4.122988700866699, -11.418212890625, 3.0562727451324463, -1.8520512580871582, 2.787510395050049, 4.696303367614746, 4.453027248382568, -11.418243408203125, 8.249853134155273, 4.874078273773193, 2.4631693363189697, 2.46329927444458, 4.41245174407959, 1.5626029968261719, 3.0350899696350098, 4.7700676918029785, 0.11794556677341461, 3.7808663845062256, 3.4223270416259766, 5.287473201751709, 4.855838775634766, 5.255915641784668, -11.508016586303711, 4.874078273773193, 8.249853134155273, 4.500794410705566, 4.608530521392822, 4.347835063934326, 4.991410255432129, -4.604580879211426, -5.257298946380615, 7.024306774139404, -5.439934253692627, -5.757467269897461, 5.5420308113098145, -5.757467269897461, -5.592400074005127, 7.138209819793701, -3.242816925048828, 4.967658042907715, -1.8517463207244873, 4.881551742553711, 3.5445947647094727, -1.92629873752594, -4.685048580169678, -4.043921947479248, 7.547155857086182, 5.0700812339782715, 1.3093600273132324, 2.4745020866394043, 2.921288013458252, 4.837447643280029, 3.4134371280670166, -12.012073516845703, 4.097103595733643, -12.068405151367188, -1.330930233001709, 1.5631614923477173, 5.022731304168701, 3.900113582611084, 4.642301559448242, 0.9522735476493835, -1.307252049446106, 4.260228157043457, 7.0199198722839355, 1.5624771118164062, 4.163890838623047, 5.529128074645996, -2.1366336345672607, 4.734927177429199, 3.0939981937408447, 5.373041152954102, 0.11791861057281494, 5.37235164642334, 0.6029151678085327, -11.418318748474121, 4.749626159667969, 4.879527568817139, 4.200054168701172, -4.217728137969971, -4.2577595710754395, -4.6977033615112305, 3.6712043285369873, 3.8685035705566406, 2.7183022499084473, -1.330930233001709, -4.122988700866699, -0.7701964378356934, 3.8291776180267334, -4.731639385223389, 0.7818741202354431, -4.980171203613281, 8.249510765075684, 4.785212516784668, -1.6665717363357544, 4.450981140136719, -1.852446436882019, -0.7702160477638245, 3.087414503097534, 2.814070463180542, -5.441527843475342, -4.970491886138916, -5.360601902008057, 0.9922230243682861, -0.7702187895774841, -1.2272695302963257, -4.456326007843018, 3.9001243114471436, -1.1533503532409668], \"y\": [-5.5163140296936035, -7.213891506195068, -5.428399562835693, -2.6256814002990723, -9.323188781738281, -9.267033576965332, 7.318463325500488, -10.436651229858398, -6.598006248474121, -4.80172061920166, 0.5934984087944031, -5.801499843597412, -10.453505516052246, 7.701174736022949, -4.8915910720825195, -5.358259201049805, -1.920331597328186, -3.314295530319214, -4.795539379119873, -9.546893119812012, -7.267810821533203, -7.893112659454346, -5.659901142120361, 0.6604490876197815, -8.266539573669434, -5.736346244812012, -5.736358165740967, 0.7394378185272217, -5.825483798980713, -6.3601531982421875, -4.693758487701416, -9.251664161682129, -5.792633056640625, -4.891154766082764, -7.892969131469727, -10.281417846679688, -8.266828536987305, 0.6788787245750427, -5.367271423339844, -9.530511856079102, -9.720300674438477, -9.882881164550781, -5.335224151611328, -7.8947038650512695, -10.408602714538574, -9.267033576965332, 7.318454742431641, -5.629348278045654, -2.250293254852295, -4.962217807769775, -6.712255954742432, -5.355335712432861, 7.318477630615234, -5.271805286407471, -0.7539082169532776, -7.0356855392456055, -7.035945415496826, -4.798759937286377, -7.893120288848877, -6.491795539855957, 0.8521378040313721, -2.7627129554748535, -5.446836471557617, -6.011297225952148, -5.762604236602783, 0.5923330783843994, -4.970566749572754, 7.173040390014648, -0.7539079785346985, -5.27180290222168, -4.636332035064697, -5.163791656494141, -5.470871448516846, 0.764745831489563, -9.39713191986084, -10.08486557006836, -5.792633056640625, -6.360154151916504, -10.648180961608887, -4.963860511779785, -10.648180961608887, -9.761664390563965, -7.267800807952881, -9.720279693603516, -4.833703994750977, -2.250528573989868, 0.8256843686103821, -5.091484069824219, -1.0845963954925537, -8.896575927734375, -10.150616645812988, -4.795539379119873, -4.5148725509643555, -4.8915910720825195, -6.5980119705200195, 0.8243391513824463, -5.3308892250061035, -4.805698871612549, 7.70125150680542, -4.557210922241211, 7.673220157623291, -10.075017929077148, -7.892969131469727, 0.814580500125885, -5.736344814300537, 0.6604014039039612, -8.297834396362305, -2.4232723712921143, -4.967400074005127, -5.801048278808594, -7.893211364746094, -5.569554805755615, -5.192723751068115, -1.1086268424987793, -6.402813911437988, -4.7468061447143555, -5.825964450836182, -2.762690544128418, -4.6185526847839355, -2.9526524543762207, 7.318455696105957, 0.6302860975265503, -5.635852336883545, -5.117150783538818, -10.110897064208984, -9.795459747314453, -8.818028450012207, -5.0786542892456055, -5.265579700469971, 0.8745682835578918, -10.075018882751465, -9.267033576965332, -2.6256752014160156, -4.60749626159668, -10.477514266967773, -4.337256908416748, -8.766444206237793, -5.271912097930908, -4.479132175445557, -1.5042604207992554, -4.71471643447876, -2.250049591064453, -2.6256461143493652, -5.96751594543457, -5.739243984222412, -9.137048721313477, -9.83147144317627, -9.157690048217773, -3.094806432723999, -2.625645875930786, -1.5871167182922363, -10.209080696105957, -5.73633337020874, -3.7077105045318604], \"z\": [12.544010162353516, 0.11004197597503662, 12.22762680053711, 9.400836944580078, 12.430079460144043, 11.695181846618652, 9.495755195617676, 10.45693588256836, 3.1197736263275146, 12.727288246154785, 11.52665901184082, 14.400871276855469, 10.469228744506836, 7.441720485687256, 15.17072582244873, 11.52002239227295, 11.158978462219238, 14.109637260437012, 10.037908554077148, 11.613539695739746, 12.936310768127441, 14.209245681762695, 14.080615043640137, 9.293065071105957, 13.045086860656738, 5.690464496612549, 5.690473556518555, 11.843003273010254, 10.97812557220459, 9.481657981872559, 14.065006256103516, 11.094449996948242, 9.897032737731934, 15.170677185058594, 14.209223747253418, 11.803384780883789, 13.044885635375977, 11.624161720275879, 14.886088371276855, 12.570878028869629, 13.089834213256836, 12.455406188964844, 10.806970596313477, 14.20956802368164, 12.165568351745605, 11.695181846618652, 9.49597454071045, 10.619457244873047, 6.252692699432373, 11.352156639099121, 15.609272003173828, 14.904744148254395, 9.4959135055542, 8.690818786621094, 12.392290115356445, 0.617334246635437, 0.61724853515625, 12.157754898071289, 14.209334373474121, 2.7190091609954834, 11.703113555908203, 13.191267967224121, 10.809646606445312, 11.183370590209961, 15.503628730773926, 11.532532691955566, 13.826128005981445, 10.039931297302246, 12.392290115356445, 8.69081974029541, 14.745399475097656, 12.574984550476074, 14.269274711608887, 11.830988883972168, 10.924552917480469, 12.326092720031738, 9.897032737731934, 9.481657028198242, 10.41629695892334, 14.829142570495605, 10.41629695892334, 11.987196922302246, 12.936308860778809, 13.090228080749512, 15.107831001281738, 6.252976417541504, 11.834599494934082, 12.476594924926758, 12.46571159362793, 12.222246170043945, 11.609596252441406, 10.037909507751465, 14.642162322998047, 15.170724868774414, 3.119713068008423, 11.09586238861084, 15.4668607711792, 10.904078483581543, 7.441604137420654, 12.332469940185547, 7.37363338470459, 9.072981834411621, 14.209223747253418, 11.578163146972656, 5.69045877456665, 9.292967796325684, 14.246294975280762, 7.921154975891113, 11.968480110168457, 9.841005325317383, 14.20934772491455, 12.38110065460205, 13.975565910339355, 12.4439115524292, 15.735919952392578, 11.111541748046875, 14.713279724121094, 13.191285133361816, 14.195480346679688, 12.843965530395508, 9.495972633361816, 11.604530334472656, 13.97053050994873, 14.508841514587402, 12.083992958068848, 11.018473625183105, 11.285104751586914, 10.786417007446289, 12.864051818847656, 11.05821704864502, 9.072981834411621, 11.695181846618652, 9.400833129882812, 12.476214408874512, 11.60396671295166, 14.925826072692871, 11.796502113342285, 8.69153881072998, 13.971789360046387, 11.742329597473145, 12.861800193786621, 6.252849102020264, 9.400724411010742, 11.39957332611084, 11.504437446594238, 11.512308120727539, 11.331145286560059, 12.204944610595703, 12.439696311950684, 9.400723457336426, 5.715319633483887, 11.206772804260254, 5.690455913543701, 3.0556533336639404]}],                        {\"height\": 800, \"legend\": {\"title\": {\"text\": \"Dominant_Topic\"}, \"tracegroupgap\": 0}, \"scene\": {\"domain\": {\"x\": [0.0, 1.0], \"y\": [0.0, 1.0]}, \"xaxis\": {\"title\": {\"text\": \"0\"}}, \"yaxis\": {\"title\": {\"text\": \"1\"}}, \"zaxis\": {\"title\": {\"text\": \"2\"}}}, \"template\": {\"data\": {\"bar\": [{\"error_x\": {\"color\": \"#2a3f5f\"}, \"error_y\": {\"color\": \"#2a3f5f\"}, \"marker\": {\"line\": {\"color\": \"#E5ECF6\", \"width\": 0.5}}, \"type\": \"bar\"}], \"barpolar\": [{\"marker\": {\"line\": {\"color\": \"#E5ECF6\", \"width\": 0.5}}, \"type\": \"barpolar\"}], \"carpet\": [{\"aaxis\": {\"endlinecolor\": \"#2a3f5f\", \"gridcolor\": \"white\", \"linecolor\": \"white\", \"minorgridcolor\": \"white\", \"startlinecolor\": \"#2a3f5f\"}, \"baxis\": {\"endlinecolor\": \"#2a3f5f\", \"gridcolor\": \"white\", \"linecolor\": \"white\", \"minorgridcolor\": \"white\", \"startlinecolor\": \"#2a3f5f\"}, \"type\": \"carpet\"}], \"choropleth\": [{\"colorbar\": {\"outlinewidth\": 0, \"ticks\": \"\"}, \"type\": \"choropleth\"}], \"contour\": [{\"colorbar\": {\"outlinewidth\": 0, \"ticks\": \"\"}, \"colorscale\": [[0.0, \"#0d0887\"], [0.1111111111111111, \"#46039f\"], [0.2222222222222222, \"#7201a8\"], [0.3333333333333333, \"#9c179e\"], [0.4444444444444444, \"#bd3786\"], [0.5555555555555556, \"#d8576b\"], [0.6666666666666666, \"#ed7953\"], [0.7777777777777778, \"#fb9f3a\"], [0.8888888888888888, \"#fdca26\"], [1.0, \"#f0f921\"]], \"type\": \"contour\"}], \"contourcarpet\": [{\"colorbar\": {\"outlinewidth\": 0, \"ticks\": \"\"}, \"type\": \"contourcarpet\"}], \"heatmap\": [{\"colorbar\": {\"outlinewidth\": 0, \"ticks\": \"\"}, \"colorscale\": [[0.0, \"#0d0887\"], [0.1111111111111111, \"#46039f\"], [0.2222222222222222, \"#7201a8\"], [0.3333333333333333, \"#9c179e\"], [0.4444444444444444, \"#bd3786\"], [0.5555555555555556, \"#d8576b\"], [0.6666666666666666, \"#ed7953\"], [0.7777777777777778, \"#fb9f3a\"], [0.8888888888888888, \"#fdca26\"], [1.0, \"#f0f921\"]], \"type\": \"heatmap\"}], \"heatmapgl\": [{\"colorbar\": {\"outlinewidth\": 0, \"ticks\": \"\"}, \"colorscale\": [[0.0, \"#0d0887\"], [0.1111111111111111, \"#46039f\"], [0.2222222222222222, \"#7201a8\"], [0.3333333333333333, \"#9c179e\"], [0.4444444444444444, \"#bd3786\"], [0.5555555555555556, \"#d8576b\"], [0.6666666666666666, \"#ed7953\"], [0.7777777777777778, \"#fb9f3a\"], [0.8888888888888888, \"#fdca26\"], [1.0, \"#f0f921\"]], \"type\": \"heatmapgl\"}], \"histogram\": [{\"marker\": {\"colorbar\": {\"outlinewidth\": 0, \"ticks\": \"\"}}, \"type\": \"histogram\"}], \"histogram2d\": [{\"colorbar\": {\"outlinewidth\": 0, \"ticks\": \"\"}, \"colorscale\": [[0.0, \"#0d0887\"], [0.1111111111111111, \"#46039f\"], [0.2222222222222222, \"#7201a8\"], [0.3333333333333333, \"#9c179e\"], [0.4444444444444444, \"#bd3786\"], [0.5555555555555556, \"#d8576b\"], [0.6666666666666666, \"#ed7953\"], [0.7777777777777778, \"#fb9f3a\"], [0.8888888888888888, \"#fdca26\"], [1.0, \"#f0f921\"]], \"type\": \"histogram2d\"}], \"histogram2dcontour\": [{\"colorbar\": {\"outlinewidth\": 0, \"ticks\": \"\"}, \"colorscale\": [[0.0, \"#0d0887\"], [0.1111111111111111, \"#46039f\"], [0.2222222222222222, \"#7201a8\"], [0.3333333333333333, \"#9c179e\"], [0.4444444444444444, \"#bd3786\"], [0.5555555555555556, \"#d8576b\"], [0.6666666666666666, \"#ed7953\"], [0.7777777777777778, \"#fb9f3a\"], [0.8888888888888888, \"#fdca26\"], [1.0, \"#f0f921\"]], \"type\": \"histogram2dcontour\"}], \"mesh3d\": [{\"colorbar\": {\"outlinewidth\": 0, \"ticks\": \"\"}, \"type\": \"mesh3d\"}], \"parcoords\": [{\"line\": {\"colorbar\": {\"outlinewidth\": 0, \"ticks\": \"\"}}, \"type\": \"parcoords\"}], \"pie\": [{\"automargin\": true, \"type\": \"pie\"}], \"scatter\": [{\"marker\": {\"colorbar\": {\"outlinewidth\": 0, \"ticks\": \"\"}}, \"type\": \"scatter\"}], \"scatter3d\": [{\"line\": {\"colorbar\": {\"outlinewidth\": 0, \"ticks\": \"\"}}, \"marker\": {\"colorbar\": {\"outlinewidth\": 0, \"ticks\": \"\"}}, \"type\": \"scatter3d\"}], \"scattercarpet\": [{\"marker\": {\"colorbar\": {\"outlinewidth\": 0, \"ticks\": \"\"}}, \"type\": \"scattercarpet\"}], \"scattergeo\": [{\"marker\": {\"colorbar\": {\"outlinewidth\": 0, \"ticks\": \"\"}}, \"type\": \"scattergeo\"}], \"scattergl\": [{\"marker\": {\"colorbar\": {\"outlinewidth\": 0, \"ticks\": \"\"}}, \"type\": \"scattergl\"}], \"scattermapbox\": [{\"marker\": {\"colorbar\": {\"outlinewidth\": 0, \"ticks\": \"\"}}, \"type\": \"scattermapbox\"}], \"scatterpolar\": [{\"marker\": {\"colorbar\": {\"outlinewidth\": 0, \"ticks\": \"\"}}, \"type\": \"scatterpolar\"}], \"scatterpolargl\": [{\"marker\": {\"colorbar\": {\"outlinewidth\": 0, \"ticks\": \"\"}}, \"type\": \"scatterpolargl\"}], \"scatterternary\": [{\"marker\": {\"colorbar\": {\"outlinewidth\": 0, \"ticks\": \"\"}}, \"type\": \"scatterternary\"}], \"surface\": [{\"colorbar\": {\"outlinewidth\": 0, \"ticks\": \"\"}, \"colorscale\": [[0.0, \"#0d0887\"], [0.1111111111111111, \"#46039f\"], [0.2222222222222222, \"#7201a8\"], [0.3333333333333333, \"#9c179e\"], [0.4444444444444444, \"#bd3786\"], [0.5555555555555556, \"#d8576b\"], [0.6666666666666666, \"#ed7953\"], [0.7777777777777778, \"#fb9f3a\"], [0.8888888888888888, \"#fdca26\"], [1.0, \"#f0f921\"]], \"type\": \"surface\"}], \"table\": [{\"cells\": {\"fill\": {\"color\": \"#EBF0F8\"}, \"line\": {\"color\": \"white\"}}, \"header\": {\"fill\": {\"color\": \"#C8D4E3\"}, \"line\": {\"color\": \"white\"}}, \"type\": \"table\"}]}, \"layout\": {\"annotationdefaults\": {\"arrowcolor\": \"#2a3f5f\", \"arrowhead\": 0, \"arrowwidth\": 1}, \"autotypenumbers\": \"strict\", \"coloraxis\": {\"colorbar\": {\"outlinewidth\": 0, \"ticks\": \"\"}}, \"colorscale\": {\"diverging\": [[0, \"#8e0152\"], [0.1, \"#c51b7d\"], [0.2, \"#de77ae\"], [0.3, \"#f1b6da\"], [0.4, \"#fde0ef\"], [0.5, \"#f7f7f7\"], [0.6, \"#e6f5d0\"], [0.7, \"#b8e186\"], [0.8, \"#7fbc41\"], [0.9, \"#4d9221\"], [1, \"#276419\"]], \"sequential\": [[0.0, \"#0d0887\"], [0.1111111111111111, \"#46039f\"], [0.2222222222222222, \"#7201a8\"], [0.3333333333333333, \"#9c179e\"], [0.4444444444444444, \"#bd3786\"], [0.5555555555555556, \"#d8576b\"], [0.6666666666666666, \"#ed7953\"], [0.7777777777777778, \"#fb9f3a\"], [0.8888888888888888, \"#fdca26\"], [1.0, \"#f0f921\"]], \"sequentialminus\": [[0.0, \"#0d0887\"], [0.1111111111111111, \"#46039f\"], [0.2222222222222222, \"#7201a8\"], [0.3333333333333333, \"#9c179e\"], [0.4444444444444444, \"#bd3786\"], [0.5555555555555556, \"#d8576b\"], [0.6666666666666666, \"#ed7953\"], [0.7777777777777778, \"#fb9f3a\"], [0.8888888888888888, \"#fdca26\"], [1.0, \"#f0f921\"]]}, \"colorway\": [\"#636efa\", \"#EF553B\", \"#00cc96\", \"#ab63fa\", \"#FFA15A\", \"#19d3f3\", \"#FF6692\", \"#B6E880\", \"#FF97FF\", \"#FECB52\"], \"font\": {\"color\": \"#2a3f5f\"}, \"geo\": {\"bgcolor\": \"white\", \"lakecolor\": \"white\", \"landcolor\": \"#E5ECF6\", \"showlakes\": true, \"showland\": true, \"subunitcolor\": \"white\"}, \"hoverlabel\": {\"align\": \"left\"}, \"hovermode\": \"closest\", \"mapbox\": {\"style\": \"light\"}, \"paper_bgcolor\": \"white\", \"plot_bgcolor\": \"#E5ECF6\", \"polar\": {\"angularaxis\": {\"gridcolor\": \"white\", \"linecolor\": \"white\", \"ticks\": \"\"}, \"bgcolor\": \"#E5ECF6\", \"radialaxis\": {\"gridcolor\": \"white\", \"linecolor\": \"white\", \"ticks\": \"\"}}, \"scene\": {\"xaxis\": {\"backgroundcolor\": \"#E5ECF6\", \"gridcolor\": \"white\", \"gridwidth\": 2, \"linecolor\": \"white\", \"showbackground\": true, \"ticks\": \"\", \"zerolinecolor\": \"white\"}, \"yaxis\": {\"backgroundcolor\": \"#E5ECF6\", \"gridcolor\": \"white\", \"gridwidth\": 2, \"linecolor\": \"white\", \"showbackground\": true, \"ticks\": \"\", \"zerolinecolor\": \"white\"}, \"zaxis\": {\"backgroundcolor\": \"#E5ECF6\", \"gridcolor\": \"white\", \"gridwidth\": 2, \"linecolor\": \"white\", \"showbackground\": true, \"ticks\": \"\", \"zerolinecolor\": \"white\"}}, \"shapedefaults\": {\"line\": {\"color\": \"#2a3f5f\"}}, \"ternary\": {\"aaxis\": {\"gridcolor\": \"white\", \"linecolor\": \"white\", \"ticks\": \"\"}, \"baxis\": {\"gridcolor\": \"white\", \"linecolor\": \"white\", \"ticks\": \"\"}, \"bgcolor\": \"#E5ECF6\", \"caxis\": {\"gridcolor\": \"white\", \"linecolor\": \"white\", \"ticks\": \"\"}}, \"title\": {\"x\": 0.05}, \"xaxis\": {\"automargin\": true, \"gridcolor\": \"white\", \"linecolor\": \"white\", \"ticks\": \"\", \"title\": {\"standoff\": 15}, \"zerolinecolor\": \"white\", \"zerolinewidth\": 2}, \"yaxis\": {\"automargin\": true, \"gridcolor\": \"white\", \"linecolor\": \"white\", \"ticks\": \"\", \"title\": {\"standoff\": 15}, \"zerolinecolor\": \"white\", \"zerolinewidth\": 2}}}, \"title\": {\"text\": \"3d TSNE Plot for Topic Model\"}, \"width\": 900},                        {\"responsive\": true}                    ).then(function(){\n",
       "                            \n",
       "var gd = document.getElementById('98a18786-5865-4c18-9a73-f54a2abdd927');\n",
       "var x = new MutationObserver(function (mutations, observer) {{\n",
       "        var display = window.getComputedStyle(gd).display;\n",
       "        if (!display || display === 'none') {{\n",
       "            console.log([gd, 'removed!']);\n",
       "            Plotly.purge(gd);\n",
       "            observer.disconnect();\n",
       "        }}\n",
       "}});\n",
       "\n",
       "// Listen for the removal of the full notebook cells\n",
       "var notebookContainer = gd.closest('#notebook-container');\n",
       "if (notebookContainer) {{\n",
       "    x.observe(notebookContainer, {childList: true});\n",
       "}}\n",
       "\n",
       "// Listen for the clearing of the current output cell\n",
       "var outputEl = gd.closest('.output');\n",
       "if (outputEl) {{\n",
       "    x.observe(outputEl, {childList: true});\n",
       "}}\n",
       "\n",
       "                        })                };                });            </script>        </div>"
      ]
     },
     "metadata": {},
     "output_type": "display_data"
    }
   ],
   "source": [
    "\n",
    "plot_model(lda, plot = 'tsne')"
   ]
  },
  {
   "cell_type": "code",
   "execution_count": null,
   "id": "wrapped-muscle",
   "metadata": {},
   "outputs": [
    {
     "data": {
      "text/html": [
       "        <script type=\"text/javascript\">\n",
       "        window.PlotlyConfig = {MathJaxConfig: 'local'};\n",
       "        if (window.MathJax) {MathJax.Hub.Config({SVG: {font: \"STIX-Web\"}});}\n",
       "        if (typeof require !== 'undefined') {\n",
       "        require.undef(\"plotly\");\n",
       "        requirejs.config({\n",
       "            paths: {\n",
       "                'plotly': ['https://cdn.plot.ly/plotly-latest.min']\n",
       "            }\n",
       "        });\n",
       "        require(['plotly'], function(Plotly) {\n",
       "            window._Plotly = Plotly;\n",
       "        });\n",
       "        }\n",
       "        </script>\n",
       "        "
      ]
     },
     "metadata": {},
     "output_type": "display_data"
    }
   ],
   "source": [
    "plot_model(lda, plot = 'umap')"
   ]
  },
  {
   "cell_type": "code",
   "execution_count": null,
   "id": "british-entertainment",
   "metadata": {},
   "outputs": [],
   "source": []
  }
 ],
 "metadata": {
  "kernelspec": {
   "display_name": "Python 3",
   "language": "python",
   "name": "python3"
  },
  "language_info": {
   "codemirror_mode": {
    "name": "ipython",
    "version": 3
   },
   "file_extension": ".py",
   "mimetype": "text/x-python",
   "name": "python",
   "nbconvert_exporter": "python",
   "pygments_lexer": "ipython3",
   "version": "3.8.5"
  }
 },
 "nbformat": 4,
 "nbformat_minor": 5
}
