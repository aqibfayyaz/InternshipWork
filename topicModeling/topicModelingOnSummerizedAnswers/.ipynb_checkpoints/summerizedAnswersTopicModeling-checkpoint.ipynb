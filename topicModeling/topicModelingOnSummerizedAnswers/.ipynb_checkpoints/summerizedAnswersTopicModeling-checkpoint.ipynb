{
 "cells": [
  {
   "cell_type": "code",
   "execution_count": 1,
   "id": "municipal-guatemala",
   "metadata": {},
   "outputs": [],
   "source": [
    "from pycaret.nlp import *"
   ]
  },
  {
   "cell_type": "code",
   "execution_count": 2,
   "id": "liked-pulse",
   "metadata": {},
   "outputs": [],
   "source": [
    "from nltk.corpus import stopwords\n",
    "stopWords = stopwords.words('english')"
   ]
  },
  {
   "cell_type": "code",
   "execution_count": 3,
   "id": "institutional-proposition",
   "metadata": {},
   "outputs": [
    {
     "data": {
      "text/html": [
       "<div>\n",
       "<style scoped>\n",
       "    .dataframe tbody tr th:only-of-type {\n",
       "        vertical-align: middle;\n",
       "    }\n",
       "\n",
       "    .dataframe tbody tr th {\n",
       "        vertical-align: top;\n",
       "    }\n",
       "\n",
       "    .dataframe thead th {\n",
       "        text-align: right;\n",
       "    }\n",
       "</style>\n",
       "<table border=\"1\" class=\"dataframe\">\n",
       "  <thead>\n",
       "    <tr style=\"text-align: right;\">\n",
       "      <th></th>\n",
       "      <th>summerizedAnswers</th>\n",
       "    </tr>\n",
       "  </thead>\n",
       "  <tbody>\n",
       "    <tr>\n",
       "      <th>0</th>\n",
       "      <td>If you feel that you are worthless, then maybe...</td>\n",
       "    </tr>\n",
       "    <tr>\n",
       "      <th>1</th>\n",
       "      <td>What can I do to improve my feelings of worthl...</td>\n",
       "    </tr>\n",
       "  </tbody>\n",
       "</table>\n",
       "</div>"
      ],
      "text/plain": [
       "                                   summerizedAnswers\n",
       "0  If you feel that you are worthless, then maybe...\n",
       "1  What can I do to improve my feelings of worthl..."
      ]
     },
     "execution_count": 3,
     "metadata": {},
     "output_type": "execute_result"
    }
   ],
   "source": [
    "import pandas as pd\n",
    "\n",
    "\n",
    "# load the data into a dataframe\n",
    "data = pd.read_csv('google pegasus-xsum counsel answers answers.csv')\n",
    "data.head(2)\n"
   ]
  },
  {
   "cell_type": "code",
   "execution_count": 4,
   "id": "divine-debate",
   "metadata": {},
   "outputs": [
    {
     "data": {
      "text/plain": [
       "0           If feel worthless, maybe need change life.\n",
       "1               What I improve feelings worthlessness?\n",
       "2                                   find purpose life?\n",
       "3    Depression self esteem two common mental healt...\n",
       "4                                                help?\n",
       "Name: summerizedAnswers, dtype: object"
      ]
     },
     "execution_count": 4,
     "metadata": {},
     "output_type": "execute_result"
    }
   ],
   "source": [
    "data['sumans_without_stopwords'] = data['summerizedAnswers'].apply(lambda x: ' '.join([word for word in x.split() if word not in (stopWords)]))\n",
    "data['summerizedAnswers'] = data['sumans_without_stopwords']\n",
    "data['summerizedAnswers'].head()"
   ]
  },
  {
   "cell_type": "code",
   "execution_count": 5,
   "id": "arctic-design",
   "metadata": {},
   "outputs": [
    {
     "data": {
      "text/html": [
       "<div>\n",
       "<style scoped>\n",
       "    .dataframe tbody tr th:only-of-type {\n",
       "        vertical-align: middle;\n",
       "    }\n",
       "\n",
       "    .dataframe tbody tr th {\n",
       "        vertical-align: top;\n",
       "    }\n",
       "\n",
       "    .dataframe thead th {\n",
       "        text-align: right;\n",
       "    }\n",
       "</style>\n",
       "<table border=\"1\" class=\"dataframe\">\n",
       "  <thead>\n",
       "    <tr style=\"text-align: right;\">\n",
       "      <th></th>\n",
       "      <th>summerizedAnswers</th>\n",
       "      <th>sumans_without_stopwords</th>\n",
       "    </tr>\n",
       "  </thead>\n",
       "  <tbody>\n",
       "    <tr>\n",
       "      <th>0</th>\n",
       "      <td>If feel worthless, maybe need change life.</td>\n",
       "      <td>If feel worthless, maybe need change life.</td>\n",
       "    </tr>\n",
       "    <tr>\n",
       "      <th>1</th>\n",
       "      <td>What I improve feelings worthlessness?</td>\n",
       "      <td>What I improve feelings worthlessness?</td>\n",
       "    </tr>\n",
       "  </tbody>\n",
       "</table>\n",
       "</div>"
      ],
      "text/plain": [
       "                            summerizedAnswers  \\\n",
       "0  If feel worthless, maybe need change life.   \n",
       "1      What I improve feelings worthlessness?   \n",
       "\n",
       "                     sumans_without_stopwords  \n",
       "0  If feel worthless, maybe need change life.  \n",
       "1      What I improve feelings worthlessness?  "
      ]
     },
     "execution_count": 5,
     "metadata": {},
     "output_type": "execute_result"
    }
   ],
   "source": [
    "data.head(2)"
   ]
  },
  {
   "cell_type": "code",
   "execution_count": 6,
   "id": "polish-disabled",
   "metadata": {},
   "outputs": [
    {
     "data": {
      "text/html": [
       "<style  type=\"text/css\" >\n",
       "</style><table id=\"T_3518b_\" ><thead>    <tr>        <th class=\"col_heading level0 col0\" >Description</th>        <th class=\"col_heading level0 col1\" >Value</th>    </tr></thead><tbody>\n",
       "                <tr>\n",
       "                                <td id=\"T_3518b_row0_col0\" class=\"data row0 col0\" >session_id</td>\n",
       "                        <td id=\"T_3518b_row0_col1\" class=\"data row0 col1\" >123</td>\n",
       "            </tr>\n",
       "            <tr>\n",
       "                                <td id=\"T_3518b_row1_col0\" class=\"data row1 col0\" >Documents</td>\n",
       "                        <td id=\"T_3518b_row1_col1\" class=\"data row1 col1\" >2129</td>\n",
       "            </tr>\n",
       "            <tr>\n",
       "                                <td id=\"T_3518b_row2_col0\" class=\"data row2 col0\" >Vocab Size</td>\n",
       "                        <td id=\"T_3518b_row2_col1\" class=\"data row2 col1\" >1418</td>\n",
       "            </tr>\n",
       "            <tr>\n",
       "                                <td id=\"T_3518b_row3_col0\" class=\"data row3 col0\" >Custom Stopwords</td>\n",
       "                        <td id=\"T_3518b_row3_col1\" class=\"data row3 col1\" >True</td>\n",
       "            </tr>\n",
       "    </tbody></table>"
      ],
      "text/plain": [
       "<pandas.io.formats.style.Styler at 0x7f14501dd910>"
      ]
     },
     "metadata": {},
     "output_type": "display_data"
    }
   ],
   "source": [
    "exp_nlp102 = setup(data = data, target = 'summerizedAnswers', session_id = 123,\n",
    "                   custom_stopwords = ['would', 'want', 'usd', 'many', 'also', 'make', \n",
    "                                       'find','see', 'say', 'often', 'much', 'go', 'come',\n",
    "                                       'thought', 'even','learn','happen','much','let','know','thing','need','take'\n",
    "                                      , 'get','try','ask','maybe','keep','end','way','suggest','likely','area','part',\n",
    "                                      'consider','right','able','could','tell','seem','use','sometimes','think','look','self','lot','new','well','give',\n",
    "                                      'start'],\n",
    "                   log_experiment = True, experiment_name = 'summerizedAnswers')"
   ]
  },
  {
   "cell_type": "code",
   "execution_count": 18,
   "id": "right-measurement",
   "metadata": {},
   "outputs": [],
   "source": [
    "\n",
    "lda = create_model('lda')\n"
   ]
  },
  {
   "cell_type": "code",
   "execution_count": 8,
   "id": "mature-paper",
   "metadata": {},
   "outputs": [
    {
     "name": "stdout",
     "output_type": "stream",
     "text": [
      "Best Model: Latent Dirichlet Allocation | # Topics: 400 | Coherence: 0.6958\n"
     ]
    }
   ],
   "source": [
    "# to find the best suited number of topic for our case using intrinsic evalution\n",
    "#tuned_unsupervised = tune_model(model = 'lda', multi_core = True)"
   ]
  },
  {
   "cell_type": "code",
   "execution_count": 25,
   "id": "alone-software",
   "metadata": {},
   "outputs": [
    {
     "data": {
      "application/vnd.jupyter.widget-view+json": {
       "model_id": "6a3d8b5896774acdb3f823d05ec16b47",
       "version_major": 2,
       "version_minor": 0
      },
      "text/plain": [
       "IntProgress(value=0, description='Processing: ', max=25)"
      ]
     },
     "metadata": {},
     "output_type": "display_data"
    },
    {
     "data": {
      "application/vnd.jupyter.widget-view+json": {
       "model_id": "bd9d89202d464ed08effb784fabc0679",
       "version_major": 2,
       "version_minor": 0
      },
      "text/plain": [
       "Output()"
      ]
     },
     "metadata": {},
     "output_type": "display_data"
    },
    {
     "data": {
      "text/html": [
       "<div>\n",
       "<style scoped>\n",
       "    .dataframe tbody tr th:only-of-type {\n",
       "        vertical-align: middle;\n",
       "    }\n",
       "\n",
       "    .dataframe tbody tr th {\n",
       "        vertical-align: top;\n",
       "    }\n",
       "\n",
       "    .dataframe thead th {\n",
       "        text-align: right;\n",
       "    }\n",
       "</style>\n",
       "<table border=\"1\" class=\"dataframe\">\n",
       "  <thead>\n",
       "    <tr style=\"text-align: right;\">\n",
       "      <th></th>\n",
       "      <th></th>\n",
       "      <th></th>\n",
       "    </tr>\n",
       "    <tr>\n",
       "      <th></th>\n",
       "      <th></th>\n",
       "      <th></th>\n",
       "    </tr>\n",
       "  </thead>\n",
       "  <tbody>\n",
       "    <tr>\n",
       "      <th>Initiated</th>\n",
       "      <td>. . . . . . . . . . . . . . . . . .</td>\n",
       "      <td>20:44:15</td>\n",
       "    </tr>\n",
       "    <tr>\n",
       "      <th>Status</th>\n",
       "      <td>. . . . . . . . . . . . . . . . . .</td>\n",
       "      <td>Evaluating Topic Model</td>\n",
       "    </tr>\n",
       "    <tr>\n",
       "      <th>Step</th>\n",
       "      <td>. . . . . . . . . . . . . . . . . .</td>\n",
       "      <td>Evaluating Regressor With 2 Topics</td>\n",
       "    </tr>\n",
       "  </tbody>\n",
       "</table>\n",
       "</div>"
      ],
      "text/plain": [
       "                                                \\\n",
       "                                                 \n",
       "Initiated  . . . . . . . . . . . . . . . . . .   \n",
       "Status     . . . . . . . . . . . . . . . . . .   \n",
       "Step       . . . . . . . . . . . . . . . . . .   \n",
       "\n",
       "                                               \n",
       "                                               \n",
       "Initiated                            20:44:15  \n",
       "Status                 Evaluating Topic Model  \n",
       "Step       Evaluating Regressor With 2 Topics  "
      ]
     },
     "metadata": {},
     "output_type": "display_data"
    },
    {
     "data": {
      "text/html": [
       "        <script type=\"text/javascript\">\n",
       "        window.PlotlyConfig = {MathJaxConfig: 'local'};\n",
       "        if (window.MathJax) {MathJax.Hub.Config({SVG: {font: \"STIX-Web\"}});}\n",
       "        if (typeof require !== 'undefined') {\n",
       "        require.undef(\"plotly\");\n",
       "        requirejs.config({\n",
       "            paths: {\n",
       "                'plotly': ['https://cdn.plot.ly/plotly-latest.min']\n",
       "            }\n",
       "        });\n",
       "        require(['plotly'], function(Plotly) {\n",
       "            window._Plotly = Plotly;\n",
       "        });\n",
       "        }\n",
       "        </script>\n",
       "        "
      ]
     },
     "metadata": {},
     "output_type": "display_data"
    },
    {
     "ename": "KeyError",
     "evalue": "\"['sumans_without_stopwords'] not found in axis\"",
     "output_type": "error",
     "traceback": [
      "\u001b[0;31m---------------------------------------------------------------------------\u001b[0m",
      "\u001b[0;31mKeyError\u001b[0m                                  Traceback (most recent call last)",
      "\u001b[0;32m<ipython-input-25-2ba251c3aa4f>\u001b[0m in \u001b[0;36m<module>\u001b[0;34m\u001b[0m\n\u001b[1;32m      1\u001b[0m \u001b[0;31m# using extrinsic evaluation using classifier\u001b[0m\u001b[0;34m\u001b[0m\u001b[0;34m\u001b[0m\u001b[0;34m\u001b[0m\u001b[0m\n\u001b[0;32m----> 2\u001b[0;31m \u001b[0mtuned_classification\u001b[0m \u001b[0;34m=\u001b[0m \u001b[0mtune_model\u001b[0m\u001b[0;34m(\u001b[0m\u001b[0mmodel\u001b[0m \u001b[0;34m=\u001b[0m \u001b[0;34m'lda'\u001b[0m\u001b[0;34m,\u001b[0m \u001b[0mmulti_core\u001b[0m \u001b[0;34m=\u001b[0m \u001b[0;32mTrue\u001b[0m\u001b[0;34m,\u001b[0m \u001b[0msupervised_target\u001b[0m \u001b[0;34m=\u001b[0m \u001b[0;34m'sumans_without_stopwords'\u001b[0m\u001b[0;34m)\u001b[0m\u001b[0;34m\u001b[0m\u001b[0;34m\u001b[0m\u001b[0m\n\u001b[0m",
      "\u001b[0;32m~/.local/lib/python3.8/site-packages/pycaret/nlp.py\u001b[0m in \u001b[0;36mtune_model\u001b[0;34m(model, multi_core, supervised_target, estimator, optimize, custom_grid, auto_fe, fold, verbose)\u001b[0m\n\u001b[1;32m   4096\u001b[0m \u001b[0;34m\u001b[0m\u001b[0m\n\u001b[1;32m   4097\u001b[0m             \u001b[0;31m# split the dataset\u001b[0m\u001b[0;34m\u001b[0m\u001b[0;34m\u001b[0m\u001b[0;34m\u001b[0m\u001b[0m\n\u001b[0;32m-> 4098\u001b[0;31m             \u001b[0mX\u001b[0m \u001b[0;34m=\u001b[0m \u001b[0md\u001b[0m\u001b[0;34m.\u001b[0m\u001b[0mdrop\u001b[0m\u001b[0;34m(\u001b[0m\u001b[0msupervised_target\u001b[0m\u001b[0;34m,\u001b[0m \u001b[0maxis\u001b[0m\u001b[0;34m=\u001b[0m\u001b[0;36m1\u001b[0m\u001b[0;34m)\u001b[0m\u001b[0;34m\u001b[0m\u001b[0;34m\u001b[0m\u001b[0m\n\u001b[0m\u001b[1;32m   4099\u001b[0m             \u001b[0my\u001b[0m \u001b[0;34m=\u001b[0m \u001b[0md\u001b[0m\u001b[0;34m[\u001b[0m\u001b[0msupervised_target\u001b[0m\u001b[0;34m]\u001b[0m\u001b[0;34m\u001b[0m\u001b[0;34m\u001b[0m\u001b[0m\n\u001b[1;32m   4100\u001b[0m \u001b[0;34m\u001b[0m\u001b[0m\n",
      "\u001b[0;32m~/.local/lib/python3.8/site-packages/pandas/core/frame.py\u001b[0m in \u001b[0;36mdrop\u001b[0;34m(self, labels, axis, index, columns, level, inplace, errors)\u001b[0m\n\u001b[1;32m   4306\u001b[0m                 \u001b[0mweight\u001b[0m  \u001b[0;36m1.0\u001b[0m     \u001b[0;36m0.8\u001b[0m\u001b[0;34m\u001b[0m\u001b[0;34m\u001b[0m\u001b[0m\n\u001b[1;32m   4307\u001b[0m         \"\"\"\n\u001b[0;32m-> 4308\u001b[0;31m         return super().drop(\n\u001b[0m\u001b[1;32m   4309\u001b[0m             \u001b[0mlabels\u001b[0m\u001b[0;34m=\u001b[0m\u001b[0mlabels\u001b[0m\u001b[0;34m,\u001b[0m\u001b[0;34m\u001b[0m\u001b[0;34m\u001b[0m\u001b[0m\n\u001b[1;32m   4310\u001b[0m             \u001b[0maxis\u001b[0m\u001b[0;34m=\u001b[0m\u001b[0maxis\u001b[0m\u001b[0;34m,\u001b[0m\u001b[0;34m\u001b[0m\u001b[0;34m\u001b[0m\u001b[0m\n",
      "\u001b[0;32m~/.local/lib/python3.8/site-packages/pandas/core/generic.py\u001b[0m in \u001b[0;36mdrop\u001b[0;34m(self, labels, axis, index, columns, level, inplace, errors)\u001b[0m\n\u001b[1;32m   4151\u001b[0m         \u001b[0;32mfor\u001b[0m \u001b[0maxis\u001b[0m\u001b[0;34m,\u001b[0m \u001b[0mlabels\u001b[0m \u001b[0;32min\u001b[0m \u001b[0maxes\u001b[0m\u001b[0;34m.\u001b[0m\u001b[0mitems\u001b[0m\u001b[0;34m(\u001b[0m\u001b[0;34m)\u001b[0m\u001b[0;34m:\u001b[0m\u001b[0;34m\u001b[0m\u001b[0;34m\u001b[0m\u001b[0m\n\u001b[1;32m   4152\u001b[0m             \u001b[0;32mif\u001b[0m \u001b[0mlabels\u001b[0m \u001b[0;32mis\u001b[0m \u001b[0;32mnot\u001b[0m \u001b[0;32mNone\u001b[0m\u001b[0;34m:\u001b[0m\u001b[0;34m\u001b[0m\u001b[0;34m\u001b[0m\u001b[0m\n\u001b[0;32m-> 4153\u001b[0;31m                 \u001b[0mobj\u001b[0m \u001b[0;34m=\u001b[0m \u001b[0mobj\u001b[0m\u001b[0;34m.\u001b[0m\u001b[0m_drop_axis\u001b[0m\u001b[0;34m(\u001b[0m\u001b[0mlabels\u001b[0m\u001b[0;34m,\u001b[0m \u001b[0maxis\u001b[0m\u001b[0;34m,\u001b[0m \u001b[0mlevel\u001b[0m\u001b[0;34m=\u001b[0m\u001b[0mlevel\u001b[0m\u001b[0;34m,\u001b[0m \u001b[0merrors\u001b[0m\u001b[0;34m=\u001b[0m\u001b[0merrors\u001b[0m\u001b[0;34m)\u001b[0m\u001b[0;34m\u001b[0m\u001b[0;34m\u001b[0m\u001b[0m\n\u001b[0m\u001b[1;32m   4154\u001b[0m \u001b[0;34m\u001b[0m\u001b[0m\n\u001b[1;32m   4155\u001b[0m         \u001b[0;32mif\u001b[0m \u001b[0minplace\u001b[0m\u001b[0;34m:\u001b[0m\u001b[0;34m\u001b[0m\u001b[0;34m\u001b[0m\u001b[0m\n",
      "\u001b[0;32m~/.local/lib/python3.8/site-packages/pandas/core/generic.py\u001b[0m in \u001b[0;36m_drop_axis\u001b[0;34m(self, labels, axis, level, errors)\u001b[0m\n\u001b[1;32m   4186\u001b[0m                 \u001b[0mnew_axis\u001b[0m \u001b[0;34m=\u001b[0m \u001b[0maxis\u001b[0m\u001b[0;34m.\u001b[0m\u001b[0mdrop\u001b[0m\u001b[0;34m(\u001b[0m\u001b[0mlabels\u001b[0m\u001b[0;34m,\u001b[0m \u001b[0mlevel\u001b[0m\u001b[0;34m=\u001b[0m\u001b[0mlevel\u001b[0m\u001b[0;34m,\u001b[0m \u001b[0merrors\u001b[0m\u001b[0;34m=\u001b[0m\u001b[0merrors\u001b[0m\u001b[0;34m)\u001b[0m\u001b[0;34m\u001b[0m\u001b[0;34m\u001b[0m\u001b[0m\n\u001b[1;32m   4187\u001b[0m             \u001b[0;32melse\u001b[0m\u001b[0;34m:\u001b[0m\u001b[0;34m\u001b[0m\u001b[0;34m\u001b[0m\u001b[0m\n\u001b[0;32m-> 4188\u001b[0;31m                 \u001b[0mnew_axis\u001b[0m \u001b[0;34m=\u001b[0m \u001b[0maxis\u001b[0m\u001b[0;34m.\u001b[0m\u001b[0mdrop\u001b[0m\u001b[0;34m(\u001b[0m\u001b[0mlabels\u001b[0m\u001b[0;34m,\u001b[0m \u001b[0merrors\u001b[0m\u001b[0;34m=\u001b[0m\u001b[0merrors\u001b[0m\u001b[0;34m)\u001b[0m\u001b[0;34m\u001b[0m\u001b[0;34m\u001b[0m\u001b[0m\n\u001b[0m\u001b[1;32m   4189\u001b[0m             \u001b[0mresult\u001b[0m \u001b[0;34m=\u001b[0m \u001b[0mself\u001b[0m\u001b[0;34m.\u001b[0m\u001b[0mreindex\u001b[0m\u001b[0;34m(\u001b[0m\u001b[0;34m**\u001b[0m\u001b[0;34m{\u001b[0m\u001b[0maxis_name\u001b[0m\u001b[0;34m:\u001b[0m \u001b[0mnew_axis\u001b[0m\u001b[0;34m}\u001b[0m\u001b[0;34m)\u001b[0m\u001b[0;34m\u001b[0m\u001b[0;34m\u001b[0m\u001b[0m\n\u001b[1;32m   4190\u001b[0m \u001b[0;34m\u001b[0m\u001b[0m\n",
      "\u001b[0;32m~/.local/lib/python3.8/site-packages/pandas/core/indexes/base.py\u001b[0m in \u001b[0;36mdrop\u001b[0;34m(self, labels, errors)\u001b[0m\n\u001b[1;32m   5589\u001b[0m         \u001b[0;32mif\u001b[0m \u001b[0mmask\u001b[0m\u001b[0;34m.\u001b[0m\u001b[0many\u001b[0m\u001b[0;34m(\u001b[0m\u001b[0;34m)\u001b[0m\u001b[0;34m:\u001b[0m\u001b[0;34m\u001b[0m\u001b[0;34m\u001b[0m\u001b[0m\n\u001b[1;32m   5590\u001b[0m             \u001b[0;32mif\u001b[0m \u001b[0merrors\u001b[0m \u001b[0;34m!=\u001b[0m \u001b[0;34m\"ignore\"\u001b[0m\u001b[0;34m:\u001b[0m\u001b[0;34m\u001b[0m\u001b[0;34m\u001b[0m\u001b[0m\n\u001b[0;32m-> 5591\u001b[0;31m                 \u001b[0;32mraise\u001b[0m \u001b[0mKeyError\u001b[0m\u001b[0;34m(\u001b[0m\u001b[0;34mf\"{labels[mask]} not found in axis\"\u001b[0m\u001b[0;34m)\u001b[0m\u001b[0;34m\u001b[0m\u001b[0;34m\u001b[0m\u001b[0m\n\u001b[0m\u001b[1;32m   5592\u001b[0m             \u001b[0mindexer\u001b[0m \u001b[0;34m=\u001b[0m \u001b[0mindexer\u001b[0m\u001b[0;34m[\u001b[0m\u001b[0;34m~\u001b[0m\u001b[0mmask\u001b[0m\u001b[0;34m]\u001b[0m\u001b[0;34m\u001b[0m\u001b[0;34m\u001b[0m\u001b[0m\n\u001b[1;32m   5593\u001b[0m         \u001b[0;32mreturn\u001b[0m \u001b[0mself\u001b[0m\u001b[0;34m.\u001b[0m\u001b[0mdelete\u001b[0m\u001b[0;34m(\u001b[0m\u001b[0mindexer\u001b[0m\u001b[0;34m)\u001b[0m\u001b[0;34m\u001b[0m\u001b[0;34m\u001b[0m\u001b[0m\n",
      "\u001b[0;31mKeyError\u001b[0m: \"['sumans_without_stopwords'] not found in axis\""
     ]
    }
   ],
   "source": [
    "# using extrinsic evaluation using classifier\n",
    "#tuned_classification = tune_model(model = 'lda', multi_core = True, supervised_target = 'sumans_without_stopwords')"
   ]
  },
  {
   "cell_type": "code",
   "execution_count": 19,
   "id": "appreciated-command",
   "metadata": {},
   "outputs": [
    {
     "data": {
      "text/html": [
       "        <script type=\"text/javascript\">\n",
       "        window.PlotlyConfig = {MathJaxConfig: 'local'};\n",
       "        if (window.MathJax) {MathJax.Hub.Config({SVG: {font: \"STIX-Web\"}});}\n",
       "        if (typeof require !== 'undefined') {\n",
       "        require.undef(\"plotly\");\n",
       "        requirejs.config({\n",
       "            paths: {\n",
       "                'plotly': ['https://cdn.plot.ly/plotly-latest.min']\n",
       "            }\n",
       "        });\n",
       "        require(['plotly'], function(Plotly) {\n",
       "            window._Plotly = Plotly;\n",
       "        });\n",
       "        }\n",
       "        </script>\n",
       "        "
      ]
     },
     "metadata": {},
     "output_type": "display_data"
    },
    {
     "data": {
      "application/vnd.plotly.v1+json": {
       "config": {
        "plotlyServerURL": "https://plot.ly"
       },
       "data": [
        {
         "alignmentgroup": "True",
         "customdata": [
          [
           "life, idea, ever, seek, enough, may, impact, trouble, hypnosis, meditation"
          ],
          [
           "difficult, partner, long, man, situation, cheat, concern, number, address, kind"
          ],
          [
           "form, harm, addiction, mood, cycle, swing, suicide, food, personal, growth"
          ],
          [
           "time, talk, friend, may, husband, love, hard, spend, fear, symptom"
          ],
          [
           "possible, trust, trauma, daughter, stress, school, treat, overcome, bully, daily"
          ],
          [
           "client, first, treatment, fit, important, improve, health, alone, loss, control"
          ],
          [
           "therapy, depression, anxiety, struggle, session, may, sex, bring, type, afraid"
          ],
          [
           "issue, stop, heal, feeling, blame, away, crisis, young, effect, hospital"
          ],
          [
           "help, live, year, woman, social, doctor, stressful, powerful, tool, disposal"
          ],
          [
           "cry, feel, normal, professional, nervous, marriage, write, psychotherapy, response, place"
          ],
          [
           "problem, always, pain, common, back, day, cause, rough, world, panic_attack"
          ],
          [
           "experience, difference, change, sexual, abuse, begin, willing, great, moment, increase"
          ],
          [
           "good, work, deal, people, listen, child, advice, care, parent, true"
          ],
          [
           "family, wonder, disorder, autism_spectrum_disorder, follow, wife, past, member, diagnosis, post_traumatic_stress"
          ],
          [
           "therapist, relationship, boyfriend, person, mother, girlfriend, break, move, healthy, leave"
          ],
          [
           "tip, contact, along, illness, mental, share, ease, meet, habit, smoke"
          ]
         ],
         "hovertemplate": "Topic=%{x}<br>Documents=%{y}<br>Keyword=%{customdata[0]}<extra></extra>",
         "legendgroup": "",
         "marker": {
          "color": "#636efa"
         },
         "name": "",
         "offsetgroup": "",
         "orientation": "v",
         "showlegend": false,
         "textposition": "auto",
         "type": "bar",
         "x": [
          "Topic 0",
          "Topic 1",
          "Topic 2",
          "Topic 3",
          "Topic 4",
          "Topic 5",
          "Topic 6",
          "Topic 7",
          "Topic 8",
          "Topic 9",
          "Topic 10",
          "Topic 11",
          "Topic 12",
          "Topic 13",
          "Topic 14",
          "Topic 15"
         ],
         "xaxis": "x",
         "y": [
          69,
          56,
          12,
          280,
          76,
          59,
          220,
          46,
          69,
          154,
          32,
          34,
          670,
          32,
          314,
          6
         ],
         "yaxis": "y"
        }
       ],
       "layout": {
        "barmode": "relative",
        "legend": {
         "tracegroupgap": 0
        },
        "template": {
         "data": {
          "bar": [
           {
            "error_x": {
             "color": "#2a3f5f"
            },
            "error_y": {
             "color": "#2a3f5f"
            },
            "marker": {
             "line": {
              "color": "#E5ECF6",
              "width": 0.5
             }
            },
            "type": "bar"
           }
          ],
          "barpolar": [
           {
            "marker": {
             "line": {
              "color": "#E5ECF6",
              "width": 0.5
             }
            },
            "type": "barpolar"
           }
          ],
          "carpet": [
           {
            "aaxis": {
             "endlinecolor": "#2a3f5f",
             "gridcolor": "white",
             "linecolor": "white",
             "minorgridcolor": "white",
             "startlinecolor": "#2a3f5f"
            },
            "baxis": {
             "endlinecolor": "#2a3f5f",
             "gridcolor": "white",
             "linecolor": "white",
             "minorgridcolor": "white",
             "startlinecolor": "#2a3f5f"
            },
            "type": "carpet"
           }
          ],
          "choropleth": [
           {
            "colorbar": {
             "outlinewidth": 0,
             "ticks": ""
            },
            "type": "choropleth"
           }
          ],
          "contour": [
           {
            "colorbar": {
             "outlinewidth": 0,
             "ticks": ""
            },
            "colorscale": [
             [
              0,
              "#0d0887"
             ],
             [
              0.1111111111111111,
              "#46039f"
             ],
             [
              0.2222222222222222,
              "#7201a8"
             ],
             [
              0.3333333333333333,
              "#9c179e"
             ],
             [
              0.4444444444444444,
              "#bd3786"
             ],
             [
              0.5555555555555556,
              "#d8576b"
             ],
             [
              0.6666666666666666,
              "#ed7953"
             ],
             [
              0.7777777777777778,
              "#fb9f3a"
             ],
             [
              0.8888888888888888,
              "#fdca26"
             ],
             [
              1,
              "#f0f921"
             ]
            ],
            "type": "contour"
           }
          ],
          "contourcarpet": [
           {
            "colorbar": {
             "outlinewidth": 0,
             "ticks": ""
            },
            "type": "contourcarpet"
           }
          ],
          "heatmap": [
           {
            "colorbar": {
             "outlinewidth": 0,
             "ticks": ""
            },
            "colorscale": [
             [
              0,
              "#0d0887"
             ],
             [
              0.1111111111111111,
              "#46039f"
             ],
             [
              0.2222222222222222,
              "#7201a8"
             ],
             [
              0.3333333333333333,
              "#9c179e"
             ],
             [
              0.4444444444444444,
              "#bd3786"
             ],
             [
              0.5555555555555556,
              "#d8576b"
             ],
             [
              0.6666666666666666,
              "#ed7953"
             ],
             [
              0.7777777777777778,
              "#fb9f3a"
             ],
             [
              0.8888888888888888,
              "#fdca26"
             ],
             [
              1,
              "#f0f921"
             ]
            ],
            "type": "heatmap"
           }
          ],
          "heatmapgl": [
           {
            "colorbar": {
             "outlinewidth": 0,
             "ticks": ""
            },
            "colorscale": [
             [
              0,
              "#0d0887"
             ],
             [
              0.1111111111111111,
              "#46039f"
             ],
             [
              0.2222222222222222,
              "#7201a8"
             ],
             [
              0.3333333333333333,
              "#9c179e"
             ],
             [
              0.4444444444444444,
              "#bd3786"
             ],
             [
              0.5555555555555556,
              "#d8576b"
             ],
             [
              0.6666666666666666,
              "#ed7953"
             ],
             [
              0.7777777777777778,
              "#fb9f3a"
             ],
             [
              0.8888888888888888,
              "#fdca26"
             ],
             [
              1,
              "#f0f921"
             ]
            ],
            "type": "heatmapgl"
           }
          ],
          "histogram": [
           {
            "marker": {
             "colorbar": {
              "outlinewidth": 0,
              "ticks": ""
             }
            },
            "type": "histogram"
           }
          ],
          "histogram2d": [
           {
            "colorbar": {
             "outlinewidth": 0,
             "ticks": ""
            },
            "colorscale": [
             [
              0,
              "#0d0887"
             ],
             [
              0.1111111111111111,
              "#46039f"
             ],
             [
              0.2222222222222222,
              "#7201a8"
             ],
             [
              0.3333333333333333,
              "#9c179e"
             ],
             [
              0.4444444444444444,
              "#bd3786"
             ],
             [
              0.5555555555555556,
              "#d8576b"
             ],
             [
              0.6666666666666666,
              "#ed7953"
             ],
             [
              0.7777777777777778,
              "#fb9f3a"
             ],
             [
              0.8888888888888888,
              "#fdca26"
             ],
             [
              1,
              "#f0f921"
             ]
            ],
            "type": "histogram2d"
           }
          ],
          "histogram2dcontour": [
           {
            "colorbar": {
             "outlinewidth": 0,
             "ticks": ""
            },
            "colorscale": [
             [
              0,
              "#0d0887"
             ],
             [
              0.1111111111111111,
              "#46039f"
             ],
             [
              0.2222222222222222,
              "#7201a8"
             ],
             [
              0.3333333333333333,
              "#9c179e"
             ],
             [
              0.4444444444444444,
              "#bd3786"
             ],
             [
              0.5555555555555556,
              "#d8576b"
             ],
             [
              0.6666666666666666,
              "#ed7953"
             ],
             [
              0.7777777777777778,
              "#fb9f3a"
             ],
             [
              0.8888888888888888,
              "#fdca26"
             ],
             [
              1,
              "#f0f921"
             ]
            ],
            "type": "histogram2dcontour"
           }
          ],
          "mesh3d": [
           {
            "colorbar": {
             "outlinewidth": 0,
             "ticks": ""
            },
            "type": "mesh3d"
           }
          ],
          "parcoords": [
           {
            "line": {
             "colorbar": {
              "outlinewidth": 0,
              "ticks": ""
             }
            },
            "type": "parcoords"
           }
          ],
          "pie": [
           {
            "automargin": true,
            "type": "pie"
           }
          ],
          "scatter": [
           {
            "marker": {
             "colorbar": {
              "outlinewidth": 0,
              "ticks": ""
             }
            },
            "type": "scatter"
           }
          ],
          "scatter3d": [
           {
            "line": {
             "colorbar": {
              "outlinewidth": 0,
              "ticks": ""
             }
            },
            "marker": {
             "colorbar": {
              "outlinewidth": 0,
              "ticks": ""
             }
            },
            "type": "scatter3d"
           }
          ],
          "scattercarpet": [
           {
            "marker": {
             "colorbar": {
              "outlinewidth": 0,
              "ticks": ""
             }
            },
            "type": "scattercarpet"
           }
          ],
          "scattergeo": [
           {
            "marker": {
             "colorbar": {
              "outlinewidth": 0,
              "ticks": ""
             }
            },
            "type": "scattergeo"
           }
          ],
          "scattergl": [
           {
            "marker": {
             "colorbar": {
              "outlinewidth": 0,
              "ticks": ""
             }
            },
            "type": "scattergl"
           }
          ],
          "scattermapbox": [
           {
            "marker": {
             "colorbar": {
              "outlinewidth": 0,
              "ticks": ""
             }
            },
            "type": "scattermapbox"
           }
          ],
          "scatterpolar": [
           {
            "marker": {
             "colorbar": {
              "outlinewidth": 0,
              "ticks": ""
             }
            },
            "type": "scatterpolar"
           }
          ],
          "scatterpolargl": [
           {
            "marker": {
             "colorbar": {
              "outlinewidth": 0,
              "ticks": ""
             }
            },
            "type": "scatterpolargl"
           }
          ],
          "scatterternary": [
           {
            "marker": {
             "colorbar": {
              "outlinewidth": 0,
              "ticks": ""
             }
            },
            "type": "scatterternary"
           }
          ],
          "surface": [
           {
            "colorbar": {
             "outlinewidth": 0,
             "ticks": ""
            },
            "colorscale": [
             [
              0,
              "#0d0887"
             ],
             [
              0.1111111111111111,
              "#46039f"
             ],
             [
              0.2222222222222222,
              "#7201a8"
             ],
             [
              0.3333333333333333,
              "#9c179e"
             ],
             [
              0.4444444444444444,
              "#bd3786"
             ],
             [
              0.5555555555555556,
              "#d8576b"
             ],
             [
              0.6666666666666666,
              "#ed7953"
             ],
             [
              0.7777777777777778,
              "#fb9f3a"
             ],
             [
              0.8888888888888888,
              "#fdca26"
             ],
             [
              1,
              "#f0f921"
             ]
            ],
            "type": "surface"
           }
          ],
          "table": [
           {
            "cells": {
             "fill": {
              "color": "#EBF0F8"
             },
             "line": {
              "color": "white"
             }
            },
            "header": {
             "fill": {
              "color": "#C8D4E3"
             },
             "line": {
              "color": "white"
             }
            },
            "type": "table"
           }
          ]
         },
         "layout": {
          "annotationdefaults": {
           "arrowcolor": "#2a3f5f",
           "arrowhead": 0,
           "arrowwidth": 1
          },
          "autotypenumbers": "strict",
          "coloraxis": {
           "colorbar": {
            "outlinewidth": 0,
            "ticks": ""
           }
          },
          "colorscale": {
           "diverging": [
            [
             0,
             "#8e0152"
            ],
            [
             0.1,
             "#c51b7d"
            ],
            [
             0.2,
             "#de77ae"
            ],
            [
             0.3,
             "#f1b6da"
            ],
            [
             0.4,
             "#fde0ef"
            ],
            [
             0.5,
             "#f7f7f7"
            ],
            [
             0.6,
             "#e6f5d0"
            ],
            [
             0.7,
             "#b8e186"
            ],
            [
             0.8,
             "#7fbc41"
            ],
            [
             0.9,
             "#4d9221"
            ],
            [
             1,
             "#276419"
            ]
           ],
           "sequential": [
            [
             0,
             "#0d0887"
            ],
            [
             0.1111111111111111,
             "#46039f"
            ],
            [
             0.2222222222222222,
             "#7201a8"
            ],
            [
             0.3333333333333333,
             "#9c179e"
            ],
            [
             0.4444444444444444,
             "#bd3786"
            ],
            [
             0.5555555555555556,
             "#d8576b"
            ],
            [
             0.6666666666666666,
             "#ed7953"
            ],
            [
             0.7777777777777778,
             "#fb9f3a"
            ],
            [
             0.8888888888888888,
             "#fdca26"
            ],
            [
             1,
             "#f0f921"
            ]
           ],
           "sequentialminus": [
            [
             0,
             "#0d0887"
            ],
            [
             0.1111111111111111,
             "#46039f"
            ],
            [
             0.2222222222222222,
             "#7201a8"
            ],
            [
             0.3333333333333333,
             "#9c179e"
            ],
            [
             0.4444444444444444,
             "#bd3786"
            ],
            [
             0.5555555555555556,
             "#d8576b"
            ],
            [
             0.6666666666666666,
             "#ed7953"
            ],
            [
             0.7777777777777778,
             "#fb9f3a"
            ],
            [
             0.8888888888888888,
             "#fdca26"
            ],
            [
             1,
             "#f0f921"
            ]
           ]
          },
          "colorway": [
           "#636efa",
           "#EF553B",
           "#00cc96",
           "#ab63fa",
           "#FFA15A",
           "#19d3f3",
           "#FF6692",
           "#B6E880",
           "#FF97FF",
           "#FECB52"
          ],
          "font": {
           "color": "#2a3f5f"
          },
          "geo": {
           "bgcolor": "white",
           "lakecolor": "white",
           "landcolor": "#E5ECF6",
           "showlakes": true,
           "showland": true,
           "subunitcolor": "white"
          },
          "hoverlabel": {
           "align": "left"
          },
          "hovermode": "closest",
          "mapbox": {
           "style": "light"
          },
          "paper_bgcolor": "white",
          "plot_bgcolor": "#E5ECF6",
          "polar": {
           "angularaxis": {
            "gridcolor": "white",
            "linecolor": "white",
            "ticks": ""
           },
           "bgcolor": "#E5ECF6",
           "radialaxis": {
            "gridcolor": "white",
            "linecolor": "white",
            "ticks": ""
           }
          },
          "scene": {
           "xaxis": {
            "backgroundcolor": "#E5ECF6",
            "gridcolor": "white",
            "gridwidth": 2,
            "linecolor": "white",
            "showbackground": true,
            "ticks": "",
            "zerolinecolor": "white"
           },
           "yaxis": {
            "backgroundcolor": "#E5ECF6",
            "gridcolor": "white",
            "gridwidth": 2,
            "linecolor": "white",
            "showbackground": true,
            "ticks": "",
            "zerolinecolor": "white"
           },
           "zaxis": {
            "backgroundcolor": "#E5ECF6",
            "gridcolor": "white",
            "gridwidth": 2,
            "linecolor": "white",
            "showbackground": true,
            "ticks": "",
            "zerolinecolor": "white"
           }
          },
          "shapedefaults": {
           "line": {
            "color": "#2a3f5f"
           }
          },
          "ternary": {
           "aaxis": {
            "gridcolor": "white",
            "linecolor": "white",
            "ticks": ""
           },
           "baxis": {
            "gridcolor": "white",
            "linecolor": "white",
            "ticks": ""
           },
           "bgcolor": "#E5ECF6",
           "caxis": {
            "gridcolor": "white",
            "linecolor": "white",
            "ticks": ""
           }
          },
          "title": {
           "x": 0.05
          },
          "xaxis": {
           "automargin": true,
           "gridcolor": "white",
           "linecolor": "white",
           "ticks": "",
           "title": {
            "standoff": 15
           },
           "zerolinecolor": "white",
           "zerolinewidth": 2
          },
          "yaxis": {
           "automargin": true,
           "gridcolor": "white",
           "linecolor": "white",
           "ticks": "",
           "title": {
            "standoff": 15
           },
           "zerolinecolor": "white",
           "zerolinewidth": 2
          }
         }
        },
        "title": {
         "text": "Document Distribution by Topics"
        },
        "xaxis": {
         "anchor": "y",
         "domain": [
          0,
          1
         ],
         "title": {
          "text": "Topic"
         }
        },
        "yaxis": {
         "anchor": "x",
         "domain": [
          0,
          1
         ],
         "title": {
          "text": "Documents"
         }
        }
       }
      },
      "text/html": [
       "<div>                            <div id=\"d7a89e65-f1fb-476b-9e28-d505cc47022f\" class=\"plotly-graph-div\" style=\"height:525px; width:100%;\"></div>            <script type=\"text/javascript\">                require([\"plotly\"], function(Plotly) {                    window.PLOTLYENV=window.PLOTLYENV || {};                                    if (document.getElementById(\"d7a89e65-f1fb-476b-9e28-d505cc47022f\")) {                    Plotly.newPlot(                        \"d7a89e65-f1fb-476b-9e28-d505cc47022f\",                        [{\"alignmentgroup\": \"True\", \"customdata\": [[\"life, idea, ever, seek, enough, may, impact, trouble, hypnosis, meditation\"], [\"difficult, partner, long, man, situation, cheat, concern, number, address, kind\"], [\"form, harm, addiction, mood, cycle, swing, suicide, food, personal, growth\"], [\"time, talk, friend, may, husband, love, hard, spend, fear, symptom\"], [\"possible, trust, trauma, daughter, stress, school, treat, overcome, bully, daily\"], [\"client, first, treatment, fit, important, improve, health, alone, loss, control\"], [\"therapy, depression, anxiety, struggle, session, may, sex, bring, type, afraid\"], [\"issue, stop, heal, feeling, blame, away, crisis, young, effect, hospital\"], [\"help, live, year, woman, social, doctor, stressful, powerful, tool, disposal\"], [\"cry, feel, normal, professional, nervous, marriage, write, psychotherapy, response, place\"], [\"problem, always, pain, common, back, day, cause, rough, world, panic_attack\"], [\"experience, difference, change, sexual, abuse, begin, willing, great, moment, increase\"], [\"good, work, deal, people, listen, child, advice, care, parent, true\"], [\"family, wonder, disorder, autism_spectrum_disorder, follow, wife, past, member, diagnosis, post_traumatic_stress\"], [\"therapist, relationship, boyfriend, person, mother, girlfriend, break, move, healthy, leave\"], [\"tip, contact, along, illness, mental, share, ease, meet, habit, smoke\"]], \"hovertemplate\": \"Topic=%{x}<br>Documents=%{y}<br>Keyword=%{customdata[0]}<extra></extra>\", \"legendgroup\": \"\", \"marker\": {\"color\": \"#636efa\"}, \"name\": \"\", \"offsetgroup\": \"\", \"orientation\": \"v\", \"showlegend\": false, \"textposition\": \"auto\", \"type\": \"bar\", \"x\": [\"Topic 0\", \"Topic 1\", \"Topic 2\", \"Topic 3\", \"Topic 4\", \"Topic 5\", \"Topic 6\", \"Topic 7\", \"Topic 8\", \"Topic 9\", \"Topic 10\", \"Topic 11\", \"Topic 12\", \"Topic 13\", \"Topic 14\", \"Topic 15\"], \"xaxis\": \"x\", \"y\": [69, 56, 12, 280, 76, 59, 220, 46, 69, 154, 32, 34, 670, 32, 314, 6], \"yaxis\": \"y\"}],                        {\"barmode\": \"relative\", \"legend\": {\"tracegroupgap\": 0}, \"template\": {\"data\": {\"bar\": [{\"error_x\": {\"color\": \"#2a3f5f\"}, \"error_y\": {\"color\": \"#2a3f5f\"}, \"marker\": {\"line\": {\"color\": \"#E5ECF6\", \"width\": 0.5}}, \"type\": \"bar\"}], \"barpolar\": [{\"marker\": {\"line\": {\"color\": \"#E5ECF6\", \"width\": 0.5}}, \"type\": \"barpolar\"}], \"carpet\": [{\"aaxis\": {\"endlinecolor\": \"#2a3f5f\", \"gridcolor\": \"white\", \"linecolor\": \"white\", \"minorgridcolor\": \"white\", \"startlinecolor\": \"#2a3f5f\"}, \"baxis\": {\"endlinecolor\": \"#2a3f5f\", \"gridcolor\": \"white\", \"linecolor\": \"white\", \"minorgridcolor\": \"white\", \"startlinecolor\": \"#2a3f5f\"}, \"type\": \"carpet\"}], \"choropleth\": [{\"colorbar\": {\"outlinewidth\": 0, \"ticks\": \"\"}, \"type\": \"choropleth\"}], \"contour\": [{\"colorbar\": {\"outlinewidth\": 0, \"ticks\": \"\"}, \"colorscale\": [[0.0, \"#0d0887\"], [0.1111111111111111, \"#46039f\"], [0.2222222222222222, \"#7201a8\"], [0.3333333333333333, \"#9c179e\"], [0.4444444444444444, \"#bd3786\"], [0.5555555555555556, \"#d8576b\"], [0.6666666666666666, \"#ed7953\"], [0.7777777777777778, \"#fb9f3a\"], [0.8888888888888888, \"#fdca26\"], [1.0, \"#f0f921\"]], \"type\": \"contour\"}], \"contourcarpet\": [{\"colorbar\": {\"outlinewidth\": 0, \"ticks\": \"\"}, \"type\": \"contourcarpet\"}], \"heatmap\": [{\"colorbar\": {\"outlinewidth\": 0, \"ticks\": \"\"}, \"colorscale\": [[0.0, \"#0d0887\"], [0.1111111111111111, \"#46039f\"], [0.2222222222222222, \"#7201a8\"], [0.3333333333333333, \"#9c179e\"], [0.4444444444444444, \"#bd3786\"], [0.5555555555555556, \"#d8576b\"], [0.6666666666666666, \"#ed7953\"], [0.7777777777777778, \"#fb9f3a\"], [0.8888888888888888, \"#fdca26\"], [1.0, \"#f0f921\"]], \"type\": \"heatmap\"}], \"heatmapgl\": [{\"colorbar\": {\"outlinewidth\": 0, \"ticks\": \"\"}, \"colorscale\": [[0.0, \"#0d0887\"], [0.1111111111111111, \"#46039f\"], [0.2222222222222222, \"#7201a8\"], [0.3333333333333333, \"#9c179e\"], [0.4444444444444444, \"#bd3786\"], [0.5555555555555556, \"#d8576b\"], [0.6666666666666666, \"#ed7953\"], [0.7777777777777778, \"#fb9f3a\"], [0.8888888888888888, \"#fdca26\"], [1.0, \"#f0f921\"]], \"type\": \"heatmapgl\"}], \"histogram\": [{\"marker\": {\"colorbar\": {\"outlinewidth\": 0, \"ticks\": \"\"}}, \"type\": \"histogram\"}], \"histogram2d\": [{\"colorbar\": {\"outlinewidth\": 0, \"ticks\": \"\"}, \"colorscale\": [[0.0, \"#0d0887\"], [0.1111111111111111, \"#46039f\"], [0.2222222222222222, \"#7201a8\"], [0.3333333333333333, \"#9c179e\"], [0.4444444444444444, \"#bd3786\"], [0.5555555555555556, \"#d8576b\"], [0.6666666666666666, \"#ed7953\"], [0.7777777777777778, \"#fb9f3a\"], [0.8888888888888888, \"#fdca26\"], [1.0, \"#f0f921\"]], \"type\": \"histogram2d\"}], \"histogram2dcontour\": [{\"colorbar\": {\"outlinewidth\": 0, \"ticks\": \"\"}, \"colorscale\": [[0.0, \"#0d0887\"], [0.1111111111111111, \"#46039f\"], [0.2222222222222222, \"#7201a8\"], [0.3333333333333333, \"#9c179e\"], [0.4444444444444444, \"#bd3786\"], [0.5555555555555556, \"#d8576b\"], [0.6666666666666666, \"#ed7953\"], [0.7777777777777778, \"#fb9f3a\"], [0.8888888888888888, \"#fdca26\"], [1.0, \"#f0f921\"]], \"type\": \"histogram2dcontour\"}], \"mesh3d\": [{\"colorbar\": {\"outlinewidth\": 0, \"ticks\": \"\"}, \"type\": \"mesh3d\"}], \"parcoords\": [{\"line\": {\"colorbar\": {\"outlinewidth\": 0, \"ticks\": \"\"}}, \"type\": \"parcoords\"}], \"pie\": [{\"automargin\": true, \"type\": \"pie\"}], \"scatter\": [{\"marker\": {\"colorbar\": {\"outlinewidth\": 0, \"ticks\": \"\"}}, \"type\": \"scatter\"}], \"scatter3d\": [{\"line\": {\"colorbar\": {\"outlinewidth\": 0, \"ticks\": \"\"}}, \"marker\": {\"colorbar\": {\"outlinewidth\": 0, \"ticks\": \"\"}}, \"type\": \"scatter3d\"}], \"scattercarpet\": [{\"marker\": {\"colorbar\": {\"outlinewidth\": 0, \"ticks\": \"\"}}, \"type\": \"scattercarpet\"}], \"scattergeo\": [{\"marker\": {\"colorbar\": {\"outlinewidth\": 0, \"ticks\": \"\"}}, \"type\": \"scattergeo\"}], \"scattergl\": [{\"marker\": {\"colorbar\": {\"outlinewidth\": 0, \"ticks\": \"\"}}, \"type\": \"scattergl\"}], \"scattermapbox\": [{\"marker\": {\"colorbar\": {\"outlinewidth\": 0, \"ticks\": \"\"}}, \"type\": \"scattermapbox\"}], \"scatterpolar\": [{\"marker\": {\"colorbar\": {\"outlinewidth\": 0, \"ticks\": \"\"}}, \"type\": \"scatterpolar\"}], \"scatterpolargl\": [{\"marker\": {\"colorbar\": {\"outlinewidth\": 0, \"ticks\": \"\"}}, \"type\": \"scatterpolargl\"}], \"scatterternary\": [{\"marker\": {\"colorbar\": {\"outlinewidth\": 0, \"ticks\": \"\"}}, \"type\": \"scatterternary\"}], \"surface\": [{\"colorbar\": {\"outlinewidth\": 0, \"ticks\": \"\"}, \"colorscale\": [[0.0, \"#0d0887\"], [0.1111111111111111, \"#46039f\"], [0.2222222222222222, \"#7201a8\"], [0.3333333333333333, \"#9c179e\"], [0.4444444444444444, \"#bd3786\"], [0.5555555555555556, \"#d8576b\"], [0.6666666666666666, \"#ed7953\"], [0.7777777777777778, \"#fb9f3a\"], [0.8888888888888888, \"#fdca26\"], [1.0, \"#f0f921\"]], \"type\": \"surface\"}], \"table\": [{\"cells\": {\"fill\": {\"color\": \"#EBF0F8\"}, \"line\": {\"color\": \"white\"}}, \"header\": {\"fill\": {\"color\": \"#C8D4E3\"}, \"line\": {\"color\": \"white\"}}, \"type\": \"table\"}]}, \"layout\": {\"annotationdefaults\": {\"arrowcolor\": \"#2a3f5f\", \"arrowhead\": 0, \"arrowwidth\": 1}, \"autotypenumbers\": \"strict\", \"coloraxis\": {\"colorbar\": {\"outlinewidth\": 0, \"ticks\": \"\"}}, \"colorscale\": {\"diverging\": [[0, \"#8e0152\"], [0.1, \"#c51b7d\"], [0.2, \"#de77ae\"], [0.3, \"#f1b6da\"], [0.4, \"#fde0ef\"], [0.5, \"#f7f7f7\"], [0.6, \"#e6f5d0\"], [0.7, \"#b8e186\"], [0.8, \"#7fbc41\"], [0.9, \"#4d9221\"], [1, \"#276419\"]], \"sequential\": [[0.0, \"#0d0887\"], [0.1111111111111111, \"#46039f\"], [0.2222222222222222, \"#7201a8\"], [0.3333333333333333, \"#9c179e\"], [0.4444444444444444, \"#bd3786\"], [0.5555555555555556, \"#d8576b\"], [0.6666666666666666, \"#ed7953\"], [0.7777777777777778, \"#fb9f3a\"], [0.8888888888888888, \"#fdca26\"], [1.0, \"#f0f921\"]], \"sequentialminus\": [[0.0, \"#0d0887\"], [0.1111111111111111, \"#46039f\"], [0.2222222222222222, \"#7201a8\"], [0.3333333333333333, \"#9c179e\"], [0.4444444444444444, \"#bd3786\"], [0.5555555555555556, \"#d8576b\"], [0.6666666666666666, \"#ed7953\"], [0.7777777777777778, \"#fb9f3a\"], [0.8888888888888888, \"#fdca26\"], [1.0, \"#f0f921\"]]}, \"colorway\": [\"#636efa\", \"#EF553B\", \"#00cc96\", \"#ab63fa\", \"#FFA15A\", \"#19d3f3\", \"#FF6692\", \"#B6E880\", \"#FF97FF\", \"#FECB52\"], \"font\": {\"color\": \"#2a3f5f\"}, \"geo\": {\"bgcolor\": \"white\", \"lakecolor\": \"white\", \"landcolor\": \"#E5ECF6\", \"showlakes\": true, \"showland\": true, \"subunitcolor\": \"white\"}, \"hoverlabel\": {\"align\": \"left\"}, \"hovermode\": \"closest\", \"mapbox\": {\"style\": \"light\"}, \"paper_bgcolor\": \"white\", \"plot_bgcolor\": \"#E5ECF6\", \"polar\": {\"angularaxis\": {\"gridcolor\": \"white\", \"linecolor\": \"white\", \"ticks\": \"\"}, \"bgcolor\": \"#E5ECF6\", \"radialaxis\": {\"gridcolor\": \"white\", \"linecolor\": \"white\", \"ticks\": \"\"}}, \"scene\": {\"xaxis\": {\"backgroundcolor\": \"#E5ECF6\", \"gridcolor\": \"white\", \"gridwidth\": 2, \"linecolor\": \"white\", \"showbackground\": true, \"ticks\": \"\", \"zerolinecolor\": \"white\"}, \"yaxis\": {\"backgroundcolor\": \"#E5ECF6\", \"gridcolor\": \"white\", \"gridwidth\": 2, \"linecolor\": \"white\", \"showbackground\": true, \"ticks\": \"\", \"zerolinecolor\": \"white\"}, \"zaxis\": {\"backgroundcolor\": \"#E5ECF6\", \"gridcolor\": \"white\", \"gridwidth\": 2, \"linecolor\": \"white\", \"showbackground\": true, \"ticks\": \"\", \"zerolinecolor\": \"white\"}}, \"shapedefaults\": {\"line\": {\"color\": \"#2a3f5f\"}}, \"ternary\": {\"aaxis\": {\"gridcolor\": \"white\", \"linecolor\": \"white\", \"ticks\": \"\"}, \"baxis\": {\"gridcolor\": \"white\", \"linecolor\": \"white\", \"ticks\": \"\"}, \"bgcolor\": \"#E5ECF6\", \"caxis\": {\"gridcolor\": \"white\", \"linecolor\": \"white\", \"ticks\": \"\"}}, \"title\": {\"x\": 0.05}, \"xaxis\": {\"automargin\": true, \"gridcolor\": \"white\", \"linecolor\": \"white\", \"ticks\": \"\", \"title\": {\"standoff\": 15}, \"zerolinecolor\": \"white\", \"zerolinewidth\": 2}, \"yaxis\": {\"automargin\": true, \"gridcolor\": \"white\", \"linecolor\": \"white\", \"ticks\": \"\", \"title\": {\"standoff\": 15}, \"zerolinecolor\": \"white\", \"zerolinewidth\": 2}}}, \"title\": {\"text\": \"Document Distribution by Topics\"}, \"xaxis\": {\"anchor\": \"y\", \"domain\": [0.0, 1.0], \"title\": {\"text\": \"Topic\"}}, \"yaxis\": {\"anchor\": \"x\", \"domain\": [0.0, 1.0], \"title\": {\"text\": \"Documents\"}}},                        {\"responsive\": true}                    ).then(function(){\n",
       "                            \n",
       "var gd = document.getElementById('d7a89e65-f1fb-476b-9e28-d505cc47022f');\n",
       "var x = new MutationObserver(function (mutations, observer) {{\n",
       "        var display = window.getComputedStyle(gd).display;\n",
       "        if (!display || display === 'none') {{\n",
       "            console.log([gd, 'removed!']);\n",
       "            Plotly.purge(gd);\n",
       "            observer.disconnect();\n",
       "        }}\n",
       "}});\n",
       "\n",
       "// Listen for the removal of the full notebook cells\n",
       "var notebookContainer = gd.closest('#notebook-container');\n",
       "if (notebookContainer) {{\n",
       "    x.observe(notebookContainer, {childList: true});\n",
       "}}\n",
       "\n",
       "// Listen for the clearing of the current output cell\n",
       "var outputEl = gd.closest('.output');\n",
       "if (outputEl) {{\n",
       "    x.observe(outputEl, {childList: true});\n",
       "}}\n",
       "\n",
       "                        })                };                });            </script>        </div>"
      ]
     },
     "metadata": {},
     "output_type": "display_data"
    }
   ],
   "source": [
    "\n",
    "plot_model(lda, plot = 'topic_distribution')"
   ]
  },
  {
   "cell_type": "code",
   "execution_count": 20,
   "id": "searching-proportion",
   "metadata": {},
   "outputs": [
    {
     "data": {
      "text/html": [
       "        <script type=\"text/javascript\">\n",
       "        window.PlotlyConfig = {MathJaxConfig: 'local'};\n",
       "        if (window.MathJax) {MathJax.Hub.Config({SVG: {font: \"STIX-Web\"}});}\n",
       "        if (typeof require !== 'undefined') {\n",
       "        require.undef(\"plotly\");\n",
       "        requirejs.config({\n",
       "            paths: {\n",
       "                'plotly': ['https://cdn.plot.ly/plotly-latest.min']\n",
       "            }\n",
       "        });\n",
       "        require(['plotly'], function(Plotly) {\n",
       "            window._Plotly = Plotly;\n",
       "        });\n",
       "        }\n",
       "        </script>\n",
       "        "
      ]
     },
     "metadata": {},
     "output_type": "display_data"
    },
    {
     "data": {
      "application/vnd.plotly.v1+json": {
       "config": {
        "linkText": "Export to plot.ly",
        "plotlyServerURL": "https://plot.ly",
        "showLink": true
       },
       "data": [
        {
         "marker": {
          "color": "rgba(255, 153, 51, 0.6)",
          "line": {
           "color": "rgba(255, 153, 51, 1.0)",
           "width": 1
          }
         },
         "name": "count",
         "orientation": "v",
         "text": "",
         "type": "bar",
         "x": [
          "good",
          "feel",
          "help",
          "time",
          "relationship",
          "may",
          "anxiety",
          "deal",
          "possible",
          "depression",
          "therapy",
          "life",
          "therapist",
          "boyfriend",
          "stop",
          "struggle",
          "husband",
          "friend",
          "talk",
          "people",
          "partner",
          "experience",
          "issue",
          "cry",
          "mother",
          "child",
          "work",
          "normal",
          "daughter",
          "problem",
          "ever",
          "difficult",
          "love",
          "seek",
          "sex",
          "important",
          "family",
          "tip",
          "hard",
          "marriage",
          "parent",
          "feeling",
          "first",
          "idea",
          "change",
          "long",
          "girlfriend",
          "common",
          "break",
          "move",
          "abuse",
          "fear",
          "man",
          "write",
          "client",
          "disorder",
          "person",
          "heal",
          "nervous",
          "sexual",
          "situation",
          "improve",
          "alone",
          "true",
          "trust",
          "treatment",
          "care",
          "professional",
          "cheat",
          "session",
          "spend",
          "school",
          "wife",
          "anger",
          "stress",
          "social",
          "loss",
          "question",
          "abusive",
          "place",
          "wonder",
          "leave",
          "trauma",
          "enough",
          "year",
          "woman",
          "cause",
          "together",
          "difference",
          "live",
          "suffer",
          "wrong",
          "follow",
          "past",
          "listen",
          "understand",
          "back",
          "job",
          "angry",
          "support"
         ],
         "y": [
          286,
          223,
          211,
          189,
          173,
          152,
          123,
          122,
          121,
          116,
          108,
          108,
          101,
          100,
          97,
          92,
          86,
          75,
          72,
          71,
          69,
          66,
          65,
          62,
          58,
          56,
          56,
          55,
          54,
          52,
          51,
          49,
          47,
          44,
          44,
          42,
          40,
          39,
          37,
          37,
          36,
          32,
          32,
          30,
          30,
          29,
          29,
          28,
          27,
          26,
          26,
          26,
          25,
          25,
          25,
          25,
          25,
          24,
          24,
          23,
          23,
          23,
          23,
          22,
          22,
          21,
          21,
          21,
          21,
          21,
          20,
          20,
          20,
          20,
          19,
          19,
          18,
          18,
          17,
          17,
          17,
          17,
          17,
          17,
          16,
          16,
          16,
          16,
          16,
          16,
          16,
          15,
          15,
          15,
          14,
          14,
          14,
          14,
          14,
          14
         ]
        }
       ],
       "layout": {
        "legend": {
         "bgcolor": "#F5F6F9",
         "font": {
          "color": "#4D5663"
         }
        },
        "paper_bgcolor": "#F5F6F9",
        "plot_bgcolor": "#F5F6F9",
        "template": {
         "data": {
          "bar": [
           {
            "error_x": {
             "color": "#2a3f5f"
            },
            "error_y": {
             "color": "#2a3f5f"
            },
            "marker": {
             "line": {
              "color": "#E5ECF6",
              "width": 0.5
             }
            },
            "type": "bar"
           }
          ],
          "barpolar": [
           {
            "marker": {
             "line": {
              "color": "#E5ECF6",
              "width": 0.5
             }
            },
            "type": "barpolar"
           }
          ],
          "carpet": [
           {
            "aaxis": {
             "endlinecolor": "#2a3f5f",
             "gridcolor": "white",
             "linecolor": "white",
             "minorgridcolor": "white",
             "startlinecolor": "#2a3f5f"
            },
            "baxis": {
             "endlinecolor": "#2a3f5f",
             "gridcolor": "white",
             "linecolor": "white",
             "minorgridcolor": "white",
             "startlinecolor": "#2a3f5f"
            },
            "type": "carpet"
           }
          ],
          "choropleth": [
           {
            "colorbar": {
             "outlinewidth": 0,
             "ticks": ""
            },
            "type": "choropleth"
           }
          ],
          "contour": [
           {
            "colorbar": {
             "outlinewidth": 0,
             "ticks": ""
            },
            "colorscale": [
             [
              0,
              "#0d0887"
             ],
             [
              0.1111111111111111,
              "#46039f"
             ],
             [
              0.2222222222222222,
              "#7201a8"
             ],
             [
              0.3333333333333333,
              "#9c179e"
             ],
             [
              0.4444444444444444,
              "#bd3786"
             ],
             [
              0.5555555555555556,
              "#d8576b"
             ],
             [
              0.6666666666666666,
              "#ed7953"
             ],
             [
              0.7777777777777778,
              "#fb9f3a"
             ],
             [
              0.8888888888888888,
              "#fdca26"
             ],
             [
              1,
              "#f0f921"
             ]
            ],
            "type": "contour"
           }
          ],
          "contourcarpet": [
           {
            "colorbar": {
             "outlinewidth": 0,
             "ticks": ""
            },
            "type": "contourcarpet"
           }
          ],
          "heatmap": [
           {
            "colorbar": {
             "outlinewidth": 0,
             "ticks": ""
            },
            "colorscale": [
             [
              0,
              "#0d0887"
             ],
             [
              0.1111111111111111,
              "#46039f"
             ],
             [
              0.2222222222222222,
              "#7201a8"
             ],
             [
              0.3333333333333333,
              "#9c179e"
             ],
             [
              0.4444444444444444,
              "#bd3786"
             ],
             [
              0.5555555555555556,
              "#d8576b"
             ],
             [
              0.6666666666666666,
              "#ed7953"
             ],
             [
              0.7777777777777778,
              "#fb9f3a"
             ],
             [
              0.8888888888888888,
              "#fdca26"
             ],
             [
              1,
              "#f0f921"
             ]
            ],
            "type": "heatmap"
           }
          ],
          "heatmapgl": [
           {
            "colorbar": {
             "outlinewidth": 0,
             "ticks": ""
            },
            "colorscale": [
             [
              0,
              "#0d0887"
             ],
             [
              0.1111111111111111,
              "#46039f"
             ],
             [
              0.2222222222222222,
              "#7201a8"
             ],
             [
              0.3333333333333333,
              "#9c179e"
             ],
             [
              0.4444444444444444,
              "#bd3786"
             ],
             [
              0.5555555555555556,
              "#d8576b"
             ],
             [
              0.6666666666666666,
              "#ed7953"
             ],
             [
              0.7777777777777778,
              "#fb9f3a"
             ],
             [
              0.8888888888888888,
              "#fdca26"
             ],
             [
              1,
              "#f0f921"
             ]
            ],
            "type": "heatmapgl"
           }
          ],
          "histogram": [
           {
            "marker": {
             "colorbar": {
              "outlinewidth": 0,
              "ticks": ""
             }
            },
            "type": "histogram"
           }
          ],
          "histogram2d": [
           {
            "colorbar": {
             "outlinewidth": 0,
             "ticks": ""
            },
            "colorscale": [
             [
              0,
              "#0d0887"
             ],
             [
              0.1111111111111111,
              "#46039f"
             ],
             [
              0.2222222222222222,
              "#7201a8"
             ],
             [
              0.3333333333333333,
              "#9c179e"
             ],
             [
              0.4444444444444444,
              "#bd3786"
             ],
             [
              0.5555555555555556,
              "#d8576b"
             ],
             [
              0.6666666666666666,
              "#ed7953"
             ],
             [
              0.7777777777777778,
              "#fb9f3a"
             ],
             [
              0.8888888888888888,
              "#fdca26"
             ],
             [
              1,
              "#f0f921"
             ]
            ],
            "type": "histogram2d"
           }
          ],
          "histogram2dcontour": [
           {
            "colorbar": {
             "outlinewidth": 0,
             "ticks": ""
            },
            "colorscale": [
             [
              0,
              "#0d0887"
             ],
             [
              0.1111111111111111,
              "#46039f"
             ],
             [
              0.2222222222222222,
              "#7201a8"
             ],
             [
              0.3333333333333333,
              "#9c179e"
             ],
             [
              0.4444444444444444,
              "#bd3786"
             ],
             [
              0.5555555555555556,
              "#d8576b"
             ],
             [
              0.6666666666666666,
              "#ed7953"
             ],
             [
              0.7777777777777778,
              "#fb9f3a"
             ],
             [
              0.8888888888888888,
              "#fdca26"
             ],
             [
              1,
              "#f0f921"
             ]
            ],
            "type": "histogram2dcontour"
           }
          ],
          "mesh3d": [
           {
            "colorbar": {
             "outlinewidth": 0,
             "ticks": ""
            },
            "type": "mesh3d"
           }
          ],
          "parcoords": [
           {
            "line": {
             "colorbar": {
              "outlinewidth": 0,
              "ticks": ""
             }
            },
            "type": "parcoords"
           }
          ],
          "pie": [
           {
            "automargin": true,
            "type": "pie"
           }
          ],
          "scatter": [
           {
            "marker": {
             "colorbar": {
              "outlinewidth": 0,
              "ticks": ""
             }
            },
            "type": "scatter"
           }
          ],
          "scatter3d": [
           {
            "line": {
             "colorbar": {
              "outlinewidth": 0,
              "ticks": ""
             }
            },
            "marker": {
             "colorbar": {
              "outlinewidth": 0,
              "ticks": ""
             }
            },
            "type": "scatter3d"
           }
          ],
          "scattercarpet": [
           {
            "marker": {
             "colorbar": {
              "outlinewidth": 0,
              "ticks": ""
             }
            },
            "type": "scattercarpet"
           }
          ],
          "scattergeo": [
           {
            "marker": {
             "colorbar": {
              "outlinewidth": 0,
              "ticks": ""
             }
            },
            "type": "scattergeo"
           }
          ],
          "scattergl": [
           {
            "marker": {
             "colorbar": {
              "outlinewidth": 0,
              "ticks": ""
             }
            },
            "type": "scattergl"
           }
          ],
          "scattermapbox": [
           {
            "marker": {
             "colorbar": {
              "outlinewidth": 0,
              "ticks": ""
             }
            },
            "type": "scattermapbox"
           }
          ],
          "scatterpolar": [
           {
            "marker": {
             "colorbar": {
              "outlinewidth": 0,
              "ticks": ""
             }
            },
            "type": "scatterpolar"
           }
          ],
          "scatterpolargl": [
           {
            "marker": {
             "colorbar": {
              "outlinewidth": 0,
              "ticks": ""
             }
            },
            "type": "scatterpolargl"
           }
          ],
          "scatterternary": [
           {
            "marker": {
             "colorbar": {
              "outlinewidth": 0,
              "ticks": ""
             }
            },
            "type": "scatterternary"
           }
          ],
          "surface": [
           {
            "colorbar": {
             "outlinewidth": 0,
             "ticks": ""
            },
            "colorscale": [
             [
              0,
              "#0d0887"
             ],
             [
              0.1111111111111111,
              "#46039f"
             ],
             [
              0.2222222222222222,
              "#7201a8"
             ],
             [
              0.3333333333333333,
              "#9c179e"
             ],
             [
              0.4444444444444444,
              "#bd3786"
             ],
             [
              0.5555555555555556,
              "#d8576b"
             ],
             [
              0.6666666666666666,
              "#ed7953"
             ],
             [
              0.7777777777777778,
              "#fb9f3a"
             ],
             [
              0.8888888888888888,
              "#fdca26"
             ],
             [
              1,
              "#f0f921"
             ]
            ],
            "type": "surface"
           }
          ],
          "table": [
           {
            "cells": {
             "fill": {
              "color": "#EBF0F8"
             },
             "line": {
              "color": "white"
             }
            },
            "header": {
             "fill": {
              "color": "#C8D4E3"
             },
             "line": {
              "color": "white"
             }
            },
            "type": "table"
           }
          ]
         },
         "layout": {
          "annotationdefaults": {
           "arrowcolor": "#2a3f5f",
           "arrowhead": 0,
           "arrowwidth": 1
          },
          "autotypenumbers": "strict",
          "coloraxis": {
           "colorbar": {
            "outlinewidth": 0,
            "ticks": ""
           }
          },
          "colorscale": {
           "diverging": [
            [
             0,
             "#8e0152"
            ],
            [
             0.1,
             "#c51b7d"
            ],
            [
             0.2,
             "#de77ae"
            ],
            [
             0.3,
             "#f1b6da"
            ],
            [
             0.4,
             "#fde0ef"
            ],
            [
             0.5,
             "#f7f7f7"
            ],
            [
             0.6,
             "#e6f5d0"
            ],
            [
             0.7,
             "#b8e186"
            ],
            [
             0.8,
             "#7fbc41"
            ],
            [
             0.9,
             "#4d9221"
            ],
            [
             1,
             "#276419"
            ]
           ],
           "sequential": [
            [
             0,
             "#0d0887"
            ],
            [
             0.1111111111111111,
             "#46039f"
            ],
            [
             0.2222222222222222,
             "#7201a8"
            ],
            [
             0.3333333333333333,
             "#9c179e"
            ],
            [
             0.4444444444444444,
             "#bd3786"
            ],
            [
             0.5555555555555556,
             "#d8576b"
            ],
            [
             0.6666666666666666,
             "#ed7953"
            ],
            [
             0.7777777777777778,
             "#fb9f3a"
            ],
            [
             0.8888888888888888,
             "#fdca26"
            ],
            [
             1,
             "#f0f921"
            ]
           ],
           "sequentialminus": [
            [
             0,
             "#0d0887"
            ],
            [
             0.1111111111111111,
             "#46039f"
            ],
            [
             0.2222222222222222,
             "#7201a8"
            ],
            [
             0.3333333333333333,
             "#9c179e"
            ],
            [
             0.4444444444444444,
             "#bd3786"
            ],
            [
             0.5555555555555556,
             "#d8576b"
            ],
            [
             0.6666666666666666,
             "#ed7953"
            ],
            [
             0.7777777777777778,
             "#fb9f3a"
            ],
            [
             0.8888888888888888,
             "#fdca26"
            ],
            [
             1,
             "#f0f921"
            ]
           ]
          },
          "colorway": [
           "#636efa",
           "#EF553B",
           "#00cc96",
           "#ab63fa",
           "#FFA15A",
           "#19d3f3",
           "#FF6692",
           "#B6E880",
           "#FF97FF",
           "#FECB52"
          ],
          "font": {
           "color": "#2a3f5f"
          },
          "geo": {
           "bgcolor": "white",
           "lakecolor": "white",
           "landcolor": "#E5ECF6",
           "showlakes": true,
           "showland": true,
           "subunitcolor": "white"
          },
          "hoverlabel": {
           "align": "left"
          },
          "hovermode": "closest",
          "mapbox": {
           "style": "light"
          },
          "paper_bgcolor": "white",
          "plot_bgcolor": "#E5ECF6",
          "polar": {
           "angularaxis": {
            "gridcolor": "white",
            "linecolor": "white",
            "ticks": ""
           },
           "bgcolor": "#E5ECF6",
           "radialaxis": {
            "gridcolor": "white",
            "linecolor": "white",
            "ticks": ""
           }
          },
          "scene": {
           "xaxis": {
            "backgroundcolor": "#E5ECF6",
            "gridcolor": "white",
            "gridwidth": 2,
            "linecolor": "white",
            "showbackground": true,
            "ticks": "",
            "zerolinecolor": "white"
           },
           "yaxis": {
            "backgroundcolor": "#E5ECF6",
            "gridcolor": "white",
            "gridwidth": 2,
            "linecolor": "white",
            "showbackground": true,
            "ticks": "",
            "zerolinecolor": "white"
           },
           "zaxis": {
            "backgroundcolor": "#E5ECF6",
            "gridcolor": "white",
            "gridwidth": 2,
            "linecolor": "white",
            "showbackground": true,
            "ticks": "",
            "zerolinecolor": "white"
           }
          },
          "shapedefaults": {
           "line": {
            "color": "#2a3f5f"
           }
          },
          "ternary": {
           "aaxis": {
            "gridcolor": "white",
            "linecolor": "white",
            "ticks": ""
           },
           "baxis": {
            "gridcolor": "white",
            "linecolor": "white",
            "ticks": ""
           },
           "bgcolor": "#E5ECF6",
           "caxis": {
            "gridcolor": "white",
            "linecolor": "white",
            "ticks": ""
           }
          },
          "title": {
           "x": 0.05
          },
          "xaxis": {
           "automargin": true,
           "gridcolor": "white",
           "linecolor": "white",
           "ticks": "",
           "title": {
            "standoff": 15
           },
           "zerolinecolor": "white",
           "zerolinewidth": 2
          },
          "yaxis": {
           "automargin": true,
           "gridcolor": "white",
           "linecolor": "white",
           "ticks": "",
           "title": {
            "standoff": 15
           },
           "zerolinecolor": "white",
           "zerolinewidth": 2
          }
         }
        },
        "title": {
         "font": {
          "color": "#4D5663"
         },
         "text": "Top 100 words after removing stop words"
        },
        "xaxis": {
         "gridcolor": "#E1E5ED",
         "linecolor": "black",
         "showgrid": true,
         "tickfont": {
          "color": "#4D5663"
         },
         "title": {
          "font": {
           "color": "#4D5663"
          },
          "text": ""
         },
         "zerolinecolor": "#E1E5ED"
        },
        "yaxis": {
         "gridcolor": "#E1E5ED",
         "linecolor": "black",
         "showgrid": true,
         "tickfont": {
          "color": "#4D5663"
         },
         "title": {
          "font": {
           "color": "#4D5663"
          },
          "text": "Count"
         },
         "zerolinecolor": "#E1E5ED"
        }
       }
      },
      "text/html": [
       "<div>                            <div id=\"788428e0-1c49-4d40-84e5-705ac4c3f2ce\" class=\"plotly-graph-div\" style=\"height:525px; width:100%;\"></div>            <script type=\"text/javascript\">                require([\"plotly\"], function(Plotly) {                    window.PLOTLYENV=window.PLOTLYENV || {};\n",
       "                    window.PLOTLYENV.BASE_URL='https://plot.ly';                                    if (document.getElementById(\"788428e0-1c49-4d40-84e5-705ac4c3f2ce\")) {                    Plotly.newPlot(                        \"788428e0-1c49-4d40-84e5-705ac4c3f2ce\",                        [{\"marker\": {\"color\": \"rgba(255, 153, 51, 0.6)\", \"line\": {\"color\": \"rgba(255, 153, 51, 1.0)\", \"width\": 1}}, \"name\": \"count\", \"orientation\": \"v\", \"text\": \"\", \"type\": \"bar\", \"x\": [\"good\", \"feel\", \"help\", \"time\", \"relationship\", \"may\", \"anxiety\", \"deal\", \"possible\", \"depression\", \"therapy\", \"life\", \"therapist\", \"boyfriend\", \"stop\", \"struggle\", \"husband\", \"friend\", \"talk\", \"people\", \"partner\", \"experience\", \"issue\", \"cry\", \"mother\", \"child\", \"work\", \"normal\", \"daughter\", \"problem\", \"ever\", \"difficult\", \"love\", \"seek\", \"sex\", \"important\", \"family\", \"tip\", \"hard\", \"marriage\", \"parent\", \"feeling\", \"first\", \"idea\", \"change\", \"long\", \"girlfriend\", \"common\", \"break\", \"move\", \"abuse\", \"fear\", \"man\", \"write\", \"client\", \"disorder\", \"person\", \"heal\", \"nervous\", \"sexual\", \"situation\", \"improve\", \"alone\", \"true\", \"trust\", \"treatment\", \"care\", \"professional\", \"cheat\", \"session\", \"spend\", \"school\", \"wife\", \"anger\", \"stress\", \"social\", \"loss\", \"question\", \"abusive\", \"place\", \"wonder\", \"leave\", \"trauma\", \"enough\", \"year\", \"woman\", \"cause\", \"together\", \"difference\", \"live\", \"suffer\", \"wrong\", \"follow\", \"past\", \"listen\", \"understand\", \"back\", \"job\", \"angry\", \"support\"], \"y\": [286, 223, 211, 189, 173, 152, 123, 122, 121, 116, 108, 108, 101, 100, 97, 92, 86, 75, 72, 71, 69, 66, 65, 62, 58, 56, 56, 55, 54, 52, 51, 49, 47, 44, 44, 42, 40, 39, 37, 37, 36, 32, 32, 30, 30, 29, 29, 28, 27, 26, 26, 26, 25, 25, 25, 25, 25, 24, 24, 23, 23, 23, 23, 22, 22, 21, 21, 21, 21, 21, 20, 20, 20, 20, 19, 19, 18, 18, 17, 17, 17, 17, 17, 17, 16, 16, 16, 16, 16, 16, 16, 15, 15, 15, 14, 14, 14, 14, 14, 14]}],                        {\"legend\": {\"bgcolor\": \"#F5F6F9\", \"font\": {\"color\": \"#4D5663\"}}, \"paper_bgcolor\": \"#F5F6F9\", \"plot_bgcolor\": \"#F5F6F9\", \"template\": {\"data\": {\"bar\": [{\"error_x\": {\"color\": \"#2a3f5f\"}, \"error_y\": {\"color\": \"#2a3f5f\"}, \"marker\": {\"line\": {\"color\": \"#E5ECF6\", \"width\": 0.5}}, \"type\": \"bar\"}], \"barpolar\": [{\"marker\": {\"line\": {\"color\": \"#E5ECF6\", \"width\": 0.5}}, \"type\": \"barpolar\"}], \"carpet\": [{\"aaxis\": {\"endlinecolor\": \"#2a3f5f\", \"gridcolor\": \"white\", \"linecolor\": \"white\", \"minorgridcolor\": \"white\", \"startlinecolor\": \"#2a3f5f\"}, \"baxis\": {\"endlinecolor\": \"#2a3f5f\", \"gridcolor\": \"white\", \"linecolor\": \"white\", \"minorgridcolor\": \"white\", \"startlinecolor\": \"#2a3f5f\"}, \"type\": \"carpet\"}], \"choropleth\": [{\"colorbar\": {\"outlinewidth\": 0, \"ticks\": \"\"}, \"type\": \"choropleth\"}], \"contour\": [{\"colorbar\": {\"outlinewidth\": 0, \"ticks\": \"\"}, \"colorscale\": [[0.0, \"#0d0887\"], [0.1111111111111111, \"#46039f\"], [0.2222222222222222, \"#7201a8\"], [0.3333333333333333, \"#9c179e\"], [0.4444444444444444, \"#bd3786\"], [0.5555555555555556, \"#d8576b\"], [0.6666666666666666, \"#ed7953\"], [0.7777777777777778, \"#fb9f3a\"], [0.8888888888888888, \"#fdca26\"], [1.0, \"#f0f921\"]], \"type\": \"contour\"}], \"contourcarpet\": [{\"colorbar\": {\"outlinewidth\": 0, \"ticks\": \"\"}, \"type\": \"contourcarpet\"}], \"heatmap\": [{\"colorbar\": {\"outlinewidth\": 0, \"ticks\": \"\"}, \"colorscale\": [[0.0, \"#0d0887\"], [0.1111111111111111, \"#46039f\"], [0.2222222222222222, \"#7201a8\"], [0.3333333333333333, \"#9c179e\"], [0.4444444444444444, \"#bd3786\"], [0.5555555555555556, \"#d8576b\"], [0.6666666666666666, \"#ed7953\"], [0.7777777777777778, \"#fb9f3a\"], [0.8888888888888888, \"#fdca26\"], [1.0, \"#f0f921\"]], \"type\": \"heatmap\"}], \"heatmapgl\": [{\"colorbar\": {\"outlinewidth\": 0, \"ticks\": \"\"}, \"colorscale\": [[0.0, \"#0d0887\"], [0.1111111111111111, \"#46039f\"], [0.2222222222222222, \"#7201a8\"], [0.3333333333333333, \"#9c179e\"], [0.4444444444444444, \"#bd3786\"], [0.5555555555555556, \"#d8576b\"], [0.6666666666666666, \"#ed7953\"], [0.7777777777777778, \"#fb9f3a\"], [0.8888888888888888, \"#fdca26\"], [1.0, \"#f0f921\"]], \"type\": \"heatmapgl\"}], \"histogram\": [{\"marker\": {\"colorbar\": {\"outlinewidth\": 0, \"ticks\": \"\"}}, \"type\": \"histogram\"}], \"histogram2d\": [{\"colorbar\": {\"outlinewidth\": 0, \"ticks\": \"\"}, \"colorscale\": [[0.0, \"#0d0887\"], [0.1111111111111111, \"#46039f\"], [0.2222222222222222, \"#7201a8\"], [0.3333333333333333, \"#9c179e\"], [0.4444444444444444, \"#bd3786\"], [0.5555555555555556, \"#d8576b\"], [0.6666666666666666, \"#ed7953\"], [0.7777777777777778, \"#fb9f3a\"], [0.8888888888888888, \"#fdca26\"], [1.0, \"#f0f921\"]], \"type\": \"histogram2d\"}], \"histogram2dcontour\": [{\"colorbar\": {\"outlinewidth\": 0, \"ticks\": \"\"}, \"colorscale\": [[0.0, \"#0d0887\"], [0.1111111111111111, \"#46039f\"], [0.2222222222222222, \"#7201a8\"], [0.3333333333333333, \"#9c179e\"], [0.4444444444444444, \"#bd3786\"], [0.5555555555555556, \"#d8576b\"], [0.6666666666666666, \"#ed7953\"], [0.7777777777777778, \"#fb9f3a\"], [0.8888888888888888, \"#fdca26\"], [1.0, \"#f0f921\"]], \"type\": \"histogram2dcontour\"}], \"mesh3d\": [{\"colorbar\": {\"outlinewidth\": 0, \"ticks\": \"\"}, \"type\": \"mesh3d\"}], \"parcoords\": [{\"line\": {\"colorbar\": {\"outlinewidth\": 0, \"ticks\": \"\"}}, \"type\": \"parcoords\"}], \"pie\": [{\"automargin\": true, \"type\": \"pie\"}], \"scatter\": [{\"marker\": {\"colorbar\": {\"outlinewidth\": 0, \"ticks\": \"\"}}, \"type\": \"scatter\"}], \"scatter3d\": [{\"line\": {\"colorbar\": {\"outlinewidth\": 0, \"ticks\": \"\"}}, \"marker\": {\"colorbar\": {\"outlinewidth\": 0, \"ticks\": \"\"}}, \"type\": \"scatter3d\"}], \"scattercarpet\": [{\"marker\": {\"colorbar\": {\"outlinewidth\": 0, \"ticks\": \"\"}}, \"type\": \"scattercarpet\"}], \"scattergeo\": [{\"marker\": {\"colorbar\": {\"outlinewidth\": 0, \"ticks\": \"\"}}, \"type\": \"scattergeo\"}], \"scattergl\": [{\"marker\": {\"colorbar\": {\"outlinewidth\": 0, \"ticks\": \"\"}}, \"type\": \"scattergl\"}], \"scattermapbox\": [{\"marker\": {\"colorbar\": {\"outlinewidth\": 0, \"ticks\": \"\"}}, \"type\": \"scattermapbox\"}], \"scatterpolar\": [{\"marker\": {\"colorbar\": {\"outlinewidth\": 0, \"ticks\": \"\"}}, \"type\": \"scatterpolar\"}], \"scatterpolargl\": [{\"marker\": {\"colorbar\": {\"outlinewidth\": 0, \"ticks\": \"\"}}, \"type\": \"scatterpolargl\"}], \"scatterternary\": [{\"marker\": {\"colorbar\": {\"outlinewidth\": 0, \"ticks\": \"\"}}, \"type\": \"scatterternary\"}], \"surface\": [{\"colorbar\": {\"outlinewidth\": 0, \"ticks\": \"\"}, \"colorscale\": [[0.0, \"#0d0887\"], [0.1111111111111111, \"#46039f\"], [0.2222222222222222, \"#7201a8\"], [0.3333333333333333, \"#9c179e\"], [0.4444444444444444, \"#bd3786\"], [0.5555555555555556, \"#d8576b\"], [0.6666666666666666, \"#ed7953\"], [0.7777777777777778, \"#fb9f3a\"], [0.8888888888888888, \"#fdca26\"], [1.0, \"#f0f921\"]], \"type\": \"surface\"}], \"table\": [{\"cells\": {\"fill\": {\"color\": \"#EBF0F8\"}, \"line\": {\"color\": \"white\"}}, \"header\": {\"fill\": {\"color\": \"#C8D4E3\"}, \"line\": {\"color\": \"white\"}}, \"type\": \"table\"}]}, \"layout\": {\"annotationdefaults\": {\"arrowcolor\": \"#2a3f5f\", \"arrowhead\": 0, \"arrowwidth\": 1}, \"autotypenumbers\": \"strict\", \"coloraxis\": {\"colorbar\": {\"outlinewidth\": 0, \"ticks\": \"\"}}, \"colorscale\": {\"diverging\": [[0, \"#8e0152\"], [0.1, \"#c51b7d\"], [0.2, \"#de77ae\"], [0.3, \"#f1b6da\"], [0.4, \"#fde0ef\"], [0.5, \"#f7f7f7\"], [0.6, \"#e6f5d0\"], [0.7, \"#b8e186\"], [0.8, \"#7fbc41\"], [0.9, \"#4d9221\"], [1, \"#276419\"]], \"sequential\": [[0.0, \"#0d0887\"], [0.1111111111111111, \"#46039f\"], [0.2222222222222222, \"#7201a8\"], [0.3333333333333333, \"#9c179e\"], [0.4444444444444444, \"#bd3786\"], [0.5555555555555556, \"#d8576b\"], [0.6666666666666666, \"#ed7953\"], [0.7777777777777778, \"#fb9f3a\"], [0.8888888888888888, \"#fdca26\"], [1.0, \"#f0f921\"]], \"sequentialminus\": [[0.0, \"#0d0887\"], [0.1111111111111111, \"#46039f\"], [0.2222222222222222, \"#7201a8\"], [0.3333333333333333, \"#9c179e\"], [0.4444444444444444, \"#bd3786\"], [0.5555555555555556, \"#d8576b\"], [0.6666666666666666, \"#ed7953\"], [0.7777777777777778, \"#fb9f3a\"], [0.8888888888888888, \"#fdca26\"], [1.0, \"#f0f921\"]]}, \"colorway\": [\"#636efa\", \"#EF553B\", \"#00cc96\", \"#ab63fa\", \"#FFA15A\", \"#19d3f3\", \"#FF6692\", \"#B6E880\", \"#FF97FF\", \"#FECB52\"], \"font\": {\"color\": \"#2a3f5f\"}, \"geo\": {\"bgcolor\": \"white\", \"lakecolor\": \"white\", \"landcolor\": \"#E5ECF6\", \"showlakes\": true, \"showland\": true, \"subunitcolor\": \"white\"}, \"hoverlabel\": {\"align\": \"left\"}, \"hovermode\": \"closest\", \"mapbox\": {\"style\": \"light\"}, \"paper_bgcolor\": \"white\", \"plot_bgcolor\": \"#E5ECF6\", \"polar\": {\"angularaxis\": {\"gridcolor\": \"white\", \"linecolor\": \"white\", \"ticks\": \"\"}, \"bgcolor\": \"#E5ECF6\", \"radialaxis\": {\"gridcolor\": \"white\", \"linecolor\": \"white\", \"ticks\": \"\"}}, \"scene\": {\"xaxis\": {\"backgroundcolor\": \"#E5ECF6\", \"gridcolor\": \"white\", \"gridwidth\": 2, \"linecolor\": \"white\", \"showbackground\": true, \"ticks\": \"\", \"zerolinecolor\": \"white\"}, \"yaxis\": {\"backgroundcolor\": \"#E5ECF6\", \"gridcolor\": \"white\", \"gridwidth\": 2, \"linecolor\": \"white\", \"showbackground\": true, \"ticks\": \"\", \"zerolinecolor\": \"white\"}, \"zaxis\": {\"backgroundcolor\": \"#E5ECF6\", \"gridcolor\": \"white\", \"gridwidth\": 2, \"linecolor\": \"white\", \"showbackground\": true, \"ticks\": \"\", \"zerolinecolor\": \"white\"}}, \"shapedefaults\": {\"line\": {\"color\": \"#2a3f5f\"}}, \"ternary\": {\"aaxis\": {\"gridcolor\": \"white\", \"linecolor\": \"white\", \"ticks\": \"\"}, \"baxis\": {\"gridcolor\": \"white\", \"linecolor\": \"white\", \"ticks\": \"\"}, \"bgcolor\": \"#E5ECF6\", \"caxis\": {\"gridcolor\": \"white\", \"linecolor\": \"white\", \"ticks\": \"\"}}, \"title\": {\"x\": 0.05}, \"xaxis\": {\"automargin\": true, \"gridcolor\": \"white\", \"linecolor\": \"white\", \"ticks\": \"\", \"title\": {\"standoff\": 15}, \"zerolinecolor\": \"white\", \"zerolinewidth\": 2}, \"yaxis\": {\"automargin\": true, \"gridcolor\": \"white\", \"linecolor\": \"white\", \"ticks\": \"\", \"title\": {\"standoff\": 15}, \"zerolinecolor\": \"white\", \"zerolinewidth\": 2}}}, \"title\": {\"font\": {\"color\": \"#4D5663\"}, \"text\": \"Top 100 words after removing stop words\"}, \"xaxis\": {\"gridcolor\": \"#E1E5ED\", \"linecolor\": \"black\", \"showgrid\": true, \"tickfont\": {\"color\": \"#4D5663\"}, \"title\": {\"font\": {\"color\": \"#4D5663\"}, \"text\": \"\"}, \"zerolinecolor\": \"#E1E5ED\"}, \"yaxis\": {\"gridcolor\": \"#E1E5ED\", \"linecolor\": \"black\", \"showgrid\": true, \"tickfont\": {\"color\": \"#4D5663\"}, \"title\": {\"font\": {\"color\": \"#4D5663\"}, \"text\": \"Count\"}, \"zerolinecolor\": \"#E1E5ED\"}},                        {\"showLink\": true, \"linkText\": \"Export to plot.ly\", \"plotlyServerURL\": \"https://plot.ly\", \"responsive\": true}                    ).then(function(){\n",
       "                            \n",
       "var gd = document.getElementById('788428e0-1c49-4d40-84e5-705ac4c3f2ce');\n",
       "var x = new MutationObserver(function (mutations, observer) {{\n",
       "        var display = window.getComputedStyle(gd).display;\n",
       "        if (!display || display === 'none') {{\n",
       "            console.log([gd, 'removed!']);\n",
       "            Plotly.purge(gd);\n",
       "            observer.disconnect();\n",
       "        }}\n",
       "}});\n",
       "\n",
       "// Listen for the removal of the full notebook cells\n",
       "var notebookContainer = gd.closest('#notebook-container');\n",
       "if (notebookContainer) {{\n",
       "    x.observe(notebookContainer, {childList: true});\n",
       "}}\n",
       "\n",
       "// Listen for the clearing of the current output cell\n",
       "var outputEl = gd.closest('.output');\n",
       "if (outputEl) {{\n",
       "    x.observe(outputEl, {childList: true});\n",
       "}}\n",
       "\n",
       "                        })                };                });            </script>        </div>"
      ]
     },
     "metadata": {},
     "output_type": "display_data"
    }
   ],
   "source": [
    "plot_model()"
   ]
  },
  {
   "cell_type": "code",
   "execution_count": 22,
   "id": "black-fusion",
   "metadata": {},
   "outputs": [
    {
     "data": {
      "text/html": [
       "        <script type=\"text/javascript\">\n",
       "        window.PlotlyConfig = {MathJaxConfig: 'local'};\n",
       "        if (window.MathJax) {MathJax.Hub.Config({SVG: {font: \"STIX-Web\"}});}\n",
       "        if (typeof require !== 'undefined') {\n",
       "        require.undef(\"plotly\");\n",
       "        requirejs.config({\n",
       "            paths: {\n",
       "                'plotly': ['https://cdn.plot.ly/plotly-latest.min']\n",
       "            }\n",
       "        });\n",
       "        require(['plotly'], function(Plotly) {\n",
       "            window._Plotly = Plotly;\n",
       "        });\n",
       "        }\n",
       "        </script>\n",
       "        "
      ]
     },
     "metadata": {},
     "output_type": "display_data"
    },
    {
     "data": {
      "application/vnd.plotly.v1+json": {
       "config": {
        "linkText": "Export to plot.ly",
        "plotlyServerURL": "https://plot.ly",
        "showLink": true
       },
       "data": [
        {
         "marker": {
          "color": "rgba(255, 153, 51, 0.6)",
          "line": {
           "color": "rgba(255, 153, 51, 1.0)",
           "width": 1
          }
         },
         "name": "count",
         "orientation": "v",
         "text": "",
         "type": "bar",
         "x": [
          "good deal",
          "may time",
          "struggle depression",
          "depression anxiety",
          "cry therapy",
          "seek help",
          "tip help",
          "good idea",
          "time seek",
          "hard time",
          "heal issue",
          "friend friend",
          "issue heal",
          "life may",
          "good help",
          "spend time",
          "nervous therapy",
          "good enough",
          "feel nervous",
          "anxiety depression",
          "deal anxiety",
          "feel good",
          "family member",
          "normal cry",
          "good talk",
          "ever feel",
          "anxiety may",
          "help therapist",
          "deal depression",
          "experience may",
          "ever wonder",
          "good relationship",
          "normal feel",
          "good therapist",
          "good time",
          "abusive relationship",
          "feel boyfriend",
          "change life",
          "stop boyfriend",
          "may good",
          "first time",
          "break boyfriend",
          "help feel",
          "post_traumatic_stress disorder",
          "always good",
          "social anxiety",
          "ever situation",
          "talk therapist",
          "thank_take time",
          "therapeutic relationship",
          "therapist help",
          "therapy session",
          "time talk",
          "long time",
          "stop feel",
          "long distance",
          "sex life",
          "relationship boyfriend",
          "professional help",
          "possible daughter",
          "common problem",
          "good break",
          "deal loss",
          "help people",
          "feel anxious",
          "help depression",
          "help deal",
          "inrdeals_inrdeals_inrdeals_inrdeals inrdeals_inrdeals_inrdeals_inrdeals",
          "time therapist",
          "enough feel",
          "distance relationship",
          "autism_spectrum_disorder autism_spectrum_disorder",
          "experience follow",
          "good stop",
          "healthy relationship",
          "sex drive",
          "time write",
          "feel little",
          "good friend",
          "struggle anxiety",
          "problem relationship",
          "may talk",
          "cry normal",
          "anxiety issue",
          "feel sad",
          "time friend",
          "anxiety therapist",
          "difficult time",
          "stop husband",
          "soon possible",
          "issue may",
          "seek professional",
          "bipolar disorder",
          "help along",
          "reduce anxiety",
          "people experience",
          "depression tip",
          "important remember",
          "depression may",
          "hear voice"
         ],
         "y": [
          58,
          54,
          41,
          39,
          36,
          35,
          30,
          28,
          25,
          24,
          20,
          20,
          16,
          14,
          14,
          14,
          14,
          13,
          13,
          12,
          12,
          12,
          11,
          11,
          11,
          11,
          11,
          11,
          10,
          10,
          10,
          10,
          10,
          9,
          9,
          9,
          9,
          8,
          8,
          8,
          8,
          8,
          8,
          8,
          8,
          8,
          8,
          8,
          8,
          8,
          8,
          8,
          8,
          8,
          7,
          7,
          7,
          7,
          7,
          7,
          7,
          7,
          7,
          7,
          7,
          7,
          7,
          6,
          6,
          6,
          6,
          6,
          6,
          6,
          6,
          6,
          6,
          6,
          6,
          6,
          6,
          6,
          6,
          6,
          6,
          5,
          5,
          5,
          5,
          5,
          5,
          5,
          5,
          5,
          5,
          5,
          5,
          5,
          5,
          5
         ]
        }
       ],
       "layout": {
        "legend": {
         "bgcolor": "#F5F6F9",
         "font": {
          "color": "#4D5663"
         }
        },
        "paper_bgcolor": "#F5F6F9",
        "plot_bgcolor": "#F5F6F9",
        "template": {
         "data": {
          "bar": [
           {
            "error_x": {
             "color": "#2a3f5f"
            },
            "error_y": {
             "color": "#2a3f5f"
            },
            "marker": {
             "line": {
              "color": "#E5ECF6",
              "width": 0.5
             }
            },
            "type": "bar"
           }
          ],
          "barpolar": [
           {
            "marker": {
             "line": {
              "color": "#E5ECF6",
              "width": 0.5
             }
            },
            "type": "barpolar"
           }
          ],
          "carpet": [
           {
            "aaxis": {
             "endlinecolor": "#2a3f5f",
             "gridcolor": "white",
             "linecolor": "white",
             "minorgridcolor": "white",
             "startlinecolor": "#2a3f5f"
            },
            "baxis": {
             "endlinecolor": "#2a3f5f",
             "gridcolor": "white",
             "linecolor": "white",
             "minorgridcolor": "white",
             "startlinecolor": "#2a3f5f"
            },
            "type": "carpet"
           }
          ],
          "choropleth": [
           {
            "colorbar": {
             "outlinewidth": 0,
             "ticks": ""
            },
            "type": "choropleth"
           }
          ],
          "contour": [
           {
            "colorbar": {
             "outlinewidth": 0,
             "ticks": ""
            },
            "colorscale": [
             [
              0,
              "#0d0887"
             ],
             [
              0.1111111111111111,
              "#46039f"
             ],
             [
              0.2222222222222222,
              "#7201a8"
             ],
             [
              0.3333333333333333,
              "#9c179e"
             ],
             [
              0.4444444444444444,
              "#bd3786"
             ],
             [
              0.5555555555555556,
              "#d8576b"
             ],
             [
              0.6666666666666666,
              "#ed7953"
             ],
             [
              0.7777777777777778,
              "#fb9f3a"
             ],
             [
              0.8888888888888888,
              "#fdca26"
             ],
             [
              1,
              "#f0f921"
             ]
            ],
            "type": "contour"
           }
          ],
          "contourcarpet": [
           {
            "colorbar": {
             "outlinewidth": 0,
             "ticks": ""
            },
            "type": "contourcarpet"
           }
          ],
          "heatmap": [
           {
            "colorbar": {
             "outlinewidth": 0,
             "ticks": ""
            },
            "colorscale": [
             [
              0,
              "#0d0887"
             ],
             [
              0.1111111111111111,
              "#46039f"
             ],
             [
              0.2222222222222222,
              "#7201a8"
             ],
             [
              0.3333333333333333,
              "#9c179e"
             ],
             [
              0.4444444444444444,
              "#bd3786"
             ],
             [
              0.5555555555555556,
              "#d8576b"
             ],
             [
              0.6666666666666666,
              "#ed7953"
             ],
             [
              0.7777777777777778,
              "#fb9f3a"
             ],
             [
              0.8888888888888888,
              "#fdca26"
             ],
             [
              1,
              "#f0f921"
             ]
            ],
            "type": "heatmap"
           }
          ],
          "heatmapgl": [
           {
            "colorbar": {
             "outlinewidth": 0,
             "ticks": ""
            },
            "colorscale": [
             [
              0,
              "#0d0887"
             ],
             [
              0.1111111111111111,
              "#46039f"
             ],
             [
              0.2222222222222222,
              "#7201a8"
             ],
             [
              0.3333333333333333,
              "#9c179e"
             ],
             [
              0.4444444444444444,
              "#bd3786"
             ],
             [
              0.5555555555555556,
              "#d8576b"
             ],
             [
              0.6666666666666666,
              "#ed7953"
             ],
             [
              0.7777777777777778,
              "#fb9f3a"
             ],
             [
              0.8888888888888888,
              "#fdca26"
             ],
             [
              1,
              "#f0f921"
             ]
            ],
            "type": "heatmapgl"
           }
          ],
          "histogram": [
           {
            "marker": {
             "colorbar": {
              "outlinewidth": 0,
              "ticks": ""
             }
            },
            "type": "histogram"
           }
          ],
          "histogram2d": [
           {
            "colorbar": {
             "outlinewidth": 0,
             "ticks": ""
            },
            "colorscale": [
             [
              0,
              "#0d0887"
             ],
             [
              0.1111111111111111,
              "#46039f"
             ],
             [
              0.2222222222222222,
              "#7201a8"
             ],
             [
              0.3333333333333333,
              "#9c179e"
             ],
             [
              0.4444444444444444,
              "#bd3786"
             ],
             [
              0.5555555555555556,
              "#d8576b"
             ],
             [
              0.6666666666666666,
              "#ed7953"
             ],
             [
              0.7777777777777778,
              "#fb9f3a"
             ],
             [
              0.8888888888888888,
              "#fdca26"
             ],
             [
              1,
              "#f0f921"
             ]
            ],
            "type": "histogram2d"
           }
          ],
          "histogram2dcontour": [
           {
            "colorbar": {
             "outlinewidth": 0,
             "ticks": ""
            },
            "colorscale": [
             [
              0,
              "#0d0887"
             ],
             [
              0.1111111111111111,
              "#46039f"
             ],
             [
              0.2222222222222222,
              "#7201a8"
             ],
             [
              0.3333333333333333,
              "#9c179e"
             ],
             [
              0.4444444444444444,
              "#bd3786"
             ],
             [
              0.5555555555555556,
              "#d8576b"
             ],
             [
              0.6666666666666666,
              "#ed7953"
             ],
             [
              0.7777777777777778,
              "#fb9f3a"
             ],
             [
              0.8888888888888888,
              "#fdca26"
             ],
             [
              1,
              "#f0f921"
             ]
            ],
            "type": "histogram2dcontour"
           }
          ],
          "mesh3d": [
           {
            "colorbar": {
             "outlinewidth": 0,
             "ticks": ""
            },
            "type": "mesh3d"
           }
          ],
          "parcoords": [
           {
            "line": {
             "colorbar": {
              "outlinewidth": 0,
              "ticks": ""
             }
            },
            "type": "parcoords"
           }
          ],
          "pie": [
           {
            "automargin": true,
            "type": "pie"
           }
          ],
          "scatter": [
           {
            "marker": {
             "colorbar": {
              "outlinewidth": 0,
              "ticks": ""
             }
            },
            "type": "scatter"
           }
          ],
          "scatter3d": [
           {
            "line": {
             "colorbar": {
              "outlinewidth": 0,
              "ticks": ""
             }
            },
            "marker": {
             "colorbar": {
              "outlinewidth": 0,
              "ticks": ""
             }
            },
            "type": "scatter3d"
           }
          ],
          "scattercarpet": [
           {
            "marker": {
             "colorbar": {
              "outlinewidth": 0,
              "ticks": ""
             }
            },
            "type": "scattercarpet"
           }
          ],
          "scattergeo": [
           {
            "marker": {
             "colorbar": {
              "outlinewidth": 0,
              "ticks": ""
             }
            },
            "type": "scattergeo"
           }
          ],
          "scattergl": [
           {
            "marker": {
             "colorbar": {
              "outlinewidth": 0,
              "ticks": ""
             }
            },
            "type": "scattergl"
           }
          ],
          "scattermapbox": [
           {
            "marker": {
             "colorbar": {
              "outlinewidth": 0,
              "ticks": ""
             }
            },
            "type": "scattermapbox"
           }
          ],
          "scatterpolar": [
           {
            "marker": {
             "colorbar": {
              "outlinewidth": 0,
              "ticks": ""
             }
            },
            "type": "scatterpolar"
           }
          ],
          "scatterpolargl": [
           {
            "marker": {
             "colorbar": {
              "outlinewidth": 0,
              "ticks": ""
             }
            },
            "type": "scatterpolargl"
           }
          ],
          "scatterternary": [
           {
            "marker": {
             "colorbar": {
              "outlinewidth": 0,
              "ticks": ""
             }
            },
            "type": "scatterternary"
           }
          ],
          "surface": [
           {
            "colorbar": {
             "outlinewidth": 0,
             "ticks": ""
            },
            "colorscale": [
             [
              0,
              "#0d0887"
             ],
             [
              0.1111111111111111,
              "#46039f"
             ],
             [
              0.2222222222222222,
              "#7201a8"
             ],
             [
              0.3333333333333333,
              "#9c179e"
             ],
             [
              0.4444444444444444,
              "#bd3786"
             ],
             [
              0.5555555555555556,
              "#d8576b"
             ],
             [
              0.6666666666666666,
              "#ed7953"
             ],
             [
              0.7777777777777778,
              "#fb9f3a"
             ],
             [
              0.8888888888888888,
              "#fdca26"
             ],
             [
              1,
              "#f0f921"
             ]
            ],
            "type": "surface"
           }
          ],
          "table": [
           {
            "cells": {
             "fill": {
              "color": "#EBF0F8"
             },
             "line": {
              "color": "white"
             }
            },
            "header": {
             "fill": {
              "color": "#C8D4E3"
             },
             "line": {
              "color": "white"
             }
            },
            "type": "table"
           }
          ]
         },
         "layout": {
          "annotationdefaults": {
           "arrowcolor": "#2a3f5f",
           "arrowhead": 0,
           "arrowwidth": 1
          },
          "autotypenumbers": "strict",
          "coloraxis": {
           "colorbar": {
            "outlinewidth": 0,
            "ticks": ""
           }
          },
          "colorscale": {
           "diverging": [
            [
             0,
             "#8e0152"
            ],
            [
             0.1,
             "#c51b7d"
            ],
            [
             0.2,
             "#de77ae"
            ],
            [
             0.3,
             "#f1b6da"
            ],
            [
             0.4,
             "#fde0ef"
            ],
            [
             0.5,
             "#f7f7f7"
            ],
            [
             0.6,
             "#e6f5d0"
            ],
            [
             0.7,
             "#b8e186"
            ],
            [
             0.8,
             "#7fbc41"
            ],
            [
             0.9,
             "#4d9221"
            ],
            [
             1,
             "#276419"
            ]
           ],
           "sequential": [
            [
             0,
             "#0d0887"
            ],
            [
             0.1111111111111111,
             "#46039f"
            ],
            [
             0.2222222222222222,
             "#7201a8"
            ],
            [
             0.3333333333333333,
             "#9c179e"
            ],
            [
             0.4444444444444444,
             "#bd3786"
            ],
            [
             0.5555555555555556,
             "#d8576b"
            ],
            [
             0.6666666666666666,
             "#ed7953"
            ],
            [
             0.7777777777777778,
             "#fb9f3a"
            ],
            [
             0.8888888888888888,
             "#fdca26"
            ],
            [
             1,
             "#f0f921"
            ]
           ],
           "sequentialminus": [
            [
             0,
             "#0d0887"
            ],
            [
             0.1111111111111111,
             "#46039f"
            ],
            [
             0.2222222222222222,
             "#7201a8"
            ],
            [
             0.3333333333333333,
             "#9c179e"
            ],
            [
             0.4444444444444444,
             "#bd3786"
            ],
            [
             0.5555555555555556,
             "#d8576b"
            ],
            [
             0.6666666666666666,
             "#ed7953"
            ],
            [
             0.7777777777777778,
             "#fb9f3a"
            ],
            [
             0.8888888888888888,
             "#fdca26"
            ],
            [
             1,
             "#f0f921"
            ]
           ]
          },
          "colorway": [
           "#636efa",
           "#EF553B",
           "#00cc96",
           "#ab63fa",
           "#FFA15A",
           "#19d3f3",
           "#FF6692",
           "#B6E880",
           "#FF97FF",
           "#FECB52"
          ],
          "font": {
           "color": "#2a3f5f"
          },
          "geo": {
           "bgcolor": "white",
           "lakecolor": "white",
           "landcolor": "#E5ECF6",
           "showlakes": true,
           "showland": true,
           "subunitcolor": "white"
          },
          "hoverlabel": {
           "align": "left"
          },
          "hovermode": "closest",
          "mapbox": {
           "style": "light"
          },
          "paper_bgcolor": "white",
          "plot_bgcolor": "#E5ECF6",
          "polar": {
           "angularaxis": {
            "gridcolor": "white",
            "linecolor": "white",
            "ticks": ""
           },
           "bgcolor": "#E5ECF6",
           "radialaxis": {
            "gridcolor": "white",
            "linecolor": "white",
            "ticks": ""
           }
          },
          "scene": {
           "xaxis": {
            "backgroundcolor": "#E5ECF6",
            "gridcolor": "white",
            "gridwidth": 2,
            "linecolor": "white",
            "showbackground": true,
            "ticks": "",
            "zerolinecolor": "white"
           },
           "yaxis": {
            "backgroundcolor": "#E5ECF6",
            "gridcolor": "white",
            "gridwidth": 2,
            "linecolor": "white",
            "showbackground": true,
            "ticks": "",
            "zerolinecolor": "white"
           },
           "zaxis": {
            "backgroundcolor": "#E5ECF6",
            "gridcolor": "white",
            "gridwidth": 2,
            "linecolor": "white",
            "showbackground": true,
            "ticks": "",
            "zerolinecolor": "white"
           }
          },
          "shapedefaults": {
           "line": {
            "color": "#2a3f5f"
           }
          },
          "ternary": {
           "aaxis": {
            "gridcolor": "white",
            "linecolor": "white",
            "ticks": ""
           },
           "baxis": {
            "gridcolor": "white",
            "linecolor": "white",
            "ticks": ""
           },
           "bgcolor": "#E5ECF6",
           "caxis": {
            "gridcolor": "white",
            "linecolor": "white",
            "ticks": ""
           }
          },
          "title": {
           "x": 0.05
          },
          "xaxis": {
           "automargin": true,
           "gridcolor": "white",
           "linecolor": "white",
           "ticks": "",
           "title": {
            "standoff": 15
           },
           "zerolinecolor": "white",
           "zerolinewidth": 2
          },
          "yaxis": {
           "automargin": true,
           "gridcolor": "white",
           "linecolor": "white",
           "ticks": "",
           "title": {
            "standoff": 15
           },
           "zerolinecolor": "white",
           "zerolinewidth": 2
          }
         }
        },
        "title": {
         "font": {
          "color": "#4D5663"
         },
         "text": "Top 100 bigrams after removing stop words"
        },
        "xaxis": {
         "gridcolor": "#E1E5ED",
         "linecolor": "black",
         "showgrid": true,
         "tickfont": {
          "color": "#4D5663"
         },
         "title": {
          "font": {
           "color": "#4D5663"
          },
          "text": ""
         },
         "zerolinecolor": "#E1E5ED"
        },
        "yaxis": {
         "gridcolor": "#E1E5ED",
         "linecolor": "black",
         "showgrid": true,
         "tickfont": {
          "color": "#4D5663"
         },
         "title": {
          "font": {
           "color": "#4D5663"
          },
          "text": "Count"
         },
         "zerolinecolor": "#E1E5ED"
        }
       }
      },
      "text/html": [
       "<div>                            <div id=\"a8656cd9-7add-4759-8eba-736b67ae1ae9\" class=\"plotly-graph-div\" style=\"height:525px; width:100%;\"></div>            <script type=\"text/javascript\">                require([\"plotly\"], function(Plotly) {                    window.PLOTLYENV=window.PLOTLYENV || {};\n",
       "                    window.PLOTLYENV.BASE_URL='https://plot.ly';                                    if (document.getElementById(\"a8656cd9-7add-4759-8eba-736b67ae1ae9\")) {                    Plotly.newPlot(                        \"a8656cd9-7add-4759-8eba-736b67ae1ae9\",                        [{\"marker\": {\"color\": \"rgba(255, 153, 51, 0.6)\", \"line\": {\"color\": \"rgba(255, 153, 51, 1.0)\", \"width\": 1}}, \"name\": \"count\", \"orientation\": \"v\", \"text\": \"\", \"type\": \"bar\", \"x\": [\"good deal\", \"may time\", \"struggle depression\", \"depression anxiety\", \"cry therapy\", \"seek help\", \"tip help\", \"good idea\", \"time seek\", \"hard time\", \"heal issue\", \"friend friend\", \"issue heal\", \"life may\", \"good help\", \"spend time\", \"nervous therapy\", \"good enough\", \"feel nervous\", \"anxiety depression\", \"deal anxiety\", \"feel good\", \"family member\", \"normal cry\", \"good talk\", \"ever feel\", \"anxiety may\", \"help therapist\", \"deal depression\", \"experience may\", \"ever wonder\", \"good relationship\", \"normal feel\", \"good therapist\", \"good time\", \"abusive relationship\", \"feel boyfriend\", \"change life\", \"stop boyfriend\", \"may good\", \"first time\", \"break boyfriend\", \"help feel\", \"post_traumatic_stress disorder\", \"always good\", \"social anxiety\", \"ever situation\", \"talk therapist\", \"thank_take time\", \"therapeutic relationship\", \"therapist help\", \"therapy session\", \"time talk\", \"long time\", \"stop feel\", \"long distance\", \"sex life\", \"relationship boyfriend\", \"professional help\", \"possible daughter\", \"common problem\", \"good break\", \"deal loss\", \"help people\", \"feel anxious\", \"help depression\", \"help deal\", \"inrdeals_inrdeals_inrdeals_inrdeals inrdeals_inrdeals_inrdeals_inrdeals\", \"time therapist\", \"enough feel\", \"distance relationship\", \"autism_spectrum_disorder autism_spectrum_disorder\", \"experience follow\", \"good stop\", \"healthy relationship\", \"sex drive\", \"time write\", \"feel little\", \"good friend\", \"struggle anxiety\", \"problem relationship\", \"may talk\", \"cry normal\", \"anxiety issue\", \"feel sad\", \"time friend\", \"anxiety therapist\", \"difficult time\", \"stop husband\", \"soon possible\", \"issue may\", \"seek professional\", \"bipolar disorder\", \"help along\", \"reduce anxiety\", \"people experience\", \"depression tip\", \"important remember\", \"depression may\", \"hear voice\"], \"y\": [58, 54, 41, 39, 36, 35, 30, 28, 25, 24, 20, 20, 16, 14, 14, 14, 14, 13, 13, 12, 12, 12, 11, 11, 11, 11, 11, 11, 10, 10, 10, 10, 10, 9, 9, 9, 9, 8, 8, 8, 8, 8, 8, 8, 8, 8, 8, 8, 8, 8, 8, 8, 8, 8, 7, 7, 7, 7, 7, 7, 7, 7, 7, 7, 7, 7, 7, 6, 6, 6, 6, 6, 6, 6, 6, 6, 6, 6, 6, 6, 6, 6, 6, 6, 6, 5, 5, 5, 5, 5, 5, 5, 5, 5, 5, 5, 5, 5, 5, 5]}],                        {\"legend\": {\"bgcolor\": \"#F5F6F9\", \"font\": {\"color\": \"#4D5663\"}}, \"paper_bgcolor\": \"#F5F6F9\", \"plot_bgcolor\": \"#F5F6F9\", \"template\": {\"data\": {\"bar\": [{\"error_x\": {\"color\": \"#2a3f5f\"}, \"error_y\": {\"color\": \"#2a3f5f\"}, \"marker\": {\"line\": {\"color\": \"#E5ECF6\", \"width\": 0.5}}, \"type\": \"bar\"}], \"barpolar\": [{\"marker\": {\"line\": {\"color\": \"#E5ECF6\", \"width\": 0.5}}, \"type\": \"barpolar\"}], \"carpet\": [{\"aaxis\": {\"endlinecolor\": \"#2a3f5f\", \"gridcolor\": \"white\", \"linecolor\": \"white\", \"minorgridcolor\": \"white\", \"startlinecolor\": \"#2a3f5f\"}, \"baxis\": {\"endlinecolor\": \"#2a3f5f\", \"gridcolor\": \"white\", \"linecolor\": \"white\", \"minorgridcolor\": \"white\", \"startlinecolor\": \"#2a3f5f\"}, \"type\": \"carpet\"}], \"choropleth\": [{\"colorbar\": {\"outlinewidth\": 0, \"ticks\": \"\"}, \"type\": \"choropleth\"}], \"contour\": [{\"colorbar\": {\"outlinewidth\": 0, \"ticks\": \"\"}, \"colorscale\": [[0.0, \"#0d0887\"], [0.1111111111111111, \"#46039f\"], [0.2222222222222222, \"#7201a8\"], [0.3333333333333333, \"#9c179e\"], [0.4444444444444444, \"#bd3786\"], [0.5555555555555556, \"#d8576b\"], [0.6666666666666666, \"#ed7953\"], [0.7777777777777778, \"#fb9f3a\"], [0.8888888888888888, \"#fdca26\"], [1.0, \"#f0f921\"]], \"type\": \"contour\"}], \"contourcarpet\": [{\"colorbar\": {\"outlinewidth\": 0, \"ticks\": \"\"}, \"type\": \"contourcarpet\"}], \"heatmap\": [{\"colorbar\": {\"outlinewidth\": 0, \"ticks\": \"\"}, \"colorscale\": [[0.0, \"#0d0887\"], [0.1111111111111111, \"#46039f\"], [0.2222222222222222, \"#7201a8\"], [0.3333333333333333, \"#9c179e\"], [0.4444444444444444, \"#bd3786\"], [0.5555555555555556, \"#d8576b\"], [0.6666666666666666, \"#ed7953\"], [0.7777777777777778, \"#fb9f3a\"], [0.8888888888888888, \"#fdca26\"], [1.0, \"#f0f921\"]], \"type\": \"heatmap\"}], \"heatmapgl\": [{\"colorbar\": {\"outlinewidth\": 0, \"ticks\": \"\"}, \"colorscale\": [[0.0, \"#0d0887\"], [0.1111111111111111, \"#46039f\"], [0.2222222222222222, \"#7201a8\"], [0.3333333333333333, \"#9c179e\"], [0.4444444444444444, \"#bd3786\"], [0.5555555555555556, \"#d8576b\"], [0.6666666666666666, \"#ed7953\"], [0.7777777777777778, \"#fb9f3a\"], [0.8888888888888888, \"#fdca26\"], [1.0, \"#f0f921\"]], \"type\": \"heatmapgl\"}], \"histogram\": [{\"marker\": {\"colorbar\": {\"outlinewidth\": 0, \"ticks\": \"\"}}, \"type\": \"histogram\"}], \"histogram2d\": [{\"colorbar\": {\"outlinewidth\": 0, \"ticks\": \"\"}, \"colorscale\": [[0.0, \"#0d0887\"], [0.1111111111111111, \"#46039f\"], [0.2222222222222222, \"#7201a8\"], [0.3333333333333333, \"#9c179e\"], [0.4444444444444444, \"#bd3786\"], [0.5555555555555556, \"#d8576b\"], [0.6666666666666666, \"#ed7953\"], [0.7777777777777778, \"#fb9f3a\"], [0.8888888888888888, \"#fdca26\"], [1.0, \"#f0f921\"]], \"type\": \"histogram2d\"}], \"histogram2dcontour\": [{\"colorbar\": {\"outlinewidth\": 0, \"ticks\": \"\"}, \"colorscale\": [[0.0, \"#0d0887\"], [0.1111111111111111, \"#46039f\"], [0.2222222222222222, \"#7201a8\"], [0.3333333333333333, \"#9c179e\"], [0.4444444444444444, \"#bd3786\"], [0.5555555555555556, \"#d8576b\"], [0.6666666666666666, \"#ed7953\"], [0.7777777777777778, \"#fb9f3a\"], [0.8888888888888888, \"#fdca26\"], [1.0, \"#f0f921\"]], \"type\": \"histogram2dcontour\"}], \"mesh3d\": [{\"colorbar\": {\"outlinewidth\": 0, \"ticks\": \"\"}, \"type\": \"mesh3d\"}], \"parcoords\": [{\"line\": {\"colorbar\": {\"outlinewidth\": 0, \"ticks\": \"\"}}, \"type\": \"parcoords\"}], \"pie\": [{\"automargin\": true, \"type\": \"pie\"}], \"scatter\": [{\"marker\": {\"colorbar\": {\"outlinewidth\": 0, \"ticks\": \"\"}}, \"type\": \"scatter\"}], \"scatter3d\": [{\"line\": {\"colorbar\": {\"outlinewidth\": 0, \"ticks\": \"\"}}, \"marker\": {\"colorbar\": {\"outlinewidth\": 0, \"ticks\": \"\"}}, \"type\": \"scatter3d\"}], \"scattercarpet\": [{\"marker\": {\"colorbar\": {\"outlinewidth\": 0, \"ticks\": \"\"}}, \"type\": \"scattercarpet\"}], \"scattergeo\": [{\"marker\": {\"colorbar\": {\"outlinewidth\": 0, \"ticks\": \"\"}}, \"type\": \"scattergeo\"}], \"scattergl\": [{\"marker\": {\"colorbar\": {\"outlinewidth\": 0, \"ticks\": \"\"}}, \"type\": \"scattergl\"}], \"scattermapbox\": [{\"marker\": {\"colorbar\": {\"outlinewidth\": 0, \"ticks\": \"\"}}, \"type\": \"scattermapbox\"}], \"scatterpolar\": [{\"marker\": {\"colorbar\": {\"outlinewidth\": 0, \"ticks\": \"\"}}, \"type\": \"scatterpolar\"}], \"scatterpolargl\": [{\"marker\": {\"colorbar\": {\"outlinewidth\": 0, \"ticks\": \"\"}}, \"type\": \"scatterpolargl\"}], \"scatterternary\": [{\"marker\": {\"colorbar\": {\"outlinewidth\": 0, \"ticks\": \"\"}}, \"type\": \"scatterternary\"}], \"surface\": [{\"colorbar\": {\"outlinewidth\": 0, \"ticks\": \"\"}, \"colorscale\": [[0.0, \"#0d0887\"], [0.1111111111111111, \"#46039f\"], [0.2222222222222222, \"#7201a8\"], [0.3333333333333333, \"#9c179e\"], [0.4444444444444444, \"#bd3786\"], [0.5555555555555556, \"#d8576b\"], [0.6666666666666666, \"#ed7953\"], [0.7777777777777778, \"#fb9f3a\"], [0.8888888888888888, \"#fdca26\"], [1.0, \"#f0f921\"]], \"type\": \"surface\"}], \"table\": [{\"cells\": {\"fill\": {\"color\": \"#EBF0F8\"}, \"line\": {\"color\": \"white\"}}, \"header\": {\"fill\": {\"color\": \"#C8D4E3\"}, \"line\": {\"color\": \"white\"}}, \"type\": \"table\"}]}, \"layout\": {\"annotationdefaults\": {\"arrowcolor\": \"#2a3f5f\", \"arrowhead\": 0, \"arrowwidth\": 1}, \"autotypenumbers\": \"strict\", \"coloraxis\": {\"colorbar\": {\"outlinewidth\": 0, \"ticks\": \"\"}}, \"colorscale\": {\"diverging\": [[0, \"#8e0152\"], [0.1, \"#c51b7d\"], [0.2, \"#de77ae\"], [0.3, \"#f1b6da\"], [0.4, \"#fde0ef\"], [0.5, \"#f7f7f7\"], [0.6, \"#e6f5d0\"], [0.7, \"#b8e186\"], [0.8, \"#7fbc41\"], [0.9, \"#4d9221\"], [1, \"#276419\"]], \"sequential\": [[0.0, \"#0d0887\"], [0.1111111111111111, \"#46039f\"], [0.2222222222222222, \"#7201a8\"], [0.3333333333333333, \"#9c179e\"], [0.4444444444444444, \"#bd3786\"], [0.5555555555555556, \"#d8576b\"], [0.6666666666666666, \"#ed7953\"], [0.7777777777777778, \"#fb9f3a\"], [0.8888888888888888, \"#fdca26\"], [1.0, \"#f0f921\"]], \"sequentialminus\": [[0.0, \"#0d0887\"], [0.1111111111111111, \"#46039f\"], [0.2222222222222222, \"#7201a8\"], [0.3333333333333333, \"#9c179e\"], [0.4444444444444444, \"#bd3786\"], [0.5555555555555556, \"#d8576b\"], [0.6666666666666666, \"#ed7953\"], [0.7777777777777778, \"#fb9f3a\"], [0.8888888888888888, \"#fdca26\"], [1.0, \"#f0f921\"]]}, \"colorway\": [\"#636efa\", \"#EF553B\", \"#00cc96\", \"#ab63fa\", \"#FFA15A\", \"#19d3f3\", \"#FF6692\", \"#B6E880\", \"#FF97FF\", \"#FECB52\"], \"font\": {\"color\": \"#2a3f5f\"}, \"geo\": {\"bgcolor\": \"white\", \"lakecolor\": \"white\", \"landcolor\": \"#E5ECF6\", \"showlakes\": true, \"showland\": true, \"subunitcolor\": \"white\"}, \"hoverlabel\": {\"align\": \"left\"}, \"hovermode\": \"closest\", \"mapbox\": {\"style\": \"light\"}, \"paper_bgcolor\": \"white\", \"plot_bgcolor\": \"#E5ECF6\", \"polar\": {\"angularaxis\": {\"gridcolor\": \"white\", \"linecolor\": \"white\", \"ticks\": \"\"}, \"bgcolor\": \"#E5ECF6\", \"radialaxis\": {\"gridcolor\": \"white\", \"linecolor\": \"white\", \"ticks\": \"\"}}, \"scene\": {\"xaxis\": {\"backgroundcolor\": \"#E5ECF6\", \"gridcolor\": \"white\", \"gridwidth\": 2, \"linecolor\": \"white\", \"showbackground\": true, \"ticks\": \"\", \"zerolinecolor\": \"white\"}, \"yaxis\": {\"backgroundcolor\": \"#E5ECF6\", \"gridcolor\": \"white\", \"gridwidth\": 2, \"linecolor\": \"white\", \"showbackground\": true, \"ticks\": \"\", \"zerolinecolor\": \"white\"}, \"zaxis\": {\"backgroundcolor\": \"#E5ECF6\", \"gridcolor\": \"white\", \"gridwidth\": 2, \"linecolor\": \"white\", \"showbackground\": true, \"ticks\": \"\", \"zerolinecolor\": \"white\"}}, \"shapedefaults\": {\"line\": {\"color\": \"#2a3f5f\"}}, \"ternary\": {\"aaxis\": {\"gridcolor\": \"white\", \"linecolor\": \"white\", \"ticks\": \"\"}, \"baxis\": {\"gridcolor\": \"white\", \"linecolor\": \"white\", \"ticks\": \"\"}, \"bgcolor\": \"#E5ECF6\", \"caxis\": {\"gridcolor\": \"white\", \"linecolor\": \"white\", \"ticks\": \"\"}}, \"title\": {\"x\": 0.05}, \"xaxis\": {\"automargin\": true, \"gridcolor\": \"white\", \"linecolor\": \"white\", \"ticks\": \"\", \"title\": {\"standoff\": 15}, \"zerolinecolor\": \"white\", \"zerolinewidth\": 2}, \"yaxis\": {\"automargin\": true, \"gridcolor\": \"white\", \"linecolor\": \"white\", \"ticks\": \"\", \"title\": {\"standoff\": 15}, \"zerolinecolor\": \"white\", \"zerolinewidth\": 2}}}, \"title\": {\"font\": {\"color\": \"#4D5663\"}, \"text\": \"Top 100 bigrams after removing stop words\"}, \"xaxis\": {\"gridcolor\": \"#E1E5ED\", \"linecolor\": \"black\", \"showgrid\": true, \"tickfont\": {\"color\": \"#4D5663\"}, \"title\": {\"font\": {\"color\": \"#4D5663\"}, \"text\": \"\"}, \"zerolinecolor\": \"#E1E5ED\"}, \"yaxis\": {\"gridcolor\": \"#E1E5ED\", \"linecolor\": \"black\", \"showgrid\": true, \"tickfont\": {\"color\": \"#4D5663\"}, \"title\": {\"font\": {\"color\": \"#4D5663\"}, \"text\": \"Count\"}, \"zerolinecolor\": \"#E1E5ED\"}},                        {\"showLink\": true, \"linkText\": \"Export to plot.ly\", \"plotlyServerURL\": \"https://plot.ly\", \"responsive\": true}                    ).then(function(){\n",
       "                            \n",
       "var gd = document.getElementById('a8656cd9-7add-4759-8eba-736b67ae1ae9');\n",
       "var x = new MutationObserver(function (mutations, observer) {{\n",
       "        var display = window.getComputedStyle(gd).display;\n",
       "        if (!display || display === 'none') {{\n",
       "            console.log([gd, 'removed!']);\n",
       "            Plotly.purge(gd);\n",
       "            observer.disconnect();\n",
       "        }}\n",
       "}});\n",
       "\n",
       "// Listen for the removal of the full notebook cells\n",
       "var notebookContainer = gd.closest('#notebook-container');\n",
       "if (notebookContainer) {{\n",
       "    x.observe(notebookContainer, {childList: true});\n",
       "}}\n",
       "\n",
       "// Listen for the clearing of the current output cell\n",
       "var outputEl = gd.closest('.output');\n",
       "if (outputEl) {{\n",
       "    x.observe(outputEl, {childList: true});\n",
       "}}\n",
       "\n",
       "                        })                };                });            </script>        </div>"
      ]
     },
     "metadata": {},
     "output_type": "display_data"
    }
   ],
   "source": [
    "plot_model(plot = 'bigram')"
   ]
  },
  {
   "cell_type": "code",
   "execution_count": 13,
   "id": "corrected-borough",
   "metadata": {},
   "outputs": [],
   "source": [
    "#plot_model(lda, plot = 'frequency', topic_num = 'Topic 4')"
   ]
  },
  {
   "cell_type": "code",
   "execution_count": 21,
   "id": "joined-relaxation",
   "metadata": {},
   "outputs": [
    {
     "data": {
      "text/html": [
       "        <script type=\"text/javascript\">\n",
       "        window.PlotlyConfig = {MathJaxConfig: 'local'};\n",
       "        if (window.MathJax) {MathJax.Hub.Config({SVG: {font: \"STIX-Web\"}});}\n",
       "        if (typeof require !== 'undefined') {\n",
       "        require.undef(\"plotly\");\n",
       "        requirejs.config({\n",
       "            paths: {\n",
       "                'plotly': ['https://cdn.plot.ly/plotly-latest.min']\n",
       "            }\n",
       "        });\n",
       "        require(['plotly'], function(Plotly) {\n",
       "            window._Plotly = Plotly;\n",
       "        });\n",
       "        }\n",
       "        </script>\n",
       "        "
      ]
     },
     "metadata": {},
     "output_type": "display_data"
    },
    {
     "data": {
      "application/vnd.plotly.v1+json": {
       "config": {
        "plotlyServerURL": "https://plot.ly"
       },
       "data": [
        {
         "hovertemplate": "Dominant_Topic=Topic 0<br>0=%{x}<br>1=%{y}<br>2=%{z}<extra></extra>",
         "legendgroup": "Topic 0",
         "marker": {
          "color": "#636efa",
          "opacity": 0.7,
          "symbol": "circle"
         },
         "mode": "markers",
         "name": "Topic 0",
         "scene": "scene",
         "showlegend": true,
         "type": "scatter3d",
         "x": [
          -2.378268003463745,
          -2.55049467086792,
          -0.2711198627948761,
          1.63852059841156,
          -3.5372068881988525,
          -1.3411539793014526,
          -1.2875990867614746,
          -2.60191011428833,
          -3.958836317062378,
          13.436820983886719,
          -4.087438106536865,
          -3.235707998275757,
          -0.7710933089256287,
          -2.8400168418884277,
          -2.405381202697754,
          -2.2196264266967773,
          -2.543468475341797,
          -5.170365810394287,
          -1.9941831827163696,
          5.8438401222229,
          0.029553614556789398,
          -3.845095157623291,
          -4.111156940460205,
          -2.9825010299682617,
          -4.203699111938477,
          0.15127962827682495,
          -2.9628825187683105,
          -2.221496820449829,
          -0.6427827477455139,
          0.5159190893173218,
          -2.8723459243774414,
          -4.087443828582764,
          -3.536015272140503,
          -4.843035697937012,
          0.15012376010417938,
          0.1512305736541748,
          -2.7697832584381104,
          5.8438262939453125,
          -2.399919033050537,
          -2.414853096008301,
          -2.704345941543579,
          -2.456533670425415,
          -0.7105936408042908,
          -0.3467084467411041,
          -3.536015033721924,
          4.398604869842529,
          -2.6565511226654053,
          1.134003758430481,
          -0.3866206705570221,
          -7.916417598724365,
          -3.5360002517700195,
          -3.8461220264434814,
          0.7283154726028442,
          -7.916413307189941,
          -0.6428719758987427,
          -3.8443381786346436,
          -3.94446063041687,
          -1.7223379611968994,
          -2.300558567047119,
          -1.9226523637771606,
          1.658474087715149,
          1.212981939315796,
          -0.6427826881408691,
          0.1501006931066513,
          -3.5360896587371826,
          -3.8883168697357178,
          -4.203699588775635,
          -2.883815050125122,
          -0.3533085286617279
         ],
         "y": [
          -0.757859468460083,
          -0.435957670211792,
          -1.552657127380371,
          -2.5692052841186523,
          0.20956066250801086,
          -0.7309688329696655,
          -3.0753889083862305,
          -1.1335986852645874,
          -3.2063629627227783,
          2.252565622329712,
          -2.984177827835083,
          0.5298197865486145,
          2.6018688678741455,
          -0.9999340176582336,
          -1.0241031646728516,
          -0.8404474854469299,
          -0.4344591200351715,
          -0.9067997336387634,
          -0.07631013542413712,
          -5.327861785888672,
          -3.787454605102539,
          -1.5231120586395264,
          -1.7684837579727173,
          -0.6601738929748535,
          0.0008408544817939401,
          -0.2864607870578766,
          -0.5418276786804199,
          -0.5104389786720276,
          12.191768646240234,
          1.1252094507217407,
          9.751235961914062,
          -2.9841349124908447,
          0.20811426639556885,
          0.36150211095809937,
          -0.2865141034126282,
          -0.286431223154068,
          -0.5492405891418457,
          -5.327872276306152,
          -1.4364101886749268,
          -1.1288807392120361,
          -5.620689392089844,
          -0.3276287019252777,
          2.7935264110565186,
          -1.2442777156829834,
          0.20811426639556885,
          -5.523351669311523,
          1.728090763092041,
          -2.810894012451172,
          2.214897632598877,
          8.772841453552246,
          0.2080872356891632,
          -1.5240404605865479,
          -0.23142853379249573,
          8.77283763885498,
          12.191802978515625,
          -1.5225236415863037,
          -2.020500659942627,
          -2.7549872398376465,
          -0.28249576687812805,
          0.023093856871128082,
          -0.22474820911884308,
          -1.896089792251587,
          12.191767692565918,
          -0.2864989638328552,
          0.20824044942855835,
          -1.8747318983078003,
          0.0008409266592934728,
          -1.105475902557373,
          -1.271836519241333
         ],
         "z": [
          7.464635372161865,
          7.441679000854492,
          6.9132256507873535,
          4.707775115966797,
          2.6786916255950928,
          7.375478744506836,
          8.44050407409668,
          6.891026020050049,
          2.971889019012451,
          -0.9930853843688965,
          2.9195144176483154,
          7.139937400817871,
          8.00814151763916,
          6.847168445587158,
          7.309404373168945,
          6.748808860778809,
          7.443745136260986,
          6.856089115142822,
          2.5252606868743896,
          -4.402336120605469,
          6.612054347991943,
          8.071459770202637,
          8.266910552978516,
          6.871891021728516,
          8.381248474121094,
          1.5968165397644043,
          7.10068941116333,
          6.745119094848633,
          -1.3669531345367432,
          8.460813522338867,
          -4.262855529785156,
          2.9194834232330322,
          2.6796040534973145,
          1.8757089376449585,
          1.5961315631866455,
          1.5968416929244995,
          6.635003566741943,
          -4.402327537536621,
          5.300493240356445,
          7.112743854522705,
          2.6916019916534424,
          6.740274429321289,
          6.52877140045166,
          -0.9956527352333069,
          2.6796042919158936,
          -4.760368347167969,
          8.390909194946289,
          -5.111347675323486,
          8.360311508178711,
          -0.9677572250366211,
          2.679633617401123,
          8.072702407836914,
          11.085040092468262,
          -0.9677281379699707,
          -1.3668962717056274,
          8.070595741271973,
          2.7692127227783203,
          9.146523475646973,
          7.142289161682129,
          2.7887661457061768,
          9.025155067443848,
          8.661314010620117,
          -1.3669531345367432,
          1.5961617231369019,
          2.6794116497039795,
          2.808439254760742,
          8.381248474121094,
          8.697999954223633,
          -0.9731177091598511
         ]
        },
        {
         "hovertemplate": "Dominant_Topic=Topic 1<br>0=%{x}<br>1=%{y}<br>2=%{z}<extra></extra>",
         "legendgroup": "Topic 1",
         "marker": {
          "color": "#EF553B",
          "opacity": 0.7,
          "symbol": "circle"
         },
         "mode": "markers",
         "name": "Topic 1",
         "scene": "scene",
         "showlegend": true,
         "type": "scatter3d",
         "x": [
          9.41260051727295,
          8.934957504272461,
          10.828682899475098,
          8.134283065795898,
          8.613510131835938,
          8.734198570251465,
          3.609879493713379,
          8.896551132202148,
          8.30370044708252,
          8.837111473083496,
          8.100295066833496,
          3.641681432723999,
          7.452093601226807,
          9.906399726867676,
          7.397526264190674,
          8.209956169128418,
          6.875441551208496,
          8.51950740814209,
          6.461358070373535,
          3.640960216522217,
          8.522038459777832,
          6.565272808074951,
          9.940774917602539,
          9.268122673034668,
          9.270044326782227,
          7.880119800567627,
          7.752877235412598,
          10.45782470703125,
          3.6409993171691895,
          8.909852027893066,
          7.653806686401367,
          8.126045227050781,
          8.218144416809082,
          3.6094133853912354,
          8.629636764526367,
          9.940728187561035,
          10.64806842803955,
          9.940778732299805,
          7.808332443237305,
          8.680234909057617,
          10.828682899475098,
          8.902604103088379,
          9.312289237976074,
          8.768020629882812,
          9.152338027954102,
          8.886128425598145,
          9.424209594726562,
          7.290227890014648,
          7.452470779418945,
          8.301107406616211,
          9.279383659362793,
          7.594479084014893,
          10.238428115844727,
          7.699451446533203,
          8.314142227172852,
          7.133581638336182
         ],
         "y": [
          -6.698931694030762,
          -8.398908615112305,
          -8.985815048217773,
          -6.871798992156982,
          -6.803253173828125,
          -9.379417419433594,
          -9.235447883605957,
          -7.053082466125488,
          -8.377455711364746,
          -7.666814804077148,
          -8.054707527160645,
          -5.833288669586182,
          -10.692755699157715,
          -5.896152973175049,
          -4.785299777984619,
          -6.982637405395508,
          -4.739882946014404,
          -8.342328071594238,
          -5.271039009094238,
          -5.832932472229004,
          -7.060982704162598,
          -4.646934986114502,
          -9.665213584899902,
          -8.272710800170898,
          -7.529747486114502,
          -7.328556060791016,
          -7.156048774719238,
          -6.558360576629639,
          -5.832932949066162,
          -8.35551929473877,
          -7.644906520843506,
          -7.37201452255249,
          -8.51403522491455,
          -9.23543643951416,
          -10.353164672851562,
          -9.6652193069458,
          -6.406617164611816,
          -9.665214538574219,
          -8.129382133483887,
          -8.774316787719727,
          -8.985815048217773,
          -6.966758728027344,
          -7.8894124031066895,
          -7.52694034576416,
          -7.748250484466553,
          -8.098387718200684,
          -8.505045890808105,
          -8.340895652770996,
          -10.692370414733887,
          -7.909395694732666,
          -7.249255180358887,
          -7.635140895843506,
          -6.260822772979736,
          -8.140630722045898,
          -7.565558433532715,
          -10.449326515197754
         ],
         "z": [
          -6.191755294799805,
          -3.344165563583374,
          -3.927130937576294,
          -3.8008689880371094,
          -3.428710460662842,
          -1.0705206394195557,
          -3.222930669784546,
          -3.069253444671631,
          -3.17970609664917,
          -4.255642414093018,
          -4.27179479598999,
          -4.904506206512451,
          -3.1621365547180176,
          -6.577017784118652,
          -8.179346084594727,
          -3.0470564365386963,
          -3.4342620372772217,
          -4.156468391418457,
          -4.509692668914795,
          -4.904637813568115,
          -4.281864166259766,
          -8.967909812927246,
          -0.6387600898742676,
          -5.5259599685668945,
          -3.098750352859497,
          -4.180240631103516,
          -3.4888360500335693,
          -5.586304187774658,
          -4.904642105102539,
          -3.8975112438201904,
          -3.1033735275268555,
          -2.7905447483062744,
          -3.712095022201538,
          -3.22275710105896,
          -3.994828462600708,
          -0.6387871503829956,
          -5.6121673583984375,
          -0.638757586479187,
          -3.220953941345215,
          -1.3246750831604004,
          -3.927130699157715,
          -3.901613473892212,
          -3.5275039672851562,
          -2.7445273399353027,
          -4.038384437561035,
          -2.9961583614349365,
          -5.864038944244385,
          -5.610861778259277,
          -3.162236213684082,
          -2.826484441757202,
          -3.7061502933502197,
          -3.8227920532226562,
          1.2411450147628784,
          -3.8478434085845947,
          -4.450958251953125,
          -1.022706151008606
         ]
        },
        {
         "hovertemplate": "Dominant_Topic=Topic 10<br>0=%{x}<br>1=%{y}<br>2=%{z}<extra></extra>",
         "legendgroup": "Topic 10",
         "marker": {
          "color": "#00cc96",
          "opacity": 0.7,
          "symbol": "circle"
         },
         "mode": "markers",
         "name": "Topic 10",
         "scene": "scene",
         "showlegend": true,
         "type": "scatter3d",
         "x": [
          -9.732429504394531,
          -8.090505599975586,
          -8.486571311950684,
          -10.316102027893066,
          -6.920555114746094,
          -9.470355987548828,
          -8.11962604522705,
          -7.865887641906738,
          -8.06857681274414,
          -6.381139755249023,
          -7.792717456817627,
          -8.914030075073242,
          -8.208744049072266,
          -8.06857681274414,
          -9.422320365905762,
          -8.349376678466797,
          -8.306554794311523,
          -9.42262077331543,
          -9.48614501953125,
          -9.46540641784668,
          -9.48614501953125,
          -7.737613677978516,
          -8.81728744506836,
          -7.841381549835205,
          -8.486571311950684,
          -6.920555114746094,
          -8.082785606384277,
          -9.467507362365723,
          -7.968698978424072,
          -9.46540355682373,
          -7.858624458312988,
          -8.5855712890625
         ],
         "y": [
          -6.218844890594482,
          -5.943777561187744,
          -5.6592631340026855,
          -7.4563398361206055,
          -7.151022434234619,
          -6.927873611450195,
          -6.272339344024658,
          -5.528203010559082,
          -3.075767755508423,
          -5.90415096282959,
          -5.761550426483154,
          -4.96708345413208,
          -5.4752092361450195,
          -3.075767755508423,
          -5.634867191314697,
          -5.999536514282227,
          -5.977477550506592,
          -5.6354498863220215,
          -7.6477789878845215,
          -6.925936698913574,
          -7.64777946472168,
          -5.72534704208374,
          -7.373328685760498,
          -6.26247501373291,
          -5.6592631340026855,
          -7.151022911071777,
          -5.952080249786377,
          -6.92747163772583,
          -6.345017910003662,
          -6.9259352684021,
          -6.288029193878174,
          -5.167457103729248
         ],
         "z": [
          -0.9022070169448853,
          -1.8110066652297974,
          -1.3445841073989868,
          -1.985106110572815,
          -4.094921588897705,
          -1.8863778114318848,
          -1.0319501161575317,
          -1.2816535234451294,
          -1.5057635307312012,
          -0.3378103971481323,
          -1.0626896619796753,
          -2.891408681869507,
          -1.4488309621810913,
          -1.5057635307312012,
          -2.736400604248047,
          -0.976309597492218,
          -0.9440340995788574,
          -2.7363176345825195,
          -2.535895586013794,
          -1.8850882053375244,
          -2.535895586013794,
          -1.623913049697876,
          -0.8523215055465698,
          -1.1430730819702148,
          -1.3445841073989868,
          -4.094921588897705,
          -1.8114439249038696,
          -1.885770559310913,
          -1.5208981037139893,
          -1.885087013244629,
          -1.573294758796692,
          -0.04196488484740257
         ]
        },
        {
         "hovertemplate": "Dominant_Topic=Topic 11<br>0=%{x}<br>1=%{y}<br>2=%{z}<extra></extra>",
         "legendgroup": "Topic 11",
         "marker": {
          "color": "#ab63fa",
          "opacity": 0.7,
          "symbol": "circle"
         },
         "mode": "markers",
         "name": "Topic 11",
         "scene": "scene",
         "showlegend": true,
         "type": "scatter3d",
         "x": [
          -3.595174551010132,
          -3.579789161682129,
          -2.355790615081787,
          -3.4173667430877686,
          -3.060504198074341,
          -3.782024383544922,
          -4.285558700561523,
          -3.7328996658325195,
          -4.439491271972656,
          -2.355790615081787,
          -2.1875016689300537,
          -3.0050389766693115,
          -4.000614166259766,
          -2.355790615081787,
          -5.370795249938965,
          -5.748705863952637,
          -6.425134658813477,
          -4.851953983306885,
          -2.355790376663208,
          -5.370795249938965,
          -3.726689100265503,
          -5.215744972229004,
          -2.355790615081787,
          -2.413715362548828,
          -2.3555853366851807,
          -3.4796712398529053,
          -4.311053276062012,
          -4.204134941101074,
          -3.8019766807556152,
          -4.110336780548096,
          -4.851966381072998,
          -2.355790615081787,
          -3.7467093467712402,
          -4.132717609405518
         ],
         "y": [
          2.760161876678467,
          3.5246036052703857,
          1.1745842695236206,
          2.9399185180664062,
          4.467596530914307,
          3.391618251800537,
          3.1086161136627197,
          3.626100778579712,
          1.6464546918869019,
          1.1745843887329102,
          3.6119496822357178,
          1.7825441360473633,
          3.5258777141571045,
          1.1745840311050415,
          2.8506593704223633,
          -5.413496494293213,
          2.8099772930145264,
          5.440201282501221,
          1.1745845079421997,
          2.8506593704223633,
          2.904968500137329,
          2.705933094024658,
          1.1745840311050415,
          3.7023987770080566,
          1.1744314432144165,
          3.2097983360290527,
          4.074838638305664,
          3.4490864276885986,
          2.9201242923736572,
          3.1790201663970947,
          5.4402008056640625,
          1.1745840311050415,
          3.0404255390167236,
          2.8399832248687744
         ],
         "z": [
          -0.9321906566619873,
          -0.765250563621521,
          -4.185062885284424,
          -0.787528932094574,
          0.5349143743515015,
          -1.3004817962646484,
          -0.9369561076164246,
          -0.8661096692085266,
          -1.33363938331604,
          -4.185062885284424,
          -1.334455966949463,
          -3.390778064727783,
          -1.1365846395492554,
          -4.185063362121582,
          -2.476555824279785,
          -0.03918181359767914,
          2.5366051197052,
          -1.987925410270691,
          -4.185062885284424,
          -2.476555824279785,
          -1.2615376710891724,
          -2.4213743209838867,
          -4.185063362121582,
          -1.9334086179733276,
          -4.184842586517334,
          -0.5933575630187988,
          0.9965667128562927,
          -0.773931622505188,
          -0.48013898730278015,
          -0.5041372776031494,
          -1.9879320859909058,
          -4.185063362121582,
          -1.3306524753570557,
          -0.7749534845352173
         ]
        },
        {
         "hovertemplate": "Dominant_Topic=Topic 12<br>0=%{x}<br>1=%{y}<br>2=%{z}<extra></extra>",
         "legendgroup": "Topic 12",
         "marker": {
          "color": "#FFA15A",
          "opacity": 0.7,
          "symbol": "circle"
         },
         "mode": "markers",
         "name": "Topic 12",
         "scene": "scene",
         "showlegend": true,
         "type": "scatter3d",
         "x": [
          10.662239074707031,
          -6.004673004150391,
          3.160942316055298,
          -15.71798324584961,
          -2.984442710876465,
          9.837542533874512,
          9.67837142944336,
          -11.006571769714355,
          -1.0170791149139404,
          -6.938608169555664,
          -0.4203754961490631,
          4.825721263885498,
          10.580309867858887,
          1.1369210481643677,
          -0.7618933320045471,
          5.382841110229492,
          -14.211021423339844,
          -3.1448862552642822,
          -12.361329078674316,
          -4.045032024383545,
          3.5902063846588135,
          7.768901348114014,
          -5.794591903686523,
          -13.675947189331055,
          -3.971790313720703,
          -5.5397491455078125,
          1.4593154191970825,
          -16.594011306762695,
          -1.0178240537643433,
          4.755471229553223,
          -15.614166259765625,
          -1.6485515832901,
          -0.058203309774398804,
          -0.6820036768913269,
          -1.194968819618225,
          9.793802261352539,
          5.778952598571777,
          7.094720363616943,
          -4.9280829429626465,
          0.07835160940885544,
          5.0121541023254395,
          -1.0332056283950806,
          3.0683672428131104,
          -3.8517024517059326,
          3.260972023010254,
          -15.84054183959961,
          -3.5297746658325195,
          -2.380927085876465,
          -16.19854736328125,
          -14.887701034545898,
          0.9311842918395996,
          1.7500324249267578,
          -10.338191032409668,
          -0.6776955723762512,
          -16.08165168762207,
          -3.7488749027252197,
          -12.99043083190918,
          -0.6525848507881165,
          1.5265936851501465,
          10.690705299377441,
          -10.245770454406738,
          -10.59019947052002,
          -7.563911437988281,
          -0.9520522952079773,
          12.172810554504395,
          -3.5299229621887207,
          -1.793467402458191,
          2.6264936923980713,
          -1.0855180025100708,
          0.671961784362793,
          0.7818049788475037,
          -6.411996364593506,
          -4.26770544052124,
          0.7814691662788391,
          -0.9463592171669006,
          8.192784309387207,
          5.537222385406494,
          -9.921581268310547,
          9.643152236938477,
          -13.974842071533203,
          4.937193870544434,
          -14.233346939086914,
          2.420696258544922,
          -2.643815279006958,
          -12.8985013961792,
          -15.718419075012207,
          -15.718026161193848,
          7.2382707595825195,
          9.032875061035156,
          4.252114772796631,
          -0.2081218957901001,
          -14.350027084350586,
          4.5561347007751465,
          6.158618450164795,
          -3.144868850708008,
          -1.0813716650009155,
          3.0683815479278564,
          -2.6019985675811768,
          -4.0157790184021,
          0.9495976567268372,
          -8.127029418945312,
          -8.380439758300781,
          8.381253242492676,
          2.4688353538513184,
          -6.523728847503662,
          -6.104010105133057,
          -1.9852845668792725,
          -14.653514862060547,
          -4.387489318847656,
          -8.687472343444824,
          2.183899164199829,
          10.384574890136719,
          5.179787635803223,
          -3.73713755607605,
          4.065227031707764,
          6.707319736480713,
          -11.459736824035645,
          0.06914690136909485,
          0.46114420890808105,
          -4.927848815917969,
          10.576766967773438,
          3.0602355003356934,
          -4.939643859863281,
          -2.5842676162719727,
          6.29256534576416,
          6.240278244018555,
          8.859874725341797,
          -7.905352592468262,
          -14.934741973876953,
          12.702804565429688,
          7.767349720001221,
          -2.750631093978882,
          4.591034889221191,
          10.69074821472168,
          -5.233987331390381,
          -3.852066993713379,
          -3.5298941135406494,
          3.841096878051758,
          -1.7764161825180054,
          -3.4074602127075195,
          -0.6721290349960327,
          6.542167663574219,
          -5.960813045501709,
          10.690667152404785,
          5.608970642089844,
          -1.0172101259231567,
          10.013376235961914,
          -8.340567588806152,
          -5.210258960723877,
          1.1564221382141113,
          -0.8243120908737183,
          -2.265507698059082,
          -6.190699577331543,
          -3.851754665374756,
          12.702775955200195,
          5.778967380523682,
          -3.851703405380249,
          6.001879692077637,
          -14.691864013671875,
          -4.867641448974609,
          -14.94473648071289,
          -3.144871711730957,
          2.2471625804901123,
          4.825306415557861,
          3.261002779006958,
          8.616338729858398,
          -5.325832366943359,
          -5.096027851104736,
          -5.235720157623291,
          -1.1350761651992798,
          8.640091896057129,
          4.0695481300354,
          -14.031935691833496,
          -5.096036434173584,
          -6.779288291931152,
          0.5609652996063232,
          4.034193515777588,
          -3.8517050743103027,
          -0.1165190115571022,
          -1.627260684967041,
          -13.39317798614502,
          9.783456802368164,
          -6.416360378265381,
          -0.5902226567268372,
          4.1360673904418945,
          -13.542407989501953,
          -3.212157726287842,
          0.5186668634414673,
          3.10809326171875,
          4.556125640869141,
          2.2731997966766357,
          4.335294246673584,
          6.753668308258057,
          -3.7374320030212402,
          9.462244987487793,
          -3.5618605613708496,
          6.576330661773682,
          4.5998382568359375,
          5.382680892944336,
          -1.3084219694137573,
          -8.53139591217041,
          -1.018075942993164,
          -5.697669982910156,
          9.691753387451172,
          8.669060707092285,
          -13.981046676635742,
          2.2731804847717285,
          4.081218242645264,
          -1.8041906356811523,
          0.06892313063144684,
          -0.4805040657520294,
          -0.9646552205085754,
          -12.439736366271973,
          5.779809951782227,
          5.527508735656738,
          -15.905742645263672,
          11.976790428161621,
          10.338846206665039,
          -14.915114402770996,
          -2.2269365787506104,
          -14.783341407775879,
          -13.863947868347168,
          9.26318359375,
          -5.02055549621582,
          7.238399028778076,
          8.582945823669434,
          11.890647888183594,
          -9.482604026794434,
          -5.568957328796387,
          -15.179271697998047,
          -17.52585220336914,
          -1.6798827648162842,
          9.098174095153809,
          0.06914937496185303,
          -1.5757049322128296,
          -15.158294677734375,
          -14.45834732055664,
          -0.3387613892555237,
          -2.571565628051758,
          6.32500696182251,
          4.081214904785156,
          -13.951261520385742,
          0.8279204368591309,
          -1.0155624151229858,
          -3.525752067565918,
          11.632563591003418,
          5.527483940124512,
          4.7745795249938965,
          3.696904420852661,
          2.4076731204986572,
          -17.19113540649414,
          -8.71474838256836,
          7.923488616943359,
          4.126791954040527,
          -3.84250807762146,
          -13.841169357299805,
          -5.020556449890137,
          1.1903597116470337,
          -9.812565803527832,
          2.5618176460266113,
          -15.012282371520996,
          -5.644021511077881,
          -8.362127304077148,
          6.183250904083252,
          2.3370859622955322,
          6.1576995849609375,
          -9.759926795959473,
          -5.364297866821289,
          9.188422203063965,
          6.51329231262207,
          0.10767446458339691,
          -8.688827514648438,
          6.663843154907227,
          -6.48039436340332,
          -1.4386111497879028,
          -5.5483503341674805,
          9.642425537109375,
          3.8113808631896973,
          7.2383928298950195,
          -5.020519256591797,
          -4.926298141479492,
          5.7284159660339355,
          -17.247161865234375,
          3.9854953289031982,
          -7.836183071136475,
          -1.9962083101272583,
          -2.1060662269592285,
          -8.087247848510742,
          -8.462657928466797,
          4.236148357391357,
          12.702731132507324,
          5.508093357086182,
          3.091571807861328,
          4.833887100219727,
          -3.262995958328247,
          4.502350807189941,
          -1.9962161779403687,
          -13.526202201843262,
          1.4909487962722778,
          1.4909486770629883,
          4.781216144561768,
          3.941574811935425,
          -5.02047872543335,
          -2.920395851135254,
          0.5906854271888733,
          -3.410993814468384,
          -18.914255142211914,
          11.632562637329102,
          -6.035855770111084,
          -3.947715997695923,
          0.2304190695285797,
          -1.0180647373199463,
          3.3931005001068115,
          -2.0251080989837646,
          -4.866072177886963,
          5.779258728027344,
          6.479034900665283,
          9.645299911499023,
          0.9156935214996338,
          -15.645212173461914,
          -17.40740966796875,
          -4.486630916595459,
          -6.5828471183776855,
          -14.720826148986816,
          3.179460048675537,
          -15.32630729675293,
          -16.349075317382812,
          -15.929347038269043,
          4.148169994354248,
          -8.056880950927734,
          2.9176273345947266,
          -0.3534507751464844,
          -13.994612693786621,
          0.06920348107814789,
          -0.13689665496349335,
          -3.31897234916687,
          -16.50712013244629,
          -16.984941482543945,
          -17.272151947021484,
          -16.445171356201172,
          -15.798583030700684,
          -0.6525826454162598,
          -13.100377082824707,
          4.666436672210693,
          -15.270230293273926,
          2.4015049934387207,
          -17.366422653198242,
          -10.621400833129883,
          8.992341041564941,
          -16.917423248291016,
          -0.16339311003684998,
          0.5383020043373108,
          -10.59019947052002,
          3.1808249950408936,
          -14.740924835205078,
          -1.115595817565918,
          -15.717949867248535,
          -6.541161060333252,
          -0.11651911586523056,
          -16.129302978515625,
          -1.1486395597457886,
          9.023232460021973,
          -3.7732412815093994,
          -4.459471702575684,
          1.6659432649612427,
          10.272461891174316,
          -3.16741681098938,
          -9.190394401550293,
          3.2580878734588623,
          -0.7338011264801025,
          -16.798051834106445,
          -1.9813838005065918,
          5.382774353027344,
          0.5089054703712463,
          -10.378658294677734,
          -11.552696228027344,
          -1.4905816316604614,
          6.513322830200195,
          9.76373291015625,
          -15.74022102355957,
          -6.956218242645264,
          0.0690578743815422,
          -5.453080177307129,
          -0.6907406449317932,
          -2.048992872238159,
          -1.5553920269012451,
          2.291752576828003,
          -6.454870700836182,
          -9.766644477844238,
          4.0812177658081055,
          10.852513313293457,
          -6.594726085662842,
          -8.24982738494873,
          -15.897313117980957,
          -11.978647232055664,
          -6.336075782775879,
          -1.7089383602142334,
          3.489767074584961,
          -3.528785228729248,
          -4.387448310852051,
          3.192176342010498,
          -11.776862144470215,
          0.20205137133598328,
          2.490114688873291,
          0.08056579530239105,
          -15.069828987121582,
          -15.117847442626953,
          -6.136367321014404,
          4.613077163696289,
          -3.9929356575012207,
          -16.312530517578125,
          3.8107054233551025,
          10.146721839904785,
          9.627731323242188,
          -11.552740097045898,
          -12.606724739074707,
          -4.022292137145996,
          -1.3468855619430542,
          7.698554039001465,
          -0.35353320837020874,
          1.546183466911316,
          -10.304422378540039,
          -3.8517653942108154,
          -6.561470985412598,
          2.401505708694458,
          -13.606368064880371,
          -10.378658294677734,
          -7.687837600708008,
          -1.2290594577789307,
          3.190563678741455,
          3.0683746337890625,
          -0.5103694796562195,
          -13.00208568572998,
          2.8068759441375732,
          -11.97860050201416,
          -5.807388782501221,
          -5.690258502960205,
          -3.5835297107696533,
          -6.7228217124938965,
          -0.11651911586523056,
          4.600649833679199,
          -1.2773821353912354,
          -0.2017969787120819,
          -1.0870829820632935,
          -10.621410369873047,
          9.776519775390625,
          -6.108623027801514,
          -13.423683166503906,
          -5.288786888122559,
          -3.852095127105713,
          3.068101406097412,
          -5.824487686157227,
          -6.541179656982422,
          -6.64608097076416,
          -9.170259475708008,
          1.5632059574127197,
          -6.700475215911865,
          3.811380386352539,
          -6.98806619644165,
          -16.024194717407227,
          -15.66393756866455,
          -13.971692085266113,
          8.975049018859863,
          4.5909953117370605,
          -3.991798162460327,
          -13.958531379699707,
          -10.323667526245117,
          -6.186631202697754,
          9.562153816223145,
          0.5383453369140625,
          -15.973753929138184,
          0.7455896139144897,
          -17.20134162902832,
          6.501971244812012,
          -14.968969345092773,
          -10.298504829406738,
          9.515792846679688,
          8.192765235900879,
          -5.71165657043457,
          -6.810176372528076,
          -6.764408111572266,
          -2.048670530319214,
          -6.693256855010986,
          5.8109941482543945,
          2.6871650218963623,
          -14.375667572021484,
          -1.0870873928070068,
          1.546015977859497,
          4.556093215942383,
          -6.063499450683594,
          -0.7732999920845032,
          -0.11651911586523056,
          -3.583634376525879,
          10.52458381652832,
          5.551494598388672,
          -7.701805591583252,
          -15.613997459411621,
          5.779368877410889,
          6.602153778076172,
          -6.2002692222595215,
          -5.096092700958252,
          10.525313377380371,
          10.190323829650879,
          -16.344837188720703,
          1.5461851358413696,
          6.149109840393066,
          -4.531162261962891,
          -0.20181480050086975,
          -1.0165170431137085,
          -11.552787780761719,
          -15.220751762390137,
          4.556098461151123,
          10.854361534118652,
          -3.5296337604522705,
          -3.9718358516693115,
          3.8433754444122314,
          -0.6855682134628296,
          4.317383289337158,
          -1.7983851432800293,
          3.824575424194336,
          -14.846060752868652,
          10.60678482055664,
          5.004199028015137,
          -2.7066292762756348,
          -1.5652002096176147,
          4.04185676574707,
          0.5380106568336487,
          4.556097984313965,
          3.5593466758728027,
          5.190059185028076,
          10.852499008178711,
          3.843374490737915,
          -12.54867935180664,
          10.606654167175293,
          4.6131768226623535,
          5.731077194213867,
          9.524215698242188,
          -12.678877830505371,
          -2.8599658012390137,
          5.221080303192139,
          -13.015871047973633,
          -13.639660835266113,
          9.743494033813477,
          -3.930121421813965,
          -3.618241310119629,
          -2.2988529205322266,
          -4.387271881103516,
          -2.3921291828155518,
          -11.781944274902344,
          -11.552736282348633,
          -10.221535682678223,
          -1.7223635911941528,
          -11.006572723388672,
          -6.662471294403076,
          -16.437175750732422,
          -0.2018040418624878,
          6.103514671325684,
          -6.100319862365723,
          -4.267828464508057,
          -1.4686625003814697,
          0.05283340811729431,
          -6.575045585632324,
          -4.546920299530029,
          -1.7047994136810303,
          0.1827733963727951,
          -5.020602703094482,
          -6.31363582611084,
          -12.81637954711914,
          6.542209148406982,
          -13.360450744628906,
          10.450085639953613,
          9.11875057220459,
          -14.110380172729492,
          -0.8042569756507874,
          -15.141674995422363,
          -6.39493465423584,
          -0.20179250836372375,
          -16.670629501342773,
          4.081187725067139,
          -3.529914617538452,
          -11.610711097717285,
          8.725391387939453,
          2.49006724357605,
          -1.584500789642334,
          -6.329095840454102,
          -5.824488639831543,
          5.206932067871094,
          -9.27721118927002,
          -7.846334934234619,
          9.743494033813477,
          4.081199645996094,
          -11.978601455688477,
          -0.6013964414596558,
          2.7385194301605225,
          -6.541179656982422,
          -6.64608097076416,
          -5.682445526123047,
          -1.0171277523040771,
          8.629791259765625,
          3.2609174251556396,
          1.5267070531845093,
          -2.113509178161621,
          2.590355157852173,
          -15.500003814697266,
          -3.529789924621582,
          -0.9153085350990295,
          1.1564453840255737,
          11.813126564025879,
          -1.1504838466644287,
          -3.0753746032714844,
          -17.366382598876953,
          4.992100715637207,
          -8.605168342590332,
          5.233482360839844,
          8.742307662963867,
          2.3842458724975586,
          -14.879286766052246,
          12.172810554504395,
          -1.3339661359786987,
          -8.418133735656738,
          -0.31597334146499634,
          -6.588183879852295,
          1.031050443649292,
          3.8437771797180176,
          -6.925576686859131,
          -4.481039047241211,
          -0.669992983341217,
          5.358325958251953,
          2.7101335525512695,
          0.5481984615325928,
          -3.93971586227417,
          -2.311957597732544,
          5.587804317474365,
          0.5384093523025513,
          -15.667633056640625,
          -10.47532844543457,
          -5.2831902503967285,
          -14.163277626037598,
          -3.88291597366333,
          -2.4752557277679443,
          -2.190770387649536,
          9.825553894042969,
          -11.782143592834473,
          8.650442123413086,
          -2.0772507190704346,
          -7.818148612976074,
          -3.0942413806915283,
          11.590197563171387,
          -4.665756702423096,
          8.192670822143555,
          8.192687034606934,
          11.067788124084473,
          6.341560363769531,
          -4.096108913421631,
          -6.70652437210083,
          5.615792274475098,
          -15.360958099365234,
          -0.9100890159606934,
          -14.16517162322998,
          9.646002769470215,
          -11.782553672790527,
          8.928791046142578,
          8.195838928222656,
          -2.036773920059204,
          -3.144880533218384,
          -12.206573486328125,
          0.05927834287285805,
          -0.8658787608146667,
          11.262686729431152,
          -1.3673943281173706
         ],
         "y": [
          18.12928581237793,
          -9.102401733398438,
          -9.07765007019043,
          -5.79933500289917,
          -9.536800384521484,
          21.13047981262207,
          21.846797943115234,
          -2.9602386951446533,
          -4.6194586753845215,
          -5.317627429962158,
          -13.429388999938965,
          -8.306499481201172,
          20.28727149963379,
          -14.523991584777832,
          -11.427908897399902,
          -12.043335914611816,
          -3.0850048065185547,
          -9.444440841674805,
          -3.0906295776367188,
          7.3587188720703125,
          -8.97293758392334,
          -4.989601135253906,
          -7.474130153656006,
          -0.08222223818302155,
          -1.4012330770492554,
          -5.346463203430176,
          -10.89377212524414,
          -1.3841708898544312,
          -4.619727611541748,
          -8.581127166748047,
          -0.5587400794029236,
          -6.049309253692627,
          -13.221611022949219,
          -14.064611434936523,
          -11.244380950927734,
          20.30328941345215,
          -10.69955062866211,
          -11.13286304473877,
          -7.9008331298828125,
          -13.45508098602295,
          -8.837690353393555,
          -11.28509521484375,
          -5.946811199188232,
          -13.434480667114258,
          -9.89058780670166,
          -3.2384490966796875,
          -3.388415813446045,
          -10.903572082519531,
          -0.4683539867401123,
          -1.436895489692688,
          -4.440323829650879,
          -6.15500020980835,
          -14.788399696350098,
          -10.120984077453613,
          -2.3141820430755615,
          7.580610752105713,
          -2.524120330810547,
          -13.168099403381348,
          -10.787460327148438,
          -5.870190143585205,
          -9.710371017456055,
          -10.003876686096191,
          -14.648137092590332,
          -13.777002334594727,
          19.459257125854492,
          -3.3885016441345215,
          -12.357237815856934,
          -13.374565124511719,
          -10.500520706176758,
          -10.253653526306152,
          -10.496273040771484,
          -4.184072017669678,
          4.613399982452393,
          -10.496417045593262,
          -13.592080116271973,
          -8.553892135620117,
          -3.7551562786102295,
          -11.543527603149414,
          18.553136825561523,
          -2.2147605419158936,
          -9.202999114990234,
          -4.2911696434021,
          -13.513093948364258,
          -10.788763046264648,
          -3.4274253845214844,
          -5.799498558044434,
          -5.799488544464111,
          -7.878805637359619,
          22.147363662719727,
          -9.214967727661133,
          -14.118529319763184,
          0.7010891437530518,
          -3.5894734859466553,
          -8.14501953125,
          -9.44445514678955,
          -10.141342163085938,
          -5.946899890899658,
          -10.485990524291992,
          7.400973320007324,
          -15.067482948303223,
          -13.883265495300293,
          -15.20470905303955,
          21.33033561706543,
          -13.109414100646973,
          -14.153403282165527,
          -14.554034233093262,
          -9.749495506286621,
          -4.52964448928833,
          -13.101938247680664,
          -14.866497993469238,
          -13.236978530883789,
          18.054107666015625,
          -12.458600044250488,
          -2.481030225753784,
          -10.961590766906738,
          -8.23283576965332,
          -5.230506420135498,
          -4.784531116485596,
          -14.615335464477539,
          -6.227015972137451,
          17.151382446289062,
          -7.152152061462402,
          -11.402266502380371,
          -8.95763111114502,
          -7.671694278717041,
          -9.087811470031738,
          -5.469433784484863,
          -15.027863502502441,
          -0.35355108976364136,
          18.152809143066406,
          -8.531387329101562,
          -5.727072715759277,
          -4.325812816619873,
          -5.8701677322387695,
          -6.265687942504883,
          -13.434553146362305,
          -3.3884189128875732,
          -4.239911079406738,
          -11.6517333984375,
          7.081695556640625,
          -10.803906440734863,
          -12.632109642028809,
          -3.6223936080932617,
          -5.870243549346924,
          -7.898660182952881,
          -4.620063781738281,
          -5.433404445648193,
          -14.218482971191406,
          -6.592705249786377,
          -2.612208843231201,
          -11.86014461517334,
          -10.238621711730957,
          -3.645630359649658,
          -13.434490203857422,
          18.152790069580078,
          -10.699790000915527,
          -13.434460639953613,
          -8.585305213928223,
          -0.25458064675331116,
          -5.623120307922363,
          -0.062192533165216446,
          -9.44449520111084,
          -13.112471580505371,
          -8.30361270904541,
          -9.890580177307129,
          19.84076499938965,
          -4.6743059158325195,
          -9.621810913085938,
          -5.69450044631958,
          -8.882707595825195,
          21.385530471801758,
          -8.023866653442383,
          -3.2066683769226074,
          -9.6217679977417,
          -7.130144119262695,
          -8.992549896240234,
          -8.044587135314941,
          -13.43445110321045,
          -4.099264621734619,
          -12.151677131652832,
          -2.3775830268859863,
          21.911718368530273,
          -3.668369770050049,
          -13.83936595916748,
          -8.282536506652832,
          -0.1264515072107315,
          8.093586921691895,
          -9.878243446350098,
          -3.3235723972320557,
          -3.589413642883301,
          -9.65152359008789,
          -8.709003448486328,
          -8.309879302978516,
          -2.4813778400421143,
          20.869565963745117,
          7.442014694213867,
          -7.842812538146973,
          -5.1634392738342285,
          -12.043355941772461,
          -11.856606483459473,
          -15.10593318939209,
          -4.619732856750488,
          -4.921970844268799,
          21.67720603942871,
          21.581398010253906,
          -2.3152546882629395,
          -9.651512145996094,
          -10.949837684631348,
          -11.881388664245605,
          -4.784518718719482,
          -11.027252197265625,
          -11.396156311035156,
          -2.0192878246307373,
          -10.700121879577637,
          -3.8050622940063477,
          -0.4635494351387024,
          17.729040145874023,
          17.570579528808594,
          -2.2630326747894287,
          -12.417306900024414,
          -0.2672388255596161,
          -3.4724042415618896,
          21.54203224182129,
          -8.038151741027832,
          -7.878809452056885,
          21.929393768310547,
          17.3624210357666,
          -6.3857197761535645,
          -4.647157192230225,
          -2.2637763023376465,
          -1.6547596454620361,
          -10.37963581085205,
          21.57637596130371,
          -4.784534931182861,
          -5.740243911743164,
          -1.2843080759048462,
          -1.091490387916565,
          -6.114929676055908,
          -8.687390327453613,
          -10.007585525512695,
          -10.949823379516602,
          -0.6361028552055359,
          -14.741866111755371,
          -10.19165325164795,
          -6.569953918457031,
          21.607177734375,
          -3.805058240890503,
          -10.091445922851562,
          -9.455262184143066,
          -9.785178184509277,
          -2.464566707611084,
          -14.610532760620117,
          -7.78343391418457,
          -9.10910701751709,
          -8.898487091064453,
          -3.143897533416748,
          -8.038209915161133,
          -15.03195571899414,
          -12.479090690612793,
          -2.680034875869751,
          -2.6311328411102295,
          -4.059421062469482,
          -14.926098823547363,
          -8.085622787475586,
          -8.708983421325684,
          -7.713547706604004,
          -14.610803604125977,
          -7.330290794372559,
          19.883493423461914,
          -11.081022262573242,
          -15.22526741027832,
          -14.187159538269043,
          -8.826699256896973,
          -15.053641319274902,
          -12.541604042053223,
          -6.12163782119751,
          18.554702758789062,
          -4.232059478759766,
          -7.878810405731201,
          -8.0380859375,
          -11.401759147644043,
          -8.773868560791016,
          -2.488800287246704,
          -8.342446327209473,
          -15.160330772399902,
          -8.383748054504395,
          -11.715561866760254,
          -14.625041961669922,
          -15.671728134155273,
          -4.740688800811768,
          18.152753829956055,
          -8.456415176391602,
          -9.407888412475586,
          11.652716636657715,
          7.80449104309082,
          -2.057251214981079,
          -8.389249801635742,
          -1.5070732831954956,
          -2.7497928142547607,
          -2.7497928142547607,
          12.545209884643555,
          -8.69591236114502,
          -8.03816032409668,
          2.158917188644409,
          -15.124937057495117,
          7.205320835113525,
          -1.4160032272338867,
          21.607181549072266,
          -7.534066677093506,
          7.589488506317139,
          -15.57636547088623,
          -4.619704723358154,
          -8.387869834899902,
          -9.557089805603027,
          -5.625687122344971,
          -10.699763298034668,
          -12.688764572143555,
          19.229358673095703,
          -15.447912216186523,
          -6.492870807647705,
          -2.909940719604492,
          3.431335210800171,
          -7.206026554107666,
          -1.3176838159561157,
          -9.128376007080078,
          0.5023496150970459,
          0.5591735243797302,
          -0.8070674538612366,
          -9.623713493347168,
          -13.96842098236084,
          -8.859772682189941,
          -5.25573205947876,
          -1.9176069498062134,
          -4.784797191619873,
          -13.747612953186035,
          7.212314605712891,
          -0.08350169658660889,
          -1.3625470399856567,
          -0.5497549176216125,
          -2.348142623901367,
          -4.330297470092773,
          -10.212510108947754,
          -3.396324634552002,
          -9.735912322998047,
          -3.86419415473938,
          -12.29544448852539,
          -5.016479969024658,
          -9.946831703186035,
          20.51373291015625,
          -0.17441193759441376,
          -15.146665573120117,
          -9.568316459655762,
          -10.003876686096191,
          -8.601518630981445,
          -2.9471259117126465,
          -11.435839653015137,
          -5.799431800842285,
          7.011860370635986,
          -4.099264621734619,
          -2.916768789291382,
          -11.448465347290039,
          21.490699768066406,
          6.92339563369751,
          3.5845510959625244,
          -10.123805046081543,
          21.29960823059082,
          -3.8071725368499756,
          -10.428766250610352,
          -8.222485542297363,
          -10.494712829589844,
          -3.82004451751709,
          -10.229467391967773,
          -12.043262481689453,
          -15.594432830810547,
          -9.852391242980957,
          -7.477851390838623,
          -11.175827026367188,
          -11.080982208251953,
          19.360660552978516,
          0.571806013584137,
          -3.878612995147705,
          -4.784195899963379,
          -5.4425554275512695,
          -11.382452011108398,
          -11.509519577026367,
          -9.100420951843262,
          -13.46438217163086,
          -7.479077339172363,
          -14.602867126464844,
          -10.949820518493652,
          18.323293685913086,
          -6.128357410430908,
          -14.596504211425781,
          -3.1895358562469482,
          -8.040440559387207,
          -5.602665424346924,
          -11.09982681274414,
          -9.758553504943848,
          -3.3874642848968506,
          -13.101947784423828,
          -8.24648666381836,
          -7.591152667999268,
          -8.491354942321777,
          -8.884718894958496,
          -15.199835777282715,
          -2.9441721439361572,
          -3.2412075996398926,
          -7.576832294464111,
          12.214111328125,
          -8.723055839538574,
          -1.7585294246673584,
          -4.233788013458252,
          21.379186630249023,
          20.992650985717773,
          -7.475851535797119,
          -0.5978120565414429,
          -8.64004898071289,
          -12.337451934814453,
          -9.060651779174805,
          -5.255589962005615,
          -3.326805830001831,
          -9.848113059997559,
          -13.43449878692627,
          -5.538509845733643,
          -12.295493125915527,
          -1.2737287282943726,
          -9.852391242980957,
          -14.102272987365723,
          -12.108606338500977,
          -10.04304027557373,
          -5.946796894073486,
          -10.524137496948242,
          -1.2929669618606567,
          -13.09078311920166,
          -8.040315628051758,
          -4.916311264038086,
          -4.397589683532715,
          -14.833155632019043,
          -4.981440544128418,
          -4.099264621734619,
          -5.160878658294678,
          -12.1101655960083,
          -5.917426109313965,
          -10.841378211975098,
          -9.946836471557617,
          20.639772415161133,
          -5.009110450744629,
          0.4120899438858032,
          -4.666409015655518,
          -13.434575080871582,
          -5.947202682495117,
          -4.040339469909668,
          7.011573314666748,
          -3.6649973392486572,
          -12.441378593444824,
          -3.433875322341919,
          -3.674382209777832,
          -4.232059001922607,
          -2.4128527641296387,
          -2.17389178276062,
          -1.4711360931396484,
          -2.138697624206543,
          22.06814956665039,
          -4.3258256912231445,
          7.131167411804199,
          -0.7137457132339478,
          -9.855853080749512,
          -4.727921009063721,
          20.513986587524414,
          -9.568408012390137,
          -2.092418909072876,
          -15.406708717346191,
          -1.270664930343628,
          5.425666809082031,
          -1.922651767730713,
          -11.452167510986328,
          20.396581649780273,
          -8.55391788482666,
          -3.2876644134521484,
          -7.1427693367004395,
          -3.765641689300537,
          -12.041163444519043,
          -7.790928840637207,
          -7.608682632446289,
          -5.7915802001953125,
          -2.1860110759735107,
          -10.841378211975098,
          -3.326803207397461,
          -3.589409351348877,
          -5.9140777587890625,
          -12.093957901000977,
          -4.099264621734619,
          -14.832887649536133,
          17.84025764465332,
          -7.748851776123047,
          -14.282285690307617,
          -0.9497635960578918,
          -10.69997501373291,
          -8.682842254638672,
          -4.1802215576171875,
          -9.6228609085083,
          18.188785552978516,
          17.980735778808594,
          -1.3536311388015747,
          -3.32680606842041,
          -4.07209587097168,
          -5.451494216918945,
          -5.917385101318359,
          -4.618020534515381,
          -7.475777626037598,
          -3.907041549682617,
          -3.5893959999084473,
          18.321277618408203,
          -3.388392925262451,
          -1.3980904817581177,
          -4.242720603942871,
          -11.325516700744629,
          -4.103256702423096,
          -9.255725860595703,
          -4.236477851867676,
          -1.4221429824829102,
          20.226951599121094,
          -9.325528144836426,
          -7.6536478996276855,
          -9.576687812805176,
          -8.98961353302002,
          -9.571019172668457,
          -3.5893959999084473,
          -9.606237411499023,
          -9.796384811401367,
          18.32329559326172,
          -4.2427215576171875,
          -2.2862985134124756,
          20.226926803588867,
          12.214430809020996,
          -9.03300666809082,
          22.1547794342041,
          -1.097151517868042,
          -4.760751247406006,
          -8.015055656433105,
          -2.2406349182128906,
          -1.07960844039917,
          21.243974685668945,
          -8.70309829711914,
          7.012280464172363,
          -9.176253318786621,
          -13.101801872253418,
          -8.51909351348877,
          -7.577099800109863,
          -7.475858688354492,
          -9.7611665725708,
          -10.652528762817383,
          -2.960235834121704,
          -3.8659279346466064,
          -3.1841251850128174,
          -5.917429447174072,
          -8.928616523742676,
          -7.597997665405273,
          4.613411903381348,
          -8.872241973876953,
          -14.811808586120605,
          -4.665774345397949,
          -8.338363647460938,
          -8.46329116821289,
          -8.385870933532715,
          -8.038148880004883,
          -6.915428638458252,
          -0.2949165403842926,
          -12.632074356079102,
          -4.131107330322266,
          17.891923904418945,
          21.10107421875,
          -4.174088001251221,
          -10.97799301147461,
          0.879536509513855,
          -7.395168781280518,
          -5.917546272277832,
          -3.5666792392730713,
          -10.949873924255371,
          -3.388481616973877,
          -4.715962886810303,
          20.937984466552734,
          -8.884718894958496,
          -12.209808349609375,
          -5.042504787445068,
          -4.040338516235352,
          -8.571843147277832,
          -6.766862869262695,
          -14.429564476013184,
          21.243974685668945,
          -10.949868202209473,
          -8.040315628051758,
          -13.553747177124023,
          -13.241856575012207,
          7.011573314666748,
          -3.6649978160858154,
          -3.9290950298309326,
          -4.6195549964904785,
          19.781524658203125,
          -9.890518188476562,
          -10.787456512451172,
          -9.004420280456543,
          -13.051590919494629,
          -1.4179370403289795,
          -3.388200283050537,
          -8.785482406616211,
          -2.6123476028442383,
          17.265405654907227,
          -11.831954956054688,
          -4.714097023010254,
          -5.016479969024658,
          -10.485849380493164,
          -14.115530014038086,
          -8.466854095458984,
          19.261943817138672,
          -12.915141105651855,
          -3.4272899627685547,
          19.459257125854492,
          -12.855591773986816,
          -14.202123641967773,
          -13.03534984588623,
          6.647744655609131,
          -14.834991455078125,
          -4.239278793334961,
          -5.4666972160339355,
          -5.551100730895996,
          -10.168499946594238,
          -8.909382820129395,
          -13.512252807617188,
          -5.728147029876709,
          -5.456979274749756,
          -11.758563995361328,
          -8.967769622802734,
          -9.567859649658203,
          -4.436233043670654,
          -14.829602241516113,
          -6.410305023193359,
          -1.1084747314453125,
          7.029685020446777,
          -12.470232009887695,
          -8.664022445678711,
          19.287933349609375,
          -7.5766987800598145,
          21.042356491088867,
          -8.628790855407715,
          -14.937922477722168,
          3.826549768447876,
          20.894380569458008,
          -5.822561740875244,
          -8.55394172668457,
          -8.553961753845215,
          17.69364356994629,
          -8.625212669372559,
          -1.3762750625610352,
          -4.337582588195801,
          -8.197796821594238,
          -2.3639543056488037,
          -3.3142282962799072,
          0.5960263609886169,
          19.227476119995117,
          -7.5770111083984375,
          20.389249801635742,
          -5.04327392578125,
          -10.943856239318848,
          -9.444465637207031,
          -1.42653489112854,
          -13.75832462310791,
          -12.486385345458984,
          21.14328956604004,
          -9.261116027832031
         ],
         "z": [
          0.24368026852607727,
          1.904797911643982,
          -15.071372032165527,
          4.558959007263184,
          -2.9026505947113037,
          -1.2361079454421997,
          0.34114331007003784,
          -5.986684799194336,
          6.2405877113342285,
          17.197416305541992,
          2.478339910507202,
          -14.752551078796387,
          2.9829137325286865,
          -0.6450411677360535,
          14.500189781188965,
          0.2868405282497406,
          -10.388153076171875,
          -3.339505195617676,
          -9.931938171386719,
          13.936707496643066,
          -15.406682014465332,
          6.6044087409973145,
          17.390527725219727,
          -8.245064735412598,
          -11.576142311096191,
          16.388521194458008,
          -17.05833625793457,
          -9.103849411010742,
          6.240126609802246,
          -13.919600486755371,
          -10.658904075622559,
          2.9841721057891846,
          2.1646530628204346,
          1.8133349418640137,
          -0.9561622738838196,
          -0.8246226906776428,
          -0.8015146255493164,
          -3.0768203735351562,
          18.009803771972656,
          1.7213577032089233,
          -14.767251968383789,
          3.4140779972076416,
          0.5510566234588623,
          -2.2761104106903076,
          -10.415456771850586,
          -8.918841361999512,
          -14.101140975952148,
          4.8296709060668945,
          -11.814212799072266,
          -9.076897621154785,
          -7.184450149536133,
          -4.648583889007568,
          5.233602523803711,
          14.75,
          -10.857608795166016,
          13.50550651550293,
          -11.685018539428711,
          1.609418511390686,
          -17.03214454650879,
          8.010202407836914,
          5.75678825378418,
          5.84311056137085,
          4.418018817901611,
          2.0369107723236084,
          2.087841033935547,
          -14.101016998291016,
          3.351734161376953,
          -13.44300651550293,
          -1.865227222442627,
          0.30858907103538513,
          -2.9206342697143555,
          18.38267707824707,
          14.318855285644531,
          -2.9206366539001465,
          1.6941996812820435,
          4.496251106262207,
          -13.238452911376953,
          5.323800563812256,
          -0.3043234050273895,
          -8.693854331970215,
          -14.697819709777832,
          -8.801169395446777,
          -13.93323802947998,
          4.541082382202148,
          -8.704923629760742,
          4.558959484100342,
          4.558854579925537,
          -11.145491600036621,
          -0.44088080525398254,
          -15.166019439697266,
          2.1386871337890625,
          -10.810831069946289,
          3.7429540157318115,
          7.006405353546143,
          -3.339439868927002,
          14.885812759399414,
          0.5511506795883179,
          4.287016868591309,
          13.958621978759766,
          0.9966411590576172,
          4.317278861999512,
          4.404308319091797,
          -0.8143259882926941,
          -14.054642677307129,
          5.727045059204102,
          5.7059478759765625,
          16.456865310668945,
          -10.009485244750977,
          -0.6217033267021179,
          4.265824794769287,
          -13.885796546936035,
          1.2058700323104858,
          0.5993963479995728,
          -16.52010726928711,
          6.483041286468506,
          8.13261890411377,
          3.462430238723755,
          -7.271901607513428,
          0.6891694068908691,
          17.914907455444336,
          -0.5765397548675537,
          -12.368483543395996,
          0.470768004655838,
          16.527265548706055,
          8.10566234588623,
          7.383028984069824,
          7.436469554901123,
          4.949400901794434,
          -9.17359447479248,
          -0.9474021196365356,
          5.270624160766602,
          2.690035820007324,
          11.126166343688965,
          8.01024055480957,
          19.166385650634766,
          -2.2763712406158447,
          -14.101040840148926,
          0.24762755632400513,
          2.713397979736328,
          13.889284133911133,
          15.196059226989746,
          -13.362786293029785,
          17.692209243774414,
          8.010174751281738,
          8.282917976379395,
          6.2407121658325195,
          11.345243453979492,
          3.9158437252044678,
          20.1059513092041,
          8.864970207214355,
          3.3675992488861084,
          4.369148254394531,
          18.1215763092041,
          -2.276045083999634,
          -0.9473851919174194,
          -0.8013290166854858,
          -2.276008129119873,
          8.529305458068848,
          -10.279425621032715,
          19.19780158996582,
          -11.75582504272461,
          -3.3395016193389893,
          -13.528101921081543,
          -14.114598274230957,
          -10.415428161621094,
          -2.689427137374878,
          19.014474868774414,
          1.1263885498046875,
          19.649965286254883,
          15.922965049743652,
          -0.2132214456796646,
          -14.640039443969727,
          -11.835622787475586,
          1.126390814781189,
          -4.193219184875488,
          -0.79013592004776,
          -14.24224853515625,
          -2.275996446609497,
          -7.961301803588867,
          14.245214462280273,
          -10.014238357543945,
          -0.8846625685691833,
          -13.759822845458984,
          2.388554573059082,
          -15.108708381652832,
          -11.163657188415527,
          14.070544242858887,
          0.04306337237358093,
          4.667412757873535,
          3.742928981781006,
          8.784364700317383,
          -15.256789207458496,
          7.477321147918701,
          -16.519210815429688,
          0.8399777412414551,
          13.396710395812988,
          7.599478244781494,
          4.391209602355957,
          0.2869238257408142,
          3.9146347045898438,
          4.739719390869141,
          6.23975133895874,
          19.10800552368164,
          -1.3088812828063965,
          -1.2468386888504028,
          -7.388748645782471,
          8.784379005432129,
          6.4899210929870605,
          3.8787643909454346,
          -7.272078037261963,
          -3.1686203479766846,
          14.068865776062012,
          -10.68596076965332,
          -0.8008356690406799,
          -13.247708320617676,
          -9.606021881103516,
          0.9714493751525879,
          0.5148584842681885,
          -11.310566902160645,
          14.382827758789062,
          -7.738855361938477,
          -7.8710761070251465,
          -1.5141713619232178,
          0.8266528248786926,
          -11.145535469055176,
          -0.5969637632369995,
          0.5415832996368408,
          6.780121326446533,
          17.741056442260742,
          -10.326408386230469,
          -10.008984565734863,
          4.549383640289307,
          -0.2558102309703827,
          -7.271915912628174,
          6.634707927703857,
          -12.448128700256348,
          -11.088244438171387,
          -15.004070281982422,
          16.580219268798828,
          8.266031265258789,
          6.48991584777832,
          -9.604000091552734,
          0.9306674599647522,
          15.411128044128418,
          1.9694448709487915,
          0.9674286842346191,
          -13.247925758361816,
          -13.762701034545898,
          -13.746367454528809,
          -2.471442937850952,
          -11.127220153808594,
          4.130550384521484,
          -16.217693328857422,
          -14.441669464111328,
          -4.524483680725098,
          -9.30670166015625,
          0.826690137386322,
          -0.2602115869522095,
          5.213364601135254,
          -0.6628955006599426,
          -12.451408386230469,
          18.59477996826172,
          5.095317363739014,
          8.466548919677734,
          10.14355754852295,
          7.322592735290527,
          5.2475457191467285,
          18.152931213378906,
          -0.11068657040596008,
          -0.4894876182079315,
          1.3145475387573242,
          4.312955856323242,
          7.622796058654785,
          5.308474540710449,
          2.3923861980438232,
          0.12361777573823929,
          -0.3059181272983551,
          0.24619294703006744,
          -11.145489692687988,
          0.826646089553833,
          0.4344046711921692,
          7.100659370422363,
          -8.699116706848145,
          -13.817516326904297,
          4.538708209991455,
          16.309471130371094,
          3.5423190593719482,
          3.877387523651123,
          3.091332197189331,
          11.404338836669922,
          -0.9474048614501953,
          8.397265434265137,
          -14.442340850830078,
          2.1676149368286133,
          14.748759269714355,
          2.736421585083008,
          16.746231079101562,
          -9.331314086914062,
          5.343173980712891,
          5.343174457550049,
          1.9792208671569824,
          -13.64199447631836,
          0.8265045881271362,
          8.902067184448242,
          1.3724384307861328,
          13.471343040466309,
          -8.706624031066895,
          0.9674286842346191,
          15.437618255615234,
          13.633132934570312,
          0.6085251569747925,
          6.239753723144531,
          -15.173839569091797,
          16.09752655029297,
          19.196491241455078,
          -0.8013433218002319,
          -13.360783576965332,
          -0.5743758082389832,
          0.5825048089027405,
          4.4429030418396,
          -9.926228523254395,
          14.815286636352539,
          16.415103912353516,
          -10.155778884887695,
          -13.862536430358887,
          -8.449383735656738,
          -9.61461067199707,
          -7.421070098876953,
          -14.658101081848145,
          4.898799419403076,
          -14.554669380187988,
          -13.322747230529785,
          -12.189279556274414,
          -7.271787643432617,
          1.4507232904434204,
          13.72148609161377,
          -8.442414283752441,
          -8.03638744354248,
          -9.464983940124512,
          -9.663841247558594,
          -10.548822402954102,
          15.2338228225708,
          -10.852970123291016,
          -13.25644302368164,
          -11.731205940246582,
          5.406111717224121,
          -6.513293743133545,
          5.529860019683838,
          -0.23748022317886353,
          -10.644251823425293,
          0.9451655745506287,
          -0.46958425641059875,
          5.84311056137085,
          -13.858227729797363,
          -8.626307487487793,
          2.8586087226867676,
          4.558870792388916,
          11.23939323425293,
          -7.961302757263184,
          -11.859002113342285,
          3.758392810821533,
          1.53007173538208,
          13.522019386291504,
          14.749995231628418,
          -2.845302104949951,
          1.9239226579666138,
          -13.049703598022461,
          6.181995391845703,
          -14.743350982666016,
          13.969500541687012,
          -9.389780044555664,
          4.190854549407959,
          0.28684452176094055,
          1.0033869743347168,
          5.935160160064697,
          5.330873966217041,
          2.992147445678711,
          -0.48952117562294006,
          0.18610750138759613,
          -10.893656730651855,
          17.23927879333496,
          -7.2719316482543945,
          18.725536346435547,
          14.362950325012207,
          3.059849739074707,
          16.671245574951172,
          -13.572754859924316,
          16.3206844329834,
          5.243424415588379,
          6.489917755126953,
          1.0426409244537354,
          17.30480194091797,
          5.2567901611328125,
          -10.061984062194824,
          6.5141825675964355,
          16.84442901611328,
          3.3427670001983643,
          -14.409198760986328,
          -14.101791381835938,
          -0.6217234134674072,
          -14.289254188537598,
          5.242361545562744,
          1.2572791576385498,
          9.761448860168457,
          0.3761832118034363,
          -7.365823268890381,
          -10.84692096710205,
          16.74334716796875,
          1.994325041770935,
          -0.8577259182929993,
          -12.125696182250977,
          0.24693968892097473,
          1.5991328954696655,
          1.3529934883117676,
          5.332441806793213,
          -10.525691986083984,
          -0.9127902388572693,
          3.6072206497192383,
          4.64556360244751,
          -13.322676658630371,
          6.981298446655273,
          5.459315776824951,
          -2.2760226726531982,
          16.54534149169922,
          5.406129837036133,
          -10.398837089538574,
          5.935160160064697,
          4.563226699829102,
          15.291752815246582,
          -10.339941024780273,
          0.5510557889938354,
          14.995594024658203,
          -11.511026382446289,
          -13.713348388671875,
          6.513922691345215,
          17.501596450805664,
          17.41397476196289,
          -0.39090144634246826,
          17.307228088378906,
          -7.961302280426025,
          4.391437530517578,
          2.3914692401885986,
          -14.662493705749512,
          -1.4937069416046143,
          5.529873371124268,
          -0.3473431169986725,
          17.779586791992188,
          -9.999934196472168,
          18.684064865112305,
          -2.276451826095581,
          0.5514883995056152,
          -13.92680835723877,
          11.239524841308594,
          4.480747699737549,
          4.838700771331787,
          7.0659942626953125,
          4.55875825881958,
          0.24619412422180176,
          6.036022663116455,
          -7.313163757324219,
          -9.757967948913574,
          -10.917895317077637,
          -1.1611335277557373,
          11.12619686126709,
          13.436426162719727,
          -12.138230323791504,
          5.448596000671387,
          17.057878494262695,
          -0.05022595077753067,
          -0.46961987018585205,
          -8.478079795837402,
          0.06383412331342697,
          -11.194674491882324,
          12.807701110839844,
          -8.11966609954834,
          5.34981632232666,
          -1.143167495727539,
          4.496282577514648,
          -13.846413612365723,
          16.57256507873535,
          -13.691671371459961,
          3.1007230281829834,
          -4.005695819854736,
          7.84229850769043,
          -0.4045412540435791,
          -9.709939002990723,
          -1.4937069416046143,
          6.981292247772217,
          3.7428746223449707,
          17.197660446166992,
          2.700385332107544,
          -7.961302757263184,
          -0.39083054661750793,
          1.1912727355957031,
          7.385838031768799,
          4.1274213790893555,
          -8.51319694519043,
          -0.8010817170143127,
          8.208966255187988,
          17.215444564819336,
          1.1266149282455444,
          1.2900933027267456,
          -0.2597622871398926,
          -10.392102241516113,
          6.981298446655273,
          -1.290601134300232,
          -13.978564262390137,
          -14.662489891052246,
          6.2406206130981445,
          5.332457065582275,
          -8.084738731384277,
          3.7428767681121826,
          1.0489516258239746,
          -14.101277351379395,
          -11.572632789611816,
          0.24750784039497375,
          14.438789367675781,
          3.1324727535247803,
          16.975780487060547,
          0.24402789771556854,
          -7.084418773651123,
          3.0146584510803223,
          -13.25549602508545,
          16.186481475830078,
          16.53087043762207,
          -14.270244598388672,
          -0.46611008048057556,
          3.7428765296936035,
          -15.062118530273438,
          -13.835208892822266,
          1.0426760911941528,
          0.24750901758670807,
          -9.012843132019043,
          3.0148308277130127,
          1.9942317008972168,
          7.548396587371826,
          -0.6936113834381104,
          -8.435857772827148,
          4.05002498626709,
          7.835658073425293,
          -7.975852012634277,
          -7.494482040405273,
          -0.43452122807502747,
          -0.8875918984413147,
          14.000602722167969,
          16.891748428344727,
          -0.6218708157539368,
          16.883563995361328,
          5.24273681640625,
          5.332440376281738,
          5.581852912902832,
          4.7983174324035645,
          -5.986684322357178,
          17.79932403564453,
          -8.057458877563477,
          -14.66250228881836,
          8.13387393951416,
          15.802428245544434,
          14.318851470947266,
          14.314262390136719,
          0.5089720487594604,
          18.098085403442383,
          -5.49265718460083,
          16.772235870361328,
          1.3375508785247803,
          0.8266897797584534,
          16.85151481628418,
          -9.262049674987793,
          -13.362700462341309,
          -9.807713508605957,
          1.180661678314209,
          -1.385886549949646,
          -11.028580665588379,
          -2.3890438079833984,
          -9.737858772277832,
          17.028818130493164,
          -14.66247272491455,
          -10.881147384643555,
          6.489899635314941,
          -14.101024627685547,
          2.681154489517212,
          -0.2594093680381775,
          9.761467933654785,
          14.525506973266602,
          17.95960807800293,
          -13.926819801330566,
          7.877732276916504,
          6.728114604949951,
          5.061191082000732,
          -0.43452104926109314,
          6.4899067878723145,
          6.513922214508057,
          1.3825490474700928,
          -13.984119415283203,
          11.239524841308594,
          4.480746746063232,
          17.661645889282227,
          6.240584373474121,
          -2.6993777751922607,
          -10.415458679199219,
          -17.031963348388672,
          16.135377883911133,
          -13.460420608520508,
          -11.245818138122559,
          -14.101143836975098,
          15.768357276916504,
          8.86491584777832,
          -0.05471247434616089,
          14.214802742004395,
          3.6274783611297607,
          -6.513294219970703,
          -15.54857063293457,
          4.675570487976074,
          7.353424072265625,
          -2.8300788402557373,
          -13.7727689743042,
          -9.641563415527344,
          2.087841033935547,
          2.809340476989746,
          5.086439609527588,
          1.7667169570922852,
          11.395341873168945,
          -0.5261020660400391,
          0.2420053482055664,
          17.86415672302246,
          -13.975241661071777,
          15.200407028198242,
          -14.141461372375488,
          -13.740592956542969,
          -4.534483909606934,
          16.34478759765625,
          -3.2672221660614014,
          8.022700309753418,
          -0.47026851773262024,
          -9.197773933410645,
          5.233561038970947,
          18.337406158447266,
          -8.517877578735352,
          14.015778541564941,
          14.306556701660156,
          17.06788444519043,
          0.32833370566368103,
          5.242696762084961,
          -1.1411255598068237,
          16.205656051635742,
          4.130410671234131,
          5.689948081970215,
          -0.5444628000259399,
          17.938814163208008,
          4.496381759643555,
          4.4963250160217285,
          0.9802718162536621,
          7.033442974090576,
          -11.5013427734375,
          18.10375213623047,
          7.029113292694092,
          -9.290166854858398,
          8.507972717285156,
          -9.064262390136719,
          -0.5717425346374512,
          5.244236946105957,
          -0.6580581068992615,
          7.304068088531494,
          4.899923801422119,
          -3.3395047187805176,
          -9.693760871887207,
          2.1425490379333496,
          3.179175615310669,
          -0.6615734696388245,
          14.435479164123535
         ]
        },
        {
         "hovertemplate": "Dominant_Topic=Topic 13<br>0=%{x}<br>1=%{y}<br>2=%{z}<extra></extra>",
         "legendgroup": "Topic 13",
         "marker": {
          "color": "#19d3f3",
          "opacity": 0.7,
          "symbol": "circle"
         },
         "mode": "markers",
         "name": "Topic 13",
         "scene": "scene",
         "showlegend": true,
         "type": "scatter3d",
         "x": [
          -1.784610390663147,
          -1.1803463697433472,
          -0.990949809551239,
          -2.0902044773101807,
          -0.4944417178630829,
          -1.1823770999908447,
          -7.140345096588135,
          -1.8537739515304565,
          0.6923618316650391,
          -1.4469941854476929,
          -2.729778289794922,
          -0.885033130645752,
          -1.4211477041244507,
          -0.8863623142242432,
          -0.3969305455684662,
          -2.9342238903045654,
          -2.0902047157287598,
          -2.3517208099365234,
          -1.5773574113845825,
          -2.710738182067871,
          -1.6654616594314575,
          -1.4847468137741089,
          -2.0225682258605957,
          -0.4084490239620209,
          -2.9342236518859863,
          -2.710737943649292,
          -1.2637979984283447,
          -1.0053318738937378,
          -3.4037208557128906,
          -1.4402722120285034,
          -0.39668288826942444,
          -1.1626921892166138
         ],
         "y": [
          -1.9160535335540771,
          -1.6500093936920166,
          -1.792555809020996,
          -0.6631227135658264,
          -2.163785219192505,
          -1.8791848421096802,
          1.8710697889328003,
          -2.18937087059021,
          -2.9579241275787354,
          -1.6191273927688599,
          -0.0800790786743164,
          -2.259531021118164,
          -2.2180867195129395,
          -1.826633095741272,
          -3.362030267715454,
          -1.4823031425476074,
          -0.6631227135658264,
          -1.3738118410110474,
          -2.2951343059539795,
          -0.4337001144886017,
          -2.5073256492614746,
          -2.323481321334839,
          0.41935282945632935,
          -2.24418044090271,
          -1.4823030233383179,
          -0.4337001442909241,
          -2.575021982192993,
          -2.3745076656341553,
          -4.085909843444824,
          -1.888999342918396,
          -3.362673759460449,
          -3.6977503299713135
         ],
         "z": [
          -5.173379898071289,
          -5.5796990394592285,
          -5.089278221130371,
          -7.901516914367676,
          -3.408362627029419,
          -5.7727251052856445,
          -9.280865669250488,
          -5.323866844177246,
          -5.793179035186768,
          -5.253042221069336,
          -4.555656433105469,
          -5.380694389343262,
          -5.794370651245117,
          -5.465029716491699,
          -7.031200885772705,
          -6.942872524261475,
          -7.901516914367676,
          -6.464526653289795,
          -5.717850208282471,
          -6.355027675628662,
          -5.343997478485107,
          -4.893065929412842,
          -5.309232234954834,
          -6.88481330871582,
          -6.942872524261475,
          -6.355027675628662,
          -5.198414325714111,
          -5.115516662597656,
          -5.336354732513428,
          -4.892299652099609,
          -7.03120231628418,
          -6.165530681610107
         ]
        },
        {
         "hovertemplate": "Dominant_Topic=Topic 14<br>0=%{x}<br>1=%{y}<br>2=%{z}<extra></extra>",
         "legendgroup": "Topic 14",
         "marker": {
          "color": "#FF6692",
          "opacity": 0.7,
          "symbol": "circle"
         },
         "mode": "markers",
         "name": "Topic 14",
         "scene": "scene",
         "showlegend": true,
         "type": "scatter3d",
         "x": [
          12.95567512512207,
          7.992740154266357,
          15.22020149230957,
          8.467999458312988,
          8.544146537780762,
          13.708297729492188,
          7.896591663360596,
          -0.28222015500068665,
          13.988699913024902,
          10.04783821105957,
          9.653705596923828,
          8.069782257080078,
          8.930365562438965,
          14.259665489196777,
          13.049156188964844,
          14.116378784179688,
          10.816658973693848,
          8.433777809143066,
          14.116003036499023,
          1.3904844522476196,
          15.278536796569824,
          5.393394947052002,
          7.389412879943848,
          14.007425308227539,
          6.628987789154053,
          14.88304615020752,
          12.118061065673828,
          6.860343933105469,
          14.79473876953125,
          13.229619026184082,
          6.488506317138672,
          8.468162536621094,
          11.453142166137695,
          8.468056678771973,
          6.8801589012146,
          10.172917366027832,
          9.653741836547852,
          -8.976778030395508,
          7.693163871765137,
          1.3892136812210083,
          -8.179523468017578,
          10.903411865234375,
          8.01361083984375,
          10.87096881866455,
          8.556656837463379,
          12.635990142822266,
          7.056543350219727,
          3.487739086151123,
          12.235355377197266,
          6.602840423583984,
          6.616835117340088,
          11.792922019958496,
          13.09237289428711,
          11.125975608825684,
          6.262201309204102,
          13.75864315032959,
          12.038894653320312,
          8.74852180480957,
          8.984395027160645,
          5.531688213348389,
          16.618940353393555,
          13.047574043273926,
          6.860184192657471,
          6.178444862365723,
          12.549959182739258,
          15.584871292114258,
          12.235488891601562,
          12.235918045043945,
          9.346796035766602,
          -3.7938597202301025,
          7.693160057067871,
          13.246380805969238,
          8.88383960723877,
          12.216436386108398,
          -0.5555288791656494,
          12.837889671325684,
          15.165600776672363,
          7.824634075164795,
          12.449886322021484,
          12.19843864440918,
          11.619308471679688,
          12.827568054199219,
          12.810705184936523,
          -1.0706398487091064,
          12.0531587600708,
          8.696638107299805,
          10.17299747467041,
          12.254359245300293,
          12.962943077087402,
          10.534475326538086,
          12.468575477600098,
          10.172944068908691,
          12.811164855957031,
          5.5436272621154785,
          13.461562156677246,
          14.929122924804688,
          6.880235195159912,
          2.0483603477478027,
          6.2637619972229,
          8.982355117797852,
          12.198477745056152,
          7.123867988586426,
          5.678257942199707,
          12.198446273803711,
          10.938003540039062,
          12.23554515838623,
          13.24665641784668,
          10.216053009033203,
          12.635433197021484,
          5.63510274887085,
          12.43211555480957,
          10.603893280029297,
          6.568613052368164,
          6.284787654876709,
          14.868643760681152,
          9.15620231628418,
          11.139683723449707,
          14.15483570098877,
          8.546481132507324,
          10.69644832611084,
          7.472082614898682,
          15.664770126342773,
          9.15621566772461,
          -8.412330627441406,
          3.488558530807495,
          10.351170539855957,
          13.666909217834473,
          5.791059970855713,
          10.95687198638916,
          15.679839134216309,
          13.154250144958496,
          12.55500316619873,
          10.826193809509277,
          13.19692325592041,
          6.395702362060547,
          12.827627182006836,
          13.758645057678223,
          11.45335578918457,
          6.575933456420898,
          8.259774208068848,
          12.23549747467041,
          1.3388344049453735,
          11.116615295410156,
          11.28706169128418,
          15.135303497314453,
          2.4157180786132812,
          2.603341817855835,
          8.865534782409668,
          5.63696813583374,
          11.266217231750488,
          7.472243785858154,
          15.989867210388184,
          11.148380279541016,
          15.422042846679688,
          13.862342834472656,
          12.887051582336426,
          5.876582145690918,
          10.297994613647461,
          5.717811107635498,
          7.693264484405518,
          5.636141777038574,
          10.222455978393555,
          13.847671508789062,
          13.356817245483398,
          11.468424797058105,
          12.551908493041992,
          12.70361328125,
          12.927000999450684,
          11.759007453918457,
          6.468801021575928,
          15.42311954498291,
          14.84210205078125,
          13.049155235290527,
          14.66602611541748,
          10.163308143615723,
          3.488558530807495,
          11.31876277923584,
          8.888132095336914,
          14.348529815673828,
          8.345149993896484,
          13.89374828338623,
          7.9842987060546875,
          6.240725517272949,
          6.221435070037842,
          12.940375328063965,
          7.47144079208374,
          8.468164443969727,
          10.627448081970215,
          6.250308513641357,
          6.880219459533691,
          15.349056243896484,
          -8.78814697265625,
          2.4158031940460205,
          13.905637741088867,
          12.553338050842285,
          6.441068172454834,
          15.114229202270508,
          14.306131362915039,
          2.26499080657959,
          8.988466262817383,
          13.810857772827148,
          10.19697093963623,
          7.0863823890686035,
          8.544788360595703,
          -7.6373515129089355,
          8.884177207946777,
          13.785884857177734,
          10.355429649353027,
          14.274932861328125,
          8.887104988098145,
          10.578661918640137,
          6.605016231536865,
          2.145049810409546,
          2.7683069705963135,
          -0.9503067135810852,
          6.071910381317139,
          13.797612190246582,
          14.757948875427246,
          8.984223365783691,
          10.368584632873535,
          7.729696273803711,
          5.827704906463623,
          15.1292085647583,
          7.471126556396484,
          15.334534645080566,
          16.197729110717773,
          11.558792114257812,
          13.142812728881836,
          13.215251922607422,
          13.268350601196289,
          11.325822830200195,
          11.86229133605957,
          12.554887771606445,
          6.29815149307251,
          12.053165435791016,
          13.85995864868164,
          12.314132690429688,
          11.45335578918457,
          10.439138412475586,
          13.080851554870605,
          8.555514335632324,
          14.116280555725098,
          8.509940147399902,
          15.05782699584961,
          12.94627857208252,
          13.697086334228516,
          8.368124961853027,
          -7.6373515129089355,
          9.156137466430664,
          8.43869400024414,
          8.772104263305664,
          6.446144104003906,
          13.636662483215332,
          10.57693099975586,
          11.565258979797363,
          -5.154989242553711,
          7.057046413421631,
          13.764505386352539,
          8.879033088684082,
          8.957527160644531,
          13.25129222869873,
          11.405478477478027,
          6.321898937225342,
          13.685643196105957,
          11.734516143798828,
          13.160415649414062,
          12.118006706237793,
          13.992267608642578,
          13.68510913848877,
          13.360119819641113,
          10.806716918945312,
          13.153624534606934,
          11.121042251586914,
          10.62082290649414,
          12.837424278259277,
          13.579070091247559,
          13.446100234985352,
          14.387131690979004,
          7.850123405456543,
          6.9747209548950195,
          -0.591243326663971,
          10.31576156616211,
          8.888136863708496,
          10.306398391723633,
          -8.976841926574707,
          5.636336326599121,
          13.79513931274414,
          11.056705474853516,
          7.90030574798584,
          11.36351490020752,
          11.426239013671875,
          9.014463424682617,
          8.984225273132324,
          5.435408115386963,
          6.293457984924316,
          13.47678279876709,
          11.076553344726562,
          14.11607551574707,
          8.677716255187988,
          -2.0391623973846436,
          5.662086486816406,
          6.860269069671631,
          10.90846061706543,
          11.031879425048828,
          6.099916458129883,
          12.080262184143066,
          11.453152656555176,
          13.25477409362793,
          13.600004196166992,
          13.547235488891602,
          6.570201873779297,
          1.3893736600875854,
          13.700011253356934,
          13.245877265930176
         ],
         "y": [
          7.07631254196167,
          2.0191431045532227,
          -2.8721189498901367,
          -0.9875772595405579,
          1.8945797681808472,
          -1.969168782234192,
          2.127579927444458,
          2.366041898727417,
          -1.7051931619644165,
          8.642571449279785,
          8.772231101989746,
          2.9218666553497314,
          1.5270293951034546,
          4.284538269042969,
          4.1134934425354,
          8.632657051086426,
          -4.236186981201172,
          2.3779873847961426,
          8.632805824279785,
          1.8643720149993896,
          0.41394785046577454,
          6.372992992401123,
          -3.519338607788086,
          5.117251396179199,
          -1.6982733011245728,
          1.759432315826416,
          -2.6013336181640625,
          6.4625139236450195,
          1.930125117301941,
          4.4615302085876465,
          6.558862686157227,
          -0.9875748753547668,
          -3.30134654045105,
          -0.9876047968864441,
          -3.696307897567749,
          1.849019169807434,
          8.77220344543457,
          0.4364474415779114,
          4.175273895263672,
          1.863656997680664,
          5.1197662353515625,
          8.416351318359375,
          1.7855170965194702,
          4.644424915313721,
          1.2152235507965088,
          8.897500038146973,
          3.6058332920074463,
          4.878828525543213,
          8.864415168762207,
          -1.6896125078201294,
          -1.6273994445800781,
          8.294063568115234,
          5.375187873840332,
          3.2923922538757324,
          1.7585936784744263,
          2.311952829360962,
          4.209794998168945,
          1.6238019466400146,
          -2.038076639175415,
          2.1154563426971436,
          1.3528063297271729,
          -2.2676990032196045,
          6.462285041809082,
          6.18671178817749,
          8.426133155822754,
          0.9932188987731934,
          -4.775774955749512,
          -4.775358200073242,
          -1.0463978052139282,
          -4.340455532073975,
          4.175271987915039,
          9.551798820495605,
          1.5716769695281982,
          -1.5683634281158447,
          1.8360759019851685,
          8.75769329071045,
          -2.6582162380218506,
          2.7138757705688477,
          8.878315925598145,
          -0.14544712007045746,
          -5.146622657775879,
          3.5066874027252197,
          7.5405426025390625,
          9.278822898864746,
          1.440023422241211,
          2.834843158721924,
          1.8502782583236694,
          8.841105461120605,
          -1.6974847316741943,
          4.481775283813477,
          4.194262504577637,
          1.8490307331085205,
          7.540363311767578,
          2.1264233589172363,
          -2.531252861022949,
          1.14010488986969,
          -3.6963202953338623,
          2.391749858856201,
          6.885263442993164,
          1.2383784055709839,
          -0.14530862867832184,
          -1.705203652381897,
          6.227034091949463,
          -0.14541763067245483,
          -5.928252220153809,
          -4.775877952575684,
          1.9766228199005127,
          -4.221724510192871,
          8.892921447753906,
          7.666706562042236,
          8.891883850097656,
          -4.578464508056641,
          -1.2921178340911865,
          -1.5099635124206543,
          0.9387887120246887,
          4.6923418045043945,
          3.272441864013672,
          4.672783374786377,
          1.949868083000183,
          3.3326714038848877,
          -4.249814510345459,
          0.5845874547958374,
          4.692338466644287,
          0.7473331093788147,
          4.879491806030273,
          -3.979273796081543,
          -1.653415560722351,
          6.018209934234619,
          4.175199031829834,
          0.701257586479187,
          -1.8580299615859985,
          -2.3603508472442627,
          -5.173346519470215,
          -2.737495183944702,
          6.5744829177856445,
          3.5059375762939453,
          2.311952590942383,
          -3.300661325454712,
          3.9962880611419678,
          2.5529534816741943,
          -4.775763511657715,
          2.375016212463379,
          -6.052334308624268,
          -6.231247901916504,
          1.9571630954742432,
          2.659649133682251,
          1.8204618692398071,
          2.475803852081299,
          6.700049877166748,
          -5.900765419006348,
          -4.249679088592529,
          0.7441681623458862,
          -5.816314697265625,
          1.1275204420089722,
          -1.5532597303390503,
          4.562752723693848,
          7.009154319763184,
          4.044280529022217,
          6.276362419128418,
          4.175099849700928,
          7.665739059448242,
          -4.477123737335205,
          4.817112445831299,
          4.033321857452393,
          4.712412357330322,
          8.425758361816406,
          5.241441249847412,
          5.030416488647461,
          -0.6894562244415283,
          -1.5055290460586548,
          0.4381154477596283,
          0.6380546689033508,
          4.113445281982422,
          -0.7417928576469421,
          1.8455314636230469,
          4.879492282867432,
          4.460879325866699,
          8.883856773376465,
          -1.468314528465271,
          2.7922885417938232,
          -1.9519586563110352,
          -7.754528999328613,
          7.002943992614746,
          -1.4581282138824463,
          2.3404171466827393,
          -4.250506401062012,
          -0.9875720739364624,
          3.6889352798461914,
          0.8898169994354248,
          -3.6963274478912354,
          1.2549914121627808,
          0.809399425983429,
          2.6595823764801025,
          3.9220757484436035,
          4.96242618560791,
          -1.2858010530471802,
          0.7267816662788391,
          4.883188724517822,
          1.4685471057891846,
          1.191681146621704,
          2.2318267822265625,
          -2.4402873516082764,
          -4.030510425567627,
          1.4505053758621216,
          0.5878650546073914,
          2.427938461303711,
          3.809422254562378,
          -4.222254753112793,
          4.251064300537109,
          8.883137702941895,
          4.217926979064941,
          7.100085735321045,
          2.885920286178589,
          2.0631864070892334,
          9.191567420959473,
          6.427314281463623,
          8.113460540771484,
          -2.6293954849243164,
          -2.037633180618286,
          3.4527697563171387,
          2.3689024448394775,
          7.0799150466918945,
          0.7300127744674683,
          -4.250718116760254,
          1.1877400875091553,
          -0.45488986372947693,
          4.112722396850586,
          -0.38421377539634705,
          -2.80653715133667,
          4.997477054595947,
          3.864622116088867,
          4.143129348754883,
          -2.360292911529541,
          0.7738831043243408,
          1.4400163888931274,
          -2.2333340644836426,
          8.511037826538086,
          -3.3006629943847656,
          -4.282507419586182,
          -1.8150402307510376,
          -2.073890209197998,
          8.632831573486328,
          1.60421884059906,
          0.3748612403869629,
          -2.198014259338379,
          5.204370975494385,
          4.505616664886475,
          0.5878651142120361,
          4.692299842834473,
          3.0062644481658936,
          1.1294996738433838,
          -1.259912371635437,
          2.9081919193267822,
          -4.1546101570129395,
          3.6360087394714355,
          -6.145134449005127,
          3.6054134368896484,
          4.28013277053833,
          1.0793659687042236,
          1.931823968887329,
          4.607889652252197,
          -6.053516864776611,
          6.150629043579102,
          5.303412437438965,
          3.6665282249450684,
          5.417265892028809,
          -2.601367473602295,
          4.872111797332764,
          -2.379605770111084,
          4.027388095855713,
          -4.381031513214111,
          8.05418872833252,
          3.5130293369293213,
          -4.026089668273926,
          8.786805152893066,
          -2.0122432708740234,
          -2.2698943614959717,
          4.6290130615234375,
          -1.061073899269104,
          6.810172080993652,
          2.075057029724121,
          3.9327449798583984,
          8.883909225463867,
          -4.563575744628906,
          0.4364250898361206,
          7.665823459625244,
          4.740869045257568,
          -5.940027713775635,
          -4.411982536315918,
          -6.148092746734619,
          -6.129003047943115,
          2.0769288539886475,
          -2.037635326385498,
          6.832824230194092,
          2.258861780166626,
          2.2625861167907715,
          4.570566177368164,
          8.632743835449219,
          1.4087727069854736,
          3.828340768814087,
          6.654088973999023,
          6.462400913238525,
          3.916468858718872,
          -5.780747890472412,
          4.669825553894043,
          4.56988000869751,
          -3.301391839981079,
          -1.454941987991333,
          -1.4691760540008545,
          -2.4810118675231934,
          -1.2959433794021606,
          1.863878846168518,
          4.9881157875061035,
          2.2978270053863525
         ],
         "z": [
          -7.799584865570068,
          -10.236635208129883,
          -13.223584175109863,
          -14.151363372802734,
          -11.229171752929688,
          -13.680058479309082,
          -11.13935661315918,
          -4.805945873260498,
          -13.056623458862305,
          -7.281396865844727,
          -7.231799602508545,
          -10.399199485778809,
          -4.980222225189209,
          -15.588651657104492,
          3.1480283737182617,
          -1.7781590223312378,
          -7.62217903137207,
          -11.397748947143555,
          -1.7785389423370361,
          -6.78121280670166,
          4.576459884643555,
          -6.786341190338135,
          -9.048255920410156,
          -14.31485652923584,
          -14.513667106628418,
          2.522711753845215,
          -9.490665435791016,
          -8.995779991149902,
          1.9507967233657837,
          -13.029874801635742,
          -6.962446212768555,
          -14.15135383605957,
          -4.828248023986816,
          -14.151542663574219,
          -12.678726196289062,
          -6.413098335266113,
          -7.23184871673584,
          -12.4646635055542,
          -15.457941055297852,
          -6.780201435089111,
          -2.4253997802734375,
          -7.317797660827637,
          -10.757198333740234,
          -11.237072944641113,
          -5.225701808929443,
          -5.325047492980957,
          -5.464112281799316,
          -8.191468238830566,
          -5.651137351989746,
          -14.353120803833008,
          -14.649272918701172,
          -4.3452911376953125,
          -12.727737426757812,
          -11.170172691345215,
          -15.390483856201172,
          -1.5294910669326782,
          5.008172988891602,
          -5.192197799682617,
          -4.688582420349121,
          -13.85023021697998,
          4.534319877624512,
          -12.875185012817383,
          -8.996116638183594,
          -7.15410041809082,
          -5.55547571182251,
          3.9519951343536377,
          -14.850163459777832,
          -14.849882125854492,
          -14.180837631225586,
          -5.377368450164795,
          -15.457948684692383,
          -6.272391319274902,
          -5.004601001739502,
          -9.922552108764648,
          -4.286288738250732,
          -5.6281962394714355,
          -13.678794860839844,
          -10.944183349609375,
          -5.879624366760254,
          4.953067779541016,
          -6.377574443817139,
          6.051982879638672,
          -7.344111442565918,
          -6.715635299682617,
          -13.976017951965332,
          -10.36803150177002,
          -6.413547515869141,
          -5.473071575164795,
          -13.265115737915039,
          -11.660346031188965,
          3.786134958267212,
          -6.41312837600708,
          -7.344569683074951,
          -13.789165496826172,
          -13.030144691467285,
          4.2345099449157715,
          -12.678579330444336,
          -7.105259418487549,
          -7.139225006103516,
          -4.967005729675293,
          4.9530253410339355,
          -11.961145401000977,
          -6.457733631134033,
          4.953044414520264,
          -15.471531867980957,
          -14.850162506103516,
          2.5950851440429688,
          -7.38116455078125,
          -5.322943210601807,
          -4.083336353302002,
          -5.867307662963867,
          -7.478954792022705,
          -14.657485008239746,
          -14.634403228759766,
          4.541434288024902,
          -15.07980728149414,
          -11.632040977478027,
          -14.213815689086914,
          -10.070388793945312,
          -11.676007270812988,
          -9.15368938446045,
          4.098409175872803,
          -15.079803466796875,
          -11.589507102966309,
          -8.190187454223633,
          -7.6013593673706055,
          -13.601716041564941,
          -6.9012451171875,
          -12.183318138122559,
          4.457047462463379,
          -13.643391609191895,
          -10.254105567932129,
          -8.545331001281738,
          -8.604654312133789,
          -6.4825921058654785,
          6.050245761871338,
          -1.5295127630233765,
          -4.827542781829834,
          -5.575167655944824,
          -9.998988151550293,
          -14.850168228149414,
          -8.303513526916504,
          -15.20222282409668,
          -15.355294227600098,
          1.4190882444381714,
          -10.76940631866455,
          -12.193140029907227,
          -10.18195915222168,
          -6.38176155090332,
          -15.733052253723145,
          -9.153844833374023,
          5.480031490325928,
          -15.67361068725586,
          3.966282606124878,
          -13.33301830291748,
          -13.198576927185059,
          -7.167558670043945,
          -11.236928939819336,
          -7.2612624168396,
          -15.457929611206055,
          -4.083846092224121,
          -7.658919334411621,
          -15.29257869720459,
          -15.80432415008545,
          -11.603973388671875,
          -5.556243896484375,
          -12.75991153717041,
          -13.50257682800293,
          4.578597545623779,
          -14.180542945861816,
          4.001589775085449,
          4.151762962341309,
          3.148089647293091,
          3.257777214050293,
          -6.403799533843994,
          -8.190187454223633,
          -11.048386573791504,
          -6.106385231018066,
          2.8582849502563477,
          -11.223869323730469,
          -12.739117622375488,
          -16.22359848022461,
          -6.62971830368042,
          -14.390311241149902,
          1.438941240310669,
          -9.154623985290527,
          -14.15134048461914,
          -12.000904083251953,
          -14.913199424743652,
          -12.678638458251953,
          4.472907543182373,
          -13.053693771362305,
          -10.769416809082031,
          -15.373640060424805,
          -13.038455963134766,
          -14.243849754333496,
          3.84118914604187,
          -14.636480331420898,
          -12.280879974365234,
          -5.013365268707275,
          2.3826324939727783,
          -4.629316806793213,
          -11.632035255432129,
          -5.200265884399414,
          -10.731368064880371,
          -11.0241117477417,
          -15.804922103881836,
          -7.879402160644531,
          -15.015229225158691,
          -6.106549263000488,
          -10.882080078125,
          -3.716254234313965,
          -7.872887134552002,
          -12.05374526977539,
          -6.749755382537842,
          -6.303214073181152,
          -4.837254047393799,
          -13.312389373779297,
          -4.688293933868408,
          -11.01099967956543,
          -10.4833345413208,
          -6.6349568367004395,
          4.745065689086914,
          -9.15436840057373,
          4.585065841674805,
          4.672718048095703,
          -10.971365928649902,
          -13.922813415527344,
          -8.43990707397461,
          -12.518021583557129,
          -12.134987831115723,
          -11.46749496459961,
          -10.254019737243652,
          -14.719051361083984,
          -13.976017951965332,
          2.463038444519043,
          -5.650363922119141,
          -4.827544689178467,
          -7.254032135009766,
          -12.738970756530762,
          -4.682321071624756,
          -1.778477430343628,
          -10.618668556213379,
          4.402021408081055,
          -13.29553508758545,
          -14.042991638183594,
          -15.31806755065918,
          -10.731366157531738,
          -15.079812049865723,
          -10.793251991271973,
          -5.348241329193115,
          -14.268350601196289,
          2.7694146633148193,
          -7.871544361114502,
          -11.890495300292969,
          -6.204395294189453,
          -5.463529109954834,
          -15.986957550048828,
          -5.224054336547852,
          -10.873495101928711,
          -12.62685489654541,
          -15.660795211791992,
          -6.76146936416626,
          -13.339543342590332,
          -11.339286804199219,
          -13.353080749511719,
          -9.490260124206543,
          -15.298105239868164,
          -12.815750122070312,
          -15.804422378540039,
          -7.566744804382324,
          -6.937408924102783,
          -10.84615421295166,
          -7.421025276184082,
          -5.609735488891602,
          -12.562816619873047,
          -13.659128189086914,
          -15.24545669555664,
          -13.087116241455078,
          -3.7834486961364746,
          -4.565686225891113,
          -11.70263957977295,
          -6.106056213378906,
          -7.603052139282227,
          -12.464674949645996,
          -4.083968639373779,
          -13.498578071594238,
          -15.238868713378906,
          -9.65695571899414,
          -15.28332805633545,
          -15.58278751373291,
          -10.427824974060059,
          -4.688296794891357,
          -6.87962532043457,
          -15.418161392211914,
          -0.7851133942604065,
          -11.94721508026123,
          -1.7784289121627808,
          -5.412790298461914,
          -2.24579119682312,
          -7.307295799255371,
          -8.995959281921387,
          -10.715439796447754,
          -15.525189399719238,
          -5.876641273498535,
          -12.032994270324707,
          -4.828235626220703,
          -12.971213340759277,
          -12.825874328613281,
          -13.363996505737305,
          -14.6608304977417,
          -6.78026819229126,
          -12.961982727050781,
          1.8191566467285156
         ]
        },
        {
         "hovertemplate": "Dominant_Topic=Topic 15<br>0=%{x}<br>1=%{y}<br>2=%{z}<extra></extra>",
         "legendgroup": "Topic 15",
         "marker": {
          "color": "#B6E880",
          "opacity": 0.7,
          "symbol": "circle"
         },
         "mode": "markers",
         "name": "Topic 15",
         "scene": "scene",
         "showlegend": true,
         "type": "scatter3d",
         "x": [
          -9.263236999511719,
          -8.319063186645508,
          -9.263189315795898,
          -8.843920707702637,
          -8.37806510925293,
          -9.091913223266602
         ],
         "y": [
          2.895547866821289,
          2.7903666496276855,
          2.895556688308716,
          1.7462670803070068,
          2.6319568157196045,
          3.0191164016723633
         ],
         "z": [
          -10.90946102142334,
          -11.545866966247559,
          -10.90949535369873,
          -11.285650253295898,
          -11.495565414428711,
          -11.03685474395752
         ]
        },
        {
         "hovertemplate": "Dominant_Topic=Topic 2<br>0=%{x}<br>1=%{y}<br>2=%{z}<extra></extra>",
         "legendgroup": "Topic 2",
         "marker": {
          "color": "#FF97FF",
          "opacity": 0.7,
          "symbol": "circle"
         },
         "mode": "markers",
         "name": "Topic 2",
         "scene": "scene",
         "showlegend": true,
         "type": "scatter3d",
         "x": [
          -5.340826511383057,
          -5.34794282913208,
          -6.365880966186523,
          -5.442889213562012,
          -6.079269886016846,
          -5.341738224029541,
          -5.341679573059082,
          -6.365880489349365,
          -5.341964244842529,
          -4.692413330078125,
          -5.1461896896362305,
          -5.3416428565979
         ],
         "y": [
          -7.113246440887451,
          -7.123246669769287,
          -8.299134254455566,
          -6.811935901641846,
          -8.281713485717773,
          -7.1143412590026855,
          -7.11419677734375,
          -8.29913330078125,
          -7.114880561828613,
          -7.722354412078857,
          -8.031356811523438,
          -7.114108085632324
         ],
         "z": [
          -6.444052696228027,
          -6.448906898498535,
          -6.961379528045654,
          -7.443762302398682,
          -6.787224769592285,
          -6.444539546966553,
          -6.444466590881348,
          -6.961379528045654,
          -6.444805145263672,
          -6.938351154327393,
          -6.066751480102539,
          -6.444421768188477
         ]
        },
        {
         "hovertemplate": "Dominant_Topic=Topic 3<br>0=%{x}<br>1=%{y}<br>2=%{z}<extra></extra>",
         "legendgroup": "Topic 3",
         "marker": {
          "color": "#FECB52",
          "opacity": 0.7,
          "symbol": "circle"
         },
         "mode": "markers",
         "name": "Topic 3",
         "scene": "scene",
         "showlegend": true,
         "type": "scatter3d",
         "x": [
          14.45296859741211,
          5.534714221954346,
          14.930750846862793,
          0.11892343312501907,
          6.572254657745361,
          14.787776947021484,
          9.196722030639648,
          1.101082444190979,
          -13.125577926635742,
          5.365349292755127,
          11.413684844970703,
          10.38528060913086,
          9.293333053588867,
          13.583711624145508,
          4.666914939880371,
          9.044336318969727,
          0.08091539889574051,
          6.413757801055908,
          14.787050247192383,
          8.93522834777832,
          10.553475379943848,
          15.664434432983398,
          8.097142219543457,
          4.82771110534668,
          14.967384338378906,
          10.937321662902832,
          14.451742172241211,
          9.291509628295898,
          12.59520435333252,
          6.572376251220703,
          8.09715461730957,
          12.155681610107422,
          9.143926620483398,
          8.975144386291504,
          9.828295707702637,
          15.780531883239746,
          14.809534072875977,
          8.512280464172363,
          14.74256706237793,
          4.53909969329834,
          11.843202590942383,
          12.071964263916016,
          9.766265869140625,
          8.534876823425293,
          4.438562393188477,
          6.563456058502197,
          5.209164619445801,
          6.413754463195801,
          8.80190372467041,
          4.612914562225342,
          11.39471435546875,
          11.84325122833252,
          6.740299701690674,
          9.20531177520752,
          13.052533149719238,
          5.723459243774414,
          5.723058700561523,
          11.842350006103516,
          15.179797172546387,
          14.586650848388672,
          8.802016258239746,
          8.010251998901367,
          7.02540922164917,
          15.001038551330566,
          7.268430709838867,
          14.99780559539795,
          5.04644250869751,
          16.040889739990234,
          9.13154125213623,
          15.87597370147705,
          6.572564125061035,
          6.876103401184082,
          5.5086798667907715,
          6.571586608886719,
          12.95653247833252,
          8.316778182983398,
          8.918020248413086,
          9.803300857543945,
          8.802023887634277,
          9.202431678771973,
          15.581077575683594,
          9.468663215637207,
          11.792128562927246,
          4.438232898712158,
          16.85322380065918,
          11.395126342773438,
          9.338706016540527,
          9.386895179748535,
          8.908854484558105,
          8.882111549377441,
          2.3520736694335938,
          9.462971687316895,
          6.734447002410889,
          9.944849967956543,
          10.845863342285156,
          15.360882759094238,
          9.634932518005371,
          11.413460731506348,
          15.887765884399414,
          -10.086840629577637,
          14.520734786987305,
          4.4468865394592285,
          10.589127540588379,
          10.937259674072266,
          14.531404495239258,
          8.460673332214355,
          4.44655704498291,
          6.201779365539551,
          9.751091957092285,
          2.026276111602783,
          13.030830383300781,
          7.0241570472717285,
          8.045729637145996,
          6.748049736022949,
          -15.923919677734375,
          15.772419929504395,
          11.79175853729248,
          6.876072406768799,
          6.572113037109375,
          2.341519594192505,
          9.66598892211914,
          16.065221786499023,
          15.186162948608398,
          6.258912563323975,
          9.31392765045166,
          -9.250226974487305,
          8.962648391723633,
          2.4468135833740234,
          5.274524211883545,
          8.688493728637695,
          0.1190592423081398,
          7.409371376037598,
          10.056897163391113,
          0.22025413811206818,
          4.3346028327941895,
          8.005756378173828,
          11.413640975952148,
          4.43871545791626,
          2.090284824371338,
          13.009000778198242,
          9.715476036071777,
          5.059049129486084,
          9.5386323928833,
          0.08080906420946121,
          8.405845642089844,
          10.65849494934082,
          14.869789123535156,
          3.6000664234161377,
          13.843299865722656,
          16.321332931518555,
          6.3268280029296875,
          14.809797286987305,
          5.534714221954346,
          15.699799537658691,
          1.3840558528900146,
          9.899316787719727,
          14.930863380432129,
          8.802079200744629,
          5.416538715362549,
          9.051132202148438,
          8.856884956359863,
          15.061054229736328,
          15.00512409210205,
          9.054100036621094,
          14.997831344604492,
          15.513182640075684,
          6.674077033996582,
          9.47452449798584,
          6.571852207183838,
          11.942610740661621,
          8.635028839111328,
          0.3108966648578644,
          5.171585559844971,
          5.221776485443115,
          0.45162972807884216,
          2.2839088439941406,
          0.08091530948877335,
          5.1733903884887695,
          15.138760566711426,
          4.4386305809021,
          6.87597131729126,
          11.224390029907227,
          -10.182170867919922,
          7.282561779022217,
          6.563456058502197,
          2.5433413982391357,
          12.90433120727539,
          8.892367362976074,
          9.474447250366211,
          14.998406410217285,
          8.884359359741211,
          13.03387451171875,
          16.917646408081055,
          10.385520935058594,
          10.385322570800781,
          3.0956215858459473,
          15.414755821228027,
          9.050702095031738,
          11.843118667602539,
          9.912087440490723,
          6.740362644195557,
          4.375862121582031,
          4.502081871032715,
          15.99760913848877,
          5.53472375869751,
          14.780889511108398,
          14.787968635559082,
          0.11920417100191116,
          9.078362464904785,
          14.634276390075684,
          14.78213119506836,
          0.11905872821807861,
          11.780972480773926,
          5.430717468261719,
          14.730668067932129,
          6.637696743011475,
          1.101107120513916,
          8.802421569824219,
          9.589855194091797,
          8.802082061767578,
          7.409533977508545,
          8.801355361938477,
          4.447168350219727,
          6.562754154205322,
          3.6003217697143555,
          1.00493586063385,
          6.57176399230957,
          0.07059494405984879,
          6.828240871429443,
          9.665369033813477,
          14.7877779006958,
          14.780917167663574,
          8.928454399108887,
          -10.08687686920166,
          12.595314025878906,
          15.733602523803711,
          6.643080711364746,
          13.925909996032715,
          2.2896721363067627,
          8.801847457885742,
          10.563977241516113,
          4.6792120933532715,
          10.385149955749512,
          2.4154062271118164,
          12.750263214111328,
          6.649486541748047,
          14.780838012695312,
          15.269732475280762,
          9.543113708496094,
          10.415170669555664,
          -13.12615966796875,
          14.548253059387207,
          11.2325439453125,
          15.000875473022461,
          14.059481620788574,
          8.394550323486328,
          16.135482788085938,
          3.095263719558716,
          10.385150909423828,
          0.20040147006511688,
          15.264328002929688,
          0.20040135085582733,
          12.498854637145996,
          12.782195091247559,
          9.579421043395996,
          13.030838012695312,
          14.933812141418457,
          6.571590900421143,
          6.528692722320557,
          9.03601360321045,
          -10.086775779724121,
          10.258377075195312,
          15.654979705810547,
          16.903059005737305,
          11.78044605255127,
          16.14501190185547,
          5.526894569396973,
          10.174202919006348,
          11.780570030212402,
          -9.981268882751465
         ],
         "y": [
          -1.9305919408798218,
          -2.3578310012817383,
          -0.41836413741111755,
          2.514848470687866,
          -0.817394495010376,
          -0.11687050759792328,
          2.150017499923706,
          -0.176797017455101,
          2.170050859451294,
          -3.138634204864502,
          -3.224749803543091,
          -5.862442493438721,
          1.8133435249328613,
          -0.17117741703987122,
          4.514272689819336,
          -0.8663654923439026,
          0.21443115174770355,
          5.562956809997559,
          -0.11705829948186874,
          1.2506189346313477,
          -4.310193061828613,
          -2.910733938217163,
          4.744579315185547,
          -3.943507432937622,
          9.036906242370605,
          -4.427436351776123,
          -1.9282581806182861,
          0.7810107469558716,
          -2.977104425430298,
          -0.8174334764480591,
          4.744545936584473,
          4.414740562438965,
          1.5984441041946411,
          0.15447990596294403,
          1.014854907989502,
          9.392374038696289,
          -1.7284361124038696,
          -0.773790180683136,
          8.869268417358398,
          5.946686267852783,
          4.997610092163086,
          5.626142501831055,
          -0.4783262610435486,
          -0.06595785915851593,
          7.352771759033203,
          6.999124050140381,
          -1.4936141967773438,
          5.562968730926514,
          5.257967472076416,
          4.786207675933838,
          -5.521727085113525,
          4.997623443603516,
          2.345515012741089,
          -0.08961312472820282,
          -0.1021660566329956,
          2.6569411754608154,
          2.6570868492126465,
          5.004018783569336,
          9.315619468688965,
          -1.583459496498108,
          5.257742881774902,
          1.4304447174072266,
          3.293384313583374,
          -0.8685975074768066,
          6.5392632484436035,
          -2.7090981006622314,
          -1.8023663759231567,
          -2.56846284866333,
          1.9109653234481812,
          -2.8754043579101562,
          -0.8176072835922241,
          1.0338455438613892,
          -2.3750593662261963,
          -0.8182165622711182,
          -0.6068634390830994,
          1.718218445777893,
          -0.5472460985183716,
          0.3279655873775482,
          5.257749557495117,
          -2.9589598178863525,
          8.773367881774902,
          -1.5510655641555786,
          4.470193386077881,
          7.352756500244141,
          -3.045971632003784,
          -5.5218610763549805,
          -1.0069985389709473,
          1.354058861732483,
          0.7474803328514099,
          0.4279543161392212,
          1.895453691482544,
          -6.567004203796387,
          7.089033603668213,
          1.377001404762268,
          -2.288048505783081,
          8.61043643951416,
          -0.8046858906745911,
          -3.2247419357299805,
          -2.277536630630493,
          1.9240325689315796,
          -2.142636299133301,
          7.353560447692871,
          3.9811220169067383,
          -4.427552223205566,
          -1.7491438388824463,
          0.3627854585647583,
          7.352920055389404,
          -1.0689620971679688,
          1.8899457454681396,
          -0.8274569511413574,
          3.214529514312744,
          3.391416311264038,
          -4.568809986114502,
          7.079444408416748,
          -3.2207791805267334,
          -2.9526844024658203,
          4.469579696655273,
          1.03384268283844,
          -0.8174713253974915,
          -3.156172752380371,
          0.8930585980415344,
          -2.133498430252075,
          9.314208984375,
          -1.7540159225463867,
          0.09622182697057724,
          1.613694667816162,
          -7.332344055175781,
          -0.7905250787734985,
          1.7382005453109741,
          2.0397868156433105,
          2.5145862102508545,
          -1.8598864078521729,
          1.0314217805862427,
          0.17918020486831665,
          -1.8521429300308228,
          4.674335479736328,
          -3.2245500087738037,
          7.35276460647583,
          -0.1276605725288391,
          2.9878101348876953,
          0.6047260165214539,
          1.9271279573440552,
          0.7071032524108887,
          0.21448923647403717,
          -0.405642569065094,
          5.724433422088623,
          8.586647033691406,
          6.247121334075928,
          -2.269868850708008,
          9.631194114685059,
          5.72391939163208,
          -1.726649522781372,
          -2.3578312397003174,
          -2.475767135620117,
          -0.08127640932798386,
          1.567990779876709,
          -0.41825243830680847,
          5.257584095001221,
          0.17950493097305298,
          -3.126702308654785,
          0.722332775592804,
          -2.6621811389923096,
          9.009997367858887,
          0.5519508123397827,
          -2.709089994430542,
          8.86645221710205,
          6.780683994293213,
          -1.7998220920562744,
          -0.8187695145606995,
          0.9044862389564514,
          -7.828037261962891,
          2.019916534423828,
          -3.2656915187835693,
          5.641113758087158,
          2.943739891052246,
          6.270408630371094,
          0.21443113684654236,
          8.099323272705078,
          8.582927703857422,
          7.352787017822266,
          1.0339324474334717,
          -5.046290874481201,
          1.7857829332351685,
          -1.6521100997924805,
          6.999124050140381,
          -3.2177927494049072,
          1.8887442350387573,
          -1.0299994945526123,
          -1.7997395992279053,
          -2.708456039428711,
          0.13330858945846558,
          3.0701582431793213,
          -3.05377197265625,
          -5.862621784210205,
          -5.86249303817749,
          -0.7022192478179932,
          9.10746955871582,
          -3.201237916946411,
          4.997525215148926,
          0.36292099952697754,
          2.345621109008789,
          5.988070011138916,
          5.840746879577637,
          7.361025810241699,
          -2.3578999042510986,
          -0.11238624155521393,
          -0.11248138546943665,
          2.5147287845611572,
          0.8223593831062317,
          -2.070683479309082,
          -0.0842975378036499,
          2.5145857334136963,
          4.474243640899658,
          -1.9165774583816528,
          -1.5796622037887573,
          7.114210605621338,
          -0.17681781947612762,
          5.25732421875,
          -0.1587643176317215,
          5.257447719573975,
          -1.8598753213882446,
          5.260053634643555,
          7.353507995605469,
          6.944843292236328,
          6.247066974639893,
          2.6659696102142334,
          -0.8187364339828491,
          -0.06954045593738556,
          -1.1760656833648682,
          -0.11441541463136673,
          -0.11687084287405014,
          -0.08307204395532608,
          -0.31615617871284485,
          1.9240403175354004,
          -2.9770803451538086,
          0.15547479689121246,
          3.5784385204315186,
          10.093257904052734,
          6.270214557647705,
          5.2588210105896,
          -4.43295431137085,
          4.549116611480713,
          -5.862422943115234,
          1.790905475616455,
          -0.08944446593523026,
          6.777068138122559,
          -0.1123708039522171,
          8.598503112792969,
          1.584004282951355,
          -4.671162128448486,
          2.170067071914673,
          -2.1301236152648926,
          4.63101863861084,
          -0.8682520985603333,
          7.731115341186523,
          0.35829606652259827,
          -2.1544699668884277,
          -0.7022083401679993,
          -5.862422943115234,
          1.819470763206482,
          1.2650718688964844,
          1.8194708824157715,
          4.426753044128418,
          -0.5442579984664917,
          0.02896079607307911,
          3.2144370079040527,
          9.020702362060547,
          -0.8182190656661987,
          6.845823287963867,
          0.8721346855163574,
          1.924015998840332,
          -2.509082078933716,
          -2.7265942096710205,
          12.176112174987793,
          4.474111080169678,
          -2.3195812702178955,
          2.0779104232788086,
          3.7460155487060547,
          4.4742326736450195,
          3.8137869834899902
         ],
         "z": [
          12.184285163879395,
          12.003722190856934,
          13.665140151977539,
          8.093137741088867,
          4.233184337615967,
          7.662573337554932,
          12.038992881774902,
          11.549838066101074,
          -6.336496353149414,
          12.484888076782227,
          12.77135944366455,
          2.663954019546509,
          12.52695083618164,
          8.953999519348145,
          7.722911834716797,
          8.572168350219727,
          12.269502639770508,
          12.17073917388916,
          7.6622514724731445,
          11.211996078491211,
          10.801599502563477,
          12.752010345458984,
          5.64656925201416,
          10.910934448242188,
          1.3956772089004517,
          8.82467269897461,
          12.183256149291992,
          11.662841796875,
          12.602081298828125,
          4.233276844024658,
          5.6465678215026855,
          10.11231517791748,
          10.949642181396484,
          10.401495933532715,
          11.755145072937012,
          2.173102855682373,
          11.722136497497559,
          9.185367584228516,
          0.9410160779953003,
          6.539141654968262,
          7.559641361236572,
          7.946500301361084,
          8.80968952178955,
          8.756747245788574,
          9.043087005615234,
          10.063802719116211,
          7.915337562561035,
          12.170747756958008,
          4.298279285430908,
          7.471404075622559,
          3.770965099334717,
          7.559670448303223,
          7.986949443817139,
          10.397665023803711,
          9.299412727355957,
          7.935563087463379,
          7.935318946838379,
          7.527084827423096,
          0.9011552929878235,
          11.90555191040039,
          4.2984819412231445,
          12.722143173217773,
          4.7986531257629395,
          8.793821334838867,
          8.312655448913574,
          8.435439109802246,
          8.246243476867676,
          12.182571411132812,
          11.528481483459473,
          12.325828552246094,
          4.237710952758789,
          10.564166069030762,
          12.014378547668457,
          4.23207426071167,
          6.684463977813721,
          12.692895889282227,
          8.427702903747559,
          9.850139617919922,
          4.2984442710876465,
          1.7725005149841309,
          1.069669246673584,
          13.78305721282959,
          9.200130462646484,
          9.042826652526855,
          13.490276336669922,
          3.771442174911499,
          9.212848663330078,
          12.318592071533203,
          2.743885040283203,
          10.206042289733887,
          8.722479820251465,
          4.410982608795166,
          9.845871925354004,
          10.940140724182129,
          1.172284483909607,
          1.317797064781189,
          9.004168510437012,
          12.77141284942627,
          12.972702980041504,
          9.895809173583984,
          11.848798751831055,
          9.04037094116211,
          9.132801055908203,
          8.824474334716797,
          12.202971458435059,
          4.116148948669434,
          9.040044784545898,
          6.049323558807373,
          11.59142780303955,
          9.631668090820312,
          7.546299934387207,
          4.429259300231934,
          7.650175094604492,
          9.862377166748047,
          0.7529606223106384,
          12.476454734802246,
          9.200325012207031,
          10.564310073852539,
          4.2328782081604,
          7.2989702224731445,
          10.172354698181152,
          12.732502937316895,
          1.1202402114868164,
          11.707658767700195,
          8.557710647583008,
          10.068826675415039,
          4.605777263641357,
          9.65394401550293,
          8.041265487670898,
          12.484742164611816,
          8.093087196350098,
          13.0908784866333,
          11.14583969116211,
          12.271162986755371,
          8.826438903808594,
          3.3344337940216064,
          12.771236419677734,
          9.043156623840332,
          9.134452819824219,
          8.829401969909668,
          11.249650001525879,
          7.9454474449157715,
          9.741459846496582,
          12.269736289978027,
          8.973860740661621,
          9.308223724365234,
          0.977495014667511,
          11.119153022766113,
          2.472818613052368,
          1.4390170574188232,
          11.748302459716797,
          11.723472595214844,
          12.00372314453125,
          13.025479316711426,
          11.68177318572998,
          11.867602348327637,
          13.665180206298828,
          4.298534393310547,
          4.832393169403076,
          2.1688716411590576,
          2.858994960784912,
          8.736771583557129,
          0.6567662358283997,
          9.691879272460938,
          8.435456275939941,
          0.7732749581336975,
          9.907458305358887,
          13.712579727172852,
          4.233387470245361,
          5.012681007385254,
          4.684504508972168,
          12.134096145629883,
          4.284457206726074,
          11.686169624328613,
          6.534851551055908,
          8.684866905212402,
          12.269503593444824,
          9.538403511047363,
          0.7675138115882874,
          9.043122291564941,
          10.564431190490723,
          3.7880194187164307,
          10.612370491027832,
          4.321122169494629,
          10.063802719116211,
          7.337838649749756,
          2.631601333618164,
          9.3028564453125,
          13.712801933288574,
          8.437551498413086,
          8.572168350219727,
          8.351373672485352,
          12.313427925109863,
          2.663332223892212,
          2.663790702819824,
          10.202466011047363,
          0.7375525236129761,
          2.472426652908325,
          7.55961275100708,
          10.269579887390137,
          7.986949443817139,
          11.328985214233398,
          6.744492053985596,
          0.526650071144104,
          12.003714561462402,
          7.658272743225098,
          7.652559280395508,
          8.093124389648438,
          10.031228065490723,
          11.707681655883789,
          7.595333099365234,
          8.093087196350098,
          9.19019889831543,
          8.341649055480957,
          12.012264251708984,
          9.990346908569336,
          11.549764633178711,
          4.298725128173828,
          8.55984115600586,
          4.29850435256958,
          13.091035842895508,
          4.298081874847412,
          9.04041862487793,
          9.74389934539795,
          11.119194984436035,
          6.9440226554870605,
          4.233254909515381,
          13.078215599060059,
          11.345074653625488,
          10.076909065246582,
          7.662573337554932,
          7.596040725708008,
          9.617949485778809,
          9.895751953125,
          12.60209846496582,
          8.99119758605957,
          3.0758912563323975,
          1.115414023399353,
          8.686596870422363,
          4.298351287841797,
          11.164847373962402,
          7.801758766174316,
          2.6640419960021973,
          8.758216857910156,
          9.537755012512207,
          9.906494140625,
          7.658322334289551,
          1.347506046295166,
          10.796954154968262,
          11.178382873535156,
          -6.336497783660889,
          11.801609992980957,
          5.1264824867248535,
          8.793331146240234,
          2.1219568252563477,
          3.7873849868774414,
          12.555009841918945,
          10.2023344039917,
          2.664041519165039,
          12.277353286743164,
          7.501895427703857,
          12.277353286743164,
          6.936274528503418,
          6.401488304138184,
          10.533306121826172,
          7.5464768409729,
          1.3841145038604736,
          4.232093334197998,
          9.801491737365723,
          11.395191192626953,
          9.895895957946777,
          13.371870994567871,
          12.952116966247559,
          24.049110412597656,
          9.190062522888184,
          12.299968719482422,
          8.052391052246094,
          9.33809757232666,
          9.190027236938477,
          9.366442680358887
         ]
        },
        {
         "hovertemplate": "Dominant_Topic=Topic 4<br>0=%{x}<br>1=%{y}<br>2=%{z}<extra></extra>",
         "legendgroup": "Topic 4",
         "marker": {
          "color": "#636efa",
          "opacity": 0.7,
          "symbol": "circle"
         },
         "mode": "markers",
         "name": "Topic 4",
         "scene": "scene",
         "showlegend": true,
         "type": "scatter3d",
         "x": [
          -8.053437232971191,
          -9.838665962219238,
          -6.921438217163086,
          -8.168292999267578,
          -9.901961326599121,
          -9.586856842041016,
          -8.317386627197266,
          -8.521203994750977,
          -7.935405731201172,
          -7.879983425140381,
          -8.546070098876953,
          -4.643540859222412,
          -9.143747329711914,
          -7.93508243560791,
          -7.1850996017456055,
          -9.757306098937988,
          -7.611366271972656,
          -7.193066596984863,
          4.970843315124512,
          -7.5416483879089355,
          -7.926539421081543,
          -9.513324737548828,
          -7.785843849182129,
          -8.903928756713867,
          -8.034178733825684,
          -7.103434085845947,
          -2.414440393447876,
          -10.19389533996582,
          -7.482516765594482,
          -8.614278793334961,
          -8.555193901062012,
          -7.165295600891113,
          -6.141229152679443,
          -2.4145166873931885,
          -2.414306402206421,
          -7.230832576751709,
          -9.513556480407715,
          -7.185069561004639,
          -9.586718559265137,
          -9.375354766845703,
          -7.231197357177734,
          -7.986058235168457,
          -8.598799705505371,
          -2.4138779640197754,
          -9.838871955871582,
          -9.870306015014648,
          -9.513890266418457,
          -2.4144675731658936,
          -6.788475036621094,
          -4.643540859222412,
          -9.838817596435547,
          -7.172809600830078,
          -7.2962212562561035,
          -7.427836894989014,
          -7.567277908325195,
          -8.288019180297852,
          -6.920833587646484,
          -7.536809921264648,
          -9.87039566040039,
          6.646024227142334,
          8.706711769104004,
          -9.375353813171387,
          -6.77791690826416,
          -5.242625713348389,
          -9.9575834274292,
          -9.3754301071167,
          -6.921422958374023,
          -2.41449236869812,
          -8.892732620239258,
          -7.185111045837402,
          -9.136380195617676,
          -8.9713134765625,
          -9.375359535217285,
          -6.913527965545654,
          -6.661577224731445,
          -5.242629528045654
         ],
         "y": [
          8.378763198852539,
          12.247980117797852,
          5.620153427124023,
          8.680228233337402,
          7.545177459716797,
          12.146538734436035,
          9.732353210449219,
          9.876057624816895,
          12.239436149597168,
          8.750090599060059,
          9.6376953125,
          7.706373691558838,
          9.52673053741455,
          12.239184379577637,
          6.209389686584473,
          14.0177583694458,
          10.02017593383789,
          8.785794258117676,
          -3.751093864440918,
          10.1124849319458,
          8.979269027709961,
          12.223987579345703,
          9.510729789733887,
          8.516979217529297,
          9.374687194824219,
          9.165192604064941,
          10.325455665588379,
          12.390453338623047,
          10.545134544372559,
          9.118982315063477,
          8.478863716125488,
          9.262205123901367,
          9.42418098449707,
          10.325547218322754,
          10.32544231414795,
          11.823906898498535,
          12.22894287109375,
          6.209428310394287,
          12.147602081298828,
          13.28188705444336,
          11.824143409729004,
          9.5684232711792,
          9.071588516235352,
          10.32571792602539,
          12.248501777648926,
          13.289863586425781,
          12.228232383728027,
          10.32542610168457,
          9.799041748046875,
          7.706374168395996,
          12.24850082397461,
          5.988855838775635,
          9.505952835083008,
          8.707788467407227,
          9.487370491027832,
          8.534793853759766,
          5.619866371154785,
          8.599007606506348,
          13.2899751663208,
          3.961780548095703,
          6.192051410675049,
          13.281886100769043,
          9.378023147583008,
          6.343926906585693,
          7.36043643951416,
          13.281885147094727,
          5.620340347290039,
          10.325506210327148,
          9.900323867797852,
          6.209487438201904,
          8.967130661010742,
          9.247529983520508,
          13.281889915466309,
          10.332609176635742,
          10.150384902954102,
          6.343885898590088
         ],
         "z": [
          -5.299933910369873,
          -7.001142978668213,
          -3.204509973526001,
          -4.546727180480957,
          -4.1917524337768555,
          -7.178430080413818,
          -5.601542949676514,
          -5.215707778930664,
          -7.503726959228516,
          -5.834650993347168,
          -4.740902900695801,
          -4.039677143096924,
          -5.191115379333496,
          -7.503440856933594,
          -7.045618534088135,
          -6.206976890563965,
          -4.197778224945068,
          -4.973790645599365,
          -13.48156452178955,
          -5.061564922332764,
          -4.262807369232178,
          -6.880317211151123,
          -5.037999153137207,
          -5.346980571746826,
          -5.897401332855225,
          -4.294757843017578,
          -6.042531490325928,
          -8.055353164672852,
          -4.480320930480957,
          -4.538693428039551,
          -5.805373668670654,
          -5.395263671875,
          -7.4923996925354,
          -6.042509078979492,
          -6.042540550231934,
          -7.527253150939941,
          -6.880008697509766,
          -7.0456318855285645,
          -7.179115295410156,
          -7.403504371643066,
          -7.527246952056885,
          -4.340237140655518,
          -6.086322784423828,
          -6.042323589324951,
          -7.0014824867248535,
          -6.0133771896362305,
          -6.879786491394043,
          -6.042539119720459,
          -5.065493106842041,
          -4.039677143096924,
          -7.001495361328125,
          -3.630861520767212,
          -4.0430827140808105,
          -5.3617377281188965,
          -5.656345367431641,
          -4.915756702423096,
          -3.204787492752075,
          -4.641005039215088,
          -6.013665676116943,
          2.8436851501464844,
          3.6481661796569824,
          -7.403503894805908,
          -4.673709869384766,
          -3.2795002460479736,
          -3.932584047317505,
          -7.40354061126709,
          -3.2047932147979736,
          -6.042519569396973,
          -3.160947561264038,
          -7.045650482177734,
          -4.995560169219971,
          -5.741987228393555,
          -7.403506278991699,
          -4.863797664642334,
          -4.09077262878418,
          -3.2795138359069824
         ]
        },
        {
         "hovertemplate": "Dominant_Topic=Topic 5<br>0=%{x}<br>1=%{y}<br>2=%{z}<extra></extra>",
         "legendgroup": "Topic 5",
         "marker": {
          "color": "#EF553B",
          "opacity": 0.7,
          "symbol": "circle"
         },
         "mode": "markers",
         "name": "Topic 5",
         "scene": "scene",
         "showlegend": true,
         "type": "scatter3d",
         "x": [
          4.302515029907227,
          1.1602363586425781,
          0.08764590322971344,
          5.069799900054932,
          5.3042192459106445,
          5.320534706115723,
          2.9423575401306152,
          4.595839977264404,
          7.164999961853027,
          4.053620338439941,
          5.262650012969971,
          3.639028310775757,
          5.320323944091797,
          5.259288787841797,
          1.4434998035430908,
          2.719212532043457,
          6.656166076660156,
          3.743023633956909,
          2.7482519149780273,
          4.147683620452881,
          5.913980007171631,
          3.7257590293884277,
          2.232776165008545,
          7.847064018249512,
          2.232779026031494,
          5.866914749145508,
          4.9905877113342285,
          4.13187313079834,
          5.007387638092041,
          4.952544212341309,
          3.748471260070801,
          4.595839500427246,
          6.645117282867432,
          5.082530975341797,
          5.433466911315918,
          5.658374309539795,
          0.023533761501312256,
          7.1650214195251465,
          3.8928396701812744,
          4.1031999588012695,
          3.8246192932128906,
          5.658374309539795,
          5.320054531097412,
          4.827362060546875,
          5.320501327514648,
          2.9423580169677734,
          5.320598602294922,
          7.1650004386901855,
          0.022834839299321175,
          0.02227316051721573,
          4.595747470855713,
          4.302514553070068,
          7.164247512817383,
          5.3193182945251465,
          5.320430755615234,
          5.963330268859863,
          5.4364728927612305,
          2.2327828407287598,
          4.217636585235596
         ],
         "y": [
          -2.4071898460388184,
          -0.11521938443183899,
          -0.7563716173171997,
          0.17254039645195007,
          0.5305984020233154,
          3.8449478149414062,
          -2.2271182537078857,
          -1.5313271284103394,
          -3.228756904602051,
          -0.3456050455570221,
          2.781621217727661,
          -0.14999164640903473,
          3.8467864990234375,
          0.1052216961979866,
          0.12515391409397125,
          1.160286545753479,
          -2.163468360900879,
          -0.16004358232021332,
          1.4955110549926758,
          0.09048674255609512,
          2.598046064376831,
          -0.13220830261707306,
          9.621842384338379,
          1.1114485263824463,
          9.621847152709961,
          2.4225242137908936,
          0.5715447068214417,
          0.1284838318824768,
          0.5931596755981445,
          -0.7500603795051575,
          -0.10270434617996216,
          -1.531327486038208,
          -2.01615571975708,
          0.16232271492481232,
          0.2986741364002228,
          0.928052544593811,
          -1.0777934789657593,
          -3.22886323928833,
          0.2403835505247116,
          -0.3221929371356964,
          0.19107668101787567,
          0.9280524849891663,
          3.8469138145446777,
          0.5952450633049011,
          3.845372200012207,
          -2.2271006107330322,
          3.844496488571167,
          -3.228771686553955,
          -1.076829195022583,
          -1.0768474340438843,
          -1.5315576791763306,
          -2.4071898460388184,
          -3.2291338443756104,
          3.8439488410949707,
          3.8464512825012207,
          1.447666883468628,
          0.24646639823913574,
          9.621814727783203,
          -0.18753445148468018
         ],
         "z": [
          -0.26964056491851807,
          1.2558643817901611,
          -2.7964956760406494,
          -1.6550246477127075,
          -1.2892786264419556,
          1.2662508487701416,
          -0.5843531489372253,
          2.302618980407715,
          -2.2888071537017822,
          0.1039377972483635,
          0.7600837349891663,
          0.102532759308815,
          1.2684991359710693,
          -1.6025692224502563,
          1.187707543373108,
          -0.8147748708724976,
          -1.9875233173370361,
          0.4178144931793213,
          0.5079008340835571,
          0.35279396176338196,
          2.192188024520874,
          -0.06346336752176285,
          -2.1204216480255127,
          -3.9771573543548584,
          -2.120431423187256,
          2.180514335632324,
          -1.4955424070358276,
          0.33448272943496704,
          -1.4813944101333618,
          2.2378506660461426,
          -0.08838522434234619,
          2.302618980407715,
          -1.7639185190200806,
          -1.6544039249420166,
          -1.3442567586898804,
          -1.9897565841674805,
          -2.6343882083892822,
          -2.2887749671936035,
          0.11362891644239426,
          0.1485467553138733,
          0.28918731212615967,
          -1.989756464958191,
          1.268367052078247,
          -2.4807815551757812,
          1.2665953636169434,
          -0.5843527317047119,
          1.2658685445785522,
          -2.288808584213257,
          -2.634758472442627,
          -2.635038375854492,
          2.302769422531128,
          -0.26964056491851807,
          -2.2890048027038574,
          1.2653632164001465,
          1.2676323652267456,
          -2.1219518184661865,
          -1.3844228982925415,
          -2.120401382446289,
          0.26773789525032043
         ]
        },
        {
         "hovertemplate": "Dominant_Topic=Topic 6<br>0=%{x}<br>1=%{y}<br>2=%{z}<extra></extra>",
         "legendgroup": "Topic 6",
         "marker": {
          "color": "#00cc96",
          "opacity": 0.7,
          "symbol": "circle"
         },
         "mode": "markers",
         "name": "Topic 6",
         "scene": "scene",
         "showlegend": true,
         "type": "scatter3d",
         "x": [
          -15.782256126403809,
          -13.369915008544922,
          -9.232619285583496,
          -12.84742546081543,
          -6.698193073272705,
          -10.01948070526123,
          -12.203495025634766,
          -17.118642807006836,
          -12.431183815002441,
          -14.594918251037598,
          -16.152015686035156,
          -12.074219703674316,
          -12.412006378173828,
          -17.335704803466797,
          -14.29939079284668,
          -15.658367156982422,
          -16.592084884643555,
          -12.778545379638672,
          -11.496220588684082,
          -15.512052536010742,
          -14.299391746520996,
          -12.075279235839844,
          -12.203605651855469,
          -15.873761177062988,
          -11.319862365722656,
          -12.274191856384277,
          -14.300759315490723,
          -15.601463317871094,
          -11.048808097839355,
          -12.203583717346191,
          -4.994136333465576,
          -6.121627330780029,
          -6.698192119598389,
          -15.744179725646973,
          -8.99233627319336,
          -9.197551727294922,
          -8.81899356842041,
          -5.145234107971191,
          -12.513959884643555,
          -15.663822174072266,
          -11.160712242126465,
          -13.466800689697266,
          -17.34787940979004,
          -5.145234107971191,
          -5.0846052169799805,
          -11.56879997253418,
          -11.160712242126465,
          -8.90455150604248,
          -14.206463813781738,
          -10.146086692810059,
          -12.105897903442383,
          -12.20889949798584,
          -15.132755279541016,
          -16.154512405395508,
          -15.212881088256836,
          -15.010305404663086,
          -13.503739356994629,
          -12.403016090393066,
          -12.737046241760254,
          -10.698662757873535,
          -10.835046768188477,
          -16.11452865600586,
          -10.909002304077148,
          -12.524585723876953,
          -10.363961219787598,
          -15.671684265136719,
          -17.76822853088379,
          -9.24800968170166,
          -17.118505477905273,
          -13.009346008300781,
          -11.91091537475586,
          -15.744179725646973,
          -8.17544174194336,
          -8.904746055603027,
          -11.442946434020996,
          -15.744178771972656,
          -16.154518127441406,
          -15.151453971862793,
          -17.26795768737793,
          -11.568833351135254,
          -15.017545700073242,
          -12.531197547912598,
          -8.88940715789795,
          -8.540054321289062,
          -10.255199432373047,
          -11.185075759887695,
          -9.656268119812012,
          -9.510814666748047,
          -11.687203407287598,
          -10.255199432373047,
          -12.879971504211426,
          -8.94020938873291,
          -10.61154556274414,
          -10.721302032470703,
          -8.664432525634766,
          -8.767102241516113,
          -9.362204551696777,
          -9.085803031921387,
          -9.43786907196045,
          -16.114360809326172,
          -12.467143058776855,
          -12.386210441589355,
          -12.154638290405273,
          -14.352032661437988,
          -13.46679973602295,
          -10.807049751281738,
          -10.01948070526123,
          -11.97512435913086,
          -15.642491340637207,
          -12.570759773254395,
          -13.470491409301758,
          -17.260705947875977,
          -15.663945198059082,
          -17.365873336791992,
          -12.154600143432617,
          -14.300759315490723,
          -12.035896301269531,
          -15.543875694274902,
          -17.118505477905273,
          -15.284699440002441,
          -17.36713218688965,
          -15.132620811462402,
          -15.685442924499512,
          -13.406208038330078,
          -10.835197448730469,
          -15.010204315185547,
          -17.248289108276367,
          -14.299581527709961,
          -12.207915306091309,
          -10.477611541748047,
          -11.048312187194824,
          -14.206477165222168,
          -17.032472610473633,
          -13.369802474975586,
          -11.800565719604492,
          -16.152013778686523,
          -17.118682861328125,
          -12.382918357849121,
          -11.85464096069336,
          -17.267784118652344,
          -11.64255142211914,
          -1.1787519454956055,
          -11.902709007263184,
          -11.611857414245605,
          -11.593023300170898,
          -0.8913896083831787,
          -12.203603744506836,
          -15.548587799072266,
          -11.42269229888916,
          -13.052952766418457,
          -12.524518966674805,
          -11.902706146240234,
          -12.997756004333496,
          -12.467108726501465,
          -11.048340797424316,
          -11.915716171264648,
          -5.097497463226318,
          -11.42620849609375,
          -13.62142562866211,
          -16.04351806640625,
          -12.010904312133789,
          -17.26873016357422,
          -8.597537994384766,
          -17.783140182495117,
          -9.954326629638672,
          -17.949792861938477,
          -11.410245895385742,
          -11.153739929199219,
          -1.4946606159210205,
          -8.440924644470215,
          -13.369826316833496,
          -13.925886154174805,
          -11.6123628616333,
          -11.606195449829102,
          -8.856191635131836,
          -8.0069580078125,
          -9.594847679138184,
          -12.182563781738281,
          -11.141603469848633,
          -11.806130409240723,
          -0.1754099726676941,
          -15.744293212890625,
          -15.642486572265625,
          -11.048877716064453,
          -12.88771915435791,
          -12.853696823120117,
          -17.76822280883789,
          -14.464274406433105,
          -17.268142700195312,
          -11.316848754882812,
          -10.450223922729492,
          -14.464216232299805,
          -8.787259101867676,
          -7.461120128631592,
          -8.006957054138184,
          -15.555875778198242,
          -10.915155410766602,
          -13.627466201782227,
          -0.3045855462551117,
          -11.379899978637695,
          -12.049842834472656,
          -8.56490421295166,
          -14.115083694458008,
          -11.568702697753906,
          -17.11861801147461,
          -12.446394920349121,
          -3.0909006595611572,
          -6.1216278076171875,
          -8.588027000427246,
          -15.780664443969727,
          -4.994128704071045,
          -8.53530502319336,
          -7.4948811531066895,
          -13.564064025878906,
          -15.663826942443848,
          -7.73103141784668,
          -7.132038116455078,
          -11.048809051513672,
          -8.819300651550293,
          -11.593070030212402
         ],
         "y": [
          4.2697038650512695,
          -2.7445127964019775,
          6.6758198738098145,
          -0.20529545843601227,
          -0.7203027009963989,
          -5.584353446960449,
          1.6484535932540894,
          -0.17156319320201874,
          0.19110696017742157,
          3.9832541942596436,
          3.503082752227783,
          0.26398104429244995,
          0.4097151458263397,
          -0.9094660878181458,
          3.064439296722412,
          0.711322546005249,
          -1.419795274734497,
          5.091714859008789,
          6.078736305236816,
          -2.468458652496338,
          3.064441204071045,
          0.34099623560905457,
          1.6484519243240356,
          -4.468062877655029,
          5.860817909240723,
          -0.7265853881835938,
          3.065584182739258,
          1.300479769706726,
          6.258755683898926,
          1.6484956741333008,
          3.5131795406341553,
          4.041377067565918,
          -0.7203012108802795,
          1.972808837890625,
          7.504791259765625,
          7.57671594619751,
          6.446237564086914,
          3.053030014038086,
          -0.4245452582836151,
          -4.459892272949219,
          -0.00973556749522686,
          0.6968615651130676,
          1.9770280122756958,
          3.053030014038086,
          3.461452007293701,
          -2.4824581146240234,
          -0.0097356541082263,
          2.2194879055023193,
          2.8723695278167725,
          6.073583126068115,
          -0.156068816781044,
          2.2604146003723145,
          5.462649822235107,
          -0.9197705388069153,
          4.184906482696533,
          1.1240832805633545,
          1.777291178703308,
          5.083695888519287,
          0.5636472105979919,
          -1.4213570356369019,
          1.7912405729293823,
          0.927156925201416,
          6.092253684997559,
          -6.680197238922119,
          3.0074384212493896,
          4.5266804695129395,
          -1.985264778137207,
          6.430445194244385,
          -0.1713409721851349,
          0.1784922033548355,
          0.004069669172167778,
          1.972808837890625,
          7.142036437988281,
          2.2193360328674316,
          -5.2370758056640625,
          1.972809076309204,
          -0.9197948575019836,
          -4.227649688720703,
          -2.325770139694214,
          -2.482473373413086,
          0.8555765151977539,
          2.5277202129364014,
          6.705082416534424,
          6.818681716918945,
          8.548293113708496,
          -0.14688809216022491,
          7.116337776184082,
          6.9165239334106445,
          -0.616171658039093,
          8.548293113708496,
          -0.3417653441429138,
          7.276772499084473,
          8.272749900817871,
          -1.3627636432647705,
          7.370225429534912,
          2.2580063343048096,
          6.542446136474609,
          7.1429901123046875,
          7.062437057495117,
          0.9273165464401245,
          -7.165643692016602,
          -0.5157323479652405,
          1.7254960536956787,
          3.9071011543273926,
          0.6968615651130676,
          -1.344947099685669,
          -5.584353446960449,
          2.298119306564331,
          -2.6600136756896973,
          1.0574802160263062,
          3.846097707748413,
          0.716846764087677,
          -4.459889888763428,
          -1.3958556652069092,
          1.7253187894821167,
          3.065584182739258,
          1.2736083269119263,
          -4.544567108154297,
          -0.17134112119674683,
          5.613079071044922,
          -1.3958889245986938,
          5.462710857391357,
          -0.26633116602897644,
          -2.8668363094329834,
          1.7912795543670654,
          1.1240251064300537,
          0.6582706570625305,
          3.0645482540130615,
          2.25994873046875,
          1.6989127397537231,
          6.258806228637695,
          2.8723692893981934,
          -1.4893839359283447,
          -2.7445149421691895,
          1.0596261024475098,
          3.503082752227783,
          -0.17157506942749023,
          1.0206491947174072,
          -0.530581533908844,
          -2.325791835784912,
          -4.603679180145264,
          -0.3855368494987488,
          -1.8316655158996582,
          0.9694445729255676,
          6.061264514923096,
          -0.17158450186252594,
          1.648477554321289,
          -2.4067680835723877,
          6.6898512840271,
          -2.1937336921691895,
          -6.680356979370117,
          -1.8316653966903687,
          4.583724021911621,
          -7.165752410888672,
          6.258997440338135,
          0.5345687866210938,
          0.45270249247550964,
          2.0028369426727295,
          2.6018335819244385,
          4.484844207763672,
          -1.9232083559036255,
          -2.325777769088745,
          7.6652607917785645,
          0.6074069142341614,
          5.92363977432251,
          -1.7470698356628418,
          1.0296790599822998,
          0.5624962449073792,
          -0.4489692449569702,
          7.926395893096924,
          -2.744501829147339,
          3.5612564086914062,
          -0.28573498129844666,
          1.4772664308547974,
          7.7171759605407715,
          2.520886182785034,
          7.290839672088623,
          0.8444594144821167,
          0.2927732765674591,
          -3.129855155944824,
          15.914782524108887,
          1.9727091789245605,
          -2.6599345207214355,
          6.258764266967773,
          0.29783201217651367,
          0.7496483325958252,
          -1.9852583408355713,
          3.313326597213745,
          -2.325709104537964,
          -0.27882322669029236,
          8.690187454223633,
          3.3132054805755615,
          7.670975208282471,
          6.478663444519043,
          2.520886182785034,
          5.422313690185547,
          6.0894269943237305,
          2.6060707569122314,
          16.16472816467285,
          0.3319895565509796,
          0.22884385287761688,
          7.6571831703186035,
          2.9865713119506836,
          0.45404842495918274,
          -0.1716635376214981,
          5.059023857116699,
          3.777895450592041,
          4.041374206542969,
          7.231539249420166,
          4.2688140869140625,
          3.5131452083587646,
          1.1942938566207886,
          -1.141477108001709,
          1.7456603050231934,
          -4.4595746994018555,
          -1.566589593887329,
          -0.6076868176460266,
          6.258750915527344,
          6.785031318664551,
          6.061211109161377
         ],
         "z": [
          7.304173946380615,
          0.955663800239563,
          7.179436683654785,
          5.420188903808594,
          6.304166316986084,
          6.906660079956055,
          0.2913481593132019,
          4.321453094482422,
          4.012018203735352,
          8.036482810974121,
          7.435663223266602,
          8.423154830932617,
          5.819814682006836,
          5.967861652374268,
          6.6914215087890625,
          2.976691484451294,
          7.538850784301758,
          -0.38894587755203247,
          0.9627922177314758,
          0.5445713400840759,
          6.6914215087890625,
          8.506117820739746,
          0.29138684272766113,
          5.6108245849609375,
          7.120620250701904,
          4.894835472106934,
          6.691935062408447,
          7.568305969238281,
          -0.06568603217601776,
          0.29143404960632324,
          5.759914875030518,
          3.4173452854156494,
          6.304166316986084,
          7.20348596572876,
          7.967837333679199,
          7.547189712524414,
          7.682862281799316,
          3.8544862270355225,
          4.289813995361328,
          5.017096996307373,
          1.1405603885650635,
          1.7049646377563477,
          4.771759510040283,
          3.854494571685791,
          5.794250011444092,
          6.411346435546875,
          1.1405603885650635,
          3.4510955810546875,
          0.5144006609916687,
          -2.34594988822937,
          5.8179121017456055,
          8.675124168395996,
          -0.7955363392829895,
          7.761606216430664,
          6.434081554412842,
          3.7960824966430664,
          -0.9908686280250549,
          6.9116339683532715,
          4.353065013885498,
          1.5523681640625,
          7.526361465454102,
          5.425654888153076,
          7.2178850173950195,
          7.05427360534668,
          9.422197341918945,
          7.2902913093566895,
          5.339163780212402,
          7.562643051147461,
          4.321249485015869,
          4.649881362915039,
          4.005652904510498,
          7.20348596572876,
          0.475697785615921,
          3.4511051177978516,
          3.644519329071045,
          7.20348596572876,
          7.7613139152526855,
          4.452916145324707,
          3.795670986175537,
          6.411333084106445,
          2.7692811489105225,
          2.5277318954467773,
          8.203720092773438,
          7.8083367347717285,
          8.960083961486816,
          5.13206148147583,
          7.824422836303711,
          8.125401496887207,
          5.030069828033447,
          8.960083961486816,
          4.738449573516846,
          7.141044616699219,
          5.602161884307861,
          1.8292715549468994,
          7.446455478668213,
          3.387749433517456,
          7.997986793518066,
          8.279387474060059,
          7.18015718460083,
          5.425806999206543,
          7.071954727172852,
          5.412330627441406,
          1.5954339504241943,
          8.161208152770996,
          1.7049643993377686,
          1.7314345836639404,
          6.906660079956055,
          1.8686226606369019,
          1.0180598497390747,
          4.670479774475098,
          -0.013383373618125916,
          4.731785774230957,
          5.017083644866943,
          6.1189141273498535,
          1.595279574394226,
          6.691934585571289,
          4.812877178192139,
          4.824573993682861,
          4.32125186920166,
          -1.0522489547729492,
          6.120553016662598,
          -0.7956284284591675,
          7.84782600402832,
          0.5148842334747314,
          7.526273727416992,
          3.795940637588501,
          4.700186252593994,
          6.691490650177002,
          8.675613403320312,
          8.583353042602539,
          -0.06549850106239319,
          0.5144126415252686,
          6.86303186416626,
          0.955666720867157,
          5.432103633880615,
          7.435663223266602,
          4.3214240074157715,
          5.403143405914307,
          4.344548225402832,
          3.7956557273864746,
          2.6070351600646973,
          0.7778468132019043,
          -0.8992820978164673,
          4.388445854187012,
          1.1751539707183838,
          12.601394653320312,
          0.2915259003639221,
          1.529487133026123,
          0.39391958713531494,
          1.7510055303573608,
          7.054296016693115,
          -0.8992950320243835,
          -0.2107347846031189,
          7.071922779083252,
          -0.06553368270397186,
          5.800156116485596,
          1.9006414413452148,
          9.055082321166992,
          6.697734355926514,
          7.395576477050781,
          1.5422292947769165,
          3.7960307598114014,
          1.8292406797409058,
          3.726987361907959,
          -2.3791000843048096,
          4.026302337646484,
          4.973404407501221,
          5.124476432800293,
          0.49693188071250916,
          0.4686572849750519,
          0.9556350111961365,
          5.9156060218811035,
          5.589115142822266,
          9.123031616210938,
          2.4900994300842285,
          3.0350773334503174,
          7.538433074951172,
          4.160435676574707,
          4.522151947021484,
          6.173925399780273,
          -4.43893575668335,
          7.203501224517822,
          1.0182442665100098,
          -0.06563146412372589,
          5.434812068939209,
          5.130373954772949,
          5.33917236328125,
          2.7668166160583496,
          3.796051025390625,
          4.501315593719482,
          5.666815757751465,
          2.766864061355591,
          0.39691221714019775,
          6.900334358215332,
          3.035076379776001,
          -0.45610401034355164,
          7.217604160308838,
          6.697189807891846,
          -4.270599365234375,
          5.646549224853516,
          4.912989616394043,
          0.5274553298950195,
          2.9359004497528076,
          4.134603977203369,
          4.3214030265808105,
          6.906120777130127,
          5.716813564300537,
          3.4173450469970703,
          7.919888973236084,
          7.303595542907715,
          5.759930610656738,
          -13.360244750976562,
          5.98138427734375,
          -1.165706753730774,
          5.017171859741211,
          5.77931022644043,
          6.245833873748779,
          -0.06568218022584915,
          7.179898262023926,
          1.1753267049789429
         ]
        },
        {
         "hovertemplate": "Dominant_Topic=Topic 7<br>0=%{x}<br>1=%{y}<br>2=%{z}<extra></extra>",
         "legendgroup": "Topic 7",
         "marker": {
          "color": "#ab63fa",
          "opacity": 0.7,
          "symbol": "circle"
         },
         "mode": "markers",
         "name": "Topic 7",
         "scene": "scene",
         "showlegend": true,
         "type": "scatter3d",
         "x": [
          12.230840682983398,
          3.450578212738037,
          1.7722660303115845,
          0.1964218020439148,
          2.1421561241149902,
          1.1203802824020386,
          2.689525842666626,
          1.03677237033844,
          0.3937170207500458,
          2.8524394035339355,
          0.45944806933403015,
          2.2416179180145264,
          3.4844436645507812,
          3.120257616043091,
          1.1180464029312134,
          1.044116497039795,
          3.1494319438934326,
          2.079617977142334,
          3.18501353263855,
          2.267467737197876,
          1.696306824684143,
          0.4951018989086151,
          3.120253086090088,
          2.305828332901001,
          3.1202468872070312,
          1.7350115776062012,
          -5.3377814292907715,
          2.5363032817840576,
          1.5536340475082397,
          2.4608213901519775,
          1.5282249450683594,
          0.06951222568750381,
          2.6190781593322754,
          1.493738055229187,
          0.4951019585132599,
          2.3935954570770264,
          2.2892425060272217,
          1.7074840068817139,
          1.081066608428955,
          2.597111463546753,
          3.1494321823120117,
          1.697879672050476,
          1.8667912483215332,
          1.2820197343826294,
          1.6398534774780273,
          1.9285379648208618
         ],
         "y": [
          10.063812255859375,
          14.69200325012207,
          13.314291000366211,
          15.04298210144043,
          13.383021354675293,
          12.448223114013672,
          12.771056175231934,
          12.814640045166016,
          14.478588104248047,
          12.577474594116211,
          -5.542964458465576,
          12.932408332824707,
          14.766736030578613,
          14.035674095153809,
          12.27316665649414,
          12.130797386169434,
          14.330329895019531,
          12.76878547668457,
          14.210187911987305,
          10.085087776184082,
          13.503369331359863,
          14.760618209838867,
          14.035707473754883,
          13.20831298828125,
          14.03565788269043,
          13.098419189453125,
          0.39276525378227234,
          12.387861251831055,
          12.946029663085938,
          11.958355903625488,
          11.848188400268555,
          15.53210163116455,
          12.02688980102539,
          12.560883522033691,
          14.760618209838867,
          12.394612312316895,
          11.89684009552002,
          11.938872337341309,
          12.950754165649414,
          13.022224426269531,
          14.330329895019531,
          11.843018531799316,
          11.668548583984375,
          13.235079765319824,
          12.375022888183594,
          12.27610969543457
         ],
         "z": [
          -5.328663349151611,
          -3.6543335914611816,
          -4.515923500061035,
          -5.378882884979248,
          -3.8520638942718506,
          -4.618603706359863,
          -4.439382076263428,
          -3.7356600761413574,
          -5.8097662925720215,
          -3.9643096923828125,
          -4.420527458190918,
          -3.2673685550689697,
          -3.54294490814209,
          -5.739771842956543,
          -3.6891725063323975,
          -4.248289108276367,
          -7.3403449058532715,
          -4.831594944000244,
          -6.4978179931640625,
          -2.6689319610595703,
          -3.9118244647979736,
          -5.50109338760376,
          -5.7399067878723145,
          -4.343483924865723,
          -5.739731788635254,
          -3.2572453022003174,
          0.4502432942390442,
          -3.4120984077453613,
          -4.7629923820495605,
          -4.540454387664795,
          -4.033606052398682,
          -4.636392116546631,
          -4.11370849609375,
          -3.294476270675659,
          -5.50109338760376,
          -4.876702785491943,
          -3.694031238555908,
          -4.776343822479248,
          -4.405402183532715,
          -3.724611520767212,
          -7.3403449058532715,
          -3.6244194507598877,
          -4.363267421722412,
          -3.8276638984680176,
          -5.044532775878906,
          -3.2338898181915283
         ]
        },
        {
         "hovertemplate": "Dominant_Topic=Topic 8<br>0=%{x}<br>1=%{y}<br>2=%{z}<extra></extra>",
         "legendgroup": "Topic 8",
         "marker": {
          "color": "#FFA15A",
          "opacity": 0.7,
          "symbol": "circle"
         },
         "mode": "markers",
         "name": "Topic 8",
         "scene": "scene",
         "showlegend": true,
         "type": "scatter3d",
         "x": [
          -5.781801223754883,
          -1.4939390420913696,
          -2.7784619331359863,
          -2.4023563861846924,
          -3.061683177947998,
          -1.7753995656967163,
          -2.577362298965454,
          -2.310213327407837,
          -3.321988821029663,
          -1.944046139717102,
          -2.6858510971069336,
          -3.7860848903656006,
          -3.6017072200775146,
          -3.404698371887207,
          -2.9048306941986084,
          -1.7663034200668335,
          -2.226569175720215,
          -2.8956592082977295,
          -8.280261039733887,
          -4.637051105499268,
          -3.3597099781036377,
          -3.112941026687622,
          -2.327479600906372,
          -3.785944938659668,
          -2.352858304977417,
          -1.6430447101593018,
          -3.2258589267730713,
          -4.402412414550781,
          -3.1075246334075928,
          -2.398869037628174,
          -3.3095273971557617,
          -3.7860851287841797,
          0.7397720813751221,
          -3.221250295639038,
          -5.924387454986572,
          -1.4873725175857544,
          -2.4396955966949463,
          -3.861384868621826,
          -2.9354519844055176,
          -4.634204387664795,
          -1.9440466165542603,
          -2.682101011276245,
          -1.9812180995941162,
          -5.781726837158203,
          -3.327562093734741,
          -4.71235990524292,
          -1.9451402425765991,
          -3.7078535556793213,
          -1.5990099906921387,
          -18.84358024597168,
          -2.1042916774749756,
          -18.84378433227539,
          -3.370725393295288,
          -3.1605966091156006,
          0.9450920820236206,
          -2.350313186645508,
          -2.218945026397705,
          -3.3743040561676025,
          -3.3543286323547363,
          -7.822250843048096,
          -7.821868896484375,
          -1.8939143419265747,
          0.45160403847694397,
          -2.5356645584106445,
          -3.3208048343658447,
          -2.51249098777771,
          -2.780810832977295,
          -1.7280685901641846,
          -2.8158249855041504
         ],
         "y": [
          10.95917797088623,
          -2.9123849868774414,
          1.6951054334640503,
          1.1764919757843018,
          3.6118781566619873,
          1.6032508611679077,
          -1.565043330192566,
          1.4875181913375854,
          2.640972852706909,
          6.197684288024902,
          1.2011550664901733,
          0.8981853127479553,
          3.8631880283355713,
          2.3627307415008545,
          3.559654474258423,
          1.5806715488433838,
          3.0579583644866943,
          1.751591444015503,
          1.5285784006118774,
          1.7250359058380127,
          10.593966484069824,
          1.5008996725082397,
          1.234663486480713,
          0.8981563448905945,
          1.2187621593475342,
          2.107555866241455,
          2.191448450088501,
          0.6355274319648743,
          0.9620470404624939,
          2.1782238483428955,
          0.8719251155853271,
          0.8981853127479553,
          2.202454090118408,
          2.4051804542541504,
          9.708939552307129,
          1.989025354385376,
          2.0003662109375,
          0.9926272034645081,
          2.8285372257232666,
          1.721721887588501,
          6.197683334350586,
          2.4423587322235107,
          2.4505867958068848,
          10.95908260345459,
          2.7776598930358887,
          1.8384805917739868,
          1.2634682655334473,
          -2.309767484664917,
          2.479661226272583,
          -2.582913398742676,
          2.7149107456207275,
          -2.582937717437744,
          2.5042014122009277,
          1.4271422624588013,
          0.91301029920578,
          1.2212986946105957,
          2.922152280807495,
          0.7605307102203369,
          0.7731912136077881,
          2.0941271781921387,
          2.093808174133301,
          2.1078717708587646,
          0.9318740963935852,
          2.182075262069702,
          1.8333030939102173,
          -1.3807777166366577,
          2.7660255432128906,
          2.786777973175049,
          3.041532516479492
         ],
         "z": [
          -7.7540788650512695,
          9.062932014465332,
          -14.661688804626465,
          -14.422796249389648,
          -16.532949447631836,
          -14.666801452636719,
          -14.403617858886719,
          -13.531010627746582,
          -10.06441593170166,
          -12.305673599243164,
          -13.942948341369629,
          -10.865936279296875,
          -16.235584259033203,
          -10.154658317565918,
          -16.63863182067871,
          -13.767534255981445,
          -14.038735389709473,
          -13.517200469970703,
          -13.317514419555664,
          -15.991456031799316,
          -6.83507776260376,
          -14.322957992553711,
          -16.01137351989746,
          -10.866072654724121,
          -16.040145874023438,
          -14.833431243896484,
          -14.668556213378906,
          -14.370719909667969,
          -11.621706008911133,
          -14.125991821289062,
          -16.363248825073242,
          -10.865936279296875,
          -8.681262016296387,
          -13.704681396484375,
          -7.745135307312012,
          -14.212886810302734,
          -14.843405723571777,
          -16.27418327331543,
          -14.664533615112305,
          -15.992735862731934,
          -12.305676460266113,
          -15.004839897155762,
          -15.030745506286621,
          -7.754077434539795,
          -9.91671371459961,
          -15.92033576965332,
          -14.284327507019043,
          -16.557392120361328,
          -13.962474822998047,
          3.518002510070801,
          -13.510101318359375,
          3.517991781234741,
          -14.254858016967773,
          2.1164093017578125,
          -13.188246726989746,
          -16.03755760192871,
          -14.738547325134277,
          -16.241302490234375,
          -16.246225357055664,
          -11.844928741455078,
          -11.84508991241455,
          -13.449809074401855,
          -13.549263000488281,
          -13.324585914611816,
          -13.94798755645752,
          -14.430574417114258,
          -13.548782348632812,
          -14.417888641357422,
          -14.169803619384766
         ]
        },
        {
         "hovertemplate": "Dominant_Topic=Topic 9<br>0=%{x}<br>1=%{y}<br>2=%{z}<extra></extra>",
         "legendgroup": "Topic 9",
         "marker": {
          "color": "#19d3f3",
          "opacity": 0.7,
          "symbol": "circle"
         },
         "mode": "markers",
         "name": "Topic 9",
         "scene": "scene",
         "showlegend": true,
         "type": "scatter3d",
         "x": [
          -0.25199636816978455,
          -2.182645797729492,
          -0.05904800817370415,
          -0.41975581645965576,
          -9.060229301452637,
          -8.851180076599121,
          -6.299578666687012,
          -10.617094039916992,
          -1.5232301950454712,
          -0.8176359534263611,
          1.9037638902664185,
          0.2535359859466553,
          -10.353802680969238,
          -6.066975116729736,
          -3.104311466217041,
          -1.4833011627197266,
          -5.283144950866699,
          -3.5195794105529785,
          2.391136407852173,
          -9.26090145111084,
          2.8729588985443115,
          -3.1603026390075684,
          -0.31525513529777527,
          0.3306483328342438,
          -1.873771071434021,
          12.079331398010254,
          12.079390525817871,
          1.8929964303970337,
          -0.7934309244155884,
          -10.189455032348633,
          0.1558733880519867,
          -9.378714561462402,
          1.7280733585357666,
          -3.104093551635742,
          -3.1600992679595947,
          -9.618731498718262,
          -1.8737235069274902,
          1.9077215194702148,
          0.8124873042106628,
          -8.999671936035156,
          -7.502764701843262,
          -9.230439186096191,
          -1.2489359378814697,
          -3.16277813911438,
          -9.479185104370117,
          -9.073945999145508,
          -6.299575328826904,
          -1.3178294897079468,
          -3.1420083045959473,
          -1.3482532501220703,
          0.5402799248695374,
          -0.20246252417564392,
          -6.299604892730713,
          3.212926149368286,
          1.427916169166565,
          -1.746372938156128,
          -1.746329665184021,
          -0.5357093214988708,
          -3.1605091094970703,
          -0.9197390675544739,
          2.013767957687378,
          -3.217672348022461,
          -0.5504109859466553,
          -1.150408148765564,
          0.806577742099762,
          2.1247386932373047,
          0.17581777274608612,
          -6.1454854011535645,
          1.4279160499572754,
          3.212926149368286,
          -0.16672980785369873,
          -0.42044463753700256,
          0.7317203879356384,
          2.029026746749878,
          -9.612130165100098,
          -9.940458297729492,
          1.7280734777450562,
          -10.189461708068848,
          -10.541302680969238,
          0.7717810869216919,
          -10.541302680969238,
          -10.162485122680664,
          2.8729586601257324,
          -7.50276517868042,
          0.9969345927238464,
          -3.142042875289917,
          2.041541576385498,
          -0.37882596254348755,
          -6.933849811553955,
          -10.20240306854248,
          -9.136817932128906,
          2.391136407852173,
          0.1681634485721588,
          -3.104311466217041,
          -1.523433804512024,
          1.9578526020050049,
          0.16017889976501465,
          -0.4890162944793701,
          -6.067022323608398,
          -0.8598108887672424,
          -6.05469274520874,
          -6.56073522567749,
          -3.1600992679595947,
          1.905172348022461,
          12.079316139221191,
          0.33063045144081116,
          -3.8150925636291504,
          -1.7027819156646729,
          -0.7619197964668274,
          1.813755989074707,
          -3.160639524459839,
          -0.05620918050408363,
          0.7023733258247375,
          -6.986156940460205,
          0.5600049495697021,
          -0.9555054903030396,
          0.31323787569999695,
          -3.2176904678344727,
          0.7864924669265747,
          -2.9261584281921387,
          -6.299577236175537,
          2.1233818531036377,
          -0.3603552281856537,
          0.40724360942840576,
          -8.640572547912598,
          -9.723001480102539,
          -9.130898475646973,
          -0.6190013885498047,
          -0.024998130276799202,
          1.967034101486206,
          -6.560736179351807,
          -9.669119834899902,
          -0.41975346207618713,
          -0.7768447995185852,
          -10.005142211914062,
          -3.371640682220459,
          -8.834036827087402,
          3.212247610092163,
          -0.3108876347541809,
          -6.053478240966797,
          -0.07464908063411713,
          -3.141989231109619,
          -0.4197862148284912,
          -1.6463285684585571,
          -1.5984123945236206,
          -8.840479850769043,
          -9.942960739135742,
          -9.649920463562012,
          -2.7054405212402344,
          -0.41978830099105835,
          -3.980074644088745,
          -8.708709716796875,
          12.07927131652832,
          -4.391907691955566
         ],
         "y": [
          10.338705062866211,
          2.832507610321045,
          10.27914047241211,
          6.76106071472168,
          10.977133750915527,
          12.06258487701416,
          12.044182777404785,
          10.396153450012207,
          3.4294357299804688,
          10.817956924438477,
          11.491216659545898,
          12.379600524902344,
          10.330963134765625,
          12.334434509277344,
          12.741315841674805,
          9.280210494995117,
          0.9264827370643616,
          11.614853858947754,
          10.269522666931152,
          12.472594261169434,
          10.7073392868042,
          12.267889022827148,
          12.7933988571167,
          12.14838981628418,
          5.154409885406494,
          -5.072585105895996,
          -5.072598457336426,
          11.747160911560059,
          8.971283912658691,
          9.857248306274414,
          12.092411994934082,
          11.498809814453125,
          9.430334091186523,
          12.741205215454102,
          12.267833709716797,
          12.519816398620605,
          5.154231548309326,
          11.488419532775879,
          13.179890632629395,
          11.861276626586914,
          12.400762557983398,
          11.673968315124512,
          8.69862174987793,
          12.268559455871582,
          12.164007186889648,
          11.088387489318848,
          12.044365882873535,
          8.614790916442871,
          5.159586429595947,
          9.327485084533691,
          13.48802661895752,
          13.058517456054688,
          12.044377326965332,
          9.209595680236816,
          11.804547309875488,
          3.2407419681549072,
          3.2408103942871094,
          10.447366714477539,
          12.2679443359375,
          3.1136837005615234,
          11.773470878601074,
          10.784552574157715,
          8.884936332702637,
          9.114144325256348,
          13.549410820007324,
          11.519869804382324,
          12.009848594665527,
          12.140666007995605,
          11.804530143737793,
          9.2095947265625,
          12.619503021240234,
          10.991801261901855,
          12.070931434631348,
          11.770078659057617,
          12.152515411376953,
          12.30501937866211,
          9.430333137512207,
          9.857248306274414,
          10.38371753692627,
          12.696914672851562,
          10.38371753692627,
          11.593729019165039,
          10.7073392868042,
          12.400762557983398,
          12.808406829833984,
          5.159841537475586,
          11.764997482299805,
          10.354755401611328,
          1.1529686450958252,
          11.994552612304688,
          12.43394947052002,
          10.269521713256836,
          12.924386024475098,
          12.741315841674805,
          3.4291555881500244,
          9.755355834960938,
          13.503273963928223,
          8.897103309631348,
          12.334489822387695,
          10.73250675201416,
          12.356844902038574,
          8.493403434753418,
          12.267833709716797,
          11.4900541305542,
          -5.072605133056641,
          12.148416519165039,
          12.43804931640625,
          6.02334451675415,
          10.434069633483887,
          9.286401748657227,
          12.267980575561523,
          10.343594551086426,
          12.07436466217041,
          1.4316296577453613,
          13.63394832611084,
          9.170950889587402,
          13.361532211303711,
          10.784564018249512,
          12.335886001586914,
          10.355628967285156,
          12.044393539428711,
          11.519257545471191,
          12.337167739868164,
          12.550467491149902,
          11.423615455627441,
          11.129215240478516,
          11.034211158752441,
          9.002758979797363,
          10.752496719360352,
          9.594232559204102,
          8.493402481079102,
          11.294276237487793,
          6.761052131652832,
          10.607544898986816,
          11.952898979187012,
          12.41245174407959,
          11.555153846740723,
          9.209986686706543,
          12.260100364685059,
          0.9995222687721252,
          10.963404655456543,
          5.159759998321533,
          6.760871887207031,
          9.37332534790039,
          9.390727996826172,
          12.17418098449707,
          11.643380165100098,
          11.557002067565918,
          9.780794143676758,
          6.76086950302124,
          4.625261306762695,
          11.528970718383789,
          -5.072572231292725,
          2.438120126724243
         ],
         "z": [
          7.431657791137695,
          8.439108848571777,
          7.170488357543945,
          2.274366855621338,
          8.918959617614746,
          9.150733947753906,
          0.28299978375434875,
          9.606734275817871,
          5.975287914276123,
          7.195792198181152,
          1.508269190788269,
          8.051025390625,
          9.852596282958984,
          -1.6675031185150146,
          6.0424485206604,
          7.365450382232666,
          -10.591452598571777,
          4.243216514587402,
          9.973886489868164,
          8.564057350158691,
          6.465468406677246,
          9.309244155883789,
          7.054714202880859,
          0.15875118970870972,
          8.480718612670898,
          -2.931905746459961,
          -2.9318928718566895,
          1.503763198852539,
          7.441349506378174,
          5.859316825866699,
          6.7763495445251465,
          8.108098983764648,
          10.237089157104492,
          6.042077541351318,
          9.309164047241211,
          9.081908226013184,
          8.480766296386719,
          1.509352684020996,
          7.22496223449707,
          8.156606674194336,
          9.310919761657715,
          9.791987419128418,
          6.62155294418335,
          9.310223579406738,
          9.630376815795898,
          9.36727523803711,
          0.2832578718662262,
          7.035767555236816,
          1.7580804824829102,
          6.353311538696289,
          9.056011199951172,
          7.540894508361816,
          0.28318890929222107,
          9.193214416503906,
          2.9977169036865234,
          8.224602699279785,
          8.224777221679688,
          7.512326240539551,
          9.309342384338379,
          6.179176330566406,
          1.4906346797943115,
          3.7912838459014893,
          7.144636154174805,
          7.5279860496521,
          7.968304634094238,
          1.5519598722457886,
          7.806654930114746,
          0.8280377984046936,
          2.9977169036865234,
          9.193215370178223,
          7.880013465881348,
          6.698184967041016,
          7.280854225158691,
          1.492369532585144,
          8.217631340026855,
          8.628555297851562,
          10.237088203430176,
          5.859675407409668,
          9.70989990234375,
          7.8812336921691895,
          9.70989990234375,
          8.683387756347656,
          6.465468406677246,
          9.310919761657715,
          7.4650678634643555,
          1.758446216583252,
          1.4922748804092407,
          6.554585933685303,
          -10.45874309539795,
          9.056829452514648,
          9.270251274108887,
          9.973886489868164,
          6.8172221183776855,
          6.042448997497559,
          5.975218296051025,
          0.1334247589111328,
          7.817192077636719,
          6.782683372497559,
          -1.6675480604171753,
          6.859198570251465,
          -1.800899863243103,
          10.671259880065918,
          9.309164047241211,
          1.5091197490692139,
          -2.931906223297119,
          0.15874966979026794,
          9.51531982421875,
          2.0272421836853027,
          6.652988433837891,
          10.315933227539062,
          9.309393882751465,
          6.815267562866211,
          7.699934959411621,
          -9.99151611328125,
          8.785433769226074,
          6.254608631134033,
          7.241756439208984,
          3.791254758834839,
          6.9437103271484375,
          3.8793833255767822,
          0.2832568287849426,
          1.555021047592163,
          7.635133743286133,
          6.710949420928955,
          8.955143928527832,
          8.515932083129883,
          8.450188636779785,
          6.431960582733154,
          6.780521869659424,
          0.09244012832641602,
          10.671321868896484,
          8.992382049560547,
          2.27439546585083,
          7.389230251312256,
          9.429924964904785,
          5.360783100128174,
          9.534866333007812,
          9.193120956420898,
          7.021469593048096,
          -10.570672988891602,
          7.352998733520508,
          1.7576712369918823,
          2.2742867469787598,
          7.027460098266602,
          6.6597747802734375,
          8.575052261352539,
          8.272116661071777,
          9.569238662719727,
          3.8613123893737793,
          2.2742843627929688,
          1.4820042848587036,
          8.487058639526367,
          -2.931917905807495,
          3.4699957370758057
         ]
        }
       ],
       "layout": {
        "height": 800,
        "legend": {
         "title": {
          "text": "Dominant_Topic"
         },
         "tracegroupgap": 0
        },
        "scene": {
         "domain": {
          "x": [
           0,
           1
          ],
          "y": [
           0,
           1
          ]
         },
         "xaxis": {
          "title": {
           "text": "0"
          }
         },
         "yaxis": {
          "title": {
           "text": "1"
          }
         },
         "zaxis": {
          "title": {
           "text": "2"
          }
         }
        },
        "template": {
         "data": {
          "bar": [
           {
            "error_x": {
             "color": "#2a3f5f"
            },
            "error_y": {
             "color": "#2a3f5f"
            },
            "marker": {
             "line": {
              "color": "#E5ECF6",
              "width": 0.5
             }
            },
            "type": "bar"
           }
          ],
          "barpolar": [
           {
            "marker": {
             "line": {
              "color": "#E5ECF6",
              "width": 0.5
             }
            },
            "type": "barpolar"
           }
          ],
          "carpet": [
           {
            "aaxis": {
             "endlinecolor": "#2a3f5f",
             "gridcolor": "white",
             "linecolor": "white",
             "minorgridcolor": "white",
             "startlinecolor": "#2a3f5f"
            },
            "baxis": {
             "endlinecolor": "#2a3f5f",
             "gridcolor": "white",
             "linecolor": "white",
             "minorgridcolor": "white",
             "startlinecolor": "#2a3f5f"
            },
            "type": "carpet"
           }
          ],
          "choropleth": [
           {
            "colorbar": {
             "outlinewidth": 0,
             "ticks": ""
            },
            "type": "choropleth"
           }
          ],
          "contour": [
           {
            "colorbar": {
             "outlinewidth": 0,
             "ticks": ""
            },
            "colorscale": [
             [
              0,
              "#0d0887"
             ],
             [
              0.1111111111111111,
              "#46039f"
             ],
             [
              0.2222222222222222,
              "#7201a8"
             ],
             [
              0.3333333333333333,
              "#9c179e"
             ],
             [
              0.4444444444444444,
              "#bd3786"
             ],
             [
              0.5555555555555556,
              "#d8576b"
             ],
             [
              0.6666666666666666,
              "#ed7953"
             ],
             [
              0.7777777777777778,
              "#fb9f3a"
             ],
             [
              0.8888888888888888,
              "#fdca26"
             ],
             [
              1,
              "#f0f921"
             ]
            ],
            "type": "contour"
           }
          ],
          "contourcarpet": [
           {
            "colorbar": {
             "outlinewidth": 0,
             "ticks": ""
            },
            "type": "contourcarpet"
           }
          ],
          "heatmap": [
           {
            "colorbar": {
             "outlinewidth": 0,
             "ticks": ""
            },
            "colorscale": [
             [
              0,
              "#0d0887"
             ],
             [
              0.1111111111111111,
              "#46039f"
             ],
             [
              0.2222222222222222,
              "#7201a8"
             ],
             [
              0.3333333333333333,
              "#9c179e"
             ],
             [
              0.4444444444444444,
              "#bd3786"
             ],
             [
              0.5555555555555556,
              "#d8576b"
             ],
             [
              0.6666666666666666,
              "#ed7953"
             ],
             [
              0.7777777777777778,
              "#fb9f3a"
             ],
             [
              0.8888888888888888,
              "#fdca26"
             ],
             [
              1,
              "#f0f921"
             ]
            ],
            "type": "heatmap"
           }
          ],
          "heatmapgl": [
           {
            "colorbar": {
             "outlinewidth": 0,
             "ticks": ""
            },
            "colorscale": [
             [
              0,
              "#0d0887"
             ],
             [
              0.1111111111111111,
              "#46039f"
             ],
             [
              0.2222222222222222,
              "#7201a8"
             ],
             [
              0.3333333333333333,
              "#9c179e"
             ],
             [
              0.4444444444444444,
              "#bd3786"
             ],
             [
              0.5555555555555556,
              "#d8576b"
             ],
             [
              0.6666666666666666,
              "#ed7953"
             ],
             [
              0.7777777777777778,
              "#fb9f3a"
             ],
             [
              0.8888888888888888,
              "#fdca26"
             ],
             [
              1,
              "#f0f921"
             ]
            ],
            "type": "heatmapgl"
           }
          ],
          "histogram": [
           {
            "marker": {
             "colorbar": {
              "outlinewidth": 0,
              "ticks": ""
             }
            },
            "type": "histogram"
           }
          ],
          "histogram2d": [
           {
            "colorbar": {
             "outlinewidth": 0,
             "ticks": ""
            },
            "colorscale": [
             [
              0,
              "#0d0887"
             ],
             [
              0.1111111111111111,
              "#46039f"
             ],
             [
              0.2222222222222222,
              "#7201a8"
             ],
             [
              0.3333333333333333,
              "#9c179e"
             ],
             [
              0.4444444444444444,
              "#bd3786"
             ],
             [
              0.5555555555555556,
              "#d8576b"
             ],
             [
              0.6666666666666666,
              "#ed7953"
             ],
             [
              0.7777777777777778,
              "#fb9f3a"
             ],
             [
              0.8888888888888888,
              "#fdca26"
             ],
             [
              1,
              "#f0f921"
             ]
            ],
            "type": "histogram2d"
           }
          ],
          "histogram2dcontour": [
           {
            "colorbar": {
             "outlinewidth": 0,
             "ticks": ""
            },
            "colorscale": [
             [
              0,
              "#0d0887"
             ],
             [
              0.1111111111111111,
              "#46039f"
             ],
             [
              0.2222222222222222,
              "#7201a8"
             ],
             [
              0.3333333333333333,
              "#9c179e"
             ],
             [
              0.4444444444444444,
              "#bd3786"
             ],
             [
              0.5555555555555556,
              "#d8576b"
             ],
             [
              0.6666666666666666,
              "#ed7953"
             ],
             [
              0.7777777777777778,
              "#fb9f3a"
             ],
             [
              0.8888888888888888,
              "#fdca26"
             ],
             [
              1,
              "#f0f921"
             ]
            ],
            "type": "histogram2dcontour"
           }
          ],
          "mesh3d": [
           {
            "colorbar": {
             "outlinewidth": 0,
             "ticks": ""
            },
            "type": "mesh3d"
           }
          ],
          "parcoords": [
           {
            "line": {
             "colorbar": {
              "outlinewidth": 0,
              "ticks": ""
             }
            },
            "type": "parcoords"
           }
          ],
          "pie": [
           {
            "automargin": true,
            "type": "pie"
           }
          ],
          "scatter": [
           {
            "marker": {
             "colorbar": {
              "outlinewidth": 0,
              "ticks": ""
             }
            },
            "type": "scatter"
           }
          ],
          "scatter3d": [
           {
            "line": {
             "colorbar": {
              "outlinewidth": 0,
              "ticks": ""
             }
            },
            "marker": {
             "colorbar": {
              "outlinewidth": 0,
              "ticks": ""
             }
            },
            "type": "scatter3d"
           }
          ],
          "scattercarpet": [
           {
            "marker": {
             "colorbar": {
              "outlinewidth": 0,
              "ticks": ""
             }
            },
            "type": "scattercarpet"
           }
          ],
          "scattergeo": [
           {
            "marker": {
             "colorbar": {
              "outlinewidth": 0,
              "ticks": ""
             }
            },
            "type": "scattergeo"
           }
          ],
          "scattergl": [
           {
            "marker": {
             "colorbar": {
              "outlinewidth": 0,
              "ticks": ""
             }
            },
            "type": "scattergl"
           }
          ],
          "scattermapbox": [
           {
            "marker": {
             "colorbar": {
              "outlinewidth": 0,
              "ticks": ""
             }
            },
            "type": "scattermapbox"
           }
          ],
          "scatterpolar": [
           {
            "marker": {
             "colorbar": {
              "outlinewidth": 0,
              "ticks": ""
             }
            },
            "type": "scatterpolar"
           }
          ],
          "scatterpolargl": [
           {
            "marker": {
             "colorbar": {
              "outlinewidth": 0,
              "ticks": ""
             }
            },
            "type": "scatterpolargl"
           }
          ],
          "scatterternary": [
           {
            "marker": {
             "colorbar": {
              "outlinewidth": 0,
              "ticks": ""
             }
            },
            "type": "scatterternary"
           }
          ],
          "surface": [
           {
            "colorbar": {
             "outlinewidth": 0,
             "ticks": ""
            },
            "colorscale": [
             [
              0,
              "#0d0887"
             ],
             [
              0.1111111111111111,
              "#46039f"
             ],
             [
              0.2222222222222222,
              "#7201a8"
             ],
             [
              0.3333333333333333,
              "#9c179e"
             ],
             [
              0.4444444444444444,
              "#bd3786"
             ],
             [
              0.5555555555555556,
              "#d8576b"
             ],
             [
              0.6666666666666666,
              "#ed7953"
             ],
             [
              0.7777777777777778,
              "#fb9f3a"
             ],
             [
              0.8888888888888888,
              "#fdca26"
             ],
             [
              1,
              "#f0f921"
             ]
            ],
            "type": "surface"
           }
          ],
          "table": [
           {
            "cells": {
             "fill": {
              "color": "#EBF0F8"
             },
             "line": {
              "color": "white"
             }
            },
            "header": {
             "fill": {
              "color": "#C8D4E3"
             },
             "line": {
              "color": "white"
             }
            },
            "type": "table"
           }
          ]
         },
         "layout": {
          "annotationdefaults": {
           "arrowcolor": "#2a3f5f",
           "arrowhead": 0,
           "arrowwidth": 1
          },
          "autotypenumbers": "strict",
          "coloraxis": {
           "colorbar": {
            "outlinewidth": 0,
            "ticks": ""
           }
          },
          "colorscale": {
           "diverging": [
            [
             0,
             "#8e0152"
            ],
            [
             0.1,
             "#c51b7d"
            ],
            [
             0.2,
             "#de77ae"
            ],
            [
             0.3,
             "#f1b6da"
            ],
            [
             0.4,
             "#fde0ef"
            ],
            [
             0.5,
             "#f7f7f7"
            ],
            [
             0.6,
             "#e6f5d0"
            ],
            [
             0.7,
             "#b8e186"
            ],
            [
             0.8,
             "#7fbc41"
            ],
            [
             0.9,
             "#4d9221"
            ],
            [
             1,
             "#276419"
            ]
           ],
           "sequential": [
            [
             0,
             "#0d0887"
            ],
            [
             0.1111111111111111,
             "#46039f"
            ],
            [
             0.2222222222222222,
             "#7201a8"
            ],
            [
             0.3333333333333333,
             "#9c179e"
            ],
            [
             0.4444444444444444,
             "#bd3786"
            ],
            [
             0.5555555555555556,
             "#d8576b"
            ],
            [
             0.6666666666666666,
             "#ed7953"
            ],
            [
             0.7777777777777778,
             "#fb9f3a"
            ],
            [
             0.8888888888888888,
             "#fdca26"
            ],
            [
             1,
             "#f0f921"
            ]
           ],
           "sequentialminus": [
            [
             0,
             "#0d0887"
            ],
            [
             0.1111111111111111,
             "#46039f"
            ],
            [
             0.2222222222222222,
             "#7201a8"
            ],
            [
             0.3333333333333333,
             "#9c179e"
            ],
            [
             0.4444444444444444,
             "#bd3786"
            ],
            [
             0.5555555555555556,
             "#d8576b"
            ],
            [
             0.6666666666666666,
             "#ed7953"
            ],
            [
             0.7777777777777778,
             "#fb9f3a"
            ],
            [
             0.8888888888888888,
             "#fdca26"
            ],
            [
             1,
             "#f0f921"
            ]
           ]
          },
          "colorway": [
           "#636efa",
           "#EF553B",
           "#00cc96",
           "#ab63fa",
           "#FFA15A",
           "#19d3f3",
           "#FF6692",
           "#B6E880",
           "#FF97FF",
           "#FECB52"
          ],
          "font": {
           "color": "#2a3f5f"
          },
          "geo": {
           "bgcolor": "white",
           "lakecolor": "white",
           "landcolor": "#E5ECF6",
           "showlakes": true,
           "showland": true,
           "subunitcolor": "white"
          },
          "hoverlabel": {
           "align": "left"
          },
          "hovermode": "closest",
          "mapbox": {
           "style": "light"
          },
          "paper_bgcolor": "white",
          "plot_bgcolor": "#E5ECF6",
          "polar": {
           "angularaxis": {
            "gridcolor": "white",
            "linecolor": "white",
            "ticks": ""
           },
           "bgcolor": "#E5ECF6",
           "radialaxis": {
            "gridcolor": "white",
            "linecolor": "white",
            "ticks": ""
           }
          },
          "scene": {
           "xaxis": {
            "backgroundcolor": "#E5ECF6",
            "gridcolor": "white",
            "gridwidth": 2,
            "linecolor": "white",
            "showbackground": true,
            "ticks": "",
            "zerolinecolor": "white"
           },
           "yaxis": {
            "backgroundcolor": "#E5ECF6",
            "gridcolor": "white",
            "gridwidth": 2,
            "linecolor": "white",
            "showbackground": true,
            "ticks": "",
            "zerolinecolor": "white"
           },
           "zaxis": {
            "backgroundcolor": "#E5ECF6",
            "gridcolor": "white",
            "gridwidth": 2,
            "linecolor": "white",
            "showbackground": true,
            "ticks": "",
            "zerolinecolor": "white"
           }
          },
          "shapedefaults": {
           "line": {
            "color": "#2a3f5f"
           }
          },
          "ternary": {
           "aaxis": {
            "gridcolor": "white",
            "linecolor": "white",
            "ticks": ""
           },
           "baxis": {
            "gridcolor": "white",
            "linecolor": "white",
            "ticks": ""
           },
           "bgcolor": "#E5ECF6",
           "caxis": {
            "gridcolor": "white",
            "linecolor": "white",
            "ticks": ""
           }
          },
          "title": {
           "x": 0.05
          },
          "xaxis": {
           "automargin": true,
           "gridcolor": "white",
           "linecolor": "white",
           "ticks": "",
           "title": {
            "standoff": 15
           },
           "zerolinecolor": "white",
           "zerolinewidth": 2
          },
          "yaxis": {
           "automargin": true,
           "gridcolor": "white",
           "linecolor": "white",
           "ticks": "",
           "title": {
            "standoff": 15
           },
           "zerolinecolor": "white",
           "zerolinewidth": 2
          }
         }
        },
        "title": {
         "text": "3d TSNE Plot for Topic Model"
        },
        "width": 900
       }
      },
      "text/html": [
       "<div>                            <div id=\"8bbd4181-9984-4f6e-bdb6-6f02a631c3e8\" class=\"plotly-graph-div\" style=\"height:800px; width:900px;\"></div>            <script type=\"text/javascript\">                require([\"plotly\"], function(Plotly) {                    window.PLOTLYENV=window.PLOTLYENV || {};                                    if (document.getElementById(\"8bbd4181-9984-4f6e-bdb6-6f02a631c3e8\")) {                    Plotly.newPlot(                        \"8bbd4181-9984-4f6e-bdb6-6f02a631c3e8\",                        [{\"hovertemplate\": \"Dominant_Topic=Topic 0<br>0=%{x}<br>1=%{y}<br>2=%{z}<extra></extra>\", \"legendgroup\": \"Topic 0\", \"marker\": {\"color\": \"#636efa\", \"opacity\": 0.7, \"symbol\": \"circle\"}, \"mode\": \"markers\", \"name\": \"Topic 0\", \"scene\": \"scene\", \"showlegend\": true, \"type\": \"scatter3d\", \"x\": [-2.378268003463745, -2.55049467086792, -0.2711198627948761, 1.63852059841156, -3.5372068881988525, -1.3411539793014526, -1.2875990867614746, -2.60191011428833, -3.958836317062378, 13.436820983886719, -4.087438106536865, -3.235707998275757, -0.7710933089256287, -2.8400168418884277, -2.405381202697754, -2.2196264266967773, -2.543468475341797, -5.170365810394287, -1.9941831827163696, 5.8438401222229, 0.029553614556789398, -3.845095157623291, -4.111156940460205, -2.9825010299682617, -4.203699111938477, 0.15127962827682495, -2.9628825187683105, -2.221496820449829, -0.6427827477455139, 0.5159190893173218, -2.8723459243774414, -4.087443828582764, -3.536015272140503, -4.843035697937012, 0.15012376010417938, 0.1512305736541748, -2.7697832584381104, 5.8438262939453125, -2.399919033050537, -2.414853096008301, -2.704345941543579, -2.456533670425415, -0.7105936408042908, -0.3467084467411041, -3.536015033721924, 4.398604869842529, -2.6565511226654053, 1.134003758430481, -0.3866206705570221, -7.916417598724365, -3.5360002517700195, -3.8461220264434814, 0.7283154726028442, -7.916413307189941, -0.6428719758987427, -3.8443381786346436, -3.94446063041687, -1.7223379611968994, -2.300558567047119, -1.9226523637771606, 1.658474087715149, 1.212981939315796, -0.6427826881408691, 0.1501006931066513, -3.5360896587371826, -3.8883168697357178, -4.203699588775635, -2.883815050125122, -0.3533085286617279], \"y\": [-0.757859468460083, -0.435957670211792, -1.552657127380371, -2.5692052841186523, 0.20956066250801086, -0.7309688329696655, -3.0753889083862305, -1.1335986852645874, -3.2063629627227783, 2.252565622329712, -2.984177827835083, 0.5298197865486145, 2.6018688678741455, -0.9999340176582336, -1.0241031646728516, -0.8404474854469299, -0.4344591200351715, -0.9067997336387634, -0.07631013542413712, -5.327861785888672, -3.787454605102539, -1.5231120586395264, -1.7684837579727173, -0.6601738929748535, 0.0008408544817939401, -0.2864607870578766, -0.5418276786804199, -0.5104389786720276, 12.191768646240234, 1.1252094507217407, 9.751235961914062, -2.9841349124908447, 0.20811426639556885, 0.36150211095809937, -0.2865141034126282, -0.286431223154068, -0.5492405891418457, -5.327872276306152, -1.4364101886749268, -1.1288807392120361, -5.620689392089844, -0.3276287019252777, 2.7935264110565186, -1.2442777156829834, 0.20811426639556885, -5.523351669311523, 1.728090763092041, -2.810894012451172, 2.214897632598877, 8.772841453552246, 0.2080872356891632, -1.5240404605865479, -0.23142853379249573, 8.77283763885498, 12.191802978515625, -1.5225236415863037, -2.020500659942627, -2.7549872398376465, -0.28249576687812805, 0.023093856871128082, -0.22474820911884308, -1.896089792251587, 12.191767692565918, -0.2864989638328552, 0.20824044942855835, -1.8747318983078003, 0.0008409266592934728, -1.105475902557373, -1.271836519241333], \"z\": [7.464635372161865, 7.441679000854492, 6.9132256507873535, 4.707775115966797, 2.6786916255950928, 7.375478744506836, 8.44050407409668, 6.891026020050049, 2.971889019012451, -0.9930853843688965, 2.9195144176483154, 7.139937400817871, 8.00814151763916, 6.847168445587158, 7.309404373168945, 6.748808860778809, 7.443745136260986, 6.856089115142822, 2.5252606868743896, -4.402336120605469, 6.612054347991943, 8.071459770202637, 8.266910552978516, 6.871891021728516, 8.381248474121094, 1.5968165397644043, 7.10068941116333, 6.745119094848633, -1.3669531345367432, 8.460813522338867, -4.262855529785156, 2.9194834232330322, 2.6796040534973145, 1.8757089376449585, 1.5961315631866455, 1.5968416929244995, 6.635003566741943, -4.402327537536621, 5.300493240356445, 7.112743854522705, 2.6916019916534424, 6.740274429321289, 6.52877140045166, -0.9956527352333069, 2.6796042919158936, -4.760368347167969, 8.390909194946289, -5.111347675323486, 8.360311508178711, -0.9677572250366211, 2.679633617401123, 8.072702407836914, 11.085040092468262, -0.9677281379699707, -1.3668962717056274, 8.070595741271973, 2.7692127227783203, 9.146523475646973, 7.142289161682129, 2.7887661457061768, 9.025155067443848, 8.661314010620117, -1.3669531345367432, 1.5961617231369019, 2.6794116497039795, 2.808439254760742, 8.381248474121094, 8.697999954223633, -0.9731177091598511]}, {\"hovertemplate\": \"Dominant_Topic=Topic 1<br>0=%{x}<br>1=%{y}<br>2=%{z}<extra></extra>\", \"legendgroup\": \"Topic 1\", \"marker\": {\"color\": \"#EF553B\", \"opacity\": 0.7, \"symbol\": \"circle\"}, \"mode\": \"markers\", \"name\": \"Topic 1\", \"scene\": \"scene\", \"showlegend\": true, \"type\": \"scatter3d\", \"x\": [9.41260051727295, 8.934957504272461, 10.828682899475098, 8.134283065795898, 8.613510131835938, 8.734198570251465, 3.609879493713379, 8.896551132202148, 8.30370044708252, 8.837111473083496, 8.100295066833496, 3.641681432723999, 7.452093601226807, 9.906399726867676, 7.397526264190674, 8.209956169128418, 6.875441551208496, 8.51950740814209, 6.461358070373535, 3.640960216522217, 8.522038459777832, 6.565272808074951, 9.940774917602539, 9.268122673034668, 9.270044326782227, 7.880119800567627, 7.752877235412598, 10.45782470703125, 3.6409993171691895, 8.909852027893066, 7.653806686401367, 8.126045227050781, 8.218144416809082, 3.6094133853912354, 8.629636764526367, 9.940728187561035, 10.64806842803955, 9.940778732299805, 7.808332443237305, 8.680234909057617, 10.828682899475098, 8.902604103088379, 9.312289237976074, 8.768020629882812, 9.152338027954102, 8.886128425598145, 9.424209594726562, 7.290227890014648, 7.452470779418945, 8.301107406616211, 9.279383659362793, 7.594479084014893, 10.238428115844727, 7.699451446533203, 8.314142227172852, 7.133581638336182], \"y\": [-6.698931694030762, -8.398908615112305, -8.985815048217773, -6.871798992156982, -6.803253173828125, -9.379417419433594, -9.235447883605957, -7.053082466125488, -8.377455711364746, -7.666814804077148, -8.054707527160645, -5.833288669586182, -10.692755699157715, -5.896152973175049, -4.785299777984619, -6.982637405395508, -4.739882946014404, -8.342328071594238, -5.271039009094238, -5.832932472229004, -7.060982704162598, -4.646934986114502, -9.665213584899902, -8.272710800170898, -7.529747486114502, -7.328556060791016, -7.156048774719238, -6.558360576629639, -5.832932949066162, -8.35551929473877, -7.644906520843506, -7.37201452255249, -8.51403522491455, -9.23543643951416, -10.353164672851562, -9.6652193069458, -6.406617164611816, -9.665214538574219, -8.129382133483887, -8.774316787719727, -8.985815048217773, -6.966758728027344, -7.8894124031066895, -7.52694034576416, -7.748250484466553, -8.098387718200684, -8.505045890808105, -8.340895652770996, -10.692370414733887, -7.909395694732666, -7.249255180358887, -7.635140895843506, -6.260822772979736, -8.140630722045898, -7.565558433532715, -10.449326515197754], \"z\": [-6.191755294799805, -3.344165563583374, -3.927130937576294, -3.8008689880371094, -3.428710460662842, -1.0705206394195557, -3.222930669784546, -3.069253444671631, -3.17970609664917, -4.255642414093018, -4.27179479598999, -4.904506206512451, -3.1621365547180176, -6.577017784118652, -8.179346084594727, -3.0470564365386963, -3.4342620372772217, -4.156468391418457, -4.509692668914795, -4.904637813568115, -4.281864166259766, -8.967909812927246, -0.6387600898742676, -5.5259599685668945, -3.098750352859497, -4.180240631103516, -3.4888360500335693, -5.586304187774658, -4.904642105102539, -3.8975112438201904, -3.1033735275268555, -2.7905447483062744, -3.712095022201538, -3.22275710105896, -3.994828462600708, -0.6387871503829956, -5.6121673583984375, -0.638757586479187, -3.220953941345215, -1.3246750831604004, -3.927130699157715, -3.901613473892212, -3.5275039672851562, -2.7445273399353027, -4.038384437561035, -2.9961583614349365, -5.864038944244385, -5.610861778259277, -3.162236213684082, -2.826484441757202, -3.7061502933502197, -3.8227920532226562, 1.2411450147628784, -3.8478434085845947, -4.450958251953125, -1.022706151008606]}, {\"hovertemplate\": \"Dominant_Topic=Topic 10<br>0=%{x}<br>1=%{y}<br>2=%{z}<extra></extra>\", \"legendgroup\": \"Topic 10\", \"marker\": {\"color\": \"#00cc96\", \"opacity\": 0.7, \"symbol\": \"circle\"}, \"mode\": \"markers\", \"name\": \"Topic 10\", \"scene\": \"scene\", \"showlegend\": true, \"type\": \"scatter3d\", \"x\": [-9.732429504394531, -8.090505599975586, -8.486571311950684, -10.316102027893066, -6.920555114746094, -9.470355987548828, -8.11962604522705, -7.865887641906738, -8.06857681274414, -6.381139755249023, -7.792717456817627, -8.914030075073242, -8.208744049072266, -8.06857681274414, -9.422320365905762, -8.349376678466797, -8.306554794311523, -9.42262077331543, -9.48614501953125, -9.46540641784668, -9.48614501953125, -7.737613677978516, -8.81728744506836, -7.841381549835205, -8.486571311950684, -6.920555114746094, -8.082785606384277, -9.467507362365723, -7.968698978424072, -9.46540355682373, -7.858624458312988, -8.5855712890625], \"y\": [-6.218844890594482, -5.943777561187744, -5.6592631340026855, -7.4563398361206055, -7.151022434234619, -6.927873611450195, -6.272339344024658, -5.528203010559082, -3.075767755508423, -5.90415096282959, -5.761550426483154, -4.96708345413208, -5.4752092361450195, -3.075767755508423, -5.634867191314697, -5.999536514282227, -5.977477550506592, -5.6354498863220215, -7.6477789878845215, -6.925936698913574, -7.64777946472168, -5.72534704208374, -7.373328685760498, -6.26247501373291, -5.6592631340026855, -7.151022911071777, -5.952080249786377, -6.92747163772583, -6.345017910003662, -6.9259352684021, -6.288029193878174, -5.167457103729248], \"z\": [-0.9022070169448853, -1.8110066652297974, -1.3445841073989868, -1.985106110572815, -4.094921588897705, -1.8863778114318848, -1.0319501161575317, -1.2816535234451294, -1.5057635307312012, -0.3378103971481323, -1.0626896619796753, -2.891408681869507, -1.4488309621810913, -1.5057635307312012, -2.736400604248047, -0.976309597492218, -0.9440340995788574, -2.7363176345825195, -2.535895586013794, -1.8850882053375244, -2.535895586013794, -1.623913049697876, -0.8523215055465698, -1.1430730819702148, -1.3445841073989868, -4.094921588897705, -1.8114439249038696, -1.885770559310913, -1.5208981037139893, -1.885087013244629, -1.573294758796692, -0.04196488484740257]}, {\"hovertemplate\": \"Dominant_Topic=Topic 11<br>0=%{x}<br>1=%{y}<br>2=%{z}<extra></extra>\", \"legendgroup\": \"Topic 11\", \"marker\": {\"color\": \"#ab63fa\", \"opacity\": 0.7, \"symbol\": \"circle\"}, \"mode\": \"markers\", \"name\": \"Topic 11\", \"scene\": \"scene\", \"showlegend\": true, \"type\": \"scatter3d\", \"x\": [-3.595174551010132, -3.579789161682129, -2.355790615081787, -3.4173667430877686, -3.060504198074341, -3.782024383544922, -4.285558700561523, -3.7328996658325195, -4.439491271972656, -2.355790615081787, -2.1875016689300537, -3.0050389766693115, -4.000614166259766, -2.355790615081787, -5.370795249938965, -5.748705863952637, -6.425134658813477, -4.851953983306885, -2.355790376663208, -5.370795249938965, -3.726689100265503, -5.215744972229004, -2.355790615081787, -2.413715362548828, -2.3555853366851807, -3.4796712398529053, -4.311053276062012, -4.204134941101074, -3.8019766807556152, -4.110336780548096, -4.851966381072998, -2.355790615081787, -3.7467093467712402, -4.132717609405518], \"y\": [2.760161876678467, 3.5246036052703857, 1.1745842695236206, 2.9399185180664062, 4.467596530914307, 3.391618251800537, 3.1086161136627197, 3.626100778579712, 1.6464546918869019, 1.1745843887329102, 3.6119496822357178, 1.7825441360473633, 3.5258777141571045, 1.1745840311050415, 2.8506593704223633, -5.413496494293213, 2.8099772930145264, 5.440201282501221, 1.1745845079421997, 2.8506593704223633, 2.904968500137329, 2.705933094024658, 1.1745840311050415, 3.7023987770080566, 1.1744314432144165, 3.2097983360290527, 4.074838638305664, 3.4490864276885986, 2.9201242923736572, 3.1790201663970947, 5.4402008056640625, 1.1745840311050415, 3.0404255390167236, 2.8399832248687744], \"z\": [-0.9321906566619873, -0.765250563621521, -4.185062885284424, -0.787528932094574, 0.5349143743515015, -1.3004817962646484, -0.9369561076164246, -0.8661096692085266, -1.33363938331604, -4.185062885284424, -1.334455966949463, -3.390778064727783, -1.1365846395492554, -4.185063362121582, -2.476555824279785, -0.03918181359767914, 2.5366051197052, -1.987925410270691, -4.185062885284424, -2.476555824279785, -1.2615376710891724, -2.4213743209838867, -4.185063362121582, -1.9334086179733276, -4.184842586517334, -0.5933575630187988, 0.9965667128562927, -0.773931622505188, -0.48013898730278015, -0.5041372776031494, -1.9879320859909058, -4.185063362121582, -1.3306524753570557, -0.7749534845352173]}, {\"hovertemplate\": \"Dominant_Topic=Topic 12<br>0=%{x}<br>1=%{y}<br>2=%{z}<extra></extra>\", \"legendgroup\": \"Topic 12\", \"marker\": {\"color\": \"#FFA15A\", \"opacity\": 0.7, \"symbol\": \"circle\"}, \"mode\": \"markers\", \"name\": \"Topic 12\", \"scene\": \"scene\", \"showlegend\": true, \"type\": \"scatter3d\", \"x\": [10.662239074707031, -6.004673004150391, 3.160942316055298, -15.71798324584961, -2.984442710876465, 9.837542533874512, 9.67837142944336, -11.006571769714355, -1.0170791149139404, -6.938608169555664, -0.4203754961490631, 4.825721263885498, 10.580309867858887, 1.1369210481643677, -0.7618933320045471, 5.382841110229492, -14.211021423339844, -3.1448862552642822, -12.361329078674316, -4.045032024383545, 3.5902063846588135, 7.768901348114014, -5.794591903686523, -13.675947189331055, -3.971790313720703, -5.5397491455078125, 1.4593154191970825, -16.594011306762695, -1.0178240537643433, 4.755471229553223, -15.614166259765625, -1.6485515832901, -0.058203309774398804, -0.6820036768913269, -1.194968819618225, 9.793802261352539, 5.778952598571777, 7.094720363616943, -4.9280829429626465, 0.07835160940885544, 5.0121541023254395, -1.0332056283950806, 3.0683672428131104, -3.8517024517059326, 3.260972023010254, -15.84054183959961, -3.5297746658325195, -2.380927085876465, -16.19854736328125, -14.887701034545898, 0.9311842918395996, 1.7500324249267578, -10.338191032409668, -0.6776955723762512, -16.08165168762207, -3.7488749027252197, -12.99043083190918, -0.6525848507881165, 1.5265936851501465, 10.690705299377441, -10.245770454406738, -10.59019947052002, -7.563911437988281, -0.9520522952079773, 12.172810554504395, -3.5299229621887207, -1.793467402458191, 2.6264936923980713, -1.0855180025100708, 0.671961784362793, 0.7818049788475037, -6.411996364593506, -4.26770544052124, 0.7814691662788391, -0.9463592171669006, 8.192784309387207, 5.537222385406494, -9.921581268310547, 9.643152236938477, -13.974842071533203, 4.937193870544434, -14.233346939086914, 2.420696258544922, -2.643815279006958, -12.8985013961792, -15.718419075012207, -15.718026161193848, 7.2382707595825195, 9.032875061035156, 4.252114772796631, -0.2081218957901001, -14.350027084350586, 4.5561347007751465, 6.158618450164795, -3.144868850708008, -1.0813716650009155, 3.0683815479278564, -2.6019985675811768, -4.0157790184021, 0.9495976567268372, -8.127029418945312, -8.380439758300781, 8.381253242492676, 2.4688353538513184, -6.523728847503662, -6.104010105133057, -1.9852845668792725, -14.653514862060547, -4.387489318847656, -8.687472343444824, 2.183899164199829, 10.384574890136719, 5.179787635803223, -3.73713755607605, 4.065227031707764, 6.707319736480713, -11.459736824035645, 0.06914690136909485, 0.46114420890808105, -4.927848815917969, 10.576766967773438, 3.0602355003356934, -4.939643859863281, -2.5842676162719727, 6.29256534576416, 6.240278244018555, 8.859874725341797, -7.905352592468262, -14.934741973876953, 12.702804565429688, 7.767349720001221, -2.750631093978882, 4.591034889221191, 10.69074821472168, -5.233987331390381, -3.852066993713379, -3.5298941135406494, 3.841096878051758, -1.7764161825180054, -3.4074602127075195, -0.6721290349960327, 6.542167663574219, -5.960813045501709, 10.690667152404785, 5.608970642089844, -1.0172101259231567, 10.013376235961914, -8.340567588806152, -5.210258960723877, 1.1564221382141113, -0.8243120908737183, -2.265507698059082, -6.190699577331543, -3.851754665374756, 12.702775955200195, 5.778967380523682, -3.851703405380249, 6.001879692077637, -14.691864013671875, -4.867641448974609, -14.94473648071289, -3.144871711730957, 2.2471625804901123, 4.825306415557861, 3.261002779006958, 8.616338729858398, -5.325832366943359, -5.096027851104736, -5.235720157623291, -1.1350761651992798, 8.640091896057129, 4.0695481300354, -14.031935691833496, -5.096036434173584, -6.779288291931152, 0.5609652996063232, 4.034193515777588, -3.8517050743103027, -0.1165190115571022, -1.627260684967041, -13.39317798614502, 9.783456802368164, -6.416360378265381, -0.5902226567268372, 4.1360673904418945, -13.542407989501953, -3.212157726287842, 0.5186668634414673, 3.10809326171875, 4.556125640869141, 2.2731997966766357, 4.335294246673584, 6.753668308258057, -3.7374320030212402, 9.462244987487793, -3.5618605613708496, 6.576330661773682, 4.5998382568359375, 5.382680892944336, -1.3084219694137573, -8.53139591217041, -1.018075942993164, -5.697669982910156, 9.691753387451172, 8.669060707092285, -13.981046676635742, 2.2731804847717285, 4.081218242645264, -1.8041906356811523, 0.06892313063144684, -0.4805040657520294, -0.9646552205085754, -12.439736366271973, 5.779809951782227, 5.527508735656738, -15.905742645263672, 11.976790428161621, 10.338846206665039, -14.915114402770996, -2.2269365787506104, -14.783341407775879, -13.863947868347168, 9.26318359375, -5.02055549621582, 7.238399028778076, 8.582945823669434, 11.890647888183594, -9.482604026794434, -5.568957328796387, -15.179271697998047, -17.52585220336914, -1.6798827648162842, 9.098174095153809, 0.06914937496185303, -1.5757049322128296, -15.158294677734375, -14.45834732055664, -0.3387613892555237, -2.571565628051758, 6.32500696182251, 4.081214904785156, -13.951261520385742, 0.8279204368591309, -1.0155624151229858, -3.525752067565918, 11.632563591003418, 5.527483940124512, 4.7745795249938965, 3.696904420852661, 2.4076731204986572, -17.19113540649414, -8.71474838256836, 7.923488616943359, 4.126791954040527, -3.84250807762146, -13.841169357299805, -5.020556449890137, 1.1903597116470337, -9.812565803527832, 2.5618176460266113, -15.012282371520996, -5.644021511077881, -8.362127304077148, 6.183250904083252, 2.3370859622955322, 6.1576995849609375, -9.759926795959473, -5.364297866821289, 9.188422203063965, 6.51329231262207, 0.10767446458339691, -8.688827514648438, 6.663843154907227, -6.48039436340332, -1.4386111497879028, -5.5483503341674805, 9.642425537109375, 3.8113808631896973, 7.2383928298950195, -5.020519256591797, -4.926298141479492, 5.7284159660339355, -17.247161865234375, 3.9854953289031982, -7.836183071136475, -1.9962083101272583, -2.1060662269592285, -8.087247848510742, -8.462657928466797, 4.236148357391357, 12.702731132507324, 5.508093357086182, 3.091571807861328, 4.833887100219727, -3.262995958328247, 4.502350807189941, -1.9962161779403687, -13.526202201843262, 1.4909487962722778, 1.4909486770629883, 4.781216144561768, 3.941574811935425, -5.02047872543335, -2.920395851135254, 0.5906854271888733, -3.410993814468384, -18.914255142211914, 11.632562637329102, -6.035855770111084, -3.947715997695923, 0.2304190695285797, -1.0180647373199463, 3.3931005001068115, -2.0251080989837646, -4.866072177886963, 5.779258728027344, 6.479034900665283, 9.645299911499023, 0.9156935214996338, -15.645212173461914, -17.40740966796875, -4.486630916595459, -6.5828471183776855, -14.720826148986816, 3.179460048675537, -15.32630729675293, -16.349075317382812, -15.929347038269043, 4.148169994354248, -8.056880950927734, 2.9176273345947266, -0.3534507751464844, -13.994612693786621, 0.06920348107814789, -0.13689665496349335, -3.31897234916687, -16.50712013244629, -16.984941482543945, -17.272151947021484, -16.445171356201172, -15.798583030700684, -0.6525826454162598, -13.100377082824707, 4.666436672210693, -15.270230293273926, 2.4015049934387207, -17.366422653198242, -10.621400833129883, 8.992341041564941, -16.917423248291016, -0.16339311003684998, 0.5383020043373108, -10.59019947052002, 3.1808249950408936, -14.740924835205078, -1.115595817565918, -15.717949867248535, -6.541161060333252, -0.11651911586523056, -16.129302978515625, -1.1486395597457886, 9.023232460021973, -3.7732412815093994, -4.459471702575684, 1.6659432649612427, 10.272461891174316, -3.16741681098938, -9.190394401550293, 3.2580878734588623, -0.7338011264801025, -16.798051834106445, -1.9813838005065918, 5.382774353027344, 0.5089054703712463, -10.378658294677734, -11.552696228027344, -1.4905816316604614, 6.513322830200195, 9.76373291015625, -15.74022102355957, -6.956218242645264, 0.0690578743815422, -5.453080177307129, -0.6907406449317932, -2.048992872238159, -1.5553920269012451, 2.291752576828003, -6.454870700836182, -9.766644477844238, 4.0812177658081055, 10.852513313293457, -6.594726085662842, -8.24982738494873, -15.897313117980957, -11.978647232055664, -6.336075782775879, -1.7089383602142334, 3.489767074584961, -3.528785228729248, -4.387448310852051, 3.192176342010498, -11.776862144470215, 0.20205137133598328, 2.490114688873291, 0.08056579530239105, -15.069828987121582, -15.117847442626953, -6.136367321014404, 4.613077163696289, -3.9929356575012207, -16.312530517578125, 3.8107054233551025, 10.146721839904785, 9.627731323242188, -11.552740097045898, -12.606724739074707, -4.022292137145996, -1.3468855619430542, 7.698554039001465, -0.35353320837020874, 1.546183466911316, -10.304422378540039, -3.8517653942108154, -6.561470985412598, 2.401505708694458, -13.606368064880371, -10.378658294677734, -7.687837600708008, -1.2290594577789307, 3.190563678741455, 3.0683746337890625, -0.5103694796562195, -13.00208568572998, 2.8068759441375732, -11.97860050201416, -5.807388782501221, -5.690258502960205, -3.5835297107696533, -6.7228217124938965, -0.11651911586523056, 4.600649833679199, -1.2773821353912354, -0.2017969787120819, -1.0870829820632935, -10.621410369873047, 9.776519775390625, -6.108623027801514, -13.423683166503906, -5.288786888122559, -3.852095127105713, 3.068101406097412, -5.824487686157227, -6.541179656982422, -6.64608097076416, -9.170259475708008, 1.5632059574127197, -6.700475215911865, 3.811380386352539, -6.98806619644165, -16.024194717407227, -15.66393756866455, -13.971692085266113, 8.975049018859863, 4.5909953117370605, -3.991798162460327, -13.958531379699707, -10.323667526245117, -6.186631202697754, 9.562153816223145, 0.5383453369140625, -15.973753929138184, 0.7455896139144897, -17.20134162902832, 6.501971244812012, -14.968969345092773, -10.298504829406738, 9.515792846679688, 8.192765235900879, -5.71165657043457, -6.810176372528076, -6.764408111572266, -2.048670530319214, -6.693256855010986, 5.8109941482543945, 2.6871650218963623, -14.375667572021484, -1.0870873928070068, 1.546015977859497, 4.556093215942383, -6.063499450683594, -0.7732999920845032, -0.11651911586523056, -3.583634376525879, 10.52458381652832, 5.551494598388672, -7.701805591583252, -15.613997459411621, 5.779368877410889, 6.602153778076172, -6.2002692222595215, -5.096092700958252, 10.525313377380371, 10.190323829650879, -16.344837188720703, 1.5461851358413696, 6.149109840393066, -4.531162261962891, -0.20181480050086975, -1.0165170431137085, -11.552787780761719, -15.220751762390137, 4.556098461151123, 10.854361534118652, -3.5296337604522705, -3.9718358516693115, 3.8433754444122314, -0.6855682134628296, 4.317383289337158, -1.7983851432800293, 3.824575424194336, -14.846060752868652, 10.60678482055664, 5.004199028015137, -2.7066292762756348, -1.5652002096176147, 4.04185676574707, 0.5380106568336487, 4.556097984313965, 3.5593466758728027, 5.190059185028076, 10.852499008178711, 3.843374490737915, -12.54867935180664, 10.606654167175293, 4.6131768226623535, 5.731077194213867, 9.524215698242188, -12.678877830505371, -2.8599658012390137, 5.221080303192139, -13.015871047973633, -13.639660835266113, 9.743494033813477, -3.930121421813965, -3.618241310119629, -2.2988529205322266, -4.387271881103516, -2.3921291828155518, -11.781944274902344, -11.552736282348633, -10.221535682678223, -1.7223635911941528, -11.006572723388672, -6.662471294403076, -16.437175750732422, -0.2018040418624878, 6.103514671325684, -6.100319862365723, -4.267828464508057, -1.4686625003814697, 0.05283340811729431, -6.575045585632324, -4.546920299530029, -1.7047994136810303, 0.1827733963727951, -5.020602703094482, -6.31363582611084, -12.81637954711914, 6.542209148406982, -13.360450744628906, 10.450085639953613, 9.11875057220459, -14.110380172729492, -0.8042569756507874, -15.141674995422363, -6.39493465423584, -0.20179250836372375, -16.670629501342773, 4.081187725067139, -3.529914617538452, -11.610711097717285, 8.725391387939453, 2.49006724357605, -1.584500789642334, -6.329095840454102, -5.824488639831543, 5.206932067871094, -9.27721118927002, -7.846334934234619, 9.743494033813477, 4.081199645996094, -11.978601455688477, -0.6013964414596558, 2.7385194301605225, -6.541179656982422, -6.64608097076416, -5.682445526123047, -1.0171277523040771, 8.629791259765625, 3.2609174251556396, 1.5267070531845093, -2.113509178161621, 2.590355157852173, -15.500003814697266, -3.529789924621582, -0.9153085350990295, 1.1564453840255737, 11.813126564025879, -1.1504838466644287, -3.0753746032714844, -17.366382598876953, 4.992100715637207, -8.605168342590332, 5.233482360839844, 8.742307662963867, 2.3842458724975586, -14.879286766052246, 12.172810554504395, -1.3339661359786987, -8.418133735656738, -0.31597334146499634, -6.588183879852295, 1.031050443649292, 3.8437771797180176, -6.925576686859131, -4.481039047241211, -0.669992983341217, 5.358325958251953, 2.7101335525512695, 0.5481984615325928, -3.93971586227417, -2.311957597732544, 5.587804317474365, 0.5384093523025513, -15.667633056640625, -10.47532844543457, -5.2831902503967285, -14.163277626037598, -3.88291597366333, -2.4752557277679443, -2.190770387649536, 9.825553894042969, -11.782143592834473, 8.650442123413086, -2.0772507190704346, -7.818148612976074, -3.0942413806915283, 11.590197563171387, -4.665756702423096, 8.192670822143555, 8.192687034606934, 11.067788124084473, 6.341560363769531, -4.096108913421631, -6.70652437210083, 5.615792274475098, -15.360958099365234, -0.9100890159606934, -14.16517162322998, 9.646002769470215, -11.782553672790527, 8.928791046142578, 8.195838928222656, -2.036773920059204, -3.144880533218384, -12.206573486328125, 0.05927834287285805, -0.8658787608146667, 11.262686729431152, -1.3673943281173706], \"y\": [18.12928581237793, -9.102401733398438, -9.07765007019043, -5.79933500289917, -9.536800384521484, 21.13047981262207, 21.846797943115234, -2.9602386951446533, -4.6194586753845215, -5.317627429962158, -13.429388999938965, -8.306499481201172, 20.28727149963379, -14.523991584777832, -11.427908897399902, -12.043335914611816, -3.0850048065185547, -9.444440841674805, -3.0906295776367188, 7.3587188720703125, -8.97293758392334, -4.989601135253906, -7.474130153656006, -0.08222223818302155, -1.4012330770492554, -5.346463203430176, -10.89377212524414, -1.3841708898544312, -4.619727611541748, -8.581127166748047, -0.5587400794029236, -6.049309253692627, -13.221611022949219, -14.064611434936523, -11.244380950927734, 20.30328941345215, -10.69955062866211, -11.13286304473877, -7.9008331298828125, -13.45508098602295, -8.837690353393555, -11.28509521484375, -5.946811199188232, -13.434480667114258, -9.89058780670166, -3.2384490966796875, -3.388415813446045, -10.903572082519531, -0.4683539867401123, -1.436895489692688, -4.440323829650879, -6.15500020980835, -14.788399696350098, -10.120984077453613, -2.3141820430755615, 7.580610752105713, -2.524120330810547, -13.168099403381348, -10.787460327148438, -5.870190143585205, -9.710371017456055, -10.003876686096191, -14.648137092590332, -13.777002334594727, 19.459257125854492, -3.3885016441345215, -12.357237815856934, -13.374565124511719, -10.500520706176758, -10.253653526306152, -10.496273040771484, -4.184072017669678, 4.613399982452393, -10.496417045593262, -13.592080116271973, -8.553892135620117, -3.7551562786102295, -11.543527603149414, 18.553136825561523, -2.2147605419158936, -9.202999114990234, -4.2911696434021, -13.513093948364258, -10.788763046264648, -3.4274253845214844, -5.799498558044434, -5.799488544464111, -7.878805637359619, 22.147363662719727, -9.214967727661133, -14.118529319763184, 0.7010891437530518, -3.5894734859466553, -8.14501953125, -9.44445514678955, -10.141342163085938, -5.946899890899658, -10.485990524291992, 7.400973320007324, -15.067482948303223, -13.883265495300293, -15.20470905303955, 21.33033561706543, -13.109414100646973, -14.153403282165527, -14.554034233093262, -9.749495506286621, -4.52964448928833, -13.101938247680664, -14.866497993469238, -13.236978530883789, 18.054107666015625, -12.458600044250488, -2.481030225753784, -10.961590766906738, -8.23283576965332, -5.230506420135498, -4.784531116485596, -14.615335464477539, -6.227015972137451, 17.151382446289062, -7.152152061462402, -11.402266502380371, -8.95763111114502, -7.671694278717041, -9.087811470031738, -5.469433784484863, -15.027863502502441, -0.35355108976364136, 18.152809143066406, -8.531387329101562, -5.727072715759277, -4.325812816619873, -5.8701677322387695, -6.265687942504883, -13.434553146362305, -3.3884189128875732, -4.239911079406738, -11.6517333984375, 7.081695556640625, -10.803906440734863, -12.632109642028809, -3.6223936080932617, -5.870243549346924, -7.898660182952881, -4.620063781738281, -5.433404445648193, -14.218482971191406, -6.592705249786377, -2.612208843231201, -11.86014461517334, -10.238621711730957, -3.645630359649658, -13.434490203857422, 18.152790069580078, -10.699790000915527, -13.434460639953613, -8.585305213928223, -0.25458064675331116, -5.623120307922363, -0.062192533165216446, -9.44449520111084, -13.112471580505371, -8.30361270904541, -9.890580177307129, 19.84076499938965, -4.6743059158325195, -9.621810913085938, -5.69450044631958, -8.882707595825195, 21.385530471801758, -8.023866653442383, -3.2066683769226074, -9.6217679977417, -7.130144119262695, -8.992549896240234, -8.044587135314941, -13.43445110321045, -4.099264621734619, -12.151677131652832, -2.3775830268859863, 21.911718368530273, -3.668369770050049, -13.83936595916748, -8.282536506652832, -0.1264515072107315, 8.093586921691895, -9.878243446350098, -3.3235723972320557, -3.589413642883301, -9.65152359008789, -8.709003448486328, -8.309879302978516, -2.4813778400421143, 20.869565963745117, 7.442014694213867, -7.842812538146973, -5.1634392738342285, -12.043355941772461, -11.856606483459473, -15.10593318939209, -4.619732856750488, -4.921970844268799, 21.67720603942871, 21.581398010253906, -2.3152546882629395, -9.651512145996094, -10.949837684631348, -11.881388664245605, -4.784518718719482, -11.027252197265625, -11.396156311035156, -2.0192878246307373, -10.700121879577637, -3.8050622940063477, -0.4635494351387024, 17.729040145874023, 17.570579528808594, -2.2630326747894287, -12.417306900024414, -0.2672388255596161, -3.4724042415618896, 21.54203224182129, -8.038151741027832, -7.878809452056885, 21.929393768310547, 17.3624210357666, -6.3857197761535645, -4.647157192230225, -2.2637763023376465, -1.6547596454620361, -10.37963581085205, 21.57637596130371, -4.784534931182861, -5.740243911743164, -1.2843080759048462, -1.091490387916565, -6.114929676055908, -8.687390327453613, -10.007585525512695, -10.949823379516602, -0.6361028552055359, -14.741866111755371, -10.19165325164795, -6.569953918457031, 21.607177734375, -3.805058240890503, -10.091445922851562, -9.455262184143066, -9.785178184509277, -2.464566707611084, -14.610532760620117, -7.78343391418457, -9.10910701751709, -8.898487091064453, -3.143897533416748, -8.038209915161133, -15.03195571899414, -12.479090690612793, -2.680034875869751, -2.6311328411102295, -4.059421062469482, -14.926098823547363, -8.085622787475586, -8.708983421325684, -7.713547706604004, -14.610803604125977, -7.330290794372559, 19.883493423461914, -11.081022262573242, -15.22526741027832, -14.187159538269043, -8.826699256896973, -15.053641319274902, -12.541604042053223, -6.12163782119751, 18.554702758789062, -4.232059478759766, -7.878810405731201, -8.0380859375, -11.401759147644043, -8.773868560791016, -2.488800287246704, -8.342446327209473, -15.160330772399902, -8.383748054504395, -11.715561866760254, -14.625041961669922, -15.671728134155273, -4.740688800811768, 18.152753829956055, -8.456415176391602, -9.407888412475586, 11.652716636657715, 7.80449104309082, -2.057251214981079, -8.389249801635742, -1.5070732831954956, -2.7497928142547607, -2.7497928142547607, 12.545209884643555, -8.69591236114502, -8.03816032409668, 2.158917188644409, -15.124937057495117, 7.205320835113525, -1.4160032272338867, 21.607181549072266, -7.534066677093506, 7.589488506317139, -15.57636547088623, -4.619704723358154, -8.387869834899902, -9.557089805603027, -5.625687122344971, -10.699763298034668, -12.688764572143555, 19.229358673095703, -15.447912216186523, -6.492870807647705, -2.909940719604492, 3.431335210800171, -7.206026554107666, -1.3176838159561157, -9.128376007080078, 0.5023496150970459, 0.5591735243797302, -0.8070674538612366, -9.623713493347168, -13.96842098236084, -8.859772682189941, -5.25573205947876, -1.9176069498062134, -4.784797191619873, -13.747612953186035, 7.212314605712891, -0.08350169658660889, -1.3625470399856567, -0.5497549176216125, -2.348142623901367, -4.330297470092773, -10.212510108947754, -3.396324634552002, -9.735912322998047, -3.86419415473938, -12.29544448852539, -5.016479969024658, -9.946831703186035, 20.51373291015625, -0.17441193759441376, -15.146665573120117, -9.568316459655762, -10.003876686096191, -8.601518630981445, -2.9471259117126465, -11.435839653015137, -5.799431800842285, 7.011860370635986, -4.099264621734619, -2.916768789291382, -11.448465347290039, 21.490699768066406, 6.92339563369751, 3.5845510959625244, -10.123805046081543, 21.29960823059082, -3.8071725368499756, -10.428766250610352, -8.222485542297363, -10.494712829589844, -3.82004451751709, -10.229467391967773, -12.043262481689453, -15.594432830810547, -9.852391242980957, -7.477851390838623, -11.175827026367188, -11.080982208251953, 19.360660552978516, 0.571806013584137, -3.878612995147705, -4.784195899963379, -5.4425554275512695, -11.382452011108398, -11.509519577026367, -9.100420951843262, -13.46438217163086, -7.479077339172363, -14.602867126464844, -10.949820518493652, 18.323293685913086, -6.128357410430908, -14.596504211425781, -3.1895358562469482, -8.040440559387207, -5.602665424346924, -11.09982681274414, -9.758553504943848, -3.3874642848968506, -13.101947784423828, -8.24648666381836, -7.591152667999268, -8.491354942321777, -8.884718894958496, -15.199835777282715, -2.9441721439361572, -3.2412075996398926, -7.576832294464111, 12.214111328125, -8.723055839538574, -1.7585294246673584, -4.233788013458252, 21.379186630249023, 20.992650985717773, -7.475851535797119, -0.5978120565414429, -8.64004898071289, -12.337451934814453, -9.060651779174805, -5.255589962005615, -3.326805830001831, -9.848113059997559, -13.43449878692627, -5.538509845733643, -12.295493125915527, -1.2737287282943726, -9.852391242980957, -14.102272987365723, -12.108606338500977, -10.04304027557373, -5.946796894073486, -10.524137496948242, -1.2929669618606567, -13.09078311920166, -8.040315628051758, -4.916311264038086, -4.397589683532715, -14.833155632019043, -4.981440544128418, -4.099264621734619, -5.160878658294678, -12.1101655960083, -5.917426109313965, -10.841378211975098, -9.946836471557617, 20.639772415161133, -5.009110450744629, 0.4120899438858032, -4.666409015655518, -13.434575080871582, -5.947202682495117, -4.040339469909668, 7.011573314666748, -3.6649973392486572, -12.441378593444824, -3.433875322341919, -3.674382209777832, -4.232059001922607, -2.4128527641296387, -2.17389178276062, -1.4711360931396484, -2.138697624206543, 22.06814956665039, -4.3258256912231445, 7.131167411804199, -0.7137457132339478, -9.855853080749512, -4.727921009063721, 20.513986587524414, -9.568408012390137, -2.092418909072876, -15.406708717346191, -1.270664930343628, 5.425666809082031, -1.922651767730713, -11.452167510986328, 20.396581649780273, -8.55391788482666, -3.2876644134521484, -7.1427693367004395, -3.765641689300537, -12.041163444519043, -7.790928840637207, -7.608682632446289, -5.7915802001953125, -2.1860110759735107, -10.841378211975098, -3.326803207397461, -3.589409351348877, -5.9140777587890625, -12.093957901000977, -4.099264621734619, -14.832887649536133, 17.84025764465332, -7.748851776123047, -14.282285690307617, -0.9497635960578918, -10.69997501373291, -8.682842254638672, -4.1802215576171875, -9.6228609085083, 18.188785552978516, 17.980735778808594, -1.3536311388015747, -3.32680606842041, -4.07209587097168, -5.451494216918945, -5.917385101318359, -4.618020534515381, -7.475777626037598, -3.907041549682617, -3.5893959999084473, 18.321277618408203, -3.388392925262451, -1.3980904817581177, -4.242720603942871, -11.325516700744629, -4.103256702423096, -9.255725860595703, -4.236477851867676, -1.4221429824829102, 20.226951599121094, -9.325528144836426, -7.6536478996276855, -9.576687812805176, -8.98961353302002, -9.571019172668457, -3.5893959999084473, -9.606237411499023, -9.796384811401367, 18.32329559326172, -4.2427215576171875, -2.2862985134124756, 20.226926803588867, 12.214430809020996, -9.03300666809082, 22.1547794342041, -1.097151517868042, -4.760751247406006, -8.015055656433105, -2.2406349182128906, -1.07960844039917, 21.243974685668945, -8.70309829711914, 7.012280464172363, -9.176253318786621, -13.101801872253418, -8.51909351348877, -7.577099800109863, -7.475858688354492, -9.7611665725708, -10.652528762817383, -2.960235834121704, -3.8659279346466064, -3.1841251850128174, -5.917429447174072, -8.928616523742676, -7.597997665405273, 4.613411903381348, -8.872241973876953, -14.811808586120605, -4.665774345397949, -8.338363647460938, -8.46329116821289, -8.385870933532715, -8.038148880004883, -6.915428638458252, -0.2949165403842926, -12.632074356079102, -4.131107330322266, 17.891923904418945, 21.10107421875, -4.174088001251221, -10.97799301147461, 0.879536509513855, -7.395168781280518, -5.917546272277832, -3.5666792392730713, -10.949873924255371, -3.388481616973877, -4.715962886810303, 20.937984466552734, -8.884718894958496, -12.209808349609375, -5.042504787445068, -4.040338516235352, -8.571843147277832, -6.766862869262695, -14.429564476013184, 21.243974685668945, -10.949868202209473, -8.040315628051758, -13.553747177124023, -13.241856575012207, 7.011573314666748, -3.6649978160858154, -3.9290950298309326, -4.6195549964904785, 19.781524658203125, -9.890518188476562, -10.787456512451172, -9.004420280456543, -13.051590919494629, -1.4179370403289795, -3.388200283050537, -8.785482406616211, -2.6123476028442383, 17.265405654907227, -11.831954956054688, -4.714097023010254, -5.016479969024658, -10.485849380493164, -14.115530014038086, -8.466854095458984, 19.261943817138672, -12.915141105651855, -3.4272899627685547, 19.459257125854492, -12.855591773986816, -14.202123641967773, -13.03534984588623, 6.647744655609131, -14.834991455078125, -4.239278793334961, -5.4666972160339355, -5.551100730895996, -10.168499946594238, -8.909382820129395, -13.512252807617188, -5.728147029876709, -5.456979274749756, -11.758563995361328, -8.967769622802734, -9.567859649658203, -4.436233043670654, -14.829602241516113, -6.410305023193359, -1.1084747314453125, 7.029685020446777, -12.470232009887695, -8.664022445678711, 19.287933349609375, -7.5766987800598145, 21.042356491088867, -8.628790855407715, -14.937922477722168, 3.826549768447876, 20.894380569458008, -5.822561740875244, -8.55394172668457, -8.553961753845215, 17.69364356994629, -8.625212669372559, -1.3762750625610352, -4.337582588195801, -8.197796821594238, -2.3639543056488037, -3.3142282962799072, 0.5960263609886169, 19.227476119995117, -7.5770111083984375, 20.389249801635742, -5.04327392578125, -10.943856239318848, -9.444465637207031, -1.42653489112854, -13.75832462310791, -12.486385345458984, 21.14328956604004, -9.261116027832031], \"z\": [0.24368026852607727, 1.904797911643982, -15.071372032165527, 4.558959007263184, -2.9026505947113037, -1.2361079454421997, 0.34114331007003784, -5.986684799194336, 6.2405877113342285, 17.197416305541992, 2.478339910507202, -14.752551078796387, 2.9829137325286865, -0.6450411677360535, 14.500189781188965, 0.2868405282497406, -10.388153076171875, -3.339505195617676, -9.931938171386719, 13.936707496643066, -15.406682014465332, 6.6044087409973145, 17.390527725219727, -8.245064735412598, -11.576142311096191, 16.388521194458008, -17.05833625793457, -9.103849411010742, 6.240126609802246, -13.919600486755371, -10.658904075622559, 2.9841721057891846, 2.1646530628204346, 1.8133349418640137, -0.9561622738838196, -0.8246226906776428, -0.8015146255493164, -3.0768203735351562, 18.009803771972656, 1.7213577032089233, -14.767251968383789, 3.4140779972076416, 0.5510566234588623, -2.2761104106903076, -10.415456771850586, -8.918841361999512, -14.101140975952148, 4.8296709060668945, -11.814212799072266, -9.076897621154785, -7.184450149536133, -4.648583889007568, 5.233602523803711, 14.75, -10.857608795166016, 13.50550651550293, -11.685018539428711, 1.609418511390686, -17.03214454650879, 8.010202407836914, 5.75678825378418, 5.84311056137085, 4.418018817901611, 2.0369107723236084, 2.087841033935547, -14.101016998291016, 3.351734161376953, -13.44300651550293, -1.865227222442627, 0.30858907103538513, -2.9206342697143555, 18.38267707824707, 14.318855285644531, -2.9206366539001465, 1.6941996812820435, 4.496251106262207, -13.238452911376953, 5.323800563812256, -0.3043234050273895, -8.693854331970215, -14.697819709777832, -8.801169395446777, -13.93323802947998, 4.541082382202148, -8.704923629760742, 4.558959484100342, 4.558854579925537, -11.145491600036621, -0.44088080525398254, -15.166019439697266, 2.1386871337890625, -10.810831069946289, 3.7429540157318115, 7.006405353546143, -3.339439868927002, 14.885812759399414, 0.5511506795883179, 4.287016868591309, 13.958621978759766, 0.9966411590576172, 4.317278861999512, 4.404308319091797, -0.8143259882926941, -14.054642677307129, 5.727045059204102, 5.7059478759765625, 16.456865310668945, -10.009485244750977, -0.6217033267021179, 4.265824794769287, -13.885796546936035, 1.2058700323104858, 0.5993963479995728, -16.52010726928711, 6.483041286468506, 8.13261890411377, 3.462430238723755, -7.271901607513428, 0.6891694068908691, 17.914907455444336, -0.5765397548675537, -12.368483543395996, 0.470768004655838, 16.527265548706055, 8.10566234588623, 7.383028984069824, 7.436469554901123, 4.949400901794434, -9.17359447479248, -0.9474021196365356, 5.270624160766602, 2.690035820007324, 11.126166343688965, 8.01024055480957, 19.166385650634766, -2.2763712406158447, -14.101040840148926, 0.24762755632400513, 2.713397979736328, 13.889284133911133, 15.196059226989746, -13.362786293029785, 17.692209243774414, 8.010174751281738, 8.282917976379395, 6.2407121658325195, 11.345243453979492, 3.9158437252044678, 20.1059513092041, 8.864970207214355, 3.3675992488861084, 4.369148254394531, 18.1215763092041, -2.276045083999634, -0.9473851919174194, -0.8013290166854858, -2.276008129119873, 8.529305458068848, -10.279425621032715, 19.19780158996582, -11.75582504272461, -3.3395016193389893, -13.528101921081543, -14.114598274230957, -10.415428161621094, -2.689427137374878, 19.014474868774414, 1.1263885498046875, 19.649965286254883, 15.922965049743652, -0.2132214456796646, -14.640039443969727, -11.835622787475586, 1.126390814781189, -4.193219184875488, -0.79013592004776, -14.24224853515625, -2.275996446609497, -7.961301803588867, 14.245214462280273, -10.014238357543945, -0.8846625685691833, -13.759822845458984, 2.388554573059082, -15.108708381652832, -11.163657188415527, 14.070544242858887, 0.04306337237358093, 4.667412757873535, 3.742928981781006, 8.784364700317383, -15.256789207458496, 7.477321147918701, -16.519210815429688, 0.8399777412414551, 13.396710395812988, 7.599478244781494, 4.391209602355957, 0.2869238257408142, 3.9146347045898438, 4.739719390869141, 6.23975133895874, 19.10800552368164, -1.3088812828063965, -1.2468386888504028, -7.388748645782471, 8.784379005432129, 6.4899210929870605, 3.8787643909454346, -7.272078037261963, -3.1686203479766846, 14.068865776062012, -10.68596076965332, -0.8008356690406799, -13.247708320617676, -9.606021881103516, 0.9714493751525879, 0.5148584842681885, -11.310566902160645, 14.382827758789062, -7.738855361938477, -7.8710761070251465, -1.5141713619232178, 0.8266528248786926, -11.145535469055176, -0.5969637632369995, 0.5415832996368408, 6.780121326446533, 17.741056442260742, -10.326408386230469, -10.008984565734863, 4.549383640289307, -0.2558102309703827, -7.271915912628174, 6.634707927703857, -12.448128700256348, -11.088244438171387, -15.004070281982422, 16.580219268798828, 8.266031265258789, 6.48991584777832, -9.604000091552734, 0.9306674599647522, 15.411128044128418, 1.9694448709487915, 0.9674286842346191, -13.247925758361816, -13.762701034545898, -13.746367454528809, -2.471442937850952, -11.127220153808594, 4.130550384521484, -16.217693328857422, -14.441669464111328, -4.524483680725098, -9.30670166015625, 0.826690137386322, -0.2602115869522095, 5.213364601135254, -0.6628955006599426, -12.451408386230469, 18.59477996826172, 5.095317363739014, 8.466548919677734, 10.14355754852295, 7.322592735290527, 5.2475457191467285, 18.152931213378906, -0.11068657040596008, -0.4894876182079315, 1.3145475387573242, 4.312955856323242, 7.622796058654785, 5.308474540710449, 2.3923861980438232, 0.12361777573823929, -0.3059181272983551, 0.24619294703006744, -11.145489692687988, 0.826646089553833, 0.4344046711921692, 7.100659370422363, -8.699116706848145, -13.817516326904297, 4.538708209991455, 16.309471130371094, 3.5423190593719482, 3.877387523651123, 3.091332197189331, 11.404338836669922, -0.9474048614501953, 8.397265434265137, -14.442340850830078, 2.1676149368286133, 14.748759269714355, 2.736421585083008, 16.746231079101562, -9.331314086914062, 5.343173980712891, 5.343174457550049, 1.9792208671569824, -13.64199447631836, 0.8265045881271362, 8.902067184448242, 1.3724384307861328, 13.471343040466309, -8.706624031066895, 0.9674286842346191, 15.437618255615234, 13.633132934570312, 0.6085251569747925, 6.239753723144531, -15.173839569091797, 16.09752655029297, 19.196491241455078, -0.8013433218002319, -13.360783576965332, -0.5743758082389832, 0.5825048089027405, 4.4429030418396, -9.926228523254395, 14.815286636352539, 16.415103912353516, -10.155778884887695, -13.862536430358887, -8.449383735656738, -9.61461067199707, -7.421070098876953, -14.658101081848145, 4.898799419403076, -14.554669380187988, -13.322747230529785, -12.189279556274414, -7.271787643432617, 1.4507232904434204, 13.72148609161377, -8.442414283752441, -8.03638744354248, -9.464983940124512, -9.663841247558594, -10.548822402954102, 15.2338228225708, -10.852970123291016, -13.25644302368164, -11.731205940246582, 5.406111717224121, -6.513293743133545, 5.529860019683838, -0.23748022317886353, -10.644251823425293, 0.9451655745506287, -0.46958425641059875, 5.84311056137085, -13.858227729797363, -8.626307487487793, 2.8586087226867676, 4.558870792388916, 11.23939323425293, -7.961302757263184, -11.859002113342285, 3.758392810821533, 1.53007173538208, 13.522019386291504, 14.749995231628418, -2.845302104949951, 1.9239226579666138, -13.049703598022461, 6.181995391845703, -14.743350982666016, 13.969500541687012, -9.389780044555664, 4.190854549407959, 0.28684452176094055, 1.0033869743347168, 5.935160160064697, 5.330873966217041, 2.992147445678711, -0.48952117562294006, 0.18610750138759613, -10.893656730651855, 17.23927879333496, -7.2719316482543945, 18.725536346435547, 14.362950325012207, 3.059849739074707, 16.671245574951172, -13.572754859924316, 16.3206844329834, 5.243424415588379, 6.489917755126953, 1.0426409244537354, 17.30480194091797, 5.2567901611328125, -10.061984062194824, 6.5141825675964355, 16.84442901611328, 3.3427670001983643, -14.409198760986328, -14.101791381835938, -0.6217234134674072, -14.289254188537598, 5.242361545562744, 1.2572791576385498, 9.761448860168457, 0.3761832118034363, -7.365823268890381, -10.84692096710205, 16.74334716796875, 1.994325041770935, -0.8577259182929993, -12.125696182250977, 0.24693968892097473, 1.5991328954696655, 1.3529934883117676, 5.332441806793213, -10.525691986083984, -0.9127902388572693, 3.6072206497192383, 4.64556360244751, -13.322676658630371, 6.981298446655273, 5.459315776824951, -2.2760226726531982, 16.54534149169922, 5.406129837036133, -10.398837089538574, 5.935160160064697, 4.563226699829102, 15.291752815246582, -10.339941024780273, 0.5510557889938354, 14.995594024658203, -11.511026382446289, -13.713348388671875, 6.513922691345215, 17.501596450805664, 17.41397476196289, -0.39090144634246826, 17.307228088378906, -7.961302280426025, 4.391437530517578, 2.3914692401885986, -14.662493705749512, -1.4937069416046143, 5.529873371124268, -0.3473431169986725, 17.779586791992188, -9.999934196472168, 18.684064865112305, -2.276451826095581, 0.5514883995056152, -13.92680835723877, 11.239524841308594, 4.480747699737549, 4.838700771331787, 7.0659942626953125, 4.55875825881958, 0.24619412422180176, 6.036022663116455, -7.313163757324219, -9.757967948913574, -10.917895317077637, -1.1611335277557373, 11.12619686126709, 13.436426162719727, -12.138230323791504, 5.448596000671387, 17.057878494262695, -0.05022595077753067, -0.46961987018585205, -8.478079795837402, 0.06383412331342697, -11.194674491882324, 12.807701110839844, -8.11966609954834, 5.34981632232666, -1.143167495727539, 4.496282577514648, -13.846413612365723, 16.57256507873535, -13.691671371459961, 3.1007230281829834, -4.005695819854736, 7.84229850769043, -0.4045412540435791, -9.709939002990723, -1.4937069416046143, 6.981292247772217, 3.7428746223449707, 17.197660446166992, 2.700385332107544, -7.961302757263184, -0.39083054661750793, 1.1912727355957031, 7.385838031768799, 4.1274213790893555, -8.51319694519043, -0.8010817170143127, 8.208966255187988, 17.215444564819336, 1.1266149282455444, 1.2900933027267456, -0.2597622871398926, -10.392102241516113, 6.981298446655273, -1.290601134300232, -13.978564262390137, -14.662489891052246, 6.2406206130981445, 5.332457065582275, -8.084738731384277, 3.7428767681121826, 1.0489516258239746, -14.101277351379395, -11.572632789611816, 0.24750784039497375, 14.438789367675781, 3.1324727535247803, 16.975780487060547, 0.24402789771556854, -7.084418773651123, 3.0146584510803223, -13.25549602508545, 16.186481475830078, 16.53087043762207, -14.270244598388672, -0.46611008048057556, 3.7428765296936035, -15.062118530273438, -13.835208892822266, 1.0426760911941528, 0.24750901758670807, -9.012843132019043, 3.0148308277130127, 1.9942317008972168, 7.548396587371826, -0.6936113834381104, -8.435857772827148, 4.05002498626709, 7.835658073425293, -7.975852012634277, -7.494482040405273, -0.43452122807502747, -0.8875918984413147, 14.000602722167969, 16.891748428344727, -0.6218708157539368, 16.883563995361328, 5.24273681640625, 5.332440376281738, 5.581852912902832, 4.7983174324035645, -5.986684322357178, 17.79932403564453, -8.057458877563477, -14.66250228881836, 8.13387393951416, 15.802428245544434, 14.318851470947266, 14.314262390136719, 0.5089720487594604, 18.098085403442383, -5.49265718460083, 16.772235870361328, 1.3375508785247803, 0.8266897797584534, 16.85151481628418, -9.262049674987793, -13.362700462341309, -9.807713508605957, 1.180661678314209, -1.385886549949646, -11.028580665588379, -2.3890438079833984, -9.737858772277832, 17.028818130493164, -14.66247272491455, -10.881147384643555, 6.489899635314941, -14.101024627685547, 2.681154489517212, -0.2594093680381775, 9.761467933654785, 14.525506973266602, 17.95960807800293, -13.926819801330566, 7.877732276916504, 6.728114604949951, 5.061191082000732, -0.43452104926109314, 6.4899067878723145, 6.513922214508057, 1.3825490474700928, -13.984119415283203, 11.239524841308594, 4.480746746063232, 17.661645889282227, 6.240584373474121, -2.6993777751922607, -10.415458679199219, -17.031963348388672, 16.135377883911133, -13.460420608520508, -11.245818138122559, -14.101143836975098, 15.768357276916504, 8.86491584777832, -0.05471247434616089, 14.214802742004395, 3.6274783611297607, -6.513294219970703, -15.54857063293457, 4.675570487976074, 7.353424072265625, -2.8300788402557373, -13.7727689743042, -9.641563415527344, 2.087841033935547, 2.809340476989746, 5.086439609527588, 1.7667169570922852, 11.395341873168945, -0.5261020660400391, 0.2420053482055664, 17.86415672302246, -13.975241661071777, 15.200407028198242, -14.141461372375488, -13.740592956542969, -4.534483909606934, 16.34478759765625, -3.2672221660614014, 8.022700309753418, -0.47026851773262024, -9.197773933410645, 5.233561038970947, 18.337406158447266, -8.517877578735352, 14.015778541564941, 14.306556701660156, 17.06788444519043, 0.32833370566368103, 5.242696762084961, -1.1411255598068237, 16.205656051635742, 4.130410671234131, 5.689948081970215, -0.5444628000259399, 17.938814163208008, 4.496381759643555, 4.4963250160217285, 0.9802718162536621, 7.033442974090576, -11.5013427734375, 18.10375213623047, 7.029113292694092, -9.290166854858398, 8.507972717285156, -9.064262390136719, -0.5717425346374512, 5.244236946105957, -0.6580581068992615, 7.304068088531494, 4.899923801422119, -3.3395047187805176, -9.693760871887207, 2.1425490379333496, 3.179175615310669, -0.6615734696388245, 14.435479164123535]}, {\"hovertemplate\": \"Dominant_Topic=Topic 13<br>0=%{x}<br>1=%{y}<br>2=%{z}<extra></extra>\", \"legendgroup\": \"Topic 13\", \"marker\": {\"color\": \"#19d3f3\", \"opacity\": 0.7, \"symbol\": \"circle\"}, \"mode\": \"markers\", \"name\": \"Topic 13\", \"scene\": \"scene\", \"showlegend\": true, \"type\": \"scatter3d\", \"x\": [-1.784610390663147, -1.1803463697433472, -0.990949809551239, -2.0902044773101807, -0.4944417178630829, -1.1823770999908447, -7.140345096588135, -1.8537739515304565, 0.6923618316650391, -1.4469941854476929, -2.729778289794922, -0.885033130645752, -1.4211477041244507, -0.8863623142242432, -0.3969305455684662, -2.9342238903045654, -2.0902047157287598, -2.3517208099365234, -1.5773574113845825, -2.710738182067871, -1.6654616594314575, -1.4847468137741089, -2.0225682258605957, -0.4084490239620209, -2.9342236518859863, -2.710737943649292, -1.2637979984283447, -1.0053318738937378, -3.4037208557128906, -1.4402722120285034, -0.39668288826942444, -1.1626921892166138], \"y\": [-1.9160535335540771, -1.6500093936920166, -1.792555809020996, -0.6631227135658264, -2.163785219192505, -1.8791848421096802, 1.8710697889328003, -2.18937087059021, -2.9579241275787354, -1.6191273927688599, -0.0800790786743164, -2.259531021118164, -2.2180867195129395, -1.826633095741272, -3.362030267715454, -1.4823031425476074, -0.6631227135658264, -1.3738118410110474, -2.2951343059539795, -0.4337001144886017, -2.5073256492614746, -2.323481321334839, 0.41935282945632935, -2.24418044090271, -1.4823030233383179, -0.4337001442909241, -2.575021982192993, -2.3745076656341553, -4.085909843444824, -1.888999342918396, -3.362673759460449, -3.6977503299713135], \"z\": [-5.173379898071289, -5.5796990394592285, -5.089278221130371, -7.901516914367676, -3.408362627029419, -5.7727251052856445, -9.280865669250488, -5.323866844177246, -5.793179035186768, -5.253042221069336, -4.555656433105469, -5.380694389343262, -5.794370651245117, -5.465029716491699, -7.031200885772705, -6.942872524261475, -7.901516914367676, -6.464526653289795, -5.717850208282471, -6.355027675628662, -5.343997478485107, -4.893065929412842, -5.309232234954834, -6.88481330871582, -6.942872524261475, -6.355027675628662, -5.198414325714111, -5.115516662597656, -5.336354732513428, -4.892299652099609, -7.03120231628418, -6.165530681610107]}, {\"hovertemplate\": \"Dominant_Topic=Topic 14<br>0=%{x}<br>1=%{y}<br>2=%{z}<extra></extra>\", \"legendgroup\": \"Topic 14\", \"marker\": {\"color\": \"#FF6692\", \"opacity\": 0.7, \"symbol\": \"circle\"}, \"mode\": \"markers\", \"name\": \"Topic 14\", \"scene\": \"scene\", \"showlegend\": true, \"type\": \"scatter3d\", \"x\": [12.95567512512207, 7.992740154266357, 15.22020149230957, 8.467999458312988, 8.544146537780762, 13.708297729492188, 7.896591663360596, -0.28222015500068665, 13.988699913024902, 10.04783821105957, 9.653705596923828, 8.069782257080078, 8.930365562438965, 14.259665489196777, 13.049156188964844, 14.116378784179688, 10.816658973693848, 8.433777809143066, 14.116003036499023, 1.3904844522476196, 15.278536796569824, 5.393394947052002, 7.389412879943848, 14.007425308227539, 6.628987789154053, 14.88304615020752, 12.118061065673828, 6.860343933105469, 14.79473876953125, 13.229619026184082, 6.488506317138672, 8.468162536621094, 11.453142166137695, 8.468056678771973, 6.8801589012146, 10.172917366027832, 9.653741836547852, -8.976778030395508, 7.693163871765137, 1.3892136812210083, -8.179523468017578, 10.903411865234375, 8.01361083984375, 10.87096881866455, 8.556656837463379, 12.635990142822266, 7.056543350219727, 3.487739086151123, 12.235355377197266, 6.602840423583984, 6.616835117340088, 11.792922019958496, 13.09237289428711, 11.125975608825684, 6.262201309204102, 13.75864315032959, 12.038894653320312, 8.74852180480957, 8.984395027160645, 5.531688213348389, 16.618940353393555, 13.047574043273926, 6.860184192657471, 6.178444862365723, 12.549959182739258, 15.584871292114258, 12.235488891601562, 12.235918045043945, 9.346796035766602, -3.7938597202301025, 7.693160057067871, 13.246380805969238, 8.88383960723877, 12.216436386108398, -0.5555288791656494, 12.837889671325684, 15.165600776672363, 7.824634075164795, 12.449886322021484, 12.19843864440918, 11.619308471679688, 12.827568054199219, 12.810705184936523, -1.0706398487091064, 12.0531587600708, 8.696638107299805, 10.17299747467041, 12.254359245300293, 12.962943077087402, 10.534475326538086, 12.468575477600098, 10.172944068908691, 12.811164855957031, 5.5436272621154785, 13.461562156677246, 14.929122924804688, 6.880235195159912, 2.0483603477478027, 6.2637619972229, 8.982355117797852, 12.198477745056152, 7.123867988586426, 5.678257942199707, 12.198446273803711, 10.938003540039062, 12.23554515838623, 13.24665641784668, 10.216053009033203, 12.635433197021484, 5.63510274887085, 12.43211555480957, 10.603893280029297, 6.568613052368164, 6.284787654876709, 14.868643760681152, 9.15620231628418, 11.139683723449707, 14.15483570098877, 8.546481132507324, 10.69644832611084, 7.472082614898682, 15.664770126342773, 9.15621566772461, -8.412330627441406, 3.488558530807495, 10.351170539855957, 13.666909217834473, 5.791059970855713, 10.95687198638916, 15.679839134216309, 13.154250144958496, 12.55500316619873, 10.826193809509277, 13.19692325592041, 6.395702362060547, 12.827627182006836, 13.758645057678223, 11.45335578918457, 6.575933456420898, 8.259774208068848, 12.23549747467041, 1.3388344049453735, 11.116615295410156, 11.28706169128418, 15.135303497314453, 2.4157180786132812, 2.603341817855835, 8.865534782409668, 5.63696813583374, 11.266217231750488, 7.472243785858154, 15.989867210388184, 11.148380279541016, 15.422042846679688, 13.862342834472656, 12.887051582336426, 5.876582145690918, 10.297994613647461, 5.717811107635498, 7.693264484405518, 5.636141777038574, 10.222455978393555, 13.847671508789062, 13.356817245483398, 11.468424797058105, 12.551908493041992, 12.70361328125, 12.927000999450684, 11.759007453918457, 6.468801021575928, 15.42311954498291, 14.84210205078125, 13.049155235290527, 14.66602611541748, 10.163308143615723, 3.488558530807495, 11.31876277923584, 8.888132095336914, 14.348529815673828, 8.345149993896484, 13.89374828338623, 7.9842987060546875, 6.240725517272949, 6.221435070037842, 12.940375328063965, 7.47144079208374, 8.468164443969727, 10.627448081970215, 6.250308513641357, 6.880219459533691, 15.349056243896484, -8.78814697265625, 2.4158031940460205, 13.905637741088867, 12.553338050842285, 6.441068172454834, 15.114229202270508, 14.306131362915039, 2.26499080657959, 8.988466262817383, 13.810857772827148, 10.19697093963623, 7.0863823890686035, 8.544788360595703, -7.6373515129089355, 8.884177207946777, 13.785884857177734, 10.355429649353027, 14.274932861328125, 8.887104988098145, 10.578661918640137, 6.605016231536865, 2.145049810409546, 2.7683069705963135, -0.9503067135810852, 6.071910381317139, 13.797612190246582, 14.757948875427246, 8.984223365783691, 10.368584632873535, 7.729696273803711, 5.827704906463623, 15.1292085647583, 7.471126556396484, 15.334534645080566, 16.197729110717773, 11.558792114257812, 13.142812728881836, 13.215251922607422, 13.268350601196289, 11.325822830200195, 11.86229133605957, 12.554887771606445, 6.29815149307251, 12.053165435791016, 13.85995864868164, 12.314132690429688, 11.45335578918457, 10.439138412475586, 13.080851554870605, 8.555514335632324, 14.116280555725098, 8.509940147399902, 15.05782699584961, 12.94627857208252, 13.697086334228516, 8.368124961853027, -7.6373515129089355, 9.156137466430664, 8.43869400024414, 8.772104263305664, 6.446144104003906, 13.636662483215332, 10.57693099975586, 11.565258979797363, -5.154989242553711, 7.057046413421631, 13.764505386352539, 8.879033088684082, 8.957527160644531, 13.25129222869873, 11.405478477478027, 6.321898937225342, 13.685643196105957, 11.734516143798828, 13.160415649414062, 12.118006706237793, 13.992267608642578, 13.68510913848877, 13.360119819641113, 10.806716918945312, 13.153624534606934, 11.121042251586914, 10.62082290649414, 12.837424278259277, 13.579070091247559, 13.446100234985352, 14.387131690979004, 7.850123405456543, 6.9747209548950195, -0.591243326663971, 10.31576156616211, 8.888136863708496, 10.306398391723633, -8.976841926574707, 5.636336326599121, 13.79513931274414, 11.056705474853516, 7.90030574798584, 11.36351490020752, 11.426239013671875, 9.014463424682617, 8.984225273132324, 5.435408115386963, 6.293457984924316, 13.47678279876709, 11.076553344726562, 14.11607551574707, 8.677716255187988, -2.0391623973846436, 5.662086486816406, 6.860269069671631, 10.90846061706543, 11.031879425048828, 6.099916458129883, 12.080262184143066, 11.453152656555176, 13.25477409362793, 13.600004196166992, 13.547235488891602, 6.570201873779297, 1.3893736600875854, 13.700011253356934, 13.245877265930176], \"y\": [7.07631254196167, 2.0191431045532227, -2.8721189498901367, -0.9875772595405579, 1.8945797681808472, -1.969168782234192, 2.127579927444458, 2.366041898727417, -1.7051931619644165, 8.642571449279785, 8.772231101989746, 2.9218666553497314, 1.5270293951034546, 4.284538269042969, 4.1134934425354, 8.632657051086426, -4.236186981201172, 2.3779873847961426, 8.632805824279785, 1.8643720149993896, 0.41394785046577454, 6.372992992401123, -3.519338607788086, 5.117251396179199, -1.6982733011245728, 1.759432315826416, -2.6013336181640625, 6.4625139236450195, 1.930125117301941, 4.4615302085876465, 6.558862686157227, -0.9875748753547668, -3.30134654045105, -0.9876047968864441, -3.696307897567749, 1.849019169807434, 8.77220344543457, 0.4364474415779114, 4.175273895263672, 1.863656997680664, 5.1197662353515625, 8.416351318359375, 1.7855170965194702, 4.644424915313721, 1.2152235507965088, 8.897500038146973, 3.6058332920074463, 4.878828525543213, 8.864415168762207, -1.6896125078201294, -1.6273994445800781, 8.294063568115234, 5.375187873840332, 3.2923922538757324, 1.7585936784744263, 2.311952829360962, 4.209794998168945, 1.6238019466400146, -2.038076639175415, 2.1154563426971436, 1.3528063297271729, -2.2676990032196045, 6.462285041809082, 6.18671178817749, 8.426133155822754, 0.9932188987731934, -4.775774955749512, -4.775358200073242, -1.0463978052139282, -4.340455532073975, 4.175271987915039, 9.551798820495605, 1.5716769695281982, -1.5683634281158447, 1.8360759019851685, 8.75769329071045, -2.6582162380218506, 2.7138757705688477, 8.878315925598145, -0.14544712007045746, -5.146622657775879, 3.5066874027252197, 7.5405426025390625, 9.278822898864746, 1.440023422241211, 2.834843158721924, 1.8502782583236694, 8.841105461120605, -1.6974847316741943, 4.481775283813477, 4.194262504577637, 1.8490307331085205, 7.540363311767578, 2.1264233589172363, -2.531252861022949, 1.14010488986969, -3.6963202953338623, 2.391749858856201, 6.885263442993164, 1.2383784055709839, -0.14530862867832184, -1.705203652381897, 6.227034091949463, -0.14541763067245483, -5.928252220153809, -4.775877952575684, 1.9766228199005127, -4.221724510192871, 8.892921447753906, 7.666706562042236, 8.891883850097656, -4.578464508056641, -1.2921178340911865, -1.5099635124206543, 0.9387887120246887, 4.6923418045043945, 3.272441864013672, 4.672783374786377, 1.949868083000183, 3.3326714038848877, -4.249814510345459, 0.5845874547958374, 4.692338466644287, 0.7473331093788147, 4.879491806030273, -3.979273796081543, -1.653415560722351, 6.018209934234619, 4.175199031829834, 0.701257586479187, -1.8580299615859985, -2.3603508472442627, -5.173346519470215, -2.737495183944702, 6.5744829177856445, 3.5059375762939453, 2.311952590942383, -3.300661325454712, 3.9962880611419678, 2.5529534816741943, -4.775763511657715, 2.375016212463379, -6.052334308624268, -6.231247901916504, 1.9571630954742432, 2.659649133682251, 1.8204618692398071, 2.475803852081299, 6.700049877166748, -5.900765419006348, -4.249679088592529, 0.7441681623458862, -5.816314697265625, 1.1275204420089722, -1.5532597303390503, 4.562752723693848, 7.009154319763184, 4.044280529022217, 6.276362419128418, 4.175099849700928, 7.665739059448242, -4.477123737335205, 4.817112445831299, 4.033321857452393, 4.712412357330322, 8.425758361816406, 5.241441249847412, 5.030416488647461, -0.6894562244415283, -1.5055290460586548, 0.4381154477596283, 0.6380546689033508, 4.113445281982422, -0.7417928576469421, 1.8455314636230469, 4.879492282867432, 4.460879325866699, 8.883856773376465, -1.468314528465271, 2.7922885417938232, -1.9519586563110352, -7.754528999328613, 7.002943992614746, -1.4581282138824463, 2.3404171466827393, -4.250506401062012, -0.9875720739364624, 3.6889352798461914, 0.8898169994354248, -3.6963274478912354, 1.2549914121627808, 0.809399425983429, 2.6595823764801025, 3.9220757484436035, 4.96242618560791, -1.2858010530471802, 0.7267816662788391, 4.883188724517822, 1.4685471057891846, 1.191681146621704, 2.2318267822265625, -2.4402873516082764, -4.030510425567627, 1.4505053758621216, 0.5878650546073914, 2.427938461303711, 3.809422254562378, -4.222254753112793, 4.251064300537109, 8.883137702941895, 4.217926979064941, 7.100085735321045, 2.885920286178589, 2.0631864070892334, 9.191567420959473, 6.427314281463623, 8.113460540771484, -2.6293954849243164, -2.037633180618286, 3.4527697563171387, 2.3689024448394775, 7.0799150466918945, 0.7300127744674683, -4.250718116760254, 1.1877400875091553, -0.45488986372947693, 4.112722396850586, -0.38421377539634705, -2.80653715133667, 4.997477054595947, 3.864622116088867, 4.143129348754883, -2.360292911529541, 0.7738831043243408, 1.4400163888931274, -2.2333340644836426, 8.511037826538086, -3.3006629943847656, -4.282507419586182, -1.8150402307510376, -2.073890209197998, 8.632831573486328, 1.60421884059906, 0.3748612403869629, -2.198014259338379, 5.204370975494385, 4.505616664886475, 0.5878651142120361, 4.692299842834473, 3.0062644481658936, 1.1294996738433838, -1.259912371635437, 2.9081919193267822, -4.1546101570129395, 3.6360087394714355, -6.145134449005127, 3.6054134368896484, 4.28013277053833, 1.0793659687042236, 1.931823968887329, 4.607889652252197, -6.053516864776611, 6.150629043579102, 5.303412437438965, 3.6665282249450684, 5.417265892028809, -2.601367473602295, 4.872111797332764, -2.379605770111084, 4.027388095855713, -4.381031513214111, 8.05418872833252, 3.5130293369293213, -4.026089668273926, 8.786805152893066, -2.0122432708740234, -2.2698943614959717, 4.6290130615234375, -1.061073899269104, 6.810172080993652, 2.075057029724121, 3.9327449798583984, 8.883909225463867, -4.563575744628906, 0.4364250898361206, 7.665823459625244, 4.740869045257568, -5.940027713775635, -4.411982536315918, -6.148092746734619, -6.129003047943115, 2.0769288539886475, -2.037635326385498, 6.832824230194092, 2.258861780166626, 2.2625861167907715, 4.570566177368164, 8.632743835449219, 1.4087727069854736, 3.828340768814087, 6.654088973999023, 6.462400913238525, 3.916468858718872, -5.780747890472412, 4.669825553894043, 4.56988000869751, -3.301391839981079, -1.454941987991333, -1.4691760540008545, -2.4810118675231934, -1.2959433794021606, 1.863878846168518, 4.9881157875061035, 2.2978270053863525], \"z\": [-7.799584865570068, -10.236635208129883, -13.223584175109863, -14.151363372802734, -11.229171752929688, -13.680058479309082, -11.13935661315918, -4.805945873260498, -13.056623458862305, -7.281396865844727, -7.231799602508545, -10.399199485778809, -4.980222225189209, -15.588651657104492, 3.1480283737182617, -1.7781590223312378, -7.62217903137207, -11.397748947143555, -1.7785389423370361, -6.78121280670166, 4.576459884643555, -6.786341190338135, -9.048255920410156, -14.31485652923584, -14.513667106628418, 2.522711753845215, -9.490665435791016, -8.995779991149902, 1.9507967233657837, -13.029874801635742, -6.962446212768555, -14.15135383605957, -4.828248023986816, -14.151542663574219, -12.678726196289062, -6.413098335266113, -7.23184871673584, -12.4646635055542, -15.457941055297852, -6.780201435089111, -2.4253997802734375, -7.317797660827637, -10.757198333740234, -11.237072944641113, -5.225701808929443, -5.325047492980957, -5.464112281799316, -8.191468238830566, -5.651137351989746, -14.353120803833008, -14.649272918701172, -4.3452911376953125, -12.727737426757812, -11.170172691345215, -15.390483856201172, -1.5294910669326782, 5.008172988891602, -5.192197799682617, -4.688582420349121, -13.85023021697998, 4.534319877624512, -12.875185012817383, -8.996116638183594, -7.15410041809082, -5.55547571182251, 3.9519951343536377, -14.850163459777832, -14.849882125854492, -14.180837631225586, -5.377368450164795, -15.457948684692383, -6.272391319274902, -5.004601001739502, -9.922552108764648, -4.286288738250732, -5.6281962394714355, -13.678794860839844, -10.944183349609375, -5.879624366760254, 4.953067779541016, -6.377574443817139, 6.051982879638672, -7.344111442565918, -6.715635299682617, -13.976017951965332, -10.36803150177002, -6.413547515869141, -5.473071575164795, -13.265115737915039, -11.660346031188965, 3.786134958267212, -6.41312837600708, -7.344569683074951, -13.789165496826172, -13.030144691467285, 4.2345099449157715, -12.678579330444336, -7.105259418487549, -7.139225006103516, -4.967005729675293, 4.9530253410339355, -11.961145401000977, -6.457733631134033, 4.953044414520264, -15.471531867980957, -14.850162506103516, 2.5950851440429688, -7.38116455078125, -5.322943210601807, -4.083336353302002, -5.867307662963867, -7.478954792022705, -14.657485008239746, -14.634403228759766, 4.541434288024902, -15.07980728149414, -11.632040977478027, -14.213815689086914, -10.070388793945312, -11.676007270812988, -9.15368938446045, 4.098409175872803, -15.079803466796875, -11.589507102966309, -8.190187454223633, -7.6013593673706055, -13.601716041564941, -6.9012451171875, -12.183318138122559, 4.457047462463379, -13.643391609191895, -10.254105567932129, -8.545331001281738, -8.604654312133789, -6.4825921058654785, 6.050245761871338, -1.5295127630233765, -4.827542781829834, -5.575167655944824, -9.998988151550293, -14.850168228149414, -8.303513526916504, -15.20222282409668, -15.355294227600098, 1.4190882444381714, -10.76940631866455, -12.193140029907227, -10.18195915222168, -6.38176155090332, -15.733052253723145, -9.153844833374023, 5.480031490325928, -15.67361068725586, 3.966282606124878, -13.33301830291748, -13.198576927185059, -7.167558670043945, -11.236928939819336, -7.2612624168396, -15.457929611206055, -4.083846092224121, -7.658919334411621, -15.29257869720459, -15.80432415008545, -11.603973388671875, -5.556243896484375, -12.75991153717041, -13.50257682800293, 4.578597545623779, -14.180542945861816, 4.001589775085449, 4.151762962341309, 3.148089647293091, 3.257777214050293, -6.403799533843994, -8.190187454223633, -11.048386573791504, -6.106385231018066, 2.8582849502563477, -11.223869323730469, -12.739117622375488, -16.22359848022461, -6.62971830368042, -14.390311241149902, 1.438941240310669, -9.154623985290527, -14.15134048461914, -12.000904083251953, -14.913199424743652, -12.678638458251953, 4.472907543182373, -13.053693771362305, -10.769416809082031, -15.373640060424805, -13.038455963134766, -14.243849754333496, 3.84118914604187, -14.636480331420898, -12.280879974365234, -5.013365268707275, 2.3826324939727783, -4.629316806793213, -11.632035255432129, -5.200265884399414, -10.731368064880371, -11.0241117477417, -15.804922103881836, -7.879402160644531, -15.015229225158691, -6.106549263000488, -10.882080078125, -3.716254234313965, -7.872887134552002, -12.05374526977539, -6.749755382537842, -6.303214073181152, -4.837254047393799, -13.312389373779297, -4.688293933868408, -11.01099967956543, -10.4833345413208, -6.6349568367004395, 4.745065689086914, -9.15436840057373, 4.585065841674805, 4.672718048095703, -10.971365928649902, -13.922813415527344, -8.43990707397461, -12.518021583557129, -12.134987831115723, -11.46749496459961, -10.254019737243652, -14.719051361083984, -13.976017951965332, 2.463038444519043, -5.650363922119141, -4.827544689178467, -7.254032135009766, -12.738970756530762, -4.682321071624756, -1.778477430343628, -10.618668556213379, 4.402021408081055, -13.29553508758545, -14.042991638183594, -15.31806755065918, -10.731366157531738, -15.079812049865723, -10.793251991271973, -5.348241329193115, -14.268350601196289, 2.7694146633148193, -7.871544361114502, -11.890495300292969, -6.204395294189453, -5.463529109954834, -15.986957550048828, -5.224054336547852, -10.873495101928711, -12.62685489654541, -15.660795211791992, -6.76146936416626, -13.339543342590332, -11.339286804199219, -13.353080749511719, -9.490260124206543, -15.298105239868164, -12.815750122070312, -15.804422378540039, -7.566744804382324, -6.937408924102783, -10.84615421295166, -7.421025276184082, -5.609735488891602, -12.562816619873047, -13.659128189086914, -15.24545669555664, -13.087116241455078, -3.7834486961364746, -4.565686225891113, -11.70263957977295, -6.106056213378906, -7.603052139282227, -12.464674949645996, -4.083968639373779, -13.498578071594238, -15.238868713378906, -9.65695571899414, -15.28332805633545, -15.58278751373291, -10.427824974060059, -4.688296794891357, -6.87962532043457, -15.418161392211914, -0.7851133942604065, -11.94721508026123, -1.7784289121627808, -5.412790298461914, -2.24579119682312, -7.307295799255371, -8.995959281921387, -10.715439796447754, -15.525189399719238, -5.876641273498535, -12.032994270324707, -4.828235626220703, -12.971213340759277, -12.825874328613281, -13.363996505737305, -14.6608304977417, -6.78026819229126, -12.961982727050781, 1.8191566467285156]}, {\"hovertemplate\": \"Dominant_Topic=Topic 15<br>0=%{x}<br>1=%{y}<br>2=%{z}<extra></extra>\", \"legendgroup\": \"Topic 15\", \"marker\": {\"color\": \"#B6E880\", \"opacity\": 0.7, \"symbol\": \"circle\"}, \"mode\": \"markers\", \"name\": \"Topic 15\", \"scene\": \"scene\", \"showlegend\": true, \"type\": \"scatter3d\", \"x\": [-9.263236999511719, -8.319063186645508, -9.263189315795898, -8.843920707702637, -8.37806510925293, -9.091913223266602], \"y\": [2.895547866821289, 2.7903666496276855, 2.895556688308716, 1.7462670803070068, 2.6319568157196045, 3.0191164016723633], \"z\": [-10.90946102142334, -11.545866966247559, -10.90949535369873, -11.285650253295898, -11.495565414428711, -11.03685474395752]}, {\"hovertemplate\": \"Dominant_Topic=Topic 2<br>0=%{x}<br>1=%{y}<br>2=%{z}<extra></extra>\", \"legendgroup\": \"Topic 2\", \"marker\": {\"color\": \"#FF97FF\", \"opacity\": 0.7, \"symbol\": \"circle\"}, \"mode\": \"markers\", \"name\": \"Topic 2\", \"scene\": \"scene\", \"showlegend\": true, \"type\": \"scatter3d\", \"x\": [-5.340826511383057, -5.34794282913208, -6.365880966186523, -5.442889213562012, -6.079269886016846, -5.341738224029541, -5.341679573059082, -6.365880489349365, -5.341964244842529, -4.692413330078125, -5.1461896896362305, -5.3416428565979], \"y\": [-7.113246440887451, -7.123246669769287, -8.299134254455566, -6.811935901641846, -8.281713485717773, -7.1143412590026855, -7.11419677734375, -8.29913330078125, -7.114880561828613, -7.722354412078857, -8.031356811523438, -7.114108085632324], \"z\": [-6.444052696228027, -6.448906898498535, -6.961379528045654, -7.443762302398682, -6.787224769592285, -6.444539546966553, -6.444466590881348, -6.961379528045654, -6.444805145263672, -6.938351154327393, -6.066751480102539, -6.444421768188477]}, {\"hovertemplate\": \"Dominant_Topic=Topic 3<br>0=%{x}<br>1=%{y}<br>2=%{z}<extra></extra>\", \"legendgroup\": \"Topic 3\", \"marker\": {\"color\": \"#FECB52\", \"opacity\": 0.7, \"symbol\": \"circle\"}, \"mode\": \"markers\", \"name\": \"Topic 3\", \"scene\": \"scene\", \"showlegend\": true, \"type\": \"scatter3d\", \"x\": [14.45296859741211, 5.534714221954346, 14.930750846862793, 0.11892343312501907, 6.572254657745361, 14.787776947021484, 9.196722030639648, 1.101082444190979, -13.125577926635742, 5.365349292755127, 11.413684844970703, 10.38528060913086, 9.293333053588867, 13.583711624145508, 4.666914939880371, 9.044336318969727, 0.08091539889574051, 6.413757801055908, 14.787050247192383, 8.93522834777832, 10.553475379943848, 15.664434432983398, 8.097142219543457, 4.82771110534668, 14.967384338378906, 10.937321662902832, 14.451742172241211, 9.291509628295898, 12.59520435333252, 6.572376251220703, 8.09715461730957, 12.155681610107422, 9.143926620483398, 8.975144386291504, 9.828295707702637, 15.780531883239746, 14.809534072875977, 8.512280464172363, 14.74256706237793, 4.53909969329834, 11.843202590942383, 12.071964263916016, 9.766265869140625, 8.534876823425293, 4.438562393188477, 6.563456058502197, 5.209164619445801, 6.413754463195801, 8.80190372467041, 4.612914562225342, 11.39471435546875, 11.84325122833252, 6.740299701690674, 9.20531177520752, 13.052533149719238, 5.723459243774414, 5.723058700561523, 11.842350006103516, 15.179797172546387, 14.586650848388672, 8.802016258239746, 8.010251998901367, 7.02540922164917, 15.001038551330566, 7.268430709838867, 14.99780559539795, 5.04644250869751, 16.040889739990234, 9.13154125213623, 15.87597370147705, 6.572564125061035, 6.876103401184082, 5.5086798667907715, 6.571586608886719, 12.95653247833252, 8.316778182983398, 8.918020248413086, 9.803300857543945, 8.802023887634277, 9.202431678771973, 15.581077575683594, 9.468663215637207, 11.792128562927246, 4.438232898712158, 16.85322380065918, 11.395126342773438, 9.338706016540527, 9.386895179748535, 8.908854484558105, 8.882111549377441, 2.3520736694335938, 9.462971687316895, 6.734447002410889, 9.944849967956543, 10.845863342285156, 15.360882759094238, 9.634932518005371, 11.413460731506348, 15.887765884399414, -10.086840629577637, 14.520734786987305, 4.4468865394592285, 10.589127540588379, 10.937259674072266, 14.531404495239258, 8.460673332214355, 4.44655704498291, 6.201779365539551, 9.751091957092285, 2.026276111602783, 13.030830383300781, 7.0241570472717285, 8.045729637145996, 6.748049736022949, -15.923919677734375, 15.772419929504395, 11.79175853729248, 6.876072406768799, 6.572113037109375, 2.341519594192505, 9.66598892211914, 16.065221786499023, 15.186162948608398, 6.258912563323975, 9.31392765045166, -9.250226974487305, 8.962648391723633, 2.4468135833740234, 5.274524211883545, 8.688493728637695, 0.1190592423081398, 7.409371376037598, 10.056897163391113, 0.22025413811206818, 4.3346028327941895, 8.005756378173828, 11.413640975952148, 4.43871545791626, 2.090284824371338, 13.009000778198242, 9.715476036071777, 5.059049129486084, 9.5386323928833, 0.08080906420946121, 8.405845642089844, 10.65849494934082, 14.869789123535156, 3.6000664234161377, 13.843299865722656, 16.321332931518555, 6.3268280029296875, 14.809797286987305, 5.534714221954346, 15.699799537658691, 1.3840558528900146, 9.899316787719727, 14.930863380432129, 8.802079200744629, 5.416538715362549, 9.051132202148438, 8.856884956359863, 15.061054229736328, 15.00512409210205, 9.054100036621094, 14.997831344604492, 15.513182640075684, 6.674077033996582, 9.47452449798584, 6.571852207183838, 11.942610740661621, 8.635028839111328, 0.3108966648578644, 5.171585559844971, 5.221776485443115, 0.45162972807884216, 2.2839088439941406, 0.08091530948877335, 5.1733903884887695, 15.138760566711426, 4.4386305809021, 6.87597131729126, 11.224390029907227, -10.182170867919922, 7.282561779022217, 6.563456058502197, 2.5433413982391357, 12.90433120727539, 8.892367362976074, 9.474447250366211, 14.998406410217285, 8.884359359741211, 13.03387451171875, 16.917646408081055, 10.385520935058594, 10.385322570800781, 3.0956215858459473, 15.414755821228027, 9.050702095031738, 11.843118667602539, 9.912087440490723, 6.740362644195557, 4.375862121582031, 4.502081871032715, 15.99760913848877, 5.53472375869751, 14.780889511108398, 14.787968635559082, 0.11920417100191116, 9.078362464904785, 14.634276390075684, 14.78213119506836, 0.11905872821807861, 11.780972480773926, 5.430717468261719, 14.730668067932129, 6.637696743011475, 1.101107120513916, 8.802421569824219, 9.589855194091797, 8.802082061767578, 7.409533977508545, 8.801355361938477, 4.447168350219727, 6.562754154205322, 3.6003217697143555, 1.00493586063385, 6.57176399230957, 0.07059494405984879, 6.828240871429443, 9.665369033813477, 14.7877779006958, 14.780917167663574, 8.928454399108887, -10.08687686920166, 12.595314025878906, 15.733602523803711, 6.643080711364746, 13.925909996032715, 2.2896721363067627, 8.801847457885742, 10.563977241516113, 4.6792120933532715, 10.385149955749512, 2.4154062271118164, 12.750263214111328, 6.649486541748047, 14.780838012695312, 15.269732475280762, 9.543113708496094, 10.415170669555664, -13.12615966796875, 14.548253059387207, 11.2325439453125, 15.000875473022461, 14.059481620788574, 8.394550323486328, 16.135482788085938, 3.095263719558716, 10.385150909423828, 0.20040147006511688, 15.264328002929688, 0.20040135085582733, 12.498854637145996, 12.782195091247559, 9.579421043395996, 13.030838012695312, 14.933812141418457, 6.571590900421143, 6.528692722320557, 9.03601360321045, -10.086775779724121, 10.258377075195312, 15.654979705810547, 16.903059005737305, 11.78044605255127, 16.14501190185547, 5.526894569396973, 10.174202919006348, 11.780570030212402, -9.981268882751465], \"y\": [-1.9305919408798218, -2.3578310012817383, -0.41836413741111755, 2.514848470687866, -0.817394495010376, -0.11687050759792328, 2.150017499923706, -0.176797017455101, 2.170050859451294, -3.138634204864502, -3.224749803543091, -5.862442493438721, 1.8133435249328613, -0.17117741703987122, 4.514272689819336, -0.8663654923439026, 0.21443115174770355, 5.562956809997559, -0.11705829948186874, 1.2506189346313477, -4.310193061828613, -2.910733938217163, 4.744579315185547, -3.943507432937622, 9.036906242370605, -4.427436351776123, -1.9282581806182861, 0.7810107469558716, -2.977104425430298, -0.8174334764480591, 4.744545936584473, 4.414740562438965, 1.5984441041946411, 0.15447990596294403, 1.014854907989502, 9.392374038696289, -1.7284361124038696, -0.773790180683136, 8.869268417358398, 5.946686267852783, 4.997610092163086, 5.626142501831055, -0.4783262610435486, -0.06595785915851593, 7.352771759033203, 6.999124050140381, -1.4936141967773438, 5.562968730926514, 5.257967472076416, 4.786207675933838, -5.521727085113525, 4.997623443603516, 2.345515012741089, -0.08961312472820282, -0.1021660566329956, 2.6569411754608154, 2.6570868492126465, 5.004018783569336, 9.315619468688965, -1.583459496498108, 5.257742881774902, 1.4304447174072266, 3.293384313583374, -0.8685975074768066, 6.5392632484436035, -2.7090981006622314, -1.8023663759231567, -2.56846284866333, 1.9109653234481812, -2.8754043579101562, -0.8176072835922241, 1.0338455438613892, -2.3750593662261963, -0.8182165622711182, -0.6068634390830994, 1.718218445777893, -0.5472460985183716, 0.3279655873775482, 5.257749557495117, -2.9589598178863525, 8.773367881774902, -1.5510655641555786, 4.470193386077881, 7.352756500244141, -3.045971632003784, -5.5218610763549805, -1.0069985389709473, 1.354058861732483, 0.7474803328514099, 0.4279543161392212, 1.895453691482544, -6.567004203796387, 7.089033603668213, 1.377001404762268, -2.288048505783081, 8.61043643951416, -0.8046858906745911, -3.2247419357299805, -2.277536630630493, 1.9240325689315796, -2.142636299133301, 7.353560447692871, 3.9811220169067383, -4.427552223205566, -1.7491438388824463, 0.3627854585647583, 7.352920055389404, -1.0689620971679688, 1.8899457454681396, -0.8274569511413574, 3.214529514312744, 3.391416311264038, -4.568809986114502, 7.079444408416748, -3.2207791805267334, -2.9526844024658203, 4.469579696655273, 1.03384268283844, -0.8174713253974915, -3.156172752380371, 0.8930585980415344, -2.133498430252075, 9.314208984375, -1.7540159225463867, 0.09622182697057724, 1.613694667816162, -7.332344055175781, -0.7905250787734985, 1.7382005453109741, 2.0397868156433105, 2.5145862102508545, -1.8598864078521729, 1.0314217805862427, 0.17918020486831665, -1.8521429300308228, 4.674335479736328, -3.2245500087738037, 7.35276460647583, -0.1276605725288391, 2.9878101348876953, 0.6047260165214539, 1.9271279573440552, 0.7071032524108887, 0.21448923647403717, -0.405642569065094, 5.724433422088623, 8.586647033691406, 6.247121334075928, -2.269868850708008, 9.631194114685059, 5.72391939163208, -1.726649522781372, -2.3578312397003174, -2.475767135620117, -0.08127640932798386, 1.567990779876709, -0.41825243830680847, 5.257584095001221, 0.17950493097305298, -3.126702308654785, 0.722332775592804, -2.6621811389923096, 9.009997367858887, 0.5519508123397827, -2.709089994430542, 8.86645221710205, 6.780683994293213, -1.7998220920562744, -0.8187695145606995, 0.9044862389564514, -7.828037261962891, 2.019916534423828, -3.2656915187835693, 5.641113758087158, 2.943739891052246, 6.270408630371094, 0.21443113684654236, 8.099323272705078, 8.582927703857422, 7.352787017822266, 1.0339324474334717, -5.046290874481201, 1.7857829332351685, -1.6521100997924805, 6.999124050140381, -3.2177927494049072, 1.8887442350387573, -1.0299994945526123, -1.7997395992279053, -2.708456039428711, 0.13330858945846558, 3.0701582431793213, -3.05377197265625, -5.862621784210205, -5.86249303817749, -0.7022192478179932, 9.10746955871582, -3.201237916946411, 4.997525215148926, 0.36292099952697754, 2.345621109008789, 5.988070011138916, 5.840746879577637, 7.361025810241699, -2.3578999042510986, -0.11238624155521393, -0.11248138546943665, 2.5147287845611572, 0.8223593831062317, -2.070683479309082, -0.0842975378036499, 2.5145857334136963, 4.474243640899658, -1.9165774583816528, -1.5796622037887573, 7.114210605621338, -0.17681781947612762, 5.25732421875, -0.1587643176317215, 5.257447719573975, -1.8598753213882446, 5.260053634643555, 7.353507995605469, 6.944843292236328, 6.247066974639893, 2.6659696102142334, -0.8187364339828491, -0.06954045593738556, -1.1760656833648682, -0.11441541463136673, -0.11687084287405014, -0.08307204395532608, -0.31615617871284485, 1.9240403175354004, -2.9770803451538086, 0.15547479689121246, 3.5784385204315186, 10.093257904052734, 6.270214557647705, 5.2588210105896, -4.43295431137085, 4.549116611480713, -5.862422943115234, 1.790905475616455, -0.08944446593523026, 6.777068138122559, -0.1123708039522171, 8.598503112792969, 1.584004282951355, -4.671162128448486, 2.170067071914673, -2.1301236152648926, 4.63101863861084, -0.8682520985603333, 7.731115341186523, 0.35829606652259827, -2.1544699668884277, -0.7022083401679993, -5.862422943115234, 1.819470763206482, 1.2650718688964844, 1.8194708824157715, 4.426753044128418, -0.5442579984664917, 0.02896079607307911, 3.2144370079040527, 9.020702362060547, -0.8182190656661987, 6.845823287963867, 0.8721346855163574, 1.924015998840332, -2.509082078933716, -2.7265942096710205, 12.176112174987793, 4.474111080169678, -2.3195812702178955, 2.0779104232788086, 3.7460155487060547, 4.4742326736450195, 3.8137869834899902], \"z\": [12.184285163879395, 12.003722190856934, 13.665140151977539, 8.093137741088867, 4.233184337615967, 7.662573337554932, 12.038992881774902, 11.549838066101074, -6.336496353149414, 12.484888076782227, 12.77135944366455, 2.663954019546509, 12.52695083618164, 8.953999519348145, 7.722911834716797, 8.572168350219727, 12.269502639770508, 12.17073917388916, 7.6622514724731445, 11.211996078491211, 10.801599502563477, 12.752010345458984, 5.64656925201416, 10.910934448242188, 1.3956772089004517, 8.82467269897461, 12.183256149291992, 11.662841796875, 12.602081298828125, 4.233276844024658, 5.6465678215026855, 10.11231517791748, 10.949642181396484, 10.401495933532715, 11.755145072937012, 2.173102855682373, 11.722136497497559, 9.185367584228516, 0.9410160779953003, 6.539141654968262, 7.559641361236572, 7.946500301361084, 8.80968952178955, 8.756747245788574, 9.043087005615234, 10.063802719116211, 7.915337562561035, 12.170747756958008, 4.298279285430908, 7.471404075622559, 3.770965099334717, 7.559670448303223, 7.986949443817139, 10.397665023803711, 9.299412727355957, 7.935563087463379, 7.935318946838379, 7.527084827423096, 0.9011552929878235, 11.90555191040039, 4.2984819412231445, 12.722143173217773, 4.7986531257629395, 8.793821334838867, 8.312655448913574, 8.435439109802246, 8.246243476867676, 12.182571411132812, 11.528481483459473, 12.325828552246094, 4.237710952758789, 10.564166069030762, 12.014378547668457, 4.23207426071167, 6.684463977813721, 12.692895889282227, 8.427702903747559, 9.850139617919922, 4.2984442710876465, 1.7725005149841309, 1.069669246673584, 13.78305721282959, 9.200130462646484, 9.042826652526855, 13.490276336669922, 3.771442174911499, 9.212848663330078, 12.318592071533203, 2.743885040283203, 10.206042289733887, 8.722479820251465, 4.410982608795166, 9.845871925354004, 10.940140724182129, 1.172284483909607, 1.317797064781189, 9.004168510437012, 12.77141284942627, 12.972702980041504, 9.895809173583984, 11.848798751831055, 9.04037094116211, 9.132801055908203, 8.824474334716797, 12.202971458435059, 4.116148948669434, 9.040044784545898, 6.049323558807373, 11.59142780303955, 9.631668090820312, 7.546299934387207, 4.429259300231934, 7.650175094604492, 9.862377166748047, 0.7529606223106384, 12.476454734802246, 9.200325012207031, 10.564310073852539, 4.2328782081604, 7.2989702224731445, 10.172354698181152, 12.732502937316895, 1.1202402114868164, 11.707658767700195, 8.557710647583008, 10.068826675415039, 4.605777263641357, 9.65394401550293, 8.041265487670898, 12.484742164611816, 8.093087196350098, 13.0908784866333, 11.14583969116211, 12.271162986755371, 8.826438903808594, 3.3344337940216064, 12.771236419677734, 9.043156623840332, 9.134452819824219, 8.829401969909668, 11.249650001525879, 7.9454474449157715, 9.741459846496582, 12.269736289978027, 8.973860740661621, 9.308223724365234, 0.977495014667511, 11.119153022766113, 2.472818613052368, 1.4390170574188232, 11.748302459716797, 11.723472595214844, 12.00372314453125, 13.025479316711426, 11.68177318572998, 11.867602348327637, 13.665180206298828, 4.298534393310547, 4.832393169403076, 2.1688716411590576, 2.858994960784912, 8.736771583557129, 0.6567662358283997, 9.691879272460938, 8.435456275939941, 0.7732749581336975, 9.907458305358887, 13.712579727172852, 4.233387470245361, 5.012681007385254, 4.684504508972168, 12.134096145629883, 4.284457206726074, 11.686169624328613, 6.534851551055908, 8.684866905212402, 12.269503593444824, 9.538403511047363, 0.7675138115882874, 9.043122291564941, 10.564431190490723, 3.7880194187164307, 10.612370491027832, 4.321122169494629, 10.063802719116211, 7.337838649749756, 2.631601333618164, 9.3028564453125, 13.712801933288574, 8.437551498413086, 8.572168350219727, 8.351373672485352, 12.313427925109863, 2.663332223892212, 2.663790702819824, 10.202466011047363, 0.7375525236129761, 2.472426652908325, 7.55961275100708, 10.269579887390137, 7.986949443817139, 11.328985214233398, 6.744492053985596, 0.526650071144104, 12.003714561462402, 7.658272743225098, 7.652559280395508, 8.093124389648438, 10.031228065490723, 11.707681655883789, 7.595333099365234, 8.093087196350098, 9.19019889831543, 8.341649055480957, 12.012264251708984, 9.990346908569336, 11.549764633178711, 4.298725128173828, 8.55984115600586, 4.29850435256958, 13.091035842895508, 4.298081874847412, 9.04041862487793, 9.74389934539795, 11.119194984436035, 6.9440226554870605, 4.233254909515381, 13.078215599060059, 11.345074653625488, 10.076909065246582, 7.662573337554932, 7.596040725708008, 9.617949485778809, 9.895751953125, 12.60209846496582, 8.99119758605957, 3.0758912563323975, 1.115414023399353, 8.686596870422363, 4.298351287841797, 11.164847373962402, 7.801758766174316, 2.6640419960021973, 8.758216857910156, 9.537755012512207, 9.906494140625, 7.658322334289551, 1.347506046295166, 10.796954154968262, 11.178382873535156, -6.336497783660889, 11.801609992980957, 5.1264824867248535, 8.793331146240234, 2.1219568252563477, 3.7873849868774414, 12.555009841918945, 10.2023344039917, 2.664041519165039, 12.277353286743164, 7.501895427703857, 12.277353286743164, 6.936274528503418, 6.401488304138184, 10.533306121826172, 7.5464768409729, 1.3841145038604736, 4.232093334197998, 9.801491737365723, 11.395191192626953, 9.895895957946777, 13.371870994567871, 12.952116966247559, 24.049110412597656, 9.190062522888184, 12.299968719482422, 8.052391052246094, 9.33809757232666, 9.190027236938477, 9.366442680358887]}, {\"hovertemplate\": \"Dominant_Topic=Topic 4<br>0=%{x}<br>1=%{y}<br>2=%{z}<extra></extra>\", \"legendgroup\": \"Topic 4\", \"marker\": {\"color\": \"#636efa\", \"opacity\": 0.7, \"symbol\": \"circle\"}, \"mode\": \"markers\", \"name\": \"Topic 4\", \"scene\": \"scene\", \"showlegend\": true, \"type\": \"scatter3d\", \"x\": [-8.053437232971191, -9.838665962219238, -6.921438217163086, -8.168292999267578, -9.901961326599121, -9.586856842041016, -8.317386627197266, -8.521203994750977, -7.935405731201172, -7.879983425140381, -8.546070098876953, -4.643540859222412, -9.143747329711914, -7.93508243560791, -7.1850996017456055, -9.757306098937988, -7.611366271972656, -7.193066596984863, 4.970843315124512, -7.5416483879089355, -7.926539421081543, -9.513324737548828, -7.785843849182129, -8.903928756713867, -8.034178733825684, -7.103434085845947, -2.414440393447876, -10.19389533996582, -7.482516765594482, -8.614278793334961, -8.555193901062012, -7.165295600891113, -6.141229152679443, -2.4145166873931885, -2.414306402206421, -7.230832576751709, -9.513556480407715, -7.185069561004639, -9.586718559265137, -9.375354766845703, -7.231197357177734, -7.986058235168457, -8.598799705505371, -2.4138779640197754, -9.838871955871582, -9.870306015014648, -9.513890266418457, -2.4144675731658936, -6.788475036621094, -4.643540859222412, -9.838817596435547, -7.172809600830078, -7.2962212562561035, -7.427836894989014, -7.567277908325195, -8.288019180297852, -6.920833587646484, -7.536809921264648, -9.87039566040039, 6.646024227142334, 8.706711769104004, -9.375353813171387, -6.77791690826416, -5.242625713348389, -9.9575834274292, -9.3754301071167, -6.921422958374023, -2.41449236869812, -8.892732620239258, -7.185111045837402, -9.136380195617676, -8.9713134765625, -9.375359535217285, -6.913527965545654, -6.661577224731445, -5.242629528045654], \"y\": [8.378763198852539, 12.247980117797852, 5.620153427124023, 8.680228233337402, 7.545177459716797, 12.146538734436035, 9.732353210449219, 9.876057624816895, 12.239436149597168, 8.750090599060059, 9.6376953125, 7.706373691558838, 9.52673053741455, 12.239184379577637, 6.209389686584473, 14.0177583694458, 10.02017593383789, 8.785794258117676, -3.751093864440918, 10.1124849319458, 8.979269027709961, 12.223987579345703, 9.510729789733887, 8.516979217529297, 9.374687194824219, 9.165192604064941, 10.325455665588379, 12.390453338623047, 10.545134544372559, 9.118982315063477, 8.478863716125488, 9.262205123901367, 9.42418098449707, 10.325547218322754, 10.32544231414795, 11.823906898498535, 12.22894287109375, 6.209428310394287, 12.147602081298828, 13.28188705444336, 11.824143409729004, 9.5684232711792, 9.071588516235352, 10.32571792602539, 12.248501777648926, 13.289863586425781, 12.228232383728027, 10.32542610168457, 9.799041748046875, 7.706374168395996, 12.24850082397461, 5.988855838775635, 9.505952835083008, 8.707788467407227, 9.487370491027832, 8.534793853759766, 5.619866371154785, 8.599007606506348, 13.2899751663208, 3.961780548095703, 6.192051410675049, 13.281886100769043, 9.378023147583008, 6.343926906585693, 7.36043643951416, 13.281885147094727, 5.620340347290039, 10.325506210327148, 9.900323867797852, 6.209487438201904, 8.967130661010742, 9.247529983520508, 13.281889915466309, 10.332609176635742, 10.150384902954102, 6.343885898590088], \"z\": [-5.299933910369873, -7.001142978668213, -3.204509973526001, -4.546727180480957, -4.1917524337768555, -7.178430080413818, -5.601542949676514, -5.215707778930664, -7.503726959228516, -5.834650993347168, -4.740902900695801, -4.039677143096924, -5.191115379333496, -7.503440856933594, -7.045618534088135, -6.206976890563965, -4.197778224945068, -4.973790645599365, -13.48156452178955, -5.061564922332764, -4.262807369232178, -6.880317211151123, -5.037999153137207, -5.346980571746826, -5.897401332855225, -4.294757843017578, -6.042531490325928, -8.055353164672852, -4.480320930480957, -4.538693428039551, -5.805373668670654, -5.395263671875, -7.4923996925354, -6.042509078979492, -6.042540550231934, -7.527253150939941, -6.880008697509766, -7.0456318855285645, -7.179115295410156, -7.403504371643066, -7.527246952056885, -4.340237140655518, -6.086322784423828, -6.042323589324951, -7.0014824867248535, -6.0133771896362305, -6.879786491394043, -6.042539119720459, -5.065493106842041, -4.039677143096924, -7.001495361328125, -3.630861520767212, -4.0430827140808105, -5.3617377281188965, -5.656345367431641, -4.915756702423096, -3.204787492752075, -4.641005039215088, -6.013665676116943, 2.8436851501464844, 3.6481661796569824, -7.403503894805908, -4.673709869384766, -3.2795002460479736, -3.932584047317505, -7.40354061126709, -3.2047932147979736, -6.042519569396973, -3.160947561264038, -7.045650482177734, -4.995560169219971, -5.741987228393555, -7.403506278991699, -4.863797664642334, -4.09077262878418, -3.2795138359069824]}, {\"hovertemplate\": \"Dominant_Topic=Topic 5<br>0=%{x}<br>1=%{y}<br>2=%{z}<extra></extra>\", \"legendgroup\": \"Topic 5\", \"marker\": {\"color\": \"#EF553B\", \"opacity\": 0.7, \"symbol\": \"circle\"}, \"mode\": \"markers\", \"name\": \"Topic 5\", \"scene\": \"scene\", \"showlegend\": true, \"type\": \"scatter3d\", \"x\": [4.302515029907227, 1.1602363586425781, 0.08764590322971344, 5.069799900054932, 5.3042192459106445, 5.320534706115723, 2.9423575401306152, 4.595839977264404, 7.164999961853027, 4.053620338439941, 5.262650012969971, 3.639028310775757, 5.320323944091797, 5.259288787841797, 1.4434998035430908, 2.719212532043457, 6.656166076660156, 3.743023633956909, 2.7482519149780273, 4.147683620452881, 5.913980007171631, 3.7257590293884277, 2.232776165008545, 7.847064018249512, 2.232779026031494, 5.866914749145508, 4.9905877113342285, 4.13187313079834, 5.007387638092041, 4.952544212341309, 3.748471260070801, 4.595839500427246, 6.645117282867432, 5.082530975341797, 5.433466911315918, 5.658374309539795, 0.023533761501312256, 7.1650214195251465, 3.8928396701812744, 4.1031999588012695, 3.8246192932128906, 5.658374309539795, 5.320054531097412, 4.827362060546875, 5.320501327514648, 2.9423580169677734, 5.320598602294922, 7.1650004386901855, 0.022834839299321175, 0.02227316051721573, 4.595747470855713, 4.302514553070068, 7.164247512817383, 5.3193182945251465, 5.320430755615234, 5.963330268859863, 5.4364728927612305, 2.2327828407287598, 4.217636585235596], \"y\": [-2.4071898460388184, -0.11521938443183899, -0.7563716173171997, 0.17254039645195007, 0.5305984020233154, 3.8449478149414062, -2.2271182537078857, -1.5313271284103394, -3.228756904602051, -0.3456050455570221, 2.781621217727661, -0.14999164640903473, 3.8467864990234375, 0.1052216961979866, 0.12515391409397125, 1.160286545753479, -2.163468360900879, -0.16004358232021332, 1.4955110549926758, 0.09048674255609512, 2.598046064376831, -0.13220830261707306, 9.621842384338379, 1.1114485263824463, 9.621847152709961, 2.4225242137908936, 0.5715447068214417, 0.1284838318824768, 0.5931596755981445, -0.7500603795051575, -0.10270434617996216, -1.531327486038208, -2.01615571975708, 0.16232271492481232, 0.2986741364002228, 0.928052544593811, -1.0777934789657593, -3.22886323928833, 0.2403835505247116, -0.3221929371356964, 0.19107668101787567, 0.9280524849891663, 3.8469138145446777, 0.5952450633049011, 3.845372200012207, -2.2271006107330322, 3.844496488571167, -3.228771686553955, -1.076829195022583, -1.0768474340438843, -1.5315576791763306, -2.4071898460388184, -3.2291338443756104, 3.8439488410949707, 3.8464512825012207, 1.447666883468628, 0.24646639823913574, 9.621814727783203, -0.18753445148468018], \"z\": [-0.26964056491851807, 1.2558643817901611, -2.7964956760406494, -1.6550246477127075, -1.2892786264419556, 1.2662508487701416, -0.5843531489372253, 2.302618980407715, -2.2888071537017822, 0.1039377972483635, 0.7600837349891663, 0.102532759308815, 1.2684991359710693, -1.6025692224502563, 1.187707543373108, -0.8147748708724976, -1.9875233173370361, 0.4178144931793213, 0.5079008340835571, 0.35279396176338196, 2.192188024520874, -0.06346336752176285, -2.1204216480255127, -3.9771573543548584, -2.120431423187256, 2.180514335632324, -1.4955424070358276, 0.33448272943496704, -1.4813944101333618, 2.2378506660461426, -0.08838522434234619, 2.302618980407715, -1.7639185190200806, -1.6544039249420166, -1.3442567586898804, -1.9897565841674805, -2.6343882083892822, -2.2887749671936035, 0.11362891644239426, 0.1485467553138733, 0.28918731212615967, -1.989756464958191, 1.268367052078247, -2.4807815551757812, 1.2665953636169434, -0.5843527317047119, 1.2658685445785522, -2.288808584213257, -2.634758472442627, -2.635038375854492, 2.302769422531128, -0.26964056491851807, -2.2890048027038574, 1.2653632164001465, 1.2676323652267456, -2.1219518184661865, -1.3844228982925415, -2.120401382446289, 0.26773789525032043]}, {\"hovertemplate\": \"Dominant_Topic=Topic 6<br>0=%{x}<br>1=%{y}<br>2=%{z}<extra></extra>\", \"legendgroup\": \"Topic 6\", \"marker\": {\"color\": \"#00cc96\", \"opacity\": 0.7, \"symbol\": \"circle\"}, \"mode\": \"markers\", \"name\": \"Topic 6\", \"scene\": \"scene\", \"showlegend\": true, \"type\": \"scatter3d\", \"x\": [-15.782256126403809, -13.369915008544922, -9.232619285583496, -12.84742546081543, -6.698193073272705, -10.01948070526123, -12.203495025634766, -17.118642807006836, -12.431183815002441, -14.594918251037598, -16.152015686035156, -12.074219703674316, -12.412006378173828, -17.335704803466797, -14.29939079284668, -15.658367156982422, -16.592084884643555, -12.778545379638672, -11.496220588684082, -15.512052536010742, -14.299391746520996, -12.075279235839844, -12.203605651855469, -15.873761177062988, -11.319862365722656, -12.274191856384277, -14.300759315490723, -15.601463317871094, -11.048808097839355, -12.203583717346191, -4.994136333465576, -6.121627330780029, -6.698192119598389, -15.744179725646973, -8.99233627319336, -9.197551727294922, -8.81899356842041, -5.145234107971191, -12.513959884643555, -15.663822174072266, -11.160712242126465, -13.466800689697266, -17.34787940979004, -5.145234107971191, -5.0846052169799805, -11.56879997253418, -11.160712242126465, -8.90455150604248, -14.206463813781738, -10.146086692810059, -12.105897903442383, -12.20889949798584, -15.132755279541016, -16.154512405395508, -15.212881088256836, -15.010305404663086, -13.503739356994629, -12.403016090393066, -12.737046241760254, -10.698662757873535, -10.835046768188477, -16.11452865600586, -10.909002304077148, -12.524585723876953, -10.363961219787598, -15.671684265136719, -17.76822853088379, -9.24800968170166, -17.118505477905273, -13.009346008300781, -11.91091537475586, -15.744179725646973, -8.17544174194336, -8.904746055603027, -11.442946434020996, -15.744178771972656, -16.154518127441406, -15.151453971862793, -17.26795768737793, -11.568833351135254, -15.017545700073242, -12.531197547912598, -8.88940715789795, -8.540054321289062, -10.255199432373047, -11.185075759887695, -9.656268119812012, -9.510814666748047, -11.687203407287598, -10.255199432373047, -12.879971504211426, -8.94020938873291, -10.61154556274414, -10.721302032470703, -8.664432525634766, -8.767102241516113, -9.362204551696777, -9.085803031921387, -9.43786907196045, -16.114360809326172, -12.467143058776855, -12.386210441589355, -12.154638290405273, -14.352032661437988, -13.46679973602295, -10.807049751281738, -10.01948070526123, -11.97512435913086, -15.642491340637207, -12.570759773254395, -13.470491409301758, -17.260705947875977, -15.663945198059082, -17.365873336791992, -12.154600143432617, -14.300759315490723, -12.035896301269531, -15.543875694274902, -17.118505477905273, -15.284699440002441, -17.36713218688965, -15.132620811462402, -15.685442924499512, -13.406208038330078, -10.835197448730469, -15.010204315185547, -17.248289108276367, -14.299581527709961, -12.207915306091309, -10.477611541748047, -11.048312187194824, -14.206477165222168, -17.032472610473633, -13.369802474975586, -11.800565719604492, -16.152013778686523, -17.118682861328125, -12.382918357849121, -11.85464096069336, -17.267784118652344, -11.64255142211914, -1.1787519454956055, -11.902709007263184, -11.611857414245605, -11.593023300170898, -0.8913896083831787, -12.203603744506836, -15.548587799072266, -11.42269229888916, -13.052952766418457, -12.524518966674805, -11.902706146240234, -12.997756004333496, -12.467108726501465, -11.048340797424316, -11.915716171264648, -5.097497463226318, -11.42620849609375, -13.62142562866211, -16.04351806640625, -12.010904312133789, -17.26873016357422, -8.597537994384766, -17.783140182495117, -9.954326629638672, -17.949792861938477, -11.410245895385742, -11.153739929199219, -1.4946606159210205, -8.440924644470215, -13.369826316833496, -13.925886154174805, -11.6123628616333, -11.606195449829102, -8.856191635131836, -8.0069580078125, -9.594847679138184, -12.182563781738281, -11.141603469848633, -11.806130409240723, -0.1754099726676941, -15.744293212890625, -15.642486572265625, -11.048877716064453, -12.88771915435791, -12.853696823120117, -17.76822280883789, -14.464274406433105, -17.268142700195312, -11.316848754882812, -10.450223922729492, -14.464216232299805, -8.787259101867676, -7.461120128631592, -8.006957054138184, -15.555875778198242, -10.915155410766602, -13.627466201782227, -0.3045855462551117, -11.379899978637695, -12.049842834472656, -8.56490421295166, -14.115083694458008, -11.568702697753906, -17.11861801147461, -12.446394920349121, -3.0909006595611572, -6.1216278076171875, -8.588027000427246, -15.780664443969727, -4.994128704071045, -8.53530502319336, -7.4948811531066895, -13.564064025878906, -15.663826942443848, -7.73103141784668, -7.132038116455078, -11.048809051513672, -8.819300651550293, -11.593070030212402], \"y\": [4.2697038650512695, -2.7445127964019775, 6.6758198738098145, -0.20529545843601227, -0.7203027009963989, -5.584353446960449, 1.6484535932540894, -0.17156319320201874, 0.19110696017742157, 3.9832541942596436, 3.503082752227783, 0.26398104429244995, 0.4097151458263397, -0.9094660878181458, 3.064439296722412, 0.711322546005249, -1.419795274734497, 5.091714859008789, 6.078736305236816, -2.468458652496338, 3.064441204071045, 0.34099623560905457, 1.6484519243240356, -4.468062877655029, 5.860817909240723, -0.7265853881835938, 3.065584182739258, 1.300479769706726, 6.258755683898926, 1.6484956741333008, 3.5131795406341553, 4.041377067565918, -0.7203012108802795, 1.972808837890625, 7.504791259765625, 7.57671594619751, 6.446237564086914, 3.053030014038086, -0.4245452582836151, -4.459892272949219, -0.00973556749522686, 0.6968615651130676, 1.9770280122756958, 3.053030014038086, 3.461452007293701, -2.4824581146240234, -0.0097356541082263, 2.2194879055023193, 2.8723695278167725, 6.073583126068115, -0.156068816781044, 2.2604146003723145, 5.462649822235107, -0.9197705388069153, 4.184906482696533, 1.1240832805633545, 1.777291178703308, 5.083695888519287, 0.5636472105979919, -1.4213570356369019, 1.7912405729293823, 0.927156925201416, 6.092253684997559, -6.680197238922119, 3.0074384212493896, 4.5266804695129395, -1.985264778137207, 6.430445194244385, -0.1713409721851349, 0.1784922033548355, 0.004069669172167778, 1.972808837890625, 7.142036437988281, 2.2193360328674316, -5.2370758056640625, 1.972809076309204, -0.9197948575019836, -4.227649688720703, -2.325770139694214, -2.482473373413086, 0.8555765151977539, 2.5277202129364014, 6.705082416534424, 6.818681716918945, 8.548293113708496, -0.14688809216022491, 7.116337776184082, 6.9165239334106445, -0.616171658039093, 8.548293113708496, -0.3417653441429138, 7.276772499084473, 8.272749900817871, -1.3627636432647705, 7.370225429534912, 2.2580063343048096, 6.542446136474609, 7.1429901123046875, 7.062437057495117, 0.9273165464401245, -7.165643692016602, -0.5157323479652405, 1.7254960536956787, 3.9071011543273926, 0.6968615651130676, -1.344947099685669, -5.584353446960449, 2.298119306564331, -2.6600136756896973, 1.0574802160263062, 3.846097707748413, 0.716846764087677, -4.459889888763428, -1.3958556652069092, 1.7253187894821167, 3.065584182739258, 1.2736083269119263, -4.544567108154297, -0.17134112119674683, 5.613079071044922, -1.3958889245986938, 5.462710857391357, -0.26633116602897644, -2.8668363094329834, 1.7912795543670654, 1.1240251064300537, 0.6582706570625305, 3.0645482540130615, 2.25994873046875, 1.6989127397537231, 6.258806228637695, 2.8723692893981934, -1.4893839359283447, -2.7445149421691895, 1.0596261024475098, 3.503082752227783, -0.17157506942749023, 1.0206491947174072, -0.530581533908844, -2.325791835784912, -4.603679180145264, -0.3855368494987488, -1.8316655158996582, 0.9694445729255676, 6.061264514923096, -0.17158450186252594, 1.648477554321289, -2.4067680835723877, 6.6898512840271, -2.1937336921691895, -6.680356979370117, -1.8316653966903687, 4.583724021911621, -7.165752410888672, 6.258997440338135, 0.5345687866210938, 0.45270249247550964, 2.0028369426727295, 2.6018335819244385, 4.484844207763672, -1.9232083559036255, -2.325777769088745, 7.6652607917785645, 0.6074069142341614, 5.92363977432251, -1.7470698356628418, 1.0296790599822998, 0.5624962449073792, -0.4489692449569702, 7.926395893096924, -2.744501829147339, 3.5612564086914062, -0.28573498129844666, 1.4772664308547974, 7.7171759605407715, 2.520886182785034, 7.290839672088623, 0.8444594144821167, 0.2927732765674591, -3.129855155944824, 15.914782524108887, 1.9727091789245605, -2.6599345207214355, 6.258764266967773, 0.29783201217651367, 0.7496483325958252, -1.9852583408355713, 3.313326597213745, -2.325709104537964, -0.27882322669029236, 8.690187454223633, 3.3132054805755615, 7.670975208282471, 6.478663444519043, 2.520886182785034, 5.422313690185547, 6.0894269943237305, 2.6060707569122314, 16.16472816467285, 0.3319895565509796, 0.22884385287761688, 7.6571831703186035, 2.9865713119506836, 0.45404842495918274, -0.1716635376214981, 5.059023857116699, 3.777895450592041, 4.041374206542969, 7.231539249420166, 4.2688140869140625, 3.5131452083587646, 1.1942938566207886, -1.141477108001709, 1.7456603050231934, -4.4595746994018555, -1.566589593887329, -0.6076868176460266, 6.258750915527344, 6.785031318664551, 6.061211109161377], \"z\": [7.304173946380615, 0.955663800239563, 7.179436683654785, 5.420188903808594, 6.304166316986084, 6.906660079956055, 0.2913481593132019, 4.321453094482422, 4.012018203735352, 8.036482810974121, 7.435663223266602, 8.423154830932617, 5.819814682006836, 5.967861652374268, 6.6914215087890625, 2.976691484451294, 7.538850784301758, -0.38894587755203247, 0.9627922177314758, 0.5445713400840759, 6.6914215087890625, 8.506117820739746, 0.29138684272766113, 5.6108245849609375, 7.120620250701904, 4.894835472106934, 6.691935062408447, 7.568305969238281, -0.06568603217601776, 0.29143404960632324, 5.759914875030518, 3.4173452854156494, 6.304166316986084, 7.20348596572876, 7.967837333679199, 7.547189712524414, 7.682862281799316, 3.8544862270355225, 4.289813995361328, 5.017096996307373, 1.1405603885650635, 1.7049646377563477, 4.771759510040283, 3.854494571685791, 5.794250011444092, 6.411346435546875, 1.1405603885650635, 3.4510955810546875, 0.5144006609916687, -2.34594988822937, 5.8179121017456055, 8.675124168395996, -0.7955363392829895, 7.761606216430664, 6.434081554412842, 3.7960824966430664, -0.9908686280250549, 6.9116339683532715, 4.353065013885498, 1.5523681640625, 7.526361465454102, 5.425654888153076, 7.2178850173950195, 7.05427360534668, 9.422197341918945, 7.2902913093566895, 5.339163780212402, 7.562643051147461, 4.321249485015869, 4.649881362915039, 4.005652904510498, 7.20348596572876, 0.475697785615921, 3.4511051177978516, 3.644519329071045, 7.20348596572876, 7.7613139152526855, 4.452916145324707, 3.795670986175537, 6.411333084106445, 2.7692811489105225, 2.5277318954467773, 8.203720092773438, 7.8083367347717285, 8.960083961486816, 5.13206148147583, 7.824422836303711, 8.125401496887207, 5.030069828033447, 8.960083961486816, 4.738449573516846, 7.141044616699219, 5.602161884307861, 1.8292715549468994, 7.446455478668213, 3.387749433517456, 7.997986793518066, 8.279387474060059, 7.18015718460083, 5.425806999206543, 7.071954727172852, 5.412330627441406, 1.5954339504241943, 8.161208152770996, 1.7049643993377686, 1.7314345836639404, 6.906660079956055, 1.8686226606369019, 1.0180598497390747, 4.670479774475098, -0.013383373618125916, 4.731785774230957, 5.017083644866943, 6.1189141273498535, 1.595279574394226, 6.691934585571289, 4.812877178192139, 4.824573993682861, 4.32125186920166, -1.0522489547729492, 6.120553016662598, -0.7956284284591675, 7.84782600402832, 0.5148842334747314, 7.526273727416992, 3.795940637588501, 4.700186252593994, 6.691490650177002, 8.675613403320312, 8.583353042602539, -0.06549850106239319, 0.5144126415252686, 6.86303186416626, 0.955666720867157, 5.432103633880615, 7.435663223266602, 4.3214240074157715, 5.403143405914307, 4.344548225402832, 3.7956557273864746, 2.6070351600646973, 0.7778468132019043, -0.8992820978164673, 4.388445854187012, 1.1751539707183838, 12.601394653320312, 0.2915259003639221, 1.529487133026123, 0.39391958713531494, 1.7510055303573608, 7.054296016693115, -0.8992950320243835, -0.2107347846031189, 7.071922779083252, -0.06553368270397186, 5.800156116485596, 1.9006414413452148, 9.055082321166992, 6.697734355926514, 7.395576477050781, 1.5422292947769165, 3.7960307598114014, 1.8292406797409058, 3.726987361907959, -2.3791000843048096, 4.026302337646484, 4.973404407501221, 5.124476432800293, 0.49693188071250916, 0.4686572849750519, 0.9556350111961365, 5.9156060218811035, 5.589115142822266, 9.123031616210938, 2.4900994300842285, 3.0350773334503174, 7.538433074951172, 4.160435676574707, 4.522151947021484, 6.173925399780273, -4.43893575668335, 7.203501224517822, 1.0182442665100098, -0.06563146412372589, 5.434812068939209, 5.130373954772949, 5.33917236328125, 2.7668166160583496, 3.796051025390625, 4.501315593719482, 5.666815757751465, 2.766864061355591, 0.39691221714019775, 6.900334358215332, 3.035076379776001, -0.45610401034355164, 7.217604160308838, 6.697189807891846, -4.270599365234375, 5.646549224853516, 4.912989616394043, 0.5274553298950195, 2.9359004497528076, 4.134603977203369, 4.3214030265808105, 6.906120777130127, 5.716813564300537, 3.4173450469970703, 7.919888973236084, 7.303595542907715, 5.759930610656738, -13.360244750976562, 5.98138427734375, -1.165706753730774, 5.017171859741211, 5.77931022644043, 6.245833873748779, -0.06568218022584915, 7.179898262023926, 1.1753267049789429]}, {\"hovertemplate\": \"Dominant_Topic=Topic 7<br>0=%{x}<br>1=%{y}<br>2=%{z}<extra></extra>\", \"legendgroup\": \"Topic 7\", \"marker\": {\"color\": \"#ab63fa\", \"opacity\": 0.7, \"symbol\": \"circle\"}, \"mode\": \"markers\", \"name\": \"Topic 7\", \"scene\": \"scene\", \"showlegend\": true, \"type\": \"scatter3d\", \"x\": [12.230840682983398, 3.450578212738037, 1.7722660303115845, 0.1964218020439148, 2.1421561241149902, 1.1203802824020386, 2.689525842666626, 1.03677237033844, 0.3937170207500458, 2.8524394035339355, 0.45944806933403015, 2.2416179180145264, 3.4844436645507812, 3.120257616043091, 1.1180464029312134, 1.044116497039795, 3.1494319438934326, 2.079617977142334, 3.18501353263855, 2.267467737197876, 1.696306824684143, 0.4951018989086151, 3.120253086090088, 2.305828332901001, 3.1202468872070312, 1.7350115776062012, -5.3377814292907715, 2.5363032817840576, 1.5536340475082397, 2.4608213901519775, 1.5282249450683594, 0.06951222568750381, 2.6190781593322754, 1.493738055229187, 0.4951019585132599, 2.3935954570770264, 2.2892425060272217, 1.7074840068817139, 1.081066608428955, 2.597111463546753, 3.1494321823120117, 1.697879672050476, 1.8667912483215332, 1.2820197343826294, 1.6398534774780273, 1.9285379648208618], \"y\": [10.063812255859375, 14.69200325012207, 13.314291000366211, 15.04298210144043, 13.383021354675293, 12.448223114013672, 12.771056175231934, 12.814640045166016, 14.478588104248047, 12.577474594116211, -5.542964458465576, 12.932408332824707, 14.766736030578613, 14.035674095153809, 12.27316665649414, 12.130797386169434, 14.330329895019531, 12.76878547668457, 14.210187911987305, 10.085087776184082, 13.503369331359863, 14.760618209838867, 14.035707473754883, 13.20831298828125, 14.03565788269043, 13.098419189453125, 0.39276525378227234, 12.387861251831055, 12.946029663085938, 11.958355903625488, 11.848188400268555, 15.53210163116455, 12.02688980102539, 12.560883522033691, 14.760618209838867, 12.394612312316895, 11.89684009552002, 11.938872337341309, 12.950754165649414, 13.022224426269531, 14.330329895019531, 11.843018531799316, 11.668548583984375, 13.235079765319824, 12.375022888183594, 12.27610969543457], \"z\": [-5.328663349151611, -3.6543335914611816, -4.515923500061035, -5.378882884979248, -3.8520638942718506, -4.618603706359863, -4.439382076263428, -3.7356600761413574, -5.8097662925720215, -3.9643096923828125, -4.420527458190918, -3.2673685550689697, -3.54294490814209, -5.739771842956543, -3.6891725063323975, -4.248289108276367, -7.3403449058532715, -4.831594944000244, -6.4978179931640625, -2.6689319610595703, -3.9118244647979736, -5.50109338760376, -5.7399067878723145, -4.343483924865723, -5.739731788635254, -3.2572453022003174, 0.4502432942390442, -3.4120984077453613, -4.7629923820495605, -4.540454387664795, -4.033606052398682, -4.636392116546631, -4.11370849609375, -3.294476270675659, -5.50109338760376, -4.876702785491943, -3.694031238555908, -4.776343822479248, -4.405402183532715, -3.724611520767212, -7.3403449058532715, -3.6244194507598877, -4.363267421722412, -3.8276638984680176, -5.044532775878906, -3.2338898181915283]}, {\"hovertemplate\": \"Dominant_Topic=Topic 8<br>0=%{x}<br>1=%{y}<br>2=%{z}<extra></extra>\", \"legendgroup\": \"Topic 8\", \"marker\": {\"color\": \"#FFA15A\", \"opacity\": 0.7, \"symbol\": \"circle\"}, \"mode\": \"markers\", \"name\": \"Topic 8\", \"scene\": \"scene\", \"showlegend\": true, \"type\": \"scatter3d\", \"x\": [-5.781801223754883, -1.4939390420913696, -2.7784619331359863, -2.4023563861846924, -3.061683177947998, -1.7753995656967163, -2.577362298965454, -2.310213327407837, -3.321988821029663, -1.944046139717102, -2.6858510971069336, -3.7860848903656006, -3.6017072200775146, -3.404698371887207, -2.9048306941986084, -1.7663034200668335, -2.226569175720215, -2.8956592082977295, -8.280261039733887, -4.637051105499268, -3.3597099781036377, -3.112941026687622, -2.327479600906372, -3.785944938659668, -2.352858304977417, -1.6430447101593018, -3.2258589267730713, -4.402412414550781, -3.1075246334075928, -2.398869037628174, -3.3095273971557617, -3.7860851287841797, 0.7397720813751221, -3.221250295639038, -5.924387454986572, -1.4873725175857544, -2.4396955966949463, -3.861384868621826, -2.9354519844055176, -4.634204387664795, -1.9440466165542603, -2.682101011276245, -1.9812180995941162, -5.781726837158203, -3.327562093734741, -4.71235990524292, -1.9451402425765991, -3.7078535556793213, -1.5990099906921387, -18.84358024597168, -2.1042916774749756, -18.84378433227539, -3.370725393295288, -3.1605966091156006, 0.9450920820236206, -2.350313186645508, -2.218945026397705, -3.3743040561676025, -3.3543286323547363, -7.822250843048096, -7.821868896484375, -1.8939143419265747, 0.45160403847694397, -2.5356645584106445, -3.3208048343658447, -2.51249098777771, -2.780810832977295, -1.7280685901641846, -2.8158249855041504], \"y\": [10.95917797088623, -2.9123849868774414, 1.6951054334640503, 1.1764919757843018, 3.6118781566619873, 1.6032508611679077, -1.565043330192566, 1.4875181913375854, 2.640972852706909, 6.197684288024902, 1.2011550664901733, 0.8981853127479553, 3.8631880283355713, 2.3627307415008545, 3.559654474258423, 1.5806715488433838, 3.0579583644866943, 1.751591444015503, 1.5285784006118774, 1.7250359058380127, 10.593966484069824, 1.5008996725082397, 1.234663486480713, 0.8981563448905945, 1.2187621593475342, 2.107555866241455, 2.191448450088501, 0.6355274319648743, 0.9620470404624939, 2.1782238483428955, 0.8719251155853271, 0.8981853127479553, 2.202454090118408, 2.4051804542541504, 9.708939552307129, 1.989025354385376, 2.0003662109375, 0.9926272034645081, 2.8285372257232666, 1.721721887588501, 6.197683334350586, 2.4423587322235107, 2.4505867958068848, 10.95908260345459, 2.7776598930358887, 1.8384805917739868, 1.2634682655334473, -2.309767484664917, 2.479661226272583, -2.582913398742676, 2.7149107456207275, -2.582937717437744, 2.5042014122009277, 1.4271422624588013, 0.91301029920578, 1.2212986946105957, 2.922152280807495, 0.7605307102203369, 0.7731912136077881, 2.0941271781921387, 2.093808174133301, 2.1078717708587646, 0.9318740963935852, 2.182075262069702, 1.8333030939102173, -1.3807777166366577, 2.7660255432128906, 2.786777973175049, 3.041532516479492], \"z\": [-7.7540788650512695, 9.062932014465332, -14.661688804626465, -14.422796249389648, -16.532949447631836, -14.666801452636719, -14.403617858886719, -13.531010627746582, -10.06441593170166, -12.305673599243164, -13.942948341369629, -10.865936279296875, -16.235584259033203, -10.154658317565918, -16.63863182067871, -13.767534255981445, -14.038735389709473, -13.517200469970703, -13.317514419555664, -15.991456031799316, -6.83507776260376, -14.322957992553711, -16.01137351989746, -10.866072654724121, -16.040145874023438, -14.833431243896484, -14.668556213378906, -14.370719909667969, -11.621706008911133, -14.125991821289062, -16.363248825073242, -10.865936279296875, -8.681262016296387, -13.704681396484375, -7.745135307312012, -14.212886810302734, -14.843405723571777, -16.27418327331543, -14.664533615112305, -15.992735862731934, -12.305676460266113, -15.004839897155762, -15.030745506286621, -7.754077434539795, -9.91671371459961, -15.92033576965332, -14.284327507019043, -16.557392120361328, -13.962474822998047, 3.518002510070801, -13.510101318359375, 3.517991781234741, -14.254858016967773, 2.1164093017578125, -13.188246726989746, -16.03755760192871, -14.738547325134277, -16.241302490234375, -16.246225357055664, -11.844928741455078, -11.84508991241455, -13.449809074401855, -13.549263000488281, -13.324585914611816, -13.94798755645752, -14.430574417114258, -13.548782348632812, -14.417888641357422, -14.169803619384766]}, {\"hovertemplate\": \"Dominant_Topic=Topic 9<br>0=%{x}<br>1=%{y}<br>2=%{z}<extra></extra>\", \"legendgroup\": \"Topic 9\", \"marker\": {\"color\": \"#19d3f3\", \"opacity\": 0.7, \"symbol\": \"circle\"}, \"mode\": \"markers\", \"name\": \"Topic 9\", \"scene\": \"scene\", \"showlegend\": true, \"type\": \"scatter3d\", \"x\": [-0.25199636816978455, -2.182645797729492, -0.05904800817370415, -0.41975581645965576, -9.060229301452637, -8.851180076599121, -6.299578666687012, -10.617094039916992, -1.5232301950454712, -0.8176359534263611, 1.9037638902664185, 0.2535359859466553, -10.353802680969238, -6.066975116729736, -3.104311466217041, -1.4833011627197266, -5.283144950866699, -3.5195794105529785, 2.391136407852173, -9.26090145111084, 2.8729588985443115, -3.1603026390075684, -0.31525513529777527, 0.3306483328342438, -1.873771071434021, 12.079331398010254, 12.079390525817871, 1.8929964303970337, -0.7934309244155884, -10.189455032348633, 0.1558733880519867, -9.378714561462402, 1.7280733585357666, -3.104093551635742, -3.1600992679595947, -9.618731498718262, -1.8737235069274902, 1.9077215194702148, 0.8124873042106628, -8.999671936035156, -7.502764701843262, -9.230439186096191, -1.2489359378814697, -3.16277813911438, -9.479185104370117, -9.073945999145508, -6.299575328826904, -1.3178294897079468, -3.1420083045959473, -1.3482532501220703, 0.5402799248695374, -0.20246252417564392, -6.299604892730713, 3.212926149368286, 1.427916169166565, -1.746372938156128, -1.746329665184021, -0.5357093214988708, -3.1605091094970703, -0.9197390675544739, 2.013767957687378, -3.217672348022461, -0.5504109859466553, -1.150408148765564, 0.806577742099762, 2.1247386932373047, 0.17581777274608612, -6.1454854011535645, 1.4279160499572754, 3.212926149368286, -0.16672980785369873, -0.42044463753700256, 0.7317203879356384, 2.029026746749878, -9.612130165100098, -9.940458297729492, 1.7280734777450562, -10.189461708068848, -10.541302680969238, 0.7717810869216919, -10.541302680969238, -10.162485122680664, 2.8729586601257324, -7.50276517868042, 0.9969345927238464, -3.142042875289917, 2.041541576385498, -0.37882596254348755, -6.933849811553955, -10.20240306854248, -9.136817932128906, 2.391136407852173, 0.1681634485721588, -3.104311466217041, -1.523433804512024, 1.9578526020050049, 0.16017889976501465, -0.4890162944793701, -6.067022323608398, -0.8598108887672424, -6.05469274520874, -6.56073522567749, -3.1600992679595947, 1.905172348022461, 12.079316139221191, 0.33063045144081116, -3.8150925636291504, -1.7027819156646729, -0.7619197964668274, 1.813755989074707, -3.160639524459839, -0.05620918050408363, 0.7023733258247375, -6.986156940460205, 0.5600049495697021, -0.9555054903030396, 0.31323787569999695, -3.2176904678344727, 0.7864924669265747, -2.9261584281921387, -6.299577236175537, 2.1233818531036377, -0.3603552281856537, 0.40724360942840576, -8.640572547912598, -9.723001480102539, -9.130898475646973, -0.6190013885498047, -0.024998130276799202, 1.967034101486206, -6.560736179351807, -9.669119834899902, -0.41975346207618713, -0.7768447995185852, -10.005142211914062, -3.371640682220459, -8.834036827087402, 3.212247610092163, -0.3108876347541809, -6.053478240966797, -0.07464908063411713, -3.141989231109619, -0.4197862148284912, -1.6463285684585571, -1.5984123945236206, -8.840479850769043, -9.942960739135742, -9.649920463562012, -2.7054405212402344, -0.41978830099105835, -3.980074644088745, -8.708709716796875, 12.07927131652832, -4.391907691955566], \"y\": [10.338705062866211, 2.832507610321045, 10.27914047241211, 6.76106071472168, 10.977133750915527, 12.06258487701416, 12.044182777404785, 10.396153450012207, 3.4294357299804688, 10.817956924438477, 11.491216659545898, 12.379600524902344, 10.330963134765625, 12.334434509277344, 12.741315841674805, 9.280210494995117, 0.9264827370643616, 11.614853858947754, 10.269522666931152, 12.472594261169434, 10.7073392868042, 12.267889022827148, 12.7933988571167, 12.14838981628418, 5.154409885406494, -5.072585105895996, -5.072598457336426, 11.747160911560059, 8.971283912658691, 9.857248306274414, 12.092411994934082, 11.498809814453125, 9.430334091186523, 12.741205215454102, 12.267833709716797, 12.519816398620605, 5.154231548309326, 11.488419532775879, 13.179890632629395, 11.861276626586914, 12.400762557983398, 11.673968315124512, 8.69862174987793, 12.268559455871582, 12.164007186889648, 11.088387489318848, 12.044365882873535, 8.614790916442871, 5.159586429595947, 9.327485084533691, 13.48802661895752, 13.058517456054688, 12.044377326965332, 9.209595680236816, 11.804547309875488, 3.2407419681549072, 3.2408103942871094, 10.447366714477539, 12.2679443359375, 3.1136837005615234, 11.773470878601074, 10.784552574157715, 8.884936332702637, 9.114144325256348, 13.549410820007324, 11.519869804382324, 12.009848594665527, 12.140666007995605, 11.804530143737793, 9.2095947265625, 12.619503021240234, 10.991801261901855, 12.070931434631348, 11.770078659057617, 12.152515411376953, 12.30501937866211, 9.430333137512207, 9.857248306274414, 10.38371753692627, 12.696914672851562, 10.38371753692627, 11.593729019165039, 10.7073392868042, 12.400762557983398, 12.808406829833984, 5.159841537475586, 11.764997482299805, 10.354755401611328, 1.1529686450958252, 11.994552612304688, 12.43394947052002, 10.269521713256836, 12.924386024475098, 12.741315841674805, 3.4291555881500244, 9.755355834960938, 13.503273963928223, 8.897103309631348, 12.334489822387695, 10.73250675201416, 12.356844902038574, 8.493403434753418, 12.267833709716797, 11.4900541305542, -5.072605133056641, 12.148416519165039, 12.43804931640625, 6.02334451675415, 10.434069633483887, 9.286401748657227, 12.267980575561523, 10.343594551086426, 12.07436466217041, 1.4316296577453613, 13.63394832611084, 9.170950889587402, 13.361532211303711, 10.784564018249512, 12.335886001586914, 10.355628967285156, 12.044393539428711, 11.519257545471191, 12.337167739868164, 12.550467491149902, 11.423615455627441, 11.129215240478516, 11.034211158752441, 9.002758979797363, 10.752496719360352, 9.594232559204102, 8.493402481079102, 11.294276237487793, 6.761052131652832, 10.607544898986816, 11.952898979187012, 12.41245174407959, 11.555153846740723, 9.209986686706543, 12.260100364685059, 0.9995222687721252, 10.963404655456543, 5.159759998321533, 6.760871887207031, 9.37332534790039, 9.390727996826172, 12.17418098449707, 11.643380165100098, 11.557002067565918, 9.780794143676758, 6.76086950302124, 4.625261306762695, 11.528970718383789, -5.072572231292725, 2.438120126724243], \"z\": [7.431657791137695, 8.439108848571777, 7.170488357543945, 2.274366855621338, 8.918959617614746, 9.150733947753906, 0.28299978375434875, 9.606734275817871, 5.975287914276123, 7.195792198181152, 1.508269190788269, 8.051025390625, 9.852596282958984, -1.6675031185150146, 6.0424485206604, 7.365450382232666, -10.591452598571777, 4.243216514587402, 9.973886489868164, 8.564057350158691, 6.465468406677246, 9.309244155883789, 7.054714202880859, 0.15875118970870972, 8.480718612670898, -2.931905746459961, -2.9318928718566895, 1.503763198852539, 7.441349506378174, 5.859316825866699, 6.7763495445251465, 8.108098983764648, 10.237089157104492, 6.042077541351318, 9.309164047241211, 9.081908226013184, 8.480766296386719, 1.509352684020996, 7.22496223449707, 8.156606674194336, 9.310919761657715, 9.791987419128418, 6.62155294418335, 9.310223579406738, 9.630376815795898, 9.36727523803711, 0.2832578718662262, 7.035767555236816, 1.7580804824829102, 6.353311538696289, 9.056011199951172, 7.540894508361816, 0.28318890929222107, 9.193214416503906, 2.9977169036865234, 8.224602699279785, 8.224777221679688, 7.512326240539551, 9.309342384338379, 6.179176330566406, 1.4906346797943115, 3.7912838459014893, 7.144636154174805, 7.5279860496521, 7.968304634094238, 1.5519598722457886, 7.806654930114746, 0.8280377984046936, 2.9977169036865234, 9.193215370178223, 7.880013465881348, 6.698184967041016, 7.280854225158691, 1.492369532585144, 8.217631340026855, 8.628555297851562, 10.237088203430176, 5.859675407409668, 9.70989990234375, 7.8812336921691895, 9.70989990234375, 8.683387756347656, 6.465468406677246, 9.310919761657715, 7.4650678634643555, 1.758446216583252, 1.4922748804092407, 6.554585933685303, -10.45874309539795, 9.056829452514648, 9.270251274108887, 9.973886489868164, 6.8172221183776855, 6.042448997497559, 5.975218296051025, 0.1334247589111328, 7.817192077636719, 6.782683372497559, -1.6675480604171753, 6.859198570251465, -1.800899863243103, 10.671259880065918, 9.309164047241211, 1.5091197490692139, -2.931906223297119, 0.15874966979026794, 9.51531982421875, 2.0272421836853027, 6.652988433837891, 10.315933227539062, 9.309393882751465, 6.815267562866211, 7.699934959411621, -9.99151611328125, 8.785433769226074, 6.254608631134033, 7.241756439208984, 3.791254758834839, 6.9437103271484375, 3.8793833255767822, 0.2832568287849426, 1.555021047592163, 7.635133743286133, 6.710949420928955, 8.955143928527832, 8.515932083129883, 8.450188636779785, 6.431960582733154, 6.780521869659424, 0.09244012832641602, 10.671321868896484, 8.992382049560547, 2.27439546585083, 7.389230251312256, 9.429924964904785, 5.360783100128174, 9.534866333007812, 9.193120956420898, 7.021469593048096, -10.570672988891602, 7.352998733520508, 1.7576712369918823, 2.2742867469787598, 7.027460098266602, 6.6597747802734375, 8.575052261352539, 8.272116661071777, 9.569238662719727, 3.8613123893737793, 2.2742843627929688, 1.4820042848587036, 8.487058639526367, -2.931917905807495, 3.4699957370758057]}],                        {\"height\": 800, \"legend\": {\"title\": {\"text\": \"Dominant_Topic\"}, \"tracegroupgap\": 0}, \"scene\": {\"domain\": {\"x\": [0.0, 1.0], \"y\": [0.0, 1.0]}, \"xaxis\": {\"title\": {\"text\": \"0\"}}, \"yaxis\": {\"title\": {\"text\": \"1\"}}, \"zaxis\": {\"title\": {\"text\": \"2\"}}}, \"template\": {\"data\": {\"bar\": [{\"error_x\": {\"color\": \"#2a3f5f\"}, \"error_y\": {\"color\": \"#2a3f5f\"}, \"marker\": {\"line\": {\"color\": \"#E5ECF6\", \"width\": 0.5}}, \"type\": \"bar\"}], \"barpolar\": [{\"marker\": {\"line\": {\"color\": \"#E5ECF6\", \"width\": 0.5}}, \"type\": \"barpolar\"}], \"carpet\": [{\"aaxis\": {\"endlinecolor\": \"#2a3f5f\", \"gridcolor\": \"white\", \"linecolor\": \"white\", \"minorgridcolor\": \"white\", \"startlinecolor\": \"#2a3f5f\"}, \"baxis\": {\"endlinecolor\": \"#2a3f5f\", \"gridcolor\": \"white\", \"linecolor\": \"white\", \"minorgridcolor\": \"white\", \"startlinecolor\": \"#2a3f5f\"}, \"type\": \"carpet\"}], \"choropleth\": [{\"colorbar\": {\"outlinewidth\": 0, \"ticks\": \"\"}, \"type\": \"choropleth\"}], \"contour\": [{\"colorbar\": {\"outlinewidth\": 0, \"ticks\": \"\"}, \"colorscale\": [[0.0, \"#0d0887\"], [0.1111111111111111, \"#46039f\"], [0.2222222222222222, \"#7201a8\"], [0.3333333333333333, \"#9c179e\"], [0.4444444444444444, \"#bd3786\"], [0.5555555555555556, \"#d8576b\"], [0.6666666666666666, \"#ed7953\"], [0.7777777777777778, \"#fb9f3a\"], [0.8888888888888888, \"#fdca26\"], [1.0, \"#f0f921\"]], \"type\": \"contour\"}], \"contourcarpet\": [{\"colorbar\": {\"outlinewidth\": 0, \"ticks\": \"\"}, \"type\": \"contourcarpet\"}], \"heatmap\": [{\"colorbar\": {\"outlinewidth\": 0, \"ticks\": \"\"}, \"colorscale\": [[0.0, \"#0d0887\"], [0.1111111111111111, \"#46039f\"], [0.2222222222222222, \"#7201a8\"], [0.3333333333333333, \"#9c179e\"], [0.4444444444444444, \"#bd3786\"], [0.5555555555555556, \"#d8576b\"], [0.6666666666666666, \"#ed7953\"], [0.7777777777777778, \"#fb9f3a\"], [0.8888888888888888, \"#fdca26\"], [1.0, \"#f0f921\"]], \"type\": \"heatmap\"}], \"heatmapgl\": [{\"colorbar\": {\"outlinewidth\": 0, \"ticks\": \"\"}, \"colorscale\": [[0.0, \"#0d0887\"], [0.1111111111111111, \"#46039f\"], [0.2222222222222222, \"#7201a8\"], [0.3333333333333333, \"#9c179e\"], [0.4444444444444444, \"#bd3786\"], [0.5555555555555556, \"#d8576b\"], [0.6666666666666666, \"#ed7953\"], [0.7777777777777778, \"#fb9f3a\"], [0.8888888888888888, \"#fdca26\"], [1.0, \"#f0f921\"]], \"type\": \"heatmapgl\"}], \"histogram\": [{\"marker\": {\"colorbar\": {\"outlinewidth\": 0, \"ticks\": \"\"}}, \"type\": \"histogram\"}], \"histogram2d\": [{\"colorbar\": {\"outlinewidth\": 0, \"ticks\": \"\"}, \"colorscale\": [[0.0, \"#0d0887\"], [0.1111111111111111, \"#46039f\"], [0.2222222222222222, \"#7201a8\"], [0.3333333333333333, \"#9c179e\"], [0.4444444444444444, \"#bd3786\"], [0.5555555555555556, \"#d8576b\"], [0.6666666666666666, \"#ed7953\"], [0.7777777777777778, \"#fb9f3a\"], [0.8888888888888888, \"#fdca26\"], [1.0, \"#f0f921\"]], \"type\": \"histogram2d\"}], \"histogram2dcontour\": [{\"colorbar\": {\"outlinewidth\": 0, \"ticks\": \"\"}, \"colorscale\": [[0.0, \"#0d0887\"], [0.1111111111111111, \"#46039f\"], [0.2222222222222222, \"#7201a8\"], [0.3333333333333333, \"#9c179e\"], [0.4444444444444444, \"#bd3786\"], [0.5555555555555556, \"#d8576b\"], [0.6666666666666666, \"#ed7953\"], [0.7777777777777778, \"#fb9f3a\"], [0.8888888888888888, \"#fdca26\"], [1.0, \"#f0f921\"]], \"type\": \"histogram2dcontour\"}], \"mesh3d\": [{\"colorbar\": {\"outlinewidth\": 0, \"ticks\": \"\"}, \"type\": \"mesh3d\"}], \"parcoords\": [{\"line\": {\"colorbar\": {\"outlinewidth\": 0, \"ticks\": \"\"}}, \"type\": \"parcoords\"}], \"pie\": [{\"automargin\": true, \"type\": \"pie\"}], \"scatter\": [{\"marker\": {\"colorbar\": {\"outlinewidth\": 0, \"ticks\": \"\"}}, \"type\": \"scatter\"}], \"scatter3d\": [{\"line\": {\"colorbar\": {\"outlinewidth\": 0, \"ticks\": \"\"}}, \"marker\": {\"colorbar\": {\"outlinewidth\": 0, \"ticks\": \"\"}}, \"type\": \"scatter3d\"}], \"scattercarpet\": [{\"marker\": {\"colorbar\": {\"outlinewidth\": 0, \"ticks\": \"\"}}, \"type\": \"scattercarpet\"}], \"scattergeo\": [{\"marker\": {\"colorbar\": {\"outlinewidth\": 0, \"ticks\": \"\"}}, \"type\": \"scattergeo\"}], \"scattergl\": [{\"marker\": {\"colorbar\": {\"outlinewidth\": 0, \"ticks\": \"\"}}, \"type\": \"scattergl\"}], \"scattermapbox\": [{\"marker\": {\"colorbar\": {\"outlinewidth\": 0, \"ticks\": \"\"}}, \"type\": \"scattermapbox\"}], \"scatterpolar\": [{\"marker\": {\"colorbar\": {\"outlinewidth\": 0, \"ticks\": \"\"}}, \"type\": \"scatterpolar\"}], \"scatterpolargl\": [{\"marker\": {\"colorbar\": {\"outlinewidth\": 0, \"ticks\": \"\"}}, \"type\": \"scatterpolargl\"}], \"scatterternary\": [{\"marker\": {\"colorbar\": {\"outlinewidth\": 0, \"ticks\": \"\"}}, \"type\": \"scatterternary\"}], \"surface\": [{\"colorbar\": {\"outlinewidth\": 0, \"ticks\": \"\"}, \"colorscale\": [[0.0, \"#0d0887\"], [0.1111111111111111, \"#46039f\"], [0.2222222222222222, \"#7201a8\"], [0.3333333333333333, \"#9c179e\"], [0.4444444444444444, \"#bd3786\"], [0.5555555555555556, \"#d8576b\"], [0.6666666666666666, \"#ed7953\"], [0.7777777777777778, \"#fb9f3a\"], [0.8888888888888888, \"#fdca26\"], [1.0, \"#f0f921\"]], \"type\": \"surface\"}], \"table\": [{\"cells\": {\"fill\": {\"color\": \"#EBF0F8\"}, \"line\": {\"color\": \"white\"}}, \"header\": {\"fill\": {\"color\": \"#C8D4E3\"}, \"line\": {\"color\": \"white\"}}, \"type\": \"table\"}]}, \"layout\": {\"annotationdefaults\": {\"arrowcolor\": \"#2a3f5f\", \"arrowhead\": 0, \"arrowwidth\": 1}, \"autotypenumbers\": \"strict\", \"coloraxis\": {\"colorbar\": {\"outlinewidth\": 0, \"ticks\": \"\"}}, \"colorscale\": {\"diverging\": [[0, \"#8e0152\"], [0.1, \"#c51b7d\"], [0.2, \"#de77ae\"], [0.3, \"#f1b6da\"], [0.4, \"#fde0ef\"], [0.5, \"#f7f7f7\"], [0.6, \"#e6f5d0\"], [0.7, \"#b8e186\"], [0.8, \"#7fbc41\"], [0.9, \"#4d9221\"], [1, \"#276419\"]], \"sequential\": [[0.0, \"#0d0887\"], [0.1111111111111111, \"#46039f\"], [0.2222222222222222, \"#7201a8\"], [0.3333333333333333, \"#9c179e\"], [0.4444444444444444, \"#bd3786\"], [0.5555555555555556, \"#d8576b\"], [0.6666666666666666, \"#ed7953\"], [0.7777777777777778, \"#fb9f3a\"], [0.8888888888888888, \"#fdca26\"], [1.0, \"#f0f921\"]], \"sequentialminus\": [[0.0, \"#0d0887\"], [0.1111111111111111, \"#46039f\"], [0.2222222222222222, \"#7201a8\"], [0.3333333333333333, \"#9c179e\"], [0.4444444444444444, \"#bd3786\"], [0.5555555555555556, \"#d8576b\"], [0.6666666666666666, \"#ed7953\"], [0.7777777777777778, \"#fb9f3a\"], [0.8888888888888888, \"#fdca26\"], [1.0, \"#f0f921\"]]}, \"colorway\": [\"#636efa\", \"#EF553B\", \"#00cc96\", \"#ab63fa\", \"#FFA15A\", \"#19d3f3\", \"#FF6692\", \"#B6E880\", \"#FF97FF\", \"#FECB52\"], \"font\": {\"color\": \"#2a3f5f\"}, \"geo\": {\"bgcolor\": \"white\", \"lakecolor\": \"white\", \"landcolor\": \"#E5ECF6\", \"showlakes\": true, \"showland\": true, \"subunitcolor\": \"white\"}, \"hoverlabel\": {\"align\": \"left\"}, \"hovermode\": \"closest\", \"mapbox\": {\"style\": \"light\"}, \"paper_bgcolor\": \"white\", \"plot_bgcolor\": \"#E5ECF6\", \"polar\": {\"angularaxis\": {\"gridcolor\": \"white\", \"linecolor\": \"white\", \"ticks\": \"\"}, \"bgcolor\": \"#E5ECF6\", \"radialaxis\": {\"gridcolor\": \"white\", \"linecolor\": \"white\", \"ticks\": \"\"}}, \"scene\": {\"xaxis\": {\"backgroundcolor\": \"#E5ECF6\", \"gridcolor\": \"white\", \"gridwidth\": 2, \"linecolor\": \"white\", \"showbackground\": true, \"ticks\": \"\", \"zerolinecolor\": \"white\"}, \"yaxis\": {\"backgroundcolor\": \"#E5ECF6\", \"gridcolor\": \"white\", \"gridwidth\": 2, \"linecolor\": \"white\", \"showbackground\": true, \"ticks\": \"\", \"zerolinecolor\": \"white\"}, \"zaxis\": {\"backgroundcolor\": \"#E5ECF6\", \"gridcolor\": \"white\", \"gridwidth\": 2, \"linecolor\": \"white\", \"showbackground\": true, \"ticks\": \"\", \"zerolinecolor\": \"white\"}}, \"shapedefaults\": {\"line\": {\"color\": \"#2a3f5f\"}}, \"ternary\": {\"aaxis\": {\"gridcolor\": \"white\", \"linecolor\": \"white\", \"ticks\": \"\"}, \"baxis\": {\"gridcolor\": \"white\", \"linecolor\": \"white\", \"ticks\": \"\"}, \"bgcolor\": \"#E5ECF6\", \"caxis\": {\"gridcolor\": \"white\", \"linecolor\": \"white\", \"ticks\": \"\"}}, \"title\": {\"x\": 0.05}, \"xaxis\": {\"automargin\": true, \"gridcolor\": \"white\", \"linecolor\": \"white\", \"ticks\": \"\", \"title\": {\"standoff\": 15}, \"zerolinecolor\": \"white\", \"zerolinewidth\": 2}, \"yaxis\": {\"automargin\": true, \"gridcolor\": \"white\", \"linecolor\": \"white\", \"ticks\": \"\", \"title\": {\"standoff\": 15}, \"zerolinecolor\": \"white\", \"zerolinewidth\": 2}}}, \"title\": {\"text\": \"3d TSNE Plot for Topic Model\"}, \"width\": 900},                        {\"responsive\": true}                    ).then(function(){\n",
       "                            \n",
       "var gd = document.getElementById('8bbd4181-9984-4f6e-bdb6-6f02a631c3e8');\n",
       "var x = new MutationObserver(function (mutations, observer) {{\n",
       "        var display = window.getComputedStyle(gd).display;\n",
       "        if (!display || display === 'none') {{\n",
       "            console.log([gd, 'removed!']);\n",
       "            Plotly.purge(gd);\n",
       "            observer.disconnect();\n",
       "        }}\n",
       "}});\n",
       "\n",
       "// Listen for the removal of the full notebook cells\n",
       "var notebookContainer = gd.closest('#notebook-container');\n",
       "if (notebookContainer) {{\n",
       "    x.observe(notebookContainer, {childList: true});\n",
       "}}\n",
       "\n",
       "// Listen for the clearing of the current output cell\n",
       "var outputEl = gd.closest('.output');\n",
       "if (outputEl) {{\n",
       "    x.observe(outputEl, {childList: true});\n",
       "}}\n",
       "\n",
       "                        })                };                });            </script>        </div>"
      ]
     },
     "metadata": {},
     "output_type": "display_data"
    }
   ],
   "source": [
    "\n",
    "plot_model(lda, plot = 'tsne')"
   ]
  },
  {
   "cell_type": "code",
   "execution_count": 15,
   "id": "wrapped-muscle",
   "metadata": {},
   "outputs": [
    {
     "data": {
      "text/html": [
       "        <script type=\"text/javascript\">\n",
       "        window.PlotlyConfig = {MathJaxConfig: 'local'};\n",
       "        if (window.MathJax) {MathJax.Hub.Config({SVG: {font: \"STIX-Web\"}});}\n",
       "        if (typeof require !== 'undefined') {\n",
       "        require.undef(\"plotly\");\n",
       "        requirejs.config({\n",
       "            paths: {\n",
       "                'plotly': ['https://cdn.plot.ly/plotly-latest.min']\n",
       "            }\n",
       "        });\n",
       "        require(['plotly'], function(Plotly) {\n",
       "            window._Plotly = Plotly;\n",
       "        });\n",
       "        }\n",
       "        </script>\n",
       "        "
      ]
     },
     "metadata": {},
     "output_type": "display_data"
    },
    {
     "data": {
      "image/png": "[encoded data removed]",
      "text/plain": [
       "<Figure size 720x432 with 1 Axes>"
      ]
     },
     "metadata": {},
     "output_type": "display_data"
    }
   ],
   "source": [
    "plot_model(lda, plot = 'umap')"
   ]
  },
  {
   "cell_type": "code",
   "execution_count": null,
   "id": "british-entertainment",
   "metadata": {},
   "outputs": [],
   "source": []
  }
 ],
 "metadata": {
  "kernelspec": {
   "display_name": "Python 3",
   "language": "python",
   "name": "python3"
  },
  "language_info": {
   "codemirror_mode": {
    "name": "ipython",
    "version": 3
   },
   "file_extension": ".py",
   "mimetype": "text/x-python",
   "name": "python",
   "nbconvert_exporter": "python",
   "pygments_lexer": "ipython3",
   "version": "3.8.5"
  }
 },
 "nbformat": 4,
 "nbformat_minor": 5
}
