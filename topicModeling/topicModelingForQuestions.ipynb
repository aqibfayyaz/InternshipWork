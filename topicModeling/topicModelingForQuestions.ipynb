{
 "cells": [
  {
   "cell_type": "code",
   "execution_count": 1,
   "id": "municipal-guatemala",
   "metadata": {},
   "outputs": [],
   "source": [
    "from pycaret.nlp import *"
   ]
  },
  {
   "cell_type": "code",
   "execution_count": 2,
   "id": "liked-pulse",
   "metadata": {},
   "outputs": [],
   "source": [
    "from nltk.corpus import stopwords\n",
    "stopWords = stopwords.words('english')"
   ]
  },
  {
   "cell_type": "code",
   "execution_count": 3,
   "id": "institutional-proposition",
   "metadata": {},
   "outputs": [
    {
     "data": {
      "text/html": [
       "<div>\n",
       "<style scoped>\n",
       "    .dataframe tbody tr th:only-of-type {\n",
       "        vertical-align: middle;\n",
       "    }\n",
       "\n",
       "    .dataframe tbody tr th {\n",
       "        vertical-align: top;\n",
       "    }\n",
       "\n",
       "    .dataframe thead th {\n",
       "        text-align: right;\n",
       "    }\n",
       "</style>\n",
       "<table border=\"1\" class=\"dataframe\">\n",
       "  <thead>\n",
       "    <tr style=\"text-align: right;\">\n",
       "      <th></th>\n",
       "      <th>Unnamed: 0</th>\n",
       "      <th>questionID</th>\n",
       "      <th>questionTitle</th>\n",
       "      <th>questionText</th>\n",
       "      <th>questionLink</th>\n",
       "      <th>topic</th>\n",
       "      <th>therapistInfo</th>\n",
       "      <th>therapistURL</th>\n",
       "      <th>answerText</th>\n",
       "      <th>upvotes</th>\n",
       "      <th>views</th>\n",
       "      <th>split</th>\n",
       "    </tr>\n",
       "  </thead>\n",
       "  <tbody>\n",
       "    <tr>\n",
       "      <th>0</th>\n",
       "      <td>0</td>\n",
       "      <td>0</td>\n",
       "      <td>Can I change my feeling of being worthless to ...</td>\n",
       "      <td>I'm going through some things with my feelings...</td>\n",
       "      <td>https://counselchat.com/questions/can-i-change...</td>\n",
       "      <td>depression</td>\n",
       "      <td>Sherry Katz, LCSWCouples and Family Therapist,...</td>\n",
       "      <td>https://counselchat.com/therapists/sherry-katz...</td>\n",
       "      <td>If everyone thinks you're worthless, then mayb...</td>\n",
       "      <td>1</td>\n",
       "      <td>2899</td>\n",
       "      <td>train</td>\n",
       "    </tr>\n",
       "    <tr>\n",
       "      <th>1</th>\n",
       "      <td>1</td>\n",
       "      <td>0</td>\n",
       "      <td>Can I change my feeling of being worthless to ...</td>\n",
       "      <td>I'm going through some things with my feelings...</td>\n",
       "      <td>https://counselchat.com/questions/can-i-change...</td>\n",
       "      <td>depression</td>\n",
       "      <td>Robin Landwehr, DBH, LPCC, NCCMental Health in...</td>\n",
       "      <td>https://counselchat.com/therapists/robin-landw...</td>\n",
       "      <td>Hello, and thank you for your question and see...</td>\n",
       "      <td>1</td>\n",
       "      <td>3514</td>\n",
       "      <td>train</td>\n",
       "    </tr>\n",
       "  </tbody>\n",
       "</table>\n",
       "</div>"
      ],
      "text/plain": [
       "   Unnamed: 0  questionID                                      questionTitle  \\\n",
       "0           0           0  Can I change my feeling of being worthless to ...   \n",
       "1           1           0  Can I change my feeling of being worthless to ...   \n",
       "\n",
       "                                        questionText  \\\n",
       "0  I'm going through some things with my feelings...   \n",
       "1  I'm going through some things with my feelings...   \n",
       "\n",
       "                                        questionLink       topic  \\\n",
       "0  https://counselchat.com/questions/can-i-change...  depression   \n",
       "1  https://counselchat.com/questions/can-i-change...  depression   \n",
       "\n",
       "                                       therapistInfo  \\\n",
       "0  Sherry Katz, LCSWCouples and Family Therapist,...   \n",
       "1  Robin Landwehr, DBH, LPCC, NCCMental Health in...   \n",
       "\n",
       "                                        therapistURL  \\\n",
       "0  https://counselchat.com/therapists/sherry-katz...   \n",
       "1  https://counselchat.com/therapists/robin-landw...   \n",
       "\n",
       "                                          answerText  upvotes  views  split  \n",
       "0  If everyone thinks you're worthless, then mayb...        1   2899  train  \n",
       "1  Hello, and thank you for your question and see...        1   3514  train  "
      ]
     },
     "execution_count": 3,
     "metadata": {},
     "output_type": "execute_result"
    }
   ],
   "source": [
    "import pandas as pd\n",
    "\n",
    "\n",
    "# load the data into a dataframe\n",
    "data = pd.read_csv('20200325_counsel_chat.csv')\n",
    "data.head(2)\n"
   ]
  },
  {
   "cell_type": "code",
   "execution_count": 4,
   "id": "divine-debate",
   "metadata": {},
   "outputs": [
    {
     "data": {
      "text/plain": [
       "0    I'm going things feelings myself. I barely sle...\n",
       "1    I'm going things feelings myself. I barely sle...\n",
       "2    I'm going things feelings myself. I barely sle...\n",
       "3    I'm going things feelings myself. I barely sle...\n",
       "4    I'm going things feelings myself. I barely sle...\n",
       "Name: questionText, dtype: object"
      ]
     },
     "execution_count": 4,
     "metadata": {},
     "output_type": "execute_result"
    }
   ],
   "source": [
    "data['questions_without_stopwords'] = data['questionText'].apply(lambda x: ' '.join([word for word in x.split() if word not in (stopWords)]))\n",
    "data['questionText'] = data['questions_without_stopwords']\n",
    "data['questionText'].head()"
   ]
  },
  {
   "cell_type": "code",
   "execution_count": 5,
   "id": "arctic-design",
   "metadata": {},
   "outputs": [
    {
     "data": {
      "text/html": [
       "<div>\n",
       "<style scoped>\n",
       "    .dataframe tbody tr th:only-of-type {\n",
       "        vertical-align: middle;\n",
       "    }\n",
       "\n",
       "    .dataframe tbody tr th {\n",
       "        vertical-align: top;\n",
       "    }\n",
       "\n",
       "    .dataframe thead th {\n",
       "        text-align: right;\n",
       "    }\n",
       "</style>\n",
       "<table border=\"1\" class=\"dataframe\">\n",
       "  <thead>\n",
       "    <tr style=\"text-align: right;\">\n",
       "      <th></th>\n",
       "      <th>Unnamed: 0</th>\n",
       "      <th>questionID</th>\n",
       "      <th>questionTitle</th>\n",
       "      <th>questionText</th>\n",
       "      <th>questionLink</th>\n",
       "      <th>topic</th>\n",
       "      <th>therapistInfo</th>\n",
       "      <th>therapistURL</th>\n",
       "      <th>answerText</th>\n",
       "      <th>upvotes</th>\n",
       "      <th>views</th>\n",
       "      <th>split</th>\n",
       "      <th>questions_without_stopwords</th>\n",
       "    </tr>\n",
       "  </thead>\n",
       "  <tbody>\n",
       "    <tr>\n",
       "      <th>2124</th>\n",
       "      <td>2124</td>\n",
       "      <td>20</td>\n",
       "      <td>What happens in a counseling session?</td>\n",
       "      <td>After first meeting client, process counselor ...</td>\n",
       "      <td>https://counselchat.com/questions/what-happens...</td>\n",
       "      <td>counseling-fundamentals</td>\n",
       "      <td>Victoria HaagFind direction for your life...</td>\n",
       "      <td>https://counselchat.com/therapists/victoria-haag</td>\n",
       "      <td>There are probably no two therapists alike bec...</td>\n",
       "      <td>0</td>\n",
       "      <td>45</td>\n",
       "      <td>train</td>\n",
       "      <td>After first meeting client, process counselor ...</td>\n",
       "    </tr>\n",
       "    <tr>\n",
       "      <th>2125</th>\n",
       "      <td>2125</td>\n",
       "      <td>20</td>\n",
       "      <td>What happens in a counseling session?</td>\n",
       "      <td>After first meeting client, process counselor ...</td>\n",
       "      <td>https://counselchat.com/questions/what-happens...</td>\n",
       "      <td>counseling-fundamentals</td>\n",
       "      <td>Allison VelezIs your relationship worth it?</td>\n",
       "      <td>https://counselchat.com/therapists/allison-velez</td>\n",
       "      <td>Each counselor may have a different process, s...</td>\n",
       "      <td>0</td>\n",
       "      <td>37</td>\n",
       "      <td>train</td>\n",
       "      <td>After first meeting client, process counselor ...</td>\n",
       "    </tr>\n",
       "    <tr>\n",
       "      <th>2126</th>\n",
       "      <td>2126</td>\n",
       "      <td>20</td>\n",
       "      <td>What happens in a counseling session?</td>\n",
       "      <td>After first meeting client, process counselor ...</td>\n",
       "      <td>https://counselchat.com/questions/what-happens...</td>\n",
       "      <td>counseling-fundamentals</td>\n",
       "      <td>David RouttPresident and Clinical Counselor at...</td>\n",
       "      <td>https://counselchat.com/therapists/david-routt</td>\n",
       "      <td>After meeting a client, many Counselors will a...</td>\n",
       "      <td>0</td>\n",
       "      <td>56</td>\n",
       "      <td>train</td>\n",
       "      <td>After first meeting client, process counselor ...</td>\n",
       "    </tr>\n",
       "    <tr>\n",
       "      <th>2127</th>\n",
       "      <td>2127</td>\n",
       "      <td>20</td>\n",
       "      <td>What happens in a counseling session?</td>\n",
       "      <td>After first meeting client, process counselor ...</td>\n",
       "      <td>https://counselchat.com/questions/what-happens...</td>\n",
       "      <td>counseling-fundamentals</td>\n",
       "      <td>2nd Chance Counseling Service Online Addiction...</td>\n",
       "      <td>https://counselchat.com/therapists/2nd-chance-...</td>\n",
       "      <td>A good therapist will discuss what brought you...</td>\n",
       "      <td>0</td>\n",
       "      <td>27</td>\n",
       "      <td>train</td>\n",
       "      <td>After first meeting client, process counselor ...</td>\n",
       "    </tr>\n",
       "    <tr>\n",
       "      <th>2128</th>\n",
       "      <td>2128</td>\n",
       "      <td>20</td>\n",
       "      <td>What happens in a counseling session?</td>\n",
       "      <td>After first meeting client, process counselor ...</td>\n",
       "      <td>https://counselchat.com/questions/what-happens...</td>\n",
       "      <td>counseling-fundamentals</td>\n",
       "      <td>Sherry Katz, LCSWCouples and Family Therapist,...</td>\n",
       "      <td>https://counselchat.com/therapists/sherry-katz...</td>\n",
       "      <td>Great question which I imagine many other peop...</td>\n",
       "      <td>0</td>\n",
       "      <td>25</td>\n",
       "      <td>train</td>\n",
       "      <td>After first meeting client, process counselor ...</td>\n",
       "    </tr>\n",
       "  </tbody>\n",
       "</table>\n",
       "</div>"
      ],
      "text/plain": [
       "      Unnamed: 0  questionID                          questionTitle  \\\n",
       "2124        2124          20  What happens in a counseling session?   \n",
       "2125        2125          20  What happens in a counseling session?   \n",
       "2126        2126          20  What happens in a counseling session?   \n",
       "2127        2127          20  What happens in a counseling session?   \n",
       "2128        2128          20  What happens in a counseling session?   \n",
       "\n",
       "                                           questionText  \\\n",
       "2124  After first meeting client, process counselor ...   \n",
       "2125  After first meeting client, process counselor ...   \n",
       "2126  After first meeting client, process counselor ...   \n",
       "2127  After first meeting client, process counselor ...   \n",
       "2128  After first meeting client, process counselor ...   \n",
       "\n",
       "                                           questionLink  \\\n",
       "2124  https://counselchat.com/questions/what-happens...   \n",
       "2125  https://counselchat.com/questions/what-happens...   \n",
       "2126  https://counselchat.com/questions/what-happens...   \n",
       "2127  https://counselchat.com/questions/what-happens...   \n",
       "2128  https://counselchat.com/questions/what-happens...   \n",
       "\n",
       "                        topic  \\\n",
       "2124  counseling-fundamentals   \n",
       "2125  counseling-fundamentals   \n",
       "2126  counseling-fundamentals   \n",
       "2127  counseling-fundamentals   \n",
       "2128  counseling-fundamentals   \n",
       "\n",
       "                                          therapistInfo  \\\n",
       "2124       Victoria HaagFind direction for your life...   \n",
       "2125        Allison VelezIs your relationship worth it?   \n",
       "2126  David RouttPresident and Clinical Counselor at...   \n",
       "2127  2nd Chance Counseling Service Online Addiction...   \n",
       "2128  Sherry Katz, LCSWCouples and Family Therapist,...   \n",
       "\n",
       "                                           therapistURL  \\\n",
       "2124   https://counselchat.com/therapists/victoria-haag   \n",
       "2125   https://counselchat.com/therapists/allison-velez   \n",
       "2126     https://counselchat.com/therapists/david-routt   \n",
       "2127  https://counselchat.com/therapists/2nd-chance-...   \n",
       "2128  https://counselchat.com/therapists/sherry-katz...   \n",
       "\n",
       "                                             answerText  upvotes  views  \\\n",
       "2124  There are probably no two therapists alike bec...        0     45   \n",
       "2125  Each counselor may have a different process, s...        0     37   \n",
       "2126  After meeting a client, many Counselors will a...        0     56   \n",
       "2127  A good therapist will discuss what brought you...        0     27   \n",
       "2128  Great question which I imagine many other peop...        0     25   \n",
       "\n",
       "      split                        questions_without_stopwords  \n",
       "2124  train  After first meeting client, process counselor ...  \n",
       "2125  train  After first meeting client, process counselor ...  \n",
       "2126  train  After first meeting client, process counselor ...  \n",
       "2127  train  After first meeting client, process counselor ...  \n",
       "2128  train  After first meeting client, process counselor ...  "
      ]
     },
     "execution_count": 5,
     "metadata": {},
     "output_type": "execute_result"
    }
   ],
   "source": [
    "data.tail()"
   ]
  },
  {
   "cell_type": "code",
   "execution_count": 6,
   "id": "polish-disabled",
   "metadata": {},
   "outputs": [
    {
     "data": {
      "text/html": [
       "<style  type=\"text/css\" >\n",
       "</style><table id=\"T_c7e96_\" ><thead>    <tr>        <th class=\"col_heading level0 col0\" >Description</th>        <th class=\"col_heading level0 col1\" >Value</th>    </tr></thead><tbody>\n",
       "                <tr>\n",
       "                                <td id=\"T_c7e96_row0_col0\" class=\"data row0 col0\" >session_id</td>\n",
       "                        <td id=\"T_c7e96_row0_col1\" class=\"data row0 col1\" >123</td>\n",
       "            </tr>\n",
       "            <tr>\n",
       "                                <td id=\"T_c7e96_row1_col0\" class=\"data row1 col0\" >Documents</td>\n",
       "                        <td id=\"T_c7e96_row1_col1\" class=\"data row1 col1\" >2129</td>\n",
       "            </tr>\n",
       "            <tr>\n",
       "                                <td id=\"T_c7e96_row2_col0\" class=\"data row2 col0\" >Vocab Size</td>\n",
       "                        <td id=\"T_c7e96_row2_col1\" class=\"data row2 col1\" >2389</td>\n",
       "            </tr>\n",
       "            <tr>\n",
       "                                <td id=\"T_c7e96_row3_col0\" class=\"data row3 col0\" >Custom Stopwords</td>\n",
       "                        <td id=\"T_c7e96_row3_col1\" class=\"data row3 col1\" >True</td>\n",
       "            </tr>\n",
       "    </tbody></table>"
      ],
      "text/plain": [
       "<pandas.io.formats.style.Styler at 0x7f67257b75b0>"
      ]
     },
     "metadata": {},
     "output_type": "display_data"
    }
   ],
   "source": [
    "exp_nlp102 = setup(data = data, target = 'questionText', session_id = 123,\n",
    "                   custom_stopwords = ['would', 'want', 'usd', 'many', 'also', 'make', \n",
    "                                       'find','see', 'say', 'often', 'much', 'go', 'come',\n",
    "                                       'thought', 'even','learn','happen','much','let','know','thing','need','take'\n",
    "                                      , 'get','try','ask','maybe','keep','end','way','suggest','likely','area','part',\n",
    "                                      'consider','right','able','could','tell','seem','use','sometimes','think','look','self','lot','new','well','give',\n",
    "                                      'start'],\n",
    "                   log_experiment = True, experiment_name = 'questionText')"
   ]
  },
  {
   "cell_type": "code",
   "execution_count": 7,
   "id": "right-measurement",
   "metadata": {},
   "outputs": [],
   "source": [
    "\n",
    "lda = create_model('lda',num_topics = 300)\n"
   ]
  },
  {
   "cell_type": "code",
   "execution_count": 8,
   "id": "mature-paper",
   "metadata": {},
   "outputs": [],
   "source": [
    "# to find the best suited number of topic for our case using intrinsic evalution\n",
    "#tuned_unsupervised = tune_model(model = 'lda', multi_core = True)"
   ]
  },
  {
   "cell_type": "code",
   "execution_count": 9,
   "id": "alone-software",
   "metadata": {},
   "outputs": [],
   "source": [
    "# using extrinsic evaluation using classifier\n",
    "#tuned_classification = tune_model(model = 'lda', multi_core = True, supervised_target = 'answerText')"
   ]
  },
  {
   "cell_type": "code",
   "execution_count": 10,
   "id": "appreciated-command",
   "metadata": {},
   "outputs": [
    {
     "data": {
      "text/html": [
       "        <script type=\"text/javascript\">\n",
       "        window.PlotlyConfig = {MathJaxConfig: 'local'};\n",
       "        if (window.MathJax) {MathJax.Hub.Config({SVG: {font: \"STIX-Web\"}});}\n",
       "        if (typeof require !== 'undefined') {\n",
       "        require.undef(\"plotly\");\n",
       "        requirejs.config({\n",
       "            paths: {\n",
       "                'plotly': ['https://cdn.plot.ly/plotly-latest.min']\n",
       "            }\n",
       "        });\n",
       "        require(['plotly'], function(Plotly) {\n",
       "            window._Plotly = Plotly;\n",
       "        });\n",
       "        }\n",
       "        </script>\n",
       "        "
      ]
     },
     "metadata": {},
     "output_type": "display_data"
    },
    {
     "data": {
      "application/vnd.plotly.v1+json": {
       "config": {
        "plotlyServerURL": "https://plot.ly"
       },
       "data": [
        {
         "alignmentgroup": "True",
         "customdata": [
          [
           "depression, struggle, lack, amazing, evil, hysterically, apathetic, blur, injure, prison"
          ],
          [
           "life, evil, fantasy, hysterically, apathetic, blur, injure, prison, degrade, molested"
          ],
          [
           "year, ago, degrade, hysterically, apathetic, blur, injure, prison, hug, evil"
          ],
          [
           "love, marriage, attract, erection, degrade, hysterically, apathetic, blur, injure, molested"
          ],
          [
           "problem, reason, evil, fantasy, apathetic, blur, injure, prison, degrade, crying_freake"
          ],
          [
           "lose, degrade, hug, hysterically, apathetic, blur, injure, prison, molested, evil"
          ],
          [
           "counseling, never, history, address, almost, anxiety, marry, begin, depression, year"
          ],
          [
           "month, experience, evil, hysterically, apathetic, blur, injure, prison, degrade, crying_freake"
          ],
          [
           "live, high, degrade, crying_freake, hysterically, apathetic, blur, injure, prison, molested"
          ],
          [
           "issue, wife, early, cause, major, degrade, apathetic, blur, injure, prison"
          ],
          [
           "feel, pretty, low, focus, injure, apathetic, prison, evil, implant, blur"
          ]
         ],
         "hovertemplate": "Topic=%{x}<br>Documents=%{y}<br>Keyword=%{customdata[0]}<extra></extra>",
         "legendgroup": "",
         "marker": {
          "color": "#636efa"
         },
         "name": "",
         "offsetgroup": "",
         "orientation": "v",
         "showlegend": false,
         "textposition": "auto",
         "type": "bar",
         "x": [
          "Topic 28",
          "Topic 44",
          "Topic 49",
          "Topic 61",
          "Topic 112",
          "Topic 113",
          "Topic 119",
          "Topic 190",
          "Topic 194",
          "Topic 271",
          "Topic 284"
         ],
         "xaxis": "x",
         "y": [
          8,
          5,
          172,
          95,
          5,
          4,
          1304,
          4,
          17,
          69,
          446
         ],
         "yaxis": "y"
        }
       ],
       "layout": {
        "barmode": "relative",
        "legend": {
         "tracegroupgap": 0
        },
        "template": {
         "data": {
          "bar": [
           {
            "error_x": {
             "color": "#2a3f5f"
            },
            "error_y": {
             "color": "#2a3f5f"
            },
            "marker": {
             "line": {
              "color": "#E5ECF6",
              "width": 0.5
             }
            },
            "type": "bar"
           }
          ],
          "barpolar": [
           {
            "marker": {
             "line": {
              "color": "#E5ECF6",
              "width": 0.5
             }
            },
            "type": "barpolar"
           }
          ],
          "carpet": [
           {
            "aaxis": {
             "endlinecolor": "#2a3f5f",
             "gridcolor": "white",
             "linecolor": "white",
             "minorgridcolor": "white",
             "startlinecolor": "#2a3f5f"
            },
            "baxis": {
             "endlinecolor": "#2a3f5f",
             "gridcolor": "white",
             "linecolor": "white",
             "minorgridcolor": "white",
             "startlinecolor": "#2a3f5f"
            },
            "type": "carpet"
           }
          ],
          "choropleth": [
           {
            "colorbar": {
             "outlinewidth": 0,
             "ticks": ""
            },
            "type": "choropleth"
           }
          ],
          "contour": [
           {
            "colorbar": {
             "outlinewidth": 0,
             "ticks": ""
            },
            "colorscale": [
             [
              0,
              "#0d0887"
             ],
             [
              0.1111111111111111,
              "#46039f"
             ],
             [
              0.2222222222222222,
              "#7201a8"
             ],
             [
              0.3333333333333333,
              "#9c179e"
             ],
             [
              0.4444444444444444,
              "#bd3786"
             ],
             [
              0.5555555555555556,
              "#d8576b"
             ],
             [
              0.6666666666666666,
              "#ed7953"
             ],
             [
              0.7777777777777778,
              "#fb9f3a"
             ],
             [
              0.8888888888888888,
              "#fdca26"
             ],
             [
              1,
              "#f0f921"
             ]
            ],
            "type": "contour"
           }
          ],
          "contourcarpet": [
           {
            "colorbar": {
             "outlinewidth": 0,
             "ticks": ""
            },
            "type": "contourcarpet"
           }
          ],
          "heatmap": [
           {
            "colorbar": {
             "outlinewidth": 0,
             "ticks": ""
            },
            "colorscale": [
             [
              0,
              "#0d0887"
             ],
             [
              0.1111111111111111,
              "#46039f"
             ],
             [
              0.2222222222222222,
              "#7201a8"
             ],
             [
              0.3333333333333333,
              "#9c179e"
             ],
             [
              0.4444444444444444,
              "#bd3786"
             ],
             [
              0.5555555555555556,
              "#d8576b"
             ],
             [
              0.6666666666666666,
              "#ed7953"
             ],
             [
              0.7777777777777778,
              "#fb9f3a"
             ],
             [
              0.8888888888888888,
              "#fdca26"
             ],
             [
              1,
              "#f0f921"
             ]
            ],
            "type": "heatmap"
           }
          ],
          "heatmapgl": [
           {
            "colorbar": {
             "outlinewidth": 0,
             "ticks": ""
            },
            "colorscale": [
             [
              0,
              "#0d0887"
             ],
             [
              0.1111111111111111,
              "#46039f"
             ],
             [
              0.2222222222222222,
              "#7201a8"
             ],
             [
              0.3333333333333333,
              "#9c179e"
             ],
             [
              0.4444444444444444,
              "#bd3786"
             ],
             [
              0.5555555555555556,
              "#d8576b"
             ],
             [
              0.6666666666666666,
              "#ed7953"
             ],
             [
              0.7777777777777778,
              "#fb9f3a"
             ],
             [
              0.8888888888888888,
              "#fdca26"
             ],
             [
              1,
              "#f0f921"
             ]
            ],
            "type": "heatmapgl"
           }
          ],
          "histogram": [
           {
            "marker": {
             "colorbar": {
              "outlinewidth": 0,
              "ticks": ""
             }
            },
            "type": "histogram"
           }
          ],
          "histogram2d": [
           {
            "colorbar": {
             "outlinewidth": 0,
             "ticks": ""
            },
            "colorscale": [
             [
              0,
              "#0d0887"
             ],
             [
              0.1111111111111111,
              "#46039f"
             ],
             [
              0.2222222222222222,
              "#7201a8"
             ],
             [
              0.3333333333333333,
              "#9c179e"
             ],
             [
              0.4444444444444444,
              "#bd3786"
             ],
             [
              0.5555555555555556,
              "#d8576b"
             ],
             [
              0.6666666666666666,
              "#ed7953"
             ],
             [
              0.7777777777777778,
              "#fb9f3a"
             ],
             [
              0.8888888888888888,
              "#fdca26"
             ],
             [
              1,
              "#f0f921"
             ]
            ],
            "type": "histogram2d"
           }
          ],
          "histogram2dcontour": [
           {
            "colorbar": {
             "outlinewidth": 0,
             "ticks": ""
            },
            "colorscale": [
             [
              0,
              "#0d0887"
             ],
             [
              0.1111111111111111,
              "#46039f"
             ],
             [
              0.2222222222222222,
              "#7201a8"
             ],
             [
              0.3333333333333333,
              "#9c179e"
             ],
             [
              0.4444444444444444,
              "#bd3786"
             ],
             [
              0.5555555555555556,
              "#d8576b"
             ],
             [
              0.6666666666666666,
              "#ed7953"
             ],
             [
              0.7777777777777778,
              "#fb9f3a"
             ],
             [
              0.8888888888888888,
              "#fdca26"
             ],
             [
              1,
              "#f0f921"
             ]
            ],
            "type": "histogram2dcontour"
           }
          ],
          "mesh3d": [
           {
            "colorbar": {
             "outlinewidth": 0,
             "ticks": ""
            },
            "type": "mesh3d"
           }
          ],
          "parcoords": [
           {
            "line": {
             "colorbar": {
              "outlinewidth": 0,
              "ticks": ""
             }
            },
            "type": "parcoords"
           }
          ],
          "pie": [
           {
            "automargin": true,
            "type": "pie"
           }
          ],
          "scatter": [
           {
            "marker": {
             "colorbar": {
              "outlinewidth": 0,
              "ticks": ""
             }
            },
            "type": "scatter"
           }
          ],
          "scatter3d": [
           {
            "line": {
             "colorbar": {
              "outlinewidth": 0,
              "ticks": ""
             }
            },
            "marker": {
             "colorbar": {
              "outlinewidth": 0,
              "ticks": ""
             }
            },
            "type": "scatter3d"
           }
          ],
          "scattercarpet": [
           {
            "marker": {
             "colorbar": {
              "outlinewidth": 0,
              "ticks": ""
             }
            },
            "type": "scattercarpet"
           }
          ],
          "scattergeo": [
           {
            "marker": {
             "colorbar": {
              "outlinewidth": 0,
              "ticks": ""
             }
            },
            "type": "scattergeo"
           }
          ],
          "scattergl": [
           {
            "marker": {
             "colorbar": {
              "outlinewidth": 0,
              "ticks": ""
             }
            },
            "type": "scattergl"
           }
          ],
          "scattermapbox": [
           {
            "marker": {
             "colorbar": {
              "outlinewidth": 0,
              "ticks": ""
             }
            },
            "type": "scattermapbox"
           }
          ],
          "scatterpolar": [
           {
            "marker": {
             "colorbar": {
              "outlinewidth": 0,
              "ticks": ""
             }
            },
            "type": "scatterpolar"
           }
          ],
          "scatterpolargl": [
           {
            "marker": {
             "colorbar": {
              "outlinewidth": 0,
              "ticks": ""
             }
            },
            "type": "scatterpolargl"
           }
          ],
          "scatterternary": [
           {
            "marker": {
             "colorbar": {
              "outlinewidth": 0,
              "ticks": ""
             }
            },
            "type": "scatterternary"
           }
          ],
          "surface": [
           {
            "colorbar": {
             "outlinewidth": 0,
             "ticks": ""
            },
            "colorscale": [
             [
              0,
              "#0d0887"
             ],
             [
              0.1111111111111111,
              "#46039f"
             ],
             [
              0.2222222222222222,
              "#7201a8"
             ],
             [
              0.3333333333333333,
              "#9c179e"
             ],
             [
              0.4444444444444444,
              "#bd3786"
             ],
             [
              0.5555555555555556,
              "#d8576b"
             ],
             [
              0.6666666666666666,
              "#ed7953"
             ],
             [
              0.7777777777777778,
              "#fb9f3a"
             ],
             [
              0.8888888888888888,
              "#fdca26"
             ],
             [
              1,
              "#f0f921"
             ]
            ],
            "type": "surface"
           }
          ],
          "table": [
           {
            "cells": {
             "fill": {
              "color": "#EBF0F8"
             },
             "line": {
              "color": "white"
             }
            },
            "header": {
             "fill": {
              "color": "#C8D4E3"
             },
             "line": {
              "color": "white"
             }
            },
            "type": "table"
           }
          ]
         },
         "layout": {
          "annotationdefaults": {
           "arrowcolor": "#2a3f5f",
           "arrowhead": 0,
           "arrowwidth": 1
          },
          "autotypenumbers": "strict",
          "coloraxis": {
           "colorbar": {
            "outlinewidth": 0,
            "ticks": ""
           }
          },
          "colorscale": {
           "diverging": [
            [
             0,
             "#8e0152"
            ],
            [
             0.1,
             "#c51b7d"
            ],
            [
             0.2,
             "#de77ae"
            ],
            [
             0.3,
             "#f1b6da"
            ],
            [
             0.4,
             "#fde0ef"
            ],
            [
             0.5,
             "#f7f7f7"
            ],
            [
             0.6,
             "#e6f5d0"
            ],
            [
             0.7,
             "#b8e186"
            ],
            [
             0.8,
             "#7fbc41"
            ],
            [
             0.9,
             "#4d9221"
            ],
            [
             1,
             "#276419"
            ]
           ],
           "sequential": [
            [
             0,
             "#0d0887"
            ],
            [
             0.1111111111111111,
             "#46039f"
            ],
            [
             0.2222222222222222,
             "#7201a8"
            ],
            [
             0.3333333333333333,
             "#9c179e"
            ],
            [
             0.4444444444444444,
             "#bd3786"
            ],
            [
             0.5555555555555556,
             "#d8576b"
            ],
            [
             0.6666666666666666,
             "#ed7953"
            ],
            [
             0.7777777777777778,
             "#fb9f3a"
            ],
            [
             0.8888888888888888,
             "#fdca26"
            ],
            [
             1,
             "#f0f921"
            ]
           ],
           "sequentialminus": [
            [
             0,
             "#0d0887"
            ],
            [
             0.1111111111111111,
             "#46039f"
            ],
            [
             0.2222222222222222,
             "#7201a8"
            ],
            [
             0.3333333333333333,
             "#9c179e"
            ],
            [
             0.4444444444444444,
             "#bd3786"
            ],
            [
             0.5555555555555556,
             "#d8576b"
            ],
            [
             0.6666666666666666,
             "#ed7953"
            ],
            [
             0.7777777777777778,
             "#fb9f3a"
            ],
            [
             0.8888888888888888,
             "#fdca26"
            ],
            [
             1,
             "#f0f921"
            ]
           ]
          },
          "colorway": [
           "#636efa",
           "#EF553B",
           "#00cc96",
           "#ab63fa",
           "#FFA15A",
           "#19d3f3",
           "#FF6692",
           "#B6E880",
           "#FF97FF",
           "#FECB52"
          ],
          "font": {
           "color": "#2a3f5f"
          },
          "geo": {
           "bgcolor": "white",
           "lakecolor": "white",
           "landcolor": "#E5ECF6",
           "showlakes": true,
           "showland": true,
           "subunitcolor": "white"
          },
          "hoverlabel": {
           "align": "left"
          },
          "hovermode": "closest",
          "mapbox": {
           "style": "light"
          },
          "paper_bgcolor": "white",
          "plot_bgcolor": "#E5ECF6",
          "polar": {
           "angularaxis": {
            "gridcolor": "white",
            "linecolor": "white",
            "ticks": ""
           },
           "bgcolor": "#E5ECF6",
           "radialaxis": {
            "gridcolor": "white",
            "linecolor": "white",
            "ticks": ""
           }
          },
          "scene": {
           "xaxis": {
            "backgroundcolor": "#E5ECF6",
            "gridcolor": "white",
            "gridwidth": 2,
            "linecolor": "white",
            "showbackground": true,
            "ticks": "",
            "zerolinecolor": "white"
           },
           "yaxis": {
            "backgroundcolor": "#E5ECF6",
            "gridcolor": "white",
            "gridwidth": 2,
            "linecolor": "white",
            "showbackground": true,
            "ticks": "",
            "zerolinecolor": "white"
           },
           "zaxis": {
            "backgroundcolor": "#E5ECF6",
            "gridcolor": "white",
            "gridwidth": 2,
            "linecolor": "white",
            "showbackground": true,
            "ticks": "",
            "zerolinecolor": "white"
           }
          },
          "shapedefaults": {
           "line": {
            "color": "#2a3f5f"
           }
          },
          "ternary": {
           "aaxis": {
            "gridcolor": "white",
            "linecolor": "white",
            "ticks": ""
           },
           "baxis": {
            "gridcolor": "white",
            "linecolor": "white",
            "ticks": ""
           },
           "bgcolor": "#E5ECF6",
           "caxis": {
            "gridcolor": "white",
            "linecolor": "white",
            "ticks": ""
           }
          },
          "title": {
           "x": 0.05
          },
          "xaxis": {
           "automargin": true,
           "gridcolor": "white",
           "linecolor": "white",
           "ticks": "",
           "title": {
            "standoff": 15
           },
           "zerolinecolor": "white",
           "zerolinewidth": 2
          },
          "yaxis": {
           "automargin": true,
           "gridcolor": "white",
           "linecolor": "white",
           "ticks": "",
           "title": {
            "standoff": 15
           },
           "zerolinecolor": "white",
           "zerolinewidth": 2
          }
         }
        },
        "title": {
         "text": "Document Distribution by Topics"
        },
        "xaxis": {
         "anchor": "y",
         "domain": [
          0,
          1
         ],
         "title": {
          "text": "Topic"
         }
        },
        "yaxis": {
         "anchor": "x",
         "domain": [
          0,
          1
         ],
         "title": {
          "text": "Documents"
         }
        }
       }
      },
      "text/html": [
       "<div>                            <div id=\"17a05e2c-3b8b-4320-b94f-d884d41e3806\" class=\"plotly-graph-div\" style=\"height:525px; width:100%;\"></div>            <script type=\"text/javascript\">                require([\"plotly\"], function(Plotly) {                    window.PLOTLYENV=window.PLOTLYENV || {};                                    if (document.getElementById(\"17a05e2c-3b8b-4320-b94f-d884d41e3806\")) {                    Plotly.newPlot(                        \"17a05e2c-3b8b-4320-b94f-d884d41e3806\",                        [{\"alignmentgroup\": \"True\", \"customdata\": [[\"depression, struggle, lack, amazing, evil, hysterically, apathetic, blur, injure, prison\"], [\"life, evil, fantasy, hysterically, apathetic, blur, injure, prison, degrade, molested\"], [\"year, ago, degrade, hysterically, apathetic, blur, injure, prison, hug, evil\"], [\"love, marriage, attract, erection, degrade, hysterically, apathetic, blur, injure, molested\"], [\"problem, reason, evil, fantasy, apathetic, blur, injure, prison, degrade, crying_freake\"], [\"lose, degrade, hug, hysterically, apathetic, blur, injure, prison, molested, evil\"], [\"counseling, never, history, address, almost, anxiety, marry, begin, depression, year\"], [\"month, experience, evil, hysterically, apathetic, blur, injure, prison, degrade, crying_freake\"], [\"live, high, degrade, crying_freake, hysterically, apathetic, blur, injure, prison, molested\"], [\"issue, wife, early, cause, major, degrade, apathetic, blur, injure, prison\"], [\"feel, pretty, low, focus, injure, apathetic, prison, evil, implant, blur\"]], \"hovertemplate\": \"Topic=%{x}<br>Documents=%{y}<br>Keyword=%{customdata[0]}<extra></extra>\", \"legendgroup\": \"\", \"marker\": {\"color\": \"#636efa\"}, \"name\": \"\", \"offsetgroup\": \"\", \"orientation\": \"v\", \"showlegend\": false, \"textposition\": \"auto\", \"type\": \"bar\", \"x\": [\"Topic 28\", \"Topic 44\", \"Topic 49\", \"Topic 61\", \"Topic 112\", \"Topic 113\", \"Topic 119\", \"Topic 190\", \"Topic 194\", \"Topic 271\", \"Topic 284\"], \"xaxis\": \"x\", \"y\": [8, 5, 172, 95, 5, 4, 1304, 4, 17, 69, 446], \"yaxis\": \"y\"}],                        {\"barmode\": \"relative\", \"legend\": {\"tracegroupgap\": 0}, \"template\": {\"data\": {\"bar\": [{\"error_x\": {\"color\": \"#2a3f5f\"}, \"error_y\": {\"color\": \"#2a3f5f\"}, \"marker\": {\"line\": {\"color\": \"#E5ECF6\", \"width\": 0.5}}, \"type\": \"bar\"}], \"barpolar\": [{\"marker\": {\"line\": {\"color\": \"#E5ECF6\", \"width\": 0.5}}, \"type\": \"barpolar\"}], \"carpet\": [{\"aaxis\": {\"endlinecolor\": \"#2a3f5f\", \"gridcolor\": \"white\", \"linecolor\": \"white\", \"minorgridcolor\": \"white\", \"startlinecolor\": \"#2a3f5f\"}, \"baxis\": {\"endlinecolor\": \"#2a3f5f\", \"gridcolor\": \"white\", \"linecolor\": \"white\", \"minorgridcolor\": \"white\", \"startlinecolor\": \"#2a3f5f\"}, \"type\": \"carpet\"}], \"choropleth\": [{\"colorbar\": {\"outlinewidth\": 0, \"ticks\": \"\"}, \"type\": \"choropleth\"}], \"contour\": [{\"colorbar\": {\"outlinewidth\": 0, \"ticks\": \"\"}, \"colorscale\": [[0.0, \"#0d0887\"], [0.1111111111111111, \"#46039f\"], [0.2222222222222222, \"#7201a8\"], [0.3333333333333333, \"#9c179e\"], [0.4444444444444444, \"#bd3786\"], [0.5555555555555556, \"#d8576b\"], [0.6666666666666666, \"#ed7953\"], [0.7777777777777778, \"#fb9f3a\"], [0.8888888888888888, \"#fdca26\"], [1.0, \"#f0f921\"]], \"type\": \"contour\"}], \"contourcarpet\": [{\"colorbar\": {\"outlinewidth\": 0, \"ticks\": \"\"}, \"type\": \"contourcarpet\"}], \"heatmap\": [{\"colorbar\": {\"outlinewidth\": 0, \"ticks\": \"\"}, \"colorscale\": [[0.0, \"#0d0887\"], [0.1111111111111111, \"#46039f\"], [0.2222222222222222, \"#7201a8\"], [0.3333333333333333, \"#9c179e\"], [0.4444444444444444, \"#bd3786\"], [0.5555555555555556, \"#d8576b\"], [0.6666666666666666, \"#ed7953\"], [0.7777777777777778, \"#fb9f3a\"], [0.8888888888888888, \"#fdca26\"], [1.0, \"#f0f921\"]], \"type\": \"heatmap\"}], \"heatmapgl\": [{\"colorbar\": {\"outlinewidth\": 0, \"ticks\": \"\"}, \"colorscale\": [[0.0, \"#0d0887\"], [0.1111111111111111, \"#46039f\"], [0.2222222222222222, \"#7201a8\"], [0.3333333333333333, \"#9c179e\"], [0.4444444444444444, \"#bd3786\"], [0.5555555555555556, \"#d8576b\"], [0.6666666666666666, \"#ed7953\"], [0.7777777777777778, \"#fb9f3a\"], [0.8888888888888888, \"#fdca26\"], [1.0, \"#f0f921\"]], \"type\": \"heatmapgl\"}], \"histogram\": [{\"marker\": {\"colorbar\": {\"outlinewidth\": 0, \"ticks\": \"\"}}, \"type\": \"histogram\"}], \"histogram2d\": [{\"colorbar\": {\"outlinewidth\": 0, \"ticks\": \"\"}, \"colorscale\": [[0.0, \"#0d0887\"], [0.1111111111111111, \"#46039f\"], [0.2222222222222222, \"#7201a8\"], [0.3333333333333333, \"#9c179e\"], [0.4444444444444444, \"#bd3786\"], [0.5555555555555556, \"#d8576b\"], [0.6666666666666666, \"#ed7953\"], [0.7777777777777778, \"#fb9f3a\"], [0.8888888888888888, \"#fdca26\"], [1.0, \"#f0f921\"]], \"type\": \"histogram2d\"}], \"histogram2dcontour\": [{\"colorbar\": {\"outlinewidth\": 0, \"ticks\": \"\"}, \"colorscale\": [[0.0, \"#0d0887\"], [0.1111111111111111, \"#46039f\"], [0.2222222222222222, \"#7201a8\"], [0.3333333333333333, \"#9c179e\"], [0.4444444444444444, \"#bd3786\"], [0.5555555555555556, \"#d8576b\"], [0.6666666666666666, \"#ed7953\"], [0.7777777777777778, \"#fb9f3a\"], [0.8888888888888888, \"#fdca26\"], [1.0, \"#f0f921\"]], \"type\": \"histogram2dcontour\"}], \"mesh3d\": [{\"colorbar\": {\"outlinewidth\": 0, \"ticks\": \"\"}, \"type\": \"mesh3d\"}], \"parcoords\": [{\"line\": {\"colorbar\": {\"outlinewidth\": 0, \"ticks\": \"\"}}, \"type\": \"parcoords\"}], \"pie\": [{\"automargin\": true, \"type\": \"pie\"}], \"scatter\": [{\"marker\": {\"colorbar\": {\"outlinewidth\": 0, \"ticks\": \"\"}}, \"type\": \"scatter\"}], \"scatter3d\": [{\"line\": {\"colorbar\": {\"outlinewidth\": 0, \"ticks\": \"\"}}, \"marker\": {\"colorbar\": {\"outlinewidth\": 0, \"ticks\": \"\"}}, \"type\": \"scatter3d\"}], \"scattercarpet\": [{\"marker\": {\"colorbar\": {\"outlinewidth\": 0, \"ticks\": \"\"}}, \"type\": \"scattercarpet\"}], \"scattergeo\": [{\"marker\": {\"colorbar\": {\"outlinewidth\": 0, \"ticks\": \"\"}}, \"type\": \"scattergeo\"}], \"scattergl\": [{\"marker\": {\"colorbar\": {\"outlinewidth\": 0, \"ticks\": \"\"}}, \"type\": \"scattergl\"}], \"scattermapbox\": [{\"marker\": {\"colorbar\": {\"outlinewidth\": 0, \"ticks\": \"\"}}, \"type\": \"scattermapbox\"}], \"scatterpolar\": [{\"marker\": {\"colorbar\": {\"outlinewidth\": 0, \"ticks\": \"\"}}, \"type\": \"scatterpolar\"}], \"scatterpolargl\": [{\"marker\": {\"colorbar\": {\"outlinewidth\": 0, \"ticks\": \"\"}}, \"type\": \"scatterpolargl\"}], \"scatterternary\": [{\"marker\": {\"colorbar\": {\"outlinewidth\": 0, \"ticks\": \"\"}}, \"type\": \"scatterternary\"}], \"surface\": [{\"colorbar\": {\"outlinewidth\": 0, \"ticks\": \"\"}, \"colorscale\": [[0.0, \"#0d0887\"], [0.1111111111111111, \"#46039f\"], [0.2222222222222222, \"#7201a8\"], [0.3333333333333333, \"#9c179e\"], [0.4444444444444444, \"#bd3786\"], [0.5555555555555556, \"#d8576b\"], [0.6666666666666666, \"#ed7953\"], [0.7777777777777778, \"#fb9f3a\"], [0.8888888888888888, \"#fdca26\"], [1.0, \"#f0f921\"]], \"type\": \"surface\"}], \"table\": [{\"cells\": {\"fill\": {\"color\": \"#EBF0F8\"}, \"line\": {\"color\": \"white\"}}, \"header\": {\"fill\": {\"color\": \"#C8D4E3\"}, \"line\": {\"color\": \"white\"}}, \"type\": \"table\"}]}, \"layout\": {\"annotationdefaults\": {\"arrowcolor\": \"#2a3f5f\", \"arrowhead\": 0, \"arrowwidth\": 1}, \"autotypenumbers\": \"strict\", \"coloraxis\": {\"colorbar\": {\"outlinewidth\": 0, \"ticks\": \"\"}}, \"colorscale\": {\"diverging\": [[0, \"#8e0152\"], [0.1, \"#c51b7d\"], [0.2, \"#de77ae\"], [0.3, \"#f1b6da\"], [0.4, \"#fde0ef\"], [0.5, \"#f7f7f7\"], [0.6, \"#e6f5d0\"], [0.7, \"#b8e186\"], [0.8, \"#7fbc41\"], [0.9, \"#4d9221\"], [1, \"#276419\"]], \"sequential\": [[0.0, \"#0d0887\"], [0.1111111111111111, \"#46039f\"], [0.2222222222222222, \"#7201a8\"], [0.3333333333333333, \"#9c179e\"], [0.4444444444444444, \"#bd3786\"], [0.5555555555555556, \"#d8576b\"], [0.6666666666666666, \"#ed7953\"], [0.7777777777777778, \"#fb9f3a\"], [0.8888888888888888, \"#fdca26\"], [1.0, \"#f0f921\"]], \"sequentialminus\": [[0.0, \"#0d0887\"], [0.1111111111111111, \"#46039f\"], [0.2222222222222222, \"#7201a8\"], [0.3333333333333333, \"#9c179e\"], [0.4444444444444444, \"#bd3786\"], [0.5555555555555556, \"#d8576b\"], [0.6666666666666666, \"#ed7953\"], [0.7777777777777778, \"#fb9f3a\"], [0.8888888888888888, \"#fdca26\"], [1.0, \"#f0f921\"]]}, \"colorway\": [\"#636efa\", \"#EF553B\", \"#00cc96\", \"#ab63fa\", \"#FFA15A\", \"#19d3f3\", \"#FF6692\", \"#B6E880\", \"#FF97FF\", \"#FECB52\"], \"font\": {\"color\": \"#2a3f5f\"}, \"geo\": {\"bgcolor\": \"white\", \"lakecolor\": \"white\", \"landcolor\": \"#E5ECF6\", \"showlakes\": true, \"showland\": true, \"subunitcolor\": \"white\"}, \"hoverlabel\": {\"align\": \"left\"}, \"hovermode\": \"closest\", \"mapbox\": {\"style\": \"light\"}, \"paper_bgcolor\": \"white\", \"plot_bgcolor\": \"#E5ECF6\", \"polar\": {\"angularaxis\": {\"gridcolor\": \"white\", \"linecolor\": \"white\", \"ticks\": \"\"}, \"bgcolor\": \"#E5ECF6\", \"radialaxis\": {\"gridcolor\": \"white\", \"linecolor\": \"white\", \"ticks\": \"\"}}, \"scene\": {\"xaxis\": {\"backgroundcolor\": \"#E5ECF6\", \"gridcolor\": \"white\", \"gridwidth\": 2, \"linecolor\": \"white\", \"showbackground\": true, \"ticks\": \"\", \"zerolinecolor\": \"white\"}, \"yaxis\": {\"backgroundcolor\": \"#E5ECF6\", \"gridcolor\": \"white\", \"gridwidth\": 2, \"linecolor\": \"white\", \"showbackground\": true, \"ticks\": \"\", \"zerolinecolor\": \"white\"}, \"zaxis\": {\"backgroundcolor\": \"#E5ECF6\", \"gridcolor\": \"white\", \"gridwidth\": 2, \"linecolor\": \"white\", \"showbackground\": true, \"ticks\": \"\", \"zerolinecolor\": \"white\"}}, \"shapedefaults\": {\"line\": {\"color\": \"#2a3f5f\"}}, \"ternary\": {\"aaxis\": {\"gridcolor\": \"white\", \"linecolor\": \"white\", \"ticks\": \"\"}, \"baxis\": {\"gridcolor\": \"white\", \"linecolor\": \"white\", \"ticks\": \"\"}, \"bgcolor\": \"#E5ECF6\", \"caxis\": {\"gridcolor\": \"white\", \"linecolor\": \"white\", \"ticks\": \"\"}}, \"title\": {\"x\": 0.05}, \"xaxis\": {\"automargin\": true, \"gridcolor\": \"white\", \"linecolor\": \"white\", \"ticks\": \"\", \"title\": {\"standoff\": 15}, \"zerolinecolor\": \"white\", \"zerolinewidth\": 2}, \"yaxis\": {\"automargin\": true, \"gridcolor\": \"white\", \"linecolor\": \"white\", \"ticks\": \"\", \"title\": {\"standoff\": 15}, \"zerolinecolor\": \"white\", \"zerolinewidth\": 2}}}, \"title\": {\"text\": \"Document Distribution by Topics\"}, \"xaxis\": {\"anchor\": \"y\", \"domain\": [0.0, 1.0], \"title\": {\"text\": \"Topic\"}}, \"yaxis\": {\"anchor\": \"x\", \"domain\": [0.0, 1.0], \"title\": {\"text\": \"Documents\"}}},                        {\"responsive\": true}                    ).then(function(){\n",
       "                            \n",
       "var gd = document.getElementById('17a05e2c-3b8b-4320-b94f-d884d41e3806');\n",
       "var x = new MutationObserver(function (mutations, observer) {{\n",
       "        var display = window.getComputedStyle(gd).display;\n",
       "        if (!display || display === 'none') {{\n",
       "            console.log([gd, 'removed!']);\n",
       "            Plotly.purge(gd);\n",
       "            observer.disconnect();\n",
       "        }}\n",
       "}});\n",
       "\n",
       "// Listen for the removal of the full notebook cells\n",
       "var notebookContainer = gd.closest('#notebook-container');\n",
       "if (notebookContainer) {{\n",
       "    x.observe(notebookContainer, {childList: true});\n",
       "}}\n",
       "\n",
       "// Listen for the clearing of the current output cell\n",
       "var outputEl = gd.closest('.output');\n",
       "if (outputEl) {{\n",
       "    x.observe(outputEl, {childList: true});\n",
       "}}\n",
       "\n",
       "                        })                };                });            </script>        </div>"
      ]
     },
     "metadata": {},
     "output_type": "display_data"
    }
   ],
   "source": [
    "\n",
    "plot_model(lda, plot = 'topic_distribution')"
   ]
  },
  {
   "cell_type": "code",
   "execution_count": 11,
   "id": "searching-proportion",
   "metadata": {},
   "outputs": [
    {
     "data": {
      "text/html": [
       "        <script type=\"text/javascript\">\n",
       "        window.PlotlyConfig = {MathJaxConfig: 'local'};\n",
       "        if (window.MathJax) {MathJax.Hub.Config({SVG: {font: \"STIX-Web\"}});}\n",
       "        if (typeof require !== 'undefined') {\n",
       "        require.undef(\"plotly\");\n",
       "        requirejs.config({\n",
       "            paths: {\n",
       "                'plotly': ['https://cdn.plot.ly/plotly-latest.min']\n",
       "            }\n",
       "        });\n",
       "        require(['plotly'], function(Plotly) {\n",
       "            window._Plotly = Plotly;\n",
       "        });\n",
       "        }\n",
       "        </script>\n",
       "        "
      ]
     },
     "metadata": {},
     "output_type": "display_data"
    },
    {
     "data": {
      "application/vnd.plotly.v1+json": {
       "config": {
        "linkText": "Export to plot.ly",
        "plotlyServerURL": "https://plot.ly",
        "showLink": true
       },
       "data": [
        {
         "marker": {
          "color": "rgba(255, 153, 51, 0.6)",
          "line": {
           "color": "rgba(255, 153, 51, 1.0)",
           "width": 1
          }
         },
         "name": "count",
         "orientation": "v",
         "text": "",
         "type": "bar",
         "x": [
          "feel",
          "year",
          "time",
          "never",
          "issue",
          "relationship",
          "always",
          "really",
          "love",
          "people",
          "anxiety",
          "still",
          "friend",
          "help",
          "talk",
          "boyfriend",
          "depression",
          "life",
          "counseling",
          "work",
          "history",
          "address",
          "day",
          "family",
          "sex",
          "normal",
          "child",
          "almost",
          "stop",
          "month",
          "back",
          "marry",
          "together",
          "live",
          "move",
          "husband",
          "wrong",
          "problem",
          "bad",
          "good",
          "lose",
          "counsel",
          "parent",
          "leave",
          "girl",
          "ago",
          "feeling",
          "begin",
          "angry",
          "night",
          "cry",
          "man",
          "school",
          "cheat",
          "mom",
          "past",
          "change",
          "wife",
          "break",
          "last",
          "survivor_lifetime_insomniac_long",
          "recently",
          "low_esteem_happily",
          "deal",
          "else",
          "call",
          "stay",
          "week",
          "person",
          "therapy",
          "mother",
          "date",
          "home",
          "kid",
          "woman",
          "job",
          "fight",
          "dad",
          "away",
          "care",
          "ever",
          "believe",
          "lie",
          "hurt",
          "sleep",
          "trust",
          "listen",
          "guy",
          "decide",
          "stress",
          "anymore",
          "happy",
          "meet",
          "lately",
          "alone",
          "first",
          "enough",
          "hard",
          "afraid",
          "worthless"
         ],
         "y": [
          954,
          523,
          464,
          398,
          317,
          315,
          312,
          291,
          277,
          274,
          266,
          254,
          250,
          247,
          238,
          228,
          225,
          220,
          204,
          197,
          192,
          190,
          180,
          179,
          177,
          176,
          171,
          169,
          165,
          156,
          154,
          147,
          143,
          134,
          131,
          131,
          128,
          127,
          126,
          125,
          122,
          121,
          117,
          116,
          116,
          114,
          111,
          111,
          109,
          108,
          107,
          105,
          105,
          103,
          101,
          100,
          98,
          97,
          96,
          96,
          94,
          94,
          94,
          94,
          93,
          90,
          89,
          88,
          88,
          87,
          84,
          84,
          84,
          83,
          82,
          77,
          77,
          77,
          77,
          76,
          76,
          75,
          73,
          72,
          72,
          71,
          69,
          69,
          68,
          67,
          65,
          65,
          63,
          63,
          62,
          62,
          58,
          58,
          57,
          57
         ]
        }
       ],
       "layout": {
        "legend": {
         "bgcolor": "#F5F6F9",
         "font": {
          "color": "#4D5663"
         }
        },
        "paper_bgcolor": "#F5F6F9",
        "plot_bgcolor": "#F5F6F9",
        "template": {
         "data": {
          "bar": [
           {
            "error_x": {
             "color": "#2a3f5f"
            },
            "error_y": {
             "color": "#2a3f5f"
            },
            "marker": {
             "line": {
              "color": "#E5ECF6",
              "width": 0.5
             }
            },
            "type": "bar"
           }
          ],
          "barpolar": [
           {
            "marker": {
             "line": {
              "color": "#E5ECF6",
              "width": 0.5
             }
            },
            "type": "barpolar"
           }
          ],
          "carpet": [
           {
            "aaxis": {
             "endlinecolor": "#2a3f5f",
             "gridcolor": "white",
             "linecolor": "white",
             "minorgridcolor": "white",
             "startlinecolor": "#2a3f5f"
            },
            "baxis": {
             "endlinecolor": "#2a3f5f",
             "gridcolor": "white",
             "linecolor": "white",
             "minorgridcolor": "white",
             "startlinecolor": "#2a3f5f"
            },
            "type": "carpet"
           }
          ],
          "choropleth": [
           {
            "colorbar": {
             "outlinewidth": 0,
             "ticks": ""
            },
            "type": "choropleth"
           }
          ],
          "contour": [
           {
            "colorbar": {
             "outlinewidth": 0,
             "ticks": ""
            },
            "colorscale": [
             [
              0,
              "#0d0887"
             ],
             [
              0.1111111111111111,
              "#46039f"
             ],
             [
              0.2222222222222222,
              "#7201a8"
             ],
             [
              0.3333333333333333,
              "#9c179e"
             ],
             [
              0.4444444444444444,
              "#bd3786"
             ],
             [
              0.5555555555555556,
              "#d8576b"
             ],
             [
              0.6666666666666666,
              "#ed7953"
             ],
             [
              0.7777777777777778,
              "#fb9f3a"
             ],
             [
              0.8888888888888888,
              "#fdca26"
             ],
             [
              1,
              "#f0f921"
             ]
            ],
            "type": "contour"
           }
          ],
          "contourcarpet": [
           {
            "colorbar": {
             "outlinewidth": 0,
             "ticks": ""
            },
            "type": "contourcarpet"
           }
          ],
          "heatmap": [
           {
            "colorbar": {
             "outlinewidth": 0,
             "ticks": ""
            },
            "colorscale": [
             [
              0,
              "#0d0887"
             ],
             [
              0.1111111111111111,
              "#46039f"
             ],
             [
              0.2222222222222222,
              "#7201a8"
             ],
             [
              0.3333333333333333,
              "#9c179e"
             ],
             [
              0.4444444444444444,
              "#bd3786"
             ],
             [
              0.5555555555555556,
              "#d8576b"
             ],
             [
              0.6666666666666666,
              "#ed7953"
             ],
             [
              0.7777777777777778,
              "#fb9f3a"
             ],
             [
              0.8888888888888888,
              "#fdca26"
             ],
             [
              1,
              "#f0f921"
             ]
            ],
            "type": "heatmap"
           }
          ],
          "heatmapgl": [
           {
            "colorbar": {
             "outlinewidth": 0,
             "ticks": ""
            },
            "colorscale": [
             [
              0,
              "#0d0887"
             ],
             [
              0.1111111111111111,
              "#46039f"
             ],
             [
              0.2222222222222222,
              "#7201a8"
             ],
             [
              0.3333333333333333,
              "#9c179e"
             ],
             [
              0.4444444444444444,
              "#bd3786"
             ],
             [
              0.5555555555555556,
              "#d8576b"
             ],
             [
              0.6666666666666666,
              "#ed7953"
             ],
             [
              0.7777777777777778,
              "#fb9f3a"
             ],
             [
              0.8888888888888888,
              "#fdca26"
             ],
             [
              1,
              "#f0f921"
             ]
            ],
            "type": "heatmapgl"
           }
          ],
          "histogram": [
           {
            "marker": {
             "colorbar": {
              "outlinewidth": 0,
              "ticks": ""
             }
            },
            "type": "histogram"
           }
          ],
          "histogram2d": [
           {
            "colorbar": {
             "outlinewidth": 0,
             "ticks": ""
            },
            "colorscale": [
             [
              0,
              "#0d0887"
             ],
             [
              0.1111111111111111,
              "#46039f"
             ],
             [
              0.2222222222222222,
              "#7201a8"
             ],
             [
              0.3333333333333333,
              "#9c179e"
             ],
             [
              0.4444444444444444,
              "#bd3786"
             ],
             [
              0.5555555555555556,
              "#d8576b"
             ],
             [
              0.6666666666666666,
              "#ed7953"
             ],
             [
              0.7777777777777778,
              "#fb9f3a"
             ],
             [
              0.8888888888888888,
              "#fdca26"
             ],
             [
              1,
              "#f0f921"
             ]
            ],
            "type": "histogram2d"
           }
          ],
          "histogram2dcontour": [
           {
            "colorbar": {
             "outlinewidth": 0,
             "ticks": ""
            },
            "colorscale": [
             [
              0,
              "#0d0887"
             ],
             [
              0.1111111111111111,
              "#46039f"
             ],
             [
              0.2222222222222222,
              "#7201a8"
             ],
             [
              0.3333333333333333,
              "#9c179e"
             ],
             [
              0.4444444444444444,
              "#bd3786"
             ],
             [
              0.5555555555555556,
              "#d8576b"
             ],
             [
              0.6666666666666666,
              "#ed7953"
             ],
             [
              0.7777777777777778,
              "#fb9f3a"
             ],
             [
              0.8888888888888888,
              "#fdca26"
             ],
             [
              1,
              "#f0f921"
             ]
            ],
            "type": "histogram2dcontour"
           }
          ],
          "mesh3d": [
           {
            "colorbar": {
             "outlinewidth": 0,
             "ticks": ""
            },
            "type": "mesh3d"
           }
          ],
          "parcoords": [
           {
            "line": {
             "colorbar": {
              "outlinewidth": 0,
              "ticks": ""
             }
            },
            "type": "parcoords"
           }
          ],
          "pie": [
           {
            "automargin": true,
            "type": "pie"
           }
          ],
          "scatter": [
           {
            "marker": {
             "colorbar": {
              "outlinewidth": 0,
              "ticks": ""
             }
            },
            "type": "scatter"
           }
          ],
          "scatter3d": [
           {
            "line": {
             "colorbar": {
              "outlinewidth": 0,
              "ticks": ""
             }
            },
            "marker": {
             "colorbar": {
              "outlinewidth": 0,
              "ticks": ""
             }
            },
            "type": "scatter3d"
           }
          ],
          "scattercarpet": [
           {
            "marker": {
             "colorbar": {
              "outlinewidth": 0,
              "ticks": ""
             }
            },
            "type": "scattercarpet"
           }
          ],
          "scattergeo": [
           {
            "marker": {
             "colorbar": {
              "outlinewidth": 0,
              "ticks": ""
             }
            },
            "type": "scattergeo"
           }
          ],
          "scattergl": [
           {
            "marker": {
             "colorbar": {
              "outlinewidth": 0,
              "ticks": ""
             }
            },
            "type": "scattergl"
           }
          ],
          "scattermapbox": [
           {
            "marker": {
             "colorbar": {
              "outlinewidth": 0,
              "ticks": ""
             }
            },
            "type": "scattermapbox"
           }
          ],
          "scatterpolar": [
           {
            "marker": {
             "colorbar": {
              "outlinewidth": 0,
              "ticks": ""
             }
            },
            "type": "scatterpolar"
           }
          ],
          "scatterpolargl": [
           {
            "marker": {
             "colorbar": {
              "outlinewidth": 0,
              "ticks": ""
             }
            },
            "type": "scatterpolargl"
           }
          ],
          "scatterternary": [
           {
            "marker": {
             "colorbar": {
              "outlinewidth": 0,
              "ticks": ""
             }
            },
            "type": "scatterternary"
           }
          ],
          "surface": [
           {
            "colorbar": {
             "outlinewidth": 0,
             "ticks": ""
            },
            "colorscale": [
             [
              0,
              "#0d0887"
             ],
             [
              0.1111111111111111,
              "#46039f"
             ],
             [
              0.2222222222222222,
              "#7201a8"
             ],
             [
              0.3333333333333333,
              "#9c179e"
             ],
             [
              0.4444444444444444,
              "#bd3786"
             ],
             [
              0.5555555555555556,
              "#d8576b"
             ],
             [
              0.6666666666666666,
              "#ed7953"
             ],
             [
              0.7777777777777778,
              "#fb9f3a"
             ],
             [
              0.8888888888888888,
              "#fdca26"
             ],
             [
              1,
              "#f0f921"
             ]
            ],
            "type": "surface"
           }
          ],
          "table": [
           {
            "cells": {
             "fill": {
              "color": "#EBF0F8"
             },
             "line": {
              "color": "white"
             }
            },
            "header": {
             "fill": {
              "color": "#C8D4E3"
             },
             "line": {
              "color": "white"
             }
            },
            "type": "table"
           }
          ]
         },
         "layout": {
          "annotationdefaults": {
           "arrowcolor": "#2a3f5f",
           "arrowhead": 0,
           "arrowwidth": 1
          },
          "autotypenumbers": "strict",
          "coloraxis": {
           "colorbar": {
            "outlinewidth": 0,
            "ticks": ""
           }
          },
          "colorscale": {
           "diverging": [
            [
             0,
             "#8e0152"
            ],
            [
             0.1,
             "#c51b7d"
            ],
            [
             0.2,
             "#de77ae"
            ],
            [
             0.3,
             "#f1b6da"
            ],
            [
             0.4,
             "#fde0ef"
            ],
            [
             0.5,
             "#f7f7f7"
            ],
            [
             0.6,
             "#e6f5d0"
            ],
            [
             0.7,
             "#b8e186"
            ],
            [
             0.8,
             "#7fbc41"
            ],
            [
             0.9,
             "#4d9221"
            ],
            [
             1,
             "#276419"
            ]
           ],
           "sequential": [
            [
             0,
             "#0d0887"
            ],
            [
             0.1111111111111111,
             "#46039f"
            ],
            [
             0.2222222222222222,
             "#7201a8"
            ],
            [
             0.3333333333333333,
             "#9c179e"
            ],
            [
             0.4444444444444444,
             "#bd3786"
            ],
            [
             0.5555555555555556,
             "#d8576b"
            ],
            [
             0.6666666666666666,
             "#ed7953"
            ],
            [
             0.7777777777777778,
             "#fb9f3a"
            ],
            [
             0.8888888888888888,
             "#fdca26"
            ],
            [
             1,
             "#f0f921"
            ]
           ],
           "sequentialminus": [
            [
             0,
             "#0d0887"
            ],
            [
             0.1111111111111111,
             "#46039f"
            ],
            [
             0.2222222222222222,
             "#7201a8"
            ],
            [
             0.3333333333333333,
             "#9c179e"
            ],
            [
             0.4444444444444444,
             "#bd3786"
            ],
            [
             0.5555555555555556,
             "#d8576b"
            ],
            [
             0.6666666666666666,
             "#ed7953"
            ],
            [
             0.7777777777777778,
             "#fb9f3a"
            ],
            [
             0.8888888888888888,
             "#fdca26"
            ],
            [
             1,
             "#f0f921"
            ]
           ]
          },
          "colorway": [
           "#636efa",
           "#EF553B",
           "#00cc96",
           "#ab63fa",
           "#FFA15A",
           "#19d3f3",
           "#FF6692",
           "#B6E880",
           "#FF97FF",
           "#FECB52"
          ],
          "font": {
           "color": "#2a3f5f"
          },
          "geo": {
           "bgcolor": "white",
           "lakecolor": "white",
           "landcolor": "#E5ECF6",
           "showlakes": true,
           "showland": true,
           "subunitcolor": "white"
          },
          "hoverlabel": {
           "align": "left"
          },
          "hovermode": "closest",
          "mapbox": {
           "style": "light"
          },
          "paper_bgcolor": "white",
          "plot_bgcolor": "#E5ECF6",
          "polar": {
           "angularaxis": {
            "gridcolor": "white",
            "linecolor": "white",
            "ticks": ""
           },
           "bgcolor": "#E5ECF6",
           "radialaxis": {
            "gridcolor": "white",
            "linecolor": "white",
            "ticks": ""
           }
          },
          "scene": {
           "xaxis": {
            "backgroundcolor": "#E5ECF6",
            "gridcolor": "white",
            "gridwidth": 2,
            "linecolor": "white",
            "showbackground": true,
            "ticks": "",
            "zerolinecolor": "white"
           },
           "yaxis": {
            "backgroundcolor": "#E5ECF6",
            "gridcolor": "white",
            "gridwidth": 2,
            "linecolor": "white",
            "showbackground": true,
            "ticks": "",
            "zerolinecolor": "white"
           },
           "zaxis": {
            "backgroundcolor": "#E5ECF6",
            "gridcolor": "white",
            "gridwidth": 2,
            "linecolor": "white",
            "showbackground": true,
            "ticks": "",
            "zerolinecolor": "white"
           }
          },
          "shapedefaults": {
           "line": {
            "color": "#2a3f5f"
           }
          },
          "ternary": {
           "aaxis": {
            "gridcolor": "white",
            "linecolor": "white",
            "ticks": ""
           },
           "baxis": {
            "gridcolor": "white",
            "linecolor": "white",
            "ticks": ""
           },
           "bgcolor": "#E5ECF6",
           "caxis": {
            "gridcolor": "white",
            "linecolor": "white",
            "ticks": ""
           }
          },
          "title": {
           "x": 0.05
          },
          "xaxis": {
           "automargin": true,
           "gridcolor": "white",
           "linecolor": "white",
           "ticks": "",
           "title": {
            "standoff": 15
           },
           "zerolinecolor": "white",
           "zerolinewidth": 2
          },
          "yaxis": {
           "automargin": true,
           "gridcolor": "white",
           "linecolor": "white",
           "ticks": "",
           "title": {
            "standoff": 15
           },
           "zerolinecolor": "white",
           "zerolinewidth": 2
          }
         }
        },
        "title": {
         "font": {
          "color": "#4D5663"
         },
         "text": "Top 100 words after removing stop words"
        },
        "xaxis": {
         "gridcolor": "#E1E5ED",
         "linecolor": "black",
         "showgrid": true,
         "tickfont": {
          "color": "#4D5663"
         },
         "title": {
          "font": {
           "color": "#4D5663"
          },
          "text": ""
         },
         "zerolinecolor": "#E1E5ED"
        },
        "yaxis": {
         "gridcolor": "#E1E5ED",
         "linecolor": "black",
         "showgrid": true,
         "tickfont": {
          "color": "#4D5663"
         },
         "title": {
          "font": {
           "color": "#4D5663"
          },
          "text": "Count"
         },
         "zerolinecolor": "#E1E5ED"
        }
       }
      },
      "text/html": [
       "<div>                            <div id=\"4ab98d95-410e-4ad6-874c-c9d86fb9814d\" class=\"plotly-graph-div\" style=\"height:525px; width:100%;\"></div>            <script type=\"text/javascript\">                require([\"plotly\"], function(Plotly) {                    window.PLOTLYENV=window.PLOTLYENV || {};\n",
       "                    window.PLOTLYENV.BASE_URL='https://plot.ly';                                    if (document.getElementById(\"4ab98d95-410e-4ad6-874c-c9d86fb9814d\")) {                    Plotly.newPlot(                        \"4ab98d95-410e-4ad6-874c-c9d86fb9814d\",                        [{\"marker\": {\"color\": \"rgba(255, 153, 51, 0.6)\", \"line\": {\"color\": \"rgba(255, 153, 51, 1.0)\", \"width\": 1}}, \"name\": \"count\", \"orientation\": \"v\", \"text\": \"\", \"type\": \"bar\", \"x\": [\"feel\", \"year\", \"time\", \"never\", \"issue\", \"relationship\", \"always\", \"really\", \"love\", \"people\", \"anxiety\", \"still\", \"friend\", \"help\", \"talk\", \"boyfriend\", \"depression\", \"life\", \"counseling\", \"work\", \"history\", \"address\", \"day\", \"family\", \"sex\", \"normal\", \"child\", \"almost\", \"stop\", \"month\", \"back\", \"marry\", \"together\", \"live\", \"move\", \"husband\", \"wrong\", \"problem\", \"bad\", \"good\", \"lose\", \"counsel\", \"parent\", \"leave\", \"girl\", \"ago\", \"feeling\", \"begin\", \"angry\", \"night\", \"cry\", \"man\", \"school\", \"cheat\", \"mom\", \"past\", \"change\", \"wife\", \"break\", \"last\", \"survivor_lifetime_insomniac_long\", \"recently\", \"low_esteem_happily\", \"deal\", \"else\", \"call\", \"stay\", \"week\", \"person\", \"therapy\", \"mother\", \"date\", \"home\", \"kid\", \"woman\", \"job\", \"fight\", \"dad\", \"away\", \"care\", \"ever\", \"believe\", \"lie\", \"hurt\", \"sleep\", \"trust\", \"listen\", \"guy\", \"decide\", \"stress\", \"anymore\", \"happy\", \"meet\", \"lately\", \"alone\", \"first\", \"enough\", \"hard\", \"afraid\", \"worthless\"], \"y\": [954, 523, 464, 398, 317, 315, 312, 291, 277, 274, 266, 254, 250, 247, 238, 228, 225, 220, 204, 197, 192, 190, 180, 179, 177, 176, 171, 169, 165, 156, 154, 147, 143, 134, 131, 131, 128, 127, 126, 125, 122, 121, 117, 116, 116, 114, 111, 111, 109, 108, 107, 105, 105, 103, 101, 100, 98, 97, 96, 96, 94, 94, 94, 94, 93, 90, 89, 88, 88, 87, 84, 84, 84, 83, 82, 77, 77, 77, 77, 76, 76, 75, 73, 72, 72, 71, 69, 69, 68, 67, 65, 65, 63, 63, 62, 62, 58, 58, 57, 57]}],                        {\"legend\": {\"bgcolor\": \"#F5F6F9\", \"font\": {\"color\": \"#4D5663\"}}, \"paper_bgcolor\": \"#F5F6F9\", \"plot_bgcolor\": \"#F5F6F9\", \"template\": {\"data\": {\"bar\": [{\"error_x\": {\"color\": \"#2a3f5f\"}, \"error_y\": {\"color\": \"#2a3f5f\"}, \"marker\": {\"line\": {\"color\": \"#E5ECF6\", \"width\": 0.5}}, \"type\": \"bar\"}], \"barpolar\": [{\"marker\": {\"line\": {\"color\": \"#E5ECF6\", \"width\": 0.5}}, \"type\": \"barpolar\"}], \"carpet\": [{\"aaxis\": {\"endlinecolor\": \"#2a3f5f\", \"gridcolor\": \"white\", \"linecolor\": \"white\", \"minorgridcolor\": \"white\", \"startlinecolor\": \"#2a3f5f\"}, \"baxis\": {\"endlinecolor\": \"#2a3f5f\", \"gridcolor\": \"white\", \"linecolor\": \"white\", \"minorgridcolor\": \"white\", \"startlinecolor\": \"#2a3f5f\"}, \"type\": \"carpet\"}], \"choropleth\": [{\"colorbar\": {\"outlinewidth\": 0, \"ticks\": \"\"}, \"type\": \"choropleth\"}], \"contour\": [{\"colorbar\": {\"outlinewidth\": 0, \"ticks\": \"\"}, \"colorscale\": [[0.0, \"#0d0887\"], [0.1111111111111111, \"#46039f\"], [0.2222222222222222, \"#7201a8\"], [0.3333333333333333, \"#9c179e\"], [0.4444444444444444, \"#bd3786\"], [0.5555555555555556, \"#d8576b\"], [0.6666666666666666, \"#ed7953\"], [0.7777777777777778, \"#fb9f3a\"], [0.8888888888888888, \"#fdca26\"], [1.0, \"#f0f921\"]], \"type\": \"contour\"}], \"contourcarpet\": [{\"colorbar\": {\"outlinewidth\": 0, \"ticks\": \"\"}, \"type\": \"contourcarpet\"}], \"heatmap\": [{\"colorbar\": {\"outlinewidth\": 0, \"ticks\": \"\"}, \"colorscale\": [[0.0, \"#0d0887\"], [0.1111111111111111, \"#46039f\"], [0.2222222222222222, \"#7201a8\"], [0.3333333333333333, \"#9c179e\"], [0.4444444444444444, \"#bd3786\"], [0.5555555555555556, \"#d8576b\"], [0.6666666666666666, \"#ed7953\"], [0.7777777777777778, \"#fb9f3a\"], [0.8888888888888888, \"#fdca26\"], [1.0, \"#f0f921\"]], \"type\": \"heatmap\"}], \"heatmapgl\": [{\"colorbar\": {\"outlinewidth\": 0, \"ticks\": \"\"}, \"colorscale\": [[0.0, \"#0d0887\"], [0.1111111111111111, \"#46039f\"], [0.2222222222222222, \"#7201a8\"], [0.3333333333333333, \"#9c179e\"], [0.4444444444444444, \"#bd3786\"], [0.5555555555555556, \"#d8576b\"], [0.6666666666666666, \"#ed7953\"], [0.7777777777777778, \"#fb9f3a\"], [0.8888888888888888, \"#fdca26\"], [1.0, \"#f0f921\"]], \"type\": \"heatmapgl\"}], \"histogram\": [{\"marker\": {\"colorbar\": {\"outlinewidth\": 0, \"ticks\": \"\"}}, \"type\": \"histogram\"}], \"histogram2d\": [{\"colorbar\": {\"outlinewidth\": 0, \"ticks\": \"\"}, \"colorscale\": [[0.0, \"#0d0887\"], [0.1111111111111111, \"#46039f\"], [0.2222222222222222, \"#7201a8\"], [0.3333333333333333, \"#9c179e\"], [0.4444444444444444, \"#bd3786\"], [0.5555555555555556, \"#d8576b\"], [0.6666666666666666, \"#ed7953\"], [0.7777777777777778, \"#fb9f3a\"], [0.8888888888888888, \"#fdca26\"], [1.0, \"#f0f921\"]], \"type\": \"histogram2d\"}], \"histogram2dcontour\": [{\"colorbar\": {\"outlinewidth\": 0, \"ticks\": \"\"}, \"colorscale\": [[0.0, \"#0d0887\"], [0.1111111111111111, \"#46039f\"], [0.2222222222222222, \"#7201a8\"], [0.3333333333333333, \"#9c179e\"], [0.4444444444444444, \"#bd3786\"], [0.5555555555555556, \"#d8576b\"], [0.6666666666666666, \"#ed7953\"], [0.7777777777777778, \"#fb9f3a\"], [0.8888888888888888, \"#fdca26\"], [1.0, \"#f0f921\"]], \"type\": \"histogram2dcontour\"}], \"mesh3d\": [{\"colorbar\": {\"outlinewidth\": 0, \"ticks\": \"\"}, \"type\": \"mesh3d\"}], \"parcoords\": [{\"line\": {\"colorbar\": {\"outlinewidth\": 0, \"ticks\": \"\"}}, \"type\": \"parcoords\"}], \"pie\": [{\"automargin\": true, \"type\": \"pie\"}], \"scatter\": [{\"marker\": {\"colorbar\": {\"outlinewidth\": 0, \"ticks\": \"\"}}, \"type\": \"scatter\"}], \"scatter3d\": [{\"line\": {\"colorbar\": {\"outlinewidth\": 0, \"ticks\": \"\"}}, \"marker\": {\"colorbar\": {\"outlinewidth\": 0, \"ticks\": \"\"}}, \"type\": \"scatter3d\"}], \"scattercarpet\": [{\"marker\": {\"colorbar\": {\"outlinewidth\": 0, \"ticks\": \"\"}}, \"type\": \"scattercarpet\"}], \"scattergeo\": [{\"marker\": {\"colorbar\": {\"outlinewidth\": 0, \"ticks\": \"\"}}, \"type\": \"scattergeo\"}], \"scattergl\": [{\"marker\": {\"colorbar\": {\"outlinewidth\": 0, \"ticks\": \"\"}}, \"type\": \"scattergl\"}], \"scattermapbox\": [{\"marker\": {\"colorbar\": {\"outlinewidth\": 0, \"ticks\": \"\"}}, \"type\": \"scattermapbox\"}], \"scatterpolar\": [{\"marker\": {\"colorbar\": {\"outlinewidth\": 0, \"ticks\": \"\"}}, \"type\": \"scatterpolar\"}], \"scatterpolargl\": [{\"marker\": {\"colorbar\": {\"outlinewidth\": 0, \"ticks\": \"\"}}, \"type\": \"scatterpolargl\"}], \"scatterternary\": [{\"marker\": {\"colorbar\": {\"outlinewidth\": 0, \"ticks\": \"\"}}, \"type\": \"scatterternary\"}], \"surface\": [{\"colorbar\": {\"outlinewidth\": 0, \"ticks\": \"\"}, \"colorscale\": [[0.0, \"#0d0887\"], [0.1111111111111111, \"#46039f\"], [0.2222222222222222, \"#7201a8\"], [0.3333333333333333, \"#9c179e\"], [0.4444444444444444, \"#bd3786\"], [0.5555555555555556, \"#d8576b\"], [0.6666666666666666, \"#ed7953\"], [0.7777777777777778, \"#fb9f3a\"], [0.8888888888888888, \"#fdca26\"], [1.0, \"#f0f921\"]], \"type\": \"surface\"}], \"table\": [{\"cells\": {\"fill\": {\"color\": \"#EBF0F8\"}, \"line\": {\"color\": \"white\"}}, \"header\": {\"fill\": {\"color\": \"#C8D4E3\"}, \"line\": {\"color\": \"white\"}}, \"type\": \"table\"}]}, \"layout\": {\"annotationdefaults\": {\"arrowcolor\": \"#2a3f5f\", \"arrowhead\": 0, \"arrowwidth\": 1}, \"autotypenumbers\": \"strict\", \"coloraxis\": {\"colorbar\": {\"outlinewidth\": 0, \"ticks\": \"\"}}, \"colorscale\": {\"diverging\": [[0, \"#8e0152\"], [0.1, \"#c51b7d\"], [0.2, \"#de77ae\"], [0.3, \"#f1b6da\"], [0.4, \"#fde0ef\"], [0.5, \"#f7f7f7\"], [0.6, \"#e6f5d0\"], [0.7, \"#b8e186\"], [0.8, \"#7fbc41\"], [0.9, \"#4d9221\"], [1, \"#276419\"]], \"sequential\": [[0.0, \"#0d0887\"], [0.1111111111111111, \"#46039f\"], [0.2222222222222222, \"#7201a8\"], [0.3333333333333333, \"#9c179e\"], [0.4444444444444444, \"#bd3786\"], [0.5555555555555556, \"#d8576b\"], [0.6666666666666666, \"#ed7953\"], [0.7777777777777778, \"#fb9f3a\"], [0.8888888888888888, \"#fdca26\"], [1.0, \"#f0f921\"]], \"sequentialminus\": [[0.0, \"#0d0887\"], [0.1111111111111111, \"#46039f\"], [0.2222222222222222, \"#7201a8\"], [0.3333333333333333, \"#9c179e\"], [0.4444444444444444, \"#bd3786\"], [0.5555555555555556, \"#d8576b\"], [0.6666666666666666, \"#ed7953\"], [0.7777777777777778, \"#fb9f3a\"], [0.8888888888888888, \"#fdca26\"], [1.0, \"#f0f921\"]]}, \"colorway\": [\"#636efa\", \"#EF553B\", \"#00cc96\", \"#ab63fa\", \"#FFA15A\", \"#19d3f3\", \"#FF6692\", \"#B6E880\", \"#FF97FF\", \"#FECB52\"], \"font\": {\"color\": \"#2a3f5f\"}, \"geo\": {\"bgcolor\": \"white\", \"lakecolor\": \"white\", \"landcolor\": \"#E5ECF6\", \"showlakes\": true, \"showland\": true, \"subunitcolor\": \"white\"}, \"hoverlabel\": {\"align\": \"left\"}, \"hovermode\": \"closest\", \"mapbox\": {\"style\": \"light\"}, \"paper_bgcolor\": \"white\", \"plot_bgcolor\": \"#E5ECF6\", \"polar\": {\"angularaxis\": {\"gridcolor\": \"white\", \"linecolor\": \"white\", \"ticks\": \"\"}, \"bgcolor\": \"#E5ECF6\", \"radialaxis\": {\"gridcolor\": \"white\", \"linecolor\": \"white\", \"ticks\": \"\"}}, \"scene\": {\"xaxis\": {\"backgroundcolor\": \"#E5ECF6\", \"gridcolor\": \"white\", \"gridwidth\": 2, \"linecolor\": \"white\", \"showbackground\": true, \"ticks\": \"\", \"zerolinecolor\": \"white\"}, \"yaxis\": {\"backgroundcolor\": \"#E5ECF6\", \"gridcolor\": \"white\", \"gridwidth\": 2, \"linecolor\": \"white\", \"showbackground\": true, \"ticks\": \"\", \"zerolinecolor\": \"white\"}, \"zaxis\": {\"backgroundcolor\": \"#E5ECF6\", \"gridcolor\": \"white\", \"gridwidth\": 2, \"linecolor\": \"white\", \"showbackground\": true, \"ticks\": \"\", \"zerolinecolor\": \"white\"}}, \"shapedefaults\": {\"line\": {\"color\": \"#2a3f5f\"}}, \"ternary\": {\"aaxis\": {\"gridcolor\": \"white\", \"linecolor\": \"white\", \"ticks\": \"\"}, \"baxis\": {\"gridcolor\": \"white\", \"linecolor\": \"white\", \"ticks\": \"\"}, \"bgcolor\": \"#E5ECF6\", \"caxis\": {\"gridcolor\": \"white\", \"linecolor\": \"white\", \"ticks\": \"\"}}, \"title\": {\"x\": 0.05}, \"xaxis\": {\"automargin\": true, \"gridcolor\": \"white\", \"linecolor\": \"white\", \"ticks\": \"\", \"title\": {\"standoff\": 15}, \"zerolinecolor\": \"white\", \"zerolinewidth\": 2}, \"yaxis\": {\"automargin\": true, \"gridcolor\": \"white\", \"linecolor\": \"white\", \"ticks\": \"\", \"title\": {\"standoff\": 15}, \"zerolinecolor\": \"white\", \"zerolinewidth\": 2}}}, \"title\": {\"font\": {\"color\": \"#4D5663\"}, \"text\": \"Top 100 words after removing stop words\"}, \"xaxis\": {\"gridcolor\": \"#E1E5ED\", \"linecolor\": \"black\", \"showgrid\": true, \"tickfont\": {\"color\": \"#4D5663\"}, \"title\": {\"font\": {\"color\": \"#4D5663\"}, \"text\": \"\"}, \"zerolinecolor\": \"#E1E5ED\"}, \"yaxis\": {\"gridcolor\": \"#E1E5ED\", \"linecolor\": \"black\", \"showgrid\": true, \"tickfont\": {\"color\": \"#4D5663\"}, \"title\": {\"font\": {\"color\": \"#4D5663\"}, \"text\": \"Count\"}, \"zerolinecolor\": \"#E1E5ED\"}},                        {\"showLink\": true, \"linkText\": \"Export to plot.ly\", \"plotlyServerURL\": \"https://plot.ly\", \"responsive\": true}                    ).then(function(){\n",
       "                            \n",
       "var gd = document.getElementById('4ab98d95-410e-4ad6-874c-c9d86fb9814d');\n",
       "var x = new MutationObserver(function (mutations, observer) {{\n",
       "        var display = window.getComputedStyle(gd).display;\n",
       "        if (!display || display === 'none') {{\n",
       "            console.log([gd, 'removed!']);\n",
       "            Plotly.purge(gd);\n",
       "            observer.disconnect();\n",
       "        }}\n",
       "}});\n",
       "\n",
       "// Listen for the removal of the full notebook cells\n",
       "var notebookContainer = gd.closest('#notebook-container');\n",
       "if (notebookContainer) {{\n",
       "    x.observe(notebookContainer, {childList: true});\n",
       "}}\n",
       "\n",
       "// Listen for the clearing of the current output cell\n",
       "var outputEl = gd.closest('.output');\n",
       "if (outputEl) {{\n",
       "    x.observe(outputEl, {childList: true});\n",
       "}}\n",
       "\n",
       "                        })                };                });            </script>        </div>"
      ]
     },
     "metadata": {},
     "output_type": "display_data"
    }
   ],
   "source": [
    "plot_model()"
   ]
  },
  {
   "cell_type": "code",
   "execution_count": 12,
   "id": "black-fusion",
   "metadata": {},
   "outputs": [
    {
     "data": {
      "text/html": [
       "        <script type=\"text/javascript\">\n",
       "        window.PlotlyConfig = {MathJaxConfig: 'local'};\n",
       "        if (window.MathJax) {MathJax.Hub.Config({SVG: {font: \"STIX-Web\"}});}\n",
       "        if (typeof require !== 'undefined') {\n",
       "        require.undef(\"plotly\");\n",
       "        requirejs.config({\n",
       "            paths: {\n",
       "                'plotly': ['https://cdn.plot.ly/plotly-latest.min']\n",
       "            }\n",
       "        });\n",
       "        require(['plotly'], function(Plotly) {\n",
       "            window._Plotly = Plotly;\n",
       "        });\n",
       "        }\n",
       "        </script>\n",
       "        "
      ]
     },
     "metadata": {},
     "output_type": "display_data"
    },
    {
     "data": {
      "application/vnd.plotly.v1+json": {
       "config": {
        "linkText": "Export to plot.ly",
        "plotlyServerURL": "https://plot.ly",
        "showLink": true
       },
       "data": [
        {
         "marker": {
          "color": "rgba(255, 153, 51, 0.6)",
          "line": {
           "color": "rgba(255, 153, 51, 1.0)",
           "width": 1
          }
         },
         "name": "count",
         "orientation": "v",
         "text": "",
         "type": "bar",
         "x": [
          "issue address",
          "almost year",
          "year never",
          "marry almost",
          "address counseling",
          "begin anxiety",
          "history survivor_lifetime_insomniac_long",
          "history depression",
          "address history",
          "never counsel",
          "low_esteem_happily marry",
          "survivor_lifetime_insomniac_long history",
          "counsel issue",
          "depression begin",
          "anxiety low_esteem_happily",
          "still feel",
          "year ago",
          "everytime_walk_nervous_shaky normal",
          "normal still",
          "still everytime_walk_nervous_shaky",
          "normal people",
          "always feel",
          "counseling sessions_terminate_working_client",
          "counselor_decide counseling",
          "cry therapy",
          "people cry",
          "month ago",
          "change feel",
          "feel worthless",
          "feel feel",
          "together year",
          "feel bad",
          "time feel",
          "feel really",
          "never change",
          "hard time",
          "year old",
          "therapy worry",
          "counseling therapy",
          "afraid_stressing_afraid break_doctor",
          "issue never",
          "always afraid_stressing_afraid",
          "break_doctor normal",
          "never always",
          "always fix",
          "worthless never",
          "school_starts_crying freaking_bright_student",
          "freaking_bright_student always",
          "fix issue",
          "feelings_barely_sleep worthless",
          "daughter_stressed_silly school_starts_crying",
          "last year",
          "time sex",
          "counseling process",
          "person counseling",
          "relationship boyfriend",
          "depression anxiety",
          "good friend",
          "really help",
          "mom dad",
          "help people",
          "boyfriend year",
          "high school",
          "always good",
          "counsel really",
          "friend family",
          "really like",
          "angry time",
          "time wonderful_depressed_hopeless",
          "never feel",
          "feel alone",
          "angry feel",
          "anxiety attack",
          "last month",
          "past cheat",
          "anxiety feel",
          "people really",
          "fall love",
          "boyfriend wrong",
          "past year",
          "decide relationship",
          "feel else",
          "counseling help",
          "else feel",
          "year relationship",
          "feel overwhelmed",
          "never really",
          "good enough",
          "mean always",
          "last time",
          "love love",
          "long time",
          "sex life",
          "feel lose",
          "great relationship",
          "home family",
          "married year",
          "life feel",
          "almost always",
          "listen husband"
         ],
         "y": [
          188,
          113,
          101,
          95,
          94,
          94,
          94,
          94,
          94,
          94,
          94,
          94,
          94,
          94,
          94,
          68,
          61,
          52,
          52,
          52,
          42,
          40,
          40,
          40,
          38,
          38,
          33,
          30,
          28,
          27,
          26,
          26,
          26,
          26,
          25,
          25,
          24,
          24,
          24,
          23,
          23,
          23,
          23,
          23,
          23,
          23,
          23,
          23,
          23,
          23,
          23,
          23,
          22,
          22,
          22,
          22,
          22,
          21,
          21,
          20,
          20,
          20,
          20,
          20,
          20,
          19,
          19,
          19,
          18,
          18,
          18,
          18,
          18,
          17,
          17,
          17,
          17,
          16,
          16,
          16,
          16,
          16,
          15,
          15,
          15,
          15,
          15,
          15,
          15,
          15,
          15,
          14,
          14,
          14,
          14,
          14,
          14,
          14,
          14,
          14
         ]
        }
       ],
       "layout": {
        "legend": {
         "bgcolor": "#F5F6F9",
         "font": {
          "color": "#4D5663"
         }
        },
        "paper_bgcolor": "#F5F6F9",
        "plot_bgcolor": "#F5F6F9",
        "template": {
         "data": {
          "bar": [
           {
            "error_x": {
             "color": "#2a3f5f"
            },
            "error_y": {
             "color": "#2a3f5f"
            },
            "marker": {
             "line": {
              "color": "#E5ECF6",
              "width": 0.5
             }
            },
            "type": "bar"
           }
          ],
          "barpolar": [
           {
            "marker": {
             "line": {
              "color": "#E5ECF6",
              "width": 0.5
             }
            },
            "type": "barpolar"
           }
          ],
          "carpet": [
           {
            "aaxis": {
             "endlinecolor": "#2a3f5f",
             "gridcolor": "white",
             "linecolor": "white",
             "minorgridcolor": "white",
             "startlinecolor": "#2a3f5f"
            },
            "baxis": {
             "endlinecolor": "#2a3f5f",
             "gridcolor": "white",
             "linecolor": "white",
             "minorgridcolor": "white",
             "startlinecolor": "#2a3f5f"
            },
            "type": "carpet"
           }
          ],
          "choropleth": [
           {
            "colorbar": {
             "outlinewidth": 0,
             "ticks": ""
            },
            "type": "choropleth"
           }
          ],
          "contour": [
           {
            "colorbar": {
             "outlinewidth": 0,
             "ticks": ""
            },
            "colorscale": [
             [
              0,
              "#0d0887"
             ],
             [
              0.1111111111111111,
              "#46039f"
             ],
             [
              0.2222222222222222,
              "#7201a8"
             ],
             [
              0.3333333333333333,
              "#9c179e"
             ],
             [
              0.4444444444444444,
              "#bd3786"
             ],
             [
              0.5555555555555556,
              "#d8576b"
             ],
             [
              0.6666666666666666,
              "#ed7953"
             ],
             [
              0.7777777777777778,
              "#fb9f3a"
             ],
             [
              0.8888888888888888,
              "#fdca26"
             ],
             [
              1,
              "#f0f921"
             ]
            ],
            "type": "contour"
           }
          ],
          "contourcarpet": [
           {
            "colorbar": {
             "outlinewidth": 0,
             "ticks": ""
            },
            "type": "contourcarpet"
           }
          ],
          "heatmap": [
           {
            "colorbar": {
             "outlinewidth": 0,
             "ticks": ""
            },
            "colorscale": [
             [
              0,
              "#0d0887"
             ],
             [
              0.1111111111111111,
              "#46039f"
             ],
             [
              0.2222222222222222,
              "#7201a8"
             ],
             [
              0.3333333333333333,
              "#9c179e"
             ],
             [
              0.4444444444444444,
              "#bd3786"
             ],
             [
              0.5555555555555556,
              "#d8576b"
             ],
             [
              0.6666666666666666,
              "#ed7953"
             ],
             [
              0.7777777777777778,
              "#fb9f3a"
             ],
             [
              0.8888888888888888,
              "#fdca26"
             ],
             [
              1,
              "#f0f921"
             ]
            ],
            "type": "heatmap"
           }
          ],
          "heatmapgl": [
           {
            "colorbar": {
             "outlinewidth": 0,
             "ticks": ""
            },
            "colorscale": [
             [
              0,
              "#0d0887"
             ],
             [
              0.1111111111111111,
              "#46039f"
             ],
             [
              0.2222222222222222,
              "#7201a8"
             ],
             [
              0.3333333333333333,
              "#9c179e"
             ],
             [
              0.4444444444444444,
              "#bd3786"
             ],
             [
              0.5555555555555556,
              "#d8576b"
             ],
             [
              0.6666666666666666,
              "#ed7953"
             ],
             [
              0.7777777777777778,
              "#fb9f3a"
             ],
             [
              0.8888888888888888,
              "#fdca26"
             ],
             [
              1,
              "#f0f921"
             ]
            ],
            "type": "heatmapgl"
           }
          ],
          "histogram": [
           {
            "marker": {
             "colorbar": {
              "outlinewidth": 0,
              "ticks": ""
             }
            },
            "type": "histogram"
           }
          ],
          "histogram2d": [
           {
            "colorbar": {
             "outlinewidth": 0,
             "ticks": ""
            },
            "colorscale": [
             [
              0,
              "#0d0887"
             ],
             [
              0.1111111111111111,
              "#46039f"
             ],
             [
              0.2222222222222222,
              "#7201a8"
             ],
             [
              0.3333333333333333,
              "#9c179e"
             ],
             [
              0.4444444444444444,
              "#bd3786"
             ],
             [
              0.5555555555555556,
              "#d8576b"
             ],
             [
              0.6666666666666666,
              "#ed7953"
             ],
             [
              0.7777777777777778,
              "#fb9f3a"
             ],
             [
              0.8888888888888888,
              "#fdca26"
             ],
             [
              1,
              "#f0f921"
             ]
            ],
            "type": "histogram2d"
           }
          ],
          "histogram2dcontour": [
           {
            "colorbar": {
             "outlinewidth": 0,
             "ticks": ""
            },
            "colorscale": [
             [
              0,
              "#0d0887"
             ],
             [
              0.1111111111111111,
              "#46039f"
             ],
             [
              0.2222222222222222,
              "#7201a8"
             ],
             [
              0.3333333333333333,
              "#9c179e"
             ],
             [
              0.4444444444444444,
              "#bd3786"
             ],
             [
              0.5555555555555556,
              "#d8576b"
             ],
             [
              0.6666666666666666,
              "#ed7953"
             ],
             [
              0.7777777777777778,
              "#fb9f3a"
             ],
             [
              0.8888888888888888,
              "#fdca26"
             ],
             [
              1,
              "#f0f921"
             ]
            ],
            "type": "histogram2dcontour"
           }
          ],
          "mesh3d": [
           {
            "colorbar": {
             "outlinewidth": 0,
             "ticks": ""
            },
            "type": "mesh3d"
           }
          ],
          "parcoords": [
           {
            "line": {
             "colorbar": {
              "outlinewidth": 0,
              "ticks": ""
             }
            },
            "type": "parcoords"
           }
          ],
          "pie": [
           {
            "automargin": true,
            "type": "pie"
           }
          ],
          "scatter": [
           {
            "marker": {
             "colorbar": {
              "outlinewidth": 0,
              "ticks": ""
             }
            },
            "type": "scatter"
           }
          ],
          "scatter3d": [
           {
            "line": {
             "colorbar": {
              "outlinewidth": 0,
              "ticks": ""
             }
            },
            "marker": {
             "colorbar": {
              "outlinewidth": 0,
              "ticks": ""
             }
            },
            "type": "scatter3d"
           }
          ],
          "scattercarpet": [
           {
            "marker": {
             "colorbar": {
              "outlinewidth": 0,
              "ticks": ""
             }
            },
            "type": "scattercarpet"
           }
          ],
          "scattergeo": [
           {
            "marker": {
             "colorbar": {
              "outlinewidth": 0,
              "ticks": ""
             }
            },
            "type": "scattergeo"
           }
          ],
          "scattergl": [
           {
            "marker": {
             "colorbar": {
              "outlinewidth": 0,
              "ticks": ""
             }
            },
            "type": "scattergl"
           }
          ],
          "scattermapbox": [
           {
            "marker": {
             "colorbar": {
              "outlinewidth": 0,
              "ticks": ""
             }
            },
            "type": "scattermapbox"
           }
          ],
          "scatterpolar": [
           {
            "marker": {
             "colorbar": {
              "outlinewidth": 0,
              "ticks": ""
             }
            },
            "type": "scatterpolar"
           }
          ],
          "scatterpolargl": [
           {
            "marker": {
             "colorbar": {
              "outlinewidth": 0,
              "ticks": ""
             }
            },
            "type": "scatterpolargl"
           }
          ],
          "scatterternary": [
           {
            "marker": {
             "colorbar": {
              "outlinewidth": 0,
              "ticks": ""
             }
            },
            "type": "scatterternary"
           }
          ],
          "surface": [
           {
            "colorbar": {
             "outlinewidth": 0,
             "ticks": ""
            },
            "colorscale": [
             [
              0,
              "#0d0887"
             ],
             [
              0.1111111111111111,
              "#46039f"
             ],
             [
              0.2222222222222222,
              "#7201a8"
             ],
             [
              0.3333333333333333,
              "#9c179e"
             ],
             [
              0.4444444444444444,
              "#bd3786"
             ],
             [
              0.5555555555555556,
              "#d8576b"
             ],
             [
              0.6666666666666666,
              "#ed7953"
             ],
             [
              0.7777777777777778,
              "#fb9f3a"
             ],
             [
              0.8888888888888888,
              "#fdca26"
             ],
             [
              1,
              "#f0f921"
             ]
            ],
            "type": "surface"
           }
          ],
          "table": [
           {
            "cells": {
             "fill": {
              "color": "#EBF0F8"
             },
             "line": {
              "color": "white"
             }
            },
            "header": {
             "fill": {
              "color": "#C8D4E3"
             },
             "line": {
              "color": "white"
             }
            },
            "type": "table"
           }
          ]
         },
         "layout": {
          "annotationdefaults": {
           "arrowcolor": "#2a3f5f",
           "arrowhead": 0,
           "arrowwidth": 1
          },
          "autotypenumbers": "strict",
          "coloraxis": {
           "colorbar": {
            "outlinewidth": 0,
            "ticks": ""
           }
          },
          "colorscale": {
           "diverging": [
            [
             0,
             "#8e0152"
            ],
            [
             0.1,
             "#c51b7d"
            ],
            [
             0.2,
             "#de77ae"
            ],
            [
             0.3,
             "#f1b6da"
            ],
            [
             0.4,
             "#fde0ef"
            ],
            [
             0.5,
             "#f7f7f7"
            ],
            [
             0.6,
             "#e6f5d0"
            ],
            [
             0.7,
             "#b8e186"
            ],
            [
             0.8,
             "#7fbc41"
            ],
            [
             0.9,
             "#4d9221"
            ],
            [
             1,
             "#276419"
            ]
           ],
           "sequential": [
            [
             0,
             "#0d0887"
            ],
            [
             0.1111111111111111,
             "#46039f"
            ],
            [
             0.2222222222222222,
             "#7201a8"
            ],
            [
             0.3333333333333333,
             "#9c179e"
            ],
            [
             0.4444444444444444,
             "#bd3786"
            ],
            [
             0.5555555555555556,
             "#d8576b"
            ],
            [
             0.6666666666666666,
             "#ed7953"
            ],
            [
             0.7777777777777778,
             "#fb9f3a"
            ],
            [
             0.8888888888888888,
             "#fdca26"
            ],
            [
             1,
             "#f0f921"
            ]
           ],
           "sequentialminus": [
            [
             0,
             "#0d0887"
            ],
            [
             0.1111111111111111,
             "#46039f"
            ],
            [
             0.2222222222222222,
             "#7201a8"
            ],
            [
             0.3333333333333333,
             "#9c179e"
            ],
            [
             0.4444444444444444,
             "#bd3786"
            ],
            [
             0.5555555555555556,
             "#d8576b"
            ],
            [
             0.6666666666666666,
             "#ed7953"
            ],
            [
             0.7777777777777778,
             "#fb9f3a"
            ],
            [
             0.8888888888888888,
             "#fdca26"
            ],
            [
             1,
             "#f0f921"
            ]
           ]
          },
          "colorway": [
           "#636efa",
           "#EF553B",
           "#00cc96",
           "#ab63fa",
           "#FFA15A",
           "#19d3f3",
           "#FF6692",
           "#B6E880",
           "#FF97FF",
           "#FECB52"
          ],
          "font": {
           "color": "#2a3f5f"
          },
          "geo": {
           "bgcolor": "white",
           "lakecolor": "white",
           "landcolor": "#E5ECF6",
           "showlakes": true,
           "showland": true,
           "subunitcolor": "white"
          },
          "hoverlabel": {
           "align": "left"
          },
          "hovermode": "closest",
          "mapbox": {
           "style": "light"
          },
          "paper_bgcolor": "white",
          "plot_bgcolor": "#E5ECF6",
          "polar": {
           "angularaxis": {
            "gridcolor": "white",
            "linecolor": "white",
            "ticks": ""
           },
           "bgcolor": "#E5ECF6",
           "radialaxis": {
            "gridcolor": "white",
            "linecolor": "white",
            "ticks": ""
           }
          },
          "scene": {
           "xaxis": {
            "backgroundcolor": "#E5ECF6",
            "gridcolor": "white",
            "gridwidth": 2,
            "linecolor": "white",
            "showbackground": true,
            "ticks": "",
            "zerolinecolor": "white"
           },
           "yaxis": {
            "backgroundcolor": "#E5ECF6",
            "gridcolor": "white",
            "gridwidth": 2,
            "linecolor": "white",
            "showbackground": true,
            "ticks": "",
            "zerolinecolor": "white"
           },
           "zaxis": {
            "backgroundcolor": "#E5ECF6",
            "gridcolor": "white",
            "gridwidth": 2,
            "linecolor": "white",
            "showbackground": true,
            "ticks": "",
            "zerolinecolor": "white"
           }
          },
          "shapedefaults": {
           "line": {
            "color": "#2a3f5f"
           }
          },
          "ternary": {
           "aaxis": {
            "gridcolor": "white",
            "linecolor": "white",
            "ticks": ""
           },
           "baxis": {
            "gridcolor": "white",
            "linecolor": "white",
            "ticks": ""
           },
           "bgcolor": "#E5ECF6",
           "caxis": {
            "gridcolor": "white",
            "linecolor": "white",
            "ticks": ""
           }
          },
          "title": {
           "x": 0.05
          },
          "xaxis": {
           "automargin": true,
           "gridcolor": "white",
           "linecolor": "white",
           "ticks": "",
           "title": {
            "standoff": 15
           },
           "zerolinecolor": "white",
           "zerolinewidth": 2
          },
          "yaxis": {
           "automargin": true,
           "gridcolor": "white",
           "linecolor": "white",
           "ticks": "",
           "title": {
            "standoff": 15
           },
           "zerolinecolor": "white",
           "zerolinewidth": 2
          }
         }
        },
        "title": {
         "font": {
          "color": "#4D5663"
         },
         "text": "Top 100 bigrams after removing stop words"
        },
        "xaxis": {
         "gridcolor": "#E1E5ED",
         "linecolor": "black",
         "showgrid": true,
         "tickfont": {
          "color": "#4D5663"
         },
         "title": {
          "font": {
           "color": "#4D5663"
          },
          "text": ""
         },
         "zerolinecolor": "#E1E5ED"
        },
        "yaxis": {
         "gridcolor": "#E1E5ED",
         "linecolor": "black",
         "showgrid": true,
         "tickfont": {
          "color": "#4D5663"
         },
         "title": {
          "font": {
           "color": "#4D5663"
          },
          "text": "Count"
         },
         "zerolinecolor": "#E1E5ED"
        }
       }
      },
      "text/html": [
       "<div>                            <div id=\"002a2be8-aae1-4087-a6db-adac44e821b8\" class=\"plotly-graph-div\" style=\"height:525px; width:100%;\"></div>            <script type=\"text/javascript\">                require([\"plotly\"], function(Plotly) {                    window.PLOTLYENV=window.PLOTLYENV || {};\n",
       "                    window.PLOTLYENV.BASE_URL='https://plot.ly';                                    if (document.getElementById(\"002a2be8-aae1-4087-a6db-adac44e821b8\")) {                    Plotly.newPlot(                        \"002a2be8-aae1-4087-a6db-adac44e821b8\",                        [{\"marker\": {\"color\": \"rgba(255, 153, 51, 0.6)\", \"line\": {\"color\": \"rgba(255, 153, 51, 1.0)\", \"width\": 1}}, \"name\": \"count\", \"orientation\": \"v\", \"text\": \"\", \"type\": \"bar\", \"x\": [\"issue address\", \"almost year\", \"year never\", \"marry almost\", \"address counseling\", \"begin anxiety\", \"history survivor_lifetime_insomniac_long\", \"history depression\", \"address history\", \"never counsel\", \"low_esteem_happily marry\", \"survivor_lifetime_insomniac_long history\", \"counsel issue\", \"depression begin\", \"anxiety low_esteem_happily\", \"still feel\", \"year ago\", \"everytime_walk_nervous_shaky normal\", \"normal still\", \"still everytime_walk_nervous_shaky\", \"normal people\", \"always feel\", \"counseling sessions_terminate_working_client\", \"counselor_decide counseling\", \"cry therapy\", \"people cry\", \"month ago\", \"change feel\", \"feel worthless\", \"feel feel\", \"together year\", \"feel bad\", \"time feel\", \"feel really\", \"never change\", \"hard time\", \"year old\", \"therapy worry\", \"counseling therapy\", \"afraid_stressing_afraid break_doctor\", \"issue never\", \"always afraid_stressing_afraid\", \"break_doctor normal\", \"never always\", \"always fix\", \"worthless never\", \"school_starts_crying freaking_bright_student\", \"freaking_bright_student always\", \"fix issue\", \"feelings_barely_sleep worthless\", \"daughter_stressed_silly school_starts_crying\", \"last year\", \"time sex\", \"counseling process\", \"person counseling\", \"relationship boyfriend\", \"depression anxiety\", \"good friend\", \"really help\", \"mom dad\", \"help people\", \"boyfriend year\", \"high school\", \"always good\", \"counsel really\", \"friend family\", \"really like\", \"angry time\", \"time wonderful_depressed_hopeless\", \"never feel\", \"feel alone\", \"angry feel\", \"anxiety attack\", \"last month\", \"past cheat\", \"anxiety feel\", \"people really\", \"fall love\", \"boyfriend wrong\", \"past year\", \"decide relationship\", \"feel else\", \"counseling help\", \"else feel\", \"year relationship\", \"feel overwhelmed\", \"never really\", \"good enough\", \"mean always\", \"last time\", \"love love\", \"long time\", \"sex life\", \"feel lose\", \"great relationship\", \"home family\", \"married year\", \"life feel\", \"almost always\", \"listen husband\"], \"y\": [188, 113, 101, 95, 94, 94, 94, 94, 94, 94, 94, 94, 94, 94, 94, 68, 61, 52, 52, 52, 42, 40, 40, 40, 38, 38, 33, 30, 28, 27, 26, 26, 26, 26, 25, 25, 24, 24, 24, 23, 23, 23, 23, 23, 23, 23, 23, 23, 23, 23, 23, 23, 22, 22, 22, 22, 22, 21, 21, 20, 20, 20, 20, 20, 20, 19, 19, 19, 18, 18, 18, 18, 18, 17, 17, 17, 17, 16, 16, 16, 16, 16, 15, 15, 15, 15, 15, 15, 15, 15, 15, 14, 14, 14, 14, 14, 14, 14, 14, 14]}],                        {\"legend\": {\"bgcolor\": \"#F5F6F9\", \"font\": {\"color\": \"#4D5663\"}}, \"paper_bgcolor\": \"#F5F6F9\", \"plot_bgcolor\": \"#F5F6F9\", \"template\": {\"data\": {\"bar\": [{\"error_x\": {\"color\": \"#2a3f5f\"}, \"error_y\": {\"color\": \"#2a3f5f\"}, \"marker\": {\"line\": {\"color\": \"#E5ECF6\", \"width\": 0.5}}, \"type\": \"bar\"}], \"barpolar\": [{\"marker\": {\"line\": {\"color\": \"#E5ECF6\", \"width\": 0.5}}, \"type\": \"barpolar\"}], \"carpet\": [{\"aaxis\": {\"endlinecolor\": \"#2a3f5f\", \"gridcolor\": \"white\", \"linecolor\": \"white\", \"minorgridcolor\": \"white\", \"startlinecolor\": \"#2a3f5f\"}, \"baxis\": {\"endlinecolor\": \"#2a3f5f\", \"gridcolor\": \"white\", \"linecolor\": \"white\", \"minorgridcolor\": \"white\", \"startlinecolor\": \"#2a3f5f\"}, \"type\": \"carpet\"}], \"choropleth\": [{\"colorbar\": {\"outlinewidth\": 0, \"ticks\": \"\"}, \"type\": \"choropleth\"}], \"contour\": [{\"colorbar\": {\"outlinewidth\": 0, \"ticks\": \"\"}, \"colorscale\": [[0.0, \"#0d0887\"], [0.1111111111111111, \"#46039f\"], [0.2222222222222222, \"#7201a8\"], [0.3333333333333333, \"#9c179e\"], [0.4444444444444444, \"#bd3786\"], [0.5555555555555556, \"#d8576b\"], [0.6666666666666666, \"#ed7953\"], [0.7777777777777778, \"#fb9f3a\"], [0.8888888888888888, \"#fdca26\"], [1.0, \"#f0f921\"]], \"type\": \"contour\"}], \"contourcarpet\": [{\"colorbar\": {\"outlinewidth\": 0, \"ticks\": \"\"}, \"type\": \"contourcarpet\"}], \"heatmap\": [{\"colorbar\": {\"outlinewidth\": 0, \"ticks\": \"\"}, \"colorscale\": [[0.0, \"#0d0887\"], [0.1111111111111111, \"#46039f\"], [0.2222222222222222, \"#7201a8\"], [0.3333333333333333, \"#9c179e\"], [0.4444444444444444, \"#bd3786\"], [0.5555555555555556, \"#d8576b\"], [0.6666666666666666, \"#ed7953\"], [0.7777777777777778, \"#fb9f3a\"], [0.8888888888888888, \"#fdca26\"], [1.0, \"#f0f921\"]], \"type\": \"heatmap\"}], \"heatmapgl\": [{\"colorbar\": {\"outlinewidth\": 0, \"ticks\": \"\"}, \"colorscale\": [[0.0, \"#0d0887\"], [0.1111111111111111, \"#46039f\"], [0.2222222222222222, \"#7201a8\"], [0.3333333333333333, \"#9c179e\"], [0.4444444444444444, \"#bd3786\"], [0.5555555555555556, \"#d8576b\"], [0.6666666666666666, \"#ed7953\"], [0.7777777777777778, \"#fb9f3a\"], [0.8888888888888888, \"#fdca26\"], [1.0, \"#f0f921\"]], \"type\": \"heatmapgl\"}], \"histogram\": [{\"marker\": {\"colorbar\": {\"outlinewidth\": 0, \"ticks\": \"\"}}, \"type\": \"histogram\"}], \"histogram2d\": [{\"colorbar\": {\"outlinewidth\": 0, \"ticks\": \"\"}, \"colorscale\": [[0.0, \"#0d0887\"], [0.1111111111111111, \"#46039f\"], [0.2222222222222222, \"#7201a8\"], [0.3333333333333333, \"#9c179e\"], [0.4444444444444444, \"#bd3786\"], [0.5555555555555556, \"#d8576b\"], [0.6666666666666666, \"#ed7953\"], [0.7777777777777778, \"#fb9f3a\"], [0.8888888888888888, \"#fdca26\"], [1.0, \"#f0f921\"]], \"type\": \"histogram2d\"}], \"histogram2dcontour\": [{\"colorbar\": {\"outlinewidth\": 0, \"ticks\": \"\"}, \"colorscale\": [[0.0, \"#0d0887\"], [0.1111111111111111, \"#46039f\"], [0.2222222222222222, \"#7201a8\"], [0.3333333333333333, \"#9c179e\"], [0.4444444444444444, \"#bd3786\"], [0.5555555555555556, \"#d8576b\"], [0.6666666666666666, \"#ed7953\"], [0.7777777777777778, \"#fb9f3a\"], [0.8888888888888888, \"#fdca26\"], [1.0, \"#f0f921\"]], \"type\": \"histogram2dcontour\"}], \"mesh3d\": [{\"colorbar\": {\"outlinewidth\": 0, \"ticks\": \"\"}, \"type\": \"mesh3d\"}], \"parcoords\": [{\"line\": {\"colorbar\": {\"outlinewidth\": 0, \"ticks\": \"\"}}, \"type\": \"parcoords\"}], \"pie\": [{\"automargin\": true, \"type\": \"pie\"}], \"scatter\": [{\"marker\": {\"colorbar\": {\"outlinewidth\": 0, \"ticks\": \"\"}}, \"type\": \"scatter\"}], \"scatter3d\": [{\"line\": {\"colorbar\": {\"outlinewidth\": 0, \"ticks\": \"\"}}, \"marker\": {\"colorbar\": {\"outlinewidth\": 0, \"ticks\": \"\"}}, \"type\": \"scatter3d\"}], \"scattercarpet\": [{\"marker\": {\"colorbar\": {\"outlinewidth\": 0, \"ticks\": \"\"}}, \"type\": \"scattercarpet\"}], \"scattergeo\": [{\"marker\": {\"colorbar\": {\"outlinewidth\": 0, \"ticks\": \"\"}}, \"type\": \"scattergeo\"}], \"scattergl\": [{\"marker\": {\"colorbar\": {\"outlinewidth\": 0, \"ticks\": \"\"}}, \"type\": \"scattergl\"}], \"scattermapbox\": [{\"marker\": {\"colorbar\": {\"outlinewidth\": 0, \"ticks\": \"\"}}, \"type\": \"scattermapbox\"}], \"scatterpolar\": [{\"marker\": {\"colorbar\": {\"outlinewidth\": 0, \"ticks\": \"\"}}, \"type\": \"scatterpolar\"}], \"scatterpolargl\": [{\"marker\": {\"colorbar\": {\"outlinewidth\": 0, \"ticks\": \"\"}}, \"type\": \"scatterpolargl\"}], \"scatterternary\": [{\"marker\": {\"colorbar\": {\"outlinewidth\": 0, \"ticks\": \"\"}}, \"type\": \"scatterternary\"}], \"surface\": [{\"colorbar\": {\"outlinewidth\": 0, \"ticks\": \"\"}, \"colorscale\": [[0.0, \"#0d0887\"], [0.1111111111111111, \"#46039f\"], [0.2222222222222222, \"#7201a8\"], [0.3333333333333333, \"#9c179e\"], [0.4444444444444444, \"#bd3786\"], [0.5555555555555556, \"#d8576b\"], [0.6666666666666666, \"#ed7953\"], [0.7777777777777778, \"#fb9f3a\"], [0.8888888888888888, \"#fdca26\"], [1.0, \"#f0f921\"]], \"type\": \"surface\"}], \"table\": [{\"cells\": {\"fill\": {\"color\": \"#EBF0F8\"}, \"line\": {\"color\": \"white\"}}, \"header\": {\"fill\": {\"color\": \"#C8D4E3\"}, \"line\": {\"color\": \"white\"}}, \"type\": \"table\"}]}, \"layout\": {\"annotationdefaults\": {\"arrowcolor\": \"#2a3f5f\", \"arrowhead\": 0, \"arrowwidth\": 1}, \"autotypenumbers\": \"strict\", \"coloraxis\": {\"colorbar\": {\"outlinewidth\": 0, \"ticks\": \"\"}}, \"colorscale\": {\"diverging\": [[0, \"#8e0152\"], [0.1, \"#c51b7d\"], [0.2, \"#de77ae\"], [0.3, \"#f1b6da\"], [0.4, \"#fde0ef\"], [0.5, \"#f7f7f7\"], [0.6, \"#e6f5d0\"], [0.7, \"#b8e186\"], [0.8, \"#7fbc41\"], [0.9, \"#4d9221\"], [1, \"#276419\"]], \"sequential\": [[0.0, \"#0d0887\"], [0.1111111111111111, \"#46039f\"], [0.2222222222222222, \"#7201a8\"], [0.3333333333333333, \"#9c179e\"], [0.4444444444444444, \"#bd3786\"], [0.5555555555555556, \"#d8576b\"], [0.6666666666666666, \"#ed7953\"], [0.7777777777777778, \"#fb9f3a\"], [0.8888888888888888, \"#fdca26\"], [1.0, \"#f0f921\"]], \"sequentialminus\": [[0.0, \"#0d0887\"], [0.1111111111111111, \"#46039f\"], [0.2222222222222222, \"#7201a8\"], [0.3333333333333333, \"#9c179e\"], [0.4444444444444444, \"#bd3786\"], [0.5555555555555556, \"#d8576b\"], [0.6666666666666666, \"#ed7953\"], [0.7777777777777778, \"#fb9f3a\"], [0.8888888888888888, \"#fdca26\"], [1.0, \"#f0f921\"]]}, \"colorway\": [\"#636efa\", \"#EF553B\", \"#00cc96\", \"#ab63fa\", \"#FFA15A\", \"#19d3f3\", \"#FF6692\", \"#B6E880\", \"#FF97FF\", \"#FECB52\"], \"font\": {\"color\": \"#2a3f5f\"}, \"geo\": {\"bgcolor\": \"white\", \"lakecolor\": \"white\", \"landcolor\": \"#E5ECF6\", \"showlakes\": true, \"showland\": true, \"subunitcolor\": \"white\"}, \"hoverlabel\": {\"align\": \"left\"}, \"hovermode\": \"closest\", \"mapbox\": {\"style\": \"light\"}, \"paper_bgcolor\": \"white\", \"plot_bgcolor\": \"#E5ECF6\", \"polar\": {\"angularaxis\": {\"gridcolor\": \"white\", \"linecolor\": \"white\", \"ticks\": \"\"}, \"bgcolor\": \"#E5ECF6\", \"radialaxis\": {\"gridcolor\": \"white\", \"linecolor\": \"white\", \"ticks\": \"\"}}, \"scene\": {\"xaxis\": {\"backgroundcolor\": \"#E5ECF6\", \"gridcolor\": \"white\", \"gridwidth\": 2, \"linecolor\": \"white\", \"showbackground\": true, \"ticks\": \"\", \"zerolinecolor\": \"white\"}, \"yaxis\": {\"backgroundcolor\": \"#E5ECF6\", \"gridcolor\": \"white\", \"gridwidth\": 2, \"linecolor\": \"white\", \"showbackground\": true, \"ticks\": \"\", \"zerolinecolor\": \"white\"}, \"zaxis\": {\"backgroundcolor\": \"#E5ECF6\", \"gridcolor\": \"white\", \"gridwidth\": 2, \"linecolor\": \"white\", \"showbackground\": true, \"ticks\": \"\", \"zerolinecolor\": \"white\"}}, \"shapedefaults\": {\"line\": {\"color\": \"#2a3f5f\"}}, \"ternary\": {\"aaxis\": {\"gridcolor\": \"white\", \"linecolor\": \"white\", \"ticks\": \"\"}, \"baxis\": {\"gridcolor\": \"white\", \"linecolor\": \"white\", \"ticks\": \"\"}, \"bgcolor\": \"#E5ECF6\", \"caxis\": {\"gridcolor\": \"white\", \"linecolor\": \"white\", \"ticks\": \"\"}}, \"title\": {\"x\": 0.05}, \"xaxis\": {\"automargin\": true, \"gridcolor\": \"white\", \"linecolor\": \"white\", \"ticks\": \"\", \"title\": {\"standoff\": 15}, \"zerolinecolor\": \"white\", \"zerolinewidth\": 2}, \"yaxis\": {\"automargin\": true, \"gridcolor\": \"white\", \"linecolor\": \"white\", \"ticks\": \"\", \"title\": {\"standoff\": 15}, \"zerolinecolor\": \"white\", \"zerolinewidth\": 2}}}, \"title\": {\"font\": {\"color\": \"#4D5663\"}, \"text\": \"Top 100 bigrams after removing stop words\"}, \"xaxis\": {\"gridcolor\": \"#E1E5ED\", \"linecolor\": \"black\", \"showgrid\": true, \"tickfont\": {\"color\": \"#4D5663\"}, \"title\": {\"font\": {\"color\": \"#4D5663\"}, \"text\": \"\"}, \"zerolinecolor\": \"#E1E5ED\"}, \"yaxis\": {\"gridcolor\": \"#E1E5ED\", \"linecolor\": \"black\", \"showgrid\": true, \"tickfont\": {\"color\": \"#4D5663\"}, \"title\": {\"font\": {\"color\": \"#4D5663\"}, \"text\": \"Count\"}, \"zerolinecolor\": \"#E1E5ED\"}},                        {\"showLink\": true, \"linkText\": \"Export to plot.ly\", \"plotlyServerURL\": \"https://plot.ly\", \"responsive\": true}                    ).then(function(){\n",
       "                            \n",
       "var gd = document.getElementById('002a2be8-aae1-4087-a6db-adac44e821b8');\n",
       "var x = new MutationObserver(function (mutations, observer) {{\n",
       "        var display = window.getComputedStyle(gd).display;\n",
       "        if (!display || display === 'none') {{\n",
       "            console.log([gd, 'removed!']);\n",
       "            Plotly.purge(gd);\n",
       "            observer.disconnect();\n",
       "        }}\n",
       "}});\n",
       "\n",
       "// Listen for the removal of the full notebook cells\n",
       "var notebookContainer = gd.closest('#notebook-container');\n",
       "if (notebookContainer) {{\n",
       "    x.observe(notebookContainer, {childList: true});\n",
       "}}\n",
       "\n",
       "// Listen for the clearing of the current output cell\n",
       "var outputEl = gd.closest('.output');\n",
       "if (outputEl) {{\n",
       "    x.observe(outputEl, {childList: true});\n",
       "}}\n",
       "\n",
       "                        })                };                });            </script>        </div>"
      ]
     },
     "metadata": {},
     "output_type": "display_data"
    }
   ],
   "source": [
    "plot_model(plot = 'bigram')"
   ]
  },
  {
   "cell_type": "code",
   "execution_count": 13,
   "id": "corrected-borough",
   "metadata": {},
   "outputs": [],
   "source": [
    "#plot_model(lda, plot = 'frequency', topic_num = 'Topic 4')"
   ]
  },
  {
   "cell_type": "code",
   "execution_count": 14,
   "id": "joined-relaxation",
   "metadata": {},
   "outputs": [
    {
     "data": {
      "text/html": [
       "        <script type=\"text/javascript\">\n",
       "        window.PlotlyConfig = {MathJaxConfig: 'local'};\n",
       "        if (window.MathJax) {MathJax.Hub.Config({SVG: {font: \"STIX-Web\"}});}\n",
       "        if (typeof require !== 'undefined') {\n",
       "        require.undef(\"plotly\");\n",
       "        requirejs.config({\n",
       "            paths: {\n",
       "                'plotly': ['https://cdn.plot.ly/plotly-latest.min']\n",
       "            }\n",
       "        });\n",
       "        require(['plotly'], function(Plotly) {\n",
       "            window._Plotly = Plotly;\n",
       "        });\n",
       "        }\n",
       "        </script>\n",
       "        "
      ]
     },
     "metadata": {},
     "output_type": "display_data"
    },
    {
     "data": {
      "application/vnd.plotly.v1+json": {
       "config": {
        "plotlyServerURL": "https://plot.ly"
       },
       "data": [
        {
         "hovertemplate": "Dominant_Topic=Topic 112<br>0=%{x}<br>1=%{y}<br>2=%{z}<extra></extra>",
         "legendgroup": "Topic 112",
         "marker": {
          "color": "#636efa",
          "opacity": 0.7,
          "symbol": "circle"
         },
         "mode": "markers",
         "name": "Topic 112",
         "scene": "scene",
         "showlegend": true,
         "type": "scatter3d",
         "x": [
          7.589839935302734,
          10.601907730102539,
          8.296902656555176,
          10.601907730102539,
          10.601907730102539
         ],
         "y": [
          4.578781604766846,
          -1.8174724578857422,
          2.075068950653076,
          -1.8174723386764526,
          -1.8174723386764526
         ],
         "z": [
          -0.0599411241710186,
          -5.775388717651367,
          -4.6697282791137695,
          -5.775388717651367,
          -5.775388717651367
         ]
        },
        {
         "hovertemplate": "Dominant_Topic=Topic 113<br>0=%{x}<br>1=%{y}<br>2=%{z}<extra></extra>",
         "legendgroup": "Topic 113",
         "marker": {
          "color": "#EF553B",
          "opacity": 0.7,
          "symbol": "circle"
         },
         "mode": "markers",
         "name": "Topic 113",
         "scene": "scene",
         "showlegend": true,
         "type": "scatter3d",
         "x": [
          12.266073226928711,
          12.240767478942871,
          0.4560971260070801,
          0.4560944736003876
         ],
         "y": [
          -0.8615174293518066,
          -0.3696887791156769,
          2.2169876098632812,
          2.2170591354370117
         ],
         "z": [
          2.5274622440338135,
          2.4277658462524414,
          -1.5715008974075317,
          -1.5715012550354004
         ]
        },
        {
         "hovertemplate": "Dominant_Topic=Topic 119<br>0=%{x}<br>1=%{y}<br>2=%{z}<extra></extra>",
         "legendgroup": "Topic 119",
         "marker": {
          "color": "#00cc96",
          "opacity": 0.7,
          "symbol": "circle"
         },
         "mode": "markers",
         "name": "Topic 119",
         "scene": "scene",
         "showlegend": true,
         "type": "scatter3d",
         "x": [
          6.888221740722656,
          6.888221740722656,
          6.888221740722656,
          6.888221740722656,
          6.888221740722656,
          6.888221740722656,
          6.888221740722656,
          -2.9193999767303467,
          6.888221740722656,
          -2.4421026706695557,
          6.888221740722656,
          -1.7309650182724,
          -2.6083383560180664,
          6.888221740722656,
          6.888221740722656,
          6.888221740722656,
          6.888221740722656,
          6.888221740722656,
          6.888221740722656,
          -14.7694673538208,
          6.888221740722656,
          6.888221740722656,
          6.888221740722656,
          6.888221740722656,
          6.888221740722656,
          6.888221740722656,
          6.888221740722656,
          6.888221740722656,
          6.888221740722656,
          6.888221740722656,
          6.888221740722656,
          6.888221740722656,
          6.888221740722656,
          6.888221740722656,
          6.888221740722656,
          6.888221740722656,
          -2.5829758644104004,
          -2.5829901695251465,
          -2.5829718112945557,
          -1.967608094215393,
          -1.9676191806793213,
          12.358633041381836,
          6.888221740722656,
          12.358633041381836,
          6.888221740722656,
          6.888221740722656,
          0.5455360412597656,
          0.5455306172370911,
          6.888221740722656,
          6.888221740722656,
          6.888221740722656,
          -9.127022743225098,
          -2.7799201011657715,
          -2.510312080383301,
          5.268854141235352,
          -5.737574100494385,
          6.888221740722656,
          6.888221740722656,
          6.888221740722656,
          14.100688934326172,
          14.101031303405762,
          7.7283430099487305,
          7.728348255157471,
          7.728348255157471,
          -3.1827950477600098,
          -2.7799201011657715,
          6.888221740722656,
          0.5455241203308105,
          6.888221740722656,
          6.888221740722656,
          7.86851692199707,
          6.888221740722656,
          6.888221740722656,
          6.888221740722656,
          6.888221740722656,
          13.14352798461914,
          13.143082618713379,
          1.0023366212844849,
          3.590411424636841,
          2.185650110244751,
          1.6916699409484863,
          6.888221740722656,
          2.4014883041381836,
          0.3517473340034485,
          2.4152002334594727,
          1.8595116138458252,
          6.888221740722656,
          -6.058663368225098,
          6.888221740722656,
          -9.712403297424316,
          -9.971246719360352,
          -5.706558704376221,
          6.888221740722656,
          1.1180285215377808,
          7.858182907104492,
          6.854085922241211,
          6.854085922241211,
          0.375014066696167,
          -9.57210922241211,
          -3.5122225284576416,
          -2.8458964824676514,
          12.156477928161621,
          12.6461763381958,
          12.563009262084961,
          12.18883991241455,
          12.780364036560059,
          12.91558837890625,
          11.83934497833252,
          6.888221740722656,
          6.888221740722656,
          6.888221740722656,
          6.888221740722656,
          6.888221740722656,
          6.888221740722656,
          6.888221740722656,
          6.888221740722656,
          6.888221740722656,
          -9.03252124786377,
          0.64166659116745,
          6.888221740722656,
          -8.38464069366455,
          -2.4097812175750732,
          2.012598752975464,
          -1.1924989223480225,
          13.66798210144043,
          0.4808479845523834,
          13.133092880249023,
          -0.31506800651550293,
          1.1480945348739624,
          8.704483032226562,
          10.798393249511719,
          0.22581210732460022,
          6.888221740722656,
          11.454488754272461,
          11.455517768859863,
          -9.550487518310547,
          -9.218045234680176,
          9.65965747833252,
          2.4080843925476074,
          3.875549554824829,
          1.0977520942687988,
          2.3300156593322754,
          -9.775070190429688,
          -3.5668673515319824,
          11.455340385437012,
          6.854085922241211,
          -5.4791693687438965,
          9.946426391601562,
          6.854085922241211,
          6.854085922241211,
          -8.657999992370605,
          -9.485100746154785,
          6.854085922241211,
          -3.583249807357788,
          6.854085922241211,
          6.854085922241211,
          6.854085922241211,
          6.854085922241211,
          6.854085922241211,
          6.854085922241211,
          6.854085922241211,
          6.854085922241211,
          6.854085922241211,
          6.854085922241211,
          -7.957895278930664,
          -7.957895278930664,
          10.03012466430664,
          6.854085922241211,
          6.888221740722656,
          6.888221740722656,
          1.9489796161651611,
          1.9477238655090332,
          6.888221740722656,
          9.29463005065918,
          6.888221740722656,
          6.888221740722656,
          4.817260265350342,
          4.817260265350342,
          13.33035659790039,
          -6.658857345581055,
          -6.787492275238037,
          6.888221740722656,
          6.888221740722656,
          9.59959602355957,
          0.3442535698413849,
          6.888221740722656,
          6.888221740722656,
          6.888221740722656,
          6.888221740722656,
          6.888221740722656,
          6.888221740722656,
          6.888221740722656,
          6.888221740722656,
          6.888221740722656,
          0.64166659116745,
          0.3441382050514221,
          -10.866701126098633,
          -2.790027618408203,
          -10.866701126098633,
          -1.5193054676055908,
          6.888221740722656,
          6.888221740722656,
          0.37438565492630005,
          0.06077120453119278,
          0.8945746421813965,
          0.688552737236023,
          0.031323742121458054,
          0.5861276984214783,
          0.0457773357629776,
          6.888221740722656,
          6.888221740722656,
          6.888221740722656,
          6.888221740722656,
          6.888221740722656,
          6.888221740722656,
          6.888221740722656,
          -9.579566955566406,
          -9.716662406921387,
          -9.255722999572754,
          -8.941614151000977,
          -1.1627817153930664,
          -1.3551932573318481,
          -1.5513584613800049,
          -1.1194062232971191,
          12.358633041381836,
          12.358633041381836,
          11.615464210510254,
          11.615464210510254,
          11.615464210510254,
          11.997786521911621,
          11.68776798248291,
          -2.302018404006958,
          -2.302018404006958,
          -2.3020179271698,
          -8.685428619384766,
          -2.3020179271698,
          -0.8145492672920227,
          -0.814559817314148,
          -0.8145492672920227,
          -0.814559817314148,
          -1.5513584613800049,
          -1.4940643310546875,
          -1.5193054676055908,
          -1.1380048990249634,
          -1.2726460695266724,
          -1.5513584613800049,
          -0.8145597577095032,
          -10.095261573791504,
          -8.758849143981934,
          -9.691923141479492,
          3.1519246101379395,
          6.888221740722656,
          6.888221740722656,
          6.888221740722656,
          6.888221740722656,
          6.888221740722656,
          -9.822702407836914,
          -8.621432304382324,
          6.888221740722656,
          6.888221740722656,
          6.888221740722656,
          6.888221740722656,
          6.888221740722656,
          6.888221740722656,
          6.888221740722656,
          6.888221740722656,
          6.888221740722656,
          6.888221740722656,
          -8.718964576721191,
          -8.718843460083008,
          6.888221740722656,
          3.1519181728363037,
          6.888221740722656,
          -4.207769870758057,
          6.888221740722656,
          -8.396490097045898,
          6.888221740722656,
          6.888221740722656,
          6.888221740722656,
          -10.1318359375,
          -13.925826072692871,
          -13.925826072692871,
          -13.925826072692871,
          6.888221740722656,
          6.888221740722656,
          -8.657999992370605,
          1.0007916688919067,
          1.187185287475586,
          0.81002277135849,
          0.686622142791748,
          1.1143089532852173,
          -3.041083574295044,
          6.888221740722656,
          6.888221740722656,
          6.888221740722656,
          6.888221740722656,
          6.888221740722656,
          0.81002277135849,
          -10.866701126098633,
          -3.1827950477600098,
          -3.634904384613037,
          5.602108478546143,
          -13.925891876220703,
          -13.925891876220703,
          6.888221740722656,
          -3.1827950477600098,
          5.260534286499023,
          6.491314888000488,
          -6.379298210144043,
          -6.792399883270264,
          -6.139725208282471,
          -6.06045389175415,
          -6.70720911026001,
          -6.361310958862305,
          -6.488392353057861,
          -6.151949405670166,
          1.9482307434082031,
          6.2241339683532715,
          7.390587329864502,
          4.688227653503418,
          6.046148300170898,
          0.6275201439857483,
          6.888221740722656,
          9.043006896972656,
          9.352086067199707,
          8.080177307128906,
          11.665199279785156,
          6.888221740722656,
          6.888221740722656,
          -0.8724105358123779,
          8.665950775146484,
          -3.283801317214966,
          -2.4713921546936035,
          9.399272918701172,
          9.671149253845215,
          8.851174354553223,
          -2.4587314128875732,
          9.03912353515625,
          -2.6733224391937256,
          -4.28942346572876,
          -4.28942346572876,
          -4.28988790512085,
          -2.3083741664886475,
          -2.97438645362854,
          -1.8957374095916748,
          -2.9088733196258545,
          -2.328352689743042,
          -2.869593381881714,
          9.003618240356445,
          -2.5150129795074463,
          -3.5102598667144775,
          7.150829315185547,
          -1.8567787408828735,
          6.867823123931885,
          6.424615383148193,
          -2.5006701946258545,
          5.574891567230225,
          7.188009738922119,
          5.924535751342773,
          6.310206413269043,
          11.855875015258789,
          -11.021790504455566,
          4.85076379776001,
          5.048711776733398,
          4.066309928894043,
          5.416826248168945,
          3.8387579917907715,
          -2.9485409259796143,
          -3.136716604232788,
          -3.5663487911224365,
          -3.3512775897979736,
          -3.1640801429748535,
          -3.321368932723999,
          3.151897668838501,
          -4.322159290313721,
          -0.6878892779350281,
          6.6746978759765625,
          0.3063803017139435,
          4.813299179077148,
          11.226900100708008,
          8.683582305908203,
          7.3170318603515625,
          6.574981689453125,
          9.438017845153809,
          9.438017845153809,
          5.006223201751709,
          5.1697564125061035,
          -2.790027618408203,
          6.370095729827881,
          6.477390766143799,
          8.287866592407227,
          -2.8574142456054688,
          11.886021614074707,
          12.079452514648438,
          11.561676025390625,
          12.521722793579102,
          12.521721839904785,
          7.5022101402282715,
          8.105494499206543,
          5.8070759773254395,
          11.348073959350586,
          11.886021614074707,
          6.888221740722656,
          -9.359294891357422,
          -8.713611602783203,
          -8.14167308807373,
          -10.899157524108887,
          -7.8266448974609375,
          5.228274822235107,
          1.586830735206604,
          -1.0832101106643677,
          0.2912113666534424,
          3.137803316116333,
          2.288811683654785,
          11.627880096435547,
          8.833495140075684,
          7.30168342590332,
          7.132085800170898,
          8.332073211669922,
          8.332073211669922,
          7.6029558181762695,
          5.015594959259033,
          11.836440086364746,
          6.488894939422607,
          -8.532792091369629,
          -8.837076187133789,
          -10.129023551940918,
          -9.845020294189453,
          -7.655184745788574,
          -10.289177894592285,
          -7.333178997039795,
          -13.149139404296875,
          -12.97205638885498,
          -8.12594223022461,
          -7.038399696350098,
          -10.590357780456543,
          -8.407317161560059,
          -7.019259929656982,
          8.119144439697266,
          -9.328899383544922,
          -11.114350318908691,
          -6.716909885406494,
          -9.634468078613281,
          -7.7141804695129395,
          -9.642335891723633,
          -8.957928657531738,
          -10.96280288696289,
          -13.250323295593262,
          -8.08659839630127,
          -10.85881519317627,
          -10.55884075164795,
          -7.8308491706848145,
          4.249183177947998,
          4.249183177947998,
          6.888221740722656,
          6.888221740722656,
          6.888221740722656,
          6.888221740722656,
          6.888221740722656,
          6.888221740722656,
          6.888221740722656,
          6.888221740722656,
          6.888221740722656,
          6.888221740722656,
          6.888221740722656,
          6.888221740722656,
          6.888221740722656,
          6.888221740722656,
          6.888221740722656,
          6.888221740722656,
          6.888221740722656,
          6.888221740722656,
          6.888221740722656,
          6.888221740722656,
          6.888221740722656,
          6.888221740722656,
          6.888221740722656,
          6.888221740722656,
          6.888221740722656,
          0.7426660656929016,
          0.2912113666534424,
          1.4742822647094727,
          -0.6809741258621216,
          3.972775459289551,
          3.7649083137512207,
          3.0648090839385986,
          5.417680740356445,
          3.3827037811279297,
          12.269402503967285,
          4.249183177947998,
          6.888221740722656,
          6.888221740722656,
          6.888221740722656,
          6.888221740722656,
          6.888221740722656,
          6.888221740722656,
          6.888221740722656,
          6.888221740722656,
          6.888221740722656,
          6.888221740722656,
          6.888221740722656,
          6.888221740722656,
          6.888221740722656,
          -7.430106163024902,
          -12.832483291625977,
          -0.43730661273002625,
          1.9795119762420654,
          0.4076686203479767,
          0.1098555251955986,
          -0.04532655328512192,
          0.2213781177997589,
          1.1144170761108398,
          1.7998182773590088,
          -0.6708093285560608,
          -0.1334851235151291,
          -0.4009210765361786,
          1.0099284648895264,
          -0.06276531517505646,
          2.288811683654785,
          2.0130844116210938,
          2.0130844116210938,
          8.833495140075684,
          -0.19690939784049988,
          3.972775459289551,
          8.833495140075684,
          8.833495140075684,
          1.5937283039093018,
          0.4188206195831299,
          2.678226947784424,
          0.8056695461273193,
          5.520002841949463,
          6.6970086097717285,
          3.8194823265075684,
          4.321965217590332,
          6.3144402503967285,
          0.6091107130050659,
          -0.11403294652700424,
          2.2286629676818848,
          2.0959267616271973,
          3.335787296295166,
          8.833495140075684,
          2.773585557937622,
          2.423377275466919,
          1.4818295240402222,
          1.0505223274230957,
          0.6395970582962036,
          0.3781677186489105,
          1.3556172847747803,
          0.4468795359134674,
          0.9049922227859497,
          1.457291603088379,
          2.4311230182647705,
          3.195718765258789,
          -8.992812156677246,
          5.111663341522217,
          5.111663341522217,
          -0.1930875927209854,
          0.03826388716697693,
          -0.7319663166999817,
          -0.1673181802034378,
          0.949152410030365,
          3.3827037811279297,
          1.5148977041244507,
          3.972775459289551,
          2.0130844116210938,
          -9.153217315673828,
          -7.352902412414551,
          -10.20395565032959,
          -9.767626762390137,
          -9.750883102416992,
          -10.346920013427734,
          -7.362776756286621,
          -12.847532272338867,
          -13.186777114868164,
          -10.952589988708496,
          -8.315813064575195,
          -13.20405387878418,
          0.5559406280517578,
          2.683699131011963,
          3.3657095432281494,
          2.8446223735809326,
          5.111663341522217,
          5.891058921813965,
          3.016427993774414,
          6.741623878479004,
          6.741623878479004,
          4.121829509735107,
          4.121829509735107,
          2.003183126449585,
          4.121829509735107,
          6.7981767654418945,
          5.111663341522217,
          1.156395673751831,
          2.634683847427368,
          -0.5027170181274414,
          1.6992887258529663,
          3.529747724533081,
          3.8403449058532715,
          3.174067258834839,
          -0.09045453369617462,
          2.479231357574463,
          3.8798205852508545,
          3.1864423751831055,
          3.3135788440704346,
          6.888221740722656,
          6.888221740722656,
          6.888221740722656,
          11.877521514892578,
          11.765071868896484,
          11.430551528930664,
          12.879343032836914,
          12.109829902648926,
          1.8270171880722046,
          1.8270201683044434,
          1.8270145654678345,
          6.888221740722656,
          6.888221740722656,
          6.888221740722656,
          6.888221740722656,
          6.888221740722656,
          -6.312211036682129,
          6.888221740722656,
          6.888221740722656,
          9.31540298461914,
          6.888221740722656,
          6.888221740722656,
          6.888221740722656,
          -3.2202770709991455,
          6.888221740722656,
          6.888221740722656,
          6.888221740722656,
          6.888221740722656,
          6.888221740722656,
          6.888221740722656,
          6.888221740722656,
          6.888221740722656,
          6.888221740722656,
          6.888221740722656,
          6.888221740722656,
          6.888221740722656,
          -0.26992473006248474,
          -0.2771354019641876,
          0.33721446990966797,
          -0.12734131515026093,
          0.2423449456691742,
          6.888221740722656,
          -8.507006645202637,
          -2.635577440261841,
          -3.143204927444458,
          -8.462246894836426,
          6.888221740722656,
          6.888221740722656,
          6.888221740722656,
          6.888221740722656,
          2.1193299293518066,
          6.888221740722656,
          11.120656967163086,
          11.1206636428833,
          0.04420797899365425,
          3.866184711456299,
          7.045034885406494,
          -10.859353065490723,
          -10.860071182250977,
          -10.8600492477417,
          -10.859891891479492,
          -3.8373587131500244,
          -3.836920738220215,
          -10.866700172424316,
          10.96237850189209,
          -2.11032772064209,
          12.016799926757812,
          10.304147720336914,
          5.710884094238281,
          11.264031410217285,
          11.770407676696777,
          11.997702598571777,
          11.886021614074707,
          11.665199279785156,
          11.425700187683105,
          12.53159236907959,
          -1.9078538417816162,
          6.0884270668029785,
          12.222352981567383,
          6.888221740722656,
          6.888221740722656,
          -4.1107869148254395,
          -4.110791206359863,
          -4.110779762268066,
          -4.110795021057129,
          6.888221740722656,
          6.888221740722656,
          6.888221740722656,
          9.889806747436523,
          11.1206636428833,
          9.946426391601562,
          6.888221740722656,
          -3.2913758754730225,
          -8.56464672088623,
          -8.941715240478516,
          -3.0128841400146484,
          4.943794250488281,
          5.209795951843262,
          5.01572322845459,
          6.888221740722656,
          6.888221740722656,
          -8.560369491577148,
          6.888221740722656,
          6.888221740722656,
          6.888221740722656,
          6.888221740722656,
          6.888221740722656,
          6.888221740722656,
          6.888221740722656,
          6.888221740722656,
          6.888221740722656,
          6.888221740722656,
          6.888221740722656,
          6.888221740722656,
          -9.072927474975586,
          9.31540298461914,
          6.888221740722656,
          6.888221740722656,
          6.888221740722656,
          6.888221740722656,
          6.888221740722656,
          6.888221740722656,
          6.888221740722656,
          0.21529734134674072,
          6.888221740722656,
          6.888221740722656,
          6.888221740722656,
          3.972775459289551,
          4.086582183837891,
          3.972775459289551,
          6.888221740722656,
          7.819960117340088,
          7.3314127922058105,
          9.669376373291016,
          4.210511684417725,
          12.08775520324707,
          1.8567637205123901,
          9.242231369018555,
          0.35006922483444214,
          4.753996849060059,
          6.888221740722656,
          4.7583770751953125,
          9.927833557128906,
          1.8567637205123901,
          1.8567637205123901,
          2.0130844116210938,
          3.972775459289551,
          2.0130844116210938,
          3.972775459289551,
          9.242231369018555,
          3.972775459289551,
          2.0130844116210938,
          9.927833557128906,
          6.888221740722656,
          6.888221740722656,
          6.888221740722656,
          3.922741174697876,
          3.5425519943237305,
          8.65871810913086,
          6.888221740722656,
          9.025789260864258,
          6.888221740722656,
          6.888221740722656,
          6.888221740722656,
          6.888221740722656,
          -10.007412910461426,
          -0.31675970554351807,
          -2.981855869293213,
          6.888221740722656,
          6.888221740722656,
          -11.069097518920898,
          6.888221740722656,
          6.888221740722656,
          6.888221740722656,
          -8.95897102355957,
          -8.963106155395508,
          6.888221740722656,
          6.888221740722656,
          6.888221740722656,
          11.886021614074707,
          1.780638337135315,
          -0.34552162885665894,
          6.888221740722656,
          6.888221740722656,
          6.888221740722656,
          -2.5107014179229736,
          -2.358931541442871,
          -12.913381576538086,
          -12.913501739501953,
          -12.913434028625488,
          -0.3153025209903717,
          0.6168912649154663,
          2.816587448120117,
          2.9078519344329834,
          -0.8599304556846619,
          2.218587636947632,
          2.0212554931640625,
          1.0560879707336426,
          1.192860722541809,
          -0.6603801250457764,
          1.799850583076477,
          2.917590856552124,
          0.8027674555778503,
          0.7427608370780945,
          1.3920128345489502,
          6.888221740722656,
          4.3060784339904785,
          6.888221740722656,
          8.437177658081055,
          8.523247718811035,
          9.601314544677734,
          12.163856506347656,
          6.888221740722656,
          6.888221740722656,
          13.14553451538086,
          13.513501167297363,
          7.2929253578186035,
          9.318891525268555,
          7.292923450469971,
          7.292924404144287,
          7.292924880981445,
          10.547826766967773,
          0.8355063199996948,
          0.8355063199996948,
          -1.1960573196411133,
          13.23680305480957,
          1.641762137413025,
          12.187294960021973,
          7.292924404144287,
          8.714410781860352,
          8.55070686340332,
          8.934928894042969,
          0.17330029606819153,
          0.17793385684490204,
          6.888221740722656,
          -0.8213515877723694,
          1.8416898250579834,
          -0.4108388423919678,
          0.2020050585269928,
          1.9093024730682373,
          0.1835068315267563,
          0.3604370951652527,
          -1.4560317993164062,
          -1.4560317993164062,
          13.142783164978027,
          13.14349365234375,
          13.143031120300293,
          13.143760681152344,
          9.390009880065918,
          9.498147010803223,
          9.184629440307617,
          8.894257545471191,
          8.934928894042969,
          3.1872525215148926,
          4.736060619354248,
          7.242725849151611,
          10.23798656463623,
          6.888221740722656,
          6.888221740722656,
          1.0964276790618896,
          -5.841548442840576,
          -1.1607344150543213,
          14.683834075927734,
          14.683834075927734,
          6.888221740722656,
          5.184689044952393,
          6.888221740722656,
          3.153298854827881,
          1.9486597776412964,
          6.888221740722656,
          -3.605074882507324,
          -3.605074167251587,
          -3.605074405670166,
          -1.228965163230896,
          -1.228360891342163,
          -1.2295479774475098,
          -2.906399726867676,
          6.888221740722656,
          -0.26888057589530945,
          1.2312222719192505,
          -1.2978907823562622,
          -9.850473403930664,
          11.555719375610352,
          5.320863723754883,
          11.121857643127441,
          10.96237850189209,
          -0.7467215061187744,
          -0.7467594146728516,
          -0.746721625328064,
          -0.7467215061187744,
          -0.746719241142273,
          -0.7467215657234192,
          -0.7467814087867737,
          6.876062870025635,
          1.5835729837417603,
          11.625165939331055,
          5.3176655769348145,
          10.047127723693848,
          6.854085922241211,
          6.888221740722656,
          10.359582901000977,
          -2.748668670654297,
          -3.224493980407715,
          0.09310173988342285,
          1.4109013080596924,
          2.362042188644409,
          -3.304457426071167,
          -0.12180419266223907,
          -0.12146591395139694,
          -4.950551509857178,
          -4.950551509857178,
          -4.9505696296691895,
          1.4588289260864258,
          1.4588289260864258,
          1.4588288068771362,
          1.4588290452957153,
          8.597098350524902,
          7.206269264221191,
          5.607246398925781,
          5.984593868255615,
          4.659250736236572,
          4.072778224945068,
          5.37150239944458,
          7.1747565269470215,
          5.79399299621582,
          11.317917823791504,
          11.861235618591309,
          11.317917823791504,
          6.731515884399414,
          12.016857147216797,
          -2.218561887741089,
          -2.6049916744232178,
          6.888221740722656,
          6.888221740722656,
          6.888221740722656,
          6.888221740722656,
          6.888221740722656,
          6.888221740722656,
          6.888221740722656,
          6.888221740722656,
          6.888221740722656,
          6.888221740722656,
          6.888221740722656,
          6.888221740722656,
          6.888221740722656,
          6.888221740722656,
          6.888221740722656,
          6.888221740722656,
          6.888221740722656,
          6.888221740722656,
          6.888221740722656,
          6.888221740722656,
          8.649908065795898,
          -1.6994959115982056,
          6.888221740722656,
          12.396185874938965,
          1.9518907070159912,
          5.418790340423584,
          5.755183696746826,
          6.077685832977295,
          4.190618991851807,
          4.097253799438477,
          4.137821197509766,
          5.069486141204834,
          7.113370418548584,
          4.374826431274414,
          5.105213165283203,
          5.396721839904785,
          -0.609192967414856,
          10.044288635253906,
          2.0130844116210938,
          -2.96576189994812,
          -3.2907180786132812,
          -3.5035314559936523,
          -3.409090995788574,
          -3.1929702758789062,
          -1.9199895858764648,
          -2.4621260166168213,
          6.471330642700195,
          1.9542738199234009,
          6.310590744018555,
          4.628793239593506,
          -2.8994171619415283,
          11.571539878845215,
          12.65602970123291,
          4.72500467300415,
          11.615464210510254,
          5.278641700744629,
          7.872447967529297,
          4.523858070373535,
          7.760659217834473,
          5.3922648429870605,
          -1.4560325145721436,
          -1.4560325145721436,
          -1.456032395362854,
          -1.4560325145721436,
          6.8554911613464355,
          5.8441314697265625,
          8.121662139892578,
          4.178103923797607,
          -1.9233874082565308,
          -1.9680376052856445,
          -3.22841215133667,
          6.361014366149902,
          6.888221740722656,
          -0.08392585068941116,
          6.888221740722656,
          0.036073435097932816,
          0.03602400794625282,
          -6.648479461669922,
          -7.6872076988220215,
          -7.417072296142578,
          -8.384337425231934,
          -8.96552562713623,
          -11.250537872314453,
          -10.363242149353027,
          -7.151974201202393,
          -7.887146472930908,
          -10.52499008178711,
          -11.49615478515625,
          -10.728286743164062,
          -10.174278259277344,
          -13.264467239379883,
          -9.802963256835938,
          -13.166716575622559,
          -9.677943229675293,
          -10.363821029663086,
          -7.023138999938965,
          3.659907579421997,
          -11.270465850830078,
          3.5811376571655273,
          3.917600393295288,
          6.888221740722656,
          6.888221740722656,
          4.948117256164551,
          5.278843402862549,
          5.047817707061768,
          5.3185014724731445,
          6.888221740722656,
          6.888221740722656,
          0.8332197666168213,
          0.8340286016464233,
          0.833495557308197,
          -10.393546104431152,
          -10.392427444458008,
          6.888221740722656,
          6.888221740722656,
          6.888221740722656,
          3.918870210647583,
          3.6356430053710938,
          3.6531565189361572,
          3.9533400535583496,
          3.837782621383667,
          3.654834032058716,
          6.888221740722656,
          -8.480036735534668,
          -8.710612297058105,
          -15.618197441101074,
          -14.873066902160645,
          -14.819852828979492,
          -14.558762550354004,
          -15.522563934326172,
          -14.440272331237793,
          -15.151269912719727,
          -14.911776542663574,
          -14.927781105041504,
          -14.447575569152832,
          -15.285879135131836,
          -15.583433151245117,
          -15.156903266906738,
          -14.61907958984375,
          -14.298846244812012,
          -15.719436645507812,
          -15.385239601135254,
          -14.519464492797852,
          -15.310980796813965,
          -15.457938194274902,
          -15.789155960083008,
          -15.06810474395752,
          -9.120792388916016,
          -8.747236251831055,
          -11.651413917541504,
          -7.606913089752197,
          -8.219603538513184,
          -10.006636619567871,
          -9.435945510864258,
          -8.851521492004395,
          -6.9919023513793945,
          -8.498434066772461,
          -12.72148609161377,
          -12.538785934448242,
          -7.312060832977295,
          -9.319575309753418,
          -8.037342071533203,
          -11.481684684753418,
          -6.819162845611572,
          -12.574969291687012,
          -7.855737686157227,
          -13.145661354064941,
          -7.417252063751221,
          -7.62681770324707,
          -9.160048484802246,
          -7.8940348625183105,
          -9.553339004516602,
          6.888221740722656,
          6.888221740722656,
          6.888221740722656,
          8.776629447937012,
          5.930075168609619,
          4.554286479949951,
          6.878505706787109,
          7.102186679840088,
          4.650831699371338,
          -9.447955131530762,
          7.214592456817627,
          5.571131706237793,
          -4.260506629943848,
          -4.260506629943848,
          11.644697189331055,
          11.644697189331055,
          12.450095176696777,
          11.553302764892578,
          12.75627613067627,
          -3.0029430389404297,
          0.3500717282295227,
          2.13346004486084,
          2.13346004486084,
          2.13346004486084,
          9.000509262084961,
          2.13346004486084,
          7.904260158538818,
          8.404301643371582,
          6.888221740722656,
          -0.05455009266734123,
          2.285348892211914,
          14.100866317749023,
          6.888221740722656,
          6.888221740722656,
          6.208817005157471,
          6.217903137207031,
          6.213079929351807,
          -6.856378078460693,
          -10.893404960632324,
          -10.89338207244873,
          -1.6925013065338135,
          -1.6925013065338135,
          -1.6925013065338135,
          -1.6925015449523926,
          -1.6925013065338135,
          -1.6925013065338135,
          0.83450847864151,
          0.8303717970848083,
          8.10755729675293,
          7.756874084472656,
          6.888221740722656,
          2.1334574222564697,
          2.13346004486084,
          6.888221740722656,
          6.888221740722656,
          6.888221740722656,
          0.1840803623199463,
          0.18407689034938812,
          0.18407689034938812,
          0.18405744433403015,
          0.18405744433403015,
          12.402068138122559,
          5.62544059753418,
          7.045034885406494,
          6.854085922241211,
          6.854085922241211,
          6.854085922241211,
          13.253663063049316,
          11.085232734680176,
          0.8846464157104492,
          2.580524444580078,
          2.8680264949798584,
          9.044473648071289,
          7.852715969085693,
          6.888221740722656,
          2.13346004486084,
          6.888221740722656,
          2.7184014320373535,
          2.1334595680236816,
          5.091468334197998,
          1.8567637205123901,
          1.8567637205123901,
          6.888221740722656,
          6.888221740722656,
          6.888221740722656,
          6.888221740722656,
          6.888221740722656,
          -13.925919532775879,
          -13.925939559936523,
          4.7440104484558105,
          4.746241092681885,
          5.923799991607666,
          9.34520435333252,
          13.27733039855957,
          13.27733039855957,
          14.683834075927734,
          14.68383502960205,
          2.7284979820251465,
          2.7350096702575684,
          2.723620653152466,
          6.888221740722656,
          7.498288154602051,
          6.888221740722656,
          11.903663635253906,
          6.888221740722656,
          9.296868324279785,
          12.358633041381836,
          1.5510773658752441,
          1.3036115169525146,
          -11.452933311462402,
          -11.452930450439453,
          8.11526870727539,
          1.248414158821106,
          1.248414158821106,
          1.5292624235153198,
          6.888221740722656,
          0.8494650721549988,
          8.003826141357422,
          6.888221740722656,
          1.5292624235153198,
          0.9123627543449402,
          -2.8785433769226074,
          -6.033478260040283,
          6.888221740722656,
          -6.962964057922363,
          10.389856338500977,
          6.888221740722656,
          6.888221740722656,
          6.888221740722656,
          6.888221740722656,
          -4.825262069702148,
          -4.8258233070373535,
          -4.825687408447266,
          11.139410972595215,
          0.9287729859352112,
          5.375236988067627,
          13.501997947692871,
          10.106331825256348,
          -0.7124084830284119,
          6.888221740722656,
          6.888221740722656,
          -5.7282891273498535,
          9.723625183105469,
          9.266444206237793,
          9.266444206237793,
          6.888221740722656,
          6.888221740722656,
          6.888221740722656,
          6.888221740722656,
          6.888221740722656,
          6.888221740722656,
          6.888221740722656,
          11.615464210510254,
          11.921111106872559,
          9.266444206237793,
          -10.532825469970703,
          -6.472759246826172,
          6.854085922241211,
          6.888221740722656,
          6.888221740722656,
          9.663188934326172,
          9.663188934326172,
          7.045034885406494,
          10.071979522705078,
          13.361495018005371,
          12.228135108947754,
          6.888221740722656,
          6.854085922241211,
          6.888221740722656,
          -2.3744606971740723,
          6.888221740722656,
          6.888221740722656,
          8.403817176818848,
          7.51150369644165,
          6.888221740722656,
          6.888221740722656,
          6.888221740722656,
          6.888221740722656,
          6.888221740722656,
          6.888221740722656,
          1.1369754076004028,
          6.854085922241211,
          10.101078033447266,
          6.854085922241211,
          9.31540298461914,
          9.31540298461914,
          6.888221740722656,
          9.31540298461914,
          6.888221740722656,
          6.888221740722656,
          6.854085922241211,
          6.854085922241211,
          -8.348137855529785,
          0.9428940415382385,
          -9.443161010742188,
          -8.657999992370605
         ],
         "y": [
          -24.238086700439453,
          -24.238086700439453,
          -24.238086700439453,
          -24.238086700439453,
          -24.238086700439453,
          -24.238086700439453,
          -24.238086700439453,
          12.117598533630371,
          -24.238086700439453,
          12.008749961853027,
          -24.238086700439453,
          10.922186851501465,
          7.53368616104126,
          -24.238086700439453,
          -24.238086700439453,
          -24.238086700439453,
          -24.238086700439453,
          -24.238086700439453,
          -24.238086700439453,
          8.608652114868164,
          -24.238086700439453,
          -24.238086700439453,
          -24.238086700439453,
          -24.238086700439453,
          -24.238086700439453,
          -24.238086700439453,
          -24.238086700439453,
          -24.238086700439453,
          -24.238086700439453,
          -24.238086700439453,
          -24.238086700439453,
          -24.238086700439453,
          -24.238086700439453,
          -24.238086700439453,
          -24.238086700439453,
          -24.238086700439453,
          3.0609402656555176,
          3.060915231704712,
          3.060967445373535,
          10.09682559967041,
          10.096805572509766,
          -2.148054361343384,
          -24.238086700439453,
          -2.148054361343384,
          -24.238086700439453,
          -24.238086700439453,
          19.47795295715332,
          19.477922439575195,
          -24.238086700439453,
          -24.238086700439453,
          -24.238086700439453,
          4.881092548370361,
          -2.499274492263794,
          -2.153136968612671,
          0.3547435402870178,
          4.902307510375977,
          -24.238086700439453,
          -24.238086700439453,
          -24.238086700439453,
          -3.1818673610687256,
          -3.1821818351745605,
          -0.9583215117454529,
          -0.9583255648612976,
          -0.9583262801170349,
          -2.314063787460327,
          -2.499274492263794,
          -24.238086700439453,
          19.477968215942383,
          -24.238086700439453,
          -24.238086700439453,
          -1.4719332456588745,
          -24.238086700439453,
          -24.238086700439453,
          -24.238086700439453,
          -24.238086700439453,
          -1.6752849817276,
          -1.675929307937622,
          -1.9435079097747803,
          -0.48245546221733093,
          0.8337646126747131,
          -0.01696382649242878,
          -24.238086700439453,
          -1.9765509366989136,
          3.93772292137146,
          -1.0000596046447754,
          -0.18793517351150513,
          -24.238086700439453,
          4.5617899894714355,
          -24.238086700439453,
          4.593207836151123,
          5.172070503234863,
          5.100388050079346,
          -24.238086700439453,
          0.8203409314155579,
          -21.64215087890625,
          -17.94243049621582,
          -17.94243049621582,
          17.01090431213379,
          4.9286980628967285,
          -2.5122601985931396,
          -1.994532585144043,
          12.571226119995117,
          11.984437942504883,
          12.16415786743164,
          12.159902572631836,
          13.07099723815918,
          12.666483879089355,
          11.802897453308105,
          -24.238086700439453,
          -24.238086700439453,
          -24.238086700439453,
          -24.238086700439453,
          -24.238086700439453,
          -24.238086700439453,
          -24.238086700439453,
          -24.238086700439453,
          -24.238086700439453,
          4.320491790771484,
          17.214946746826172,
          -24.238086700439453,
          4.690016746520996,
          11.836212158203125,
          -25.695892333984375,
          -23.294408798217773,
          -21.204187393188477,
          -23.13657569885254,
          -18.499677658081055,
          -21.499374389648438,
          -24.13187026977539,
          -20.468015670776367,
          -17.660083770751953,
          -23.83047103881836,
          -24.238086700439453,
          12.213712692260742,
          12.214322090148926,
          4.0447492599487305,
          4.618398189544678,
          -22.46876335144043,
          -26.990432739257812,
          -23.20368766784668,
          -15.488012313842773,
          -24.51089096069336,
          -1.0985300540924072,
          11.297019004821777,
          12.21424674987793,
          -17.94243049621582,
          0.00599683215841651,
          -0.5277196168899536,
          -17.94243049621582,
          -17.94243049621582,
          3.578550338745117,
          3.812551259994507,
          -17.94243049621582,
          7.686464786529541,
          -17.94243049621582,
          -17.94243049621582,
          -17.94243049621582,
          -17.94243049621582,
          -17.94243049621582,
          -17.94243049621582,
          -17.94243049621582,
          -17.94243049621582,
          -17.94243049621582,
          -17.94243049621582,
          -1.2950915098190308,
          -1.2950917482376099,
          -0.9953165650367737,
          -17.94243049621582,
          -24.238086700439453,
          -24.238086700439453,
          -13.137863159179688,
          -13.137714385986328,
          -24.238086700439453,
          -1.5350341796875,
          -24.238086700439453,
          -24.238086700439453,
          5.725059986114502,
          5.725059509277344,
          -2.109182596206665,
          5.0820794105529785,
          5.412647724151611,
          -24.238086700439453,
          -24.238086700439453,
          -0.22144964337348938,
          16.104232788085938,
          -24.238086700439453,
          -24.238086700439453,
          -24.238086700439453,
          -24.238086700439453,
          -24.238086700439453,
          -24.238086700439453,
          -24.238086700439453,
          -24.238086700439453,
          -24.238086700439453,
          17.214946746826172,
          16.104177474975586,
          -3.277865171432495,
          -3.160489797592163,
          -3.277864694595337,
          -7.609127998352051,
          -24.238086700439453,
          -24.238086700439453,
          16.996103286743164,
          16.371559143066406,
          16.4951114654541,
          16.692468643188477,
          17.009756088256836,
          16.630496978759766,
          17.185909271240234,
          -24.238086700439453,
          -24.238086700439453,
          -24.238086700439453,
          -24.238086700439453,
          -24.238086700439453,
          -24.238086700439453,
          -24.238086700439453,
          5.1997833251953125,
          4.1075568199157715,
          5.498635768890381,
          4.098806381225586,
          -7.465986251831055,
          -7.190379619598389,
          -7.213000774383545,
          -7.378956317901611,
          -2.148054361343384,
          -2.148054361343384,
          -2.3047094345092773,
          -2.3047094345092773,
          -2.3047094345092773,
          -1.8277815580368042,
          -1.6517412662506104,
          2.674177646636963,
          2.674177646636963,
          2.674177646636963,
          5.010421276092529,
          2.674177646636963,
          2.34533429145813,
          2.3453609943389893,
          2.34533429145813,
          2.3453609943389893,
          -7.213000774383545,
          -7.2738871574401855,
          -7.609127998352051,
          -7.168875217437744,
          -7.551089763641357,
          -7.213000774383545,
          2.3453609943389893,
          4.642226696014404,
          5.483962059020996,
          4.462372779846191,
          -18.62200927734375,
          -24.238086700439453,
          -24.238086700439453,
          -24.238086700439453,
          -24.238086700439453,
          -24.238086700439453,
          5.340459823608398,
          5.0357537269592285,
          -24.238086700439453,
          -24.238086700439453,
          -24.238086700439453,
          -24.238086700439453,
          -24.238086700439453,
          -24.238086700439453,
          -24.238086700439453,
          -24.238086700439453,
          -24.238086700439453,
          -24.238086700439453,
          -2.406534433364868,
          -2.406571865081787,
          -24.238086700439453,
          -18.62175750732422,
          -24.238086700439453,
          -0.43228065967559814,
          -24.238086700439453,
          4.295443058013916,
          -24.238086700439453,
          -24.238086700439453,
          -24.238086700439453,
          4.740320205688477,
          7.623061180114746,
          7.6230621337890625,
          7.623061180114746,
          -24.238086700439453,
          -24.238086700439453,
          3.578550338745117,
          16.794340133666992,
          17.083681106567383,
          16.806501388549805,
          16.720909118652344,
          17.050277709960938,
          10.102017402648926,
          -24.238086700439453,
          -24.238086700439453,
          -24.238086700439453,
          -24.238086700439453,
          -24.238086700439453,
          16.806501388549805,
          -3.277864933013916,
          -2.314063787460327,
          7.696077823638916,
          -21.404144287109375,
          7.623141765594482,
          7.623142242431641,
          -24.238086700439453,
          -2.314063787460327,
          -22.610923767089844,
          -23.21220588684082,
          4.295610427856445,
          4.570092678070068,
          5.115911483764648,
          4.379222869873047,
          4.502769947052002,
          5.577680587768555,
          4.777454853057861,
          5.153132438659668,
          -13.137917518615723,
          -22.571456909179688,
          -21.212488174438477,
          -21.973285675048828,
          -21.81193733215332,
          16.133258819580078,
          -24.238086700439453,
          -22.506092071533203,
          -22.215534210205078,
          -21.279220581054688,
          -2.208369255065918,
          -24.238086700439453,
          -24.238086700439453,
          15.160965919494629,
          -22.194026947021484,
          -2.1737494468688965,
          10.65579891204834,
          -1.5650712251663208,
          -2.088446855545044,
          -1.5968456268310547,
          -2.415295124053955,
          -1.5328218936920166,
          7.922118186950684,
          8.87998104095459,
          8.87998104095459,
          8.879742622375488,
          10.467605590820312,
          10.59070110321045,
          10.618672370910645,
          10.915143013000488,
          11.387202262878418,
          11.230010986328125,
          -1.3069649934768677,
          7.909488201141357,
          -2.863476276397705,
          -20.24243927001953,
          14.801630973815918,
          -21.65025520324707,
          -21.182802200317383,
          10.709754943847656,
          -20.305444717407227,
          -21.709827423095703,
          -21.453319549560547,
          -20.632362365722656,
          -2.0213325023651123,
          -1.991363286972046,
          -20.76180648803711,
          -21.80202293395996,
          -22.54585075378418,
          -20.89678382873535,
          -23.4537353515625,
          7.185592174530029,
          7.894175052642822,
          7.517312049865723,
          7.3937811851501465,
          8.247169494628906,
          7.595368385314941,
          -18.6220703125,
          -0.4220256507396698,
          15.566695213317871,
          -21.35076141357422,
          16.050655364990234,
          -20.859899520874023,
          12.547126770019531,
          -21.39985466003418,
          -20.882286071777344,
          -21.38169288635254,
          -1.4580295085906982,
          -1.4580296277999878,
          -21.163936614990234,
          -22.073753356933594,
          -3.160489797592163,
          -20.36040496826172,
          -21.737531661987305,
          -21.40707778930664,
          -2.993182897567749,
          -1.6983212232589722,
          -2.2433087825775146,
          -2.3352231979370117,
          -3.7258191108703613,
          -3.7258195877075195,
          -21.384103775024414,
          -20.51427459716797,
          -21.353044509887695,
          -2.0059969425201416,
          -1.6983212232589722,
          -24.238086700439453,
          19.524982452392578,
          21.843786239624023,
          22.603853225708008,
          18.426910400390625,
          21.761398315429688,
          -22.507686614990234,
          -19.75407600402832,
          -21.860397338867188,
          -18.57729148864746,
          -15.32816219329834,
          -21.996318817138672,
          -20.98379135131836,
          -18.57350730895996,
          -15.434232711791992,
          -24.161083221435547,
          -17.888317108154297,
          -17.888317108154297,
          -14.564828872680664,
          -15.389608383178711,
          -23.1680850982666,
          -18.406166076660156,
          20.8670597076416,
          20.745826721191406,
          19.770999908447266,
          20.403581619262695,
          23.957008361816406,
          18.241994857788086,
          23.45281982421875,
          18.83260154724121,
          17.571836471557617,
          22.555204391479492,
          23.118967056274414,
          18.972309112548828,
          21.54810905456543,
          24.33685874938965,
          -13.89748764038086,
          20.75323486328125,
          18.507965087890625,
          24.077470779418945,
          19.315750122070312,
          22.310152053833008,
          19.062091827392578,
          21.496028900146484,
          17.77940559387207,
          17.963361740112305,
          21.980993270874023,
          18.3170108795166,
          19.013927459716797,
          22.461023330688477,
          -20.56443977355957,
          -20.56443977355957,
          -24.238086700439453,
          -24.238086700439453,
          -24.238086700439453,
          -24.238086700439453,
          -24.238086700439453,
          -24.238086700439453,
          -24.238086700439453,
          -24.238086700439453,
          -24.238086700439453,
          -24.238086700439453,
          -24.238086700439453,
          -24.238086700439453,
          -24.238086700439453,
          -24.238086700439453,
          -24.238086700439453,
          -24.238086700439453,
          -24.238086700439453,
          -24.238086700439453,
          -24.238086700439453,
          -24.238086700439453,
          -24.238086700439453,
          -24.238086700439453,
          -24.238086700439453,
          -24.238086700439453,
          -24.238086700439453,
          -16.920419692993164,
          -18.57729148864746,
          -17.018613815307617,
          -21.449201583862305,
          -18.51238250732422,
          -15.645951271057129,
          -17.329387664794922,
          -14.111457824707031,
          -18.43644905090332,
          -16.965810775756836,
          -20.56443977355957,
          -24.238086700439453,
          -24.238086700439453,
          -24.238086700439453,
          -24.238086700439453,
          -24.238086700439453,
          -24.238086700439453,
          -24.238086700439453,
          -24.238086700439453,
          -24.238086700439453,
          -24.238086700439453,
          -24.238086700439453,
          -24.238086700439453,
          -24.238086700439453,
          22.356266021728516,
          17.566402435302734,
          4.994338035583496,
          -0.23266907036304474,
          -1.963062047958374,
          4.9858503341674805,
          3.7088801860809326,
          4.567740440368652,
          0.8713895082473755,
          -2.2667369842529297,
          4.154944896697998,
          4.154377460479736,
          4.662020683288574,
          0.1996220201253891,
          3.538132667541504,
          -21.996318817138672,
          -20.091373443603516,
          -20.091373443603516,
          -18.57350730895996,
          -18.99822235107422,
          -18.51238250732422,
          -18.57350730895996,
          -18.57350730895996,
          -1.7451368570327759,
          3.7401113510131836,
          -1.1951611042022705,
          -0.3749817907810211,
          -23.421369552612305,
          -21.08614158630371,
          -23.397119522094727,
          -21.440641403198242,
          -22.051715850830078,
          4.478044509887695,
          5.0263237953186035,
          -0.38841620087623596,
          -3.099823474884033,
          -1.756306767463684,
          -18.57350730895996,
          -3.089474678039551,
          -2.3578298091888428,
          -1.9001240730285645,
          -3.0006747245788574,
          -3.0096633434295654,
          4.90190315246582,
          -2.50905179977417,
          4.011690616607666,
          -0.39066949486732483,
          0.43377581238746643,
          -2.1906979084014893,
          -2.6848018169403076,
          20.11063003540039,
          -17.69739532470703,
          -17.69739532470703,
          -0.4179854393005371,
          -0.9110149145126343,
          4.274439334869385,
          -2.082275152206421,
          -0.8822374939918518,
          -18.43644905090332,
          -16.490678787231445,
          -18.51238250732422,
          -20.091373443603516,
          21.316387176513672,
          22.466707229614258,
          18.458032608032227,
          19.4099063873291,
          20.142927169799805,
          19.28023338317871,
          23.84812355041504,
          18.106468200683594,
          18.13432502746582,
          17.893739700317383,
          22.125089645385742,
          18.644304275512695,
          -2.312004566192627,
          -0.3283386826515198,
          -2.4777214527130127,
          0.10579532384872437,
          -17.69739532470703,
          -20.11635398864746,
          -21.876388549804688,
          -19.927295684814453,
          -19.927295684814453,
          -20.566112518310547,
          -20.566112518310547,
          -18.199443817138672,
          -20.566112518310547,
          -16.570043563842773,
          -17.69739532470703,
          -20.27609634399414,
          0.15753738582134247,
          3.6665873527526855,
          -3.358929395675659,
          -0.439004510641098,
          -0.31357085704803467,
          0.5570099353790283,
          4.069032192230225,
          -1.837685465812683,
          -1.3412929773330688,
          0.47956109046936035,
          -1.5837489366531372,
          -24.238086700439453,
          -24.238086700439453,
          -24.238086700439453,
          12.28596305847168,
          13.47244930267334,
          11.910975456237793,
          12.410627365112305,
          12.778914451599121,
          -13.098565101623535,
          -13.098552703857422,
          -13.098565101623535,
          -24.238086700439453,
          -24.238086700439453,
          -24.238086700439453,
          -24.238086700439453,
          -24.238086700439453,
          4.6367974281311035,
          -24.238086700439453,
          -24.238086700439453,
          -1.1913903951644897,
          -24.238086700439453,
          -24.238086700439453,
          -24.238086700439453,
          -2.900343656539917,
          -24.238086700439453,
          -24.238086700439453,
          -24.238086700439453,
          -24.238086700439453,
          -24.238086700439453,
          -24.238086700439453,
          -24.238086700439453,
          -24.238086700439453,
          -24.238086700439453,
          -24.238086700439453,
          -24.238086700439453,
          -24.238086700439453,
          16.470823287963867,
          16.735973358154297,
          16.187686920166016,
          16.844009399414062,
          4.6070661544799805,
          -24.238086700439453,
          4.406120777130127,
          7.387669563293457,
          7.746809482574463,
          4.6677374839782715,
          -24.238086700439453,
          -24.238086700439453,
          -24.238086700439453,
          -24.238086700439453,
          -1.5785685777664185,
          -24.238086700439453,
          -2.1281275749206543,
          -2.1288790702819824,
          16.224809646606445,
          -21.9296932220459,
          -20.416608810424805,
          -1.1597882509231567,
          -1.1601109504699707,
          -1.1601015329360962,
          -1.1600329875946045,
          0.4186013340950012,
          0.41842034459114075,
          -3.2778656482696533,
          -19.721248626708984,
          -2.781491279602051,
          -19.5086612701416,
          -24.45021629333496,
          -22.41363525390625,
          13.07382583618164,
          -2.0338449478149414,
          -2.2338922023773193,
          -1.6983212232589722,
          -2.208369255065918,
          -1.9233468770980835,
          12.640215873718262,
          11.21664810180664,
          0.05429575592279434,
          11.766716957092285,
          -24.238086700439453,
          -24.238086700439453,
          6.07251501083374,
          6.072505950927734,
          6.072497844696045,
          6.072514533996582,
          -24.238086700439453,
          -24.238086700439453,
          -24.238086700439453,
          -0.30090317130088806,
          -2.128875732421875,
          -0.5277196168899536,
          -24.238086700439453,
          -3.0497193336486816,
          -3.722015857696533,
          -4.117712020874023,
          7.116259574890137,
          7.487610340118408,
          7.621675491333008,
          7.812875747680664,
          -24.238086700439453,
          -24.238086700439453,
          -3.762200355529785,
          -24.238086700439453,
          -24.238086700439453,
          -24.238086700439453,
          -24.238086700439453,
          -24.238086700439453,
          -24.238086700439453,
          -24.238086700439453,
          -24.238086700439453,
          -24.238086700439453,
          -24.238086700439453,
          -24.238086700439453,
          -24.238086700439453,
          4.884824275970459,
          -1.1913903951644897,
          -24.238086700439453,
          -24.238086700439453,
          -24.238086700439453,
          -24.238086700439453,
          -24.238086700439453,
          -24.238086700439453,
          -24.238086700439453,
          16.479007720947266,
          -24.238086700439453,
          -24.238086700439453,
          -24.238086700439453,
          -18.51238250732422,
          -16.36396598815918,
          -18.51238250732422,
          -24.238086700439453,
          -25.596174240112305,
          -21.925064086914062,
          -23.15982437133789,
          -24.767379760742188,
          -18.19251823425293,
          -21.137313842773438,
          -20.579158782958984,
          0.22562623023986816,
          9.736635208129883,
          -24.238086700439453,
          9.73841381072998,
          -15.890729904174805,
          -21.137313842773438,
          -21.137313842773438,
          -20.091373443603516,
          -18.51238250732422,
          -20.091373443603516,
          -18.51238250732422,
          -20.579158782958984,
          -18.51238250732422,
          -20.091373443603516,
          -15.890729904174805,
          -24.238086700439453,
          -24.238086700439453,
          -24.238086700439453,
          -1.372744083404541,
          -2.1713204383850098,
          -1.9883195161819458,
          -24.238086700439453,
          -0.5291852355003357,
          -24.238086700439453,
          -24.238086700439453,
          -24.238086700439453,
          -24.238086700439453,
          4.102962493896484,
          4.592244625091553,
          7.305559158325195,
          -24.238086700439453,
          -24.238086700439453,
          -1.8361027240753174,
          -24.238086700439453,
          -24.238086700439453,
          -24.238086700439453,
          5.449639320373535,
          3.8293840885162354,
          -24.238086700439453,
          -24.238086700439453,
          -24.238086700439453,
          -1.6983212232589722,
          -1.1702468395233154,
          -0.9512282609939575,
          -24.238086700439453,
          -24.238086700439453,
          -24.238086700439453,
          -2.8250229358673096,
          -2.6734511852264404,
          4.8952436447143555,
          4.895601272583008,
          4.895395278930664,
          -1.5068376064300537,
          4.335286617279053,
          -0.8423932790756226,
          -0.8863866925239563,
          4.508102893829346,
          0.9904265403747559,
          0.7330593466758728,
          -1.405648946762085,
          -0.49684208631515503,
          4.813301086425781,
          -1.1279666423797607,
          -1.1668905019760132,
          -1.229750156402588,
          -1.2231667041778564,
          -2.934105157852173,
          -24.238086700439453,
          -22.363235473632812,
          -24.238086700439453,
          -2.132124185562134,
          -1.6310373544692993,
          -1.6372945308685303,
          13.451489448547363,
          -24.238086700439453,
          -24.238086700439453,
          11.317488670349121,
          11.56078052520752,
          -1.1853939294815063,
          -2.399165630340576,
          -1.185321569442749,
          -1.1853272914886475,
          -1.185327410697937,
          -19.639883041381836,
          -25.39078712463379,
          -25.39078712463379,
          -19.19109535217285,
          -23.29337501525879,
          -21.68009376525879,
          -22.001569747924805,
          -1.1853221654891968,
          -2.525200128555298,
          -2.095463514328003,
          -2.1584432125091553,
          0.39874300360679626,
          -2.472912073135376,
          -24.238086700439453,
          3.970425844192505,
          -0.4676223397254944,
          3.7508890628814697,
          -1.4178253412246704,
          -1.3150640726089478,
          -0.26990365982055664,
          0.27499523758888245,
          -1.157421350479126,
          -1.1574212312698364,
          -1.6767228841781616,
          -1.6756343841552734,
          -1.6760791540145874,
          -1.6746008396148682,
          -1.9759536981582642,
          -2.335808277130127,
          -2.5865530967712402,
          -2.396267890930176,
          -2.1584432125091553,
          -18.74492835998535,
          -25.949813842773438,
          -15.913018226623535,
          -18.04131507873535,
          -24.238086700439453,
          -24.238086700439453,
          -15.515872955322266,
          5.38646936416626,
          11.502087593078613,
          12.577224731445312,
          12.577224731445312,
          -24.238086700439453,
          7.59511661529541,
          -24.238086700439453,
          12.968234062194824,
          -13.137899398803711,
          -24.238086700439453,
          0.46148204803466797,
          0.46148210763931274,
          0.4614821672439575,
          6.2868547439575195,
          6.28634786605835,
          6.2872796058654785,
          8.190010070800781,
          -24.238086700439453,
          5.555845737457275,
          -2.0854992866516113,
          13.048200607299805,
          3.5780370235443115,
          -21.588743209838867,
          -20.01996421813965,
          -19.875259399414062,
          -19.721248626708984,
          11.748126029968262,
          11.748126983642578,
          11.748126029968262,
          11.748126029968262,
          11.748117446899414,
          11.748126029968262,
          11.74808406829834,
          -22.098247528076172,
          16.887527465820312,
          12.260597229003906,
          7.898172855377197,
          -2.022562265396118,
          -17.94243049621582,
          -24.238086700439453,
          -1.205246090888977,
          -3.670854091644287,
          -3.876678705215454,
          -1.3002018928527832,
          -0.8486637473106384,
          -2.904768943786621,
          11.664444923400879,
          -3.6030831336975098,
          -3.6030547618865967,
          0.015279779210686684,
          0.01527976430952549,
          0.015279222279787064,
          -3.630770444869995,
          -3.6307871341705322,
          -3.6307880878448486,
          -3.6307897567749023,
          -1.636281967163086,
          -21.182296752929688,
          -20.532657623291016,
          -21.212411880493164,
          -22.24106788635254,
          -22.510601043701172,
          -22.78150177001953,
          -20.533008575439453,
          -21.880861282348633,
          12.457886695861816,
          12.944506645202637,
          12.457886695861816,
          1.8378188610076904,
          13.37523365020752,
          11.313759803771973,
          11.263209342956543,
          -24.238086700439453,
          -24.238086700439453,
          -24.238086700439453,
          -24.238086700439453,
          -24.238086700439453,
          -24.238086700439453,
          -24.238086700439453,
          -24.238086700439453,
          -24.238086700439453,
          -24.238086700439453,
          -24.238086700439453,
          -24.238086700439453,
          -24.238086700439453,
          -24.238086700439453,
          -24.238086700439453,
          -24.238086700439453,
          -24.238086700439453,
          -24.238086700439453,
          -24.238086700439453,
          -24.238086700439453,
          -21.657245635986328,
          11.480195045471191,
          -24.238086700439453,
          12.690163612365723,
          -13.132207870483398,
          -21.583560943603516,
          -21.5930118560791,
          -20.849821090698242,
          -21.564960479736328,
          -23.200166702270508,
          -23.569278717041016,
          -22.272607803344727,
          -21.56090545654297,
          -19.934431076049805,
          -21.70889663696289,
          -14.436851501464844,
          15.63083553314209,
          -15.653470039367676,
          -20.091373443603516,
          11.58332633972168,
          11.964219093322754,
          10.965417861938477,
          11.536901473999023,
          10.758543968200684,
          11.830822944641113,
          12.231932640075684,
          -21.174150466918945,
          -13.132621765136719,
          -21.052663803100586,
          -23.027042388916016,
          7.955976486206055,
          13.19558334350586,
          13.042160034179688,
          -23.4497013092041,
          -2.3047094345092773,
          -21.530324935913086,
          -21.553037643432617,
          -22.686216354370117,
          -20.49749183654785,
          -21.829784393310547,
          -1.1574220657348633,
          -1.1574220657348633,
          -1.1574221849441528,
          -1.1574221849441528,
          -20.452945709228516,
          0.6777467131614685,
          -20.81883430480957,
          -22.668210983276367,
          11.002370834350586,
          11.92375659942627,
          10.824112892150879,
          -20.188093185424805,
          -24.238086700439453,
          6.900327682495117,
          -24.238086700439453,
          -1.2806154489517212,
          -1.2813191413879395,
          23.88707160949707,
          23.31680679321289,
          23.16034507751465,
          21.46926498413086,
          21.20673179626465,
          17.39972686767578,
          19.808818817138672,
          22.870285034179688,
          23.092145919799805,
          17.875728607177734,
          18.10818862915039,
          17.53807258605957,
          18.833637237548828,
          18.79806900024414,
          19.918710708618164,
          17.891876220703125,
          20.34320068359375,
          19.530893325805664,
          24.26441192626953,
          8.524060249328613,
          17.49614143371582,
          8.144503593444824,
          8.516910552978516,
          -24.238086700439453,
          -24.238086700439453,
          7.494584560394287,
          7.732110500335693,
          7.84202766418457,
          7.919734477996826,
          -24.238086700439453,
          -24.238086700439453,
          4.6825270652771,
          4.681248188018799,
          4.682086944580078,
          2.052473545074463,
          2.0589804649353027,
          -24.238086700439453,
          -24.238086700439453,
          -24.238086700439453,
          8.342832565307617,
          8.4525146484375,
          8.50800609588623,
          8.544302940368652,
          8.170966148376465,
          8.085329055786133,
          -24.238086700439453,
          22.244970321655273,
          20.58680534362793,
          8.849574089050293,
          9.370783805847168,
          8.507233619689941,
          8.459702491760254,
          8.45632266998291,
          9.071497917175293,
          8.800296783447266,
          9.245122909545898,
          9.753808975219727,
          9.464195251464844,
          8.470352172851562,
          9.363587379455566,
          9.689038276672363,
          9.578262329101562,
          8.910720825195312,
          8.780699729919434,
          9.376044273376465,
          8.980213165283203,
          8.967657089233398,
          9.659573554992676,
          9.204977989196777,
          8.273198127746582,
          20.291288375854492,
          21.78662109375,
          17.516075134277344,
          22.808578491210938,
          21.084806442260742,
          18.91699981689453,
          20.917661666870117,
          20.939517974853516,
          23.50724983215332,
          21.16952133178711,
          17.844472885131836,
          17.525747299194336,
          24.419078826904297,
          20.596738815307617,
          21.619386672973633,
          17.777931213378906,
          23.540605545043945,
          17.492307662963867,
          22.159278869628906,
          19.18404197692871,
          23.931913375854492,
          22.919708251953125,
          20.046201705932617,
          21.495418548583984,
          19.741165161132812,
          -24.238086700439453,
          -24.238086700439453,
          -24.238086700439453,
          -21.531875610351562,
          -22.528881072998047,
          -21.55222511291504,
          -22.39618492126465,
          -22.357728958129883,
          -22.155982971191406,
          -8.17492389678955,
          -21.153654098510742,
          -20.48255729675293,
          6.326052188873291,
          6.326052188873291,
          9.808357238769531,
          9.808357238769531,
          13.509234428405762,
          13.037056922912598,
          13.213813781738281,
          8.237336158752441,
          0.22562584280967712,
          13.678894996643066,
          13.678894996643066,
          13.678894996643066,
          -21.996667861938477,
          13.678894996643066,
          -22.208702087402344,
          -21.8890323638916,
          -24.238086700439453,
          6.893251419067383,
          17.311138153076172,
          -3.1823196411132812,
          -24.238086700439453,
          -24.238086700439453,
          1.2075344324111938,
          1.2211332321166992,
          1.2139825820922852,
          5.195662975311279,
          -4.356524467468262,
          -4.356513500213623,
          -1.3623321056365967,
          -1.3623321056365967,
          -1.3623321056365967,
          -1.362331748008728,
          -1.3623319864273071,
          -1.3623321056365967,
          4.680018424987793,
          4.687467098236084,
          -21.338186264038086,
          -22.167545318603516,
          -24.238086700439453,
          13.6788911819458,
          13.678894996643066,
          -24.238086700439453,
          -24.238086700439453,
          -24.238086700439453,
          6.839767932891846,
          6.839756011962891,
          6.839756011962891,
          6.839749813079834,
          6.839749813079834,
          -21.552379608154297,
          -24.23720359802246,
          -20.416608810424805,
          -17.94243049621582,
          -17.94243049621582,
          -17.94243049621582,
          -20.868661880493164,
          -20.838106155395508,
          -26.582050323486328,
          -24.501989364624023,
          -23.142610549926758,
          -19.1945858001709,
          -23.107152938842773,
          -24.238086700439453,
          13.678894996643066,
          -24.238086700439453,
          7.327478885650635,
          13.678894996643066,
          7.873512268066406,
          -21.137313842773438,
          -21.137313842773438,
          -24.238086700439453,
          -24.238086700439453,
          -24.238086700439453,
          -24.238086700439453,
          -24.238086700439453,
          7.6231689453125,
          7.623157501220703,
          9.732588768005371,
          9.73349380493164,
          -17.755170822143555,
          -0.5940431356430054,
          11.16400146484375,
          11.16400146484375,
          12.577224731445312,
          12.577224731445312,
          7.331881999969482,
          7.334672927856445,
          7.329763889312744,
          -24.238086700439453,
          -21.132017135620117,
          -24.238086700439453,
          -1.6668157577514648,
          -24.238086700439453,
          -22.259016036987305,
          -2.148054361343384,
          16.384706497192383,
          16.29844093322754,
          -5.249454498291016,
          -5.249457836151123,
          -19.855623245239258,
          16.267852783203125,
          16.267852783203125,
          16.7636661529541,
          -24.238086700439453,
          16.351219177246094,
          -17.990144729614258,
          -24.238086700439453,
          16.7636661529541,
          16.200407028198242,
          11.937393188476562,
          5.532690048217773,
          -24.238086700439453,
          4.91909122467041,
          -17.41753387451172,
          -24.238086700439453,
          -24.238086700439453,
          -24.238086700439453,
          -24.238086700439453,
          3.8340232372283936,
          3.834458589553833,
          3.8344008922576904,
          -18.477506637573242,
          -23.011539459228516,
          -18.39276123046875,
          -19.534482955932617,
          -15.503376007080078,
          -24.448497772216797,
          -24.238086700439453,
          -24.238086700439453,
          4.6375651359558105,
          -0.812028169631958,
          -0.4388800859451294,
          -0.4388800859451294,
          -24.238086700439453,
          -24.238086700439453,
          -24.238086700439453,
          -24.238086700439453,
          -24.238086700439453,
          -24.238086700439453,
          -24.238086700439453,
          -2.3047094345092773,
          11.840469360351562,
          -0.4388800859451294,
          -3.356206178665161,
          5.506026744842529,
          -17.94243049621582,
          -24.238086700439453,
          -24.238086700439453,
          -21.503585815429688,
          -21.503585815429688,
          -20.416608810424805,
          -19.838932037353516,
          -23.664417266845703,
          -24.010190963745117,
          -24.238086700439453,
          -17.94243049621582,
          -24.238086700439453,
          10.095829010009766,
          -24.238086700439453,
          -24.238086700439453,
          -22.7381534576416,
          -22.99391746520996,
          -24.238086700439453,
          -24.238086700439453,
          -24.238086700439453,
          -24.238086700439453,
          -24.238086700439453,
          -24.238086700439453,
          -22.91071891784668,
          -17.94243049621582,
          -0.8604698777198792,
          -17.94243049621582,
          -1.1913903951644897,
          -1.1913903951644897,
          -24.238086700439453,
          -1.1913903951644897,
          -24.238086700439453,
          -24.238086700439453,
          -17.94243049621582,
          -17.94243049621582,
          5.033864974975586,
          16.71439552307129,
          5.548227787017822,
          3.578550338745117
         ],
         "z": [
          0.2553693950176239,
          0.2553693950176239,
          0.2553693950176239,
          0.2553693950176239,
          0.2553693950176239,
          0.2553693950176239,
          0.2553693950176239,
          -12.008317947387695,
          0.2553693950176239,
          -11.106602668762207,
          0.2553693950176239,
          -11.282425880432129,
          0.3370543122291565,
          0.2553693950176239,
          0.2553693950176239,
          0.2553693950176239,
          0.2553693950176239,
          0.2553693950176239,
          0.2553693950176239,
          -5.1927642822265625,
          0.2553693950176239,
          0.2553693950176239,
          0.2553693950176239,
          0.2553693950176239,
          0.2553693950176239,
          0.2553693950176239,
          0.2553693950176239,
          0.2553693950176239,
          0.2553693950176239,
          0.2553693950176239,
          0.2553693950176239,
          0.2553693950176239,
          0.2553693950176239,
          0.2553693950176239,
          0.2553693950176239,
          0.2553693950176239,
          -4.6067423820495605,
          -4.606701374053955,
          -4.606744289398193,
          0.5357080698013306,
          0.5357089638710022,
          3.0447912216186523,
          0.2553693950176239,
          3.0447912216186523,
          0.2553693950176239,
          0.2553693950176239,
          -1.4313693046569824,
          -1.4313843250274658,
          0.2553693950176239,
          0.2553693950176239,
          0.2553693950176239,
          -16.381820678710938,
          -1.2500524520874023,
          -1.81210196018219,
          -5.288188934326172,
          -7.080827713012695,
          0.2553693950176239,
          0.2553693950176239,
          0.2553693950176239,
          5.299647331237793,
          5.2998576164245605,
          -7.708110809326172,
          -7.708113670349121,
          -7.708114147186279,
          -2.2394168376922607,
          -1.2500524520874023,
          0.2553693950176239,
          -1.4313955307006836,
          0.2553693950176239,
          0.2553693950176239,
          -10.616998672485352,
          0.2553693950176239,
          0.2553693950176239,
          0.2553693950176239,
          0.2553693950176239,
          6.1807780265808105,
          6.179116725921631,
          -13.401321411132812,
          -14.398859977722168,
          -12.51187515258789,
          -13.229870796203613,
          0.2553693950176239,
          -12.891108512878418,
          -19.760923385620117,
          -14.296199798583984,
          -15.289122581481934,
          0.2553693950176239,
          -6.265861511230469,
          0.2553693950176239,
          -16.290855407714844,
          -15.720322608947754,
          -6.4768548011779785,
          0.2553693950176239,
          -13.903278350830078,
          -1.5048047304153442,
          -1.333674430847168,
          -1.333674430847168,
          1.65038001537323,
          -14.6593017578125,
          -1.5608021020889282,
          -1.6721194982528687,
          -0.914753794670105,
          -0.5747502446174622,
          -0.14364421367645264,
          -1.4744532108306885,
          -1.4160791635513306,
          -1.0694587230682373,
          -1.220746397972107,
          0.2553693950176239,
          0.2553693950176239,
          0.2553693950176239,
          0.2553693950176239,
          0.2553693950176239,
          0.2553693950176239,
          0.2553693950176239,
          0.2553693950176239,
          0.2553693950176239,
          -16.333555221557617,
          1.1512235403060913,
          0.2553693950176239,
          -5.364648342132568,
          -12.385842323303223,
          4.5753865242004395,
          -1.43308687210083,
          -1.940108060836792,
          4.877223968505859,
          -1.881932258605957,
          -3.142664670944214,
          2.6802287101745605,
          7.361809730529785,
          -2.098468065261841,
          -4.24990701675415,
          0.2553693950176239,
          -3.5846331119537354,
          -3.5826027393341064,
          -16.119632720947266,
          -15.373677253723145,
          -7.006225109100342,
          -3.9406275749206543,
          -4.938945770263672,
          5.286830425262451,
          -3.7848145961761475,
          -1.6384013891220093,
          -11.443537712097168,
          -3.5829579830169678,
          -1.333674430847168,
          -0.8232031464576721,
          -4.9227519035339355,
          -1.333674430847168,
          -1.333674430847168,
          -14.322649955749512,
          -15.48161792755127,
          -1.333674430847168,
          0.9258543848991394,
          -1.333674430847168,
          -1.333674430847168,
          -1.333674430847168,
          -1.333674430847168,
          -1.333674430847168,
          -1.333674430847168,
          -1.333674430847168,
          -1.333674430847168,
          -1.333674430847168,
          -1.333674430847168,
          -3.761030435562134,
          -3.76103138923645,
          -4.3309807777404785,
          -1.333674430847168,
          0.2553693950176239,
          0.2553693950176239,
          3.03869366645813,
          3.0431787967681885,
          0.2553693950176239,
          -13.426498413085938,
          0.2553693950176239,
          0.2553693950176239,
          -6.925029277801514,
          -6.925029277801514,
          6.270110130310059,
          -7.322761535644531,
          -6.896731853485107,
          0.2553693950176239,
          0.2553693950176239,
          -4.342557430267334,
          -4.456801414489746,
          0.2553693950176239,
          0.2553693950176239,
          0.2553693950176239,
          0.2553693950176239,
          0.2553693950176239,
          0.2553693950176239,
          0.2553693950176239,
          0.2553693950176239,
          0.2553693950176239,
          1.1512235403060913,
          -4.456480979919434,
          -10.046476364135742,
          -1.6553714275360107,
          -10.04648208618164,
          -0.2426583170890808,
          0.2553693950176239,
          0.2553693950176239,
          0.5800450444221497,
          0.594245433807373,
          0.9122639298439026,
          0.5969778895378113,
          1.5179331302642822,
          1.641648769378662,
          0.9080166220664978,
          0.2553693950176239,
          0.2553693950176239,
          0.2553693950176239,
          0.2553693950176239,
          0.2553693950176239,
          0.2553693950176239,
          0.2553693950176239,
          -16.18287467956543,
          -15.033608436584473,
          -15.034499168395996,
          -15.39970874786377,
          -0.14093126356601715,
          -0.06305912882089615,
          -0.49338439106941223,
          -0.47410306334495544,
          3.0447912216186523,
          3.0447912216186523,
          3.138705015182495,
          3.138705015182495,
          3.138705015182495,
          3.5590319633483887,
          3.0345025062561035,
          -0.6104576587677002,
          -0.6104576587677002,
          -0.6104575991630554,
          -14.849878311157227,
          -0.6104575991630554,
          -1.4839636087417603,
          -1.4839600324630737,
          -1.4839636087417603,
          -1.4839600324630737,
          -0.49338439106941223,
          -0.041273798793554306,
          -0.2426583170890808,
          -0.31200772523880005,
          -0.5352843999862671,
          -0.49338439106941223,
          -1.4839601516723633,
          -15.828995704650879,
          -15.336043357849121,
          -14.767948150634766,
          7.593919277191162,
          0.2553693950176239,
          0.2553693950176239,
          0.2553693950176239,
          0.2553693950176239,
          0.2553693950176239,
          -15.150276184082031,
          -16.09467124938965,
          0.2553693950176239,
          0.2553693950176239,
          0.2553693950176239,
          0.2553693950176239,
          0.2553693950176239,
          0.2553693950176239,
          0.2553693950176239,
          0.2553693950176239,
          0.2553693950176239,
          0.2553693950176239,
          -2.4599273204803467,
          -2.4599196910858154,
          0.2553693950176239,
          7.593939781188965,
          0.2553693950176239,
          -7.2924699783325195,
          0.2553693950176239,
          -15.54269790649414,
          0.2553693950176239,
          0.2553693950176239,
          0.2553693950176239,
          -15.175724029541016,
          -2.9174723625183105,
          -2.9174721240997314,
          -2.9174723625183105,
          0.2553693950176239,
          0.2553693950176239,
          -14.322649955749512,
          -2.294184684753418,
          -2.6442999839782715,
          -2.9706711769104004,
          -2.5440025329589844,
          -2.8742716312408447,
          -11.605782508850098,
          0.2553693950176239,
          0.2553693950176239,
          0.2553693950176239,
          0.2553693950176239,
          0.2553693950176239,
          -2.9706711769104004,
          -10.046483039855957,
          -2.2394168376922607,
          0.6571686863899231,
          -0.22116756439208984,
          -2.917541027069092,
          -2.917541265487671,
          0.2553693950176239,
          -2.2394168376922607,
          -2.111114740371704,
          -2.7442550659179688,
          -6.614881992340088,
          -6.518843650817871,
          -6.121662139892578,
          -6.970983982086182,
          -7.064935684204102,
          -7.039185523986816,
          -6.142229080200195,
          -7.3743672370910645,
          3.03961181640625,
          2.9044411182403564,
          1.6307332515716553,
          0.2677544057369232,
          -1.5627416372299194,
          1.1235918998718262,
          0.2553693950176239,
          -1.3470045328140259,
          0.43685466051101685,
          0.6922187805175781,
          -0.6328619122505188,
          0.2553693950176239,
          0.2553693950176239,
          1.0463277101516724,
          1.9446296691894531,
          -1.5105785131454468,
          -10.798443794250488,
          -14.159027099609375,
          -13.75869083404541,
          -13.385746955871582,
          -2.1531074047088623,
          -14.312093734741211,
          1.0795215368270874,
          -0.26123300194740295,
          -0.26123300194740295,
          -0.2607407569885254,
          -11.224566459655762,
          -11.222138404846191,
          -11.664833068847656,
          -12.47784423828125,
          -10.651251792907715,
          -10.63976764678955,
          -13.820788383483887,
          0.6295362710952759,
          -1.7891054153442383,
          0.3307521939277649,
          -3.320822238922119,
          -1.5401757955551147,
          -0.39579805731773376,
          -12.335501670837402,
          0.21535752713680267,
          -2.1695241928100586,
          -0.8643975257873535,
          -1.2221208810806274,
          2.5752460956573486,
          -10.869731903076172,
          0.4601861834526062,
          1.1218547821044922,
          -0.1500035673379898,
          -1.395675539970398,
          -0.3315081000328064,
          0.3512241244316101,
          1.2512770891189575,
          0.3854047656059265,
          0.1934788078069687,
          0.703140914440155,
          1.2116236686706543,
          7.593918800354004,
          -7.185505390167236,
          -3.6659295558929443,
          -1.0035873651504517,
          1.2220724821090698,
          -0.4484463036060333,
          -1.2435394525527954,
          0.5384599566459656,
          -1.7032777070999146,
          1.6262675523757935,
          -6.247032165527344,
          -6.247032165527344,
          1.6110420227050781,
          2.086132764816284,
          -1.6553714275360107,
          -0.1850375384092331,
          2.3880221843719482,
          1.3425012826919556,
          -2.2692525386810303,
          -0.9041566252708435,
          -0.8673845529556274,
          -1.0772759914398193,
          4.397802829742432,
          4.397803783416748,
          -0.9322324991226196,
          -0.023256611078977585,
          0.9499068260192871,
          -0.9303306937217712,
          -0.9041566252708435,
          0.2553693950176239,
          -1.4012987613677979,
          -5.305604457855225,
          -6.169414520263672,
          -0.3995157778263092,
          -5.875545501708984,
          6.11711311340332,
          -4.453394889831543,
          2.7095611095428467,
          1.9218791723251343,
          -1.9638516902923584,
          -3.3717923164367676,
          5.671838283538818,
          2.406853675842285,
          4.298396587371826,
          7.025171756744385,
          5.506810188293457,
          5.506810188293457,
          1.5759059190750122,
          2.641380786895752,
          4.265881061553955,
          2.7790231704711914,
          -3.337864875793457,
          -2.7671315670013428,
          -2.0073935985565186,
          -2.1266703605651855,
          -8.611382484436035,
          0.013905498199164867,
          -8.860015869140625,
          2.4882664680480957,
          2.2482519149780273,
          -6.804589748382568,
          -8.225366592407227,
          -0.8910292387008667,
          -5.607578754425049,
          -9.21715259552002,
          -1.1457881927490234,
          -3.644822597503662,
          0.37164974212646484,
          -8.819406509399414,
          -1.868030309677124,
          -5.738678932189941,
          -1.0608999729156494,
          -4.6729607582092285,
          -0.14862491190433502,
          2.408888101577759,
          -6.326503276824951,
          0.7477179169654846,
          -0.17978201806545258,
          -7.250881195068359,
          -4.218120574951172,
          -4.218120574951172,
          0.2553693950176239,
          0.2553693950176239,
          0.2553693950176239,
          0.2553693950176239,
          0.2553693950176239,
          0.2553693950176239,
          0.2553693950176239,
          0.2553693950176239,
          0.2553693950176239,
          0.2553693950176239,
          0.2553693950176239,
          0.2553693950176239,
          0.2553693950176239,
          0.2553693950176239,
          0.2553693950176239,
          0.2553693950176239,
          0.2553693950176239,
          0.2553693950176239,
          0.2553693950176239,
          0.2553693950176239,
          0.2553693950176239,
          0.2553693950176239,
          0.2553693950176239,
          0.2553693950176239,
          0.2553693950176239,
          -1.293031096458435,
          1.9218791723251343,
          -3.960559129714966,
          0.2222064882516861,
          1.7005231380462646,
          0.5019040107727051,
          -0.9231382012367249,
          0.11310770362615585,
          -3.0178494453430176,
          0.25393521785736084,
          -4.218120574951172,
          0.2553693950176239,
          0.2553693950176239,
          0.2553693950176239,
          0.2553693950176239,
          0.2553693950176239,
          0.2553693950176239,
          0.2553693950176239,
          0.2553693950176239,
          0.2553693950176239,
          0.2553693950176239,
          0.2553693950176239,
          0.2553693950176239,
          0.2553693950176239,
          -7.0203070640563965,
          1.780471920967102,
          -19.04460334777832,
          -14.00943374633789,
          -11.924583435058594,
          -18.921436309814453,
          -18.764955520629883,
          -18.590547561645508,
          -12.848788261413574,
          -13.482762336730957,
          -18.716169357299805,
          -18.485260009765625,
          -18.607994079589844,
          -14.759744644165039,
          -19.40626335144043,
          -3.3717923164367676,
          -0.8719995021820068,
          -0.8719995021820068,
          2.406853675842285,
          -3.076230764389038,
          1.7005231380462646,
          2.406853675842285,
          2.406853675842285,
          -14.28336238861084,
          -19.256174087524414,
          -12.603137016296387,
          -11.557429313659668,
          -2.5121583938598633,
          0.2691596448421478,
          0.5791565179824829,
          0.7939072847366333,
          -2.183736801147461,
          -19.019994735717773,
          -19.57671546936035,
          -12.562032699584961,
          -12.463810920715332,
          -11.890195846557617,
          2.406853675842285,
          -13.439427375793457,
          -11.745776176452637,
          -12.555941581726074,
          -12.566487312316895,
          -13.643985748291016,
          -19.39027214050293,
          -11.6459379196167,
          -18.80746841430664,
          -13.527109146118164,
          -11.879326820373535,
          -15.182899475097656,
          -12.496333122253418,
          -2.6097490787506104,
          4.699933052062988,
          4.699933052062988,
          -13.007453918457031,
          -12.020232200622559,
          -19.747966766357422,
          -13.779288291931152,
          -15.265469551086426,
          -3.0178494453430176,
          0.9964930415153503,
          1.7005231380462646,
          -0.8719995021820068,
          -3.7460567951202393,
          -6.615654945373535,
          -0.5766371488571167,
          -0.7199882864952087,
          -1.4110652208328247,
          -1.5499919652938843,
          -9.094926834106445,
          2.502530336380005,
          2.0345041751861572,
          0.963933527469635,
          -4.809137344360352,
          2.6423394680023193,
          -14.489832878112793,
          -13.39103889465332,
          -14.251096725463867,
          -14.755857467651367,
          4.699933052062988,
          7.111165523529053,
          6.9160075187683105,
          4.598358154296875,
          4.598358154296875,
          4.5825653076171875,
          4.5825653076171875,
          4.261109828948975,
          4.5825653076171875,
          2.1400060653686523,
          4.699933052062988,
          5.3922882080078125,
          -11.74509048461914,
          -19.0260009765625,
          -13.47878646850586,
          -12.268087387084961,
          -13.33627700805664,
          -13.838884353637695,
          -20.00211524963379,
          -13.948450088500977,
          -12.73259449005127,
          -12.744832992553711,
          -14.830910682678223,
          0.2553693950176239,
          0.2553693950176239,
          0.2553693950176239,
          0.023518772795796394,
          -0.8722776770591736,
          -0.9018629789352417,
          -0.7594792246818542,
          -1.7502182722091675,
          3.195244550704956,
          3.1952338218688965,
          3.1952428817749023,
          0.2553693950176239,
          0.2553693950176239,
          0.2553693950176239,
          0.2553693950176239,
          0.2553693950176239,
          -7.329287528991699,
          0.2553693950176239,
          0.2553693950176239,
          -4.579122066497803,
          0.2553693950176239,
          0.2553693950176239,
          0.2553693950176239,
          -1.3243483304977417,
          0.2553693950176239,
          0.2553693950176239,
          0.2553693950176239,
          0.2553693950176239,
          0.2553693950176239,
          0.2553693950176239,
          0.2553693950176239,
          0.2553693950176239,
          0.2553693950176239,
          0.2553693950176239,
          0.2553693950176239,
          0.2553693950176239,
          0.9717606902122498,
          1.2216064929962158,
          0.6798431277275085,
          0.6877591013908386,
          -19.89622688293457,
          0.2553693950176239,
          -16.03974723815918,
          0.9203564524650574,
          0.05656431242823601,
          -15.105605125427246,
          0.2553693950176239,
          0.2553693950176239,
          0.2553693950176239,
          0.2553693950176239,
          -11.207953453063965,
          0.2553693950176239,
          5.813008785247803,
          5.812959671020508,
          1.4272068738937378,
          -6.995675563812256,
          -4.7368011474609375,
          -1.0813961029052734,
          -1.0809191465377808,
          -1.0809334516525269,
          -1.081038236618042,
          -5.562078952789307,
          -5.563040256500244,
          -10.046485900878906,
          -0.8600577116012573,
          -5.119461536407471,
          -3.9055492877960205,
          -5.290946960449219,
          -5.446242332458496,
          -0.9328898191452026,
          -1.3669610023498535,
          -1.1811941862106323,
          -0.9041566252708435,
          -0.6328619122505188,
          -1.1915161609649658,
          -1.6240507364273071,
          -10.929842948913574,
          -4.628422260284424,
          -0.7868334054946899,
          0.2553693950176239,
          0.2553693950176239,
          -3.3968026638031006,
          -3.396825075149536,
          -3.396850347518921,
          -3.396775722503662,
          0.2553693950176239,
          0.2553693950176239,
          0.2553693950176239,
          -4.420141220092773,
          5.812714099884033,
          -4.9227519035339355,
          0.2553693950176239,
          -2.048635482788086,
          -2.722595691680908,
          -3.7443881034851074,
          0.6982417702674866,
          -8.6699800491333,
          -8.343877792358398,
          -8.800846099853516,
          0.2553693950176239,
          0.2553693950176239,
          -2.6983087062835693,
          0.2553693950176239,
          0.2553693950176239,
          0.2553693950176239,
          0.2553693950176239,
          0.2553693950176239,
          0.2553693950176239,
          0.2553693950176239,
          0.2553693950176239,
          0.2553693950176239,
          0.2553693950176239,
          0.2553693950176239,
          0.2553693950176239,
          -14.649720191955566,
          -4.579122066497803,
          0.2553693950176239,
          0.2553693950176239,
          0.2553693950176239,
          0.2553693950176239,
          0.2553693950176239,
          0.2553693950176239,
          0.2553693950176239,
          1.6789863109588623,
          0.2553693950176239,
          0.2553693950176239,
          0.2553693950176239,
          1.7005231380462646,
          -4.593180179595947,
          1.7005231380462646,
          0.2553693950176239,
          -6.165596961975098,
          6.014801979064941,
          6.087438583374023,
          6.353285789489746,
          2.5263123512268066,
          2.5175747871398926,
          4.690792560577393,
          -17.516389846801758,
          -8.599828720092773,
          0.2553693950176239,
          -8.59693717956543,
          2.7156357765197754,
          2.5175747871398926,
          2.5175747871398926,
          -0.8719995021820068,
          1.7005231380462646,
          -0.8719995021820068,
          1.7005231380462646,
          4.690792560577393,
          1.7005231380462646,
          -0.8719995021820068,
          2.7156357765197754,
          0.2553693950176239,
          0.2553693950176239,
          0.2553693950176239,
          -13.904025077819824,
          -13.277816772460938,
          -12.17131519317627,
          0.2553693950176239,
          -4.3121490478515625,
          0.2553693950176239,
          0.2553693950176239,
          0.2553693950176239,
          0.2553693950176239,
          -15.592660903930664,
          -19.964445114135742,
          1.1115977764129639,
          0.2553693950176239,
          0.2553693950176239,
          -10.925439834594727,
          0.2553693950176239,
          0.2553693950176239,
          0.2553693950176239,
          -15.941017150878906,
          -15.838500022888184,
          0.2553693950176239,
          0.2553693950176239,
          0.2553693950176239,
          -0.9041566252708435,
          -12.233784675598145,
          -13.916449546813965,
          0.2553693950176239,
          0.2553693950176239,
          0.2553693950176239,
          -2.18113112449646,
          -1.6682196855545044,
          -0.6016342639923096,
          -0.6021605134010315,
          -0.6018598079681396,
          -12.875133514404297,
          -19.52112579345703,
          -15.33579158782959,
          -11.491852760314941,
          -19.082508087158203,
          -13.512370109558105,
          -14.546394348144531,
          -11.360831260681152,
          -12.585867881774902,
          -19.512331008911133,
          -13.339434623718262,
          -13.492453575134277,
          -12.810050010681152,
          -13.818315505981445,
          -14.526318550109863,
          0.2553693950176239,
          1.1040501594543457,
          0.2553693950176239,
          -13.98972225189209,
          -13.69444751739502,
          -13.806239128112793,
          -0.3789829909801483,
          0.2553693950176239,
          0.2553693950176239,
          -2.0770723819732666,
          -1.9278042316436768,
          -9.103145599365234,
          -13.446478843688965,
          -9.103156089782715,
          -9.10314655303955,
          -9.10314655303955,
          -6.139032363891602,
          -1.4525941610336304,
          -1.4525941610336304,
          -0.567179799079895,
          1.8600921630859375,
          -5.916322708129883,
          -5.003969669342041,
          -9.10314655303955,
          -13.875068664550781,
          -13.492647171020508,
          -14.414835929870605,
          -13.638456344604492,
          -12.777973175048828,
          0.2553693950176239,
          -19.327022552490234,
          -11.281340599060059,
          -19.729583740234375,
          -14.834214210510254,
          -15.379969596862793,
          -14.531633377075195,
          -12.416648864746094,
          -7.502293586730957,
          -7.502293586730957,
          6.179100036621094,
          6.1807169914245605,
          6.179083824157715,
          6.1807475090026855,
          -13.30424690246582,
          -14.047204971313477,
          -13.980951309204102,
          -13.413970947265625,
          -14.414835929870605,
          -6.226465225219727,
          -5.4979681968688965,
          -5.008826732635498,
          0.26750999689102173,
          0.2553693950176239,
          0.2553693950176239,
          5.303021430969238,
          -6.996250629425049,
          0.05141919478774071,
          0.02735276147723198,
          0.02735276147723198,
          0.2553693950176239,
          -8.354461669921875,
          0.2553693950176239,
          -0.5447510480880737,
          3.039090156555176,
          0.2553693950176239,
          -6.342408180236816,
          -6.342408657073975,
          -6.342408180236816,
          -12.90609073638916,
          -12.907004356384277,
          -12.906068801879883,
          0.3751721680164337,
          0.2553693950176239,
          -12.923526763916016,
          -15.297602653503418,
          1.8281230926513672,
          0.9558334350585938,
          -2.5784335136413574,
          -6.93502140045166,
          1.3691473007202148,
          -0.8600577116012573,
          1.115318775177002,
          1.1153379678726196,
          1.1153186559677124,
          1.115318775177002,
          1.1153169870376587,
          1.115318775177002,
          1.1153301000595093,
          -7.537259101867676,
          -3.7049503326416016,
          -1.5410035848617554,
          -8.5598783493042,
          -14.986367225646973,
          -1.333674430847168,
          0.2553693950176239,
          0.055105406790971756,
          -4.484764099121094,
          -4.182296276092529,
          -5.35854434967041,
          -14.337221145629883,
          -14.441018104553223,
          -11.099126815795898,
          -1.3512191772460938,
          -1.3513425588607788,
          -0.19829097390174866,
          -0.1982908695936203,
          -0.1982887089252472,
          -1.3651227951049805,
          -1.3651227951049805,
          -1.36512291431427,
          -1.365122675895691,
          -14.178818702697754,
          0.9519882202148438,
          1.135016918182373,
          0.2520163357257843,
          1.6631789207458496,
          0.48801204562187195,
          2.6700191497802734,
          -0.7236129641532898,
          2.3335249423980713,
          -0.43816763162612915,
          0.01860770583152771,
          -0.43816763162612915,
          -5.212294101715088,
          -1.436476707458496,
          -12.507568359375,
          -11.672575950622559,
          0.2553693950176239,
          0.2553693950176239,
          0.2553693950176239,
          0.2553693950176239,
          0.2553693950176239,
          0.2553693950176239,
          0.2553693950176239,
          0.2553693950176239,
          0.2553693950176239,
          0.2553693950176239,
          0.2553693950176239,
          0.2553693950176239,
          0.2553693950176239,
          0.2553693950176239,
          0.2553693950176239,
          0.2553693950176239,
          0.2553693950176239,
          0.2553693950176239,
          0.2553693950176239,
          0.2553693950176239,
          -0.8430628776550293,
          -11.85639762878418,
          0.2553693950176239,
          0.04381582885980606,
          3.0357840061187744,
          -2.0696394443511963,
          1.6340433359146118,
          1.9613213539123535,
          -0.23784996569156647,
          1.436133623123169,
          -1.2229270935058594,
          -1.602218508720398,
          2.2520086765289307,
          -1.5964971780776978,
          -0.3889850974082947,
          -3.120485544204712,
          -3.368307590484619,
          -0.02284189686179161,
          -0.8719995021820068,
          -12.506013870239258,
          -11.631180763244629,
          -11.805700302124023,
          -12.146730422973633,
          -12.097825050354004,
          -11.304662704467773,
          -11.684747695922852,
          0.9084774255752563,
          3.0329787731170654,
          -2.0326366424560547,
          2.167740821838379,
          0.13987818360328674,
          -0.3874472975730896,
          -0.25791871547698975,
          -1.9716514348983765,
          3.138705015182495,
          0.490085631608963,
          1.8938281536102295,
          -1.503854513168335,
          0.9781352281570435,
          -1.1266733407974243,
          -7.502286434173584,
          -7.502286434173584,
          -7.502285957336426,
          -7.502285957336426,
          1.4939481019973755,
          -5.25760555267334,
          -0.9940939545631409,
          -0.8404507040977478,
          -12.212061882019043,
          -11.92520809173584,
          -10.923377990722656,
          0.7875795960426331,
          0.2553693950176239,
          -0.303653746843338,
          0.2553693950176239,
          -5.626284122467041,
          -5.626275062561035,
          -8.447131156921387,
          -8.100317001342773,
          -7.083049774169922,
          -3.9307515621185303,
          -3.1644651889801025,
          0.45751139521598816,
          -1.3844043016433716,
          -7.51630973815918,
          -7.25948429107666,
          0.581742525100708,
          0.3597146272659302,
          0.2991933822631836,
          -0.11069702357053757,
          2.4312360286712646,
          -1.0741057395935059,
          1.9722838401794434,
          -2.8243346214294434,
          -0.7647073268890381,
          -8.29383373260498,
          -7.784456253051758,
          0.946530818939209,
          -7.800800800323486,
          -7.447568416595459,
          0.2553693950176239,
          0.2553693950176239,
          -8.651874542236328,
          -8.343165397644043,
          -8.796005249023438,
          -8.382673263549805,
          0.2553693950176239,
          0.2553693950176239,
          -12.835465431213379,
          -12.83577823638916,
          -12.835587501525879,
          1.31094229221344,
          1.310868263244629,
          0.2553693950176239,
          0.2553693950176239,
          0.2553693950176239,
          -7.405305862426758,
          -7.837632656097412,
          -7.801178932189941,
          -7.432120323181152,
          -7.43872594833374,
          -7.650089740753174,
          0.2553693950176239,
          -5.4324140548706055,
          -3.6619274616241455,
          -6.149278163909912,
          -6.338261604309082,
          -6.189661502838135,
          -5.663416385650635,
          -5.858264923095703,
          -5.260561943054199,
          -6.401036262512207,
          -4.984967231750488,
          -5.895308017730713,
          -5.876813888549805,
          -5.251833438873291,
          -5.244039058685303,
          -5.303531169891357,
          -5.367878437042236,
          -5.730087757110596,
          -5.400478839874268,
          -6.267697811126709,
          -6.230898380279541,
          -4.989860534667969,
          -5.807686805725098,
          -5.766849517822266,
          -5.7395710945129395,
          -3.275315999984741,
          -4.270979881286621,
          1.0457807779312134,
          -7.781355857849121,
          -4.4535908699035645,
          -1.3830403089523315,
          -2.9741101264953613,
          -4.339568614959717,
          -7.796958923339844,
          -4.999682903289795,
          2.3943912982940674,
          1.995487093925476,
          -8.76302433013916,
          -2.1863129138946533,
          -4.5050530433654785,
          0.18351373076438904,
          -8.850167274475098,
          1.8275377750396729,
          -5.258307933807373,
          2.6266887187957764,
          -8.017740249633789,
          -6.539633274078369,
          -1.9060039520263672,
          -5.180484771728516,
          -2.44209623336792,
          0.2553693950176239,
          0.2553693950176239,
          0.2553693950176239,
          -0.12699733674526215,
          -2.3909084796905518,
          -1.280555009841919,
          -2.4512457847595215,
          2.8348257541656494,
          -0.7153311967849731,
          10.274127006530762,
          -0.3236473500728607,
          -0.6146343350410461,
          1.1320477724075317,
          1.1320477724075317,
          -0.10591278225183487,
          -0.1059127226471901,
          -1.059929370880127,
          -1.501454472541809,
          -0.6707577705383301,
          0.9135414958000183,
          -17.515975952148438,
          -0.24224798381328583,
          -0.24224798381328583,
          -0.24224798381328583,
          1.1838563680648804,
          -0.24224798381328583,
          2.5118408203125,
          -1.516944169998169,
          0.2553693950176239,
          -0.30330291390419006,
          -3.6808745861053467,
          5.299724578857422,
          0.2553693950176239,
          0.2553693950176239,
          -5.564991474151611,
          -5.56111478805542,
          -5.563169479370117,
          -6.324839115142822,
          -8.951943397521973,
          -8.951956748962402,
          -5.825226306915283,
          -5.825226306915283,
          -5.825226306915283,
          -5.825226306915283,
          -5.825226783752441,
          -5.825226306915283,
          -12.83572769165039,
          -12.834024429321289,
          -0.325102299451828,
          -2.1175220012664795,
          0.2553693950176239,
          -0.2422492653131485,
          -0.24224798381328583,
          0.2553693950176239,
          0.2553693950176239,
          0.2553693950176239,
          -0.2992984652519226,
          -0.29930242896080017,
          -0.2993023693561554,
          -0.29931166768074036,
          -0.29931166768074036,
          0.21952424943447113,
          -6.932896137237549,
          -4.7368011474609375,
          -1.333674430847168,
          -1.333674430847168,
          -1.333674430847168,
          2.863142967224121,
          3.1310086250305176,
          1.5602377653121948,
          -6.2911481857299805,
          4.788180351257324,
          -4.051011085510254,
          -5.626619815826416,
          0.2553693950176239,
          -0.24224798381328583,
          0.2553693950176239,
          -10.274314880371094,
          -0.24224820733070374,
          -8.787534713745117,
          2.5175747871398926,
          2.5175747871398926,
          0.2553693950176239,
          0.2553693950176239,
          0.2553693950176239,
          0.2553693950176239,
          0.2553693950176239,
          -2.9175832271575928,
          -2.9175782203674316,
          -8.606413841247559,
          -8.604942321777344,
          -6.85024356842041,
          -4.039239406585693,
          -1.6579383611679077,
          -1.6579383611679077,
          0.027352722361683846,
          0.02735273540019989,
          -10.263080596923828,
          -10.255772590637207,
          -10.2685546875,
          0.2553693950176239,
          0.2416943460702896,
          0.2553693950176239,
          3.4034883975982666,
          0.2553693950176239,
          -0.4796152114868164,
          3.0447912216186523,
          -2.782133102416992,
          -2.3841617107391357,
          -6.0816545486450195,
          -6.081646919250488,
          -7.248171806335449,
          -2.9824013710021973,
          -2.9824013710021973,
          -2.5070698261260986,
          0.2553693950176239,
          -2.4413368701934814,
          -5.625302791595459,
          0.2553693950176239,
          -2.5070698261260986,
          -2.6877505779266357,
          -11.050196647644043,
          -6.526126384735107,
          0.2553693950176239,
          -6.898039817810059,
          -4.569519519805908,
          0.2553693950176239,
          0.2553693950176239,
          0.2553693950176239,
          0.2553693950176239,
          -8.98000717163086,
          -8.979177474975586,
          -8.979290962219238,
          4.732652187347412,
          0.4792422950267792,
          -4.725722789764404,
          0.6051533818244934,
          -2.8886358737945557,
          1.1561850309371948,
          0.2553693950176239,
          0.2553693950176239,
          -6.653124809265137,
          -4.003554821014404,
          -4.963649749755859,
          -4.963649749755859,
          0.2553693950176239,
          0.2553693950176239,
          0.2553693950176239,
          0.2553693950176239,
          0.2553693950176239,
          0.2553693950176239,
          0.2553693950176239,
          3.138705015182495,
          -0.3498252034187317,
          -4.963649749755859,
          -10.406447410583496,
          -6.40543270111084,
          -1.333674430847168,
          0.2553693950176239,
          0.2553693950176239,
          -4.497086524963379,
          -4.497086524963379,
          -4.7368011474609375,
          -2.7530012130737305,
          -0.974449098110199,
          -3.4395031929016113,
          0.2553693950176239,
          -1.333674430847168,
          0.2553693950176239,
          -11.890304565429688,
          0.2553693950176239,
          0.2553693950176239,
          -2.124721050262451,
          -2.6183691024780273,
          0.2553693950176239,
          0.2553693950176239,
          0.2553693950176239,
          0.2553693950176239,
          0.2553693950176239,
          0.2553693950176239,
          -1.6109944581985474,
          -1.333674430847168,
          -4.474801540374756,
          -1.333674430847168,
          -4.579122066497803,
          -4.579122066497803,
          0.2553693950176239,
          -4.579122066497803,
          0.2553693950176239,
          0.2553693950176239,
          -1.333674430847168,
          -1.333674430847168,
          -15.553226470947266,
          1.1648733615875244,
          -15.664616584777832,
          -14.322649955749512
         ]
        },
        {
         "hovertemplate": "Dominant_Topic=Topic 190<br>0=%{x}<br>1=%{y}<br>2=%{z}<extra></extra>",
         "legendgroup": "Topic 190",
         "marker": {
          "color": "#ab63fa",
          "opacity": 0.7,
          "symbol": "circle"
         },
         "mode": "markers",
         "name": "Topic 190",
         "scene": "scene",
         "showlegend": true,
         "type": "scatter3d",
         "x": [
          -4.688572883605957,
          -4.688572883605957,
          -4.688625812530518,
          -4.688625812530518
         ],
         "y": [
          -4.340963363647461,
          -4.340963363647461,
          -4.340960502624512,
          -4.340960502624512
         ],
         "z": [
          -3.950982093811035,
          -3.950982093811035,
          -3.9510483741760254,
          -3.9510483741760254
         ]
        },
        {
         "hovertemplate": "Dominant_Topic=Topic 194<br>0=%{x}<br>1=%{y}<br>2=%{z}<extra></extra>",
         "legendgroup": "Topic 194",
         "marker": {
          "color": "#FFA15A",
          "opacity": 0.7,
          "symbol": "circle"
         },
         "mode": "markers",
         "name": "Topic 194",
         "scene": "scene",
         "showlegend": true,
         "type": "scatter3d",
         "x": [
          -1.9160380363464355,
          -1.916037917137146,
          -2.100944995880127,
          -1.916037917137146,
          -1.916037917137146,
          -0.7059820294380188,
          -1.0499385595321655,
          -1.049938678741455,
          -1.9160387516021729,
          -1.9160380363464355,
          2.1449573040008545,
          -1.9160383939743042,
          1.834967851638794,
          1.4879802465438843,
          -2.0231380462646484,
          1.4879801273345947,
          2.1597793102264404
         ],
         "y": [
          15.74079418182373,
          15.74079418182373,
          16.948335647583008,
          15.74079418182373,
          15.74079418182373,
          18.079877853393555,
          16.371145248413086,
          16.371145248413086,
          15.74075698852539,
          15.74079418182373,
          15.94580078125,
          15.74079418182373,
          17.124502182006836,
          15.404149055480957,
          17.198522567749023,
          15.404149055480957,
          15.947297096252441
         ],
         "z": [
          3.3585944175720215,
          3.3585944175720215,
          2.7137563228607178,
          3.3585941791534424,
          3.3585944175720215,
          1.509578824043274,
          3.5201475620269775,
          3.5201478004455566,
          3.358595371246338,
          3.3585944175720215,
          2.568570613861084,
          3.3585939407348633,
          2.5474894046783447,
          2.679377555847168,
          2.4470386505126953,
          2.679377794265747,
          2.5742809772491455
         ]
        },
        {
         "hovertemplate": "Dominant_Topic=Topic 271<br>0=%{x}<br>1=%{y}<br>2=%{z}<extra></extra>",
         "legendgroup": "Topic 271",
         "marker": {
          "color": "#19d3f3",
          "opacity": 0.7,
          "symbol": "circle"
         },
         "mode": "markers",
         "name": "Topic 271",
         "scene": "scene",
         "showlegend": true,
         "type": "scatter3d",
         "x": [
          -12.500076293945312,
          -11.307198524475098,
          -12.257503509521484,
          -13.320405960083008,
          -10.339885711669922,
          -13.161914825439453,
          -11.511266708374023,
          -12.483404159545898,
          -14.726640701293945,
          -13.105992317199707,
          -16.532075881958008,
          -12.606490135192871,
          -5.684253215789795,
          -12.257448196411133,
          -11.847789764404297,
          -12.605469703674316,
          -15.84532356262207,
          -12.029671669006348,
          -12.25032901763916,
          -16.532073974609375,
          -14.067598342895508,
          -12.539488792419434,
          -13.312162399291992,
          -12.986801147460938,
          -10.339983940124512,
          -11.549768447875977,
          -11.824077606201172,
          -12.927948951721191,
          -12.927948951721191,
          -13.166444778442383,
          -16.15254020690918,
          -11.73990535736084,
          -11.795455932617188,
          -15.181888580322266,
          -12.133353233337402,
          -11.81478500366211,
          -11.080283164978027,
          -11.080255508422852,
          -13.195488929748535,
          -5.495054244995117,
          -12.98493480682373,
          -16.06317901611328,
          -14.067697525024414,
          -12.22728157043457,
          -12.114386558532715,
          -12.606490135192871,
          -16.30524253845215,
          -15.845277786254883,
          -12.984786987304688,
          -12.984758377075195,
          -5.593584060668945,
          -16.14040184020996,
          -15.181909561157227,
          -16.14046287536621,
          -16.140443801879883,
          -16.140430450439453,
          -16.140422821044922,
          -11.82071304321289,
          -11.82071304321289,
          -12.686784744262695,
          -15.181888580322266,
          -16.140445709228516,
          -5.8207502365112305,
          -12.802172660827637,
          -5.820751667022705,
          -15.845318794250488,
          -6.520027160644531,
          -12.558344841003418,
          -12.295910835266113
         ],
         "y": [
          6.311297416687012,
          3.355471611022949,
          7.585838794708252,
          8.691008567810059,
          3.1155896186828613,
          6.864621162414551,
          6.969470024108887,
          7.763978958129883,
          7.926117897033691,
          7.392470359802246,
          6.939868927001953,
          6.423766613006592,
          5.7014899253845215,
          6.108885765075684,
          6.241669178009033,
          7.575916290283203,
          7.523914813995361,
          7.106551170349121,
          5.961940765380859,
          6.939868927001953,
          4.051028728485107,
          6.687926769256592,
          6.67712926864624,
          6.346078872680664,
          3.115675687789917,
          6.565260887145996,
          7.308063507080078,
          7.2714152336120605,
          7.2714152336120605,
          6.72578239440918,
          2.1773529052734375,
          7.4548563957214355,
          6.714761257171631,
          7.447352886199951,
          7.610413074493408,
          6.186668872833252,
          8.5982666015625,
          8.597620010375977,
          6.2164998054504395,
          5.556389331817627,
          4.519857883453369,
          2.4626376628875732,
          4.051197052001953,
          3.555060863494873,
          7.4741291999816895,
          6.423766613006592,
          1.899876594543457,
          7.523944854736328,
          4.519577980041504,
          4.51953125,
          5.700526237487793,
          2.9658870697021484,
          7.4473724365234375,
          2.965843677520752,
          2.9658567905426025,
          2.9658687114715576,
          2.9658727645874023,
          6.760198593139648,
          6.760198593139648,
          7.193477153778076,
          7.447352886199951,
          2.965855836868286,
          0.6482000946998596,
          5.962948322296143,
          0.6481971740722656,
          7.523909091949463,
          5.719632148742676,
          7.1482696533203125,
          3.640359878540039
         ],
         "z": [
          2.813746213912964,
          2.5017778873443604,
          2.467278480529785,
          2.399460792541504,
          1.5069993734359741,
          3.8722329139709473,
          3.2494869232177734,
          3.192742347717285,
          2.0414793491363525,
          3.6303515434265137,
          2.980414390563965,
          4.033540725708008,
          1.6616911888122559,
          2.78611421585083,
          3.7419240474700928,
          3.817244291305542,
          3.8284430503845215,
          3.9915690422058105,
          3.5336172580718994,
          2.980414867401123,
          5.228689670562744,
          2.1135599613189697,
          3.4378535747528076,
          2.644040584564209,
          1.5070093870162964,
          3.143598794937134,
          3.308063507080078,
          2.9478952884674072,
          2.9478952884674072,
          2.693437099456787,
          -0.4466955065727234,
          2.579831123352051,
          3.9368975162506104,
          2.6666066646575928,
          1.2100919485092163,
          2.972475290298462,
          4.298762798309326,
          4.298820495605469,
          3.357666015625,
          1.690209984779358,
          1.5750387907028198,
          -0.14718970656394958,
          5.228671073913574,
          3.1160762310028076,
          3.264892578125,
          4.033540725708008,
          -0.8137019276618958,
          3.828441858291626,
          1.5754369497299194,
          1.5755001306533813,
          1.6398407220840454,
          2.2592508792877197,
          2.6666154861450195,
          2.259763717651367,
          2.259622097015381,
          2.2594780921936035,
          2.2594330310821533,
          2.316293478012085,
          2.316293478012085,
          2.2251617908477783,
          2.6666066646575928,
          2.2596304416656494,
          -1.1199105978012085,
          3.3973538875579834,
          -1.1198912858963013,
          3.828442335128784,
          1.8223735094070435,
          4.142260551452637,
          3.268126964569092
         ]
        },
        {
         "hovertemplate": "Dominant_Topic=Topic 28<br>0=%{x}<br>1=%{y}<br>2=%{z}<extra></extra>",
         "legendgroup": "Topic 28",
         "marker": {
          "color": "#FF6692",
          "opacity": 0.7,
          "symbol": "circle"
         },
         "mode": "markers",
         "name": "Topic 28",
         "scene": "scene",
         "showlegend": true,
         "type": "scatter3d",
         "x": [
          5.851358890533447,
          7.186673641204834,
          7.185816764831543,
          7.187499046325684,
          7.185939788818359,
          5.85186243057251,
          5.829835414886475,
          4.870370388031006
         ],
         "y": [
          9.868508338928223,
          9.73416805267334,
          9.733702659606934,
          9.73452091217041,
          9.733864784240723,
          9.868669509887695,
          9.858939170837402,
          8.859541893005371
         ],
         "z": [
          -7.878668308258057,
          -8.003547668457031,
          -8.00387191772461,
          -8.003305435180664,
          -8.003756523132324,
          -7.878384590148926,
          -7.891294956207275,
          -5.5053229331970215
         ]
        },
        {
         "hovertemplate": "Dominant_Topic=Topic 284<br>0=%{x}<br>1=%{y}<br>2=%{z}<extra></extra>",
         "legendgroup": "Topic 284",
         "marker": {
          "color": "#B6E880",
          "opacity": 0.7,
          "symbol": "circle"
         },
         "mode": "markers",
         "name": "Topic 284",
         "scene": "scene",
         "showlegend": true,
         "type": "scatter3d",
         "x": [
          -2.3855526447296143,
          2.8617115020751953,
          7.982963562011719,
          1.0010370016098022,
          9.608430862426758,
          -0.2257775366306305,
          8.639751434326172,
          -0.40160316228866577,
          -1.47340989112854,
          8.287781715393066,
          0.3250581920146942,
          -3.2950422763824463,
          -0.22689388692378998,
          0.920131266117096,
          2.1649422645568848,
          7.23414945602417,
          2.668628692626953,
          2.995572328567505,
          2.433929443359375,
          8.276124954223633,
          1.1507103443145752,
          1.9239208698272705,
          5.693145275115967,
          8.873427391052246,
          3.3398022651672363,
          1.1137452125549316,
          -5.043767929077148,
          3.548147201538086,
          4.135128021240234,
          -1.275161623954773,
          2.5394880771636963,
          -4.941850662231445,
          -6.767483234405518,
          -6.767539024353027,
          1.9793694019317627,
          2.1752524375915527,
          3.382640838623047,
          9.217805862426758,
          1.0049747228622437,
          1.1039279699325562,
          1.0049747228622437,
          1.0049747228622437,
          1.0049747228622437,
          1.0049747228622437,
          -16.55354881286621,
          0.6774793863296509,
          4.9094953536987305,
          4.090063571929932,
          8.67856502532959,
          2.7259795665740967,
          1.7493870258331299,
          4.390520095825195,
          1.3947802782058716,
          -4.708815097808838,
          4.390520095825195,
          9.41601276397705,
          5.326371192932129,
          7.621880531311035,
          7.370447158813477,
          -0.9745156764984131,
          7.370447158813477,
          7.971445083618164,
          -0.4305700957775116,
          7.909775733947754,
          8.9823579788208,
          -0.1420702338218689,
          7.048590660095215,
          2.1730129718780518,
          -4.708815574645996,
          9.217787742614746,
          1.0049747228622437,
          1.0049747228622437,
          -4.651257514953613,
          8.856424331665039,
          -4.651025295257568,
          -0.4812285304069519,
          2.127096176147461,
          2.9748623371124268,
          9.4410400390625,
          -0.23582230508327484,
          1.041629433631897,
          1.3922619819641113,
          8.230688095092773,
          8.23070240020752,
          3.409358501434326,
          8.230708122253418,
          1.0049747228622437,
          3.9552505016326904,
          1.6434725522994995,
          2.8253090381622314,
          -0.31631261110305786,
          7.56613826751709,
          -0.3305446207523346,
          7.959934234619141,
          -2.1245670318603516,
          -3.240673780441284,
          -4.449521064758301,
          -2.971651554107666,
          8.85660171508789,
          -16.55332374572754,
          -16.55355453491211,
          1.0049747228622437,
          6.878580570220947,
          4.407142162322998,
          2.787992238998413,
          4.64634370803833,
          4.038079261779785,
          4.038140296936035,
          -6.134744644165039,
          -0.33198851346969604,
          -0.43066805601119995,
          -0.4312208294868469,
          -0.4305697977542877,
          -0.3319880962371826,
          -0.43066805601119995,
          0.5174506306648254,
          1.6012911796569824,
          -2.6633317470550537,
          9.771946907043457,
          1.450258493423462,
          3.7309768199920654,
          9.367094039916992,
          7.991291046142578,
          -4.5948052406311035,
          -0.5053126811981201,
          9.128073692321777,
          1.1362364292144775,
          2.3617403507232666,
          -0.5053126811981201,
          4.038056373596191,
          -0.7122965455055237,
          -0.07216311246156693,
          3.467233896255493,
          2.3366405963897705,
          9.190656661987305,
          7.302746295928955,
          -5.171969413757324,
          0.9002228379249573,
          3.636139154434204,
          4.038181304931641,
          -0.22593656182289124,
          8.853267669677734,
          0.6204718947410583,
          -0.7945410013198853,
          -0.5053126811981201,
          3.382643938064575,
          3.382643222808838,
          3.3826513290405273,
          -1.5315059423446655,
          -1.5315040349960327,
          1.6396349668502808,
          0.39635249972343445,
          -7.764458656311035,
          -7.764458656311035,
          2.415666341781616,
          8.2844820022583,
          -7.626016139984131,
          -7.625996112823486,
          -7.764459133148193,
          -1.0929681062698364,
          11.288225173950195,
          11.288220405578613,
          -3.2369987964630127,
          9.744956016540527,
          -0.22645151615142822,
          7.160839080810547,
          3.950284242630005,
          2.966481924057007,
          0.951648473739624,
          -7.62600040435791,
          0.9517568349838257,
          3.7818596363067627,
          4.4173359870910645,
          8.168562889099121,
          1.6624699831008911,
          1.780468463897705,
          11.450277328491211,
          9.0772705078125,
          10.4552001953125,
          0.9233144521713257,
          0.9692569375038147,
          8.460345268249512,
          4.285238742828369,
          10.425273895263672,
          9.666287422180176,
          0.7065830826759338,
          7.8689799308776855,
          8.152283668518066,
          7.938825607299805,
          -0.31631559133529663,
          -4.44884729385376,
          7.858849048614502,
          1.8574225902557373,
          3.8159258365631104,
          4.863418102264404,
          7.1368913650512695,
          3.4355063438415527,
          4.500861167907715,
          4.48157262802124,
          8.76785945892334,
          1.7739251852035522,
          0.8996663689613342,
          2.2109992504119873,
          3.115692138671875,
          2.3491601943969727,
          4.487839221954346,
          4.441944122314453,
          3.179800271987915,
          2.708648204803467,
          2.501326322555542,
          7.619763374328613,
          -0.1769966036081314,
          7.610353946685791,
          -6.062495708465576,
          -0.06963153183460236,
          4.470036029815674,
          -4.649276256561279,
          -2.1874935626983643,
          -2.1874935626983643,
          9.055540084838867,
          0.9149078726768494,
          0.7401231527328491,
          -6.767749786376953,
          3.668785810470581,
          -0.33198830485343933,
          -0.3319884240627289,
          -5.171969413757324,
          -5.543262004852295,
          -0.4305700957775116,
          -0.4305700957775116,
          -0.4312208294868469,
          -4.448843955993652,
          -5.138582706451416,
          -4.5948052406311035,
          3.570708751678467,
          10.444754600524902,
          10.44463062286377,
          10.444557189941406,
          10.443863868713379,
          10.443912506103516,
          10.44378662109375,
          -5.171969413757324,
          10.4443359375,
          0.09509507566690445,
          8.171248435974121,
          -2.793757677078247,
          -6.0624823570251465,
          -7.280029773712158,
          -7.279810905456543,
          -7.28003454208374,
          -7.2800068855285645,
          -7.279855728149414,
          -7.27995491027832,
          -9.900946617126465,
          -9.622085571289062,
          -10.050540924072266,
          -9.853602409362793,
          -9.87752914428711,
          9.608430862426758,
          7.9493513107299805,
          2.5394937992095947,
          -6.767367362976074,
          -6.767401695251465,
          5.32637882232666,
          1.6386194229125977,
          8.812939643859863,
          -0.7945410013198853,
          -0.5053126811981201,
          -0.5053126811981201,
          8.073238372802734,
          -6.767775535583496,
          -2.7987241744995117,
          -2.7987241744995117,
          1.5129733085632324,
          11.450251579284668,
          -0.011578752659261227,
          0.016781726852059364,
          0.6119867563247681,
          3.6677613258361816,
          -3.5972559452056885,
          -9.511933326721191,
          7.075302600860596,
          1.5902585983276367,
          2.219829559326172,
          9.750632286071777,
          10.328583717346191,
          -0.945506751537323,
          8.396424293518066,
          8.4615478515625,
          8.058023452758789,
          7.729020595550537,
          7.365016937255859,
          8.846091270446777,
          2.573188066482544,
          7.920447826385498,
          1.1344228982925415,
          -16.771902084350586,
          -17.01144027709961,
          -9.615050315856934,
          -9.485250473022461,
          -9.830137252807617,
          -9.966592788696289,
          4.3877482414245605,
          -9.559313774108887,
          -2.914390802383423,
          4.390520095825195,
          9.608430862426758,
          9.608366012573242,
          -16.553539276123047,
          0.41227999329566956,
          -17.01144027709961,
          -16.87487030029297,
          4.3877482414245605,
          -5.165015697479248,
          0.5627040863037109,
          1.0292073488235474,
          2.871952533721924,
          4.365703105926514,
          9.882652282714844,
          10.747604370117188,
          -4.4517412185668945,
          -4.5948052406311035,
          -5.0680975914001465,
          -5.424375057220459,
          -5.713268280029297,
          -5.713268280029297,
          -17.26755714416504,
          -5.465392589569092,
          -16.553295135498047,
          -16.9322566986084,
          -16.9322566986084,
          -2.019763946533203,
          0.1135730892419815,
          -7.764431476593018,
          -15.611616134643555,
          -7.764437675476074,
          -7.764437675476074,
          -5.0680975914001465,
          -5.0680975914001465,
          -4.5753703117370605,
          -5.713268280029297,
          -5.1362199783325195,
          -5.1362199783325195,
          -5.1362199783325195,
          -5.1362199783325195,
          -5.1362199783325195,
          6.429780960083008,
          0.8480863571166992,
          1.3528412580490112,
          8.055489540100098,
          8.039185523986816,
          8.961590766906738,
          -16.610519409179688,
          -16.610519409179688,
          -1.9129505157470703,
          -3.543240547180176,
          -2.8006844520568848,
          -2.262525796890259,
          -3.291078567504883,
          -2.3934078216552734,
          -2.368694543838501,
          -2.3934078216552734,
          -3.1224002838134766,
          -2.8315021991729736,
          -8.577381134033203,
          -8.577388763427734,
          7.370447158813477,
          -3.2803094387054443,
          7.450550079345703,
          8.261975288391113,
          7.365425109863281,
          -4.773649215698242,
          -4.785370826721191,
          -5.713268280029297,
          7.781090259552002,
          2.666813850402832,
          0.7820357084274292,
          -1.1682156324386597,
          7.965728282928467,
          -7.062282562255859,
          -1.1682156324386597,
          4.213365077972412,
          10.404945373535156,
          11.39688777923584,
          4.475436210632324,
          -2.7276976108551025,
          9.766791343688965,
          3.7790510654449463,
          9.19921875,
          -16.726268768310547,
          -5.277955532073975,
          0.15530061721801758,
          6.392637729644775,
          2.86063814163208,
          9.608429908752441,
          8.079276084899902,
          7.936246395111084,
          2.723012924194336,
          -5.118206024169922,
          -4.982126235961914,
          -5.021944999694824,
          -4.782772541046143,
          9.846713066101074,
          -5.251401424407959,
          0.1552867442369461,
          -3.4594223499298096,
          1.9355446100234985,
          -5.522705078125,
          2.6530256271362305,
          10.446449279785156,
          7.308863162994385,
          -7.116066932678223,
          -5.115760803222656,
          0.15531063079833984,
          -4.718552589416504,
          -5.028716564178467,
          -2.7291135787963867,
          9.700821876525879,
          4.673266410827637,
          8.680431365966797,
          3.250844717025757,
          8.523879051208496,
          -4.810649871826172,
          3.3260555267333984,
          -5.047519683837891,
          -15.766008377075195,
          11.396900177001953,
          11.396897315979004,
          7.965761661529541,
          -6.904429912567139,
          -4.676358699798584,
          3.6671721935272217,
          11.39688491821289,
          9.873368263244629,
          11.450267791748047,
          7.447366714477539,
          6.896337509155273,
          9.608317375183105,
          -16.61454963684082,
          7.9463043212890625,
          3.0498931407928467,
          -9.084266662597656,
          3.4049203395843506,
          9.635348320007324,
          10.316055297851562,
          8.600184440612793
         ],
         "y": [
          9.553908348083496,
          -0.44996020197868347,
          7.540526390075684,
          0.3166300654411316,
          -0.5131698250770569,
          4.539060592651367,
          4.899616718292236,
          11.189762115478516,
          8.200596809387207,
          6.160423278808594,
          -3.2464535236358643,
          9.160635948181152,
          4.5367960929870605,
          6.714450359344482,
          -0.06052107736468315,
          8.200926780700684,
          15.218001365661621,
          1.3513867855072021,
          -1.870786428451538,
          7.163475513458252,
          -2.640054702758789,
          0.6481818556785583,
          0.06497029960155487,
          7.842577934265137,
          0.16670633852481842,
          0.24606136977672577,
          1.457444667816162,
          -1.071410059928894,
          -0.15301676094532013,
          8.615950584411621,
          14.299132347106934,
          15.290518760681152,
          -1.9246867895126343,
          -1.9246997833251953,
          -0.4156841039657593,
          0.13834957778453827,
          7.965210914611816,
          5.411547660827637,
          6.066066741943359,
          5.991954326629639,
          6.066066741943359,
          6.066066741943359,
          6.066066741943359,
          6.066066741943359,
          1.3022406101226807,
          1.0593883991241455,
          -0.7584048509597778,
          0.9288210272789001,
          6.2136454582214355,
          1.0104936361312866,
          -2.2520668506622314,
          8.281923294067383,
          6.276458263397217,
          4.220531463623047,
          8.281923294067383,
          6.855185508728027,
          4.2968034744262695,
          2.722503423690796,
          2.1415817737579346,
          -3.487558603286743,
          2.1415817737579346,
          2.1442360877990723,
          7.906291961669922,
          6.630133152008057,
          5.132877826690674,
          -0.12677520513534546,
          6.234350681304932,
          -1.4346563816070557,
          4.220531940460205,
          5.41154670715332,
          6.066066741943359,
          6.066066741943359,
          -1.933207631111145,
          6.958718299865723,
          -1.9330050945281982,
          8.542046546936035,
          -0.7882474064826965,
          -0.6942470669746399,
          6.312103748321533,
          10.808547973632812,
          8.394266128540039,
          -1.532056450843811,
          -0.5358668565750122,
          -0.5359049439430237,
          7.400087356567383,
          -0.5358902812004089,
          6.066066741943359,
          1.115024447441101,
          -1.647103190422058,
          -2.6085965633392334,
          -3.031719207763672,
          6.551686763763428,
          -0.6088578701019287,
          4.151662826538086,
          9.242815971374512,
          10.395732879638672,
          8.55953311920166,
          8.92645263671875,
          5.469422340393066,
          1.3021200895309448,
          1.302200198173523,
          6.066066741943359,
          7.20390510559082,
          1.280845284461975,
          1.925722599029541,
          0.5355504751205444,
          8.401360511779785,
          8.401360511779785,
          5.307225704193115,
          -3.3197021484375,
          7.906188011169434,
          7.903848648071289,
          7.906291961669922,
          -3.319706439971924,
          7.906188011169434,
          1.5730940103530884,
          -1.264548420906067,
          8.924367904663086,
          6.218265056610107,
          -0.6135118007659912,
          1.7634224891662598,
          7.0774078369140625,
          5.4680562019348145,
          13.811182022094727,
          8.404679298400879,
          6.669276237487793,
          -1.041667103767395,
          -1.2333635091781616,
          8.404679298400879,
          8.401359558105469,
          8.557561874389648,
          0.42553526163101196,
          0.17274312674999237,
          0.49258673191070557,
          6.429324150085449,
          7.421166896820068,
          15.047043800354004,
          1.6476823091506958,
          1.2997714281082153,
          8.401361465454102,
          4.5385050773620605,
          8.574151039123535,
          -1.7432312965393066,
          8.442105293273926,
          8.404679298400879,
          7.965212345123291,
          7.965216636657715,
          7.965215682983398,
          8.825003623962402,
          8.8250150680542,
          1.3890105485916138,
          -0.5673712491989136,
          5.194684028625488,
          5.194684028625488,
          -2.8276257514953613,
          6.959040641784668,
          -6.911247253417969,
          -6.911245346069336,
          5.194684028625488,
          -2.8909130096435547,
          0.7362939715385437,
          0.7362613677978516,
          9.77740478515625,
          5.998426914215088,
          4.537313461303711,
          1.022703766822815,
          -2.1366541385650635,
          -2.1264421939849854,
          6.18459939956665,
          -6.911246299743652,
          6.18475866317749,
          -1.2439398765563965,
          -1.941519021987915,
          7.1318583488464355,
          1.0374196767807007,
          -0.9960336685180664,
          6.1750078201293945,
          5.632730960845947,
          6.047281742095947,
          -0.8909192681312561,
          0.13733401894569397,
          7.692083358764648,
          -1.3986382484436035,
          7.816346168518066,
          8.207815170288086,
          -3.2636823654174805,
          8.653229713439941,
          2.970606565475464,
          1.82205069065094,
          -3.031728744506836,
          3.27126145362854,
          5.6922526359558105,
          0.7919144630432129,
          -0.41512688994407654,
          0.138936847448349,
          7.84357213973999,
          1.9491947889328003,
          7.619022369384766,
          7.655332565307617,
          5.09149694442749,
          1.0854625701904297,
          6.713161945343018,
          2.047732353210449,
          0.25071999430656433,
          -0.21924224495887756,
          7.6435747146606445,
          7.69105339050293,
          0.25439122319221497,
          0.9634583592414856,
          1.7574971914291382,
          2.3190622329711914,
          9.585325241088867,
          2.316701889038086,
          5.273086071014404,
          -3.172621726989746,
          7.682372093200684,
          3.9683971405029297,
          10.219551086425781,
          10.219551086425781,
          7.2138352394104,
          -0.6288848519325256,
          -2.435965061187744,
          -1.9247525930404663,
          1.2333498001098633,
          -3.3196828365325928,
          -3.3196969032287598,
          15.047043800354004,
          15.233485221862793,
          7.906291961669922,
          7.906291961669922,
          7.903848648071289,
          3.271251678466797,
          14.223191261291504,
          13.811182022094727,
          0.5524784922599792,
          7.240716934204102,
          7.240462303161621,
          7.240550518035889,
          7.2393012046813965,
          7.239569187164307,
          7.239297866821289,
          15.047043800354004,
          7.240057945251465,
          -1.801326870918274,
          1.930818796157837,
          10.587339401245117,
          5.273073673248291,
          -0.753897488117218,
          -0.7535898089408875,
          -0.7539078593254089,
          -0.7538414597511292,
          -0.7533068060874939,
          -0.7535392642021179,
          3.3252010345458984,
          2.784060001373291,
          3.1782548427581787,
          2.8983154296875,
          3.298633098602295,
          -0.5131697654724121,
          4.120123863220215,
          14.299121856689453,
          -1.9246644973754883,
          -1.9246537685394287,
          4.296807289123535,
          -2.501471757888794,
          8.679574012756348,
          8.442105293273926,
          8.404679298400879,
          8.404679298400879,
          8.639248847961426,
          -1.9247581958770752,
          13.905891418457031,
          13.905891418457031,
          2.162616491317749,
          6.175008773803711,
          0.9182119369506836,
          -1.3536666631698608,
          4.0756916999816895,
          1.2567297220230103,
          9.671937942504883,
          2.9150633811950684,
          1.7979925870895386,
          1.8950397968292236,
          -0.024629566818475723,
          5.3514509201049805,
          6.930391311645508,
          0.7305057644844055,
          2.402235507965088,
          2.561218023300171,
          2.7185516357421875,
          3.0231873989105225,
          7.2417731285095215,
          8.935015678405762,
          -1.476060390472412,
          8.14193344116211,
          -0.024788476526737213,
          -1.779268741607666,
          -1.821759581565857,
          3.3398020267486572,
          3.066251039505005,
          3.0767064094543457,
          2.9710354804992676,
          8.281147003173828,
          2.7934718132019043,
          10.378860473632812,
          8.281923294067383,
          -0.5131697654724121,
          -0.5131781101226807,
          1.3022279739379883,
          7.117076873779297,
          -1.821759581565857,
          -1.9384006261825562,
          8.281147003173828,
          -2.384105682373047,
          0.7188822627067566,
          6.278262615203857,
          14.77484130859375,
          -0.27841103076934814,
          7.801660537719727,
          6.995434761047363,
          6.297168254852295,
          13.811182022094727,
          13.091683387756348,
          13.710116386413574,
          13.754548072814941,
          13.754548072814941,
          1.4559298753738403,
          14.174102783203125,
          1.302198052406311,
          -1.5581436157226562,
          -1.5581436157226562,
          9.494741439819336,
          -0.6086695194244385,
          5.194693565368652,
          -3.806626081466675,
          5.194698333740234,
          5.194697856903076,
          13.091683387756348,
          13.091683387756348,
          4.763006210327148,
          13.754548072814941,
          6.002983093261719,
          6.002983093261719,
          6.002983570098877,
          6.002983093261719,
          6.002983093261719,
          3.6116645336151123,
          5.983094692230225,
          -0.039510730654001236,
          2.0458998680114746,
          2.799607038497925,
          7.81949520111084,
          -1.6799399852752686,
          -1.6799399852752686,
          9.80847454071045,
          9.870052337646484,
          9.210243225097656,
          9.608646392822266,
          9.45533275604248,
          10.31057071685791,
          9.00909423828125,
          10.31057071685791,
          10.199463844299316,
          9.816530227661133,
          2.368899345397949,
          2.3688344955444336,
          2.1415817737579346,
          9.325626373291016,
          2.6143391132354736,
          2.334561824798584,
          2.808117151260376,
          14.1803617477417,
          13.828890800476074,
          13.754548072814941,
          2.4899611473083496,
          -0.7349778413772583,
          -1.6944218873977661,
          -4.379361629486084,
          4.169066905975342,
          0.2638309895992279,
          -4.379361629486084,
          9.668901443481445,
          6.21144962310791,
          0.9756395816802979,
          8.286849021911621,
          9.243880271911621,
          7.333370685577393,
          -0.46885964274406433,
          7.850527763366699,
          -1.687774419784546,
          -2.208481788635254,
          -3.188533067703247,
          3.5187811851501465,
          0.8979014158248901,
          -0.5131699442863464,
          6.879363536834717,
          8.033946990966797,
          -1.9216737747192383,
          13.54869270324707,
          -2.4340686798095703,
          -1.8879737854003906,
          -2.1484856605529785,
          8.629371643066406,
          -2.2844302654266357,
          -3.1885886192321777,
          10.159217834472656,
          -2.925429582595825,
          13.378329277038574,
          2.1642274856567383,
          7.892563343048096,
          5.789186477661133,
          4.709205150604248,
          13.494562149047852,
          -3.188599109649658,
          13.518782615661621,
          -1.889203429222107,
          9.94755744934082,
          7.205522537231445,
          -1.1765351295471191,
          7.730243682861328,
          -1.4605053663253784,
          6.151025295257568,
          -2.308931827545166,
          -2.8038458824157715,
          -1.8899644613265991,
          -3.5436525344848633,
          0.9757910966873169,
          0.9757885336875916,
          4.169064998626709,
          0.9160635471343994,
          -1.9426884651184082,
          -2.401578187942505,
          0.9757676124572754,
          5.433160305023193,
          6.1750054359436035,
          6.240133762359619,
          6.73850679397583,
          -0.5131323933601379,
          -1.6740641593933105,
          5.20901346206665,
          -0.8372005820274353,
          3.4610631465911865,
          -1.352771282196045,
          8.469615936279297,
          6.9551544189453125,
          6.242225646972656
         ],
         "z": [
          12.134310722351074,
          14.27949333190918,
          7.012791156768799,
          14.428221702575684,
          5.53535270690918,
          4.043215274810791,
          -0.269941121339798,
          2.374986410140991,
          3.9774668216705322,
          8.657489776611328,
          1.175072431564331,
          11.208243370056152,
          4.04420804977417,
          1.376362919807434,
          16.834697723388672,
          6.731818199157715,
          2.605907917022705,
          12.37136459350586,
          14.099000930786133,
          5.191378593444824,
          14.9141845703125,
          13.04498291015625,
          16.59636878967285,
          8.841612815856934,
          16.645227432250977,
          13.43996810913086,
          -0.2271316647529602,
          16.495895385742188,
          15.777217864990234,
          6.049682140350342,
          1.9722943305969238,
          12.984333038330078,
          10.00975227355957,
          10.00983715057373,
          14.75356674194336,
          13.984338760375977,
          -1.0313746929168701,
          -0.17860642075538635,
          15.8023681640625,
          15.32485580444336,
          15.8023681640625,
          15.8023681640625,
          15.8023681640625,
          15.8023681640625,
          -1.4722782373428345,
          15.66153335571289,
          14.664190292358398,
          12.80993366241455,
          7.5453410148620605,
          13.630897521972656,
          16.01498794555664,
          -4.34918737411499,
          15.581476211547852,
          10.115833282470703,
          -4.34918737411499,
          5.237526893615723,
          8.586170196533203,
          -2.4476027488708496,
          -2.107602834701538,
          2.1408729553222656,
          -2.107602834701538,
          -2.465023994445801,
          3.864957571029663,
          6.91901969909668,
          6.6643829345703125,
          13.353084564208984,
          6.430243968963623,
          13.033604621887207,
          10.115814208984375,
          -0.1786065697669983,
          15.8023681640625,
          15.8023681640625,
          11.122936248779297,
          8.025123596191406,
          11.122298240661621,
          14.324119567871094,
          13.878840446472168,
          15.583931922912598,
          7.197863578796387,
          2.8706183433532715,
          4.2825493812561035,
          13.787069320678711,
          6.076642990112305,
          6.076904296875,
          -3.5657215118408203,
          6.07687520980835,
          15.8023681640625,
          15.713687896728516,
          14.771127700805664,
          13.077454566955566,
          4.0198493003845215,
          5.593708515167236,
          14.469380378723145,
          10.719642639160156,
          11.163047790527344,
          11.272162437438965,
          11.834517478942871,
          11.612963676452637,
          5.805554389953613,
          -1.4725924730300903,
          -1.4722930192947388,
          15.8023681640625,
          6.776417255401611,
          13.93499755859375,
          15.588469505310059,
          14.899301528930664,
          2.5201146602630615,
          2.520113945007324,
          10.414856910705566,
          1.1198227405548096,
          3.8649020195007324,
          3.8633666038513184,
          3.864957809448242,
          1.1198227405548096,
          3.8649020195007324,
          14.598042488098145,
          11.856224060058594,
          11.154178619384766,
          8.29621696472168,
          12.958087921142578,
          14.748608589172363,
          7.485383987426758,
          7.891204833984375,
          12.86970329284668,
          13.979509353637695,
          8.974634170532227,
          16.582128524780273,
          16.698928833007812,
          13.979509353637695,
          2.5200729370117188,
          14.290104866027832,
          14.880825996398926,
          11.94681453704834,
          11.772956848144531,
          6.3909010887146,
          5.952780246734619,
          13.520787239074707,
          13.266386032104492,
          3.7204651832580566,
          2.5201053619384766,
          4.043521404266357,
          5.972542762756348,
          15.725021362304688,
          14.22894287109375,
          13.979509353637695,
          -1.0313767194747925,
          -1.0313758850097656,
          -1.031373381614685,
          6.812507152557373,
          6.812506198883057,
          12.251338958740234,
          12.360981941223145,
          8.212167739868164,
          8.212167739868164,
          15.049373626708984,
          6.269586086273193,
          -2.635084390640259,
          -2.635127067565918,
          8.21216869354248,
          0.6281136870384216,
          0.013186284340918064,
          0.013268784619867802,
          12.203442573547363,
          5.644992828369141,
          4.043972969055176,
          -0.7825129628181458,
          13.07767391204834,
          16.057403564453125,
          4.0504255294799805,
          -2.6351189613342285,
          4.050423622131348,
          12.18869400024414,
          14.312703132629395,
          8.93782901763916,
          14.098344802856445,
          15.639046669006348,
          9.938361167907715,
          8.405570030212402,
          7.48777437210083,
          14.793904304504395,
          16.465412139892578,
          7.719038009643555,
          15.581321716308594,
          7.688116550445557,
          8.273114204406738,
          3.0929160118103027,
          7.551560878753662,
          -2.0250513553619385,
          -1.8946216106414795,
          4.019839763641357,
          0.18462450802326202,
          5.959397792816162,
          15.053671836853027,
          14.716930389404297,
          13.703314781188965,
          7.689076900482178,
          13.432364463806152,
          -4.076534748077393,
          -4.073456287384033,
          7.562516212463379,
          16.27433967590332,
          1.5071635246276855,
          13.150337219238281,
          15.097495079040527,
          12.78761100769043,
          -4.075397968292236,
          -4.090834617614746,
          13.182628631591797,
          14.644704818725586,
          17.80498504638672,
          -4.393850803375244,
          14.039214134216309,
          -4.388300895690918,
          9.880131721496582,
          2.932399034500122,
          -4.0635085105896,
          10.068747520446777,
          11.80290412902832,
          11.80290412902832,
          6.243228435516357,
          13.900230407714844,
          13.736947059631348,
          10.010181427001953,
          3.712334632873535,
          1.1198230981826782,
          1.1198227405548096,
          13.520787239074707,
          13.040093421936035,
          3.864957571029663,
          3.864957571029663,
          3.8633666038513184,
          0.18462404608726501,
          12.190703392028809,
          12.86970329284668,
          14.152993202209473,
          0.4931603968143463,
          0.4931865632534027,
          0.49317827820777893,
          0.49308907985687256,
          0.493062287569046,
          0.49308982491493225,
          13.520787239074707,
          0.493229478597641,
          14.647904396057129,
          -2.1127021312713623,
          11.49477481842041,
          9.880147933959961,
          11.785141944885254,
          11.785277366638184,
          11.785144805908203,
          11.785124778747559,
          11.7849760055542,
          11.785050392150879,
          7.609782695770264,
          7.6078925132751465,
          7.563879489898682,
          7.742433547973633,
          7.283238887786865,
          5.53535270690918,
          10.762219429016113,
          1.972292184829712,
          10.009603500366211,
          10.009568214416504,
          8.586177825927734,
          12.709534645080566,
          8.081239700317383,
          14.22894287109375,
          13.979509353637695,
          13.979509353637695,
          6.531086444854736,
          10.010184288024902,
          12.216561317443848,
          12.216559410095215,
          14.171483993530273,
          9.938360214233398,
          13.732362747192383,
          13.465902328491211,
          3.565683603286743,
          3.7221412658691406,
          11.555719375610352,
          7.297586441040039,
          -0.9239856004714966,
          15.356542587280273,
          15.684060096740723,
          7.616634845733643,
          7.940515041351318,
          16.663524627685547,
          -2.2410941123962402,
          -1.8871909379959106,
          -2.4473915100097656,
          -1.9747014045715332,
          8.408770561218262,
          7.102014064788818,
          15.10855770111084,
          8.45258617401123,
          15.366082191467285,
          -3.0120272636413574,
          -3.1997220516204834,
          7.386544704437256,
          7.27436637878418,
          7.155433177947998,
          7.714634895324707,
          -4.350387096405029,
          7.529521942138672,
          11.98580265045166,
          -4.34918737411499,
          5.53535270690918,
          5.535190105438232,
          -1.4722373485565186,
          15.33717155456543,
          -3.1997220516204834,
          -3.2182626724243164,
          -4.350387096405029,
          11.992478370666504,
          12.484138488769531,
          2.130362033843994,
          2.4680728912353516,
          12.604047775268555,
          5.70574951171875,
          6.988038539886475,
          9.880158424377441,
          12.86970329284668,
          12.599217414855957,
          11.949271202087402,
          12.787882804870605,
          12.787882804870605,
          -2.185441732406616,
          12.183880805969238,
          -1.4725522994995117,
          -3.3608880043029785,
          -3.3608880043029785,
          11.691506385803223,
          15.66922378540039,
          8.212234497070312,
          -2.676114559173584,
          8.212226867675781,
          8.212226867675781,
          12.599217414855957,
          12.599217414855957,
          0.8950356245040894,
          12.787882804870605,
          9.942391395568848,
          9.942391395568848,
          9.942381858825684,
          9.942391395568848,
          9.942392349243164,
          -0.6062697172164917,
          1.9273803234100342,
          11.8222017288208,
          -1.5428862571716309,
          -1.5188792943954468,
          5.356112480163574,
          -3.3245956897735596,
          -3.3245956897735596,
          11.230579376220703,
          11.097970962524414,
          12.130197525024414,
          10.73363971710205,
          10.828409194946289,
          10.98400592803955,
          11.691156387329102,
          10.98400592803955,
          10.8162260055542,
          10.538528442382812,
          4.64176082611084,
          4.641782283782959,
          -2.107602834701538,
          11.937357902526855,
          -1.5995442867279053,
          -1.5011409521102905,
          -2.0667788982391357,
          12.326350212097168,
          12.033841133117676,
          12.787882804870605,
          -1.3903323411941528,
          11.638395309448242,
          12.63231372833252,
          0.04777636379003525,
          10.696348190307617,
          11.945112228393555,
          0.047776371240615845,
          -3.862252950668335,
          6.47353458404541,
          6.766051769256592,
          -4.341438293457031,
          10.74655532836914,
          8.6107816696167,
          13.686054229736328,
          7.323931694030762,
          -3.0112202167510986,
          12.037629127502441,
          2.8437299728393555,
          -0.6464236378669739,
          15.97195053100586,
          5.535343170166016,
          7.65690279006958,
          5.708296298980713,
          12.097373962402344,
          13.301493644714355,
          12.028682708740234,
          12.147956848144531,
          12.181671142578125,
          7.324944019317627,
          12.012672424316406,
          2.843738317489624,
          11.794897079467773,
          13.909239768981934,
          12.085932731628418,
          14.389421463012695,
          6.618115425109863,
          7.251143932342529,
          9.36767864227295,
          13.291655540466309,
          2.8435170650482178,
          12.097570419311523,
          12.149710655212402,
          12.292591094970703,
          6.776792049407959,
          13.412503242492676,
          6.683578014373779,
          13.687382698059082,
          6.747569561004639,
          12.125884056091309,
          14.13723373413086,
          12.145444869995117,
          -2.815709352493286,
          6.766120910644531,
          6.766116619110107,
          10.696433067321777,
          12.022082328796387,
          11.164198875427246,
          15.198140144348145,
          6.766100883483887,
          6.5764851570129395,
          9.938400268554688,
          8.240525245666504,
          7.566178798675537,
          5.535229682922363,
          -3.331333637237549,
          6.774120330810547,
          12.963835716247559,
          8.36421012878418,
          14.669856071472168,
          6.412410736083984,
          5.881779193878174,
          5.336862087249756
         ]
        },
        {
         "hovertemplate": "Dominant_Topic=Topic 44<br>0=%{x}<br>1=%{y}<br>2=%{z}<extra></extra>",
         "legendgroup": "Topic 44",
         "marker": {
          "color": "#FF97FF",
          "opacity": 0.7,
          "symbol": "circle"
         },
         "mode": "markers",
         "name": "Topic 44",
         "scene": "scene",
         "showlegend": true,
         "type": "scatter3d",
         "x": [
          -1.9142013788223267,
          -4.3718719482421875,
          -4.525515556335449,
          -1.8234225511550903,
          -4.525515556335449
         ],
         "y": [
          8.105132102966309,
          8.895918846130371,
          9.000873565673828,
          14.13314151763916,
          9.000873565673828
         ],
         "z": [
          3.2850394248962402,
          1.7932813167572021,
          1.0442272424697876,
          2.599935293197632,
          1.0442272424697876
         ]
        },
        {
         "hovertemplate": "Dominant_Topic=Topic 49<br>0=%{x}<br>1=%{y}<br>2=%{z}<extra></extra>",
         "legendgroup": "Topic 49",
         "marker": {
          "color": "#FECB52",
          "opacity": 0.7,
          "symbol": "circle"
         },
         "mode": "markers",
         "name": "Topic 49",
         "scene": "scene",
         "showlegend": true,
         "type": "scatter3d",
         "x": [
          -4.590729236602783,
          -13.914582252502441,
          -8.480025291442871,
          -13.127951622009277,
          -11.886996269226074,
          -4.59065580368042,
          -9.765504837036133,
          -12.919488906860352,
          -13.050267219543457,
          -2.5276246070861816,
          -8.469839096069336,
          -9.917906761169434,
          -14.026590347290039,
          -9.34207534790039,
          -14.026531219482422,
          -10.329279899597168,
          -9.525176048278809,
          -9.492683410644531,
          -11.88688850402832,
          -10.73365592956543,
          -10.734121322631836,
          -10.734003067016602,
          -8.939367294311523,
          -9.291241645812988,
          -2.5275793075561523,
          -9.37515640258789,
          -9.817811965942383,
          -12.894227027893066,
          -8.327099800109863,
          -9.192293167114258,
          -1.0669602155685425,
          -5.222899436950684,
          -9.344423294067383,
          -9.081019401550293,
          -12.915963172912598,
          -12.275925636291504,
          -12.916994094848633,
          -8.860809326171875,
          -10.11348819732666,
          -5.120238304138184,
          -12.5338773727417,
          -5.120090007781982,
          -12.006037712097168,
          -12.006032943725586,
          -13.920331954956055,
          -13.9201078414917,
          -14.162158966064453,
          -14.162189483642578,
          -13.14764404296875,
          -13.32670783996582,
          -8.213263511657715,
          -8.213269233703613,
          -6.112884998321533,
          -12.006049156188965,
          -8.31114387512207,
          -11.75011920928955,
          -9.462186813354492,
          -13.246821403503418,
          -8.594780921936035,
          -6.660799026489258,
          -9.460030555725098,
          -13.392895698547363,
          -2.9755983352661133,
          -9.331490516662598,
          -9.357823371887207,
          -9.591992378234863,
          -11.750258445739746,
          -14.431196212768555,
          -13.340997695922852,
          -10.071749687194824,
          -13.64262580871582,
          -13.28066635131836,
          -8.593941688537598,
          -12.919923782348633,
          -9.370499610900879,
          -9.932580947875977,
          -9.399837493896484,
          -13.243294715881348,
          -13.355392456054688,
          -13.067407608032227,
          -4.590648651123047,
          -13.642547607421875,
          -12.13404655456543,
          -10.07752513885498,
          -10.140483856201172,
          -5.1211957931518555,
          -12.187129020690918,
          -12.187170028686523,
          -10.16330337524414,
          -8.74138355255127,
          -13.30904483795166,
          -12.188375473022461,
          -9.261720657348633,
          -13.020021438598633,
          -2.4375460147857666,
          -10.52065658569336,
          -10.471038818359375,
          -11.78160285949707,
          -11.781548500061035,
          -12.875316619873047,
          -12.83520793914795,
          -12.188374519348145,
          -13.243280410766602,
          -9.927821159362793,
          -13.220874786376953,
          -9.73544692993164,
          -5.120996475219727,
          -5.123092174530029,
          -9.842251777648926,
          -9.83182144165039,
          -8.973518371582031,
          -13.24328899383545,
          -5.618051528930664,
          -10.95174789428711,
          -10.396357536315918,
          -10.390641212463379,
          -10.392504692077637,
          -12.917379379272461,
          -6.112894535064697,
          -12.917282104492188,
          -11.781573295593262,
          -6.112909317016602,
          -10.261348724365234,
          -12.919353485107422,
          -7.674950122833252,
          -8.21147346496582,
          -10.10392951965332,
          -10.179028511047363,
          -9.984341621398926,
          -10.334161758422852,
          -7.622780799865723,
          -9.853754997253418,
          -10.437707901000977,
          -5.12060546875,
          -9.367918014526367,
          -12.954931259155273,
          -9.502263069152832,
          -13.181498527526855,
          -14.419781684875488,
          -5.121245861053467,
          -9.26824951171875,
          -13.181502342224121,
          -13.128830909729004,
          -13.615509986877441,
          -13.181449890136719,
          -13.18143081665039,
          -1.0690505504608154,
          -11.781585693359375,
          -1.069032907485962,
          -1.0691108703613281,
          -1.0690033435821533,
          -5.712469577789307,
          -5.712428569793701,
          -5.712427139282227,
          -5.7124104499816895,
          -5.712427139282227,
          -1.069061517715454,
          -9.645556449890137,
          -7.538309097290039,
          -8.930773735046387,
          -13.936985969543457,
          -10.427361488342285,
          -9.614636421203613,
          -5.120131015777588,
          -9.922391891479492,
          -13.966423988342285,
          -13.256708145141602,
          -9.727011680603027,
          -10.101227760314941,
          -10.20677375793457,
          -9.35147762298584,
          -9.794526100158691
         ],
         "y": [
          2.968414783477783,
          -3.651428699493408,
          -2.886259078979492,
          -4.662245273590088,
          -1.8222453594207764,
          2.968317985534668,
          -8.847467422485352,
          -5.737043857574463,
          -5.1418046951293945,
          2.6267242431640625,
          -4.85959005355835,
          -9.1669282913208,
          -3.9115407466888428,
          -5.526831150054932,
          -3.9114882946014404,
          -6.913794040679932,
          -6.985057353973389,
          -7.857046604156494,
          -1.822885513305664,
          -4.247801780700684,
          -4.247838973999023,
          -4.2478156089782715,
          -3.1238391399383545,
          -4.577493190765381,
          2.627126693725586,
          -9.280062675476074,
          -4.646437168121338,
          -4.8574652671813965,
          -4.469081401824951,
          -3.6357412338256836,
          3.2846431732177734,
          -6.493518352508545,
          -6.587006568908691,
          -3.838212728500366,
          -5.734570026397705,
          1.8689712285995483,
          -5.735642910003662,
          -3.2298409938812256,
          -4.671079158782959,
          -6.442145824432373,
          -7.205514430999756,
          -6.44205379486084,
          2.6301491260528564,
          2.6298539638519287,
          -3.777068614959717,
          -3.7770464420318604,
          -5.171205520629883,
          -5.171219348907471,
          -4.4717535972595215,
          -4.86459493637085,
          -4.879508018493652,
          -4.879479885101318,
          -6.149811744689941,
          2.6305978298187256,
          -5.397905349731445,
          -3.034212112426758,
          -4.139048099517822,
          -7.697353363037109,
          -7.0972161293029785,
          -8.085118293762207,
          -6.830739498138428,
          -5.788357257843018,
          2.600227117538452,
          -3.0480704307556152,
          -3.2512428760528564,
          -5.117131233215332,
          -3.03452205657959,
          -4.581108093261719,
          -5.067043781280518,
          -5.345529079437256,
          -3.7894961833953857,
          -6.262882232666016,
          -7.102148532867432,
          -5.737587928771973,
          -7.654865264892578,
          -7.008067607879639,
          -8.437376022338867,
          -7.684108257293701,
          -4.947288513183594,
          -4.474978923797607,
          2.968310832977295,
          -3.7894699573516846,
          -5.829777717590332,
          -6.791877269744873,
          -8.570951461791992,
          -6.442880630493164,
          0.7240725755691528,
          0.7237332463264465,
          -6.629031181335449,
          -3.0831491947174072,
          -3.706031322479248,
          0.7167008519172668,
          -7.114511489868164,
          -3.5681111812591553,
          3.255013942718506,
          2.2427263259887695,
          1.793283224105835,
          -2.5590999126434326,
          -2.559893846511841,
          -4.914968967437744,
          -4.894622802734375,
          0.7166674137115479,
          -7.684067249298096,
          -7.723540782928467,
          -5.71274471282959,
          -7.253206729888916,
          -6.442677021026611,
          4.101895332336426,
          -3.821676731109619,
          -9.65868854522705,
          -3.5277175903320312,
          -7.684109210968018,
          -6.8280558586120605,
          -9.961856842041016,
          -7.503206729888916,
          -7.5071024894714355,
          -7.505855083465576,
          -5.736090660095215,
          -6.149814605712891,
          -5.7359538078308105,
          -2.559513568878174,
          -6.1497955322265625,
          -7.455286026000977,
          -5.737118244171143,
          -3.3086376190185547,
          -2.951080322265625,
          -4.467297077178955,
          -5.348865032196045,
          -6.168560028076172,
          -9.559316635131836,
          -3.3764891624450684,
          -5.2748613357543945,
          -8.99901294708252,
          -6.442276954650879,
          -8.818906784057617,
          -5.779547214508057,
          -8.95816421508789,
          -6.624515056610107,
          -4.587624549865723,
          -6.438575267791748,
          -4.683538436889648,
          -6.624752044677734,
          -4.4537763595581055,
          -7.058413982391357,
          -6.623288631439209,
          -6.622602462768555,
          3.2735986709594727,
          -2.559328079223633,
          3.2736799716949463,
          3.273484945297241,
          3.273834228515625,
          -8.170573234558105,
          -8.170619010925293,
          -8.170595169067383,
          -8.170614242553711,
          -8.17061710357666,
          3.273543357849121,
          -8.031662940979004,
          -3.4611997604370117,
          -3.149427652359009,
          3.87947678565979,
          -8.731634140014648,
          -3.7670958042144775,
          -6.442030906677246,
          -9.567290306091309,
          -3.612515926361084,
          -4.898202896118164,
          -4.32801628112793,
          -7.572787284851074,
          -8.942944526672363,
          -5.254570484161377,
          -6.150786399841309
         ],
         "z": [
          3.3250274658203125,
          7.116276264190674,
          5.412858963012695,
          9.712770462036133,
          2.21513295173645,
          3.3251049518585205,
          5.815215587615967,
          -1.0963619947433472,
          9.504491806030273,
          4.762281894683838,
          7.809977054595947,
          6.985128879547119,
          7.361932277679443,
          5.860864639282227,
          7.361672878265381,
          6.094587326049805,
          6.649101257324219,
          6.011209964752197,
          2.2151851654052734,
          9.278563499450684,
          9.278474807739258,
          9.278653144836426,
          5.865645408630371,
          5.8674774169921875,
          4.761927127838135,
          6.339834213256836,
          5.13425350189209,
          9.117352485656738,
          -2.503326654434204,
          9.450944900512695,
          4.831160545349121,
          0.8956789374351501,
          6.230558395385742,
          9.173823356628418,
          -1.1005277633666992,
          4.634451389312744,
          -1.098569393157959,
          9.829168319702148,
          5.869715213775635,
          0.8247265219688416,
          1.464911937713623,
          0.8245986700057983,
          4.719450950622559,
          4.719604015350342,
          6.681791305541992,
          6.68073844909668,
          -1.8460333347320557,
          -1.8459715843200684,
          9.21977710723877,
          9.092818260192871,
          -0.5886757969856262,
          -0.5886325836181641,
          2.6320316791534424,
          4.719209671020508,
          -1.0455114841461182,
          -0.28744828701019287,
          5.0969719886779785,
          7.410645961761475,
          3.6459455490112305,
          -0.7239835262298584,
          5.773146629333496,
          1.4783209562301636,
          4.590888977050781,
          5.5562520027160645,
          5.2187089920043945,
          6.174428939819336,
          -0.28728994727134705,
          9.428793907165527,
          9.530919075012207,
          6.089889049530029,
          5.121362209320068,
          8.621010780334473,
          3.6447415351867676,
          -1.095866084098816,
          6.549713611602783,
          6.701303958892822,
          6.640791416168213,
          7.420907974243164,
          9.15037727355957,
          9.516661643981934,
          3.3251123428344727,
          5.121078014373779,
          -0.3810568153858185,
          5.704142093658447,
          6.843871593475342,
          0.8255519270896912,
          5.5249505043029785,
          5.525137901306152,
          6.433391094207764,
          5.163737773895264,
          4.816710472106934,
          5.528463840484619,
          6.166724681854248,
          4.378914833068848,
          4.224220275878906,
          6.975406169891357,
          1.3661344051361084,
          2.296412944793701,
          2.296447515487671,
          9.162601470947266,
          9.572546005249023,
          5.528476715087891,
          7.420880317687988,
          6.7257184982299805,
          0.27937081456184387,
          5.70428991317749,
          0.8253277540206909,
          3.009901523590088,
          5.421100616455078,
          6.522116184234619,
          5.075698375701904,
          7.420846462249756,
          1.834536075592041,
          5.833287715911865,
          10.01052188873291,
          10.010727882385254,
          10.010686874389648,
          -1.0979363918304443,
          2.6320478916168213,
          -1.0980734825134277,
          2.296431064605713,
          2.6320741176605225,
          6.351245880126953,
          -1.0968732833862305,
          5.709939956665039,
          5.676609516143799,
          5.446354389190674,
          5.602802753448486,
          5.697953224182129,
          6.53874397277832,
          5.671817302703857,
          5.255095481872559,
          6.701287269592285,
          0.8248890042304993,
          6.105701923370361,
          -1.03638756275177,
          6.868441581726074,
          1.0038574934005737,
          9.427098274230957,
          0.8203732967376709,
          5.33925724029541,
          1.0040229558944702,
          9.259771347045898,
          1.5703816413879395,
          1.002943992614746,
          1.0024241209030151,
          4.841154098510742,
          2.2964227199554443,
          4.841074466705322,
          4.841241359710693,
          4.840935230255127,
          0.198325052857399,
          0.19840644299983978,
          0.19837608933448792,
          0.19839774072170258,
          0.19838014245033264,
          4.841200351715088,
          10.18950366973877,
          5.719732761383057,
          5.882516384124756,
          5.29374361038208,
          6.209078311920166,
          5.862884998321533,
          0.8246119022369385,
          5.979866027832031,
          10.103412628173828,
          9.709576606750488,
          6.017988681793213,
          5.923476219177246,
          5.89976692199707,
          5.444011688232422,
          6.342872619628906
         ]
        },
        {
         "hovertemplate": "Dominant_Topic=Topic 61<br>0=%{x}<br>1=%{y}<br>2=%{z}<extra></extra>",
         "legendgroup": "Topic 61",
         "marker": {
          "color": "#636efa",
          "opacity": 0.7,
          "symbol": "circle"
         },
         "mode": "markers",
         "name": "Topic 61",
         "scene": "scene",
         "showlegend": true,
         "type": "scatter3d",
         "x": [
          -17.218624114990234,
          -12.827496528625488,
          -13.540238380432129,
          -12.235339164733887,
          -12.57514476776123,
          -13.18850040435791,
          -13.097493171691895,
          -13.71450138092041,
          -12.406804084777832,
          -15.09756851196289,
          -16.334104537963867,
          -12.406804084777832,
          -10.083431243896484,
          -17.218175888061523,
          -15.09756851196289,
          -17.21830940246582,
          -11.933905601501465,
          -13.354793548583984,
          -8.679089546203613,
          -13.721226692199707,
          -12.231603622436523,
          -17.218175888061523,
          -15.09756851196289,
          -16.093467712402344,
          -17.21820068359375,
          -13.694046020507812,
          -10.083418846130371,
          -11.933920860290527,
          -13.893754005432129,
          -17.21820068359375,
          -12.272388458251953,
          -7.241802215576172,
          -14.942849159240723,
          -12.97507381439209,
          -12.324135780334473,
          -12.97507381439209,
          -13.206491470336914,
          -14.873076438903809,
          -16.764244079589844,
          -12.451508522033691,
          -13.253952980041504,
          -11.906244277954102,
          -16.764244079589844,
          -14.873078346252441,
          -14.873077392578125,
          -12.805651664733887,
          -13.002861022949219,
          -14.873077392578125,
          -14.873078346252441,
          -16.76424217224121,
          -16.042625427246094,
          -12.870966911315918,
          -14.943056106567383,
          -14.943102836608887,
          -15.907477378845215,
          -15.907485008239746,
          -15.907485008239746,
          -10.083426475524902,
          -12.272388458251953,
          -12.272388458251953,
          -15.06486701965332,
          -12.805651664733887,
          -16.102218627929688,
          -16.764244079589844,
          -13.551186561584473,
          -7.24100923538208,
          -7.240996360778809,
          -7.241008281707764,
          -7.241008281707764,
          -7.240996360778809,
          -7.240996360778809,
          -12.508106231689453,
          -12.508106231689453,
          -13.156217575073242,
          -7.240996360778809,
          -13.266529083251953,
          -16.042627334594727,
          -13.311455726623535,
          -15.541172981262207,
          -15.541191101074219,
          -14.304165840148926,
          -14.304560661315918,
          -14.304559707641602,
          -13.530346870422363,
          -12.57514476776123,
          -13.600284576416016,
          0.4331636428833008,
          -11.906244277954102,
          -14.3043794631958,
          -13.140024185180664,
          -12.090055465698242,
          -14.098034858703613,
          -14.873076438903809,
          -14.332295417785645,
          -13.723843574523926
         ],
         "y": [
          -2.922344207763672,
          -1.8310961723327637,
          -2.1098031997680664,
          -2.3412563800811768,
          -3.0137860774993896,
          -1.9563169479370117,
          -3.339907646179199,
          -2.6624398231506348,
          -2.143969774246216,
          -7.652615070343018,
          -5.436114311218262,
          -2.143969774246216,
          -0.5638307929039001,
          -2.922987937927246,
          -7.652615070343018,
          -2.9227957725524902,
          -6.4625067710876465,
          -3.1579246520996094,
          -4.208970546722412,
          -8.085650444030762,
          -2.60575795173645,
          -2.922987937927246,
          -7.652615070343018,
          -7.398406505584717,
          -2.9229586124420166,
          -2.7695553302764893,
          -0.563823938369751,
          -6.462512969970703,
          -6.792280673980713,
          -2.9229586124420166,
          -5.246505260467529,
          -4.243978500366211,
          -4.493788719177246,
          -3.5215530395507812,
          -3.3813745975494385,
          -3.5215530395507812,
          -2.8192317485809326,
          -6.3767852783203125,
          -3.8518006801605225,
          -3.0044455528259277,
          -3.0012152194976807,
          -3.0141870975494385,
          -3.8518006801605225,
          -6.3767852783203125,
          -6.376784324645996,
          -2.3714351654052734,
          -1.8299341201782227,
          -6.376784324645996,
          -6.376784801483154,
          -3.8518009185791016,
          -2.7506632804870605,
          -2.311006546020508,
          -4.4936017990112305,
          -4.493558883666992,
          -3.733654737472534,
          -3.7336583137512207,
          -3.7336585521698,
          -0.5638308525085449,
          -5.2465057373046875,
          -5.246505260467529,
          -8.197782516479492,
          -2.3714351654052734,
          -3.4589250087738037,
          -3.8518006801605225,
          -3.1927902698516846,
          -4.242120742797852,
          -4.242120742797852,
          -4.242120742797852,
          -4.242120742797852,
          -4.242120742797852,
          -4.242120742797852,
          -3.3349311351776123,
          -3.3349311351776123,
          -7.072693347930908,
          -4.242120742797852,
          -2.6829633712768555,
          -2.7506635189056396,
          -5.9470014572143555,
          -7.478588104248047,
          -7.478589057922363,
          -7.304078578948975,
          -7.304097652435303,
          -7.304096698760986,
          -2.0779945850372314,
          -3.0137860774993896,
          -2.328568458557129,
          19.642253875732422,
          -3.0141870975494385,
          -7.304117679595947,
          -7.251471519470215,
          -2.433053731918335,
          -7.973666191101074,
          -6.376784801483154,
          -7.813169956207275,
          -7.455529689788818
         ],
         "z": [
          -5.970463275909424,
          -6.718207836151123,
          -6.560234546661377,
          -5.712975978851318,
          -7.3378777503967285,
          -7.316591739654541,
          -7.134821891784668,
          -6.672535419464111,
          -7.027789115905762,
          -7.367260456085205,
          -5.509642601013184,
          -7.027789115905762,
          -6.578052043914795,
          -5.970486640930176,
          -7.367260456085205,
          -5.970443248748779,
          -3.370814800262451,
          -7.2746171951293945,
          -4.505299091339111,
          -6.648319721221924,
          -7.212701320648193,
          -5.970486640930176,
          -7.367260456085205,
          -6.199492931365967,
          -5.970489501953125,
          -6.720216274261475,
          -6.578049659729004,
          -3.3708415031433105,
          -4.081957817077637,
          -5.970489501953125,
          -8.148375511169434,
          -4.416074752807617,
          -2.7979636192321777,
          -5.8002824783325195,
          -5.592041015625,
          -5.8002824783325195,
          -5.517683982849121,
          -6.582763671875,
          -4.890946865081787,
          -5.312607765197754,
          -5.5659990310668945,
          -6.025263786315918,
          -4.890946388244629,
          -6.582764148712158,
          -6.582764148712158,
          -5.514842987060547,
          -6.633001804351807,
          -6.582763671875,
          -6.582764625549316,
          -4.890946865081787,
          -9.146278381347656,
          -7.612341403961182,
          -2.798459529876709,
          -2.798572063446045,
          -7.697021484375,
          -7.697137832641602,
          -7.697137832641602,
          -6.578052520751953,
          -8.148377418518066,
          -8.14837646484375,
          -7.13259744644165,
          -5.514842987060547,
          -8.419466018676758,
          -4.890946388244629,
          -6.8650031089782715,
          -4.415120601654053,
          -4.415109157562256,
          -4.41511869430542,
          -4.41511869430542,
          -4.415109157562256,
          -4.415109157562256,
          -6.354007720947266,
          -6.354007720947266,
          -3.4151010513305664,
          -4.415109157562256,
          -7.618098258972168,
          -9.14627742767334,
          -2.919057846069336,
          -5.675568580627441,
          -5.675570964813232,
          -5.034952163696289,
          -5.035023212432861,
          -5.035023212432861,
          -6.577040672302246,
          -7.3378777503967285,
          -7.3397417068481445,
          -1.0763739347457886,
          -6.025263786315918,
          -5.035017967224121,
          -3.536344528198242,
          -5.820080757141113,
          -6.1211466789245605,
          -6.582764148712158,
          -7.017078399658203,
          -4.657459735870361
         ]
        }
       ],
       "layout": {
        "height": 800,
        "legend": {
         "title": {
          "text": "Dominant_Topic"
         },
         "tracegroupgap": 0
        },
        "scene": {
         "domain": {
          "x": [
           0,
           1
          ],
          "y": [
           0,
           1
          ]
         },
         "xaxis": {
          "title": {
           "text": "0"
          }
         },
         "yaxis": {
          "title": {
           "text": "1"
          }
         },
         "zaxis": {
          "title": {
           "text": "2"
          }
         }
        },
        "template": {
         "data": {
          "bar": [
           {
            "error_x": {
             "color": "#2a3f5f"
            },
            "error_y": {
             "color": "#2a3f5f"
            },
            "marker": {
             "line": {
              "color": "#E5ECF6",
              "width": 0.5
             }
            },
            "type": "bar"
           }
          ],
          "barpolar": [
           {
            "marker": {
             "line": {
              "color": "#E5ECF6",
              "width": 0.5
             }
            },
            "type": "barpolar"
           }
          ],
          "carpet": [
           {
            "aaxis": {
             "endlinecolor": "#2a3f5f",
             "gridcolor": "white",
             "linecolor": "white",
             "minorgridcolor": "white",
             "startlinecolor": "#2a3f5f"
            },
            "baxis": {
             "endlinecolor": "#2a3f5f",
             "gridcolor": "white",
             "linecolor": "white",
             "minorgridcolor": "white",
             "startlinecolor": "#2a3f5f"
            },
            "type": "carpet"
           }
          ],
          "choropleth": [
           {
            "colorbar": {
             "outlinewidth": 0,
             "ticks": ""
            },
            "type": "choropleth"
           }
          ],
          "contour": [
           {
            "colorbar": {
             "outlinewidth": 0,
             "ticks": ""
            },
            "colorscale": [
             [
              0,
              "#0d0887"
             ],
             [
              0.1111111111111111,
              "#46039f"
             ],
             [
              0.2222222222222222,
              "#7201a8"
             ],
             [
              0.3333333333333333,
              "#9c179e"
             ],
             [
              0.4444444444444444,
              "#bd3786"
             ],
             [
              0.5555555555555556,
              "#d8576b"
             ],
             [
              0.6666666666666666,
              "#ed7953"
             ],
             [
              0.7777777777777778,
              "#fb9f3a"
             ],
             [
              0.8888888888888888,
              "#fdca26"
             ],
             [
              1,
              "#f0f921"
             ]
            ],
            "type": "contour"
           }
          ],
          "contourcarpet": [
           {
            "colorbar": {
             "outlinewidth": 0,
             "ticks": ""
            },
            "type": "contourcarpet"
           }
          ],
          "heatmap": [
           {
            "colorbar": {
             "outlinewidth": 0,
             "ticks": ""
            },
            "colorscale": [
             [
              0,
              "#0d0887"
             ],
             [
              0.1111111111111111,
              "#46039f"
             ],
             [
              0.2222222222222222,
              "#7201a8"
             ],
             [
              0.3333333333333333,
              "#9c179e"
             ],
             [
              0.4444444444444444,
              "#bd3786"
             ],
             [
              0.5555555555555556,
              "#d8576b"
             ],
             [
              0.6666666666666666,
              "#ed7953"
             ],
             [
              0.7777777777777778,
              "#fb9f3a"
             ],
             [
              0.8888888888888888,
              "#fdca26"
             ],
             [
              1,
              "#f0f921"
             ]
            ],
            "type": "heatmap"
           }
          ],
          "heatmapgl": [
           {
            "colorbar": {
             "outlinewidth": 0,
             "ticks": ""
            },
            "colorscale": [
             [
              0,
              "#0d0887"
             ],
             [
              0.1111111111111111,
              "#46039f"
             ],
             [
              0.2222222222222222,
              "#7201a8"
             ],
             [
              0.3333333333333333,
              "#9c179e"
             ],
             [
              0.4444444444444444,
              "#bd3786"
             ],
             [
              0.5555555555555556,
              "#d8576b"
             ],
             [
              0.6666666666666666,
              "#ed7953"
             ],
             [
              0.7777777777777778,
              "#fb9f3a"
             ],
             [
              0.8888888888888888,
              "#fdca26"
             ],
             [
              1,
              "#f0f921"
             ]
            ],
            "type": "heatmapgl"
           }
          ],
          "histogram": [
           {
            "marker": {
             "colorbar": {
              "outlinewidth": 0,
              "ticks": ""
             }
            },
            "type": "histogram"
           }
          ],
          "histogram2d": [
           {
            "colorbar": {
             "outlinewidth": 0,
             "ticks": ""
            },
            "colorscale": [
             [
              0,
              "#0d0887"
             ],
             [
              0.1111111111111111,
              "#46039f"
             ],
             [
              0.2222222222222222,
              "#7201a8"
             ],
             [
              0.3333333333333333,
              "#9c179e"
             ],
             [
              0.4444444444444444,
              "#bd3786"
             ],
             [
              0.5555555555555556,
              "#d8576b"
             ],
             [
              0.6666666666666666,
              "#ed7953"
             ],
             [
              0.7777777777777778,
              "#fb9f3a"
             ],
             [
              0.8888888888888888,
              "#fdca26"
             ],
             [
              1,
              "#f0f921"
             ]
            ],
            "type": "histogram2d"
           }
          ],
          "histogram2dcontour": [
           {
            "colorbar": {
             "outlinewidth": 0,
             "ticks": ""
            },
            "colorscale": [
             [
              0,
              "#0d0887"
             ],
             [
              0.1111111111111111,
              "#46039f"
             ],
             [
              0.2222222222222222,
              "#7201a8"
             ],
             [
              0.3333333333333333,
              "#9c179e"
             ],
             [
              0.4444444444444444,
              "#bd3786"
             ],
             [
              0.5555555555555556,
              "#d8576b"
             ],
             [
              0.6666666666666666,
              "#ed7953"
             ],
             [
              0.7777777777777778,
              "#fb9f3a"
             ],
             [
              0.8888888888888888,
              "#fdca26"
             ],
             [
              1,
              "#f0f921"
             ]
            ],
            "type": "histogram2dcontour"
           }
          ],
          "mesh3d": [
           {
            "colorbar": {
             "outlinewidth": 0,
             "ticks": ""
            },
            "type": "mesh3d"
           }
          ],
          "parcoords": [
           {
            "line": {
             "colorbar": {
              "outlinewidth": 0,
              "ticks": ""
             }
            },
            "type": "parcoords"
           }
          ],
          "pie": [
           {
            "automargin": true,
            "type": "pie"
           }
          ],
          "scatter": [
           {
            "marker": {
             "colorbar": {
              "outlinewidth": 0,
              "ticks": ""
             }
            },
            "type": "scatter"
           }
          ],
          "scatter3d": [
           {
            "line": {
             "colorbar": {
              "outlinewidth": 0,
              "ticks": ""
             }
            },
            "marker": {
             "colorbar": {
              "outlinewidth": 0,
              "ticks": ""
             }
            },
            "type": "scatter3d"
           }
          ],
          "scattercarpet": [
           {
            "marker": {
             "colorbar": {
              "outlinewidth": 0,
              "ticks": ""
             }
            },
            "type": "scattercarpet"
           }
          ],
          "scattergeo": [
           {
            "marker": {
             "colorbar": {
              "outlinewidth": 0,
              "ticks": ""
             }
            },
            "type": "scattergeo"
           }
          ],
          "scattergl": [
           {
            "marker": {
             "colorbar": {
              "outlinewidth": 0,
              "ticks": ""
             }
            },
            "type": "scattergl"
           }
          ],
          "scattermapbox": [
           {
            "marker": {
             "colorbar": {
              "outlinewidth": 0,
              "ticks": ""
             }
            },
            "type": "scattermapbox"
           }
          ],
          "scatterpolar": [
           {
            "marker": {
             "colorbar": {
              "outlinewidth": 0,
              "ticks": ""
             }
            },
            "type": "scatterpolar"
           }
          ],
          "scatterpolargl": [
           {
            "marker": {
             "colorbar": {
              "outlinewidth": 0,
              "ticks": ""
             }
            },
            "type": "scatterpolargl"
           }
          ],
          "scatterternary": [
           {
            "marker": {
             "colorbar": {
              "outlinewidth": 0,
              "ticks": ""
             }
            },
            "type": "scatterternary"
           }
          ],
          "surface": [
           {
            "colorbar": {
             "outlinewidth": 0,
             "ticks": ""
            },
            "colorscale": [
             [
              0,
              "#0d0887"
             ],
             [
              0.1111111111111111,
              "#46039f"
             ],
             [
              0.2222222222222222,
              "#7201a8"
             ],
             [
              0.3333333333333333,
              "#9c179e"
             ],
             [
              0.4444444444444444,
              "#bd3786"
             ],
             [
              0.5555555555555556,
              "#d8576b"
             ],
             [
              0.6666666666666666,
              "#ed7953"
             ],
             [
              0.7777777777777778,
              "#fb9f3a"
             ],
             [
              0.8888888888888888,
              "#fdca26"
             ],
             [
              1,
              "#f0f921"
             ]
            ],
            "type": "surface"
           }
          ],
          "table": [
           {
            "cells": {
             "fill": {
              "color": "#EBF0F8"
             },
             "line": {
              "color": "white"
             }
            },
            "header": {
             "fill": {
              "color": "#C8D4E3"
             },
             "line": {
              "color": "white"
             }
            },
            "type": "table"
           }
          ]
         },
         "layout": {
          "annotationdefaults": {
           "arrowcolor": "#2a3f5f",
           "arrowhead": 0,
           "arrowwidth": 1
          },
          "autotypenumbers": "strict",
          "coloraxis": {
           "colorbar": {
            "outlinewidth": 0,
            "ticks": ""
           }
          },
          "colorscale": {
           "diverging": [
            [
             0,
             "#8e0152"
            ],
            [
             0.1,
             "#c51b7d"
            ],
            [
             0.2,
             "#de77ae"
            ],
            [
             0.3,
             "#f1b6da"
            ],
            [
             0.4,
             "#fde0ef"
            ],
            [
             0.5,
             "#f7f7f7"
            ],
            [
             0.6,
             "#e6f5d0"
            ],
            [
             0.7,
             "#b8e186"
            ],
            [
             0.8,
             "#7fbc41"
            ],
            [
             0.9,
             "#4d9221"
            ],
            [
             1,
             "#276419"
            ]
           ],
           "sequential": [
            [
             0,
             "#0d0887"
            ],
            [
             0.1111111111111111,
             "#46039f"
            ],
            [
             0.2222222222222222,
             "#7201a8"
            ],
            [
             0.3333333333333333,
             "#9c179e"
            ],
            [
             0.4444444444444444,
             "#bd3786"
            ],
            [
             0.5555555555555556,
             "#d8576b"
            ],
            [
             0.6666666666666666,
             "#ed7953"
            ],
            [
             0.7777777777777778,
             "#fb9f3a"
            ],
            [
             0.8888888888888888,
             "#fdca26"
            ],
            [
             1,
             "#f0f921"
            ]
           ],
           "sequentialminus": [
            [
             0,
             "#0d0887"
            ],
            [
             0.1111111111111111,
             "#46039f"
            ],
            [
             0.2222222222222222,
             "#7201a8"
            ],
            [
             0.3333333333333333,
             "#9c179e"
            ],
            [
             0.4444444444444444,
             "#bd3786"
            ],
            [
             0.5555555555555556,
             "#d8576b"
            ],
            [
             0.6666666666666666,
             "#ed7953"
            ],
            [
             0.7777777777777778,
             "#fb9f3a"
            ],
            [
             0.8888888888888888,
             "#fdca26"
            ],
            [
             1,
             "#f0f921"
            ]
           ]
          },
          "colorway": [
           "#636efa",
           "#EF553B",
           "#00cc96",
           "#ab63fa",
           "#FFA15A",
           "#19d3f3",
           "#FF6692",
           "#B6E880",
           "#FF97FF",
           "#FECB52"
          ],
          "font": {
           "color": "#2a3f5f"
          },
          "geo": {
           "bgcolor": "white",
           "lakecolor": "white",
           "landcolor": "#E5ECF6",
           "showlakes": true,
           "showland": true,
           "subunitcolor": "white"
          },
          "hoverlabel": {
           "align": "left"
          },
          "hovermode": "closest",
          "mapbox": {
           "style": "light"
          },
          "paper_bgcolor": "white",
          "plot_bgcolor": "#E5ECF6",
          "polar": {
           "angularaxis": {
            "gridcolor": "white",
            "linecolor": "white",
            "ticks": ""
           },
           "bgcolor": "#E5ECF6",
           "radialaxis": {
            "gridcolor": "white",
            "linecolor": "white",
            "ticks": ""
           }
          },
          "scene": {
           "xaxis": {
            "backgroundcolor": "#E5ECF6",
            "gridcolor": "white",
            "gridwidth": 2,
            "linecolor": "white",
            "showbackground": true,
            "ticks": "",
            "zerolinecolor": "white"
           },
           "yaxis": {
            "backgroundcolor": "#E5ECF6",
            "gridcolor": "white",
            "gridwidth": 2,
            "linecolor": "white",
            "showbackground": true,
            "ticks": "",
            "zerolinecolor": "white"
           },
           "zaxis": {
            "backgroundcolor": "#E5ECF6",
            "gridcolor": "white",
            "gridwidth": 2,
            "linecolor": "white",
            "showbackground": true,
            "ticks": "",
            "zerolinecolor": "white"
           }
          },
          "shapedefaults": {
           "line": {
            "color": "#2a3f5f"
           }
          },
          "ternary": {
           "aaxis": {
            "gridcolor": "white",
            "linecolor": "white",
            "ticks": ""
           },
           "baxis": {
            "gridcolor": "white",
            "linecolor": "white",
            "ticks": ""
           },
           "bgcolor": "#E5ECF6",
           "caxis": {
            "gridcolor": "white",
            "linecolor": "white",
            "ticks": ""
           }
          },
          "title": {
           "x": 0.05
          },
          "xaxis": {
           "automargin": true,
           "gridcolor": "white",
           "linecolor": "white",
           "ticks": "",
           "title": {
            "standoff": 15
           },
           "zerolinecolor": "white",
           "zerolinewidth": 2
          },
          "yaxis": {
           "automargin": true,
           "gridcolor": "white",
           "linecolor": "white",
           "ticks": "",
           "title": {
            "standoff": 15
           },
           "zerolinecolor": "white",
           "zerolinewidth": 2
          }
         }
        },
        "title": {
         "text": "3d TSNE Plot for Topic Model"
        },
        "width": 900
       }
      },
      "text/html": [
       "<div>                            <div id=\"9b0b5d94-3166-495e-badc-63c777632eaf\" class=\"plotly-graph-div\" style=\"height:800px; width:900px;\"></div>            <script type=\"text/javascript\">                require([\"plotly\"], function(Plotly) {                    window.PLOTLYENV=window.PLOTLYENV || {};                                    if (document.getElementById(\"9b0b5d94-3166-495e-badc-63c777632eaf\")) {                    Plotly.newPlot(                        \"9b0b5d94-3166-495e-badc-63c777632eaf\",                        [{\"hovertemplate\": \"Dominant_Topic=Topic 112<br>0=%{x}<br>1=%{y}<br>2=%{z}<extra></extra>\", \"legendgroup\": \"Topic 112\", \"marker\": {\"color\": \"#636efa\", \"opacity\": 0.7, \"symbol\": \"circle\"}, \"mode\": \"markers\", \"name\": \"Topic 112\", \"scene\": \"scene\", \"showlegend\": true, \"type\": \"scatter3d\", \"x\": [7.589839935302734, 10.601907730102539, 8.296902656555176, 10.601907730102539, 10.601907730102539], \"y\": [4.578781604766846, -1.8174724578857422, 2.075068950653076, -1.8174723386764526, -1.8174723386764526], \"z\": [-0.0599411241710186, -5.775388717651367, -4.6697282791137695, -5.775388717651367, -5.775388717651367]}, {\"hovertemplate\": \"Dominant_Topic=Topic 113<br>0=%{x}<br>1=%{y}<br>2=%{z}<extra></extra>\", \"legendgroup\": \"Topic 113\", \"marker\": {\"color\": \"#EF553B\", \"opacity\": 0.7, \"symbol\": \"circle\"}, \"mode\": \"markers\", \"name\": \"Topic 113\", \"scene\": \"scene\", \"showlegend\": true, \"type\": \"scatter3d\", \"x\": [12.266073226928711, 12.240767478942871, 0.4560971260070801, 0.4560944736003876], \"y\": [-0.8615174293518066, -0.3696887791156769, 2.2169876098632812, 2.2170591354370117], \"z\": [2.5274622440338135, 2.4277658462524414, -1.5715008974075317, -1.5715012550354004]}, {\"hovertemplate\": \"Dominant_Topic=Topic 119<br>0=%{x}<br>1=%{y}<br>2=%{z}<extra></extra>\", \"legendgroup\": \"Topic 119\", \"marker\": {\"color\": \"#00cc96\", \"opacity\": 0.7, \"symbol\": \"circle\"}, \"mode\": \"markers\", \"name\": \"Topic 119\", \"scene\": \"scene\", \"showlegend\": true, \"type\": \"scatter3d\", \"x\": [6.888221740722656, 6.888221740722656, 6.888221740722656, 6.888221740722656, 6.888221740722656, 6.888221740722656, 6.888221740722656, -2.9193999767303467, 6.888221740722656, -2.4421026706695557, 6.888221740722656, -1.7309650182724, -2.6083383560180664, 6.888221740722656, 6.888221740722656, 6.888221740722656, 6.888221740722656, 6.888221740722656, 6.888221740722656, -14.7694673538208, 6.888221740722656, 6.888221740722656, 6.888221740722656, 6.888221740722656, 6.888221740722656, 6.888221740722656, 6.888221740722656, 6.888221740722656, 6.888221740722656, 6.888221740722656, 6.888221740722656, 6.888221740722656, 6.888221740722656, 6.888221740722656, 6.888221740722656, 6.888221740722656, -2.5829758644104004, -2.5829901695251465, -2.5829718112945557, -1.967608094215393, -1.9676191806793213, 12.358633041381836, 6.888221740722656, 12.358633041381836, 6.888221740722656, 6.888221740722656, 0.5455360412597656, 0.5455306172370911, 6.888221740722656, 6.888221740722656, 6.888221740722656, -9.127022743225098, -2.7799201011657715, -2.510312080383301, 5.268854141235352, -5.737574100494385, 6.888221740722656, 6.888221740722656, 6.888221740722656, 14.100688934326172, 14.101031303405762, 7.7283430099487305, 7.728348255157471, 7.728348255157471, -3.1827950477600098, -2.7799201011657715, 6.888221740722656, 0.5455241203308105, 6.888221740722656, 6.888221740722656, 7.86851692199707, 6.888221740722656, 6.888221740722656, 6.888221740722656, 6.888221740722656, 13.14352798461914, 13.143082618713379, 1.0023366212844849, 3.590411424636841, 2.185650110244751, 1.6916699409484863, 6.888221740722656, 2.4014883041381836, 0.3517473340034485, 2.4152002334594727, 1.8595116138458252, 6.888221740722656, -6.058663368225098, 6.888221740722656, -9.712403297424316, -9.971246719360352, -5.706558704376221, 6.888221740722656, 1.1180285215377808, 7.858182907104492, 6.854085922241211, 6.854085922241211, 0.375014066696167, -9.57210922241211, -3.5122225284576416, -2.8458964824676514, 12.156477928161621, 12.6461763381958, 12.563009262084961, 12.18883991241455, 12.780364036560059, 12.91558837890625, 11.83934497833252, 6.888221740722656, 6.888221740722656, 6.888221740722656, 6.888221740722656, 6.888221740722656, 6.888221740722656, 6.888221740722656, 6.888221740722656, 6.888221740722656, -9.03252124786377, 0.64166659116745, 6.888221740722656, -8.38464069366455, -2.4097812175750732, 2.012598752975464, -1.1924989223480225, 13.66798210144043, 0.4808479845523834, 13.133092880249023, -0.31506800651550293, 1.1480945348739624, 8.704483032226562, 10.798393249511719, 0.22581210732460022, 6.888221740722656, 11.454488754272461, 11.455517768859863, -9.550487518310547, -9.218045234680176, 9.65965747833252, 2.4080843925476074, 3.875549554824829, 1.0977520942687988, 2.3300156593322754, -9.775070190429688, -3.5668673515319824, 11.455340385437012, 6.854085922241211, -5.4791693687438965, 9.946426391601562, 6.854085922241211, 6.854085922241211, -8.657999992370605, -9.485100746154785, 6.854085922241211, -3.583249807357788, 6.854085922241211, 6.854085922241211, 6.854085922241211, 6.854085922241211, 6.854085922241211, 6.854085922241211, 6.854085922241211, 6.854085922241211, 6.854085922241211, 6.854085922241211, -7.957895278930664, -7.957895278930664, 10.03012466430664, 6.854085922241211, 6.888221740722656, 6.888221740722656, 1.9489796161651611, 1.9477238655090332, 6.888221740722656, 9.29463005065918, 6.888221740722656, 6.888221740722656, 4.817260265350342, 4.817260265350342, 13.33035659790039, -6.658857345581055, -6.787492275238037, 6.888221740722656, 6.888221740722656, 9.59959602355957, 0.3442535698413849, 6.888221740722656, 6.888221740722656, 6.888221740722656, 6.888221740722656, 6.888221740722656, 6.888221740722656, 6.888221740722656, 6.888221740722656, 6.888221740722656, 0.64166659116745, 0.3441382050514221, -10.866701126098633, -2.790027618408203, -10.866701126098633, -1.5193054676055908, 6.888221740722656, 6.888221740722656, 0.37438565492630005, 0.06077120453119278, 0.8945746421813965, 0.688552737236023, 0.031323742121458054, 0.5861276984214783, 0.0457773357629776, 6.888221740722656, 6.888221740722656, 6.888221740722656, 6.888221740722656, 6.888221740722656, 6.888221740722656, 6.888221740722656, -9.579566955566406, -9.716662406921387, -9.255722999572754, -8.941614151000977, -1.1627817153930664, -1.3551932573318481, -1.5513584613800049, -1.1194062232971191, 12.358633041381836, 12.358633041381836, 11.615464210510254, 11.615464210510254, 11.615464210510254, 11.997786521911621, 11.68776798248291, -2.302018404006958, -2.302018404006958, -2.3020179271698, -8.685428619384766, -2.3020179271698, -0.8145492672920227, -0.814559817314148, -0.8145492672920227, -0.814559817314148, -1.5513584613800049, -1.4940643310546875, -1.5193054676055908, -1.1380048990249634, -1.2726460695266724, -1.5513584613800049, -0.8145597577095032, -10.095261573791504, -8.758849143981934, -9.691923141479492, 3.1519246101379395, 6.888221740722656, 6.888221740722656, 6.888221740722656, 6.888221740722656, 6.888221740722656, -9.822702407836914, -8.621432304382324, 6.888221740722656, 6.888221740722656, 6.888221740722656, 6.888221740722656, 6.888221740722656, 6.888221740722656, 6.888221740722656, 6.888221740722656, 6.888221740722656, 6.888221740722656, -8.718964576721191, -8.718843460083008, 6.888221740722656, 3.1519181728363037, 6.888221740722656, -4.207769870758057, 6.888221740722656, -8.396490097045898, 6.888221740722656, 6.888221740722656, 6.888221740722656, -10.1318359375, -13.925826072692871, -13.925826072692871, -13.925826072692871, 6.888221740722656, 6.888221740722656, -8.657999992370605, 1.0007916688919067, 1.187185287475586, 0.81002277135849, 0.686622142791748, 1.1143089532852173, -3.041083574295044, 6.888221740722656, 6.888221740722656, 6.888221740722656, 6.888221740722656, 6.888221740722656, 0.81002277135849, -10.866701126098633, -3.1827950477600098, -3.634904384613037, 5.602108478546143, -13.925891876220703, -13.925891876220703, 6.888221740722656, -3.1827950477600098, 5.260534286499023, 6.491314888000488, -6.379298210144043, -6.792399883270264, -6.139725208282471, -6.06045389175415, -6.70720911026001, -6.361310958862305, -6.488392353057861, -6.151949405670166, 1.9482307434082031, 6.2241339683532715, 7.390587329864502, 4.688227653503418, 6.046148300170898, 0.6275201439857483, 6.888221740722656, 9.043006896972656, 9.352086067199707, 8.080177307128906, 11.665199279785156, 6.888221740722656, 6.888221740722656, -0.8724105358123779, 8.665950775146484, -3.283801317214966, -2.4713921546936035, 9.399272918701172, 9.671149253845215, 8.851174354553223, -2.4587314128875732, 9.03912353515625, -2.6733224391937256, -4.28942346572876, -4.28942346572876, -4.28988790512085, -2.3083741664886475, -2.97438645362854, -1.8957374095916748, -2.9088733196258545, -2.328352689743042, -2.869593381881714, 9.003618240356445, -2.5150129795074463, -3.5102598667144775, 7.150829315185547, -1.8567787408828735, 6.867823123931885, 6.424615383148193, -2.5006701946258545, 5.574891567230225, 7.188009738922119, 5.924535751342773, 6.310206413269043, 11.855875015258789, -11.021790504455566, 4.85076379776001, 5.048711776733398, 4.066309928894043, 5.416826248168945, 3.8387579917907715, -2.9485409259796143, -3.136716604232788, -3.5663487911224365, -3.3512775897979736, -3.1640801429748535, -3.321368932723999, 3.151897668838501, -4.322159290313721, -0.6878892779350281, 6.6746978759765625, 0.3063803017139435, 4.813299179077148, 11.226900100708008, 8.683582305908203, 7.3170318603515625, 6.574981689453125, 9.438017845153809, 9.438017845153809, 5.006223201751709, 5.1697564125061035, -2.790027618408203, 6.370095729827881, 6.477390766143799, 8.287866592407227, -2.8574142456054688, 11.886021614074707, 12.079452514648438, 11.561676025390625, 12.521722793579102, 12.521721839904785, 7.5022101402282715, 8.105494499206543, 5.8070759773254395, 11.348073959350586, 11.886021614074707, 6.888221740722656, -9.359294891357422, -8.713611602783203, -8.14167308807373, -10.899157524108887, -7.8266448974609375, 5.228274822235107, 1.586830735206604, -1.0832101106643677, 0.2912113666534424, 3.137803316116333, 2.288811683654785, 11.627880096435547, 8.833495140075684, 7.30168342590332, 7.132085800170898, 8.332073211669922, 8.332073211669922, 7.6029558181762695, 5.015594959259033, 11.836440086364746, 6.488894939422607, -8.532792091369629, -8.837076187133789, -10.129023551940918, -9.845020294189453, -7.655184745788574, -10.289177894592285, -7.333178997039795, -13.149139404296875, -12.97205638885498, -8.12594223022461, -7.038399696350098, -10.590357780456543, -8.407317161560059, -7.019259929656982, 8.119144439697266, -9.328899383544922, -11.114350318908691, -6.716909885406494, -9.634468078613281, -7.7141804695129395, -9.642335891723633, -8.957928657531738, -10.96280288696289, -13.250323295593262, -8.08659839630127, -10.85881519317627, -10.55884075164795, -7.8308491706848145, 4.249183177947998, 4.249183177947998, 6.888221740722656, 6.888221740722656, 6.888221740722656, 6.888221740722656, 6.888221740722656, 6.888221740722656, 6.888221740722656, 6.888221740722656, 6.888221740722656, 6.888221740722656, 6.888221740722656, 6.888221740722656, 6.888221740722656, 6.888221740722656, 6.888221740722656, 6.888221740722656, 6.888221740722656, 6.888221740722656, 6.888221740722656, 6.888221740722656, 6.888221740722656, 6.888221740722656, 6.888221740722656, 6.888221740722656, 6.888221740722656, 0.7426660656929016, 0.2912113666534424, 1.4742822647094727, -0.6809741258621216, 3.972775459289551, 3.7649083137512207, 3.0648090839385986, 5.417680740356445, 3.3827037811279297, 12.269402503967285, 4.249183177947998, 6.888221740722656, 6.888221740722656, 6.888221740722656, 6.888221740722656, 6.888221740722656, 6.888221740722656, 6.888221740722656, 6.888221740722656, 6.888221740722656, 6.888221740722656, 6.888221740722656, 6.888221740722656, 6.888221740722656, -7.430106163024902, -12.832483291625977, -0.43730661273002625, 1.9795119762420654, 0.4076686203479767, 0.1098555251955986, -0.04532655328512192, 0.2213781177997589, 1.1144170761108398, 1.7998182773590088, -0.6708093285560608, -0.1334851235151291, -0.4009210765361786, 1.0099284648895264, -0.06276531517505646, 2.288811683654785, 2.0130844116210938, 2.0130844116210938, 8.833495140075684, -0.19690939784049988, 3.972775459289551, 8.833495140075684, 8.833495140075684, 1.5937283039093018, 0.4188206195831299, 2.678226947784424, 0.8056695461273193, 5.520002841949463, 6.6970086097717285, 3.8194823265075684, 4.321965217590332, 6.3144402503967285, 0.6091107130050659, -0.11403294652700424, 2.2286629676818848, 2.0959267616271973, 3.335787296295166, 8.833495140075684, 2.773585557937622, 2.423377275466919, 1.4818295240402222, 1.0505223274230957, 0.6395970582962036, 0.3781677186489105, 1.3556172847747803, 0.4468795359134674, 0.9049922227859497, 1.457291603088379, 2.4311230182647705, 3.195718765258789, -8.992812156677246, 5.111663341522217, 5.111663341522217, -0.1930875927209854, 0.03826388716697693, -0.7319663166999817, -0.1673181802034378, 0.949152410030365, 3.3827037811279297, 1.5148977041244507, 3.972775459289551, 2.0130844116210938, -9.153217315673828, -7.352902412414551, -10.20395565032959, -9.767626762390137, -9.750883102416992, -10.346920013427734, -7.362776756286621, -12.847532272338867, -13.186777114868164, -10.952589988708496, -8.315813064575195, -13.20405387878418, 0.5559406280517578, 2.683699131011963, 3.3657095432281494, 2.8446223735809326, 5.111663341522217, 5.891058921813965, 3.016427993774414, 6.741623878479004, 6.741623878479004, 4.121829509735107, 4.121829509735107, 2.003183126449585, 4.121829509735107, 6.7981767654418945, 5.111663341522217, 1.156395673751831, 2.634683847427368, -0.5027170181274414, 1.6992887258529663, 3.529747724533081, 3.8403449058532715, 3.174067258834839, -0.09045453369617462, 2.479231357574463, 3.8798205852508545, 3.1864423751831055, 3.3135788440704346, 6.888221740722656, 6.888221740722656, 6.888221740722656, 11.877521514892578, 11.765071868896484, 11.430551528930664, 12.879343032836914, 12.109829902648926, 1.8270171880722046, 1.8270201683044434, 1.8270145654678345, 6.888221740722656, 6.888221740722656, 6.888221740722656, 6.888221740722656, 6.888221740722656, -6.312211036682129, 6.888221740722656, 6.888221740722656, 9.31540298461914, 6.888221740722656, 6.888221740722656, 6.888221740722656, -3.2202770709991455, 6.888221740722656, 6.888221740722656, 6.888221740722656, 6.888221740722656, 6.888221740722656, 6.888221740722656, 6.888221740722656, 6.888221740722656, 6.888221740722656, 6.888221740722656, 6.888221740722656, 6.888221740722656, -0.26992473006248474, -0.2771354019641876, 0.33721446990966797, -0.12734131515026093, 0.2423449456691742, 6.888221740722656, -8.507006645202637, -2.635577440261841, -3.143204927444458, -8.462246894836426, 6.888221740722656, 6.888221740722656, 6.888221740722656, 6.888221740722656, 2.1193299293518066, 6.888221740722656, 11.120656967163086, 11.1206636428833, 0.04420797899365425, 3.866184711456299, 7.045034885406494, -10.859353065490723, -10.860071182250977, -10.8600492477417, -10.859891891479492, -3.8373587131500244, -3.836920738220215, -10.866700172424316, 10.96237850189209, -2.11032772064209, 12.016799926757812, 10.304147720336914, 5.710884094238281, 11.264031410217285, 11.770407676696777, 11.997702598571777, 11.886021614074707, 11.665199279785156, 11.425700187683105, 12.53159236907959, -1.9078538417816162, 6.0884270668029785, 12.222352981567383, 6.888221740722656, 6.888221740722656, -4.1107869148254395, -4.110791206359863, -4.110779762268066, -4.110795021057129, 6.888221740722656, 6.888221740722656, 6.888221740722656, 9.889806747436523, 11.1206636428833, 9.946426391601562, 6.888221740722656, -3.2913758754730225, -8.56464672088623, -8.941715240478516, -3.0128841400146484, 4.943794250488281, 5.209795951843262, 5.01572322845459, 6.888221740722656, 6.888221740722656, -8.560369491577148, 6.888221740722656, 6.888221740722656, 6.888221740722656, 6.888221740722656, 6.888221740722656, 6.888221740722656, 6.888221740722656, 6.888221740722656, 6.888221740722656, 6.888221740722656, 6.888221740722656, 6.888221740722656, -9.072927474975586, 9.31540298461914, 6.888221740722656, 6.888221740722656, 6.888221740722656, 6.888221740722656, 6.888221740722656, 6.888221740722656, 6.888221740722656, 0.21529734134674072, 6.888221740722656, 6.888221740722656, 6.888221740722656, 3.972775459289551, 4.086582183837891, 3.972775459289551, 6.888221740722656, 7.819960117340088, 7.3314127922058105, 9.669376373291016, 4.210511684417725, 12.08775520324707, 1.8567637205123901, 9.242231369018555, 0.35006922483444214, 4.753996849060059, 6.888221740722656, 4.7583770751953125, 9.927833557128906, 1.8567637205123901, 1.8567637205123901, 2.0130844116210938, 3.972775459289551, 2.0130844116210938, 3.972775459289551, 9.242231369018555, 3.972775459289551, 2.0130844116210938, 9.927833557128906, 6.888221740722656, 6.888221740722656, 6.888221740722656, 3.922741174697876, 3.5425519943237305, 8.65871810913086, 6.888221740722656, 9.025789260864258, 6.888221740722656, 6.888221740722656, 6.888221740722656, 6.888221740722656, -10.007412910461426, -0.31675970554351807, -2.981855869293213, 6.888221740722656, 6.888221740722656, -11.069097518920898, 6.888221740722656, 6.888221740722656, 6.888221740722656, -8.95897102355957, -8.963106155395508, 6.888221740722656, 6.888221740722656, 6.888221740722656, 11.886021614074707, 1.780638337135315, -0.34552162885665894, 6.888221740722656, 6.888221740722656, 6.888221740722656, -2.5107014179229736, -2.358931541442871, -12.913381576538086, -12.913501739501953, -12.913434028625488, -0.3153025209903717, 0.6168912649154663, 2.816587448120117, 2.9078519344329834, -0.8599304556846619, 2.218587636947632, 2.0212554931640625, 1.0560879707336426, 1.192860722541809, -0.6603801250457764, 1.799850583076477, 2.917590856552124, 0.8027674555778503, 0.7427608370780945, 1.3920128345489502, 6.888221740722656, 4.3060784339904785, 6.888221740722656, 8.437177658081055, 8.523247718811035, 9.601314544677734, 12.163856506347656, 6.888221740722656, 6.888221740722656, 13.14553451538086, 13.513501167297363, 7.2929253578186035, 9.318891525268555, 7.292923450469971, 7.292924404144287, 7.292924880981445, 10.547826766967773, 0.8355063199996948, 0.8355063199996948, -1.1960573196411133, 13.23680305480957, 1.641762137413025, 12.187294960021973, 7.292924404144287, 8.714410781860352, 8.55070686340332, 8.934928894042969, 0.17330029606819153, 0.17793385684490204, 6.888221740722656, -0.8213515877723694, 1.8416898250579834, -0.4108388423919678, 0.2020050585269928, 1.9093024730682373, 0.1835068315267563, 0.3604370951652527, -1.4560317993164062, -1.4560317993164062, 13.142783164978027, 13.14349365234375, 13.143031120300293, 13.143760681152344, 9.390009880065918, 9.498147010803223, 9.184629440307617, 8.894257545471191, 8.934928894042969, 3.1872525215148926, 4.736060619354248, 7.242725849151611, 10.23798656463623, 6.888221740722656, 6.888221740722656, 1.0964276790618896, -5.841548442840576, -1.1607344150543213, 14.683834075927734, 14.683834075927734, 6.888221740722656, 5.184689044952393, 6.888221740722656, 3.153298854827881, 1.9486597776412964, 6.888221740722656, -3.605074882507324, -3.605074167251587, -3.605074405670166, -1.228965163230896, -1.228360891342163, -1.2295479774475098, -2.906399726867676, 6.888221740722656, -0.26888057589530945, 1.2312222719192505, -1.2978907823562622, -9.850473403930664, 11.555719375610352, 5.320863723754883, 11.121857643127441, 10.96237850189209, -0.7467215061187744, -0.7467594146728516, -0.746721625328064, -0.7467215061187744, -0.746719241142273, -0.7467215657234192, -0.7467814087867737, 6.876062870025635, 1.5835729837417603, 11.625165939331055, 5.3176655769348145, 10.047127723693848, 6.854085922241211, 6.888221740722656, 10.359582901000977, -2.748668670654297, -3.224493980407715, 0.09310173988342285, 1.4109013080596924, 2.362042188644409, -3.304457426071167, -0.12180419266223907, -0.12146591395139694, -4.950551509857178, -4.950551509857178, -4.9505696296691895, 1.4588289260864258, 1.4588289260864258, 1.4588288068771362, 1.4588290452957153, 8.597098350524902, 7.206269264221191, 5.607246398925781, 5.984593868255615, 4.659250736236572, 4.072778224945068, 5.37150239944458, 7.1747565269470215, 5.79399299621582, 11.317917823791504, 11.861235618591309, 11.317917823791504, 6.731515884399414, 12.016857147216797, -2.218561887741089, -2.6049916744232178, 6.888221740722656, 6.888221740722656, 6.888221740722656, 6.888221740722656, 6.888221740722656, 6.888221740722656, 6.888221740722656, 6.888221740722656, 6.888221740722656, 6.888221740722656, 6.888221740722656, 6.888221740722656, 6.888221740722656, 6.888221740722656, 6.888221740722656, 6.888221740722656, 6.888221740722656, 6.888221740722656, 6.888221740722656, 6.888221740722656, 8.649908065795898, -1.6994959115982056, 6.888221740722656, 12.396185874938965, 1.9518907070159912, 5.418790340423584, 5.755183696746826, 6.077685832977295, 4.190618991851807, 4.097253799438477, 4.137821197509766, 5.069486141204834, 7.113370418548584, 4.374826431274414, 5.105213165283203, 5.396721839904785, -0.609192967414856, 10.044288635253906, 2.0130844116210938, -2.96576189994812, -3.2907180786132812, -3.5035314559936523, -3.409090995788574, -3.1929702758789062, -1.9199895858764648, -2.4621260166168213, 6.471330642700195, 1.9542738199234009, 6.310590744018555, 4.628793239593506, -2.8994171619415283, 11.571539878845215, 12.65602970123291, 4.72500467300415, 11.615464210510254, 5.278641700744629, 7.872447967529297, 4.523858070373535, 7.760659217834473, 5.3922648429870605, -1.4560325145721436, -1.4560325145721436, -1.456032395362854, -1.4560325145721436, 6.8554911613464355, 5.8441314697265625, 8.121662139892578, 4.178103923797607, -1.9233874082565308, -1.9680376052856445, -3.22841215133667, 6.361014366149902, 6.888221740722656, -0.08392585068941116, 6.888221740722656, 0.036073435097932816, 0.03602400794625282, -6.648479461669922, -7.6872076988220215, -7.417072296142578, -8.384337425231934, -8.96552562713623, -11.250537872314453, -10.363242149353027, -7.151974201202393, -7.887146472930908, -10.52499008178711, -11.49615478515625, -10.728286743164062, -10.174278259277344, -13.264467239379883, -9.802963256835938, -13.166716575622559, -9.677943229675293, -10.363821029663086, -7.023138999938965, 3.659907579421997, -11.270465850830078, 3.5811376571655273, 3.917600393295288, 6.888221740722656, 6.888221740722656, 4.948117256164551, 5.278843402862549, 5.047817707061768, 5.3185014724731445, 6.888221740722656, 6.888221740722656, 0.8332197666168213, 0.8340286016464233, 0.833495557308197, -10.393546104431152, -10.392427444458008, 6.888221740722656, 6.888221740722656, 6.888221740722656, 3.918870210647583, 3.6356430053710938, 3.6531565189361572, 3.9533400535583496, 3.837782621383667, 3.654834032058716, 6.888221740722656, -8.480036735534668, -8.710612297058105, -15.618197441101074, -14.873066902160645, -14.819852828979492, -14.558762550354004, -15.522563934326172, -14.440272331237793, -15.151269912719727, -14.911776542663574, -14.927781105041504, -14.447575569152832, -15.285879135131836, -15.583433151245117, -15.156903266906738, -14.61907958984375, -14.298846244812012, -15.719436645507812, -15.385239601135254, -14.519464492797852, -15.310980796813965, -15.457938194274902, -15.789155960083008, -15.06810474395752, -9.120792388916016, -8.747236251831055, -11.651413917541504, -7.606913089752197, -8.219603538513184, -10.006636619567871, -9.435945510864258, -8.851521492004395, -6.9919023513793945, -8.498434066772461, -12.72148609161377, -12.538785934448242, -7.312060832977295, -9.319575309753418, -8.037342071533203, -11.481684684753418, -6.819162845611572, -12.574969291687012, -7.855737686157227, -13.145661354064941, -7.417252063751221, -7.62681770324707, -9.160048484802246, -7.8940348625183105, -9.553339004516602, 6.888221740722656, 6.888221740722656, 6.888221740722656, 8.776629447937012, 5.930075168609619, 4.554286479949951, 6.878505706787109, 7.102186679840088, 4.650831699371338, -9.447955131530762, 7.214592456817627, 5.571131706237793, -4.260506629943848, -4.260506629943848, 11.644697189331055, 11.644697189331055, 12.450095176696777, 11.553302764892578, 12.75627613067627, -3.0029430389404297, 0.3500717282295227, 2.13346004486084, 2.13346004486084, 2.13346004486084, 9.000509262084961, 2.13346004486084, 7.904260158538818, 8.404301643371582, 6.888221740722656, -0.05455009266734123, 2.285348892211914, 14.100866317749023, 6.888221740722656, 6.888221740722656, 6.208817005157471, 6.217903137207031, 6.213079929351807, -6.856378078460693, -10.893404960632324, -10.89338207244873, -1.6925013065338135, -1.6925013065338135, -1.6925013065338135, -1.6925015449523926, -1.6925013065338135, -1.6925013065338135, 0.83450847864151, 0.8303717970848083, 8.10755729675293, 7.756874084472656, 6.888221740722656, 2.1334574222564697, 2.13346004486084, 6.888221740722656, 6.888221740722656, 6.888221740722656, 0.1840803623199463, 0.18407689034938812, 0.18407689034938812, 0.18405744433403015, 0.18405744433403015, 12.402068138122559, 5.62544059753418, 7.045034885406494, 6.854085922241211, 6.854085922241211, 6.854085922241211, 13.253663063049316, 11.085232734680176, 0.8846464157104492, 2.580524444580078, 2.8680264949798584, 9.044473648071289, 7.852715969085693, 6.888221740722656, 2.13346004486084, 6.888221740722656, 2.7184014320373535, 2.1334595680236816, 5.091468334197998, 1.8567637205123901, 1.8567637205123901, 6.888221740722656, 6.888221740722656, 6.888221740722656, 6.888221740722656, 6.888221740722656, -13.925919532775879, -13.925939559936523, 4.7440104484558105, 4.746241092681885, 5.923799991607666, 9.34520435333252, 13.27733039855957, 13.27733039855957, 14.683834075927734, 14.68383502960205, 2.7284979820251465, 2.7350096702575684, 2.723620653152466, 6.888221740722656, 7.498288154602051, 6.888221740722656, 11.903663635253906, 6.888221740722656, 9.296868324279785, 12.358633041381836, 1.5510773658752441, 1.3036115169525146, -11.452933311462402, -11.452930450439453, 8.11526870727539, 1.248414158821106, 1.248414158821106, 1.5292624235153198, 6.888221740722656, 0.8494650721549988, 8.003826141357422, 6.888221740722656, 1.5292624235153198, 0.9123627543449402, -2.8785433769226074, -6.033478260040283, 6.888221740722656, -6.962964057922363, 10.389856338500977, 6.888221740722656, 6.888221740722656, 6.888221740722656, 6.888221740722656, -4.825262069702148, -4.8258233070373535, -4.825687408447266, 11.139410972595215, 0.9287729859352112, 5.375236988067627, 13.501997947692871, 10.106331825256348, -0.7124084830284119, 6.888221740722656, 6.888221740722656, -5.7282891273498535, 9.723625183105469, 9.266444206237793, 9.266444206237793, 6.888221740722656, 6.888221740722656, 6.888221740722656, 6.888221740722656, 6.888221740722656, 6.888221740722656, 6.888221740722656, 11.615464210510254, 11.921111106872559, 9.266444206237793, -10.532825469970703, -6.472759246826172, 6.854085922241211, 6.888221740722656, 6.888221740722656, 9.663188934326172, 9.663188934326172, 7.045034885406494, 10.071979522705078, 13.361495018005371, 12.228135108947754, 6.888221740722656, 6.854085922241211, 6.888221740722656, -2.3744606971740723, 6.888221740722656, 6.888221740722656, 8.403817176818848, 7.51150369644165, 6.888221740722656, 6.888221740722656, 6.888221740722656, 6.888221740722656, 6.888221740722656, 6.888221740722656, 1.1369754076004028, 6.854085922241211, 10.101078033447266, 6.854085922241211, 9.31540298461914, 9.31540298461914, 6.888221740722656, 9.31540298461914, 6.888221740722656, 6.888221740722656, 6.854085922241211, 6.854085922241211, -8.348137855529785, 0.9428940415382385, -9.443161010742188, -8.657999992370605], \"y\": [-24.238086700439453, -24.238086700439453, -24.238086700439453, -24.238086700439453, -24.238086700439453, -24.238086700439453, -24.238086700439453, 12.117598533630371, -24.238086700439453, 12.008749961853027, -24.238086700439453, 10.922186851501465, 7.53368616104126, -24.238086700439453, -24.238086700439453, -24.238086700439453, -24.238086700439453, -24.238086700439453, -24.238086700439453, 8.608652114868164, -24.238086700439453, -24.238086700439453, -24.238086700439453, -24.238086700439453, -24.238086700439453, -24.238086700439453, -24.238086700439453, -24.238086700439453, -24.238086700439453, -24.238086700439453, -24.238086700439453, -24.238086700439453, -24.238086700439453, -24.238086700439453, -24.238086700439453, -24.238086700439453, 3.0609402656555176, 3.060915231704712, 3.060967445373535, 10.09682559967041, 10.096805572509766, -2.148054361343384, -24.238086700439453, -2.148054361343384, -24.238086700439453, -24.238086700439453, 19.47795295715332, 19.477922439575195, -24.238086700439453, -24.238086700439453, -24.238086700439453, 4.881092548370361, -2.499274492263794, -2.153136968612671, 0.3547435402870178, 4.902307510375977, -24.238086700439453, -24.238086700439453, -24.238086700439453, -3.1818673610687256, -3.1821818351745605, -0.9583215117454529, -0.9583255648612976, -0.9583262801170349, -2.314063787460327, -2.499274492263794, -24.238086700439453, 19.477968215942383, -24.238086700439453, -24.238086700439453, -1.4719332456588745, -24.238086700439453, -24.238086700439453, -24.238086700439453, -24.238086700439453, -1.6752849817276, -1.675929307937622, -1.9435079097747803, -0.48245546221733093, 0.8337646126747131, -0.01696382649242878, -24.238086700439453, -1.9765509366989136, 3.93772292137146, -1.0000596046447754, -0.18793517351150513, -24.238086700439453, 4.5617899894714355, -24.238086700439453, 4.593207836151123, 5.172070503234863, 5.100388050079346, -24.238086700439453, 0.8203409314155579, -21.64215087890625, -17.94243049621582, -17.94243049621582, 17.01090431213379, 4.9286980628967285, -2.5122601985931396, -1.994532585144043, 12.571226119995117, 11.984437942504883, 12.16415786743164, 12.159902572631836, 13.07099723815918, 12.666483879089355, 11.802897453308105, -24.238086700439453, -24.238086700439453, -24.238086700439453, -24.238086700439453, -24.238086700439453, -24.238086700439453, -24.238086700439453, -24.238086700439453, -24.238086700439453, 4.320491790771484, 17.214946746826172, -24.238086700439453, 4.690016746520996, 11.836212158203125, -25.695892333984375, -23.294408798217773, -21.204187393188477, -23.13657569885254, -18.499677658081055, -21.499374389648438, -24.13187026977539, -20.468015670776367, -17.660083770751953, -23.83047103881836, -24.238086700439453, 12.213712692260742, 12.214322090148926, 4.0447492599487305, 4.618398189544678, -22.46876335144043, -26.990432739257812, -23.20368766784668, -15.488012313842773, -24.51089096069336, -1.0985300540924072, 11.297019004821777, 12.21424674987793, -17.94243049621582, 0.00599683215841651, -0.5277196168899536, -17.94243049621582, -17.94243049621582, 3.578550338745117, 3.812551259994507, -17.94243049621582, 7.686464786529541, -17.94243049621582, -17.94243049621582, -17.94243049621582, -17.94243049621582, -17.94243049621582, -17.94243049621582, -17.94243049621582, -17.94243049621582, -17.94243049621582, -17.94243049621582, -1.2950915098190308, -1.2950917482376099, -0.9953165650367737, -17.94243049621582, -24.238086700439453, -24.238086700439453, -13.137863159179688, -13.137714385986328, -24.238086700439453, -1.5350341796875, -24.238086700439453, -24.238086700439453, 5.725059986114502, 5.725059509277344, -2.109182596206665, 5.0820794105529785, 5.412647724151611, -24.238086700439453, -24.238086700439453, -0.22144964337348938, 16.104232788085938, -24.238086700439453, -24.238086700439453, -24.238086700439453, -24.238086700439453, -24.238086700439453, -24.238086700439453, -24.238086700439453, -24.238086700439453, -24.238086700439453, 17.214946746826172, 16.104177474975586, -3.277865171432495, -3.160489797592163, -3.277864694595337, -7.609127998352051, -24.238086700439453, -24.238086700439453, 16.996103286743164, 16.371559143066406, 16.4951114654541, 16.692468643188477, 17.009756088256836, 16.630496978759766, 17.185909271240234, -24.238086700439453, -24.238086700439453, -24.238086700439453, -24.238086700439453, -24.238086700439453, -24.238086700439453, -24.238086700439453, 5.1997833251953125, 4.1075568199157715, 5.498635768890381, 4.098806381225586, -7.465986251831055, -7.190379619598389, -7.213000774383545, -7.378956317901611, -2.148054361343384, -2.148054361343384, -2.3047094345092773, -2.3047094345092773, -2.3047094345092773, -1.8277815580368042, -1.6517412662506104, 2.674177646636963, 2.674177646636963, 2.674177646636963, 5.010421276092529, 2.674177646636963, 2.34533429145813, 2.3453609943389893, 2.34533429145813, 2.3453609943389893, -7.213000774383545, -7.2738871574401855, -7.609127998352051, -7.168875217437744, -7.551089763641357, -7.213000774383545, 2.3453609943389893, 4.642226696014404, 5.483962059020996, 4.462372779846191, -18.62200927734375, -24.238086700439453, -24.238086700439453, -24.238086700439453, -24.238086700439453, -24.238086700439453, 5.340459823608398, 5.0357537269592285, -24.238086700439453, -24.238086700439453, -24.238086700439453, -24.238086700439453, -24.238086700439453, -24.238086700439453, -24.238086700439453, -24.238086700439453, -24.238086700439453, -24.238086700439453, -2.406534433364868, -2.406571865081787, -24.238086700439453, -18.62175750732422, -24.238086700439453, -0.43228065967559814, -24.238086700439453, 4.295443058013916, -24.238086700439453, -24.238086700439453, -24.238086700439453, 4.740320205688477, 7.623061180114746, 7.6230621337890625, 7.623061180114746, -24.238086700439453, -24.238086700439453, 3.578550338745117, 16.794340133666992, 17.083681106567383, 16.806501388549805, 16.720909118652344, 17.050277709960938, 10.102017402648926, -24.238086700439453, -24.238086700439453, -24.238086700439453, -24.238086700439453, -24.238086700439453, 16.806501388549805, -3.277864933013916, -2.314063787460327, 7.696077823638916, -21.404144287109375, 7.623141765594482, 7.623142242431641, -24.238086700439453, -2.314063787460327, -22.610923767089844, -23.21220588684082, 4.295610427856445, 4.570092678070068, 5.115911483764648, 4.379222869873047, 4.502769947052002, 5.577680587768555, 4.777454853057861, 5.153132438659668, -13.137917518615723, -22.571456909179688, -21.212488174438477, -21.973285675048828, -21.81193733215332, 16.133258819580078, -24.238086700439453, -22.506092071533203, -22.215534210205078, -21.279220581054688, -2.208369255065918, -24.238086700439453, -24.238086700439453, 15.160965919494629, -22.194026947021484, -2.1737494468688965, 10.65579891204834, -1.5650712251663208, -2.088446855545044, -1.5968456268310547, -2.415295124053955, -1.5328218936920166, 7.922118186950684, 8.87998104095459, 8.87998104095459, 8.879742622375488, 10.467605590820312, 10.59070110321045, 10.618672370910645, 10.915143013000488, 11.387202262878418, 11.230010986328125, -1.3069649934768677, 7.909488201141357, -2.863476276397705, -20.24243927001953, 14.801630973815918, -21.65025520324707, -21.182802200317383, 10.709754943847656, -20.305444717407227, -21.709827423095703, -21.453319549560547, -20.632362365722656, -2.0213325023651123, -1.991363286972046, -20.76180648803711, -21.80202293395996, -22.54585075378418, -20.89678382873535, -23.4537353515625, 7.185592174530029, 7.894175052642822, 7.517312049865723, 7.3937811851501465, 8.247169494628906, 7.595368385314941, -18.6220703125, -0.4220256507396698, 15.566695213317871, -21.35076141357422, 16.050655364990234, -20.859899520874023, 12.547126770019531, -21.39985466003418, -20.882286071777344, -21.38169288635254, -1.4580295085906982, -1.4580296277999878, -21.163936614990234, -22.073753356933594, -3.160489797592163, -20.36040496826172, -21.737531661987305, -21.40707778930664, -2.993182897567749, -1.6983212232589722, -2.2433087825775146, -2.3352231979370117, -3.7258191108703613, -3.7258195877075195, -21.384103775024414, -20.51427459716797, -21.353044509887695, -2.0059969425201416, -1.6983212232589722, -24.238086700439453, 19.524982452392578, 21.843786239624023, 22.603853225708008, 18.426910400390625, 21.761398315429688, -22.507686614990234, -19.75407600402832, -21.860397338867188, -18.57729148864746, -15.32816219329834, -21.996318817138672, -20.98379135131836, -18.57350730895996, -15.434232711791992, -24.161083221435547, -17.888317108154297, -17.888317108154297, -14.564828872680664, -15.389608383178711, -23.1680850982666, -18.406166076660156, 20.8670597076416, 20.745826721191406, 19.770999908447266, 20.403581619262695, 23.957008361816406, 18.241994857788086, 23.45281982421875, 18.83260154724121, 17.571836471557617, 22.555204391479492, 23.118967056274414, 18.972309112548828, 21.54810905456543, 24.33685874938965, -13.89748764038086, 20.75323486328125, 18.507965087890625, 24.077470779418945, 19.315750122070312, 22.310152053833008, 19.062091827392578, 21.496028900146484, 17.77940559387207, 17.963361740112305, 21.980993270874023, 18.3170108795166, 19.013927459716797, 22.461023330688477, -20.56443977355957, -20.56443977355957, -24.238086700439453, -24.238086700439453, -24.238086700439453, -24.238086700439453, -24.238086700439453, -24.238086700439453, -24.238086700439453, -24.238086700439453, -24.238086700439453, -24.238086700439453, -24.238086700439453, -24.238086700439453, -24.238086700439453, -24.238086700439453, -24.238086700439453, -24.238086700439453, -24.238086700439453, -24.238086700439453, -24.238086700439453, -24.238086700439453, -24.238086700439453, -24.238086700439453, -24.238086700439453, -24.238086700439453, -24.238086700439453, -16.920419692993164, -18.57729148864746, -17.018613815307617, -21.449201583862305, -18.51238250732422, -15.645951271057129, -17.329387664794922, -14.111457824707031, -18.43644905090332, -16.965810775756836, -20.56443977355957, -24.238086700439453, -24.238086700439453, -24.238086700439453, -24.238086700439453, -24.238086700439453, -24.238086700439453, -24.238086700439453, -24.238086700439453, -24.238086700439453, -24.238086700439453, -24.238086700439453, -24.238086700439453, -24.238086700439453, 22.356266021728516, 17.566402435302734, 4.994338035583496, -0.23266907036304474, -1.963062047958374, 4.9858503341674805, 3.7088801860809326, 4.567740440368652, 0.8713895082473755, -2.2667369842529297, 4.154944896697998, 4.154377460479736, 4.662020683288574, 0.1996220201253891, 3.538132667541504, -21.996318817138672, -20.091373443603516, -20.091373443603516, -18.57350730895996, -18.99822235107422, -18.51238250732422, -18.57350730895996, -18.57350730895996, -1.7451368570327759, 3.7401113510131836, -1.1951611042022705, -0.3749817907810211, -23.421369552612305, -21.08614158630371, -23.397119522094727, -21.440641403198242, -22.051715850830078, 4.478044509887695, 5.0263237953186035, -0.38841620087623596, -3.099823474884033, -1.756306767463684, -18.57350730895996, -3.089474678039551, -2.3578298091888428, -1.9001240730285645, -3.0006747245788574, -3.0096633434295654, 4.90190315246582, -2.50905179977417, 4.011690616607666, -0.39066949486732483, 0.43377581238746643, -2.1906979084014893, -2.6848018169403076, 20.11063003540039, -17.69739532470703, -17.69739532470703, -0.4179854393005371, -0.9110149145126343, 4.274439334869385, -2.082275152206421, -0.8822374939918518, -18.43644905090332, -16.490678787231445, -18.51238250732422, -20.091373443603516, 21.316387176513672, 22.466707229614258, 18.458032608032227, 19.4099063873291, 20.142927169799805, 19.28023338317871, 23.84812355041504, 18.106468200683594, 18.13432502746582, 17.893739700317383, 22.125089645385742, 18.644304275512695, -2.312004566192627, -0.3283386826515198, -2.4777214527130127, 0.10579532384872437, -17.69739532470703, -20.11635398864746, -21.876388549804688, -19.927295684814453, -19.927295684814453, -20.566112518310547, -20.566112518310547, -18.199443817138672, -20.566112518310547, -16.570043563842773, -17.69739532470703, -20.27609634399414, 0.15753738582134247, 3.6665873527526855, -3.358929395675659, -0.439004510641098, -0.31357085704803467, 0.5570099353790283, 4.069032192230225, -1.837685465812683, -1.3412929773330688, 0.47956109046936035, -1.5837489366531372, -24.238086700439453, -24.238086700439453, -24.238086700439453, 12.28596305847168, 13.47244930267334, 11.910975456237793, 12.410627365112305, 12.778914451599121, -13.098565101623535, -13.098552703857422, -13.098565101623535, -24.238086700439453, -24.238086700439453, -24.238086700439453, -24.238086700439453, -24.238086700439453, 4.6367974281311035, -24.238086700439453, -24.238086700439453, -1.1913903951644897, -24.238086700439453, -24.238086700439453, -24.238086700439453, -2.900343656539917, -24.238086700439453, -24.238086700439453, -24.238086700439453, -24.238086700439453, -24.238086700439453, -24.238086700439453, -24.238086700439453, -24.238086700439453, -24.238086700439453, -24.238086700439453, -24.238086700439453, -24.238086700439453, 16.470823287963867, 16.735973358154297, 16.187686920166016, 16.844009399414062, 4.6070661544799805, -24.238086700439453, 4.406120777130127, 7.387669563293457, 7.746809482574463, 4.6677374839782715, -24.238086700439453, -24.238086700439453, -24.238086700439453, -24.238086700439453, -1.5785685777664185, -24.238086700439453, -2.1281275749206543, -2.1288790702819824, 16.224809646606445, -21.9296932220459, -20.416608810424805, -1.1597882509231567, -1.1601109504699707, -1.1601015329360962, -1.1600329875946045, 0.4186013340950012, 0.41842034459114075, -3.2778656482696533, -19.721248626708984, -2.781491279602051, -19.5086612701416, -24.45021629333496, -22.41363525390625, 13.07382583618164, -2.0338449478149414, -2.2338922023773193, -1.6983212232589722, -2.208369255065918, -1.9233468770980835, 12.640215873718262, 11.21664810180664, 0.05429575592279434, 11.766716957092285, -24.238086700439453, -24.238086700439453, 6.07251501083374, 6.072505950927734, 6.072497844696045, 6.072514533996582, -24.238086700439453, -24.238086700439453, -24.238086700439453, -0.30090317130088806, -2.128875732421875, -0.5277196168899536, -24.238086700439453, -3.0497193336486816, -3.722015857696533, -4.117712020874023, 7.116259574890137, 7.487610340118408, 7.621675491333008, 7.812875747680664, -24.238086700439453, -24.238086700439453, -3.762200355529785, -24.238086700439453, -24.238086700439453, -24.238086700439453, -24.238086700439453, -24.238086700439453, -24.238086700439453, -24.238086700439453, -24.238086700439453, -24.238086700439453, -24.238086700439453, -24.238086700439453, -24.238086700439453, 4.884824275970459, -1.1913903951644897, -24.238086700439453, -24.238086700439453, -24.238086700439453, -24.238086700439453, -24.238086700439453, -24.238086700439453, -24.238086700439453, 16.479007720947266, -24.238086700439453, -24.238086700439453, -24.238086700439453, -18.51238250732422, -16.36396598815918, -18.51238250732422, -24.238086700439453, -25.596174240112305, -21.925064086914062, -23.15982437133789, -24.767379760742188, -18.19251823425293, -21.137313842773438, -20.579158782958984, 0.22562623023986816, 9.736635208129883, -24.238086700439453, 9.73841381072998, -15.890729904174805, -21.137313842773438, -21.137313842773438, -20.091373443603516, -18.51238250732422, -20.091373443603516, -18.51238250732422, -20.579158782958984, -18.51238250732422, -20.091373443603516, -15.890729904174805, -24.238086700439453, -24.238086700439453, -24.238086700439453, -1.372744083404541, -2.1713204383850098, -1.9883195161819458, -24.238086700439453, -0.5291852355003357, -24.238086700439453, -24.238086700439453, -24.238086700439453, -24.238086700439453, 4.102962493896484, 4.592244625091553, 7.305559158325195, -24.238086700439453, -24.238086700439453, -1.8361027240753174, -24.238086700439453, -24.238086700439453, -24.238086700439453, 5.449639320373535, 3.8293840885162354, -24.238086700439453, -24.238086700439453, -24.238086700439453, -1.6983212232589722, -1.1702468395233154, -0.9512282609939575, -24.238086700439453, -24.238086700439453, -24.238086700439453, -2.8250229358673096, -2.6734511852264404, 4.8952436447143555, 4.895601272583008, 4.895395278930664, -1.5068376064300537, 4.335286617279053, -0.8423932790756226, -0.8863866925239563, 4.508102893829346, 0.9904265403747559, 0.7330593466758728, -1.405648946762085, -0.49684208631515503, 4.813301086425781, -1.1279666423797607, -1.1668905019760132, -1.229750156402588, -1.2231667041778564, -2.934105157852173, -24.238086700439453, -22.363235473632812, -24.238086700439453, -2.132124185562134, -1.6310373544692993, -1.6372945308685303, 13.451489448547363, -24.238086700439453, -24.238086700439453, 11.317488670349121, 11.56078052520752, -1.1853939294815063, -2.399165630340576, -1.185321569442749, -1.1853272914886475, -1.185327410697937, -19.639883041381836, -25.39078712463379, -25.39078712463379, -19.19109535217285, -23.29337501525879, -21.68009376525879, -22.001569747924805, -1.1853221654891968, -2.525200128555298, -2.095463514328003, -2.1584432125091553, 0.39874300360679626, -2.472912073135376, -24.238086700439453, 3.970425844192505, -0.4676223397254944, 3.7508890628814697, -1.4178253412246704, -1.3150640726089478, -0.26990365982055664, 0.27499523758888245, -1.157421350479126, -1.1574212312698364, -1.6767228841781616, -1.6756343841552734, -1.6760791540145874, -1.6746008396148682, -1.9759536981582642, -2.335808277130127, -2.5865530967712402, -2.396267890930176, -2.1584432125091553, -18.74492835998535, -25.949813842773438, -15.913018226623535, -18.04131507873535, -24.238086700439453, -24.238086700439453, -15.515872955322266, 5.38646936416626, 11.502087593078613, 12.577224731445312, 12.577224731445312, -24.238086700439453, 7.59511661529541, -24.238086700439453, 12.968234062194824, -13.137899398803711, -24.238086700439453, 0.46148204803466797, 0.46148210763931274, 0.4614821672439575, 6.2868547439575195, 6.28634786605835, 6.2872796058654785, 8.190010070800781, -24.238086700439453, 5.555845737457275, -2.0854992866516113, 13.048200607299805, 3.5780370235443115, -21.588743209838867, -20.01996421813965, -19.875259399414062, -19.721248626708984, 11.748126029968262, 11.748126983642578, 11.748126029968262, 11.748126029968262, 11.748117446899414, 11.748126029968262, 11.74808406829834, -22.098247528076172, 16.887527465820312, 12.260597229003906, 7.898172855377197, -2.022562265396118, -17.94243049621582, -24.238086700439453, -1.205246090888977, -3.670854091644287, -3.876678705215454, -1.3002018928527832, -0.8486637473106384, -2.904768943786621, 11.664444923400879, -3.6030831336975098, -3.6030547618865967, 0.015279779210686684, 0.01527976430952549, 0.015279222279787064, -3.630770444869995, -3.6307871341705322, -3.6307880878448486, -3.6307897567749023, -1.636281967163086, -21.182296752929688, -20.532657623291016, -21.212411880493164, -22.24106788635254, -22.510601043701172, -22.78150177001953, -20.533008575439453, -21.880861282348633, 12.457886695861816, 12.944506645202637, 12.457886695861816, 1.8378188610076904, 13.37523365020752, 11.313759803771973, 11.263209342956543, -24.238086700439453, -24.238086700439453, -24.238086700439453, -24.238086700439453, -24.238086700439453, -24.238086700439453, -24.238086700439453, -24.238086700439453, -24.238086700439453, -24.238086700439453, -24.238086700439453, -24.238086700439453, -24.238086700439453, -24.238086700439453, -24.238086700439453, -24.238086700439453, -24.238086700439453, -24.238086700439453, -24.238086700439453, -24.238086700439453, -21.657245635986328, 11.480195045471191, -24.238086700439453, 12.690163612365723, -13.132207870483398, -21.583560943603516, -21.5930118560791, -20.849821090698242, -21.564960479736328, -23.200166702270508, -23.569278717041016, -22.272607803344727, -21.56090545654297, -19.934431076049805, -21.70889663696289, -14.436851501464844, 15.63083553314209, -15.653470039367676, -20.091373443603516, 11.58332633972168, 11.964219093322754, 10.965417861938477, 11.536901473999023, 10.758543968200684, 11.830822944641113, 12.231932640075684, -21.174150466918945, -13.132621765136719, -21.052663803100586, -23.027042388916016, 7.955976486206055, 13.19558334350586, 13.042160034179688, -23.4497013092041, -2.3047094345092773, -21.530324935913086, -21.553037643432617, -22.686216354370117, -20.49749183654785, -21.829784393310547, -1.1574220657348633, -1.1574220657348633, -1.1574221849441528, -1.1574221849441528, -20.452945709228516, 0.6777467131614685, -20.81883430480957, -22.668210983276367, 11.002370834350586, 11.92375659942627, 10.824112892150879, -20.188093185424805, -24.238086700439453, 6.900327682495117, -24.238086700439453, -1.2806154489517212, -1.2813191413879395, 23.88707160949707, 23.31680679321289, 23.16034507751465, 21.46926498413086, 21.20673179626465, 17.39972686767578, 19.808818817138672, 22.870285034179688, 23.092145919799805, 17.875728607177734, 18.10818862915039, 17.53807258605957, 18.833637237548828, 18.79806900024414, 19.918710708618164, 17.891876220703125, 20.34320068359375, 19.530893325805664, 24.26441192626953, 8.524060249328613, 17.49614143371582, 8.144503593444824, 8.516910552978516, -24.238086700439453, -24.238086700439453, 7.494584560394287, 7.732110500335693, 7.84202766418457, 7.919734477996826, -24.238086700439453, -24.238086700439453, 4.6825270652771, 4.681248188018799, 4.682086944580078, 2.052473545074463, 2.0589804649353027, -24.238086700439453, -24.238086700439453, -24.238086700439453, 8.342832565307617, 8.4525146484375, 8.50800609588623, 8.544302940368652, 8.170966148376465, 8.085329055786133, -24.238086700439453, 22.244970321655273, 20.58680534362793, 8.849574089050293, 9.370783805847168, 8.507233619689941, 8.459702491760254, 8.45632266998291, 9.071497917175293, 8.800296783447266, 9.245122909545898, 9.753808975219727, 9.464195251464844, 8.470352172851562, 9.363587379455566, 9.689038276672363, 9.578262329101562, 8.910720825195312, 8.780699729919434, 9.376044273376465, 8.980213165283203, 8.967657089233398, 9.659573554992676, 9.204977989196777, 8.273198127746582, 20.291288375854492, 21.78662109375, 17.516075134277344, 22.808578491210938, 21.084806442260742, 18.91699981689453, 20.917661666870117, 20.939517974853516, 23.50724983215332, 21.16952133178711, 17.844472885131836, 17.525747299194336, 24.419078826904297, 20.596738815307617, 21.619386672973633, 17.777931213378906, 23.540605545043945, 17.492307662963867, 22.159278869628906, 19.18404197692871, 23.931913375854492, 22.919708251953125, 20.046201705932617, 21.495418548583984, 19.741165161132812, -24.238086700439453, -24.238086700439453, -24.238086700439453, -21.531875610351562, -22.528881072998047, -21.55222511291504, -22.39618492126465, -22.357728958129883, -22.155982971191406, -8.17492389678955, -21.153654098510742, -20.48255729675293, 6.326052188873291, 6.326052188873291, 9.808357238769531, 9.808357238769531, 13.509234428405762, 13.037056922912598, 13.213813781738281, 8.237336158752441, 0.22562584280967712, 13.678894996643066, 13.678894996643066, 13.678894996643066, -21.996667861938477, 13.678894996643066, -22.208702087402344, -21.8890323638916, -24.238086700439453, 6.893251419067383, 17.311138153076172, -3.1823196411132812, -24.238086700439453, -24.238086700439453, 1.2075344324111938, 1.2211332321166992, 1.2139825820922852, 5.195662975311279, -4.356524467468262, -4.356513500213623, -1.3623321056365967, -1.3623321056365967, -1.3623321056365967, -1.362331748008728, -1.3623319864273071, -1.3623321056365967, 4.680018424987793, 4.687467098236084, -21.338186264038086, -22.167545318603516, -24.238086700439453, 13.6788911819458, 13.678894996643066, -24.238086700439453, -24.238086700439453, -24.238086700439453, 6.839767932891846, 6.839756011962891, 6.839756011962891, 6.839749813079834, 6.839749813079834, -21.552379608154297, -24.23720359802246, -20.416608810424805, -17.94243049621582, -17.94243049621582, -17.94243049621582, -20.868661880493164, -20.838106155395508, -26.582050323486328, -24.501989364624023, -23.142610549926758, -19.1945858001709, -23.107152938842773, -24.238086700439453, 13.678894996643066, -24.238086700439453, 7.327478885650635, 13.678894996643066, 7.873512268066406, -21.137313842773438, -21.137313842773438, -24.238086700439453, -24.238086700439453, -24.238086700439453, -24.238086700439453, -24.238086700439453, 7.6231689453125, 7.623157501220703, 9.732588768005371, 9.73349380493164, -17.755170822143555, -0.5940431356430054, 11.16400146484375, 11.16400146484375, 12.577224731445312, 12.577224731445312, 7.331881999969482, 7.334672927856445, 7.329763889312744, -24.238086700439453, -21.132017135620117, -24.238086700439453, -1.6668157577514648, -24.238086700439453, -22.259016036987305, -2.148054361343384, 16.384706497192383, 16.29844093322754, -5.249454498291016, -5.249457836151123, -19.855623245239258, 16.267852783203125, 16.267852783203125, 16.7636661529541, -24.238086700439453, 16.351219177246094, -17.990144729614258, -24.238086700439453, 16.7636661529541, 16.200407028198242, 11.937393188476562, 5.532690048217773, -24.238086700439453, 4.91909122467041, -17.41753387451172, -24.238086700439453, -24.238086700439453, -24.238086700439453, -24.238086700439453, 3.8340232372283936, 3.834458589553833, 3.8344008922576904, -18.477506637573242, -23.011539459228516, -18.39276123046875, -19.534482955932617, -15.503376007080078, -24.448497772216797, -24.238086700439453, -24.238086700439453, 4.6375651359558105, -0.812028169631958, -0.4388800859451294, -0.4388800859451294, -24.238086700439453, -24.238086700439453, -24.238086700439453, -24.238086700439453, -24.238086700439453, -24.238086700439453, -24.238086700439453, -2.3047094345092773, 11.840469360351562, -0.4388800859451294, -3.356206178665161, 5.506026744842529, -17.94243049621582, -24.238086700439453, -24.238086700439453, -21.503585815429688, -21.503585815429688, -20.416608810424805, -19.838932037353516, -23.664417266845703, -24.010190963745117, -24.238086700439453, -17.94243049621582, -24.238086700439453, 10.095829010009766, -24.238086700439453, -24.238086700439453, -22.7381534576416, -22.99391746520996, -24.238086700439453, -24.238086700439453, -24.238086700439453, -24.238086700439453, -24.238086700439453, -24.238086700439453, -22.91071891784668, -17.94243049621582, -0.8604698777198792, -17.94243049621582, -1.1913903951644897, -1.1913903951644897, -24.238086700439453, -1.1913903951644897, -24.238086700439453, -24.238086700439453, -17.94243049621582, -17.94243049621582, 5.033864974975586, 16.71439552307129, 5.548227787017822, 3.578550338745117], \"z\": [0.2553693950176239, 0.2553693950176239, 0.2553693950176239, 0.2553693950176239, 0.2553693950176239, 0.2553693950176239, 0.2553693950176239, -12.008317947387695, 0.2553693950176239, -11.106602668762207, 0.2553693950176239, -11.282425880432129, 0.3370543122291565, 0.2553693950176239, 0.2553693950176239, 0.2553693950176239, 0.2553693950176239, 0.2553693950176239, 0.2553693950176239, -5.1927642822265625, 0.2553693950176239, 0.2553693950176239, 0.2553693950176239, 0.2553693950176239, 0.2553693950176239, 0.2553693950176239, 0.2553693950176239, 0.2553693950176239, 0.2553693950176239, 0.2553693950176239, 0.2553693950176239, 0.2553693950176239, 0.2553693950176239, 0.2553693950176239, 0.2553693950176239, 0.2553693950176239, -4.6067423820495605, -4.606701374053955, -4.606744289398193, 0.5357080698013306, 0.5357089638710022, 3.0447912216186523, 0.2553693950176239, 3.0447912216186523, 0.2553693950176239, 0.2553693950176239, -1.4313693046569824, -1.4313843250274658, 0.2553693950176239, 0.2553693950176239, 0.2553693950176239, -16.381820678710938, -1.2500524520874023, -1.81210196018219, -5.288188934326172, -7.080827713012695, 0.2553693950176239, 0.2553693950176239, 0.2553693950176239, 5.299647331237793, 5.2998576164245605, -7.708110809326172, -7.708113670349121, -7.708114147186279, -2.2394168376922607, -1.2500524520874023, 0.2553693950176239, -1.4313955307006836, 0.2553693950176239, 0.2553693950176239, -10.616998672485352, 0.2553693950176239, 0.2553693950176239, 0.2553693950176239, 0.2553693950176239, 6.1807780265808105, 6.179116725921631, -13.401321411132812, -14.398859977722168, -12.51187515258789, -13.229870796203613, 0.2553693950176239, -12.891108512878418, -19.760923385620117, -14.296199798583984, -15.289122581481934, 0.2553693950176239, -6.265861511230469, 0.2553693950176239, -16.290855407714844, -15.720322608947754, -6.4768548011779785, 0.2553693950176239, -13.903278350830078, -1.5048047304153442, -1.333674430847168, -1.333674430847168, 1.65038001537323, -14.6593017578125, -1.5608021020889282, -1.6721194982528687, -0.914753794670105, -0.5747502446174622, -0.14364421367645264, -1.4744532108306885, -1.4160791635513306, -1.0694587230682373, -1.220746397972107, 0.2553693950176239, 0.2553693950176239, 0.2553693950176239, 0.2553693950176239, 0.2553693950176239, 0.2553693950176239, 0.2553693950176239, 0.2553693950176239, 0.2553693950176239, -16.333555221557617, 1.1512235403060913, 0.2553693950176239, -5.364648342132568, -12.385842323303223, 4.5753865242004395, -1.43308687210083, -1.940108060836792, 4.877223968505859, -1.881932258605957, -3.142664670944214, 2.6802287101745605, 7.361809730529785, -2.098468065261841, -4.24990701675415, 0.2553693950176239, -3.5846331119537354, -3.5826027393341064, -16.119632720947266, -15.373677253723145, -7.006225109100342, -3.9406275749206543, -4.938945770263672, 5.286830425262451, -3.7848145961761475, -1.6384013891220093, -11.443537712097168, -3.5829579830169678, -1.333674430847168, -0.8232031464576721, -4.9227519035339355, -1.333674430847168, -1.333674430847168, -14.322649955749512, -15.48161792755127, -1.333674430847168, 0.9258543848991394, -1.333674430847168, -1.333674430847168, -1.333674430847168, -1.333674430847168, -1.333674430847168, -1.333674430847168, -1.333674430847168, -1.333674430847168, -1.333674430847168, -1.333674430847168, -3.761030435562134, -3.76103138923645, -4.3309807777404785, -1.333674430847168, 0.2553693950176239, 0.2553693950176239, 3.03869366645813, 3.0431787967681885, 0.2553693950176239, -13.426498413085938, 0.2553693950176239, 0.2553693950176239, -6.925029277801514, -6.925029277801514, 6.270110130310059, -7.322761535644531, -6.896731853485107, 0.2553693950176239, 0.2553693950176239, -4.342557430267334, -4.456801414489746, 0.2553693950176239, 0.2553693950176239, 0.2553693950176239, 0.2553693950176239, 0.2553693950176239, 0.2553693950176239, 0.2553693950176239, 0.2553693950176239, 0.2553693950176239, 1.1512235403060913, -4.456480979919434, -10.046476364135742, -1.6553714275360107, -10.04648208618164, -0.2426583170890808, 0.2553693950176239, 0.2553693950176239, 0.5800450444221497, 0.594245433807373, 0.9122639298439026, 0.5969778895378113, 1.5179331302642822, 1.641648769378662, 0.9080166220664978, 0.2553693950176239, 0.2553693950176239, 0.2553693950176239, 0.2553693950176239, 0.2553693950176239, 0.2553693950176239, 0.2553693950176239, -16.18287467956543, -15.033608436584473, -15.034499168395996, -15.39970874786377, -0.14093126356601715, -0.06305912882089615, -0.49338439106941223, -0.47410306334495544, 3.0447912216186523, 3.0447912216186523, 3.138705015182495, 3.138705015182495, 3.138705015182495, 3.5590319633483887, 3.0345025062561035, -0.6104576587677002, -0.6104576587677002, -0.6104575991630554, -14.849878311157227, -0.6104575991630554, -1.4839636087417603, -1.4839600324630737, -1.4839636087417603, -1.4839600324630737, -0.49338439106941223, -0.041273798793554306, -0.2426583170890808, -0.31200772523880005, -0.5352843999862671, -0.49338439106941223, -1.4839601516723633, -15.828995704650879, -15.336043357849121, -14.767948150634766, 7.593919277191162, 0.2553693950176239, 0.2553693950176239, 0.2553693950176239, 0.2553693950176239, 0.2553693950176239, -15.150276184082031, -16.09467124938965, 0.2553693950176239, 0.2553693950176239, 0.2553693950176239, 0.2553693950176239, 0.2553693950176239, 0.2553693950176239, 0.2553693950176239, 0.2553693950176239, 0.2553693950176239, 0.2553693950176239, -2.4599273204803467, -2.4599196910858154, 0.2553693950176239, 7.593939781188965, 0.2553693950176239, -7.2924699783325195, 0.2553693950176239, -15.54269790649414, 0.2553693950176239, 0.2553693950176239, 0.2553693950176239, -15.175724029541016, -2.9174723625183105, -2.9174721240997314, -2.9174723625183105, 0.2553693950176239, 0.2553693950176239, -14.322649955749512, -2.294184684753418, -2.6442999839782715, -2.9706711769104004, -2.5440025329589844, -2.8742716312408447, -11.605782508850098, 0.2553693950176239, 0.2553693950176239, 0.2553693950176239, 0.2553693950176239, 0.2553693950176239, -2.9706711769104004, -10.046483039855957, -2.2394168376922607, 0.6571686863899231, -0.22116756439208984, -2.917541027069092, -2.917541265487671, 0.2553693950176239, -2.2394168376922607, -2.111114740371704, -2.7442550659179688, -6.614881992340088, -6.518843650817871, -6.121662139892578, -6.970983982086182, -7.064935684204102, -7.039185523986816, -6.142229080200195, -7.3743672370910645, 3.03961181640625, 2.9044411182403564, 1.6307332515716553, 0.2677544057369232, -1.5627416372299194, 1.1235918998718262, 0.2553693950176239, -1.3470045328140259, 0.43685466051101685, 0.6922187805175781, -0.6328619122505188, 0.2553693950176239, 0.2553693950176239, 1.0463277101516724, 1.9446296691894531, -1.5105785131454468, -10.798443794250488, -14.159027099609375, -13.75869083404541, -13.385746955871582, -2.1531074047088623, -14.312093734741211, 1.0795215368270874, -0.26123300194740295, -0.26123300194740295, -0.2607407569885254, -11.224566459655762, -11.222138404846191, -11.664833068847656, -12.47784423828125, -10.651251792907715, -10.63976764678955, -13.820788383483887, 0.6295362710952759, -1.7891054153442383, 0.3307521939277649, -3.320822238922119, -1.5401757955551147, -0.39579805731773376, -12.335501670837402, 0.21535752713680267, -2.1695241928100586, -0.8643975257873535, -1.2221208810806274, 2.5752460956573486, -10.869731903076172, 0.4601861834526062, 1.1218547821044922, -0.1500035673379898, -1.395675539970398, -0.3315081000328064, 0.3512241244316101, 1.2512770891189575, 0.3854047656059265, 0.1934788078069687, 0.703140914440155, 1.2116236686706543, 7.593918800354004, -7.185505390167236, -3.6659295558929443, -1.0035873651504517, 1.2220724821090698, -0.4484463036060333, -1.2435394525527954, 0.5384599566459656, -1.7032777070999146, 1.6262675523757935, -6.247032165527344, -6.247032165527344, 1.6110420227050781, 2.086132764816284, -1.6553714275360107, -0.1850375384092331, 2.3880221843719482, 1.3425012826919556, -2.2692525386810303, -0.9041566252708435, -0.8673845529556274, -1.0772759914398193, 4.397802829742432, 4.397803783416748, -0.9322324991226196, -0.023256611078977585, 0.9499068260192871, -0.9303306937217712, -0.9041566252708435, 0.2553693950176239, -1.4012987613677979, -5.305604457855225, -6.169414520263672, -0.3995157778263092, -5.875545501708984, 6.11711311340332, -4.453394889831543, 2.7095611095428467, 1.9218791723251343, -1.9638516902923584, -3.3717923164367676, 5.671838283538818, 2.406853675842285, 4.298396587371826, 7.025171756744385, 5.506810188293457, 5.506810188293457, 1.5759059190750122, 2.641380786895752, 4.265881061553955, 2.7790231704711914, -3.337864875793457, -2.7671315670013428, -2.0073935985565186, -2.1266703605651855, -8.611382484436035, 0.013905498199164867, -8.860015869140625, 2.4882664680480957, 2.2482519149780273, -6.804589748382568, -8.225366592407227, -0.8910292387008667, -5.607578754425049, -9.21715259552002, -1.1457881927490234, -3.644822597503662, 0.37164974212646484, -8.819406509399414, -1.868030309677124, -5.738678932189941, -1.0608999729156494, -4.6729607582092285, -0.14862491190433502, 2.408888101577759, -6.326503276824951, 0.7477179169654846, -0.17978201806545258, -7.250881195068359, -4.218120574951172, -4.218120574951172, 0.2553693950176239, 0.2553693950176239, 0.2553693950176239, 0.2553693950176239, 0.2553693950176239, 0.2553693950176239, 0.2553693950176239, 0.2553693950176239, 0.2553693950176239, 0.2553693950176239, 0.2553693950176239, 0.2553693950176239, 0.2553693950176239, 0.2553693950176239, 0.2553693950176239, 0.2553693950176239, 0.2553693950176239, 0.2553693950176239, 0.2553693950176239, 0.2553693950176239, 0.2553693950176239, 0.2553693950176239, 0.2553693950176239, 0.2553693950176239, 0.2553693950176239, -1.293031096458435, 1.9218791723251343, -3.960559129714966, 0.2222064882516861, 1.7005231380462646, 0.5019040107727051, -0.9231382012367249, 0.11310770362615585, -3.0178494453430176, 0.25393521785736084, -4.218120574951172, 0.2553693950176239, 0.2553693950176239, 0.2553693950176239, 0.2553693950176239, 0.2553693950176239, 0.2553693950176239, 0.2553693950176239, 0.2553693950176239, 0.2553693950176239, 0.2553693950176239, 0.2553693950176239, 0.2553693950176239, 0.2553693950176239, -7.0203070640563965, 1.780471920967102, -19.04460334777832, -14.00943374633789, -11.924583435058594, -18.921436309814453, -18.764955520629883, -18.590547561645508, -12.848788261413574, -13.482762336730957, -18.716169357299805, -18.485260009765625, -18.607994079589844, -14.759744644165039, -19.40626335144043, -3.3717923164367676, -0.8719995021820068, -0.8719995021820068, 2.406853675842285, -3.076230764389038, 1.7005231380462646, 2.406853675842285, 2.406853675842285, -14.28336238861084, -19.256174087524414, -12.603137016296387, -11.557429313659668, -2.5121583938598633, 0.2691596448421478, 0.5791565179824829, 0.7939072847366333, -2.183736801147461, -19.019994735717773, -19.57671546936035, -12.562032699584961, -12.463810920715332, -11.890195846557617, 2.406853675842285, -13.439427375793457, -11.745776176452637, -12.555941581726074, -12.566487312316895, -13.643985748291016, -19.39027214050293, -11.6459379196167, -18.80746841430664, -13.527109146118164, -11.879326820373535, -15.182899475097656, -12.496333122253418, -2.6097490787506104, 4.699933052062988, 4.699933052062988, -13.007453918457031, -12.020232200622559, -19.747966766357422, -13.779288291931152, -15.265469551086426, -3.0178494453430176, 0.9964930415153503, 1.7005231380462646, -0.8719995021820068, -3.7460567951202393, -6.615654945373535, -0.5766371488571167, -0.7199882864952087, -1.4110652208328247, -1.5499919652938843, -9.094926834106445, 2.502530336380005, 2.0345041751861572, 0.963933527469635, -4.809137344360352, 2.6423394680023193, -14.489832878112793, -13.39103889465332, -14.251096725463867, -14.755857467651367, 4.699933052062988, 7.111165523529053, 6.9160075187683105, 4.598358154296875, 4.598358154296875, 4.5825653076171875, 4.5825653076171875, 4.261109828948975, 4.5825653076171875, 2.1400060653686523, 4.699933052062988, 5.3922882080078125, -11.74509048461914, -19.0260009765625, -13.47878646850586, -12.268087387084961, -13.33627700805664, -13.838884353637695, -20.00211524963379, -13.948450088500977, -12.73259449005127, -12.744832992553711, -14.830910682678223, 0.2553693950176239, 0.2553693950176239, 0.2553693950176239, 0.023518772795796394, -0.8722776770591736, -0.9018629789352417, -0.7594792246818542, -1.7502182722091675, 3.195244550704956, 3.1952338218688965, 3.1952428817749023, 0.2553693950176239, 0.2553693950176239, 0.2553693950176239, 0.2553693950176239, 0.2553693950176239, -7.329287528991699, 0.2553693950176239, 0.2553693950176239, -4.579122066497803, 0.2553693950176239, 0.2553693950176239, 0.2553693950176239, -1.3243483304977417, 0.2553693950176239, 0.2553693950176239, 0.2553693950176239, 0.2553693950176239, 0.2553693950176239, 0.2553693950176239, 0.2553693950176239, 0.2553693950176239, 0.2553693950176239, 0.2553693950176239, 0.2553693950176239, 0.2553693950176239, 0.9717606902122498, 1.2216064929962158, 0.6798431277275085, 0.6877591013908386, -19.89622688293457, 0.2553693950176239, -16.03974723815918, 0.9203564524650574, 0.05656431242823601, -15.105605125427246, 0.2553693950176239, 0.2553693950176239, 0.2553693950176239, 0.2553693950176239, -11.207953453063965, 0.2553693950176239, 5.813008785247803, 5.812959671020508, 1.4272068738937378, -6.995675563812256, -4.7368011474609375, -1.0813961029052734, -1.0809191465377808, -1.0809334516525269, -1.081038236618042, -5.562078952789307, -5.563040256500244, -10.046485900878906, -0.8600577116012573, -5.119461536407471, -3.9055492877960205, -5.290946960449219, -5.446242332458496, -0.9328898191452026, -1.3669610023498535, -1.1811941862106323, -0.9041566252708435, -0.6328619122505188, -1.1915161609649658, -1.6240507364273071, -10.929842948913574, -4.628422260284424, -0.7868334054946899, 0.2553693950176239, 0.2553693950176239, -3.3968026638031006, -3.396825075149536, -3.396850347518921, -3.396775722503662, 0.2553693950176239, 0.2553693950176239, 0.2553693950176239, -4.420141220092773, 5.812714099884033, -4.9227519035339355, 0.2553693950176239, -2.048635482788086, -2.722595691680908, -3.7443881034851074, 0.6982417702674866, -8.6699800491333, -8.343877792358398, -8.800846099853516, 0.2553693950176239, 0.2553693950176239, -2.6983087062835693, 0.2553693950176239, 0.2553693950176239, 0.2553693950176239, 0.2553693950176239, 0.2553693950176239, 0.2553693950176239, 0.2553693950176239, 0.2553693950176239, 0.2553693950176239, 0.2553693950176239, 0.2553693950176239, 0.2553693950176239, -14.649720191955566, -4.579122066497803, 0.2553693950176239, 0.2553693950176239, 0.2553693950176239, 0.2553693950176239, 0.2553693950176239, 0.2553693950176239, 0.2553693950176239, 1.6789863109588623, 0.2553693950176239, 0.2553693950176239, 0.2553693950176239, 1.7005231380462646, -4.593180179595947, 1.7005231380462646, 0.2553693950176239, -6.165596961975098, 6.014801979064941, 6.087438583374023, 6.353285789489746, 2.5263123512268066, 2.5175747871398926, 4.690792560577393, -17.516389846801758, -8.599828720092773, 0.2553693950176239, -8.59693717956543, 2.7156357765197754, 2.5175747871398926, 2.5175747871398926, -0.8719995021820068, 1.7005231380462646, -0.8719995021820068, 1.7005231380462646, 4.690792560577393, 1.7005231380462646, -0.8719995021820068, 2.7156357765197754, 0.2553693950176239, 0.2553693950176239, 0.2553693950176239, -13.904025077819824, -13.277816772460938, -12.17131519317627, 0.2553693950176239, -4.3121490478515625, 0.2553693950176239, 0.2553693950176239, 0.2553693950176239, 0.2553693950176239, -15.592660903930664, -19.964445114135742, 1.1115977764129639, 0.2553693950176239, 0.2553693950176239, -10.925439834594727, 0.2553693950176239, 0.2553693950176239, 0.2553693950176239, -15.941017150878906, -15.838500022888184, 0.2553693950176239, 0.2553693950176239, 0.2553693950176239, -0.9041566252708435, -12.233784675598145, -13.916449546813965, 0.2553693950176239, 0.2553693950176239, 0.2553693950176239, -2.18113112449646, -1.6682196855545044, -0.6016342639923096, -0.6021605134010315, -0.6018598079681396, -12.875133514404297, -19.52112579345703, -15.33579158782959, -11.491852760314941, -19.082508087158203, -13.512370109558105, -14.546394348144531, -11.360831260681152, -12.585867881774902, -19.512331008911133, -13.339434623718262, -13.492453575134277, -12.810050010681152, -13.818315505981445, -14.526318550109863, 0.2553693950176239, 1.1040501594543457, 0.2553693950176239, -13.98972225189209, -13.69444751739502, -13.806239128112793, -0.3789829909801483, 0.2553693950176239, 0.2553693950176239, -2.0770723819732666, -1.9278042316436768, -9.103145599365234, -13.446478843688965, -9.103156089782715, -9.10314655303955, -9.10314655303955, -6.139032363891602, -1.4525941610336304, -1.4525941610336304, -0.567179799079895, 1.8600921630859375, -5.916322708129883, -5.003969669342041, -9.10314655303955, -13.875068664550781, -13.492647171020508, -14.414835929870605, -13.638456344604492, -12.777973175048828, 0.2553693950176239, -19.327022552490234, -11.281340599060059, -19.729583740234375, -14.834214210510254, -15.379969596862793, -14.531633377075195, -12.416648864746094, -7.502293586730957, -7.502293586730957, 6.179100036621094, 6.1807169914245605, 6.179083824157715, 6.1807475090026855, -13.30424690246582, -14.047204971313477, -13.980951309204102, -13.413970947265625, -14.414835929870605, -6.226465225219727, -5.4979681968688965, -5.008826732635498, 0.26750999689102173, 0.2553693950176239, 0.2553693950176239, 5.303021430969238, -6.996250629425049, 0.05141919478774071, 0.02735276147723198, 0.02735276147723198, 0.2553693950176239, -8.354461669921875, 0.2553693950176239, -0.5447510480880737, 3.039090156555176, 0.2553693950176239, -6.342408180236816, -6.342408657073975, -6.342408180236816, -12.90609073638916, -12.907004356384277, -12.906068801879883, 0.3751721680164337, 0.2553693950176239, -12.923526763916016, -15.297602653503418, 1.8281230926513672, 0.9558334350585938, -2.5784335136413574, -6.93502140045166, 1.3691473007202148, -0.8600577116012573, 1.115318775177002, 1.1153379678726196, 1.1153186559677124, 1.115318775177002, 1.1153169870376587, 1.115318775177002, 1.1153301000595093, -7.537259101867676, -3.7049503326416016, -1.5410035848617554, -8.5598783493042, -14.986367225646973, -1.333674430847168, 0.2553693950176239, 0.055105406790971756, -4.484764099121094, -4.182296276092529, -5.35854434967041, -14.337221145629883, -14.441018104553223, -11.099126815795898, -1.3512191772460938, -1.3513425588607788, -0.19829097390174866, -0.1982908695936203, -0.1982887089252472, -1.3651227951049805, -1.3651227951049805, -1.36512291431427, -1.365122675895691, -14.178818702697754, 0.9519882202148438, 1.135016918182373, 0.2520163357257843, 1.6631789207458496, 0.48801204562187195, 2.6700191497802734, -0.7236129641532898, 2.3335249423980713, -0.43816763162612915, 0.01860770583152771, -0.43816763162612915, -5.212294101715088, -1.436476707458496, -12.507568359375, -11.672575950622559, 0.2553693950176239, 0.2553693950176239, 0.2553693950176239, 0.2553693950176239, 0.2553693950176239, 0.2553693950176239, 0.2553693950176239, 0.2553693950176239, 0.2553693950176239, 0.2553693950176239, 0.2553693950176239, 0.2553693950176239, 0.2553693950176239, 0.2553693950176239, 0.2553693950176239, 0.2553693950176239, 0.2553693950176239, 0.2553693950176239, 0.2553693950176239, 0.2553693950176239, -0.8430628776550293, -11.85639762878418, 0.2553693950176239, 0.04381582885980606, 3.0357840061187744, -2.0696394443511963, 1.6340433359146118, 1.9613213539123535, -0.23784996569156647, 1.436133623123169, -1.2229270935058594, -1.602218508720398, 2.2520086765289307, -1.5964971780776978, -0.3889850974082947, -3.120485544204712, -3.368307590484619, -0.02284189686179161, -0.8719995021820068, -12.506013870239258, -11.631180763244629, -11.805700302124023, -12.146730422973633, -12.097825050354004, -11.304662704467773, -11.684747695922852, 0.9084774255752563, 3.0329787731170654, -2.0326366424560547, 2.167740821838379, 0.13987818360328674, -0.3874472975730896, -0.25791871547698975, -1.9716514348983765, 3.138705015182495, 0.490085631608963, 1.8938281536102295, -1.503854513168335, 0.9781352281570435, -1.1266733407974243, -7.502286434173584, -7.502286434173584, -7.502285957336426, -7.502285957336426, 1.4939481019973755, -5.25760555267334, -0.9940939545631409, -0.8404507040977478, -12.212061882019043, -11.92520809173584, -10.923377990722656, 0.7875795960426331, 0.2553693950176239, -0.303653746843338, 0.2553693950176239, -5.626284122467041, -5.626275062561035, -8.447131156921387, -8.100317001342773, -7.083049774169922, -3.9307515621185303, -3.1644651889801025, 0.45751139521598816, -1.3844043016433716, -7.51630973815918, -7.25948429107666, 0.581742525100708, 0.3597146272659302, 0.2991933822631836, -0.11069702357053757, 2.4312360286712646, -1.0741057395935059, 1.9722838401794434, -2.8243346214294434, -0.7647073268890381, -8.29383373260498, -7.784456253051758, 0.946530818939209, -7.800800800323486, -7.447568416595459, 0.2553693950176239, 0.2553693950176239, -8.651874542236328, -8.343165397644043, -8.796005249023438, -8.382673263549805, 0.2553693950176239, 0.2553693950176239, -12.835465431213379, -12.83577823638916, -12.835587501525879, 1.31094229221344, 1.310868263244629, 0.2553693950176239, 0.2553693950176239, 0.2553693950176239, -7.405305862426758, -7.837632656097412, -7.801178932189941, -7.432120323181152, -7.43872594833374, -7.650089740753174, 0.2553693950176239, -5.4324140548706055, -3.6619274616241455, -6.149278163909912, -6.338261604309082, -6.189661502838135, -5.663416385650635, -5.858264923095703, -5.260561943054199, -6.401036262512207, -4.984967231750488, -5.895308017730713, -5.876813888549805, -5.251833438873291, -5.244039058685303, -5.303531169891357, -5.367878437042236, -5.730087757110596, -5.400478839874268, -6.267697811126709, -6.230898380279541, -4.989860534667969, -5.807686805725098, -5.766849517822266, -5.7395710945129395, -3.275315999984741, -4.270979881286621, 1.0457807779312134, -7.781355857849121, -4.4535908699035645, -1.3830403089523315, -2.9741101264953613, -4.339568614959717, -7.796958923339844, -4.999682903289795, 2.3943912982940674, 1.995487093925476, -8.76302433013916, -2.1863129138946533, -4.5050530433654785, 0.18351373076438904, -8.850167274475098, 1.8275377750396729, -5.258307933807373, 2.6266887187957764, -8.017740249633789, -6.539633274078369, -1.9060039520263672, -5.180484771728516, -2.44209623336792, 0.2553693950176239, 0.2553693950176239, 0.2553693950176239, -0.12699733674526215, -2.3909084796905518, -1.280555009841919, -2.4512457847595215, 2.8348257541656494, -0.7153311967849731, 10.274127006530762, -0.3236473500728607, -0.6146343350410461, 1.1320477724075317, 1.1320477724075317, -0.10591278225183487, -0.1059127226471901, -1.059929370880127, -1.501454472541809, -0.6707577705383301, 0.9135414958000183, -17.515975952148438, -0.24224798381328583, -0.24224798381328583, -0.24224798381328583, 1.1838563680648804, -0.24224798381328583, 2.5118408203125, -1.516944169998169, 0.2553693950176239, -0.30330291390419006, -3.6808745861053467, 5.299724578857422, 0.2553693950176239, 0.2553693950176239, -5.564991474151611, -5.56111478805542, -5.563169479370117, -6.324839115142822, -8.951943397521973, -8.951956748962402, -5.825226306915283, -5.825226306915283, -5.825226306915283, -5.825226306915283, -5.825226783752441, -5.825226306915283, -12.83572769165039, -12.834024429321289, -0.325102299451828, -2.1175220012664795, 0.2553693950176239, -0.2422492653131485, -0.24224798381328583, 0.2553693950176239, 0.2553693950176239, 0.2553693950176239, -0.2992984652519226, -0.29930242896080017, -0.2993023693561554, -0.29931166768074036, -0.29931166768074036, 0.21952424943447113, -6.932896137237549, -4.7368011474609375, -1.333674430847168, -1.333674430847168, -1.333674430847168, 2.863142967224121, 3.1310086250305176, 1.5602377653121948, -6.2911481857299805, 4.788180351257324, -4.051011085510254, -5.626619815826416, 0.2553693950176239, -0.24224798381328583, 0.2553693950176239, -10.274314880371094, -0.24224820733070374, -8.787534713745117, 2.5175747871398926, 2.5175747871398926, 0.2553693950176239, 0.2553693950176239, 0.2553693950176239, 0.2553693950176239, 0.2553693950176239, -2.9175832271575928, -2.9175782203674316, -8.606413841247559, -8.604942321777344, -6.85024356842041, -4.039239406585693, -1.6579383611679077, -1.6579383611679077, 0.027352722361683846, 0.02735273540019989, -10.263080596923828, -10.255772590637207, -10.2685546875, 0.2553693950176239, 0.2416943460702896, 0.2553693950176239, 3.4034883975982666, 0.2553693950176239, -0.4796152114868164, 3.0447912216186523, -2.782133102416992, -2.3841617107391357, -6.0816545486450195, -6.081646919250488, -7.248171806335449, -2.9824013710021973, -2.9824013710021973, -2.5070698261260986, 0.2553693950176239, -2.4413368701934814, -5.625302791595459, 0.2553693950176239, -2.5070698261260986, -2.6877505779266357, -11.050196647644043, -6.526126384735107, 0.2553693950176239, -6.898039817810059, -4.569519519805908, 0.2553693950176239, 0.2553693950176239, 0.2553693950176239, 0.2553693950176239, -8.98000717163086, -8.979177474975586, -8.979290962219238, 4.732652187347412, 0.4792422950267792, -4.725722789764404, 0.6051533818244934, -2.8886358737945557, 1.1561850309371948, 0.2553693950176239, 0.2553693950176239, -6.653124809265137, -4.003554821014404, -4.963649749755859, -4.963649749755859, 0.2553693950176239, 0.2553693950176239, 0.2553693950176239, 0.2553693950176239, 0.2553693950176239, 0.2553693950176239, 0.2553693950176239, 3.138705015182495, -0.3498252034187317, -4.963649749755859, -10.406447410583496, -6.40543270111084, -1.333674430847168, 0.2553693950176239, 0.2553693950176239, -4.497086524963379, -4.497086524963379, -4.7368011474609375, -2.7530012130737305, -0.974449098110199, -3.4395031929016113, 0.2553693950176239, -1.333674430847168, 0.2553693950176239, -11.890304565429688, 0.2553693950176239, 0.2553693950176239, -2.124721050262451, -2.6183691024780273, 0.2553693950176239, 0.2553693950176239, 0.2553693950176239, 0.2553693950176239, 0.2553693950176239, 0.2553693950176239, -1.6109944581985474, -1.333674430847168, -4.474801540374756, -1.333674430847168, -4.579122066497803, -4.579122066497803, 0.2553693950176239, -4.579122066497803, 0.2553693950176239, 0.2553693950176239, -1.333674430847168, -1.333674430847168, -15.553226470947266, 1.1648733615875244, -15.664616584777832, -14.322649955749512]}, {\"hovertemplate\": \"Dominant_Topic=Topic 190<br>0=%{x}<br>1=%{y}<br>2=%{z}<extra></extra>\", \"legendgroup\": \"Topic 190\", \"marker\": {\"color\": \"#ab63fa\", \"opacity\": 0.7, \"symbol\": \"circle\"}, \"mode\": \"markers\", \"name\": \"Topic 190\", \"scene\": \"scene\", \"showlegend\": true, \"type\": \"scatter3d\", \"x\": [-4.688572883605957, -4.688572883605957, -4.688625812530518, -4.688625812530518], \"y\": [-4.340963363647461, -4.340963363647461, -4.340960502624512, -4.340960502624512], \"z\": [-3.950982093811035, -3.950982093811035, -3.9510483741760254, -3.9510483741760254]}, {\"hovertemplate\": \"Dominant_Topic=Topic 194<br>0=%{x}<br>1=%{y}<br>2=%{z}<extra></extra>\", \"legendgroup\": \"Topic 194\", \"marker\": {\"color\": \"#FFA15A\", \"opacity\": 0.7, \"symbol\": \"circle\"}, \"mode\": \"markers\", \"name\": \"Topic 194\", \"scene\": \"scene\", \"showlegend\": true, \"type\": \"scatter3d\", \"x\": [-1.9160380363464355, -1.916037917137146, -2.100944995880127, -1.916037917137146, -1.916037917137146, -0.7059820294380188, -1.0499385595321655, -1.049938678741455, -1.9160387516021729, -1.9160380363464355, 2.1449573040008545, -1.9160383939743042, 1.834967851638794, 1.4879802465438843, -2.0231380462646484, 1.4879801273345947, 2.1597793102264404], \"y\": [15.74079418182373, 15.74079418182373, 16.948335647583008, 15.74079418182373, 15.74079418182373, 18.079877853393555, 16.371145248413086, 16.371145248413086, 15.74075698852539, 15.74079418182373, 15.94580078125, 15.74079418182373, 17.124502182006836, 15.404149055480957, 17.198522567749023, 15.404149055480957, 15.947297096252441], \"z\": [3.3585944175720215, 3.3585944175720215, 2.7137563228607178, 3.3585941791534424, 3.3585944175720215, 1.509578824043274, 3.5201475620269775, 3.5201478004455566, 3.358595371246338, 3.3585944175720215, 2.568570613861084, 3.3585939407348633, 2.5474894046783447, 2.679377555847168, 2.4470386505126953, 2.679377794265747, 2.5742809772491455]}, {\"hovertemplate\": \"Dominant_Topic=Topic 271<br>0=%{x}<br>1=%{y}<br>2=%{z}<extra></extra>\", \"legendgroup\": \"Topic 271\", \"marker\": {\"color\": \"#19d3f3\", \"opacity\": 0.7, \"symbol\": \"circle\"}, \"mode\": \"markers\", \"name\": \"Topic 271\", \"scene\": \"scene\", \"showlegend\": true, \"type\": \"scatter3d\", \"x\": [-12.500076293945312, -11.307198524475098, -12.257503509521484, -13.320405960083008, -10.339885711669922, -13.161914825439453, -11.511266708374023, -12.483404159545898, -14.726640701293945, -13.105992317199707, -16.532075881958008, -12.606490135192871, -5.684253215789795, -12.257448196411133, -11.847789764404297, -12.605469703674316, -15.84532356262207, -12.029671669006348, -12.25032901763916, -16.532073974609375, -14.067598342895508, -12.539488792419434, -13.312162399291992, -12.986801147460938, -10.339983940124512, -11.549768447875977, -11.824077606201172, -12.927948951721191, -12.927948951721191, -13.166444778442383, -16.15254020690918, -11.73990535736084, -11.795455932617188, -15.181888580322266, -12.133353233337402, -11.81478500366211, -11.080283164978027, -11.080255508422852, -13.195488929748535, -5.495054244995117, -12.98493480682373, -16.06317901611328, -14.067697525024414, -12.22728157043457, -12.114386558532715, -12.606490135192871, -16.30524253845215, -15.845277786254883, -12.984786987304688, -12.984758377075195, -5.593584060668945, -16.14040184020996, -15.181909561157227, -16.14046287536621, -16.140443801879883, -16.140430450439453, -16.140422821044922, -11.82071304321289, -11.82071304321289, -12.686784744262695, -15.181888580322266, -16.140445709228516, -5.8207502365112305, -12.802172660827637, -5.820751667022705, -15.845318794250488, -6.520027160644531, -12.558344841003418, -12.295910835266113], \"y\": [6.311297416687012, 3.355471611022949, 7.585838794708252, 8.691008567810059, 3.1155896186828613, 6.864621162414551, 6.969470024108887, 7.763978958129883, 7.926117897033691, 7.392470359802246, 6.939868927001953, 6.423766613006592, 5.7014899253845215, 6.108885765075684, 6.241669178009033, 7.575916290283203, 7.523914813995361, 7.106551170349121, 5.961940765380859, 6.939868927001953, 4.051028728485107, 6.687926769256592, 6.67712926864624, 6.346078872680664, 3.115675687789917, 6.565260887145996, 7.308063507080078, 7.2714152336120605, 7.2714152336120605, 6.72578239440918, 2.1773529052734375, 7.4548563957214355, 6.714761257171631, 7.447352886199951, 7.610413074493408, 6.186668872833252, 8.5982666015625, 8.597620010375977, 6.2164998054504395, 5.556389331817627, 4.519857883453369, 2.4626376628875732, 4.051197052001953, 3.555060863494873, 7.4741291999816895, 6.423766613006592, 1.899876594543457, 7.523944854736328, 4.519577980041504, 4.51953125, 5.700526237487793, 2.9658870697021484, 7.4473724365234375, 2.965843677520752, 2.9658567905426025, 2.9658687114715576, 2.9658727645874023, 6.760198593139648, 6.760198593139648, 7.193477153778076, 7.447352886199951, 2.965855836868286, 0.6482000946998596, 5.962948322296143, 0.6481971740722656, 7.523909091949463, 5.719632148742676, 7.1482696533203125, 3.640359878540039], \"z\": [2.813746213912964, 2.5017778873443604, 2.467278480529785, 2.399460792541504, 1.5069993734359741, 3.8722329139709473, 3.2494869232177734, 3.192742347717285, 2.0414793491363525, 3.6303515434265137, 2.980414390563965, 4.033540725708008, 1.6616911888122559, 2.78611421585083, 3.7419240474700928, 3.817244291305542, 3.8284430503845215, 3.9915690422058105, 3.5336172580718994, 2.980414867401123, 5.228689670562744, 2.1135599613189697, 3.4378535747528076, 2.644040584564209, 1.5070093870162964, 3.143598794937134, 3.308063507080078, 2.9478952884674072, 2.9478952884674072, 2.693437099456787, -0.4466955065727234, 2.579831123352051, 3.9368975162506104, 2.6666066646575928, 1.2100919485092163, 2.972475290298462, 4.298762798309326, 4.298820495605469, 3.357666015625, 1.690209984779358, 1.5750387907028198, -0.14718970656394958, 5.228671073913574, 3.1160762310028076, 3.264892578125, 4.033540725708008, -0.8137019276618958, 3.828441858291626, 1.5754369497299194, 1.5755001306533813, 1.6398407220840454, 2.2592508792877197, 2.6666154861450195, 2.259763717651367, 2.259622097015381, 2.2594780921936035, 2.2594330310821533, 2.316293478012085, 2.316293478012085, 2.2251617908477783, 2.6666066646575928, 2.2596304416656494, -1.1199105978012085, 3.3973538875579834, -1.1198912858963013, 3.828442335128784, 1.8223735094070435, 4.142260551452637, 3.268126964569092]}, {\"hovertemplate\": \"Dominant_Topic=Topic 28<br>0=%{x}<br>1=%{y}<br>2=%{z}<extra></extra>\", \"legendgroup\": \"Topic 28\", \"marker\": {\"color\": \"#FF6692\", \"opacity\": 0.7, \"symbol\": \"circle\"}, \"mode\": \"markers\", \"name\": \"Topic 28\", \"scene\": \"scene\", \"showlegend\": true, \"type\": \"scatter3d\", \"x\": [5.851358890533447, 7.186673641204834, 7.185816764831543, 7.187499046325684, 7.185939788818359, 5.85186243057251, 5.829835414886475, 4.870370388031006], \"y\": [9.868508338928223, 9.73416805267334, 9.733702659606934, 9.73452091217041, 9.733864784240723, 9.868669509887695, 9.858939170837402, 8.859541893005371], \"z\": [-7.878668308258057, -8.003547668457031, -8.00387191772461, -8.003305435180664, -8.003756523132324, -7.878384590148926, -7.891294956207275, -5.5053229331970215]}, {\"hovertemplate\": \"Dominant_Topic=Topic 284<br>0=%{x}<br>1=%{y}<br>2=%{z}<extra></extra>\", \"legendgroup\": \"Topic 284\", \"marker\": {\"color\": \"#B6E880\", \"opacity\": 0.7, \"symbol\": \"circle\"}, \"mode\": \"markers\", \"name\": \"Topic 284\", \"scene\": \"scene\", \"showlegend\": true, \"type\": \"scatter3d\", \"x\": [-2.3855526447296143, 2.8617115020751953, 7.982963562011719, 1.0010370016098022, 9.608430862426758, -0.2257775366306305, 8.639751434326172, -0.40160316228866577, -1.47340989112854, 8.287781715393066, 0.3250581920146942, -3.2950422763824463, -0.22689388692378998, 0.920131266117096, 2.1649422645568848, 7.23414945602417, 2.668628692626953, 2.995572328567505, 2.433929443359375, 8.276124954223633, 1.1507103443145752, 1.9239208698272705, 5.693145275115967, 8.873427391052246, 3.3398022651672363, 1.1137452125549316, -5.043767929077148, 3.548147201538086, 4.135128021240234, -1.275161623954773, 2.5394880771636963, -4.941850662231445, -6.767483234405518, -6.767539024353027, 1.9793694019317627, 2.1752524375915527, 3.382640838623047, 9.217805862426758, 1.0049747228622437, 1.1039279699325562, 1.0049747228622437, 1.0049747228622437, 1.0049747228622437, 1.0049747228622437, -16.55354881286621, 0.6774793863296509, 4.9094953536987305, 4.090063571929932, 8.67856502532959, 2.7259795665740967, 1.7493870258331299, 4.390520095825195, 1.3947802782058716, -4.708815097808838, 4.390520095825195, 9.41601276397705, 5.326371192932129, 7.621880531311035, 7.370447158813477, -0.9745156764984131, 7.370447158813477, 7.971445083618164, -0.4305700957775116, 7.909775733947754, 8.9823579788208, -0.1420702338218689, 7.048590660095215, 2.1730129718780518, -4.708815574645996, 9.217787742614746, 1.0049747228622437, 1.0049747228622437, -4.651257514953613, 8.856424331665039, -4.651025295257568, -0.4812285304069519, 2.127096176147461, 2.9748623371124268, 9.4410400390625, -0.23582230508327484, 1.041629433631897, 1.3922619819641113, 8.230688095092773, 8.23070240020752, 3.409358501434326, 8.230708122253418, 1.0049747228622437, 3.9552505016326904, 1.6434725522994995, 2.8253090381622314, -0.31631261110305786, 7.56613826751709, -0.3305446207523346, 7.959934234619141, -2.1245670318603516, -3.240673780441284, -4.449521064758301, -2.971651554107666, 8.85660171508789, -16.55332374572754, -16.55355453491211, 1.0049747228622437, 6.878580570220947, 4.407142162322998, 2.787992238998413, 4.64634370803833, 4.038079261779785, 4.038140296936035, -6.134744644165039, -0.33198851346969604, -0.43066805601119995, -0.4312208294868469, -0.4305697977542877, -0.3319880962371826, -0.43066805601119995, 0.5174506306648254, 1.6012911796569824, -2.6633317470550537, 9.771946907043457, 1.450258493423462, 3.7309768199920654, 9.367094039916992, 7.991291046142578, -4.5948052406311035, -0.5053126811981201, 9.128073692321777, 1.1362364292144775, 2.3617403507232666, -0.5053126811981201, 4.038056373596191, -0.7122965455055237, -0.07216311246156693, 3.467233896255493, 2.3366405963897705, 9.190656661987305, 7.302746295928955, -5.171969413757324, 0.9002228379249573, 3.636139154434204, 4.038181304931641, -0.22593656182289124, 8.853267669677734, 0.6204718947410583, -0.7945410013198853, -0.5053126811981201, 3.382643938064575, 3.382643222808838, 3.3826513290405273, -1.5315059423446655, -1.5315040349960327, 1.6396349668502808, 0.39635249972343445, -7.764458656311035, -7.764458656311035, 2.415666341781616, 8.2844820022583, -7.626016139984131, -7.625996112823486, -7.764459133148193, -1.0929681062698364, 11.288225173950195, 11.288220405578613, -3.2369987964630127, 9.744956016540527, -0.22645151615142822, 7.160839080810547, 3.950284242630005, 2.966481924057007, 0.951648473739624, -7.62600040435791, 0.9517568349838257, 3.7818596363067627, 4.4173359870910645, 8.168562889099121, 1.6624699831008911, 1.780468463897705, 11.450277328491211, 9.0772705078125, 10.4552001953125, 0.9233144521713257, 0.9692569375038147, 8.460345268249512, 4.285238742828369, 10.425273895263672, 9.666287422180176, 0.7065830826759338, 7.8689799308776855, 8.152283668518066, 7.938825607299805, -0.31631559133529663, -4.44884729385376, 7.858849048614502, 1.8574225902557373, 3.8159258365631104, 4.863418102264404, 7.1368913650512695, 3.4355063438415527, 4.500861167907715, 4.48157262802124, 8.76785945892334, 1.7739251852035522, 0.8996663689613342, 2.2109992504119873, 3.115692138671875, 2.3491601943969727, 4.487839221954346, 4.441944122314453, 3.179800271987915, 2.708648204803467, 2.501326322555542, 7.619763374328613, -0.1769966036081314, 7.610353946685791, -6.062495708465576, -0.06963153183460236, 4.470036029815674, -4.649276256561279, -2.1874935626983643, -2.1874935626983643, 9.055540084838867, 0.9149078726768494, 0.7401231527328491, -6.767749786376953, 3.668785810470581, -0.33198830485343933, -0.3319884240627289, -5.171969413757324, -5.543262004852295, -0.4305700957775116, -0.4305700957775116, -0.4312208294868469, -4.448843955993652, -5.138582706451416, -4.5948052406311035, 3.570708751678467, 10.444754600524902, 10.44463062286377, 10.444557189941406, 10.443863868713379, 10.443912506103516, 10.44378662109375, -5.171969413757324, 10.4443359375, 0.09509507566690445, 8.171248435974121, -2.793757677078247, -6.0624823570251465, -7.280029773712158, -7.279810905456543, -7.28003454208374, -7.2800068855285645, -7.279855728149414, -7.27995491027832, -9.900946617126465, -9.622085571289062, -10.050540924072266, -9.853602409362793, -9.87752914428711, 9.608430862426758, 7.9493513107299805, 2.5394937992095947, -6.767367362976074, -6.767401695251465, 5.32637882232666, 1.6386194229125977, 8.812939643859863, -0.7945410013198853, -0.5053126811981201, -0.5053126811981201, 8.073238372802734, -6.767775535583496, -2.7987241744995117, -2.7987241744995117, 1.5129733085632324, 11.450251579284668, -0.011578752659261227, 0.016781726852059364, 0.6119867563247681, 3.6677613258361816, -3.5972559452056885, -9.511933326721191, 7.075302600860596, 1.5902585983276367, 2.219829559326172, 9.750632286071777, 10.328583717346191, -0.945506751537323, 8.396424293518066, 8.4615478515625, 8.058023452758789, 7.729020595550537, 7.365016937255859, 8.846091270446777, 2.573188066482544, 7.920447826385498, 1.1344228982925415, -16.771902084350586, -17.01144027709961, -9.615050315856934, -9.485250473022461, -9.830137252807617, -9.966592788696289, 4.3877482414245605, -9.559313774108887, -2.914390802383423, 4.390520095825195, 9.608430862426758, 9.608366012573242, -16.553539276123047, 0.41227999329566956, -17.01144027709961, -16.87487030029297, 4.3877482414245605, -5.165015697479248, 0.5627040863037109, 1.0292073488235474, 2.871952533721924, 4.365703105926514, 9.882652282714844, 10.747604370117188, -4.4517412185668945, -4.5948052406311035, -5.0680975914001465, -5.424375057220459, -5.713268280029297, -5.713268280029297, -17.26755714416504, -5.465392589569092, -16.553295135498047, -16.9322566986084, -16.9322566986084, -2.019763946533203, 0.1135730892419815, -7.764431476593018, -15.611616134643555, -7.764437675476074, -7.764437675476074, -5.0680975914001465, -5.0680975914001465, -4.5753703117370605, -5.713268280029297, -5.1362199783325195, -5.1362199783325195, -5.1362199783325195, -5.1362199783325195, -5.1362199783325195, 6.429780960083008, 0.8480863571166992, 1.3528412580490112, 8.055489540100098, 8.039185523986816, 8.961590766906738, -16.610519409179688, -16.610519409179688, -1.9129505157470703, -3.543240547180176, -2.8006844520568848, -2.262525796890259, -3.291078567504883, -2.3934078216552734, -2.368694543838501, -2.3934078216552734, -3.1224002838134766, -2.8315021991729736, -8.577381134033203, -8.577388763427734, 7.370447158813477, -3.2803094387054443, 7.450550079345703, 8.261975288391113, 7.365425109863281, -4.773649215698242, -4.785370826721191, -5.713268280029297, 7.781090259552002, 2.666813850402832, 0.7820357084274292, -1.1682156324386597, 7.965728282928467, -7.062282562255859, -1.1682156324386597, 4.213365077972412, 10.404945373535156, 11.39688777923584, 4.475436210632324, -2.7276976108551025, 9.766791343688965, 3.7790510654449463, 9.19921875, -16.726268768310547, -5.277955532073975, 0.15530061721801758, 6.392637729644775, 2.86063814163208, 9.608429908752441, 8.079276084899902, 7.936246395111084, 2.723012924194336, -5.118206024169922, -4.982126235961914, -5.021944999694824, -4.782772541046143, 9.846713066101074, -5.251401424407959, 0.1552867442369461, -3.4594223499298096, 1.9355446100234985, -5.522705078125, 2.6530256271362305, 10.446449279785156, 7.308863162994385, -7.116066932678223, -5.115760803222656, 0.15531063079833984, -4.718552589416504, -5.028716564178467, -2.7291135787963867, 9.700821876525879, 4.673266410827637, 8.680431365966797, 3.250844717025757, 8.523879051208496, -4.810649871826172, 3.3260555267333984, -5.047519683837891, -15.766008377075195, 11.396900177001953, 11.396897315979004, 7.965761661529541, -6.904429912567139, -4.676358699798584, 3.6671721935272217, 11.39688491821289, 9.873368263244629, 11.450267791748047, 7.447366714477539, 6.896337509155273, 9.608317375183105, -16.61454963684082, 7.9463043212890625, 3.0498931407928467, -9.084266662597656, 3.4049203395843506, 9.635348320007324, 10.316055297851562, 8.600184440612793], \"y\": [9.553908348083496, -0.44996020197868347, 7.540526390075684, 0.3166300654411316, -0.5131698250770569, 4.539060592651367, 4.899616718292236, 11.189762115478516, 8.200596809387207, 6.160423278808594, -3.2464535236358643, 9.160635948181152, 4.5367960929870605, 6.714450359344482, -0.06052107736468315, 8.200926780700684, 15.218001365661621, 1.3513867855072021, -1.870786428451538, 7.163475513458252, -2.640054702758789, 0.6481818556785583, 0.06497029960155487, 7.842577934265137, 0.16670633852481842, 0.24606136977672577, 1.457444667816162, -1.071410059928894, -0.15301676094532013, 8.615950584411621, 14.299132347106934, 15.290518760681152, -1.9246867895126343, -1.9246997833251953, -0.4156841039657593, 0.13834957778453827, 7.965210914611816, 5.411547660827637, 6.066066741943359, 5.991954326629639, 6.066066741943359, 6.066066741943359, 6.066066741943359, 6.066066741943359, 1.3022406101226807, 1.0593883991241455, -0.7584048509597778, 0.9288210272789001, 6.2136454582214355, 1.0104936361312866, -2.2520668506622314, 8.281923294067383, 6.276458263397217, 4.220531463623047, 8.281923294067383, 6.855185508728027, 4.2968034744262695, 2.722503423690796, 2.1415817737579346, -3.487558603286743, 2.1415817737579346, 2.1442360877990723, 7.906291961669922, 6.630133152008057, 5.132877826690674, -0.12677520513534546, 6.234350681304932, -1.4346563816070557, 4.220531940460205, 5.41154670715332, 6.066066741943359, 6.066066741943359, -1.933207631111145, 6.958718299865723, -1.9330050945281982, 8.542046546936035, -0.7882474064826965, -0.6942470669746399, 6.312103748321533, 10.808547973632812, 8.394266128540039, -1.532056450843811, -0.5358668565750122, -0.5359049439430237, 7.400087356567383, -0.5358902812004089, 6.066066741943359, 1.115024447441101, -1.647103190422058, -2.6085965633392334, -3.031719207763672, 6.551686763763428, -0.6088578701019287, 4.151662826538086, 9.242815971374512, 10.395732879638672, 8.55953311920166, 8.92645263671875, 5.469422340393066, 1.3021200895309448, 1.302200198173523, 6.066066741943359, 7.20390510559082, 1.280845284461975, 1.925722599029541, 0.5355504751205444, 8.401360511779785, 8.401360511779785, 5.307225704193115, -3.3197021484375, 7.906188011169434, 7.903848648071289, 7.906291961669922, -3.319706439971924, 7.906188011169434, 1.5730940103530884, -1.264548420906067, 8.924367904663086, 6.218265056610107, -0.6135118007659912, 1.7634224891662598, 7.0774078369140625, 5.4680562019348145, 13.811182022094727, 8.404679298400879, 6.669276237487793, -1.041667103767395, -1.2333635091781616, 8.404679298400879, 8.401359558105469, 8.557561874389648, 0.42553526163101196, 0.17274312674999237, 0.49258673191070557, 6.429324150085449, 7.421166896820068, 15.047043800354004, 1.6476823091506958, 1.2997714281082153, 8.401361465454102, 4.5385050773620605, 8.574151039123535, -1.7432312965393066, 8.442105293273926, 8.404679298400879, 7.965212345123291, 7.965216636657715, 7.965215682983398, 8.825003623962402, 8.8250150680542, 1.3890105485916138, -0.5673712491989136, 5.194684028625488, 5.194684028625488, -2.8276257514953613, 6.959040641784668, -6.911247253417969, -6.911245346069336, 5.194684028625488, -2.8909130096435547, 0.7362939715385437, 0.7362613677978516, 9.77740478515625, 5.998426914215088, 4.537313461303711, 1.022703766822815, -2.1366541385650635, -2.1264421939849854, 6.18459939956665, -6.911246299743652, 6.18475866317749, -1.2439398765563965, -1.941519021987915, 7.1318583488464355, 1.0374196767807007, -0.9960336685180664, 6.1750078201293945, 5.632730960845947, 6.047281742095947, -0.8909192681312561, 0.13733401894569397, 7.692083358764648, -1.3986382484436035, 7.816346168518066, 8.207815170288086, -3.2636823654174805, 8.653229713439941, 2.970606565475464, 1.82205069065094, -3.031728744506836, 3.27126145362854, 5.6922526359558105, 0.7919144630432129, -0.41512688994407654, 0.138936847448349, 7.84357213973999, 1.9491947889328003, 7.619022369384766, 7.655332565307617, 5.09149694442749, 1.0854625701904297, 6.713161945343018, 2.047732353210449, 0.25071999430656433, -0.21924224495887756, 7.6435747146606445, 7.69105339050293, 0.25439122319221497, 0.9634583592414856, 1.7574971914291382, 2.3190622329711914, 9.585325241088867, 2.316701889038086, 5.273086071014404, -3.172621726989746, 7.682372093200684, 3.9683971405029297, 10.219551086425781, 10.219551086425781, 7.2138352394104, -0.6288848519325256, -2.435965061187744, -1.9247525930404663, 1.2333498001098633, -3.3196828365325928, -3.3196969032287598, 15.047043800354004, 15.233485221862793, 7.906291961669922, 7.906291961669922, 7.903848648071289, 3.271251678466797, 14.223191261291504, 13.811182022094727, 0.5524784922599792, 7.240716934204102, 7.240462303161621, 7.240550518035889, 7.2393012046813965, 7.239569187164307, 7.239297866821289, 15.047043800354004, 7.240057945251465, -1.801326870918274, 1.930818796157837, 10.587339401245117, 5.273073673248291, -0.753897488117218, -0.7535898089408875, -0.7539078593254089, -0.7538414597511292, -0.7533068060874939, -0.7535392642021179, 3.3252010345458984, 2.784060001373291, 3.1782548427581787, 2.8983154296875, 3.298633098602295, -0.5131697654724121, 4.120123863220215, 14.299121856689453, -1.9246644973754883, -1.9246537685394287, 4.296807289123535, -2.501471757888794, 8.679574012756348, 8.442105293273926, 8.404679298400879, 8.404679298400879, 8.639248847961426, -1.9247581958770752, 13.905891418457031, 13.905891418457031, 2.162616491317749, 6.175008773803711, 0.9182119369506836, -1.3536666631698608, 4.0756916999816895, 1.2567297220230103, 9.671937942504883, 2.9150633811950684, 1.7979925870895386, 1.8950397968292236, -0.024629566818475723, 5.3514509201049805, 6.930391311645508, 0.7305057644844055, 2.402235507965088, 2.561218023300171, 2.7185516357421875, 3.0231873989105225, 7.2417731285095215, 8.935015678405762, -1.476060390472412, 8.14193344116211, -0.024788476526737213, -1.779268741607666, -1.821759581565857, 3.3398020267486572, 3.066251039505005, 3.0767064094543457, 2.9710354804992676, 8.281147003173828, 2.7934718132019043, 10.378860473632812, 8.281923294067383, -0.5131697654724121, -0.5131781101226807, 1.3022279739379883, 7.117076873779297, -1.821759581565857, -1.9384006261825562, 8.281147003173828, -2.384105682373047, 0.7188822627067566, 6.278262615203857, 14.77484130859375, -0.27841103076934814, 7.801660537719727, 6.995434761047363, 6.297168254852295, 13.811182022094727, 13.091683387756348, 13.710116386413574, 13.754548072814941, 13.754548072814941, 1.4559298753738403, 14.174102783203125, 1.302198052406311, -1.5581436157226562, -1.5581436157226562, 9.494741439819336, -0.6086695194244385, 5.194693565368652, -3.806626081466675, 5.194698333740234, 5.194697856903076, 13.091683387756348, 13.091683387756348, 4.763006210327148, 13.754548072814941, 6.002983093261719, 6.002983093261719, 6.002983570098877, 6.002983093261719, 6.002983093261719, 3.6116645336151123, 5.983094692230225, -0.039510730654001236, 2.0458998680114746, 2.799607038497925, 7.81949520111084, -1.6799399852752686, -1.6799399852752686, 9.80847454071045, 9.870052337646484, 9.210243225097656, 9.608646392822266, 9.45533275604248, 10.31057071685791, 9.00909423828125, 10.31057071685791, 10.199463844299316, 9.816530227661133, 2.368899345397949, 2.3688344955444336, 2.1415817737579346, 9.325626373291016, 2.6143391132354736, 2.334561824798584, 2.808117151260376, 14.1803617477417, 13.828890800476074, 13.754548072814941, 2.4899611473083496, -0.7349778413772583, -1.6944218873977661, -4.379361629486084, 4.169066905975342, 0.2638309895992279, -4.379361629486084, 9.668901443481445, 6.21144962310791, 0.9756395816802979, 8.286849021911621, 9.243880271911621, 7.333370685577393, -0.46885964274406433, 7.850527763366699, -1.687774419784546, -2.208481788635254, -3.188533067703247, 3.5187811851501465, 0.8979014158248901, -0.5131699442863464, 6.879363536834717, 8.033946990966797, -1.9216737747192383, 13.54869270324707, -2.4340686798095703, -1.8879737854003906, -2.1484856605529785, 8.629371643066406, -2.2844302654266357, -3.1885886192321777, 10.159217834472656, -2.925429582595825, 13.378329277038574, 2.1642274856567383, 7.892563343048096, 5.789186477661133, 4.709205150604248, 13.494562149047852, -3.188599109649658, 13.518782615661621, -1.889203429222107, 9.94755744934082, 7.205522537231445, -1.1765351295471191, 7.730243682861328, -1.4605053663253784, 6.151025295257568, -2.308931827545166, -2.8038458824157715, -1.8899644613265991, -3.5436525344848633, 0.9757910966873169, 0.9757885336875916, 4.169064998626709, 0.9160635471343994, -1.9426884651184082, -2.401578187942505, 0.9757676124572754, 5.433160305023193, 6.1750054359436035, 6.240133762359619, 6.73850679397583, -0.5131323933601379, -1.6740641593933105, 5.20901346206665, -0.8372005820274353, 3.4610631465911865, -1.352771282196045, 8.469615936279297, 6.9551544189453125, 6.242225646972656], \"z\": [12.134310722351074, 14.27949333190918, 7.012791156768799, 14.428221702575684, 5.53535270690918, 4.043215274810791, -0.269941121339798, 2.374986410140991, 3.9774668216705322, 8.657489776611328, 1.175072431564331, 11.208243370056152, 4.04420804977417, 1.376362919807434, 16.834697723388672, 6.731818199157715, 2.605907917022705, 12.37136459350586, 14.099000930786133, 5.191378593444824, 14.9141845703125, 13.04498291015625, 16.59636878967285, 8.841612815856934, 16.645227432250977, 13.43996810913086, -0.2271316647529602, 16.495895385742188, 15.777217864990234, 6.049682140350342, 1.9722943305969238, 12.984333038330078, 10.00975227355957, 10.00983715057373, 14.75356674194336, 13.984338760375977, -1.0313746929168701, -0.17860642075538635, 15.8023681640625, 15.32485580444336, 15.8023681640625, 15.8023681640625, 15.8023681640625, 15.8023681640625, -1.4722782373428345, 15.66153335571289, 14.664190292358398, 12.80993366241455, 7.5453410148620605, 13.630897521972656, 16.01498794555664, -4.34918737411499, 15.581476211547852, 10.115833282470703, -4.34918737411499, 5.237526893615723, 8.586170196533203, -2.4476027488708496, -2.107602834701538, 2.1408729553222656, -2.107602834701538, -2.465023994445801, 3.864957571029663, 6.91901969909668, 6.6643829345703125, 13.353084564208984, 6.430243968963623, 13.033604621887207, 10.115814208984375, -0.1786065697669983, 15.8023681640625, 15.8023681640625, 11.122936248779297, 8.025123596191406, 11.122298240661621, 14.324119567871094, 13.878840446472168, 15.583931922912598, 7.197863578796387, 2.8706183433532715, 4.2825493812561035, 13.787069320678711, 6.076642990112305, 6.076904296875, -3.5657215118408203, 6.07687520980835, 15.8023681640625, 15.713687896728516, 14.771127700805664, 13.077454566955566, 4.0198493003845215, 5.593708515167236, 14.469380378723145, 10.719642639160156, 11.163047790527344, 11.272162437438965, 11.834517478942871, 11.612963676452637, 5.805554389953613, -1.4725924730300903, -1.4722930192947388, 15.8023681640625, 6.776417255401611, 13.93499755859375, 15.588469505310059, 14.899301528930664, 2.5201146602630615, 2.520113945007324, 10.414856910705566, 1.1198227405548096, 3.8649020195007324, 3.8633666038513184, 3.864957809448242, 1.1198227405548096, 3.8649020195007324, 14.598042488098145, 11.856224060058594, 11.154178619384766, 8.29621696472168, 12.958087921142578, 14.748608589172363, 7.485383987426758, 7.891204833984375, 12.86970329284668, 13.979509353637695, 8.974634170532227, 16.582128524780273, 16.698928833007812, 13.979509353637695, 2.5200729370117188, 14.290104866027832, 14.880825996398926, 11.94681453704834, 11.772956848144531, 6.3909010887146, 5.952780246734619, 13.520787239074707, 13.266386032104492, 3.7204651832580566, 2.5201053619384766, 4.043521404266357, 5.972542762756348, 15.725021362304688, 14.22894287109375, 13.979509353637695, -1.0313767194747925, -1.0313758850097656, -1.031373381614685, 6.812507152557373, 6.812506198883057, 12.251338958740234, 12.360981941223145, 8.212167739868164, 8.212167739868164, 15.049373626708984, 6.269586086273193, -2.635084390640259, -2.635127067565918, 8.21216869354248, 0.6281136870384216, 0.013186284340918064, 0.013268784619867802, 12.203442573547363, 5.644992828369141, 4.043972969055176, -0.7825129628181458, 13.07767391204834, 16.057403564453125, 4.0504255294799805, -2.6351189613342285, 4.050423622131348, 12.18869400024414, 14.312703132629395, 8.93782901763916, 14.098344802856445, 15.639046669006348, 9.938361167907715, 8.405570030212402, 7.48777437210083, 14.793904304504395, 16.465412139892578, 7.719038009643555, 15.581321716308594, 7.688116550445557, 8.273114204406738, 3.0929160118103027, 7.551560878753662, -2.0250513553619385, -1.8946216106414795, 4.019839763641357, 0.18462450802326202, 5.959397792816162, 15.053671836853027, 14.716930389404297, 13.703314781188965, 7.689076900482178, 13.432364463806152, -4.076534748077393, -4.073456287384033, 7.562516212463379, 16.27433967590332, 1.5071635246276855, 13.150337219238281, 15.097495079040527, 12.78761100769043, -4.075397968292236, -4.090834617614746, 13.182628631591797, 14.644704818725586, 17.80498504638672, -4.393850803375244, 14.039214134216309, -4.388300895690918, 9.880131721496582, 2.932399034500122, -4.0635085105896, 10.068747520446777, 11.80290412902832, 11.80290412902832, 6.243228435516357, 13.900230407714844, 13.736947059631348, 10.010181427001953, 3.712334632873535, 1.1198230981826782, 1.1198227405548096, 13.520787239074707, 13.040093421936035, 3.864957571029663, 3.864957571029663, 3.8633666038513184, 0.18462404608726501, 12.190703392028809, 12.86970329284668, 14.152993202209473, 0.4931603968143463, 0.4931865632534027, 0.49317827820777893, 0.49308907985687256, 0.493062287569046, 0.49308982491493225, 13.520787239074707, 0.493229478597641, 14.647904396057129, -2.1127021312713623, 11.49477481842041, 9.880147933959961, 11.785141944885254, 11.785277366638184, 11.785144805908203, 11.785124778747559, 11.7849760055542, 11.785050392150879, 7.609782695770264, 7.6078925132751465, 7.563879489898682, 7.742433547973633, 7.283238887786865, 5.53535270690918, 10.762219429016113, 1.972292184829712, 10.009603500366211, 10.009568214416504, 8.586177825927734, 12.709534645080566, 8.081239700317383, 14.22894287109375, 13.979509353637695, 13.979509353637695, 6.531086444854736, 10.010184288024902, 12.216561317443848, 12.216559410095215, 14.171483993530273, 9.938360214233398, 13.732362747192383, 13.465902328491211, 3.565683603286743, 3.7221412658691406, 11.555719375610352, 7.297586441040039, -0.9239856004714966, 15.356542587280273, 15.684060096740723, 7.616634845733643, 7.940515041351318, 16.663524627685547, -2.2410941123962402, -1.8871909379959106, -2.4473915100097656, -1.9747014045715332, 8.408770561218262, 7.102014064788818, 15.10855770111084, 8.45258617401123, 15.366082191467285, -3.0120272636413574, -3.1997220516204834, 7.386544704437256, 7.27436637878418, 7.155433177947998, 7.714634895324707, -4.350387096405029, 7.529521942138672, 11.98580265045166, -4.34918737411499, 5.53535270690918, 5.535190105438232, -1.4722373485565186, 15.33717155456543, -3.1997220516204834, -3.2182626724243164, -4.350387096405029, 11.992478370666504, 12.484138488769531, 2.130362033843994, 2.4680728912353516, 12.604047775268555, 5.70574951171875, 6.988038539886475, 9.880158424377441, 12.86970329284668, 12.599217414855957, 11.949271202087402, 12.787882804870605, 12.787882804870605, -2.185441732406616, 12.183880805969238, -1.4725522994995117, -3.3608880043029785, -3.3608880043029785, 11.691506385803223, 15.66922378540039, 8.212234497070312, -2.676114559173584, 8.212226867675781, 8.212226867675781, 12.599217414855957, 12.599217414855957, 0.8950356245040894, 12.787882804870605, 9.942391395568848, 9.942391395568848, 9.942381858825684, 9.942391395568848, 9.942392349243164, -0.6062697172164917, 1.9273803234100342, 11.8222017288208, -1.5428862571716309, -1.5188792943954468, 5.356112480163574, -3.3245956897735596, -3.3245956897735596, 11.230579376220703, 11.097970962524414, 12.130197525024414, 10.73363971710205, 10.828409194946289, 10.98400592803955, 11.691156387329102, 10.98400592803955, 10.8162260055542, 10.538528442382812, 4.64176082611084, 4.641782283782959, -2.107602834701538, 11.937357902526855, -1.5995442867279053, -1.5011409521102905, -2.0667788982391357, 12.326350212097168, 12.033841133117676, 12.787882804870605, -1.3903323411941528, 11.638395309448242, 12.63231372833252, 0.04777636379003525, 10.696348190307617, 11.945112228393555, 0.047776371240615845, -3.862252950668335, 6.47353458404541, 6.766051769256592, -4.341438293457031, 10.74655532836914, 8.6107816696167, 13.686054229736328, 7.323931694030762, -3.0112202167510986, 12.037629127502441, 2.8437299728393555, -0.6464236378669739, 15.97195053100586, 5.535343170166016, 7.65690279006958, 5.708296298980713, 12.097373962402344, 13.301493644714355, 12.028682708740234, 12.147956848144531, 12.181671142578125, 7.324944019317627, 12.012672424316406, 2.843738317489624, 11.794897079467773, 13.909239768981934, 12.085932731628418, 14.389421463012695, 6.618115425109863, 7.251143932342529, 9.36767864227295, 13.291655540466309, 2.8435170650482178, 12.097570419311523, 12.149710655212402, 12.292591094970703, 6.776792049407959, 13.412503242492676, 6.683578014373779, 13.687382698059082, 6.747569561004639, 12.125884056091309, 14.13723373413086, 12.145444869995117, -2.815709352493286, 6.766120910644531, 6.766116619110107, 10.696433067321777, 12.022082328796387, 11.164198875427246, 15.198140144348145, 6.766100883483887, 6.5764851570129395, 9.938400268554688, 8.240525245666504, 7.566178798675537, 5.535229682922363, -3.331333637237549, 6.774120330810547, 12.963835716247559, 8.36421012878418, 14.669856071472168, 6.412410736083984, 5.881779193878174, 5.336862087249756]}, {\"hovertemplate\": \"Dominant_Topic=Topic 44<br>0=%{x}<br>1=%{y}<br>2=%{z}<extra></extra>\", \"legendgroup\": \"Topic 44\", \"marker\": {\"color\": \"#FF97FF\", \"opacity\": 0.7, \"symbol\": \"circle\"}, \"mode\": \"markers\", \"name\": \"Topic 44\", \"scene\": \"scene\", \"showlegend\": true, \"type\": \"scatter3d\", \"x\": [-1.9142013788223267, -4.3718719482421875, -4.525515556335449, -1.8234225511550903, -4.525515556335449], \"y\": [8.105132102966309, 8.895918846130371, 9.000873565673828, 14.13314151763916, 9.000873565673828], \"z\": [3.2850394248962402, 1.7932813167572021, 1.0442272424697876, 2.599935293197632, 1.0442272424697876]}, {\"hovertemplate\": \"Dominant_Topic=Topic 49<br>0=%{x}<br>1=%{y}<br>2=%{z}<extra></extra>\", \"legendgroup\": \"Topic 49\", \"marker\": {\"color\": \"#FECB52\", \"opacity\": 0.7, \"symbol\": \"circle\"}, \"mode\": \"markers\", \"name\": \"Topic 49\", \"scene\": \"scene\", \"showlegend\": true, \"type\": \"scatter3d\", \"x\": [-4.590729236602783, -13.914582252502441, -8.480025291442871, -13.127951622009277, -11.886996269226074, -4.59065580368042, -9.765504837036133, -12.919488906860352, -13.050267219543457, -2.5276246070861816, -8.469839096069336, -9.917906761169434, -14.026590347290039, -9.34207534790039, -14.026531219482422, -10.329279899597168, -9.525176048278809, -9.492683410644531, -11.88688850402832, -10.73365592956543, -10.734121322631836, -10.734003067016602, -8.939367294311523, -9.291241645812988, -2.5275793075561523, -9.37515640258789, -9.817811965942383, -12.894227027893066, -8.327099800109863, -9.192293167114258, -1.0669602155685425, -5.222899436950684, -9.344423294067383, -9.081019401550293, -12.915963172912598, -12.275925636291504, -12.916994094848633, -8.860809326171875, -10.11348819732666, -5.120238304138184, -12.5338773727417, -5.120090007781982, -12.006037712097168, -12.006032943725586, -13.920331954956055, -13.9201078414917, -14.162158966064453, -14.162189483642578, -13.14764404296875, -13.32670783996582, -8.213263511657715, -8.213269233703613, -6.112884998321533, -12.006049156188965, -8.31114387512207, -11.75011920928955, -9.462186813354492, -13.246821403503418, -8.594780921936035, -6.660799026489258, -9.460030555725098, -13.392895698547363, -2.9755983352661133, -9.331490516662598, -9.357823371887207, -9.591992378234863, -11.750258445739746, -14.431196212768555, -13.340997695922852, -10.071749687194824, -13.64262580871582, -13.28066635131836, -8.593941688537598, -12.919923782348633, -9.370499610900879, -9.932580947875977, -9.399837493896484, -13.243294715881348, -13.355392456054688, -13.067407608032227, -4.590648651123047, -13.642547607421875, -12.13404655456543, -10.07752513885498, -10.140483856201172, -5.1211957931518555, -12.187129020690918, -12.187170028686523, -10.16330337524414, -8.74138355255127, -13.30904483795166, -12.188375473022461, -9.261720657348633, -13.020021438598633, -2.4375460147857666, -10.52065658569336, -10.471038818359375, -11.78160285949707, -11.781548500061035, -12.875316619873047, -12.83520793914795, -12.188374519348145, -13.243280410766602, -9.927821159362793, -13.220874786376953, -9.73544692993164, -5.120996475219727, -5.123092174530029, -9.842251777648926, -9.83182144165039, -8.973518371582031, -13.24328899383545, -5.618051528930664, -10.95174789428711, -10.396357536315918, -10.390641212463379, -10.392504692077637, -12.917379379272461, -6.112894535064697, -12.917282104492188, -11.781573295593262, -6.112909317016602, -10.261348724365234, -12.919353485107422, -7.674950122833252, -8.21147346496582, -10.10392951965332, -10.179028511047363, -9.984341621398926, -10.334161758422852, -7.622780799865723, -9.853754997253418, -10.437707901000977, -5.12060546875, -9.367918014526367, -12.954931259155273, -9.502263069152832, -13.181498527526855, -14.419781684875488, -5.121245861053467, -9.26824951171875, -13.181502342224121, -13.128830909729004, -13.615509986877441, -13.181449890136719, -13.18143081665039, -1.0690505504608154, -11.781585693359375, -1.069032907485962, -1.0691108703613281, -1.0690033435821533, -5.712469577789307, -5.712428569793701, -5.712427139282227, -5.7124104499816895, -5.712427139282227, -1.069061517715454, -9.645556449890137, -7.538309097290039, -8.930773735046387, -13.936985969543457, -10.427361488342285, -9.614636421203613, -5.120131015777588, -9.922391891479492, -13.966423988342285, -13.256708145141602, -9.727011680603027, -10.101227760314941, -10.20677375793457, -9.35147762298584, -9.794526100158691], \"y\": [2.968414783477783, -3.651428699493408, -2.886259078979492, -4.662245273590088, -1.8222453594207764, 2.968317985534668, -8.847467422485352, -5.737043857574463, -5.1418046951293945, 2.6267242431640625, -4.85959005355835, -9.1669282913208, -3.9115407466888428, -5.526831150054932, -3.9114882946014404, -6.913794040679932, -6.985057353973389, -7.857046604156494, -1.822885513305664, -4.247801780700684, -4.247838973999023, -4.2478156089782715, -3.1238391399383545, -4.577493190765381, 2.627126693725586, -9.280062675476074, -4.646437168121338, -4.8574652671813965, -4.469081401824951, -3.6357412338256836, 3.2846431732177734, -6.493518352508545, -6.587006568908691, -3.838212728500366, -5.734570026397705, 1.8689712285995483, -5.735642910003662, -3.2298409938812256, -4.671079158782959, -6.442145824432373, -7.205514430999756, -6.44205379486084, 2.6301491260528564, 2.6298539638519287, -3.777068614959717, -3.7770464420318604, -5.171205520629883, -5.171219348907471, -4.4717535972595215, -4.86459493637085, -4.879508018493652, -4.879479885101318, -6.149811744689941, 2.6305978298187256, -5.397905349731445, -3.034212112426758, -4.139048099517822, -7.697353363037109, -7.0972161293029785, -8.085118293762207, -6.830739498138428, -5.788357257843018, 2.600227117538452, -3.0480704307556152, -3.2512428760528564, -5.117131233215332, -3.03452205657959, -4.581108093261719, -5.067043781280518, -5.345529079437256, -3.7894961833953857, -6.262882232666016, -7.102148532867432, -5.737587928771973, -7.654865264892578, -7.008067607879639, -8.437376022338867, -7.684108257293701, -4.947288513183594, -4.474978923797607, 2.968310832977295, -3.7894699573516846, -5.829777717590332, -6.791877269744873, -8.570951461791992, -6.442880630493164, 0.7240725755691528, 0.7237332463264465, -6.629031181335449, -3.0831491947174072, -3.706031322479248, 0.7167008519172668, -7.114511489868164, -3.5681111812591553, 3.255013942718506, 2.2427263259887695, 1.793283224105835, -2.5590999126434326, -2.559893846511841, -4.914968967437744, -4.894622802734375, 0.7166674137115479, -7.684067249298096, -7.723540782928467, -5.71274471282959, -7.253206729888916, -6.442677021026611, 4.101895332336426, -3.821676731109619, -9.65868854522705, -3.5277175903320312, -7.684109210968018, -6.8280558586120605, -9.961856842041016, -7.503206729888916, -7.5071024894714355, -7.505855083465576, -5.736090660095215, -6.149814605712891, -5.7359538078308105, -2.559513568878174, -6.1497955322265625, -7.455286026000977, -5.737118244171143, -3.3086376190185547, -2.951080322265625, -4.467297077178955, -5.348865032196045, -6.168560028076172, -9.559316635131836, -3.3764891624450684, -5.2748613357543945, -8.99901294708252, -6.442276954650879, -8.818906784057617, -5.779547214508057, -8.95816421508789, -6.624515056610107, -4.587624549865723, -6.438575267791748, -4.683538436889648, -6.624752044677734, -4.4537763595581055, -7.058413982391357, -6.623288631439209, -6.622602462768555, 3.2735986709594727, -2.559328079223633, 3.2736799716949463, 3.273484945297241, 3.273834228515625, -8.170573234558105, -8.170619010925293, -8.170595169067383, -8.170614242553711, -8.17061710357666, 3.273543357849121, -8.031662940979004, -3.4611997604370117, -3.149427652359009, 3.87947678565979, -8.731634140014648, -3.7670958042144775, -6.442030906677246, -9.567290306091309, -3.612515926361084, -4.898202896118164, -4.32801628112793, -7.572787284851074, -8.942944526672363, -5.254570484161377, -6.150786399841309], \"z\": [3.3250274658203125, 7.116276264190674, 5.412858963012695, 9.712770462036133, 2.21513295173645, 3.3251049518585205, 5.815215587615967, -1.0963619947433472, 9.504491806030273, 4.762281894683838, 7.809977054595947, 6.985128879547119, 7.361932277679443, 5.860864639282227, 7.361672878265381, 6.094587326049805, 6.649101257324219, 6.011209964752197, 2.2151851654052734, 9.278563499450684, 9.278474807739258, 9.278653144836426, 5.865645408630371, 5.8674774169921875, 4.761927127838135, 6.339834213256836, 5.13425350189209, 9.117352485656738, -2.503326654434204, 9.450944900512695, 4.831160545349121, 0.8956789374351501, 6.230558395385742, 9.173823356628418, -1.1005277633666992, 4.634451389312744, -1.098569393157959, 9.829168319702148, 5.869715213775635, 0.8247265219688416, 1.464911937713623, 0.8245986700057983, 4.719450950622559, 4.719604015350342, 6.681791305541992, 6.68073844909668, -1.8460333347320557, -1.8459715843200684, 9.21977710723877, 9.092818260192871, -0.5886757969856262, -0.5886325836181641, 2.6320316791534424, 4.719209671020508, -1.0455114841461182, -0.28744828701019287, 5.0969719886779785, 7.410645961761475, 3.6459455490112305, -0.7239835262298584, 5.773146629333496, 1.4783209562301636, 4.590888977050781, 5.5562520027160645, 5.2187089920043945, 6.174428939819336, -0.28728994727134705, 9.428793907165527, 9.530919075012207, 6.089889049530029, 5.121362209320068, 8.621010780334473, 3.6447415351867676, -1.095866084098816, 6.549713611602783, 6.701303958892822, 6.640791416168213, 7.420907974243164, 9.15037727355957, 9.516661643981934, 3.3251123428344727, 5.121078014373779, -0.3810568153858185, 5.704142093658447, 6.843871593475342, 0.8255519270896912, 5.5249505043029785, 5.525137901306152, 6.433391094207764, 5.163737773895264, 4.816710472106934, 5.528463840484619, 6.166724681854248, 4.378914833068848, 4.224220275878906, 6.975406169891357, 1.3661344051361084, 2.296412944793701, 2.296447515487671, 9.162601470947266, 9.572546005249023, 5.528476715087891, 7.420880317687988, 6.7257184982299805, 0.27937081456184387, 5.70428991317749, 0.8253277540206909, 3.009901523590088, 5.421100616455078, 6.522116184234619, 5.075698375701904, 7.420846462249756, 1.834536075592041, 5.833287715911865, 10.01052188873291, 10.010727882385254, 10.010686874389648, -1.0979363918304443, 2.6320478916168213, -1.0980734825134277, 2.296431064605713, 2.6320741176605225, 6.351245880126953, -1.0968732833862305, 5.709939956665039, 5.676609516143799, 5.446354389190674, 5.602802753448486, 5.697953224182129, 6.53874397277832, 5.671817302703857, 5.255095481872559, 6.701287269592285, 0.8248890042304993, 6.105701923370361, -1.03638756275177, 6.868441581726074, 1.0038574934005737, 9.427098274230957, 0.8203732967376709, 5.33925724029541, 1.0040229558944702, 9.259771347045898, 1.5703816413879395, 1.002943992614746, 1.0024241209030151, 4.841154098510742, 2.2964227199554443, 4.841074466705322, 4.841241359710693, 4.840935230255127, 0.198325052857399, 0.19840644299983978, 0.19837608933448792, 0.19839774072170258, 0.19838014245033264, 4.841200351715088, 10.18950366973877, 5.719732761383057, 5.882516384124756, 5.29374361038208, 6.209078311920166, 5.862884998321533, 0.8246119022369385, 5.979866027832031, 10.103412628173828, 9.709576606750488, 6.017988681793213, 5.923476219177246, 5.89976692199707, 5.444011688232422, 6.342872619628906]}, {\"hovertemplate\": \"Dominant_Topic=Topic 61<br>0=%{x}<br>1=%{y}<br>2=%{z}<extra></extra>\", \"legendgroup\": \"Topic 61\", \"marker\": {\"color\": \"#636efa\", \"opacity\": 0.7, \"symbol\": \"circle\"}, \"mode\": \"markers\", \"name\": \"Topic 61\", \"scene\": \"scene\", \"showlegend\": true, \"type\": \"scatter3d\", \"x\": [-17.218624114990234, -12.827496528625488, -13.540238380432129, -12.235339164733887, -12.57514476776123, -13.18850040435791, -13.097493171691895, -13.71450138092041, -12.406804084777832, -15.09756851196289, -16.334104537963867, -12.406804084777832, -10.083431243896484, -17.218175888061523, -15.09756851196289, -17.21830940246582, -11.933905601501465, -13.354793548583984, -8.679089546203613, -13.721226692199707, -12.231603622436523, -17.218175888061523, -15.09756851196289, -16.093467712402344, -17.21820068359375, -13.694046020507812, -10.083418846130371, -11.933920860290527, -13.893754005432129, -17.21820068359375, -12.272388458251953, -7.241802215576172, -14.942849159240723, -12.97507381439209, -12.324135780334473, -12.97507381439209, -13.206491470336914, -14.873076438903809, -16.764244079589844, -12.451508522033691, -13.253952980041504, -11.906244277954102, -16.764244079589844, -14.873078346252441, -14.873077392578125, -12.805651664733887, -13.002861022949219, -14.873077392578125, -14.873078346252441, -16.76424217224121, -16.042625427246094, -12.870966911315918, -14.943056106567383, -14.943102836608887, -15.907477378845215, -15.907485008239746, -15.907485008239746, -10.083426475524902, -12.272388458251953, -12.272388458251953, -15.06486701965332, -12.805651664733887, -16.102218627929688, -16.764244079589844, -13.551186561584473, -7.24100923538208, -7.240996360778809, -7.241008281707764, -7.241008281707764, -7.240996360778809, -7.240996360778809, -12.508106231689453, -12.508106231689453, -13.156217575073242, -7.240996360778809, -13.266529083251953, -16.042627334594727, -13.311455726623535, -15.541172981262207, -15.541191101074219, -14.304165840148926, -14.304560661315918, -14.304559707641602, -13.530346870422363, -12.57514476776123, -13.600284576416016, 0.4331636428833008, -11.906244277954102, -14.3043794631958, -13.140024185180664, -12.090055465698242, -14.098034858703613, -14.873076438903809, -14.332295417785645, -13.723843574523926], \"y\": [-2.922344207763672, -1.8310961723327637, -2.1098031997680664, -2.3412563800811768, -3.0137860774993896, -1.9563169479370117, -3.339907646179199, -2.6624398231506348, -2.143969774246216, -7.652615070343018, -5.436114311218262, -2.143969774246216, -0.5638307929039001, -2.922987937927246, -7.652615070343018, -2.9227957725524902, -6.4625067710876465, -3.1579246520996094, -4.208970546722412, -8.085650444030762, -2.60575795173645, -2.922987937927246, -7.652615070343018, -7.398406505584717, -2.9229586124420166, -2.7695553302764893, -0.563823938369751, -6.462512969970703, -6.792280673980713, -2.9229586124420166, -5.246505260467529, -4.243978500366211, -4.493788719177246, -3.5215530395507812, -3.3813745975494385, -3.5215530395507812, -2.8192317485809326, -6.3767852783203125, -3.8518006801605225, -3.0044455528259277, -3.0012152194976807, -3.0141870975494385, -3.8518006801605225, -6.3767852783203125, -6.376784324645996, -2.3714351654052734, -1.8299341201782227, -6.376784324645996, -6.376784801483154, -3.8518009185791016, -2.7506632804870605, -2.311006546020508, -4.4936017990112305, -4.493558883666992, -3.733654737472534, -3.7336583137512207, -3.7336585521698, -0.5638308525085449, -5.2465057373046875, -5.246505260467529, -8.197782516479492, -2.3714351654052734, -3.4589250087738037, -3.8518006801605225, -3.1927902698516846, -4.242120742797852, -4.242120742797852, -4.242120742797852, -4.242120742797852, -4.242120742797852, -4.242120742797852, -3.3349311351776123, -3.3349311351776123, -7.072693347930908, -4.242120742797852, -2.6829633712768555, -2.7506635189056396, -5.9470014572143555, -7.478588104248047, -7.478589057922363, -7.304078578948975, -7.304097652435303, -7.304096698760986, -2.0779945850372314, -3.0137860774993896, -2.328568458557129, 19.642253875732422, -3.0141870975494385, -7.304117679595947, -7.251471519470215, -2.433053731918335, -7.973666191101074, -6.376784801483154, -7.813169956207275, -7.455529689788818], \"z\": [-5.970463275909424, -6.718207836151123, -6.560234546661377, -5.712975978851318, -7.3378777503967285, -7.316591739654541, -7.134821891784668, -6.672535419464111, -7.027789115905762, -7.367260456085205, -5.509642601013184, -7.027789115905762, -6.578052043914795, -5.970486640930176, -7.367260456085205, -5.970443248748779, -3.370814800262451, -7.2746171951293945, -4.505299091339111, -6.648319721221924, -7.212701320648193, -5.970486640930176, -7.367260456085205, -6.199492931365967, -5.970489501953125, -6.720216274261475, -6.578049659729004, -3.3708415031433105, -4.081957817077637, -5.970489501953125, -8.148375511169434, -4.416074752807617, -2.7979636192321777, -5.8002824783325195, -5.592041015625, -5.8002824783325195, -5.517683982849121, -6.582763671875, -4.890946865081787, -5.312607765197754, -5.5659990310668945, -6.025263786315918, -4.890946388244629, -6.582764148712158, -6.582764148712158, -5.514842987060547, -6.633001804351807, -6.582763671875, -6.582764625549316, -4.890946865081787, -9.146278381347656, -7.612341403961182, -2.798459529876709, -2.798572063446045, -7.697021484375, -7.697137832641602, -7.697137832641602, -6.578052520751953, -8.148377418518066, -8.14837646484375, -7.13259744644165, -5.514842987060547, -8.419466018676758, -4.890946388244629, -6.8650031089782715, -4.415120601654053, -4.415109157562256, -4.41511869430542, -4.41511869430542, -4.415109157562256, -4.415109157562256, -6.354007720947266, -6.354007720947266, -3.4151010513305664, -4.415109157562256, -7.618098258972168, -9.14627742767334, -2.919057846069336, -5.675568580627441, -5.675570964813232, -5.034952163696289, -5.035023212432861, -5.035023212432861, -6.577040672302246, -7.3378777503967285, -7.3397417068481445, -1.0763739347457886, -6.025263786315918, -5.035017967224121, -3.536344528198242, -5.820080757141113, -6.1211466789245605, -6.582764148712158, -7.017078399658203, -4.657459735870361]}],                        {\"height\": 800, \"legend\": {\"title\": {\"text\": \"Dominant_Topic\"}, \"tracegroupgap\": 0}, \"scene\": {\"domain\": {\"x\": [0.0, 1.0], \"y\": [0.0, 1.0]}, \"xaxis\": {\"title\": {\"text\": \"0\"}}, \"yaxis\": {\"title\": {\"text\": \"1\"}}, \"zaxis\": {\"title\": {\"text\": \"2\"}}}, \"template\": {\"data\": {\"bar\": [{\"error_x\": {\"color\": \"#2a3f5f\"}, \"error_y\": {\"color\": \"#2a3f5f\"}, \"marker\": {\"line\": {\"color\": \"#E5ECF6\", \"width\": 0.5}}, \"type\": \"bar\"}], \"barpolar\": [{\"marker\": {\"line\": {\"color\": \"#E5ECF6\", \"width\": 0.5}}, \"type\": \"barpolar\"}], \"carpet\": [{\"aaxis\": {\"endlinecolor\": \"#2a3f5f\", \"gridcolor\": \"white\", \"linecolor\": \"white\", \"minorgridcolor\": \"white\", \"startlinecolor\": \"#2a3f5f\"}, \"baxis\": {\"endlinecolor\": \"#2a3f5f\", \"gridcolor\": \"white\", \"linecolor\": \"white\", \"minorgridcolor\": \"white\", \"startlinecolor\": \"#2a3f5f\"}, \"type\": \"carpet\"}], \"choropleth\": [{\"colorbar\": {\"outlinewidth\": 0, \"ticks\": \"\"}, \"type\": \"choropleth\"}], \"contour\": [{\"colorbar\": {\"outlinewidth\": 0, \"ticks\": \"\"}, \"colorscale\": [[0.0, \"#0d0887\"], [0.1111111111111111, \"#46039f\"], [0.2222222222222222, \"#7201a8\"], [0.3333333333333333, \"#9c179e\"], [0.4444444444444444, \"#bd3786\"], [0.5555555555555556, \"#d8576b\"], [0.6666666666666666, \"#ed7953\"], [0.7777777777777778, \"#fb9f3a\"], [0.8888888888888888, \"#fdca26\"], [1.0, \"#f0f921\"]], \"type\": \"contour\"}], \"contourcarpet\": [{\"colorbar\": {\"outlinewidth\": 0, \"ticks\": \"\"}, \"type\": \"contourcarpet\"}], \"heatmap\": [{\"colorbar\": {\"outlinewidth\": 0, \"ticks\": \"\"}, \"colorscale\": [[0.0, \"#0d0887\"], [0.1111111111111111, \"#46039f\"], [0.2222222222222222, \"#7201a8\"], [0.3333333333333333, \"#9c179e\"], [0.4444444444444444, \"#bd3786\"], [0.5555555555555556, \"#d8576b\"], [0.6666666666666666, \"#ed7953\"], [0.7777777777777778, \"#fb9f3a\"], [0.8888888888888888, \"#fdca26\"], [1.0, \"#f0f921\"]], \"type\": \"heatmap\"}], \"heatmapgl\": [{\"colorbar\": {\"outlinewidth\": 0, \"ticks\": \"\"}, \"colorscale\": [[0.0, \"#0d0887\"], [0.1111111111111111, \"#46039f\"], [0.2222222222222222, \"#7201a8\"], [0.3333333333333333, \"#9c179e\"], [0.4444444444444444, \"#bd3786\"], [0.5555555555555556, \"#d8576b\"], [0.6666666666666666, \"#ed7953\"], [0.7777777777777778, \"#fb9f3a\"], [0.8888888888888888, \"#fdca26\"], [1.0, \"#f0f921\"]], \"type\": \"heatmapgl\"}], \"histogram\": [{\"marker\": {\"colorbar\": {\"outlinewidth\": 0, \"ticks\": \"\"}}, \"type\": \"histogram\"}], \"histogram2d\": [{\"colorbar\": {\"outlinewidth\": 0, \"ticks\": \"\"}, \"colorscale\": [[0.0, \"#0d0887\"], [0.1111111111111111, \"#46039f\"], [0.2222222222222222, \"#7201a8\"], [0.3333333333333333, \"#9c179e\"], [0.4444444444444444, \"#bd3786\"], [0.5555555555555556, \"#d8576b\"], [0.6666666666666666, \"#ed7953\"], [0.7777777777777778, \"#fb9f3a\"], [0.8888888888888888, \"#fdca26\"], [1.0, \"#f0f921\"]], \"type\": \"histogram2d\"}], \"histogram2dcontour\": [{\"colorbar\": {\"outlinewidth\": 0, \"ticks\": \"\"}, \"colorscale\": [[0.0, \"#0d0887\"], [0.1111111111111111, \"#46039f\"], [0.2222222222222222, \"#7201a8\"], [0.3333333333333333, \"#9c179e\"], [0.4444444444444444, \"#bd3786\"], [0.5555555555555556, \"#d8576b\"], [0.6666666666666666, \"#ed7953\"], [0.7777777777777778, \"#fb9f3a\"], [0.8888888888888888, \"#fdca26\"], [1.0, \"#f0f921\"]], \"type\": \"histogram2dcontour\"}], \"mesh3d\": [{\"colorbar\": {\"outlinewidth\": 0, \"ticks\": \"\"}, \"type\": \"mesh3d\"}], \"parcoords\": [{\"line\": {\"colorbar\": {\"outlinewidth\": 0, \"ticks\": \"\"}}, \"type\": \"parcoords\"}], \"pie\": [{\"automargin\": true, \"type\": \"pie\"}], \"scatter\": [{\"marker\": {\"colorbar\": {\"outlinewidth\": 0, \"ticks\": \"\"}}, \"type\": \"scatter\"}], \"scatter3d\": [{\"line\": {\"colorbar\": {\"outlinewidth\": 0, \"ticks\": \"\"}}, \"marker\": {\"colorbar\": {\"outlinewidth\": 0, \"ticks\": \"\"}}, \"type\": \"scatter3d\"}], \"scattercarpet\": [{\"marker\": {\"colorbar\": {\"outlinewidth\": 0, \"ticks\": \"\"}}, \"type\": \"scattercarpet\"}], \"scattergeo\": [{\"marker\": {\"colorbar\": {\"outlinewidth\": 0, \"ticks\": \"\"}}, \"type\": \"scattergeo\"}], \"scattergl\": [{\"marker\": {\"colorbar\": {\"outlinewidth\": 0, \"ticks\": \"\"}}, \"type\": \"scattergl\"}], \"scattermapbox\": [{\"marker\": {\"colorbar\": {\"outlinewidth\": 0, \"ticks\": \"\"}}, \"type\": \"scattermapbox\"}], \"scatterpolar\": [{\"marker\": {\"colorbar\": {\"outlinewidth\": 0, \"ticks\": \"\"}}, \"type\": \"scatterpolar\"}], \"scatterpolargl\": [{\"marker\": {\"colorbar\": {\"outlinewidth\": 0, \"ticks\": \"\"}}, \"type\": \"scatterpolargl\"}], \"scatterternary\": [{\"marker\": {\"colorbar\": {\"outlinewidth\": 0, \"ticks\": \"\"}}, \"type\": \"scatterternary\"}], \"surface\": [{\"colorbar\": {\"outlinewidth\": 0, \"ticks\": \"\"}, \"colorscale\": [[0.0, \"#0d0887\"], [0.1111111111111111, \"#46039f\"], [0.2222222222222222, \"#7201a8\"], [0.3333333333333333, \"#9c179e\"], [0.4444444444444444, \"#bd3786\"], [0.5555555555555556, \"#d8576b\"], [0.6666666666666666, \"#ed7953\"], [0.7777777777777778, \"#fb9f3a\"], [0.8888888888888888, \"#fdca26\"], [1.0, \"#f0f921\"]], \"type\": \"surface\"}], \"table\": [{\"cells\": {\"fill\": {\"color\": \"#EBF0F8\"}, \"line\": {\"color\": \"white\"}}, \"header\": {\"fill\": {\"color\": \"#C8D4E3\"}, \"line\": {\"color\": \"white\"}}, \"type\": \"table\"}]}, \"layout\": {\"annotationdefaults\": {\"arrowcolor\": \"#2a3f5f\", \"arrowhead\": 0, \"arrowwidth\": 1}, \"autotypenumbers\": \"strict\", \"coloraxis\": {\"colorbar\": {\"outlinewidth\": 0, \"ticks\": \"\"}}, \"colorscale\": {\"diverging\": [[0, \"#8e0152\"], [0.1, \"#c51b7d\"], [0.2, \"#de77ae\"], [0.3, \"#f1b6da\"], [0.4, \"#fde0ef\"], [0.5, \"#f7f7f7\"], [0.6, \"#e6f5d0\"], [0.7, \"#b8e186\"], [0.8, \"#7fbc41\"], [0.9, \"#4d9221\"], [1, \"#276419\"]], \"sequential\": [[0.0, \"#0d0887\"], [0.1111111111111111, \"#46039f\"], [0.2222222222222222, \"#7201a8\"], [0.3333333333333333, \"#9c179e\"], [0.4444444444444444, \"#bd3786\"], [0.5555555555555556, \"#d8576b\"], [0.6666666666666666, \"#ed7953\"], [0.7777777777777778, \"#fb9f3a\"], [0.8888888888888888, \"#fdca26\"], [1.0, \"#f0f921\"]], \"sequentialminus\": [[0.0, \"#0d0887\"], [0.1111111111111111, \"#46039f\"], [0.2222222222222222, \"#7201a8\"], [0.3333333333333333, \"#9c179e\"], [0.4444444444444444, \"#bd3786\"], [0.5555555555555556, \"#d8576b\"], [0.6666666666666666, \"#ed7953\"], [0.7777777777777778, \"#fb9f3a\"], [0.8888888888888888, \"#fdca26\"], [1.0, \"#f0f921\"]]}, \"colorway\": [\"#636efa\", \"#EF553B\", \"#00cc96\", \"#ab63fa\", \"#FFA15A\", \"#19d3f3\", \"#FF6692\", \"#B6E880\", \"#FF97FF\", \"#FECB52\"], \"font\": {\"color\": \"#2a3f5f\"}, \"geo\": {\"bgcolor\": \"white\", \"lakecolor\": \"white\", \"landcolor\": \"#E5ECF6\", \"showlakes\": true, \"showland\": true, \"subunitcolor\": \"white\"}, \"hoverlabel\": {\"align\": \"left\"}, \"hovermode\": \"closest\", \"mapbox\": {\"style\": \"light\"}, \"paper_bgcolor\": \"white\", \"plot_bgcolor\": \"#E5ECF6\", \"polar\": {\"angularaxis\": {\"gridcolor\": \"white\", \"linecolor\": \"white\", \"ticks\": \"\"}, \"bgcolor\": \"#E5ECF6\", \"radialaxis\": {\"gridcolor\": \"white\", \"linecolor\": \"white\", \"ticks\": \"\"}}, \"scene\": {\"xaxis\": {\"backgroundcolor\": \"#E5ECF6\", \"gridcolor\": \"white\", \"gridwidth\": 2, \"linecolor\": \"white\", \"showbackground\": true, \"ticks\": \"\", \"zerolinecolor\": \"white\"}, \"yaxis\": {\"backgroundcolor\": \"#E5ECF6\", \"gridcolor\": \"white\", \"gridwidth\": 2, \"linecolor\": \"white\", \"showbackground\": true, \"ticks\": \"\", \"zerolinecolor\": \"white\"}, \"zaxis\": {\"backgroundcolor\": \"#E5ECF6\", \"gridcolor\": \"white\", \"gridwidth\": 2, \"linecolor\": \"white\", \"showbackground\": true, \"ticks\": \"\", \"zerolinecolor\": \"white\"}}, \"shapedefaults\": {\"line\": {\"color\": \"#2a3f5f\"}}, \"ternary\": {\"aaxis\": {\"gridcolor\": \"white\", \"linecolor\": \"white\", \"ticks\": \"\"}, \"baxis\": {\"gridcolor\": \"white\", \"linecolor\": \"white\", \"ticks\": \"\"}, \"bgcolor\": \"#E5ECF6\", \"caxis\": {\"gridcolor\": \"white\", \"linecolor\": \"white\", \"ticks\": \"\"}}, \"title\": {\"x\": 0.05}, \"xaxis\": {\"automargin\": true, \"gridcolor\": \"white\", \"linecolor\": \"white\", \"ticks\": \"\", \"title\": {\"standoff\": 15}, \"zerolinecolor\": \"white\", \"zerolinewidth\": 2}, \"yaxis\": {\"automargin\": true, \"gridcolor\": \"white\", \"linecolor\": \"white\", \"ticks\": \"\", \"title\": {\"standoff\": 15}, \"zerolinecolor\": \"white\", \"zerolinewidth\": 2}}}, \"title\": {\"text\": \"3d TSNE Plot for Topic Model\"}, \"width\": 900},                        {\"responsive\": true}                    ).then(function(){\n",
       "                            \n",
       "var gd = document.getElementById('9b0b5d94-3166-495e-badc-63c777632eaf');\n",
       "var x = new MutationObserver(function (mutations, observer) {{\n",
       "        var display = window.getComputedStyle(gd).display;\n",
       "        if (!display || display === 'none') {{\n",
       "            console.log([gd, 'removed!']);\n",
       "            Plotly.purge(gd);\n",
       "            observer.disconnect();\n",
       "        }}\n",
       "}});\n",
       "\n",
       "// Listen for the removal of the full notebook cells\n",
       "var notebookContainer = gd.closest('#notebook-container');\n",
       "if (notebookContainer) {{\n",
       "    x.observe(notebookContainer, {childList: true});\n",
       "}}\n",
       "\n",
       "// Listen for the clearing of the current output cell\n",
       "var outputEl = gd.closest('.output');\n",
       "if (outputEl) {{\n",
       "    x.observe(outputEl, {childList: true});\n",
       "}}\n",
       "\n",
       "                        })                };                });            </script>        </div>"
      ]
     },
     "metadata": {},
     "output_type": "display_data"
    }
   ],
   "source": [
    "\n",
    "plot_model(lda, plot = 'tsne')"
   ]
  },
  {
   "cell_type": "code",
   "execution_count": 15,
   "id": "wrapped-muscle",
   "metadata": {},
   "outputs": [
    {
     "data": {
      "text/html": [
       "        <script type=\"text/javascript\">\n",
       "        window.PlotlyConfig = {MathJaxConfig: 'local'};\n",
       "        if (window.MathJax) {MathJax.Hub.Config({SVG: {font: \"STIX-Web\"}});}\n",
       "        if (typeof require !== 'undefined') {\n",
       "        require.undef(\"plotly\");\n",
       "        requirejs.config({\n",
       "            paths: {\n",
       "                'plotly': ['https://cdn.plot.ly/plotly-latest.min']\n",
       "            }\n",
       "        });\n",
       "        require(['plotly'], function(Plotly) {\n",
       "            window._Plotly = Plotly;\n",
       "        });\n",
       "        }\n",
       "        </script>\n",
       "        "
      ]
     },
     "metadata": {},
     "output_type": "display_data"
    },
    {
     "data": {
      "image/png": "[encoded data removed]",
      "text/plain": [
       "<Figure size 720x432 with 1 Axes>"
      ]
     },
     "metadata": {},
     "output_type": "display_data"
    }
   ],
   "source": [
    "plot_model(lda, plot = 'umap')"
   ]
  },
  {
   "cell_type": "code",
   "execution_count": null,
   "id": "british-entertainment",
   "metadata": {},
   "outputs": [],
   "source": []
  }
 ],
 "metadata": {
  "kernelspec": {
   "display_name": "Python 3",
   "language": "python",
   "name": "python3"
  },
  "language_info": {
   "codemirror_mode": {
    "name": "ipython",
    "version": 3
   },
   "file_extension": ".py",
   "mimetype": "text/x-python",
   "name": "python",
   "nbconvert_exporter": "python",
   "pygments_lexer": "ipython3",
   "version": "3.8.5"
  }
 },
 "nbformat": 4,
 "nbformat_minor": 5
}
